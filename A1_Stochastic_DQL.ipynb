{
  "cells": [
    {
      "cell_type": "code",
      "source": [
        "\"\"\"I certify that the code and data in this assignment were generated independently, using only the tools\n",
        "and resources defined in the course and that I did not receive any external help, coaching or contributions\n",
        "during the production of this work.\"\"\""
      ],
      "metadata": {
        "id": "1rKLXwpwP-8t"
      },
      "execution_count": null,
      "outputs": []
    },
    {
      "cell_type": "code",
      "execution_count": null,
      "metadata": {
        "id": "vzLSDtlzL3mt"
      },
      "outputs": [],
      "source": [
        "import numpy as np\n",
        "import matplotlib.pyplot as plt\n",
        "import gym\n",
        "from gym import spaces\n",
        "from google.colab import widgets\n",
        "import time"
      ]
    },
    {
      "cell_type": "code",
      "execution_count": null,
      "metadata": {
        "id": "vNy_7i2jL8VQ"
      },
      "outputs": [],
      "source": [
        "class GridEnvironment(gym.Env):\n",
        "    metadata = { 'render.modes': [] }\n",
        "    \n",
        "    def __init__(self):\n",
        "        self.observation_space = spaces.Discrete(121)\n",
        "        self.action_space = spaces.Discrete(4)\n",
        "        self.max_timesteps = 25\n",
        "        \n",
        "        \n",
        "    def map(self):\n",
        "        self.state[3,4:8] = -1\n",
        "        self.state[9:11,5:8] = -1\n",
        "        self.state[5:7,9:11] = -1\n",
        "        self.state[0,5] = -1\n",
        "        self.state[0,7] = -1\n",
        "        self.state[2,0] = -1\n",
        "        self.state[3,1] = -1\n",
        "        self.state[4,2] = -1\n",
        "        self.state[5,3] = -1\n",
        "        self.state[6,4] = -1\n",
        "        self.state[5,6] = 0.25\n",
        "        self.state[2,9] = 0.25\n",
        "\n",
        "    def setReward(self):\n",
        "        self.reward_mat[3,4:8] = -5\n",
        "        self.reward_mat[9:11,5:8] = -5\n",
        "        self.reward_mat[5:7,9:11] = -5\n",
        "        self.reward_mat[0,5] = -5\n",
        "        self.reward_mat[0,7] = -5\n",
        "        self.reward_mat[2,0] = -5\n",
        "        self.reward_mat[3,1] = -5\n",
        "        self.reward_mat[4,2] = -5\n",
        "        self.reward_mat[5,3] = -5\n",
        "        self.reward_mat[6,4] = -5\n",
        "        self.reward_mat[5,6] = 7\n",
        "        self.reward_mat[2,9] = 10\n",
        "        self.reward_mat[tuple(self.goal_pos)] = 20\n",
        " \n",
        "    def reset(self):\n",
        "        self.timestep = 0\n",
        "        self.start_pos=[6,2]\n",
        "        self.goal_pos = [0, 6]\n",
        "        \n",
        "        self.reward=0\n",
        "        self.state = np.zeros((11,11))\n",
        "\n",
        "        self.agent_pos = self.start_pos\n",
        "        \n",
        "        self.state = np.zeros((11,11))\n",
        "        self.reward_mat = np.zeros((11,11))\n",
        "        self.map()\n",
        "        self.setReward()\n",
        "        \n",
        "                \n",
        "        pos = (self.agent_pos[0]*10)+self.agent_pos[0]+self.agent_pos[1]\n",
        "        return pos\n",
        "    \n",
        "    def step(self, action):\n",
        "        if action == 0: action=np.random.choice(self.action_space.n,p=[0.9, 0.04 , 0.03 , 0.03 ])\n",
        "        elif action == 1: action=np.random.choice(self.action_space.n,p=[0.04, 0.9 , 0.03 , 0.03 ])\n",
        "        elif action == 2: action=np.random.choice(self.action_space.n,p=[0.03, 0.03 , 0.9 , 0.04 ])\n",
        "        elif action == 3: action=np.random.choice(self.action_space.n,p=[0.03, 0.03 , 0.04 , 0.9 ])\n",
        "\n",
        "        if action == 0: self.agent_pos[0] -= 1\n",
        "        elif action == 1: self.agent_pos[0] += 1\n",
        "        elif action == 2: self.agent_pos[1] -= 1\n",
        "        elif action == 3: self.agent_pos[1] += 1\n",
        "          \n",
        "        self.agent_pos = np.clip(self.agent_pos, 0, 10)\n",
        "\n",
        "        pos = (self.agent_pos[0]*10)+self.agent_pos[0]+self.agent_pos[1]\n",
        "        self.state = np.zeros((11,11))\n",
        "        self.map()\n",
        "\n",
        "        self.state[tuple(self.goal_pos)] = 0.5\n",
        "        self.state[tuple(self.agent_pos)] = 1\n",
        "        \n",
        "        \n",
        "        observation = self.state.flatten()\n",
        "        \n",
        "        self.reward = self.reward_mat[tuple(self.agent_pos)]\n",
        "        if (self.reward>0):         \n",
        "          self.reward_mat[tuple(self.agent_pos)] = 0\n",
        "\n",
        "        self.timestep += 1\n",
        "        done = True if self.timestep >= self.max_timesteps else False\n",
        "        if ((self.agent_pos == self.goal_pos).all()):\n",
        "          done = True \n",
        "        info = {}\n",
        "        \n",
        "        return action, pos, self.reward -1 , done, info, self.timestep\n",
        "        \n",
        "    def render(self):\n",
        "        plt.imshow(self.state)"
      ]
    },
    {
      "cell_type": "code",
      "execution_count": null,
      "metadata": {
        "id": "Czjyx0D_L-it"
      },
      "outputs": [],
      "source": [
        "class RandomAgent:\n",
        "  def __init__(self, env):\n",
        "    self.env = env\n",
        "    self.observation_space = env.observation_space\n",
        "    self.action_space = env.action_space\n",
        "    self.QA_table=np.zeros((121, 4))\n",
        "    self.QB_table=np.zeros((121, 4))\n",
        "    self.prev_pos=0\n",
        "    self.alph = 0.25\n",
        "    self.gamm = 0.95\n",
        "\n",
        "  def update(self,action,reward,pos):\n",
        "    if np.random.choice([0,1], p = [0.5,0.5]):\n",
        "      self.QA_table[self.prev_pos,action]= self.QA_table[self.prev_pos,action] + self.alph*(reward + self.gamm*self.QB_table[pos,np.argmax(self.QA_table[pos,:])]-self.QA_table[self.prev_pos,action])\n",
        "    else:\n",
        "      self.QB_table[self.prev_pos,action]= self.QB_table[self.prev_pos,action] + self.alph*(reward + self.gamm*self.QA_table[pos,np.argmax(self.QB_table[pos,:])]-self.QB_table[self.prev_pos,action])\n",
        "    return self.QA_table , self.QB_table\n",
        "\n",
        "\n",
        "  def step(self, pos, episod, max_episod):\n",
        "    self.prev_pos = pos\n",
        "    ep = np.exp(-8*episod/max_episod)\n",
        "    pb=0.25*ep*np.ones(4)\n",
        "    if np.random.choice([0,1], p = [0.5,0.5]):\n",
        "      pb[np.argmax(self.QA_table[pos,:])] += 1 - ep\n",
        "    else:\n",
        "      pb[np.argmax(self.QB_table[pos,:])] += 1 - ep\n",
        "    pb= pb/np.sum(pb)\n",
        "    return np.random.choice(self.action_space.n, p = pb) ,ep\n",
        "    "
      ]
    },
    {
      "cell_type": "code",
      "execution_count": null,
      "metadata": {
        "colab": {
          "base_uri": "https://localhost:8080/",
          "height": 1000
        },
        "id": "o333bWhuNIH3",
        "outputId": "439b95aa-974a-4a69-f545-ef449822d072"
      },
      "outputs": [
        {
          "output_type": "display_data",
          "data": {
            "text/html": [
              "<style>\n",
              "       table#id44, #id44 > tbody > tr > th, #id44 > tbody > tr > td {\n",
              "         border: 1px solid lightgray;\n",
              "         border-collapse:collapse;\n",
              "         \n",
              "        }</style>"
            ],
            "text/plain": [
              "<IPython.core.display.HTML object>"
            ]
          },
          "metadata": {}
        },
        {
          "output_type": "display_data",
          "data": {
            "text/html": [
              "<table id=id44><tr><td id=id44-0-0></td></tr></table>"
            ],
            "text/plain": [
              "<IPython.core.display.HTML object>"
            ]
          },
          "metadata": {}
        },
        {
          "output_type": "display_data",
          "data": {
            "application/javascript": [
              "window[\"34d0fef6-9d97-11ec-955d-0242ac1c0002\"] = google.colab.output.getActiveOutputArea();\n",
              "//# sourceURL=js_279a88e6cf"
            ],
            "text/plain": [
              "<IPython.core.display.Javascript object>"
            ]
          },
          "metadata": {}
        },
        {
          "output_type": "display_data",
          "data": {
            "application/javascript": [
              "window[\"34d157ca-9d97-11ec-955d-0242ac1c0002\"] = document.querySelector(\"#id44-0-0\");\n",
              "//# sourceURL=js_29e229a15a"
            ],
            "text/plain": [
              "<IPython.core.display.Javascript object>"
            ]
          },
          "metadata": {}
        },
        {
          "output_type": "display_data",
          "data": {
            "application/javascript": [
              "window[\"34d1b06c-9d97-11ec-955d-0242ac1c0002\"] = google.colab.output.setActiveOutputArea(window[\"34d157ca-9d97-11ec-955d-0242ac1c0002\"]);\n",
              "//# sourceURL=js_1f39f5ad86"
            ],
            "text/plain": [
              "<IPython.core.display.Javascript object>"
            ]
          },
          "metadata": {}
        },
        {
          "output_type": "display_data",
          "data": {
            "application/javascript": [
              "window[\"34e44088-9d97-11ec-955d-0242ac1c0002\"] = google.colab.output.setActiveOutputArea(window[\"34d0fef6-9d97-11ec-955d-0242ac1c0002\"]);\n",
              "//# sourceURL=js_ed8800355a"
            ],
            "text/plain": [
              "<IPython.core.display.Javascript object>"
            ]
          },
          "metadata": {}
        },
        {
          "output_type": "display_data",
          "data": {
            "application/javascript": [
              "window[\"34e68f50-9d97-11ec-955d-0242ac1c0002\"] = google.colab.output.getActiveOutputArea();\n",
              "//# sourceURL=js_9ff4163139"
            ],
            "text/plain": [
              "<IPython.core.display.Javascript object>"
            ]
          },
          "metadata": {}
        },
        {
          "output_type": "display_data",
          "data": {
            "application/javascript": [
              "window[\"34e6ea2c-9d97-11ec-955d-0242ac1c0002\"] = document.querySelector(\"#id44-0-0\");\n",
              "//# sourceURL=js_879bc3fce8"
            ],
            "text/plain": [
              "<IPython.core.display.Javascript object>"
            ]
          },
          "metadata": {}
        },
        {
          "output_type": "display_data",
          "data": {
            "application/javascript": [
              "window[\"34e74b70-9d97-11ec-955d-0242ac1c0002\"] = google.colab.output.setActiveOutputArea(window[\"34e6ea2c-9d97-11ec-955d-0242ac1c0002\"]);\n",
              "//# sourceURL=js_55f9fbb675"
            ],
            "text/plain": [
              "<IPython.core.display.Javascript object>"
            ]
          },
          "metadata": {}
        },
        {
          "output_type": "display_data",
          "data": {
            "application/javascript": [
              "window[\"34fc0772-9d97-11ec-955d-0242ac1c0002\"] = google.colab.output.setActiveOutputArea(window[\"34e68f50-9d97-11ec-955d-0242ac1c0002\"]);\n",
              "//# sourceURL=js_3ee888531b"
            ],
            "text/plain": [
              "<IPython.core.display.Javascript object>"
            ]
          },
          "metadata": {}
        },
        {
          "output_type": "display_data",
          "data": {
            "application/javascript": [
              "window[\"351cc98a-9d97-11ec-955d-0242ac1c0002\"] = google.colab.output.getActiveOutputArea();\n",
              "//# sourceURL=js_e35c7a4d84"
            ],
            "text/plain": [
              "<IPython.core.display.Javascript object>"
            ]
          },
          "metadata": {}
        },
        {
          "output_type": "display_data",
          "data": {
            "application/javascript": [
              "window[\"351d3636-9d97-11ec-955d-0242ac1c0002\"] = document.querySelector(\"#id44-0-0\");\n",
              "//# sourceURL=js_651b032895"
            ],
            "text/plain": [
              "<IPython.core.display.Javascript object>"
            ]
          },
          "metadata": {}
        },
        {
          "output_type": "display_data",
          "data": {
            "application/javascript": [
              "window[\"351d99fa-9d97-11ec-955d-0242ac1c0002\"] = google.colab.output.setActiveOutputArea(window[\"351d3636-9d97-11ec-955d-0242ac1c0002\"]);\n",
              "//# sourceURL=js_0edde2a6aa"
            ],
            "text/plain": [
              "<IPython.core.display.Javascript object>"
            ]
          },
          "metadata": {}
        },
        {
          "output_type": "display_data",
          "data": {
            "application/javascript": [
              "window[\"35325f5c-9d97-11ec-955d-0242ac1c0002\"] = google.colab.output.setActiveOutputArea(window[\"351cc98a-9d97-11ec-955d-0242ac1c0002\"]);\n",
              "//# sourceURL=js_328c7c46d0"
            ],
            "text/plain": [
              "<IPython.core.display.Javascript object>"
            ]
          },
          "metadata": {}
        },
        {
          "output_type": "display_data",
          "data": {
            "application/javascript": [
              "window[\"3552d9a8-9d97-11ec-955d-0242ac1c0002\"] = google.colab.output.getActiveOutputArea();\n",
              "//# sourceURL=js_f8009d31f5"
            ],
            "text/plain": [
              "<IPython.core.display.Javascript object>"
            ]
          },
          "metadata": {}
        },
        {
          "output_type": "display_data",
          "data": {
            "application/javascript": [
              "window[\"35531170-9d97-11ec-955d-0242ac1c0002\"] = document.querySelector(\"#id44-0-0\");\n",
              "//# sourceURL=js_15a46f526c"
            ],
            "text/plain": [
              "<IPython.core.display.Javascript object>"
            ]
          },
          "metadata": {}
        },
        {
          "output_type": "display_data",
          "data": {
            "application/javascript": [
              "window[\"355346c2-9d97-11ec-955d-0242ac1c0002\"] = google.colab.output.setActiveOutputArea(window[\"35531170-9d97-11ec-955d-0242ac1c0002\"]);\n",
              "//# sourceURL=js_0fedafcadd"
            ],
            "text/plain": [
              "<IPython.core.display.Javascript object>"
            ]
          },
          "metadata": {}
        },
        {
          "output_type": "display_data",
          "data": {
            "application/javascript": [
              "window[\"3566f2c6-9d97-11ec-955d-0242ac1c0002\"] = google.colab.output.setActiveOutputArea(window[\"3552d9a8-9d97-11ec-955d-0242ac1c0002\"]);\n",
              "//# sourceURL=js_5269726ac3"
            ],
            "text/plain": [
              "<IPython.core.display.Javascript object>"
            ]
          },
          "metadata": {}
        },
        {
          "output_type": "display_data",
          "data": {
            "application/javascript": [
              "window[\"3587639e-9d97-11ec-955d-0242ac1c0002\"] = google.colab.output.getActiveOutputArea();\n",
              "//# sourceURL=js_28a4aa31e4"
            ],
            "text/plain": [
              "<IPython.core.display.Javascript object>"
            ]
          },
          "metadata": {}
        },
        {
          "output_type": "display_data",
          "data": {
            "application/javascript": [
              "window[\"3587bfba-9d97-11ec-955d-0242ac1c0002\"] = document.querySelector(\"#id44-0-0\");\n",
              "//# sourceURL=js_c5f058e77a"
            ],
            "text/plain": [
              "<IPython.core.display.Javascript object>"
            ]
          },
          "metadata": {}
        },
        {
          "output_type": "display_data",
          "data": {
            "application/javascript": [
              "window[\"35880ce0-9d97-11ec-955d-0242ac1c0002\"] = google.colab.output.setActiveOutputArea(window[\"3587bfba-9d97-11ec-955d-0242ac1c0002\"]);\n",
              "//# sourceURL=js_51d62e277e"
            ],
            "text/plain": [
              "<IPython.core.display.Javascript object>"
            ]
          },
          "metadata": {}
        },
        {
          "output_type": "display_data",
          "data": {
            "application/javascript": [
              "window[\"359b6038-9d97-11ec-955d-0242ac1c0002\"] = google.colab.output.setActiveOutputArea(window[\"3587639e-9d97-11ec-955d-0242ac1c0002\"]);\n",
              "//# sourceURL=js_87e970813d"
            ],
            "text/plain": [
              "<IPython.core.display.Javascript object>"
            ]
          },
          "metadata": {}
        },
        {
          "output_type": "display_data",
          "data": {
            "application/javascript": [
              "window[\"35bbdfd4-9d97-11ec-955d-0242ac1c0002\"] = google.colab.output.getActiveOutputArea();\n",
              "//# sourceURL=js_0e93d1b4ea"
            ],
            "text/plain": [
              "<IPython.core.display.Javascript object>"
            ]
          },
          "metadata": {}
        },
        {
          "output_type": "display_data",
          "data": {
            "application/javascript": [
              "window[\"35bc3dd0-9d97-11ec-955d-0242ac1c0002\"] = document.querySelector(\"#id44-0-0\");\n",
              "//# sourceURL=js_1caae1e1fa"
            ],
            "text/plain": [
              "<IPython.core.display.Javascript object>"
            ]
          },
          "metadata": {}
        },
        {
          "output_type": "display_data",
          "data": {
            "application/javascript": [
              "window[\"35bc9208-9d97-11ec-955d-0242ac1c0002\"] = google.colab.output.setActiveOutputArea(window[\"35bc3dd0-9d97-11ec-955d-0242ac1c0002\"]);\n",
              "//# sourceURL=js_ae8d1801d0"
            ],
            "text/plain": [
              "<IPython.core.display.Javascript object>"
            ]
          },
          "metadata": {}
        },
        {
          "output_type": "display_data",
          "data": {
            "application/javascript": [
              "window[\"35dfba62-9d97-11ec-955d-0242ac1c0002\"] = google.colab.output.setActiveOutputArea(window[\"35bbdfd4-9d97-11ec-955d-0242ac1c0002\"]);\n",
              "//# sourceURL=js_c6d33d3a1c"
            ],
            "text/plain": [
              "<IPython.core.display.Javascript object>"
            ]
          },
          "metadata": {}
        },
        {
          "output_type": "display_data",
          "data": {
            "application/javascript": [
              "window[\"360028b0-9d97-11ec-955d-0242ac1c0002\"] = google.colab.output.getActiveOutputArea();\n",
              "//# sourceURL=js_0a519283ae"
            ],
            "text/plain": [
              "<IPython.core.display.Javascript object>"
            ]
          },
          "metadata": {}
        },
        {
          "output_type": "display_data",
          "data": {
            "application/javascript": [
              "window[\"36008242-9d97-11ec-955d-0242ac1c0002\"] = document.querySelector(\"#id44-0-0\");\n",
              "//# sourceURL=js_e52d53c479"
            ],
            "text/plain": [
              "<IPython.core.display.Javascript object>"
            ]
          },
          "metadata": {}
        },
        {
          "output_type": "display_data",
          "data": {
            "application/javascript": [
              "window[\"3601a47e-9d97-11ec-955d-0242ac1c0002\"] = google.colab.output.setActiveOutputArea(window[\"36008242-9d97-11ec-955d-0242ac1c0002\"]);\n",
              "//# sourceURL=js_0e870429b3"
            ],
            "text/plain": [
              "<IPython.core.display.Javascript object>"
            ]
          },
          "metadata": {}
        },
        {
          "output_type": "display_data",
          "data": {
            "application/javascript": [
              "window[\"3617272c-9d97-11ec-955d-0242ac1c0002\"] = google.colab.output.setActiveOutputArea(window[\"360028b0-9d97-11ec-955d-0242ac1c0002\"]);\n",
              "//# sourceURL=js_dff9814396"
            ],
            "text/plain": [
              "<IPython.core.display.Javascript object>"
            ]
          },
          "metadata": {}
        },
        {
          "output_type": "display_data",
          "data": {
            "application/javascript": [
              "window[\"363792b4-9d97-11ec-955d-0242ac1c0002\"] = google.colab.output.getActiveOutputArea();\n",
              "//# sourceURL=js_2eb8f4fdfa"
            ],
            "text/plain": [
              "<IPython.core.display.Javascript object>"
            ]
          },
          "metadata": {}
        },
        {
          "output_type": "display_data",
          "data": {
            "application/javascript": [
              "window[\"3637ddd2-9d97-11ec-955d-0242ac1c0002\"] = document.querySelector(\"#id44-0-0\");\n",
              "//# sourceURL=js_38ca7837aa"
            ],
            "text/plain": [
              "<IPython.core.display.Javascript object>"
            ]
          },
          "metadata": {}
        },
        {
          "output_type": "display_data",
          "data": {
            "application/javascript": [
              "window[\"36381d2e-9d97-11ec-955d-0242ac1c0002\"] = google.colab.output.setActiveOutputArea(window[\"3637ddd2-9d97-11ec-955d-0242ac1c0002\"]);\n",
              "//# sourceURL=js_2ee9a4972f"
            ],
            "text/plain": [
              "<IPython.core.display.Javascript object>"
            ]
          },
          "metadata": {}
        },
        {
          "output_type": "display_data",
          "data": {
            "application/javascript": [
              "window[\"364d6602-9d97-11ec-955d-0242ac1c0002\"] = google.colab.output.setActiveOutputArea(window[\"363792b4-9d97-11ec-955d-0242ac1c0002\"]);\n",
              "//# sourceURL=js_b4d0f972e0"
            ],
            "text/plain": [
              "<IPython.core.display.Javascript object>"
            ]
          },
          "metadata": {}
        },
        {
          "output_type": "display_data",
          "data": {
            "application/javascript": [
              "window[\"366f0348-9d97-11ec-955d-0242ac1c0002\"] = google.colab.output.getActiveOutputArea();\n",
              "//# sourceURL=js_62a876592a"
            ],
            "text/plain": [
              "<IPython.core.display.Javascript object>"
            ]
          },
          "metadata": {}
        },
        {
          "output_type": "display_data",
          "data": {
            "application/javascript": [
              "window[\"366f7fda-9d97-11ec-955d-0242ac1c0002\"] = document.querySelector(\"#id44-0-0\");\n",
              "//# sourceURL=js_849ccf7d08"
            ],
            "text/plain": [
              "<IPython.core.display.Javascript object>"
            ]
          },
          "metadata": {}
        },
        {
          "output_type": "display_data",
          "data": {
            "application/javascript": [
              "window[\"367020d4-9d97-11ec-955d-0242ac1c0002\"] = google.colab.output.setActiveOutputArea(window[\"366f7fda-9d97-11ec-955d-0242ac1c0002\"]);\n",
              "//# sourceURL=js_3f26d02961"
            ],
            "text/plain": [
              "<IPython.core.display.Javascript object>"
            ]
          },
          "metadata": {}
        },
        {
          "output_type": "display_data",
          "data": {
            "application/javascript": [
              "window[\"368490f0-9d97-11ec-955d-0242ac1c0002\"] = google.colab.output.setActiveOutputArea(window[\"366f0348-9d97-11ec-955d-0242ac1c0002\"]);\n",
              "//# sourceURL=js_6d19f7d55c"
            ],
            "text/plain": [
              "<IPython.core.display.Javascript object>"
            ]
          },
          "metadata": {}
        },
        {
          "output_type": "display_data",
          "data": {
            "application/javascript": [
              "window[\"36a4b916-9d97-11ec-955d-0242ac1c0002\"] = google.colab.output.getActiveOutputArea();\n",
              "//# sourceURL=js_ad3d92a31a"
            ],
            "text/plain": [
              "<IPython.core.display.Javascript object>"
            ]
          },
          "metadata": {}
        },
        {
          "output_type": "display_data",
          "data": {
            "application/javascript": [
              "window[\"36a512bc-9d97-11ec-955d-0242ac1c0002\"] = document.querySelector(\"#id44-0-0\");\n",
              "//# sourceURL=js_bf70e88d7d"
            ],
            "text/plain": [
              "<IPython.core.display.Javascript object>"
            ]
          },
          "metadata": {}
        },
        {
          "output_type": "display_data",
          "data": {
            "application/javascript": [
              "window[\"36a550ec-9d97-11ec-955d-0242ac1c0002\"] = google.colab.output.setActiveOutputArea(window[\"36a512bc-9d97-11ec-955d-0242ac1c0002\"]);\n",
              "//# sourceURL=js_a6f4004d33"
            ],
            "text/plain": [
              "<IPython.core.display.Javascript object>"
            ]
          },
          "metadata": {}
        },
        {
          "output_type": "display_data",
          "data": {
            "application/javascript": [
              "window[\"36b9f7b8-9d97-11ec-955d-0242ac1c0002\"] = google.colab.output.setActiveOutputArea(window[\"36a4b916-9d97-11ec-955d-0242ac1c0002\"]);\n",
              "//# sourceURL=js_e25014fbd9"
            ],
            "text/plain": [
              "<IPython.core.display.Javascript object>"
            ]
          },
          "metadata": {}
        },
        {
          "output_type": "display_data",
          "data": {
            "application/javascript": [
              "window[\"36da5738-9d97-11ec-955d-0242ac1c0002\"] = google.colab.output.getActiveOutputArea();\n",
              "//# sourceURL=js_d38dd304eb"
            ],
            "text/plain": [
              "<IPython.core.display.Javascript object>"
            ]
          },
          "metadata": {}
        },
        {
          "output_type": "display_data",
          "data": {
            "application/javascript": [
              "window[\"36da9e1e-9d97-11ec-955d-0242ac1c0002\"] = document.querySelector(\"#id44-0-0\");\n",
              "//# sourceURL=js_f3e435996a"
            ],
            "text/plain": [
              "<IPython.core.display.Javascript object>"
            ]
          },
          "metadata": {}
        },
        {
          "output_type": "display_data",
          "data": {
            "application/javascript": [
              "window[\"36dae568-9d97-11ec-955d-0242ac1c0002\"] = google.colab.output.setActiveOutputArea(window[\"36da9e1e-9d97-11ec-955d-0242ac1c0002\"]);\n",
              "//# sourceURL=js_ed4018b695"
            ],
            "text/plain": [
              "<IPython.core.display.Javascript object>"
            ]
          },
          "metadata": {}
        },
        {
          "output_type": "display_data",
          "data": {
            "application/javascript": [
              "window[\"36ef1a4c-9d97-11ec-955d-0242ac1c0002\"] = google.colab.output.setActiveOutputArea(window[\"36da5738-9d97-11ec-955d-0242ac1c0002\"]);\n",
              "//# sourceURL=js_0b9090a892"
            ],
            "text/plain": [
              "<IPython.core.display.Javascript object>"
            ]
          },
          "metadata": {}
        },
        {
          "output_type": "display_data",
          "data": {
            "application/javascript": [
              "window[\"370fa30c-9d97-11ec-955d-0242ac1c0002\"] = google.colab.output.getActiveOutputArea();\n",
              "//# sourceURL=js_2e599689f2"
            ],
            "text/plain": [
              "<IPython.core.display.Javascript object>"
            ]
          },
          "metadata": {}
        },
        {
          "output_type": "display_data",
          "data": {
            "application/javascript": [
              "window[\"370ffb36-9d97-11ec-955d-0242ac1c0002\"] = document.querySelector(\"#id44-0-0\");\n",
              "//# sourceURL=js_bc8f3d96ab"
            ],
            "text/plain": [
              "<IPython.core.display.Javascript object>"
            ]
          },
          "metadata": {}
        },
        {
          "output_type": "display_data",
          "data": {
            "application/javascript": [
              "window[\"37104a0a-9d97-11ec-955d-0242ac1c0002\"] = google.colab.output.setActiveOutputArea(window[\"370ffb36-9d97-11ec-955d-0242ac1c0002\"]);\n",
              "//# sourceURL=js_0393a5b9f4"
            ],
            "text/plain": [
              "<IPython.core.display.Javascript object>"
            ]
          },
          "metadata": {}
        },
        {
          "output_type": "display_data",
          "data": {
            "application/javascript": [
              "window[\"3725880c-9d97-11ec-955d-0242ac1c0002\"] = google.colab.output.setActiveOutputArea(window[\"370fa30c-9d97-11ec-955d-0242ac1c0002\"]);\n",
              "//# sourceURL=js_3d191dfa72"
            ],
            "text/plain": [
              "<IPython.core.display.Javascript object>"
            ]
          },
          "metadata": {}
        },
        {
          "output_type": "display_data",
          "data": {
            "application/javascript": [
              "window[\"374643da-9d97-11ec-955d-0242ac1c0002\"] = google.colab.output.getActiveOutputArea();\n",
              "//# sourceURL=js_b1189cdabd"
            ],
            "text/plain": [
              "<IPython.core.display.Javascript object>"
            ]
          },
          "metadata": {}
        },
        {
          "output_type": "display_data",
          "data": {
            "application/javascript": [
              "window[\"374696c8-9d97-11ec-955d-0242ac1c0002\"] = document.querySelector(\"#id44-0-0\");\n",
              "//# sourceURL=js_2df7c3bb98"
            ],
            "text/plain": [
              "<IPython.core.display.Javascript object>"
            ]
          },
          "metadata": {}
        },
        {
          "output_type": "display_data",
          "data": {
            "application/javascript": [
              "window[\"3746e768-9d97-11ec-955d-0242ac1c0002\"] = google.colab.output.setActiveOutputArea(window[\"374696c8-9d97-11ec-955d-0242ac1c0002\"]);\n",
              "//# sourceURL=js_ee19ba35c2"
            ],
            "text/plain": [
              "<IPython.core.display.Javascript object>"
            ]
          },
          "metadata": {}
        },
        {
          "output_type": "display_data",
          "data": {
            "application/javascript": [
              "window[\"375a5a5a-9d97-11ec-955d-0242ac1c0002\"] = google.colab.output.setActiveOutputArea(window[\"374643da-9d97-11ec-955d-0242ac1c0002\"]);\n",
              "//# sourceURL=js_3dabbef150"
            ],
            "text/plain": [
              "<IPython.core.display.Javascript object>"
            ]
          },
          "metadata": {}
        },
        {
          "output_type": "display_data",
          "data": {
            "application/javascript": [
              "window[\"377b84fa-9d97-11ec-955d-0242ac1c0002\"] = google.colab.output.getActiveOutputArea();\n",
              "//# sourceURL=js_7db40ddb64"
            ],
            "text/plain": [
              "<IPython.core.display.Javascript object>"
            ]
          },
          "metadata": {}
        },
        {
          "output_type": "display_data",
          "data": {
            "application/javascript": [
              "window[\"377c06aa-9d97-11ec-955d-0242ac1c0002\"] = document.querySelector(\"#id44-0-0\");\n",
              "//# sourceURL=js_3b02d137a8"
            ],
            "text/plain": [
              "<IPython.core.display.Javascript object>"
            ]
          },
          "metadata": {}
        },
        {
          "output_type": "display_data",
          "data": {
            "application/javascript": [
              "window[\"377c81d4-9d97-11ec-955d-0242ac1c0002\"] = google.colab.output.setActiveOutputArea(window[\"377c06aa-9d97-11ec-955d-0242ac1c0002\"]);\n",
              "//# sourceURL=js_c45991d5c2"
            ],
            "text/plain": [
              "<IPython.core.display.Javascript object>"
            ]
          },
          "metadata": {}
        },
        {
          "output_type": "display_data",
          "data": {
            "application/javascript": [
              "window[\"3791bb94-9d97-11ec-955d-0242ac1c0002\"] = google.colab.output.setActiveOutputArea(window[\"377b84fa-9d97-11ec-955d-0242ac1c0002\"]);\n",
              "//# sourceURL=js_0b97170842"
            ],
            "text/plain": [
              "<IPython.core.display.Javascript object>"
            ]
          },
          "metadata": {}
        },
        {
          "output_type": "display_data",
          "data": {
            "application/javascript": [
              "window[\"37b20480-9d97-11ec-955d-0242ac1c0002\"] = google.colab.output.getActiveOutputArea();\n",
              "//# sourceURL=js_b0024e1fbf"
            ],
            "text/plain": [
              "<IPython.core.display.Javascript object>"
            ]
          },
          "metadata": {}
        },
        {
          "output_type": "display_data",
          "data": {
            "application/javascript": [
              "window[\"37b252d2-9d97-11ec-955d-0242ac1c0002\"] = document.querySelector(\"#id44-0-0\");\n",
              "//# sourceURL=js_34fe33b92a"
            ],
            "text/plain": [
              "<IPython.core.display.Javascript object>"
            ]
          },
          "metadata": {}
        },
        {
          "output_type": "display_data",
          "data": {
            "application/javascript": [
              "window[\"37b29418-9d97-11ec-955d-0242ac1c0002\"] = google.colab.output.setActiveOutputArea(window[\"37b252d2-9d97-11ec-955d-0242ac1c0002\"]);\n",
              "//# sourceURL=js_6c7f988021"
            ],
            "text/plain": [
              "<IPython.core.display.Javascript object>"
            ]
          },
          "metadata": {}
        },
        {
          "output_type": "display_data",
          "data": {
            "application/javascript": [
              "window[\"37c6ff0c-9d97-11ec-955d-0242ac1c0002\"] = google.colab.output.setActiveOutputArea(window[\"37b20480-9d97-11ec-955d-0242ac1c0002\"]);\n",
              "//# sourceURL=js_35cfbc78e6"
            ],
            "text/plain": [
              "<IPython.core.display.Javascript object>"
            ]
          },
          "metadata": {}
        },
        {
          "output_type": "display_data",
          "data": {
            "application/javascript": [
              "window[\"37e748e8-9d97-11ec-955d-0242ac1c0002\"] = google.colab.output.getActiveOutputArea();\n",
              "//# sourceURL=js_498dbf4097"
            ],
            "text/plain": [
              "<IPython.core.display.Javascript object>"
            ]
          },
          "metadata": {}
        },
        {
          "output_type": "display_data",
          "data": {
            "application/javascript": [
              "window[\"37e77f16-9d97-11ec-955d-0242ac1c0002\"] = document.querySelector(\"#id44-0-0\");\n",
              "//# sourceURL=js_6875df1fcd"
            ],
            "text/plain": [
              "<IPython.core.display.Javascript object>"
            ]
          },
          "metadata": {}
        },
        {
          "output_type": "display_data",
          "data": {
            "application/javascript": [
              "window[\"37e7b490-9d97-11ec-955d-0242ac1c0002\"] = google.colab.output.setActiveOutputArea(window[\"37e77f16-9d97-11ec-955d-0242ac1c0002\"]);\n",
              "//# sourceURL=js_51f3d9dfee"
            ],
            "text/plain": [
              "<IPython.core.display.Javascript object>"
            ]
          },
          "metadata": {}
        },
        {
          "output_type": "display_data",
          "data": {
            "application/javascript": [
              "window[\"37fc3596-9d97-11ec-955d-0242ac1c0002\"] = google.colab.output.setActiveOutputArea(window[\"37e748e8-9d97-11ec-955d-0242ac1c0002\"]);\n",
              "//# sourceURL=js_54216c7771"
            ],
            "text/plain": [
              "<IPython.core.display.Javascript object>"
            ]
          },
          "metadata": {}
        },
        {
          "output_type": "display_data",
          "data": {
            "application/javascript": [
              "window[\"381c9e62-9d97-11ec-955d-0242ac1c0002\"] = google.colab.output.getActiveOutputArea();\n",
              "//# sourceURL=js_484a286c25"
            ],
            "text/plain": [
              "<IPython.core.display.Javascript object>"
            ]
          },
          "metadata": {}
        },
        {
          "output_type": "display_data",
          "data": {
            "application/javascript": [
              "window[\"381cfeb6-9d97-11ec-955d-0242ac1c0002\"] = document.querySelector(\"#id44-0-0\");\n",
              "//# sourceURL=js_a9b93cced1"
            ],
            "text/plain": [
              "<IPython.core.display.Javascript object>"
            ]
          },
          "metadata": {}
        },
        {
          "output_type": "display_data",
          "data": {
            "application/javascript": [
              "window[\"381d56a4-9d97-11ec-955d-0242ac1c0002\"] = google.colab.output.setActiveOutputArea(window[\"381cfeb6-9d97-11ec-955d-0242ac1c0002\"]);\n",
              "//# sourceURL=js_8651f49f46"
            ],
            "text/plain": [
              "<IPython.core.display.Javascript object>"
            ]
          },
          "metadata": {}
        },
        {
          "output_type": "display_data",
          "data": {
            "application/javascript": [
              "window[\"38312102-9d97-11ec-955d-0242ac1c0002\"] = google.colab.output.setActiveOutputArea(window[\"381c9e62-9d97-11ec-955d-0242ac1c0002\"]);\n",
              "//# sourceURL=js_fd85b44338"
            ],
            "text/plain": [
              "<IPython.core.display.Javascript object>"
            ]
          },
          "metadata": {}
        },
        {
          "output_type": "display_data",
          "data": {
            "application/javascript": [
              "window[\"3851a18e-9d97-11ec-955d-0242ac1c0002\"] = google.colab.output.getActiveOutputArea();\n",
              "//# sourceURL=js_96a252416f"
            ],
            "text/plain": [
              "<IPython.core.display.Javascript object>"
            ]
          },
          "metadata": {}
        },
        {
          "output_type": "display_data",
          "data": {
            "application/javascript": [
              "window[\"3851f864-9d97-11ec-955d-0242ac1c0002\"] = document.querySelector(\"#id44-0-0\");\n",
              "//# sourceURL=js_0d1cd585de"
            ],
            "text/plain": [
              "<IPython.core.display.Javascript object>"
            ]
          },
          "metadata": {}
        },
        {
          "output_type": "display_data",
          "data": {
            "application/javascript": [
              "window[\"385248d2-9d97-11ec-955d-0242ac1c0002\"] = google.colab.output.setActiveOutputArea(window[\"3851f864-9d97-11ec-955d-0242ac1c0002\"]);\n",
              "//# sourceURL=js_8808587c46"
            ],
            "text/plain": [
              "<IPython.core.display.Javascript object>"
            ]
          },
          "metadata": {}
        },
        {
          "output_type": "display_data",
          "data": {
            "application/javascript": [
              "window[\"3865ae04-9d97-11ec-955d-0242ac1c0002\"] = google.colab.output.setActiveOutputArea(window[\"3851a18e-9d97-11ec-955d-0242ac1c0002\"]);\n",
              "//# sourceURL=js_f49b4505dd"
            ],
            "text/plain": [
              "<IPython.core.display.Javascript object>"
            ]
          },
          "metadata": {}
        },
        {
          "output_type": "display_data",
          "data": {
            "application/javascript": [
              "window[\"388612a2-9d97-11ec-955d-0242ac1c0002\"] = google.colab.output.getActiveOutputArea();\n",
              "//# sourceURL=js_ce357ce35c"
            ],
            "text/plain": [
              "<IPython.core.display.Javascript object>"
            ]
          },
          "metadata": {}
        },
        {
          "output_type": "display_data",
          "data": {
            "application/javascript": [
              "window[\"3886852a-9d97-11ec-955d-0242ac1c0002\"] = document.querySelector(\"#id44-0-0\");\n",
              "//# sourceURL=js_c6efc0ba9b"
            ],
            "text/plain": [
              "<IPython.core.display.Javascript object>"
            ]
          },
          "metadata": {}
        },
        {
          "output_type": "display_data",
          "data": {
            "application/javascript": [
              "window[\"3886d624-9d97-11ec-955d-0242ac1c0002\"] = google.colab.output.setActiveOutputArea(window[\"3886852a-9d97-11ec-955d-0242ac1c0002\"]);\n",
              "//# sourceURL=js_e7627b28d6"
            ],
            "text/plain": [
              "<IPython.core.display.Javascript object>"
            ]
          },
          "metadata": {}
        },
        {
          "output_type": "display_data",
          "data": {
            "application/javascript": [
              "window[\"389ab004-9d97-11ec-955d-0242ac1c0002\"] = google.colab.output.setActiveOutputArea(window[\"388612a2-9d97-11ec-955d-0242ac1c0002\"]);\n",
              "//# sourceURL=js_4ed15015dc"
            ],
            "text/plain": [
              "<IPython.core.display.Javascript object>"
            ]
          },
          "metadata": {}
        },
        {
          "output_type": "display_data",
          "data": {
            "application/javascript": [
              "window[\"38bb20f0-9d97-11ec-955d-0242ac1c0002\"] = google.colab.output.getActiveOutputArea();\n",
              "//# sourceURL=js_8b0d2975e9"
            ],
            "text/plain": [
              "<IPython.core.display.Javascript object>"
            ]
          },
          "metadata": {}
        },
        {
          "output_type": "display_data",
          "data": {
            "application/javascript": [
              "window[\"38bb81bc-9d97-11ec-955d-0242ac1c0002\"] = document.querySelector(\"#id44-0-0\");\n",
              "//# sourceURL=js_8d961a83e9"
            ],
            "text/plain": [
              "<IPython.core.display.Javascript object>"
            ]
          },
          "metadata": {}
        },
        {
          "output_type": "display_data",
          "data": {
            "application/javascript": [
              "window[\"38bbd6f8-9d97-11ec-955d-0242ac1c0002\"] = google.colab.output.setActiveOutputArea(window[\"38bb81bc-9d97-11ec-955d-0242ac1c0002\"]);\n",
              "//# sourceURL=js_aaf86055f9"
            ],
            "text/plain": [
              "<IPython.core.display.Javascript object>"
            ]
          },
          "metadata": {}
        },
        {
          "output_type": "display_data",
          "data": {
            "application/javascript": [
              "window[\"38cfd298-9d97-11ec-955d-0242ac1c0002\"] = google.colab.output.setActiveOutputArea(window[\"38bb20f0-9d97-11ec-955d-0242ac1c0002\"]);\n",
              "//# sourceURL=js_39c45a2c76"
            ],
            "text/plain": [
              "<IPython.core.display.Javascript object>"
            ]
          },
          "metadata": {}
        },
        {
          "output_type": "display_data",
          "data": {
            "application/javascript": [
              "window[\"38f03132-9d97-11ec-955d-0242ac1c0002\"] = google.colab.output.getActiveOutputArea();\n",
              "//# sourceURL=js_13d6484f81"
            ],
            "text/plain": [
              "<IPython.core.display.Javascript object>"
            ]
          },
          "metadata": {}
        },
        {
          "output_type": "display_data",
          "data": {
            "application/javascript": [
              "window[\"38f08830-9d97-11ec-955d-0242ac1c0002\"] = document.querySelector(\"#id44-0-0\");\n",
              "//# sourceURL=js_c2bc4018ff"
            ],
            "text/plain": [
              "<IPython.core.display.Javascript object>"
            ]
          },
          "metadata": {}
        },
        {
          "output_type": "display_data",
          "data": {
            "application/javascript": [
              "window[\"38f1288a-9d97-11ec-955d-0242ac1c0002\"] = google.colab.output.setActiveOutputArea(window[\"38f08830-9d97-11ec-955d-0242ac1c0002\"]);\n",
              "//# sourceURL=js_b747d7a06f"
            ],
            "text/plain": [
              "<IPython.core.display.Javascript object>"
            ]
          },
          "metadata": {}
        },
        {
          "output_type": "display_data",
          "data": {
            "application/javascript": [
              "window[\"39115a2e-9d97-11ec-955d-0242ac1c0002\"] = google.colab.output.setActiveOutputArea(window[\"38f03132-9d97-11ec-955d-0242ac1c0002\"]);\n",
              "//# sourceURL=js_32aea7f3fa"
            ],
            "text/plain": [
              "<IPython.core.display.Javascript object>"
            ]
          },
          "metadata": {}
        },
        {
          "output_type": "display_data",
          "data": {
            "application/javascript": [
              "window[\"39324fe0-9d97-11ec-955d-0242ac1c0002\"] = google.colab.output.getActiveOutputArea();\n",
              "//# sourceURL=js_bb8b854db2"
            ],
            "text/plain": [
              "<IPython.core.display.Javascript object>"
            ]
          },
          "metadata": {}
        },
        {
          "output_type": "display_data",
          "data": {
            "application/javascript": [
              "window[\"3932c8f8-9d97-11ec-955d-0242ac1c0002\"] = document.querySelector(\"#id44-0-0\");\n",
              "//# sourceURL=js_d5b36cc774"
            ],
            "text/plain": [
              "<IPython.core.display.Javascript object>"
            ]
          },
          "metadata": {}
        },
        {
          "output_type": "display_data",
          "data": {
            "application/javascript": [
              "window[\"3933422e-9d97-11ec-955d-0242ac1c0002\"] = google.colab.output.setActiveOutputArea(window[\"3932c8f8-9d97-11ec-955d-0242ac1c0002\"]);\n",
              "//# sourceURL=js_5e11f44eeb"
            ],
            "text/plain": [
              "<IPython.core.display.Javascript object>"
            ]
          },
          "metadata": {}
        },
        {
          "output_type": "display_data",
          "data": {
            "application/javascript": [
              "window[\"394977a6-9d97-11ec-955d-0242ac1c0002\"] = google.colab.output.setActiveOutputArea(window[\"39324fe0-9d97-11ec-955d-0242ac1c0002\"]);\n",
              "//# sourceURL=js_ab06307041"
            ],
            "text/plain": [
              "<IPython.core.display.Javascript object>"
            ]
          },
          "metadata": {}
        },
        {
          "output_type": "display_data",
          "data": {
            "application/javascript": [
              "window[\"396b180c-9d97-11ec-955d-0242ac1c0002\"] = google.colab.output.getActiveOutputArea();\n",
              "//# sourceURL=js_1d696433fe"
            ],
            "text/plain": [
              "<IPython.core.display.Javascript object>"
            ]
          },
          "metadata": {}
        },
        {
          "output_type": "display_data",
          "data": {
            "application/javascript": [
              "window[\"396b6514-9d97-11ec-955d-0242ac1c0002\"] = document.querySelector(\"#id44-0-0\");\n",
              "//# sourceURL=js_be3e2233a5"
            ],
            "text/plain": [
              "<IPython.core.display.Javascript object>"
            ]
          },
          "metadata": {}
        },
        {
          "output_type": "display_data",
          "data": {
            "application/javascript": [
              "window[\"396c24ea-9d97-11ec-955d-0242ac1c0002\"] = google.colab.output.setActiveOutputArea(window[\"396b6514-9d97-11ec-955d-0242ac1c0002\"]);\n",
              "//# sourceURL=js_633fc579c4"
            ],
            "text/plain": [
              "<IPython.core.display.Javascript object>"
            ]
          },
          "metadata": {}
        },
        {
          "output_type": "display_data",
          "data": {
            "application/javascript": [
              "window[\"39824982-9d97-11ec-955d-0242ac1c0002\"] = google.colab.output.setActiveOutputArea(window[\"396b180c-9d97-11ec-955d-0242ac1c0002\"]);\n",
              "//# sourceURL=js_0390baeb4a"
            ],
            "text/plain": [
              "<IPython.core.display.Javascript object>"
            ]
          },
          "metadata": {}
        },
        {
          "output_type": "display_data",
          "data": {
            "application/javascript": [
              "window[\"39a2cd10-9d97-11ec-955d-0242ac1c0002\"] = google.colab.output.getActiveOutputArea();\n",
              "//# sourceURL=js_c506d4b932"
            ],
            "text/plain": [
              "<IPython.core.display.Javascript object>"
            ]
          },
          "metadata": {}
        },
        {
          "output_type": "display_data",
          "data": {
            "application/javascript": [
              "window[\"39a32b3e-9d97-11ec-955d-0242ac1c0002\"] = document.querySelector(\"#id44-0-0\");\n",
              "//# sourceURL=js_cb75194c96"
            ],
            "text/plain": [
              "<IPython.core.display.Javascript object>"
            ]
          },
          "metadata": {}
        },
        {
          "output_type": "display_data",
          "data": {
            "application/javascript": [
              "window[\"39a387e6-9d97-11ec-955d-0242ac1c0002\"] = google.colab.output.setActiveOutputArea(window[\"39a32b3e-9d97-11ec-955d-0242ac1c0002\"]);\n",
              "//# sourceURL=js_e9da850c9f"
            ],
            "text/plain": [
              "<IPython.core.display.Javascript object>"
            ]
          },
          "metadata": {}
        },
        {
          "output_type": "display_data",
          "data": {
            "application/javascript": [
              "window[\"39b7a6a4-9d97-11ec-955d-0242ac1c0002\"] = google.colab.output.setActiveOutputArea(window[\"39a2cd10-9d97-11ec-955d-0242ac1c0002\"]);\n",
              "//# sourceURL=js_8d113c1f90"
            ],
            "text/plain": [
              "<IPython.core.display.Javascript object>"
            ]
          },
          "metadata": {}
        },
        {
          "output_type": "display_data",
          "data": {
            "application/javascript": [
              "window[\"39d81cea-9d97-11ec-955d-0242ac1c0002\"] = google.colab.output.getActiveOutputArea();\n",
              "//# sourceURL=js_a014e77ee2"
            ],
            "text/plain": [
              "<IPython.core.display.Javascript object>"
            ]
          },
          "metadata": {}
        },
        {
          "output_type": "display_data",
          "data": {
            "application/javascript": [
              "window[\"39d88356-9d97-11ec-955d-0242ac1c0002\"] = document.querySelector(\"#id44-0-0\");\n",
              "//# sourceURL=js_3211c69b4e"
            ],
            "text/plain": [
              "<IPython.core.display.Javascript object>"
            ]
          },
          "metadata": {}
        },
        {
          "output_type": "display_data",
          "data": {
            "application/javascript": [
              "window[\"39d8ca46-9d97-11ec-955d-0242ac1c0002\"] = google.colab.output.setActiveOutputArea(window[\"39d88356-9d97-11ec-955d-0242ac1c0002\"]);\n",
              "//# sourceURL=js_696bfb60c5"
            ],
            "text/plain": [
              "<IPython.core.display.Javascript object>"
            ]
          },
          "metadata": {}
        },
        {
          "output_type": "display_data",
          "data": {
            "application/javascript": [
              "window[\"39eeb90a-9d97-11ec-955d-0242ac1c0002\"] = google.colab.output.setActiveOutputArea(window[\"39d81cea-9d97-11ec-955d-0242ac1c0002\"]);\n",
              "//# sourceURL=js_fec94475d0"
            ],
            "text/plain": [
              "<IPython.core.display.Javascript object>"
            ]
          },
          "metadata": {}
        },
        {
          "output_type": "display_data",
          "data": {
            "application/javascript": [
              "window[\"3a110bcc-9d97-11ec-955d-0242ac1c0002\"] = google.colab.output.getActiveOutputArea();\n",
              "//# sourceURL=js_dc8e31bb89"
            ],
            "text/plain": [
              "<IPython.core.display.Javascript object>"
            ]
          },
          "metadata": {}
        },
        {
          "output_type": "display_data",
          "data": {
            "application/javascript": [
              "window[\"3a11a0dc-9d97-11ec-955d-0242ac1c0002\"] = document.querySelector(\"#id44-0-0\");\n",
              "//# sourceURL=js_ba4c926cd9"
            ],
            "text/plain": [
              "<IPython.core.display.Javascript object>"
            ]
          },
          "metadata": {}
        },
        {
          "output_type": "display_data",
          "data": {
            "application/javascript": [
              "window[\"3a11ff8c-9d97-11ec-955d-0242ac1c0002\"] = google.colab.output.setActiveOutputArea(window[\"3a11a0dc-9d97-11ec-955d-0242ac1c0002\"]);\n",
              "//# sourceURL=js_46c0dc7b30"
            ],
            "text/plain": [
              "<IPython.core.display.Javascript object>"
            ]
          },
          "metadata": {}
        },
        {
          "output_type": "display_data",
          "data": {
            "application/javascript": [
              "window[\"3a27db90-9d97-11ec-955d-0242ac1c0002\"] = google.colab.output.setActiveOutputArea(window[\"3a110bcc-9d97-11ec-955d-0242ac1c0002\"]);\n",
              "//# sourceURL=js_3549b7362c"
            ],
            "text/plain": [
              "<IPython.core.display.Javascript object>"
            ]
          },
          "metadata": {}
        },
        {
          "output_type": "display_data",
          "data": {
            "application/javascript": [
              "window[\"43efcb6a-9d97-11ec-955d-0242ac1c0002\"] = google.colab.output.getActiveOutputArea();\n",
              "//# sourceURL=js_d28c9b86d1"
            ],
            "text/plain": [
              "<IPython.core.display.Javascript object>"
            ]
          },
          "metadata": {}
        },
        {
          "output_type": "display_data",
          "data": {
            "application/javascript": [
              "window[\"43f02042-9d97-11ec-955d-0242ac1c0002\"] = document.querySelector(\"#id44-0-0\");\n",
              "//# sourceURL=js_e5d68572cd"
            ],
            "text/plain": [
              "<IPython.core.display.Javascript object>"
            ]
          },
          "metadata": {}
        },
        {
          "output_type": "display_data",
          "data": {
            "application/javascript": [
              "window[\"43f0ba70-9d97-11ec-955d-0242ac1c0002\"] = google.colab.output.setActiveOutputArea(window[\"43f02042-9d97-11ec-955d-0242ac1c0002\"]);\n",
              "//# sourceURL=js_c7f04964e6"
            ],
            "text/plain": [
              "<IPython.core.display.Javascript object>"
            ]
          },
          "metadata": {}
        },
        {
          "output_type": "display_data",
          "data": {
            "application/javascript": [
              "window[\"4406e7f0-9d97-11ec-955d-0242ac1c0002\"] = google.colab.output.setActiveOutputArea(window[\"43efcb6a-9d97-11ec-955d-0242ac1c0002\"]);\n",
              "//# sourceURL=js_dba5189dd6"
            ],
            "text/plain": [
              "<IPython.core.display.Javascript object>"
            ]
          },
          "metadata": {}
        },
        {
          "output_type": "display_data",
          "data": {
            "application/javascript": [
              "window[\"44275b8e-9d97-11ec-955d-0242ac1c0002\"] = google.colab.output.getActiveOutputArea();\n",
              "//# sourceURL=js_24d51dac04"
            ],
            "text/plain": [
              "<IPython.core.display.Javascript object>"
            ]
          },
          "metadata": {}
        },
        {
          "output_type": "display_data",
          "data": {
            "application/javascript": [
              "window[\"4427d05a-9d97-11ec-955d-0242ac1c0002\"] = document.querySelector(\"#id44-0-0\");\n",
              "//# sourceURL=js_8dc1dbb6a0"
            ],
            "text/plain": [
              "<IPython.core.display.Javascript object>"
            ]
          },
          "metadata": {}
        },
        {
          "output_type": "display_data",
          "data": {
            "application/javascript": [
              "window[\"44289800-9d97-11ec-955d-0242ac1c0002\"] = google.colab.output.setActiveOutputArea(window[\"4427d05a-9d97-11ec-955d-0242ac1c0002\"]);\n",
              "//# sourceURL=js_93c4335ef6"
            ],
            "text/plain": [
              "<IPython.core.display.Javascript object>"
            ]
          },
          "metadata": {}
        },
        {
          "output_type": "display_data",
          "data": {
            "application/javascript": [
              "window[\"444224e6-9d97-11ec-955d-0242ac1c0002\"] = google.colab.output.setActiveOutputArea(window[\"44275b8e-9d97-11ec-955d-0242ac1c0002\"]);\n",
              "//# sourceURL=js_9e86e21e48"
            ],
            "text/plain": [
              "<IPython.core.display.Javascript object>"
            ]
          },
          "metadata": {}
        },
        {
          "output_type": "display_data",
          "data": {
            "application/javascript": [
              "window[\"44629280-9d97-11ec-955d-0242ac1c0002\"] = google.colab.output.getActiveOutputArea();\n",
              "//# sourceURL=js_7deab4cad4"
            ],
            "text/plain": [
              "<IPython.core.display.Javascript object>"
            ]
          },
          "metadata": {}
        },
        {
          "output_type": "display_data",
          "data": {
            "application/javascript": [
              "window[\"4462e6cc-9d97-11ec-955d-0242ac1c0002\"] = document.querySelector(\"#id44-0-0\");\n",
              "//# sourceURL=js_90cbd68f90"
            ],
            "text/plain": [
              "<IPython.core.display.Javascript object>"
            ]
          },
          "metadata": {}
        },
        {
          "output_type": "display_data",
          "data": {
            "application/javascript": [
              "window[\"44633e56-9d97-11ec-955d-0242ac1c0002\"] = google.colab.output.setActiveOutputArea(window[\"4462e6cc-9d97-11ec-955d-0242ac1c0002\"]);\n",
              "//# sourceURL=js_5ef70a1c5b"
            ],
            "text/plain": [
              "<IPython.core.display.Javascript object>"
            ]
          },
          "metadata": {}
        },
        {
          "output_type": "display_data",
          "data": {
            "application/javascript": [
              "window[\"447a3c82-9d97-11ec-955d-0242ac1c0002\"] = google.colab.output.setActiveOutputArea(window[\"44629280-9d97-11ec-955d-0242ac1c0002\"]);\n",
              "//# sourceURL=js_1af4002d6c"
            ],
            "text/plain": [
              "<IPython.core.display.Javascript object>"
            ]
          },
          "metadata": {}
        },
        {
          "output_type": "display_data",
          "data": {
            "application/javascript": [
              "window[\"449ad96a-9d97-11ec-955d-0242ac1c0002\"] = google.colab.output.getActiveOutputArea();\n",
              "//# sourceURL=js_e8788ce094"
            ],
            "text/plain": [
              "<IPython.core.display.Javascript object>"
            ]
          },
          "metadata": {}
        },
        {
          "output_type": "display_data",
          "data": {
            "application/javascript": [
              "window[\"449b5dc2-9d97-11ec-955d-0242ac1c0002\"] = document.querySelector(\"#id44-0-0\");\n",
              "//# sourceURL=js_5cdcb56e5d"
            ],
            "text/plain": [
              "<IPython.core.display.Javascript object>"
            ]
          },
          "metadata": {}
        },
        {
          "output_type": "display_data",
          "data": {
            "application/javascript": [
              "window[\"449bc24e-9d97-11ec-955d-0242ac1c0002\"] = google.colab.output.setActiveOutputArea(window[\"449b5dc2-9d97-11ec-955d-0242ac1c0002\"]);\n",
              "//# sourceURL=js_4c4b090d2d"
            ],
            "text/plain": [
              "<IPython.core.display.Javascript object>"
            ]
          },
          "metadata": {}
        },
        {
          "output_type": "display_data",
          "data": {
            "application/javascript": [
              "window[\"44b23efc-9d97-11ec-955d-0242ac1c0002\"] = google.colab.output.setActiveOutputArea(window[\"449ad96a-9d97-11ec-955d-0242ac1c0002\"]);\n",
              "//# sourceURL=js_bc8cc74bff"
            ],
            "text/plain": [
              "<IPython.core.display.Javascript object>"
            ]
          },
          "metadata": {}
        },
        {
          "output_type": "display_data",
          "data": {
            "application/javascript": [
              "window[\"44d2d3ce-9d97-11ec-955d-0242ac1c0002\"] = google.colab.output.getActiveOutputArea();\n",
              "//# sourceURL=js_118ce433a1"
            ],
            "text/plain": [
              "<IPython.core.display.Javascript object>"
            ]
          },
          "metadata": {}
        },
        {
          "output_type": "display_data",
          "data": {
            "application/javascript": [
              "window[\"44d3480e-9d97-11ec-955d-0242ac1c0002\"] = document.querySelector(\"#id44-0-0\");\n",
              "//# sourceURL=js_7dffbf7605"
            ],
            "text/plain": [
              "<IPython.core.display.Javascript object>"
            ]
          },
          "metadata": {}
        },
        {
          "output_type": "display_data",
          "data": {
            "application/javascript": [
              "window[\"44d3a1aa-9d97-11ec-955d-0242ac1c0002\"] = google.colab.output.setActiveOutputArea(window[\"44d3480e-9d97-11ec-955d-0242ac1c0002\"]);\n",
              "//# sourceURL=js_b446448ca8"
            ],
            "text/plain": [
              "<IPython.core.display.Javascript object>"
            ]
          },
          "metadata": {}
        },
        {
          "output_type": "display_data",
          "data": {
            "application/javascript": [
              "window[\"44e85c58-9d97-11ec-955d-0242ac1c0002\"] = google.colab.output.setActiveOutputArea(window[\"44d2d3ce-9d97-11ec-955d-0242ac1c0002\"]);\n",
              "//# sourceURL=js_2f88c450e6"
            ],
            "text/plain": [
              "<IPython.core.display.Javascript object>"
            ]
          },
          "metadata": {}
        },
        {
          "output_type": "display_data",
          "data": {
            "application/javascript": [
              "window[\"450a3b20-9d97-11ec-955d-0242ac1c0002\"] = google.colab.output.getActiveOutputArea();\n",
              "//# sourceURL=js_6ca0d9dde9"
            ],
            "text/plain": [
              "<IPython.core.display.Javascript object>"
            ]
          },
          "metadata": {}
        },
        {
          "output_type": "display_data",
          "data": {
            "application/javascript": [
              "window[\"450a75d6-9d97-11ec-955d-0242ac1c0002\"] = document.querySelector(\"#id44-0-0\");\n",
              "//# sourceURL=js_4696dc298d"
            ],
            "text/plain": [
              "<IPython.core.display.Javascript object>"
            ]
          },
          "metadata": {}
        },
        {
          "output_type": "display_data",
          "data": {
            "application/javascript": [
              "window[\"450aa9fc-9d97-11ec-955d-0242ac1c0002\"] = google.colab.output.setActiveOutputArea(window[\"450a75d6-9d97-11ec-955d-0242ac1c0002\"]);\n",
              "//# sourceURL=js_24fe8a04e8"
            ],
            "text/plain": [
              "<IPython.core.display.Javascript object>"
            ]
          },
          "metadata": {}
        },
        {
          "output_type": "display_data",
          "data": {
            "application/javascript": [
              "window[\"45201666-9d97-11ec-955d-0242ac1c0002\"] = google.colab.output.setActiveOutputArea(window[\"450a3b20-9d97-11ec-955d-0242ac1c0002\"]);\n",
              "//# sourceURL=js_ca1bd9c103"
            ],
            "text/plain": [
              "<IPython.core.display.Javascript object>"
            ]
          },
          "metadata": {}
        },
        {
          "output_type": "display_data",
          "data": {
            "application/javascript": [
              "window[\"45419dea-9d97-11ec-955d-0242ac1c0002\"] = google.colab.output.getActiveOutputArea();\n",
              "//# sourceURL=js_93b4b0fc62"
            ],
            "text/plain": [
              "<IPython.core.display.Javascript object>"
            ]
          },
          "metadata": {}
        },
        {
          "output_type": "display_data",
          "data": {
            "application/javascript": [
              "window[\"45422058-9d97-11ec-955d-0242ac1c0002\"] = document.querySelector(\"#id44-0-0\");\n",
              "//# sourceURL=js_0d63c180a1"
            ],
            "text/plain": [
              "<IPython.core.display.Javascript object>"
            ]
          },
          "metadata": {}
        },
        {
          "output_type": "display_data",
          "data": {
            "application/javascript": [
              "window[\"454305ea-9d97-11ec-955d-0242ac1c0002\"] = google.colab.output.setActiveOutputArea(window[\"45422058-9d97-11ec-955d-0242ac1c0002\"]);\n",
              "//# sourceURL=js_36e9d6b14d"
            ],
            "text/plain": [
              "<IPython.core.display.Javascript object>"
            ]
          },
          "metadata": {}
        },
        {
          "output_type": "display_data",
          "data": {
            "application/javascript": [
              "window[\"45596ba0-9d97-11ec-955d-0242ac1c0002\"] = google.colab.output.setActiveOutputArea(window[\"45419dea-9d97-11ec-955d-0242ac1c0002\"]);\n",
              "//# sourceURL=js_e177af91b7"
            ],
            "text/plain": [
              "<IPython.core.display.Javascript object>"
            ]
          },
          "metadata": {}
        },
        {
          "output_type": "display_data",
          "data": {
            "application/javascript": [
              "window[\"4579a1ea-9d97-11ec-955d-0242ac1c0002\"] = google.colab.output.getActiveOutputArea();\n",
              "//# sourceURL=js_7d111fb694"
            ],
            "text/plain": [
              "<IPython.core.display.Javascript object>"
            ]
          },
          "metadata": {}
        },
        {
          "output_type": "display_data",
          "data": {
            "application/javascript": [
              "window[\"4579e394-9d97-11ec-955d-0242ac1c0002\"] = document.querySelector(\"#id44-0-0\");\n",
              "//# sourceURL=js_589035e2a9"
            ],
            "text/plain": [
              "<IPython.core.display.Javascript object>"
            ]
          },
          "metadata": {}
        },
        {
          "output_type": "display_data",
          "data": {
            "application/javascript": [
              "window[\"457aa09a-9d97-11ec-955d-0242ac1c0002\"] = google.colab.output.setActiveOutputArea(window[\"4579e394-9d97-11ec-955d-0242ac1c0002\"]);\n",
              "//# sourceURL=js_e54a6a5aaf"
            ],
            "text/plain": [
              "<IPython.core.display.Javascript object>"
            ]
          },
          "metadata": {}
        },
        {
          "output_type": "display_data",
          "data": {
            "application/javascript": [
              "window[\"458f2894-9d97-11ec-955d-0242ac1c0002\"] = google.colab.output.setActiveOutputArea(window[\"4579a1ea-9d97-11ec-955d-0242ac1c0002\"]);\n",
              "//# sourceURL=js_ffc6232e20"
            ],
            "text/plain": [
              "<IPython.core.display.Javascript object>"
            ]
          },
          "metadata": {}
        },
        {
          "output_type": "display_data",
          "data": {
            "application/javascript": [
              "window[\"45afa268-9d97-11ec-955d-0242ac1c0002\"] = google.colab.output.getActiveOutputArea();\n",
              "//# sourceURL=js_2eda6a6674"
            ],
            "text/plain": [
              "<IPython.core.display.Javascript object>"
            ]
          },
          "metadata": {}
        },
        {
          "output_type": "display_data",
          "data": {
            "application/javascript": [
              "window[\"45afeb4c-9d97-11ec-955d-0242ac1c0002\"] = document.querySelector(\"#id44-0-0\");\n",
              "//# sourceURL=js_63b1f39f75"
            ],
            "text/plain": [
              "<IPython.core.display.Javascript object>"
            ]
          },
          "metadata": {}
        },
        {
          "output_type": "display_data",
          "data": {
            "application/javascript": [
              "window[\"45b045ba-9d97-11ec-955d-0242ac1c0002\"] = google.colab.output.setActiveOutputArea(window[\"45afeb4c-9d97-11ec-955d-0242ac1c0002\"]);\n",
              "//# sourceURL=js_9fd0b0a2c3"
            ],
            "text/plain": [
              "<IPython.core.display.Javascript object>"
            ]
          },
          "metadata": {}
        },
        {
          "output_type": "display_data",
          "data": {
            "application/javascript": [
              "window[\"45c54c1c-9d97-11ec-955d-0242ac1c0002\"] = google.colab.output.setActiveOutputArea(window[\"45afa268-9d97-11ec-955d-0242ac1c0002\"]);\n",
              "//# sourceURL=js_550ff40e18"
            ],
            "text/plain": [
              "<IPython.core.display.Javascript object>"
            ]
          },
          "metadata": {}
        },
        {
          "output_type": "display_data",
          "data": {
            "application/javascript": [
              "window[\"45e593d2-9d97-11ec-955d-0242ac1c0002\"] = google.colab.output.getActiveOutputArea();\n",
              "//# sourceURL=js_82e11a1162"
            ],
            "text/plain": [
              "<IPython.core.display.Javascript object>"
            ]
          },
          "metadata": {}
        },
        {
          "output_type": "display_data",
          "data": {
            "application/javascript": [
              "window[\"45e60ad8-9d97-11ec-955d-0242ac1c0002\"] = document.querySelector(\"#id44-0-0\");\n",
              "//# sourceURL=js_aa794dbcf1"
            ],
            "text/plain": [
              "<IPython.core.display.Javascript object>"
            ]
          },
          "metadata": {}
        },
        {
          "output_type": "display_data",
          "data": {
            "application/javascript": [
              "window[\"45e676d0-9d97-11ec-955d-0242ac1c0002\"] = google.colab.output.setActiveOutputArea(window[\"45e60ad8-9d97-11ec-955d-0242ac1c0002\"]);\n",
              "//# sourceURL=js_46bdf6a3c3"
            ],
            "text/plain": [
              "<IPython.core.display.Javascript object>"
            ]
          },
          "metadata": {}
        },
        {
          "output_type": "display_data",
          "data": {
            "application/javascript": [
              "window[\"4609a9f2-9d97-11ec-955d-0242ac1c0002\"] = google.colab.output.setActiveOutputArea(window[\"45e593d2-9d97-11ec-955d-0242ac1c0002\"]);\n",
              "//# sourceURL=js_bf5af15c43"
            ],
            "text/plain": [
              "<IPython.core.display.Javascript object>"
            ]
          },
          "metadata": {}
        },
        {
          "output_type": "display_data",
          "data": {
            "application/javascript": [
              "window[\"462c65b4-9d97-11ec-955d-0242ac1c0002\"] = google.colab.output.getActiveOutputArea();\n",
              "//# sourceURL=js_6a5c3c18f1"
            ],
            "text/plain": [
              "<IPython.core.display.Javascript object>"
            ]
          },
          "metadata": {}
        },
        {
          "output_type": "display_data",
          "data": {
            "application/javascript": [
              "window[\"462ca57e-9d97-11ec-955d-0242ac1c0002\"] = document.querySelector(\"#id44-0-0\");\n",
              "//# sourceURL=js_cf71dfd377"
            ],
            "text/plain": [
              "<IPython.core.display.Javascript object>"
            ]
          },
          "metadata": {}
        },
        {
          "output_type": "display_data",
          "data": {
            "application/javascript": [
              "window[\"462cf092-9d97-11ec-955d-0242ac1c0002\"] = google.colab.output.setActiveOutputArea(window[\"462ca57e-9d97-11ec-955d-0242ac1c0002\"]);\n",
              "//# sourceURL=js_a5c8cd008f"
            ],
            "text/plain": [
              "<IPython.core.display.Javascript object>"
            ]
          },
          "metadata": {}
        },
        {
          "output_type": "display_data",
          "data": {
            "application/javascript": [
              "window[\"464341c6-9d97-11ec-955d-0242ac1c0002\"] = google.colab.output.setActiveOutputArea(window[\"462c65b4-9d97-11ec-955d-0242ac1c0002\"]);\n",
              "//# sourceURL=js_ed6fbe6370"
            ],
            "text/plain": [
              "<IPython.core.display.Javascript object>"
            ]
          },
          "metadata": {}
        },
        {
          "output_type": "display_data",
          "data": {
            "application/javascript": [
              "window[\"466365d2-9d97-11ec-955d-0242ac1c0002\"] = google.colab.output.getActiveOutputArea();\n",
              "//# sourceURL=js_43a7bea155"
            ],
            "text/plain": [
              "<IPython.core.display.Javascript object>"
            ]
          },
          "metadata": {}
        },
        {
          "output_type": "display_data",
          "data": {
            "application/javascript": [
              "window[\"4663cdba-9d97-11ec-955d-0242ac1c0002\"] = document.querySelector(\"#id44-0-0\");\n",
              "//# sourceURL=js_e834543fb4"
            ],
            "text/plain": [
              "<IPython.core.display.Javascript object>"
            ]
          },
          "metadata": {}
        },
        {
          "output_type": "display_data",
          "data": {
            "application/javascript": [
              "window[\"46642738-9d97-11ec-955d-0242ac1c0002\"] = google.colab.output.setActiveOutputArea(window[\"4663cdba-9d97-11ec-955d-0242ac1c0002\"]);\n",
              "//# sourceURL=js_dd5024bbd0"
            ],
            "text/plain": [
              "<IPython.core.display.Javascript object>"
            ]
          },
          "metadata": {}
        },
        {
          "output_type": "display_data",
          "data": {
            "application/javascript": [
              "window[\"467a29d4-9d97-11ec-955d-0242ac1c0002\"] = google.colab.output.setActiveOutputArea(window[\"466365d2-9d97-11ec-955d-0242ac1c0002\"]);\n",
              "//# sourceURL=js_6d756a5394"
            ],
            "text/plain": [
              "<IPython.core.display.Javascript object>"
            ]
          },
          "metadata": {}
        },
        {
          "output_type": "display_data",
          "data": {
            "application/javascript": [
              "window[\"469aa0f6-9d97-11ec-955d-0242ac1c0002\"] = google.colab.output.getActiveOutputArea();\n",
              "//# sourceURL=js_9dd40a7ada"
            ],
            "text/plain": [
              "<IPython.core.display.Javascript object>"
            ]
          },
          "metadata": {}
        },
        {
          "output_type": "display_data",
          "data": {
            "application/javascript": [
              "window[\"469af27c-9d97-11ec-955d-0242ac1c0002\"] = document.querySelector(\"#id44-0-0\");\n",
              "//# sourceURL=js_292ae3bed4"
            ],
            "text/plain": [
              "<IPython.core.display.Javascript object>"
            ]
          },
          "metadata": {}
        },
        {
          "output_type": "display_data",
          "data": {
            "application/javascript": [
              "window[\"469b59c4-9d97-11ec-955d-0242ac1c0002\"] = google.colab.output.setActiveOutputArea(window[\"469af27c-9d97-11ec-955d-0242ac1c0002\"]);\n",
              "//# sourceURL=js_b4c5a0683e"
            ],
            "text/plain": [
              "<IPython.core.display.Javascript object>"
            ]
          },
          "metadata": {}
        },
        {
          "output_type": "display_data",
          "data": {
            "application/javascript": [
              "window[\"46af7710-9d97-11ec-955d-0242ac1c0002\"] = google.colab.output.setActiveOutputArea(window[\"469aa0f6-9d97-11ec-955d-0242ac1c0002\"]);\n",
              "//# sourceURL=js_83cdf7f6ce"
            ],
            "text/plain": [
              "<IPython.core.display.Javascript object>"
            ]
          },
          "metadata": {}
        },
        {
          "output_type": "display_data",
          "data": {
            "application/javascript": [
              "window[\"46cfca9c-9d97-11ec-955d-0242ac1c0002\"] = google.colab.output.getActiveOutputArea();\n",
              "//# sourceURL=js_62d003caae"
            ],
            "text/plain": [
              "<IPython.core.display.Javascript object>"
            ]
          },
          "metadata": {}
        },
        {
          "output_type": "display_data",
          "data": {
            "application/javascript": [
              "window[\"46d0139e-9d97-11ec-955d-0242ac1c0002\"] = document.querySelector(\"#id44-0-0\");\n",
              "//# sourceURL=js_c01db29b60"
            ],
            "text/plain": [
              "<IPython.core.display.Javascript object>"
            ]
          },
          "metadata": {}
        },
        {
          "output_type": "display_data",
          "data": {
            "application/javascript": [
              "window[\"46d05c5a-9d97-11ec-955d-0242ac1c0002\"] = google.colab.output.setActiveOutputArea(window[\"46d0139e-9d97-11ec-955d-0242ac1c0002\"]);\n",
              "//# sourceURL=js_bfca4124b7"
            ],
            "text/plain": [
              "<IPython.core.display.Javascript object>"
            ]
          },
          "metadata": {}
        },
        {
          "output_type": "display_data",
          "data": {
            "application/javascript": [
              "window[\"46e6ed62-9d97-11ec-955d-0242ac1c0002\"] = google.colab.output.setActiveOutputArea(window[\"46cfca9c-9d97-11ec-955d-0242ac1c0002\"]);\n",
              "//# sourceURL=js_91d13d650f"
            ],
            "text/plain": [
              "<IPython.core.display.Javascript object>"
            ]
          },
          "metadata": {}
        },
        {
          "output_type": "display_data",
          "data": {
            "application/javascript": [
              "window[\"47072302-9d97-11ec-955d-0242ac1c0002\"] = google.colab.output.getActiveOutputArea();\n",
              "//# sourceURL=js_b3cf44a2f3"
            ],
            "text/plain": [
              "<IPython.core.display.Javascript object>"
            ]
          },
          "metadata": {}
        },
        {
          "output_type": "display_data",
          "data": {
            "application/javascript": [
              "window[\"47076b46-9d97-11ec-955d-0242ac1c0002\"] = document.querySelector(\"#id44-0-0\");\n",
              "//# sourceURL=js_f8572917ad"
            ],
            "text/plain": [
              "<IPython.core.display.Javascript object>"
            ]
          },
          "metadata": {}
        },
        {
          "output_type": "display_data",
          "data": {
            "application/javascript": [
              "window[\"470859de-9d97-11ec-955d-0242ac1c0002\"] = google.colab.output.setActiveOutputArea(window[\"47076b46-9d97-11ec-955d-0242ac1c0002\"]);\n",
              "//# sourceURL=js_d5bf3db181"
            ],
            "text/plain": [
              "<IPython.core.display.Javascript object>"
            ]
          },
          "metadata": {}
        },
        {
          "output_type": "display_data",
          "data": {
            "application/javascript": [
              "window[\"471cae16-9d97-11ec-955d-0242ac1c0002\"] = google.colab.output.setActiveOutputArea(window[\"47072302-9d97-11ec-955d-0242ac1c0002\"]);\n",
              "//# sourceURL=js_1745a23345"
            ],
            "text/plain": [
              "<IPython.core.display.Javascript object>"
            ]
          },
          "metadata": {}
        },
        {
          "output_type": "display_data",
          "data": {
            "application/javascript": [
              "window[\"473e3284-9d97-11ec-955d-0242ac1c0002\"] = google.colab.output.getActiveOutputArea();\n",
              "//# sourceURL=js_2eea0070b7"
            ],
            "text/plain": [
              "<IPython.core.display.Javascript object>"
            ]
          },
          "metadata": {}
        },
        {
          "output_type": "display_data",
          "data": {
            "application/javascript": [
              "window[\"473e729e-9d97-11ec-955d-0242ac1c0002\"] = document.querySelector(\"#id44-0-0\");\n",
              "//# sourceURL=js_e78eff7b69"
            ],
            "text/plain": [
              "<IPython.core.display.Javascript object>"
            ]
          },
          "metadata": {}
        },
        {
          "output_type": "display_data",
          "data": {
            "application/javascript": [
              "window[\"473ef818-9d97-11ec-955d-0242ac1c0002\"] = google.colab.output.setActiveOutputArea(window[\"473e729e-9d97-11ec-955d-0242ac1c0002\"]);\n",
              "//# sourceURL=js_9edccf14bb"
            ],
            "text/plain": [
              "<IPython.core.display.Javascript object>"
            ]
          },
          "metadata": {}
        },
        {
          "output_type": "display_data",
          "data": {
            "application/javascript": [
              "window[\"47561e9e-9d97-11ec-955d-0242ac1c0002\"] = google.colab.output.setActiveOutputArea(window[\"473e3284-9d97-11ec-955d-0242ac1c0002\"]);\n",
              "//# sourceURL=js_8294616271"
            ],
            "text/plain": [
              "<IPython.core.display.Javascript object>"
            ]
          },
          "metadata": {}
        },
        {
          "output_type": "display_data",
          "data": {
            "application/javascript": [
              "window[\"47789d3e-9d97-11ec-955d-0242ac1c0002\"] = google.colab.output.getActiveOutputArea();\n",
              "//# sourceURL=js_f64632cabb"
            ],
            "text/plain": [
              "<IPython.core.display.Javascript object>"
            ]
          },
          "metadata": {}
        },
        {
          "output_type": "display_data",
          "data": {
            "application/javascript": [
              "window[\"4778ea28-9d97-11ec-955d-0242ac1c0002\"] = document.querySelector(\"#id44-0-0\");\n",
              "//# sourceURL=js_47ab32d79d"
            ],
            "text/plain": [
              "<IPython.core.display.Javascript object>"
            ]
          },
          "metadata": {}
        },
        {
          "output_type": "display_data",
          "data": {
            "application/javascript": [
              "window[\"4779506c-9d97-11ec-955d-0242ac1c0002\"] = google.colab.output.setActiveOutputArea(window[\"4778ea28-9d97-11ec-955d-0242ac1c0002\"]);\n",
              "//# sourceURL=js_587e49bc9c"
            ],
            "text/plain": [
              "<IPython.core.display.Javascript object>"
            ]
          },
          "metadata": {}
        },
        {
          "output_type": "display_data",
          "data": {
            "application/javascript": [
              "window[\"478ed9d2-9d97-11ec-955d-0242ac1c0002\"] = google.colab.output.setActiveOutputArea(window[\"47789d3e-9d97-11ec-955d-0242ac1c0002\"]);\n",
              "//# sourceURL=js_20573ad6ec"
            ],
            "text/plain": [
              "<IPython.core.display.Javascript object>"
            ]
          },
          "metadata": {}
        },
        {
          "output_type": "display_data",
          "data": {
            "application/javascript": [
              "window[\"47af708e-9d97-11ec-955d-0242ac1c0002\"] = google.colab.output.getActiveOutputArea();\n",
              "//# sourceURL=js_ec55e999dc"
            ],
            "text/plain": [
              "<IPython.core.display.Javascript object>"
            ]
          },
          "metadata": {}
        },
        {
          "output_type": "display_data",
          "data": {
            "application/javascript": [
              "window[\"47b00a4e-9d97-11ec-955d-0242ac1c0002\"] = document.querySelector(\"#id44-0-0\");\n",
              "//# sourceURL=js_5aed5bfed9"
            ],
            "text/plain": [
              "<IPython.core.display.Javascript object>"
            ]
          },
          "metadata": {}
        },
        {
          "output_type": "display_data",
          "data": {
            "application/javascript": [
              "window[\"47b0603e-9d97-11ec-955d-0242ac1c0002\"] = google.colab.output.setActiveOutputArea(window[\"47b00a4e-9d97-11ec-955d-0242ac1c0002\"]);\n",
              "//# sourceURL=js_89cdb284dd"
            ],
            "text/plain": [
              "<IPython.core.display.Javascript object>"
            ]
          },
          "metadata": {}
        },
        {
          "output_type": "display_data",
          "data": {
            "application/javascript": [
              "window[\"47c5456c-9d97-11ec-955d-0242ac1c0002\"] = google.colab.output.setActiveOutputArea(window[\"47af708e-9d97-11ec-955d-0242ac1c0002\"]);\n",
              "//# sourceURL=js_d0d01a7b29"
            ],
            "text/plain": [
              "<IPython.core.display.Javascript object>"
            ]
          },
          "metadata": {}
        },
        {
          "output_type": "display_data",
          "data": {
            "application/javascript": [
              "window[\"47e5922c-9d97-11ec-955d-0242ac1c0002\"] = google.colab.output.getActiveOutputArea();\n",
              "//# sourceURL=js_c3e806075c"
            ],
            "text/plain": [
              "<IPython.core.display.Javascript object>"
            ]
          },
          "metadata": {}
        },
        {
          "output_type": "display_data",
          "data": {
            "application/javascript": [
              "window[\"47e5d66a-9d97-11ec-955d-0242ac1c0002\"] = document.querySelector(\"#id44-0-0\");\n",
              "//# sourceURL=js_ad687ed672"
            ],
            "text/plain": [
              "<IPython.core.display.Javascript object>"
            ]
          },
          "metadata": {}
        },
        {
          "output_type": "display_data",
          "data": {
            "application/javascript": [
              "window[\"47e63bf0-9d97-11ec-955d-0242ac1c0002\"] = google.colab.output.setActiveOutputArea(window[\"47e5d66a-9d97-11ec-955d-0242ac1c0002\"]);\n",
              "//# sourceURL=js_69e77822dc"
            ],
            "text/plain": [
              "<IPython.core.display.Javascript object>"
            ]
          },
          "metadata": {}
        },
        {
          "output_type": "display_data",
          "data": {
            "application/javascript": [
              "window[\"47fc1c90-9d97-11ec-955d-0242ac1c0002\"] = google.colab.output.setActiveOutputArea(window[\"47e5922c-9d97-11ec-955d-0242ac1c0002\"]);\n",
              "//# sourceURL=js_53c8ef7e7e"
            ],
            "text/plain": [
              "<IPython.core.display.Javascript object>"
            ]
          },
          "metadata": {}
        },
        {
          "output_type": "display_data",
          "data": {
            "application/javascript": [
              "window[\"481e909a-9d97-11ec-955d-0242ac1c0002\"] = google.colab.output.getActiveOutputArea();\n",
              "//# sourceURL=js_caf0866246"
            ],
            "text/plain": [
              "<IPython.core.display.Javascript object>"
            ]
          },
          "metadata": {}
        },
        {
          "output_type": "display_data",
          "data": {
            "application/javascript": [
              "window[\"481eeb3a-9d97-11ec-955d-0242ac1c0002\"] = document.querySelector(\"#id44-0-0\");\n",
              "//# sourceURL=js_527fd6873a"
            ],
            "text/plain": [
              "<IPython.core.display.Javascript object>"
            ]
          },
          "metadata": {}
        },
        {
          "output_type": "display_data",
          "data": {
            "application/javascript": [
              "window[\"481f5e94-9d97-11ec-955d-0242ac1c0002\"] = google.colab.output.setActiveOutputArea(window[\"481eeb3a-9d97-11ec-955d-0242ac1c0002\"]);\n",
              "//# sourceURL=js_5a46ee98aa"
            ],
            "text/plain": [
              "<IPython.core.display.Javascript object>"
            ]
          },
          "metadata": {}
        },
        {
          "output_type": "display_data",
          "data": {
            "application/javascript": [
              "window[\"4836fca2-9d97-11ec-955d-0242ac1c0002\"] = google.colab.output.setActiveOutputArea(window[\"481e909a-9d97-11ec-955d-0242ac1c0002\"]);\n",
              "//# sourceURL=js_76bd6e17eb"
            ],
            "text/plain": [
              "<IPython.core.display.Javascript object>"
            ]
          },
          "metadata": {}
        },
        {
          "output_type": "display_data",
          "data": {
            "application/javascript": [
              "window[\"4858f71c-9d97-11ec-955d-0242ac1c0002\"] = google.colab.output.getActiveOutputArea();\n",
              "//# sourceURL=js_77b2cba3f8"
            ],
            "text/plain": [
              "<IPython.core.display.Javascript object>"
            ]
          },
          "metadata": {}
        },
        {
          "output_type": "display_data",
          "data": {
            "application/javascript": [
              "window[\"4859502c-9d97-11ec-955d-0242ac1c0002\"] = document.querySelector(\"#id44-0-0\");\n",
              "//# sourceURL=js_654dda9e23"
            ],
            "text/plain": [
              "<IPython.core.display.Javascript object>"
            ]
          },
          "metadata": {}
        },
        {
          "output_type": "display_data",
          "data": {
            "application/javascript": [
              "window[\"485995c8-9d97-11ec-955d-0242ac1c0002\"] = google.colab.output.setActiveOutputArea(window[\"4859502c-9d97-11ec-955d-0242ac1c0002\"]);\n",
              "//# sourceURL=js_0993e9226f"
            ],
            "text/plain": [
              "<IPython.core.display.Javascript object>"
            ]
          },
          "metadata": {}
        },
        {
          "output_type": "display_data",
          "data": {
            "application/javascript": [
              "window[\"486eae54-9d97-11ec-955d-0242ac1c0002\"] = google.colab.output.setActiveOutputArea(window[\"4858f71c-9d97-11ec-955d-0242ac1c0002\"]);\n",
              "//# sourceURL=js_266293cb2b"
            ],
            "text/plain": [
              "<IPython.core.display.Javascript object>"
            ]
          },
          "metadata": {}
        },
        {
          "output_type": "display_data",
          "data": {
            "application/javascript": [
              "window[\"488f0a32-9d97-11ec-955d-0242ac1c0002\"] = google.colab.output.getActiveOutputArea();\n",
              "//# sourceURL=js_3f41f827c6"
            ],
            "text/plain": [
              "<IPython.core.display.Javascript object>"
            ]
          },
          "metadata": {}
        },
        {
          "output_type": "display_data",
          "data": {
            "application/javascript": [
              "window[\"488f6cc0-9d97-11ec-955d-0242ac1c0002\"] = document.querySelector(\"#id44-0-0\");\n",
              "//# sourceURL=js_f379dbf017"
            ],
            "text/plain": [
              "<IPython.core.display.Javascript object>"
            ]
          },
          "metadata": {}
        },
        {
          "output_type": "display_data",
          "data": {
            "application/javascript": [
              "window[\"488fe7ea-9d97-11ec-955d-0242ac1c0002\"] = google.colab.output.setActiveOutputArea(window[\"488f6cc0-9d97-11ec-955d-0242ac1c0002\"]);\n",
              "//# sourceURL=js_a7906e7794"
            ],
            "text/plain": [
              "<IPython.core.display.Javascript object>"
            ]
          },
          "metadata": {}
        },
        {
          "output_type": "display_data",
          "data": {
            "application/javascript": [
              "window[\"48a4d0f6-9d97-11ec-955d-0242ac1c0002\"] = google.colab.output.setActiveOutputArea(window[\"488f0a32-9d97-11ec-955d-0242ac1c0002\"]);\n",
              "//# sourceURL=js_b5fb5b896e"
            ],
            "text/plain": [
              "<IPython.core.display.Javascript object>"
            ]
          },
          "metadata": {}
        },
        {
          "output_type": "display_data",
          "data": {
            "application/javascript": [
              "window[\"48c5570e-9d97-11ec-955d-0242ac1c0002\"] = google.colab.output.getActiveOutputArea();\n",
              "//# sourceURL=js_85c0a1b21a"
            ],
            "text/plain": [
              "<IPython.core.display.Javascript object>"
            ]
          },
          "metadata": {}
        },
        {
          "output_type": "display_data",
          "data": {
            "application/javascript": [
              "window[\"48c5a916-9d97-11ec-955d-0242ac1c0002\"] = document.querySelector(\"#id44-0-0\");\n",
              "//# sourceURL=js_deec4357fe"
            ],
            "text/plain": [
              "<IPython.core.display.Javascript object>"
            ]
          },
          "metadata": {}
        },
        {
          "output_type": "display_data",
          "data": {
            "application/javascript": [
              "window[\"48c60e9c-9d97-11ec-955d-0242ac1c0002\"] = google.colab.output.setActiveOutputArea(window[\"48c5a916-9d97-11ec-955d-0242ac1c0002\"]);\n",
              "//# sourceURL=js_472bc45bdd"
            ],
            "text/plain": [
              "<IPython.core.display.Javascript object>"
            ]
          },
          "metadata": {}
        },
        {
          "output_type": "display_data",
          "data": {
            "application/javascript": [
              "window[\"48dac2ce-9d97-11ec-955d-0242ac1c0002\"] = google.colab.output.setActiveOutputArea(window[\"48c5570e-9d97-11ec-955d-0242ac1c0002\"]);\n",
              "//# sourceURL=js_533cb51cf8"
            ],
            "text/plain": [
              "<IPython.core.display.Javascript object>"
            ]
          },
          "metadata": {}
        },
        {
          "output_type": "display_data",
          "data": {
            "application/javascript": [
              "window[\"48fb6d26-9d97-11ec-955d-0242ac1c0002\"] = google.colab.output.getActiveOutputArea();\n",
              "//# sourceURL=js_a2c86c9867"
            ],
            "text/plain": [
              "<IPython.core.display.Javascript object>"
            ]
          },
          "metadata": {}
        },
        {
          "output_type": "display_data",
          "data": {
            "application/javascript": [
              "window[\"48fbc226-9d97-11ec-955d-0242ac1c0002\"] = document.querySelector(\"#id44-0-0\");\n",
              "//# sourceURL=js_6464781f57"
            ],
            "text/plain": [
              "<IPython.core.display.Javascript object>"
            ]
          },
          "metadata": {}
        },
        {
          "output_type": "display_data",
          "data": {
            "application/javascript": [
              "window[\"48fc1438-9d97-11ec-955d-0242ac1c0002\"] = google.colab.output.setActiveOutputArea(window[\"48fbc226-9d97-11ec-955d-0242ac1c0002\"]);\n",
              "//# sourceURL=js_88d7e68813"
            ],
            "text/plain": [
              "<IPython.core.display.Javascript object>"
            ]
          },
          "metadata": {}
        },
        {
          "output_type": "display_data",
          "data": {
            "application/javascript": [
              "window[\"491116ee-9d97-11ec-955d-0242ac1c0002\"] = google.colab.output.setActiveOutputArea(window[\"48fb6d26-9d97-11ec-955d-0242ac1c0002\"]);\n",
              "//# sourceURL=js_6279f018df"
            ],
            "text/plain": [
              "<IPython.core.display.Javascript object>"
            ]
          },
          "metadata": {}
        },
        {
          "output_type": "display_data",
          "data": {
            "application/javascript": [
              "window[\"4931a4e0-9d97-11ec-955d-0242ac1c0002\"] = google.colab.output.getActiveOutputArea();\n",
              "//# sourceURL=js_2794ae6bbe"
            ],
            "text/plain": [
              "<IPython.core.display.Javascript object>"
            ]
          },
          "metadata": {}
        },
        {
          "output_type": "display_data",
          "data": {
            "application/javascript": [
              "window[\"4931de92-9d97-11ec-955d-0242ac1c0002\"] = document.querySelector(\"#id44-0-0\");\n",
              "//# sourceURL=js_8e3b308d56"
            ],
            "text/plain": [
              "<IPython.core.display.Javascript object>"
            ]
          },
          "metadata": {}
        },
        {
          "output_type": "display_data",
          "data": {
            "application/javascript": [
              "window[\"493212c2-9d97-11ec-955d-0242ac1c0002\"] = google.colab.output.setActiveOutputArea(window[\"4931de92-9d97-11ec-955d-0242ac1c0002\"]);\n",
              "//# sourceURL=js_594df31274"
            ],
            "text/plain": [
              "<IPython.core.display.Javascript object>"
            ]
          },
          "metadata": {}
        },
        {
          "output_type": "display_data",
          "data": {
            "application/javascript": [
              "window[\"49554832-9d97-11ec-955d-0242ac1c0002\"] = google.colab.output.setActiveOutputArea(window[\"4931a4e0-9d97-11ec-955d-0242ac1c0002\"]);\n",
              "//# sourceURL=js_e3cf3ae82d"
            ],
            "text/plain": [
              "<IPython.core.display.Javascript object>"
            ]
          },
          "metadata": {}
        },
        {
          "output_type": "display_data",
          "data": {
            "application/javascript": [
              "window[\"4975c698-9d97-11ec-955d-0242ac1c0002\"] = google.colab.output.getActiveOutputArea();\n",
              "//# sourceURL=js_c736106de7"
            ],
            "text/plain": [
              "<IPython.core.display.Javascript object>"
            ]
          },
          "metadata": {}
        },
        {
          "output_type": "display_data",
          "data": {
            "application/javascript": [
              "window[\"49760e3c-9d97-11ec-955d-0242ac1c0002\"] = document.querySelector(\"#id44-0-0\");\n",
              "//# sourceURL=js_4fb01bf6e7"
            ],
            "text/plain": [
              "<IPython.core.display.Javascript object>"
            ]
          },
          "metadata": {}
        },
        {
          "output_type": "display_data",
          "data": {
            "application/javascript": [
              "window[\"4976ace8-9d97-11ec-955d-0242ac1c0002\"] = google.colab.output.setActiveOutputArea(window[\"49760e3c-9d97-11ec-955d-0242ac1c0002\"]);\n",
              "//# sourceURL=js_b5e201ea20"
            ],
            "text/plain": [
              "<IPython.core.display.Javascript object>"
            ]
          },
          "metadata": {}
        },
        {
          "output_type": "display_data",
          "data": {
            "application/javascript": [
              "window[\"498ccf78-9d97-11ec-955d-0242ac1c0002\"] = google.colab.output.setActiveOutputArea(window[\"4975c698-9d97-11ec-955d-0242ac1c0002\"]);\n",
              "//# sourceURL=js_3bb4888e65"
            ],
            "text/plain": [
              "<IPython.core.display.Javascript object>"
            ]
          },
          "metadata": {}
        },
        {
          "output_type": "display_data",
          "data": {
            "application/javascript": [
              "window[\"49ad1e40-9d97-11ec-955d-0242ac1c0002\"] = google.colab.output.getActiveOutputArea();\n",
              "//# sourceURL=js_0c86218a6d"
            ],
            "text/plain": [
              "<IPython.core.display.Javascript object>"
            ]
          },
          "metadata": {}
        },
        {
          "output_type": "display_data",
          "data": {
            "application/javascript": [
              "window[\"49ad7d22-9d97-11ec-955d-0242ac1c0002\"] = document.querySelector(\"#id44-0-0\");\n",
              "//# sourceURL=js_8139e04da5"
            ],
            "text/plain": [
              "<IPython.core.display.Javascript object>"
            ]
          },
          "metadata": {}
        },
        {
          "output_type": "display_data",
          "data": {
            "application/javascript": [
              "window[\"49adcf02-9d97-11ec-955d-0242ac1c0002\"] = google.colab.output.setActiveOutputArea(window[\"49ad7d22-9d97-11ec-955d-0242ac1c0002\"]);\n",
              "//# sourceURL=js_3f3f02b5ea"
            ],
            "text/plain": [
              "<IPython.core.display.Javascript object>"
            ]
          },
          "metadata": {}
        },
        {
          "output_type": "display_data",
          "data": {
            "application/javascript": [
              "window[\"49c46c58-9d97-11ec-955d-0242ac1c0002\"] = google.colab.output.setActiveOutputArea(window[\"49ad1e40-9d97-11ec-955d-0242ac1c0002\"]);\n",
              "//# sourceURL=js_64ea60fd4d"
            ],
            "text/plain": [
              "<IPython.core.display.Javascript object>"
            ]
          },
          "metadata": {}
        },
        {
          "output_type": "display_data",
          "data": {
            "application/javascript": [
              "window[\"49e6efbc-9d97-11ec-955d-0242ac1c0002\"] = google.colab.output.getActiveOutputArea();\n",
              "//# sourceURL=js_3a061eef04"
            ],
            "text/plain": [
              "<IPython.core.display.Javascript object>"
            ]
          },
          "metadata": {}
        },
        {
          "output_type": "display_data",
          "data": {
            "application/javascript": [
              "window[\"49e7408e-9d97-11ec-955d-0242ac1c0002\"] = document.querySelector(\"#id44-0-0\");\n",
              "//# sourceURL=js_769f195281"
            ],
            "text/plain": [
              "<IPython.core.display.Javascript object>"
            ]
          },
          "metadata": {}
        },
        {
          "output_type": "display_data",
          "data": {
            "application/javascript": [
              "window[\"49e79b42-9d97-11ec-955d-0242ac1c0002\"] = google.colab.output.setActiveOutputArea(window[\"49e7408e-9d97-11ec-955d-0242ac1c0002\"]);\n",
              "//# sourceURL=js_761cf4b66e"
            ],
            "text/plain": [
              "<IPython.core.display.Javascript object>"
            ]
          },
          "metadata": {}
        },
        {
          "output_type": "display_data",
          "data": {
            "application/javascript": [
              "window[\"49fee98c-9d97-11ec-955d-0242ac1c0002\"] = google.colab.output.setActiveOutputArea(window[\"49e6efbc-9d97-11ec-955d-0242ac1c0002\"]);\n",
              "//# sourceURL=js_05301802d0"
            ],
            "text/plain": [
              "<IPython.core.display.Javascript object>"
            ]
          },
          "metadata": {}
        },
        {
          "output_type": "display_data",
          "data": {
            "application/javascript": [
              "window[\"4a218460-9d97-11ec-955d-0242ac1c0002\"] = google.colab.output.getActiveOutputArea();\n",
              "//# sourceURL=js_66a5c7b5a6"
            ],
            "text/plain": [
              "<IPython.core.display.Javascript object>"
            ]
          },
          "metadata": {}
        },
        {
          "output_type": "display_data",
          "data": {
            "application/javascript": [
              "window[\"4a21d97e-9d97-11ec-955d-0242ac1c0002\"] = document.querySelector(\"#id44-0-0\");\n",
              "//# sourceURL=js_50ca6cf715"
            ],
            "text/plain": [
              "<IPython.core.display.Javascript object>"
            ]
          },
          "metadata": {}
        },
        {
          "output_type": "display_data",
          "data": {
            "application/javascript": [
              "window[\"4a2251ba-9d97-11ec-955d-0242ac1c0002\"] = google.colab.output.setActiveOutputArea(window[\"4a21d97e-9d97-11ec-955d-0242ac1c0002\"]);\n",
              "//# sourceURL=js_38a84f9a8a"
            ],
            "text/plain": [
              "<IPython.core.display.Javascript object>"
            ]
          },
          "metadata": {}
        },
        {
          "output_type": "display_data",
          "data": {
            "application/javascript": [
              "window[\"4a38636a-9d97-11ec-955d-0242ac1c0002\"] = google.colab.output.setActiveOutputArea(window[\"4a218460-9d97-11ec-955d-0242ac1c0002\"]);\n",
              "//# sourceURL=js_d7f405b64e"
            ],
            "text/plain": [
              "<IPython.core.display.Javascript object>"
            ]
          },
          "metadata": {}
        },
        {
          "output_type": "display_data",
          "data": {
            "application/javascript": [
              "window[\"4a58d960-9d97-11ec-955d-0242ac1c0002\"] = google.colab.output.getActiveOutputArea();\n",
              "//# sourceURL=js_d8979082f5"
            ],
            "text/plain": [
              "<IPython.core.display.Javascript object>"
            ]
          },
          "metadata": {}
        },
        {
          "output_type": "display_data",
          "data": {
            "application/javascript": [
              "window[\"4a593324-9d97-11ec-955d-0242ac1c0002\"] = document.querySelector(\"#id44-0-0\");\n",
              "//# sourceURL=js_205b27be8b"
            ],
            "text/plain": [
              "<IPython.core.display.Javascript object>"
            ]
          },
          "metadata": {}
        },
        {
          "output_type": "display_data",
          "data": {
            "application/javascript": [
              "window[\"4a598590-9d97-11ec-955d-0242ac1c0002\"] = google.colab.output.setActiveOutputArea(window[\"4a593324-9d97-11ec-955d-0242ac1c0002\"]);\n",
              "//# sourceURL=js_7d02294597"
            ],
            "text/plain": [
              "<IPython.core.display.Javascript object>"
            ]
          },
          "metadata": {}
        },
        {
          "output_type": "display_data",
          "data": {
            "application/javascript": [
              "window[\"4a70914a-9d97-11ec-955d-0242ac1c0002\"] = google.colab.output.setActiveOutputArea(window[\"4a58d960-9d97-11ec-955d-0242ac1c0002\"]);\n",
              "//# sourceURL=js_587d45c4d7"
            ],
            "text/plain": [
              "<IPython.core.display.Javascript object>"
            ]
          },
          "metadata": {}
        },
        {
          "output_type": "display_data",
          "data": {
            "application/javascript": [
              "window[\"4a90fd72-9d97-11ec-955d-0242ac1c0002\"] = google.colab.output.getActiveOutputArea();\n",
              "//# sourceURL=js_3d40e062a3"
            ],
            "text/plain": [
              "<IPython.core.display.Javascript object>"
            ]
          },
          "metadata": {}
        },
        {
          "output_type": "display_data",
          "data": {
            "application/javascript": [
              "window[\"4a914ade-9d97-11ec-955d-0242ac1c0002\"] = document.querySelector(\"#id44-0-0\");\n",
              "//# sourceURL=js_c82102b02b"
            ],
            "text/plain": [
              "<IPython.core.display.Javascript object>"
            ]
          },
          "metadata": {}
        },
        {
          "output_type": "display_data",
          "data": {
            "application/javascript": [
              "window[\"4a91aff6-9d97-11ec-955d-0242ac1c0002\"] = google.colab.output.setActiveOutputArea(window[\"4a914ade-9d97-11ec-955d-0242ac1c0002\"]);\n",
              "//# sourceURL=js_8299cce4a7"
            ],
            "text/plain": [
              "<IPython.core.display.Javascript object>"
            ]
          },
          "metadata": {}
        },
        {
          "output_type": "display_data",
          "data": {
            "application/javascript": [
              "window[\"4aa7c6c4-9d97-11ec-955d-0242ac1c0002\"] = google.colab.output.setActiveOutputArea(window[\"4a90fd72-9d97-11ec-955d-0242ac1c0002\"]);\n",
              "//# sourceURL=js_d467e5c348"
            ],
            "text/plain": [
              "<IPython.core.display.Javascript object>"
            ]
          },
          "metadata": {}
        },
        {
          "output_type": "display_data",
          "data": {
            "application/javascript": [
              "window[\"4ac8452a-9d97-11ec-955d-0242ac1c0002\"] = google.colab.output.getActiveOutputArea();\n",
              "//# sourceURL=js_1338ed1c20"
            ],
            "text/plain": [
              "<IPython.core.display.Javascript object>"
            ]
          },
          "metadata": {}
        },
        {
          "output_type": "display_data",
          "data": {
            "application/javascript": [
              "window[\"4ac8b99c-9d97-11ec-955d-0242ac1c0002\"] = document.querySelector(\"#id44-0-0\");\n",
              "//# sourceURL=js_1259f2db0c"
            ],
            "text/plain": [
              "<IPython.core.display.Javascript object>"
            ]
          },
          "metadata": {}
        },
        {
          "output_type": "display_data",
          "data": {
            "application/javascript": [
              "window[\"4ac90e92-9d97-11ec-955d-0242ac1c0002\"] = google.colab.output.setActiveOutputArea(window[\"4ac8b99c-9d97-11ec-955d-0242ac1c0002\"]);\n",
              "//# sourceURL=js_e141ba28d5"
            ],
            "text/plain": [
              "<IPython.core.display.Javascript object>"
            ]
          },
          "metadata": {}
        },
        {
          "output_type": "display_data",
          "data": {
            "application/javascript": [
              "window[\"4ade859c-9d97-11ec-955d-0242ac1c0002\"] = google.colab.output.setActiveOutputArea(window[\"4ac8452a-9d97-11ec-955d-0242ac1c0002\"]);\n",
              "//# sourceURL=js_567a548588"
            ],
            "text/plain": [
              "<IPython.core.display.Javascript object>"
            ]
          },
          "metadata": {}
        },
        {
          "output_type": "display_data",
          "data": {
            "application/javascript": [
              "window[\"4aff0812-9d97-11ec-955d-0242ac1c0002\"] = google.colab.output.getActiveOutputArea();\n",
              "//# sourceURL=js_45433a6c4b"
            ],
            "text/plain": [
              "<IPython.core.display.Javascript object>"
            ]
          },
          "metadata": {}
        },
        {
          "output_type": "display_data",
          "data": {
            "application/javascript": [
              "window[\"4aff6e88-9d97-11ec-955d-0242ac1c0002\"] = document.querySelector(\"#id44-0-0\");\n",
              "//# sourceURL=js_240e9d542f"
            ],
            "text/plain": [
              "<IPython.core.display.Javascript object>"
            ]
          },
          "metadata": {}
        },
        {
          "output_type": "display_data",
          "data": {
            "application/javascript": [
              "window[\"4affcbf8-9d97-11ec-955d-0242ac1c0002\"] = google.colab.output.setActiveOutputArea(window[\"4aff6e88-9d97-11ec-955d-0242ac1c0002\"]);\n",
              "//# sourceURL=js_44fd4cb4fc"
            ],
            "text/plain": [
              "<IPython.core.display.Javascript object>"
            ]
          },
          "metadata": {}
        },
        {
          "output_type": "display_data",
          "data": {
            "application/javascript": [
              "window[\"4b1578cc-9d97-11ec-955d-0242ac1c0002\"] = google.colab.output.setActiveOutputArea(window[\"4aff0812-9d97-11ec-955d-0242ac1c0002\"]);\n",
              "//# sourceURL=js_368942bad7"
            ],
            "text/plain": [
              "<IPython.core.display.Javascript object>"
            ]
          },
          "metadata": {}
        },
        {
          "output_type": "display_data",
          "data": {
            "application/javascript": [
              "window[\"4b35ff2a-9d97-11ec-955d-0242ac1c0002\"] = google.colab.output.getActiveOutputArea();\n",
              "//# sourceURL=js_7c6be306b6"
            ],
            "text/plain": [
              "<IPython.core.display.Javascript object>"
            ]
          },
          "metadata": {}
        },
        {
          "output_type": "display_data",
          "data": {
            "application/javascript": [
              "window[\"4b3657b8-9d97-11ec-955d-0242ac1c0002\"] = document.querySelector(\"#id44-0-0\");\n",
              "//# sourceURL=js_84ee80d1e2"
            ],
            "text/plain": [
              "<IPython.core.display.Javascript object>"
            ]
          },
          "metadata": {}
        },
        {
          "output_type": "display_data",
          "data": {
            "application/javascript": [
              "window[\"4b36b9b0-9d97-11ec-955d-0242ac1c0002\"] = google.colab.output.setActiveOutputArea(window[\"4b3657b8-9d97-11ec-955d-0242ac1c0002\"]);\n",
              "//# sourceURL=js_60de44d5a9"
            ],
            "text/plain": [
              "<IPython.core.display.Javascript object>"
            ]
          },
          "metadata": {}
        },
        {
          "output_type": "display_data",
          "data": {
            "application/javascript": [
              "window[\"4b4bcfc6-9d97-11ec-955d-0242ac1c0002\"] = google.colab.output.setActiveOutputArea(window[\"4b35ff2a-9d97-11ec-955d-0242ac1c0002\"]);\n",
              "//# sourceURL=js_9c5c3453ff"
            ],
            "text/plain": [
              "<IPython.core.display.Javascript object>"
            ]
          },
          "metadata": {}
        },
        {
          "output_type": "display_data",
          "data": {
            "application/javascript": [
              "window[\"4b6c2bc2-9d97-11ec-955d-0242ac1c0002\"] = google.colab.output.getActiveOutputArea();\n",
              "//# sourceURL=js_c13a006199"
            ],
            "text/plain": [
              "<IPython.core.display.Javascript object>"
            ]
          },
          "metadata": {}
        },
        {
          "output_type": "display_data",
          "data": {
            "application/javascript": [
              "window[\"4b6c8b76-9d97-11ec-955d-0242ac1c0002\"] = document.querySelector(\"#id44-0-0\");\n",
              "//# sourceURL=js_8d8b67729e"
            ],
            "text/plain": [
              "<IPython.core.display.Javascript object>"
            ]
          },
          "metadata": {}
        },
        {
          "output_type": "display_data",
          "data": {
            "application/javascript": [
              "window[\"4b6cdd9c-9d97-11ec-955d-0242ac1c0002\"] = google.colab.output.setActiveOutputArea(window[\"4b6c8b76-9d97-11ec-955d-0242ac1c0002\"]);\n",
              "//# sourceURL=js_77b4956a37"
            ],
            "text/plain": [
              "<IPython.core.display.Javascript object>"
            ]
          },
          "metadata": {}
        },
        {
          "output_type": "display_data",
          "data": {
            "application/javascript": [
              "window[\"4b81a380-9d97-11ec-955d-0242ac1c0002\"] = google.colab.output.setActiveOutputArea(window[\"4b6c2bc2-9d97-11ec-955d-0242ac1c0002\"]);\n",
              "//# sourceURL=js_133ba8e96d"
            ],
            "text/plain": [
              "<IPython.core.display.Javascript object>"
            ]
          },
          "metadata": {}
        },
        {
          "output_type": "display_data",
          "data": {
            "application/javascript": [
              "window[\"4ba1fa7c-9d97-11ec-955d-0242ac1c0002\"] = google.colab.output.getActiveOutputArea();\n",
              "//# sourceURL=js_4ce29eacb7"
            ],
            "text/plain": [
              "<IPython.core.display.Javascript object>"
            ]
          },
          "metadata": {}
        },
        {
          "output_type": "display_data",
          "data": {
            "application/javascript": [
              "window[\"4ba243a6-9d97-11ec-955d-0242ac1c0002\"] = document.querySelector(\"#id44-0-0\");\n",
              "//# sourceURL=js_a4f83cc582"
            ],
            "text/plain": [
              "<IPython.core.display.Javascript object>"
            ]
          },
          "metadata": {}
        },
        {
          "output_type": "display_data",
          "data": {
            "application/javascript": [
              "window[\"4ba2a026-9d97-11ec-955d-0242ac1c0002\"] = google.colab.output.setActiveOutputArea(window[\"4ba243a6-9d97-11ec-955d-0242ac1c0002\"]);\n",
              "//# sourceURL=js_b9ffe27f80"
            ],
            "text/plain": [
              "<IPython.core.display.Javascript object>"
            ]
          },
          "metadata": {}
        },
        {
          "output_type": "display_data",
          "data": {
            "application/javascript": [
              "window[\"4bb90c9e-9d97-11ec-955d-0242ac1c0002\"] = google.colab.output.setActiveOutputArea(window[\"4ba1fa7c-9d97-11ec-955d-0242ac1c0002\"]);\n",
              "//# sourceURL=js_6dc1e204c1"
            ],
            "text/plain": [
              "<IPython.core.display.Javascript object>"
            ]
          },
          "metadata": {}
        },
        {
          "output_type": "display_data",
          "data": {
            "application/javascript": [
              "window[\"4bd92d08-9d97-11ec-955d-0242ac1c0002\"] = google.colab.output.getActiveOutputArea();\n",
              "//# sourceURL=js_4911044efb"
            ],
            "text/plain": [
              "<IPython.core.display.Javascript object>"
            ]
          },
          "metadata": {}
        },
        {
          "output_type": "display_data",
          "data": {
            "application/javascript": [
              "window[\"4bd979c0-9d97-11ec-955d-0242ac1c0002\"] = document.querySelector(\"#id44-0-0\");\n",
              "//# sourceURL=js_eccae0ad97"
            ],
            "text/plain": [
              "<IPython.core.display.Javascript object>"
            ]
          },
          "metadata": {}
        },
        {
          "output_type": "display_data",
          "data": {
            "application/javascript": [
              "window[\"4bda58ae-9d97-11ec-955d-0242ac1c0002\"] = google.colab.output.setActiveOutputArea(window[\"4bd979c0-9d97-11ec-955d-0242ac1c0002\"]);\n",
              "//# sourceURL=js_b14161e9b7"
            ],
            "text/plain": [
              "<IPython.core.display.Javascript object>"
            ]
          },
          "metadata": {}
        },
        {
          "output_type": "display_data",
          "data": {
            "application/javascript": [
              "window[\"4bf089a8-9d97-11ec-955d-0242ac1c0002\"] = google.colab.output.setActiveOutputArea(window[\"4bd92d08-9d97-11ec-955d-0242ac1c0002\"]);\n",
              "//# sourceURL=js_8bd72e0c67"
            ],
            "text/plain": [
              "<IPython.core.display.Javascript object>"
            ]
          },
          "metadata": {}
        },
        {
          "output_type": "display_data",
          "data": {
            "application/javascript": [
              "window[\"4c12dd28-9d97-11ec-955d-0242ac1c0002\"] = google.colab.output.getActiveOutputArea();\n",
              "//# sourceURL=js_d4f94a5158"
            ],
            "text/plain": [
              "<IPython.core.display.Javascript object>"
            ]
          },
          "metadata": {}
        },
        {
          "output_type": "display_data",
          "data": {
            "application/javascript": [
              "window[\"4c133fde-9d97-11ec-955d-0242ac1c0002\"] = document.querySelector(\"#id44-0-0\");\n",
              "//# sourceURL=js_5165f4c3fe"
            ],
            "text/plain": [
              "<IPython.core.display.Javascript object>"
            ]
          },
          "metadata": {}
        },
        {
          "output_type": "display_data",
          "data": {
            "application/javascript": [
              "window[\"4c13b0e0-9d97-11ec-955d-0242ac1c0002\"] = google.colab.output.setActiveOutputArea(window[\"4c133fde-9d97-11ec-955d-0242ac1c0002\"]);\n",
              "//# sourceURL=js_2d018396c1"
            ],
            "text/plain": [
              "<IPython.core.display.Javascript object>"
            ]
          },
          "metadata": {}
        },
        {
          "output_type": "display_data",
          "data": {
            "application/javascript": [
              "window[\"4c50c4a8-9d97-11ec-955d-0242ac1c0002\"] = google.colab.output.setActiveOutputArea(window[\"4c12dd28-9d97-11ec-955d-0242ac1c0002\"]);\n",
              "//# sourceURL=js_51e9141c45"
            ],
            "text/plain": [
              "<IPython.core.display.Javascript object>"
            ]
          },
          "metadata": {}
        },
        {
          "output_type": "display_data",
          "data": {
            "application/javascript": [
              "window[\"4c71275c-9d97-11ec-955d-0242ac1c0002\"] = google.colab.output.getActiveOutputArea();\n",
              "//# sourceURL=js_f431c98ae0"
            ],
            "text/plain": [
              "<IPython.core.display.Javascript object>"
            ]
          },
          "metadata": {}
        },
        {
          "output_type": "display_data",
          "data": {
            "application/javascript": [
              "window[\"4c717d1a-9d97-11ec-955d-0242ac1c0002\"] = document.querySelector(\"#id44-0-0\");\n",
              "//# sourceURL=js_efe487a0c0"
            ],
            "text/plain": [
              "<IPython.core.display.Javascript object>"
            ]
          },
          "metadata": {}
        },
        {
          "output_type": "display_data",
          "data": {
            "application/javascript": [
              "window[\"4c71c716-9d97-11ec-955d-0242ac1c0002\"] = google.colab.output.setActiveOutputArea(window[\"4c717d1a-9d97-11ec-955d-0242ac1c0002\"]);\n",
              "//# sourceURL=js_8a194de64e"
            ],
            "text/plain": [
              "<IPython.core.display.Javascript object>"
            ]
          },
          "metadata": {}
        },
        {
          "output_type": "display_data",
          "data": {
            "application/javascript": [
              "window[\"4c8764fe-9d97-11ec-955d-0242ac1c0002\"] = google.colab.output.setActiveOutputArea(window[\"4c71275c-9d97-11ec-955d-0242ac1c0002\"]);\n",
              "//# sourceURL=js_ea5232921d"
            ],
            "text/plain": [
              "<IPython.core.display.Javascript object>"
            ]
          },
          "metadata": {}
        },
        {
          "output_type": "display_data",
          "data": {
            "application/javascript": [
              "window[\"4ca8605a-9d97-11ec-955d-0242ac1c0002\"] = google.colab.output.getActiveOutputArea();\n",
              "//# sourceURL=js_a08867762f"
            ],
            "text/plain": [
              "<IPython.core.display.Javascript object>"
            ]
          },
          "metadata": {}
        },
        {
          "output_type": "display_data",
          "data": {
            "application/javascript": [
              "window[\"4ca9736e-9d97-11ec-955d-0242ac1c0002\"] = document.querySelector(\"#id44-0-0\");\n",
              "//# sourceURL=js_cee5d0461a"
            ],
            "text/plain": [
              "<IPython.core.display.Javascript object>"
            ]
          },
          "metadata": {}
        },
        {
          "output_type": "display_data",
          "data": {
            "application/javascript": [
              "window[\"4ca9e966-9d97-11ec-955d-0242ac1c0002\"] = google.colab.output.setActiveOutputArea(window[\"4ca9736e-9d97-11ec-955d-0242ac1c0002\"]);\n",
              "//# sourceURL=js_fe8bfb146b"
            ],
            "text/plain": [
              "<IPython.core.display.Javascript object>"
            ]
          },
          "metadata": {}
        },
        {
          "output_type": "display_data",
          "data": {
            "application/javascript": [
              "window[\"4ce4d04e-9d97-11ec-955d-0242ac1c0002\"] = google.colab.output.setActiveOutputArea(window[\"4ca8605a-9d97-11ec-955d-0242ac1c0002\"]);\n",
              "//# sourceURL=js_b66bcda4a4"
            ],
            "text/plain": [
              "<IPython.core.display.Javascript object>"
            ]
          },
          "metadata": {}
        },
        {
          "output_type": "display_data",
          "data": {
            "application/javascript": [
              "window[\"4d05819a-9d97-11ec-955d-0242ac1c0002\"] = google.colab.output.getActiveOutputArea();\n",
              "//# sourceURL=js_b4e2db4333"
            ],
            "text/plain": [
              "<IPython.core.display.Javascript object>"
            ]
          },
          "metadata": {}
        },
        {
          "output_type": "display_data",
          "data": {
            "application/javascript": [
              "window[\"4d05d186-9d97-11ec-955d-0242ac1c0002\"] = document.querySelector(\"#id44-0-0\");\n",
              "//# sourceURL=js_7f4614bc75"
            ],
            "text/plain": [
              "<IPython.core.display.Javascript object>"
            ]
          },
          "metadata": {}
        },
        {
          "output_type": "display_data",
          "data": {
            "application/javascript": [
              "window[\"4d064652-9d97-11ec-955d-0242ac1c0002\"] = google.colab.output.setActiveOutputArea(window[\"4d05d186-9d97-11ec-955d-0242ac1c0002\"]);\n",
              "//# sourceURL=js_c75fc1392a"
            ],
            "text/plain": [
              "<IPython.core.display.Javascript object>"
            ]
          },
          "metadata": {}
        },
        {
          "output_type": "display_data",
          "data": {
            "application/javascript": [
              "window[\"4d1b81de-9d97-11ec-955d-0242ac1c0002\"] = google.colab.output.setActiveOutputArea(window[\"4d05819a-9d97-11ec-955d-0242ac1c0002\"]);\n",
              "//# sourceURL=js_981d75d64f"
            ],
            "text/plain": [
              "<IPython.core.display.Javascript object>"
            ]
          },
          "metadata": {}
        },
        {
          "output_type": "display_data",
          "data": {
            "application/javascript": [
              "window[\"4d3c263c-9d97-11ec-955d-0242ac1c0002\"] = google.colab.output.getActiveOutputArea();\n",
              "//# sourceURL=js_3459bef6ca"
            ],
            "text/plain": [
              "<IPython.core.display.Javascript object>"
            ]
          },
          "metadata": {}
        },
        {
          "output_type": "display_data",
          "data": {
            "application/javascript": [
              "window[\"4d3c88fc-9d97-11ec-955d-0242ac1c0002\"] = document.querySelector(\"#id44-0-0\");\n",
              "//# sourceURL=js_641cae3eb0"
            ],
            "text/plain": [
              "<IPython.core.display.Javascript object>"
            ]
          },
          "metadata": {}
        },
        {
          "output_type": "display_data",
          "data": {
            "application/javascript": [
              "window[\"4d3cd97e-9d97-11ec-955d-0242ac1c0002\"] = google.colab.output.setActiveOutputArea(window[\"4d3c88fc-9d97-11ec-955d-0242ac1c0002\"]);\n",
              "//# sourceURL=js_1ccfc50122"
            ],
            "text/plain": [
              "<IPython.core.display.Javascript object>"
            ]
          },
          "metadata": {}
        },
        {
          "output_type": "display_data",
          "data": {
            "application/javascript": [
              "window[\"4d5244da-9d97-11ec-955d-0242ac1c0002\"] = google.colab.output.setActiveOutputArea(window[\"4d3c263c-9d97-11ec-955d-0242ac1c0002\"]);\n",
              "//# sourceURL=js_12a8a9f73a"
            ],
            "text/plain": [
              "<IPython.core.display.Javascript object>"
            ]
          },
          "metadata": {}
        },
        {
          "output_type": "display_data",
          "data": {
            "application/javascript": [
              "window[\"4d72ab9e-9d97-11ec-955d-0242ac1c0002\"] = google.colab.output.getActiveOutputArea();\n",
              "//# sourceURL=js_bd0d86d285"
            ],
            "text/plain": [
              "<IPython.core.display.Javascript object>"
            ]
          },
          "metadata": {}
        },
        {
          "output_type": "display_data",
          "data": {
            "application/javascript": [
              "window[\"4d730616-9d97-11ec-955d-0242ac1c0002\"] = document.querySelector(\"#id44-0-0\");\n",
              "//# sourceURL=js_6659d42153"
            ],
            "text/plain": [
              "<IPython.core.display.Javascript object>"
            ]
          },
          "metadata": {}
        },
        {
          "output_type": "display_data",
          "data": {
            "application/javascript": [
              "window[\"4d7362be-9d97-11ec-955d-0242ac1c0002\"] = google.colab.output.setActiveOutputArea(window[\"4d730616-9d97-11ec-955d-0242ac1c0002\"]);\n",
              "//# sourceURL=js_466e26973d"
            ],
            "text/plain": [
              "<IPython.core.display.Javascript object>"
            ]
          },
          "metadata": {}
        },
        {
          "output_type": "display_data",
          "data": {
            "application/javascript": [
              "window[\"4d8b3272-9d97-11ec-955d-0242ac1c0002\"] = google.colab.output.setActiveOutputArea(window[\"4d72ab9e-9d97-11ec-955d-0242ac1c0002\"]);\n",
              "//# sourceURL=js_7a0a509a1c"
            ],
            "text/plain": [
              "<IPython.core.display.Javascript object>"
            ]
          },
          "metadata": {}
        },
        {
          "output_type": "display_data",
          "data": {
            "application/javascript": [
              "window[\"4dab965c-9d97-11ec-955d-0242ac1c0002\"] = google.colab.output.getActiveOutputArea();\n",
              "//# sourceURL=js_aba099b43f"
            ],
            "text/plain": [
              "<IPython.core.display.Javascript object>"
            ]
          },
          "metadata": {}
        },
        {
          "output_type": "display_data",
          "data": {
            "application/javascript": [
              "window[\"4dabe5bc-9d97-11ec-955d-0242ac1c0002\"] = document.querySelector(\"#id44-0-0\");\n",
              "//# sourceURL=js_07692759dd"
            ],
            "text/plain": [
              "<IPython.core.display.Javascript object>"
            ]
          },
          "metadata": {}
        },
        {
          "output_type": "display_data",
          "data": {
            "application/javascript": [
              "window[\"4dac3e90-9d97-11ec-955d-0242ac1c0002\"] = google.colab.output.setActiveOutputArea(window[\"4dabe5bc-9d97-11ec-955d-0242ac1c0002\"]);\n",
              "//# sourceURL=js_2a0812dca7"
            ],
            "text/plain": [
              "<IPython.core.display.Javascript object>"
            ]
          },
          "metadata": {}
        },
        {
          "output_type": "display_data",
          "data": {
            "application/javascript": [
              "window[\"4dc19952-9d97-11ec-955d-0242ac1c0002\"] = google.colab.output.setActiveOutputArea(window[\"4dab965c-9d97-11ec-955d-0242ac1c0002\"]);\n",
              "//# sourceURL=js_b7f1dd425c"
            ],
            "text/plain": [
              "<IPython.core.display.Javascript object>"
            ]
          },
          "metadata": {}
        },
        {
          "output_type": "display_data",
          "data": {
            "application/javascript": [
              "window[\"4de23d10-9d97-11ec-955d-0242ac1c0002\"] = google.colab.output.getActiveOutputArea();\n",
              "//# sourceURL=js_4fcaf85a46"
            ],
            "text/plain": [
              "<IPython.core.display.Javascript object>"
            ]
          },
          "metadata": {}
        },
        {
          "output_type": "display_data",
          "data": {
            "application/javascript": [
              "window[\"4de29fc6-9d97-11ec-955d-0242ac1c0002\"] = document.querySelector(\"#id44-0-0\");\n",
              "//# sourceURL=js_3b943632fb"
            ],
            "text/plain": [
              "<IPython.core.display.Javascript object>"
            ]
          },
          "metadata": {}
        },
        {
          "output_type": "display_data",
          "data": {
            "application/javascript": [
              "window[\"4de317e4-9d97-11ec-955d-0242ac1c0002\"] = google.colab.output.setActiveOutputArea(window[\"4de29fc6-9d97-11ec-955d-0242ac1c0002\"]);\n",
              "//# sourceURL=js_fcd0f7e756"
            ],
            "text/plain": [
              "<IPython.core.display.Javascript object>"
            ]
          },
          "metadata": {}
        },
        {
          "output_type": "display_data",
          "data": {
            "application/javascript": [
              "window[\"4dfb2622-9d97-11ec-955d-0242ac1c0002\"] = google.colab.output.setActiveOutputArea(window[\"4de23d10-9d97-11ec-955d-0242ac1c0002\"]);\n",
              "//# sourceURL=js_d5cf07902b"
            ],
            "text/plain": [
              "<IPython.core.display.Javascript object>"
            ]
          },
          "metadata": {}
        },
        {
          "output_type": "display_data",
          "data": {
            "application/javascript": [
              "window[\"4e1c345c-9d97-11ec-955d-0242ac1c0002\"] = google.colab.output.getActiveOutputArea();\n",
              "//# sourceURL=js_89dbdb0939"
            ],
            "text/plain": [
              "<IPython.core.display.Javascript object>"
            ]
          },
          "metadata": {}
        },
        {
          "output_type": "display_data",
          "data": {
            "application/javascript": [
              "window[\"4e1cb6b6-9d97-11ec-955d-0242ac1c0002\"] = document.querySelector(\"#id44-0-0\");\n",
              "//# sourceURL=js_6a4082f5c7"
            ],
            "text/plain": [
              "<IPython.core.display.Javascript object>"
            ]
          },
          "metadata": {}
        },
        {
          "output_type": "display_data",
          "data": {
            "application/javascript": [
              "window[\"4e1d169c-9d97-11ec-955d-0242ac1c0002\"] = google.colab.output.setActiveOutputArea(window[\"4e1cb6b6-9d97-11ec-955d-0242ac1c0002\"]);\n",
              "//# sourceURL=js_3ed497636c"
            ],
            "text/plain": [
              "<IPython.core.display.Javascript object>"
            ]
          },
          "metadata": {}
        },
        {
          "output_type": "display_data",
          "data": {
            "application/javascript": [
              "window[\"4e33d756-9d97-11ec-955d-0242ac1c0002\"] = google.colab.output.setActiveOutputArea(window[\"4e1c345c-9d97-11ec-955d-0242ac1c0002\"]);\n",
              "//# sourceURL=js_68585139b9"
            ],
            "text/plain": [
              "<IPython.core.display.Javascript object>"
            ]
          },
          "metadata": {}
        },
        {
          "output_type": "display_data",
          "data": {
            "application/javascript": [
              "window[\"4e54222c-9d97-11ec-955d-0242ac1c0002\"] = google.colab.output.getActiveOutputArea();\n",
              "//# sourceURL=js_6d740118dc"
            ],
            "text/plain": [
              "<IPython.core.display.Javascript object>"
            ]
          },
          "metadata": {}
        },
        {
          "output_type": "display_data",
          "data": {
            "application/javascript": [
              "window[\"4e549ba8-9d97-11ec-955d-0242ac1c0002\"] = document.querySelector(\"#id44-0-0\");\n",
              "//# sourceURL=js_a4ede35a67"
            ],
            "text/plain": [
              "<IPython.core.display.Javascript object>"
            ]
          },
          "metadata": {}
        },
        {
          "output_type": "display_data",
          "data": {
            "application/javascript": [
              "window[\"4e54f94a-9d97-11ec-955d-0242ac1c0002\"] = google.colab.output.setActiveOutputArea(window[\"4e549ba8-9d97-11ec-955d-0242ac1c0002\"]);\n",
              "//# sourceURL=js_31cde97d6a"
            ],
            "text/plain": [
              "<IPython.core.display.Javascript object>"
            ]
          },
          "metadata": {}
        },
        {
          "output_type": "display_data",
          "data": {
            "application/javascript": [
              "window[\"4e69c35c-9d97-11ec-955d-0242ac1c0002\"] = google.colab.output.setActiveOutputArea(window[\"4e54222c-9d97-11ec-955d-0242ac1c0002\"]);\n",
              "//# sourceURL=js_eb09166b8e"
            ],
            "text/plain": [
              "<IPython.core.display.Javascript object>"
            ]
          },
          "metadata": {}
        },
        {
          "output_type": "display_data",
          "data": {
            "application/javascript": [
              "window[\"4e8a20d4-9d97-11ec-955d-0242ac1c0002\"] = google.colab.output.getActiveOutputArea();\n",
              "//# sourceURL=js_576dd80304"
            ],
            "text/plain": [
              "<IPython.core.display.Javascript object>"
            ]
          },
          "metadata": {}
        },
        {
          "output_type": "display_data",
          "data": {
            "application/javascript": [
              "window[\"4e8a6206-9d97-11ec-955d-0242ac1c0002\"] = document.querySelector(\"#id44-0-0\");\n",
              "//# sourceURL=js_e4919ce505"
            ],
            "text/plain": [
              "<IPython.core.display.Javascript object>"
            ]
          },
          "metadata": {}
        },
        {
          "output_type": "display_data",
          "data": {
            "application/javascript": [
              "window[\"4e8aa428-9d97-11ec-955d-0242ac1c0002\"] = google.colab.output.setActiveOutputArea(window[\"4e8a6206-9d97-11ec-955d-0242ac1c0002\"]);\n",
              "//# sourceURL=js_dd47d5859a"
            ],
            "text/plain": [
              "<IPython.core.display.Javascript object>"
            ]
          },
          "metadata": {}
        },
        {
          "output_type": "display_data",
          "data": {
            "application/javascript": [
              "window[\"4ea0e2e2-9d97-11ec-955d-0242ac1c0002\"] = google.colab.output.setActiveOutputArea(window[\"4e8a20d4-9d97-11ec-955d-0242ac1c0002\"]);\n",
              "//# sourceURL=js_4d55fbe8fa"
            ],
            "text/plain": [
              "<IPython.core.display.Javascript object>"
            ]
          },
          "metadata": {}
        },
        {
          "output_type": "display_data",
          "data": {
            "application/javascript": [
              "window[\"4ec14faa-9d97-11ec-955d-0242ac1c0002\"] = google.colab.output.getActiveOutputArea();\n",
              "//# sourceURL=js_a91343ee25"
            ],
            "text/plain": [
              "<IPython.core.display.Javascript object>"
            ]
          },
          "metadata": {}
        },
        {
          "output_type": "display_data",
          "data": {
            "application/javascript": [
              "window[\"4ec1a216-9d97-11ec-955d-0242ac1c0002\"] = document.querySelector(\"#id44-0-0\");\n",
              "//# sourceURL=js_c1b80f1504"
            ],
            "text/plain": [
              "<IPython.core.display.Javascript object>"
            ]
          },
          "metadata": {}
        },
        {
          "output_type": "display_data",
          "data": {
            "application/javascript": [
              "window[\"4ec1e866-9d97-11ec-955d-0242ac1c0002\"] = google.colab.output.setActiveOutputArea(window[\"4ec1a216-9d97-11ec-955d-0242ac1c0002\"]);\n",
              "//# sourceURL=js_5d3b3dce4b"
            ],
            "text/plain": [
              "<IPython.core.display.Javascript object>"
            ]
          },
          "metadata": {}
        },
        {
          "output_type": "display_data",
          "data": {
            "application/javascript": [
              "window[\"4ed87338-9d97-11ec-955d-0242ac1c0002\"] = google.colab.output.setActiveOutputArea(window[\"4ec14faa-9d97-11ec-955d-0242ac1c0002\"]);\n",
              "//# sourceURL=js_4339024ddd"
            ],
            "text/plain": [
              "<IPython.core.display.Javascript object>"
            ]
          },
          "metadata": {}
        },
        {
          "output_type": "display_data",
          "data": {
            "application/javascript": [
              "window[\"4efada2c-9d97-11ec-955d-0242ac1c0002\"] = google.colab.output.getActiveOutputArea();\n",
              "//# sourceURL=js_b22ad08918"
            ],
            "text/plain": [
              "<IPython.core.display.Javascript object>"
            ]
          },
          "metadata": {}
        },
        {
          "output_type": "display_data",
          "data": {
            "application/javascript": [
              "window[\"4efb306c-9d97-11ec-955d-0242ac1c0002\"] = document.querySelector(\"#id44-0-0\");\n",
              "//# sourceURL=js_7926d37ffe"
            ],
            "text/plain": [
              "<IPython.core.display.Javascript object>"
            ]
          },
          "metadata": {}
        },
        {
          "output_type": "display_data",
          "data": {
            "application/javascript": [
              "window[\"4efbc6da-9d97-11ec-955d-0242ac1c0002\"] = google.colab.output.setActiveOutputArea(window[\"4efb306c-9d97-11ec-955d-0242ac1c0002\"]);\n",
              "//# sourceURL=js_bb66a3615f"
            ],
            "text/plain": [
              "<IPython.core.display.Javascript object>"
            ]
          },
          "metadata": {}
        },
        {
          "output_type": "display_data",
          "data": {
            "application/javascript": [
              "window[\"4f128104-9d97-11ec-955d-0242ac1c0002\"] = google.colab.output.setActiveOutputArea(window[\"4efada2c-9d97-11ec-955d-0242ac1c0002\"]);\n",
              "//# sourceURL=js_1499f9add5"
            ],
            "text/plain": [
              "<IPython.core.display.Javascript object>"
            ]
          },
          "metadata": {}
        },
        {
          "output_type": "display_data",
          "data": {
            "application/javascript": [
              "window[\"4f32bfc8-9d97-11ec-955d-0242ac1c0002\"] = google.colab.output.getActiveOutputArea();\n",
              "//# sourceURL=js_07ff081a97"
            ],
            "text/plain": [
              "<IPython.core.display.Javascript object>"
            ]
          },
          "metadata": {}
        },
        {
          "output_type": "display_data",
          "data": {
            "application/javascript": [
              "window[\"4f332576-9d97-11ec-955d-0242ac1c0002\"] = document.querySelector(\"#id44-0-0\");\n",
              "//# sourceURL=js_24b2c371e4"
            ],
            "text/plain": [
              "<IPython.core.display.Javascript object>"
            ]
          },
          "metadata": {}
        },
        {
          "output_type": "display_data",
          "data": {
            "application/javascript": [
              "window[\"4f33885e-9d97-11ec-955d-0242ac1c0002\"] = google.colab.output.setActiveOutputArea(window[\"4f332576-9d97-11ec-955d-0242ac1c0002\"]);\n",
              "//# sourceURL=js_e4c8400b75"
            ],
            "text/plain": [
              "<IPython.core.display.Javascript object>"
            ]
          },
          "metadata": {}
        },
        {
          "output_type": "display_data",
          "data": {
            "application/javascript": [
              "window[\"4f49eaea-9d97-11ec-955d-0242ac1c0002\"] = google.colab.output.setActiveOutputArea(window[\"4f32bfc8-9d97-11ec-955d-0242ac1c0002\"]);\n",
              "//# sourceURL=js_5dc6891030"
            ],
            "text/plain": [
              "<IPython.core.display.Javascript object>"
            ]
          },
          "metadata": {}
        },
        {
          "output_type": "display_data",
          "data": {
            "application/javascript": [
              "window[\"4f6a607c-9d97-11ec-955d-0242ac1c0002\"] = google.colab.output.getActiveOutputArea();\n",
              "//# sourceURL=js_fb3d413d9e"
            ],
            "text/plain": [
              "<IPython.core.display.Javascript object>"
            ]
          },
          "metadata": {}
        },
        {
          "output_type": "display_data",
          "data": {
            "application/javascript": [
              "window[\"4f6a92d6-9d97-11ec-955d-0242ac1c0002\"] = document.querySelector(\"#id44-0-0\");\n",
              "//# sourceURL=js_46e26da344"
            ],
            "text/plain": [
              "<IPython.core.display.Javascript object>"
            ]
          },
          "metadata": {}
        },
        {
          "output_type": "display_data",
          "data": {
            "application/javascript": [
              "window[\"4f6ac332-9d97-11ec-955d-0242ac1c0002\"] = google.colab.output.setActiveOutputArea(window[\"4f6a92d6-9d97-11ec-955d-0242ac1c0002\"]);\n",
              "//# sourceURL=js_4ea5be5139"
            ],
            "text/plain": [
              "<IPython.core.display.Javascript object>"
            ]
          },
          "metadata": {}
        },
        {
          "output_type": "display_data",
          "data": {
            "application/javascript": [
              "window[\"4f80eb62-9d97-11ec-955d-0242ac1c0002\"] = google.colab.output.setActiveOutputArea(window[\"4f6a607c-9d97-11ec-955d-0242ac1c0002\"]);\n",
              "//# sourceURL=js_d5ad7886ba"
            ],
            "text/plain": [
              "<IPython.core.display.Javascript object>"
            ]
          },
          "metadata": {}
        },
        {
          "output_type": "display_data",
          "data": {
            "application/javascript": [
              "window[\"4fa159d8-9d97-11ec-955d-0242ac1c0002\"] = google.colab.output.getActiveOutputArea();\n",
              "//# sourceURL=js_8c737220de"
            ],
            "text/plain": [
              "<IPython.core.display.Javascript object>"
            ]
          },
          "metadata": {}
        },
        {
          "output_type": "display_data",
          "data": {
            "application/javascript": [
              "window[\"4fa1907e-9d97-11ec-955d-0242ac1c0002\"] = document.querySelector(\"#id44-0-0\");\n",
              "//# sourceURL=js_e57230ee6d"
            ],
            "text/plain": [
              "<IPython.core.display.Javascript object>"
            ]
          },
          "metadata": {}
        },
        {
          "output_type": "display_data",
          "data": {
            "application/javascript": [
              "window[\"4fa1c4ae-9d97-11ec-955d-0242ac1c0002\"] = google.colab.output.setActiveOutputArea(window[\"4fa1907e-9d97-11ec-955d-0242ac1c0002\"]);\n",
              "//# sourceURL=js_ffdf9385fe"
            ],
            "text/plain": [
              "<IPython.core.display.Javascript object>"
            ]
          },
          "metadata": {}
        },
        {
          "output_type": "display_data",
          "data": {
            "application/javascript": [
              "window[\"4fb80dea-9d97-11ec-955d-0242ac1c0002\"] = google.colab.output.setActiveOutputArea(window[\"4fa159d8-9d97-11ec-955d-0242ac1c0002\"]);\n",
              "//# sourceURL=js_cdd320a2da"
            ],
            "text/plain": [
              "<IPython.core.display.Javascript object>"
            ]
          },
          "metadata": {}
        },
        {
          "output_type": "display_data",
          "data": {
            "application/javascript": [
              "window[\"4fd87076-9d97-11ec-955d-0242ac1c0002\"] = google.colab.output.getActiveOutputArea();\n",
              "//# sourceURL=js_c7c17c9fae"
            ],
            "text/plain": [
              "<IPython.core.display.Javascript object>"
            ]
          },
          "metadata": {}
        },
        {
          "output_type": "display_data",
          "data": {
            "application/javascript": [
              "window[\"4fd8d7d2-9d97-11ec-955d-0242ac1c0002\"] = document.querySelector(\"#id44-0-0\");\n",
              "//# sourceURL=js_2e403242d1"
            ],
            "text/plain": [
              "<IPython.core.display.Javascript object>"
            ]
          },
          "metadata": {}
        },
        {
          "output_type": "display_data",
          "data": {
            "application/javascript": [
              "window[\"4fd91d50-9d97-11ec-955d-0242ac1c0002\"] = google.colab.output.setActiveOutputArea(window[\"4fd8d7d2-9d97-11ec-955d-0242ac1c0002\"]);\n",
              "//# sourceURL=js_5bc3ea76c3"
            ],
            "text/plain": [
              "<IPython.core.display.Javascript object>"
            ]
          },
          "metadata": {}
        },
        {
          "output_type": "display_data",
          "data": {
            "application/javascript": [
              "window[\"4feeaa3a-9d97-11ec-955d-0242ac1c0002\"] = google.colab.output.setActiveOutputArea(window[\"4fd87076-9d97-11ec-955d-0242ac1c0002\"]);\n",
              "//# sourceURL=js_e903be0c85"
            ],
            "text/plain": [
              "<IPython.core.display.Javascript object>"
            ]
          },
          "metadata": {}
        },
        {
          "output_type": "display_data",
          "data": {
            "application/javascript": [
              "window[\"500f198c-9d97-11ec-955d-0242ac1c0002\"] = google.colab.output.getActiveOutputArea();\n",
              "//# sourceURL=js_2238b6d1f6"
            ],
            "text/plain": [
              "<IPython.core.display.Javascript object>"
            ]
          },
          "metadata": {}
        },
        {
          "output_type": "display_data",
          "data": {
            "application/javascript": [
              "window[\"500f9fec-9d97-11ec-955d-0242ac1c0002\"] = document.querySelector(\"#id44-0-0\");\n",
              "//# sourceURL=js_58084efe3c"
            ],
            "text/plain": [
              "<IPython.core.display.Javascript object>"
            ]
          },
          "metadata": {}
        },
        {
          "output_type": "display_data",
          "data": {
            "application/javascript": [
              "window[\"500ff488-9d97-11ec-955d-0242ac1c0002\"] = google.colab.output.setActiveOutputArea(window[\"500f9fec-9d97-11ec-955d-0242ac1c0002\"]);\n",
              "//# sourceURL=js_c6013609af"
            ],
            "text/plain": [
              "<IPython.core.display.Javascript object>"
            ]
          },
          "metadata": {}
        },
        {
          "output_type": "display_data",
          "data": {
            "application/javascript": [
              "window[\"50302c4e-9d97-11ec-955d-0242ac1c0002\"] = google.colab.output.setActiveOutputArea(window[\"500f198c-9d97-11ec-955d-0242ac1c0002\"]);\n",
              "//# sourceURL=js_65d5df6be2"
            ],
            "text/plain": [
              "<IPython.core.display.Javascript object>"
            ]
          },
          "metadata": {}
        },
        {
          "output_type": "display_data",
          "data": {
            "application/javascript": [
              "window[\"5050922c-9d97-11ec-955d-0242ac1c0002\"] = google.colab.output.getActiveOutputArea();\n",
              "//# sourceURL=js_875297eb5e"
            ],
            "text/plain": [
              "<IPython.core.display.Javascript object>"
            ]
          },
          "metadata": {}
        },
        {
          "output_type": "display_data",
          "data": {
            "application/javascript": [
              "window[\"5050ebfa-9d97-11ec-955d-0242ac1c0002\"] = document.querySelector(\"#id44-0-0\");\n",
              "//# sourceURL=js_2b6a6fc2a5"
            ],
            "text/plain": [
              "<IPython.core.display.Javascript object>"
            ]
          },
          "metadata": {}
        },
        {
          "output_type": "display_data",
          "data": {
            "application/javascript": [
              "window[\"50514d16-9d97-11ec-955d-0242ac1c0002\"] = google.colab.output.setActiveOutputArea(window[\"5050ebfa-9d97-11ec-955d-0242ac1c0002\"]);\n",
              "//# sourceURL=js_72f7878944"
            ],
            "text/plain": [
              "<IPython.core.display.Javascript object>"
            ]
          },
          "metadata": {}
        },
        {
          "output_type": "display_data",
          "data": {
            "application/javascript": [
              "window[\"5066fd00-9d97-11ec-955d-0242ac1c0002\"] = google.colab.output.setActiveOutputArea(window[\"5050922c-9d97-11ec-955d-0242ac1c0002\"]);\n",
              "//# sourceURL=js_df8e90e972"
            ],
            "text/plain": [
              "<IPython.core.display.Javascript object>"
            ]
          },
          "metadata": {}
        },
        {
          "output_type": "display_data",
          "data": {
            "application/javascript": [
              "window[\"5087c13e-9d97-11ec-955d-0242ac1c0002\"] = google.colab.output.getActiveOutputArea();\n",
              "//# sourceURL=js_e2d12fdb24"
            ],
            "text/plain": [
              "<IPython.core.display.Javascript object>"
            ]
          },
          "metadata": {}
        },
        {
          "output_type": "display_data",
          "data": {
            "application/javascript": [
              "window[\"50880d56-9d97-11ec-955d-0242ac1c0002\"] = document.querySelector(\"#id44-0-0\");\n",
              "//# sourceURL=js_a36eb54119"
            ],
            "text/plain": [
              "<IPython.core.display.Javascript object>"
            ]
          },
          "metadata": {}
        },
        {
          "output_type": "display_data",
          "data": {
            "application/javascript": [
              "window[\"50885c98-9d97-11ec-955d-0242ac1c0002\"] = google.colab.output.setActiveOutputArea(window[\"50880d56-9d97-11ec-955d-0242ac1c0002\"]);\n",
              "//# sourceURL=js_8b16476164"
            ],
            "text/plain": [
              "<IPython.core.display.Javascript object>"
            ]
          },
          "metadata": {}
        },
        {
          "output_type": "display_data",
          "data": {
            "application/javascript": [
              "window[\"50a0206c-9d97-11ec-955d-0242ac1c0002\"] = google.colab.output.setActiveOutputArea(window[\"5087c13e-9d97-11ec-955d-0242ac1c0002\"]);\n",
              "//# sourceURL=js_4df8074bef"
            ],
            "text/plain": [
              "<IPython.core.display.Javascript object>"
            ]
          },
          "metadata": {}
        },
        {
          "output_type": "display_data",
          "data": {
            "application/javascript": [
              "window[\"50c0cd80-9d97-11ec-955d-0242ac1c0002\"] = google.colab.output.getActiveOutputArea();\n",
              "//# sourceURL=js_ffbaa60396"
            ],
            "text/plain": [
              "<IPython.core.display.Javascript object>"
            ]
          },
          "metadata": {}
        },
        {
          "output_type": "display_data",
          "data": {
            "application/javascript": [
              "window[\"50c1026e-9d97-11ec-955d-0242ac1c0002\"] = document.querySelector(\"#id44-0-0\");\n",
              "//# sourceURL=js_8bb619da35"
            ],
            "text/plain": [
              "<IPython.core.display.Javascript object>"
            ]
          },
          "metadata": {}
        },
        {
          "output_type": "display_data",
          "data": {
            "application/javascript": [
              "window[\"50c1378e-9d97-11ec-955d-0242ac1c0002\"] = google.colab.output.setActiveOutputArea(window[\"50c1026e-9d97-11ec-955d-0242ac1c0002\"]);\n",
              "//# sourceURL=js_b466e73907"
            ],
            "text/plain": [
              "<IPython.core.display.Javascript object>"
            ]
          },
          "metadata": {}
        },
        {
          "output_type": "display_data",
          "data": {
            "application/javascript": [
              "window[\"50d84a32-9d97-11ec-955d-0242ac1c0002\"] = google.colab.output.setActiveOutputArea(window[\"50c0cd80-9d97-11ec-955d-0242ac1c0002\"]);\n",
              "//# sourceURL=js_ead77eb698"
            ],
            "text/plain": [
              "<IPython.core.display.Javascript object>"
            ]
          },
          "metadata": {}
        },
        {
          "output_type": "display_data",
          "data": {
            "application/javascript": [
              "window[\"50fa0438-9d97-11ec-955d-0242ac1c0002\"] = google.colab.output.getActiveOutputArea();\n",
              "//# sourceURL=js_5c979fe165"
            ],
            "text/plain": [
              "<IPython.core.display.Javascript object>"
            ]
          },
          "metadata": {}
        },
        {
          "output_type": "display_data",
          "data": {
            "application/javascript": [
              "window[\"50fa5960-9d97-11ec-955d-0242ac1c0002\"] = document.querySelector(\"#id44-0-0\");\n",
              "//# sourceURL=js_70bcaee1a9"
            ],
            "text/plain": [
              "<IPython.core.display.Javascript object>"
            ]
          },
          "metadata": {}
        },
        {
          "output_type": "display_data",
          "data": {
            "application/javascript": [
              "window[\"50faa848-9d97-11ec-955d-0242ac1c0002\"] = google.colab.output.setActiveOutputArea(window[\"50fa5960-9d97-11ec-955d-0242ac1c0002\"]);\n",
              "//# sourceURL=js_7b2cdad122"
            ],
            "text/plain": [
              "<IPython.core.display.Javascript object>"
            ]
          },
          "metadata": {}
        },
        {
          "output_type": "display_data",
          "data": {
            "application/javascript": [
              "window[\"5111a638-9d97-11ec-955d-0242ac1c0002\"] = google.colab.output.setActiveOutputArea(window[\"50fa0438-9d97-11ec-955d-0242ac1c0002\"]);\n",
              "//# sourceURL=js_1b94290200"
            ],
            "text/plain": [
              "<IPython.core.display.Javascript object>"
            ]
          },
          "metadata": {}
        },
        {
          "output_type": "display_data",
          "data": {
            "application/javascript": [
              "window[\"51336250-9d97-11ec-955d-0242ac1c0002\"] = google.colab.output.getActiveOutputArea();\n",
              "//# sourceURL=js_143fb8ffbb"
            ],
            "text/plain": [
              "<IPython.core.display.Javascript object>"
            ]
          },
          "metadata": {}
        },
        {
          "output_type": "display_data",
          "data": {
            "application/javascript": [
              "window[\"513403a4-9d97-11ec-955d-0242ac1c0002\"] = document.querySelector(\"#id44-0-0\");\n",
              "//# sourceURL=js_95ed6e95ca"
            ],
            "text/plain": [
              "<IPython.core.display.Javascript object>"
            ]
          },
          "metadata": {}
        },
        {
          "output_type": "display_data",
          "data": {
            "application/javascript": [
              "window[\"5134732a-9d97-11ec-955d-0242ac1c0002\"] = google.colab.output.setActiveOutputArea(window[\"513403a4-9d97-11ec-955d-0242ac1c0002\"]);\n",
              "//# sourceURL=js_ea0921c6f2"
            ],
            "text/plain": [
              "<IPython.core.display.Javascript object>"
            ]
          },
          "metadata": {}
        },
        {
          "output_type": "display_data",
          "data": {
            "application/javascript": [
              "window[\"514aeea2-9d97-11ec-955d-0242ac1c0002\"] = google.colab.output.setActiveOutputArea(window[\"51336250-9d97-11ec-955d-0242ac1c0002\"]);\n",
              "//# sourceURL=js_5bd8eaf96c"
            ],
            "text/plain": [
              "<IPython.core.display.Javascript object>"
            ]
          },
          "metadata": {}
        },
        {
          "output_type": "display_data",
          "data": {
            "application/javascript": [
              "window[\"516b24ba-9d97-11ec-955d-0242ac1c0002\"] = google.colab.output.getActiveOutputArea();\n",
              "//# sourceURL=js_27dfa73824"
            ],
            "text/plain": [
              "<IPython.core.display.Javascript object>"
            ]
          },
          "metadata": {}
        },
        {
          "output_type": "display_data",
          "data": {
            "application/javascript": [
              "window[\"516b7078-9d97-11ec-955d-0242ac1c0002\"] = document.querySelector(\"#id44-0-0\");\n",
              "//# sourceURL=js_9dc52b885a"
            ],
            "text/plain": [
              "<IPython.core.display.Javascript object>"
            ]
          },
          "metadata": {}
        },
        {
          "output_type": "display_data",
          "data": {
            "application/javascript": [
              "window[\"516bba1a-9d97-11ec-955d-0242ac1c0002\"] = google.colab.output.setActiveOutputArea(window[\"516b7078-9d97-11ec-955d-0242ac1c0002\"]);\n",
              "//# sourceURL=js_59ab65c537"
            ],
            "text/plain": [
              "<IPython.core.display.Javascript object>"
            ]
          },
          "metadata": {}
        },
        {
          "output_type": "display_data",
          "data": {
            "application/javascript": [
              "window[\"51822d4a-9d97-11ec-955d-0242ac1c0002\"] = google.colab.output.setActiveOutputArea(window[\"516b24ba-9d97-11ec-955d-0242ac1c0002\"]);\n",
              "//# sourceURL=js_f1ade515b6"
            ],
            "text/plain": [
              "<IPython.core.display.Javascript object>"
            ]
          },
          "metadata": {}
        },
        {
          "output_type": "display_data",
          "data": {
            "application/javascript": [
              "window[\"51a352c2-9d97-11ec-955d-0242ac1c0002\"] = google.colab.output.getActiveOutputArea();\n",
              "//# sourceURL=js_f8c20d3f75"
            ],
            "text/plain": [
              "<IPython.core.display.Javascript object>"
            ]
          },
          "metadata": {}
        },
        {
          "output_type": "display_data",
          "data": {
            "application/javascript": [
              "window[\"51a391ec-9d97-11ec-955d-0242ac1c0002\"] = document.querySelector(\"#id44-0-0\");\n",
              "//# sourceURL=js_d0fc3cade2"
            ],
            "text/plain": [
              "<IPython.core.display.Javascript object>"
            ]
          },
          "metadata": {}
        },
        {
          "output_type": "display_data",
          "data": {
            "application/javascript": [
              "window[\"51a3d6d4-9d97-11ec-955d-0242ac1c0002\"] = google.colab.output.setActiveOutputArea(window[\"51a391ec-9d97-11ec-955d-0242ac1c0002\"]);\n",
              "//# sourceURL=js_8530ffbed6"
            ],
            "text/plain": [
              "<IPython.core.display.Javascript object>"
            ]
          },
          "metadata": {}
        },
        {
          "output_type": "display_data",
          "data": {
            "application/javascript": [
              "window[\"51baff6c-9d97-11ec-955d-0242ac1c0002\"] = google.colab.output.setActiveOutputArea(window[\"51a352c2-9d97-11ec-955d-0242ac1c0002\"]);\n",
              "//# sourceURL=js_182f204882"
            ],
            "text/plain": [
              "<IPython.core.display.Javascript object>"
            ]
          },
          "metadata": {}
        },
        {
          "output_type": "display_data",
          "data": {
            "application/javascript": [
              "window[\"51db2c56-9d97-11ec-955d-0242ac1c0002\"] = google.colab.output.getActiveOutputArea();\n",
              "//# sourceURL=js_690c55ad3f"
            ],
            "text/plain": [
              "<IPython.core.display.Javascript object>"
            ]
          },
          "metadata": {}
        },
        {
          "output_type": "display_data",
          "data": {
            "application/javascript": [
              "window[\"51db63ba-9d97-11ec-955d-0242ac1c0002\"] = document.querySelector(\"#id44-0-0\");\n",
              "//# sourceURL=js_b9af75c67c"
            ],
            "text/plain": [
              "<IPython.core.display.Javascript object>"
            ]
          },
          "metadata": {}
        },
        {
          "output_type": "display_data",
          "data": {
            "application/javascript": [
              "window[\"51dbaa64-9d97-11ec-955d-0242ac1c0002\"] = google.colab.output.setActiveOutputArea(window[\"51db63ba-9d97-11ec-955d-0242ac1c0002\"]);\n",
              "//# sourceURL=js_2bd0b16688"
            ],
            "text/plain": [
              "<IPython.core.display.Javascript object>"
            ]
          },
          "metadata": {}
        },
        {
          "output_type": "display_data",
          "data": {
            "application/javascript": [
              "window[\"51f2b97a-9d97-11ec-955d-0242ac1c0002\"] = google.colab.output.setActiveOutputArea(window[\"51db2c56-9d97-11ec-955d-0242ac1c0002\"]);\n",
              "//# sourceURL=js_19c0de04f1"
            ],
            "text/plain": [
              "<IPython.core.display.Javascript object>"
            ]
          },
          "metadata": {}
        },
        {
          "output_type": "display_data",
          "data": {
            "application/javascript": [
              "window[\"5212f67c-9d97-11ec-955d-0242ac1c0002\"] = google.colab.output.getActiveOutputArea();\n",
              "//# sourceURL=js_e24791357e"
            ],
            "text/plain": [
              "<IPython.core.display.Javascript object>"
            ]
          },
          "metadata": {}
        },
        {
          "output_type": "display_data",
          "data": {
            "application/javascript": [
              "window[\"52134488-9d97-11ec-955d-0242ac1c0002\"] = document.querySelector(\"#id44-0-0\");\n",
              "//# sourceURL=js_5efb8f313d"
            ],
            "text/plain": [
              "<IPython.core.display.Javascript object>"
            ]
          },
          "metadata": {}
        },
        {
          "output_type": "display_data",
          "data": {
            "application/javascript": [
              "window[\"5213e988-9d97-11ec-955d-0242ac1c0002\"] = google.colab.output.setActiveOutputArea(window[\"52134488-9d97-11ec-955d-0242ac1c0002\"]);\n",
              "//# sourceURL=js_7c8b7c83a9"
            ],
            "text/plain": [
              "<IPython.core.display.Javascript object>"
            ]
          },
          "metadata": {}
        },
        {
          "output_type": "display_data",
          "data": {
            "application/javascript": [
              "window[\"522aa15a-9d97-11ec-955d-0242ac1c0002\"] = google.colab.output.setActiveOutputArea(window[\"5212f67c-9d97-11ec-955d-0242ac1c0002\"]);\n",
              "//# sourceURL=js_df43c2457e"
            ],
            "text/plain": [
              "<IPython.core.display.Javascript object>"
            ]
          },
          "metadata": {}
        },
        {
          "output_type": "display_data",
          "data": {
            "application/javascript": [
              "window[\"524b3df2-9d97-11ec-955d-0242ac1c0002\"] = google.colab.output.getActiveOutputArea();\n",
              "//# sourceURL=js_ecd30e2753"
            ],
            "text/plain": [
              "<IPython.core.display.Javascript object>"
            ]
          },
          "metadata": {}
        },
        {
          "output_type": "display_data",
          "data": {
            "application/javascript": [
              "window[\"524bad14-9d97-11ec-955d-0242ac1c0002\"] = document.querySelector(\"#id44-0-0\");\n",
              "//# sourceURL=js_17ebdf5d73"
            ],
            "text/plain": [
              "<IPython.core.display.Javascript object>"
            ]
          },
          "metadata": {}
        },
        {
          "output_type": "display_data",
          "data": {
            "application/javascript": [
              "window[\"524c2366-9d97-11ec-955d-0242ac1c0002\"] = google.colab.output.setActiveOutputArea(window[\"524bad14-9d97-11ec-955d-0242ac1c0002\"]);\n",
              "//# sourceURL=js_9110ac46fd"
            ],
            "text/plain": [
              "<IPython.core.display.Javascript object>"
            ]
          },
          "metadata": {}
        },
        {
          "output_type": "display_data",
          "data": {
            "application/javascript": [
              "window[\"52637a20-9d97-11ec-955d-0242ac1c0002\"] = google.colab.output.setActiveOutputArea(window[\"524b3df2-9d97-11ec-955d-0242ac1c0002\"]);\n",
              "//# sourceURL=js_31a16f97e3"
            ],
            "text/plain": [
              "<IPython.core.display.Javascript object>"
            ]
          },
          "metadata": {}
        },
        {
          "output_type": "display_data",
          "data": {
            "application/javascript": [
              "window[\"5283e1e8-9d97-11ec-955d-0242ac1c0002\"] = google.colab.output.getActiveOutputArea();\n",
              "//# sourceURL=js_d77e344818"
            ],
            "text/plain": [
              "<IPython.core.display.Javascript object>"
            ]
          },
          "metadata": {}
        },
        {
          "output_type": "display_data",
          "data": {
            "application/javascript": [
              "window[\"528438e6-9d97-11ec-955d-0242ac1c0002\"] = document.querySelector(\"#id44-0-0\");\n",
              "//# sourceURL=js_166d900e0b"
            ],
            "text/plain": [
              "<IPython.core.display.Javascript object>"
            ]
          },
          "metadata": {}
        },
        {
          "output_type": "display_data",
          "data": {
            "application/javascript": [
              "window[\"5284ddfa-9d97-11ec-955d-0242ac1c0002\"] = google.colab.output.setActiveOutputArea(window[\"528438e6-9d97-11ec-955d-0242ac1c0002\"]);\n",
              "//# sourceURL=js_36bed68002"
            ],
            "text/plain": [
              "<IPython.core.display.Javascript object>"
            ]
          },
          "metadata": {}
        },
        {
          "output_type": "display_data",
          "data": {
            "image/png": "[encoded data removed]",
            "text/plain": [
              "<Figure size 432x288 with 1 Axes>"
            ]
          },
          "metadata": {
            "needs_background": "light"
          }
        },
        {
          "output_type": "display_data",
          "data": {
            "application/javascript": [
              "window[\"529aa2e8-9d97-11ec-955d-0242ac1c0002\"] = google.colab.output.setActiveOutputArea(window[\"5283e1e8-9d97-11ec-955d-0242ac1c0002\"]);\n",
              "//# sourceURL=js_e04ace7cae"
            ],
            "text/plain": [
              "<IPython.core.display.Javascript object>"
            ]
          },
          "metadata": {}
        },
        {
          "output_type": "execute_result",
          "data": {
            "text/plain": [
              "<matplotlib.legend.Legend at 0x7f798f37a790>"
            ]
          },
          "metadata": {},
          "execution_count": 46
        },
        {
          "output_type": "display_data",
          "data": {
            "image/png": "[encoded data removed]",
            "text/plain": [
              "<Figure size 432x288 with 2 Axes>"
            ]
          },
          "metadata": {
            "needs_background": "light"
          }
        },
        {
          "output_type": "display_data",
          "data": {
            "image/png": "[encoded data removed]",
            "text/plain": [
              "<Figure size 432x288 with 2 Axes>"
            ]
          },
          "metadata": {
            "needs_background": "light"
          }
        },
        {
          "output_type": "display_data",
          "data": {
            "image/png": "[encoded data removed]",
            "text/plain": [
              "<Figure size 432x288 with 1 Axes>"
            ]
          },
          "metadata": {
            "needs_background": "light"
          }
        },
        {
          "output_type": "display_data",
          "data": {
            "image/png": "[encoded data removed]",
            "text/plain": [
              "<Figure size 432x288 with 1 Axes>"
            ]
          },
          "metadata": {
            "needs_background": "light"
          }
        }
      ],
      "source": [
        "env = GridEnvironment()\n",
        "agent = RandomAgent(env)\n",
        "max_episod =5000\n",
        "pos = env.reset()\n",
        "g=[]\n",
        "e=[]\n",
        "t_step=0\n",
        "output_grid = widgets.Grid(1, 1)\n",
        "with output_grid.output_to(0, 0):\n",
        "  env.render()\n",
        "for episod in range(max_episod+1):\n",
        "  pos = env.reset()\n",
        "  done = False\n",
        "  acu_reward=0\n",
        "  ep=0\n",
        "  while not done:\n",
        "    action , ep = agent.step(pos, episod, max_episod)\n",
        "    \n",
        "    action_taken , pos, reward, done, info , t_step = env.step(action)\n",
        "    QA_table , QB_table = agent.update(action_taken, reward , pos)\n",
        "    QA=np.argmax(QA_table, axis=1)\n",
        "    QB=np.argmax(QB_table, axis=1)\n",
        "    acu_reward +=reward\n",
        "\n",
        "    if episod % (max_episod/1) == 0 or episod > max_episod - 5:\n",
        "      with output_grid.output_to(0, 0):\n",
        "        output_grid.clear_cell()\n",
        "        env.render()\n",
        "        plt.title(\"Learning Episode: \" + str(episod))\n",
        "\n",
        "      time.sleep(0.2)\n",
        "  e.append(ep)\n",
        "  g.append(acu_reward)\n",
        "QA=np.argmax(QA_table, axis=1)\n",
        "QB=np.argmax(QB_table, axis=1)\n",
        "plt.imshow(QA.reshape(11,11))\n",
        "plt.colorbar()\n",
        "plt.figure()\n",
        "plt.imshow(QB.reshape(11,11))\n",
        "plt.colorbar()\n",
        "plt.figure()\n",
        "plt.plot(g,label=\"Total reward/episode\")\n",
        "plt.xlabel(\"Episodes\")\n",
        "plt.ylabel(\"Total reward\")\n",
        "plt.legend()\n",
        "plt.figure()\n",
        "plt.plot(e, label=\"decay factor\")\n",
        "plt.xlabel(\"Episodes\")\n",
        "plt.ylabel(\"Epsilon\")\n",
        "plt.legend()"
      ]
    },
    {
      "cell_type": "code",
      "source": [
        "pos = env.reset()\n",
        "\n",
        "g=[]\n",
        "output_grid = widgets.Grid(1, 1)\n",
        "with output_grid.output_to(0, 0):\n",
        "  env.render()\n",
        "for episod in range(10):\n",
        "  pos = env.reset()\n",
        "  done = False\n",
        "  acu_reward =0 \n",
        "  while not done:\n",
        "    action , ep = agent.step(pos, 1, 1)\n",
        "    action_taken , pos, reward, done, info , t_step = env.step(action)\n",
        "    acu_reward += reward\n",
        "    with output_grid.output_to(0, 0):\n",
        "      output_grid.clear_cell()\n",
        "      env.render()\n",
        "      plt.title(\"Demo Episode: \" + str(episod+1))\n",
        "\n",
        "    time.sleep(0.2)\n",
        "  g.append(acu_reward)\n",
        "plt.plot(g,label=\"Total reward/episode\")\n",
        "plt.xlabel(\"Episodes\")\n",
        "plt.ylabel(\"Total Reward\")\n",
        "plt.legend()"
      ],
      "metadata": {
        "id": "X3tWA7RlxSsj",
        "colab": {
          "base_uri": "https://localhost:8080/",
          "height": 565
        },
        "outputId": "9db1b439-82d7-4579-b67c-d8657210d108"
      },
      "execution_count": null,
      "outputs": [
        {
          "output_type": "display_data",
          "data": {
            "text/html": [
              "<style>\n",
              "       table#id46, #id46 > tbody > tr > th, #id46 > tbody > tr > td {\n",
              "         border: 1px solid lightgray;\n",
              "         border-collapse:collapse;\n",
              "         \n",
              "        }</style>"
            ],
            "text/plain": [
              "<IPython.core.display.HTML object>"
            ]
          },
          "metadata": {}
        },
        {
          "output_type": "display_data",
          "data": {
            "text/html": [
              "<table id=id46><tr><td id=id46-0-0></td></tr></table>"
            ],
            "text/plain": [
              "<IPython.core.display.HTML object>"
            ]
          },
          "metadata": {}
        },
        {
          "output_type": "display_data",
          "data": {
            "application/javascript": [
              "window[\"56cbfdd0-9d97-11ec-955d-0242ac1c0002\"] = google.colab.output.getActiveOutputArea();\n",
              "//# sourceURL=js_631f2e7cf8"
            ],
            "text/plain": [
              "<IPython.core.display.Javascript object>"
            ]
          },
          "metadata": {}
        },
        {
          "output_type": "display_data",
          "data": {
            "application/javascript": [
              "window[\"56cc50b4-9d97-11ec-955d-0242ac1c0002\"] = document.querySelector(\"#id46-0-0\");\n",
              "//# sourceURL=js_a501403610"
            ],
            "text/plain": [
              "<IPython.core.display.Javascript object>"
            ]
          },
          "metadata": {}
        },
        {
          "output_type": "display_data",
          "data": {
            "application/javascript": [
              "window[\"56cc9b96-9d97-11ec-955d-0242ac1c0002\"] = google.colab.output.setActiveOutputArea(window[\"56cc50b4-9d97-11ec-955d-0242ac1c0002\"]);\n",
              "//# sourceURL=js_5ca21b9861"
            ],
            "text/plain": [
              "<IPython.core.display.Javascript object>"
            ]
          },
          "metadata": {}
        },
        {
          "output_type": "display_data",
          "data": {
            "application/javascript": [
              "window[\"56e023e6-9d97-11ec-955d-0242ac1c0002\"] = google.colab.output.setActiveOutputArea(window[\"56cbfdd0-9d97-11ec-955d-0242ac1c0002\"]);\n",
              "//# sourceURL=js_d110333c4b"
            ],
            "text/plain": [
              "<IPython.core.display.Javascript object>"
            ]
          },
          "metadata": {}
        },
        {
          "output_type": "display_data",
          "data": {
            "application/javascript": [
              "window[\"56e283d4-9d97-11ec-955d-0242ac1c0002\"] = google.colab.output.getActiveOutputArea();\n",
              "//# sourceURL=js_e1b302fb4b"
            ],
            "text/plain": [
              "<IPython.core.display.Javascript object>"
            ]
          },
          "metadata": {}
        },
        {
          "output_type": "display_data",
          "data": {
            "application/javascript": [
              "window[\"56e2d410-9d97-11ec-955d-0242ac1c0002\"] = document.querySelector(\"#id46-0-0\");\n",
              "//# sourceURL=js_959e1f312e"
            ],
            "text/plain": [
              "<IPython.core.display.Javascript object>"
            ]
          },
          "metadata": {}
        },
        {
          "output_type": "display_data",
          "data": {
            "application/javascript": [
              "window[\"56e320e6-9d97-11ec-955d-0242ac1c0002\"] = google.colab.output.setActiveOutputArea(window[\"56e2d410-9d97-11ec-955d-0242ac1c0002\"]);\n",
              "//# sourceURL=js_131b840062"
            ],
            "text/plain": [
              "<IPython.core.display.Javascript object>"
            ]
          },
          "metadata": {}
        },
        {
          "output_type": "display_data",
          "data": {
            "application/javascript": [
              "window[\"56faa2c0-9d97-11ec-955d-0242ac1c0002\"] = google.colab.output.setActiveOutputArea(window[\"56e283d4-9d97-11ec-955d-0242ac1c0002\"]);\n",
              "//# sourceURL=js_a72e4a6646"
            ],
            "text/plain": [
              "<IPython.core.display.Javascript object>"
            ]
          },
          "metadata": {}
        },
        {
          "output_type": "display_data",
          "data": {
            "application/javascript": [
              "window[\"571b40e8-9d97-11ec-955d-0242ac1c0002\"] = google.colab.output.getActiveOutputArea();\n",
              "//# sourceURL=js_7b20baa23e"
            ],
            "text/plain": [
              "<IPython.core.display.Javascript object>"
            ]
          },
          "metadata": {}
        },
        {
          "output_type": "display_data",
          "data": {
            "application/javascript": [
              "window[\"571b975a-9d97-11ec-955d-0242ac1c0002\"] = document.querySelector(\"#id46-0-0\");\n",
              "//# sourceURL=js_d3c9c2cf9b"
            ],
            "text/plain": [
              "<IPython.core.display.Javascript object>"
            ]
          },
          "metadata": {}
        },
        {
          "output_type": "display_data",
          "data": {
            "application/javascript": [
              "window[\"571bdd96-9d97-11ec-955d-0242ac1c0002\"] = google.colab.output.setActiveOutputArea(window[\"571b975a-9d97-11ec-955d-0242ac1c0002\"]);\n",
              "//# sourceURL=js_bc38f51511"
            ],
            "text/plain": [
              "<IPython.core.display.Javascript object>"
            ]
          },
          "metadata": {}
        },
        {
          "output_type": "display_data",
          "data": {
            "application/javascript": [
              "window[\"5731126a-9d97-11ec-955d-0242ac1c0002\"] = google.colab.output.setActiveOutputArea(window[\"571b40e8-9d97-11ec-955d-0242ac1c0002\"]);\n",
              "//# sourceURL=js_38ee8f0d65"
            ],
            "text/plain": [
              "<IPython.core.display.Javascript object>"
            ]
          },
          "metadata": {}
        },
        {
          "output_type": "display_data",
          "data": {
            "application/javascript": [
              "window[\"57517aa0-9d97-11ec-955d-0242ac1c0002\"] = google.colab.output.getActiveOutputArea();\n",
              "//# sourceURL=js_6e710153f5"
            ],
            "text/plain": [
              "<IPython.core.display.Javascript object>"
            ]
          },
          "metadata": {}
        },
        {
          "output_type": "display_data",
          "data": {
            "application/javascript": [
              "window[\"5751da04-9d97-11ec-955d-0242ac1c0002\"] = document.querySelector(\"#id46-0-0\");\n",
              "//# sourceURL=js_394a476503"
            ],
            "text/plain": [
              "<IPython.core.display.Javascript object>"
            ]
          },
          "metadata": {}
        },
        {
          "output_type": "display_data",
          "data": {
            "application/javascript": [
              "window[\"57524cdc-9d97-11ec-955d-0242ac1c0002\"] = google.colab.output.setActiveOutputArea(window[\"5751da04-9d97-11ec-955d-0242ac1c0002\"]);\n",
              "//# sourceURL=js_480acb3bc9"
            ],
            "text/plain": [
              "<IPython.core.display.Javascript object>"
            ]
          },
          "metadata": {}
        },
        {
          "output_type": "display_data",
          "data": {
            "application/javascript": [
              "window[\"576772e2-9d97-11ec-955d-0242ac1c0002\"] = google.colab.output.setActiveOutputArea(window[\"57517aa0-9d97-11ec-955d-0242ac1c0002\"]);\n",
              "//# sourceURL=js_e94ffecf2d"
            ],
            "text/plain": [
              "<IPython.core.display.Javascript object>"
            ]
          },
          "metadata": {}
        },
        {
          "output_type": "display_data",
          "data": {
            "application/javascript": [
              "window[\"57897054-9d97-11ec-955d-0242ac1c0002\"] = google.colab.output.getActiveOutputArea();\n",
              "//# sourceURL=js_5ab5c622a4"
            ],
            "text/plain": [
              "<IPython.core.display.Javascript object>"
            ]
          },
          "metadata": {}
        },
        {
          "output_type": "display_data",
          "data": {
            "application/javascript": [
              "window[\"5789eb24-9d97-11ec-955d-0242ac1c0002\"] = document.querySelector(\"#id46-0-0\");\n",
              "//# sourceURL=js_68e793b259"
            ],
            "text/plain": [
              "<IPython.core.display.Javascript object>"
            ]
          },
          "metadata": {}
        },
        {
          "output_type": "display_data",
          "data": {
            "application/javascript": [
              "window[\"578ab0c2-9d97-11ec-955d-0242ac1c0002\"] = google.colab.output.setActiveOutputArea(window[\"5789eb24-9d97-11ec-955d-0242ac1c0002\"]);\n",
              "//# sourceURL=js_5cba7a998d"
            ],
            "text/plain": [
              "<IPython.core.display.Javascript object>"
            ]
          },
          "metadata": {}
        },
        {
          "output_type": "display_data",
          "data": {
            "application/javascript": [
              "window[\"579fd4fc-9d97-11ec-955d-0242ac1c0002\"] = google.colab.output.setActiveOutputArea(window[\"57897054-9d97-11ec-955d-0242ac1c0002\"]);\n",
              "//# sourceURL=js_4dcd227bf7"
            ],
            "text/plain": [
              "<IPython.core.display.Javascript object>"
            ]
          },
          "metadata": {}
        },
        {
          "output_type": "display_data",
          "data": {
            "application/javascript": [
              "window[\"57c13cb4-9d97-11ec-955d-0242ac1c0002\"] = google.colab.output.getActiveOutputArea();\n",
              "//# sourceURL=js_6be243d96d"
            ],
            "text/plain": [
              "<IPython.core.display.Javascript object>"
            ]
          },
          "metadata": {}
        },
        {
          "output_type": "display_data",
          "data": {
            "application/javascript": [
              "window[\"57c1bc34-9d97-11ec-955d-0242ac1c0002\"] = document.querySelector(\"#id46-0-0\");\n",
              "//# sourceURL=js_7e8f63dcb0"
            ],
            "text/plain": [
              "<IPython.core.display.Javascript object>"
            ]
          },
          "metadata": {}
        },
        {
          "output_type": "display_data",
          "data": {
            "application/javascript": [
              "window[\"57c21f08-9d97-11ec-955d-0242ac1c0002\"] = google.colab.output.setActiveOutputArea(window[\"57c1bc34-9d97-11ec-955d-0242ac1c0002\"]);\n",
              "//# sourceURL=js_7a8b60de0b"
            ],
            "text/plain": [
              "<IPython.core.display.Javascript object>"
            ]
          },
          "metadata": {}
        },
        {
          "output_type": "display_data",
          "data": {
            "application/javascript": [
              "window[\"57d7031e-9d97-11ec-955d-0242ac1c0002\"] = google.colab.output.setActiveOutputArea(window[\"57c13cb4-9d97-11ec-955d-0242ac1c0002\"]);\n",
              "//# sourceURL=js_b8b47039cb"
            ],
            "text/plain": [
              "<IPython.core.display.Javascript object>"
            ]
          },
          "metadata": {}
        },
        {
          "output_type": "display_data",
          "data": {
            "application/javascript": [
              "window[\"57f7ac18-9d97-11ec-955d-0242ac1c0002\"] = google.colab.output.getActiveOutputArea();\n",
              "//# sourceURL=js_609ff02295"
            ],
            "text/plain": [
              "<IPython.core.display.Javascript object>"
            ]
          },
          "metadata": {}
        },
        {
          "output_type": "display_data",
          "data": {
            "application/javascript": [
              "window[\"57f7ffe2-9d97-11ec-955d-0242ac1c0002\"] = document.querySelector(\"#id46-0-0\");\n",
              "//# sourceURL=js_fb0e8cb4d9"
            ],
            "text/plain": [
              "<IPython.core.display.Javascript object>"
            ]
          },
          "metadata": {}
        },
        {
          "output_type": "display_data",
          "data": {
            "application/javascript": [
              "window[\"57f84dee-9d97-11ec-955d-0242ac1c0002\"] = google.colab.output.setActiveOutputArea(window[\"57f7ffe2-9d97-11ec-955d-0242ac1c0002\"]);\n",
              "//# sourceURL=js_6fe60a1f39"
            ],
            "text/plain": [
              "<IPython.core.display.Javascript object>"
            ]
          },
          "metadata": {}
        },
        {
          "output_type": "display_data",
          "data": {
            "application/javascript": [
              "window[\"580cae4c-9d97-11ec-955d-0242ac1c0002\"] = google.colab.output.setActiveOutputArea(window[\"57f7ac18-9d97-11ec-955d-0242ac1c0002\"]);\n",
              "//# sourceURL=js_52aa475870"
            ],
            "text/plain": [
              "<IPython.core.display.Javascript object>"
            ]
          },
          "metadata": {}
        },
        {
          "output_type": "display_data",
          "data": {
            "application/javascript": [
              "window[\"582d94f4-9d97-11ec-955d-0242ac1c0002\"] = google.colab.output.getActiveOutputArea();\n",
              "//# sourceURL=js_525dfd51ee"
            ],
            "text/plain": [
              "<IPython.core.display.Javascript object>"
            ]
          },
          "metadata": {}
        },
        {
          "output_type": "display_data",
          "data": {
            "application/javascript": [
              "window[\"582ddf90-9d97-11ec-955d-0242ac1c0002\"] = document.querySelector(\"#id46-0-0\");\n",
              "//# sourceURL=js_cd089e5471"
            ],
            "text/plain": [
              "<IPython.core.display.Javascript object>"
            ]
          },
          "metadata": {}
        },
        {
          "output_type": "display_data",
          "data": {
            "application/javascript": [
              "window[\"582e35d0-9d97-11ec-955d-0242ac1c0002\"] = google.colab.output.setActiveOutputArea(window[\"582ddf90-9d97-11ec-955d-0242ac1c0002\"]);\n",
              "//# sourceURL=js_6b6848c7f4"
            ],
            "text/plain": [
              "<IPython.core.display.Javascript object>"
            ]
          },
          "metadata": {}
        },
        {
          "output_type": "display_data",
          "data": {
            "application/javascript": [
              "window[\"584235a8-9d97-11ec-955d-0242ac1c0002\"] = google.colab.output.setActiveOutputArea(window[\"582d94f4-9d97-11ec-955d-0242ac1c0002\"]);\n",
              "//# sourceURL=js_03d94876ed"
            ],
            "text/plain": [
              "<IPython.core.display.Javascript object>"
            ]
          },
          "metadata": {}
        },
        {
          "output_type": "display_data",
          "data": {
            "application/javascript": [
              "window[\"5862c656-9d97-11ec-955d-0242ac1c0002\"] = google.colab.output.getActiveOutputArea();\n",
              "//# sourceURL=js_5d216591d0"
            ],
            "text/plain": [
              "<IPython.core.display.Javascript object>"
            ]
          },
          "metadata": {}
        },
        {
          "output_type": "display_data",
          "data": {
            "application/javascript": [
              "window[\"586383a2-9d97-11ec-955d-0242ac1c0002\"] = document.querySelector(\"#id46-0-0\");\n",
              "//# sourceURL=js_c06397d245"
            ],
            "text/plain": [
              "<IPython.core.display.Javascript object>"
            ]
          },
          "metadata": {}
        },
        {
          "output_type": "display_data",
          "data": {
            "application/javascript": [
              "window[\"5863e694-9d97-11ec-955d-0242ac1c0002\"] = google.colab.output.setActiveOutputArea(window[\"586383a2-9d97-11ec-955d-0242ac1c0002\"]);\n",
              "//# sourceURL=js_a528ecdd3c"
            ],
            "text/plain": [
              "<IPython.core.display.Javascript object>"
            ]
          },
          "metadata": {}
        },
        {
          "output_type": "display_data",
          "data": {
            "application/javascript": [
              "window[\"587a4a24-9d97-11ec-955d-0242ac1c0002\"] = google.colab.output.setActiveOutputArea(window[\"5862c656-9d97-11ec-955d-0242ac1c0002\"]);\n",
              "//# sourceURL=js_41c445564d"
            ],
            "text/plain": [
              "<IPython.core.display.Javascript object>"
            ]
          },
          "metadata": {}
        },
        {
          "output_type": "display_data",
          "data": {
            "application/javascript": [
              "window[\"589b1c04-9d97-11ec-955d-0242ac1c0002\"] = google.colab.output.getActiveOutputArea();\n",
              "//# sourceURL=js_926a076dad"
            ],
            "text/plain": [
              "<IPython.core.display.Javascript object>"
            ]
          },
          "metadata": {}
        },
        {
          "output_type": "display_data",
          "data": {
            "application/javascript": [
              "window[\"589b6876-9d97-11ec-955d-0242ac1c0002\"] = document.querySelector(\"#id46-0-0\");\n",
              "//# sourceURL=js_4e4e0c4a08"
            ],
            "text/plain": [
              "<IPython.core.display.Javascript object>"
            ]
          },
          "metadata": {}
        },
        {
          "output_type": "display_data",
          "data": {
            "application/javascript": [
              "window[\"589bb5f6-9d97-11ec-955d-0242ac1c0002\"] = google.colab.output.setActiveOutputArea(window[\"589b6876-9d97-11ec-955d-0242ac1c0002\"]);\n",
              "//# sourceURL=js_42c000b5e7"
            ],
            "text/plain": [
              "<IPython.core.display.Javascript object>"
            ]
          },
          "metadata": {}
        },
        {
          "output_type": "display_data",
          "data": {
            "application/javascript": [
              "window[\"58afc3f2-9d97-11ec-955d-0242ac1c0002\"] = google.colab.output.setActiveOutputArea(window[\"589b1c04-9d97-11ec-955d-0242ac1c0002\"]);\n",
              "//# sourceURL=js_8282a4b4c3"
            ],
            "text/plain": [
              "<IPython.core.display.Javascript object>"
            ]
          },
          "metadata": {}
        },
        {
          "output_type": "display_data",
          "data": {
            "application/javascript": [
              "window[\"58d06d3c-9d97-11ec-955d-0242ac1c0002\"] = google.colab.output.getActiveOutputArea();\n",
              "//# sourceURL=js_75ec1c8190"
            ],
            "text/plain": [
              "<IPython.core.display.Javascript object>"
            ]
          },
          "metadata": {}
        },
        {
          "output_type": "display_data",
          "data": {
            "application/javascript": [
              "window[\"58d0cd0e-9d97-11ec-955d-0242ac1c0002\"] = document.querySelector(\"#id46-0-0\");\n",
              "//# sourceURL=js_9d47089962"
            ],
            "text/plain": [
              "<IPython.core.display.Javascript object>"
            ]
          },
          "metadata": {}
        },
        {
          "output_type": "display_data",
          "data": {
            "application/javascript": [
              "window[\"58d12ef2-9d97-11ec-955d-0242ac1c0002\"] = google.colab.output.setActiveOutputArea(window[\"58d0cd0e-9d97-11ec-955d-0242ac1c0002\"]);\n",
              "//# sourceURL=js_86071b6027"
            ],
            "text/plain": [
              "<IPython.core.display.Javascript object>"
            ]
          },
          "metadata": {}
        },
        {
          "output_type": "display_data",
          "data": {
            "application/javascript": [
              "window[\"58e618a8-9d97-11ec-955d-0242ac1c0002\"] = google.colab.output.setActiveOutputArea(window[\"58d06d3c-9d97-11ec-955d-0242ac1c0002\"]);\n",
              "//# sourceURL=js_9091d93e1c"
            ],
            "text/plain": [
              "<IPython.core.display.Javascript object>"
            ]
          },
          "metadata": {}
        },
        {
          "output_type": "display_data",
          "data": {
            "application/javascript": [
              "window[\"5906841c-9d97-11ec-955d-0242ac1c0002\"] = google.colab.output.getActiveOutputArea();\n",
              "//# sourceURL=js_65622cc372"
            ],
            "text/plain": [
              "<IPython.core.display.Javascript object>"
            ]
          },
          "metadata": {}
        },
        {
          "output_type": "display_data",
          "data": {
            "application/javascript": [
              "window[\"5906efa6-9d97-11ec-955d-0242ac1c0002\"] = document.querySelector(\"#id46-0-0\");\n",
              "//# sourceURL=js_fd3a067246"
            ],
            "text/plain": [
              "<IPython.core.display.Javascript object>"
            ]
          },
          "metadata": {}
        },
        {
          "output_type": "display_data",
          "data": {
            "application/javascript": [
              "window[\"590744c4-9d97-11ec-955d-0242ac1c0002\"] = google.colab.output.setActiveOutputArea(window[\"5906efa6-9d97-11ec-955d-0242ac1c0002\"]);\n",
              "//# sourceURL=js_c865377605"
            ],
            "text/plain": [
              "<IPython.core.display.Javascript object>"
            ]
          },
          "metadata": {}
        },
        {
          "output_type": "display_data",
          "data": {
            "application/javascript": [
              "window[\"591d79b0-9d97-11ec-955d-0242ac1c0002\"] = google.colab.output.setActiveOutputArea(window[\"5906841c-9d97-11ec-955d-0242ac1c0002\"]);\n",
              "//# sourceURL=js_75c8abe2cd"
            ],
            "text/plain": [
              "<IPython.core.display.Javascript object>"
            ]
          },
          "metadata": {}
        },
        {
          "output_type": "display_data",
          "data": {
            "application/javascript": [
              "window[\"593e18aa-9d97-11ec-955d-0242ac1c0002\"] = google.colab.output.getActiveOutputArea();\n",
              "//# sourceURL=js_c0ce58e753"
            ],
            "text/plain": [
              "<IPython.core.display.Javascript object>"
            ]
          },
          "metadata": {}
        },
        {
          "output_type": "display_data",
          "data": {
            "application/javascript": [
              "window[\"593e6e4a-9d97-11ec-955d-0242ac1c0002\"] = document.querySelector(\"#id46-0-0\");\n",
              "//# sourceURL=js_aa9e583713"
            ],
            "text/plain": [
              "<IPython.core.display.Javascript object>"
            ]
          },
          "metadata": {}
        },
        {
          "output_type": "display_data",
          "data": {
            "application/javascript": [
              "window[\"593ecbb0-9d97-11ec-955d-0242ac1c0002\"] = google.colab.output.setActiveOutputArea(window[\"593e6e4a-9d97-11ec-955d-0242ac1c0002\"]);\n",
              "//# sourceURL=js_bf57c18302"
            ],
            "text/plain": [
              "<IPython.core.display.Javascript object>"
            ]
          },
          "metadata": {}
        },
        {
          "output_type": "display_data",
          "data": {
            "application/javascript": [
              "window[\"59530882-9d97-11ec-955d-0242ac1c0002\"] = google.colab.output.setActiveOutputArea(window[\"593e18aa-9d97-11ec-955d-0242ac1c0002\"]);\n",
              "//# sourceURL=js_f23668dba3"
            ],
            "text/plain": [
              "<IPython.core.display.Javascript object>"
            ]
          },
          "metadata": {}
        },
        {
          "output_type": "display_data",
          "data": {
            "application/javascript": [
              "window[\"5973566e-9d97-11ec-955d-0242ac1c0002\"] = google.colab.output.getActiveOutputArea();\n",
              "//# sourceURL=js_454febc253"
            ],
            "text/plain": [
              "<IPython.core.display.Javascript object>"
            ]
          },
          "metadata": {}
        },
        {
          "output_type": "display_data",
          "data": {
            "application/javascript": [
              "window[\"5973b9a6-9d97-11ec-955d-0242ac1c0002\"] = document.querySelector(\"#id46-0-0\");\n",
              "//# sourceURL=js_5149905a2c"
            ],
            "text/plain": [
              "<IPython.core.display.Javascript object>"
            ]
          },
          "metadata": {}
        },
        {
          "output_type": "display_data",
          "data": {
            "application/javascript": [
              "window[\"5974410a-9d97-11ec-955d-0242ac1c0002\"] = google.colab.output.setActiveOutputArea(window[\"5973b9a6-9d97-11ec-955d-0242ac1c0002\"]);\n",
              "//# sourceURL=js_f335228f55"
            ],
            "text/plain": [
              "<IPython.core.display.Javascript object>"
            ]
          },
          "metadata": {}
        },
        {
          "output_type": "display_data",
          "data": {
            "application/javascript": [
              "window[\"59954094-9d97-11ec-955d-0242ac1c0002\"] = google.colab.output.setActiveOutputArea(window[\"5973566e-9d97-11ec-955d-0242ac1c0002\"]);\n",
              "//# sourceURL=js_ee755ca52d"
            ],
            "text/plain": [
              "<IPython.core.display.Javascript object>"
            ]
          },
          "metadata": {}
        },
        {
          "output_type": "display_data",
          "data": {
            "application/javascript": [
              "window[\"59b76f70-9d97-11ec-955d-0242ac1c0002\"] = google.colab.output.getActiveOutputArea();\n",
              "//# sourceURL=js_07089236d3"
            ],
            "text/plain": [
              "<IPython.core.display.Javascript object>"
            ]
          },
          "metadata": {}
        },
        {
          "output_type": "display_data",
          "data": {
            "application/javascript": [
              "window[\"59b7c3c6-9d97-11ec-955d-0242ac1c0002\"] = document.querySelector(\"#id46-0-0\");\n",
              "//# sourceURL=js_cf270ce80e"
            ],
            "text/plain": [
              "<IPython.core.display.Javascript object>"
            ]
          },
          "metadata": {}
        },
        {
          "output_type": "display_data",
          "data": {
            "application/javascript": [
              "window[\"59b82ed8-9d97-11ec-955d-0242ac1c0002\"] = google.colab.output.setActiveOutputArea(window[\"59b7c3c6-9d97-11ec-955d-0242ac1c0002\"]);\n",
              "//# sourceURL=js_c6c140ecfc"
            ],
            "text/plain": [
              "<IPython.core.display.Javascript object>"
            ]
          },
          "metadata": {}
        },
        {
          "output_type": "display_data",
          "data": {
            "application/javascript": [
              "window[\"59cde3ae-9d97-11ec-955d-0242ac1c0002\"] = google.colab.output.setActiveOutputArea(window[\"59b76f70-9d97-11ec-955d-0242ac1c0002\"]);\n",
              "//# sourceURL=js_db59485b10"
            ],
            "text/plain": [
              "<IPython.core.display.Javascript object>"
            ]
          },
          "metadata": {}
        },
        {
          "output_type": "display_data",
          "data": {
            "application/javascript": [
              "window[\"59f005ce-9d97-11ec-955d-0242ac1c0002\"] = google.colab.output.getActiveOutputArea();\n",
              "//# sourceURL=js_43cf93bd17"
            ],
            "text/plain": [
              "<IPython.core.display.Javascript object>"
            ]
          },
          "metadata": {}
        },
        {
          "output_type": "display_data",
          "data": {
            "application/javascript": [
              "window[\"59f0a092-9d97-11ec-955d-0242ac1c0002\"] = document.querySelector(\"#id46-0-0\");\n",
              "//# sourceURL=js_6a80a1fbf3"
            ],
            "text/plain": [
              "<IPython.core.display.Javascript object>"
            ]
          },
          "metadata": {}
        },
        {
          "output_type": "display_data",
          "data": {
            "application/javascript": [
              "window[\"59f19786-9d97-11ec-955d-0242ac1c0002\"] = google.colab.output.setActiveOutputArea(window[\"59f0a092-9d97-11ec-955d-0242ac1c0002\"]);\n",
              "//# sourceURL=js_b03f5837de"
            ],
            "text/plain": [
              "<IPython.core.display.Javascript object>"
            ]
          },
          "metadata": {}
        },
        {
          "output_type": "display_data",
          "data": {
            "application/javascript": [
              "window[\"5a121c9a-9d97-11ec-955d-0242ac1c0002\"] = google.colab.output.setActiveOutputArea(window[\"59f005ce-9d97-11ec-955d-0242ac1c0002\"]);\n",
              "//# sourceURL=js_20b22e25c7"
            ],
            "text/plain": [
              "<IPython.core.display.Javascript object>"
            ]
          },
          "metadata": {}
        },
        {
          "output_type": "display_data",
          "data": {
            "application/javascript": [
              "window[\"5a32dc50-9d97-11ec-955d-0242ac1c0002\"] = google.colab.output.getActiveOutputArea();\n",
              "//# sourceURL=js_b095cf3150"
            ],
            "text/plain": [
              "<IPython.core.display.Javascript object>"
            ]
          },
          "metadata": {}
        },
        {
          "output_type": "display_data",
          "data": {
            "application/javascript": [
              "window[\"5a331ea4-9d97-11ec-955d-0242ac1c0002\"] = document.querySelector(\"#id46-0-0\");\n",
              "//# sourceURL=js_54ff9f0d86"
            ],
            "text/plain": [
              "<IPython.core.display.Javascript object>"
            ]
          },
          "metadata": {}
        },
        {
          "output_type": "display_data",
          "data": {
            "application/javascript": [
              "window[\"5a3381b4-9d97-11ec-955d-0242ac1c0002\"] = google.colab.output.setActiveOutputArea(window[\"5a331ea4-9d97-11ec-955d-0242ac1c0002\"]);\n",
              "//# sourceURL=js_4f8cb6cd17"
            ],
            "text/plain": [
              "<IPython.core.display.Javascript object>"
            ]
          },
          "metadata": {}
        },
        {
          "output_type": "display_data",
          "data": {
            "application/javascript": [
              "window[\"5a4a97f0-9d97-11ec-955d-0242ac1c0002\"] = google.colab.output.setActiveOutputArea(window[\"5a32dc50-9d97-11ec-955d-0242ac1c0002\"]);\n",
              "//# sourceURL=js_ae6b386be5"
            ],
            "text/plain": [
              "<IPython.core.display.Javascript object>"
            ]
          },
          "metadata": {}
        },
        {
          "output_type": "display_data",
          "data": {
            "application/javascript": [
              "window[\"5a6cb970-9d97-11ec-955d-0242ac1c0002\"] = google.colab.output.getActiveOutputArea();\n",
              "//# sourceURL=js_d27a9d8baf"
            ],
            "text/plain": [
              "<IPython.core.display.Javascript object>"
            ]
          },
          "metadata": {}
        },
        {
          "output_type": "display_data",
          "data": {
            "application/javascript": [
              "window[\"5a6d5f24-9d97-11ec-955d-0242ac1c0002\"] = document.querySelector(\"#id46-0-0\");\n",
              "//# sourceURL=js_e6dbc6e257"
            ],
            "text/plain": [
              "<IPython.core.display.Javascript object>"
            ]
          },
          "metadata": {}
        },
        {
          "output_type": "display_data",
          "data": {
            "application/javascript": [
              "window[\"5a6e003c-9d97-11ec-955d-0242ac1c0002\"] = google.colab.output.setActiveOutputArea(window[\"5a6d5f24-9d97-11ec-955d-0242ac1c0002\"]);\n",
              "//# sourceURL=js_909ef1e72a"
            ],
            "text/plain": [
              "<IPython.core.display.Javascript object>"
            ]
          },
          "metadata": {}
        },
        {
          "output_type": "display_data",
          "data": {
            "application/javascript": [
              "window[\"5a9481e4-9d97-11ec-955d-0242ac1c0002\"] = google.colab.output.setActiveOutputArea(window[\"5a6cb970-9d97-11ec-955d-0242ac1c0002\"]);\n",
              "//# sourceURL=js_84451bcc44"
            ],
            "text/plain": [
              "<IPython.core.display.Javascript object>"
            ]
          },
          "metadata": {}
        },
        {
          "output_type": "display_data",
          "data": {
            "application/javascript": [
              "window[\"5ab55c52-9d97-11ec-955d-0242ac1c0002\"] = google.colab.output.getActiveOutputArea();\n",
              "//# sourceURL=js_be566b3313"
            ],
            "text/plain": [
              "<IPython.core.display.Javascript object>"
            ]
          },
          "metadata": {}
        },
        {
          "output_type": "display_data",
          "data": {
            "application/javascript": [
              "window[\"5ab5afe0-9d97-11ec-955d-0242ac1c0002\"] = document.querySelector(\"#id46-0-0\");\n",
              "//# sourceURL=js_335d925810"
            ],
            "text/plain": [
              "<IPython.core.display.Javascript object>"
            ]
          },
          "metadata": {}
        },
        {
          "output_type": "display_data",
          "data": {
            "application/javascript": [
              "window[\"5ab65eea-9d97-11ec-955d-0242ac1c0002\"] = google.colab.output.setActiveOutputArea(window[\"5ab5afe0-9d97-11ec-955d-0242ac1c0002\"]);\n",
              "//# sourceURL=js_7c7269f76a"
            ],
            "text/plain": [
              "<IPython.core.display.Javascript object>"
            ]
          },
          "metadata": {}
        },
        {
          "output_type": "display_data",
          "data": {
            "application/javascript": [
              "window[\"5acaee32-9d97-11ec-955d-0242ac1c0002\"] = google.colab.output.setActiveOutputArea(window[\"5ab55c52-9d97-11ec-955d-0242ac1c0002\"]);\n",
              "//# sourceURL=js_8f3ef9ffda"
            ],
            "text/plain": [
              "<IPython.core.display.Javascript object>"
            ]
          },
          "metadata": {}
        },
        {
          "output_type": "display_data",
          "data": {
            "application/javascript": [
              "window[\"5aeba35c-9d97-11ec-955d-0242ac1c0002\"] = google.colab.output.getActiveOutputArea();\n",
              "//# sourceURL=js_acbcfba9e8"
            ],
            "text/plain": [
              "<IPython.core.display.Javascript object>"
            ]
          },
          "metadata": {}
        },
        {
          "output_type": "display_data",
          "data": {
            "application/javascript": [
              "window[\"5aebf988-9d97-11ec-955d-0242ac1c0002\"] = document.querySelector(\"#id46-0-0\");\n",
              "//# sourceURL=js_3742644b59"
            ],
            "text/plain": [
              "<IPython.core.display.Javascript object>"
            ]
          },
          "metadata": {}
        },
        {
          "output_type": "display_data",
          "data": {
            "application/javascript": [
              "window[\"5aec4b5e-9d97-11ec-955d-0242ac1c0002\"] = google.colab.output.setActiveOutputArea(window[\"5aebf988-9d97-11ec-955d-0242ac1c0002\"]);\n",
              "//# sourceURL=js_a373da65fc"
            ],
            "text/plain": [
              "<IPython.core.display.Javascript object>"
            ]
          },
          "metadata": {}
        },
        {
          "output_type": "display_data",
          "data": {
            "application/javascript": [
              "window[\"5b0089b6-9d97-11ec-955d-0242ac1c0002\"] = google.colab.output.setActiveOutputArea(window[\"5aeba35c-9d97-11ec-955d-0242ac1c0002\"]);\n",
              "//# sourceURL=js_325f056332"
            ],
            "text/plain": [
              "<IPython.core.display.Javascript object>"
            ]
          },
          "metadata": {}
        },
        {
          "output_type": "display_data",
          "data": {
            "application/javascript": [
              "window[\"5b211c80-9d97-11ec-955d-0242ac1c0002\"] = google.colab.output.getActiveOutputArea();\n",
              "//# sourceURL=js_88edd34abf"
            ],
            "text/plain": [
              "<IPython.core.display.Javascript object>"
            ]
          },
          "metadata": {}
        },
        {
          "output_type": "display_data",
          "data": {
            "application/javascript": [
              "window[\"5b217dba-9d97-11ec-955d-0242ac1c0002\"] = document.querySelector(\"#id46-0-0\");\n",
              "//# sourceURL=js_7fd3893604"
            ],
            "text/plain": [
              "<IPython.core.display.Javascript object>"
            ]
          },
          "metadata": {}
        },
        {
          "output_type": "display_data",
          "data": {
            "application/javascript": [
              "window[\"5b21e4a8-9d97-11ec-955d-0242ac1c0002\"] = google.colab.output.setActiveOutputArea(window[\"5b217dba-9d97-11ec-955d-0242ac1c0002\"]);\n",
              "//# sourceURL=js_63dfecf808"
            ],
            "text/plain": [
              "<IPython.core.display.Javascript object>"
            ]
          },
          "metadata": {}
        },
        {
          "output_type": "display_data",
          "data": {
            "application/javascript": [
              "window[\"5b369c90-9d97-11ec-955d-0242ac1c0002\"] = google.colab.output.setActiveOutputArea(window[\"5b211c80-9d97-11ec-955d-0242ac1c0002\"]);\n",
              "//# sourceURL=js_9b75ca14dc"
            ],
            "text/plain": [
              "<IPython.core.display.Javascript object>"
            ]
          },
          "metadata": {}
        },
        {
          "output_type": "display_data",
          "data": {
            "application/javascript": [
              "window[\"5b57ce74-9d97-11ec-955d-0242ac1c0002\"] = google.colab.output.getActiveOutputArea();\n",
              "//# sourceURL=js_84b330dcc4"
            ],
            "text/plain": [
              "<IPython.core.display.Javascript object>"
            ]
          },
          "metadata": {}
        },
        {
          "output_type": "display_data",
          "data": {
            "application/javascript": [
              "window[\"5b582248-9d97-11ec-955d-0242ac1c0002\"] = document.querySelector(\"#id46-0-0\");\n",
              "//# sourceURL=js_8cbf7ec702"
            ],
            "text/plain": [
              "<IPython.core.display.Javascript object>"
            ]
          },
          "metadata": {}
        },
        {
          "output_type": "display_data",
          "data": {
            "application/javascript": [
              "window[\"5b589426-9d97-11ec-955d-0242ac1c0002\"] = google.colab.output.setActiveOutputArea(window[\"5b582248-9d97-11ec-955d-0242ac1c0002\"]);\n",
              "//# sourceURL=js_9fe047792d"
            ],
            "text/plain": [
              "<IPython.core.display.Javascript object>"
            ]
          },
          "metadata": {}
        },
        {
          "output_type": "display_data",
          "data": {
            "application/javascript": [
              "window[\"5b6f64a8-9d97-11ec-955d-0242ac1c0002\"] = google.colab.output.setActiveOutputArea(window[\"5b57ce74-9d97-11ec-955d-0242ac1c0002\"]);\n",
              "//# sourceURL=js_d347510af3"
            ],
            "text/plain": [
              "<IPython.core.display.Javascript object>"
            ]
          },
          "metadata": {}
        },
        {
          "output_type": "display_data",
          "data": {
            "application/javascript": [
              "window[\"5b8fcbd0-9d97-11ec-955d-0242ac1c0002\"] = google.colab.output.getActiveOutputArea();\n",
              "//# sourceURL=js_1a929e668c"
            ],
            "text/plain": [
              "<IPython.core.display.Javascript object>"
            ]
          },
          "metadata": {}
        },
        {
          "output_type": "display_data",
          "data": {
            "application/javascript": [
              "window[\"5b8ffa6a-9d97-11ec-955d-0242ac1c0002\"] = document.querySelector(\"#id46-0-0\");\n",
              "//# sourceURL=js_ea0018eb75"
            ],
            "text/plain": [
              "<IPython.core.display.Javascript object>"
            ]
          },
          "metadata": {}
        },
        {
          "output_type": "display_data",
          "data": {
            "application/javascript": [
              "window[\"5b902828-9d97-11ec-955d-0242ac1c0002\"] = google.colab.output.setActiveOutputArea(window[\"5b8ffa6a-9d97-11ec-955d-0242ac1c0002\"]);\n",
              "//# sourceURL=js_9f8fbf286c"
            ],
            "text/plain": [
              "<IPython.core.display.Javascript object>"
            ]
          },
          "metadata": {}
        },
        {
          "output_type": "display_data",
          "data": {
            "application/javascript": [
              "window[\"5ba5b2ce-9d97-11ec-955d-0242ac1c0002\"] = google.colab.output.setActiveOutputArea(window[\"5b8fcbd0-9d97-11ec-955d-0242ac1c0002\"]);\n",
              "//# sourceURL=js_9511ff8e47"
            ],
            "text/plain": [
              "<IPython.core.display.Javascript object>"
            ]
          },
          "metadata": {}
        },
        {
          "output_type": "display_data",
          "data": {
            "application/javascript": [
              "window[\"5bc647d2-9d97-11ec-955d-0242ac1c0002\"] = google.colab.output.getActiveOutputArea();\n",
              "//# sourceURL=js_36eef6879a"
            ],
            "text/plain": [
              "<IPython.core.display.Javascript object>"
            ]
          },
          "metadata": {}
        },
        {
          "output_type": "display_data",
          "data": {
            "application/javascript": [
              "window[\"5bc69796-9d97-11ec-955d-0242ac1c0002\"] = document.querySelector(\"#id46-0-0\");\n",
              "//# sourceURL=js_0e5df3c0e7"
            ],
            "text/plain": [
              "<IPython.core.display.Javascript object>"
            ]
          },
          "metadata": {}
        },
        {
          "output_type": "display_data",
          "data": {
            "application/javascript": [
              "window[\"5bc70bb8-9d97-11ec-955d-0242ac1c0002\"] = google.colab.output.setActiveOutputArea(window[\"5bc69796-9d97-11ec-955d-0242ac1c0002\"]);\n",
              "//# sourceURL=js_432079536b"
            ],
            "text/plain": [
              "<IPython.core.display.Javascript object>"
            ]
          },
          "metadata": {}
        },
        {
          "output_type": "display_data",
          "data": {
            "application/javascript": [
              "window[\"5bdb50d2-9d97-11ec-955d-0242ac1c0002\"] = google.colab.output.setActiveOutputArea(window[\"5bc647d2-9d97-11ec-955d-0242ac1c0002\"]);\n",
              "//# sourceURL=js_a0055e1709"
            ],
            "text/plain": [
              "<IPython.core.display.Javascript object>"
            ]
          },
          "metadata": {}
        },
        {
          "output_type": "display_data",
          "data": {
            "application/javascript": [
              "window[\"5bfbddca-9d97-11ec-955d-0242ac1c0002\"] = google.colab.output.getActiveOutputArea();\n",
              "//# sourceURL=js_a764e19c38"
            ],
            "text/plain": [
              "<IPython.core.display.Javascript object>"
            ]
          },
          "metadata": {}
        },
        {
          "output_type": "display_data",
          "data": {
            "application/javascript": [
              "window[\"5bfc6736-9d97-11ec-955d-0242ac1c0002\"] = document.querySelector(\"#id46-0-0\");\n",
              "//# sourceURL=js_5cc854f036"
            ],
            "text/plain": [
              "<IPython.core.display.Javascript object>"
            ]
          },
          "metadata": {}
        },
        {
          "output_type": "display_data",
          "data": {
            "application/javascript": [
              "window[\"5bfcbda8-9d97-11ec-955d-0242ac1c0002\"] = google.colab.output.setActiveOutputArea(window[\"5bfc6736-9d97-11ec-955d-0242ac1c0002\"]);\n",
              "//# sourceURL=js_e051f43ea0"
            ],
            "text/plain": [
              "<IPython.core.display.Javascript object>"
            ]
          },
          "metadata": {}
        },
        {
          "output_type": "display_data",
          "data": {
            "application/javascript": [
              "window[\"5c12fc62-9d97-11ec-955d-0242ac1c0002\"] = google.colab.output.setActiveOutputArea(window[\"5bfbddca-9d97-11ec-955d-0242ac1c0002\"]);\n",
              "//# sourceURL=js_f497f7ffa2"
            ],
            "text/plain": [
              "<IPython.core.display.Javascript object>"
            ]
          },
          "metadata": {}
        },
        {
          "output_type": "display_data",
          "data": {
            "application/javascript": [
              "window[\"5c338a4a-9d97-11ec-955d-0242ac1c0002\"] = google.colab.output.getActiveOutputArea();\n",
              "//# sourceURL=js_90737271d7"
            ],
            "text/plain": [
              "<IPython.core.display.Javascript object>"
            ]
          },
          "metadata": {}
        },
        {
          "output_type": "display_data",
          "data": {
            "application/javascript": [
              "window[\"5c33f67e-9d97-11ec-955d-0242ac1c0002\"] = document.querySelector(\"#id46-0-0\");\n",
              "//# sourceURL=js_131d41c698"
            ],
            "text/plain": [
              "<IPython.core.display.Javascript object>"
            ]
          },
          "metadata": {}
        },
        {
          "output_type": "display_data",
          "data": {
            "application/javascript": [
              "window[\"5c345326-9d97-11ec-955d-0242ac1c0002\"] = google.colab.output.setActiveOutputArea(window[\"5c33f67e-9d97-11ec-955d-0242ac1c0002\"]);\n",
              "//# sourceURL=js_18d217a48d"
            ],
            "text/plain": [
              "<IPython.core.display.Javascript object>"
            ]
          },
          "metadata": {}
        },
        {
          "output_type": "display_data",
          "data": {
            "application/javascript": [
              "window[\"5c48d13e-9d97-11ec-955d-0242ac1c0002\"] = google.colab.output.setActiveOutputArea(window[\"5c338a4a-9d97-11ec-955d-0242ac1c0002\"]);\n",
              "//# sourceURL=js_1448b2e685"
            ],
            "text/plain": [
              "<IPython.core.display.Javascript object>"
            ]
          },
          "metadata": {}
        },
        {
          "output_type": "display_data",
          "data": {
            "application/javascript": [
              "window[\"5c6920b0-9d97-11ec-955d-0242ac1c0002\"] = google.colab.output.getActiveOutputArea();\n",
              "//# sourceURL=js_52818b32c5"
            ],
            "text/plain": [
              "<IPython.core.display.Javascript object>"
            ]
          },
          "metadata": {}
        },
        {
          "output_type": "display_data",
          "data": {
            "application/javascript": [
              "window[\"5c699400-9d97-11ec-955d-0242ac1c0002\"] = document.querySelector(\"#id46-0-0\");\n",
              "//# sourceURL=js_784f55c8ac"
            ],
            "text/plain": [
              "<IPython.core.display.Javascript object>"
            ]
          },
          "metadata": {}
        },
        {
          "output_type": "display_data",
          "data": {
            "application/javascript": [
              "window[\"5c69e284-9d97-11ec-955d-0242ac1c0002\"] = google.colab.output.setActiveOutputArea(window[\"5c699400-9d97-11ec-955d-0242ac1c0002\"]);\n",
              "//# sourceURL=js_c88563158e"
            ],
            "text/plain": [
              "<IPython.core.display.Javascript object>"
            ]
          },
          "metadata": {}
        },
        {
          "output_type": "display_data",
          "data": {
            "application/javascript": [
              "window[\"5c7f45a2-9d97-11ec-955d-0242ac1c0002\"] = google.colab.output.setActiveOutputArea(window[\"5c6920b0-9d97-11ec-955d-0242ac1c0002\"]);\n",
              "//# sourceURL=js_b88006bb68"
            ],
            "text/plain": [
              "<IPython.core.display.Javascript object>"
            ]
          },
          "metadata": {}
        },
        {
          "output_type": "display_data",
          "data": {
            "application/javascript": [
              "window[\"5c9fa306-9d97-11ec-955d-0242ac1c0002\"] = google.colab.output.getActiveOutputArea();\n",
              "//# sourceURL=js_5d4d544fb5"
            ],
            "text/plain": [
              "<IPython.core.display.Javascript object>"
            ]
          },
          "metadata": {}
        },
        {
          "output_type": "display_data",
          "data": {
            "application/javascript": [
              "window[\"5ca013e0-9d97-11ec-955d-0242ac1c0002\"] = document.querySelector(\"#id46-0-0\");\n",
              "//# sourceURL=js_45d5a51195"
            ],
            "text/plain": [
              "<IPython.core.display.Javascript object>"
            ]
          },
          "metadata": {}
        },
        {
          "output_type": "display_data",
          "data": {
            "application/javascript": [
              "window[\"5ca07588-9d97-11ec-955d-0242ac1c0002\"] = google.colab.output.setActiveOutputArea(window[\"5ca013e0-9d97-11ec-955d-0242ac1c0002\"]);\n",
              "//# sourceURL=js_80348568b8"
            ],
            "text/plain": [
              "<IPython.core.display.Javascript object>"
            ]
          },
          "metadata": {}
        },
        {
          "output_type": "display_data",
          "data": {
            "application/javascript": [
              "window[\"5cb62b8a-9d97-11ec-955d-0242ac1c0002\"] = google.colab.output.setActiveOutputArea(window[\"5c9fa306-9d97-11ec-955d-0242ac1c0002\"]);\n",
              "//# sourceURL=js_b97a5498f9"
            ],
            "text/plain": [
              "<IPython.core.display.Javascript object>"
            ]
          },
          "metadata": {}
        },
        {
          "output_type": "display_data",
          "data": {
            "application/javascript": [
              "window[\"5cd69b68-9d97-11ec-955d-0242ac1c0002\"] = google.colab.output.getActiveOutputArea();\n",
              "//# sourceURL=js_70dcdf003c"
            ],
            "text/plain": [
              "<IPython.core.display.Javascript object>"
            ]
          },
          "metadata": {}
        },
        {
          "output_type": "display_data",
          "data": {
            "application/javascript": [
              "window[\"5cd6e618-9d97-11ec-955d-0242ac1c0002\"] = document.querySelector(\"#id46-0-0\");\n",
              "//# sourceURL=js_39f466854c"
            ],
            "text/plain": [
              "<IPython.core.display.Javascript object>"
            ]
          },
          "metadata": {}
        },
        {
          "output_type": "display_data",
          "data": {
            "application/javascript": [
              "window[\"5cd72754-9d97-11ec-955d-0242ac1c0002\"] = google.colab.output.setActiveOutputArea(window[\"5cd6e618-9d97-11ec-955d-0242ac1c0002\"]);\n",
              "//# sourceURL=js_6cc03c5eb3"
            ],
            "text/plain": [
              "<IPython.core.display.Javascript object>"
            ]
          },
          "metadata": {}
        },
        {
          "output_type": "display_data",
          "data": {
            "application/javascript": [
              "window[\"5cedf8bc-9d97-11ec-955d-0242ac1c0002\"] = google.colab.output.setActiveOutputArea(window[\"5cd69b68-9d97-11ec-955d-0242ac1c0002\"]);\n",
              "//# sourceURL=js_e4d76d8f63"
            ],
            "text/plain": [
              "<IPython.core.display.Javascript object>"
            ]
          },
          "metadata": {}
        },
        {
          "output_type": "display_data",
          "data": {
            "application/javascript": [
              "window[\"5d0e3a78-9d97-11ec-955d-0242ac1c0002\"] = google.colab.output.getActiveOutputArea();\n",
              "//# sourceURL=js_b271917c39"
            ],
            "text/plain": [
              "<IPython.core.display.Javascript object>"
            ]
          },
          "metadata": {}
        },
        {
          "output_type": "display_data",
          "data": {
            "application/javascript": [
              "window[\"5d0e9b94-9d97-11ec-955d-0242ac1c0002\"] = document.querySelector(\"#id46-0-0\");\n",
              "//# sourceURL=js_784a33873b"
            ],
            "text/plain": [
              "<IPython.core.display.Javascript object>"
            ]
          },
          "metadata": {}
        },
        {
          "output_type": "display_data",
          "data": {
            "application/javascript": [
              "window[\"5d0f0782-9d97-11ec-955d-0242ac1c0002\"] = google.colab.output.setActiveOutputArea(window[\"5d0e9b94-9d97-11ec-955d-0242ac1c0002\"]);\n",
              "//# sourceURL=js_22353ecc4e"
            ],
            "text/plain": [
              "<IPython.core.display.Javascript object>"
            ]
          },
          "metadata": {}
        },
        {
          "output_type": "display_data",
          "data": {
            "application/javascript": [
              "window[\"5d2ee778-9d97-11ec-955d-0242ac1c0002\"] = google.colab.output.setActiveOutputArea(window[\"5d0e3a78-9d97-11ec-955d-0242ac1c0002\"]);\n",
              "//# sourceURL=js_4b8622a053"
            ],
            "text/plain": [
              "<IPython.core.display.Javascript object>"
            ]
          },
          "metadata": {}
        },
        {
          "output_type": "display_data",
          "data": {
            "application/javascript": [
              "window[\"5d4f0eb8-9d97-11ec-955d-0242ac1c0002\"] = google.colab.output.getActiveOutputArea();\n",
              "//# sourceURL=js_01fbc6abae"
            ],
            "text/plain": [
              "<IPython.core.display.Javascript object>"
            ]
          },
          "metadata": {}
        },
        {
          "output_type": "display_data",
          "data": {
            "application/javascript": [
              "window[\"5d4f7ac4-9d97-11ec-955d-0242ac1c0002\"] = document.querySelector(\"#id46-0-0\");\n",
              "//# sourceURL=js_c92ad90a92"
            ],
            "text/plain": [
              "<IPython.core.display.Javascript object>"
            ]
          },
          "metadata": {}
        },
        {
          "output_type": "display_data",
          "data": {
            "application/javascript": [
              "window[\"5d4fce70-9d97-11ec-955d-0242ac1c0002\"] = google.colab.output.setActiveOutputArea(window[\"5d4f7ac4-9d97-11ec-955d-0242ac1c0002\"]);\n",
              "//# sourceURL=js_e220ba8e53"
            ],
            "text/plain": [
              "<IPython.core.display.Javascript object>"
            ]
          },
          "metadata": {}
        },
        {
          "output_type": "display_data",
          "data": {
            "application/javascript": [
              "window[\"5d65a6a0-9d97-11ec-955d-0242ac1c0002\"] = google.colab.output.setActiveOutputArea(window[\"5d4f0eb8-9d97-11ec-955d-0242ac1c0002\"]);\n",
              "//# sourceURL=js_30cd2f7c06"
            ],
            "text/plain": [
              "<IPython.core.display.Javascript object>"
            ]
          },
          "metadata": {}
        },
        {
          "output_type": "display_data",
          "data": {
            "application/javascript": [
              "window[\"5d88306c-9d97-11ec-955d-0242ac1c0002\"] = google.colab.output.getActiveOutputArea();\n",
              "//# sourceURL=js_76b98dd163"
            ],
            "text/plain": [
              "<IPython.core.display.Javascript object>"
            ]
          },
          "metadata": {}
        },
        {
          "output_type": "display_data",
          "data": {
            "application/javascript": [
              "window[\"5d8889f4-9d97-11ec-955d-0242ac1c0002\"] = document.querySelector(\"#id46-0-0\");\n",
              "//# sourceURL=js_ba3b91afb8"
            ],
            "text/plain": [
              "<IPython.core.display.Javascript object>"
            ]
          },
          "metadata": {}
        },
        {
          "output_type": "display_data",
          "data": {
            "application/javascript": [
              "window[\"5d88da4e-9d97-11ec-955d-0242ac1c0002\"] = google.colab.output.setActiveOutputArea(window[\"5d8889f4-9d97-11ec-955d-0242ac1c0002\"]);\n",
              "//# sourceURL=js_8ee6b44ea0"
            ],
            "text/plain": [
              "<IPython.core.display.Javascript object>"
            ]
          },
          "metadata": {}
        },
        {
          "output_type": "display_data",
          "data": {
            "application/javascript": [
              "window[\"5d9fac60-9d97-11ec-955d-0242ac1c0002\"] = google.colab.output.setActiveOutputArea(window[\"5d88306c-9d97-11ec-955d-0242ac1c0002\"]);\n",
              "//# sourceURL=js_2daa73c316"
            ],
            "text/plain": [
              "<IPython.core.display.Javascript object>"
            ]
          },
          "metadata": {}
        },
        {
          "output_type": "display_data",
          "data": {
            "application/javascript": [
              "window[\"5dc16954-9d97-11ec-955d-0242ac1c0002\"] = google.colab.output.getActiveOutputArea();\n",
              "//# sourceURL=js_c0eaef42e2"
            ],
            "text/plain": [
              "<IPython.core.display.Javascript object>"
            ]
          },
          "metadata": {}
        },
        {
          "output_type": "display_data",
          "data": {
            "application/javascript": [
              "window[\"5dc1b5d0-9d97-11ec-955d-0242ac1c0002\"] = document.querySelector(\"#id46-0-0\");\n",
              "//# sourceURL=js_ed673b6b04"
            ],
            "text/plain": [
              "<IPython.core.display.Javascript object>"
            ]
          },
          "metadata": {}
        },
        {
          "output_type": "display_data",
          "data": {
            "application/javascript": [
              "window[\"5dc1fdd8-9d97-11ec-955d-0242ac1c0002\"] = google.colab.output.setActiveOutputArea(window[\"5dc1b5d0-9d97-11ec-955d-0242ac1c0002\"]);\n",
              "//# sourceURL=js_0f7c552354"
            ],
            "text/plain": [
              "<IPython.core.display.Javascript object>"
            ]
          },
          "metadata": {}
        },
        {
          "output_type": "display_data",
          "data": {
            "application/javascript": [
              "window[\"5dd72d52-9d97-11ec-955d-0242ac1c0002\"] = google.colab.output.setActiveOutputArea(window[\"5dc16954-9d97-11ec-955d-0242ac1c0002\"]);\n",
              "//# sourceURL=js_96bf5da623"
            ],
            "text/plain": [
              "<IPython.core.display.Javascript object>"
            ]
          },
          "metadata": {}
        },
        {
          "output_type": "display_data",
          "data": {
            "application/javascript": [
              "window[\"5df85040-9d97-11ec-955d-0242ac1c0002\"] = google.colab.output.getActiveOutputArea();\n",
              "//# sourceURL=js_d5f0b7de85"
            ],
            "text/plain": [
              "<IPython.core.display.Javascript object>"
            ]
          },
          "metadata": {}
        },
        {
          "output_type": "display_data",
          "data": {
            "application/javascript": [
              "window[\"5df89dfc-9d97-11ec-955d-0242ac1c0002\"] = document.querySelector(\"#id46-0-0\");\n",
              "//# sourceURL=js_3f29ade3b7"
            ],
            "text/plain": [
              "<IPython.core.display.Javascript object>"
            ]
          },
          "metadata": {}
        },
        {
          "output_type": "display_data",
          "data": {
            "application/javascript": [
              "window[\"5df8e398-9d97-11ec-955d-0242ac1c0002\"] = google.colab.output.setActiveOutputArea(window[\"5df89dfc-9d97-11ec-955d-0242ac1c0002\"]);\n",
              "//# sourceURL=js_3f1eb148d2"
            ],
            "text/plain": [
              "<IPython.core.display.Javascript object>"
            ]
          },
          "metadata": {}
        },
        {
          "output_type": "display_data",
          "data": {
            "application/javascript": [
              "window[\"5e0e0796-9d97-11ec-955d-0242ac1c0002\"] = google.colab.output.setActiveOutputArea(window[\"5df85040-9d97-11ec-955d-0242ac1c0002\"]);\n",
              "//# sourceURL=js_2c9f713a02"
            ],
            "text/plain": [
              "<IPython.core.display.Javascript object>"
            ]
          },
          "metadata": {}
        },
        {
          "output_type": "display_data",
          "data": {
            "application/javascript": [
              "window[\"5e2e58a2-9d97-11ec-955d-0242ac1c0002\"] = google.colab.output.getActiveOutputArea();\n",
              "//# sourceURL=js_5222843071"
            ],
            "text/plain": [
              "<IPython.core.display.Javascript object>"
            ]
          },
          "metadata": {}
        },
        {
          "output_type": "display_data",
          "data": {
            "application/javascript": [
              "window[\"5e2ebf72-9d97-11ec-955d-0242ac1c0002\"] = document.querySelector(\"#id46-0-0\");\n",
              "//# sourceURL=js_c5c9b47ee3"
            ],
            "text/plain": [
              "<IPython.core.display.Javascript object>"
            ]
          },
          "metadata": {}
        },
        {
          "output_type": "display_data",
          "data": {
            "application/javascript": [
              "window[\"5e2f0ef0-9d97-11ec-955d-0242ac1c0002\"] = google.colab.output.setActiveOutputArea(window[\"5e2ebf72-9d97-11ec-955d-0242ac1c0002\"]);\n",
              "//# sourceURL=js_b71c313a22"
            ],
            "text/plain": [
              "<IPython.core.display.Javascript object>"
            ]
          },
          "metadata": {}
        },
        {
          "output_type": "display_data",
          "data": {
            "application/javascript": [
              "window[\"5e4443e2-9d97-11ec-955d-0242ac1c0002\"] = google.colab.output.setActiveOutputArea(window[\"5e2e58a2-9d97-11ec-955d-0242ac1c0002\"]);\n",
              "//# sourceURL=js_30aa798c94"
            ],
            "text/plain": [
              "<IPython.core.display.Javascript object>"
            ]
          },
          "metadata": {}
        },
        {
          "output_type": "display_data",
          "data": {
            "application/javascript": [
              "window[\"5e64e804-9d97-11ec-955d-0242ac1c0002\"] = google.colab.output.getActiveOutputArea();\n",
              "//# sourceURL=js_0f94d12467"
            ],
            "text/plain": [
              "<IPython.core.display.Javascript object>"
            ]
          },
          "metadata": {}
        },
        {
          "output_type": "display_data",
          "data": {
            "application/javascript": [
              "window[\"5e6537d2-9d97-11ec-955d-0242ac1c0002\"] = document.querySelector(\"#id46-0-0\");\n",
              "//# sourceURL=js_7bdb031f49"
            ],
            "text/plain": [
              "<IPython.core.display.Javascript object>"
            ]
          },
          "metadata": {}
        },
        {
          "output_type": "display_data",
          "data": {
            "application/javascript": [
              "window[\"5e658674-9d97-11ec-955d-0242ac1c0002\"] = google.colab.output.setActiveOutputArea(window[\"5e6537d2-9d97-11ec-955d-0242ac1c0002\"]);\n",
              "//# sourceURL=js_82d6e6e19e"
            ],
            "text/plain": [
              "<IPython.core.display.Javascript object>"
            ]
          },
          "metadata": {}
        },
        {
          "output_type": "display_data",
          "data": {
            "application/javascript": [
              "window[\"5e7b0f62-9d97-11ec-955d-0242ac1c0002\"] = google.colab.output.setActiveOutputArea(window[\"5e64e804-9d97-11ec-955d-0242ac1c0002\"]);\n",
              "//# sourceURL=js_74e30c6f37"
            ],
            "text/plain": [
              "<IPython.core.display.Javascript object>"
            ]
          },
          "metadata": {}
        },
        {
          "output_type": "display_data",
          "data": {
            "application/javascript": [
              "window[\"5e9b5484-9d97-11ec-955d-0242ac1c0002\"] = google.colab.output.getActiveOutputArea();\n",
              "//# sourceURL=js_6e782f6433"
            ],
            "text/plain": [
              "<IPython.core.display.Javascript object>"
            ]
          },
          "metadata": {}
        },
        {
          "output_type": "display_data",
          "data": {
            "application/javascript": [
              "window[\"5e9b9df4-9d97-11ec-955d-0242ac1c0002\"] = document.querySelector(\"#id46-0-0\");\n",
              "//# sourceURL=js_26229f12fd"
            ],
            "text/plain": [
              "<IPython.core.display.Javascript object>"
            ]
          },
          "metadata": {}
        },
        {
          "output_type": "display_data",
          "data": {
            "application/javascript": [
              "window[\"5e9be520-9d97-11ec-955d-0242ac1c0002\"] = google.colab.output.setActiveOutputArea(window[\"5e9b9df4-9d97-11ec-955d-0242ac1c0002\"]);\n",
              "//# sourceURL=js_bf492b245a"
            ],
            "text/plain": [
              "<IPython.core.display.Javascript object>"
            ]
          },
          "metadata": {}
        },
        {
          "output_type": "display_data",
          "data": {
            "application/javascript": [
              "window[\"5eb1c188-9d97-11ec-955d-0242ac1c0002\"] = google.colab.output.setActiveOutputArea(window[\"5e9b5484-9d97-11ec-955d-0242ac1c0002\"]);\n",
              "//# sourceURL=js_fff70d5334"
            ],
            "text/plain": [
              "<IPython.core.display.Javascript object>"
            ]
          },
          "metadata": {}
        },
        {
          "output_type": "display_data",
          "data": {
            "application/javascript": [
              "window[\"5ed225a4-9d97-11ec-955d-0242ac1c0002\"] = google.colab.output.getActiveOutputArea();\n",
              "//# sourceURL=js_5141fa49f1"
            ],
            "text/plain": [
              "<IPython.core.display.Javascript object>"
            ]
          },
          "metadata": {}
        },
        {
          "output_type": "display_data",
          "data": {
            "application/javascript": [
              "window[\"5ed28b5c-9d97-11ec-955d-0242ac1c0002\"] = document.querySelector(\"#id46-0-0\");\n",
              "//# sourceURL=js_9e68805774"
            ],
            "text/plain": [
              "<IPython.core.display.Javascript object>"
            ]
          },
          "metadata": {}
        },
        {
          "output_type": "display_data",
          "data": {
            "application/javascript": [
              "window[\"5ed2e732-9d97-11ec-955d-0242ac1c0002\"] = google.colab.output.setActiveOutputArea(window[\"5ed28b5c-9d97-11ec-955d-0242ac1c0002\"]);\n",
              "//# sourceURL=js_2b09c9ec5b"
            ],
            "text/plain": [
              "<IPython.core.display.Javascript object>"
            ]
          },
          "metadata": {}
        },
        {
          "output_type": "display_data",
          "data": {
            "application/javascript": [
              "window[\"5ee90e0e-9d97-11ec-955d-0242ac1c0002\"] = google.colab.output.setActiveOutputArea(window[\"5ed225a4-9d97-11ec-955d-0242ac1c0002\"]);\n",
              "//# sourceURL=js_8ce76e1364"
            ],
            "text/plain": [
              "<IPython.core.display.Javascript object>"
            ]
          },
          "metadata": {}
        },
        {
          "output_type": "display_data",
          "data": {
            "application/javascript": [
              "window[\"5f098b2a-9d97-11ec-955d-0242ac1c0002\"] = google.colab.output.getActiveOutputArea();\n",
              "//# sourceURL=js_f864108159"
            ],
            "text/plain": [
              "<IPython.core.display.Javascript object>"
            ]
          },
          "metadata": {}
        },
        {
          "output_type": "display_data",
          "data": {
            "application/javascript": [
              "window[\"5f09e0b6-9d97-11ec-955d-0242ac1c0002\"] = document.querySelector(\"#id46-0-0\");\n",
              "//# sourceURL=js_29a84fdd70"
            ],
            "text/plain": [
              "<IPython.core.display.Javascript object>"
            ]
          },
          "metadata": {}
        },
        {
          "output_type": "display_data",
          "data": {
            "application/javascript": [
              "window[\"5f0a32fa-9d97-11ec-955d-0242ac1c0002\"] = google.colab.output.setActiveOutputArea(window[\"5f09e0b6-9d97-11ec-955d-0242ac1c0002\"]);\n",
              "//# sourceURL=js_51e944b102"
            ],
            "text/plain": [
              "<IPython.core.display.Javascript object>"
            ]
          },
          "metadata": {}
        },
        {
          "output_type": "display_data",
          "data": {
            "application/javascript": [
              "window[\"5f1fa11c-9d97-11ec-955d-0242ac1c0002\"] = google.colab.output.setActiveOutputArea(window[\"5f098b2a-9d97-11ec-955d-0242ac1c0002\"]);\n",
              "//# sourceURL=js_ebda41ffdd"
            ],
            "text/plain": [
              "<IPython.core.display.Javascript object>"
            ]
          },
          "metadata": {}
        },
        {
          "output_type": "display_data",
          "data": {
            "application/javascript": [
              "window[\"5f3ff99e-9d97-11ec-955d-0242ac1c0002\"] = google.colab.output.getActiveOutputArea();\n",
              "//# sourceURL=js_af533852d5"
            ],
            "text/plain": [
              "<IPython.core.display.Javascript object>"
            ]
          },
          "metadata": {}
        },
        {
          "output_type": "display_data",
          "data": {
            "application/javascript": [
              "window[\"5f40400c-9d97-11ec-955d-0242ac1c0002\"] = document.querySelector(\"#id46-0-0\");\n",
              "//# sourceURL=js_04bda43f33"
            ],
            "text/plain": [
              "<IPython.core.display.Javascript object>"
            ]
          },
          "metadata": {}
        },
        {
          "output_type": "display_data",
          "data": {
            "application/javascript": [
              "window[\"5f408a44-9d97-11ec-955d-0242ac1c0002\"] = google.colab.output.setActiveOutputArea(window[\"5f40400c-9d97-11ec-955d-0242ac1c0002\"]);\n",
              "//# sourceURL=js_d455b98143"
            ],
            "text/plain": [
              "<IPython.core.display.Javascript object>"
            ]
          },
          "metadata": {}
        },
        {
          "output_type": "display_data",
          "data": {
            "application/javascript": [
              "window[\"5f558944-9d97-11ec-955d-0242ac1c0002\"] = google.colab.output.setActiveOutputArea(window[\"5f3ff99e-9d97-11ec-955d-0242ac1c0002\"]);\n",
              "//# sourceURL=js_69718ce9af"
            ],
            "text/plain": [
              "<IPython.core.display.Javascript object>"
            ]
          },
          "metadata": {}
        },
        {
          "output_type": "display_data",
          "data": {
            "application/javascript": [
              "window[\"5f762e24-9d97-11ec-955d-0242ac1c0002\"] = google.colab.output.getActiveOutputArea();\n",
              "//# sourceURL=js_4bf64cd76d"
            ],
            "text/plain": [
              "<IPython.core.display.Javascript object>"
            ]
          },
          "metadata": {}
        },
        {
          "output_type": "display_data",
          "data": {
            "application/javascript": [
              "window[\"5f768234-9d97-11ec-955d-0242ac1c0002\"] = document.querySelector(\"#id46-0-0\");\n",
              "//# sourceURL=js_89a4606b28"
            ],
            "text/plain": [
              "<IPython.core.display.Javascript object>"
            ]
          },
          "metadata": {}
        },
        {
          "output_type": "display_data",
          "data": {
            "application/javascript": [
              "window[\"5f76e01c-9d97-11ec-955d-0242ac1c0002\"] = google.colab.output.setActiveOutputArea(window[\"5f768234-9d97-11ec-955d-0242ac1c0002\"]);\n",
              "//# sourceURL=js_052d35e155"
            ],
            "text/plain": [
              "<IPython.core.display.Javascript object>"
            ]
          },
          "metadata": {}
        },
        {
          "output_type": "display_data",
          "data": {
            "application/javascript": [
              "window[\"5f8aeb52-9d97-11ec-955d-0242ac1c0002\"] = google.colab.output.setActiveOutputArea(window[\"5f762e24-9d97-11ec-955d-0242ac1c0002\"]);\n",
              "//# sourceURL=js_0c3628d365"
            ],
            "text/plain": [
              "<IPython.core.display.Javascript object>"
            ]
          },
          "metadata": {}
        },
        {
          "output_type": "display_data",
          "data": {
            "application/javascript": [
              "window[\"5fab280e-9d97-11ec-955d-0242ac1c0002\"] = google.colab.output.getActiveOutputArea();\n",
              "//# sourceURL=js_ce975402fa"
            ],
            "text/plain": [
              "<IPython.core.display.Javascript object>"
            ]
          },
          "metadata": {}
        },
        {
          "output_type": "display_data",
          "data": {
            "application/javascript": [
              "window[\"5fab7f52-9d97-11ec-955d-0242ac1c0002\"] = document.querySelector(\"#id46-0-0\");\n",
              "//# sourceURL=js_98c17e0668"
            ],
            "text/plain": [
              "<IPython.core.display.Javascript object>"
            ]
          },
          "metadata": {}
        },
        {
          "output_type": "display_data",
          "data": {
            "application/javascript": [
              "window[\"5fabdd6c-9d97-11ec-955d-0242ac1c0002\"] = google.colab.output.setActiveOutputArea(window[\"5fab7f52-9d97-11ec-955d-0242ac1c0002\"]);\n",
              "//# sourceURL=js_c5c6ff6b22"
            ],
            "text/plain": [
              "<IPython.core.display.Javascript object>"
            ]
          },
          "metadata": {}
        },
        {
          "output_type": "display_data",
          "data": {
            "application/javascript": [
              "window[\"5fc187a2-9d97-11ec-955d-0242ac1c0002\"] = google.colab.output.setActiveOutputArea(window[\"5fab280e-9d97-11ec-955d-0242ac1c0002\"]);\n",
              "//# sourceURL=js_a86aae751f"
            ],
            "text/plain": [
              "<IPython.core.display.Javascript object>"
            ]
          },
          "metadata": {}
        },
        {
          "output_type": "display_data",
          "data": {
            "application/javascript": [
              "window[\"5fe20702-9d97-11ec-955d-0242ac1c0002\"] = google.colab.output.getActiveOutputArea();\n",
              "//# sourceURL=js_93c68611f9"
            ],
            "text/plain": [
              "<IPython.core.display.Javascript object>"
            ]
          },
          "metadata": {}
        },
        {
          "output_type": "display_data",
          "data": {
            "application/javascript": [
              "window[\"5fe250e0-9d97-11ec-955d-0242ac1c0002\"] = document.querySelector(\"#id46-0-0\");\n",
              "//# sourceURL=js_07caadef39"
            ],
            "text/plain": [
              "<IPython.core.display.Javascript object>"
            ]
          },
          "metadata": {}
        },
        {
          "output_type": "display_data",
          "data": {
            "application/javascript": [
              "window[\"5fe2a860-9d97-11ec-955d-0242ac1c0002\"] = google.colab.output.setActiveOutputArea(window[\"5fe250e0-9d97-11ec-955d-0242ac1c0002\"]);\n",
              "//# sourceURL=js_6e662abaad"
            ],
            "text/plain": [
              "<IPython.core.display.Javascript object>"
            ]
          },
          "metadata": {}
        },
        {
          "output_type": "display_data",
          "data": {
            "application/javascript": [
              "window[\"5ff8421a-9d97-11ec-955d-0242ac1c0002\"] = google.colab.output.setActiveOutputArea(window[\"5fe20702-9d97-11ec-955d-0242ac1c0002\"]);\n",
              "//# sourceURL=js_988d92e9e1"
            ],
            "text/plain": [
              "<IPython.core.display.Javascript object>"
            ]
          },
          "metadata": {}
        },
        {
          "output_type": "display_data",
          "data": {
            "application/javascript": [
              "window[\"6018e7cc-9d97-11ec-955d-0242ac1c0002\"] = google.colab.output.getActiveOutputArea();\n",
              "//# sourceURL=js_66130a12f4"
            ],
            "text/plain": [
              "<IPython.core.display.Javascript object>"
            ]
          },
          "metadata": {}
        },
        {
          "output_type": "display_data",
          "data": {
            "application/javascript": [
              "window[\"6019287c-9d97-11ec-955d-0242ac1c0002\"] = document.querySelector(\"#id46-0-0\");\n",
              "//# sourceURL=js_9a0e057d7f"
            ],
            "text/plain": [
              "<IPython.core.display.Javascript object>"
            ]
          },
          "metadata": {}
        },
        {
          "output_type": "display_data",
          "data": {
            "application/javascript": [
              "window[\"6019d3c6-9d97-11ec-955d-0242ac1c0002\"] = google.colab.output.setActiveOutputArea(window[\"6019287c-9d97-11ec-955d-0242ac1c0002\"]);\n",
              "//# sourceURL=js_7f1c587d7b"
            ],
            "text/plain": [
              "<IPython.core.display.Javascript object>"
            ]
          },
          "metadata": {}
        },
        {
          "output_type": "display_data",
          "data": {
            "application/javascript": [
              "window[\"602f1c7c-9d97-11ec-955d-0242ac1c0002\"] = google.colab.output.setActiveOutputArea(window[\"6018e7cc-9d97-11ec-955d-0242ac1c0002\"]);\n",
              "//# sourceURL=js_04c3277f30"
            ],
            "text/plain": [
              "<IPython.core.display.Javascript object>"
            ]
          },
          "metadata": {}
        },
        {
          "output_type": "display_data",
          "data": {
            "application/javascript": [
              "window[\"604f8232-9d97-11ec-955d-0242ac1c0002\"] = google.colab.output.getActiveOutputArea();\n",
              "//# sourceURL=js_b7be742c1d"
            ],
            "text/plain": [
              "<IPython.core.display.Javascript object>"
            ]
          },
          "metadata": {}
        },
        {
          "output_type": "display_data",
          "data": {
            "application/javascript": [
              "window[\"604fdbb0-9d97-11ec-955d-0242ac1c0002\"] = document.querySelector(\"#id46-0-0\");\n",
              "//# sourceURL=js_034a81dd95"
            ],
            "text/plain": [
              "<IPython.core.display.Javascript object>"
            ]
          },
          "metadata": {}
        },
        {
          "output_type": "display_data",
          "data": {
            "application/javascript": [
              "window[\"605041ae-9d97-11ec-955d-0242ac1c0002\"] = google.colab.output.setActiveOutputArea(window[\"604fdbb0-9d97-11ec-955d-0242ac1c0002\"]);\n",
              "//# sourceURL=js_ac87f8572d"
            ],
            "text/plain": [
              "<IPython.core.display.Javascript object>"
            ]
          },
          "metadata": {}
        },
        {
          "output_type": "display_data",
          "data": {
            "application/javascript": [
              "window[\"6070229e-9d97-11ec-955d-0242ac1c0002\"] = google.colab.output.setActiveOutputArea(window[\"604f8232-9d97-11ec-955d-0242ac1c0002\"]);\n",
              "//# sourceURL=js_14e2149038"
            ],
            "text/plain": [
              "<IPython.core.display.Javascript object>"
            ]
          },
          "metadata": {}
        },
        {
          "output_type": "display_data",
          "data": {
            "application/javascript": [
              "window[\"6090a91a-9d97-11ec-955d-0242ac1c0002\"] = google.colab.output.getActiveOutputArea();\n",
              "//# sourceURL=js_72cd9c2baf"
            ],
            "text/plain": [
              "<IPython.core.display.Javascript object>"
            ]
          },
          "metadata": {}
        },
        {
          "output_type": "display_data",
          "data": {
            "application/javascript": [
              "window[\"6090fa82-9d97-11ec-955d-0242ac1c0002\"] = document.querySelector(\"#id46-0-0\");\n",
              "//# sourceURL=js_b9b7bbdfe9"
            ],
            "text/plain": [
              "<IPython.core.display.Javascript object>"
            ]
          },
          "metadata": {}
        },
        {
          "output_type": "display_data",
          "data": {
            "application/javascript": [
              "window[\"6091668e-9d97-11ec-955d-0242ac1c0002\"] = google.colab.output.setActiveOutputArea(window[\"6090fa82-9d97-11ec-955d-0242ac1c0002\"]);\n",
              "//# sourceURL=js_5422dae436"
            ],
            "text/plain": [
              "<IPython.core.display.Javascript object>"
            ]
          },
          "metadata": {}
        },
        {
          "output_type": "display_data",
          "data": {
            "application/javascript": [
              "window[\"60a659ae-9d97-11ec-955d-0242ac1c0002\"] = google.colab.output.setActiveOutputArea(window[\"6090a91a-9d97-11ec-955d-0242ac1c0002\"]);\n",
              "//# sourceURL=js_75e0e6a265"
            ],
            "text/plain": [
              "<IPython.core.display.Javascript object>"
            ]
          },
          "metadata": {}
        },
        {
          "output_type": "display_data",
          "data": {
            "application/javascript": [
              "window[\"60c6fe3e-9d97-11ec-955d-0242ac1c0002\"] = google.colab.output.getActiveOutputArea();\n",
              "//# sourceURL=js_f98c2bce22"
            ],
            "text/plain": [
              "<IPython.core.display.Javascript object>"
            ]
          },
          "metadata": {}
        },
        {
          "output_type": "display_data",
          "data": {
            "application/javascript": [
              "window[\"60c75f78-9d97-11ec-955d-0242ac1c0002\"] = document.querySelector(\"#id46-0-0\");\n",
              "//# sourceURL=js_75cdde6e18"
            ],
            "text/plain": [
              "<IPython.core.display.Javascript object>"
            ]
          },
          "metadata": {}
        },
        {
          "output_type": "display_data",
          "data": {
            "application/javascript": [
              "window[\"60c7baa4-9d97-11ec-955d-0242ac1c0002\"] = google.colab.output.setActiveOutputArea(window[\"60c75f78-9d97-11ec-955d-0242ac1c0002\"]);\n",
              "//# sourceURL=js_01322529dd"
            ],
            "text/plain": [
              "<IPython.core.display.Javascript object>"
            ]
          },
          "metadata": {}
        },
        {
          "output_type": "display_data",
          "data": {
            "application/javascript": [
              "window[\"60dcf428-9d97-11ec-955d-0242ac1c0002\"] = google.colab.output.setActiveOutputArea(window[\"60c6fe3e-9d97-11ec-955d-0242ac1c0002\"]);\n",
              "//# sourceURL=js_23eba234f3"
            ],
            "text/plain": [
              "<IPython.core.display.Javascript object>"
            ]
          },
          "metadata": {}
        },
        {
          "output_type": "display_data",
          "data": {
            "application/javascript": [
              "window[\"60fd74be-9d97-11ec-955d-0242ac1c0002\"] = google.colab.output.getActiveOutputArea();\n",
              "//# sourceURL=js_45d2787fe7"
            ],
            "text/plain": [
              "<IPython.core.display.Javascript object>"
            ]
          },
          "metadata": {}
        },
        {
          "output_type": "display_data",
          "data": {
            "application/javascript": [
              "window[\"60fdcad6-9d97-11ec-955d-0242ac1c0002\"] = document.querySelector(\"#id46-0-0\");\n",
              "//# sourceURL=js_5ffedc903f"
            ],
            "text/plain": [
              "<IPython.core.display.Javascript object>"
            ]
          },
          "metadata": {}
        },
        {
          "output_type": "display_data",
          "data": {
            "application/javascript": [
              "window[\"60fe56fe-9d97-11ec-955d-0242ac1c0002\"] = google.colab.output.setActiveOutputArea(window[\"60fdcad6-9d97-11ec-955d-0242ac1c0002\"]);\n",
              "//# sourceURL=js_24f240b108"
            ],
            "text/plain": [
              "<IPython.core.display.Javascript object>"
            ]
          },
          "metadata": {}
        },
        {
          "output_type": "display_data",
          "data": {
            "application/javascript": [
              "window[\"611316fc-9d97-11ec-955d-0242ac1c0002\"] = google.colab.output.setActiveOutputArea(window[\"60fd74be-9d97-11ec-955d-0242ac1c0002\"]);\n",
              "//# sourceURL=js_5dbb1db1bd"
            ],
            "text/plain": [
              "<IPython.core.display.Javascript object>"
            ]
          },
          "metadata": {}
        },
        {
          "output_type": "display_data",
          "data": {
            "application/javascript": [
              "window[\"6133bfce-9d97-11ec-955d-0242ac1c0002\"] = google.colab.output.getActiveOutputArea();\n",
              "//# sourceURL=js_88f3a08064"
            ],
            "text/plain": [
              "<IPython.core.display.Javascript object>"
            ]
          },
          "metadata": {}
        },
        {
          "output_type": "display_data",
          "data": {
            "application/javascript": [
              "window[\"61342360-9d97-11ec-955d-0242ac1c0002\"] = document.querySelector(\"#id46-0-0\");\n",
              "//# sourceURL=js_40b257a256"
            ],
            "text/plain": [
              "<IPython.core.display.Javascript object>"
            ]
          },
          "metadata": {}
        },
        {
          "output_type": "display_data",
          "data": {
            "application/javascript": [
              "window[\"61346e1a-9d97-11ec-955d-0242ac1c0002\"] = google.colab.output.setActiveOutputArea(window[\"61342360-9d97-11ec-955d-0242ac1c0002\"]);\n",
              "//# sourceURL=js_004c4e7f97"
            ],
            "text/plain": [
              "<IPython.core.display.Javascript object>"
            ]
          },
          "metadata": {}
        },
        {
          "output_type": "display_data",
          "data": {
            "application/javascript": [
              "window[\"614aad10-9d97-11ec-955d-0242ac1c0002\"] = google.colab.output.setActiveOutputArea(window[\"6133bfce-9d97-11ec-955d-0242ac1c0002\"]);\n",
              "//# sourceURL=js_9769c6f911"
            ],
            "text/plain": [
              "<IPython.core.display.Javascript object>"
            ]
          },
          "metadata": {}
        },
        {
          "output_type": "display_data",
          "data": {
            "application/javascript": [
              "window[\"616b0f38-9d97-11ec-955d-0242ac1c0002\"] = google.colab.output.getActiveOutputArea();\n",
              "//# sourceURL=js_47a2c9ed58"
            ],
            "text/plain": [
              "<IPython.core.display.Javascript object>"
            ]
          },
          "metadata": {}
        },
        {
          "output_type": "display_data",
          "data": {
            "application/javascript": [
              "window[\"616b6f8c-9d97-11ec-955d-0242ac1c0002\"] = document.querySelector(\"#id46-0-0\");\n",
              "//# sourceURL=js_268408e217"
            ],
            "text/plain": [
              "<IPython.core.display.Javascript object>"
            ]
          },
          "metadata": {}
        },
        {
          "output_type": "display_data",
          "data": {
            "application/javascript": [
              "window[\"616bb924-9d97-11ec-955d-0242ac1c0002\"] = google.colab.output.setActiveOutputArea(window[\"616b6f8c-9d97-11ec-955d-0242ac1c0002\"]);\n",
              "//# sourceURL=js_509255b66a"
            ],
            "text/plain": [
              "<IPython.core.display.Javascript object>"
            ]
          },
          "metadata": {}
        },
        {
          "output_type": "display_data",
          "data": {
            "application/javascript": [
              "window[\"6181d13c-9d97-11ec-955d-0242ac1c0002\"] = google.colab.output.setActiveOutputArea(window[\"616b0f38-9d97-11ec-955d-0242ac1c0002\"]);\n",
              "//# sourceURL=js_4bc344fbb6"
            ],
            "text/plain": [
              "<IPython.core.display.Javascript object>"
            ]
          },
          "metadata": {}
        },
        {
          "output_type": "display_data",
          "data": {
            "application/javascript": [
              "window[\"61a2afb0-9d97-11ec-955d-0242ac1c0002\"] = google.colab.output.getActiveOutputArea();\n",
              "//# sourceURL=js_07653f3f7f"
            ],
            "text/plain": [
              "<IPython.core.display.Javascript object>"
            ]
          },
          "metadata": {}
        },
        {
          "output_type": "display_data",
          "data": {
            "application/javascript": [
              "window[\"61a30550-9d97-11ec-955d-0242ac1c0002\"] = document.querySelector(\"#id46-0-0\");\n",
              "//# sourceURL=js_245cd79fad"
            ],
            "text/plain": [
              "<IPython.core.display.Javascript object>"
            ]
          },
          "metadata": {}
        },
        {
          "output_type": "display_data",
          "data": {
            "application/javascript": [
              "window[\"61a35564-9d97-11ec-955d-0242ac1c0002\"] = google.colab.output.setActiveOutputArea(window[\"61a30550-9d97-11ec-955d-0242ac1c0002\"]);\n",
              "//# sourceURL=js_74290accc0"
            ],
            "text/plain": [
              "<IPython.core.display.Javascript object>"
            ]
          },
          "metadata": {}
        },
        {
          "output_type": "display_data",
          "data": {
            "application/javascript": [
              "window[\"61b922ea-9d97-11ec-955d-0242ac1c0002\"] = google.colab.output.setActiveOutputArea(window[\"61a2afb0-9d97-11ec-955d-0242ac1c0002\"]);\n",
              "//# sourceURL=js_9b35117dc0"
            ],
            "text/plain": [
              "<IPython.core.display.Javascript object>"
            ]
          },
          "metadata": {}
        },
        {
          "output_type": "display_data",
          "data": {
            "application/javascript": [
              "window[\"61d96dac-9d97-11ec-955d-0242ac1c0002\"] = google.colab.output.getActiveOutputArea();\n",
              "//# sourceURL=js_0a6e0ae645"
            ],
            "text/plain": [
              "<IPython.core.display.Javascript object>"
            ]
          },
          "metadata": {}
        },
        {
          "output_type": "display_data",
          "data": {
            "application/javascript": [
              "window[\"61d9adbc-9d97-11ec-955d-0242ac1c0002\"] = document.querySelector(\"#id46-0-0\");\n",
              "//# sourceURL=js_b1b216f762"
            ],
            "text/plain": [
              "<IPython.core.display.Javascript object>"
            ]
          },
          "metadata": {}
        },
        {
          "output_type": "display_data",
          "data": {
            "application/javascript": [
              "window[\"61d9fe70-9d97-11ec-955d-0242ac1c0002\"] = google.colab.output.setActiveOutputArea(window[\"61d9adbc-9d97-11ec-955d-0242ac1c0002\"]);\n",
              "//# sourceURL=js_ea529c3e5a"
            ],
            "text/plain": [
              "<IPython.core.display.Javascript object>"
            ]
          },
          "metadata": {}
        },
        {
          "output_type": "display_data",
          "data": {
            "application/javascript": [
              "window[\"61efca48-9d97-11ec-955d-0242ac1c0002\"] = google.colab.output.setActiveOutputArea(window[\"61d96dac-9d97-11ec-955d-0242ac1c0002\"]);\n",
              "//# sourceURL=js_a94c3a4214"
            ],
            "text/plain": [
              "<IPython.core.display.Javascript object>"
            ]
          },
          "metadata": {}
        },
        {
          "output_type": "display_data",
          "data": {
            "application/javascript": [
              "window[\"62105e2a-9d97-11ec-955d-0242ac1c0002\"] = google.colab.output.getActiveOutputArea();\n",
              "//# sourceURL=js_e2f0ed9f6a"
            ],
            "text/plain": [
              "<IPython.core.display.Javascript object>"
            ]
          },
          "metadata": {}
        },
        {
          "output_type": "display_data",
          "data": {
            "application/javascript": [
              "window[\"6210bdde-9d97-11ec-955d-0242ac1c0002\"] = document.querySelector(\"#id46-0-0\");\n",
              "//# sourceURL=js_72b4772b7d"
            ],
            "text/plain": [
              "<IPython.core.display.Javascript object>"
            ]
          },
          "metadata": {}
        },
        {
          "output_type": "display_data",
          "data": {
            "application/javascript": [
              "window[\"62115abe-9d97-11ec-955d-0242ac1c0002\"] = google.colab.output.setActiveOutputArea(window[\"6210bdde-9d97-11ec-955d-0242ac1c0002\"]);\n",
              "//# sourceURL=js_e19ad0494b"
            ],
            "text/plain": [
              "<IPython.core.display.Javascript object>"
            ]
          },
          "metadata": {}
        },
        {
          "output_type": "display_data",
          "data": {
            "application/javascript": [
              "window[\"6227b5b6-9d97-11ec-955d-0242ac1c0002\"] = google.colab.output.setActiveOutputArea(window[\"62105e2a-9d97-11ec-955d-0242ac1c0002\"]);\n",
              "//# sourceURL=js_059d3164f2"
            ],
            "text/plain": [
              "<IPython.core.display.Javascript object>"
            ]
          },
          "metadata": {}
        },
        {
          "output_type": "display_data",
          "data": {
            "application/javascript": [
              "window[\"62482f6c-9d97-11ec-955d-0242ac1c0002\"] = google.colab.output.getActiveOutputArea();\n",
              "//# sourceURL=js_55045ab568"
            ],
            "text/plain": [
              "<IPython.core.display.Javascript object>"
            ]
          },
          "metadata": {}
        },
        {
          "output_type": "display_data",
          "data": {
            "application/javascript": [
              "window[\"624867e8-9d97-11ec-955d-0242ac1c0002\"] = document.querySelector(\"#id46-0-0\");\n",
              "//# sourceURL=js_630e226399"
            ],
            "text/plain": [
              "<IPython.core.display.Javascript object>"
            ]
          },
          "metadata": {}
        },
        {
          "output_type": "display_data",
          "data": {
            "application/javascript": [
              "window[\"6248b798-9d97-11ec-955d-0242ac1c0002\"] = google.colab.output.setActiveOutputArea(window[\"624867e8-9d97-11ec-955d-0242ac1c0002\"]);\n",
              "//# sourceURL=js_f36e18a222"
            ],
            "text/plain": [
              "<IPython.core.display.Javascript object>"
            ]
          },
          "metadata": {}
        },
        {
          "output_type": "display_data",
          "data": {
            "application/javascript": [
              "window[\"625d5590-9d97-11ec-955d-0242ac1c0002\"] = google.colab.output.setActiveOutputArea(window[\"62482f6c-9d97-11ec-955d-0242ac1c0002\"]);\n",
              "//# sourceURL=js_40fe9306d5"
            ],
            "text/plain": [
              "<IPython.core.display.Javascript object>"
            ]
          },
          "metadata": {}
        },
        {
          "output_type": "display_data",
          "data": {
            "application/javascript": [
              "window[\"627e060a-9d97-11ec-955d-0242ac1c0002\"] = google.colab.output.getActiveOutputArea();\n",
              "//# sourceURL=js_27a3c56500"
            ],
            "text/plain": [
              "<IPython.core.display.Javascript object>"
            ]
          },
          "metadata": {}
        },
        {
          "output_type": "display_data",
          "data": {
            "application/javascript": [
              "window[\"627e62c6-9d97-11ec-955d-0242ac1c0002\"] = document.querySelector(\"#id46-0-0\");\n",
              "//# sourceURL=js_ca360d7624"
            ],
            "text/plain": [
              "<IPython.core.display.Javascript object>"
            ]
          },
          "metadata": {}
        },
        {
          "output_type": "display_data",
          "data": {
            "application/javascript": [
              "window[\"627ec586-9d97-11ec-955d-0242ac1c0002\"] = google.colab.output.setActiveOutputArea(window[\"627e62c6-9d97-11ec-955d-0242ac1c0002\"]);\n",
              "//# sourceURL=js_c2f23f6a06"
            ],
            "text/plain": [
              "<IPython.core.display.Javascript object>"
            ]
          },
          "metadata": {}
        },
        {
          "output_type": "display_data",
          "data": {
            "application/javascript": [
              "window[\"6295dc58-9d97-11ec-955d-0242ac1c0002\"] = google.colab.output.setActiveOutputArea(window[\"627e060a-9d97-11ec-955d-0242ac1c0002\"]);\n",
              "//# sourceURL=js_f132ed8299"
            ],
            "text/plain": [
              "<IPython.core.display.Javascript object>"
            ]
          },
          "metadata": {}
        },
        {
          "output_type": "display_data",
          "data": {
            "application/javascript": [
              "window[\"62b834c4-9d97-11ec-955d-0242ac1c0002\"] = google.colab.output.getActiveOutputArea();\n",
              "//# sourceURL=js_4cf5557b27"
            ],
            "text/plain": [
              "<IPython.core.display.Javascript object>"
            ]
          },
          "metadata": {}
        },
        {
          "output_type": "display_data",
          "data": {
            "application/javascript": [
              "window[\"62b88bb8-9d97-11ec-955d-0242ac1c0002\"] = document.querySelector(\"#id46-0-0\");\n",
              "//# sourceURL=js_ef36745d33"
            ],
            "text/plain": [
              "<IPython.core.display.Javascript object>"
            ]
          },
          "metadata": {}
        },
        {
          "output_type": "display_data",
          "data": {
            "application/javascript": [
              "window[\"62b8e3c4-9d97-11ec-955d-0242ac1c0002\"] = google.colab.output.setActiveOutputArea(window[\"62b88bb8-9d97-11ec-955d-0242ac1c0002\"]);\n",
              "//# sourceURL=js_48c486aa28"
            ],
            "text/plain": [
              "<IPython.core.display.Javascript object>"
            ]
          },
          "metadata": {}
        },
        {
          "output_type": "display_data",
          "data": {
            "application/javascript": [
              "window[\"62d27dde-9d97-11ec-955d-0242ac1c0002\"] = google.colab.output.setActiveOutputArea(window[\"62b834c4-9d97-11ec-955d-0242ac1c0002\"]);\n",
              "//# sourceURL=js_d9289e46a7"
            ],
            "text/plain": [
              "<IPython.core.display.Javascript object>"
            ]
          },
          "metadata": {}
        },
        {
          "output_type": "display_data",
          "data": {
            "application/javascript": [
              "window[\"62f31508-9d97-11ec-955d-0242ac1c0002\"] = google.colab.output.getActiveOutputArea();\n",
              "//# sourceURL=js_0db9e78da0"
            ],
            "text/plain": [
              "<IPython.core.display.Javascript object>"
            ]
          },
          "metadata": {}
        },
        {
          "output_type": "display_data",
          "data": {
            "application/javascript": [
              "window[\"62f36ff8-9d97-11ec-955d-0242ac1c0002\"] = document.querySelector(\"#id46-0-0\");\n",
              "//# sourceURL=js_f7250d06dc"
            ],
            "text/plain": [
              "<IPython.core.display.Javascript object>"
            ]
          },
          "metadata": {}
        },
        {
          "output_type": "display_data",
          "data": {
            "application/javascript": [
              "window[\"62f3be4a-9d97-11ec-955d-0242ac1c0002\"] = google.colab.output.setActiveOutputArea(window[\"62f36ff8-9d97-11ec-955d-0242ac1c0002\"]);\n",
              "//# sourceURL=js_f6daa28b61"
            ],
            "text/plain": [
              "<IPython.core.display.Javascript object>"
            ]
          },
          "metadata": {}
        },
        {
          "output_type": "display_data",
          "data": {
            "application/javascript": [
              "window[\"630959ee-9d97-11ec-955d-0242ac1c0002\"] = google.colab.output.setActiveOutputArea(window[\"62f31508-9d97-11ec-955d-0242ac1c0002\"]);\n",
              "//# sourceURL=js_94cf707061"
            ],
            "text/plain": [
              "<IPython.core.display.Javascript object>"
            ]
          },
          "metadata": {}
        },
        {
          "output_type": "display_data",
          "data": {
            "application/javascript": [
              "window[\"6329ff46-9d97-11ec-955d-0242ac1c0002\"] = google.colab.output.getActiveOutputArea();\n",
              "//# sourceURL=js_31cc8ec327"
            ],
            "text/plain": [
              "<IPython.core.display.Javascript object>"
            ]
          },
          "metadata": {}
        },
        {
          "output_type": "display_data",
          "data": {
            "application/javascript": [
              "window[\"632a48e8-9d97-11ec-955d-0242ac1c0002\"] = document.querySelector(\"#id46-0-0\");\n",
              "//# sourceURL=js_f950d618d4"
            ],
            "text/plain": [
              "<IPython.core.display.Javascript object>"
            ]
          },
          "metadata": {}
        },
        {
          "output_type": "display_data",
          "data": {
            "application/javascript": [
              "window[\"632a9604-9d97-11ec-955d-0242ac1c0002\"] = google.colab.output.setActiveOutputArea(window[\"632a48e8-9d97-11ec-955d-0242ac1c0002\"]);\n",
              "//# sourceURL=js_1289baa873"
            ],
            "text/plain": [
              "<IPython.core.display.Javascript object>"
            ]
          },
          "metadata": {}
        },
        {
          "output_type": "display_data",
          "data": {
            "application/javascript": [
              "window[\"6340c76c-9d97-11ec-955d-0242ac1c0002\"] = google.colab.output.setActiveOutputArea(window[\"6329ff46-9d97-11ec-955d-0242ac1c0002\"]);\n",
              "//# sourceURL=js_b3d74f0582"
            ],
            "text/plain": [
              "<IPython.core.display.Javascript object>"
            ]
          },
          "metadata": {}
        },
        {
          "output_type": "display_data",
          "data": {
            "application/javascript": [
              "window[\"63612962-9d97-11ec-955d-0242ac1c0002\"] = google.colab.output.getActiveOutputArea();\n",
              "//# sourceURL=js_7a97dce5d1"
            ],
            "text/plain": [
              "<IPython.core.display.Javascript object>"
            ]
          },
          "metadata": {}
        },
        {
          "output_type": "display_data",
          "data": {
            "application/javascript": [
              "window[\"63617bba-9d97-11ec-955d-0242ac1c0002\"] = document.querySelector(\"#id46-0-0\");\n",
              "//# sourceURL=js_720e1b8d06"
            ],
            "text/plain": [
              "<IPython.core.display.Javascript object>"
            ]
          },
          "metadata": {}
        },
        {
          "output_type": "display_data",
          "data": {
            "application/javascript": [
              "window[\"6361f478-9d97-11ec-955d-0242ac1c0002\"] = google.colab.output.setActiveOutputArea(window[\"63617bba-9d97-11ec-955d-0242ac1c0002\"]);\n",
              "//# sourceURL=js_b19ce771ad"
            ],
            "text/plain": [
              "<IPython.core.display.Javascript object>"
            ]
          },
          "metadata": {}
        },
        {
          "output_type": "display_data",
          "data": {
            "application/javascript": [
              "window[\"6376f1de-9d97-11ec-955d-0242ac1c0002\"] = google.colab.output.setActiveOutputArea(window[\"63612962-9d97-11ec-955d-0242ac1c0002\"]);\n",
              "//# sourceURL=js_a5aa4808e0"
            ],
            "text/plain": [
              "<IPython.core.display.Javascript object>"
            ]
          },
          "metadata": {}
        },
        {
          "output_type": "display_data",
          "data": {
            "application/javascript": [
              "window[\"639786d8-9d97-11ec-955d-0242ac1c0002\"] = google.colab.output.getActiveOutputArea();\n",
              "//# sourceURL=js_ba0afb42e6"
            ],
            "text/plain": [
              "<IPython.core.display.Javascript object>"
            ]
          },
          "metadata": {}
        },
        {
          "output_type": "display_data",
          "data": {
            "application/javascript": [
              "window[\"6397d8e0-9d97-11ec-955d-0242ac1c0002\"] = document.querySelector(\"#id46-0-0\");\n",
              "//# sourceURL=js_c3b36fddc3"
            ],
            "text/plain": [
              "<IPython.core.display.Javascript object>"
            ]
          },
          "metadata": {}
        },
        {
          "output_type": "display_data",
          "data": {
            "application/javascript": [
              "window[\"63982890-9d97-11ec-955d-0242ac1c0002\"] = google.colab.output.setActiveOutputArea(window[\"6397d8e0-9d97-11ec-955d-0242ac1c0002\"]);\n",
              "//# sourceURL=js_8f9b9a7bca"
            ],
            "text/plain": [
              "<IPython.core.display.Javascript object>"
            ]
          },
          "metadata": {}
        },
        {
          "output_type": "display_data",
          "data": {
            "application/javascript": [
              "window[\"63b7f170-9d97-11ec-955d-0242ac1c0002\"] = google.colab.output.setActiveOutputArea(window[\"639786d8-9d97-11ec-955d-0242ac1c0002\"]);\n",
              "//# sourceURL=js_d0893a1585"
            ],
            "text/plain": [
              "<IPython.core.display.Javascript object>"
            ]
          },
          "metadata": {}
        },
        {
          "output_type": "display_data",
          "data": {
            "application/javascript": [
              "window[\"63d84d30-9d97-11ec-955d-0242ac1c0002\"] = google.colab.output.getActiveOutputArea();\n",
              "//# sourceURL=js_7d153cd77d"
            ],
            "text/plain": [
              "<IPython.core.display.Javascript object>"
            ]
          },
          "metadata": {}
        },
        {
          "output_type": "display_data",
          "data": {
            "application/javascript": [
              "window[\"63d8a80c-9d97-11ec-955d-0242ac1c0002\"] = document.querySelector(\"#id46-0-0\");\n",
              "//# sourceURL=js_348e17b7c2"
            ],
            "text/plain": [
              "<IPython.core.display.Javascript object>"
            ]
          },
          "metadata": {}
        },
        {
          "output_type": "display_data",
          "data": {
            "application/javascript": [
              "window[\"63d8ff50-9d97-11ec-955d-0242ac1c0002\"] = google.colab.output.setActiveOutputArea(window[\"63d8a80c-9d97-11ec-955d-0242ac1c0002\"]);\n",
              "//# sourceURL=js_3bc4a1a4ba"
            ],
            "text/plain": [
              "<IPython.core.display.Javascript object>"
            ]
          },
          "metadata": {}
        },
        {
          "output_type": "display_data",
          "data": {
            "application/javascript": [
              "window[\"63eddf88-9d97-11ec-955d-0242ac1c0002\"] = google.colab.output.setActiveOutputArea(window[\"63d84d30-9d97-11ec-955d-0242ac1c0002\"]);\n",
              "//# sourceURL=js_346f77baf8"
            ],
            "text/plain": [
              "<IPython.core.display.Javascript object>"
            ]
          },
          "metadata": {}
        },
        {
          "output_type": "display_data",
          "data": {
            "application/javascript": [
              "window[\"640e4250-9d97-11ec-955d-0242ac1c0002\"] = google.colab.output.getActiveOutputArea();\n",
              "//# sourceURL=js_3feddc962b"
            ],
            "text/plain": [
              "<IPython.core.display.Javascript object>"
            ]
          },
          "metadata": {}
        },
        {
          "output_type": "display_data",
          "data": {
            "application/javascript": [
              "window[\"640ea39e-9d97-11ec-955d-0242ac1c0002\"] = document.querySelector(\"#id46-0-0\");\n",
              "//# sourceURL=js_2dc903271d"
            ],
            "text/plain": [
              "<IPython.core.display.Javascript object>"
            ]
          },
          "metadata": {}
        },
        {
          "output_type": "display_data",
          "data": {
            "application/javascript": [
              "window[\"640f0ffa-9d97-11ec-955d-0242ac1c0002\"] = google.colab.output.setActiveOutputArea(window[\"640ea39e-9d97-11ec-955d-0242ac1c0002\"]);\n",
              "//# sourceURL=js_5bdcc0b770"
            ],
            "text/plain": [
              "<IPython.core.display.Javascript object>"
            ]
          },
          "metadata": {}
        },
        {
          "output_type": "display_data",
          "data": {
            "application/javascript": [
              "window[\"6423a604-9d97-11ec-955d-0242ac1c0002\"] = google.colab.output.setActiveOutputArea(window[\"640e4250-9d97-11ec-955d-0242ac1c0002\"]);\n",
              "//# sourceURL=js_cb04443de6"
            ],
            "text/plain": [
              "<IPython.core.display.Javascript object>"
            ]
          },
          "metadata": {}
        },
        {
          "output_type": "display_data",
          "data": {
            "application/javascript": [
              "window[\"6443c880-9d97-11ec-955d-0242ac1c0002\"] = google.colab.output.getActiveOutputArea();\n",
              "//# sourceURL=js_3099d4f61e"
            ],
            "text/plain": [
              "<IPython.core.display.Javascript object>"
            ]
          },
          "metadata": {}
        },
        {
          "output_type": "display_data",
          "data": {
            "application/javascript": [
              "window[\"64441b00-9d97-11ec-955d-0242ac1c0002\"] = document.querySelector(\"#id46-0-0\");\n",
              "//# sourceURL=js_cff71520ca"
            ],
            "text/plain": [
              "<IPython.core.display.Javascript object>"
            ]
          },
          "metadata": {}
        },
        {
          "output_type": "display_data",
          "data": {
            "application/javascript": [
              "window[\"64447bc2-9d97-11ec-955d-0242ac1c0002\"] = google.colab.output.setActiveOutputArea(window[\"64441b00-9d97-11ec-955d-0242ac1c0002\"]);\n",
              "//# sourceURL=js_a6ee93a8bc"
            ],
            "text/plain": [
              "<IPython.core.display.Javascript object>"
            ]
          },
          "metadata": {}
        },
        {
          "output_type": "display_data",
          "data": {
            "application/javascript": [
              "window[\"64596de8-9d97-11ec-955d-0242ac1c0002\"] = google.colab.output.setActiveOutputArea(window[\"6443c880-9d97-11ec-955d-0242ac1c0002\"]);\n",
              "//# sourceURL=js_cc7e2a1a39"
            ],
            "text/plain": [
              "<IPython.core.display.Javascript object>"
            ]
          },
          "metadata": {}
        },
        {
          "output_type": "display_data",
          "data": {
            "application/javascript": [
              "window[\"6479c1c4-9d97-11ec-955d-0242ac1c0002\"] = google.colab.output.getActiveOutputArea();\n",
              "//# sourceURL=js_64b480a72a"
            ],
            "text/plain": [
              "<IPython.core.display.Javascript object>"
            ]
          },
          "metadata": {}
        },
        {
          "output_type": "display_data",
          "data": {
            "application/javascript": [
              "window[\"647a0e90-9d97-11ec-955d-0242ac1c0002\"] = document.querySelector(\"#id46-0-0\");\n",
              "//# sourceURL=js_6a5d9d35c0"
            ],
            "text/plain": [
              "<IPython.core.display.Javascript object>"
            ]
          },
          "metadata": {}
        },
        {
          "output_type": "display_data",
          "data": {
            "application/javascript": [
              "window[\"647a6c46-9d97-11ec-955d-0242ac1c0002\"] = google.colab.output.setActiveOutputArea(window[\"647a0e90-9d97-11ec-955d-0242ac1c0002\"]);\n",
              "//# sourceURL=js_4603709315"
            ],
            "text/plain": [
              "<IPython.core.display.Javascript object>"
            ]
          },
          "metadata": {}
        },
        {
          "output_type": "display_data",
          "data": {
            "application/javascript": [
              "window[\"64901866-9d97-11ec-955d-0242ac1c0002\"] = google.colab.output.setActiveOutputArea(window[\"6479c1c4-9d97-11ec-955d-0242ac1c0002\"]);\n",
              "//# sourceURL=js_bce530c910"
            ],
            "text/plain": [
              "<IPython.core.display.Javascript object>"
            ]
          },
          "metadata": {}
        },
        {
          "output_type": "display_data",
          "data": {
            "application/javascript": [
              "window[\"64b08150-9d97-11ec-955d-0242ac1c0002\"] = google.colab.output.getActiveOutputArea();\n",
              "//# sourceURL=js_0d66c15b68"
            ],
            "text/plain": [
              "<IPython.core.display.Javascript object>"
            ]
          },
          "metadata": {}
        },
        {
          "output_type": "display_data",
          "data": {
            "application/javascript": [
              "window[\"64b0d75e-9d97-11ec-955d-0242ac1c0002\"] = document.querySelector(\"#id46-0-0\");\n",
              "//# sourceURL=js_27855cad4f"
            ],
            "text/plain": [
              "<IPython.core.display.Javascript object>"
            ]
          },
          "metadata": {}
        },
        {
          "output_type": "display_data",
          "data": {
            "application/javascript": [
              "window[\"64b1308c-9d97-11ec-955d-0242ac1c0002\"] = google.colab.output.setActiveOutputArea(window[\"64b0d75e-9d97-11ec-955d-0242ac1c0002\"]);\n",
              "//# sourceURL=js_ed204f3dec"
            ],
            "text/plain": [
              "<IPython.core.display.Javascript object>"
            ]
          },
          "metadata": {}
        },
        {
          "output_type": "display_data",
          "data": {
            "application/javascript": [
              "window[\"64c7dfd0-9d97-11ec-955d-0242ac1c0002\"] = google.colab.output.setActiveOutputArea(window[\"64b08150-9d97-11ec-955d-0242ac1c0002\"]);\n",
              "//# sourceURL=js_7e5d4da056"
            ],
            "text/plain": [
              "<IPython.core.display.Javascript object>"
            ]
          },
          "metadata": {}
        },
        {
          "output_type": "display_data",
          "data": {
            "application/javascript": [
              "window[\"64e9a66a-9d97-11ec-955d-0242ac1c0002\"] = google.colab.output.getActiveOutputArea();\n",
              "//# sourceURL=js_5fc9700cda"
            ],
            "text/plain": [
              "<IPython.core.display.Javascript object>"
            ]
          },
          "metadata": {}
        },
        {
          "output_type": "display_data",
          "data": {
            "application/javascript": [
              "window[\"64e9f142-9d97-11ec-955d-0242ac1c0002\"] = document.querySelector(\"#id46-0-0\");\n",
              "//# sourceURL=js_c098d32fd5"
            ],
            "text/plain": [
              "<IPython.core.display.Javascript object>"
            ]
          },
          "metadata": {}
        },
        {
          "output_type": "display_data",
          "data": {
            "application/javascript": [
              "window[\"64eae106-9d97-11ec-955d-0242ac1c0002\"] = google.colab.output.setActiveOutputArea(window[\"64e9f142-9d97-11ec-955d-0242ac1c0002\"]);\n",
              "//# sourceURL=js_e5d4700c10"
            ],
            "text/plain": [
              "<IPython.core.display.Javascript object>"
            ]
          },
          "metadata": {}
        },
        {
          "output_type": "display_data",
          "data": {
            "application/javascript": [
              "window[\"65004262-9d97-11ec-955d-0242ac1c0002\"] = google.colab.output.setActiveOutputArea(window[\"64e9a66a-9d97-11ec-955d-0242ac1c0002\"]);\n",
              "//# sourceURL=js_fd9ff8d575"
            ],
            "text/plain": [
              "<IPython.core.display.Javascript object>"
            ]
          },
          "metadata": {}
        },
        {
          "output_type": "display_data",
          "data": {
            "application/javascript": [
              "window[\"65210b14-9d97-11ec-955d-0242ac1c0002\"] = google.colab.output.getActiveOutputArea();\n",
              "//# sourceURL=js_a5132354f9"
            ],
            "text/plain": [
              "<IPython.core.display.Javascript object>"
            ]
          },
          "metadata": {}
        },
        {
          "output_type": "display_data",
          "data": {
            "application/javascript": [
              "window[\"652156d2-9d97-11ec-955d-0242ac1c0002\"] = document.querySelector(\"#id46-0-0\");\n",
              "//# sourceURL=js_6cb50b8367"
            ],
            "text/plain": [
              "<IPython.core.display.Javascript object>"
            ]
          },
          "metadata": {}
        },
        {
          "output_type": "display_data",
          "data": {
            "application/javascript": [
              "window[\"652214b4-9d97-11ec-955d-0242ac1c0002\"] = google.colab.output.setActiveOutputArea(window[\"652156d2-9d97-11ec-955d-0242ac1c0002\"]);\n",
              "//# sourceURL=js_edbd0e4b72"
            ],
            "text/plain": [
              "<IPython.core.display.Javascript object>"
            ]
          },
          "metadata": {}
        },
        {
          "output_type": "display_data",
          "data": {
            "application/javascript": [
              "window[\"653917fe-9d97-11ec-955d-0242ac1c0002\"] = google.colab.output.setActiveOutputArea(window[\"65210b14-9d97-11ec-955d-0242ac1c0002\"]);\n",
              "//# sourceURL=js_47aaa42064"
            ],
            "text/plain": [
              "<IPython.core.display.Javascript object>"
            ]
          },
          "metadata": {}
        },
        {
          "output_type": "display_data",
          "data": {
            "application/javascript": [
              "window[\"6559670c-9d97-11ec-955d-0242ac1c0002\"] = google.colab.output.getActiveOutputArea();\n",
              "//# sourceURL=js_301dc41bf3"
            ],
            "text/plain": [
              "<IPython.core.display.Javascript object>"
            ]
          },
          "metadata": {}
        },
        {
          "output_type": "display_data",
          "data": {
            "application/javascript": [
              "window[\"6559bd6a-9d97-11ec-955d-0242ac1c0002\"] = document.querySelector(\"#id46-0-0\");\n",
              "//# sourceURL=js_459f96052f"
            ],
            "text/plain": [
              "<IPython.core.display.Javascript object>"
            ]
          },
          "metadata": {}
        },
        {
          "output_type": "display_data",
          "data": {
            "application/javascript": [
              "window[\"655a216a-9d97-11ec-955d-0242ac1c0002\"] = google.colab.output.setActiveOutputArea(window[\"6559bd6a-9d97-11ec-955d-0242ac1c0002\"]);\n",
              "//# sourceURL=js_afd6e3e6b4"
            ],
            "text/plain": [
              "<IPython.core.display.Javascript object>"
            ]
          },
          "metadata": {}
        },
        {
          "output_type": "display_data",
          "data": {
            "application/javascript": [
              "window[\"656f0544-9d97-11ec-955d-0242ac1c0002\"] = google.colab.output.setActiveOutputArea(window[\"6559670c-9d97-11ec-955d-0242ac1c0002\"]);\n",
              "//# sourceURL=js_7f6b5e2ab6"
            ],
            "text/plain": [
              "<IPython.core.display.Javascript object>"
            ]
          },
          "metadata": {}
        },
        {
          "output_type": "display_data",
          "data": {
            "application/javascript": [
              "window[\"6590caa8-9d97-11ec-955d-0242ac1c0002\"] = google.colab.output.getActiveOutputArea();\n",
              "//# sourceURL=js_fed9050227"
            ],
            "text/plain": [
              "<IPython.core.display.Javascript object>"
            ]
          },
          "metadata": {}
        },
        {
          "output_type": "display_data",
          "data": {
            "application/javascript": [
              "window[\"65918fe2-9d97-11ec-955d-0242ac1c0002\"] = document.querySelector(\"#id46-0-0\");\n",
              "//# sourceURL=js_0dad01931f"
            ],
            "text/plain": [
              "<IPython.core.display.Javascript object>"
            ]
          },
          "metadata": {}
        },
        {
          "output_type": "display_data",
          "data": {
            "application/javascript": [
              "window[\"6592166a-9d97-11ec-955d-0242ac1c0002\"] = google.colab.output.setActiveOutputArea(window[\"65918fe2-9d97-11ec-955d-0242ac1c0002\"]);\n",
              "//# sourceURL=js_5e6fd09619"
            ],
            "text/plain": [
              "<IPython.core.display.Javascript object>"
            ]
          },
          "metadata": {}
        },
        {
          "output_type": "display_data",
          "data": {
            "application/javascript": [
              "window[\"65a86910-9d97-11ec-955d-0242ac1c0002\"] = google.colab.output.setActiveOutputArea(window[\"6590caa8-9d97-11ec-955d-0242ac1c0002\"]);\n",
              "//# sourceURL=js_ae8c29c98a"
            ],
            "text/plain": [
              "<IPython.core.display.Javascript object>"
            ]
          },
          "metadata": {}
        },
        {
          "output_type": "display_data",
          "data": {
            "application/javascript": [
              "window[\"65c9ee78-9d97-11ec-955d-0242ac1c0002\"] = google.colab.output.getActiveOutputArea();\n",
              "//# sourceURL=js_21155c4149"
            ],
            "text/plain": [
              "<IPython.core.display.Javascript object>"
            ]
          },
          "metadata": {}
        },
        {
          "output_type": "display_data",
          "data": {
            "application/javascript": [
              "window[\"65ca760e-9d97-11ec-955d-0242ac1c0002\"] = document.querySelector(\"#id46-0-0\");\n",
              "//# sourceURL=js_abc6850521"
            ],
            "text/plain": [
              "<IPython.core.display.Javascript object>"
            ]
          },
          "metadata": {}
        },
        {
          "output_type": "display_data",
          "data": {
            "application/javascript": [
              "window[\"65cacba4-9d97-11ec-955d-0242ac1c0002\"] = google.colab.output.setActiveOutputArea(window[\"65ca760e-9d97-11ec-955d-0242ac1c0002\"]);\n",
              "//# sourceURL=js_ccc637858e"
            ],
            "text/plain": [
              "<IPython.core.display.Javascript object>"
            ]
          },
          "metadata": {}
        },
        {
          "output_type": "display_data",
          "data": {
            "application/javascript": [
              "window[\"65dfabaa-9d97-11ec-955d-0242ac1c0002\"] = google.colab.output.setActiveOutputArea(window[\"65c9ee78-9d97-11ec-955d-0242ac1c0002\"]);\n",
              "//# sourceURL=js_33783c07b4"
            ],
            "text/plain": [
              "<IPython.core.display.Javascript object>"
            ]
          },
          "metadata": {}
        },
        {
          "output_type": "display_data",
          "data": {
            "application/javascript": [
              "window[\"65fffa18-9d97-11ec-955d-0242ac1c0002\"] = google.colab.output.getActiveOutputArea();\n",
              "//# sourceURL=js_3dcb76aaa6"
            ],
            "text/plain": [
              "<IPython.core.display.Javascript object>"
            ]
          },
          "metadata": {}
        },
        {
          "output_type": "display_data",
          "data": {
            "application/javascript": [
              "window[\"66005558-9d97-11ec-955d-0242ac1c0002\"] = document.querySelector(\"#id46-0-0\");\n",
              "//# sourceURL=js_fa7c5f1551"
            ],
            "text/plain": [
              "<IPython.core.display.Javascript object>"
            ]
          },
          "metadata": {}
        },
        {
          "output_type": "display_data",
          "data": {
            "application/javascript": [
              "window[\"6600b3ae-9d97-11ec-955d-0242ac1c0002\"] = google.colab.output.setActiveOutputArea(window[\"66005558-9d97-11ec-955d-0242ac1c0002\"]);\n",
              "//# sourceURL=js_5942ec7557"
            ],
            "text/plain": [
              "<IPython.core.display.Javascript object>"
            ]
          },
          "metadata": {}
        },
        {
          "output_type": "display_data",
          "data": {
            "application/javascript": [
              "window[\"66158ff4-9d97-11ec-955d-0242ac1c0002\"] = google.colab.output.setActiveOutputArea(window[\"65fffa18-9d97-11ec-955d-0242ac1c0002\"]);\n",
              "//# sourceURL=js_3ef55394c0"
            ],
            "text/plain": [
              "<IPython.core.display.Javascript object>"
            ]
          },
          "metadata": {}
        },
        {
          "output_type": "display_data",
          "data": {
            "application/javascript": [
              "window[\"66361684-9d97-11ec-955d-0242ac1c0002\"] = google.colab.output.getActiveOutputArea();\n",
              "//# sourceURL=js_89bc144ce8"
            ],
            "text/plain": [
              "<IPython.core.display.Javascript object>"
            ]
          },
          "metadata": {}
        },
        {
          "output_type": "display_data",
          "data": {
            "application/javascript": [
              "window[\"6636845c-9d97-11ec-955d-0242ac1c0002\"] = document.querySelector(\"#id46-0-0\");\n",
              "//# sourceURL=js_b8d37b62de"
            ],
            "text/plain": [
              "<IPython.core.display.Javascript object>"
            ]
          },
          "metadata": {}
        },
        {
          "output_type": "display_data",
          "data": {
            "application/javascript": [
              "window[\"6636e8f2-9d97-11ec-955d-0242ac1c0002\"] = google.colab.output.setActiveOutputArea(window[\"6636845c-9d97-11ec-955d-0242ac1c0002\"]);\n",
              "//# sourceURL=js_7d3c545621"
            ],
            "text/plain": [
              "<IPython.core.display.Javascript object>"
            ]
          },
          "metadata": {}
        },
        {
          "output_type": "display_data",
          "data": {
            "application/javascript": [
              "window[\"664c985a-9d97-11ec-955d-0242ac1c0002\"] = google.colab.output.setActiveOutputArea(window[\"66361684-9d97-11ec-955d-0242ac1c0002\"]);\n",
              "//# sourceURL=js_98089d4b72"
            ],
            "text/plain": [
              "<IPython.core.display.Javascript object>"
            ]
          },
          "metadata": {}
        },
        {
          "output_type": "display_data",
          "data": {
            "application/javascript": [
              "window[\"666ef800-9d97-11ec-955d-0242ac1c0002\"] = google.colab.output.getActiveOutputArea();\n",
              "//# sourceURL=js_666ea7a6d0"
            ],
            "text/plain": [
              "<IPython.core.display.Javascript object>"
            ]
          },
          "metadata": {}
        },
        {
          "output_type": "display_data",
          "data": {
            "application/javascript": [
              "window[\"666f4c1a-9d97-11ec-955d-0242ac1c0002\"] = document.querySelector(\"#id46-0-0\");\n",
              "//# sourceURL=js_6ed00d6b82"
            ],
            "text/plain": [
              "<IPython.core.display.Javascript object>"
            ]
          },
          "metadata": {}
        },
        {
          "output_type": "display_data",
          "data": {
            "application/javascript": [
              "window[\"666facc8-9d97-11ec-955d-0242ac1c0002\"] = google.colab.output.setActiveOutputArea(window[\"666f4c1a-9d97-11ec-955d-0242ac1c0002\"]);\n",
              "//# sourceURL=js_b26013e5ed"
            ],
            "text/plain": [
              "<IPython.core.display.Javascript object>"
            ]
          },
          "metadata": {}
        },
        {
          "output_type": "display_data",
          "data": {
            "application/javascript": [
              "window[\"6686284a-9d97-11ec-955d-0242ac1c0002\"] = google.colab.output.setActiveOutputArea(window[\"666ef800-9d97-11ec-955d-0242ac1c0002\"]);\n",
              "//# sourceURL=js_13dc6ca47c"
            ],
            "text/plain": [
              "<IPython.core.display.Javascript object>"
            ]
          },
          "metadata": {}
        },
        {
          "output_type": "display_data",
          "data": {
            "application/javascript": [
              "window[\"66a6913e-9d97-11ec-955d-0242ac1c0002\"] = google.colab.output.getActiveOutputArea();\n",
              "//# sourceURL=js_99de768635"
            ],
            "text/plain": [
              "<IPython.core.display.Javascript object>"
            ]
          },
          "metadata": {}
        },
        {
          "output_type": "display_data",
          "data": {
            "application/javascript": [
              "window[\"66a6ef80-9d97-11ec-955d-0242ac1c0002\"] = document.querySelector(\"#id46-0-0\");\n",
              "//# sourceURL=js_7f1090b2c7"
            ],
            "text/plain": [
              "<IPython.core.display.Javascript object>"
            ]
          },
          "metadata": {}
        },
        {
          "output_type": "display_data",
          "data": {
            "application/javascript": [
              "window[\"66a7bb68-9d97-11ec-955d-0242ac1c0002\"] = google.colab.output.setActiveOutputArea(window[\"66a6ef80-9d97-11ec-955d-0242ac1c0002\"]);\n",
              "//# sourceURL=js_3c669fcdcf"
            ],
            "text/plain": [
              "<IPython.core.display.Javascript object>"
            ]
          },
          "metadata": {}
        },
        {
          "output_type": "display_data",
          "data": {
            "application/javascript": [
              "window[\"66bc975e-9d97-11ec-955d-0242ac1c0002\"] = google.colab.output.setActiveOutputArea(window[\"66a6913e-9d97-11ec-955d-0242ac1c0002\"]);\n",
              "//# sourceURL=js_4fa209f975"
            ],
            "text/plain": [
              "<IPython.core.display.Javascript object>"
            ]
          },
          "metadata": {}
        },
        {
          "output_type": "display_data",
          "data": {
            "application/javascript": [
              "window[\"66dd2370-9d97-11ec-955d-0242ac1c0002\"] = google.colab.output.getActiveOutputArea();\n",
              "//# sourceURL=js_308d5c76e2"
            ],
            "text/plain": [
              "<IPython.core.display.Javascript object>"
            ]
          },
          "metadata": {}
        },
        {
          "output_type": "display_data",
          "data": {
            "application/javascript": [
              "window[\"66de070e-9d97-11ec-955d-0242ac1c0002\"] = document.querySelector(\"#id46-0-0\");\n",
              "//# sourceURL=js_870ef350ef"
            ],
            "text/plain": [
              "<IPython.core.display.Javascript object>"
            ]
          },
          "metadata": {}
        },
        {
          "output_type": "display_data",
          "data": {
            "application/javascript": [
              "window[\"66de55ec-9d97-11ec-955d-0242ac1c0002\"] = google.colab.output.setActiveOutputArea(window[\"66de070e-9d97-11ec-955d-0242ac1c0002\"]);\n",
              "//# sourceURL=js_6edd38b5e2"
            ],
            "text/plain": [
              "<IPython.core.display.Javascript object>"
            ]
          },
          "metadata": {}
        },
        {
          "output_type": "display_data",
          "data": {
            "application/javascript": [
              "window[\"67019d7c-9d97-11ec-955d-0242ac1c0002\"] = google.colab.output.setActiveOutputArea(window[\"66dd2370-9d97-11ec-955d-0242ac1c0002\"]);\n",
              "//# sourceURL=js_553bdea497"
            ],
            "text/plain": [
              "<IPython.core.display.Javascript object>"
            ]
          },
          "metadata": {}
        },
        {
          "output_type": "display_data",
          "data": {
            "application/javascript": [
              "window[\"672321e0-9d97-11ec-955d-0242ac1c0002\"] = google.colab.output.getActiveOutputArea();\n",
              "//# sourceURL=js_cbbe953891"
            ],
            "text/plain": [
              "<IPython.core.display.Javascript object>"
            ]
          },
          "metadata": {}
        },
        {
          "output_type": "display_data",
          "data": {
            "application/javascript": [
              "window[\"67237208-9d97-11ec-955d-0242ac1c0002\"] = document.querySelector(\"#id46-0-0\");\n",
              "//# sourceURL=js_b84d7c6cb2"
            ],
            "text/plain": [
              "<IPython.core.display.Javascript object>"
            ]
          },
          "metadata": {}
        },
        {
          "output_type": "display_data",
          "data": {
            "application/javascript": [
              "window[\"67241a78-9d97-11ec-955d-0242ac1c0002\"] = google.colab.output.setActiveOutputArea(window[\"67237208-9d97-11ec-955d-0242ac1c0002\"]);\n",
              "//# sourceURL=js_3eba23362d"
            ],
            "text/plain": [
              "<IPython.core.display.Javascript object>"
            ]
          },
          "metadata": {}
        },
        {
          "output_type": "display_data",
          "data": {
            "application/javascript": [
              "window[\"673b6732-9d97-11ec-955d-0242ac1c0002\"] = google.colab.output.setActiveOutputArea(window[\"672321e0-9d97-11ec-955d-0242ac1c0002\"]);\n",
              "//# sourceURL=js_0f404587b4"
            ],
            "text/plain": [
              "<IPython.core.display.Javascript object>"
            ]
          },
          "metadata": {}
        },
        {
          "output_type": "display_data",
          "data": {
            "application/javascript": [
              "window[\"675d1d6e-9d97-11ec-955d-0242ac1c0002\"] = google.colab.output.getActiveOutputArea();\n",
              "//# sourceURL=js_48b04613a4"
            ],
            "text/plain": [
              "<IPython.core.display.Javascript object>"
            ]
          },
          "metadata": {}
        },
        {
          "output_type": "display_data",
          "data": {
            "application/javascript": [
              "window[\"675daef0-9d97-11ec-955d-0242ac1c0002\"] = document.querySelector(\"#id46-0-0\");\n",
              "//# sourceURL=js_3c365d99e2"
            ],
            "text/plain": [
              "<IPython.core.display.Javascript object>"
            ]
          },
          "metadata": {}
        },
        {
          "output_type": "display_data",
          "data": {
            "application/javascript": [
              "window[\"675e1cbe-9d97-11ec-955d-0242ac1c0002\"] = google.colab.output.setActiveOutputArea(window[\"675daef0-9d97-11ec-955d-0242ac1c0002\"]);\n",
              "//# sourceURL=js_6e9b6e85d2"
            ],
            "text/plain": [
              "<IPython.core.display.Javascript object>"
            ]
          },
          "metadata": {}
        },
        {
          "output_type": "display_data",
          "data": {
            "application/javascript": [
              "window[\"6773d1b2-9d97-11ec-955d-0242ac1c0002\"] = google.colab.output.setActiveOutputArea(window[\"675d1d6e-9d97-11ec-955d-0242ac1c0002\"]);\n",
              "//# sourceURL=js_07d26c7184"
            ],
            "text/plain": [
              "<IPython.core.display.Javascript object>"
            ]
          },
          "metadata": {}
        },
        {
          "output_type": "display_data",
          "data": {
            "application/javascript": [
              "window[\"6796442c-9d97-11ec-955d-0242ac1c0002\"] = google.colab.output.getActiveOutputArea();\n",
              "//# sourceURL=js_caccb3e6cc"
            ],
            "text/plain": [
              "<IPython.core.display.Javascript object>"
            ]
          },
          "metadata": {}
        },
        {
          "output_type": "display_data",
          "data": {
            "application/javascript": [
              "window[\"679699e0-9d97-11ec-955d-0242ac1c0002\"] = document.querySelector(\"#id46-0-0\");\n",
              "//# sourceURL=js_721243ddf3"
            ],
            "text/plain": [
              "<IPython.core.display.Javascript object>"
            ]
          },
          "metadata": {}
        },
        {
          "output_type": "display_data",
          "data": {
            "application/javascript": [
              "window[\"6796f516-9d97-11ec-955d-0242ac1c0002\"] = google.colab.output.setActiveOutputArea(window[\"679699e0-9d97-11ec-955d-0242ac1c0002\"]);\n",
              "//# sourceURL=js_012d7f8058"
            ],
            "text/plain": [
              "<IPython.core.display.Javascript object>"
            ]
          },
          "metadata": {}
        },
        {
          "output_type": "display_data",
          "data": {
            "application/javascript": [
              "window[\"67ad7250-9d97-11ec-955d-0242ac1c0002\"] = google.colab.output.setActiveOutputArea(window[\"6796442c-9d97-11ec-955d-0242ac1c0002\"]);\n",
              "//# sourceURL=js_e5f6768374"
            ],
            "text/plain": [
              "<IPython.core.display.Javascript object>"
            ]
          },
          "metadata": {}
        },
        {
          "output_type": "display_data",
          "data": {
            "application/javascript": [
              "window[\"67cde706-9d97-11ec-955d-0242ac1c0002\"] = google.colab.output.getActiveOutputArea();\n",
              "//# sourceURL=js_1c0e9838ed"
            ],
            "text/plain": [
              "<IPython.core.display.Javascript object>"
            ]
          },
          "metadata": {}
        },
        {
          "output_type": "display_data",
          "data": {
            "application/javascript": [
              "window[\"67ce2c3e-9d97-11ec-955d-0242ac1c0002\"] = document.querySelector(\"#id46-0-0\");\n",
              "//# sourceURL=js_0c1d6939e5"
            ],
            "text/plain": [
              "<IPython.core.display.Javascript object>"
            ]
          },
          "metadata": {}
        },
        {
          "output_type": "display_data",
          "data": {
            "application/javascript": [
              "window[\"67ce865c-9d97-11ec-955d-0242ac1c0002\"] = google.colab.output.setActiveOutputArea(window[\"67ce2c3e-9d97-11ec-955d-0242ac1c0002\"]);\n",
              "//# sourceURL=js_7c167b79ef"
            ],
            "text/plain": [
              "<IPython.core.display.Javascript object>"
            ]
          },
          "metadata": {}
        },
        {
          "output_type": "display_data",
          "data": {
            "application/javascript": [
              "window[\"67e5df00-9d97-11ec-955d-0242ac1c0002\"] = google.colab.output.setActiveOutputArea(window[\"67cde706-9d97-11ec-955d-0242ac1c0002\"]);\n",
              "//# sourceURL=js_0b18c6fe41"
            ],
            "text/plain": [
              "<IPython.core.display.Javascript object>"
            ]
          },
          "metadata": {}
        },
        {
          "output_type": "display_data",
          "data": {
            "application/javascript": [
              "window[\"68066b58-9d97-11ec-955d-0242ac1c0002\"] = google.colab.output.getActiveOutputArea();\n",
              "//# sourceURL=js_224a13ee4d"
            ],
            "text/plain": [
              "<IPython.core.display.Javascript object>"
            ]
          },
          "metadata": {}
        },
        {
          "output_type": "display_data",
          "data": {
            "application/javascript": [
              "window[\"6806a686-9d97-11ec-955d-0242ac1c0002\"] = document.querySelector(\"#id46-0-0\");\n",
              "//# sourceURL=js_c76ec957d1"
            ],
            "text/plain": [
              "<IPython.core.display.Javascript object>"
            ]
          },
          "metadata": {}
        },
        {
          "output_type": "display_data",
          "data": {
            "application/javascript": [
              "window[\"6806e574-9d97-11ec-955d-0242ac1c0002\"] = google.colab.output.setActiveOutputArea(window[\"6806a686-9d97-11ec-955d-0242ac1c0002\"]);\n",
              "//# sourceURL=js_56b0d89af9"
            ],
            "text/plain": [
              "<IPython.core.display.Javascript object>"
            ]
          },
          "metadata": {}
        },
        {
          "output_type": "display_data",
          "data": {
            "application/javascript": [
              "window[\"681d1a88-9d97-11ec-955d-0242ac1c0002\"] = google.colab.output.setActiveOutputArea(window[\"68066b58-9d97-11ec-955d-0242ac1c0002\"]);\n",
              "//# sourceURL=js_10304aac93"
            ],
            "text/plain": [
              "<IPython.core.display.Javascript object>"
            ]
          },
          "metadata": {}
        },
        {
          "output_type": "display_data",
          "data": {
            "application/javascript": [
              "window[\"683d6716-9d97-11ec-955d-0242ac1c0002\"] = google.colab.output.getActiveOutputArea();\n",
              "//# sourceURL=js_0629c18f92"
            ],
            "text/plain": [
              "<IPython.core.display.Javascript object>"
            ]
          },
          "metadata": {}
        },
        {
          "output_type": "display_data",
          "data": {
            "application/javascript": [
              "window[\"683dbff4-9d97-11ec-955d-0242ac1c0002\"] = document.querySelector(\"#id46-0-0\");\n",
              "//# sourceURL=js_7dc8580a52"
            ],
            "text/plain": [
              "<IPython.core.display.Javascript object>"
            ]
          },
          "metadata": {}
        },
        {
          "output_type": "display_data",
          "data": {
            "application/javascript": [
              "window[\"683e0856-9d97-11ec-955d-0242ac1c0002\"] = google.colab.output.setActiveOutputArea(window[\"683dbff4-9d97-11ec-955d-0242ac1c0002\"]);\n",
              "//# sourceURL=js_19904f2059"
            ],
            "text/plain": [
              "<IPython.core.display.Javascript object>"
            ]
          },
          "metadata": {}
        },
        {
          "output_type": "display_data",
          "data": {
            "application/javascript": [
              "window[\"685395cc-9d97-11ec-955d-0242ac1c0002\"] = google.colab.output.setActiveOutputArea(window[\"683d6716-9d97-11ec-955d-0242ac1c0002\"]);\n",
              "//# sourceURL=js_db13e162ec"
            ],
            "text/plain": [
              "<IPython.core.display.Javascript object>"
            ]
          },
          "metadata": {}
        },
        {
          "output_type": "display_data",
          "data": {
            "application/javascript": [
              "window[\"6873eade-9d97-11ec-955d-0242ac1c0002\"] = google.colab.output.getActiveOutputArea();\n",
              "//# sourceURL=js_f51de3d580"
            ],
            "text/plain": [
              "<IPython.core.display.Javascript object>"
            ]
          },
          "metadata": {}
        },
        {
          "output_type": "display_data",
          "data": {
            "application/javascript": [
              "window[\"68746824-9d97-11ec-955d-0242ac1c0002\"] = document.querySelector(\"#id46-0-0\");\n",
              "//# sourceURL=js_c9b8b5a71f"
            ],
            "text/plain": [
              "<IPython.core.display.Javascript object>"
            ]
          },
          "metadata": {}
        },
        {
          "output_type": "display_data",
          "data": {
            "application/javascript": [
              "window[\"6874cb20-9d97-11ec-955d-0242ac1c0002\"] = google.colab.output.setActiveOutputArea(window[\"68746824-9d97-11ec-955d-0242ac1c0002\"]);\n",
              "//# sourceURL=js_58a4413657"
            ],
            "text/plain": [
              "<IPython.core.display.Javascript object>"
            ]
          },
          "metadata": {}
        },
        {
          "output_type": "display_data",
          "data": {
            "application/javascript": [
              "window[\"688a632c-9d97-11ec-955d-0242ac1c0002\"] = google.colab.output.setActiveOutputArea(window[\"6873eade-9d97-11ec-955d-0242ac1c0002\"]);\n",
              "//# sourceURL=js_45174e978a"
            ],
            "text/plain": [
              "<IPython.core.display.Javascript object>"
            ]
          },
          "metadata": {}
        },
        {
          "output_type": "display_data",
          "data": {
            "application/javascript": [
              "window[\"68aaa290-9d97-11ec-955d-0242ac1c0002\"] = google.colab.output.getActiveOutputArea();\n",
              "//# sourceURL=js_93019bbe85"
            ],
            "text/plain": [
              "<IPython.core.display.Javascript object>"
            ]
          },
          "metadata": {}
        },
        {
          "output_type": "display_data",
          "data": {
            "application/javascript": [
              "window[\"68aae340-9d97-11ec-955d-0242ac1c0002\"] = document.querySelector(\"#id46-0-0\");\n",
              "//# sourceURL=js_184037d22d"
            ],
            "text/plain": [
              "<IPython.core.display.Javascript object>"
            ]
          },
          "metadata": {}
        },
        {
          "output_type": "display_data",
          "data": {
            "application/javascript": [
              "window[\"68ab2300-9d97-11ec-955d-0242ac1c0002\"] = google.colab.output.setActiveOutputArea(window[\"68aae340-9d97-11ec-955d-0242ac1c0002\"]);\n",
              "//# sourceURL=js_0023ea9db9"
            ],
            "text/plain": [
              "<IPython.core.display.Javascript object>"
            ]
          },
          "metadata": {}
        },
        {
          "output_type": "display_data",
          "data": {
            "application/javascript": [
              "window[\"68c0e8c0-9d97-11ec-955d-0242ac1c0002\"] = google.colab.output.setActiveOutputArea(window[\"68aaa290-9d97-11ec-955d-0242ac1c0002\"]);\n",
              "//# sourceURL=js_eb72f86bd6"
            ],
            "text/plain": [
              "<IPython.core.display.Javascript object>"
            ]
          },
          "metadata": {}
        },
        {
          "output_type": "display_data",
          "data": {
            "application/javascript": [
              "window[\"68e163a2-9d97-11ec-955d-0242ac1c0002\"] = google.colab.output.getActiveOutputArea();\n",
              "//# sourceURL=js_73a5df3f65"
            ],
            "text/plain": [
              "<IPython.core.display.Javascript object>"
            ]
          },
          "metadata": {}
        },
        {
          "output_type": "display_data",
          "data": {
            "application/javascript": [
              "window[\"68e1b85c-9d97-11ec-955d-0242ac1c0002\"] = document.querySelector(\"#id46-0-0\");\n",
              "//# sourceURL=js_e28f1a09fe"
            ],
            "text/plain": [
              "<IPython.core.display.Javascript object>"
            ]
          },
          "metadata": {}
        },
        {
          "output_type": "display_data",
          "data": {
            "application/javascript": [
              "window[\"68e23854-9d97-11ec-955d-0242ac1c0002\"] = google.colab.output.setActiveOutputArea(window[\"68e1b85c-9d97-11ec-955d-0242ac1c0002\"]);\n",
              "//# sourceURL=js_b0791333ab"
            ],
            "text/plain": [
              "<IPython.core.display.Javascript object>"
            ]
          },
          "metadata": {}
        },
        {
          "output_type": "display_data",
          "data": {
            "application/javascript": [
              "window[\"68f86eb2-9d97-11ec-955d-0242ac1c0002\"] = google.colab.output.setActiveOutputArea(window[\"68e163a2-9d97-11ec-955d-0242ac1c0002\"]);\n",
              "//# sourceURL=js_b1314f609a"
            ],
            "text/plain": [
              "<IPython.core.display.Javascript object>"
            ]
          },
          "metadata": {}
        },
        {
          "output_type": "display_data",
          "data": {
            "application/javascript": [
              "window[\"6918ec5a-9d97-11ec-955d-0242ac1c0002\"] = google.colab.output.getActiveOutputArea();\n",
              "//# sourceURL=js_22feafdec6"
            ],
            "text/plain": [
              "<IPython.core.display.Javascript object>"
            ]
          },
          "metadata": {}
        },
        {
          "output_type": "display_data",
          "data": {
            "application/javascript": [
              "window[\"69193552-9d97-11ec-955d-0242ac1c0002\"] = document.querySelector(\"#id46-0-0\");\n",
              "//# sourceURL=js_2638dd4cf0"
            ],
            "text/plain": [
              "<IPython.core.display.Javascript object>"
            ]
          },
          "metadata": {}
        },
        {
          "output_type": "display_data",
          "data": {
            "application/javascript": [
              "window[\"6919811a-9d97-11ec-955d-0242ac1c0002\"] = google.colab.output.setActiveOutputArea(window[\"69193552-9d97-11ec-955d-0242ac1c0002\"]);\n",
              "//# sourceURL=js_ae833b7a92"
            ],
            "text/plain": [
              "<IPython.core.display.Javascript object>"
            ]
          },
          "metadata": {}
        },
        {
          "output_type": "display_data",
          "data": {
            "application/javascript": [
              "window[\"692f97a2-9d97-11ec-955d-0242ac1c0002\"] = google.colab.output.setActiveOutputArea(window[\"6918ec5a-9d97-11ec-955d-0242ac1c0002\"]);\n",
              "//# sourceURL=js_65c6948a85"
            ],
            "text/plain": [
              "<IPython.core.display.Javascript object>"
            ]
          },
          "metadata": {}
        },
        {
          "output_type": "display_data",
          "data": {
            "application/javascript": [
              "window[\"69509ccc-9d97-11ec-955d-0242ac1c0002\"] = google.colab.output.getActiveOutputArea();\n",
              "//# sourceURL=js_e7bec9a3ef"
            ],
            "text/plain": [
              "<IPython.core.display.Javascript object>"
            ]
          },
          "metadata": {}
        },
        {
          "output_type": "display_data",
          "data": {
            "application/javascript": [
              "window[\"6950ec0e-9d97-11ec-955d-0242ac1c0002\"] = document.querySelector(\"#id46-0-0\");\n",
              "//# sourceURL=js_9a90700b55"
            ],
            "text/plain": [
              "<IPython.core.display.Javascript object>"
            ]
          },
          "metadata": {}
        },
        {
          "output_type": "display_data",
          "data": {
            "application/javascript": [
              "window[\"695153d8-9d97-11ec-955d-0242ac1c0002\"] = google.colab.output.setActiveOutputArea(window[\"6950ec0e-9d97-11ec-955d-0242ac1c0002\"]);\n",
              "//# sourceURL=js_76342e27cf"
            ],
            "text/plain": [
              "<IPython.core.display.Javascript object>"
            ]
          },
          "metadata": {}
        },
        {
          "output_type": "display_data",
          "data": {
            "application/javascript": [
              "window[\"69673252-9d97-11ec-955d-0242ac1c0002\"] = google.colab.output.setActiveOutputArea(window[\"69509ccc-9d97-11ec-955d-0242ac1c0002\"]);\n",
              "//# sourceURL=js_d2491b4808"
            ],
            "text/plain": [
              "<IPython.core.display.Javascript object>"
            ]
          },
          "metadata": {}
        },
        {
          "output_type": "display_data",
          "data": {
            "application/javascript": [
              "window[\"69879f74-9d97-11ec-955d-0242ac1c0002\"] = google.colab.output.getActiveOutputArea();\n",
              "//# sourceURL=js_176a732ef4"
            ],
            "text/plain": [
              "<IPython.core.display.Javascript object>"
            ]
          },
          "metadata": {}
        },
        {
          "output_type": "display_data",
          "data": {
            "application/javascript": [
              "window[\"6987ec7c-9d97-11ec-955d-0242ac1c0002\"] = document.querySelector(\"#id46-0-0\");\n",
              "//# sourceURL=js_cba79d2daf"
            ],
            "text/plain": [
              "<IPython.core.display.Javascript object>"
            ]
          },
          "metadata": {}
        },
        {
          "output_type": "display_data",
          "data": {
            "application/javascript": [
              "window[\"698850f4-9d97-11ec-955d-0242ac1c0002\"] = google.colab.output.setActiveOutputArea(window[\"6987ec7c-9d97-11ec-955d-0242ac1c0002\"]);\n",
              "//# sourceURL=js_6d1157ba36"
            ],
            "text/plain": [
              "<IPython.core.display.Javascript object>"
            ]
          },
          "metadata": {}
        },
        {
          "output_type": "display_data",
          "data": {
            "application/javascript": [
              "window[\"699e67cc-9d97-11ec-955d-0242ac1c0002\"] = google.colab.output.setActiveOutputArea(window[\"69879f74-9d97-11ec-955d-0242ac1c0002\"]);\n",
              "//# sourceURL=js_04c3f8d060"
            ],
            "text/plain": [
              "<IPython.core.display.Javascript object>"
            ]
          },
          "metadata": {}
        },
        {
          "output_type": "display_data",
          "data": {
            "application/javascript": [
              "window[\"69bee844-9d97-11ec-955d-0242ac1c0002\"] = google.colab.output.getActiveOutputArea();\n",
              "//# sourceURL=js_20af2bc415"
            ],
            "text/plain": [
              "<IPython.core.display.Javascript object>"
            ]
          },
          "metadata": {}
        },
        {
          "output_type": "display_data",
          "data": {
            "application/javascript": [
              "window[\"69bf4ab4-9d97-11ec-955d-0242ac1c0002\"] = document.querySelector(\"#id46-0-0\");\n",
              "//# sourceURL=js_71d5edb91c"
            ],
            "text/plain": [
              "<IPython.core.display.Javascript object>"
            ]
          },
          "metadata": {}
        },
        {
          "output_type": "display_data",
          "data": {
            "application/javascript": [
              "window[\"69bfb8a0-9d97-11ec-955d-0242ac1c0002\"] = google.colab.output.setActiveOutputArea(window[\"69bf4ab4-9d97-11ec-955d-0242ac1c0002\"]);\n",
              "//# sourceURL=js_4ae1715f37"
            ],
            "text/plain": [
              "<IPython.core.display.Javascript object>"
            ]
          },
          "metadata": {}
        },
        {
          "output_type": "display_data",
          "data": {
            "application/javascript": [
              "window[\"69d715c2-9d97-11ec-955d-0242ac1c0002\"] = google.colab.output.setActiveOutputArea(window[\"69bee844-9d97-11ec-955d-0242ac1c0002\"]);\n",
              "//# sourceURL=js_805c2dc55d"
            ],
            "text/plain": [
              "<IPython.core.display.Javascript object>"
            ]
          },
          "metadata": {}
        },
        {
          "output_type": "display_data",
          "data": {
            "application/javascript": [
              "window[\"69f79176-9d97-11ec-955d-0242ac1c0002\"] = google.colab.output.getActiveOutputArea();\n",
              "//# sourceURL=js_07fc479b42"
            ],
            "text/plain": [
              "<IPython.core.display.Javascript object>"
            ]
          },
          "metadata": {}
        },
        {
          "output_type": "display_data",
          "data": {
            "application/javascript": [
              "window[\"69f808fe-9d97-11ec-955d-0242ac1c0002\"] = document.querySelector(\"#id46-0-0\");\n",
              "//# sourceURL=js_177816e83c"
            ],
            "text/plain": [
              "<IPython.core.display.Javascript object>"
            ]
          },
          "metadata": {}
        },
        {
          "output_type": "display_data",
          "data": {
            "application/javascript": [
              "window[\"69f87262-9d97-11ec-955d-0242ac1c0002\"] = google.colab.output.setActiveOutputArea(window[\"69f808fe-9d97-11ec-955d-0242ac1c0002\"]);\n",
              "//# sourceURL=js_8a28565d64"
            ],
            "text/plain": [
              "<IPython.core.display.Javascript object>"
            ]
          },
          "metadata": {}
        },
        {
          "output_type": "display_data",
          "data": {
            "application/javascript": [
              "window[\"6a10423e-9d97-11ec-955d-0242ac1c0002\"] = google.colab.output.setActiveOutputArea(window[\"69f79176-9d97-11ec-955d-0242ac1c0002\"]);\n",
              "//# sourceURL=js_91346a7bb2"
            ],
            "text/plain": [
              "<IPython.core.display.Javascript object>"
            ]
          },
          "metadata": {}
        },
        {
          "output_type": "display_data",
          "data": {
            "application/javascript": [
              "window[\"6a30f6aa-9d97-11ec-955d-0242ac1c0002\"] = google.colab.output.getActiveOutputArea();\n",
              "//# sourceURL=js_79b8286c68"
            ],
            "text/plain": [
              "<IPython.core.display.Javascript object>"
            ]
          },
          "metadata": {}
        },
        {
          "output_type": "display_data",
          "data": {
            "application/javascript": [
              "window[\"6a31555a-9d97-11ec-955d-0242ac1c0002\"] = document.querySelector(\"#id46-0-0\");\n",
              "//# sourceURL=js_a6b6a56774"
            ],
            "text/plain": [
              "<IPython.core.display.Javascript object>"
            ]
          },
          "metadata": {}
        },
        {
          "output_type": "display_data",
          "data": {
            "application/javascript": [
              "window[\"6a31c4c2-9d97-11ec-955d-0242ac1c0002\"] = google.colab.output.setActiveOutputArea(window[\"6a31555a-9d97-11ec-955d-0242ac1c0002\"]);\n",
              "//# sourceURL=js_e071047beb"
            ],
            "text/plain": [
              "<IPython.core.display.Javascript object>"
            ]
          },
          "metadata": {}
        },
        {
          "output_type": "display_data",
          "data": {
            "application/javascript": [
              "window[\"6a5311cc-9d97-11ec-955d-0242ac1c0002\"] = google.colab.output.setActiveOutputArea(window[\"6a30f6aa-9d97-11ec-955d-0242ac1c0002\"]);\n",
              "//# sourceURL=js_71c089c9ff"
            ],
            "text/plain": [
              "<IPython.core.display.Javascript object>"
            ]
          },
          "metadata": {}
        },
        {
          "output_type": "display_data",
          "data": {
            "application/javascript": [
              "window[\"6a737cc8-9d97-11ec-955d-0242ac1c0002\"] = google.colab.output.getActiveOutputArea();\n",
              "//# sourceURL=js_3826299f86"
            ],
            "text/plain": [
              "<IPython.core.display.Javascript object>"
            ]
          },
          "metadata": {}
        },
        {
          "output_type": "display_data",
          "data": {
            "application/javascript": [
              "window[\"6a73d3da-9d97-11ec-955d-0242ac1c0002\"] = document.querySelector(\"#id46-0-0\");\n",
              "//# sourceURL=js_3adf4738d5"
            ],
            "text/plain": [
              "<IPython.core.display.Javascript object>"
            ]
          },
          "metadata": {}
        },
        {
          "output_type": "display_data",
          "data": {
            "application/javascript": [
              "window[\"6a7438b6-9d97-11ec-955d-0242ac1c0002\"] = google.colab.output.setActiveOutputArea(window[\"6a73d3da-9d97-11ec-955d-0242ac1c0002\"]);\n",
              "//# sourceURL=js_f792e991fc"
            ],
            "text/plain": [
              "<IPython.core.display.Javascript object>"
            ]
          },
          "metadata": {}
        },
        {
          "output_type": "display_data",
          "data": {
            "application/javascript": [
              "window[\"6a8976c2-9d97-11ec-955d-0242ac1c0002\"] = google.colab.output.setActiveOutputArea(window[\"6a737cc8-9d97-11ec-955d-0242ac1c0002\"]);\n",
              "//# sourceURL=js_5c6333536c"
            ],
            "text/plain": [
              "<IPython.core.display.Javascript object>"
            ]
          },
          "metadata": {}
        },
        {
          "output_type": "display_data",
          "data": {
            "application/javascript": [
              "window[\"6aab8e06-9d97-11ec-955d-0242ac1c0002\"] = google.colab.output.getActiveOutputArea();\n",
              "//# sourceURL=js_8cbaaf08c1"
            ],
            "text/plain": [
              "<IPython.core.display.Javascript object>"
            ]
          },
          "metadata": {}
        },
        {
          "output_type": "display_data",
          "data": {
            "application/javascript": [
              "window[\"6aabe19e-9d97-11ec-955d-0242ac1c0002\"] = document.querySelector(\"#id46-0-0\");\n",
              "//# sourceURL=js_741a419712"
            ],
            "text/plain": [
              "<IPython.core.display.Javascript object>"
            ]
          },
          "metadata": {}
        },
        {
          "output_type": "display_data",
          "data": {
            "application/javascript": [
              "window[\"6aac2b22-9d97-11ec-955d-0242ac1c0002\"] = google.colab.output.setActiveOutputArea(window[\"6aabe19e-9d97-11ec-955d-0242ac1c0002\"]);\n",
              "//# sourceURL=js_84e0c52adf"
            ],
            "text/plain": [
              "<IPython.core.display.Javascript object>"
            ]
          },
          "metadata": {}
        },
        {
          "output_type": "display_data",
          "data": {
            "application/javascript": [
              "window[\"6ac26180-9d97-11ec-955d-0242ac1c0002\"] = google.colab.output.setActiveOutputArea(window[\"6aab8e06-9d97-11ec-955d-0242ac1c0002\"]);\n",
              "//# sourceURL=js_98a47c2d0a"
            ],
            "text/plain": [
              "<IPython.core.display.Javascript object>"
            ]
          },
          "metadata": {}
        },
        {
          "output_type": "display_data",
          "data": {
            "application/javascript": [
              "window[\"6ae2b37c-9d97-11ec-955d-0242ac1c0002\"] = google.colab.output.getActiveOutputArea();\n",
              "//# sourceURL=js_b803b0dec0"
            ],
            "text/plain": [
              "<IPython.core.display.Javascript object>"
            ]
          },
          "metadata": {}
        },
        {
          "output_type": "display_data",
          "data": {
            "application/javascript": [
              "window[\"6ae319ca-9d97-11ec-955d-0242ac1c0002\"] = document.querySelector(\"#id46-0-0\");\n",
              "//# sourceURL=js_9d7e625363"
            ],
            "text/plain": [
              "<IPython.core.display.Javascript object>"
            ]
          },
          "metadata": {}
        },
        {
          "output_type": "display_data",
          "data": {
            "application/javascript": [
              "window[\"6ae3717c-9d97-11ec-955d-0242ac1c0002\"] = google.colab.output.setActiveOutputArea(window[\"6ae319ca-9d97-11ec-955d-0242ac1c0002\"]);\n",
              "//# sourceURL=js_5cb651b3b0"
            ],
            "text/plain": [
              "<IPython.core.display.Javascript object>"
            ]
          },
          "metadata": {}
        },
        {
          "output_type": "display_data",
          "data": {
            "application/javascript": [
              "window[\"6af93d9a-9d97-11ec-955d-0242ac1c0002\"] = google.colab.output.setActiveOutputArea(window[\"6ae2b37c-9d97-11ec-955d-0242ac1c0002\"]);\n",
              "//# sourceURL=js_ce489b964d"
            ],
            "text/plain": [
              "<IPython.core.display.Javascript object>"
            ]
          },
          "metadata": {}
        },
        {
          "output_type": "display_data",
          "data": {
            "application/javascript": [
              "window[\"6b19bce6-9d97-11ec-955d-0242ac1c0002\"] = google.colab.output.getActiveOutputArea();\n",
              "//# sourceURL=js_6d4a13101a"
            ],
            "text/plain": [
              "<IPython.core.display.Javascript object>"
            ]
          },
          "metadata": {}
        },
        {
          "output_type": "display_data",
          "data": {
            "application/javascript": [
              "window[\"6b1aafac-9d97-11ec-955d-0242ac1c0002\"] = document.querySelector(\"#id46-0-0\");\n",
              "//# sourceURL=js_7626fb6e8c"
            ],
            "text/plain": [
              "<IPython.core.display.Javascript object>"
            ]
          },
          "metadata": {}
        },
        {
          "output_type": "display_data",
          "data": {
            "application/javascript": [
              "window[\"6b1b0592-9d97-11ec-955d-0242ac1c0002\"] = google.colab.output.setActiveOutputArea(window[\"6b1aafac-9d97-11ec-955d-0242ac1c0002\"]);\n",
              "//# sourceURL=js_6c05c05e4f"
            ],
            "text/plain": [
              "<IPython.core.display.Javascript object>"
            ]
          },
          "metadata": {}
        },
        {
          "output_type": "display_data",
          "data": {
            "application/javascript": [
              "window[\"6b31f252-9d97-11ec-955d-0242ac1c0002\"] = google.colab.output.setActiveOutputArea(window[\"6b19bce6-9d97-11ec-955d-0242ac1c0002\"]);\n",
              "//# sourceURL=js_7654326c23"
            ],
            "text/plain": [
              "<IPython.core.display.Javascript object>"
            ]
          },
          "metadata": {}
        },
        {
          "output_type": "display_data",
          "data": {
            "application/javascript": [
              "window[\"6b5312d4-9d97-11ec-955d-0242ac1c0002\"] = google.colab.output.getActiveOutputArea();\n",
              "//# sourceURL=js_7df6f488a5"
            ],
            "text/plain": [
              "<IPython.core.display.Javascript object>"
            ]
          },
          "metadata": {}
        },
        {
          "output_type": "display_data",
          "data": {
            "application/javascript": [
              "window[\"6b5360f4-9d97-11ec-955d-0242ac1c0002\"] = document.querySelector(\"#id46-0-0\");\n",
              "//# sourceURL=js_9a3d6451b5"
            ],
            "text/plain": [
              "<IPython.core.display.Javascript object>"
            ]
          },
          "metadata": {}
        },
        {
          "output_type": "display_data",
          "data": {
            "application/javascript": [
              "window[\"6b53d2b4-9d97-11ec-955d-0242ac1c0002\"] = google.colab.output.setActiveOutputArea(window[\"6b5360f4-9d97-11ec-955d-0242ac1c0002\"]);\n",
              "//# sourceURL=js_c5cd6d8093"
            ],
            "text/plain": [
              "<IPython.core.display.Javascript object>"
            ]
          },
          "metadata": {}
        },
        {
          "output_type": "display_data",
          "data": {
            "application/javascript": [
              "window[\"6b694720-9d97-11ec-955d-0242ac1c0002\"] = google.colab.output.setActiveOutputArea(window[\"6b5312d4-9d97-11ec-955d-0242ac1c0002\"]);\n",
              "//# sourceURL=js_0c4b7d406d"
            ],
            "text/plain": [
              "<IPython.core.display.Javascript object>"
            ]
          },
          "metadata": {}
        },
        {
          "output_type": "display_data",
          "data": {
            "application/javascript": [
              "window[\"6b89cbc6-9d97-11ec-955d-0242ac1c0002\"] = google.colab.output.getActiveOutputArea();\n",
              "//# sourceURL=js_61ccab6382"
            ],
            "text/plain": [
              "<IPython.core.display.Javascript object>"
            ]
          },
          "metadata": {}
        },
        {
          "output_type": "display_data",
          "data": {
            "application/javascript": [
              "window[\"6b8a21ac-9d97-11ec-955d-0242ac1c0002\"] = document.querySelector(\"#id46-0-0\");\n",
              "//# sourceURL=js_7e18c33110"
            ],
            "text/plain": [
              "<IPython.core.display.Javascript object>"
            ]
          },
          "metadata": {}
        },
        {
          "output_type": "display_data",
          "data": {
            "application/javascript": [
              "window[\"6b8a8638-9d97-11ec-955d-0242ac1c0002\"] = google.colab.output.setActiveOutputArea(window[\"6b8a21ac-9d97-11ec-955d-0242ac1c0002\"]);\n",
              "//# sourceURL=js_964611cdff"
            ],
            "text/plain": [
              "<IPython.core.display.Javascript object>"
            ]
          },
          "metadata": {}
        },
        {
          "output_type": "display_data",
          "data": {
            "application/javascript": [
              "window[\"6ba0e248-9d97-11ec-955d-0242ac1c0002\"] = google.colab.output.setActiveOutputArea(window[\"6b89cbc6-9d97-11ec-955d-0242ac1c0002\"]);\n",
              "//# sourceURL=js_c942ee88ad"
            ],
            "text/plain": [
              "<IPython.core.display.Javascript object>"
            ]
          },
          "metadata": {}
        },
        {
          "output_type": "display_data",
          "data": {
            "application/javascript": [
              "window[\"6bc1299a-9d97-11ec-955d-0242ac1c0002\"] = google.colab.output.getActiveOutputArea();\n",
              "//# sourceURL=js_8bb34cd022"
            ],
            "text/plain": [
              "<IPython.core.display.Javascript object>"
            ]
          },
          "metadata": {}
        },
        {
          "output_type": "display_data",
          "data": {
            "application/javascript": [
              "window[\"6bc178d2-9d97-11ec-955d-0242ac1c0002\"] = document.querySelector(\"#id46-0-0\");\n",
              "//# sourceURL=js_34bfa16f0f"
            ],
            "text/plain": [
              "<IPython.core.display.Javascript object>"
            ]
          },
          "metadata": {}
        },
        {
          "output_type": "display_data",
          "data": {
            "application/javascript": [
              "window[\"6bc1cbca-9d97-11ec-955d-0242ac1c0002\"] = google.colab.output.setActiveOutputArea(window[\"6bc178d2-9d97-11ec-955d-0242ac1c0002\"]);\n",
              "//# sourceURL=js_1ecc1c7b74"
            ],
            "text/plain": [
              "<IPython.core.display.Javascript object>"
            ]
          },
          "metadata": {}
        },
        {
          "output_type": "display_data",
          "data": {
            "application/javascript": [
              "window[\"6bd819ac-9d97-11ec-955d-0242ac1c0002\"] = google.colab.output.setActiveOutputArea(window[\"6bc1299a-9d97-11ec-955d-0242ac1c0002\"]);\n",
              "//# sourceURL=js_b29af52730"
            ],
            "text/plain": [
              "<IPython.core.display.Javascript object>"
            ]
          },
          "metadata": {}
        },
        {
          "output_type": "display_data",
          "data": {
            "application/javascript": [
              "window[\"6bf87490-9d97-11ec-955d-0242ac1c0002\"] = google.colab.output.getActiveOutputArea();\n",
              "//# sourceURL=js_04c31e3f53"
            ],
            "text/plain": [
              "<IPython.core.display.Javascript object>"
            ]
          },
          "metadata": {}
        },
        {
          "output_type": "display_data",
          "data": {
            "application/javascript": [
              "window[\"6bf8c616-9d97-11ec-955d-0242ac1c0002\"] = document.querySelector(\"#id46-0-0\");\n",
              "//# sourceURL=js_c840131989"
            ],
            "text/plain": [
              "<IPython.core.display.Javascript object>"
            ]
          },
          "metadata": {}
        },
        {
          "output_type": "display_data",
          "data": {
            "application/javascript": [
              "window[\"6bf93722-9d97-11ec-955d-0242ac1c0002\"] = google.colab.output.setActiveOutputArea(window[\"6bf8c616-9d97-11ec-955d-0242ac1c0002\"]);\n",
              "//# sourceURL=js_20790dd440"
            ],
            "text/plain": [
              "<IPython.core.display.Javascript object>"
            ]
          },
          "metadata": {}
        },
        {
          "output_type": "display_data",
          "data": {
            "application/javascript": [
              "window[\"6c0f9012-9d97-11ec-955d-0242ac1c0002\"] = google.colab.output.setActiveOutputArea(window[\"6bf87490-9d97-11ec-955d-0242ac1c0002\"]);\n",
              "//# sourceURL=js_cf78f513f7"
            ],
            "text/plain": [
              "<IPython.core.display.Javascript object>"
            ]
          },
          "metadata": {}
        },
        {
          "output_type": "display_data",
          "data": {
            "application/javascript": [
              "window[\"6c30f6c6-9d97-11ec-955d-0242ac1c0002\"] = google.colab.output.getActiveOutputArea();\n",
              "//# sourceURL=js_7e28106b61"
            ],
            "text/plain": [
              "<IPython.core.display.Javascript object>"
            ]
          },
          "metadata": {}
        },
        {
          "output_type": "display_data",
          "data": {
            "application/javascript": [
              "window[\"6c3133de-9d97-11ec-955d-0242ac1c0002\"] = document.querySelector(\"#id46-0-0\");\n",
              "//# sourceURL=js_8490c65171"
            ],
            "text/plain": [
              "<IPython.core.display.Javascript object>"
            ]
          },
          "metadata": {}
        },
        {
          "output_type": "display_data",
          "data": {
            "application/javascript": [
              "window[\"6c317876-9d97-11ec-955d-0242ac1c0002\"] = google.colab.output.setActiveOutputArea(window[\"6c3133de-9d97-11ec-955d-0242ac1c0002\"]);\n",
              "//# sourceURL=js_99cdde3823"
            ],
            "text/plain": [
              "<IPython.core.display.Javascript object>"
            ]
          },
          "metadata": {}
        },
        {
          "output_type": "display_data",
          "data": {
            "application/javascript": [
              "window[\"6c482d28-9d97-11ec-955d-0242ac1c0002\"] = google.colab.output.setActiveOutputArea(window[\"6c30f6c6-9d97-11ec-955d-0242ac1c0002\"]);\n",
              "//# sourceURL=js_80f3a0bc19"
            ],
            "text/plain": [
              "<IPython.core.display.Javascript object>"
            ]
          },
          "metadata": {}
        },
        {
          "output_type": "display_data",
          "data": {
            "application/javascript": [
              "window[\"6c687b50-9d97-11ec-955d-0242ac1c0002\"] = google.colab.output.getActiveOutputArea();\n",
              "//# sourceURL=js_7d1dbd0dbe"
            ],
            "text/plain": [
              "<IPython.core.display.Javascript object>"
            ]
          },
          "metadata": {}
        },
        {
          "output_type": "display_data",
          "data": {
            "application/javascript": [
              "window[\"6c68c92a-9d97-11ec-955d-0242ac1c0002\"] = document.querySelector(\"#id46-0-0\");\n",
              "//# sourceURL=js_633b5d37bb"
            ],
            "text/plain": [
              "<IPython.core.display.Javascript object>"
            ]
          },
          "metadata": {}
        },
        {
          "output_type": "display_data",
          "data": {
            "application/javascript": [
              "window[\"6c691736-9d97-11ec-955d-0242ac1c0002\"] = google.colab.output.setActiveOutputArea(window[\"6c68c92a-9d97-11ec-955d-0242ac1c0002\"]);\n",
              "//# sourceURL=js_1683b38604"
            ],
            "text/plain": [
              "<IPython.core.display.Javascript object>"
            ]
          },
          "metadata": {}
        },
        {
          "output_type": "display_data",
          "data": {
            "application/javascript": [
              "window[\"6c818ece-9d97-11ec-955d-0242ac1c0002\"] = google.colab.output.setActiveOutputArea(window[\"6c687b50-9d97-11ec-955d-0242ac1c0002\"]);\n",
              "//# sourceURL=js_c8a0167f9a"
            ],
            "text/plain": [
              "<IPython.core.display.Javascript object>"
            ]
          },
          "metadata": {}
        },
        {
          "output_type": "display_data",
          "data": {
            "application/javascript": [
              "window[\"6ca1e386-9d97-11ec-955d-0242ac1c0002\"] = google.colab.output.getActiveOutputArea();\n",
              "//# sourceURL=js_2f57d23c4a"
            ],
            "text/plain": [
              "<IPython.core.display.Javascript object>"
            ]
          },
          "metadata": {}
        },
        {
          "output_type": "display_data",
          "data": {
            "application/javascript": [
              "window[\"6ca2493e-9d97-11ec-955d-0242ac1c0002\"] = document.querySelector(\"#id46-0-0\");\n",
              "//# sourceURL=js_04b0a05e5b"
            ],
            "text/plain": [
              "<IPython.core.display.Javascript object>"
            ]
          },
          "metadata": {}
        },
        {
          "output_type": "display_data",
          "data": {
            "application/javascript": [
              "window[\"6ca2b7f2-9d97-11ec-955d-0242ac1c0002\"] = google.colab.output.setActiveOutputArea(window[\"6ca2493e-9d97-11ec-955d-0242ac1c0002\"]);\n",
              "//# sourceURL=js_f6710b8361"
            ],
            "text/plain": [
              "<IPython.core.display.Javascript object>"
            ]
          },
          "metadata": {}
        },
        {
          "output_type": "display_data",
          "data": {
            "application/javascript": [
              "window[\"6cb8e4fa-9d97-11ec-955d-0242ac1c0002\"] = google.colab.output.setActiveOutputArea(window[\"6ca1e386-9d97-11ec-955d-0242ac1c0002\"]);\n",
              "//# sourceURL=js_3b64c31ed0"
            ],
            "text/plain": [
              "<IPython.core.display.Javascript object>"
            ]
          },
          "metadata": {}
        },
        {
          "output_type": "display_data",
          "data": {
            "application/javascript": [
              "window[\"6cd94754-9d97-11ec-955d-0242ac1c0002\"] = google.colab.output.getActiveOutputArea();\n",
              "//# sourceURL=js_f9176aa37e"
            ],
            "text/plain": [
              "<IPython.core.display.Javascript object>"
            ]
          },
          "metadata": {}
        },
        {
          "output_type": "display_data",
          "data": {
            "application/javascript": [
              "window[\"6cd9a50a-9d97-11ec-955d-0242ac1c0002\"] = document.querySelector(\"#id46-0-0\");\n",
              "//# sourceURL=js_86d76d05cf"
            ],
            "text/plain": [
              "<IPython.core.display.Javascript object>"
            ]
          },
          "metadata": {}
        },
        {
          "output_type": "display_data",
          "data": {
            "application/javascript": [
              "window[\"6cd9ee84-9d97-11ec-955d-0242ac1c0002\"] = google.colab.output.setActiveOutputArea(window[\"6cd9a50a-9d97-11ec-955d-0242ac1c0002\"]);\n",
              "//# sourceURL=js_5020474923"
            ],
            "text/plain": [
              "<IPython.core.display.Javascript object>"
            ]
          },
          "metadata": {}
        },
        {
          "output_type": "display_data",
          "data": {
            "application/javascript": [
              "window[\"6cf203a2-9d97-11ec-955d-0242ac1c0002\"] = google.colab.output.setActiveOutputArea(window[\"6cd94754-9d97-11ec-955d-0242ac1c0002\"]);\n",
              "//# sourceURL=js_bc42488a98"
            ],
            "text/plain": [
              "<IPython.core.display.Javascript object>"
            ]
          },
          "metadata": {}
        },
        {
          "output_type": "display_data",
          "data": {
            "application/javascript": [
              "window[\"6d126ee4-9d97-11ec-955d-0242ac1c0002\"] = google.colab.output.getActiveOutputArea();\n",
              "//# sourceURL=js_65a0032619"
            ],
            "text/plain": [
              "<IPython.core.display.Javascript object>"
            ]
          },
          "metadata": {}
        },
        {
          "output_type": "display_data",
          "data": {
            "application/javascript": [
              "window[\"6d12b836-9d97-11ec-955d-0242ac1c0002\"] = document.querySelector(\"#id46-0-0\");\n",
              "//# sourceURL=js_f4a2491fed"
            ],
            "text/plain": [
              "<IPython.core.display.Javascript object>"
            ]
          },
          "metadata": {}
        },
        {
          "output_type": "display_data",
          "data": {
            "application/javascript": [
              "window[\"6d12fb02-9d97-11ec-955d-0242ac1c0002\"] = google.colab.output.setActiveOutputArea(window[\"6d12b836-9d97-11ec-955d-0242ac1c0002\"]);\n",
              "//# sourceURL=js_70423ad9f7"
            ],
            "text/plain": [
              "<IPython.core.display.Javascript object>"
            ]
          },
          "metadata": {}
        },
        {
          "output_type": "display_data",
          "data": {
            "application/javascript": [
              "window[\"6d2a2f2a-9d97-11ec-955d-0242ac1c0002\"] = google.colab.output.setActiveOutputArea(window[\"6d126ee4-9d97-11ec-955d-0242ac1c0002\"]);\n",
              "//# sourceURL=js_40c6471473"
            ],
            "text/plain": [
              "<IPython.core.display.Javascript object>"
            ]
          },
          "metadata": {}
        },
        {
          "output_type": "display_data",
          "data": {
            "application/javascript": [
              "window[\"6d4accbc-9d97-11ec-955d-0242ac1c0002\"] = google.colab.output.getActiveOutputArea();\n",
              "//# sourceURL=js_3203f7b1c3"
            ],
            "text/plain": [
              "<IPython.core.display.Javascript object>"
            ]
          },
          "metadata": {}
        },
        {
          "output_type": "display_data",
          "data": {
            "application/javascript": [
              "window[\"6d4b287e-9d97-11ec-955d-0242ac1c0002\"] = document.querySelector(\"#id46-0-0\");\n",
              "//# sourceURL=js_c04e2728d3"
            ],
            "text/plain": [
              "<IPython.core.display.Javascript object>"
            ]
          },
          "metadata": {}
        },
        {
          "output_type": "display_data",
          "data": {
            "application/javascript": [
              "window[\"6d4b7aea-9d97-11ec-955d-0242ac1c0002\"] = google.colab.output.setActiveOutputArea(window[\"6d4b287e-9d97-11ec-955d-0242ac1c0002\"]);\n",
              "//# sourceURL=js_89b3725899"
            ],
            "text/plain": [
              "<IPython.core.display.Javascript object>"
            ]
          },
          "metadata": {}
        },
        {
          "output_type": "display_data",
          "data": {
            "application/javascript": [
              "window[\"6d621caa-9d97-11ec-955d-0242ac1c0002\"] = google.colab.output.setActiveOutputArea(window[\"6d4accbc-9d97-11ec-955d-0242ac1c0002\"]);\n",
              "//# sourceURL=js_50e5d44154"
            ],
            "text/plain": [
              "<IPython.core.display.Javascript object>"
            ]
          },
          "metadata": {}
        },
        {
          "output_type": "display_data",
          "data": {
            "application/javascript": [
              "window[\"6d823f3a-9d97-11ec-955d-0242ac1c0002\"] = google.colab.output.getActiveOutputArea();\n",
              "//# sourceURL=js_050877e54a"
            ],
            "text/plain": [
              "<IPython.core.display.Javascript object>"
            ]
          },
          "metadata": {}
        },
        {
          "output_type": "display_data",
          "data": {
            "application/javascript": [
              "window[\"6d827ea0-9d97-11ec-955d-0242ac1c0002\"] = document.querySelector(\"#id46-0-0\");\n",
              "//# sourceURL=js_65ccdaa6eb"
            ],
            "text/plain": [
              "<IPython.core.display.Javascript object>"
            ]
          },
          "metadata": {}
        },
        {
          "output_type": "display_data",
          "data": {
            "application/javascript": [
              "window[\"6d831a40-9d97-11ec-955d-0242ac1c0002\"] = google.colab.output.setActiveOutputArea(window[\"6d827ea0-9d97-11ec-955d-0242ac1c0002\"]);\n",
              "//# sourceURL=js_4284477ef5"
            ],
            "text/plain": [
              "<IPython.core.display.Javascript object>"
            ]
          },
          "metadata": {}
        },
        {
          "output_type": "display_data",
          "data": {
            "application/javascript": [
              "window[\"6da4e24c-9d97-11ec-955d-0242ac1c0002\"] = google.colab.output.setActiveOutputArea(window[\"6d823f3a-9d97-11ec-955d-0242ac1c0002\"]);\n",
              "//# sourceURL=js_82c8443fee"
            ],
            "text/plain": [
              "<IPython.core.display.Javascript object>"
            ]
          },
          "metadata": {}
        },
        {
          "output_type": "display_data",
          "data": {
            "application/javascript": [
              "window[\"6dc51b3e-9d97-11ec-955d-0242ac1c0002\"] = google.colab.output.getActiveOutputArea();\n",
              "//# sourceURL=js_467f958185"
            ],
            "text/plain": [
              "<IPython.core.display.Javascript object>"
            ]
          },
          "metadata": {}
        },
        {
          "output_type": "display_data",
          "data": {
            "application/javascript": [
              "window[\"6dc6004e-9d97-11ec-955d-0242ac1c0002\"] = document.querySelector(\"#id46-0-0\");\n",
              "//# sourceURL=js_f19314bd6c"
            ],
            "text/plain": [
              "<IPython.core.display.Javascript object>"
            ]
          },
          "metadata": {}
        },
        {
          "output_type": "display_data",
          "data": {
            "application/javascript": [
              "window[\"6dc64c52-9d97-11ec-955d-0242ac1c0002\"] = google.colab.output.setActiveOutputArea(window[\"6dc6004e-9d97-11ec-955d-0242ac1c0002\"]);\n",
              "//# sourceURL=js_c6947a3786"
            ],
            "text/plain": [
              "<IPython.core.display.Javascript object>"
            ]
          },
          "metadata": {}
        },
        {
          "output_type": "display_data",
          "data": {
            "application/javascript": [
              "window[\"6ddc6848-9d97-11ec-955d-0242ac1c0002\"] = google.colab.output.setActiveOutputArea(window[\"6dc51b3e-9d97-11ec-955d-0242ac1c0002\"]);\n",
              "//# sourceURL=js_1c8e3ba823"
            ],
            "text/plain": [
              "<IPython.core.display.Javascript object>"
            ]
          },
          "metadata": {}
        },
        {
          "output_type": "display_data",
          "data": {
            "application/javascript": [
              "window[\"6dfcada6-9d97-11ec-955d-0242ac1c0002\"] = google.colab.output.getActiveOutputArea();\n",
              "//# sourceURL=js_631da5ed0e"
            ],
            "text/plain": [
              "<IPython.core.display.Javascript object>"
            ]
          },
          "metadata": {}
        },
        {
          "output_type": "display_data",
          "data": {
            "application/javascript": [
              "window[\"6dfd0d64-9d97-11ec-955d-0242ac1c0002\"] = document.querySelector(\"#id46-0-0\");\n",
              "//# sourceURL=js_0fef708cb7"
            ],
            "text/plain": [
              "<IPython.core.display.Javascript object>"
            ]
          },
          "metadata": {}
        },
        {
          "output_type": "display_data",
          "data": {
            "application/javascript": [
              "window[\"6dfd6048-9d97-11ec-955d-0242ac1c0002\"] = google.colab.output.setActiveOutputArea(window[\"6dfd0d64-9d97-11ec-955d-0242ac1c0002\"]);\n",
              "//# sourceURL=js_2246f8cec0"
            ],
            "text/plain": [
              "<IPython.core.display.Javascript object>"
            ]
          },
          "metadata": {}
        },
        {
          "output_type": "display_data",
          "data": {
            "application/javascript": [
              "window[\"6e13745a-9d97-11ec-955d-0242ac1c0002\"] = google.colab.output.setActiveOutputArea(window[\"6dfcada6-9d97-11ec-955d-0242ac1c0002\"]);\n",
              "//# sourceURL=js_4783978b2e"
            ],
            "text/plain": [
              "<IPython.core.display.Javascript object>"
            ]
          },
          "metadata": {}
        },
        {
          "output_type": "display_data",
          "data": {
            "application/javascript": [
              "window[\"6e33d1dc-9d97-11ec-955d-0242ac1c0002\"] = google.colab.output.getActiveOutputArea();\n",
              "//# sourceURL=js_6f221276bc"
            ],
            "text/plain": [
              "<IPython.core.display.Javascript object>"
            ]
          },
          "metadata": {}
        },
        {
          "output_type": "display_data",
          "data": {
            "application/javascript": [
              "window[\"6e3435be-9d97-11ec-955d-0242ac1c0002\"] = document.querySelector(\"#id46-0-0\");\n",
              "//# sourceURL=js_6f81bb99ab"
            ],
            "text/plain": [
              "<IPython.core.display.Javascript object>"
            ]
          },
          "metadata": {}
        },
        {
          "output_type": "display_data",
          "data": {
            "application/javascript": [
              "window[\"6e348c4e-9d97-11ec-955d-0242ac1c0002\"] = google.colab.output.setActiveOutputArea(window[\"6e3435be-9d97-11ec-955d-0242ac1c0002\"]);\n",
              "//# sourceURL=js_78e8897f03"
            ],
            "text/plain": [
              "<IPython.core.display.Javascript object>"
            ]
          },
          "metadata": {}
        },
        {
          "output_type": "display_data",
          "data": {
            "application/javascript": [
              "window[\"6e4c06ee-9d97-11ec-955d-0242ac1c0002\"] = google.colab.output.setActiveOutputArea(window[\"6e33d1dc-9d97-11ec-955d-0242ac1c0002\"]);\n",
              "//# sourceURL=js_2bf0744d7f"
            ],
            "text/plain": [
              "<IPython.core.display.Javascript object>"
            ]
          },
          "metadata": {}
        },
        {
          "output_type": "display_data",
          "data": {
            "application/javascript": [
              "window[\"6e6c9472-9d97-11ec-955d-0242ac1c0002\"] = google.colab.output.getActiveOutputArea();\n",
              "//# sourceURL=js_95ced3ad3b"
            ],
            "text/plain": [
              "<IPython.core.display.Javascript object>"
            ]
          },
          "metadata": {}
        },
        {
          "output_type": "display_data",
          "data": {
            "application/javascript": [
              "window[\"6e6ce3d2-9d97-11ec-955d-0242ac1c0002\"] = document.querySelector(\"#id46-0-0\");\n",
              "//# sourceURL=js_118d38f98c"
            ],
            "text/plain": [
              "<IPython.core.display.Javascript object>"
            ]
          },
          "metadata": {}
        },
        {
          "output_type": "display_data",
          "data": {
            "application/javascript": [
              "window[\"6e6d3a58-9d97-11ec-955d-0242ac1c0002\"] = google.colab.output.setActiveOutputArea(window[\"6e6ce3d2-9d97-11ec-955d-0242ac1c0002\"]);\n",
              "//# sourceURL=js_2f37d8b91b"
            ],
            "text/plain": [
              "<IPython.core.display.Javascript object>"
            ]
          },
          "metadata": {}
        },
        {
          "output_type": "display_data",
          "data": {
            "application/javascript": [
              "window[\"6e836abc-9d97-11ec-955d-0242ac1c0002\"] = google.colab.output.setActiveOutputArea(window[\"6e6c9472-9d97-11ec-955d-0242ac1c0002\"]);\n",
              "//# sourceURL=js_37588ed228"
            ],
            "text/plain": [
              "<IPython.core.display.Javascript object>"
            ]
          },
          "metadata": {}
        },
        {
          "output_type": "display_data",
          "data": {
            "application/javascript": [
              "window[\"6ea3b04c-9d97-11ec-955d-0242ac1c0002\"] = google.colab.output.getActiveOutputArea();\n",
              "//# sourceURL=js_a0938eec4d"
            ],
            "text/plain": [
              "<IPython.core.display.Javascript object>"
            ]
          },
          "metadata": {}
        },
        {
          "output_type": "display_data",
          "data": {
            "application/javascript": [
              "window[\"6ea40402-9d97-11ec-955d-0242ac1c0002\"] = document.querySelector(\"#id46-0-0\");\n",
              "//# sourceURL=js_b18b0d691b"
            ],
            "text/plain": [
              "<IPython.core.display.Javascript object>"
            ]
          },
          "metadata": {}
        },
        {
          "output_type": "display_data",
          "data": {
            "application/javascript": [
              "window[\"6ea46d70-9d97-11ec-955d-0242ac1c0002\"] = google.colab.output.setActiveOutputArea(window[\"6ea40402-9d97-11ec-955d-0242ac1c0002\"]);\n",
              "//# sourceURL=js_630ff2f3f2"
            ],
            "text/plain": [
              "<IPython.core.display.Javascript object>"
            ]
          },
          "metadata": {}
        },
        {
          "output_type": "display_data",
          "data": {
            "application/javascript": [
              "window[\"6eba6b2a-9d97-11ec-955d-0242ac1c0002\"] = google.colab.output.setActiveOutputArea(window[\"6ea3b04c-9d97-11ec-955d-0242ac1c0002\"]);\n",
              "//# sourceURL=js_e73470bbb8"
            ],
            "text/plain": [
              "<IPython.core.display.Javascript object>"
            ]
          },
          "metadata": {}
        },
        {
          "output_type": "display_data",
          "data": {
            "application/javascript": [
              "window[\"6edadaa4-9d97-11ec-955d-0242ac1c0002\"] = google.colab.output.getActiveOutputArea();\n",
              "//# sourceURL=js_8cafa8d1fd"
            ],
            "text/plain": [
              "<IPython.core.display.Javascript object>"
            ]
          },
          "metadata": {}
        },
        {
          "output_type": "display_data",
          "data": {
            "application/javascript": [
              "window[\"6edb3b52-9d97-11ec-955d-0242ac1c0002\"] = document.querySelector(\"#id46-0-0\");\n",
              "//# sourceURL=js_e935116e4d"
            ],
            "text/plain": [
              "<IPython.core.display.Javascript object>"
            ]
          },
          "metadata": {}
        },
        {
          "output_type": "display_data",
          "data": {
            "application/javascript": [
              "window[\"6edba1b4-9d97-11ec-955d-0242ac1c0002\"] = google.colab.output.setActiveOutputArea(window[\"6edb3b52-9d97-11ec-955d-0242ac1c0002\"]);\n",
              "//# sourceURL=js_e3b9e02bb8"
            ],
            "text/plain": [
              "<IPython.core.display.Javascript object>"
            ]
          },
          "metadata": {}
        },
        {
          "output_type": "display_data",
          "data": {
            "application/javascript": [
              "window[\"6ef3c280-9d97-11ec-955d-0242ac1c0002\"] = google.colab.output.setActiveOutputArea(window[\"6edadaa4-9d97-11ec-955d-0242ac1c0002\"]);\n",
              "//# sourceURL=js_9e23b96423"
            ],
            "text/plain": [
              "<IPython.core.display.Javascript object>"
            ]
          },
          "metadata": {}
        },
        {
          "output_type": "display_data",
          "data": {
            "application/javascript": [
              "window[\"6f141d28-9d97-11ec-955d-0242ac1c0002\"] = google.colab.output.getActiveOutputArea();\n",
              "//# sourceURL=js_579636d6a1"
            ],
            "text/plain": [
              "<IPython.core.display.Javascript object>"
            ]
          },
          "metadata": {}
        },
        {
          "output_type": "display_data",
          "data": {
            "application/javascript": [
              "window[\"6f1468b4-9d97-11ec-955d-0242ac1c0002\"] = document.querySelector(\"#id46-0-0\");\n",
              "//# sourceURL=js_c9b95c4482"
            ],
            "text/plain": [
              "<IPython.core.display.Javascript object>"
            ]
          },
          "metadata": {}
        },
        {
          "output_type": "display_data",
          "data": {
            "application/javascript": [
              "window[\"6f14ba26-9d97-11ec-955d-0242ac1c0002\"] = google.colab.output.setActiveOutputArea(window[\"6f1468b4-9d97-11ec-955d-0242ac1c0002\"]);\n",
              "//# sourceURL=js_4d20af200a"
            ],
            "text/plain": [
              "<IPython.core.display.Javascript object>"
            ]
          },
          "metadata": {}
        },
        {
          "output_type": "display_data",
          "data": {
            "application/javascript": [
              "window[\"6f2ea8dc-9d97-11ec-955d-0242ac1c0002\"] = google.colab.output.setActiveOutputArea(window[\"6f141d28-9d97-11ec-955d-0242ac1c0002\"]);\n",
              "//# sourceURL=js_1f598fc8e5"
            ],
            "text/plain": [
              "<IPython.core.display.Javascript object>"
            ]
          },
          "metadata": {}
        },
        {
          "output_type": "display_data",
          "data": {
            "application/javascript": [
              "window[\"6f4f1f18-9d97-11ec-955d-0242ac1c0002\"] = google.colab.output.getActiveOutputArea();\n",
              "//# sourceURL=js_1527ee5dd7"
            ],
            "text/plain": [
              "<IPython.core.display.Javascript object>"
            ]
          },
          "metadata": {}
        },
        {
          "output_type": "display_data",
          "data": {
            "application/javascript": [
              "window[\"6f4f6f5e-9d97-11ec-955d-0242ac1c0002\"] = document.querySelector(\"#id46-0-0\");\n",
              "//# sourceURL=js_0c65b6e8ed"
            ],
            "text/plain": [
              "<IPython.core.display.Javascript object>"
            ]
          },
          "metadata": {}
        },
        {
          "output_type": "display_data",
          "data": {
            "application/javascript": [
              "window[\"6f4fd4a8-9d97-11ec-955d-0242ac1c0002\"] = google.colab.output.setActiveOutputArea(window[\"6f4f6f5e-9d97-11ec-955d-0242ac1c0002\"]);\n",
              "//# sourceURL=js_e1fede2706"
            ],
            "text/plain": [
              "<IPython.core.display.Javascript object>"
            ]
          },
          "metadata": {}
        },
        {
          "output_type": "display_data",
          "data": {
            "application/javascript": [
              "window[\"6f6677da-9d97-11ec-955d-0242ac1c0002\"] = google.colab.output.setActiveOutputArea(window[\"6f4f1f18-9d97-11ec-955d-0242ac1c0002\"]);\n",
              "//# sourceURL=js_681afb8b34"
            ],
            "text/plain": [
              "<IPython.core.display.Javascript object>"
            ]
          },
          "metadata": {}
        },
        {
          "output_type": "display_data",
          "data": {
            "application/javascript": [
              "window[\"6f86d8e0-9d97-11ec-955d-0242ac1c0002\"] = google.colab.output.getActiveOutputArea();\n",
              "//# sourceURL=js_def8efef0f"
            ],
            "text/plain": [
              "<IPython.core.display.Javascript object>"
            ]
          },
          "metadata": {}
        },
        {
          "output_type": "display_data",
          "data": {
            "application/javascript": [
              "window[\"6f872020-9d97-11ec-955d-0242ac1c0002\"] = document.querySelector(\"#id46-0-0\");\n",
              "//# sourceURL=js_7a3b19e7c0"
            ],
            "text/plain": [
              "<IPython.core.display.Javascript object>"
            ]
          },
          "metadata": {}
        },
        {
          "output_type": "display_data",
          "data": {
            "application/javascript": [
              "window[\"6f877bce-9d97-11ec-955d-0242ac1c0002\"] = google.colab.output.setActiveOutputArea(window[\"6f872020-9d97-11ec-955d-0242ac1c0002\"]);\n",
              "//# sourceURL=js_f79d65ea93"
            ],
            "text/plain": [
              "<IPython.core.display.Javascript object>"
            ]
          },
          "metadata": {}
        },
        {
          "output_type": "display_data",
          "data": {
            "application/javascript": [
              "window[\"6f9d77bc-9d97-11ec-955d-0242ac1c0002\"] = google.colab.output.setActiveOutputArea(window[\"6f86d8e0-9d97-11ec-955d-0242ac1c0002\"]);\n",
              "//# sourceURL=js_e1aef57095"
            ],
            "text/plain": [
              "<IPython.core.display.Javascript object>"
            ]
          },
          "metadata": {}
        },
        {
          "output_type": "display_data",
          "data": {
            "application/javascript": [
              "window[\"6fbde038-9d97-11ec-955d-0242ac1c0002\"] = google.colab.output.getActiveOutputArea();\n",
              "//# sourceURL=js_d338e159ce"
            ],
            "text/plain": [
              "<IPython.core.display.Javascript object>"
            ]
          },
          "metadata": {}
        },
        {
          "output_type": "display_data",
          "data": {
            "application/javascript": [
              "window[\"6fbe3934-9d97-11ec-955d-0242ac1c0002\"] = document.querySelector(\"#id46-0-0\");\n",
              "//# sourceURL=js_eb9aab1ba5"
            ],
            "text/plain": [
              "<IPython.core.display.Javascript object>"
            ]
          },
          "metadata": {}
        },
        {
          "output_type": "display_data",
          "data": {
            "application/javascript": [
              "window[\"6fbed92a-9d97-11ec-955d-0242ac1c0002\"] = google.colab.output.setActiveOutputArea(window[\"6fbe3934-9d97-11ec-955d-0242ac1c0002\"]);\n",
              "//# sourceURL=js_5f523e79e3"
            ],
            "text/plain": [
              "<IPython.core.display.Javascript object>"
            ]
          },
          "metadata": {}
        },
        {
          "output_type": "display_data",
          "data": {
            "application/javascript": [
              "window[\"6fd5ba78-9d97-11ec-955d-0242ac1c0002\"] = google.colab.output.setActiveOutputArea(window[\"6fbde038-9d97-11ec-955d-0242ac1c0002\"]);\n",
              "//# sourceURL=js_b7bff47e7e"
            ],
            "text/plain": [
              "<IPython.core.display.Javascript object>"
            ]
          },
          "metadata": {}
        },
        {
          "output_type": "display_data",
          "data": {
            "application/javascript": [
              "window[\"6ff5f9e6-9d97-11ec-955d-0242ac1c0002\"] = google.colab.output.getActiveOutputArea();\n",
              "//# sourceURL=js_5bb993bcda"
            ],
            "text/plain": [
              "<IPython.core.display.Javascript object>"
            ]
          },
          "metadata": {}
        },
        {
          "output_type": "display_data",
          "data": {
            "application/javascript": [
              "window[\"6ff6b142-9d97-11ec-955d-0242ac1c0002\"] = document.querySelector(\"#id46-0-0\");\n",
              "//# sourceURL=js_f615b7f6ee"
            ],
            "text/plain": [
              "<IPython.core.display.Javascript object>"
            ]
          },
          "metadata": {}
        },
        {
          "output_type": "display_data",
          "data": {
            "application/javascript": [
              "window[\"6ff705d4-9d97-11ec-955d-0242ac1c0002\"] = google.colab.output.setActiveOutputArea(window[\"6ff6b142-9d97-11ec-955d-0242ac1c0002\"]);\n",
              "//# sourceURL=js_d845d62d22"
            ],
            "text/plain": [
              "<IPython.core.display.Javascript object>"
            ]
          },
          "metadata": {}
        },
        {
          "output_type": "display_data",
          "data": {
            "application/javascript": [
              "window[\"700f04cc-9d97-11ec-955d-0242ac1c0002\"] = google.colab.output.setActiveOutputArea(window[\"6ff5f9e6-9d97-11ec-955d-0242ac1c0002\"]);\n",
              "//# sourceURL=js_993a8000cf"
            ],
            "text/plain": [
              "<IPython.core.display.Javascript object>"
            ]
          },
          "metadata": {}
        },
        {
          "output_type": "display_data",
          "data": {
            "application/javascript": [
              "window[\"702f3ada-9d97-11ec-955d-0242ac1c0002\"] = google.colab.output.getActiveOutputArea();\n",
              "//# sourceURL=js_75e13884c1"
            ],
            "text/plain": [
              "<IPython.core.display.Javascript object>"
            ]
          },
          "metadata": {}
        },
        {
          "output_type": "display_data",
          "data": {
            "application/javascript": [
              "window[\"702f871a-9d97-11ec-955d-0242ac1c0002\"] = document.querySelector(\"#id46-0-0\");\n",
              "//# sourceURL=js_d255a00613"
            ],
            "text/plain": [
              "<IPython.core.display.Javascript object>"
            ]
          },
          "metadata": {}
        },
        {
          "output_type": "display_data",
          "data": {
            "application/javascript": [
              "window[\"70300e9c-9d97-11ec-955d-0242ac1c0002\"] = google.colab.output.setActiveOutputArea(window[\"702f871a-9d97-11ec-955d-0242ac1c0002\"]);\n",
              "//# sourceURL=js_194a8b6cb1"
            ],
            "text/plain": [
              "<IPython.core.display.Javascript object>"
            ]
          },
          "metadata": {}
        },
        {
          "output_type": "display_data",
          "data": {
            "application/javascript": [
              "window[\"7046ce48-9d97-11ec-955d-0242ac1c0002\"] = google.colab.output.setActiveOutputArea(window[\"702f3ada-9d97-11ec-955d-0242ac1c0002\"]);\n",
              "//# sourceURL=js_5e54434f70"
            ],
            "text/plain": [
              "<IPython.core.display.Javascript object>"
            ]
          },
          "metadata": {}
        },
        {
          "output_type": "display_data",
          "data": {
            "application/javascript": [
              "window[\"706779d6-9d97-11ec-955d-0242ac1c0002\"] = google.colab.output.getActiveOutputArea();\n",
              "//# sourceURL=js_c99f59d21e"
            ],
            "text/plain": [
              "<IPython.core.display.Javascript object>"
            ]
          },
          "metadata": {}
        },
        {
          "output_type": "display_data",
          "data": {
            "application/javascript": [
              "window[\"7067d890-9d97-11ec-955d-0242ac1c0002\"] = document.querySelector(\"#id46-0-0\");\n",
              "//# sourceURL=js_2c576c2a72"
            ],
            "text/plain": [
              "<IPython.core.display.Javascript object>"
            ]
          },
          "metadata": {}
        },
        {
          "output_type": "display_data",
          "data": {
            "application/javascript": [
              "window[\"70686800-9d97-11ec-955d-0242ac1c0002\"] = google.colab.output.setActiveOutputArea(window[\"7067d890-9d97-11ec-955d-0242ac1c0002\"]);\n",
              "//# sourceURL=js_977e8c08a2"
            ],
            "text/plain": [
              "<IPython.core.display.Javascript object>"
            ]
          },
          "metadata": {}
        },
        {
          "output_type": "display_data",
          "data": {
            "application/javascript": [
              "window[\"707e25f0-9d97-11ec-955d-0242ac1c0002\"] = google.colab.output.setActiveOutputArea(window[\"706779d6-9d97-11ec-955d-0242ac1c0002\"]);\n",
              "//# sourceURL=js_78a965c43f"
            ],
            "text/plain": [
              "<IPython.core.display.Javascript object>"
            ]
          },
          "metadata": {}
        },
        {
          "output_type": "display_data",
          "data": {
            "application/javascript": [
              "window[\"709eab54-9d97-11ec-955d-0242ac1c0002\"] = google.colab.output.getActiveOutputArea();\n",
              "//# sourceURL=js_fd0bf9384f"
            ],
            "text/plain": [
              "<IPython.core.display.Javascript object>"
            ]
          },
          "metadata": {}
        },
        {
          "output_type": "display_data",
          "data": {
            "application/javascript": [
              "window[\"709f49ec-9d97-11ec-955d-0242ac1c0002\"] = document.querySelector(\"#id46-0-0\");\n",
              "//# sourceURL=js_c51b1a90dd"
            ],
            "text/plain": [
              "<IPython.core.display.Javascript object>"
            ]
          },
          "metadata": {}
        },
        {
          "output_type": "display_data",
          "data": {
            "application/javascript": [
              "window[\"709f93d4-9d97-11ec-955d-0242ac1c0002\"] = google.colab.output.setActiveOutputArea(window[\"709f49ec-9d97-11ec-955d-0242ac1c0002\"]);\n",
              "//# sourceURL=js_791524f3bb"
            ],
            "text/plain": [
              "<IPython.core.display.Javascript object>"
            ]
          },
          "metadata": {}
        },
        {
          "output_type": "display_data",
          "data": {
            "application/javascript": [
              "window[\"70b6a240-9d97-11ec-955d-0242ac1c0002\"] = google.colab.output.setActiveOutputArea(window[\"709eab54-9d97-11ec-955d-0242ac1c0002\"]);\n",
              "//# sourceURL=js_a6c07fa930"
            ],
            "text/plain": [
              "<IPython.core.display.Javascript object>"
            ]
          },
          "metadata": {}
        },
        {
          "output_type": "display_data",
          "data": {
            "application/javascript": [
              "window[\"70d70db4-9d97-11ec-955d-0242ac1c0002\"] = google.colab.output.getActiveOutputArea();\n",
              "//# sourceURL=js_e142ba388b"
            ],
            "text/plain": [
              "<IPython.core.display.Javascript object>"
            ]
          },
          "metadata": {}
        },
        {
          "output_type": "display_data",
          "data": {
            "application/javascript": [
              "window[\"70d75b48-9d97-11ec-955d-0242ac1c0002\"] = document.querySelector(\"#id46-0-0\");\n",
              "//# sourceURL=js_8a6543ddaa"
            ],
            "text/plain": [
              "<IPython.core.display.Javascript object>"
            ]
          },
          "metadata": {}
        },
        {
          "output_type": "display_data",
          "data": {
            "application/javascript": [
              "window[\"70d7df0a-9d97-11ec-955d-0242ac1c0002\"] = google.colab.output.setActiveOutputArea(window[\"70d75b48-9d97-11ec-955d-0242ac1c0002\"]);\n",
              "//# sourceURL=js_f29087eeef"
            ],
            "text/plain": [
              "<IPython.core.display.Javascript object>"
            ]
          },
          "metadata": {}
        },
        {
          "output_type": "display_data",
          "data": {
            "application/javascript": [
              "window[\"70fb406c-9d97-11ec-955d-0242ac1c0002\"] = google.colab.output.setActiveOutputArea(window[\"70d70db4-9d97-11ec-955d-0242ac1c0002\"]);\n",
              "//# sourceURL=js_2f2c08aa75"
            ],
            "text/plain": [
              "<IPython.core.display.Javascript object>"
            ]
          },
          "metadata": {}
        },
        {
          "output_type": "display_data",
          "data": {
            "application/javascript": [
              "window[\"711bb89c-9d97-11ec-955d-0242ac1c0002\"] = google.colab.output.getActiveOutputArea();\n",
              "//# sourceURL=js_0db10fd6fd"
            ],
            "text/plain": [
              "<IPython.core.display.Javascript object>"
            ]
          },
          "metadata": {}
        },
        {
          "output_type": "display_data",
          "data": {
            "application/javascript": [
              "window[\"711c211a-9d97-11ec-955d-0242ac1c0002\"] = document.querySelector(\"#id46-0-0\");\n",
              "//# sourceURL=js_81e3cc35ec"
            ],
            "text/plain": [
              "<IPython.core.display.Javascript object>"
            ]
          },
          "metadata": {}
        },
        {
          "output_type": "display_data",
          "data": {
            "application/javascript": [
              "window[\"711c7d36-9d97-11ec-955d-0242ac1c0002\"] = google.colab.output.setActiveOutputArea(window[\"711c211a-9d97-11ec-955d-0242ac1c0002\"]);\n",
              "//# sourceURL=js_640df6bd6b"
            ],
            "text/plain": [
              "<IPython.core.display.Javascript object>"
            ]
          },
          "metadata": {}
        },
        {
          "output_type": "display_data",
          "data": {
            "application/javascript": [
              "window[\"7133188e-9d97-11ec-955d-0242ac1c0002\"] = google.colab.output.setActiveOutputArea(window[\"711bb89c-9d97-11ec-955d-0242ac1c0002\"]);\n",
              "//# sourceURL=js_74a8f54eb0"
            ],
            "text/plain": [
              "<IPython.core.display.Javascript object>"
            ]
          },
          "metadata": {}
        },
        {
          "output_type": "display_data",
          "data": {
            "application/javascript": [
              "window[\"71538bbe-9d97-11ec-955d-0242ac1c0002\"] = google.colab.output.getActiveOutputArea();\n",
              "//# sourceURL=js_743474dea4"
            ],
            "text/plain": [
              "<IPython.core.display.Javascript object>"
            ]
          },
          "metadata": {}
        },
        {
          "output_type": "display_data",
          "data": {
            "application/javascript": [
              "window[\"71541d04-9d97-11ec-955d-0242ac1c0002\"] = document.querySelector(\"#id46-0-0\");\n",
              "//# sourceURL=js_3144282de2"
            ],
            "text/plain": [
              "<IPython.core.display.Javascript object>"
            ]
          },
          "metadata": {}
        },
        {
          "output_type": "display_data",
          "data": {
            "application/javascript": [
              "window[\"71548e06-9d97-11ec-955d-0242ac1c0002\"] = google.colab.output.setActiveOutputArea(window[\"71541d04-9d97-11ec-955d-0242ac1c0002\"]);\n",
              "//# sourceURL=js_2c995ddf5d"
            ],
            "text/plain": [
              "<IPython.core.display.Javascript object>"
            ]
          },
          "metadata": {}
        },
        {
          "output_type": "display_data",
          "data": {
            "application/javascript": [
              "window[\"716b3fb6-9d97-11ec-955d-0242ac1c0002\"] = google.colab.output.setActiveOutputArea(window[\"71538bbe-9d97-11ec-955d-0242ac1c0002\"]);\n",
              "//# sourceURL=js_f771616bf0"
            ],
            "text/plain": [
              "<IPython.core.display.Javascript object>"
            ]
          },
          "metadata": {}
        },
        {
          "output_type": "display_data",
          "data": {
            "application/javascript": [
              "window[\"718baa6c-9d97-11ec-955d-0242ac1c0002\"] = google.colab.output.getActiveOutputArea();\n",
              "//# sourceURL=js_0fc73fc1d9"
            ],
            "text/plain": [
              "<IPython.core.display.Javascript object>"
            ]
          },
          "metadata": {}
        },
        {
          "output_type": "display_data",
          "data": {
            "application/javascript": [
              "window[\"718bf396-9d97-11ec-955d-0242ac1c0002\"] = document.querySelector(\"#id46-0-0\");\n",
              "//# sourceURL=js_7ce89e3f2e"
            ],
            "text/plain": [
              "<IPython.core.display.Javascript object>"
            ]
          },
          "metadata": {}
        },
        {
          "output_type": "display_data",
          "data": {
            "application/javascript": [
              "window[\"718c485a-9d97-11ec-955d-0242ac1c0002\"] = google.colab.output.setActiveOutputArea(window[\"718bf396-9d97-11ec-955d-0242ac1c0002\"]);\n",
              "//# sourceURL=js_48921da3e2"
            ],
            "text/plain": [
              "<IPython.core.display.Javascript object>"
            ]
          },
          "metadata": {}
        },
        {
          "output_type": "display_data",
          "data": {
            "application/javascript": [
              "window[\"71a46192-9d97-11ec-955d-0242ac1c0002\"] = google.colab.output.setActiveOutputArea(window[\"718baa6c-9d97-11ec-955d-0242ac1c0002\"]);\n",
              "//# sourceURL=js_0c90f96e01"
            ],
            "text/plain": [
              "<IPython.core.display.Javascript object>"
            ]
          },
          "metadata": {}
        },
        {
          "output_type": "display_data",
          "data": {
            "application/javascript": [
              "window[\"71c488d2-9d97-11ec-955d-0242ac1c0002\"] = google.colab.output.getActiveOutputArea();\n",
              "//# sourceURL=js_10aa80dc7e"
            ],
            "text/plain": [
              "<IPython.core.display.Javascript object>"
            ]
          },
          "metadata": {}
        },
        {
          "output_type": "display_data",
          "data": {
            "application/javascript": [
              "window[\"71c4cbd0-9d97-11ec-955d-0242ac1c0002\"] = document.querySelector(\"#id46-0-0\");\n",
              "//# sourceURL=js_76681a509e"
            ],
            "text/plain": [
              "<IPython.core.display.Javascript object>"
            ]
          },
          "metadata": {}
        },
        {
          "output_type": "display_data",
          "data": {
            "application/javascript": [
              "window[\"71c50d48-9d97-11ec-955d-0242ac1c0002\"] = google.colab.output.setActiveOutputArea(window[\"71c4cbd0-9d97-11ec-955d-0242ac1c0002\"]);\n",
              "//# sourceURL=js_5eb52830ee"
            ],
            "text/plain": [
              "<IPython.core.display.Javascript object>"
            ]
          },
          "metadata": {}
        },
        {
          "output_type": "display_data",
          "data": {
            "application/javascript": [
              "window[\"71dc55ac-9d97-11ec-955d-0242ac1c0002\"] = google.colab.output.setActiveOutputArea(window[\"71c488d2-9d97-11ec-955d-0242ac1c0002\"]);\n",
              "//# sourceURL=js_4d005f85a3"
            ],
            "text/plain": [
              "<IPython.core.display.Javascript object>"
            ]
          },
          "metadata": {}
        },
        {
          "output_type": "display_data",
          "data": {
            "application/javascript": [
              "window[\"71fd0874-9d97-11ec-955d-0242ac1c0002\"] = google.colab.output.getActiveOutputArea();\n",
              "//# sourceURL=js_0f8ba2aa50"
            ],
            "text/plain": [
              "<IPython.core.display.Javascript object>"
            ]
          },
          "metadata": {}
        },
        {
          "output_type": "display_data",
          "data": {
            "application/javascript": [
              "window[\"71fdb706-9d97-11ec-955d-0242ac1c0002\"] = document.querySelector(\"#id46-0-0\");\n",
              "//# sourceURL=js_36f7fd2479"
            ],
            "text/plain": [
              "<IPython.core.display.Javascript object>"
            ]
          },
          "metadata": {}
        },
        {
          "output_type": "display_data",
          "data": {
            "application/javascript": [
              "window[\"71fe0620-9d97-11ec-955d-0242ac1c0002\"] = google.colab.output.setActiveOutputArea(window[\"71fdb706-9d97-11ec-955d-0242ac1c0002\"]);\n",
              "//# sourceURL=js_9b2cd688c6"
            ],
            "text/plain": [
              "<IPython.core.display.Javascript object>"
            ]
          },
          "metadata": {}
        },
        {
          "output_type": "display_data",
          "data": {
            "application/javascript": [
              "window[\"7215989e-9d97-11ec-955d-0242ac1c0002\"] = google.colab.output.setActiveOutputArea(window[\"71fd0874-9d97-11ec-955d-0242ac1c0002\"]);\n",
              "//# sourceURL=js_dff393cbeb"
            ],
            "text/plain": [
              "<IPython.core.display.Javascript object>"
            ]
          },
          "metadata": {}
        },
        {
          "output_type": "display_data",
          "data": {
            "application/javascript": [
              "window[\"7235db40-9d97-11ec-955d-0242ac1c0002\"] = google.colab.output.getActiveOutputArea();\n",
              "//# sourceURL=js_2d1545b72f"
            ],
            "text/plain": [
              "<IPython.core.display.Javascript object>"
            ]
          },
          "metadata": {}
        },
        {
          "output_type": "display_data",
          "data": {
            "application/javascript": [
              "window[\"72361402-9d97-11ec-955d-0242ac1c0002\"] = document.querySelector(\"#id46-0-0\");\n",
              "//# sourceURL=js_f3a5c278d9"
            ],
            "text/plain": [
              "<IPython.core.display.Javascript object>"
            ]
          },
          "metadata": {}
        },
        {
          "output_type": "display_data",
          "data": {
            "application/javascript": [
              "window[\"72364486-9d97-11ec-955d-0242ac1c0002\"] = google.colab.output.setActiveOutputArea(window[\"72361402-9d97-11ec-955d-0242ac1c0002\"]);\n",
              "//# sourceURL=js_7def2e2117"
            ],
            "text/plain": [
              "<IPython.core.display.Javascript object>"
            ]
          },
          "metadata": {}
        },
        {
          "output_type": "display_data",
          "data": {
            "application/javascript": [
              "window[\"724dedb6-9d97-11ec-955d-0242ac1c0002\"] = google.colab.output.setActiveOutputArea(window[\"7235db40-9d97-11ec-955d-0242ac1c0002\"]);\n",
              "//# sourceURL=js_d2cc0c1b23"
            ],
            "text/plain": [
              "<IPython.core.display.Javascript object>"
            ]
          },
          "metadata": {}
        },
        {
          "output_type": "display_data",
          "data": {
            "application/javascript": [
              "window[\"726e4ad4-9d97-11ec-955d-0242ac1c0002\"] = google.colab.output.getActiveOutputArea();\n",
              "//# sourceURL=js_9968912969"
            ],
            "text/plain": [
              "<IPython.core.display.Javascript object>"
            ]
          },
          "metadata": {}
        },
        {
          "output_type": "display_data",
          "data": {
            "application/javascript": [
              "window[\"726eb154-9d97-11ec-955d-0242ac1c0002\"] = document.querySelector(\"#id46-0-0\");\n",
              "//# sourceURL=js_5f5a2e578b"
            ],
            "text/plain": [
              "<IPython.core.display.Javascript object>"
            ]
          },
          "metadata": {}
        },
        {
          "output_type": "display_data",
          "data": {
            "application/javascript": [
              "window[\"726efdee-9d97-11ec-955d-0242ac1c0002\"] = google.colab.output.setActiveOutputArea(window[\"726eb154-9d97-11ec-955d-0242ac1c0002\"]);\n",
              "//# sourceURL=js_c541ac1bd8"
            ],
            "text/plain": [
              "<IPython.core.display.Javascript object>"
            ]
          },
          "metadata": {}
        },
        {
          "output_type": "display_data",
          "data": {
            "application/javascript": [
              "window[\"7286ff7a-9d97-11ec-955d-0242ac1c0002\"] = google.colab.output.setActiveOutputArea(window[\"726e4ad4-9d97-11ec-955d-0242ac1c0002\"]);\n",
              "//# sourceURL=js_cf729f2b89"
            ],
            "text/plain": [
              "<IPython.core.display.Javascript object>"
            ]
          },
          "metadata": {}
        },
        {
          "output_type": "display_data",
          "data": {
            "application/javascript": [
              "window[\"72a73380-9d97-11ec-955d-0242ac1c0002\"] = google.colab.output.getActiveOutputArea();\n",
              "//# sourceURL=js_7a5542dd24"
            ],
            "text/plain": [
              "<IPython.core.display.Javascript object>"
            ]
          },
          "metadata": {}
        },
        {
          "output_type": "display_data",
          "data": {
            "application/javascript": [
              "window[\"72a76710-9d97-11ec-955d-0242ac1c0002\"] = document.querySelector(\"#id46-0-0\");\n",
              "//# sourceURL=js_202b12d3bd"
            ],
            "text/plain": [
              "<IPython.core.display.Javascript object>"
            ]
          },
          "metadata": {}
        },
        {
          "output_type": "display_data",
          "data": {
            "application/javascript": [
              "window[\"72a7ebb8-9d97-11ec-955d-0242ac1c0002\"] = google.colab.output.setActiveOutputArea(window[\"72a76710-9d97-11ec-955d-0242ac1c0002\"]);\n",
              "//# sourceURL=js_a4799e219c"
            ],
            "text/plain": [
              "<IPython.core.display.Javascript object>"
            ]
          },
          "metadata": {}
        },
        {
          "output_type": "display_data",
          "data": {
            "application/javascript": [
              "window[\"72bf99de-9d97-11ec-955d-0242ac1c0002\"] = google.colab.output.setActiveOutputArea(window[\"72a73380-9d97-11ec-955d-0242ac1c0002\"]);\n",
              "//# sourceURL=js_96f32a5c7e"
            ],
            "text/plain": [
              "<IPython.core.display.Javascript object>"
            ]
          },
          "metadata": {}
        },
        {
          "output_type": "display_data",
          "data": {
            "application/javascript": [
              "window[\"72e01f60-9d97-11ec-955d-0242ac1c0002\"] = google.colab.output.getActiveOutputArea();\n",
              "//# sourceURL=js_b972e1cd93"
            ],
            "text/plain": [
              "<IPython.core.display.Javascript object>"
            ]
          },
          "metadata": {}
        },
        {
          "output_type": "display_data",
          "data": {
            "application/javascript": [
              "window[\"72e07b2c-9d97-11ec-955d-0242ac1c0002\"] = document.querySelector(\"#id46-0-0\");\n",
              "//# sourceURL=js_b37534e161"
            ],
            "text/plain": [
              "<IPython.core.display.Javascript object>"
            ]
          },
          "metadata": {}
        },
        {
          "output_type": "display_data",
          "data": {
            "application/javascript": [
              "window[\"72e0d018-9d97-11ec-955d-0242ac1c0002\"] = google.colab.output.setActiveOutputArea(window[\"72e07b2c-9d97-11ec-955d-0242ac1c0002\"]);\n",
              "//# sourceURL=js_7d637f01c6"
            ],
            "text/plain": [
              "<IPython.core.display.Javascript object>"
            ]
          },
          "metadata": {}
        },
        {
          "output_type": "display_data",
          "data": {
            "application/javascript": [
              "window[\"72f72052-9d97-11ec-955d-0242ac1c0002\"] = google.colab.output.setActiveOutputArea(window[\"72e01f60-9d97-11ec-955d-0242ac1c0002\"]);\n",
              "//# sourceURL=js_885ba35d0f"
            ],
            "text/plain": [
              "<IPython.core.display.Javascript object>"
            ]
          },
          "metadata": {}
        },
        {
          "output_type": "display_data",
          "data": {
            "application/javascript": [
              "window[\"731780d6-9d97-11ec-955d-0242ac1c0002\"] = google.colab.output.getActiveOutputArea();\n",
              "//# sourceURL=js_b56cb4c7c9"
            ],
            "text/plain": [
              "<IPython.core.display.Javascript object>"
            ]
          },
          "metadata": {}
        },
        {
          "output_type": "display_data",
          "data": {
            "application/javascript": [
              "window[\"7317fe94-9d97-11ec-955d-0242ac1c0002\"] = document.querySelector(\"#id46-0-0\");\n",
              "//# sourceURL=js_3c7030a15c"
            ],
            "text/plain": [
              "<IPython.core.display.Javascript object>"
            ]
          },
          "metadata": {}
        },
        {
          "output_type": "display_data",
          "data": {
            "application/javascript": [
              "window[\"73185dc6-9d97-11ec-955d-0242ac1c0002\"] = google.colab.output.setActiveOutputArea(window[\"7317fe94-9d97-11ec-955d-0242ac1c0002\"]);\n",
              "//# sourceURL=js_ce082e2bae"
            ],
            "text/plain": [
              "<IPython.core.display.Javascript object>"
            ]
          },
          "metadata": {}
        },
        {
          "output_type": "display_data",
          "data": {
            "application/javascript": [
              "window[\"7330d34c-9d97-11ec-955d-0242ac1c0002\"] = google.colab.output.setActiveOutputArea(window[\"731780d6-9d97-11ec-955d-0242ac1c0002\"]);\n",
              "//# sourceURL=js_c1754990b6"
            ],
            "text/plain": [
              "<IPython.core.display.Javascript object>"
            ]
          },
          "metadata": {}
        },
        {
          "output_type": "display_data",
          "data": {
            "application/javascript": [
              "window[\"73514186-9d97-11ec-955d-0242ac1c0002\"] = google.colab.output.getActiveOutputArea();\n",
              "//# sourceURL=js_96623dacb2"
            ],
            "text/plain": [
              "<IPython.core.display.Javascript object>"
            ]
          },
          "metadata": {}
        },
        {
          "output_type": "display_data",
          "data": {
            "application/javascript": [
              "window[\"735195be-9d97-11ec-955d-0242ac1c0002\"] = document.querySelector(\"#id46-0-0\");\n",
              "//# sourceURL=js_76de1151e0"
            ],
            "text/plain": [
              "<IPython.core.display.Javascript object>"
            ]
          },
          "metadata": {}
        },
        {
          "output_type": "display_data",
          "data": {
            "application/javascript": [
              "window[\"73520b16-9d97-11ec-955d-0242ac1c0002\"] = google.colab.output.setActiveOutputArea(window[\"735195be-9d97-11ec-955d-0242ac1c0002\"]);\n",
              "//# sourceURL=js_25f8af0eb3"
            ],
            "text/plain": [
              "<IPython.core.display.Javascript object>"
            ]
          },
          "metadata": {}
        },
        {
          "output_type": "display_data",
          "data": {
            "application/javascript": [
              "window[\"736881ac-9d97-11ec-955d-0242ac1c0002\"] = google.colab.output.setActiveOutputArea(window[\"73514186-9d97-11ec-955d-0242ac1c0002\"]);\n",
              "//# sourceURL=js_be42dc04b5"
            ],
            "text/plain": [
              "<IPython.core.display.Javascript object>"
            ]
          },
          "metadata": {}
        },
        {
          "output_type": "display_data",
          "data": {
            "application/javascript": [
              "window[\"738a6d12-9d97-11ec-955d-0242ac1c0002\"] = google.colab.output.getActiveOutputArea();\n",
              "//# sourceURL=js_3606e853a4"
            ],
            "text/plain": [
              "<IPython.core.display.Javascript object>"
            ]
          },
          "metadata": {}
        },
        {
          "output_type": "display_data",
          "data": {
            "application/javascript": [
              "window[\"738ab650-9d97-11ec-955d-0242ac1c0002\"] = document.querySelector(\"#id46-0-0\");\n",
              "//# sourceURL=js_e8dacf2aa2"
            ],
            "text/plain": [
              "<IPython.core.display.Javascript object>"
            ]
          },
          "metadata": {}
        },
        {
          "output_type": "display_data",
          "data": {
            "application/javascript": [
              "window[\"738b05e2-9d97-11ec-955d-0242ac1c0002\"] = google.colab.output.setActiveOutputArea(window[\"738ab650-9d97-11ec-955d-0242ac1c0002\"]);\n",
              "//# sourceURL=js_6eca33b4e3"
            ],
            "text/plain": [
              "<IPython.core.display.Javascript object>"
            ]
          },
          "metadata": {}
        },
        {
          "output_type": "display_data",
          "data": {
            "application/javascript": [
              "window[\"73a22434-9d97-11ec-955d-0242ac1c0002\"] = google.colab.output.setActiveOutputArea(window[\"738a6d12-9d97-11ec-955d-0242ac1c0002\"]);\n",
              "//# sourceURL=js_ba011c3d59"
            ],
            "text/plain": [
              "<IPython.core.display.Javascript object>"
            ]
          },
          "metadata": {}
        },
        {
          "output_type": "display_data",
          "data": {
            "application/javascript": [
              "window[\"73c3c530-9d97-11ec-955d-0242ac1c0002\"] = google.colab.output.getActiveOutputArea();\n",
              "//# sourceURL=js_97f390f3bc"
            ],
            "text/plain": [
              "<IPython.core.display.Javascript object>"
            ]
          },
          "metadata": {}
        },
        {
          "output_type": "display_data",
          "data": {
            "application/javascript": [
              "window[\"73c410a8-9d97-11ec-955d-0242ac1c0002\"] = document.querySelector(\"#id46-0-0\");\n",
              "//# sourceURL=js_040d5f9576"
            ],
            "text/plain": [
              "<IPython.core.display.Javascript object>"
            ]
          },
          "metadata": {}
        },
        {
          "output_type": "display_data",
          "data": {
            "application/javascript": [
              "window[\"73c460d0-9d97-11ec-955d-0242ac1c0002\"] = google.colab.output.setActiveOutputArea(window[\"73c410a8-9d97-11ec-955d-0242ac1c0002\"]);\n",
              "//# sourceURL=js_97f045f32e"
            ],
            "text/plain": [
              "<IPython.core.display.Javascript object>"
            ]
          },
          "metadata": {}
        },
        {
          "output_type": "display_data",
          "data": {
            "application/javascript": [
              "window[\"73dbcb6c-9d97-11ec-955d-0242ac1c0002\"] = google.colab.output.setActiveOutputArea(window[\"73c3c530-9d97-11ec-955d-0242ac1c0002\"]);\n",
              "//# sourceURL=js_b02368c5d4"
            ],
            "text/plain": [
              "<IPython.core.display.Javascript object>"
            ]
          },
          "metadata": {}
        },
        {
          "output_type": "display_data",
          "data": {
            "application/javascript": [
              "window[\"73fc57b0-9d97-11ec-955d-0242ac1c0002\"] = google.colab.output.getActiveOutputArea();\n",
              "//# sourceURL=js_85789a34ad"
            ],
            "text/plain": [
              "<IPython.core.display.Javascript object>"
            ]
          },
          "metadata": {}
        },
        {
          "output_type": "display_data",
          "data": {
            "application/javascript": [
              "window[\"73fca6b6-9d97-11ec-955d-0242ac1c0002\"] = document.querySelector(\"#id46-0-0\");\n",
              "//# sourceURL=js_bb81207fc7"
            ],
            "text/plain": [
              "<IPython.core.display.Javascript object>"
            ]
          },
          "metadata": {}
        },
        {
          "output_type": "display_data",
          "data": {
            "application/javascript": [
              "window[\"73fd2b68-9d97-11ec-955d-0242ac1c0002\"] = google.colab.output.setActiveOutputArea(window[\"73fca6b6-9d97-11ec-955d-0242ac1c0002\"]);\n",
              "//# sourceURL=js_f4b425a826"
            ],
            "text/plain": [
              "<IPython.core.display.Javascript object>"
            ]
          },
          "metadata": {}
        },
        {
          "output_type": "display_data",
          "data": {
            "application/javascript": [
              "window[\"74143150-9d97-11ec-955d-0242ac1c0002\"] = google.colab.output.setActiveOutputArea(window[\"73fc57b0-9d97-11ec-955d-0242ac1c0002\"]);\n",
              "//# sourceURL=js_654a604a52"
            ],
            "text/plain": [
              "<IPython.core.display.Javascript object>"
            ]
          },
          "metadata": {}
        },
        {
          "output_type": "display_data",
          "data": {
            "application/javascript": [
              "window[\"7434a2fa-9d97-11ec-955d-0242ac1c0002\"] = google.colab.output.getActiveOutputArea();\n",
              "//# sourceURL=js_d5e4220762"
            ],
            "text/plain": [
              "<IPython.core.display.Javascript object>"
            ]
          },
          "metadata": {}
        },
        {
          "output_type": "display_data",
          "data": {
            "application/javascript": [
              "window[\"743503da-9d97-11ec-955d-0242ac1c0002\"] = document.querySelector(\"#id46-0-0\");\n",
              "//# sourceURL=js_b8ede5593b"
            ],
            "text/plain": [
              "<IPython.core.display.Javascript object>"
            ]
          },
          "metadata": {}
        },
        {
          "output_type": "display_data",
          "data": {
            "application/javascript": [
              "window[\"74356d8e-9d97-11ec-955d-0242ac1c0002\"] = google.colab.output.setActiveOutputArea(window[\"743503da-9d97-11ec-955d-0242ac1c0002\"]);\n",
              "//# sourceURL=js_24e22d6c29"
            ],
            "text/plain": [
              "<IPython.core.display.Javascript object>"
            ]
          },
          "metadata": {}
        },
        {
          "output_type": "display_data",
          "data": {
            "application/javascript": [
              "window[\"74580ff6-9d97-11ec-955d-0242ac1c0002\"] = google.colab.output.setActiveOutputArea(window[\"7434a2fa-9d97-11ec-955d-0242ac1c0002\"]);\n",
              "//# sourceURL=js_807aa6a89d"
            ],
            "text/plain": [
              "<IPython.core.display.Javascript object>"
            ]
          },
          "metadata": {}
        },
        {
          "output_type": "display_data",
          "data": {
            "application/javascript": [
              "window[\"74789d98-9d97-11ec-955d-0242ac1c0002\"] = google.colab.output.getActiveOutputArea();\n",
              "//# sourceURL=js_85b5695cfc"
            ],
            "text/plain": [
              "<IPython.core.display.Javascript object>"
            ]
          },
          "metadata": {}
        },
        {
          "output_type": "display_data",
          "data": {
            "application/javascript": [
              "window[\"7478fca2-9d97-11ec-955d-0242ac1c0002\"] = document.querySelector(\"#id46-0-0\");\n",
              "//# sourceURL=js_6d8f8575d9"
            ],
            "text/plain": [
              "<IPython.core.display.Javascript object>"
            ]
          },
          "metadata": {}
        },
        {
          "output_type": "display_data",
          "data": {
            "application/javascript": [
              "window[\"7479716e-9d97-11ec-955d-0242ac1c0002\"] = google.colab.output.setActiveOutputArea(window[\"7478fca2-9d97-11ec-955d-0242ac1c0002\"]);\n",
              "//# sourceURL=js_6edb7e7133"
            ],
            "text/plain": [
              "<IPython.core.display.Javascript object>"
            ]
          },
          "metadata": {}
        },
        {
          "output_type": "display_data",
          "data": {
            "application/javascript": [
              "window[\"74928c3a-9d97-11ec-955d-0242ac1c0002\"] = google.colab.output.setActiveOutputArea(window[\"74789d98-9d97-11ec-955d-0242ac1c0002\"]);\n",
              "//# sourceURL=js_bc3bc02ebb"
            ],
            "text/plain": [
              "<IPython.core.display.Javascript object>"
            ]
          },
          "metadata": {}
        },
        {
          "output_type": "display_data",
          "data": {
            "application/javascript": [
              "window[\"74b3c404-9d97-11ec-955d-0242ac1c0002\"] = google.colab.output.getActiveOutputArea();\n",
              "//# sourceURL=js_494c446fd5"
            ],
            "text/plain": [
              "<IPython.core.display.Javascript object>"
            ]
          },
          "metadata": {}
        },
        {
          "output_type": "display_data",
          "data": {
            "application/javascript": [
              "window[\"74b452d4-9d97-11ec-955d-0242ac1c0002\"] = document.querySelector(\"#id46-0-0\");\n",
              "//# sourceURL=js_f161aafef9"
            ],
            "text/plain": [
              "<IPython.core.display.Javascript object>"
            ]
          },
          "metadata": {}
        },
        {
          "output_type": "display_data",
          "data": {
            "application/javascript": [
              "window[\"74b58924-9d97-11ec-955d-0242ac1c0002\"] = google.colab.output.setActiveOutputArea(window[\"74b452d4-9d97-11ec-955d-0242ac1c0002\"]);\n",
              "//# sourceURL=js_8f83f9255c"
            ],
            "text/plain": [
              "<IPython.core.display.Javascript object>"
            ]
          },
          "metadata": {}
        },
        {
          "output_type": "display_data",
          "data": {
            "application/javascript": [
              "window[\"74cc4074-9d97-11ec-955d-0242ac1c0002\"] = google.colab.output.setActiveOutputArea(window[\"74b3c404-9d97-11ec-955d-0242ac1c0002\"]);\n",
              "//# sourceURL=js_f53c81ead8"
            ],
            "text/plain": [
              "<IPython.core.display.Javascript object>"
            ]
          },
          "metadata": {}
        },
        {
          "output_type": "display_data",
          "data": {
            "application/javascript": [
              "window[\"74ecb2a0-9d97-11ec-955d-0242ac1c0002\"] = google.colab.output.getActiveOutputArea();\n",
              "//# sourceURL=js_92a1f5e2b3"
            ],
            "text/plain": [
              "<IPython.core.display.Javascript object>"
            ]
          },
          "metadata": {}
        },
        {
          "output_type": "display_data",
          "data": {
            "application/javascript": [
              "window[\"74ed0b56-9d97-11ec-955d-0242ac1c0002\"] = document.querySelector(\"#id46-0-0\");\n",
              "//# sourceURL=js_664c4cb84d"
            ],
            "text/plain": [
              "<IPython.core.display.Javascript object>"
            ]
          },
          "metadata": {}
        },
        {
          "output_type": "display_data",
          "data": {
            "application/javascript": [
              "window[\"74ed6074-9d97-11ec-955d-0242ac1c0002\"] = google.colab.output.setActiveOutputArea(window[\"74ed0b56-9d97-11ec-955d-0242ac1c0002\"]);\n",
              "//# sourceURL=js_e8ba6642cf"
            ],
            "text/plain": [
              "<IPython.core.display.Javascript object>"
            ]
          },
          "metadata": {}
        },
        {
          "output_type": "display_data",
          "data": {
            "application/javascript": [
              "window[\"750635ae-9d97-11ec-955d-0242ac1c0002\"] = google.colab.output.setActiveOutputArea(window[\"74ecb2a0-9d97-11ec-955d-0242ac1c0002\"]);\n",
              "//# sourceURL=js_8df3cf64e1"
            ],
            "text/plain": [
              "<IPython.core.display.Javascript object>"
            ]
          },
          "metadata": {}
        },
        {
          "output_type": "display_data",
          "data": {
            "application/javascript": [
              "window[\"7526dcc8-9d97-11ec-955d-0242ac1c0002\"] = google.colab.output.getActiveOutputArea();\n",
              "//# sourceURL=js_e4dddc5fa2"
            ],
            "text/plain": [
              "<IPython.core.display.Javascript object>"
            ]
          },
          "metadata": {}
        },
        {
          "output_type": "display_data",
          "data": {
            "application/javascript": [
              "window[\"75273a4c-9d97-11ec-955d-0242ac1c0002\"] = document.querySelector(\"#id46-0-0\");\n",
              "//# sourceURL=js_252f294042"
            ],
            "text/plain": [
              "<IPython.core.display.Javascript object>"
            ]
          },
          "metadata": {}
        },
        {
          "output_type": "display_data",
          "data": {
            "application/javascript": [
              "window[\"7527abd0-9d97-11ec-955d-0242ac1c0002\"] = google.colab.output.setActiveOutputArea(window[\"75273a4c-9d97-11ec-955d-0242ac1c0002\"]);\n",
              "//# sourceURL=js_a2a5362352"
            ],
            "text/plain": [
              "<IPython.core.display.Javascript object>"
            ]
          },
          "metadata": {}
        },
        {
          "output_type": "display_data",
          "data": {
            "application/javascript": [
              "window[\"75402d18-9d97-11ec-955d-0242ac1c0002\"] = google.colab.output.setActiveOutputArea(window[\"7526dcc8-9d97-11ec-955d-0242ac1c0002\"]);\n",
              "//# sourceURL=js_34a79edc26"
            ],
            "text/plain": [
              "<IPython.core.display.Javascript object>"
            ]
          },
          "metadata": {}
        },
        {
          "output_type": "display_data",
          "data": {
            "application/javascript": [
              "window[\"756084e6-9d97-11ec-955d-0242ac1c0002\"] = google.colab.output.getActiveOutputArea();\n",
              "//# sourceURL=js_d1251ceaf8"
            ],
            "text/plain": [
              "<IPython.core.display.Javascript object>"
            ]
          },
          "metadata": {}
        },
        {
          "output_type": "display_data",
          "data": {
            "application/javascript": [
              "window[\"7560c280-9d97-11ec-955d-0242ac1c0002\"] = document.querySelector(\"#id46-0-0\");\n",
              "//# sourceURL=js_383a6c80ed"
            ],
            "text/plain": [
              "<IPython.core.display.Javascript object>"
            ]
          },
          "metadata": {}
        },
        {
          "output_type": "display_data",
          "data": {
            "application/javascript": [
              "window[\"75611064-9d97-11ec-955d-0242ac1c0002\"] = google.colab.output.setActiveOutputArea(window[\"7560c280-9d97-11ec-955d-0242ac1c0002\"]);\n",
              "//# sourceURL=js_3e6cdbeff9"
            ],
            "text/plain": [
              "<IPython.core.display.Javascript object>"
            ]
          },
          "metadata": {}
        },
        {
          "output_type": "display_data",
          "data": {
            "application/javascript": [
              "window[\"75793ae0-9d97-11ec-955d-0242ac1c0002\"] = google.colab.output.setActiveOutputArea(window[\"756084e6-9d97-11ec-955d-0242ac1c0002\"]);\n",
              "//# sourceURL=js_f45a46bf30"
            ],
            "text/plain": [
              "<IPython.core.display.Javascript object>"
            ]
          },
          "metadata": {}
        },
        {
          "output_type": "display_data",
          "data": {
            "application/javascript": [
              "window[\"759994a2-9d97-11ec-955d-0242ac1c0002\"] = google.colab.output.getActiveOutputArea();\n",
              "//# sourceURL=js_aadd45a0d0"
            ],
            "text/plain": [
              "<IPython.core.display.Javascript object>"
            ]
          },
          "metadata": {}
        },
        {
          "output_type": "display_data",
          "data": {
            "application/javascript": [
              "window[\"7599e3f8-9d97-11ec-955d-0242ac1c0002\"] = document.querySelector(\"#id46-0-0\");\n",
              "//# sourceURL=js_a3960bb27f"
            ],
            "text/plain": [
              "<IPython.core.display.Javascript object>"
            ]
          },
          "metadata": {}
        },
        {
          "output_type": "display_data",
          "data": {
            "application/javascript": [
              "window[\"759a458c-9d97-11ec-955d-0242ac1c0002\"] = google.colab.output.setActiveOutputArea(window[\"7599e3f8-9d97-11ec-955d-0242ac1c0002\"]);\n",
              "//# sourceURL=js_2be2e485f0"
            ],
            "text/plain": [
              "<IPython.core.display.Javascript object>"
            ]
          },
          "metadata": {}
        },
        {
          "output_type": "display_data",
          "data": {
            "application/javascript": [
              "window[\"75b184d6-9d97-11ec-955d-0242ac1c0002\"] = google.colab.output.setActiveOutputArea(window[\"759994a2-9d97-11ec-955d-0242ac1c0002\"]);\n",
              "//# sourceURL=js_4460c046f2"
            ],
            "text/plain": [
              "<IPython.core.display.Javascript object>"
            ]
          },
          "metadata": {}
        },
        {
          "output_type": "display_data",
          "data": {
            "application/javascript": [
              "window[\"75d1c8cc-9d97-11ec-955d-0242ac1c0002\"] = google.colab.output.getActiveOutputArea();\n",
              "//# sourceURL=js_bb61fd08e7"
            ],
            "text/plain": [
              "<IPython.core.display.Javascript object>"
            ]
          },
          "metadata": {}
        },
        {
          "output_type": "display_data",
          "data": {
            "application/javascript": [
              "window[\"75d21d04-9d97-11ec-955d-0242ac1c0002\"] = document.querySelector(\"#id46-0-0\");\n",
              "//# sourceURL=js_84e8979962"
            ],
            "text/plain": [
              "<IPython.core.display.Javascript object>"
            ]
          },
          "metadata": {}
        },
        {
          "output_type": "display_data",
          "data": {
            "application/javascript": [
              "window[\"75d270c4-9d97-11ec-955d-0242ac1c0002\"] = google.colab.output.setActiveOutputArea(window[\"75d21d04-9d97-11ec-955d-0242ac1c0002\"]);\n",
              "//# sourceURL=js_2f13cb4788"
            ],
            "text/plain": [
              "<IPython.core.display.Javascript object>"
            ]
          },
          "metadata": {}
        },
        {
          "output_type": "display_data",
          "data": {
            "application/javascript": [
              "window[\"75e92cce-9d97-11ec-955d-0242ac1c0002\"] = google.colab.output.setActiveOutputArea(window[\"75d1c8cc-9d97-11ec-955d-0242ac1c0002\"]);\n",
              "//# sourceURL=js_ab8141bb4c"
            ],
            "text/plain": [
              "<IPython.core.display.Javascript object>"
            ]
          },
          "metadata": {}
        },
        {
          "output_type": "display_data",
          "data": {
            "application/javascript": [
              "window[\"76099180-9d97-11ec-955d-0242ac1c0002\"] = google.colab.output.getActiveOutputArea();\n",
              "//# sourceURL=js_e9177e789b"
            ],
            "text/plain": [
              "<IPython.core.display.Javascript object>"
            ]
          },
          "metadata": {}
        },
        {
          "output_type": "display_data",
          "data": {
            "application/javascript": [
              "window[\"7609e96e-9d97-11ec-955d-0242ac1c0002\"] = document.querySelector(\"#id46-0-0\");\n",
              "//# sourceURL=js_46fad2d652"
            ],
            "text/plain": [
              "<IPython.core.display.Javascript object>"
            ]
          },
          "metadata": {}
        },
        {
          "output_type": "display_data",
          "data": {
            "application/javascript": [
              "window[\"760a8dba-9d97-11ec-955d-0242ac1c0002\"] = google.colab.output.setActiveOutputArea(window[\"7609e96e-9d97-11ec-955d-0242ac1c0002\"]);\n",
              "//# sourceURL=js_2b27fc291f"
            ],
            "text/plain": [
              "<IPython.core.display.Javascript object>"
            ]
          },
          "metadata": {}
        },
        {
          "output_type": "display_data",
          "data": {
            "application/javascript": [
              "window[\"7621d86c-9d97-11ec-955d-0242ac1c0002\"] = google.colab.output.setActiveOutputArea(window[\"76099180-9d97-11ec-955d-0242ac1c0002\"]);\n",
              "//# sourceURL=js_6f8cdc471b"
            ],
            "text/plain": [
              "<IPython.core.display.Javascript object>"
            ]
          },
          "metadata": {}
        },
        {
          "output_type": "display_data",
          "data": {
            "application/javascript": [
              "window[\"764270e0-9d97-11ec-955d-0242ac1c0002\"] = google.colab.output.getActiveOutputArea();\n",
              "//# sourceURL=js_df015757f3"
            ],
            "text/plain": [
              "<IPython.core.display.Javascript object>"
            ]
          },
          "metadata": {}
        },
        {
          "output_type": "display_data",
          "data": {
            "application/javascript": [
              "window[\"7642ac68-9d97-11ec-955d-0242ac1c0002\"] = document.querySelector(\"#id46-0-0\");\n",
              "//# sourceURL=js_2c56f8f2db"
            ],
            "text/plain": [
              "<IPython.core.display.Javascript object>"
            ]
          },
          "metadata": {}
        },
        {
          "output_type": "display_data",
          "data": {
            "application/javascript": [
              "window[\"7642e4c6-9d97-11ec-955d-0242ac1c0002\"] = google.colab.output.setActiveOutputArea(window[\"7642ac68-9d97-11ec-955d-0242ac1c0002\"]);\n",
              "//# sourceURL=js_afe54d2ff5"
            ],
            "text/plain": [
              "<IPython.core.display.Javascript object>"
            ]
          },
          "metadata": {}
        },
        {
          "output_type": "display_data",
          "data": {
            "application/javascript": [
              "window[\"765b273e-9d97-11ec-955d-0242ac1c0002\"] = google.colab.output.setActiveOutputArea(window[\"764270e0-9d97-11ec-955d-0242ac1c0002\"]);\n",
              "//# sourceURL=js_fe4ff2c601"
            ],
            "text/plain": [
              "<IPython.core.display.Javascript object>"
            ]
          },
          "metadata": {}
        },
        {
          "output_type": "display_data",
          "data": {
            "application/javascript": [
              "window[\"767c4de2-9d97-11ec-955d-0242ac1c0002\"] = google.colab.output.getActiveOutputArea();\n",
              "//# sourceURL=js_f20af4bc7d"
            ],
            "text/plain": [
              "<IPython.core.display.Javascript object>"
            ]
          },
          "metadata": {}
        },
        {
          "output_type": "display_data",
          "data": {
            "application/javascript": [
              "window[\"767c9e50-9d97-11ec-955d-0242ac1c0002\"] = document.querySelector(\"#id46-0-0\");\n",
              "//# sourceURL=js_bf2a7386eb"
            ],
            "text/plain": [
              "<IPython.core.display.Javascript object>"
            ]
          },
          "metadata": {}
        },
        {
          "output_type": "display_data",
          "data": {
            "application/javascript": [
              "window[\"767d2230-9d97-11ec-955d-0242ac1c0002\"] = google.colab.output.setActiveOutputArea(window[\"767c9e50-9d97-11ec-955d-0242ac1c0002\"]);\n",
              "//# sourceURL=js_19c40a39fb"
            ],
            "text/plain": [
              "<IPython.core.display.Javascript object>"
            ]
          },
          "metadata": {}
        },
        {
          "output_type": "display_data",
          "data": {
            "image/png": "[encoded data removed]",
            "text/plain": [
              "<Figure size 432x288 with 1 Axes>"
            ]
          },
          "metadata": {
            "needs_background": "light"
          }
        },
        {
          "output_type": "display_data",
          "data": {
            "application/javascript": [
              "window[\"7694712e-9d97-11ec-955d-0242ac1c0002\"] = google.colab.output.setActiveOutputArea(window[\"767c4de2-9d97-11ec-955d-0242ac1c0002\"]);\n",
              "//# sourceURL=js_f23651cc4b"
            ],
            "text/plain": [
              "<IPython.core.display.Javascript object>"
            ]
          },
          "metadata": {}
        },
        {
          "output_type": "execute_result",
          "data": {
            "text/plain": [
              "<matplotlib.legend.Legend at 0x7f798f186450>"
            ]
          },
          "metadata": {},
          "execution_count": 47
        },
        {
          "output_type": "display_data",
          "data": {
            "image/png": "[encoded data removed]",
            "text/plain": [
              "<Figure size 432x288 with 1 Axes>"
            ]
          },
          "metadata": {
            "needs_background": "light"
          }
        }
      ]
    }
  ],
  "metadata": {
    "colab": {
      "collapsed_sections": [],
      "name": "A1_Stochastic_DQL.ipynb",
      "provenance": []
    },
    "kernelspec": {
      "display_name": "Python 3",
      "name": "python3"
    },
    "language_info": {
      "name": "python"
    }
  },
  "nbformat": 4,
  "nbformat_minor": 0
}