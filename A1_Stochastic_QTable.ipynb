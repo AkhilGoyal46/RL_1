{
  "cells": [
    {
      "cell_type": "code",
      "source": [
        "\"\"\"I certify that the code and data in this assignment were generated independently, using only the tools\n",
        "and resources defined in the course and that I did not receive any external help, coaching or contributions\n",
        "during the production of this work.\"\"\""
      ],
      "metadata": {
        "id": "1rKLXwpwP-8t"
      },
      "execution_count": null,
      "outputs": []
    },
    {
      "cell_type": "code",
      "execution_count": null,
      "metadata": {
        "id": "vzLSDtlzL3mt"
      },
      "outputs": [],
      "source": [
        "import numpy as np\n",
        "import matplotlib.pyplot as plt\n",
        "import gym\n",
        "from gym import spaces\n",
        "from google.colab import widgets\n",
        "import time"
      ]
    },
    {
      "cell_type": "code",
      "execution_count": null,
      "metadata": {
        "id": "vNy_7i2jL8VQ"
      },
      "outputs": [],
      "source": [
        "class GridEnvironment(gym.Env):\n",
        "    metadata = { 'render.modes': [] }\n",
        "    \n",
        "    def __init__(self):\n",
        "        self.observation_space = spaces.Discrete(121)\n",
        "        self.action_space = spaces.Discrete(4)\n",
        "        self.max_timesteps = 25\n",
        "        \n",
        "        \n",
        "    def map(self):\n",
        "        self.state[3,4:8] = -1\n",
        "        self.state[9:11,5:8] = -1\n",
        "        self.state[5:7,9:11] = -1\n",
        "        self.state[0,5] = -1\n",
        "        self.state[0,7] = -1\n",
        "        self.state[2,0] = -1\n",
        "        self.state[3,1] = -1\n",
        "        self.state[4,2] = -1\n",
        "        self.state[5,3] = -1\n",
        "        self.state[6,4] = -1\n",
        "        self.state[5,6] = 0.25\n",
        "        self.state[2,9] = 0.25\n",
        "\n",
        "    def setReward(self):\n",
        "        self.reward_mat[3,4:8] = -5\n",
        "        self.reward_mat[9:11,5:8] = -5\n",
        "        self.reward_mat[5:7,9:11] = -5\n",
        "        self.reward_mat[0,5] = -5\n",
        "        self.reward_mat[0,7] = -5\n",
        "        self.reward_mat[2,0] = -5\n",
        "        self.reward_mat[3,1] = -5\n",
        "        self.reward_mat[4,2] = -5\n",
        "        self.reward_mat[5,3] = -5\n",
        "        self.reward_mat[6,4] = -5\n",
        "        self.reward_mat[5,6] = 7\n",
        "        self.reward_mat[2,9] = 10\n",
        "        self.reward_mat[tuple(self.goal_pos)] = 20\n",
        " \n",
        "    def reset(self):\n",
        "        self.timestep = 0\n",
        "        self.start_pos=[6,2]\n",
        "        self.goal_pos = [0, 6]\n",
        "        \n",
        "        self.reward=0\n",
        "        self.state = np.zeros((11,11))\n",
        "\n",
        "        self.agent_pos = self.start_pos\n",
        "        \n",
        "        self.state = np.zeros((11,11))\n",
        "        self.reward_mat = np.zeros((11,11))\n",
        "        self.map()\n",
        "        self.setReward()\n",
        "        \n",
        "                \n",
        "        pos = (self.agent_pos[0]*10)+self.agent_pos[0]+self.agent_pos[1]\n",
        "        return pos\n",
        "    \n",
        "    def step(self, action):\n",
        "        if action == 0: action=np.random.choice(self.action_space.n,p=[0.9, 0.04 , 0.03 , 0.03 ])\n",
        "        elif action == 1: action=np.random.choice(self.action_space.n,p=[0.04, 0.9 , 0.03 , 0.03 ])\n",
        "        elif action == 2: action=np.random.choice(self.action_space.n,p=[0.03, 0.03 , 0.9 , 0.04 ])\n",
        "        elif action == 3: action=np.random.choice(self.action_space.n,p=[0.03, 0.03 , 0.04 , 0.9 ])\n",
        "\n",
        "        if action == 0: self.agent_pos[0] -= 1\n",
        "        elif action == 1: self.agent_pos[0] += 1\n",
        "        elif action == 2: self.agent_pos[1] -= 1\n",
        "        elif action == 3: self.agent_pos[1] += 1\n",
        "          \n",
        "        self.agent_pos = np.clip(self.agent_pos, 0, 10)\n",
        "\n",
        "        pos = (self.agent_pos[0]*10)+self.agent_pos[0]+self.agent_pos[1]\n",
        "        self.state = np.zeros((11,11))\n",
        "        self.map()\n",
        "\n",
        "        self.state[tuple(self.goal_pos)] = 0.5\n",
        "        self.state[tuple(self.agent_pos)] = 1\n",
        "        \n",
        "        \n",
        "        observation = self.state.flatten()\n",
        "        \n",
        "        self.reward = self.reward_mat[tuple(self.agent_pos)]\n",
        "        if (self.reward>0):         \n",
        "          self.reward_mat[tuple(self.agent_pos)] = 0\n",
        "\n",
        "        self.timestep += 1\n",
        "        done = True if self.timestep >= self.max_timesteps else False\n",
        "        if ((self.agent_pos == self.goal_pos).all()):\n",
        "          done = True \n",
        "        info = {}\n",
        "        \n",
        "        return action, pos, self.reward -1 , done, info, self.timestep\n",
        "        \n",
        "    def render(self):\n",
        "        plt.imshow(self.state)"
      ]
    },
    {
      "cell_type": "code",
      "execution_count": null,
      "metadata": {
        "id": "Czjyx0D_L-it"
      },
      "outputs": [],
      "source": [
        "class RandomAgent:\n",
        "  def __init__(self, env):\n",
        "    self.env = env\n",
        "    self.observation_space = env.observation_space\n",
        "    self.action_space = env.action_space\n",
        "    self.Q_table=np.zeros((121, 4))\n",
        "    self.prev_pos=0\n",
        "    self.alph = 0.25\n",
        "    self.gamm = 0.95\n",
        "\n",
        "  def update(self,action,reward,pos):\n",
        "    self.Q_table[self.prev_pos,action]= self.Q_table[self.prev_pos,action] + self.alph*(reward + self.gamm*np.max(self.Q_table[pos,:])-self.Q_table[self.prev_pos,action])\n",
        "    \n",
        "    return self.Q_table\n",
        "\n",
        "\n",
        "  def step(self, pos, episod, max_episod):\n",
        "    self.prev_pos = pos\n",
        "    ep = np.exp(-8*episod/max_episod)\n",
        "    pb=0.25*ep*np.ones(4)\n",
        "    pb[np.argmax(self.Q_table[pos,:])] += 1 - ep\n",
        "    pb= pb/np.sum(pb)\n",
        "    return np.random.choice(self.action_space.n, p = pb) ,ep\n",
        "    "
      ]
    },
    {
      "cell_type": "code",
      "execution_count": null,
      "metadata": {
        "colab": {
          "base_uri": "https://localhost:8080/",
          "height": 1000
        },
        "id": "o333bWhuNIH3",
        "outputId": "5600b8d2-63e7-409b-aa1b-aaffcf252eff"
      },
      "outputs": [
        {
          "output_type": "display_data",
          "data": {
            "text/html": [
              "<style>\n",
              "       table#id34, #id34 > tbody > tr > th, #id34 > tbody > tr > td {\n",
              "         border: 1px solid lightgray;\n",
              "         border-collapse:collapse;\n",
              "         \n",
              "        }</style>"
            ],
            "text/plain": [
              "<IPython.core.display.HTML object>"
            ]
          },
          "metadata": {}
        },
        {
          "output_type": "display_data",
          "data": {
            "text/html": [
              "<table id=id34><tr><td id=id34-0-0></td></tr></table>"
            ],
            "text/plain": [
              "<IPython.core.display.HTML object>"
            ]
          },
          "metadata": {}
        },
        {
          "output_type": "display_data",
          "data": {
            "application/javascript": [
              "window[\"cabd7e94-9d8d-11ec-a544-0242ac1c0002\"] = google.colab.output.getActiveOutputArea();\n",
              "//# sourceURL=js_ea8b9967d5"
            ],
            "text/plain": [
              "<IPython.core.display.Javascript object>"
            ]
          },
          "metadata": {}
        },
        {
          "output_type": "display_data",
          "data": {
            "application/javascript": [
              "window[\"cabdd920-9d8d-11ec-a544-0242ac1c0002\"] = document.querySelector(\"#id34-0-0\");\n",
              "//# sourceURL=js_714211c270"
            ],
            "text/plain": [
              "<IPython.core.display.Javascript object>"
            ]
          },
          "metadata": {}
        },
        {
          "output_type": "display_data",
          "data": {
            "application/javascript": [
              "window[\"cabe45f4-9d8d-11ec-a544-0242ac1c0002\"] = google.colab.output.setActiveOutputArea(window[\"cabdd920-9d8d-11ec-a544-0242ac1c0002\"]);\n",
              "//# sourceURL=js_86fbabea1c"
            ],
            "text/plain": [
              "<IPython.core.display.Javascript object>"
            ]
          },
          "metadata": {}
        },
        {
          "output_type": "display_data",
          "data": {
            "application/javascript": [
              "window[\"cad993c2-9d8d-11ec-a544-0242ac1c0002\"] = google.colab.output.setActiveOutputArea(window[\"cabd7e94-9d8d-11ec-a544-0242ac1c0002\"]);\n",
              "//# sourceURL=js_dc19d1dd0e"
            ],
            "text/plain": [
              "<IPython.core.display.Javascript object>"
            ]
          },
          "metadata": {}
        },
        {
          "output_type": "display_data",
          "data": {
            "application/javascript": [
              "window[\"cadc0224-9d8d-11ec-a544-0242ac1c0002\"] = google.colab.output.getActiveOutputArea();\n",
              "//# sourceURL=js_de099e43e3"
            ],
            "text/plain": [
              "<IPython.core.display.Javascript object>"
            ]
          },
          "metadata": {}
        },
        {
          "output_type": "display_data",
          "data": {
            "application/javascript": [
              "window[\"cadc6d9a-9d8d-11ec-a544-0242ac1c0002\"] = document.querySelector(\"#id34-0-0\");\n",
              "//# sourceURL=js_bf0b04d59c"
            ],
            "text/plain": [
              "<IPython.core.display.Javascript object>"
            ]
          },
          "metadata": {}
        },
        {
          "output_type": "display_data",
          "data": {
            "application/javascript": [
              "window[\"cadcce8e-9d8d-11ec-a544-0242ac1c0002\"] = google.colab.output.setActiveOutputArea(window[\"cadc6d9a-9d8d-11ec-a544-0242ac1c0002\"]);\n",
              "//# sourceURL=js_619719ffee"
            ],
            "text/plain": [
              "<IPython.core.display.Javascript object>"
            ]
          },
          "metadata": {}
        },
        {
          "output_type": "display_data",
          "data": {
            "application/javascript": [
              "window[\"caf588d4-9d8d-11ec-a544-0242ac1c0002\"] = google.colab.output.setActiveOutputArea(window[\"cadc0224-9d8d-11ec-a544-0242ac1c0002\"]);\n",
              "//# sourceURL=js_1dd880f5bc"
            ],
            "text/plain": [
              "<IPython.core.display.Javascript object>"
            ]
          },
          "metadata": {}
        },
        {
          "output_type": "display_data",
          "data": {
            "application/javascript": [
              "window[\"cb164d1c-9d8d-11ec-a544-0242ac1c0002\"] = google.colab.output.getActiveOutputArea();\n",
              "//# sourceURL=js_bda3cec68b"
            ],
            "text/plain": [
              "<IPython.core.display.Javascript object>"
            ]
          },
          "metadata": {}
        },
        {
          "output_type": "display_data",
          "data": {
            "application/javascript": [
              "window[\"cb16d994-9d8d-11ec-a544-0242ac1c0002\"] = document.querySelector(\"#id34-0-0\");\n",
              "//# sourceURL=js_13bdce7719"
            ],
            "text/plain": [
              "<IPython.core.display.Javascript object>"
            ]
          },
          "metadata": {}
        },
        {
          "output_type": "display_data",
          "data": {
            "application/javascript": [
              "window[\"cb172f5c-9d8d-11ec-a544-0242ac1c0002\"] = google.colab.output.setActiveOutputArea(window[\"cb16d994-9d8d-11ec-a544-0242ac1c0002\"]);\n",
              "//# sourceURL=js_a10ff1717a"
            ],
            "text/plain": [
              "<IPython.core.display.Javascript object>"
            ]
          },
          "metadata": {}
        },
        {
          "output_type": "display_data",
          "data": {
            "application/javascript": [
              "window[\"cb2ed4ae-9d8d-11ec-a544-0242ac1c0002\"] = google.colab.output.setActiveOutputArea(window[\"cb164d1c-9d8d-11ec-a544-0242ac1c0002\"]);\n",
              "//# sourceURL=js_52730c2d70"
            ],
            "text/plain": [
              "<IPython.core.display.Javascript object>"
            ]
          },
          "metadata": {}
        },
        {
          "output_type": "display_data",
          "data": {
            "application/javascript": [
              "window[\"cb5149e4-9d8d-11ec-a544-0242ac1c0002\"] = google.colab.output.getActiveOutputArea();\n",
              "//# sourceURL=js_b996805b32"
            ],
            "text/plain": [
              "<IPython.core.display.Javascript object>"
            ]
          },
          "metadata": {}
        },
        {
          "output_type": "display_data",
          "data": {
            "application/javascript": [
              "window[\"cb51cc7a-9d8d-11ec-a544-0242ac1c0002\"] = document.querySelector(\"#id34-0-0\");\n",
              "//# sourceURL=js_2f77e7eaed"
            ],
            "text/plain": [
              "<IPython.core.display.Javascript object>"
            ]
          },
          "metadata": {}
        },
        {
          "output_type": "display_data",
          "data": {
            "application/javascript": [
              "window[\"cb525564-9d8d-11ec-a544-0242ac1c0002\"] = google.colab.output.setActiveOutputArea(window[\"cb51cc7a-9d8d-11ec-a544-0242ac1c0002\"]);\n",
              "//# sourceURL=js_ed38a08987"
            ],
            "text/plain": [
              "<IPython.core.display.Javascript object>"
            ]
          },
          "metadata": {}
        },
        {
          "output_type": "display_data",
          "data": {
            "application/javascript": [
              "window[\"cb6d9928-9d8d-11ec-a544-0242ac1c0002\"] = google.colab.output.setActiveOutputArea(window[\"cb5149e4-9d8d-11ec-a544-0242ac1c0002\"]);\n",
              "//# sourceURL=js_a9ff994d1b"
            ],
            "text/plain": [
              "<IPython.core.display.Javascript object>"
            ]
          },
          "metadata": {}
        },
        {
          "output_type": "display_data",
          "data": {
            "application/javascript": [
              "window[\"cb8e0d7a-9d8d-11ec-a544-0242ac1c0002\"] = google.colab.output.getActiveOutputArea();\n",
              "//# sourceURL=js_25b01f7aa0"
            ],
            "text/plain": [
              "<IPython.core.display.Javascript object>"
            ]
          },
          "metadata": {}
        },
        {
          "output_type": "display_data",
          "data": {
            "application/javascript": [
              "window[\"cb8e571c-9d8d-11ec-a544-0242ac1c0002\"] = document.querySelector(\"#id34-0-0\");\n",
              "//# sourceURL=js_76e36ab685"
            ],
            "text/plain": [
              "<IPython.core.display.Javascript object>"
            ]
          },
          "metadata": {}
        },
        {
          "output_type": "display_data",
          "data": {
            "application/javascript": [
              "window[\"cb8ec508-9d8d-11ec-a544-0242ac1c0002\"] = google.colab.output.setActiveOutputArea(window[\"cb8e571c-9d8d-11ec-a544-0242ac1c0002\"]);\n",
              "//# sourceURL=js_5ecd122d57"
            ],
            "text/plain": [
              "<IPython.core.display.Javascript object>"
            ]
          },
          "metadata": {}
        },
        {
          "output_type": "display_data",
          "data": {
            "application/javascript": [
              "window[\"cba65c4a-9d8d-11ec-a544-0242ac1c0002\"] = google.colab.output.setActiveOutputArea(window[\"cb8e0d7a-9d8d-11ec-a544-0242ac1c0002\"]);\n",
              "//# sourceURL=js_1f7355406c"
            ],
            "text/plain": [
              "<IPython.core.display.Javascript object>"
            ]
          },
          "metadata": {}
        },
        {
          "output_type": "display_data",
          "data": {
            "application/javascript": [
              "window[\"cbc6f9c8-9d8d-11ec-a544-0242ac1c0002\"] = google.colab.output.getActiveOutputArea();\n",
              "//# sourceURL=js_c83e8a0a56"
            ],
            "text/plain": [
              "<IPython.core.display.Javascript object>"
            ]
          },
          "metadata": {}
        },
        {
          "output_type": "display_data",
          "data": {
            "application/javascript": [
              "window[\"cbc76e62-9d8d-11ec-a544-0242ac1c0002\"] = document.querySelector(\"#id34-0-0\");\n",
              "//# sourceURL=js_92959e5707"
            ],
            "text/plain": [
              "<IPython.core.display.Javascript object>"
            ]
          },
          "metadata": {}
        },
        {
          "output_type": "display_data",
          "data": {
            "application/javascript": [
              "window[\"cbc7d532-9d8d-11ec-a544-0242ac1c0002\"] = google.colab.output.setActiveOutputArea(window[\"cbc76e62-9d8d-11ec-a544-0242ac1c0002\"]);\n",
              "//# sourceURL=js_4a61fa0f10"
            ],
            "text/plain": [
              "<IPython.core.display.Javascript object>"
            ]
          },
          "metadata": {}
        },
        {
          "output_type": "display_data",
          "data": {
            "application/javascript": [
              "window[\"cbdfe9c4-9d8d-11ec-a544-0242ac1c0002\"] = google.colab.output.setActiveOutputArea(window[\"cbc6f9c8-9d8d-11ec-a544-0242ac1c0002\"]);\n",
              "//# sourceURL=js_0eb51824ce"
            ],
            "text/plain": [
              "<IPython.core.display.Javascript object>"
            ]
          },
          "metadata": {}
        },
        {
          "output_type": "display_data",
          "data": {
            "application/javascript": [
              "window[\"cc024e7e-9d8d-11ec-a544-0242ac1c0002\"] = google.colab.output.getActiveOutputArea();\n",
              "//# sourceURL=js_5d1bf330af"
            ],
            "text/plain": [
              "<IPython.core.display.Javascript object>"
            ]
          },
          "metadata": {}
        },
        {
          "output_type": "display_data",
          "data": {
            "application/javascript": [
              "window[\"cc02ae82-9d8d-11ec-a544-0242ac1c0002\"] = document.querySelector(\"#id34-0-0\");\n",
              "//# sourceURL=js_b565bfd899"
            ],
            "text/plain": [
              "<IPython.core.display.Javascript object>"
            ]
          },
          "metadata": {}
        },
        {
          "output_type": "display_data",
          "data": {
            "application/javascript": [
              "window[\"cc033e4c-9d8d-11ec-a544-0242ac1c0002\"] = google.colab.output.setActiveOutputArea(window[\"cc02ae82-9d8d-11ec-a544-0242ac1c0002\"]);\n",
              "//# sourceURL=js_cca234618b"
            ],
            "text/plain": [
              "<IPython.core.display.Javascript object>"
            ]
          },
          "metadata": {}
        },
        {
          "output_type": "display_data",
          "data": {
            "application/javascript": [
              "window[\"cc1b7e9e-9d8d-11ec-a544-0242ac1c0002\"] = google.colab.output.setActiveOutputArea(window[\"cc024e7e-9d8d-11ec-a544-0242ac1c0002\"]);\n",
              "//# sourceURL=js_3f937c28a5"
            ],
            "text/plain": [
              "<IPython.core.display.Javascript object>"
            ]
          },
          "metadata": {}
        },
        {
          "output_type": "display_data",
          "data": {
            "application/javascript": [
              "window[\"cc3df30c-9d8d-11ec-a544-0242ac1c0002\"] = google.colab.output.getActiveOutputArea();\n",
              "//# sourceURL=js_f38eeadd7c"
            ],
            "text/plain": [
              "<IPython.core.display.Javascript object>"
            ]
          },
          "metadata": {}
        },
        {
          "output_type": "display_data",
          "data": {
            "application/javascript": [
              "window[\"cc3e8a7e-9d8d-11ec-a544-0242ac1c0002\"] = document.querySelector(\"#id34-0-0\");\n",
              "//# sourceURL=js_c94c9cdcf2"
            ],
            "text/plain": [
              "<IPython.core.display.Javascript object>"
            ]
          },
          "metadata": {}
        },
        {
          "output_type": "display_data",
          "data": {
            "application/javascript": [
              "window[\"cc3f5cf6-9d8d-11ec-a544-0242ac1c0002\"] = google.colab.output.setActiveOutputArea(window[\"cc3e8a7e-9d8d-11ec-a544-0242ac1c0002\"]);\n",
              "//# sourceURL=js_622bb8f955"
            ],
            "text/plain": [
              "<IPython.core.display.Javascript object>"
            ]
          },
          "metadata": {}
        },
        {
          "output_type": "display_data",
          "data": {
            "application/javascript": [
              "window[\"cc58a116-9d8d-11ec-a544-0242ac1c0002\"] = google.colab.output.setActiveOutputArea(window[\"cc3df30c-9d8d-11ec-a544-0242ac1c0002\"]);\n",
              "//# sourceURL=js_1332198ce6"
            ],
            "text/plain": [
              "<IPython.core.display.Javascript object>"
            ]
          },
          "metadata": {}
        },
        {
          "output_type": "display_data",
          "data": {
            "application/javascript": [
              "window[\"cc7aa04a-9d8d-11ec-a544-0242ac1c0002\"] = google.colab.output.getActiveOutputArea();\n",
              "//# sourceURL=js_07f9daa0c9"
            ],
            "text/plain": [
              "<IPython.core.display.Javascript object>"
            ]
          },
          "metadata": {}
        },
        {
          "output_type": "display_data",
          "data": {
            "application/javascript": [
              "window[\"cc7afa7c-9d8d-11ec-a544-0242ac1c0002\"] = document.querySelector(\"#id34-0-0\");\n",
              "//# sourceURL=js_2ad0d42dce"
            ],
            "text/plain": [
              "<IPython.core.display.Javascript object>"
            ]
          },
          "metadata": {}
        },
        {
          "output_type": "display_data",
          "data": {
            "application/javascript": [
              "window[\"cc7b7fe2-9d8d-11ec-a544-0242ac1c0002\"] = google.colab.output.setActiveOutputArea(window[\"cc7afa7c-9d8d-11ec-a544-0242ac1c0002\"]);\n",
              "//# sourceURL=js_beb1c8424a"
            ],
            "text/plain": [
              "<IPython.core.display.Javascript object>"
            ]
          },
          "metadata": {}
        },
        {
          "output_type": "display_data",
          "data": {
            "application/javascript": [
              "window[\"cc91e1d8-9d8d-11ec-a544-0242ac1c0002\"] = google.colab.output.setActiveOutputArea(window[\"cc7aa04a-9d8d-11ec-a544-0242ac1c0002\"]);\n",
              "//# sourceURL=js_f2290ae14c"
            ],
            "text/plain": [
              "<IPython.core.display.Javascript object>"
            ]
          },
          "metadata": {}
        },
        {
          "output_type": "display_data",
          "data": {
            "application/javascript": [
              "window[\"ccb2b232-9d8d-11ec-a544-0242ac1c0002\"] = google.colab.output.getActiveOutputArea();\n",
              "//# sourceURL=js_1cc13e147a"
            ],
            "text/plain": [
              "<IPython.core.display.Javascript object>"
            ]
          },
          "metadata": {}
        },
        {
          "output_type": "display_data",
          "data": {
            "application/javascript": [
              "window[\"ccb32802-9d8d-11ec-a544-0242ac1c0002\"] = document.querySelector(\"#id34-0-0\");\n",
              "//# sourceURL=js_82742f6c77"
            ],
            "text/plain": [
              "<IPython.core.display.Javascript object>"
            ]
          },
          "metadata": {}
        },
        {
          "output_type": "display_data",
          "data": {
            "application/javascript": [
              "window[\"ccb3b308-9d8d-11ec-a544-0242ac1c0002\"] = google.colab.output.setActiveOutputArea(window[\"ccb32802-9d8d-11ec-a544-0242ac1c0002\"]);\n",
              "//# sourceURL=js_2980c2f2a0"
            ],
            "text/plain": [
              "<IPython.core.display.Javascript object>"
            ]
          },
          "metadata": {}
        },
        {
          "output_type": "display_data",
          "data": {
            "application/javascript": [
              "window[\"ccd8f668-9d8d-11ec-a544-0242ac1c0002\"] = google.colab.output.setActiveOutputArea(window[\"ccb2b232-9d8d-11ec-a544-0242ac1c0002\"]);\n",
              "//# sourceURL=js_c0b6640ff3"
            ],
            "text/plain": [
              "<IPython.core.display.Javascript object>"
            ]
          },
          "metadata": {}
        },
        {
          "output_type": "display_data",
          "data": {
            "application/javascript": [
              "window[\"ccf9def0-9d8d-11ec-a544-0242ac1c0002\"] = google.colab.output.getActiveOutputArea();\n",
              "//# sourceURL=js_fed2017aec"
            ],
            "text/plain": [
              "<IPython.core.display.Javascript object>"
            ]
          },
          "metadata": {}
        },
        {
          "output_type": "display_data",
          "data": {
            "application/javascript": [
              "window[\"ccfa59ac-9d8d-11ec-a544-0242ac1c0002\"] = document.querySelector(\"#id34-0-0\");\n",
              "//# sourceURL=js_3da9e25aac"
            ],
            "text/plain": [
              "<IPython.core.display.Javascript object>"
            ]
          },
          "metadata": {}
        },
        {
          "output_type": "display_data",
          "data": {
            "application/javascript": [
              "window[\"ccfababe-9d8d-11ec-a544-0242ac1c0002\"] = google.colab.output.setActiveOutputArea(window[\"ccfa59ac-9d8d-11ec-a544-0242ac1c0002\"]);\n",
              "//# sourceURL=js_3a7b986116"
            ],
            "text/plain": [
              "<IPython.core.display.Javascript object>"
            ]
          },
          "metadata": {}
        },
        {
          "output_type": "display_data",
          "data": {
            "application/javascript": [
              "window[\"cd11f8f0-9d8d-11ec-a544-0242ac1c0002\"] = google.colab.output.setActiveOutputArea(window[\"ccf9def0-9d8d-11ec-a544-0242ac1c0002\"]);\n",
              "//# sourceURL=js_30d3d1f99f"
            ],
            "text/plain": [
              "<IPython.core.display.Javascript object>"
            ]
          },
          "metadata": {}
        },
        {
          "output_type": "display_data",
          "data": {
            "application/javascript": [
              "window[\"cd33478a-9d8d-11ec-a544-0242ac1c0002\"] = google.colab.output.getActiveOutputArea();\n",
              "//# sourceURL=js_cc95a5edc2"
            ],
            "text/plain": [
              "<IPython.core.display.Javascript object>"
            ]
          },
          "metadata": {}
        },
        {
          "output_type": "display_data",
          "data": {
            "application/javascript": [
              "window[\"cd33ab3a-9d8d-11ec-a544-0242ac1c0002\"] = document.querySelector(\"#id34-0-0\");\n",
              "//# sourceURL=js_7444afa5c6"
            ],
            "text/plain": [
              "<IPython.core.display.Javascript object>"
            ]
          },
          "metadata": {}
        },
        {
          "output_type": "display_data",
          "data": {
            "application/javascript": [
              "window[\"cd340e2c-9d8d-11ec-a544-0242ac1c0002\"] = google.colab.output.setActiveOutputArea(window[\"cd33ab3a-9d8d-11ec-a544-0242ac1c0002\"]);\n",
              "//# sourceURL=js_092d8a0bf0"
            ],
            "text/plain": [
              "<IPython.core.display.Javascript object>"
            ]
          },
          "metadata": {}
        },
        {
          "output_type": "display_data",
          "data": {
            "application/javascript": [
              "window[\"cd4bb284-9d8d-11ec-a544-0242ac1c0002\"] = google.colab.output.setActiveOutputArea(window[\"cd33478a-9d8d-11ec-a544-0242ac1c0002\"]);\n",
              "//# sourceURL=js_0a72456fcf"
            ],
            "text/plain": [
              "<IPython.core.display.Javascript object>"
            ]
          },
          "metadata": {}
        },
        {
          "output_type": "display_data",
          "data": {
            "application/javascript": [
              "window[\"cd6eb748-9d8d-11ec-a544-0242ac1c0002\"] = google.colab.output.getActiveOutputArea();\n",
              "//# sourceURL=js_e0c17d4c5d"
            ],
            "text/plain": [
              "<IPython.core.display.Javascript object>"
            ]
          },
          "metadata": {}
        },
        {
          "output_type": "display_data",
          "data": {
            "application/javascript": [
              "window[\"cd6f6e86-9d8d-11ec-a544-0242ac1c0002\"] = document.querySelector(\"#id34-0-0\");\n",
              "//# sourceURL=js_1499a17a57"
            ],
            "text/plain": [
              "<IPython.core.display.Javascript object>"
            ]
          },
          "metadata": {}
        },
        {
          "output_type": "display_data",
          "data": {
            "application/javascript": [
              "window[\"cd6fd524-9d8d-11ec-a544-0242ac1c0002\"] = google.colab.output.setActiveOutputArea(window[\"cd6f6e86-9d8d-11ec-a544-0242ac1c0002\"]);\n",
              "//# sourceURL=js_200257d207"
            ],
            "text/plain": [
              "<IPython.core.display.Javascript object>"
            ]
          },
          "metadata": {}
        },
        {
          "output_type": "display_data",
          "data": {
            "application/javascript": [
              "window[\"cd88f9aa-9d8d-11ec-a544-0242ac1c0002\"] = google.colab.output.setActiveOutputArea(window[\"cd6eb748-9d8d-11ec-a544-0242ac1c0002\"]);\n",
              "//# sourceURL=js_87068aff55"
            ],
            "text/plain": [
              "<IPython.core.display.Javascript object>"
            ]
          },
          "metadata": {}
        },
        {
          "output_type": "display_data",
          "data": {
            "application/javascript": [
              "window[\"cdaad6e2-9d8d-11ec-a544-0242ac1c0002\"] = google.colab.output.getActiveOutputArea();\n",
              "//# sourceURL=js_d9e9c02a5c"
            ],
            "text/plain": [
              "<IPython.core.display.Javascript object>"
            ]
          },
          "metadata": {}
        },
        {
          "output_type": "display_data",
          "data": {
            "application/javascript": [
              "window[\"cdab5b58-9d8d-11ec-a544-0242ac1c0002\"] = document.querySelector(\"#id34-0-0\");\n",
              "//# sourceURL=js_ece57d8c57"
            ],
            "text/plain": [
              "<IPython.core.display.Javascript object>"
            ]
          },
          "metadata": {}
        },
        {
          "output_type": "display_data",
          "data": {
            "application/javascript": [
              "window[\"cdabc1ec-9d8d-11ec-a544-0242ac1c0002\"] = google.colab.output.setActiveOutputArea(window[\"cdab5b58-9d8d-11ec-a544-0242ac1c0002\"]);\n",
              "//# sourceURL=js_ca4bfba6c4"
            ],
            "text/plain": [
              "<IPython.core.display.Javascript object>"
            ]
          },
          "metadata": {}
        },
        {
          "output_type": "display_data",
          "data": {
            "application/javascript": [
              "window[\"cdc2f0ba-9d8d-11ec-a544-0242ac1c0002\"] = google.colab.output.setActiveOutputArea(window[\"cdaad6e2-9d8d-11ec-a544-0242ac1c0002\"]);\n",
              "//# sourceURL=js_81e4e4d6d0"
            ],
            "text/plain": [
              "<IPython.core.display.Javascript object>"
            ]
          },
          "metadata": {}
        },
        {
          "output_type": "display_data",
          "data": {
            "application/javascript": [
              "window[\"cde39e78-9d8d-11ec-a544-0242ac1c0002\"] = google.colab.output.getActiveOutputArea();\n",
              "//# sourceURL=js_313ca20e51"
            ],
            "text/plain": [
              "<IPython.core.display.Javascript object>"
            ]
          },
          "metadata": {}
        },
        {
          "output_type": "display_data",
          "data": {
            "application/javascript": [
              "window[\"cde3fac6-9d8d-11ec-a544-0242ac1c0002\"] = document.querySelector(\"#id34-0-0\");\n",
              "//# sourceURL=js_771cfccce3"
            ],
            "text/plain": [
              "<IPython.core.display.Javascript object>"
            ]
          },
          "metadata": {}
        },
        {
          "output_type": "display_data",
          "data": {
            "application/javascript": [
              "window[\"cde47410-9d8d-11ec-a544-0242ac1c0002\"] = google.colab.output.setActiveOutputArea(window[\"cde3fac6-9d8d-11ec-a544-0242ac1c0002\"]);\n",
              "//# sourceURL=js_95cb29e92b"
            ],
            "text/plain": [
              "<IPython.core.display.Javascript object>"
            ]
          },
          "metadata": {}
        },
        {
          "output_type": "display_data",
          "data": {
            "application/javascript": [
              "window[\"cdfd55de-9d8d-11ec-a544-0242ac1c0002\"] = google.colab.output.setActiveOutputArea(window[\"cde39e78-9d8d-11ec-a544-0242ac1c0002\"]);\n",
              "//# sourceURL=js_4e5ec1f942"
            ],
            "text/plain": [
              "<IPython.core.display.Javascript object>"
            ]
          },
          "metadata": {}
        },
        {
          "output_type": "display_data",
          "data": {
            "application/javascript": [
              "window[\"ce1ff558-9d8d-11ec-a544-0242ac1c0002\"] = google.colab.output.getActiveOutputArea();\n",
              "//# sourceURL=js_4b4384fd3c"
            ],
            "text/plain": [
              "<IPython.core.display.Javascript object>"
            ]
          },
          "metadata": {}
        },
        {
          "output_type": "display_data",
          "data": {
            "application/javascript": [
              "window[\"ce209c9c-9d8d-11ec-a544-0242ac1c0002\"] = document.querySelector(\"#id34-0-0\");\n",
              "//# sourceURL=js_9ce61abde4"
            ],
            "text/plain": [
              "<IPython.core.display.Javascript object>"
            ]
          },
          "metadata": {}
        },
        {
          "output_type": "display_data",
          "data": {
            "application/javascript": [
              "window[\"ce20f8d6-9d8d-11ec-a544-0242ac1c0002\"] = google.colab.output.setActiveOutputArea(window[\"ce209c9c-9d8d-11ec-a544-0242ac1c0002\"]);\n",
              "//# sourceURL=js_7edc44bfde"
            ],
            "text/plain": [
              "<IPython.core.display.Javascript object>"
            ]
          },
          "metadata": {}
        },
        {
          "output_type": "display_data",
          "data": {
            "application/javascript": [
              "window[\"ce399e22-9d8d-11ec-a544-0242ac1c0002\"] = google.colab.output.setActiveOutputArea(window[\"ce1ff558-9d8d-11ec-a544-0242ac1c0002\"]);\n",
              "//# sourceURL=js_e766ccf992"
            ],
            "text/plain": [
              "<IPython.core.display.Javascript object>"
            ]
          },
          "metadata": {}
        },
        {
          "output_type": "display_data",
          "data": {
            "application/javascript": [
              "window[\"ce5a98fc-9d8d-11ec-a544-0242ac1c0002\"] = google.colab.output.getActiveOutputArea();\n",
              "//# sourceURL=js_969f461e3d"
            ],
            "text/plain": [
              "<IPython.core.display.Javascript object>"
            ]
          },
          "metadata": {}
        },
        {
          "output_type": "display_data",
          "data": {
            "application/javascript": [
              "window[\"ce5b2ef2-9d8d-11ec-a544-0242ac1c0002\"] = document.querySelector(\"#id34-0-0\");\n",
              "//# sourceURL=js_4f1d469829"
            ],
            "text/plain": [
              "<IPython.core.display.Javascript object>"
            ]
          },
          "metadata": {}
        },
        {
          "output_type": "display_data",
          "data": {
            "application/javascript": [
              "window[\"ce5b9202-9d8d-11ec-a544-0242ac1c0002\"] = google.colab.output.setActiveOutputArea(window[\"ce5b2ef2-9d8d-11ec-a544-0242ac1c0002\"]);\n",
              "//# sourceURL=js_b6af6fa7a2"
            ],
            "text/plain": [
              "<IPython.core.display.Javascript object>"
            ]
          },
          "metadata": {}
        },
        {
          "output_type": "display_data",
          "data": {
            "application/javascript": [
              "window[\"ce778610-9d8d-11ec-a544-0242ac1c0002\"] = google.colab.output.setActiveOutputArea(window[\"ce5a98fc-9d8d-11ec-a544-0242ac1c0002\"]);\n",
              "//# sourceURL=js_c94a2a6a16"
            ],
            "text/plain": [
              "<IPython.core.display.Javascript object>"
            ]
          },
          "metadata": {}
        },
        {
          "output_type": "display_data",
          "data": {
            "application/javascript": [
              "window[\"ce99c978-9d8d-11ec-a544-0242ac1c0002\"] = google.colab.output.getActiveOutputArea();\n",
              "//# sourceURL=js_6354788e7c"
            ],
            "text/plain": [
              "<IPython.core.display.Javascript object>"
            ]
          },
          "metadata": {}
        },
        {
          "output_type": "display_data",
          "data": {
            "application/javascript": [
              "window[\"ce9abc66-9d8d-11ec-a544-0242ac1c0002\"] = document.querySelector(\"#id34-0-0\");\n",
              "//# sourceURL=js_1920c33240"
            ],
            "text/plain": [
              "<IPython.core.display.Javascript object>"
            ]
          },
          "metadata": {}
        },
        {
          "output_type": "display_data",
          "data": {
            "application/javascript": [
              "window[\"ce9b2c46-9d8d-11ec-a544-0242ac1c0002\"] = google.colab.output.setActiveOutputArea(window[\"ce9abc66-9d8d-11ec-a544-0242ac1c0002\"]);\n",
              "//# sourceURL=js_ae87fd001e"
            ],
            "text/plain": [
              "<IPython.core.display.Javascript object>"
            ]
          },
          "metadata": {}
        },
        {
          "output_type": "display_data",
          "data": {
            "application/javascript": [
              "window[\"ceb4577a-9d8d-11ec-a544-0242ac1c0002\"] = google.colab.output.setActiveOutputArea(window[\"ce99c978-9d8d-11ec-a544-0242ac1c0002\"]);\n",
              "//# sourceURL=js_7167a249c4"
            ],
            "text/plain": [
              "<IPython.core.display.Javascript object>"
            ]
          },
          "metadata": {}
        },
        {
          "output_type": "display_data",
          "data": {
            "application/javascript": [
              "window[\"ced49e22-9d8d-11ec-a544-0242ac1c0002\"] = google.colab.output.getActiveOutputArea();\n",
              "//# sourceURL=js_4ed5d1adbf"
            ],
            "text/plain": [
              "<IPython.core.display.Javascript object>"
            ]
          },
          "metadata": {}
        },
        {
          "output_type": "display_data",
          "data": {
            "application/javascript": [
              "window[\"ced4ee54-9d8d-11ec-a544-0242ac1c0002\"] = document.querySelector(\"#id34-0-0\");\n",
              "//# sourceURL=js_dbb0ae1fb5"
            ],
            "text/plain": [
              "<IPython.core.display.Javascript object>"
            ]
          },
          "metadata": {}
        },
        {
          "output_type": "display_data",
          "data": {
            "application/javascript": [
              "window[\"ced53d82-9d8d-11ec-a544-0242ac1c0002\"] = google.colab.output.setActiveOutputArea(window[\"ced4ee54-9d8d-11ec-a544-0242ac1c0002\"]);\n",
              "//# sourceURL=js_84deb56c2f"
            ],
            "text/plain": [
              "<IPython.core.display.Javascript object>"
            ]
          },
          "metadata": {}
        },
        {
          "output_type": "display_data",
          "data": {
            "application/javascript": [
              "window[\"ceedcbae-9d8d-11ec-a544-0242ac1c0002\"] = google.colab.output.setActiveOutputArea(window[\"ced49e22-9d8d-11ec-a544-0242ac1c0002\"]);\n",
              "//# sourceURL=js_740946ed5d"
            ],
            "text/plain": [
              "<IPython.core.display.Javascript object>"
            ]
          },
          "metadata": {}
        },
        {
          "output_type": "display_data",
          "data": {
            "application/javascript": [
              "window[\"cf108612-9d8d-11ec-a544-0242ac1c0002\"] = google.colab.output.getActiveOutputArea();\n",
              "//# sourceURL=js_dcf19cfe16"
            ],
            "text/plain": [
              "<IPython.core.display.Javascript object>"
            ]
          },
          "metadata": {}
        },
        {
          "output_type": "display_data",
          "data": {
            "application/javascript": [
              "window[\"cf110d26-9d8d-11ec-a544-0242ac1c0002\"] = document.querySelector(\"#id34-0-0\");\n",
              "//# sourceURL=js_e19e8c2bef"
            ],
            "text/plain": [
              "<IPython.core.display.Javascript object>"
            ]
          },
          "metadata": {}
        },
        {
          "output_type": "display_data",
          "data": {
            "application/javascript": [
              "window[\"cf1188f0-9d8d-11ec-a544-0242ac1c0002\"] = google.colab.output.setActiveOutputArea(window[\"cf110d26-9d8d-11ec-a544-0242ac1c0002\"]);\n",
              "//# sourceURL=js_38bbfab8ae"
            ],
            "text/plain": [
              "<IPython.core.display.Javascript object>"
            ]
          },
          "metadata": {}
        },
        {
          "output_type": "display_data",
          "data": {
            "application/javascript": [
              "window[\"cf2b7df0-9d8d-11ec-a544-0242ac1c0002\"] = google.colab.output.setActiveOutputArea(window[\"cf108612-9d8d-11ec-a544-0242ac1c0002\"]);\n",
              "//# sourceURL=js_caf9817af1"
            ],
            "text/plain": [
              "<IPython.core.display.Javascript object>"
            ]
          },
          "metadata": {}
        },
        {
          "output_type": "display_data",
          "data": {
            "application/javascript": [
              "window[\"cf4e4cea-9d8d-11ec-a544-0242ac1c0002\"] = google.colab.output.getActiveOutputArea();\n",
              "//# sourceURL=js_dc00ef8bbb"
            ],
            "text/plain": [
              "<IPython.core.display.Javascript object>"
            ]
          },
          "metadata": {}
        },
        {
          "output_type": "display_data",
          "data": {
            "application/javascript": [
              "window[\"cf4ed34a-9d8d-11ec-a544-0242ac1c0002\"] = document.querySelector(\"#id34-0-0\");\n",
              "//# sourceURL=js_6bd1720327"
            ],
            "text/plain": [
              "<IPython.core.display.Javascript object>"
            ]
          },
          "metadata": {}
        },
        {
          "output_type": "display_data",
          "data": {
            "application/javascript": [
              "window[\"cf4fa450-9d8d-11ec-a544-0242ac1c0002\"] = google.colab.output.setActiveOutputArea(window[\"cf4ed34a-9d8d-11ec-a544-0242ac1c0002\"]);\n",
              "//# sourceURL=js_0f27e5fe4c"
            ],
            "text/plain": [
              "<IPython.core.display.Javascript object>"
            ]
          },
          "metadata": {}
        },
        {
          "output_type": "display_data",
          "data": {
            "application/javascript": [
              "window[\"cf683ef2-9d8d-11ec-a544-0242ac1c0002\"] = google.colab.output.setActiveOutputArea(window[\"cf4e4cea-9d8d-11ec-a544-0242ac1c0002\"]);\n",
              "//# sourceURL=js_adf5549da2"
            ],
            "text/plain": [
              "<IPython.core.display.Javascript object>"
            ]
          },
          "metadata": {}
        },
        {
          "output_type": "display_data",
          "data": {
            "application/javascript": [
              "window[\"cf8b8f06-9d8d-11ec-a544-0242ac1c0002\"] = google.colab.output.getActiveOutputArea();\n",
              "//# sourceURL=js_2f4676b270"
            ],
            "text/plain": [
              "<IPython.core.display.Javascript object>"
            ]
          },
          "metadata": {}
        },
        {
          "output_type": "display_data",
          "data": {
            "application/javascript": [
              "window[\"cf8be78a-9d8d-11ec-a544-0242ac1c0002\"] = document.querySelector(\"#id34-0-0\");\n",
              "//# sourceURL=js_9f32a92440"
            ],
            "text/plain": [
              "<IPython.core.display.Javascript object>"
            ]
          },
          "metadata": {}
        },
        {
          "output_type": "display_data",
          "data": {
            "application/javascript": [
              "window[\"cf8c572e-9d8d-11ec-a544-0242ac1c0002\"] = google.colab.output.setActiveOutputArea(window[\"cf8be78a-9d8d-11ec-a544-0242ac1c0002\"]);\n",
              "//# sourceURL=js_47b475b7e5"
            ],
            "text/plain": [
              "<IPython.core.display.Javascript object>"
            ]
          },
          "metadata": {}
        },
        {
          "output_type": "display_data",
          "data": {
            "application/javascript": [
              "window[\"cfa66a2e-9d8d-11ec-a544-0242ac1c0002\"] = google.colab.output.setActiveOutputArea(window[\"cf8b8f06-9d8d-11ec-a544-0242ac1c0002\"]);\n",
              "//# sourceURL=js_abf22dda29"
            ],
            "text/plain": [
              "<IPython.core.display.Javascript object>"
            ]
          },
          "metadata": {}
        },
        {
          "output_type": "display_data",
          "data": {
            "application/javascript": [
              "window[\"cfc8c56a-9d8d-11ec-a544-0242ac1c0002\"] = google.colab.output.getActiveOutputArea();\n",
              "//# sourceURL=js_13da18f3fd"
            ],
            "text/plain": [
              "<IPython.core.display.Javascript object>"
            ]
          },
          "metadata": {}
        },
        {
          "output_type": "display_data",
          "data": {
            "application/javascript": [
              "window[\"cfc93d38-9d8d-11ec-a544-0242ac1c0002\"] = document.querySelector(\"#id34-0-0\");\n",
              "//# sourceURL=js_11a509f7d1"
            ],
            "text/plain": [
              "<IPython.core.display.Javascript object>"
            ]
          },
          "metadata": {}
        },
        {
          "output_type": "display_data",
          "data": {
            "application/javascript": [
              "window[\"cfc98644-9d8d-11ec-a544-0242ac1c0002\"] = google.colab.output.setActiveOutputArea(window[\"cfc93d38-9d8d-11ec-a544-0242ac1c0002\"]);\n",
              "//# sourceURL=js_e8d04b80d6"
            ],
            "text/plain": [
              "<IPython.core.display.Javascript object>"
            ]
          },
          "metadata": {}
        },
        {
          "output_type": "display_data",
          "data": {
            "application/javascript": [
              "window[\"cfe1774a-9d8d-11ec-a544-0242ac1c0002\"] = google.colab.output.setActiveOutputArea(window[\"cfc8c56a-9d8d-11ec-a544-0242ac1c0002\"]);\n",
              "//# sourceURL=js_5fe7d3d931"
            ],
            "text/plain": [
              "<IPython.core.display.Javascript object>"
            ]
          },
          "metadata": {}
        },
        {
          "output_type": "display_data",
          "data": {
            "application/javascript": [
              "window[\"d0022918-9d8d-11ec-a544-0242ac1c0002\"] = google.colab.output.getActiveOutputArea();\n",
              "//# sourceURL=js_a9be98000a"
            ],
            "text/plain": [
              "<IPython.core.display.Javascript object>"
            ]
          },
          "metadata": {}
        },
        {
          "output_type": "display_data",
          "data": {
            "application/javascript": [
              "window[\"d002849e-9d8d-11ec-a544-0242ac1c0002\"] = document.querySelector(\"#id34-0-0\");\n",
              "//# sourceURL=js_868ff259ce"
            ],
            "text/plain": [
              "<IPython.core.display.Javascript object>"
            ]
          },
          "metadata": {}
        },
        {
          "output_type": "display_data",
          "data": {
            "application/javascript": [
              "window[\"d0032be2-9d8d-11ec-a544-0242ac1c0002\"] = google.colab.output.setActiveOutputArea(window[\"d002849e-9d8d-11ec-a544-0242ac1c0002\"]);\n",
              "//# sourceURL=js_cd1b61f15a"
            ],
            "text/plain": [
              "<IPython.core.display.Javascript object>"
            ]
          },
          "metadata": {}
        },
        {
          "output_type": "display_data",
          "data": {
            "application/javascript": [
              "window[\"d029e1c4-9d8d-11ec-a544-0242ac1c0002\"] = google.colab.output.setActiveOutputArea(window[\"d0022918-9d8d-11ec-a544-0242ac1c0002\"]);\n",
              "//# sourceURL=js_8987fcb0ed"
            ],
            "text/plain": [
              "<IPython.core.display.Javascript object>"
            ]
          },
          "metadata": {}
        },
        {
          "output_type": "display_data",
          "data": {
            "application/javascript": [
              "window[\"d04a91e4-9d8d-11ec-a544-0242ac1c0002\"] = google.colab.output.getActiveOutputArea();\n",
              "//# sourceURL=js_0779aeffa5"
            ],
            "text/plain": [
              "<IPython.core.display.Javascript object>"
            ]
          },
          "metadata": {}
        },
        {
          "output_type": "display_data",
          "data": {
            "application/javascript": [
              "window[\"d04b10e2-9d8d-11ec-a544-0242ac1c0002\"] = document.querySelector(\"#id34-0-0\");\n",
              "//# sourceURL=js_b0eacf5e99"
            ],
            "text/plain": [
              "<IPython.core.display.Javascript object>"
            ]
          },
          "metadata": {}
        },
        {
          "output_type": "display_data",
          "data": {
            "application/javascript": [
              "window[\"d04b79ba-9d8d-11ec-a544-0242ac1c0002\"] = google.colab.output.setActiveOutputArea(window[\"d04b10e2-9d8d-11ec-a544-0242ac1c0002\"]);\n",
              "//# sourceURL=js_46bba39e8e"
            ],
            "text/plain": [
              "<IPython.core.display.Javascript object>"
            ]
          },
          "metadata": {}
        },
        {
          "output_type": "display_data",
          "data": {
            "application/javascript": [
              "window[\"d0630904-9d8d-11ec-a544-0242ac1c0002\"] = google.colab.output.setActiveOutputArea(window[\"d04a91e4-9d8d-11ec-a544-0242ac1c0002\"]);\n",
              "//# sourceURL=js_451e2ea817"
            ],
            "text/plain": [
              "<IPython.core.display.Javascript object>"
            ]
          },
          "metadata": {}
        },
        {
          "output_type": "display_data",
          "data": {
            "application/javascript": [
              "window[\"d0845f14-9d8d-11ec-a544-0242ac1c0002\"] = google.colab.output.getActiveOutputArea();\n",
              "//# sourceURL=js_6647ea0cf6"
            ],
            "text/plain": [
              "<IPython.core.display.Javascript object>"
            ]
          },
          "metadata": {}
        },
        {
          "output_type": "display_data",
          "data": {
            "application/javascript": [
              "window[\"d084be46-9d8d-11ec-a544-0242ac1c0002\"] = document.querySelector(\"#id34-0-0\");\n",
              "//# sourceURL=js_4dd35482c7"
            ],
            "text/plain": [
              "<IPython.core.display.Javascript object>"
            ]
          },
          "metadata": {}
        },
        {
          "output_type": "display_data",
          "data": {
            "application/javascript": [
              "window[\"d08549b0-9d8d-11ec-a544-0242ac1c0002\"] = google.colab.output.setActiveOutputArea(window[\"d084be46-9d8d-11ec-a544-0242ac1c0002\"]);\n",
              "//# sourceURL=js_8799d5a60f"
            ],
            "text/plain": [
              "<IPython.core.display.Javascript object>"
            ]
          },
          "metadata": {}
        },
        {
          "output_type": "display_data",
          "data": {
            "application/javascript": [
              "window[\"d09d03ca-9d8d-11ec-a544-0242ac1c0002\"] = google.colab.output.setActiveOutputArea(window[\"d0845f14-9d8d-11ec-a544-0242ac1c0002\"]);\n",
              "//# sourceURL=js_555661980f"
            ],
            "text/plain": [
              "<IPython.core.display.Javascript object>"
            ]
          },
          "metadata": {}
        },
        {
          "output_type": "display_data",
          "data": {
            "application/javascript": [
              "window[\"d9b68fee-9d8d-11ec-a544-0242ac1c0002\"] = google.colab.output.getActiveOutputArea();\n",
              "//# sourceURL=js_bc983d0cc7"
            ],
            "text/plain": [
              "<IPython.core.display.Javascript object>"
            ]
          },
          "metadata": {}
        },
        {
          "output_type": "display_data",
          "data": {
            "application/javascript": [
              "window[\"d9b76bd0-9d8d-11ec-a544-0242ac1c0002\"] = document.querySelector(\"#id34-0-0\");\n",
              "//# sourceURL=js_9b4d2b387b"
            ],
            "text/plain": [
              "<IPython.core.display.Javascript object>"
            ]
          },
          "metadata": {}
        },
        {
          "output_type": "display_data",
          "data": {
            "application/javascript": [
              "window[\"d9b87eda-9d8d-11ec-a544-0242ac1c0002\"] = google.colab.output.setActiveOutputArea(window[\"d9b76bd0-9d8d-11ec-a544-0242ac1c0002\"]);\n",
              "//# sourceURL=js_94c2ca07d5"
            ],
            "text/plain": [
              "<IPython.core.display.Javascript object>"
            ]
          },
          "metadata": {}
        },
        {
          "output_type": "display_data",
          "data": {
            "application/javascript": [
              "window[\"d9d133b2-9d8d-11ec-a544-0242ac1c0002\"] = google.colab.output.setActiveOutputArea(window[\"d9b68fee-9d8d-11ec-a544-0242ac1c0002\"]);\n",
              "//# sourceURL=js_ff4f514846"
            ],
            "text/plain": [
              "<IPython.core.display.Javascript object>"
            ]
          },
          "metadata": {}
        },
        {
          "output_type": "display_data",
          "data": {
            "application/javascript": [
              "window[\"d9f22180-9d8d-11ec-a544-0242ac1c0002\"] = google.colab.output.getActiveOutputArea();\n",
              "//# sourceURL=js_e91c8449a7"
            ],
            "text/plain": [
              "<IPython.core.display.Javascript object>"
            ]
          },
          "metadata": {}
        },
        {
          "output_type": "display_data",
          "data": {
            "application/javascript": [
              "window[\"d9f26226-9d8d-11ec-a544-0242ac1c0002\"] = document.querySelector(\"#id34-0-0\");\n",
              "//# sourceURL=js_98f3ff99df"
            ],
            "text/plain": [
              "<IPython.core.display.Javascript object>"
            ]
          },
          "metadata": {}
        },
        {
          "output_type": "display_data",
          "data": {
            "application/javascript": [
              "window[\"d9f318ec-9d8d-11ec-a544-0242ac1c0002\"] = google.colab.output.setActiveOutputArea(window[\"d9f26226-9d8d-11ec-a544-0242ac1c0002\"]);\n",
              "//# sourceURL=js_489011511e"
            ],
            "text/plain": [
              "<IPython.core.display.Javascript object>"
            ]
          },
          "metadata": {}
        },
        {
          "output_type": "display_data",
          "data": {
            "application/javascript": [
              "window[\"da0d48ac-9d8d-11ec-a544-0242ac1c0002\"] = google.colab.output.setActiveOutputArea(window[\"d9f22180-9d8d-11ec-a544-0242ac1c0002\"]);\n",
              "//# sourceURL=js_ccfbcd2a1a"
            ],
            "text/plain": [
              "<IPython.core.display.Javascript object>"
            ]
          },
          "metadata": {}
        },
        {
          "output_type": "display_data",
          "data": {
            "application/javascript": [
              "window[\"da2e7446-9d8d-11ec-a544-0242ac1c0002\"] = google.colab.output.getActiveOutputArea();\n",
              "//# sourceURL=js_4b2cadc767"
            ],
            "text/plain": [
              "<IPython.core.display.Javascript object>"
            ]
          },
          "metadata": {}
        },
        {
          "output_type": "display_data",
          "data": {
            "application/javascript": [
              "window[\"da2edfbc-9d8d-11ec-a544-0242ac1c0002\"] = document.querySelector(\"#id34-0-0\");\n",
              "//# sourceURL=js_37b30a863e"
            ],
            "text/plain": [
              "<IPython.core.display.Javascript object>"
            ]
          },
          "metadata": {}
        },
        {
          "output_type": "display_data",
          "data": {
            "application/javascript": [
              "window[\"da300ff4-9d8d-11ec-a544-0242ac1c0002\"] = google.colab.output.setActiveOutputArea(window[\"da2edfbc-9d8d-11ec-a544-0242ac1c0002\"]);\n",
              "//# sourceURL=js_8b32654bf8"
            ],
            "text/plain": [
              "<IPython.core.display.Javascript object>"
            ]
          },
          "metadata": {}
        },
        {
          "output_type": "display_data",
          "data": {
            "application/javascript": [
              "window[\"da48b86a-9d8d-11ec-a544-0242ac1c0002\"] = google.colab.output.setActiveOutputArea(window[\"da2e7446-9d8d-11ec-a544-0242ac1c0002\"]);\n",
              "//# sourceURL=js_69ff0aa257"
            ],
            "text/plain": [
              "<IPython.core.display.Javascript object>"
            ]
          },
          "metadata": {}
        },
        {
          "output_type": "display_data",
          "data": {
            "application/javascript": [
              "window[\"da6b1b12-9d8d-11ec-a544-0242ac1c0002\"] = google.colab.output.getActiveOutputArea();\n",
              "//# sourceURL=js_5e1a399e67"
            ],
            "text/plain": [
              "<IPython.core.display.Javascript object>"
            ]
          },
          "metadata": {}
        },
        {
          "output_type": "display_data",
          "data": {
            "application/javascript": [
              "window[\"da6b6df6-9d8d-11ec-a544-0242ac1c0002\"] = document.querySelector(\"#id34-0-0\");\n",
              "//# sourceURL=js_e48a66ee64"
            ],
            "text/plain": [
              "<IPython.core.display.Javascript object>"
            ]
          },
          "metadata": {}
        },
        {
          "output_type": "display_data",
          "data": {
            "application/javascript": [
              "window[\"da6c5374-9d8d-11ec-a544-0242ac1c0002\"] = google.colab.output.setActiveOutputArea(window[\"da6b6df6-9d8d-11ec-a544-0242ac1c0002\"]);\n",
              "//# sourceURL=js_b0ff8cf353"
            ],
            "text/plain": [
              "<IPython.core.display.Javascript object>"
            ]
          },
          "metadata": {}
        },
        {
          "output_type": "display_data",
          "data": {
            "application/javascript": [
              "window[\"da87e418-9d8d-11ec-a544-0242ac1c0002\"] = google.colab.output.setActiveOutputArea(window[\"da6b1b12-9d8d-11ec-a544-0242ac1c0002\"]);\n",
              "//# sourceURL=js_a36fcabfc1"
            ],
            "text/plain": [
              "<IPython.core.display.Javascript object>"
            ]
          },
          "metadata": {}
        },
        {
          "output_type": "display_data",
          "data": {
            "application/javascript": [
              "window[\"daaaa552-9d8d-11ec-a544-0242ac1c0002\"] = google.colab.output.getActiveOutputArea();\n",
              "//# sourceURL=js_921be139e8"
            ],
            "text/plain": [
              "<IPython.core.display.Javascript object>"
            ]
          },
          "metadata": {}
        },
        {
          "output_type": "display_data",
          "data": {
            "application/javascript": [
              "window[\"daab04de-9d8d-11ec-a544-0242ac1c0002\"] = document.querySelector(\"#id34-0-0\");\n",
              "//# sourceURL=js_e5dc87bac0"
            ],
            "text/plain": [
              "<IPython.core.display.Javascript object>"
            ]
          },
          "metadata": {}
        },
        {
          "output_type": "display_data",
          "data": {
            "application/javascript": [
              "window[\"daab5c18-9d8d-11ec-a544-0242ac1c0002\"] = google.colab.output.setActiveOutputArea(window[\"daab04de-9d8d-11ec-a544-0242ac1c0002\"]);\n",
              "//# sourceURL=js_0612a2b656"
            ],
            "text/plain": [
              "<IPython.core.display.Javascript object>"
            ]
          },
          "metadata": {}
        },
        {
          "output_type": "display_data",
          "data": {
            "application/javascript": [
              "window[\"dac7256a-9d8d-11ec-a544-0242ac1c0002\"] = google.colab.output.setActiveOutputArea(window[\"daaaa552-9d8d-11ec-a544-0242ac1c0002\"]);\n",
              "//# sourceURL=js_4b8426db79"
            ],
            "text/plain": [
              "<IPython.core.display.Javascript object>"
            ]
          },
          "metadata": {}
        },
        {
          "output_type": "display_data",
          "data": {
            "application/javascript": [
              "window[\"dae7d1c0-9d8d-11ec-a544-0242ac1c0002\"] = google.colab.output.getActiveOutputArea();\n",
              "//# sourceURL=js_5f3c89acb1"
            ],
            "text/plain": [
              "<IPython.core.display.Javascript object>"
            ]
          },
          "metadata": {}
        },
        {
          "output_type": "display_data",
          "data": {
            "application/javascript": [
              "window[\"dae81ea0-9d8d-11ec-a544-0242ac1c0002\"] = document.querySelector(\"#id34-0-0\");\n",
              "//# sourceURL=js_b1a6e88028"
            ],
            "text/plain": [
              "<IPython.core.display.Javascript object>"
            ]
          },
          "metadata": {}
        },
        {
          "output_type": "display_data",
          "data": {
            "application/javascript": [
              "window[\"dae86568-9d8d-11ec-a544-0242ac1c0002\"] = google.colab.output.setActiveOutputArea(window[\"dae81ea0-9d8d-11ec-a544-0242ac1c0002\"]);\n",
              "//# sourceURL=js_4f47e9b25b"
            ],
            "text/plain": [
              "<IPython.core.display.Javascript object>"
            ]
          },
          "metadata": {}
        },
        {
          "output_type": "display_data",
          "data": {
            "application/javascript": [
              "window[\"db061c8e-9d8d-11ec-a544-0242ac1c0002\"] = google.colab.output.setActiveOutputArea(window[\"dae7d1c0-9d8d-11ec-a544-0242ac1c0002\"]);\n",
              "//# sourceURL=js_31359f2abd"
            ],
            "text/plain": [
              "<IPython.core.display.Javascript object>"
            ]
          },
          "metadata": {}
        },
        {
          "output_type": "display_data",
          "data": {
            "application/javascript": [
              "window[\"db272eba-9d8d-11ec-a544-0242ac1c0002\"] = google.colab.output.getActiveOutputArea();\n",
              "//# sourceURL=js_7f2d84dfb5"
            ],
            "text/plain": [
              "<IPython.core.display.Javascript object>"
            ]
          },
          "metadata": {}
        },
        {
          "output_type": "display_data",
          "data": {
            "application/javascript": [
              "window[\"db27ba9c-9d8d-11ec-a544-0242ac1c0002\"] = document.querySelector(\"#id34-0-0\");\n",
              "//# sourceURL=js_89f0cb73f9"
            ],
            "text/plain": [
              "<IPython.core.display.Javascript object>"
            ]
          },
          "metadata": {}
        },
        {
          "output_type": "display_data",
          "data": {
            "application/javascript": [
              "window[\"db283c6a-9d8d-11ec-a544-0242ac1c0002\"] = google.colab.output.setActiveOutputArea(window[\"db27ba9c-9d8d-11ec-a544-0242ac1c0002\"]);\n",
              "//# sourceURL=js_e0bd76b60e"
            ],
            "text/plain": [
              "<IPython.core.display.Javascript object>"
            ]
          },
          "metadata": {}
        },
        {
          "output_type": "display_data",
          "data": {
            "application/javascript": [
              "window[\"db4873a4-9d8d-11ec-a544-0242ac1c0002\"] = google.colab.output.setActiveOutputArea(window[\"db272eba-9d8d-11ec-a544-0242ac1c0002\"]);\n",
              "//# sourceURL=js_9ad32387e6"
            ],
            "text/plain": [
              "<IPython.core.display.Javascript object>"
            ]
          },
          "metadata": {}
        },
        {
          "output_type": "display_data",
          "data": {
            "application/javascript": [
              "window[\"db6b5acc-9d8d-11ec-a544-0242ac1c0002\"] = google.colab.output.getActiveOutputArea();\n",
              "//# sourceURL=js_542617abd4"
            ],
            "text/plain": [
              "<IPython.core.display.Javascript object>"
            ]
          },
          "metadata": {}
        },
        {
          "output_type": "display_data",
          "data": {
            "application/javascript": [
              "window[\"db6bd9ac-9d8d-11ec-a544-0242ac1c0002\"] = document.querySelector(\"#id34-0-0\");\n",
              "//# sourceURL=js_9a720abbd6"
            ],
            "text/plain": [
              "<IPython.core.display.Javascript object>"
            ]
          },
          "metadata": {}
        },
        {
          "output_type": "display_data",
          "data": {
            "application/javascript": [
              "window[\"db6c510c-9d8d-11ec-a544-0242ac1c0002\"] = google.colab.output.setActiveOutputArea(window[\"db6bd9ac-9d8d-11ec-a544-0242ac1c0002\"]);\n",
              "//# sourceURL=js_b776d801d2"
            ],
            "text/plain": [
              "<IPython.core.display.Javascript object>"
            ]
          },
          "metadata": {}
        },
        {
          "output_type": "display_data",
          "data": {
            "application/javascript": [
              "window[\"db87b7c6-9d8d-11ec-a544-0242ac1c0002\"] = google.colab.output.setActiveOutputArea(window[\"db6b5acc-9d8d-11ec-a544-0242ac1c0002\"]);\n",
              "//# sourceURL=js_16988ce590"
            ],
            "text/plain": [
              "<IPython.core.display.Javascript object>"
            ]
          },
          "metadata": {}
        },
        {
          "output_type": "display_data",
          "data": {
            "application/javascript": [
              "window[\"dbaa5948-9d8d-11ec-a544-0242ac1c0002\"] = google.colab.output.getActiveOutputArea();\n",
              "//# sourceURL=js_f80d26b917"
            ],
            "text/plain": [
              "<IPython.core.display.Javascript object>"
            ]
          },
          "metadata": {}
        },
        {
          "output_type": "display_data",
          "data": {
            "application/javascript": [
              "window[\"dbaaeae8-9d8d-11ec-a544-0242ac1c0002\"] = document.querySelector(\"#id34-0-0\");\n",
              "//# sourceURL=js_86157dfffa"
            ],
            "text/plain": [
              "<IPython.core.display.Javascript object>"
            ]
          },
          "metadata": {}
        },
        {
          "output_type": "display_data",
          "data": {
            "application/javascript": [
              "window[\"dbab646e-9d8d-11ec-a544-0242ac1c0002\"] = google.colab.output.setActiveOutputArea(window[\"dbaaeae8-9d8d-11ec-a544-0242ac1c0002\"]);\n",
              "//# sourceURL=js_610556bcdd"
            ],
            "text/plain": [
              "<IPython.core.display.Javascript object>"
            ]
          },
          "metadata": {}
        },
        {
          "output_type": "display_data",
          "data": {
            "application/javascript": [
              "window[\"dbc8af10-9d8d-11ec-a544-0242ac1c0002\"] = google.colab.output.setActiveOutputArea(window[\"dbaa5948-9d8d-11ec-a544-0242ac1c0002\"]);\n",
              "//# sourceURL=js_368570b4ad"
            ],
            "text/plain": [
              "<IPython.core.display.Javascript object>"
            ]
          },
          "metadata": {}
        },
        {
          "output_type": "display_data",
          "data": {
            "application/javascript": [
              "window[\"dbe98302-9d8d-11ec-a544-0242ac1c0002\"] = google.colab.output.getActiveOutputArea();\n",
              "//# sourceURL=js_3dfe6f21ea"
            ],
            "text/plain": [
              "<IPython.core.display.Javascript object>"
            ]
          },
          "metadata": {}
        },
        {
          "output_type": "display_data",
          "data": {
            "application/javascript": [
              "window[\"dbe9e46e-9d8d-11ec-a544-0242ac1c0002\"] = document.querySelector(\"#id34-0-0\");\n",
              "//# sourceURL=js_76d4c5b6e4"
            ],
            "text/plain": [
              "<IPython.core.display.Javascript object>"
            ]
          },
          "metadata": {}
        },
        {
          "output_type": "display_data",
          "data": {
            "application/javascript": [
              "window[\"dbea3b58-9d8d-11ec-a544-0242ac1c0002\"] = google.colab.output.setActiveOutputArea(window[\"dbe9e46e-9d8d-11ec-a544-0242ac1c0002\"]);\n",
              "//# sourceURL=js_27f07b66aa"
            ],
            "text/plain": [
              "<IPython.core.display.Javascript object>"
            ]
          },
          "metadata": {}
        },
        {
          "output_type": "display_data",
          "data": {
            "application/javascript": [
              "window[\"dc038220-9d8d-11ec-a544-0242ac1c0002\"] = google.colab.output.setActiveOutputArea(window[\"dbe98302-9d8d-11ec-a544-0242ac1c0002\"]);\n",
              "//# sourceURL=js_3e18e888d2"
            ],
            "text/plain": [
              "<IPython.core.display.Javascript object>"
            ]
          },
          "metadata": {}
        },
        {
          "output_type": "display_data",
          "data": {
            "application/javascript": [
              "window[\"dc244550-9d8d-11ec-a544-0242ac1c0002\"] = google.colab.output.getActiveOutputArea();\n",
              "//# sourceURL=js_be04fb27fa"
            ],
            "text/plain": [
              "<IPython.core.display.Javascript object>"
            ]
          },
          "metadata": {}
        },
        {
          "output_type": "display_data",
          "data": {
            "application/javascript": [
              "window[\"dc24acc0-9d8d-11ec-a544-0242ac1c0002\"] = document.querySelector(\"#id34-0-0\");\n",
              "//# sourceURL=js_54f344210c"
            ],
            "text/plain": [
              "<IPython.core.display.Javascript object>"
            ]
          },
          "metadata": {}
        },
        {
          "output_type": "display_data",
          "data": {
            "application/javascript": [
              "window[\"dc2521dc-9d8d-11ec-a544-0242ac1c0002\"] = google.colab.output.setActiveOutputArea(window[\"dc24acc0-9d8d-11ec-a544-0242ac1c0002\"]);\n",
              "//# sourceURL=js_7a08798545"
            ],
            "text/plain": [
              "<IPython.core.display.Javascript object>"
            ]
          },
          "metadata": {}
        },
        {
          "output_type": "display_data",
          "data": {
            "application/javascript": [
              "window[\"dc3fe1a2-9d8d-11ec-a544-0242ac1c0002\"] = google.colab.output.setActiveOutputArea(window[\"dc244550-9d8d-11ec-a544-0242ac1c0002\"]);\n",
              "//# sourceURL=js_66574233c9"
            ],
            "text/plain": [
              "<IPython.core.display.Javascript object>"
            ]
          },
          "metadata": {}
        },
        {
          "output_type": "display_data",
          "data": {
            "application/javascript": [
              "window[\"dc620ca0-9d8d-11ec-a544-0242ac1c0002\"] = google.colab.output.getActiveOutputArea();\n",
              "//# sourceURL=js_ebf19cbf66"
            ],
            "text/plain": [
              "<IPython.core.display.Javascript object>"
            ]
          },
          "metadata": {}
        },
        {
          "output_type": "display_data",
          "data": {
            "application/javascript": [
              "window[\"dc625412-9d8d-11ec-a544-0242ac1c0002\"] = document.querySelector(\"#id34-0-0\");\n",
              "//# sourceURL=js_044675b384"
            ],
            "text/plain": [
              "<IPython.core.display.Javascript object>"
            ]
          },
          "metadata": {}
        },
        {
          "output_type": "display_data",
          "data": {
            "application/javascript": [
              "window[\"dc62aa34-9d8d-11ec-a544-0242ac1c0002\"] = google.colab.output.setActiveOutputArea(window[\"dc625412-9d8d-11ec-a544-0242ac1c0002\"]);\n",
              "//# sourceURL=js_b70b85c315"
            ],
            "text/plain": [
              "<IPython.core.display.Javascript object>"
            ]
          },
          "metadata": {}
        },
        {
          "output_type": "display_data",
          "data": {
            "application/javascript": [
              "window[\"dc8c5172-9d8d-11ec-a544-0242ac1c0002\"] = google.colab.output.setActiveOutputArea(window[\"dc620ca0-9d8d-11ec-a544-0242ac1c0002\"]);\n",
              "//# sourceURL=js_47c8332645"
            ],
            "text/plain": [
              "<IPython.core.display.Javascript object>"
            ]
          },
          "metadata": {}
        },
        {
          "output_type": "display_data",
          "data": {
            "application/javascript": [
              "window[\"dcaf04f6-9d8d-11ec-a544-0242ac1c0002\"] = google.colab.output.getActiveOutputArea();\n",
              "//# sourceURL=js_e603250150"
            ],
            "text/plain": [
              "<IPython.core.display.Javascript object>"
            ]
          },
          "metadata": {}
        },
        {
          "output_type": "display_data",
          "data": {
            "application/javascript": [
              "window[\"dcafb63a-9d8d-11ec-a544-0242ac1c0002\"] = document.querySelector(\"#id34-0-0\");\n",
              "//# sourceURL=js_cc39183ce6"
            ],
            "text/plain": [
              "<IPython.core.display.Javascript object>"
            ]
          },
          "metadata": {}
        },
        {
          "output_type": "display_data",
          "data": {
            "application/javascript": [
              "window[\"dcb023d6-9d8d-11ec-a544-0242ac1c0002\"] = google.colab.output.setActiveOutputArea(window[\"dcafb63a-9d8d-11ec-a544-0242ac1c0002\"]);\n",
              "//# sourceURL=js_773989e733"
            ],
            "text/plain": [
              "<IPython.core.display.Javascript object>"
            ]
          },
          "metadata": {}
        },
        {
          "output_type": "display_data",
          "data": {
            "application/javascript": [
              "window[\"dccad6f4-9d8d-11ec-a544-0242ac1c0002\"] = google.colab.output.setActiveOutputArea(window[\"dcaf04f6-9d8d-11ec-a544-0242ac1c0002\"]);\n",
              "//# sourceURL=js_79ecc59001"
            ],
            "text/plain": [
              "<IPython.core.display.Javascript object>"
            ]
          },
          "metadata": {}
        },
        {
          "output_type": "display_data",
          "data": {
            "application/javascript": [
              "window[\"dcee29ec-9d8d-11ec-a544-0242ac1c0002\"] = google.colab.output.getActiveOutputArea();\n",
              "//# sourceURL=js_1c5616606e"
            ],
            "text/plain": [
              "<IPython.core.display.Javascript object>"
            ]
          },
          "metadata": {}
        },
        {
          "output_type": "display_data",
          "data": {
            "application/javascript": [
              "window[\"dceee116-9d8d-11ec-a544-0242ac1c0002\"] = document.querySelector(\"#id34-0-0\");\n",
              "//# sourceURL=js_c0d9e45aa0"
            ],
            "text/plain": [
              "<IPython.core.display.Javascript object>"
            ]
          },
          "metadata": {}
        },
        {
          "output_type": "display_data",
          "data": {
            "application/javascript": [
              "window[\"dcef8062-9d8d-11ec-a544-0242ac1c0002\"] = google.colab.output.setActiveOutputArea(window[\"dceee116-9d8d-11ec-a544-0242ac1c0002\"]);\n",
              "//# sourceURL=js_04518c6714"
            ],
            "text/plain": [
              "<IPython.core.display.Javascript object>"
            ]
          },
          "metadata": {}
        },
        {
          "output_type": "display_data",
          "data": {
            "application/javascript": [
              "window[\"dd0e9b64-9d8d-11ec-a544-0242ac1c0002\"] = google.colab.output.setActiveOutputArea(window[\"dcee29ec-9d8d-11ec-a544-0242ac1c0002\"]);\n",
              "//# sourceURL=js_26ce80b2a7"
            ],
            "text/plain": [
              "<IPython.core.display.Javascript object>"
            ]
          },
          "metadata": {}
        },
        {
          "output_type": "display_data",
          "data": {
            "application/javascript": [
              "window[\"dd322f02-9d8d-11ec-a544-0242ac1c0002\"] = google.colab.output.getActiveOutputArea();\n",
              "//# sourceURL=js_b35f1f4051"
            ],
            "text/plain": [
              "<IPython.core.display.Javascript object>"
            ]
          },
          "metadata": {}
        },
        {
          "output_type": "display_data",
          "data": {
            "application/javascript": [
              "window[\"dd332790-9d8d-11ec-a544-0242ac1c0002\"] = document.querySelector(\"#id34-0-0\");\n",
              "//# sourceURL=js_c844eacdbe"
            ],
            "text/plain": [
              "<IPython.core.display.Javascript object>"
            ]
          },
          "metadata": {}
        },
        {
          "output_type": "display_data",
          "data": {
            "application/javascript": [
              "window[\"dd33ed56-9d8d-11ec-a544-0242ac1c0002\"] = google.colab.output.setActiveOutputArea(window[\"dd332790-9d8d-11ec-a544-0242ac1c0002\"]);\n",
              "//# sourceURL=js_4551de071d"
            ],
            "text/plain": [
              "<IPython.core.display.Javascript object>"
            ]
          },
          "metadata": {}
        },
        {
          "output_type": "display_data",
          "data": {
            "application/javascript": [
              "window[\"dd4fedbc-9d8d-11ec-a544-0242ac1c0002\"] = google.colab.output.setActiveOutputArea(window[\"dd322f02-9d8d-11ec-a544-0242ac1c0002\"]);\n",
              "//# sourceURL=js_d1b25a734a"
            ],
            "text/plain": [
              "<IPython.core.display.Javascript object>"
            ]
          },
          "metadata": {}
        },
        {
          "output_type": "display_data",
          "data": {
            "application/javascript": [
              "window[\"dd711474-9d8d-11ec-a544-0242ac1c0002\"] = google.colab.output.getActiveOutputArea();\n",
              "//# sourceURL=js_4428a7a2cc"
            ],
            "text/plain": [
              "<IPython.core.display.Javascript object>"
            ]
          },
          "metadata": {}
        },
        {
          "output_type": "display_data",
          "data": {
            "application/javascript": [
              "window[\"dd7166e0-9d8d-11ec-a544-0242ac1c0002\"] = document.querySelector(\"#id34-0-0\");\n",
              "//# sourceURL=js_6a5392dcfc"
            ],
            "text/plain": [
              "<IPython.core.display.Javascript object>"
            ]
          },
          "metadata": {}
        },
        {
          "output_type": "display_data",
          "data": {
            "application/javascript": [
              "window[\"dd7231f6-9d8d-11ec-a544-0242ac1c0002\"] = google.colab.output.setActiveOutputArea(window[\"dd7166e0-9d8d-11ec-a544-0242ac1c0002\"]);\n",
              "//# sourceURL=js_84b9381b3f"
            ],
            "text/plain": [
              "<IPython.core.display.Javascript object>"
            ]
          },
          "metadata": {}
        },
        {
          "output_type": "display_data",
          "data": {
            "application/javascript": [
              "window[\"dd8dd438-9d8d-11ec-a544-0242ac1c0002\"] = google.colab.output.setActiveOutputArea(window[\"dd711474-9d8d-11ec-a544-0242ac1c0002\"]);\n",
              "//# sourceURL=js_acfb8e8a9a"
            ],
            "text/plain": [
              "<IPython.core.display.Javascript object>"
            ]
          },
          "metadata": {}
        },
        {
          "output_type": "display_data",
          "data": {
            "application/javascript": [
              "window[\"ddae6b80-9d8d-11ec-a544-0242ac1c0002\"] = google.colab.output.getActiveOutputArea();\n",
              "//# sourceURL=js_4f4cc58f6c"
            ],
            "text/plain": [
              "<IPython.core.display.Javascript object>"
            ]
          },
          "metadata": {}
        },
        {
          "output_type": "display_data",
          "data": {
            "application/javascript": [
              "window[\"ddaed1f6-9d8d-11ec-a544-0242ac1c0002\"] = document.querySelector(\"#id34-0-0\");\n",
              "//# sourceURL=js_b542944509"
            ],
            "text/plain": [
              "<IPython.core.display.Javascript object>"
            ]
          },
          "metadata": {}
        },
        {
          "output_type": "display_data",
          "data": {
            "application/javascript": [
              "window[\"ddaf40e6-9d8d-11ec-a544-0242ac1c0002\"] = google.colab.output.setActiveOutputArea(window[\"ddaed1f6-9d8d-11ec-a544-0242ac1c0002\"]);\n",
              "//# sourceURL=js_2fcae99a60"
            ],
            "text/plain": [
              "<IPython.core.display.Javascript object>"
            ]
          },
          "metadata": {}
        },
        {
          "output_type": "display_data",
          "data": {
            "application/javascript": [
              "window[\"ddc92b3c-9d8d-11ec-a544-0242ac1c0002\"] = google.colab.output.setActiveOutputArea(window[\"ddae6b80-9d8d-11ec-a544-0242ac1c0002\"]);\n",
              "//# sourceURL=js_ae371bae2d"
            ],
            "text/plain": [
              "<IPython.core.display.Javascript object>"
            ]
          },
          "metadata": {}
        },
        {
          "output_type": "display_data",
          "data": {
            "application/javascript": [
              "window[\"dde9e78c-9d8d-11ec-a544-0242ac1c0002\"] = google.colab.output.getActiveOutputArea();\n",
              "//# sourceURL=js_f88ed25d0f"
            ],
            "text/plain": [
              "<IPython.core.display.Javascript object>"
            ]
          },
          "metadata": {}
        },
        {
          "output_type": "display_data",
          "data": {
            "application/javascript": [
              "window[\"ddea4434-9d8d-11ec-a544-0242ac1c0002\"] = document.querySelector(\"#id34-0-0\");\n",
              "//# sourceURL=js_e61065a5f5"
            ],
            "text/plain": [
              "<IPython.core.display.Javascript object>"
            ]
          },
          "metadata": {}
        },
        {
          "output_type": "display_data",
          "data": {
            "application/javascript": [
              "window[\"ddeaa47e-9d8d-11ec-a544-0242ac1c0002\"] = google.colab.output.setActiveOutputArea(window[\"ddea4434-9d8d-11ec-a544-0242ac1c0002\"]);\n",
              "//# sourceURL=js_9006a084cc"
            ],
            "text/plain": [
              "<IPython.core.display.Javascript object>"
            ]
          },
          "metadata": {}
        },
        {
          "output_type": "display_data",
          "data": {
            "application/javascript": [
              "window[\"de028e22-9d8d-11ec-a544-0242ac1c0002\"] = google.colab.output.setActiveOutputArea(window[\"dde9e78c-9d8d-11ec-a544-0242ac1c0002\"]);\n",
              "//# sourceURL=js_95fa26da70"
            ],
            "text/plain": [
              "<IPython.core.display.Javascript object>"
            ]
          },
          "metadata": {}
        },
        {
          "output_type": "display_data",
          "data": {
            "application/javascript": [
              "window[\"de2317c8-9d8d-11ec-a544-0242ac1c0002\"] = google.colab.output.getActiveOutputArea();\n",
              "//# sourceURL=js_b20c9853ca"
            ],
            "text/plain": [
              "<IPython.core.display.Javascript object>"
            ]
          },
          "metadata": {}
        },
        {
          "output_type": "display_data",
          "data": {
            "application/javascript": [
              "window[\"de23847e-9d8d-11ec-a544-0242ac1c0002\"] = document.querySelector(\"#id34-0-0\");\n",
              "//# sourceURL=js_cba8a318a6"
            ],
            "text/plain": [
              "<IPython.core.display.Javascript object>"
            ]
          },
          "metadata": {}
        },
        {
          "output_type": "display_data",
          "data": {
            "application/javascript": [
              "window[\"de23e73e-9d8d-11ec-a544-0242ac1c0002\"] = google.colab.output.setActiveOutputArea(window[\"de23847e-9d8d-11ec-a544-0242ac1c0002\"]);\n",
              "//# sourceURL=js_ce0b381776"
            ],
            "text/plain": [
              "<IPython.core.display.Javascript object>"
            ]
          },
          "metadata": {}
        },
        {
          "output_type": "display_data",
          "data": {
            "application/javascript": [
              "window[\"de3cba7a-9d8d-11ec-a544-0242ac1c0002\"] = google.colab.output.setActiveOutputArea(window[\"de2317c8-9d8d-11ec-a544-0242ac1c0002\"]);\n",
              "//# sourceURL=js_651e2f7682"
            ],
            "text/plain": [
              "<IPython.core.display.Javascript object>"
            ]
          },
          "metadata": {}
        },
        {
          "output_type": "display_data",
          "data": {
            "application/javascript": [
              "window[\"de5d4010-9d8d-11ec-a544-0242ac1c0002\"] = google.colab.output.getActiveOutputArea();\n",
              "//# sourceURL=js_64490cc736"
            ],
            "text/plain": [
              "<IPython.core.display.Javascript object>"
            ]
          },
          "metadata": {}
        },
        {
          "output_type": "display_data",
          "data": {
            "application/javascript": [
              "window[\"de5da83e-9d8d-11ec-a544-0242ac1c0002\"] = document.querySelector(\"#id34-0-0\");\n",
              "//# sourceURL=js_623a856bea"
            ],
            "text/plain": [
              "<IPython.core.display.Javascript object>"
            ]
          },
          "metadata": {}
        },
        {
          "output_type": "display_data",
          "data": {
            "application/javascript": [
              "window[\"de5e2d90-9d8d-11ec-a544-0242ac1c0002\"] = google.colab.output.setActiveOutputArea(window[\"de5da83e-9d8d-11ec-a544-0242ac1c0002\"]);\n",
              "//# sourceURL=js_259fa9b079"
            ],
            "text/plain": [
              "<IPython.core.display.Javascript object>"
            ]
          },
          "metadata": {}
        },
        {
          "output_type": "display_data",
          "data": {
            "application/javascript": [
              "window[\"de783c3a-9d8d-11ec-a544-0242ac1c0002\"] = google.colab.output.setActiveOutputArea(window[\"de5d4010-9d8d-11ec-a544-0242ac1c0002\"]);\n",
              "//# sourceURL=js_a3518de7f7"
            ],
            "text/plain": [
              "<IPython.core.display.Javascript object>"
            ]
          },
          "metadata": {}
        },
        {
          "output_type": "display_data",
          "data": {
            "application/javascript": [
              "window[\"de990c94-9d8d-11ec-a544-0242ac1c0002\"] = google.colab.output.getActiveOutputArea();\n",
              "//# sourceURL=js_e043cdeeb9"
            ],
            "text/plain": [
              "<IPython.core.display.Javascript object>"
            ]
          },
          "metadata": {}
        },
        {
          "output_type": "display_data",
          "data": {
            "application/javascript": [
              "window[\"de999132-9d8d-11ec-a544-0242ac1c0002\"] = document.querySelector(\"#id34-0-0\");\n",
              "//# sourceURL=js_33f8342a76"
            ],
            "text/plain": [
              "<IPython.core.display.Javascript object>"
            ]
          },
          "metadata": {}
        },
        {
          "output_type": "display_data",
          "data": {
            "application/javascript": [
              "window[\"de9a1b3e-9d8d-11ec-a544-0242ac1c0002\"] = google.colab.output.setActiveOutputArea(window[\"de999132-9d8d-11ec-a544-0242ac1c0002\"]);\n",
              "//# sourceURL=js_fbc321a5ec"
            ],
            "text/plain": [
              "<IPython.core.display.Javascript object>"
            ]
          },
          "metadata": {}
        },
        {
          "output_type": "display_data",
          "data": {
            "application/javascript": [
              "window[\"deb2b1c6-9d8d-11ec-a544-0242ac1c0002\"] = google.colab.output.setActiveOutputArea(window[\"de990c94-9d8d-11ec-a544-0242ac1c0002\"]);\n",
              "//# sourceURL=js_7a298f641f"
            ],
            "text/plain": [
              "<IPython.core.display.Javascript object>"
            ]
          },
          "metadata": {}
        },
        {
          "output_type": "display_data",
          "data": {
            "application/javascript": [
              "window[\"ded3bd3a-9d8d-11ec-a544-0242ac1c0002\"] = google.colab.output.getActiveOutputArea();\n",
              "//# sourceURL=js_76689d8c8c"
            ],
            "text/plain": [
              "<IPython.core.display.Javascript object>"
            ]
          },
          "metadata": {}
        },
        {
          "output_type": "display_data",
          "data": {
            "application/javascript": [
              "window[\"ded41b36-9d8d-11ec-a544-0242ac1c0002\"] = document.querySelector(\"#id34-0-0\");\n",
              "//# sourceURL=js_220f9a6800"
            ],
            "text/plain": [
              "<IPython.core.display.Javascript object>"
            ]
          },
          "metadata": {}
        },
        {
          "output_type": "display_data",
          "data": {
            "application/javascript": [
              "window[\"ded49692-9d8d-11ec-a544-0242ac1c0002\"] = google.colab.output.setActiveOutputArea(window[\"ded41b36-9d8d-11ec-a544-0242ac1c0002\"]);\n",
              "//# sourceURL=js_0b52c40890"
            ],
            "text/plain": [
              "<IPython.core.display.Javascript object>"
            ]
          },
          "metadata": {}
        },
        {
          "output_type": "display_data",
          "data": {
            "application/javascript": [
              "window[\"deef53c4-9d8d-11ec-a544-0242ac1c0002\"] = google.colab.output.setActiveOutputArea(window[\"ded3bd3a-9d8d-11ec-a544-0242ac1c0002\"]);\n",
              "//# sourceURL=js_68ccee1795"
            ],
            "text/plain": [
              "<IPython.core.display.Javascript object>"
            ]
          },
          "metadata": {}
        },
        {
          "output_type": "display_data",
          "data": {
            "application/javascript": [
              "window[\"df107bb2-9d8d-11ec-a544-0242ac1c0002\"] = google.colab.output.getActiveOutputArea();\n",
              "//# sourceURL=js_a073201216"
            ],
            "text/plain": [
              "<IPython.core.display.Javascript object>"
            ]
          },
          "metadata": {}
        },
        {
          "output_type": "display_data",
          "data": {
            "application/javascript": [
              "window[\"df110352-9d8d-11ec-a544-0242ac1c0002\"] = document.querySelector(\"#id34-0-0\");\n",
              "//# sourceURL=js_fd38651854"
            ],
            "text/plain": [
              "<IPython.core.display.Javascript object>"
            ]
          },
          "metadata": {}
        },
        {
          "output_type": "display_data",
          "data": {
            "application/javascript": [
              "window[\"df117652-9d8d-11ec-a544-0242ac1c0002\"] = google.colab.output.setActiveOutputArea(window[\"df110352-9d8d-11ec-a544-0242ac1c0002\"]);\n",
              "//# sourceURL=js_22ac3e3b1c"
            ],
            "text/plain": [
              "<IPython.core.display.Javascript object>"
            ]
          },
          "metadata": {}
        },
        {
          "output_type": "display_data",
          "data": {
            "application/javascript": [
              "window[\"df2a2e22-9d8d-11ec-a544-0242ac1c0002\"] = google.colab.output.setActiveOutputArea(window[\"df107bb2-9d8d-11ec-a544-0242ac1c0002\"]);\n",
              "//# sourceURL=js_0380e35b4f"
            ],
            "text/plain": [
              "<IPython.core.display.Javascript object>"
            ]
          },
          "metadata": {}
        },
        {
          "output_type": "display_data",
          "data": {
            "application/javascript": [
              "window[\"df4c3bac-9d8d-11ec-a544-0242ac1c0002\"] = google.colab.output.getActiveOutputArea();\n",
              "//# sourceURL=js_8788d909be"
            ],
            "text/plain": [
              "<IPython.core.display.Javascript object>"
            ]
          },
          "metadata": {}
        },
        {
          "output_type": "display_data",
          "data": {
            "application/javascript": [
              "window[\"df4d3a20-9d8d-11ec-a544-0242ac1c0002\"] = document.querySelector(\"#id34-0-0\");\n",
              "//# sourceURL=js_0bf90493ee"
            ],
            "text/plain": [
              "<IPython.core.display.Javascript object>"
            ]
          },
          "metadata": {}
        },
        {
          "output_type": "display_data",
          "data": {
            "application/javascript": [
              "window[\"df4dd9a8-9d8d-11ec-a544-0242ac1c0002\"] = google.colab.output.setActiveOutputArea(window[\"df4d3a20-9d8d-11ec-a544-0242ac1c0002\"]);\n",
              "//# sourceURL=js_72e11e9889"
            ],
            "text/plain": [
              "<IPython.core.display.Javascript object>"
            ]
          },
          "metadata": {}
        },
        {
          "output_type": "display_data",
          "data": {
            "application/javascript": [
              "window[\"df675108-9d8d-11ec-a544-0242ac1c0002\"] = google.colab.output.setActiveOutputArea(window[\"df4c3bac-9d8d-11ec-a544-0242ac1c0002\"]);\n",
              "//# sourceURL=js_33c3b5f440"
            ],
            "text/plain": [
              "<IPython.core.display.Javascript object>"
            ]
          },
          "metadata": {}
        },
        {
          "output_type": "display_data",
          "data": {
            "application/javascript": [
              "window[\"df8824d2-9d8d-11ec-a544-0242ac1c0002\"] = google.colab.output.getActiveOutputArea();\n",
              "//# sourceURL=js_327f38fa50"
            ],
            "text/plain": [
              "<IPython.core.display.Javascript object>"
            ]
          },
          "metadata": {}
        },
        {
          "output_type": "display_data",
          "data": {
            "application/javascript": [
              "window[\"df887036-9d8d-11ec-a544-0242ac1c0002\"] = document.querySelector(\"#id34-0-0\");\n",
              "//# sourceURL=js_959ccc4f89"
            ],
            "text/plain": [
              "<IPython.core.display.Javascript object>"
            ]
          },
          "metadata": {}
        },
        {
          "output_type": "display_data",
          "data": {
            "application/javascript": [
              "window[\"df898340-9d8d-11ec-a544-0242ac1c0002\"] = google.colab.output.setActiveOutputArea(window[\"df887036-9d8d-11ec-a544-0242ac1c0002\"]);\n",
              "//# sourceURL=js_14e2cdaec2"
            ],
            "text/plain": [
              "<IPython.core.display.Javascript object>"
            ]
          },
          "metadata": {}
        },
        {
          "output_type": "display_data",
          "data": {
            "application/javascript": [
              "window[\"dfa1dfda-9d8d-11ec-a544-0242ac1c0002\"] = google.colab.output.setActiveOutputArea(window[\"df8824d2-9d8d-11ec-a544-0242ac1c0002\"]);\n",
              "//# sourceURL=js_a0be5e7c1a"
            ],
            "text/plain": [
              "<IPython.core.display.Javascript object>"
            ]
          },
          "metadata": {}
        },
        {
          "output_type": "display_data",
          "data": {
            "application/javascript": [
              "window[\"dfc3ffca-9d8d-11ec-a544-0242ac1c0002\"] = google.colab.output.getActiveOutputArea();\n",
              "//# sourceURL=js_bb34e9f809"
            ],
            "text/plain": [
              "<IPython.core.display.Javascript object>"
            ]
          },
          "metadata": {}
        },
        {
          "output_type": "display_data",
          "data": {
            "application/javascript": [
              "window[\"dfc45c9a-9d8d-11ec-a544-0242ac1c0002\"] = document.querySelector(\"#id34-0-0\");\n",
              "//# sourceURL=js_11250b880a"
            ],
            "text/plain": [
              "<IPython.core.display.Javascript object>"
            ]
          },
          "metadata": {}
        },
        {
          "output_type": "display_data",
          "data": {
            "application/javascript": [
              "window[\"dfc4f4de-9d8d-11ec-a544-0242ac1c0002\"] = google.colab.output.setActiveOutputArea(window[\"dfc45c9a-9d8d-11ec-a544-0242ac1c0002\"]);\n",
              "//# sourceURL=js_2d68343705"
            ],
            "text/plain": [
              "<IPython.core.display.Javascript object>"
            ]
          },
          "metadata": {}
        },
        {
          "output_type": "display_data",
          "data": {
            "application/javascript": [
              "window[\"dfeae2ac-9d8d-11ec-a544-0242ac1c0002\"] = google.colab.output.setActiveOutputArea(window[\"dfc3ffca-9d8d-11ec-a544-0242ac1c0002\"]);\n",
              "//# sourceURL=js_2621bf9e61"
            ],
            "text/plain": [
              "<IPython.core.display.Javascript object>"
            ]
          },
          "metadata": {}
        },
        {
          "output_type": "display_data",
          "data": {
            "application/javascript": [
              "window[\"e00b8e44-9d8d-11ec-a544-0242ac1c0002\"] = google.colab.output.getActiveOutputArea();\n",
              "//# sourceURL=js_bc412e04db"
            ],
            "text/plain": [
              "<IPython.core.display.Javascript object>"
            ]
          },
          "metadata": {}
        },
        {
          "output_type": "display_data",
          "data": {
            "application/javascript": [
              "window[\"e00bfa96-9d8d-11ec-a544-0242ac1c0002\"] = document.querySelector(\"#id34-0-0\");\n",
              "//# sourceURL=js_5b4ccba1eb"
            ],
            "text/plain": [
              "<IPython.core.display.Javascript object>"
            ]
          },
          "metadata": {}
        },
        {
          "output_type": "display_data",
          "data": {
            "application/javascript": [
              "window[\"e00c4f82-9d8d-11ec-a544-0242ac1c0002\"] = google.colab.output.setActiveOutputArea(window[\"e00bfa96-9d8d-11ec-a544-0242ac1c0002\"]);\n",
              "//# sourceURL=js_47b3aa03ca"
            ],
            "text/plain": [
              "<IPython.core.display.Javascript object>"
            ]
          },
          "metadata": {}
        },
        {
          "output_type": "display_data",
          "data": {
            "application/javascript": [
              "window[\"e02625d8-9d8d-11ec-a544-0242ac1c0002\"] = google.colab.output.setActiveOutputArea(window[\"e00b8e44-9d8d-11ec-a544-0242ac1c0002\"]);\n",
              "//# sourceURL=js_aaf4935064"
            ],
            "text/plain": [
              "<IPython.core.display.Javascript object>"
            ]
          },
          "metadata": {}
        },
        {
          "output_type": "display_data",
          "data": {
            "application/javascript": [
              "window[\"e04929ac-9d8d-11ec-a544-0242ac1c0002\"] = google.colab.output.getActiveOutputArea();\n",
              "//# sourceURL=js_6faa27b909"
            ],
            "text/plain": [
              "<IPython.core.display.Javascript object>"
            ]
          },
          "metadata": {}
        },
        {
          "output_type": "display_data",
          "data": {
            "application/javascript": [
              "window[\"e049779a-9d8d-11ec-a544-0242ac1c0002\"] = document.querySelector(\"#id34-0-0\");\n",
              "//# sourceURL=js_745b32a0a9"
            ],
            "text/plain": [
              "<IPython.core.display.Javascript object>"
            ]
          },
          "metadata": {}
        },
        {
          "output_type": "display_data",
          "data": {
            "application/javascript": [
              "window[\"e049c7a4-9d8d-11ec-a544-0242ac1c0002\"] = google.colab.output.setActiveOutputArea(window[\"e049779a-9d8d-11ec-a544-0242ac1c0002\"]);\n",
              "//# sourceURL=js_c6a9cd4960"
            ],
            "text/plain": [
              "<IPython.core.display.Javascript object>"
            ]
          },
          "metadata": {}
        },
        {
          "output_type": "display_data",
          "data": {
            "application/javascript": [
              "window[\"e063999a-9d8d-11ec-a544-0242ac1c0002\"] = google.colab.output.setActiveOutputArea(window[\"e04929ac-9d8d-11ec-a544-0242ac1c0002\"]);\n",
              "//# sourceURL=js_cc96a51ef3"
            ],
            "text/plain": [
              "<IPython.core.display.Javascript object>"
            ]
          },
          "metadata": {}
        },
        {
          "output_type": "display_data",
          "data": {
            "application/javascript": [
              "window[\"e084a0b8-9d8d-11ec-a544-0242ac1c0002\"] = google.colab.output.getActiveOutputArea();\n",
              "//# sourceURL=js_7ffcffa83c"
            ],
            "text/plain": [
              "<IPython.core.display.Javascript object>"
            ]
          },
          "metadata": {}
        },
        {
          "output_type": "display_data",
          "data": {
            "application/javascript": [
              "window[\"e0850cc4-9d8d-11ec-a544-0242ac1c0002\"] = document.querySelector(\"#id34-0-0\");\n",
              "//# sourceURL=js_130fa7bc36"
            ],
            "text/plain": [
              "<IPython.core.display.Javascript object>"
            ]
          },
          "metadata": {}
        },
        {
          "output_type": "display_data",
          "data": {
            "application/javascript": [
              "window[\"e08578bc-9d8d-11ec-a544-0242ac1c0002\"] = google.colab.output.setActiveOutputArea(window[\"e0850cc4-9d8d-11ec-a544-0242ac1c0002\"]);\n",
              "//# sourceURL=js_baadd6fe35"
            ],
            "text/plain": [
              "<IPython.core.display.Javascript object>"
            ]
          },
          "metadata": {}
        },
        {
          "output_type": "display_data",
          "data": {
            "application/javascript": [
              "window[\"e09ee4dc-9d8d-11ec-a544-0242ac1c0002\"] = google.colab.output.setActiveOutputArea(window[\"e084a0b8-9d8d-11ec-a544-0242ac1c0002\"]);\n",
              "//# sourceURL=js_91b44fff25"
            ],
            "text/plain": [
              "<IPython.core.display.Javascript object>"
            ]
          },
          "metadata": {}
        },
        {
          "output_type": "display_data",
          "data": {
            "application/javascript": [
              "window[\"e0bfa848-9d8d-11ec-a544-0242ac1c0002\"] = google.colab.output.getActiveOutputArea();\n",
              "//# sourceURL=js_7ecfe43b42"
            ],
            "text/plain": [
              "<IPython.core.display.Javascript object>"
            ]
          },
          "metadata": {}
        },
        {
          "output_type": "display_data",
          "data": {
            "application/javascript": [
              "window[\"e0c00a72-9d8d-11ec-a544-0242ac1c0002\"] = document.querySelector(\"#id34-0-0\");\n",
              "//# sourceURL=js_6264d313c6"
            ],
            "text/plain": [
              "<IPython.core.display.Javascript object>"
            ]
          },
          "metadata": {}
        },
        {
          "output_type": "display_data",
          "data": {
            "application/javascript": [
              "window[\"e0c0825e-9d8d-11ec-a544-0242ac1c0002\"] = google.colab.output.setActiveOutputArea(window[\"e0c00a72-9d8d-11ec-a544-0242ac1c0002\"]);\n",
              "//# sourceURL=js_efd346a7e5"
            ],
            "text/plain": [
              "<IPython.core.display.Javascript object>"
            ]
          },
          "metadata": {}
        },
        {
          "output_type": "display_data",
          "data": {
            "application/javascript": [
              "window[\"e0d9c250-9d8d-11ec-a544-0242ac1c0002\"] = google.colab.output.setActiveOutputArea(window[\"e0bfa848-9d8d-11ec-a544-0242ac1c0002\"]);\n",
              "//# sourceURL=js_94e4440b09"
            ],
            "text/plain": [
              "<IPython.core.display.Javascript object>"
            ]
          },
          "metadata": {}
        },
        {
          "output_type": "display_data",
          "data": {
            "application/javascript": [
              "window[\"e0fa68d4-9d8d-11ec-a544-0242ac1c0002\"] = google.colab.output.getActiveOutputArea();\n",
              "//# sourceURL=js_a17c8f1bf6"
            ],
            "text/plain": [
              "<IPython.core.display.Javascript object>"
            ]
          },
          "metadata": {}
        },
        {
          "output_type": "display_data",
          "data": {
            "application/javascript": [
              "window[\"e0fae76e-9d8d-11ec-a544-0242ac1c0002\"] = document.querySelector(\"#id34-0-0\");\n",
              "//# sourceURL=js_60e695aaf4"
            ],
            "text/plain": [
              "<IPython.core.display.Javascript object>"
            ]
          },
          "metadata": {}
        },
        {
          "output_type": "display_data",
          "data": {
            "application/javascript": [
              "window[\"e0fb4c9a-9d8d-11ec-a544-0242ac1c0002\"] = google.colab.output.setActiveOutputArea(window[\"e0fae76e-9d8d-11ec-a544-0242ac1c0002\"]);\n",
              "//# sourceURL=js_8171154c4b"
            ],
            "text/plain": [
              "<IPython.core.display.Javascript object>"
            ]
          },
          "metadata": {}
        },
        {
          "output_type": "display_data",
          "data": {
            "application/javascript": [
              "window[\"e113504c-9d8d-11ec-a544-0242ac1c0002\"] = google.colab.output.setActiveOutputArea(window[\"e0fa68d4-9d8d-11ec-a544-0242ac1c0002\"]);\n",
              "//# sourceURL=js_96e6550e71"
            ],
            "text/plain": [
              "<IPython.core.display.Javascript object>"
            ]
          },
          "metadata": {}
        },
        {
          "output_type": "display_data",
          "data": {
            "application/javascript": [
              "window[\"e134c29a-9d8d-11ec-a544-0242ac1c0002\"] = google.colab.output.getActiveOutputArea();\n",
              "//# sourceURL=js_6eac1c0dba"
            ],
            "text/plain": [
              "<IPython.core.display.Javascript object>"
            ]
          },
          "metadata": {}
        },
        {
          "output_type": "display_data",
          "data": {
            "application/javascript": [
              "window[\"e1353374-9d8d-11ec-a544-0242ac1c0002\"] = document.querySelector(\"#id34-0-0\");\n",
              "//# sourceURL=js_eef602f652"
            ],
            "text/plain": [
              "<IPython.core.display.Javascript object>"
            ]
          },
          "metadata": {}
        },
        {
          "output_type": "display_data",
          "data": {
            "application/javascript": [
              "window[\"e135d18a-9d8d-11ec-a544-0242ac1c0002\"] = google.colab.output.setActiveOutputArea(window[\"e1353374-9d8d-11ec-a544-0242ac1c0002\"]);\n",
              "//# sourceURL=js_b7226268d2"
            ],
            "text/plain": [
              "<IPython.core.display.Javascript object>"
            ]
          },
          "metadata": {}
        },
        {
          "output_type": "display_data",
          "data": {
            "application/javascript": [
              "window[\"e14ffb14-9d8d-11ec-a544-0242ac1c0002\"] = google.colab.output.setActiveOutputArea(window[\"e134c29a-9d8d-11ec-a544-0242ac1c0002\"]);\n",
              "//# sourceURL=js_f9dc45ca38"
            ],
            "text/plain": [
              "<IPython.core.display.Javascript object>"
            ]
          },
          "metadata": {}
        },
        {
          "output_type": "display_data",
          "data": {
            "application/javascript": [
              "window[\"e170b822-9d8d-11ec-a544-0242ac1c0002\"] = google.colab.output.getActiveOutputArea();\n",
              "//# sourceURL=js_e1006009d1"
            ],
            "text/plain": [
              "<IPython.core.display.Javascript object>"
            ]
          },
          "metadata": {}
        },
        {
          "output_type": "display_data",
          "data": {
            "application/javascript": [
              "window[\"e171695c-9d8d-11ec-a544-0242ac1c0002\"] = document.querySelector(\"#id34-0-0\");\n",
              "//# sourceURL=js_f3f21be7e1"
            ],
            "text/plain": [
              "<IPython.core.display.Javascript object>"
            ]
          },
          "metadata": {}
        },
        {
          "output_type": "display_data",
          "data": {
            "application/javascript": [
              "window[\"e171e3e6-9d8d-11ec-a544-0242ac1c0002\"] = google.colab.output.setActiveOutputArea(window[\"e171695c-9d8d-11ec-a544-0242ac1c0002\"]);\n",
              "//# sourceURL=js_67c0ac7af2"
            ],
            "text/plain": [
              "<IPython.core.display.Javascript object>"
            ]
          },
          "metadata": {}
        },
        {
          "output_type": "display_data",
          "data": {
            "application/javascript": [
              "window[\"e18abd76-9d8d-11ec-a544-0242ac1c0002\"] = google.colab.output.setActiveOutputArea(window[\"e170b822-9d8d-11ec-a544-0242ac1c0002\"]);\n",
              "//# sourceURL=js_98412d4efb"
            ],
            "text/plain": [
              "<IPython.core.display.Javascript object>"
            ]
          },
          "metadata": {}
        },
        {
          "output_type": "display_data",
          "data": {
            "application/javascript": [
              "window[\"e1ab7b56-9d8d-11ec-a544-0242ac1c0002\"] = google.colab.output.getActiveOutputArea();\n",
              "//# sourceURL=js_b7b3c6d939"
            ],
            "text/plain": [
              "<IPython.core.display.Javascript object>"
            ]
          },
          "metadata": {}
        },
        {
          "output_type": "display_data",
          "data": {
            "application/javascript": [
              "window[\"e1abe62c-9d8d-11ec-a544-0242ac1c0002\"] = document.querySelector(\"#id34-0-0\");\n",
              "//# sourceURL=js_38a7b1ec9b"
            ],
            "text/plain": [
              "<IPython.core.display.Javascript object>"
            ]
          },
          "metadata": {}
        },
        {
          "output_type": "display_data",
          "data": {
            "application/javascript": [
              "window[\"e1accb28-9d8d-11ec-a544-0242ac1c0002\"] = google.colab.output.setActiveOutputArea(window[\"e1abe62c-9d8d-11ec-a544-0242ac1c0002\"]);\n",
              "//# sourceURL=js_83af32faab"
            ],
            "text/plain": [
              "<IPython.core.display.Javascript object>"
            ]
          },
          "metadata": {}
        },
        {
          "output_type": "display_data",
          "data": {
            "application/javascript": [
              "window[\"e1c5062a-9d8d-11ec-a544-0242ac1c0002\"] = google.colab.output.setActiveOutputArea(window[\"e1ab7b56-9d8d-11ec-a544-0242ac1c0002\"]);\n",
              "//# sourceURL=js_44dd593af8"
            ],
            "text/plain": [
              "<IPython.core.display.Javascript object>"
            ]
          },
          "metadata": {}
        },
        {
          "output_type": "display_data",
          "data": {
            "application/javascript": [
              "window[\"e1e5a1d2-9d8d-11ec-a544-0242ac1c0002\"] = google.colab.output.getActiveOutputArea();\n",
              "//# sourceURL=js_f9bb502339"
            ],
            "text/plain": [
              "<IPython.core.display.Javascript object>"
            ]
          },
          "metadata": {}
        },
        {
          "output_type": "display_data",
          "data": {
            "application/javascript": [
              "window[\"e1e656e0-9d8d-11ec-a544-0242ac1c0002\"] = document.querySelector(\"#id34-0-0\");\n",
              "//# sourceURL=js_7d6b28dc33"
            ],
            "text/plain": [
              "<IPython.core.display.Javascript object>"
            ]
          },
          "metadata": {}
        },
        {
          "output_type": "display_data",
          "data": {
            "application/javascript": [
              "window[\"e1e6b70c-9d8d-11ec-a544-0242ac1c0002\"] = google.colab.output.setActiveOutputArea(window[\"e1e656e0-9d8d-11ec-a544-0242ac1c0002\"]);\n",
              "//# sourceURL=js_522a26055c"
            ],
            "text/plain": [
              "<IPython.core.display.Javascript object>"
            ]
          },
          "metadata": {}
        },
        {
          "output_type": "display_data",
          "data": {
            "application/javascript": [
              "window[\"e20504be-9d8d-11ec-a544-0242ac1c0002\"] = google.colab.output.setActiveOutputArea(window[\"e1e5a1d2-9d8d-11ec-a544-0242ac1c0002\"]);\n",
              "//# sourceURL=js_ceec9021c2"
            ],
            "text/plain": [
              "<IPython.core.display.Javascript object>"
            ]
          },
          "metadata": {}
        },
        {
          "output_type": "display_data",
          "data": {
            "application/javascript": [
              "window[\"e227555a-9d8d-11ec-a544-0242ac1c0002\"] = google.colab.output.getActiveOutputArea();\n",
              "//# sourceURL=js_06d26b17f0"
            ],
            "text/plain": [
              "<IPython.core.display.Javascript object>"
            ]
          },
          "metadata": {}
        },
        {
          "output_type": "display_data",
          "data": {
            "application/javascript": [
              "window[\"e227c2e2-9d8d-11ec-a544-0242ac1c0002\"] = document.querySelector(\"#id34-0-0\");\n",
              "//# sourceURL=js_1d468b0c9a"
            ],
            "text/plain": [
              "<IPython.core.display.Javascript object>"
            ]
          },
          "metadata": {}
        },
        {
          "output_type": "display_data",
          "data": {
            "application/javascript": [
              "window[\"e2282822-9d8d-11ec-a544-0242ac1c0002\"] = google.colab.output.setActiveOutputArea(window[\"e227c2e2-9d8d-11ec-a544-0242ac1c0002\"]);\n",
              "//# sourceURL=js_64492f2747"
            ],
            "text/plain": [
              "<IPython.core.display.Javascript object>"
            ]
          },
          "metadata": {}
        },
        {
          "output_type": "display_data",
          "data": {
            "application/javascript": [
              "window[\"e24213e0-9d8d-11ec-a544-0242ac1c0002\"] = google.colab.output.setActiveOutputArea(window[\"e227555a-9d8d-11ec-a544-0242ac1c0002\"]);\n",
              "//# sourceURL=js_0517314a5c"
            ],
            "text/plain": [
              "<IPython.core.display.Javascript object>"
            ]
          },
          "metadata": {}
        },
        {
          "output_type": "display_data",
          "data": {
            "application/javascript": [
              "window[\"e263452e-9d8d-11ec-a544-0242ac1c0002\"] = google.colab.output.getActiveOutputArea();\n",
              "//# sourceURL=js_d5c89dbe70"
            ],
            "text/plain": [
              "<IPython.core.display.Javascript object>"
            ]
          },
          "metadata": {}
        },
        {
          "output_type": "display_data",
          "data": {
            "application/javascript": [
              "window[\"e263a29e-9d8d-11ec-a544-0242ac1c0002\"] = document.querySelector(\"#id34-0-0\");\n",
              "//# sourceURL=js_580c0dd8b7"
            ],
            "text/plain": [
              "<IPython.core.display.Javascript object>"
            ]
          },
          "metadata": {}
        },
        {
          "output_type": "display_data",
          "data": {
            "application/javascript": [
              "window[\"e2645b3a-9d8d-11ec-a544-0242ac1c0002\"] = google.colab.output.setActiveOutputArea(window[\"e263a29e-9d8d-11ec-a544-0242ac1c0002\"]);\n",
              "//# sourceURL=js_95659e2fd7"
            ],
            "text/plain": [
              "<IPython.core.display.Javascript object>"
            ]
          },
          "metadata": {}
        },
        {
          "output_type": "display_data",
          "data": {
            "application/javascript": [
              "window[\"e27dbdd2-9d8d-11ec-a544-0242ac1c0002\"] = google.colab.output.setActiveOutputArea(window[\"e263452e-9d8d-11ec-a544-0242ac1c0002\"]);\n",
              "//# sourceURL=js_cfd6b9be27"
            ],
            "text/plain": [
              "<IPython.core.display.Javascript object>"
            ]
          },
          "metadata": {}
        },
        {
          "output_type": "display_data",
          "data": {
            "application/javascript": [
              "window[\"e29e4e9e-9d8d-11ec-a544-0242ac1c0002\"] = google.colab.output.getActiveOutputArea();\n",
              "//# sourceURL=js_438bfc70b7"
            ],
            "text/plain": [
              "<IPython.core.display.Javascript object>"
            ]
          },
          "metadata": {}
        },
        {
          "output_type": "display_data",
          "data": {
            "application/javascript": [
              "window[\"e29ef7d6-9d8d-11ec-a544-0242ac1c0002\"] = document.querySelector(\"#id34-0-0\");\n",
              "//# sourceURL=js_c92dd831df"
            ],
            "text/plain": [
              "<IPython.core.display.Javascript object>"
            ]
          },
          "metadata": {}
        },
        {
          "output_type": "display_data",
          "data": {
            "application/javascript": [
              "window[\"e29f731e-9d8d-11ec-a544-0242ac1c0002\"] = google.colab.output.setActiveOutputArea(window[\"e29ef7d6-9d8d-11ec-a544-0242ac1c0002\"]);\n",
              "//# sourceURL=js_6bb3f15929"
            ],
            "text/plain": [
              "<IPython.core.display.Javascript object>"
            ]
          },
          "metadata": {}
        },
        {
          "output_type": "display_data",
          "data": {
            "application/javascript": [
              "window[\"e2b8ac44-9d8d-11ec-a544-0242ac1c0002\"] = google.colab.output.setActiveOutputArea(window[\"e29e4e9e-9d8d-11ec-a544-0242ac1c0002\"]);\n",
              "//# sourceURL=js_da805a3195"
            ],
            "text/plain": [
              "<IPython.core.display.Javascript object>"
            ]
          },
          "metadata": {}
        },
        {
          "output_type": "display_data",
          "data": {
            "application/javascript": [
              "window[\"e2db26b6-9d8d-11ec-a544-0242ac1c0002\"] = google.colab.output.getActiveOutputArea();\n",
              "//# sourceURL=js_cc22ff7e76"
            ],
            "text/plain": [
              "<IPython.core.display.Javascript object>"
            ]
          },
          "metadata": {}
        },
        {
          "output_type": "display_data",
          "data": {
            "application/javascript": [
              "window[\"e2db7ef4-9d8d-11ec-a544-0242ac1c0002\"] = document.querySelector(\"#id34-0-0\");\n",
              "//# sourceURL=js_e4c79e529d"
            ],
            "text/plain": [
              "<IPython.core.display.Javascript object>"
            ]
          },
          "metadata": {}
        },
        {
          "output_type": "display_data",
          "data": {
            "application/javascript": [
              "window[\"e2dbd750-9d8d-11ec-a544-0242ac1c0002\"] = google.colab.output.setActiveOutputArea(window[\"e2db7ef4-9d8d-11ec-a544-0242ac1c0002\"]);\n",
              "//# sourceURL=js_55fbcc479e"
            ],
            "text/plain": [
              "<IPython.core.display.Javascript object>"
            ]
          },
          "metadata": {}
        },
        {
          "output_type": "display_data",
          "data": {
            "application/javascript": [
              "window[\"e2f65bca-9d8d-11ec-a544-0242ac1c0002\"] = google.colab.output.setActiveOutputArea(window[\"e2db26b6-9d8d-11ec-a544-0242ac1c0002\"]);\n",
              "//# sourceURL=js_25d38d0343"
            ],
            "text/plain": [
              "<IPython.core.display.Javascript object>"
            ]
          },
          "metadata": {}
        },
        {
          "output_type": "display_data",
          "data": {
            "application/javascript": [
              "window[\"e3174326-9d8d-11ec-a544-0242ac1c0002\"] = google.colab.output.getActiveOutputArea();\n",
              "//# sourceURL=js_946ba7b1d9"
            ],
            "text/plain": [
              "<IPython.core.display.Javascript object>"
            ]
          },
          "metadata": {}
        },
        {
          "output_type": "display_data",
          "data": {
            "application/javascript": [
              "window[\"e31794b6-9d8d-11ec-a544-0242ac1c0002\"] = document.querySelector(\"#id34-0-0\");\n",
              "//# sourceURL=js_d073e3b5c1"
            ],
            "text/plain": [
              "<IPython.core.display.Javascript object>"
            ]
          },
          "metadata": {}
        },
        {
          "output_type": "display_data",
          "data": {
            "application/javascript": [
              "window[\"e317e6aa-9d8d-11ec-a544-0242ac1c0002\"] = google.colab.output.setActiveOutputArea(window[\"e31794b6-9d8d-11ec-a544-0242ac1c0002\"]);\n",
              "//# sourceURL=js_e8cbc341ef"
            ],
            "text/plain": [
              "<IPython.core.display.Javascript object>"
            ]
          },
          "metadata": {}
        },
        {
          "output_type": "display_data",
          "data": {
            "application/javascript": [
              "window[\"e340af68-9d8d-11ec-a544-0242ac1c0002\"] = google.colab.output.setActiveOutputArea(window[\"e3174326-9d8d-11ec-a544-0242ac1c0002\"]);\n",
              "//# sourceURL=js_b0792c7a34"
            ],
            "text/plain": [
              "<IPython.core.display.Javascript object>"
            ]
          },
          "metadata": {}
        },
        {
          "output_type": "display_data",
          "data": {
            "application/javascript": [
              "window[\"e361bbd6-9d8d-11ec-a544-0242ac1c0002\"] = google.colab.output.getActiveOutputArea();\n",
              "//# sourceURL=js_a9b985fed0"
            ],
            "text/plain": [
              "<IPython.core.display.Javascript object>"
            ]
          },
          "metadata": {}
        },
        {
          "output_type": "display_data",
          "data": {
            "application/javascript": [
              "window[\"e36205e6-9d8d-11ec-a544-0242ac1c0002\"] = document.querySelector(\"#id34-0-0\");\n",
              "//# sourceURL=js_2e75ff5d40"
            ],
            "text/plain": [
              "<IPython.core.display.Javascript object>"
            ]
          },
          "metadata": {}
        },
        {
          "output_type": "display_data",
          "data": {
            "application/javascript": [
              "window[\"e362493e-9d8d-11ec-a544-0242ac1c0002\"] = google.colab.output.setActiveOutputArea(window[\"e36205e6-9d8d-11ec-a544-0242ac1c0002\"]);\n",
              "//# sourceURL=js_e2751a7132"
            ],
            "text/plain": [
              "<IPython.core.display.Javascript object>"
            ]
          },
          "metadata": {}
        },
        {
          "output_type": "display_data",
          "data": {
            "application/javascript": [
              "window[\"e37c5d1a-9d8d-11ec-a544-0242ac1c0002\"] = google.colab.output.setActiveOutputArea(window[\"e361bbd6-9d8d-11ec-a544-0242ac1c0002\"]);\n",
              "//# sourceURL=js_a4a80f9f9b"
            ],
            "text/plain": [
              "<IPython.core.display.Javascript object>"
            ]
          },
          "metadata": {}
        },
        {
          "output_type": "display_data",
          "data": {
            "application/javascript": [
              "window[\"e39d0dda-9d8d-11ec-a544-0242ac1c0002\"] = google.colab.output.getActiveOutputArea();\n",
              "//# sourceURL=js_54e533a904"
            ],
            "text/plain": [
              "<IPython.core.display.Javascript object>"
            ]
          },
          "metadata": {}
        },
        {
          "output_type": "display_data",
          "data": {
            "application/javascript": [
              "window[\"e39d5f38-9d8d-11ec-a544-0242ac1c0002\"] = document.querySelector(\"#id34-0-0\");\n",
              "//# sourceURL=js_f5ba42ee86"
            ],
            "text/plain": [
              "<IPython.core.display.Javascript object>"
            ]
          },
          "metadata": {}
        },
        {
          "output_type": "display_data",
          "data": {
            "application/javascript": [
              "window[\"e39dade4-9d8d-11ec-a544-0242ac1c0002\"] = google.colab.output.setActiveOutputArea(window[\"e39d5f38-9d8d-11ec-a544-0242ac1c0002\"]);\n",
              "//# sourceURL=js_0423c7a0bd"
            ],
            "text/plain": [
              "<IPython.core.display.Javascript object>"
            ]
          },
          "metadata": {}
        },
        {
          "output_type": "display_data",
          "data": {
            "application/javascript": [
              "window[\"e3b7a8ca-9d8d-11ec-a544-0242ac1c0002\"] = google.colab.output.setActiveOutputArea(window[\"e39d0dda-9d8d-11ec-a544-0242ac1c0002\"]);\n",
              "//# sourceURL=js_c384a39529"
            ],
            "text/plain": [
              "<IPython.core.display.Javascript object>"
            ]
          },
          "metadata": {}
        },
        {
          "output_type": "display_data",
          "data": {
            "application/javascript": [
              "window[\"e3d83ca2-9d8d-11ec-a544-0242ac1c0002\"] = google.colab.output.getActiveOutputArea();\n",
              "//# sourceURL=js_ff8d639192"
            ],
            "text/plain": [
              "<IPython.core.display.Javascript object>"
            ]
          },
          "metadata": {}
        },
        {
          "output_type": "display_data",
          "data": {
            "application/javascript": [
              "window[\"e3d8a9d0-9d8d-11ec-a544-0242ac1c0002\"] = document.querySelector(\"#id34-0-0\");\n",
              "//# sourceURL=js_25224c7507"
            ],
            "text/plain": [
              "<IPython.core.display.Javascript object>"
            ]
          },
          "metadata": {}
        },
        {
          "output_type": "display_data",
          "data": {
            "application/javascript": [
              "window[\"e3d9004c-9d8d-11ec-a544-0242ac1c0002\"] = google.colab.output.setActiveOutputArea(window[\"e3d8a9d0-9d8d-11ec-a544-0242ac1c0002\"]);\n",
              "//# sourceURL=js_82070ca5e1"
            ],
            "text/plain": [
              "<IPython.core.display.Javascript object>"
            ]
          },
          "metadata": {}
        },
        {
          "output_type": "display_data",
          "data": {
            "application/javascript": [
              "window[\"e3f2d3f0-9d8d-11ec-a544-0242ac1c0002\"] = google.colab.output.setActiveOutputArea(window[\"e3d83ca2-9d8d-11ec-a544-0242ac1c0002\"]);\n",
              "//# sourceURL=js_5d2f3e0be7"
            ],
            "text/plain": [
              "<IPython.core.display.Javascript object>"
            ]
          },
          "metadata": {}
        },
        {
          "output_type": "display_data",
          "data": {
            "application/javascript": [
              "window[\"e413fd82-9d8d-11ec-a544-0242ac1c0002\"] = google.colab.output.getActiveOutputArea();\n",
              "//# sourceURL=js_7266343ebd"
            ],
            "text/plain": [
              "<IPython.core.display.Javascript object>"
            ]
          },
          "metadata": {}
        },
        {
          "output_type": "display_data",
          "data": {
            "application/javascript": [
              "window[\"e4149b70-9d8d-11ec-a544-0242ac1c0002\"] = document.querySelector(\"#id34-0-0\");\n",
              "//# sourceURL=js_350de26834"
            ],
            "text/plain": [
              "<IPython.core.display.Javascript object>"
            ]
          },
          "metadata": {}
        },
        {
          "output_type": "display_data",
          "data": {
            "application/javascript": [
              "window[\"e415006a-9d8d-11ec-a544-0242ac1c0002\"] = google.colab.output.setActiveOutputArea(window[\"e4149b70-9d8d-11ec-a544-0242ac1c0002\"]);\n",
              "//# sourceURL=js_99214b68dd"
            ],
            "text/plain": [
              "<IPython.core.display.Javascript object>"
            ]
          },
          "metadata": {}
        },
        {
          "output_type": "display_data",
          "data": {
            "application/javascript": [
              "window[\"e42cb07a-9d8d-11ec-a544-0242ac1c0002\"] = google.colab.output.setActiveOutputArea(window[\"e413fd82-9d8d-11ec-a544-0242ac1c0002\"]);\n",
              "//# sourceURL=js_f401bb5340"
            ],
            "text/plain": [
              "<IPython.core.display.Javascript object>"
            ]
          },
          "metadata": {}
        },
        {
          "output_type": "display_data",
          "data": {
            "application/javascript": [
              "window[\"e44d3958-9d8d-11ec-a544-0242ac1c0002\"] = google.colab.output.getActiveOutputArea();\n",
              "//# sourceURL=js_d3bfd4c286"
            ],
            "text/plain": [
              "<IPython.core.display.Javascript object>"
            ]
          },
          "metadata": {}
        },
        {
          "output_type": "display_data",
          "data": {
            "application/javascript": [
              "window[\"e44d9db2-9d8d-11ec-a544-0242ac1c0002\"] = document.querySelector(\"#id34-0-0\");\n",
              "//# sourceURL=js_74e451fff6"
            ],
            "text/plain": [
              "<IPython.core.display.Javascript object>"
            ]
          },
          "metadata": {}
        },
        {
          "output_type": "display_data",
          "data": {
            "application/javascript": [
              "window[\"e44e17e2-9d8d-11ec-a544-0242ac1c0002\"] = google.colab.output.setActiveOutputArea(window[\"e44d9db2-9d8d-11ec-a544-0242ac1c0002\"]);\n",
              "//# sourceURL=js_68321fddac"
            ],
            "text/plain": [
              "<IPython.core.display.Javascript object>"
            ]
          },
          "metadata": {}
        },
        {
          "output_type": "display_data",
          "data": {
            "application/javascript": [
              "window[\"e46b29f4-9d8d-11ec-a544-0242ac1c0002\"] = google.colab.output.setActiveOutputArea(window[\"e44d3958-9d8d-11ec-a544-0242ac1c0002\"]);\n",
              "//# sourceURL=js_774d7b5602"
            ],
            "text/plain": [
              "<IPython.core.display.Javascript object>"
            ]
          },
          "metadata": {}
        },
        {
          "output_type": "display_data",
          "data": {
            "application/javascript": [
              "window[\"e48b9ed2-9d8d-11ec-a544-0242ac1c0002\"] = google.colab.output.getActiveOutputArea();\n",
              "//# sourceURL=js_72ab1ae1aa"
            ],
            "text/plain": [
              "<IPython.core.display.Javascript object>"
            ]
          },
          "metadata": {}
        },
        {
          "output_type": "display_data",
          "data": {
            "application/javascript": [
              "window[\"e48c0200-9d8d-11ec-a544-0242ac1c0002\"] = document.querySelector(\"#id34-0-0\");\n",
              "//# sourceURL=js_5e00b59f3f"
            ],
            "text/plain": [
              "<IPython.core.display.Javascript object>"
            ]
          },
          "metadata": {}
        },
        {
          "output_type": "display_data",
          "data": {
            "application/javascript": [
              "window[\"e48c6e34-9d8d-11ec-a544-0242ac1c0002\"] = google.colab.output.setActiveOutputArea(window[\"e48c0200-9d8d-11ec-a544-0242ac1c0002\"]);\n",
              "//# sourceURL=js_1021776533"
            ],
            "text/plain": [
              "<IPython.core.display.Javascript object>"
            ]
          },
          "metadata": {}
        },
        {
          "output_type": "display_data",
          "data": {
            "application/javascript": [
              "window[\"e4a538ce-9d8d-11ec-a544-0242ac1c0002\"] = google.colab.output.setActiveOutputArea(window[\"e48b9ed2-9d8d-11ec-a544-0242ac1c0002\"]);\n",
              "//# sourceURL=js_02062fab4f"
            ],
            "text/plain": [
              "<IPython.core.display.Javascript object>"
            ]
          },
          "metadata": {}
        },
        {
          "output_type": "display_data",
          "data": {
            "application/javascript": [
              "window[\"e4c61ab2-9d8d-11ec-a544-0242ac1c0002\"] = google.colab.output.getActiveOutputArea();\n",
              "//# sourceURL=js_d99b6c95f4"
            ],
            "text/plain": [
              "<IPython.core.display.Javascript object>"
            ]
          },
          "metadata": {}
        },
        {
          "output_type": "display_data",
          "data": {
            "application/javascript": [
              "window[\"e4c6b116-9d8d-11ec-a544-0242ac1c0002\"] = document.querySelector(\"#id34-0-0\");\n",
              "//# sourceURL=js_8b20a5ec29"
            ],
            "text/plain": [
              "<IPython.core.display.Javascript object>"
            ]
          },
          "metadata": {}
        },
        {
          "output_type": "display_data",
          "data": {
            "application/javascript": [
              "window[\"e4c7472a-9d8d-11ec-a544-0242ac1c0002\"] = google.colab.output.setActiveOutputArea(window[\"e4c6b116-9d8d-11ec-a544-0242ac1c0002\"]);\n",
              "//# sourceURL=js_7b428d4ac3"
            ],
            "text/plain": [
              "<IPython.core.display.Javascript object>"
            ]
          },
          "metadata": {}
        },
        {
          "output_type": "display_data",
          "data": {
            "application/javascript": [
              "window[\"e4e24322-9d8d-11ec-a544-0242ac1c0002\"] = google.colab.output.setActiveOutputArea(window[\"e4c61ab2-9d8d-11ec-a544-0242ac1c0002\"]);\n",
              "//# sourceURL=js_575f746c7a"
            ],
            "text/plain": [
              "<IPython.core.display.Javascript object>"
            ]
          },
          "metadata": {}
        },
        {
          "output_type": "display_data",
          "data": {
            "application/javascript": [
              "window[\"e5045570-9d8d-11ec-a544-0242ac1c0002\"] = google.colab.output.getActiveOutputArea();\n",
              "//# sourceURL=js_ee7e74b48c"
            ],
            "text/plain": [
              "<IPython.core.display.Javascript object>"
            ]
          },
          "metadata": {}
        },
        {
          "output_type": "display_data",
          "data": {
            "application/javascript": [
              "window[\"e504ad86-9d8d-11ec-a544-0242ac1c0002\"] = document.querySelector(\"#id34-0-0\");\n",
              "//# sourceURL=js_8ab366658b"
            ],
            "text/plain": [
              "<IPython.core.display.Javascript object>"
            ]
          },
          "metadata": {}
        },
        {
          "output_type": "display_data",
          "data": {
            "application/javascript": [
              "window[\"e505a060-9d8d-11ec-a544-0242ac1c0002\"] = google.colab.output.setActiveOutputArea(window[\"e504ad86-9d8d-11ec-a544-0242ac1c0002\"]);\n",
              "//# sourceURL=js_8f1d7188df"
            ],
            "text/plain": [
              "<IPython.core.display.Javascript object>"
            ]
          },
          "metadata": {}
        },
        {
          "output_type": "display_data",
          "data": {
            "application/javascript": [
              "window[\"e521dd2a-9d8d-11ec-a544-0242ac1c0002\"] = google.colab.output.setActiveOutputArea(window[\"e5045570-9d8d-11ec-a544-0242ac1c0002\"]);\n",
              "//# sourceURL=js_b1941eee2b"
            ],
            "text/plain": [
              "<IPython.core.display.Javascript object>"
            ]
          },
          "metadata": {}
        },
        {
          "output_type": "display_data",
          "data": {
            "application/javascript": [
              "window[\"e54284c6-9d8d-11ec-a544-0242ac1c0002\"] = google.colab.output.getActiveOutputArea();\n",
              "//# sourceURL=js_c7c14f5cb2"
            ],
            "text/plain": [
              "<IPython.core.display.Javascript object>"
            ]
          },
          "metadata": {}
        },
        {
          "output_type": "display_data",
          "data": {
            "application/javascript": [
              "window[\"e542de1c-9d8d-11ec-a544-0242ac1c0002\"] = document.querySelector(\"#id34-0-0\");\n",
              "//# sourceURL=js_6c23445405"
            ],
            "text/plain": [
              "<IPython.core.display.Javascript object>"
            ]
          },
          "metadata": {}
        },
        {
          "output_type": "display_data",
          "data": {
            "application/javascript": [
              "window[\"e5432e4e-9d8d-11ec-a544-0242ac1c0002\"] = google.colab.output.setActiveOutputArea(window[\"e542de1c-9d8d-11ec-a544-0242ac1c0002\"]);\n",
              "//# sourceURL=js_784fdca6ff"
            ],
            "text/plain": [
              "<IPython.core.display.Javascript object>"
            ]
          },
          "metadata": {}
        },
        {
          "output_type": "display_data",
          "data": {
            "application/javascript": [
              "window[\"e55e246a-9d8d-11ec-a544-0242ac1c0002\"] = google.colab.output.setActiveOutputArea(window[\"e54284c6-9d8d-11ec-a544-0242ac1c0002\"]);\n",
              "//# sourceURL=js_925ffb52fb"
            ],
            "text/plain": [
              "<IPython.core.display.Javascript object>"
            ]
          },
          "metadata": {}
        },
        {
          "output_type": "display_data",
          "data": {
            "application/javascript": [
              "window[\"e57eade8-9d8d-11ec-a544-0242ac1c0002\"] = google.colab.output.getActiveOutputArea();\n",
              "//# sourceURL=js_f11d516d6e"
            ],
            "text/plain": [
              "<IPython.core.display.Javascript object>"
            ]
          },
          "metadata": {}
        },
        {
          "output_type": "display_data",
          "data": {
            "application/javascript": [
              "window[\"e57f1bb6-9d8d-11ec-a544-0242ac1c0002\"] = document.querySelector(\"#id34-0-0\");\n",
              "//# sourceURL=js_498c66c0a4"
            ],
            "text/plain": [
              "<IPython.core.display.Javascript object>"
            ]
          },
          "metadata": {}
        },
        {
          "output_type": "display_data",
          "data": {
            "application/javascript": [
              "window[\"e57f9712-9d8d-11ec-a544-0242ac1c0002\"] = google.colab.output.setActiveOutputArea(window[\"e57f1bb6-9d8d-11ec-a544-0242ac1c0002\"]);\n",
              "//# sourceURL=js_ff04c06701"
            ],
            "text/plain": [
              "<IPython.core.display.Javascript object>"
            ]
          },
          "metadata": {}
        },
        {
          "output_type": "display_data",
          "data": {
            "application/javascript": [
              "window[\"e5993b5e-9d8d-11ec-a544-0242ac1c0002\"] = google.colab.output.setActiveOutputArea(window[\"e57eade8-9d8d-11ec-a544-0242ac1c0002\"]);\n",
              "//# sourceURL=js_d43d49c5b2"
            ],
            "text/plain": [
              "<IPython.core.display.Javascript object>"
            ]
          },
          "metadata": {}
        },
        {
          "output_type": "display_data",
          "data": {
            "application/javascript": [
              "window[\"e5ba5460-9d8d-11ec-a544-0242ac1c0002\"] = google.colab.output.getActiveOutputArea();\n",
              "//# sourceURL=js_d86059a6c6"
            ],
            "text/plain": [
              "<IPython.core.display.Javascript object>"
            ]
          },
          "metadata": {}
        },
        {
          "output_type": "display_data",
          "data": {
            "application/javascript": [
              "window[\"e5badb4c-9d8d-11ec-a544-0242ac1c0002\"] = document.querySelector(\"#id34-0-0\");\n",
              "//# sourceURL=js_4404f5380c"
            ],
            "text/plain": [
              "<IPython.core.display.Javascript object>"
            ]
          },
          "metadata": {}
        },
        {
          "output_type": "display_data",
          "data": {
            "application/javascript": [
              "window[\"e5bb6346-9d8d-11ec-a544-0242ac1c0002\"] = google.colab.output.setActiveOutputArea(window[\"e5badb4c-9d8d-11ec-a544-0242ac1c0002\"]);\n",
              "//# sourceURL=js_57df3e7658"
            ],
            "text/plain": [
              "<IPython.core.display.Javascript object>"
            ]
          },
          "metadata": {}
        },
        {
          "output_type": "display_data",
          "data": {
            "application/javascript": [
              "window[\"e5d3f726-9d8d-11ec-a544-0242ac1c0002\"] = google.colab.output.setActiveOutputArea(window[\"e5ba5460-9d8d-11ec-a544-0242ac1c0002\"]);\n",
              "//# sourceURL=js_fd2870a53c"
            ],
            "text/plain": [
              "<IPython.core.display.Javascript object>"
            ]
          },
          "metadata": {}
        },
        {
          "output_type": "display_data",
          "data": {
            "application/javascript": [
              "window[\"e5f4bfb0-9d8d-11ec-a544-0242ac1c0002\"] = google.colab.output.getActiveOutputArea();\n",
              "//# sourceURL=js_8d77cd81e4"
            ],
            "text/plain": [
              "<IPython.core.display.Javascript object>"
            ]
          },
          "metadata": {}
        },
        {
          "output_type": "display_data",
          "data": {
            "application/javascript": [
              "window[\"e5f51f3c-9d8d-11ec-a544-0242ac1c0002\"] = document.querySelector(\"#id34-0-0\");\n",
              "//# sourceURL=js_62ac6dda59"
            ],
            "text/plain": [
              "<IPython.core.display.Javascript object>"
            ]
          },
          "metadata": {}
        },
        {
          "output_type": "display_data",
          "data": {
            "application/javascript": [
              "window[\"e5f5a07e-9d8d-11ec-a544-0242ac1c0002\"] = google.colab.output.setActiveOutputArea(window[\"e5f51f3c-9d8d-11ec-a544-0242ac1c0002\"]);\n",
              "//# sourceURL=js_4c33828727"
            ],
            "text/plain": [
              "<IPython.core.display.Javascript object>"
            ]
          },
          "metadata": {}
        },
        {
          "output_type": "display_data",
          "data": {
            "application/javascript": [
              "window[\"e60ee08e-9d8d-11ec-a544-0242ac1c0002\"] = google.colab.output.setActiveOutputArea(window[\"e5f4bfb0-9d8d-11ec-a544-0242ac1c0002\"]);\n",
              "//# sourceURL=js_93421abccf"
            ],
            "text/plain": [
              "<IPython.core.display.Javascript object>"
            ]
          },
          "metadata": {}
        },
        {
          "output_type": "display_data",
          "data": {
            "application/javascript": [
              "window[\"e62f7bb4-9d8d-11ec-a544-0242ac1c0002\"] = google.colab.output.getActiveOutputArea();\n",
              "//# sourceURL=js_91eadadfe2"
            ],
            "text/plain": [
              "<IPython.core.display.Javascript object>"
            ]
          },
          "metadata": {}
        },
        {
          "output_type": "display_data",
          "data": {
            "application/javascript": [
              "window[\"e63043e6-9d8d-11ec-a544-0242ac1c0002\"] = document.querySelector(\"#id34-0-0\");\n",
              "//# sourceURL=js_819cf61d3b"
            ],
            "text/plain": [
              "<IPython.core.display.Javascript object>"
            ]
          },
          "metadata": {}
        },
        {
          "output_type": "display_data",
          "data": {
            "application/javascript": [
              "window[\"e630a516-9d8d-11ec-a544-0242ac1c0002\"] = google.colab.output.setActiveOutputArea(window[\"e63043e6-9d8d-11ec-a544-0242ac1c0002\"]);\n",
              "//# sourceURL=js_e57e53e074"
            ],
            "text/plain": [
              "<IPython.core.display.Javascript object>"
            ]
          },
          "metadata": {}
        },
        {
          "output_type": "display_data",
          "data": {
            "application/javascript": [
              "window[\"e64a8706-9d8d-11ec-a544-0242ac1c0002\"] = google.colab.output.setActiveOutputArea(window[\"e62f7bb4-9d8d-11ec-a544-0242ac1c0002\"]);\n",
              "//# sourceURL=js_27ec6e2089"
            ],
            "text/plain": [
              "<IPython.core.display.Javascript object>"
            ]
          },
          "metadata": {}
        },
        {
          "output_type": "display_data",
          "data": {
            "application/javascript": [
              "window[\"e66b9568-9d8d-11ec-a544-0242ac1c0002\"] = google.colab.output.getActiveOutputArea();\n",
              "//# sourceURL=js_87c147a114"
            ],
            "text/plain": [
              "<IPython.core.display.Javascript object>"
            ]
          },
          "metadata": {}
        },
        {
          "output_type": "display_data",
          "data": {
            "application/javascript": [
              "window[\"e66bf170-9d8d-11ec-a544-0242ac1c0002\"] = document.querySelector(\"#id34-0-0\");\n",
              "//# sourceURL=js_8099c83501"
            ],
            "text/plain": [
              "<IPython.core.display.Javascript object>"
            ]
          },
          "metadata": {}
        },
        {
          "output_type": "display_data",
          "data": {
            "application/javascript": [
              "window[\"e66c3ee6-9d8d-11ec-a544-0242ac1c0002\"] = google.colab.output.setActiveOutputArea(window[\"e66bf170-9d8d-11ec-a544-0242ac1c0002\"]);\n",
              "//# sourceURL=js_06ef41cb17"
            ],
            "text/plain": [
              "<IPython.core.display.Javascript object>"
            ]
          },
          "metadata": {}
        },
        {
          "output_type": "display_data",
          "data": {
            "application/javascript": [
              "window[\"e6936ec6-9d8d-11ec-a544-0242ac1c0002\"] = google.colab.output.setActiveOutputArea(window[\"e66b9568-9d8d-11ec-a544-0242ac1c0002\"]);\n",
              "//# sourceURL=js_8ba833014d"
            ],
            "text/plain": [
              "<IPython.core.display.Javascript object>"
            ]
          },
          "metadata": {}
        },
        {
          "output_type": "display_data",
          "data": {
            "application/javascript": [
              "window[\"e6b407ee-9d8d-11ec-a544-0242ac1c0002\"] = google.colab.output.getActiveOutputArea();\n",
              "//# sourceURL=js_439e52844e"
            ],
            "text/plain": [
              "<IPython.core.display.Javascript object>"
            ]
          },
          "metadata": {}
        },
        {
          "output_type": "display_data",
          "data": {
            "application/javascript": [
              "window[\"e6b47c38-9d8d-11ec-a544-0242ac1c0002\"] = document.querySelector(\"#id34-0-0\");\n",
              "//# sourceURL=js_c5ac861f93"
            ],
            "text/plain": [
              "<IPython.core.display.Javascript object>"
            ]
          },
          "metadata": {}
        },
        {
          "output_type": "display_data",
          "data": {
            "application/javascript": [
              "window[\"e6b4fa82-9d8d-11ec-a544-0242ac1c0002\"] = google.colab.output.setActiveOutputArea(window[\"e6b47c38-9d8d-11ec-a544-0242ac1c0002\"]);\n",
              "//# sourceURL=js_65f54390ef"
            ],
            "text/plain": [
              "<IPython.core.display.Javascript object>"
            ]
          },
          "metadata": {}
        },
        {
          "output_type": "display_data",
          "data": {
            "application/javascript": [
              "window[\"e6cf62d2-9d8d-11ec-a544-0242ac1c0002\"] = google.colab.output.setActiveOutputArea(window[\"e6b407ee-9d8d-11ec-a544-0242ac1c0002\"]);\n",
              "//# sourceURL=js_1da318cd17"
            ],
            "text/plain": [
              "<IPython.core.display.Javascript object>"
            ]
          },
          "metadata": {}
        },
        {
          "output_type": "display_data",
          "data": {
            "application/javascript": [
              "window[\"e6f02b66-9d8d-11ec-a544-0242ac1c0002\"] = google.colab.output.getActiveOutputArea();\n",
              "//# sourceURL=js_d21eccb7a5"
            ],
            "text/plain": [
              "<IPython.core.display.Javascript object>"
            ]
          },
          "metadata": {}
        },
        {
          "output_type": "display_data",
          "data": {
            "application/javascript": [
              "window[\"e6f09966-9d8d-11ec-a544-0242ac1c0002\"] = document.querySelector(\"#id34-0-0\");\n",
              "//# sourceURL=js_811e3b297f"
            ],
            "text/plain": [
              "<IPython.core.display.Javascript object>"
            ]
          },
          "metadata": {}
        },
        {
          "output_type": "display_data",
          "data": {
            "application/javascript": [
              "window[\"e6f10504-9d8d-11ec-a544-0242ac1c0002\"] = google.colab.output.setActiveOutputArea(window[\"e6f09966-9d8d-11ec-a544-0242ac1c0002\"]);\n",
              "//# sourceURL=js_d8bbfe4283"
            ],
            "text/plain": [
              "<IPython.core.display.Javascript object>"
            ]
          },
          "metadata": {}
        },
        {
          "output_type": "display_data",
          "data": {
            "application/javascript": [
              "window[\"e70a7e94-9d8d-11ec-a544-0242ac1c0002\"] = google.colab.output.setActiveOutputArea(window[\"e6f02b66-9d8d-11ec-a544-0242ac1c0002\"]);\n",
              "//# sourceURL=js_64566ab7fe"
            ],
            "text/plain": [
              "<IPython.core.display.Javascript object>"
            ]
          },
          "metadata": {}
        },
        {
          "output_type": "display_data",
          "data": {
            "application/javascript": [
              "window[\"e72b6406-9d8d-11ec-a544-0242ac1c0002\"] = google.colab.output.getActiveOutputArea();\n",
              "//# sourceURL=js_e070f578ff"
            ],
            "text/plain": [
              "<IPython.core.display.Javascript object>"
            ]
          },
          "metadata": {}
        },
        {
          "output_type": "display_data",
          "data": {
            "application/javascript": [
              "window[\"e72c1cd4-9d8d-11ec-a544-0242ac1c0002\"] = document.querySelector(\"#id34-0-0\");\n",
              "//# sourceURL=js_7f38b93cc6"
            ],
            "text/plain": [
              "<IPython.core.display.Javascript object>"
            ]
          },
          "metadata": {}
        },
        {
          "output_type": "display_data",
          "data": {
            "application/javascript": [
              "window[\"e72c7760-9d8d-11ec-a544-0242ac1c0002\"] = google.colab.output.setActiveOutputArea(window[\"e72c1cd4-9d8d-11ec-a544-0242ac1c0002\"]);\n",
              "//# sourceURL=js_c2097de09b"
            ],
            "text/plain": [
              "<IPython.core.display.Javascript object>"
            ]
          },
          "metadata": {}
        },
        {
          "output_type": "display_data",
          "data": {
            "application/javascript": [
              "window[\"e7447e78-9d8d-11ec-a544-0242ac1c0002\"] = google.colab.output.setActiveOutputArea(window[\"e72b6406-9d8d-11ec-a544-0242ac1c0002\"]);\n",
              "//# sourceURL=js_8089d08c15"
            ],
            "text/plain": [
              "<IPython.core.display.Javascript object>"
            ]
          },
          "metadata": {}
        },
        {
          "output_type": "display_data",
          "data": {
            "application/javascript": [
              "window[\"e7679e3a-9d8d-11ec-a544-0242ac1c0002\"] = google.colab.output.getActiveOutputArea();\n",
              "//# sourceURL=js_32f80f6add"
            ],
            "text/plain": [
              "<IPython.core.display.Javascript object>"
            ]
          },
          "metadata": {}
        },
        {
          "output_type": "display_data",
          "data": {
            "application/javascript": [
              "window[\"e767f8da-9d8d-11ec-a544-0242ac1c0002\"] = document.querySelector(\"#id34-0-0\");\n",
              "//# sourceURL=js_e90b9bfcf1"
            ],
            "text/plain": [
              "<IPython.core.display.Javascript object>"
            ]
          },
          "metadata": {}
        },
        {
          "output_type": "display_data",
          "data": {
            "application/javascript": [
              "window[\"e7686d60-9d8d-11ec-a544-0242ac1c0002\"] = google.colab.output.setActiveOutputArea(window[\"e767f8da-9d8d-11ec-a544-0242ac1c0002\"]);\n",
              "//# sourceURL=js_45f8ed7dc4"
            ],
            "text/plain": [
              "<IPython.core.display.Javascript object>"
            ]
          },
          "metadata": {}
        },
        {
          "output_type": "display_data",
          "data": {
            "application/javascript": [
              "window[\"e7841254-9d8d-11ec-a544-0242ac1c0002\"] = google.colab.output.setActiveOutputArea(window[\"e7679e3a-9d8d-11ec-a544-0242ac1c0002\"]);\n",
              "//# sourceURL=js_28398879aa"
            ],
            "text/plain": [
              "<IPython.core.display.Javascript object>"
            ]
          },
          "metadata": {}
        },
        {
          "output_type": "display_data",
          "data": {
            "application/javascript": [
              "window[\"e7a4a9d8-9d8d-11ec-a544-0242ac1c0002\"] = google.colab.output.getActiveOutputArea();\n",
              "//# sourceURL=js_f303d8def9"
            ],
            "text/plain": [
              "<IPython.core.display.Javascript object>"
            ]
          },
          "metadata": {}
        },
        {
          "output_type": "display_data",
          "data": {
            "application/javascript": [
              "window[\"e7a56828-9d8d-11ec-a544-0242ac1c0002\"] = document.querySelector(\"#id34-0-0\");\n",
              "//# sourceURL=js_c3e58370bb"
            ],
            "text/plain": [
              "<IPython.core.display.Javascript object>"
            ]
          },
          "metadata": {}
        },
        {
          "output_type": "display_data",
          "data": {
            "application/javascript": [
              "window[\"e7a5c674-9d8d-11ec-a544-0242ac1c0002\"] = google.colab.output.setActiveOutputArea(window[\"e7a56828-9d8d-11ec-a544-0242ac1c0002\"]);\n",
              "//# sourceURL=js_7b9bb80d1f"
            ],
            "text/plain": [
              "<IPython.core.display.Javascript object>"
            ]
          },
          "metadata": {}
        },
        {
          "output_type": "display_data",
          "data": {
            "application/javascript": [
              "window[\"e7be692c-9d8d-11ec-a544-0242ac1c0002\"] = google.colab.output.setActiveOutputArea(window[\"e7a4a9d8-9d8d-11ec-a544-0242ac1c0002\"]);\n",
              "//# sourceURL=js_396085812c"
            ],
            "text/plain": [
              "<IPython.core.display.Javascript object>"
            ]
          },
          "metadata": {}
        },
        {
          "output_type": "display_data",
          "data": {
            "application/javascript": [
              "window[\"e7deec74-9d8d-11ec-a544-0242ac1c0002\"] = google.colab.output.getActiveOutputArea();\n",
              "//# sourceURL=js_7a29545d2a"
            ],
            "text/plain": [
              "<IPython.core.display.Javascript object>"
            ]
          },
          "metadata": {}
        },
        {
          "output_type": "display_data",
          "data": {
            "application/javascript": [
              "window[\"e7df1fbe-9d8d-11ec-a544-0242ac1c0002\"] = document.querySelector(\"#id34-0-0\");\n",
              "//# sourceURL=js_afe5d45832"
            ],
            "text/plain": [
              "<IPython.core.display.Javascript object>"
            ]
          },
          "metadata": {}
        },
        {
          "output_type": "display_data",
          "data": {
            "application/javascript": [
              "window[\"e7dfad6c-9d8d-11ec-a544-0242ac1c0002\"] = google.colab.output.setActiveOutputArea(window[\"e7df1fbe-9d8d-11ec-a544-0242ac1c0002\"]);\n",
              "//# sourceURL=js_5347ffe30d"
            ],
            "text/plain": [
              "<IPython.core.display.Javascript object>"
            ]
          },
          "metadata": {}
        },
        {
          "output_type": "display_data",
          "data": {
            "application/javascript": [
              "window[\"e7f93bf6-9d8d-11ec-a544-0242ac1c0002\"] = google.colab.output.setActiveOutputArea(window[\"e7deec74-9d8d-11ec-a544-0242ac1c0002\"]);\n",
              "//# sourceURL=js_166f2c479d"
            ],
            "text/plain": [
              "<IPython.core.display.Javascript object>"
            ]
          },
          "metadata": {}
        },
        {
          "output_type": "display_data",
          "data": {
            "application/javascript": [
              "window[\"e81aa94e-9d8d-11ec-a544-0242ac1c0002\"] = google.colab.output.getActiveOutputArea();\n",
              "//# sourceURL=js_351c394f34"
            ],
            "text/plain": [
              "<IPython.core.display.Javascript object>"
            ]
          },
          "metadata": {}
        },
        {
          "output_type": "display_data",
          "data": {
            "application/javascript": [
              "window[\"e81b05f6-9d8d-11ec-a544-0242ac1c0002\"] = document.querySelector(\"#id34-0-0\");\n",
              "//# sourceURL=js_012788749e"
            ],
            "text/plain": [
              "<IPython.core.display.Javascript object>"
            ]
          },
          "metadata": {}
        },
        {
          "output_type": "display_data",
          "data": {
            "application/javascript": [
              "window[\"e81b6e4c-9d8d-11ec-a544-0242ac1c0002\"] = google.colab.output.setActiveOutputArea(window[\"e81b05f6-9d8d-11ec-a544-0242ac1c0002\"]);\n",
              "//# sourceURL=js_d5c1ce5571"
            ],
            "text/plain": [
              "<IPython.core.display.Javascript object>"
            ]
          },
          "metadata": {}
        },
        {
          "output_type": "display_data",
          "data": {
            "application/javascript": [
              "window[\"e83496ce-9d8d-11ec-a544-0242ac1c0002\"] = google.colab.output.setActiveOutputArea(window[\"e81aa94e-9d8d-11ec-a544-0242ac1c0002\"]);\n",
              "//# sourceURL=js_9cea94a5c1"
            ],
            "text/plain": [
              "<IPython.core.display.Javascript object>"
            ]
          },
          "metadata": {}
        },
        {
          "output_type": "display_data",
          "data": {
            "application/javascript": [
              "window[\"e8553a5a-9d8d-11ec-a544-0242ac1c0002\"] = google.colab.output.getActiveOutputArea();\n",
              "//# sourceURL=js_1e599fd1d3"
            ],
            "text/plain": [
              "<IPython.core.display.Javascript object>"
            ]
          },
          "metadata": {}
        },
        {
          "output_type": "display_data",
          "data": {
            "application/javascript": [
              "window[\"e8559aa4-9d8d-11ec-a544-0242ac1c0002\"] = document.querySelector(\"#id34-0-0\");\n",
              "//# sourceURL=js_a5ae8100ac"
            ],
            "text/plain": [
              "<IPython.core.display.Javascript object>"
            ]
          },
          "metadata": {}
        },
        {
          "output_type": "display_data",
          "data": {
            "application/javascript": [
              "window[\"e8562370-9d8d-11ec-a544-0242ac1c0002\"] = google.colab.output.setActiveOutputArea(window[\"e8559aa4-9d8d-11ec-a544-0242ac1c0002\"]);\n",
              "//# sourceURL=js_4126268a23"
            ],
            "text/plain": [
              "<IPython.core.display.Javascript object>"
            ]
          },
          "metadata": {}
        },
        {
          "output_type": "display_data",
          "data": {
            "application/javascript": [
              "window[\"e86f893c-9d8d-11ec-a544-0242ac1c0002\"] = google.colab.output.setActiveOutputArea(window[\"e8553a5a-9d8d-11ec-a544-0242ac1c0002\"]);\n",
              "//# sourceURL=js_4c3c39263e"
            ],
            "text/plain": [
              "<IPython.core.display.Javascript object>"
            ]
          },
          "metadata": {}
        },
        {
          "output_type": "display_data",
          "data": {
            "application/javascript": [
              "window[\"e890ae96-9d8d-11ec-a544-0242ac1c0002\"] = google.colab.output.getActiveOutputArea();\n",
              "//# sourceURL=js_98483c44a4"
            ],
            "text/plain": [
              "<IPython.core.display.Javascript object>"
            ]
          },
          "metadata": {}
        },
        {
          "output_type": "display_data",
          "data": {
            "application/javascript": [
              "window[\"e8914f04-9d8d-11ec-a544-0242ac1c0002\"] = document.querySelector(\"#id34-0-0\");\n",
              "//# sourceURL=js_2700254965"
            ],
            "text/plain": [
              "<IPython.core.display.Javascript object>"
            ]
          },
          "metadata": {}
        },
        {
          "output_type": "display_data",
          "data": {
            "application/javascript": [
              "window[\"e892070a-9d8d-11ec-a544-0242ac1c0002\"] = google.colab.output.setActiveOutputArea(window[\"e8914f04-9d8d-11ec-a544-0242ac1c0002\"]);\n",
              "//# sourceURL=js_97d742d3cc"
            ],
            "text/plain": [
              "<IPython.core.display.Javascript object>"
            ]
          },
          "metadata": {}
        },
        {
          "output_type": "display_data",
          "data": {
            "application/javascript": [
              "window[\"e8ac603c-9d8d-11ec-a544-0242ac1c0002\"] = google.colab.output.setActiveOutputArea(window[\"e890ae96-9d8d-11ec-a544-0242ac1c0002\"]);\n",
              "//# sourceURL=js_2809174351"
            ],
            "text/plain": [
              "<IPython.core.display.Javascript object>"
            ]
          },
          "metadata": {}
        },
        {
          "output_type": "display_data",
          "data": {
            "application/javascript": [
              "window[\"e8cdc0b0-9d8d-11ec-a544-0242ac1c0002\"] = google.colab.output.getActiveOutputArea();\n",
              "//# sourceURL=js_e66f8f0eba"
            ],
            "text/plain": [
              "<IPython.core.display.Javascript object>"
            ]
          },
          "metadata": {}
        },
        {
          "output_type": "display_data",
          "data": {
            "application/javascript": [
              "window[\"e8ce04f8-9d8d-11ec-a544-0242ac1c0002\"] = document.querySelector(\"#id34-0-0\");\n",
              "//# sourceURL=js_c105331925"
            ],
            "text/plain": [
              "<IPython.core.display.Javascript object>"
            ]
          },
          "metadata": {}
        },
        {
          "output_type": "display_data",
          "data": {
            "application/javascript": [
              "window[\"e8ce5b24-9d8d-11ec-a544-0242ac1c0002\"] = google.colab.output.setActiveOutputArea(window[\"e8ce04f8-9d8d-11ec-a544-0242ac1c0002\"]);\n",
              "//# sourceURL=js_a1fd1dfc85"
            ],
            "text/plain": [
              "<IPython.core.display.Javascript object>"
            ]
          },
          "metadata": {}
        },
        {
          "output_type": "display_data",
          "data": {
            "application/javascript": [
              "window[\"e8e81834-9d8d-11ec-a544-0242ac1c0002\"] = google.colab.output.setActiveOutputArea(window[\"e8cdc0b0-9d8d-11ec-a544-0242ac1c0002\"]);\n",
              "//# sourceURL=js_fe4bc15844"
            ],
            "text/plain": [
              "<IPython.core.display.Javascript object>"
            ]
          },
          "metadata": {}
        },
        {
          "output_type": "display_data",
          "data": {
            "application/javascript": [
              "window[\"e90a2258-9d8d-11ec-a544-0242ac1c0002\"] = google.colab.output.getActiveOutputArea();\n",
              "//# sourceURL=js_04f647a770"
            ],
            "text/plain": [
              "<IPython.core.display.Javascript object>"
            ]
          },
          "metadata": {}
        },
        {
          "output_type": "display_data",
          "data": {
            "application/javascript": [
              "window[\"e90abc7c-9d8d-11ec-a544-0242ac1c0002\"] = document.querySelector(\"#id34-0-0\");\n",
              "//# sourceURL=js_c479b1d446"
            ],
            "text/plain": [
              "<IPython.core.display.Javascript object>"
            ]
          },
          "metadata": {}
        },
        {
          "output_type": "display_data",
          "data": {
            "application/javascript": [
              "window[\"e90b0f9c-9d8d-11ec-a544-0242ac1c0002\"] = google.colab.output.setActiveOutputArea(window[\"e90abc7c-9d8d-11ec-a544-0242ac1c0002\"]);\n",
              "//# sourceURL=js_24d5475d81"
            ],
            "text/plain": [
              "<IPython.core.display.Javascript object>"
            ]
          },
          "metadata": {}
        },
        {
          "output_type": "display_data",
          "data": {
            "application/javascript": [
              "window[\"e9250aaa-9d8d-11ec-a544-0242ac1c0002\"] = google.colab.output.setActiveOutputArea(window[\"e90a2258-9d8d-11ec-a544-0242ac1c0002\"]);\n",
              "//# sourceURL=js_f44730f221"
            ],
            "text/plain": [
              "<IPython.core.display.Javascript object>"
            ]
          },
          "metadata": {}
        },
        {
          "output_type": "display_data",
          "data": {
            "application/javascript": [
              "window[\"e945ba02-9d8d-11ec-a544-0242ac1c0002\"] = google.colab.output.getActiveOutputArea();\n",
              "//# sourceURL=js_b34f57fe38"
            ],
            "text/plain": [
              "<IPython.core.display.Javascript object>"
            ]
          },
          "metadata": {}
        },
        {
          "output_type": "display_data",
          "data": {
            "application/javascript": [
              "window[\"e9462582-9d8d-11ec-a544-0242ac1c0002\"] = document.querySelector(\"#id34-0-0\");\n",
              "//# sourceURL=js_4cc12f9733"
            ],
            "text/plain": [
              "<IPython.core.display.Javascript object>"
            ]
          },
          "metadata": {}
        },
        {
          "output_type": "display_data",
          "data": {
            "application/javascript": [
              "window[\"e947b24e-9d8d-11ec-a544-0242ac1c0002\"] = google.colab.output.setActiveOutputArea(window[\"e9462582-9d8d-11ec-a544-0242ac1c0002\"]);\n",
              "//# sourceURL=js_fb33567da7"
            ],
            "text/plain": [
              "<IPython.core.display.Javascript object>"
            ]
          },
          "metadata": {}
        },
        {
          "output_type": "display_data",
          "data": {
            "application/javascript": [
              "window[\"e96158d4-9d8d-11ec-a544-0242ac1c0002\"] = google.colab.output.setActiveOutputArea(window[\"e945ba02-9d8d-11ec-a544-0242ac1c0002\"]);\n",
              "//# sourceURL=js_98782980b1"
            ],
            "text/plain": [
              "<IPython.core.display.Javascript object>"
            ]
          },
          "metadata": {}
        },
        {
          "output_type": "display_data",
          "data": {
            "application/javascript": [
              "window[\"e9826fb0-9d8d-11ec-a544-0242ac1c0002\"] = google.colab.output.getActiveOutputArea();\n",
              "//# sourceURL=js_fe448aa523"
            ],
            "text/plain": [
              "<IPython.core.display.Javascript object>"
            ]
          },
          "metadata": {}
        },
        {
          "output_type": "display_data",
          "data": {
            "application/javascript": [
              "window[\"e982c4ba-9d8d-11ec-a544-0242ac1c0002\"] = document.querySelector(\"#id34-0-0\");\n",
              "//# sourceURL=js_8e964a56e3"
            ],
            "text/plain": [
              "<IPython.core.display.Javascript object>"
            ]
          },
          "metadata": {}
        },
        {
          "output_type": "display_data",
          "data": {
            "application/javascript": [
              "window[\"e9831e42-9d8d-11ec-a544-0242ac1c0002\"] = google.colab.output.setActiveOutputArea(window[\"e982c4ba-9d8d-11ec-a544-0242ac1c0002\"]);\n",
              "//# sourceURL=js_2289a2ce7c"
            ],
            "text/plain": [
              "<IPython.core.display.Javascript object>"
            ]
          },
          "metadata": {}
        },
        {
          "output_type": "display_data",
          "data": {
            "application/javascript": [
              "window[\"e99d9dd0-9d8d-11ec-a544-0242ac1c0002\"] = google.colab.output.setActiveOutputArea(window[\"e9826fb0-9d8d-11ec-a544-0242ac1c0002\"]);\n",
              "//# sourceURL=js_cb4859f812"
            ],
            "text/plain": [
              "<IPython.core.display.Javascript object>"
            ]
          },
          "metadata": {}
        },
        {
          "output_type": "display_data",
          "data": {
            "application/javascript": [
              "window[\"e9be0afc-9d8d-11ec-a544-0242ac1c0002\"] = google.colab.output.getActiveOutputArea();\n",
              "//# sourceURL=js_653d1482d1"
            ],
            "text/plain": [
              "<IPython.core.display.Javascript object>"
            ]
          },
          "metadata": {}
        },
        {
          "output_type": "display_data",
          "data": {
            "application/javascript": [
              "window[\"e9be6c68-9d8d-11ec-a544-0242ac1c0002\"] = document.querySelector(\"#id34-0-0\");\n",
              "//# sourceURL=js_aa3585d4d9"
            ],
            "text/plain": [
              "<IPython.core.display.Javascript object>"
            ]
          },
          "metadata": {}
        },
        {
          "output_type": "display_data",
          "data": {
            "application/javascript": [
              "window[\"e9bf27c0-9d8d-11ec-a544-0242ac1c0002\"] = google.colab.output.setActiveOutputArea(window[\"e9be6c68-9d8d-11ec-a544-0242ac1c0002\"]);\n",
              "//# sourceURL=js_9ff447d9a0"
            ],
            "text/plain": [
              "<IPython.core.display.Javascript object>"
            ]
          },
          "metadata": {}
        },
        {
          "output_type": "display_data",
          "data": {
            "application/javascript": [
              "window[\"e9e59e64-9d8d-11ec-a544-0242ac1c0002\"] = google.colab.output.setActiveOutputArea(window[\"e9be0afc-9d8d-11ec-a544-0242ac1c0002\"]);\n",
              "//# sourceURL=js_5197f3b3bf"
            ],
            "text/plain": [
              "<IPython.core.display.Javascript object>"
            ]
          },
          "metadata": {}
        },
        {
          "output_type": "display_data",
          "data": {
            "application/javascript": [
              "window[\"ea0604ba-9d8d-11ec-a544-0242ac1c0002\"] = google.colab.output.getActiveOutputArea();\n",
              "//# sourceURL=js_3b51fd6137"
            ],
            "text/plain": [
              "<IPython.core.display.Javascript object>"
            ]
          },
          "metadata": {}
        },
        {
          "output_type": "display_data",
          "data": {
            "application/javascript": [
              "window[\"ea065e42-9d8d-11ec-a544-0242ac1c0002\"] = document.querySelector(\"#id34-0-0\");\n",
              "//# sourceURL=js_01e2ffa7ba"
            ],
            "text/plain": [
              "<IPython.core.display.Javascript object>"
            ]
          },
          "metadata": {}
        },
        {
          "output_type": "display_data",
          "data": {
            "application/javascript": [
              "window[\"ea074618-9d8d-11ec-a544-0242ac1c0002\"] = google.colab.output.setActiveOutputArea(window[\"ea065e42-9d8d-11ec-a544-0242ac1c0002\"]);\n",
              "//# sourceURL=js_355c3ba81b"
            ],
            "text/plain": [
              "<IPython.core.display.Javascript object>"
            ]
          },
          "metadata": {}
        },
        {
          "output_type": "display_data",
          "data": {
            "application/javascript": [
              "window[\"ea208fd8-9d8d-11ec-a544-0242ac1c0002\"] = google.colab.output.setActiveOutputArea(window[\"ea0604ba-9d8d-11ec-a544-0242ac1c0002\"]);\n",
              "//# sourceURL=js_788851fc19"
            ],
            "text/plain": [
              "<IPython.core.display.Javascript object>"
            ]
          },
          "metadata": {}
        },
        {
          "output_type": "display_data",
          "data": {
            "application/javascript": [
              "window[\"ea40fdcc-9d8d-11ec-a544-0242ac1c0002\"] = google.colab.output.getActiveOutputArea();\n",
              "//# sourceURL=js_a1f7e4bbfd"
            ],
            "text/plain": [
              "<IPython.core.display.Javascript object>"
            ]
          },
          "metadata": {}
        },
        {
          "output_type": "display_data",
          "data": {
            "application/javascript": [
              "window[\"ea413ca6-9d8d-11ec-a544-0242ac1c0002\"] = document.querySelector(\"#id34-0-0\");\n",
              "//# sourceURL=js_c667ca76e3"
            ],
            "text/plain": [
              "<IPython.core.display.Javascript object>"
            ]
          },
          "metadata": {}
        },
        {
          "output_type": "display_data",
          "data": {
            "application/javascript": [
              "window[\"ea4174a0-9d8d-11ec-a544-0242ac1c0002\"] = google.colab.output.setActiveOutputArea(window[\"ea413ca6-9d8d-11ec-a544-0242ac1c0002\"]);\n",
              "//# sourceURL=js_72e62f0453"
            ],
            "text/plain": [
              "<IPython.core.display.Javascript object>"
            ]
          },
          "metadata": {}
        },
        {
          "output_type": "display_data",
          "data": {
            "application/javascript": [
              "window[\"ea5ad68e-9d8d-11ec-a544-0242ac1c0002\"] = google.colab.output.setActiveOutputArea(window[\"ea40fdcc-9d8d-11ec-a544-0242ac1c0002\"]);\n",
              "//# sourceURL=js_f656544c2d"
            ],
            "text/plain": [
              "<IPython.core.display.Javascript object>"
            ]
          },
          "metadata": {}
        },
        {
          "output_type": "display_data",
          "data": {
            "application/javascript": [
              "window[\"ea7b4766-9d8d-11ec-a544-0242ac1c0002\"] = google.colab.output.getActiveOutputArea();\n",
              "//# sourceURL=js_774a19cf71"
            ],
            "text/plain": [
              "<IPython.core.display.Javascript object>"
            ]
          },
          "metadata": {}
        },
        {
          "output_type": "display_data",
          "data": {
            "application/javascript": [
              "window[\"ea7ba30a-9d8d-11ec-a544-0242ac1c0002\"] = document.querySelector(\"#id34-0-0\");\n",
              "//# sourceURL=js_ab9c683a0f"
            ],
            "text/plain": [
              "<IPython.core.display.Javascript object>"
            ]
          },
          "metadata": {}
        },
        {
          "output_type": "display_data",
          "data": {
            "application/javascript": [
              "window[\"ea7bfc1a-9d8d-11ec-a544-0242ac1c0002\"] = google.colab.output.setActiveOutputArea(window[\"ea7ba30a-9d8d-11ec-a544-0242ac1c0002\"]);\n",
              "//# sourceURL=js_11b5828bd4"
            ],
            "text/plain": [
              "<IPython.core.display.Javascript object>"
            ]
          },
          "metadata": {}
        },
        {
          "output_type": "display_data",
          "data": {
            "application/javascript": [
              "window[\"ea965574-9d8d-11ec-a544-0242ac1c0002\"] = google.colab.output.setActiveOutputArea(window[\"ea7b4766-9d8d-11ec-a544-0242ac1c0002\"]);\n",
              "//# sourceURL=js_59a215c57b"
            ],
            "text/plain": [
              "<IPython.core.display.Javascript object>"
            ]
          },
          "metadata": {}
        },
        {
          "output_type": "display_data",
          "data": {
            "application/javascript": [
              "window[\"eab774c0-9d8d-11ec-a544-0242ac1c0002\"] = google.colab.output.getActiveOutputArea();\n",
              "//# sourceURL=js_f6cda4290f"
            ],
            "text/plain": [
              "<IPython.core.display.Javascript object>"
            ]
          },
          "metadata": {}
        },
        {
          "output_type": "display_data",
          "data": {
            "application/javascript": [
              "window[\"eab7d578-9d8d-11ec-a544-0242ac1c0002\"] = document.querySelector(\"#id34-0-0\");\n",
              "//# sourceURL=js_255e2497a5"
            ],
            "text/plain": [
              "<IPython.core.display.Javascript object>"
            ]
          },
          "metadata": {}
        },
        {
          "output_type": "display_data",
          "data": {
            "application/javascript": [
              "window[\"eab83392-9d8d-11ec-a544-0242ac1c0002\"] = google.colab.output.setActiveOutputArea(window[\"eab7d578-9d8d-11ec-a544-0242ac1c0002\"]);\n",
              "//# sourceURL=js_c2ec0b833d"
            ],
            "text/plain": [
              "<IPython.core.display.Javascript object>"
            ]
          },
          "metadata": {}
        },
        {
          "output_type": "display_data",
          "data": {
            "application/javascript": [
              "window[\"ead32666-9d8d-11ec-a544-0242ac1c0002\"] = google.colab.output.setActiveOutputArea(window[\"eab774c0-9d8d-11ec-a544-0242ac1c0002\"]);\n",
              "//# sourceURL=js_2cd4db9e67"
            ],
            "text/plain": [
              "<IPython.core.display.Javascript object>"
            ]
          },
          "metadata": {}
        },
        {
          "output_type": "display_data",
          "data": {
            "application/javascript": [
              "window[\"eaf3b03e-9d8d-11ec-a544-0242ac1c0002\"] = google.colab.output.getActiveOutputArea();\n",
              "//# sourceURL=js_eeb44d035a"
            ],
            "text/plain": [
              "<IPython.core.display.Javascript object>"
            ]
          },
          "metadata": {}
        },
        {
          "output_type": "display_data",
          "data": {
            "application/javascript": [
              "window[\"eaf414ca-9d8d-11ec-a544-0242ac1c0002\"] = document.querySelector(\"#id34-0-0\");\n",
              "//# sourceURL=js_88e715c0ed"
            ],
            "text/plain": [
              "<IPython.core.display.Javascript object>"
            ]
          },
          "metadata": {}
        },
        {
          "output_type": "display_data",
          "data": {
            "application/javascript": [
              "window[\"eaf47c80-9d8d-11ec-a544-0242ac1c0002\"] = google.colab.output.setActiveOutputArea(window[\"eaf414ca-9d8d-11ec-a544-0242ac1c0002\"]);\n",
              "//# sourceURL=js_2f254c40a7"
            ],
            "text/plain": [
              "<IPython.core.display.Javascript object>"
            ]
          },
          "metadata": {}
        },
        {
          "output_type": "display_data",
          "data": {
            "application/javascript": [
              "window[\"eb0f4a2e-9d8d-11ec-a544-0242ac1c0002\"] = google.colab.output.setActiveOutputArea(window[\"eaf3b03e-9d8d-11ec-a544-0242ac1c0002\"]);\n",
              "//# sourceURL=js_3802d54272"
            ],
            "text/plain": [
              "<IPython.core.display.Javascript object>"
            ]
          },
          "metadata": {}
        },
        {
          "output_type": "display_data",
          "data": {
            "application/javascript": [
              "window[\"eb2ff6e8-9d8d-11ec-a544-0242ac1c0002\"] = google.colab.output.getActiveOutputArea();\n",
              "//# sourceURL=js_829e32ad54"
            ],
            "text/plain": [
              "<IPython.core.display.Javascript object>"
            ]
          },
          "metadata": {}
        },
        {
          "output_type": "display_data",
          "data": {
            "application/javascript": [
              "window[\"eb306718-9d8d-11ec-a544-0242ac1c0002\"] = document.querySelector(\"#id34-0-0\");\n",
              "//# sourceURL=js_9cc58def6f"
            ],
            "text/plain": [
              "<IPython.core.display.Javascript object>"
            ]
          },
          "metadata": {}
        },
        {
          "output_type": "display_data",
          "data": {
            "application/javascript": [
              "window[\"eb30f886-9d8d-11ec-a544-0242ac1c0002\"] = google.colab.output.setActiveOutputArea(window[\"eb306718-9d8d-11ec-a544-0242ac1c0002\"]);\n",
              "//# sourceURL=js_70b747d3d6"
            ],
            "text/plain": [
              "<IPython.core.display.Javascript object>"
            ]
          },
          "metadata": {}
        },
        {
          "output_type": "display_data",
          "data": {
            "application/javascript": [
              "window[\"eb4bf974-9d8d-11ec-a544-0242ac1c0002\"] = google.colab.output.setActiveOutputArea(window[\"eb2ff6e8-9d8d-11ec-a544-0242ac1c0002\"]);\n",
              "//# sourceURL=js_ffacf4fb47"
            ],
            "text/plain": [
              "<IPython.core.display.Javascript object>"
            ]
          },
          "metadata": {}
        },
        {
          "output_type": "display_data",
          "data": {
            "application/javascript": [
              "window[\"eb6ca9b2-9d8d-11ec-a544-0242ac1c0002\"] = google.colab.output.getActiveOutputArea();\n",
              "//# sourceURL=js_e14b334623"
            ],
            "text/plain": [
              "<IPython.core.display.Javascript object>"
            ]
          },
          "metadata": {}
        },
        {
          "output_type": "display_data",
          "data": {
            "application/javascript": [
              "window[\"eb6d60f0-9d8d-11ec-a544-0242ac1c0002\"] = document.querySelector(\"#id34-0-0\");\n",
              "//# sourceURL=js_adf43f6753"
            ],
            "text/plain": [
              "<IPython.core.display.Javascript object>"
            ]
          },
          "metadata": {}
        },
        {
          "output_type": "display_data",
          "data": {
            "application/javascript": [
              "window[\"eb6dd4b8-9d8d-11ec-a544-0242ac1c0002\"] = google.colab.output.setActiveOutputArea(window[\"eb6d60f0-9d8d-11ec-a544-0242ac1c0002\"]);\n",
              "//# sourceURL=js_43081d5e88"
            ],
            "text/plain": [
              "<IPython.core.display.Javascript object>"
            ]
          },
          "metadata": {}
        },
        {
          "output_type": "display_data",
          "data": {
            "application/javascript": [
              "window[\"eb875c4e-9d8d-11ec-a544-0242ac1c0002\"] = google.colab.output.setActiveOutputArea(window[\"eb6ca9b2-9d8d-11ec-a544-0242ac1c0002\"]);\n",
              "//# sourceURL=js_d6fc768828"
            ],
            "text/plain": [
              "<IPython.core.display.Javascript object>"
            ]
          },
          "metadata": {}
        },
        {
          "output_type": "display_data",
          "data": {
            "application/javascript": [
              "window[\"eba81470-9d8d-11ec-a544-0242ac1c0002\"] = google.colab.output.getActiveOutputArea();\n",
              "//# sourceURL=js_b3c2ea8436"
            ],
            "text/plain": [
              "<IPython.core.display.Javascript object>"
            ]
          },
          "metadata": {}
        },
        {
          "output_type": "display_data",
          "data": {
            "application/javascript": [
              "window[\"eba85444-9d8d-11ec-a544-0242ac1c0002\"] = document.querySelector(\"#id34-0-0\");\n",
              "//# sourceURL=js_d7cda4a47c"
            ],
            "text/plain": [
              "<IPython.core.display.Javascript object>"
            ]
          },
          "metadata": {}
        },
        {
          "output_type": "display_data",
          "data": {
            "application/javascript": [
              "window[\"eba8917a-9d8d-11ec-a544-0242ac1c0002\"] = google.colab.output.setActiveOutputArea(window[\"eba85444-9d8d-11ec-a544-0242ac1c0002\"]);\n",
              "//# sourceURL=js_6d0c0d0eca"
            ],
            "text/plain": [
              "<IPython.core.display.Javascript object>"
            ]
          },
          "metadata": {}
        },
        {
          "output_type": "display_data",
          "data": {
            "application/javascript": [
              "window[\"ebc295fc-9d8d-11ec-a544-0242ac1c0002\"] = google.colab.output.setActiveOutputArea(window[\"eba81470-9d8d-11ec-a544-0242ac1c0002\"]);\n",
              "//# sourceURL=js_e70c8cebe1"
            ],
            "text/plain": [
              "<IPython.core.display.Javascript object>"
            ]
          },
          "metadata": {}
        },
        {
          "output_type": "display_data",
          "data": {
            "application/javascript": [
              "window[\"ebe37934-9d8d-11ec-a544-0242ac1c0002\"] = google.colab.output.getActiveOutputArea();\n",
              "//# sourceURL=js_9035c50bbb"
            ],
            "text/plain": [
              "<IPython.core.display.Javascript object>"
            ]
          },
          "metadata": {}
        },
        {
          "output_type": "display_data",
          "data": {
            "application/javascript": [
              "window[\"ebe3b908-9d8d-11ec-a544-0242ac1c0002\"] = document.querySelector(\"#id34-0-0\");\n",
              "//# sourceURL=js_db48895a58"
            ],
            "text/plain": [
              "<IPython.core.display.Javascript object>"
            ]
          },
          "metadata": {}
        },
        {
          "output_type": "display_data",
          "data": {
            "application/javascript": [
              "window[\"ebe3f512-9d8d-11ec-a544-0242ac1c0002\"] = google.colab.output.setActiveOutputArea(window[\"ebe3b908-9d8d-11ec-a544-0242ac1c0002\"]);\n",
              "//# sourceURL=js_db1d956c3e"
            ],
            "text/plain": [
              "<IPython.core.display.Javascript object>"
            ]
          },
          "metadata": {}
        },
        {
          "output_type": "display_data",
          "data": {
            "application/javascript": [
              "window[\"ebfe8aa8-9d8d-11ec-a544-0242ac1c0002\"] = google.colab.output.setActiveOutputArea(window[\"ebe37934-9d8d-11ec-a544-0242ac1c0002\"]);\n",
              "//# sourceURL=js_f99f66b333"
            ],
            "text/plain": [
              "<IPython.core.display.Javascript object>"
            ]
          },
          "metadata": {}
        },
        {
          "output_type": "display_data",
          "data": {
            "application/javascript": [
              "window[\"ec1f13c2-9d8d-11ec-a544-0242ac1c0002\"] = google.colab.output.getActiveOutputArea();\n",
              "//# sourceURL=js_2b60e228c8"
            ],
            "text/plain": [
              "<IPython.core.display.Javascript object>"
            ]
          },
          "metadata": {}
        },
        {
          "output_type": "display_data",
          "data": {
            "application/javascript": [
              "window[\"ec1f4e96-9d8d-11ec-a544-0242ac1c0002\"] = document.querySelector(\"#id34-0-0\");\n",
              "//# sourceURL=js_0847bb923e"
            ],
            "text/plain": [
              "<IPython.core.display.Javascript object>"
            ]
          },
          "metadata": {}
        },
        {
          "output_type": "display_data",
          "data": {
            "application/javascript": [
              "window[\"ec1f90c2-9d8d-11ec-a544-0242ac1c0002\"] = google.colab.output.setActiveOutputArea(window[\"ec1f4e96-9d8d-11ec-a544-0242ac1c0002\"]);\n",
              "//# sourceURL=js_39b43e9aa5"
            ],
            "text/plain": [
              "<IPython.core.display.Javascript object>"
            ]
          },
          "metadata": {}
        },
        {
          "output_type": "display_data",
          "data": {
            "application/javascript": [
              "window[\"ec3ccdea-9d8d-11ec-a544-0242ac1c0002\"] = google.colab.output.setActiveOutputArea(window[\"ec1f13c2-9d8d-11ec-a544-0242ac1c0002\"]);\n",
              "//# sourceURL=js_e647ad7e19"
            ],
            "text/plain": [
              "<IPython.core.display.Javascript object>"
            ]
          },
          "metadata": {}
        },
        {
          "output_type": "display_data",
          "data": {
            "application/javascript": [
              "window[\"ec5d6776-9d8d-11ec-a544-0242ac1c0002\"] = google.colab.output.getActiveOutputArea();\n",
              "//# sourceURL=js_8515dc8115"
            ],
            "text/plain": [
              "<IPython.core.display.Javascript object>"
            ]
          },
          "metadata": {}
        },
        {
          "output_type": "display_data",
          "data": {
            "application/javascript": [
              "window[\"ec5db398-9d8d-11ec-a544-0242ac1c0002\"] = document.querySelector(\"#id34-0-0\");\n",
              "//# sourceURL=js_6022049ed1"
            ],
            "text/plain": [
              "<IPython.core.display.Javascript object>"
            ]
          },
          "metadata": {}
        },
        {
          "output_type": "display_data",
          "data": {
            "application/javascript": [
              "window[\"ec5df9f2-9d8d-11ec-a544-0242ac1c0002\"] = google.colab.output.setActiveOutputArea(window[\"ec5db398-9d8d-11ec-a544-0242ac1c0002\"]);\n",
              "//# sourceURL=js_c00f439d95"
            ],
            "text/plain": [
              "<IPython.core.display.Javascript object>"
            ]
          },
          "metadata": {}
        },
        {
          "output_type": "display_data",
          "data": {
            "application/javascript": [
              "window[\"ec787660-9d8d-11ec-a544-0242ac1c0002\"] = google.colab.output.setActiveOutputArea(window[\"ec5d6776-9d8d-11ec-a544-0242ac1c0002\"]);\n",
              "//# sourceURL=js_75f721853f"
            ],
            "text/plain": [
              "<IPython.core.display.Javascript object>"
            ]
          },
          "metadata": {}
        },
        {
          "output_type": "display_data",
          "data": {
            "application/javascript": [
              "window[\"ec98f58e-9d8d-11ec-a544-0242ac1c0002\"] = google.colab.output.getActiveOutputArea();\n",
              "//# sourceURL=js_b1c9ee91e4"
            ],
            "text/plain": [
              "<IPython.core.display.Javascript object>"
            ]
          },
          "metadata": {}
        },
        {
          "output_type": "display_data",
          "data": {
            "application/javascript": [
              "window[\"ec99633e-9d8d-11ec-a544-0242ac1c0002\"] = document.querySelector(\"#id34-0-0\");\n",
              "//# sourceURL=js_0593ce46fa"
            ],
            "text/plain": [
              "<IPython.core.display.Javascript object>"
            ]
          },
          "metadata": {}
        },
        {
          "output_type": "display_data",
          "data": {
            "application/javascript": [
              "window[\"ec99cf36-9d8d-11ec-a544-0242ac1c0002\"] = google.colab.output.setActiveOutputArea(window[\"ec99633e-9d8d-11ec-a544-0242ac1c0002\"]);\n",
              "//# sourceURL=js_0c66e9498a"
            ],
            "text/plain": [
              "<IPython.core.display.Javascript object>"
            ]
          },
          "metadata": {}
        },
        {
          "output_type": "display_data",
          "data": {
            "application/javascript": [
              "window[\"ecb4ef82-9d8d-11ec-a544-0242ac1c0002\"] = google.colab.output.setActiveOutputArea(window[\"ec98f58e-9d8d-11ec-a544-0242ac1c0002\"]);\n",
              "//# sourceURL=js_f8115cbbb1"
            ],
            "text/plain": [
              "<IPython.core.display.Javascript object>"
            ]
          },
          "metadata": {}
        },
        {
          "output_type": "display_data",
          "data": {
            "application/javascript": [
              "window[\"ecd70518-9d8d-11ec-a544-0242ac1c0002\"] = google.colab.output.getActiveOutputArea();\n",
              "//# sourceURL=js_844ba80f9a"
            ],
            "text/plain": [
              "<IPython.core.display.Javascript object>"
            ]
          },
          "metadata": {}
        },
        {
          "output_type": "display_data",
          "data": {
            "application/javascript": [
              "window[\"ecd744ce-9d8d-11ec-a544-0242ac1c0002\"] = document.querySelector(\"#id34-0-0\");\n",
              "//# sourceURL=js_330c53e4ba"
            ],
            "text/plain": [
              "<IPython.core.display.Javascript object>"
            ]
          },
          "metadata": {}
        },
        {
          "output_type": "display_data",
          "data": {
            "application/javascript": [
              "window[\"ecd7801a-9d8d-11ec-a544-0242ac1c0002\"] = google.colab.output.setActiveOutputArea(window[\"ecd744ce-9d8d-11ec-a544-0242ac1c0002\"]);\n",
              "//# sourceURL=js_0d22c8d24b"
            ],
            "text/plain": [
              "<IPython.core.display.Javascript object>"
            ]
          },
          "metadata": {}
        },
        {
          "output_type": "display_data",
          "data": {
            "application/javascript": [
              "window[\"ecf1eef0-9d8d-11ec-a544-0242ac1c0002\"] = google.colab.output.setActiveOutputArea(window[\"ecd70518-9d8d-11ec-a544-0242ac1c0002\"]);\n",
              "//# sourceURL=js_9248ed96c3"
            ],
            "text/plain": [
              "<IPython.core.display.Javascript object>"
            ]
          },
          "metadata": {}
        },
        {
          "output_type": "display_data",
          "data": {
            "application/javascript": [
              "window[\"ed128854-9d8d-11ec-a544-0242ac1c0002\"] = google.colab.output.getActiveOutputArea();\n",
              "//# sourceURL=js_f8d0170b49"
            ],
            "text/plain": [
              "<IPython.core.display.Javascript object>"
            ]
          },
          "metadata": {}
        },
        {
          "output_type": "display_data",
          "data": {
            "application/javascript": [
              "window[\"ed12e7d6-9d8d-11ec-a544-0242ac1c0002\"] = document.querySelector(\"#id34-0-0\");\n",
              "//# sourceURL=js_d731802bff"
            ],
            "text/plain": [
              "<IPython.core.display.Javascript object>"
            ]
          },
          "metadata": {}
        },
        {
          "output_type": "display_data",
          "data": {
            "application/javascript": [
              "window[\"ed136814-9d8d-11ec-a544-0242ac1c0002\"] = google.colab.output.setActiveOutputArea(window[\"ed12e7d6-9d8d-11ec-a544-0242ac1c0002\"]);\n",
              "//# sourceURL=js_42da12bf0e"
            ],
            "text/plain": [
              "<IPython.core.display.Javascript object>"
            ]
          },
          "metadata": {}
        },
        {
          "output_type": "display_data",
          "data": {
            "application/javascript": [
              "window[\"ed39a01a-9d8d-11ec-a544-0242ac1c0002\"] = google.colab.output.setActiveOutputArea(window[\"ed128854-9d8d-11ec-a544-0242ac1c0002\"]);\n",
              "//# sourceURL=js_f99eaf59b6"
            ],
            "text/plain": [
              "<IPython.core.display.Javascript object>"
            ]
          },
          "metadata": {}
        },
        {
          "output_type": "display_data",
          "data": {
            "application/javascript": [
              "window[\"ed5a2e84-9d8d-11ec-a544-0242ac1c0002\"] = google.colab.output.getActiveOutputArea();\n",
              "//# sourceURL=js_0351070d01"
            ],
            "text/plain": [
              "<IPython.core.display.Javascript object>"
            ]
          },
          "metadata": {}
        },
        {
          "output_type": "display_data",
          "data": {
            "application/javascript": [
              "window[\"ed5a914e-9d8d-11ec-a544-0242ac1c0002\"] = document.querySelector(\"#id34-0-0\");\n",
              "//# sourceURL=js_ec11ce72f0"
            ],
            "text/plain": [
              "<IPython.core.display.Javascript object>"
            ]
          },
          "metadata": {}
        },
        {
          "output_type": "display_data",
          "data": {
            "application/javascript": [
              "window[\"ed5ade88-9d8d-11ec-a544-0242ac1c0002\"] = google.colab.output.setActiveOutputArea(window[\"ed5a914e-9d8d-11ec-a544-0242ac1c0002\"]);\n",
              "//# sourceURL=js_c2cee4853b"
            ],
            "text/plain": [
              "<IPython.core.display.Javascript object>"
            ]
          },
          "metadata": {}
        },
        {
          "output_type": "display_data",
          "data": {
            "application/javascript": [
              "window[\"ed7821e6-9d8d-11ec-a544-0242ac1c0002\"] = google.colab.output.setActiveOutputArea(window[\"ed5a2e84-9d8d-11ec-a544-0242ac1c0002\"]);\n",
              "//# sourceURL=js_958cba0654"
            ],
            "text/plain": [
              "<IPython.core.display.Javascript object>"
            ]
          },
          "metadata": {}
        },
        {
          "output_type": "display_data",
          "data": {
            "application/javascript": [
              "window[\"ed99c95e-9d8d-11ec-a544-0242ac1c0002\"] = google.colab.output.getActiveOutputArea();\n",
              "//# sourceURL=js_01433905dd"
            ],
            "text/plain": [
              "<IPython.core.display.Javascript object>"
            ]
          },
          "metadata": {}
        },
        {
          "output_type": "display_data",
          "data": {
            "application/javascript": [
              "window[\"ed9a3858-9d8d-11ec-a544-0242ac1c0002\"] = document.querySelector(\"#id34-0-0\");\n",
              "//# sourceURL=js_821288344d"
            ],
            "text/plain": [
              "<IPython.core.display.Javascript object>"
            ]
          },
          "metadata": {}
        },
        {
          "output_type": "display_data",
          "data": {
            "application/javascript": [
              "window[\"ed9ac700-9d8d-11ec-a544-0242ac1c0002\"] = google.colab.output.setActiveOutputArea(window[\"ed9a3858-9d8d-11ec-a544-0242ac1c0002\"]);\n",
              "//# sourceURL=js_87f69cd06d"
            ],
            "text/plain": [
              "<IPython.core.display.Javascript object>"
            ]
          },
          "metadata": {}
        },
        {
          "output_type": "display_data",
          "data": {
            "application/javascript": [
              "window[\"edb665a0-9d8d-11ec-a544-0242ac1c0002\"] = google.colab.output.setActiveOutputArea(window[\"ed99c95e-9d8d-11ec-a544-0242ac1c0002\"]);\n",
              "//# sourceURL=js_c1f168cffb"
            ],
            "text/plain": [
              "<IPython.core.display.Javascript object>"
            ]
          },
          "metadata": {}
        },
        {
          "output_type": "display_data",
          "data": {
            "application/javascript": [
              "window[\"edd95c90-9d8d-11ec-a544-0242ac1c0002\"] = google.colab.output.getActiveOutputArea();\n",
              "//# sourceURL=js_6c034bffc6"
            ],
            "text/plain": [
              "<IPython.core.display.Javascript object>"
            ]
          },
          "metadata": {}
        },
        {
          "output_type": "display_data",
          "data": {
            "application/javascript": [
              "window[\"edd9d7ec-9d8d-11ec-a544-0242ac1c0002\"] = document.querySelector(\"#id34-0-0\");\n",
              "//# sourceURL=js_eedef7d72e"
            ],
            "text/plain": [
              "<IPython.core.display.Javascript object>"
            ]
          },
          "metadata": {}
        },
        {
          "output_type": "display_data",
          "data": {
            "application/javascript": [
              "window[\"edda2f30-9d8d-11ec-a544-0242ac1c0002\"] = google.colab.output.setActiveOutputArea(window[\"edd9d7ec-9d8d-11ec-a544-0242ac1c0002\"]);\n",
              "//# sourceURL=js_90d1330761"
            ],
            "text/plain": [
              "<IPython.core.display.Javascript object>"
            ]
          },
          "metadata": {}
        },
        {
          "output_type": "display_data",
          "data": {
            "application/javascript": [
              "window[\"edf605d4-9d8d-11ec-a544-0242ac1c0002\"] = google.colab.output.setActiveOutputArea(window[\"edd95c90-9d8d-11ec-a544-0242ac1c0002\"]);\n",
              "//# sourceURL=js_49f24a7c39"
            ],
            "text/plain": [
              "<IPython.core.display.Javascript object>"
            ]
          },
          "metadata": {}
        },
        {
          "output_type": "display_data",
          "data": {
            "application/javascript": [
              "window[\"ee18682c-9d8d-11ec-a544-0242ac1c0002\"] = google.colab.output.getActiveOutputArea();\n",
              "//# sourceURL=js_a5c897510c"
            ],
            "text/plain": [
              "<IPython.core.display.Javascript object>"
            ]
          },
          "metadata": {}
        },
        {
          "output_type": "display_data",
          "data": {
            "application/javascript": [
              "window[\"ee18aab2-9d8d-11ec-a544-0242ac1c0002\"] = document.querySelector(\"#id34-0-0\");\n",
              "//# sourceURL=js_ca53875f4f"
            ],
            "text/plain": [
              "<IPython.core.display.Javascript object>"
            ]
          },
          "metadata": {}
        },
        {
          "output_type": "display_data",
          "data": {
            "application/javascript": [
              "window[\"ee18fe72-9d8d-11ec-a544-0242ac1c0002\"] = google.colab.output.setActiveOutputArea(window[\"ee18aab2-9d8d-11ec-a544-0242ac1c0002\"]);\n",
              "//# sourceURL=js_efc03fdf03"
            ],
            "text/plain": [
              "<IPython.core.display.Javascript object>"
            ]
          },
          "metadata": {}
        },
        {
          "output_type": "display_data",
          "data": {
            "application/javascript": [
              "window[\"ee33480e-9d8d-11ec-a544-0242ac1c0002\"] = google.colab.output.setActiveOutputArea(window[\"ee18682c-9d8d-11ec-a544-0242ac1c0002\"]);\n",
              "//# sourceURL=js_6252cc6ae2"
            ],
            "text/plain": [
              "<IPython.core.display.Javascript object>"
            ]
          },
          "metadata": {}
        },
        {
          "output_type": "display_data",
          "data": {
            "application/javascript": [
              "window[\"ee53f5f4-9d8d-11ec-a544-0242ac1c0002\"] = google.colab.output.getActiveOutputArea();\n",
              "//# sourceURL=js_00c6f32ff6"
            ],
            "text/plain": [
              "<IPython.core.display.Javascript object>"
            ]
          },
          "metadata": {}
        },
        {
          "output_type": "display_data",
          "data": {
            "application/javascript": [
              "window[\"ee546b4c-9d8d-11ec-a544-0242ac1c0002\"] = document.querySelector(\"#id34-0-0\");\n",
              "//# sourceURL=js_6ca59b519b"
            ],
            "text/plain": [
              "<IPython.core.display.Javascript object>"
            ]
          },
          "metadata": {}
        },
        {
          "output_type": "display_data",
          "data": {
            "application/javascript": [
              "window[\"ee54f454-9d8d-11ec-a544-0242ac1c0002\"] = google.colab.output.setActiveOutputArea(window[\"ee546b4c-9d8d-11ec-a544-0242ac1c0002\"]);\n",
              "//# sourceURL=js_d55c37c11b"
            ],
            "text/plain": [
              "<IPython.core.display.Javascript object>"
            ]
          },
          "metadata": {}
        },
        {
          "output_type": "display_data",
          "data": {
            "application/javascript": [
              "window[\"ee6fa5ba-9d8d-11ec-a544-0242ac1c0002\"] = google.colab.output.setActiveOutputArea(window[\"ee53f5f4-9d8d-11ec-a544-0242ac1c0002\"]);\n",
              "//# sourceURL=js_33f5546cba"
            ],
            "text/plain": [
              "<IPython.core.display.Javascript object>"
            ]
          },
          "metadata": {}
        },
        {
          "output_type": "display_data",
          "data": {
            "application/javascript": [
              "window[\"ee91c992-9d8d-11ec-a544-0242ac1c0002\"] = google.colab.output.getActiveOutputArea();\n",
              "//# sourceURL=js_4a36d5bec7"
            ],
            "text/plain": [
              "<IPython.core.display.Javascript object>"
            ]
          },
          "metadata": {}
        },
        {
          "output_type": "display_data",
          "data": {
            "application/javascript": [
              "window[\"ee927176-9d8d-11ec-a544-0242ac1c0002\"] = document.querySelector(\"#id34-0-0\");\n",
              "//# sourceURL=js_c5df736631"
            ],
            "text/plain": [
              "<IPython.core.display.Javascript object>"
            ]
          },
          "metadata": {}
        },
        {
          "output_type": "display_data",
          "data": {
            "application/javascript": [
              "window[\"ee92d738-9d8d-11ec-a544-0242ac1c0002\"] = google.colab.output.setActiveOutputArea(window[\"ee927176-9d8d-11ec-a544-0242ac1c0002\"]);\n",
              "//# sourceURL=js_dfaa1e87c7"
            ],
            "text/plain": [
              "<IPython.core.display.Javascript object>"
            ]
          },
          "metadata": {}
        },
        {
          "output_type": "display_data",
          "data": {
            "application/javascript": [
              "window[\"eeadde70-9d8d-11ec-a544-0242ac1c0002\"] = google.colab.output.setActiveOutputArea(window[\"ee91c992-9d8d-11ec-a544-0242ac1c0002\"]);\n",
              "//# sourceURL=js_c89c2ce251"
            ],
            "text/plain": [
              "<IPython.core.display.Javascript object>"
            ]
          },
          "metadata": {}
        },
        {
          "output_type": "display_data",
          "data": {
            "application/javascript": [
              "window[\"eece6050-9d8d-11ec-a544-0242ac1c0002\"] = google.colab.output.getActiveOutputArea();\n",
              "//# sourceURL=js_5209071d19"
            ],
            "text/plain": [
              "<IPython.core.display.Javascript object>"
            ]
          },
          "metadata": {}
        },
        {
          "output_type": "display_data",
          "data": {
            "application/javascript": [
              "window[\"eecec590-9d8d-11ec-a544-0242ac1c0002\"] = document.querySelector(\"#id34-0-0\");\n",
              "//# sourceURL=js_2593de8243"
            ],
            "text/plain": [
              "<IPython.core.display.Javascript object>"
            ]
          },
          "metadata": {}
        },
        {
          "output_type": "display_data",
          "data": {
            "application/javascript": [
              "window[\"eecf7d5a-9d8d-11ec-a544-0242ac1c0002\"] = google.colab.output.setActiveOutputArea(window[\"eecec590-9d8d-11ec-a544-0242ac1c0002\"]);\n",
              "//# sourceURL=js_a5109294d3"
            ],
            "text/plain": [
              "<IPython.core.display.Javascript object>"
            ]
          },
          "metadata": {}
        },
        {
          "output_type": "display_data",
          "data": {
            "application/javascript": [
              "window[\"eee8ec9a-9d8d-11ec-a544-0242ac1c0002\"] = google.colab.output.setActiveOutputArea(window[\"eece6050-9d8d-11ec-a544-0242ac1c0002\"]);\n",
              "//# sourceURL=js_9947025e2b"
            ],
            "text/plain": [
              "<IPython.core.display.Javascript object>"
            ]
          },
          "metadata": {}
        },
        {
          "output_type": "display_data",
          "data": {
            "application/javascript": [
              "window[\"ef0970fa-9d8d-11ec-a544-0242ac1c0002\"] = google.colab.output.getActiveOutputArea();\n",
              "//# sourceURL=js_92e0ceb489"
            ],
            "text/plain": [
              "<IPython.core.display.Javascript object>"
            ]
          },
          "metadata": {}
        },
        {
          "output_type": "display_data",
          "data": {
            "application/javascript": [
              "window[\"ef0a9dae-9d8d-11ec-a544-0242ac1c0002\"] = document.querySelector(\"#id34-0-0\");\n",
              "//# sourceURL=js_b832e6cc2f"
            ],
            "text/plain": [
              "<IPython.core.display.Javascript object>"
            ]
          },
          "metadata": {}
        },
        {
          "output_type": "display_data",
          "data": {
            "application/javascript": [
              "window[\"ef0b00a0-9d8d-11ec-a544-0242ac1c0002\"] = google.colab.output.setActiveOutputArea(window[\"ef0a9dae-9d8d-11ec-a544-0242ac1c0002\"]);\n",
              "//# sourceURL=js_c6cf7a19ae"
            ],
            "text/plain": [
              "<IPython.core.display.Javascript object>"
            ]
          },
          "metadata": {}
        },
        {
          "output_type": "display_data",
          "data": {
            "application/javascript": [
              "window[\"ef250964-9d8d-11ec-a544-0242ac1c0002\"] = google.colab.output.setActiveOutputArea(window[\"ef0970fa-9d8d-11ec-a544-0242ac1c0002\"]);\n",
              "//# sourceURL=js_d3c93e720d"
            ],
            "text/plain": [
              "<IPython.core.display.Javascript object>"
            ]
          },
          "metadata": {}
        },
        {
          "output_type": "display_data",
          "data": {
            "application/javascript": [
              "window[\"ef48149a-9d8d-11ec-a544-0242ac1c0002\"] = google.colab.output.getActiveOutputArea();\n",
              "//# sourceURL=js_daded9b096"
            ],
            "text/plain": [
              "<IPython.core.display.Javascript object>"
            ]
          },
          "metadata": {}
        },
        {
          "output_type": "display_data",
          "data": {
            "application/javascript": [
              "window[\"ef485b94-9d8d-11ec-a544-0242ac1c0002\"] = document.querySelector(\"#id34-0-0\");\n",
              "//# sourceURL=js_79d6f51adc"
            ],
            "text/plain": [
              "<IPython.core.display.Javascript object>"
            ]
          },
          "metadata": {}
        },
        {
          "output_type": "display_data",
          "data": {
            "application/javascript": [
              "window[\"ef489a00-9d8d-11ec-a544-0242ac1c0002\"] = google.colab.output.setActiveOutputArea(window[\"ef485b94-9d8d-11ec-a544-0242ac1c0002\"]);\n",
              "//# sourceURL=js_bfb3bc4446"
            ],
            "text/plain": [
              "<IPython.core.display.Javascript object>"
            ]
          },
          "metadata": {}
        },
        {
          "output_type": "display_data",
          "data": {
            "application/javascript": [
              "window[\"ef62d230-9d8d-11ec-a544-0242ac1c0002\"] = google.colab.output.setActiveOutputArea(window[\"ef48149a-9d8d-11ec-a544-0242ac1c0002\"]);\n",
              "//# sourceURL=js_e4e037d83d"
            ],
            "text/plain": [
              "<IPython.core.display.Javascript object>"
            ]
          },
          "metadata": {}
        },
        {
          "output_type": "display_data",
          "data": {
            "application/javascript": [
              "window[\"ef8383ae-9d8d-11ec-a544-0242ac1c0002\"] = google.colab.output.getActiveOutputArea();\n",
              "//# sourceURL=js_29aad38bde"
            ],
            "text/plain": [
              "<IPython.core.display.Javascript object>"
            ]
          },
          "metadata": {}
        },
        {
          "output_type": "display_data",
          "data": {
            "application/javascript": [
              "window[\"ef83e074-9d8d-11ec-a544-0242ac1c0002\"] = document.querySelector(\"#id34-0-0\");\n",
              "//# sourceURL=js_10399c024f"
            ],
            "text/plain": [
              "<IPython.core.display.Javascript object>"
            ]
          },
          "metadata": {}
        },
        {
          "output_type": "display_data",
          "data": {
            "application/javascript": [
              "window[\"ef8446d6-9d8d-11ec-a544-0242ac1c0002\"] = google.colab.output.setActiveOutputArea(window[\"ef83e074-9d8d-11ec-a544-0242ac1c0002\"]);\n",
              "//# sourceURL=js_8a57d904d9"
            ],
            "text/plain": [
              "<IPython.core.display.Javascript object>"
            ]
          },
          "metadata": {}
        },
        {
          "output_type": "display_data",
          "data": {
            "application/javascript": [
              "window[\"ef9ef008-9d8d-11ec-a544-0242ac1c0002\"] = google.colab.output.setActiveOutputArea(window[\"ef8383ae-9d8d-11ec-a544-0242ac1c0002\"]);\n",
              "//# sourceURL=js_6f8c27df04"
            ],
            "text/plain": [
              "<IPython.core.display.Javascript object>"
            ]
          },
          "metadata": {}
        },
        {
          "output_type": "display_data",
          "data": {
            "application/javascript": [
              "window[\"efc04190-9d8d-11ec-a544-0242ac1c0002\"] = google.colab.output.getActiveOutputArea();\n",
              "//# sourceURL=js_c43ffa4d18"
            ],
            "text/plain": [
              "<IPython.core.display.Javascript object>"
            ]
          },
          "metadata": {}
        },
        {
          "output_type": "display_data",
          "data": {
            "application/javascript": [
              "window[\"efc0cbe2-9d8d-11ec-a544-0242ac1c0002\"] = document.querySelector(\"#id34-0-0\");\n",
              "//# sourceURL=js_94ae7183fd"
            ],
            "text/plain": [
              "<IPython.core.display.Javascript object>"
            ]
          },
          "metadata": {}
        },
        {
          "output_type": "display_data",
          "data": {
            "application/javascript": [
              "window[\"efc14388-9d8d-11ec-a544-0242ac1c0002\"] = google.colab.output.setActiveOutputArea(window[\"efc0cbe2-9d8d-11ec-a544-0242ac1c0002\"]);\n",
              "//# sourceURL=js_698260eaf8"
            ],
            "text/plain": [
              "<IPython.core.display.Javascript object>"
            ]
          },
          "metadata": {}
        },
        {
          "output_type": "display_data",
          "data": {
            "application/javascript": [
              "window[\"efdc1442-9d8d-11ec-a544-0242ac1c0002\"] = google.colab.output.setActiveOutputArea(window[\"efc04190-9d8d-11ec-a544-0242ac1c0002\"]);\n",
              "//# sourceURL=js_8665884b75"
            ],
            "text/plain": [
              "<IPython.core.display.Javascript object>"
            ]
          },
          "metadata": {}
        },
        {
          "output_type": "display_data",
          "data": {
            "application/javascript": [
              "window[\"effce532-9d8d-11ec-a544-0242ac1c0002\"] = google.colab.output.getActiveOutputArea();\n",
              "//# sourceURL=js_960764cdcc"
            ],
            "text/plain": [
              "<IPython.core.display.Javascript object>"
            ]
          },
          "metadata": {}
        },
        {
          "output_type": "display_data",
          "data": {
            "application/javascript": [
              "window[\"effd6156-9d8d-11ec-a544-0242ac1c0002\"] = document.querySelector(\"#id34-0-0\");\n",
              "//# sourceURL=js_8daa7faedc"
            ],
            "text/plain": [
              "<IPython.core.display.Javascript object>"
            ]
          },
          "metadata": {}
        },
        {
          "output_type": "display_data",
          "data": {
            "application/javascript": [
              "window[\"effe4008-9d8d-11ec-a544-0242ac1c0002\"] = google.colab.output.setActiveOutputArea(window[\"effd6156-9d8d-11ec-a544-0242ac1c0002\"]);\n",
              "//# sourceURL=js_362ed4b8e6"
            ],
            "text/plain": [
              "<IPython.core.display.Javascript object>"
            ]
          },
          "metadata": {}
        },
        {
          "output_type": "display_data",
          "data": {
            "application/javascript": [
              "window[\"f018c0fe-9d8d-11ec-a544-0242ac1c0002\"] = google.colab.output.setActiveOutputArea(window[\"effce532-9d8d-11ec-a544-0242ac1c0002\"]);\n",
              "//# sourceURL=js_db6b7c7a54"
            ],
            "text/plain": [
              "<IPython.core.display.Javascript object>"
            ]
          },
          "metadata": {}
        },
        {
          "output_type": "display_data",
          "data": {
            "application/javascript": [
              "window[\"f03986e0-9d8d-11ec-a544-0242ac1c0002\"] = google.colab.output.getActiveOutputArea();\n",
              "//# sourceURL=js_4005632bdf"
            ],
            "text/plain": [
              "<IPython.core.display.Javascript object>"
            ]
          },
          "metadata": {}
        },
        {
          "output_type": "display_data",
          "data": {
            "application/javascript": [
              "window[\"f039f256-9d8d-11ec-a544-0242ac1c0002\"] = document.querySelector(\"#id34-0-0\");\n",
              "//# sourceURL=js_62b894db0e"
            ],
            "text/plain": [
              "<IPython.core.display.Javascript object>"
            ]
          },
          "metadata": {}
        },
        {
          "output_type": "display_data",
          "data": {
            "application/javascript": [
              "window[\"f03a46ca-9d8d-11ec-a544-0242ac1c0002\"] = google.colab.output.setActiveOutputArea(window[\"f039f256-9d8d-11ec-a544-0242ac1c0002\"]);\n",
              "//# sourceURL=js_e410615bc7"
            ],
            "text/plain": [
              "<IPython.core.display.Javascript object>"
            ]
          },
          "metadata": {}
        },
        {
          "output_type": "display_data",
          "data": {
            "application/javascript": [
              "window[\"f0569b86-9d8d-11ec-a544-0242ac1c0002\"] = google.colab.output.setActiveOutputArea(window[\"f03986e0-9d8d-11ec-a544-0242ac1c0002\"]);\n",
              "//# sourceURL=js_64466f52e1"
            ],
            "text/plain": [
              "<IPython.core.display.Javascript object>"
            ]
          },
          "metadata": {}
        },
        {
          "output_type": "display_data",
          "data": {
            "application/javascript": [
              "window[\"f07775e0-9d8d-11ec-a544-0242ac1c0002\"] = google.colab.output.getActiveOutputArea();\n",
              "//# sourceURL=js_92b745d93d"
            ],
            "text/plain": [
              "<IPython.core.display.Javascript object>"
            ]
          },
          "metadata": {}
        },
        {
          "output_type": "display_data",
          "data": {
            "application/javascript": [
              "window[\"f077f9c0-9d8d-11ec-a544-0242ac1c0002\"] = document.querySelector(\"#id34-0-0\");\n",
              "//# sourceURL=js_98acd391c3"
            ],
            "text/plain": [
              "<IPython.core.display.Javascript object>"
            ]
          },
          "metadata": {}
        },
        {
          "output_type": "display_data",
          "data": {
            "application/javascript": [
              "window[\"f078613a-9d8d-11ec-a544-0242ac1c0002\"] = google.colab.output.setActiveOutputArea(window[\"f077f9c0-9d8d-11ec-a544-0242ac1c0002\"]);\n",
              "//# sourceURL=js_8c78bd7deb"
            ],
            "text/plain": [
              "<IPython.core.display.Javascript object>"
            ]
          },
          "metadata": {}
        },
        {
          "output_type": "display_data",
          "data": {
            "application/javascript": [
              "window[\"f0a0b914-9d8d-11ec-a544-0242ac1c0002\"] = google.colab.output.setActiveOutputArea(window[\"f07775e0-9d8d-11ec-a544-0242ac1c0002\"]);\n",
              "//# sourceURL=js_b1025fe34b"
            ],
            "text/plain": [
              "<IPython.core.display.Javascript object>"
            ]
          },
          "metadata": {}
        },
        {
          "output_type": "display_data",
          "data": {
            "application/javascript": [
              "window[\"f0c14ca6-9d8d-11ec-a544-0242ac1c0002\"] = google.colab.output.getActiveOutputArea();\n",
              "//# sourceURL=js_04ff4074f5"
            ],
            "text/plain": [
              "<IPython.core.display.Javascript object>"
            ]
          },
          "metadata": {}
        },
        {
          "output_type": "display_data",
          "data": {
            "application/javascript": [
              "window[\"f0c1a43a-9d8d-11ec-a544-0242ac1c0002\"] = document.querySelector(\"#id34-0-0\");\n",
              "//# sourceURL=js_9a85a51984"
            ],
            "text/plain": [
              "<IPython.core.display.Javascript object>"
            ]
          },
          "metadata": {}
        },
        {
          "output_type": "display_data",
          "data": {
            "application/javascript": [
              "window[\"f0c26492-9d8d-11ec-a544-0242ac1c0002\"] = google.colab.output.setActiveOutputArea(window[\"f0c1a43a-9d8d-11ec-a544-0242ac1c0002\"]);\n",
              "//# sourceURL=js_ebb8058667"
            ],
            "text/plain": [
              "<IPython.core.display.Javascript object>"
            ]
          },
          "metadata": {}
        },
        {
          "output_type": "display_data",
          "data": {
            "application/javascript": [
              "window[\"f0dc2c24-9d8d-11ec-a544-0242ac1c0002\"] = google.colab.output.setActiveOutputArea(window[\"f0c14ca6-9d8d-11ec-a544-0242ac1c0002\"]);\n",
              "//# sourceURL=js_63f00dc0d8"
            ],
            "text/plain": [
              "<IPython.core.display.Javascript object>"
            ]
          },
          "metadata": {}
        },
        {
          "output_type": "display_data",
          "data": {
            "application/javascript": [
              "window[\"f0fd4eb8-9d8d-11ec-a544-0242ac1c0002\"] = google.colab.output.getActiveOutputArea();\n",
              "//# sourceURL=js_765b5e68f2"
            ],
            "text/plain": [
              "<IPython.core.display.Javascript object>"
            ]
          },
          "metadata": {}
        },
        {
          "output_type": "display_data",
          "data": {
            "application/javascript": [
              "window[\"f0fe2a90-9d8d-11ec-a544-0242ac1c0002\"] = document.querySelector(\"#id34-0-0\");\n",
              "//# sourceURL=js_c0736deca6"
            ],
            "text/plain": [
              "<IPython.core.display.Javascript object>"
            ]
          },
          "metadata": {}
        },
        {
          "output_type": "display_data",
          "data": {
            "application/javascript": [
              "window[\"f0fea27c-9d8d-11ec-a544-0242ac1c0002\"] = google.colab.output.setActiveOutputArea(window[\"f0fe2a90-9d8d-11ec-a544-0242ac1c0002\"]);\n",
              "//# sourceURL=js_49f1c4a189"
            ],
            "text/plain": [
              "<IPython.core.display.Javascript object>"
            ]
          },
          "metadata": {}
        },
        {
          "output_type": "display_data",
          "data": {
            "image/png": "[encoded data removed]",
            "text/plain": [
              "<Figure size 432x288 with 1 Axes>"
            ]
          },
          "metadata": {
            "needs_background": "light"
          }
        },
        {
          "output_type": "display_data",
          "data": {
            "application/javascript": [
              "window[\"f11a7f2e-9d8d-11ec-a544-0242ac1c0002\"] = google.colab.output.setActiveOutputArea(window[\"f0fd4eb8-9d8d-11ec-a544-0242ac1c0002\"]);\n",
              "//# sourceURL=js_a2060f4d25"
            ],
            "text/plain": [
              "<IPython.core.display.Javascript object>"
            ]
          },
          "metadata": {}
        },
        {
          "output_type": "execute_result",
          "data": {
            "text/plain": [
              "<matplotlib.legend.Legend at 0x7f269333b410>"
            ]
          },
          "metadata": {},
          "execution_count": 28
        },
        {
          "output_type": "display_data",
          "data": {
            "image/png": "[encoded data removed]",
            "text/plain": [
              "<Figure size 432x288 with 2 Axes>"
            ]
          },
          "metadata": {
            "needs_background": "light"
          }
        },
        {
          "output_type": "display_data",
          "data": {
            "image/png": "[encoded data removed]",
            "text/plain": [
              "<Figure size 432x288 with 1 Axes>"
            ]
          },
          "metadata": {
            "needs_background": "light"
          }
        },
        {
          "output_type": "display_data",
          "data": {
            "image/png": "[encoded data removed]",
            "text/plain": [
              "<Figure size 432x288 with 1 Axes>"
            ]
          },
          "metadata": {
            "needs_background": "light"
          }
        }
      ],
      "source": [
        "env = GridEnvironment()\n",
        "agent = RandomAgent(env)\n",
        "max_episod =5000\n",
        "pos = env.reset()\n",
        "g=[]\n",
        "e=[]\n",
        "t_step=0\n",
        "output_grid = widgets.Grid(1, 1)\n",
        "with output_grid.output_to(0, 0):\n",
        "  env.render()\n",
        "for episod in range(max_episod+1):\n",
        "  pos = env.reset()\n",
        "  done = False\n",
        "  acu_reward=0\n",
        "  ep=0\n",
        "  while not done:\n",
        "    action , ep = agent.step(pos, episod, max_episod)\n",
        "    if action == 0: ch=\"Up\"\n",
        "    elif action == 1: ch=\"Down\"\n",
        "    elif action == 2: ch= \"Left\"\n",
        "    elif action == 3: ch=\"Right\"\n",
        "\n",
        "    \n",
        "\n",
        "    action_taken , pos, reward, done, info , t_step = env.step(action)\n",
        "    Q_table = agent.update(action_taken, reward , pos)\n",
        "    Q=np.argmax(Q_table, axis=1)\n",
        "    acu_reward +=reward\n",
        "\n",
        "    if episod % (max_episod/1) == 0 or episod > max_episod - 5:\n",
        "      with output_grid.output_to(0, 0):\n",
        "        output_grid.clear_cell()\n",
        "        env.render()\n",
        "        plt.title(\"Episode: \" + str(episod))\n",
        "      \n",
        "      \"\"\"\n",
        "      with output_grid.output_to(0, 1):\n",
        "        output_grid.clear_cell()\n",
        "        plt.imshow(Q.reshape(11,11))\n",
        "        plt.colorbar()\n",
        "      \"\"\"\n",
        "      time.sleep(0.2)\n",
        "  e.append(ep)\n",
        "  g.append(acu_reward)\n",
        "Q=np.argmax(Q_table, axis=1)\n",
        "plt.imshow(Q.reshape(11,11))\n",
        "plt.colorbar()\n",
        "plt.figure()\n",
        "plt.plot(g,label=\"Total reward/episode\")\n",
        "plt.xlabel(\"Episodes\")\n",
        "plt.ylabel(\"Total reward\")\n",
        "plt.legend()\n",
        "plt.figure()\n",
        "plt.plot(e, label=\"decay factor\")\n",
        "plt.xlabel(\"Episodes\")\n",
        "plt.ylabel(\"Epsilon\")\n",
        "plt.legend()"
      ]
    },
    {
      "cell_type": "code",
      "source": [
        "pos = env.reset()\n",
        "\n",
        "g=[]\n",
        "output_grid = widgets.Grid(1, 1)\n",
        "with output_grid.output_to(0, 0):\n",
        "  env.render()\n",
        "for episod in range(10):\n",
        "  pos = env.reset()\n",
        "  done = False\n",
        "  acu_reward =0 \n",
        "  while not done:\n",
        "    action , ep = agent.step(pos, 1, 1)\n",
        "    action_taken , pos, reward, done, info , t_step = env.step(action)\n",
        "    acu_reward += reward\n",
        "    with output_grid.output_to(0, 0):\n",
        "      output_grid.clear_cell()\n",
        "      env.render()\n",
        "      plt.title(\"Demo Episode: \" + str(episod+1))\n",
        "\n",
        "    time.sleep(0.2)\n",
        "  g.append(acu_reward)\n",
        "plt.plot(g,label=\"Total reward/episode\")\n",
        "plt.xlabel(\"Episodes\")\n",
        "plt.ylabel(\"Total Reward\")\n",
        "plt.legend()"
      ],
      "metadata": {
        "id": "X3tWA7RlxSsj",
        "colab": {
          "base_uri": "https://localhost:8080/",
          "height": 565
        },
        "outputId": "f5d896a7-77a8-4ff2-8e7d-1e90767c9dc4"
      },
      "execution_count": null,
      "outputs": [
        {
          "output_type": "display_data",
          "data": {
            "text/html": [
              "<style>\n",
              "       table#id36, #id36 > tbody > tr > th, #id36 > tbody > tr > td {\n",
              "         border: 1px solid lightgray;\n",
              "         border-collapse:collapse;\n",
              "         \n",
              "        }</style>"
            ],
            "text/plain": [
              "<IPython.core.display.HTML object>"
            ]
          },
          "metadata": {}
        },
        {
          "output_type": "display_data",
          "data": {
            "text/html": [
              "<table id=id36><tr><td id=id36-0-0></td></tr></table>"
            ],
            "text/plain": [
              "<IPython.core.display.HTML object>"
            ]
          },
          "metadata": {}
        },
        {
          "output_type": "display_data",
          "data": {
            "application/javascript": [
              "window[\"00f7cdd4-9d8e-11ec-a544-0242ac1c0002\"] = google.colab.output.getActiveOutputArea();\n",
              "//# sourceURL=js_adb5a3b5ec"
            ],
            "text/plain": [
              "<IPython.core.display.Javascript object>"
            ]
          },
          "metadata": {}
        },
        {
          "output_type": "display_data",
          "data": {
            "application/javascript": [
              "window[\"00f851dc-9d8e-11ec-a544-0242ac1c0002\"] = document.querySelector(\"#id36-0-0\");\n",
              "//# sourceURL=js_4b147a917c"
            ],
            "text/plain": [
              "<IPython.core.display.Javascript object>"
            ]
          },
          "metadata": {}
        },
        {
          "output_type": "display_data",
          "data": {
            "application/javascript": [
              "window[\"00f8da80-9d8e-11ec-a544-0242ac1c0002\"] = google.colab.output.setActiveOutputArea(window[\"00f851dc-9d8e-11ec-a544-0242ac1c0002\"]);\n",
              "//# sourceURL=js_cc69786f06"
            ],
            "text/plain": [
              "<IPython.core.display.Javascript object>"
            ]
          },
          "metadata": {}
        },
        {
          "output_type": "display_data",
          "data": {
            "application/javascript": [
              "window[\"011534a0-9d8e-11ec-a544-0242ac1c0002\"] = google.colab.output.setActiveOutputArea(window[\"00f7cdd4-9d8e-11ec-a544-0242ac1c0002\"]);\n",
              "//# sourceURL=js_91e991bda0"
            ],
            "text/plain": [
              "<IPython.core.display.Javascript object>"
            ]
          },
          "metadata": {}
        },
        {
          "output_type": "display_data",
          "data": {
            "application/javascript": [
              "window[\"01198d20-9d8e-11ec-a544-0242ac1c0002\"] = google.colab.output.getActiveOutputArea();\n",
              "//# sourceURL=js_cb6a310e95"
            ],
            "text/plain": [
              "<IPython.core.display.Javascript object>"
            ]
          },
          "metadata": {}
        },
        {
          "output_type": "display_data",
          "data": {
            "application/javascript": [
              "window[\"011a34e6-9d8e-11ec-a544-0242ac1c0002\"] = document.querySelector(\"#id36-0-0\");\n",
              "//# sourceURL=js_5dd938ccc2"
            ],
            "text/plain": [
              "<IPython.core.display.Javascript object>"
            ]
          },
          "metadata": {}
        },
        {
          "output_type": "display_data",
          "data": {
            "application/javascript": [
              "window[\"011b0128-9d8e-11ec-a544-0242ac1c0002\"] = google.colab.output.setActiveOutputArea(window[\"011a34e6-9d8e-11ec-a544-0242ac1c0002\"]);\n",
              "//# sourceURL=js_80ad6f6ca9"
            ],
            "text/plain": [
              "<IPython.core.display.Javascript object>"
            ]
          },
          "metadata": {}
        },
        {
          "output_type": "display_data",
          "data": {
            "application/javascript": [
              "window[\"0139084e-9d8e-11ec-a544-0242ac1c0002\"] = google.colab.output.setActiveOutputArea(window[\"01198d20-9d8e-11ec-a544-0242ac1c0002\"]);\n",
              "//# sourceURL=js_4bdc381369"
            ],
            "text/plain": [
              "<IPython.core.display.Javascript object>"
            ]
          },
          "metadata": {}
        },
        {
          "output_type": "display_data",
          "data": {
            "application/javascript": [
              "window[\"015c02ae-9d8e-11ec-a544-0242ac1c0002\"] = google.colab.output.getActiveOutputArea();\n",
              "//# sourceURL=js_c2b8b9517c"
            ],
            "text/plain": [
              "<IPython.core.display.Javascript object>"
            ]
          },
          "metadata": {}
        },
        {
          "output_type": "display_data",
          "data": {
            "application/javascript": [
              "window[\"015cb14a-9d8e-11ec-a544-0242ac1c0002\"] = document.querySelector(\"#id36-0-0\");\n",
              "//# sourceURL=js_4bd1f330f7"
            ],
            "text/plain": [
              "<IPython.core.display.Javascript object>"
            ]
          },
          "metadata": {}
        },
        {
          "output_type": "display_data",
          "data": {
            "application/javascript": [
              "window[\"015d58b6-9d8e-11ec-a544-0242ac1c0002\"] = google.colab.output.setActiveOutputArea(window[\"015cb14a-9d8e-11ec-a544-0242ac1c0002\"]);\n",
              "//# sourceURL=js_70ea4f13c6"
            ],
            "text/plain": [
              "<IPython.core.display.Javascript object>"
            ]
          },
          "metadata": {}
        },
        {
          "output_type": "display_data",
          "data": {
            "application/javascript": [
              "window[\"017c23e0-9d8e-11ec-a544-0242ac1c0002\"] = google.colab.output.setActiveOutputArea(window[\"015c02ae-9d8e-11ec-a544-0242ac1c0002\"]);\n",
              "//# sourceURL=js_b15ecbd994"
            ],
            "text/plain": [
              "<IPython.core.display.Javascript object>"
            ]
          },
          "metadata": {}
        },
        {
          "output_type": "display_data",
          "data": {
            "application/javascript": [
              "window[\"019dae98-9d8e-11ec-a544-0242ac1c0002\"] = google.colab.output.getActiveOutputArea();\n",
              "//# sourceURL=js_5e6d26a9de"
            ],
            "text/plain": [
              "<IPython.core.display.Javascript object>"
            ]
          },
          "metadata": {}
        },
        {
          "output_type": "display_data",
          "data": {
            "application/javascript": [
              "window[\"019e099c-9d8e-11ec-a544-0242ac1c0002\"] = document.querySelector(\"#id36-0-0\");\n",
              "//# sourceURL=js_a66e09a862"
            ],
            "text/plain": [
              "<IPython.core.display.Javascript object>"
            ]
          },
          "metadata": {}
        },
        {
          "output_type": "display_data",
          "data": {
            "application/javascript": [
              "window[\"019e88ea-9d8e-11ec-a544-0242ac1c0002\"] = google.colab.output.setActiveOutputArea(window[\"019e099c-9d8e-11ec-a544-0242ac1c0002\"]);\n",
              "//# sourceURL=js_d9c0974735"
            ],
            "text/plain": [
              "<IPython.core.display.Javascript object>"
            ]
          },
          "metadata": {}
        },
        {
          "output_type": "display_data",
          "data": {
            "application/javascript": [
              "window[\"01bf55d4-9d8e-11ec-a544-0242ac1c0002\"] = google.colab.output.setActiveOutputArea(window[\"019dae98-9d8e-11ec-a544-0242ac1c0002\"]);\n",
              "//# sourceURL=js_254f94cf4c"
            ],
            "text/plain": [
              "<IPython.core.display.Javascript object>"
            ]
          },
          "metadata": {}
        },
        {
          "output_type": "display_data",
          "data": {
            "application/javascript": [
              "window[\"01e3ca22-9d8e-11ec-a544-0242ac1c0002\"] = google.colab.output.getActiveOutputArea();\n",
              "//# sourceURL=js_5f3421e277"
            ],
            "text/plain": [
              "<IPython.core.display.Javascript object>"
            ]
          },
          "metadata": {}
        },
        {
          "output_type": "display_data",
          "data": {
            "application/javascript": [
              "window[\"01e47b66-9d8e-11ec-a544-0242ac1c0002\"] = document.querySelector(\"#id36-0-0\");\n",
              "//# sourceURL=js_053c8b2014"
            ],
            "text/plain": [
              "<IPython.core.display.Javascript object>"
            ]
          },
          "metadata": {}
        },
        {
          "output_type": "display_data",
          "data": {
            "application/javascript": [
              "window[\"01e52066-9d8e-11ec-a544-0242ac1c0002\"] = google.colab.output.setActiveOutputArea(window[\"01e47b66-9d8e-11ec-a544-0242ac1c0002\"]);\n",
              "//# sourceURL=js_c0989f56bd"
            ],
            "text/plain": [
              "<IPython.core.display.Javascript object>"
            ]
          },
          "metadata": {}
        },
        {
          "output_type": "display_data",
          "data": {
            "application/javascript": [
              "window[\"0205ffb6-9d8e-11ec-a544-0242ac1c0002\"] = google.colab.output.setActiveOutputArea(window[\"01e3ca22-9d8e-11ec-a544-0242ac1c0002\"]);\n",
              "//# sourceURL=js_b878cc9c6b"
            ],
            "text/plain": [
              "<IPython.core.display.Javascript object>"
            ]
          },
          "metadata": {}
        },
        {
          "output_type": "display_data",
          "data": {
            "application/javascript": [
              "window[\"02276c3c-9d8e-11ec-a544-0242ac1c0002\"] = google.colab.output.getActiveOutputArea();\n",
              "//# sourceURL=js_ac41cac1cd"
            ],
            "text/plain": [
              "<IPython.core.display.Javascript object>"
            ]
          },
          "metadata": {}
        },
        {
          "output_type": "display_data",
          "data": {
            "application/javascript": [
              "window[\"0227f1ca-9d8e-11ec-a544-0242ac1c0002\"] = document.querySelector(\"#id36-0-0\");\n",
              "//# sourceURL=js_da64f3872b"
            ],
            "text/plain": [
              "<IPython.core.display.Javascript object>"
            ]
          },
          "metadata": {}
        },
        {
          "output_type": "display_data",
          "data": {
            "application/javascript": [
              "window[\"02289ec2-9d8e-11ec-a544-0242ac1c0002\"] = google.colab.output.setActiveOutputArea(window[\"0227f1ca-9d8e-11ec-a544-0242ac1c0002\"]);\n",
              "//# sourceURL=js_d14a0cdcec"
            ],
            "text/plain": [
              "<IPython.core.display.Javascript object>"
            ]
          },
          "metadata": {}
        },
        {
          "output_type": "display_data",
          "data": {
            "application/javascript": [
              "window[\"02453c8a-9d8e-11ec-a544-0242ac1c0002\"] = google.colab.output.setActiveOutputArea(window[\"02276c3c-9d8e-11ec-a544-0242ac1c0002\"]);\n",
              "//# sourceURL=js_8dc9ec8a2c"
            ],
            "text/plain": [
              "<IPython.core.display.Javascript object>"
            ]
          },
          "metadata": {}
        },
        {
          "output_type": "display_data",
          "data": {
            "application/javascript": [
              "window[\"0265eda4-9d8e-11ec-a544-0242ac1c0002\"] = google.colab.output.getActiveOutputArea();\n",
              "//# sourceURL=js_21efc2afb7"
            ],
            "text/plain": [
              "<IPython.core.display.Javascript object>"
            ]
          },
          "metadata": {}
        },
        {
          "output_type": "display_data",
          "data": {
            "application/javascript": [
              "window[\"0266909c-9d8e-11ec-a544-0242ac1c0002\"] = document.querySelector(\"#id36-0-0\");\n",
              "//# sourceURL=js_96b86e4331"
            ],
            "text/plain": [
              "<IPython.core.display.Javascript object>"
            ]
          },
          "metadata": {}
        },
        {
          "output_type": "display_data",
          "data": {
            "application/javascript": [
              "window[\"02674a50-9d8e-11ec-a544-0242ac1c0002\"] = google.colab.output.setActiveOutputArea(window[\"0266909c-9d8e-11ec-a544-0242ac1c0002\"]);\n",
              "//# sourceURL=js_2f3793fb30"
            ],
            "text/plain": [
              "<IPython.core.display.Javascript object>"
            ]
          },
          "metadata": {}
        },
        {
          "output_type": "display_data",
          "data": {
            "application/javascript": [
              "window[\"0287f598-9d8e-11ec-a544-0242ac1c0002\"] = google.colab.output.setActiveOutputArea(window[\"0265eda4-9d8e-11ec-a544-0242ac1c0002\"]);\n",
              "//# sourceURL=js_0ebd070d3e"
            ],
            "text/plain": [
              "<IPython.core.display.Javascript object>"
            ]
          },
          "metadata": {}
        },
        {
          "output_type": "display_data",
          "data": {
            "application/javascript": [
              "window[\"02a9475c-9d8e-11ec-a544-0242ac1c0002\"] = google.colab.output.getActiveOutputArea();\n",
              "//# sourceURL=js_e5ec8ad13b"
            ],
            "text/plain": [
              "<IPython.core.display.Javascript object>"
            ]
          },
          "metadata": {}
        },
        {
          "output_type": "display_data",
          "data": {
            "application/javascript": [
              "window[\"02a9f60c-9d8e-11ec-a544-0242ac1c0002\"] = document.querySelector(\"#id36-0-0\");\n",
              "//# sourceURL=js_376843ed0c"
            ],
            "text/plain": [
              "<IPython.core.display.Javascript object>"
            ]
          },
          "metadata": {}
        },
        {
          "output_type": "display_data",
          "data": {
            "application/javascript": [
              "window[\"02aa8054-9d8e-11ec-a544-0242ac1c0002\"] = google.colab.output.setActiveOutputArea(window[\"02a9f60c-9d8e-11ec-a544-0242ac1c0002\"]);\n",
              "//# sourceURL=js_7b2b767441"
            ],
            "text/plain": [
              "<IPython.core.display.Javascript object>"
            ]
          },
          "metadata": {}
        },
        {
          "output_type": "display_data",
          "data": {
            "application/javascript": [
              "window[\"02db2e52-9d8e-11ec-a544-0242ac1c0002\"] = google.colab.output.setActiveOutputArea(window[\"02a9475c-9d8e-11ec-a544-0242ac1c0002\"]);\n",
              "//# sourceURL=js_51ec3be970"
            ],
            "text/plain": [
              "<IPython.core.display.Javascript object>"
            ]
          },
          "metadata": {}
        },
        {
          "output_type": "display_data",
          "data": {
            "application/javascript": [
              "window[\"02fc91c8-9d8e-11ec-a544-0242ac1c0002\"] = google.colab.output.getActiveOutputArea();\n",
              "//# sourceURL=js_d66b88d5ee"
            ],
            "text/plain": [
              "<IPython.core.display.Javascript object>"
            ]
          },
          "metadata": {}
        },
        {
          "output_type": "display_data",
          "data": {
            "application/javascript": [
              "window[\"02fd1864-9d8e-11ec-a544-0242ac1c0002\"] = document.querySelector(\"#id36-0-0\");\n",
              "//# sourceURL=js_373910186b"
            ],
            "text/plain": [
              "<IPython.core.display.Javascript object>"
            ]
          },
          "metadata": {}
        },
        {
          "output_type": "display_data",
          "data": {
            "application/javascript": [
              "window[\"02fdbd6e-9d8e-11ec-a544-0242ac1c0002\"] = google.colab.output.setActiveOutputArea(window[\"02fd1864-9d8e-11ec-a544-0242ac1c0002\"]);\n",
              "//# sourceURL=js_e8c2976cf7"
            ],
            "text/plain": [
              "<IPython.core.display.Javascript object>"
            ]
          },
          "metadata": {}
        },
        {
          "output_type": "display_data",
          "data": {
            "application/javascript": [
              "window[\"03193e5e-9d8e-11ec-a544-0242ac1c0002\"] = google.colab.output.setActiveOutputArea(window[\"02fc91c8-9d8e-11ec-a544-0242ac1c0002\"]);\n",
              "//# sourceURL=js_8bb64db659"
            ],
            "text/plain": [
              "<IPython.core.display.Javascript object>"
            ]
          },
          "metadata": {}
        },
        {
          "output_type": "display_data",
          "data": {
            "application/javascript": [
              "window[\"033a3ece-9d8e-11ec-a544-0242ac1c0002\"] = google.colab.output.getActiveOutputArea();\n",
              "//# sourceURL=js_e444d724b6"
            ],
            "text/plain": [
              "<IPython.core.display.Javascript object>"
            ]
          },
          "metadata": {}
        },
        {
          "output_type": "display_data",
          "data": {
            "application/javascript": [
              "window[\"033adaa0-9d8e-11ec-a544-0242ac1c0002\"] = document.querySelector(\"#id36-0-0\");\n",
              "//# sourceURL=js_a061ff5f03"
            ],
            "text/plain": [
              "<IPython.core.display.Javascript object>"
            ]
          },
          "metadata": {}
        },
        {
          "output_type": "display_data",
          "data": {
            "application/javascript": [
              "window[\"033b3e64-9d8e-11ec-a544-0242ac1c0002\"] = google.colab.output.setActiveOutputArea(window[\"033adaa0-9d8e-11ec-a544-0242ac1c0002\"]);\n",
              "//# sourceURL=js_5bece6de16"
            ],
            "text/plain": [
              "<IPython.core.display.Javascript object>"
            ]
          },
          "metadata": {}
        },
        {
          "output_type": "display_data",
          "data": {
            "application/javascript": [
              "window[\"0358e93c-9d8e-11ec-a544-0242ac1c0002\"] = google.colab.output.setActiveOutputArea(window[\"033a3ece-9d8e-11ec-a544-0242ac1c0002\"]);\n",
              "//# sourceURL=js_40dc22ded0"
            ],
            "text/plain": [
              "<IPython.core.display.Javascript object>"
            ]
          },
          "metadata": {}
        },
        {
          "output_type": "display_data",
          "data": {
            "application/javascript": [
              "window[\"037bec8e-9d8e-11ec-a544-0242ac1c0002\"] = google.colab.output.getActiveOutputArea();\n",
              "//# sourceURL=js_712141a780"
            ],
            "text/plain": [
              "<IPython.core.display.Javascript object>"
            ]
          },
          "metadata": {}
        },
        {
          "output_type": "display_data",
          "data": {
            "application/javascript": [
              "window[\"037c5ce6-9d8e-11ec-a544-0242ac1c0002\"] = document.querySelector(\"#id36-0-0\");\n",
              "//# sourceURL=js_ea419656e6"
            ],
            "text/plain": [
              "<IPython.core.display.Javascript object>"
            ]
          },
          "metadata": {}
        },
        {
          "output_type": "display_data",
          "data": {
            "application/javascript": [
              "window[\"037cda04-9d8e-11ec-a544-0242ac1c0002\"] = google.colab.output.setActiveOutputArea(window[\"037c5ce6-9d8e-11ec-a544-0242ac1c0002\"]);\n",
              "//# sourceURL=js_65130ad62b"
            ],
            "text/plain": [
              "<IPython.core.display.Javascript object>"
            ]
          },
          "metadata": {}
        },
        {
          "output_type": "display_data",
          "data": {
            "application/javascript": [
              "window[\"039a4878-9d8e-11ec-a544-0242ac1c0002\"] = google.colab.output.setActiveOutputArea(window[\"037bec8e-9d8e-11ec-a544-0242ac1c0002\"]);\n",
              "//# sourceURL=js_f892dd6d53"
            ],
            "text/plain": [
              "<IPython.core.display.Javascript object>"
            ]
          },
          "metadata": {}
        },
        {
          "output_type": "display_data",
          "data": {
            "application/javascript": [
              "window[\"03bbd1a0-9d8e-11ec-a544-0242ac1c0002\"] = google.colab.output.getActiveOutputArea();\n",
              "//# sourceURL=js_40d5b25099"
            ],
            "text/plain": [
              "<IPython.core.display.Javascript object>"
            ]
          },
          "metadata": {}
        },
        {
          "output_type": "display_data",
          "data": {
            "application/javascript": [
              "window[\"03bcf968-9d8e-11ec-a544-0242ac1c0002\"] = document.querySelector(\"#id36-0-0\");\n",
              "//# sourceURL=js_90473c527f"
            ],
            "text/plain": [
              "<IPython.core.display.Javascript object>"
            ]
          },
          "metadata": {}
        },
        {
          "output_type": "display_data",
          "data": {
            "application/javascript": [
              "window[\"03bdc668-9d8e-11ec-a544-0242ac1c0002\"] = google.colab.output.setActiveOutputArea(window[\"03bcf968-9d8e-11ec-a544-0242ac1c0002\"]);\n",
              "//# sourceURL=js_2d4ff9da70"
            ],
            "text/plain": [
              "<IPython.core.display.Javascript object>"
            ]
          },
          "metadata": {}
        },
        {
          "output_type": "display_data",
          "data": {
            "application/javascript": [
              "window[\"03dda564-9d8e-11ec-a544-0242ac1c0002\"] = google.colab.output.setActiveOutputArea(window[\"03bbd1a0-9d8e-11ec-a544-0242ac1c0002\"]);\n",
              "//# sourceURL=js_16acbceea8"
            ],
            "text/plain": [
              "<IPython.core.display.Javascript object>"
            ]
          },
          "metadata": {}
        },
        {
          "output_type": "display_data",
          "data": {
            "application/javascript": [
              "window[\"040030f2-9d8e-11ec-a544-0242ac1c0002\"] = google.colab.output.getActiveOutputArea();\n",
              "//# sourceURL=js_15d0f8fa23"
            ],
            "text/plain": [
              "<IPython.core.display.Javascript object>"
            ]
          },
          "metadata": {}
        },
        {
          "output_type": "display_data",
          "data": {
            "application/javascript": [
              "window[\"0400c134-9d8e-11ec-a544-0242ac1c0002\"] = document.querySelector(\"#id36-0-0\");\n",
              "//# sourceURL=js_f25f917bee"
            ],
            "text/plain": [
              "<IPython.core.display.Javascript object>"
            ]
          },
          "metadata": {}
        },
        {
          "output_type": "display_data",
          "data": {
            "application/javascript": [
              "window[\"0401347a-9d8e-11ec-a544-0242ac1c0002\"] = google.colab.output.setActiveOutputArea(window[\"0400c134-9d8e-11ec-a544-0242ac1c0002\"]);\n",
              "//# sourceURL=js_2fed8d0928"
            ],
            "text/plain": [
              "<IPython.core.display.Javascript object>"
            ]
          },
          "metadata": {}
        },
        {
          "output_type": "display_data",
          "data": {
            "application/javascript": [
              "window[\"0420bd36-9d8e-11ec-a544-0242ac1c0002\"] = google.colab.output.setActiveOutputArea(window[\"040030f2-9d8e-11ec-a544-0242ac1c0002\"]);\n",
              "//# sourceURL=js_b85983316a"
            ],
            "text/plain": [
              "<IPython.core.display.Javascript object>"
            ]
          },
          "metadata": {}
        },
        {
          "output_type": "display_data",
          "data": {
            "application/javascript": [
              "window[\"044228e0-9d8e-11ec-a544-0242ac1c0002\"] = google.colab.output.getActiveOutputArea();\n",
              "//# sourceURL=js_6b9ed39ac1"
            ],
            "text/plain": [
              "<IPython.core.display.Javascript object>"
            ]
          },
          "metadata": {}
        },
        {
          "output_type": "display_data",
          "data": {
            "application/javascript": [
              "window[\"0442bf44-9d8e-11ec-a544-0242ac1c0002\"] = document.querySelector(\"#id36-0-0\");\n",
              "//# sourceURL=js_f9c66a7ebd"
            ],
            "text/plain": [
              "<IPython.core.display.Javascript object>"
            ]
          },
          "metadata": {}
        },
        {
          "output_type": "display_data",
          "data": {
            "application/javascript": [
              "window[\"04433abe-9d8e-11ec-a544-0242ac1c0002\"] = google.colab.output.setActiveOutputArea(window[\"0442bf44-9d8e-11ec-a544-0242ac1c0002\"]);\n",
              "//# sourceURL=js_2be9ac7ad8"
            ],
            "text/plain": [
              "<IPython.core.display.Javascript object>"
            ]
          },
          "metadata": {}
        },
        {
          "output_type": "display_data",
          "data": {
            "application/javascript": [
              "window[\"045d5afc-9d8e-11ec-a544-0242ac1c0002\"] = google.colab.output.setActiveOutputArea(window[\"044228e0-9d8e-11ec-a544-0242ac1c0002\"]);\n",
              "//# sourceURL=js_5ea99818f3"
            ],
            "text/plain": [
              "<IPython.core.display.Javascript object>"
            ]
          },
          "metadata": {}
        },
        {
          "output_type": "display_data",
          "data": {
            "application/javascript": [
              "window[\"04802460-9d8e-11ec-a544-0242ac1c0002\"] = google.colab.output.getActiveOutputArea();\n",
              "//# sourceURL=js_3290b34ef7"
            ],
            "text/plain": [
              "<IPython.core.display.Javascript object>"
            ]
          },
          "metadata": {}
        },
        {
          "output_type": "display_data",
          "data": {
            "application/javascript": [
              "window[\"04808d74-9d8e-11ec-a544-0242ac1c0002\"] = document.querySelector(\"#id36-0-0\");\n",
              "//# sourceURL=js_4c05abd3df"
            ],
            "text/plain": [
              "<IPython.core.display.Javascript object>"
            ]
          },
          "metadata": {}
        },
        {
          "output_type": "display_data",
          "data": {
            "application/javascript": [
              "window[\"0481d666-9d8e-11ec-a544-0242ac1c0002\"] = google.colab.output.setActiveOutputArea(window[\"04808d74-9d8e-11ec-a544-0242ac1c0002\"]);\n",
              "//# sourceURL=js_315e7cf1e6"
            ],
            "text/plain": [
              "<IPython.core.display.Javascript object>"
            ]
          },
          "metadata": {}
        },
        {
          "output_type": "display_data",
          "data": {
            "application/javascript": [
              "window[\"04a52044-9d8e-11ec-a544-0242ac1c0002\"] = google.colab.output.setActiveOutputArea(window[\"04802460-9d8e-11ec-a544-0242ac1c0002\"]);\n",
              "//# sourceURL=js_74a5e6f208"
            ],
            "text/plain": [
              "<IPython.core.display.Javascript object>"
            ]
          },
          "metadata": {}
        },
        {
          "output_type": "display_data",
          "data": {
            "application/javascript": [
              "window[\"04c765c8-9d8e-11ec-a544-0242ac1c0002\"] = google.colab.output.getActiveOutputArea();\n",
              "//# sourceURL=js_c75fd65dbb"
            ],
            "text/plain": [
              "<IPython.core.display.Javascript object>"
            ]
          },
          "metadata": {}
        },
        {
          "output_type": "display_data",
          "data": {
            "application/javascript": [
              "window[\"04c7ff7e-9d8e-11ec-a544-0242ac1c0002\"] = document.querySelector(\"#id36-0-0\");\n",
              "//# sourceURL=js_3939e334df"
            ],
            "text/plain": [
              "<IPython.core.display.Javascript object>"
            ]
          },
          "metadata": {}
        },
        {
          "output_type": "display_data",
          "data": {
            "application/javascript": [
              "window[\"04c913c8-9d8e-11ec-a544-0242ac1c0002\"] = google.colab.output.setActiveOutputArea(window[\"04c7ff7e-9d8e-11ec-a544-0242ac1c0002\"]);\n",
              "//# sourceURL=js_b8235259ca"
            ],
            "text/plain": [
              "<IPython.core.display.Javascript object>"
            ]
          },
          "metadata": {}
        },
        {
          "output_type": "display_data",
          "data": {
            "application/javascript": [
              "window[\"04e6533e-9d8e-11ec-a544-0242ac1c0002\"] = google.colab.output.setActiveOutputArea(window[\"04c765c8-9d8e-11ec-a544-0242ac1c0002\"]);\n",
              "//# sourceURL=js_6b5d44acfa"
            ],
            "text/plain": [
              "<IPython.core.display.Javascript object>"
            ]
          },
          "metadata": {}
        },
        {
          "output_type": "display_data",
          "data": {
            "application/javascript": [
              "window[\"05074846-9d8e-11ec-a544-0242ac1c0002\"] = google.colab.output.getActiveOutputArea();\n",
              "//# sourceURL=js_2e4b0f48d0"
            ],
            "text/plain": [
              "<IPython.core.display.Javascript object>"
            ]
          },
          "metadata": {}
        },
        {
          "output_type": "display_data",
          "data": {
            "application/javascript": [
              "window[\"0507d90a-9d8e-11ec-a544-0242ac1c0002\"] = document.querySelector(\"#id36-0-0\");\n",
              "//# sourceURL=js_f7f71542fd"
            ],
            "text/plain": [
              "<IPython.core.display.Javascript object>"
            ]
          },
          "metadata": {}
        },
        {
          "output_type": "display_data",
          "data": {
            "application/javascript": [
              "window[\"0508e4ee-9d8e-11ec-a544-0242ac1c0002\"] = google.colab.output.setActiveOutputArea(window[\"0507d90a-9d8e-11ec-a544-0242ac1c0002\"]);\n",
              "//# sourceURL=js_f32c2aabbc"
            ],
            "text/plain": [
              "<IPython.core.display.Javascript object>"
            ]
          },
          "metadata": {}
        },
        {
          "output_type": "display_data",
          "data": {
            "application/javascript": [
              "window[\"05271590-9d8e-11ec-a544-0242ac1c0002\"] = google.colab.output.setActiveOutputArea(window[\"05074846-9d8e-11ec-a544-0242ac1c0002\"]);\n",
              "//# sourceURL=js_37b1b003fd"
            ],
            "text/plain": [
              "<IPython.core.display.Javascript object>"
            ]
          },
          "metadata": {}
        },
        {
          "output_type": "display_data",
          "data": {
            "application/javascript": [
              "window[\"0548cc6c-9d8e-11ec-a544-0242ac1c0002\"] = google.colab.output.getActiveOutputArea();\n",
              "//# sourceURL=js_11393479cd"
            ],
            "text/plain": [
              "<IPython.core.display.Javascript object>"
            ]
          },
          "metadata": {}
        },
        {
          "output_type": "display_data",
          "data": {
            "application/javascript": [
              "window[\"054925c2-9d8e-11ec-a544-0242ac1c0002\"] = document.querySelector(\"#id36-0-0\");\n",
              "//# sourceURL=js_1dc04fc6ff"
            ],
            "text/plain": [
              "<IPython.core.display.Javascript object>"
            ]
          },
          "metadata": {}
        },
        {
          "output_type": "display_data",
          "data": {
            "application/javascript": [
              "window[\"0549fd80-9d8e-11ec-a544-0242ac1c0002\"] = google.colab.output.setActiveOutputArea(window[\"054925c2-9d8e-11ec-a544-0242ac1c0002\"]);\n",
              "//# sourceURL=js_da0ce4cdcf"
            ],
            "text/plain": [
              "<IPython.core.display.Javascript object>"
            ]
          },
          "metadata": {}
        },
        {
          "output_type": "display_data",
          "data": {
            "application/javascript": [
              "window[\"05687774-9d8e-11ec-a544-0242ac1c0002\"] = google.colab.output.setActiveOutputArea(window[\"0548cc6c-9d8e-11ec-a544-0242ac1c0002\"]);\n",
              "//# sourceURL=js_de9729352d"
            ],
            "text/plain": [
              "<IPython.core.display.Javascript object>"
            ]
          },
          "metadata": {}
        },
        {
          "output_type": "display_data",
          "data": {
            "application/javascript": [
              "window[\"0589c168-9d8e-11ec-a544-0242ac1c0002\"] = google.colab.output.getActiveOutputArea();\n",
              "//# sourceURL=js_92a906943c"
            ],
            "text/plain": [
              "<IPython.core.display.Javascript object>"
            ]
          },
          "metadata": {}
        },
        {
          "output_type": "display_data",
          "data": {
            "application/javascript": [
              "window[\"0589fb1a-9d8e-11ec-a544-0242ac1c0002\"] = document.querySelector(\"#id36-0-0\");\n",
              "//# sourceURL=js_8e37f09581"
            ],
            "text/plain": [
              "<IPython.core.display.Javascript object>"
            ]
          },
          "metadata": {}
        },
        {
          "output_type": "display_data",
          "data": {
            "application/javascript": [
              "window[\"058a3166-9d8e-11ec-a544-0242ac1c0002\"] = google.colab.output.setActiveOutputArea(window[\"0589fb1a-9d8e-11ec-a544-0242ac1c0002\"]);\n",
              "//# sourceURL=js_6993e8bdd9"
            ],
            "text/plain": [
              "<IPython.core.display.Javascript object>"
            ]
          },
          "metadata": {}
        },
        {
          "output_type": "display_data",
          "data": {
            "application/javascript": [
              "window[\"05a794a4-9d8e-11ec-a544-0242ac1c0002\"] = google.colab.output.setActiveOutputArea(window[\"0589c168-9d8e-11ec-a544-0242ac1c0002\"]);\n",
              "//# sourceURL=js_c03301ad80"
            ],
            "text/plain": [
              "<IPython.core.display.Javascript object>"
            ]
          },
          "metadata": {}
        },
        {
          "output_type": "display_data",
          "data": {
            "application/javascript": [
              "window[\"05c870d4-9d8e-11ec-a544-0242ac1c0002\"] = google.colab.output.getActiveOutputArea();\n",
              "//# sourceURL=js_3c6d08a506"
            ],
            "text/plain": [
              "<IPython.core.display.Javascript object>"
            ]
          },
          "metadata": {}
        },
        {
          "output_type": "display_data",
          "data": {
            "application/javascript": [
              "window[\"05c8d740-9d8e-11ec-a544-0242ac1c0002\"] = document.querySelector(\"#id36-0-0\");\n",
              "//# sourceURL=js_a1bfaa332b"
            ],
            "text/plain": [
              "<IPython.core.display.Javascript object>"
            ]
          },
          "metadata": {}
        },
        {
          "output_type": "display_data",
          "data": {
            "application/javascript": [
              "window[\"05c9367c-9d8e-11ec-a544-0242ac1c0002\"] = google.colab.output.setActiveOutputArea(window[\"05c8d740-9d8e-11ec-a544-0242ac1c0002\"]);\n",
              "//# sourceURL=js_bb8a23ea69"
            ],
            "text/plain": [
              "<IPython.core.display.Javascript object>"
            ]
          },
          "metadata": {}
        },
        {
          "output_type": "display_data",
          "data": {
            "application/javascript": [
              "window[\"05ea82aa-9d8e-11ec-a544-0242ac1c0002\"] = google.colab.output.setActiveOutputArea(window[\"05c870d4-9d8e-11ec-a544-0242ac1c0002\"]);\n",
              "//# sourceURL=js_d9f84c5486"
            ],
            "text/plain": [
              "<IPython.core.display.Javascript object>"
            ]
          },
          "metadata": {}
        },
        {
          "output_type": "display_data",
          "data": {
            "application/javascript": [
              "window[\"060e4c8a-9d8e-11ec-a544-0242ac1c0002\"] = google.colab.output.getActiveOutputArea();\n",
              "//# sourceURL=js_3275020ca3"
            ],
            "text/plain": [
              "<IPython.core.display.Javascript object>"
            ]
          },
          "metadata": {}
        },
        {
          "output_type": "display_data",
          "data": {
            "application/javascript": [
              "window[\"060ee956-9d8e-11ec-a544-0242ac1c0002\"] = document.querySelector(\"#id36-0-0\");\n",
              "//# sourceURL=js_819b35f31b"
            ],
            "text/plain": [
              "<IPython.core.display.Javascript object>"
            ]
          },
          "metadata": {}
        },
        {
          "output_type": "display_data",
          "data": {
            "application/javascript": [
              "window[\"060fa490-9d8e-11ec-a544-0242ac1c0002\"] = google.colab.output.setActiveOutputArea(window[\"060ee956-9d8e-11ec-a544-0242ac1c0002\"]);\n",
              "//# sourceURL=js_25aca5e5f5"
            ],
            "text/plain": [
              "<IPython.core.display.Javascript object>"
            ]
          },
          "metadata": {}
        },
        {
          "output_type": "display_data",
          "data": {
            "application/javascript": [
              "window[\"062b823c-9d8e-11ec-a544-0242ac1c0002\"] = google.colab.output.setActiveOutputArea(window[\"060e4c8a-9d8e-11ec-a544-0242ac1c0002\"]);\n",
              "//# sourceURL=js_9c4ddbfc9b"
            ],
            "text/plain": [
              "<IPython.core.display.Javascript object>"
            ]
          },
          "metadata": {}
        },
        {
          "output_type": "display_data",
          "data": {
            "application/javascript": [
              "window[\"064ca25a-9d8e-11ec-a544-0242ac1c0002\"] = google.colab.output.getActiveOutputArea();\n",
              "//# sourceURL=js_a3287370dd"
            ],
            "text/plain": [
              "<IPython.core.display.Javascript object>"
            ]
          },
          "metadata": {}
        },
        {
          "output_type": "display_data",
          "data": {
            "application/javascript": [
              "window[\"064d0c4a-9d8e-11ec-a544-0242ac1c0002\"] = document.querySelector(\"#id36-0-0\");\n",
              "//# sourceURL=js_bd850e792f"
            ],
            "text/plain": [
              "<IPython.core.display.Javascript object>"
            ]
          },
          "metadata": {}
        },
        {
          "output_type": "display_data",
          "data": {
            "application/javascript": [
              "window[\"064d9bb0-9d8e-11ec-a544-0242ac1c0002\"] = google.colab.output.setActiveOutputArea(window[\"064d0c4a-9d8e-11ec-a544-0242ac1c0002\"]);\n",
              "//# sourceURL=js_99ecaf4d0e"
            ],
            "text/plain": [
              "<IPython.core.display.Javascript object>"
            ]
          },
          "metadata": {}
        },
        {
          "output_type": "display_data",
          "data": {
            "application/javascript": [
              "window[\"066d19e0-9d8e-11ec-a544-0242ac1c0002\"] = google.colab.output.setActiveOutputArea(window[\"064ca25a-9d8e-11ec-a544-0242ac1c0002\"]);\n",
              "//# sourceURL=js_5aae2a4d32"
            ],
            "text/plain": [
              "<IPython.core.display.Javascript object>"
            ]
          },
          "metadata": {}
        },
        {
          "output_type": "display_data",
          "data": {
            "application/javascript": [
              "window[\"0691a990-9d8e-11ec-a544-0242ac1c0002\"] = google.colab.output.getActiveOutputArea();\n",
              "//# sourceURL=js_caa8a04de5"
            ],
            "text/plain": [
              "<IPython.core.display.Javascript object>"
            ]
          },
          "metadata": {}
        },
        {
          "output_type": "display_data",
          "data": {
            "application/javascript": [
              "window[\"06923d74-9d8e-11ec-a544-0242ac1c0002\"] = document.querySelector(\"#id36-0-0\");\n",
              "//# sourceURL=js_837c806711"
            ],
            "text/plain": [
              "<IPython.core.display.Javascript object>"
            ]
          },
          "metadata": {}
        },
        {
          "output_type": "display_data",
          "data": {
            "application/javascript": [
              "window[\"0692c5f0-9d8e-11ec-a544-0242ac1c0002\"] = google.colab.output.setActiveOutputArea(window[\"06923d74-9d8e-11ec-a544-0242ac1c0002\"]);\n",
              "//# sourceURL=js_64d9f030a9"
            ],
            "text/plain": [
              "<IPython.core.display.Javascript object>"
            ]
          },
          "metadata": {}
        },
        {
          "output_type": "display_data",
          "data": {
            "application/javascript": [
              "window[\"06c2f4a0-9d8e-11ec-a544-0242ac1c0002\"] = google.colab.output.setActiveOutputArea(window[\"0691a990-9d8e-11ec-a544-0242ac1c0002\"]);\n",
              "//# sourceURL=js_76683f93c4"
            ],
            "text/plain": [
              "<IPython.core.display.Javascript object>"
            ]
          },
          "metadata": {}
        },
        {
          "output_type": "display_data",
          "data": {
            "application/javascript": [
              "window[\"06e5456e-9d8e-11ec-a544-0242ac1c0002\"] = google.colab.output.getActiveOutputArea();\n",
              "//# sourceURL=js_3b48562a2d"
            ],
            "text/plain": [
              "<IPython.core.display.Javascript object>"
            ]
          },
          "metadata": {}
        },
        {
          "output_type": "display_data",
          "data": {
            "application/javascript": [
              "window[\"06e642d4-9d8e-11ec-a544-0242ac1c0002\"] = document.querySelector(\"#id36-0-0\");\n",
              "//# sourceURL=js_c459b210bf"
            ],
            "text/plain": [
              "<IPython.core.display.Javascript object>"
            ]
          },
          "metadata": {}
        },
        {
          "output_type": "display_data",
          "data": {
            "application/javascript": [
              "window[\"06e6c042-9d8e-11ec-a544-0242ac1c0002\"] = google.colab.output.setActiveOutputArea(window[\"06e642d4-9d8e-11ec-a544-0242ac1c0002\"]);\n",
              "//# sourceURL=js_1036ab0257"
            ],
            "text/plain": [
              "<IPython.core.display.Javascript object>"
            ]
          },
          "metadata": {}
        },
        {
          "output_type": "display_data",
          "data": {
            "application/javascript": [
              "window[\"07051290-9d8e-11ec-a544-0242ac1c0002\"] = google.colab.output.setActiveOutputArea(window[\"06e5456e-9d8e-11ec-a544-0242ac1c0002\"]);\n",
              "//# sourceURL=js_3874e211fc"
            ],
            "text/plain": [
              "<IPython.core.display.Javascript object>"
            ]
          },
          "metadata": {}
        },
        {
          "output_type": "display_data",
          "data": {
            "application/javascript": [
              "window[\"07261e68-9d8e-11ec-a544-0242ac1c0002\"] = google.colab.output.getActiveOutputArea();\n",
              "//# sourceURL=js_b03fd21d52"
            ],
            "text/plain": [
              "<IPython.core.display.Javascript object>"
            ]
          },
          "metadata": {}
        },
        {
          "output_type": "display_data",
          "data": {
            "application/javascript": [
              "window[\"07272d26-9d8e-11ec-a544-0242ac1c0002\"] = document.querySelector(\"#id36-0-0\");\n",
              "//# sourceURL=js_4a3d65e799"
            ],
            "text/plain": [
              "<IPython.core.display.Javascript object>"
            ]
          },
          "metadata": {}
        },
        {
          "output_type": "display_data",
          "data": {
            "application/javascript": [
              "window[\"07278faa-9d8e-11ec-a544-0242ac1c0002\"] = google.colab.output.setActiveOutputArea(window[\"07272d26-9d8e-11ec-a544-0242ac1c0002\"]);\n",
              "//# sourceURL=js_4440a2a260"
            ],
            "text/plain": [
              "<IPython.core.display.Javascript object>"
            ]
          },
          "metadata": {}
        },
        {
          "output_type": "display_data",
          "data": {
            "application/javascript": [
              "window[\"07456034-9d8e-11ec-a544-0242ac1c0002\"] = google.colab.output.setActiveOutputArea(window[\"07261e68-9d8e-11ec-a544-0242ac1c0002\"]);\n",
              "//# sourceURL=js_e0fb77217b"
            ],
            "text/plain": [
              "<IPython.core.display.Javascript object>"
            ]
          },
          "metadata": {}
        },
        {
          "output_type": "display_data",
          "data": {
            "application/javascript": [
              "window[\"076635a2-9d8e-11ec-a544-0242ac1c0002\"] = google.colab.output.getActiveOutputArea();\n",
              "//# sourceURL=js_3ffe7a41ca"
            ],
            "text/plain": [
              "<IPython.core.display.Javascript object>"
            ]
          },
          "metadata": {}
        },
        {
          "output_type": "display_data",
          "data": {
            "application/javascript": [
              "window[\"07668eda-9d8e-11ec-a544-0242ac1c0002\"] = document.querySelector(\"#id36-0-0\");\n",
              "//# sourceURL=js_763c60a0bc"
            ],
            "text/plain": [
              "<IPython.core.display.Javascript object>"
            ]
          },
          "metadata": {}
        },
        {
          "output_type": "display_data",
          "data": {
            "application/javascript": [
              "window[\"076706bc-9d8e-11ec-a544-0242ac1c0002\"] = google.colab.output.setActiveOutputArea(window[\"07668eda-9d8e-11ec-a544-0242ac1c0002\"]);\n",
              "//# sourceURL=js_b1630e6c0d"
            ],
            "text/plain": [
              "<IPython.core.display.Javascript object>"
            ]
          },
          "metadata": {}
        },
        {
          "output_type": "display_data",
          "data": {
            "application/javascript": [
              "window[\"07844498-9d8e-11ec-a544-0242ac1c0002\"] = google.colab.output.setActiveOutputArea(window[\"076635a2-9d8e-11ec-a544-0242ac1c0002\"]);\n",
              "//# sourceURL=js_afacfb026a"
            ],
            "text/plain": [
              "<IPython.core.display.Javascript object>"
            ]
          },
          "metadata": {}
        },
        {
          "output_type": "display_data",
          "data": {
            "application/javascript": [
              "window[\"07a79f88-9d8e-11ec-a544-0242ac1c0002\"] = google.colab.output.getActiveOutputArea();\n",
              "//# sourceURL=js_baa352b560"
            ],
            "text/plain": [
              "<IPython.core.display.Javascript object>"
            ]
          },
          "metadata": {}
        },
        {
          "output_type": "display_data",
          "data": {
            "application/javascript": [
              "window[\"07a84852-9d8e-11ec-a544-0242ac1c0002\"] = document.querySelector(\"#id36-0-0\");\n",
              "//# sourceURL=js_06f48b8d5d"
            ],
            "text/plain": [
              "<IPython.core.display.Javascript object>"
            ]
          },
          "metadata": {}
        },
        {
          "output_type": "display_data",
          "data": {
            "application/javascript": [
              "window[\"07a8ef14-9d8e-11ec-a544-0242ac1c0002\"] = google.colab.output.setActiveOutputArea(window[\"07a84852-9d8e-11ec-a544-0242ac1c0002\"]);\n",
              "//# sourceURL=js_be3ce6c546"
            ],
            "text/plain": [
              "<IPython.core.display.Javascript object>"
            ]
          },
          "metadata": {}
        },
        {
          "output_type": "display_data",
          "data": {
            "application/javascript": [
              "window[\"07c598c6-9d8e-11ec-a544-0242ac1c0002\"] = google.colab.output.setActiveOutputArea(window[\"07a79f88-9d8e-11ec-a544-0242ac1c0002\"]);\n",
              "//# sourceURL=js_8971b15f90"
            ],
            "text/plain": [
              "<IPython.core.display.Javascript object>"
            ]
          },
          "metadata": {}
        },
        {
          "output_type": "display_data",
          "data": {
            "application/javascript": [
              "window[\"07e95144-9d8e-11ec-a544-0242ac1c0002\"] = google.colab.output.getActiveOutputArea();\n",
              "//# sourceURL=js_099e4776de"
            ],
            "text/plain": [
              "<IPython.core.display.Javascript object>"
            ]
          },
          "metadata": {}
        },
        {
          "output_type": "display_data",
          "data": {
            "application/javascript": [
              "window[\"07e9fc34-9d8e-11ec-a544-0242ac1c0002\"] = document.querySelector(\"#id36-0-0\");\n",
              "//# sourceURL=js_c665c86f1c"
            ],
            "text/plain": [
              "<IPython.core.display.Javascript object>"
            ]
          },
          "metadata": {}
        },
        {
          "output_type": "display_data",
          "data": {
            "application/javascript": [
              "window[\"07ea95d6-9d8e-11ec-a544-0242ac1c0002\"] = google.colab.output.setActiveOutputArea(window[\"07e9fc34-9d8e-11ec-a544-0242ac1c0002\"]);\n",
              "//# sourceURL=js_aded6309cf"
            ],
            "text/plain": [
              "<IPython.core.display.Javascript object>"
            ]
          },
          "metadata": {}
        },
        {
          "output_type": "display_data",
          "data": {
            "application/javascript": [
              "window[\"08080698-9d8e-11ec-a544-0242ac1c0002\"] = google.colab.output.setActiveOutputArea(window[\"07e95144-9d8e-11ec-a544-0242ac1c0002\"]);\n",
              "//# sourceURL=js_c4f29e150c"
            ],
            "text/plain": [
              "<IPython.core.display.Javascript object>"
            ]
          },
          "metadata": {}
        },
        {
          "output_type": "display_data",
          "data": {
            "application/javascript": [
              "window[\"08291900-9d8e-11ec-a544-0242ac1c0002\"] = google.colab.output.getActiveOutputArea();\n",
              "//# sourceURL=js_2861e8bc5f"
            ],
            "text/plain": [
              "<IPython.core.display.Javascript object>"
            ]
          },
          "metadata": {}
        },
        {
          "output_type": "display_data",
          "data": {
            "application/javascript": [
              "window[\"082972b0-9d8e-11ec-a544-0242ac1c0002\"] = document.querySelector(\"#id36-0-0\");\n",
              "//# sourceURL=js_2dadac9ba4"
            ],
            "text/plain": [
              "<IPython.core.display.Javascript object>"
            ]
          },
          "metadata": {}
        },
        {
          "output_type": "display_data",
          "data": {
            "application/javascript": [
              "window[\"0829d30e-9d8e-11ec-a544-0242ac1c0002\"] = google.colab.output.setActiveOutputArea(window[\"082972b0-9d8e-11ec-a544-0242ac1c0002\"]);\n",
              "//# sourceURL=js_d1178c19a4"
            ],
            "text/plain": [
              "<IPython.core.display.Javascript object>"
            ]
          },
          "metadata": {}
        },
        {
          "output_type": "display_data",
          "data": {
            "application/javascript": [
              "window[\"084bccfc-9d8e-11ec-a544-0242ac1c0002\"] = google.colab.output.setActiveOutputArea(window[\"08291900-9d8e-11ec-a544-0242ac1c0002\"]);\n",
              "//# sourceURL=js_2320f2cfb1"
            ],
            "text/plain": [
              "<IPython.core.display.Javascript object>"
            ]
          },
          "metadata": {}
        },
        {
          "output_type": "display_data",
          "data": {
            "application/javascript": [
              "window[\"086ea29a-9d8e-11ec-a544-0242ac1c0002\"] = google.colab.output.getActiveOutputArea();\n",
              "//# sourceURL=js_a37e6b8809"
            ],
            "text/plain": [
              "<IPython.core.display.Javascript object>"
            ]
          },
          "metadata": {}
        },
        {
          "output_type": "display_data",
          "data": {
            "application/javascript": [
              "window[\"086f51ea-9d8e-11ec-a544-0242ac1c0002\"] = document.querySelector(\"#id36-0-0\");\n",
              "//# sourceURL=js_255ea2386b"
            ],
            "text/plain": [
              "<IPython.core.display.Javascript object>"
            ]
          },
          "metadata": {}
        },
        {
          "output_type": "display_data",
          "data": {
            "application/javascript": [
              "window[\"086fa302-9d8e-11ec-a544-0242ac1c0002\"] = google.colab.output.setActiveOutputArea(window[\"086f51ea-9d8e-11ec-a544-0242ac1c0002\"]);\n",
              "//# sourceURL=js_164ae19eaf"
            ],
            "text/plain": [
              "<IPython.core.display.Javascript object>"
            ]
          },
          "metadata": {}
        },
        {
          "output_type": "display_data",
          "data": {
            "application/javascript": [
              "window[\"088d1df6-9d8e-11ec-a544-0242ac1c0002\"] = google.colab.output.setActiveOutputArea(window[\"086ea29a-9d8e-11ec-a544-0242ac1c0002\"]);\n",
              "//# sourceURL=js_ec9dc3e8c6"
            ],
            "text/plain": [
              "<IPython.core.display.Javascript object>"
            ]
          },
          "metadata": {}
        },
        {
          "output_type": "display_data",
          "data": {
            "application/javascript": [
              "window[\"08addd48-9d8e-11ec-a544-0242ac1c0002\"] = google.colab.output.getActiveOutputArea();\n",
              "//# sourceURL=js_ad257d9873"
            ],
            "text/plain": [
              "<IPython.core.display.Javascript object>"
            ]
          },
          "metadata": {}
        },
        {
          "output_type": "display_data",
          "data": {
            "application/javascript": [
              "window[\"08ae804a-9d8e-11ec-a544-0242ac1c0002\"] = document.querySelector(\"#id36-0-0\");\n",
              "//# sourceURL=js_e6c68d24f2"
            ],
            "text/plain": [
              "<IPython.core.display.Javascript object>"
            ]
          },
          "metadata": {}
        },
        {
          "output_type": "display_data",
          "data": {
            "application/javascript": [
              "window[\"08aedfea-9d8e-11ec-a544-0242ac1c0002\"] = google.colab.output.setActiveOutputArea(window[\"08ae804a-9d8e-11ec-a544-0242ac1c0002\"]);\n",
              "//# sourceURL=js_339cd10b59"
            ],
            "text/plain": [
              "<IPython.core.display.Javascript object>"
            ]
          },
          "metadata": {}
        },
        {
          "output_type": "display_data",
          "data": {
            "application/javascript": [
              "window[\"08cd06c8-9d8e-11ec-a544-0242ac1c0002\"] = google.colab.output.setActiveOutputArea(window[\"08addd48-9d8e-11ec-a544-0242ac1c0002\"]);\n",
              "//# sourceURL=js_2367991872"
            ],
            "text/plain": [
              "<IPython.core.display.Javascript object>"
            ]
          },
          "metadata": {}
        },
        {
          "output_type": "display_data",
          "data": {
            "application/javascript": [
              "window[\"08eda23e-9d8e-11ec-a544-0242ac1c0002\"] = google.colab.output.getActiveOutputArea();\n",
              "//# sourceURL=js_7f951934fb"
            ],
            "text/plain": [
              "<IPython.core.display.Javascript object>"
            ]
          },
          "metadata": {}
        },
        {
          "output_type": "display_data",
          "data": {
            "application/javascript": [
              "window[\"08ee5954-9d8e-11ec-a544-0242ac1c0002\"] = document.querySelector(\"#id36-0-0\");\n",
              "//# sourceURL=js_ae0c23a9ef"
            ],
            "text/plain": [
              "<IPython.core.display.Javascript object>"
            ]
          },
          "metadata": {}
        },
        {
          "output_type": "display_data",
          "data": {
            "application/javascript": [
              "window[\"08eebcdc-9d8e-11ec-a544-0242ac1c0002\"] = google.colab.output.setActiveOutputArea(window[\"08ee5954-9d8e-11ec-a544-0242ac1c0002\"]);\n",
              "//# sourceURL=js_0debd60ec9"
            ],
            "text/plain": [
              "<IPython.core.display.Javascript object>"
            ]
          },
          "metadata": {}
        },
        {
          "output_type": "display_data",
          "data": {
            "application/javascript": [
              "window[\"090b2b92-9d8e-11ec-a544-0242ac1c0002\"] = google.colab.output.setActiveOutputArea(window[\"08eda23e-9d8e-11ec-a544-0242ac1c0002\"]);\n",
              "//# sourceURL=js_9bfbdec43b"
            ],
            "text/plain": [
              "<IPython.core.display.Javascript object>"
            ]
          },
          "metadata": {}
        },
        {
          "output_type": "display_data",
          "data": {
            "application/javascript": [
              "window[\"092e519e-9d8e-11ec-a544-0242ac1c0002\"] = google.colab.output.getActiveOutputArea();\n",
              "//# sourceURL=js_b7945bbfb5"
            ],
            "text/plain": [
              "<IPython.core.display.Javascript object>"
            ]
          },
          "metadata": {}
        },
        {
          "output_type": "display_data",
          "data": {
            "application/javascript": [
              "window[\"092e9b36-9d8e-11ec-a544-0242ac1c0002\"] = document.querySelector(\"#id36-0-0\");\n",
              "//# sourceURL=js_45c3de7dbc"
            ],
            "text/plain": [
              "<IPython.core.display.Javascript object>"
            ]
          },
          "metadata": {}
        },
        {
          "output_type": "display_data",
          "data": {
            "application/javascript": [
              "window[\"092f1098-9d8e-11ec-a544-0242ac1c0002\"] = google.colab.output.setActiveOutputArea(window[\"092e9b36-9d8e-11ec-a544-0242ac1c0002\"]);\n",
              "//# sourceURL=js_8fbfdc53b7"
            ],
            "text/plain": [
              "<IPython.core.display.Javascript object>"
            ]
          },
          "metadata": {}
        },
        {
          "output_type": "display_data",
          "data": {
            "application/javascript": [
              "window[\"0948b9f8-9d8e-11ec-a544-0242ac1c0002\"] = google.colab.output.setActiveOutputArea(window[\"092e519e-9d8e-11ec-a544-0242ac1c0002\"]);\n",
              "//# sourceURL=js_5de1a10419"
            ],
            "text/plain": [
              "<IPython.core.display.Javascript object>"
            ]
          },
          "metadata": {}
        },
        {
          "output_type": "display_data",
          "data": {
            "application/javascript": [
              "window[\"09696842-9d8e-11ec-a544-0242ac1c0002\"] = google.colab.output.getActiveOutputArea();\n",
              "//# sourceURL=js_147fa5689f"
            ],
            "text/plain": [
              "<IPython.core.display.Javascript object>"
            ]
          },
          "metadata": {}
        },
        {
          "output_type": "display_data",
          "data": {
            "application/javascript": [
              "window[\"0969cb84-9d8e-11ec-a544-0242ac1c0002\"] = document.querySelector(\"#id36-0-0\");\n",
              "//# sourceURL=js_50584fb065"
            ],
            "text/plain": [
              "<IPython.core.display.Javascript object>"
            ]
          },
          "metadata": {}
        },
        {
          "output_type": "display_data",
          "data": {
            "application/javascript": [
              "window[\"096a6c4c-9d8e-11ec-a544-0242ac1c0002\"] = google.colab.output.setActiveOutputArea(window[\"0969cb84-9d8e-11ec-a544-0242ac1c0002\"]);\n",
              "//# sourceURL=js_899a2ed8a6"
            ],
            "text/plain": [
              "<IPython.core.display.Javascript object>"
            ]
          },
          "metadata": {}
        },
        {
          "output_type": "display_data",
          "data": {
            "application/javascript": [
              "window[\"0985ccda-9d8e-11ec-a544-0242ac1c0002\"] = google.colab.output.setActiveOutputArea(window[\"09696842-9d8e-11ec-a544-0242ac1c0002\"]);\n",
              "//# sourceURL=js_37230e410e"
            ],
            "text/plain": [
              "<IPython.core.display.Javascript object>"
            ]
          },
          "metadata": {}
        },
        {
          "output_type": "display_data",
          "data": {
            "application/javascript": [
              "window[\"09a6930c-9d8e-11ec-a544-0242ac1c0002\"] = google.colab.output.getActiveOutputArea();\n",
              "//# sourceURL=js_0098df1532"
            ],
            "text/plain": [
              "<IPython.core.display.Javascript object>"
            ]
          },
          "metadata": {}
        },
        {
          "output_type": "display_data",
          "data": {
            "application/javascript": [
              "window[\"09a7211e-9d8e-11ec-a544-0242ac1c0002\"] = document.querySelector(\"#id36-0-0\");\n",
              "//# sourceURL=js_1077380a53"
            ],
            "text/plain": [
              "<IPython.core.display.Javascript object>"
            ]
          },
          "metadata": {}
        },
        {
          "output_type": "display_data",
          "data": {
            "application/javascript": [
              "window[\"09a7793e-9d8e-11ec-a544-0242ac1c0002\"] = google.colab.output.setActiveOutputArea(window[\"09a7211e-9d8e-11ec-a544-0242ac1c0002\"]);\n",
              "//# sourceURL=js_a264c3724b"
            ],
            "text/plain": [
              "<IPython.core.display.Javascript object>"
            ]
          },
          "metadata": {}
        },
        {
          "output_type": "display_data",
          "data": {
            "application/javascript": [
              "window[\"09c628f2-9d8e-11ec-a544-0242ac1c0002\"] = google.colab.output.setActiveOutputArea(window[\"09a6930c-9d8e-11ec-a544-0242ac1c0002\"]);\n",
              "//# sourceURL=js_ef0878107f"
            ],
            "text/plain": [
              "<IPython.core.display.Javascript object>"
            ]
          },
          "metadata": {}
        },
        {
          "output_type": "display_data",
          "data": {
            "application/javascript": [
              "window[\"09e75bf8-9d8e-11ec-a544-0242ac1c0002\"] = google.colab.output.getActiveOutputArea();\n",
              "//# sourceURL=js_c711436371"
            ],
            "text/plain": [
              "<IPython.core.display.Javascript object>"
            ]
          },
          "metadata": {}
        },
        {
          "output_type": "display_data",
          "data": {
            "application/javascript": [
              "window[\"09e7dd1c-9d8e-11ec-a544-0242ac1c0002\"] = document.querySelector(\"#id36-0-0\");\n",
              "//# sourceURL=js_def966b204"
            ],
            "text/plain": [
              "<IPython.core.display.Javascript object>"
            ]
          },
          "metadata": {}
        },
        {
          "output_type": "display_data",
          "data": {
            "application/javascript": [
              "window[\"09e87d80-9d8e-11ec-a544-0242ac1c0002\"] = google.colab.output.setActiveOutputArea(window[\"09e7dd1c-9d8e-11ec-a544-0242ac1c0002\"]);\n",
              "//# sourceURL=js_8469448362"
            ],
            "text/plain": [
              "<IPython.core.display.Javascript object>"
            ]
          },
          "metadata": {}
        },
        {
          "output_type": "display_data",
          "data": {
            "application/javascript": [
              "window[\"0a0377f2-9d8e-11ec-a544-0242ac1c0002\"] = google.colab.output.setActiveOutputArea(window[\"09e75bf8-9d8e-11ec-a544-0242ac1c0002\"]);\n",
              "//# sourceURL=js_7680cf7645"
            ],
            "text/plain": [
              "<IPython.core.display.Javascript object>"
            ]
          },
          "metadata": {}
        },
        {
          "output_type": "display_data",
          "data": {
            "application/javascript": [
              "window[\"0a24e3ce-9d8e-11ec-a544-0242ac1c0002\"] = google.colab.output.getActiveOutputArea();\n",
              "//# sourceURL=js_67df303f2c"
            ],
            "text/plain": [
              "<IPython.core.display.Javascript object>"
            ]
          },
          "metadata": {}
        },
        {
          "output_type": "display_data",
          "data": {
            "application/javascript": [
              "window[\"0a2549ea-9d8e-11ec-a544-0242ac1c0002\"] = document.querySelector(\"#id36-0-0\");\n",
              "//# sourceURL=js_d40b352669"
            ],
            "text/plain": [
              "<IPython.core.display.Javascript object>"
            ]
          },
          "metadata": {}
        },
        {
          "output_type": "display_data",
          "data": {
            "application/javascript": [
              "window[\"0a25f6a6-9d8e-11ec-a544-0242ac1c0002\"] = google.colab.output.setActiveOutputArea(window[\"0a2549ea-9d8e-11ec-a544-0242ac1c0002\"]);\n",
              "//# sourceURL=js_b846a8576b"
            ],
            "text/plain": [
              "<IPython.core.display.Javascript object>"
            ]
          },
          "metadata": {}
        },
        {
          "output_type": "display_data",
          "data": {
            "application/javascript": [
              "window[\"0a41cf8e-9d8e-11ec-a544-0242ac1c0002\"] = google.colab.output.setActiveOutputArea(window[\"0a24e3ce-9d8e-11ec-a544-0242ac1c0002\"]);\n",
              "//# sourceURL=js_2292be488d"
            ],
            "text/plain": [
              "<IPython.core.display.Javascript object>"
            ]
          },
          "metadata": {}
        },
        {
          "output_type": "display_data",
          "data": {
            "application/javascript": [
              "window[\"0a631a86-9d8e-11ec-a544-0242ac1c0002\"] = google.colab.output.getActiveOutputArea();\n",
              "//# sourceURL=js_b0c8ed3b09"
            ],
            "text/plain": [
              "<IPython.core.display.Javascript object>"
            ]
          },
          "metadata": {}
        },
        {
          "output_type": "display_data",
          "data": {
            "application/javascript": [
              "window[\"0a639768-9d8e-11ec-a544-0242ac1c0002\"] = document.querySelector(\"#id36-0-0\");\n",
              "//# sourceURL=js_cf549ec16b"
            ],
            "text/plain": [
              "<IPython.core.display.Javascript object>"
            ]
          },
          "metadata": {}
        },
        {
          "output_type": "display_data",
          "data": {
            "application/javascript": [
              "window[\"0a64737c-9d8e-11ec-a544-0242ac1c0002\"] = google.colab.output.setActiveOutputArea(window[\"0a639768-9d8e-11ec-a544-0242ac1c0002\"]);\n",
              "//# sourceURL=js_8dbe62fdd8"
            ],
            "text/plain": [
              "<IPython.core.display.Javascript object>"
            ]
          },
          "metadata": {}
        },
        {
          "output_type": "display_data",
          "data": {
            "application/javascript": [
              "window[\"0a9158ec-9d8e-11ec-a544-0242ac1c0002\"] = google.colab.output.setActiveOutputArea(window[\"0a631a86-9d8e-11ec-a544-0242ac1c0002\"]);\n",
              "//# sourceURL=js_3dd6b4f06f"
            ],
            "text/plain": [
              "<IPython.core.display.Javascript object>"
            ]
          },
          "metadata": {}
        },
        {
          "output_type": "display_data",
          "data": {
            "application/javascript": [
              "window[\"0ab2144c-9d8e-11ec-a544-0242ac1c0002\"] = google.colab.output.getActiveOutputArea();\n",
              "//# sourceURL=js_04df03b640"
            ],
            "text/plain": [
              "<IPython.core.display.Javascript object>"
            ]
          },
          "metadata": {}
        },
        {
          "output_type": "display_data",
          "data": {
            "application/javascript": [
              "window[\"0ab27a2c-9d8e-11ec-a544-0242ac1c0002\"] = document.querySelector(\"#id36-0-0\");\n",
              "//# sourceURL=js_9489f3fe51"
            ],
            "text/plain": [
              "<IPython.core.display.Javascript object>"
            ]
          },
          "metadata": {}
        },
        {
          "output_type": "display_data",
          "data": {
            "application/javascript": [
              "window[\"0ab31d88-9d8e-11ec-a544-0242ac1c0002\"] = google.colab.output.setActiveOutputArea(window[\"0ab27a2c-9d8e-11ec-a544-0242ac1c0002\"]);\n",
              "//# sourceURL=js_8ac2f32d73"
            ],
            "text/plain": [
              "<IPython.core.display.Javascript object>"
            ]
          },
          "metadata": {}
        },
        {
          "output_type": "display_data",
          "data": {
            "application/javascript": [
              "window[\"0ace3ae6-9d8e-11ec-a544-0242ac1c0002\"] = google.colab.output.setActiveOutputArea(window[\"0ab2144c-9d8e-11ec-a544-0242ac1c0002\"]);\n",
              "//# sourceURL=js_826e75d110"
            ],
            "text/plain": [
              "<IPython.core.display.Javascript object>"
            ]
          },
          "metadata": {}
        },
        {
          "output_type": "display_data",
          "data": {
            "application/javascript": [
              "window[\"0af147b6-9d8e-11ec-a544-0242ac1c0002\"] = google.colab.output.getActiveOutputArea();\n",
              "//# sourceURL=js_6443eaf7ae"
            ],
            "text/plain": [
              "<IPython.core.display.Javascript object>"
            ]
          },
          "metadata": {}
        },
        {
          "output_type": "display_data",
          "data": {
            "application/javascript": [
              "window[\"0af2872a-9d8e-11ec-a544-0242ac1c0002\"] = document.querySelector(\"#id36-0-0\");\n",
              "//# sourceURL=js_8c02ae82bf"
            ],
            "text/plain": [
              "<IPython.core.display.Javascript object>"
            ]
          },
          "metadata": {}
        },
        {
          "output_type": "display_data",
          "data": {
            "application/javascript": [
              "window[\"0af36870-9d8e-11ec-a544-0242ac1c0002\"] = google.colab.output.setActiveOutputArea(window[\"0af2872a-9d8e-11ec-a544-0242ac1c0002\"]);\n",
              "//# sourceURL=js_68af9df2ea"
            ],
            "text/plain": [
              "<IPython.core.display.Javascript object>"
            ]
          },
          "metadata": {}
        },
        {
          "output_type": "display_data",
          "data": {
            "application/javascript": [
              "window[\"0b10012e-9d8e-11ec-a544-0242ac1c0002\"] = google.colab.output.setActiveOutputArea(window[\"0af147b6-9d8e-11ec-a544-0242ac1c0002\"]);\n",
              "//# sourceURL=js_317cb63658"
            ],
            "text/plain": [
              "<IPython.core.display.Javascript object>"
            ]
          },
          "metadata": {}
        },
        {
          "output_type": "display_data",
          "data": {
            "application/javascript": [
              "window[\"0b3144ba-9d8e-11ec-a544-0242ac1c0002\"] = google.colab.output.getActiveOutputArea();\n",
              "//# sourceURL=js_3d2b88b52f"
            ],
            "text/plain": [
              "<IPython.core.display.Javascript object>"
            ]
          },
          "metadata": {}
        },
        {
          "output_type": "display_data",
          "data": {
            "application/javascript": [
              "window[\"0b31b576-9d8e-11ec-a544-0242ac1c0002\"] = document.querySelector(\"#id36-0-0\");\n",
              "//# sourceURL=js_b0d3a7eafd"
            ],
            "text/plain": [
              "<IPython.core.display.Javascript object>"
            ]
          },
          "metadata": {}
        },
        {
          "output_type": "display_data",
          "data": {
            "application/javascript": [
              "window[\"0b333cf2-9d8e-11ec-a544-0242ac1c0002\"] = google.colab.output.setActiveOutputArea(window[\"0b31b576-9d8e-11ec-a544-0242ac1c0002\"]);\n",
              "//# sourceURL=js_4c0660d707"
            ],
            "text/plain": [
              "<IPython.core.display.Javascript object>"
            ]
          },
          "metadata": {}
        },
        {
          "output_type": "display_data",
          "data": {
            "application/javascript": [
              "window[\"0b502844-9d8e-11ec-a544-0242ac1c0002\"] = google.colab.output.setActiveOutputArea(window[\"0b3144ba-9d8e-11ec-a544-0242ac1c0002\"]);\n",
              "//# sourceURL=js_f685b1ca51"
            ],
            "text/plain": [
              "<IPython.core.display.Javascript object>"
            ]
          },
          "metadata": {}
        },
        {
          "output_type": "display_data",
          "data": {
            "application/javascript": [
              "window[\"0b723d9e-9d8e-11ec-a544-0242ac1c0002\"] = google.colab.output.getActiveOutputArea();\n",
              "//# sourceURL=js_e840a66449"
            ],
            "text/plain": [
              "<IPython.core.display.Javascript object>"
            ]
          },
          "metadata": {}
        },
        {
          "output_type": "display_data",
          "data": {
            "application/javascript": [
              "window[\"0b72b26a-9d8e-11ec-a544-0242ac1c0002\"] = document.querySelector(\"#id36-0-0\");\n",
              "//# sourceURL=js_5a9cd953b9"
            ],
            "text/plain": [
              "<IPython.core.display.Javascript object>"
            ]
          },
          "metadata": {}
        },
        {
          "output_type": "display_data",
          "data": {
            "application/javascript": [
              "window[\"0b731d18-9d8e-11ec-a544-0242ac1c0002\"] = google.colab.output.setActiveOutputArea(window[\"0b72b26a-9d8e-11ec-a544-0242ac1c0002\"]);\n",
              "//# sourceURL=js_2b57baf2e8"
            ],
            "text/plain": [
              "<IPython.core.display.Javascript object>"
            ]
          },
          "metadata": {}
        },
        {
          "output_type": "display_data",
          "data": {
            "application/javascript": [
              "window[\"0b8d995e-9d8e-11ec-a544-0242ac1c0002\"] = google.colab.output.setActiveOutputArea(window[\"0b723d9e-9d8e-11ec-a544-0242ac1c0002\"]);\n",
              "//# sourceURL=js_f916d2ca31"
            ],
            "text/plain": [
              "<IPython.core.display.Javascript object>"
            ]
          },
          "metadata": {}
        },
        {
          "output_type": "display_data",
          "data": {
            "application/javascript": [
              "window[\"0baecef8-9d8e-11ec-a544-0242ac1c0002\"] = google.colab.output.getActiveOutputArea();\n",
              "//# sourceURL=js_7f016ead87"
            ],
            "text/plain": [
              "<IPython.core.display.Javascript object>"
            ]
          },
          "metadata": {}
        },
        {
          "output_type": "display_data",
          "data": {
            "application/javascript": [
              "window[\"0bafb35e-9d8e-11ec-a544-0242ac1c0002\"] = document.querySelector(\"#id36-0-0\");\n",
              "//# sourceURL=js_32fb1fb5c6"
            ],
            "text/plain": [
              "<IPython.core.display.Javascript object>"
            ]
          },
          "metadata": {}
        },
        {
          "output_type": "display_data",
          "data": {
            "application/javascript": [
              "window[\"0bb031f8-9d8e-11ec-a544-0242ac1c0002\"] = google.colab.output.setActiveOutputArea(window[\"0bafb35e-9d8e-11ec-a544-0242ac1c0002\"]);\n",
              "//# sourceURL=js_6c43191b49"
            ],
            "text/plain": [
              "<IPython.core.display.Javascript object>"
            ]
          },
          "metadata": {}
        },
        {
          "output_type": "display_data",
          "data": {
            "application/javascript": [
              "window[\"0bcd08be-9d8e-11ec-a544-0242ac1c0002\"] = google.colab.output.setActiveOutputArea(window[\"0baecef8-9d8e-11ec-a544-0242ac1c0002\"]);\n",
              "//# sourceURL=js_16e97a9b6b"
            ],
            "text/plain": [
              "<IPython.core.display.Javascript object>"
            ]
          },
          "metadata": {}
        },
        {
          "output_type": "display_data",
          "data": {
            "application/javascript": [
              "window[\"0bf00bf2-9d8e-11ec-a544-0242ac1c0002\"] = google.colab.output.getActiveOutputArea();\n",
              "//# sourceURL=js_5de6f177bf"
            ],
            "text/plain": [
              "<IPython.core.display.Javascript object>"
            ]
          },
          "metadata": {}
        },
        {
          "output_type": "display_data",
          "data": {
            "application/javascript": [
              "window[\"0bf07678-9d8e-11ec-a544-0242ac1c0002\"] = document.querySelector(\"#id36-0-0\");\n",
              "//# sourceURL=js_e874d1dc28"
            ],
            "text/plain": [
              "<IPython.core.display.Javascript object>"
            ]
          },
          "metadata": {}
        },
        {
          "output_type": "display_data",
          "data": {
            "application/javascript": [
              "window[\"0bf10084-9d8e-11ec-a544-0242ac1c0002\"] = google.colab.output.setActiveOutputArea(window[\"0bf07678-9d8e-11ec-a544-0242ac1c0002\"]);\n",
              "//# sourceURL=js_725d165557"
            ],
            "text/plain": [
              "<IPython.core.display.Javascript object>"
            ]
          },
          "metadata": {}
        },
        {
          "output_type": "display_data",
          "data": {
            "application/javascript": [
              "window[\"0c0babdc-9d8e-11ec-a544-0242ac1c0002\"] = google.colab.output.setActiveOutputArea(window[\"0bf00bf2-9d8e-11ec-a544-0242ac1c0002\"]);\n",
              "//# sourceURL=js_70611ec107"
            ],
            "text/plain": [
              "<IPython.core.display.Javascript object>"
            ]
          },
          "metadata": {}
        },
        {
          "output_type": "display_data",
          "data": {
            "application/javascript": [
              "window[\"0c2cbc3c-9d8e-11ec-a544-0242ac1c0002\"] = google.colab.output.getActiveOutputArea();\n",
              "//# sourceURL=js_9a28d2eefc"
            ],
            "text/plain": [
              "<IPython.core.display.Javascript object>"
            ]
          },
          "metadata": {}
        },
        {
          "output_type": "display_data",
          "data": {
            "application/javascript": [
              "window[\"0c2d4db4-9d8e-11ec-a544-0242ac1c0002\"] = document.querySelector(\"#id36-0-0\");\n",
              "//# sourceURL=js_7b896b4449"
            ],
            "text/plain": [
              "<IPython.core.display.Javascript object>"
            ]
          },
          "metadata": {}
        },
        {
          "output_type": "display_data",
          "data": {
            "application/javascript": [
              "window[\"0c2ddf36-9d8e-11ec-a544-0242ac1c0002\"] = google.colab.output.setActiveOutputArea(window[\"0c2d4db4-9d8e-11ec-a544-0242ac1c0002\"]);\n",
              "//# sourceURL=js_20af728d25"
            ],
            "text/plain": [
              "<IPython.core.display.Javascript object>"
            ]
          },
          "metadata": {}
        },
        {
          "output_type": "display_data",
          "data": {
            "application/javascript": [
              "window[\"0c4bcb40-9d8e-11ec-a544-0242ac1c0002\"] = google.colab.output.setActiveOutputArea(window[\"0c2cbc3c-9d8e-11ec-a544-0242ac1c0002\"]);\n",
              "//# sourceURL=js_18ace1d1b9"
            ],
            "text/plain": [
              "<IPython.core.display.Javascript object>"
            ]
          },
          "metadata": {}
        },
        {
          "output_type": "display_data",
          "data": {
            "application/javascript": [
              "window[\"0c6c6616-9d8e-11ec-a544-0242ac1c0002\"] = google.colab.output.getActiveOutputArea();\n",
              "//# sourceURL=js_97bf9f2661"
            ],
            "text/plain": [
              "<IPython.core.display.Javascript object>"
            ]
          },
          "metadata": {}
        },
        {
          "output_type": "display_data",
          "data": {
            "application/javascript": [
              "window[\"0c6ce37a-9d8e-11ec-a544-0242ac1c0002\"] = document.querySelector(\"#id36-0-0\");\n",
              "//# sourceURL=js_3669d57e9c"
            ],
            "text/plain": [
              "<IPython.core.display.Javascript object>"
            ]
          },
          "metadata": {}
        },
        {
          "output_type": "display_data",
          "data": {
            "application/javascript": [
              "window[\"0c6d7614-9d8e-11ec-a544-0242ac1c0002\"] = google.colab.output.setActiveOutputArea(window[\"0c6ce37a-9d8e-11ec-a544-0242ac1c0002\"]);\n",
              "//# sourceURL=js_2366bdf38e"
            ],
            "text/plain": [
              "<IPython.core.display.Javascript object>"
            ]
          },
          "metadata": {}
        },
        {
          "output_type": "display_data",
          "data": {
            "application/javascript": [
              "window[\"0c8a79ee-9d8e-11ec-a544-0242ac1c0002\"] = google.colab.output.setActiveOutputArea(window[\"0c6c6616-9d8e-11ec-a544-0242ac1c0002\"]);\n",
              "//# sourceURL=js_15de9f9597"
            ],
            "text/plain": [
              "<IPython.core.display.Javascript object>"
            ]
          },
          "metadata": {}
        },
        {
          "output_type": "display_data",
          "data": {
            "application/javascript": [
              "window[\"0cab4a48-9d8e-11ec-a544-0242ac1c0002\"] = google.colab.output.getActiveOutputArea();\n",
              "//# sourceURL=js_bf59fc4c05"
            ],
            "text/plain": [
              "<IPython.core.display.Javascript object>"
            ]
          },
          "metadata": {}
        },
        {
          "output_type": "display_data",
          "data": {
            "application/javascript": [
              "window[\"0cabb19a-9d8e-11ec-a544-0242ac1c0002\"] = document.querySelector(\"#id36-0-0\");\n",
              "//# sourceURL=js_9b6f7ac44e"
            ],
            "text/plain": [
              "<IPython.core.display.Javascript object>"
            ]
          },
          "metadata": {}
        },
        {
          "output_type": "display_data",
          "data": {
            "application/javascript": [
              "window[\"0cac18e2-9d8e-11ec-a544-0242ac1c0002\"] = google.colab.output.setActiveOutputArea(window[\"0cabb19a-9d8e-11ec-a544-0242ac1c0002\"]);\n",
              "//# sourceURL=js_bab5d8cda5"
            ],
            "text/plain": [
              "<IPython.core.display.Javascript object>"
            ]
          },
          "metadata": {}
        },
        {
          "output_type": "display_data",
          "data": {
            "application/javascript": [
              "window[\"0cc5cd14-9d8e-11ec-a544-0242ac1c0002\"] = google.colab.output.setActiveOutputArea(window[\"0cab4a48-9d8e-11ec-a544-0242ac1c0002\"]);\n",
              "//# sourceURL=js_ffa2300c1e"
            ],
            "text/plain": [
              "<IPython.core.display.Javascript object>"
            ]
          },
          "metadata": {}
        },
        {
          "output_type": "display_data",
          "data": {
            "application/javascript": [
              "window[\"0ce64f76-9d8e-11ec-a544-0242ac1c0002\"] = google.colab.output.getActiveOutputArea();\n",
              "//# sourceURL=js_b95e5bea41"
            ],
            "text/plain": [
              "<IPython.core.display.Javascript object>"
            ]
          },
          "metadata": {}
        },
        {
          "output_type": "display_data",
          "data": {
            "application/javascript": [
              "window[\"0ce6a03e-9d8e-11ec-a544-0242ac1c0002\"] = document.querySelector(\"#id36-0-0\");\n",
              "//# sourceURL=js_a9eee8594e"
            ],
            "text/plain": [
              "<IPython.core.display.Javascript object>"
            ]
          },
          "metadata": {}
        },
        {
          "output_type": "display_data",
          "data": {
            "application/javascript": [
              "window[\"0ce6df86-9d8e-11ec-a544-0242ac1c0002\"] = google.colab.output.setActiveOutputArea(window[\"0ce6a03e-9d8e-11ec-a544-0242ac1c0002\"]);\n",
              "//# sourceURL=js_415642c9da"
            ],
            "text/plain": [
              "<IPython.core.display.Javascript object>"
            ]
          },
          "metadata": {}
        },
        {
          "output_type": "display_data",
          "data": {
            "application/javascript": [
              "window[\"0d02e8e8-9d8e-11ec-a544-0242ac1c0002\"] = google.colab.output.setActiveOutputArea(window[\"0ce64f76-9d8e-11ec-a544-0242ac1c0002\"]);\n",
              "//# sourceURL=js_e02feff34c"
            ],
            "text/plain": [
              "<IPython.core.display.Javascript object>"
            ]
          },
          "metadata": {}
        },
        {
          "output_type": "display_data",
          "data": {
            "application/javascript": [
              "window[\"0d25647c-9d8e-11ec-a544-0242ac1c0002\"] = google.colab.output.getActiveOutputArea();\n",
              "//# sourceURL=js_02a3d890a6"
            ],
            "text/plain": [
              "<IPython.core.display.Javascript object>"
            ]
          },
          "metadata": {}
        },
        {
          "output_type": "display_data",
          "data": {
            "application/javascript": [
              "window[\"0d25bc2e-9d8e-11ec-a544-0242ac1c0002\"] = document.querySelector(\"#id36-0-0\");\n",
              "//# sourceURL=js_7c78680df1"
            ],
            "text/plain": [
              "<IPython.core.display.Javascript object>"
            ]
          },
          "metadata": {}
        },
        {
          "output_type": "display_data",
          "data": {
            "application/javascript": [
              "window[\"0d2621dc-9d8e-11ec-a544-0242ac1c0002\"] = google.colab.output.setActiveOutputArea(window[\"0d25bc2e-9d8e-11ec-a544-0242ac1c0002\"]);\n",
              "//# sourceURL=js_9205289eda"
            ],
            "text/plain": [
              "<IPython.core.display.Javascript object>"
            ]
          },
          "metadata": {}
        },
        {
          "output_type": "display_data",
          "data": {
            "application/javascript": [
              "window[\"0d452afa-9d8e-11ec-a544-0242ac1c0002\"] = google.colab.output.setActiveOutputArea(window[\"0d25647c-9d8e-11ec-a544-0242ac1c0002\"]);\n",
              "//# sourceURL=js_985ccdfb2c"
            ],
            "text/plain": [
              "<IPython.core.display.Javascript object>"
            ]
          },
          "metadata": {}
        },
        {
          "output_type": "display_data",
          "data": {
            "application/javascript": [
              "window[\"0d68c0b4-9d8e-11ec-a544-0242ac1c0002\"] = google.colab.output.getActiveOutputArea();\n",
              "//# sourceURL=js_84863327ee"
            ],
            "text/plain": [
              "<IPython.core.display.Javascript object>"
            ]
          },
          "metadata": {}
        },
        {
          "output_type": "display_data",
          "data": {
            "application/javascript": [
              "window[\"0d696000-9d8e-11ec-a544-0242ac1c0002\"] = document.querySelector(\"#id36-0-0\");\n",
              "//# sourceURL=js_d89dc7af93"
            ],
            "text/plain": [
              "<IPython.core.display.Javascript object>"
            ]
          },
          "metadata": {}
        },
        {
          "output_type": "display_data",
          "data": {
            "application/javascript": [
              "window[\"0d69d1c0-9d8e-11ec-a544-0242ac1c0002\"] = google.colab.output.setActiveOutputArea(window[\"0d696000-9d8e-11ec-a544-0242ac1c0002\"]);\n",
              "//# sourceURL=js_3f9099d730"
            ],
            "text/plain": [
              "<IPython.core.display.Javascript object>"
            ]
          },
          "metadata": {}
        },
        {
          "output_type": "display_data",
          "data": {
            "application/javascript": [
              "window[\"0d86c3c0-9d8e-11ec-a544-0242ac1c0002\"] = google.colab.output.setActiveOutputArea(window[\"0d68c0b4-9d8e-11ec-a544-0242ac1c0002\"]);\n",
              "//# sourceURL=js_cde1f77a1e"
            ],
            "text/plain": [
              "<IPython.core.display.Javascript object>"
            ]
          },
          "metadata": {}
        },
        {
          "output_type": "display_data",
          "data": {
            "application/javascript": [
              "window[\"0da79258-9d8e-11ec-a544-0242ac1c0002\"] = google.colab.output.getActiveOutputArea();\n",
              "//# sourceURL=js_b7ac75dc78"
            ],
            "text/plain": [
              "<IPython.core.display.Javascript object>"
            ]
          },
          "metadata": {}
        },
        {
          "output_type": "display_data",
          "data": {
            "application/javascript": [
              "window[\"0da83794-9d8e-11ec-a544-0242ac1c0002\"] = document.querySelector(\"#id36-0-0\");\n",
              "//# sourceURL=js_94dea8ffe2"
            ],
            "text/plain": [
              "<IPython.core.display.Javascript object>"
            ]
          },
          "metadata": {}
        },
        {
          "output_type": "display_data",
          "data": {
            "application/javascript": [
              "window[\"0da89b8a-9d8e-11ec-a544-0242ac1c0002\"] = google.colab.output.setActiveOutputArea(window[\"0da83794-9d8e-11ec-a544-0242ac1c0002\"]);\n",
              "//# sourceURL=js_56b805b47c"
            ],
            "text/plain": [
              "<IPython.core.display.Javascript object>"
            ]
          },
          "metadata": {}
        },
        {
          "output_type": "display_data",
          "data": {
            "application/javascript": [
              "window[\"0dc588f8-9d8e-11ec-a544-0242ac1c0002\"] = google.colab.output.setActiveOutputArea(window[\"0da79258-9d8e-11ec-a544-0242ac1c0002\"]);\n",
              "//# sourceURL=js_1c4556c8c6"
            ],
            "text/plain": [
              "<IPython.core.display.Javascript object>"
            ]
          },
          "metadata": {}
        },
        {
          "output_type": "display_data",
          "data": {
            "application/javascript": [
              "window[\"0de633d2-9d8e-11ec-a544-0242ac1c0002\"] = google.colab.output.getActiveOutputArea();\n",
              "//# sourceURL=js_43387d81dc"
            ],
            "text/plain": [
              "<IPython.core.display.Javascript object>"
            ]
          },
          "metadata": {}
        },
        {
          "output_type": "display_data",
          "data": {
            "application/javascript": [
              "window[\"0de6cafe-9d8e-11ec-a544-0242ac1c0002\"] = document.querySelector(\"#id36-0-0\");\n",
              "//# sourceURL=js_f0a882224e"
            ],
            "text/plain": [
              "<IPython.core.display.Javascript object>"
            ]
          },
          "metadata": {}
        },
        {
          "output_type": "display_data",
          "data": {
            "application/javascript": [
              "window[\"0de7580c-9d8e-11ec-a544-0242ac1c0002\"] = google.colab.output.setActiveOutputArea(window[\"0de6cafe-9d8e-11ec-a544-0242ac1c0002\"]);\n",
              "//# sourceURL=js_2e889e78c8"
            ],
            "text/plain": [
              "<IPython.core.display.Javascript object>"
            ]
          },
          "metadata": {}
        },
        {
          "output_type": "display_data",
          "data": {
            "application/javascript": [
              "window[\"0e01e708-9d8e-11ec-a544-0242ac1c0002\"] = google.colab.output.setActiveOutputArea(window[\"0de633d2-9d8e-11ec-a544-0242ac1c0002\"]);\n",
              "//# sourceURL=js_cfde93700e"
            ],
            "text/plain": [
              "<IPython.core.display.Javascript object>"
            ]
          },
          "metadata": {}
        },
        {
          "output_type": "display_data",
          "data": {
            "application/javascript": [
              "window[\"0e230762-9d8e-11ec-a544-0242ac1c0002\"] = google.colab.output.getActiveOutputArea();\n",
              "//# sourceURL=js_a1fbe1948c"
            ],
            "text/plain": [
              "<IPython.core.display.Javascript object>"
            ]
          },
          "metadata": {}
        },
        {
          "output_type": "display_data",
          "data": {
            "application/javascript": [
              "window[\"0e235d34-9d8e-11ec-a544-0242ac1c0002\"] = document.querySelector(\"#id36-0-0\");\n",
              "//# sourceURL=js_4ec4b287fb"
            ],
            "text/plain": [
              "<IPython.core.display.Javascript object>"
            ]
          },
          "metadata": {}
        },
        {
          "output_type": "display_data",
          "data": {
            "application/javascript": [
              "window[\"0e2436dc-9d8e-11ec-a544-0242ac1c0002\"] = google.colab.output.setActiveOutputArea(window[\"0e235d34-9d8e-11ec-a544-0242ac1c0002\"]);\n",
              "//# sourceURL=js_f76b2acbfa"
            ],
            "text/plain": [
              "<IPython.core.display.Javascript object>"
            ]
          },
          "metadata": {}
        },
        {
          "output_type": "display_data",
          "data": {
            "application/javascript": [
              "window[\"0e5158c4-9d8e-11ec-a544-0242ac1c0002\"] = google.colab.output.setActiveOutputArea(window[\"0e230762-9d8e-11ec-a544-0242ac1c0002\"]);\n",
              "//# sourceURL=js_821e819518"
            ],
            "text/plain": [
              "<IPython.core.display.Javascript object>"
            ]
          },
          "metadata": {}
        },
        {
          "output_type": "display_data",
          "data": {
            "application/javascript": [
              "window[\"0e72ba3c-9d8e-11ec-a544-0242ac1c0002\"] = google.colab.output.getActiveOutputArea();\n",
              "//# sourceURL=js_c06ca9d5d6"
            ],
            "text/plain": [
              "<IPython.core.display.Javascript object>"
            ]
          },
          "metadata": {}
        },
        {
          "output_type": "display_data",
          "data": {
            "application/javascript": [
              "window[\"0e730faa-9d8e-11ec-a544-0242ac1c0002\"] = document.querySelector(\"#id36-0-0\");\n",
              "//# sourceURL=js_8ffcd8f947"
            ],
            "text/plain": [
              "<IPython.core.display.Javascript object>"
            ]
          },
          "metadata": {}
        },
        {
          "output_type": "display_data",
          "data": {
            "application/javascript": [
              "window[\"0e737468-9d8e-11ec-a544-0242ac1c0002\"] = google.colab.output.setActiveOutputArea(window[\"0e730faa-9d8e-11ec-a544-0242ac1c0002\"]);\n",
              "//# sourceURL=js_2d5c8033ee"
            ],
            "text/plain": [
              "<IPython.core.display.Javascript object>"
            ]
          },
          "metadata": {}
        },
        {
          "output_type": "display_data",
          "data": {
            "application/javascript": [
              "window[\"0e8ecfd8-9d8e-11ec-a544-0242ac1c0002\"] = google.colab.output.setActiveOutputArea(window[\"0e72ba3c-9d8e-11ec-a544-0242ac1c0002\"]);\n",
              "//# sourceURL=js_ce1752d5f6"
            ],
            "text/plain": [
              "<IPython.core.display.Javascript object>"
            ]
          },
          "metadata": {}
        },
        {
          "output_type": "display_data",
          "data": {
            "application/javascript": [
              "window[\"0eaff348-9d8e-11ec-a544-0242ac1c0002\"] = google.colab.output.getActiveOutputArea();\n",
              "//# sourceURL=js_99925b1848"
            ],
            "text/plain": [
              "<IPython.core.display.Javascript object>"
            ]
          },
          "metadata": {}
        },
        {
          "output_type": "display_data",
          "data": {
            "application/javascript": [
              "window[\"0eb09230-9d8e-11ec-a544-0242ac1c0002\"] = document.querySelector(\"#id36-0-0\");\n",
              "//# sourceURL=js_9288defc23"
            ],
            "text/plain": [
              "<IPython.core.display.Javascript object>"
            ]
          },
          "metadata": {}
        },
        {
          "output_type": "display_data",
          "data": {
            "application/javascript": [
              "window[\"0eb0f63a-9d8e-11ec-a544-0242ac1c0002\"] = google.colab.output.setActiveOutputArea(window[\"0eb09230-9d8e-11ec-a544-0242ac1c0002\"]);\n",
              "//# sourceURL=js_a13d80ee9c"
            ],
            "text/plain": [
              "<IPython.core.display.Javascript object>"
            ]
          },
          "metadata": {}
        },
        {
          "output_type": "display_data",
          "data": {
            "application/javascript": [
              "window[\"0ece5fb8-9d8e-11ec-a544-0242ac1c0002\"] = google.colab.output.setActiveOutputArea(window[\"0eaff348-9d8e-11ec-a544-0242ac1c0002\"]);\n",
              "//# sourceURL=js_ac807d78f0"
            ],
            "text/plain": [
              "<IPython.core.display.Javascript object>"
            ]
          },
          "metadata": {}
        },
        {
          "output_type": "display_data",
          "data": {
            "application/javascript": [
              "window[\"0eef1546-9d8e-11ec-a544-0242ac1c0002\"] = google.colab.output.getActiveOutputArea();\n",
              "//# sourceURL=js_288c0a01df"
            ],
            "text/plain": [
              "<IPython.core.display.Javascript object>"
            ]
          },
          "metadata": {}
        },
        {
          "output_type": "display_data",
          "data": {
            "application/javascript": [
              "window[\"0eef8a62-9d8e-11ec-a544-0242ac1c0002\"] = document.querySelector(\"#id36-0-0\");\n",
              "//# sourceURL=js_ef56d3619c"
            ],
            "text/plain": [
              "<IPython.core.display.Javascript object>"
            ]
          },
          "metadata": {}
        },
        {
          "output_type": "display_data",
          "data": {
            "application/javascript": [
              "window[\"0eeff57e-9d8e-11ec-a544-0242ac1c0002\"] = google.colab.output.setActiveOutputArea(window[\"0eef8a62-9d8e-11ec-a544-0242ac1c0002\"]);\n",
              "//# sourceURL=js_2ac46fc6d4"
            ],
            "text/plain": [
              "<IPython.core.display.Javascript object>"
            ]
          },
          "metadata": {}
        },
        {
          "output_type": "display_data",
          "data": {
            "application/javascript": [
              "window[\"0f0c1e20-9d8e-11ec-a544-0242ac1c0002\"] = google.colab.output.setActiveOutputArea(window[\"0eef1546-9d8e-11ec-a544-0242ac1c0002\"]);\n",
              "//# sourceURL=js_388fc0b0bc"
            ],
            "text/plain": [
              "<IPython.core.display.Javascript object>"
            ]
          },
          "metadata": {}
        },
        {
          "output_type": "display_data",
          "data": {
            "application/javascript": [
              "window[\"0f2d0b9e-9d8e-11ec-a544-0242ac1c0002\"] = google.colab.output.getActiveOutputArea();\n",
              "//# sourceURL=js_0d94f6efa1"
            ],
            "text/plain": [
              "<IPython.core.display.Javascript object>"
            ]
          },
          "metadata": {}
        },
        {
          "output_type": "display_data",
          "data": {
            "application/javascript": [
              "window[\"0f2da45a-9d8e-11ec-a544-0242ac1c0002\"] = document.querySelector(\"#id36-0-0\");\n",
              "//# sourceURL=js_448b757906"
            ],
            "text/plain": [
              "<IPython.core.display.Javascript object>"
            ]
          },
          "metadata": {}
        },
        {
          "output_type": "display_data",
          "data": {
            "application/javascript": [
              "window[\"0f2e06fc-9d8e-11ec-a544-0242ac1c0002\"] = google.colab.output.setActiveOutputArea(window[\"0f2da45a-9d8e-11ec-a544-0242ac1c0002\"]);\n",
              "//# sourceURL=js_e91dcde519"
            ],
            "text/plain": [
              "<IPython.core.display.Javascript object>"
            ]
          },
          "metadata": {}
        },
        {
          "output_type": "display_data",
          "data": {
            "application/javascript": [
              "window[\"0f46cab6-9d8e-11ec-a544-0242ac1c0002\"] = google.colab.output.setActiveOutputArea(window[\"0f2d0b9e-9d8e-11ec-a544-0242ac1c0002\"]);\n",
              "//# sourceURL=js_8312f3150b"
            ],
            "text/plain": [
              "<IPython.core.display.Javascript object>"
            ]
          },
          "metadata": {}
        },
        {
          "output_type": "display_data",
          "data": {
            "application/javascript": [
              "window[\"0f67720c-9d8e-11ec-a544-0242ac1c0002\"] = google.colab.output.getActiveOutputArea();\n",
              "//# sourceURL=js_84cb5614e7"
            ],
            "text/plain": [
              "<IPython.core.display.Javascript object>"
            ]
          },
          "metadata": {}
        },
        {
          "output_type": "display_data",
          "data": {
            "application/javascript": [
              "window[\"0f67dde6-9d8e-11ec-a544-0242ac1c0002\"] = document.querySelector(\"#id36-0-0\");\n",
              "//# sourceURL=js_dffe76d71c"
            ],
            "text/plain": [
              "<IPython.core.display.Javascript object>"
            ]
          },
          "metadata": {}
        },
        {
          "output_type": "display_data",
          "data": {
            "application/javascript": [
              "window[\"0f683750-9d8e-11ec-a544-0242ac1c0002\"] = google.colab.output.setActiveOutputArea(window[\"0f67dde6-9d8e-11ec-a544-0242ac1c0002\"]);\n",
              "//# sourceURL=js_46c4a0bdb6"
            ],
            "text/plain": [
              "<IPython.core.display.Javascript object>"
            ]
          },
          "metadata": {}
        },
        {
          "output_type": "display_data",
          "data": {
            "application/javascript": [
              "window[\"0f83231c-9d8e-11ec-a544-0242ac1c0002\"] = google.colab.output.setActiveOutputArea(window[\"0f67720c-9d8e-11ec-a544-0242ac1c0002\"]);\n",
              "//# sourceURL=js_b28cf86993"
            ],
            "text/plain": [
              "<IPython.core.display.Javascript object>"
            ]
          },
          "metadata": {}
        },
        {
          "output_type": "display_data",
          "data": {
            "application/javascript": [
              "window[\"0fa44f56-9d8e-11ec-a544-0242ac1c0002\"] = google.colab.output.getActiveOutputArea();\n",
              "//# sourceURL=js_772f1d158a"
            ],
            "text/plain": [
              "<IPython.core.display.Javascript object>"
            ]
          },
          "metadata": {}
        },
        {
          "output_type": "display_data",
          "data": {
            "application/javascript": [
              "window[\"0fa4d84a-9d8e-11ec-a544-0242ac1c0002\"] = document.querySelector(\"#id36-0-0\");\n",
              "//# sourceURL=js_5f86663be0"
            ],
            "text/plain": [
              "<IPython.core.display.Javascript object>"
            ]
          },
          "metadata": {}
        },
        {
          "output_type": "display_data",
          "data": {
            "application/javascript": [
              "window[\"0fa5a9b4-9d8e-11ec-a544-0242ac1c0002\"] = google.colab.output.setActiveOutputArea(window[\"0fa4d84a-9d8e-11ec-a544-0242ac1c0002\"]);\n",
              "//# sourceURL=js_6082645247"
            ],
            "text/plain": [
              "<IPython.core.display.Javascript object>"
            ]
          },
          "metadata": {}
        },
        {
          "output_type": "display_data",
          "data": {
            "application/javascript": [
              "window[\"0fc25dde-9d8e-11ec-a544-0242ac1c0002\"] = google.colab.output.setActiveOutputArea(window[\"0fa44f56-9d8e-11ec-a544-0242ac1c0002\"]);\n",
              "//# sourceURL=js_c5c138a924"
            ],
            "text/plain": [
              "<IPython.core.display.Javascript object>"
            ]
          },
          "metadata": {}
        },
        {
          "output_type": "display_data",
          "data": {
            "application/javascript": [
              "window[\"0fe5cbac-9d8e-11ec-a544-0242ac1c0002\"] = google.colab.output.getActiveOutputArea();\n",
              "//# sourceURL=js_c792e84658"
            ],
            "text/plain": [
              "<IPython.core.display.Javascript object>"
            ]
          },
          "metadata": {}
        },
        {
          "output_type": "display_data",
          "data": {
            "application/javascript": [
              "window[\"0fe62534-9d8e-11ec-a544-0242ac1c0002\"] = document.querySelector(\"#id36-0-0\");\n",
              "//# sourceURL=js_a8fb0551ba"
            ],
            "text/plain": [
              "<IPython.core.display.Javascript object>"
            ]
          },
          "metadata": {}
        },
        {
          "output_type": "display_data",
          "data": {
            "application/javascript": [
              "window[\"0fe70f80-9d8e-11ec-a544-0242ac1c0002\"] = google.colab.output.setActiveOutputArea(window[\"0fe62534-9d8e-11ec-a544-0242ac1c0002\"]);\n",
              "//# sourceURL=js_00af5d4760"
            ],
            "text/plain": [
              "<IPython.core.display.Javascript object>"
            ]
          },
          "metadata": {}
        },
        {
          "output_type": "display_data",
          "data": {
            "application/javascript": [
              "window[\"1003d49e-9d8e-11ec-a544-0242ac1c0002\"] = google.colab.output.setActiveOutputArea(window[\"0fe5cbac-9d8e-11ec-a544-0242ac1c0002\"]);\n",
              "//# sourceURL=js_bb000e42fd"
            ],
            "text/plain": [
              "<IPython.core.display.Javascript object>"
            ]
          },
          "metadata": {}
        },
        {
          "output_type": "display_data",
          "data": {
            "application/javascript": [
              "window[\"1024690c-9d8e-11ec-a544-0242ac1c0002\"] = google.colab.output.getActiveOutputArea();\n",
              "//# sourceURL=js_18aeee5d10"
            ],
            "text/plain": [
              "<IPython.core.display.Javascript object>"
            ]
          },
          "metadata": {}
        },
        {
          "output_type": "display_data",
          "data": {
            "application/javascript": [
              "window[\"1024c816-9d8e-11ec-a544-0242ac1c0002\"] = document.querySelector(\"#id36-0-0\");\n",
              "//# sourceURL=js_10eaeb5cc0"
            ],
            "text/plain": [
              "<IPython.core.display.Javascript object>"
            ]
          },
          "metadata": {}
        },
        {
          "output_type": "display_data",
          "data": {
            "application/javascript": [
              "window[\"10251fa0-9d8e-11ec-a544-0242ac1c0002\"] = google.colab.output.setActiveOutputArea(window[\"1024c816-9d8e-11ec-a544-0242ac1c0002\"]);\n",
              "//# sourceURL=js_6e8eb0c1f1"
            ],
            "text/plain": [
              "<IPython.core.display.Javascript object>"
            ]
          },
          "metadata": {}
        },
        {
          "output_type": "display_data",
          "data": {
            "application/javascript": [
              "window[\"104090c8-9d8e-11ec-a544-0242ac1c0002\"] = google.colab.output.setActiveOutputArea(window[\"1024690c-9d8e-11ec-a544-0242ac1c0002\"]);\n",
              "//# sourceURL=js_84ec8e99a8"
            ],
            "text/plain": [
              "<IPython.core.display.Javascript object>"
            ]
          },
          "metadata": {}
        },
        {
          "output_type": "display_data",
          "data": {
            "application/javascript": [
              "window[\"1061803a-9d8e-11ec-a544-0242ac1c0002\"] = google.colab.output.getActiveOutputArea();\n",
              "//# sourceURL=js_02c9b40544"
            ],
            "text/plain": [
              "<IPython.core.display.Javascript object>"
            ]
          },
          "metadata": {}
        },
        {
          "output_type": "display_data",
          "data": {
            "application/javascript": [
              "window[\"1061d148-9d8e-11ec-a544-0242ac1c0002\"] = document.querySelector(\"#id36-0-0\");\n",
              "//# sourceURL=js_d79a500be1"
            ],
            "text/plain": [
              "<IPython.core.display.Javascript object>"
            ]
          },
          "metadata": {}
        },
        {
          "output_type": "display_data",
          "data": {
            "application/javascript": [
              "window[\"106224fe-9d8e-11ec-a544-0242ac1c0002\"] = google.colab.output.setActiveOutputArea(window[\"1061d148-9d8e-11ec-a544-0242ac1c0002\"]);\n",
              "//# sourceURL=js_122f8b7767"
            ],
            "text/plain": [
              "<IPython.core.display.Javascript object>"
            ]
          },
          "metadata": {}
        },
        {
          "output_type": "display_data",
          "data": {
            "application/javascript": [
              "window[\"107f0844-9d8e-11ec-a544-0242ac1c0002\"] = google.colab.output.setActiveOutputArea(window[\"1061803a-9d8e-11ec-a544-0242ac1c0002\"]);\n",
              "//# sourceURL=js_5f8304a999"
            ],
            "text/plain": [
              "<IPython.core.display.Javascript object>"
            ]
          },
          "metadata": {}
        },
        {
          "output_type": "display_data",
          "data": {
            "application/javascript": [
              "window[\"109fbf4e-9d8e-11ec-a544-0242ac1c0002\"] = google.colab.output.getActiveOutputArea();\n",
              "//# sourceURL=js_5ae6cc704d"
            ],
            "text/plain": [
              "<IPython.core.display.Javascript object>"
            ]
          },
          "metadata": {}
        },
        {
          "output_type": "display_data",
          "data": {
            "application/javascript": [
              "window[\"10a03604-9d8e-11ec-a544-0242ac1c0002\"] = document.querySelector(\"#id36-0-0\");\n",
              "//# sourceURL=js_df2f38a2a6"
            ],
            "text/plain": [
              "<IPython.core.display.Javascript object>"
            ]
          },
          "metadata": {}
        },
        {
          "output_type": "display_data",
          "data": {
            "application/javascript": [
              "window[\"10a0c7a4-9d8e-11ec-a544-0242ac1c0002\"] = google.colab.output.setActiveOutputArea(window[\"10a03604-9d8e-11ec-a544-0242ac1c0002\"]);\n",
              "//# sourceURL=js_e3c3f4315c"
            ],
            "text/plain": [
              "<IPython.core.display.Javascript object>"
            ]
          },
          "metadata": {}
        },
        {
          "output_type": "display_data",
          "data": {
            "application/javascript": [
              "window[\"10bc0f00-9d8e-11ec-a544-0242ac1c0002\"] = google.colab.output.setActiveOutputArea(window[\"109fbf4e-9d8e-11ec-a544-0242ac1c0002\"]);\n",
              "//# sourceURL=js_143c3acca6"
            ],
            "text/plain": [
              "<IPython.core.display.Javascript object>"
            ]
          },
          "metadata": {}
        },
        {
          "output_type": "display_data",
          "data": {
            "application/javascript": [
              "window[\"10dce518-9d8e-11ec-a544-0242ac1c0002\"] = google.colab.output.getActiveOutputArea();\n",
              "//# sourceURL=js_bc5d5182fc"
            ],
            "text/plain": [
              "<IPython.core.display.Javascript object>"
            ]
          },
          "metadata": {}
        },
        {
          "output_type": "display_data",
          "data": {
            "application/javascript": [
              "window[\"10dd611e-9d8e-11ec-a544-0242ac1c0002\"] = document.querySelector(\"#id36-0-0\");\n",
              "//# sourceURL=js_e9505b1515"
            ],
            "text/plain": [
              "<IPython.core.display.Javascript object>"
            ]
          },
          "metadata": {}
        },
        {
          "output_type": "display_data",
          "data": {
            "application/javascript": [
              "window[\"10ddd284-9d8e-11ec-a544-0242ac1c0002\"] = google.colab.output.setActiveOutputArea(window[\"10dd611e-9d8e-11ec-a544-0242ac1c0002\"]);\n",
              "//# sourceURL=js_76de40531b"
            ],
            "text/plain": [
              "<IPython.core.display.Javascript object>"
            ]
          },
          "metadata": {}
        },
        {
          "output_type": "display_data",
          "data": {
            "application/javascript": [
              "window[\"10f9d934-9d8e-11ec-a544-0242ac1c0002\"] = google.colab.output.setActiveOutputArea(window[\"10dce518-9d8e-11ec-a544-0242ac1c0002\"]);\n",
              "//# sourceURL=js_f21d2b7ff7"
            ],
            "text/plain": [
              "<IPython.core.display.Javascript object>"
            ]
          },
          "metadata": {}
        },
        {
          "output_type": "display_data",
          "data": {
            "application/javascript": [
              "window[\"111cd6d2-9d8e-11ec-a544-0242ac1c0002\"] = google.colab.output.getActiveOutputArea();\n",
              "//# sourceURL=js_746c53fe76"
            ],
            "text/plain": [
              "<IPython.core.display.Javascript object>"
            ]
          },
          "metadata": {}
        },
        {
          "output_type": "display_data",
          "data": {
            "application/javascript": [
              "window[\"111d3406-9d8e-11ec-a544-0242ac1c0002\"] = document.querySelector(\"#id36-0-0\");\n",
              "//# sourceURL=js_b37d47b2ad"
            ],
            "text/plain": [
              "<IPython.core.display.Javascript object>"
            ]
          },
          "metadata": {}
        },
        {
          "output_type": "display_data",
          "data": {
            "application/javascript": [
              "window[\"111d9ba8-9d8e-11ec-a544-0242ac1c0002\"] = google.colab.output.setActiveOutputArea(window[\"111d3406-9d8e-11ec-a544-0242ac1c0002\"]);\n",
              "//# sourceURL=js_1f2d99c35f"
            ],
            "text/plain": [
              "<IPython.core.display.Javascript object>"
            ]
          },
          "metadata": {}
        },
        {
          "output_type": "display_data",
          "data": {
            "application/javascript": [
              "window[\"113b0a62-9d8e-11ec-a544-0242ac1c0002\"] = google.colab.output.setActiveOutputArea(window[\"111cd6d2-9d8e-11ec-a544-0242ac1c0002\"]);\n",
              "//# sourceURL=js_dcdf2100ac"
            ],
            "text/plain": [
              "<IPython.core.display.Javascript object>"
            ]
          },
          "metadata": {}
        },
        {
          "output_type": "display_data",
          "data": {
            "application/javascript": [
              "window[\"115c6b9e-9d8e-11ec-a544-0242ac1c0002\"] = google.colab.output.getActiveOutputArea();\n",
              "//# sourceURL=js_aa98a1d88e"
            ],
            "text/plain": [
              "<IPython.core.display.Javascript object>"
            ]
          },
          "metadata": {}
        },
        {
          "output_type": "display_data",
          "data": {
            "application/javascript": [
              "window[\"115cd2e6-9d8e-11ec-a544-0242ac1c0002\"] = document.querySelector(\"#id36-0-0\");\n",
              "//# sourceURL=js_bc04afa858"
            ],
            "text/plain": [
              "<IPython.core.display.Javascript object>"
            ]
          },
          "metadata": {}
        },
        {
          "output_type": "display_data",
          "data": {
            "application/javascript": [
              "window[\"115d2fca-9d8e-11ec-a544-0242ac1c0002\"] = google.colab.output.setActiveOutputArea(window[\"115cd2e6-9d8e-11ec-a544-0242ac1c0002\"]);\n",
              "//# sourceURL=js_81952f1632"
            ],
            "text/plain": [
              "<IPython.core.display.Javascript object>"
            ]
          },
          "metadata": {}
        },
        {
          "output_type": "display_data",
          "data": {
            "application/javascript": [
              "window[\"11780c0a-9d8e-11ec-a544-0242ac1c0002\"] = google.colab.output.setActiveOutputArea(window[\"115c6b9e-9d8e-11ec-a544-0242ac1c0002\"]);\n",
              "//# sourceURL=js_68168fb611"
            ],
            "text/plain": [
              "<IPython.core.display.Javascript object>"
            ]
          },
          "metadata": {}
        },
        {
          "output_type": "display_data",
          "data": {
            "application/javascript": [
              "window[\"1198d958-9d8e-11ec-a544-0242ac1c0002\"] = google.colab.output.getActiveOutputArea();\n",
              "//# sourceURL=js_dcde45bd00"
            ],
            "text/plain": [
              "<IPython.core.display.Javascript object>"
            ]
          },
          "metadata": {}
        },
        {
          "output_type": "display_data",
          "data": {
            "application/javascript": [
              "window[\"11993ef2-9d8e-11ec-a544-0242ac1c0002\"] = document.querySelector(\"#id36-0-0\");\n",
              "//# sourceURL=js_7301af7dba"
            ],
            "text/plain": [
              "<IPython.core.display.Javascript object>"
            ]
          },
          "metadata": {}
        },
        {
          "output_type": "display_data",
          "data": {
            "application/javascript": [
              "window[\"1199afd6-9d8e-11ec-a544-0242ac1c0002\"] = google.colab.output.setActiveOutputArea(window[\"11993ef2-9d8e-11ec-a544-0242ac1c0002\"]);\n",
              "//# sourceURL=js_e7deebf6e5"
            ],
            "text/plain": [
              "<IPython.core.display.Javascript object>"
            ]
          },
          "metadata": {}
        },
        {
          "output_type": "display_data",
          "data": {
            "application/javascript": [
              "window[\"11b88b9a-9d8e-11ec-a544-0242ac1c0002\"] = google.colab.output.setActiveOutputArea(window[\"1198d958-9d8e-11ec-a544-0242ac1c0002\"]);\n",
              "//# sourceURL=js_442ffdea78"
            ],
            "text/plain": [
              "<IPython.core.display.Javascript object>"
            ]
          },
          "metadata": {}
        },
        {
          "output_type": "display_data",
          "data": {
            "application/javascript": [
              "window[\"11d9f2a8-9d8e-11ec-a544-0242ac1c0002\"] = google.colab.output.getActiveOutputArea();\n",
              "//# sourceURL=js_f44ea4406c"
            ],
            "text/plain": [
              "<IPython.core.display.Javascript object>"
            ]
          },
          "metadata": {}
        },
        {
          "output_type": "display_data",
          "data": {
            "application/javascript": [
              "window[\"11da8466-9d8e-11ec-a544-0242ac1c0002\"] = document.querySelector(\"#id36-0-0\");\n",
              "//# sourceURL=js_4734dc6ac1"
            ],
            "text/plain": [
              "<IPython.core.display.Javascript object>"
            ]
          },
          "metadata": {}
        },
        {
          "output_type": "display_data",
          "data": {
            "application/javascript": [
              "window[\"11db114c-9d8e-11ec-a544-0242ac1c0002\"] = google.colab.output.setActiveOutputArea(window[\"11da8466-9d8e-11ec-a544-0242ac1c0002\"]);\n",
              "//# sourceURL=js_b2bfa4c770"
            ],
            "text/plain": [
              "<IPython.core.display.Javascript object>"
            ]
          },
          "metadata": {}
        },
        {
          "output_type": "display_data",
          "data": {
            "application/javascript": [
              "window[\"12082df8-9d8e-11ec-a544-0242ac1c0002\"] = google.colab.output.setActiveOutputArea(window[\"11d9f2a8-9d8e-11ec-a544-0242ac1c0002\"]);\n",
              "//# sourceURL=js_ad6a460c8d"
            ],
            "text/plain": [
              "<IPython.core.display.Javascript object>"
            ]
          },
          "metadata": {}
        },
        {
          "output_type": "display_data",
          "data": {
            "application/javascript": [
              "window[\"1228f65a-9d8e-11ec-a544-0242ac1c0002\"] = google.colab.output.getActiveOutputArea();\n",
              "//# sourceURL=js_480434b472"
            ],
            "text/plain": [
              "<IPython.core.display.Javascript object>"
            ]
          },
          "metadata": {}
        },
        {
          "output_type": "display_data",
          "data": {
            "application/javascript": [
              "window[\"12299ce0-9d8e-11ec-a544-0242ac1c0002\"] = document.querySelector(\"#id36-0-0\");\n",
              "//# sourceURL=js_cc7550d133"
            ],
            "text/plain": [
              "<IPython.core.display.Javascript object>"
            ]
          },
          "metadata": {}
        },
        {
          "output_type": "display_data",
          "data": {
            "application/javascript": [
              "window[\"122a3f06-9d8e-11ec-a544-0242ac1c0002\"] = google.colab.output.setActiveOutputArea(window[\"12299ce0-9d8e-11ec-a544-0242ac1c0002\"]);\n",
              "//# sourceURL=js_85bb3d93ba"
            ],
            "text/plain": [
              "<IPython.core.display.Javascript object>"
            ]
          },
          "metadata": {}
        },
        {
          "output_type": "display_data",
          "data": {
            "application/javascript": [
              "window[\"12472b0c-9d8e-11ec-a544-0242ac1c0002\"] = google.colab.output.setActiveOutputArea(window[\"1228f65a-9d8e-11ec-a544-0242ac1c0002\"]);\n",
              "//# sourceURL=js_b5d7b06eab"
            ],
            "text/plain": [
              "<IPython.core.display.Javascript object>"
            ]
          },
          "metadata": {}
        },
        {
          "output_type": "display_data",
          "data": {
            "application/javascript": [
              "window[\"1267f0b2-9d8e-11ec-a544-0242ac1c0002\"] = google.colab.output.getActiveOutputArea();\n",
              "//# sourceURL=js_e483a64cf6"
            ],
            "text/plain": [
              "<IPython.core.display.Javascript object>"
            ]
          },
          "metadata": {}
        },
        {
          "output_type": "display_data",
          "data": {
            "application/javascript": [
              "window[\"126853fe-9d8e-11ec-a544-0242ac1c0002\"] = document.querySelector(\"#id36-0-0\");\n",
              "//# sourceURL=js_9560425bbd"
            ],
            "text/plain": [
              "<IPython.core.display.Javascript object>"
            ]
          },
          "metadata": {}
        },
        {
          "output_type": "display_data",
          "data": {
            "application/javascript": [
              "window[\"1268b268-9d8e-11ec-a544-0242ac1c0002\"] = google.colab.output.setActiveOutputArea(window[\"126853fe-9d8e-11ec-a544-0242ac1c0002\"]);\n",
              "//# sourceURL=js_5de4103bd5"
            ],
            "text/plain": [
              "<IPython.core.display.Javascript object>"
            ]
          },
          "metadata": {}
        },
        {
          "output_type": "display_data",
          "data": {
            "application/javascript": [
              "window[\"12839862-9d8e-11ec-a544-0242ac1c0002\"] = google.colab.output.setActiveOutputArea(window[\"1267f0b2-9d8e-11ec-a544-0242ac1c0002\"]);\n",
              "//# sourceURL=js_a40e5a5f81"
            ],
            "text/plain": [
              "<IPython.core.display.Javascript object>"
            ]
          },
          "metadata": {}
        },
        {
          "output_type": "display_data",
          "data": {
            "application/javascript": [
              "window[\"12a43428-9d8e-11ec-a544-0242ac1c0002\"] = google.colab.output.getActiveOutputArea();\n",
              "//# sourceURL=js_33bb00e018"
            ],
            "text/plain": [
              "<IPython.core.display.Javascript object>"
            ]
          },
          "metadata": {}
        },
        {
          "output_type": "display_data",
          "data": {
            "application/javascript": [
              "window[\"12a4986e-9d8e-11ec-a544-0242ac1c0002\"] = document.querySelector(\"#id36-0-0\");\n",
              "//# sourceURL=js_d1ec7ecc74"
            ],
            "text/plain": [
              "<IPython.core.display.Javascript object>"
            ]
          },
          "metadata": {}
        },
        {
          "output_type": "display_data",
          "data": {
            "application/javascript": [
              "window[\"12a4fdae-9d8e-11ec-a544-0242ac1c0002\"] = google.colab.output.setActiveOutputArea(window[\"12a4986e-9d8e-11ec-a544-0242ac1c0002\"]);\n",
              "//# sourceURL=js_c2e988efb0"
            ],
            "text/plain": [
              "<IPython.core.display.Javascript object>"
            ]
          },
          "metadata": {}
        },
        {
          "output_type": "display_data",
          "data": {
            "application/javascript": [
              "window[\"12c07b74-9d8e-11ec-a544-0242ac1c0002\"] = google.colab.output.setActiveOutputArea(window[\"12a43428-9d8e-11ec-a544-0242ac1c0002\"]);\n",
              "//# sourceURL=js_bc205c53f5"
            ],
            "text/plain": [
              "<IPython.core.display.Javascript object>"
            ]
          },
          "metadata": {}
        },
        {
          "output_type": "display_data",
          "data": {
            "application/javascript": [
              "window[\"12e11320-9d8e-11ec-a544-0242ac1c0002\"] = google.colab.output.getActiveOutputArea();\n",
              "//# sourceURL=js_31b4952172"
            ],
            "text/plain": [
              "<IPython.core.display.Javascript object>"
            ]
          },
          "metadata": {}
        },
        {
          "output_type": "display_data",
          "data": {
            "application/javascript": [
              "window[\"12e16668-9d8e-11ec-a544-0242ac1c0002\"] = document.querySelector(\"#id36-0-0\");\n",
              "//# sourceURL=js_95c68da523"
            ],
            "text/plain": [
              "<IPython.core.display.Javascript object>"
            ]
          },
          "metadata": {}
        },
        {
          "output_type": "display_data",
          "data": {
            "application/javascript": [
              "window[\"12e1e962-9d8e-11ec-a544-0242ac1c0002\"] = google.colab.output.setActiveOutputArea(window[\"12e16668-9d8e-11ec-a544-0242ac1c0002\"]);\n",
              "//# sourceURL=js_8806a1b602"
            ],
            "text/plain": [
              "<IPython.core.display.Javascript object>"
            ]
          },
          "metadata": {}
        },
        {
          "output_type": "display_data",
          "data": {
            "application/javascript": [
              "window[\"12fdf5f8-9d8e-11ec-a544-0242ac1c0002\"] = google.colab.output.setActiveOutputArea(window[\"12e11320-9d8e-11ec-a544-0242ac1c0002\"]);\n",
              "//# sourceURL=js_d03a0d7101"
            ],
            "text/plain": [
              "<IPython.core.display.Javascript object>"
            ]
          },
          "metadata": {}
        },
        {
          "output_type": "display_data",
          "data": {
            "application/javascript": [
              "window[\"131e99e8-9d8e-11ec-a544-0242ac1c0002\"] = google.colab.output.getActiveOutputArea();\n",
              "//# sourceURL=js_29bc0d87d2"
            ],
            "text/plain": [
              "<IPython.core.display.Javascript object>"
            ]
          },
          "metadata": {}
        },
        {
          "output_type": "display_data",
          "data": {
            "application/javascript": [
              "window[\"131f0694-9d8e-11ec-a544-0242ac1c0002\"] = document.querySelector(\"#id36-0-0\");\n",
              "//# sourceURL=js_32b93a97ee"
            ],
            "text/plain": [
              "<IPython.core.display.Javascript object>"
            ]
          },
          "metadata": {}
        },
        {
          "output_type": "display_data",
          "data": {
            "application/javascript": [
              "window[\"131f8e34-9d8e-11ec-a544-0242ac1c0002\"] = google.colab.output.setActiveOutputArea(window[\"131f0694-9d8e-11ec-a544-0242ac1c0002\"]);\n",
              "//# sourceURL=js_726a40262e"
            ],
            "text/plain": [
              "<IPython.core.display.Javascript object>"
            ]
          },
          "metadata": {}
        },
        {
          "output_type": "display_data",
          "data": {
            "application/javascript": [
              "window[\"133e5fa8-9d8e-11ec-a544-0242ac1c0002\"] = google.colab.output.setActiveOutputArea(window[\"131e99e8-9d8e-11ec-a544-0242ac1c0002\"]);\n",
              "//# sourceURL=js_3b53925306"
            ],
            "text/plain": [
              "<IPython.core.display.Javascript object>"
            ]
          },
          "metadata": {}
        },
        {
          "output_type": "display_data",
          "data": {
            "application/javascript": [
              "window[\"135f056e-9d8e-11ec-a544-0242ac1c0002\"] = google.colab.output.getActiveOutputArea();\n",
              "//# sourceURL=js_40b54f52df"
            ],
            "text/plain": [
              "<IPython.core.display.Javascript object>"
            ]
          },
          "metadata": {}
        },
        {
          "output_type": "display_data",
          "data": {
            "application/javascript": [
              "window[\"135fb09a-9d8e-11ec-a544-0242ac1c0002\"] = document.querySelector(\"#id36-0-0\");\n",
              "//# sourceURL=js_0997cd4458"
            ],
            "text/plain": [
              "<IPython.core.display.Javascript object>"
            ]
          },
          "metadata": {}
        },
        {
          "output_type": "display_data",
          "data": {
            "application/javascript": [
              "window[\"136023b8-9d8e-11ec-a544-0242ac1c0002\"] = google.colab.output.setActiveOutputArea(window[\"135fb09a-9d8e-11ec-a544-0242ac1c0002\"]);\n",
              "//# sourceURL=js_0ae7a3c055"
            ],
            "text/plain": [
              "<IPython.core.display.Javascript object>"
            ]
          },
          "metadata": {}
        },
        {
          "output_type": "display_data",
          "data": {
            "application/javascript": [
              "window[\"137bf084-9d8e-11ec-a544-0242ac1c0002\"] = google.colab.output.setActiveOutputArea(window[\"135f056e-9d8e-11ec-a544-0242ac1c0002\"]);\n",
              "//# sourceURL=js_afea01a5f4"
            ],
            "text/plain": [
              "<IPython.core.display.Javascript object>"
            ]
          },
          "metadata": {}
        },
        {
          "output_type": "display_data",
          "data": {
            "application/javascript": [
              "window[\"139cacf2-9d8e-11ec-a544-0242ac1c0002\"] = google.colab.output.getActiveOutputArea();\n",
              "//# sourceURL=js_7bbe1e4e3a"
            ],
            "text/plain": [
              "<IPython.core.display.Javascript object>"
            ]
          },
          "metadata": {}
        },
        {
          "output_type": "display_data",
          "data": {
            "application/javascript": [
              "window[\"139d4572-9d8e-11ec-a544-0242ac1c0002\"] = document.querySelector(\"#id36-0-0\");\n",
              "//# sourceURL=js_1652920213"
            ],
            "text/plain": [
              "<IPython.core.display.Javascript object>"
            ]
          },
          "metadata": {}
        },
        {
          "output_type": "display_data",
          "data": {
            "application/javascript": [
              "window[\"139de360-9d8e-11ec-a544-0242ac1c0002\"] = google.colab.output.setActiveOutputArea(window[\"139d4572-9d8e-11ec-a544-0242ac1c0002\"]);\n",
              "//# sourceURL=js_7ed8352a1e"
            ],
            "text/plain": [
              "<IPython.core.display.Javascript object>"
            ]
          },
          "metadata": {}
        },
        {
          "output_type": "display_data",
          "data": {
            "application/javascript": [
              "window[\"13b8e30e-9d8e-11ec-a544-0242ac1c0002\"] = google.colab.output.setActiveOutputArea(window[\"139cacf2-9d8e-11ec-a544-0242ac1c0002\"]);\n",
              "//# sourceURL=js_d056ee723e"
            ],
            "text/plain": [
              "<IPython.core.display.Javascript object>"
            ]
          },
          "metadata": {}
        },
        {
          "output_type": "display_data",
          "data": {
            "application/javascript": [
              "window[\"13d9867c-9d8e-11ec-a544-0242ac1c0002\"] = google.colab.output.getActiveOutputArea();\n",
              "//# sourceURL=js_73c7b2b6a9"
            ],
            "text/plain": [
              "<IPython.core.display.Javascript object>"
            ]
          },
          "metadata": {}
        },
        {
          "output_type": "display_data",
          "data": {
            "application/javascript": [
              "window[\"13d9edba-9d8e-11ec-a544-0242ac1c0002\"] = document.querySelector(\"#id36-0-0\");\n",
              "//# sourceURL=js_8d620946a0"
            ],
            "text/plain": [
              "<IPython.core.display.Javascript object>"
            ]
          },
          "metadata": {}
        },
        {
          "output_type": "display_data",
          "data": {
            "application/javascript": [
              "window[\"13da59da-9d8e-11ec-a544-0242ac1c0002\"] = google.colab.output.setActiveOutputArea(window[\"13d9edba-9d8e-11ec-a544-0242ac1c0002\"]);\n",
              "//# sourceURL=js_892ff89d95"
            ],
            "text/plain": [
              "<IPython.core.display.Javascript object>"
            ]
          },
          "metadata": {}
        },
        {
          "output_type": "display_data",
          "data": {
            "application/javascript": [
              "window[\"13f7d2e4-9d8e-11ec-a544-0242ac1c0002\"] = google.colab.output.setActiveOutputArea(window[\"13d9867c-9d8e-11ec-a544-0242ac1c0002\"]);\n",
              "//# sourceURL=js_d4b89e0f31"
            ],
            "text/plain": [
              "<IPython.core.display.Javascript object>"
            ]
          },
          "metadata": {}
        },
        {
          "output_type": "display_data",
          "data": {
            "application/javascript": [
              "window[\"14197a3e-9d8e-11ec-a544-0242ac1c0002\"] = google.colab.output.getActiveOutputArea();\n",
              "//# sourceURL=js_2d4dece0bf"
            ],
            "text/plain": [
              "<IPython.core.display.Javascript object>"
            ]
          },
          "metadata": {}
        },
        {
          "output_type": "display_data",
          "data": {
            "application/javascript": [
              "window[\"141a170a-9d8e-11ec-a544-0242ac1c0002\"] = document.querySelector(\"#id36-0-0\");\n",
              "//# sourceURL=js_69b86f7ebd"
            ],
            "text/plain": [
              "<IPython.core.display.Javascript object>"
            ]
          },
          "metadata": {}
        },
        {
          "output_type": "display_data",
          "data": {
            "application/javascript": [
              "window[\"141aef04-9d8e-11ec-a544-0242ac1c0002\"] = google.colab.output.setActiveOutputArea(window[\"141a170a-9d8e-11ec-a544-0242ac1c0002\"]);\n",
              "//# sourceURL=js_94fb3444b1"
            ],
            "text/plain": [
              "<IPython.core.display.Javascript object>"
            ]
          },
          "metadata": {}
        },
        {
          "output_type": "display_data",
          "data": {
            "application/javascript": [
              "window[\"1439ed32-9d8e-11ec-a544-0242ac1c0002\"] = google.colab.output.setActiveOutputArea(window[\"14197a3e-9d8e-11ec-a544-0242ac1c0002\"]);\n",
              "//# sourceURL=js_4240ca68a2"
            ],
            "text/plain": [
              "<IPython.core.display.Javascript object>"
            ]
          },
          "metadata": {}
        },
        {
          "output_type": "display_data",
          "data": {
            "application/javascript": [
              "window[\"145c9f6c-9d8e-11ec-a544-0242ac1c0002\"] = google.colab.output.getActiveOutputArea();\n",
              "//# sourceURL=js_dbe5214bfb"
            ],
            "text/plain": [
              "<IPython.core.display.Javascript object>"
            ]
          },
          "metadata": {}
        },
        {
          "output_type": "display_data",
          "data": {
            "application/javascript": [
              "window[\"145cf872-9d8e-11ec-a544-0242ac1c0002\"] = document.querySelector(\"#id36-0-0\");\n",
              "//# sourceURL=js_a5baa7c0cd"
            ],
            "text/plain": [
              "<IPython.core.display.Javascript object>"
            ]
          },
          "metadata": {}
        },
        {
          "output_type": "display_data",
          "data": {
            "application/javascript": [
              "window[\"145d53b2-9d8e-11ec-a544-0242ac1c0002\"] = google.colab.output.setActiveOutputArea(window[\"145cf872-9d8e-11ec-a544-0242ac1c0002\"]);\n",
              "//# sourceURL=js_6af9393e02"
            ],
            "text/plain": [
              "<IPython.core.display.Javascript object>"
            ]
          },
          "metadata": {}
        },
        {
          "output_type": "display_data",
          "data": {
            "application/javascript": [
              "window[\"147c3944-9d8e-11ec-a544-0242ac1c0002\"] = google.colab.output.setActiveOutputArea(window[\"145c9f6c-9d8e-11ec-a544-0242ac1c0002\"]);\n",
              "//# sourceURL=js_37e3aaed35"
            ],
            "text/plain": [
              "<IPython.core.display.Javascript object>"
            ]
          },
          "metadata": {}
        },
        {
          "output_type": "display_data",
          "data": {
            "application/javascript": [
              "window[\"149eb3ac-9d8e-11ec-a544-0242ac1c0002\"] = google.colab.output.getActiveOutputArea();\n",
              "//# sourceURL=js_7631bd7810"
            ],
            "text/plain": [
              "<IPython.core.display.Javascript object>"
            ]
          },
          "metadata": {}
        },
        {
          "output_type": "display_data",
          "data": {
            "application/javascript": [
              "window[\"149f07ee-9d8e-11ec-a544-0242ac1c0002\"] = document.querySelector(\"#id36-0-0\");\n",
              "//# sourceURL=js_79f6ecab31"
            ],
            "text/plain": [
              "<IPython.core.display.Javascript object>"
            ]
          },
          "metadata": {}
        },
        {
          "output_type": "display_data",
          "data": {
            "application/javascript": [
              "window[\"149f9c36-9d8e-11ec-a544-0242ac1c0002\"] = google.colab.output.setActiveOutputArea(window[\"149f07ee-9d8e-11ec-a544-0242ac1c0002\"]);\n",
              "//# sourceURL=js_fdc1211df7"
            ],
            "text/plain": [
              "<IPython.core.display.Javascript object>"
            ]
          },
          "metadata": {}
        },
        {
          "output_type": "display_data",
          "data": {
            "application/javascript": [
              "window[\"14bdf41a-9d8e-11ec-a544-0242ac1c0002\"] = google.colab.output.setActiveOutputArea(window[\"149eb3ac-9d8e-11ec-a544-0242ac1c0002\"]);\n",
              "//# sourceURL=js_b6b0b575d9"
            ],
            "text/plain": [
              "<IPython.core.display.Javascript object>"
            ]
          },
          "metadata": {}
        },
        {
          "output_type": "display_data",
          "data": {
            "application/javascript": [
              "window[\"14df0e0c-9d8e-11ec-a544-0242ac1c0002\"] = google.colab.output.getActiveOutputArea();\n",
              "//# sourceURL=js_98efeea4c3"
            ],
            "text/plain": [
              "<IPython.core.display.Javascript object>"
            ]
          },
          "metadata": {}
        },
        {
          "output_type": "display_data",
          "data": {
            "application/javascript": [
              "window[\"14df9228-9d8e-11ec-a544-0242ac1c0002\"] = document.querySelector(\"#id36-0-0\");\n",
              "//# sourceURL=js_9111f14fb4"
            ],
            "text/plain": [
              "<IPython.core.display.Javascript object>"
            ]
          },
          "metadata": {}
        },
        {
          "output_type": "display_data",
          "data": {
            "application/javascript": [
              "window[\"14e0f1cc-9d8e-11ec-a544-0242ac1c0002\"] = google.colab.output.setActiveOutputArea(window[\"14df9228-9d8e-11ec-a544-0242ac1c0002\"]);\n",
              "//# sourceURL=js_86a862df1f"
            ],
            "text/plain": [
              "<IPython.core.display.Javascript object>"
            ]
          },
          "metadata": {}
        },
        {
          "output_type": "display_data",
          "data": {
            "application/javascript": [
              "window[\"14fe5316-9d8e-11ec-a544-0242ac1c0002\"] = google.colab.output.setActiveOutputArea(window[\"14df0e0c-9d8e-11ec-a544-0242ac1c0002\"]);\n",
              "//# sourceURL=js_c22f8b8242"
            ],
            "text/plain": [
              "<IPython.core.display.Javascript object>"
            ]
          },
          "metadata": {}
        },
        {
          "output_type": "display_data",
          "data": {
            "application/javascript": [
              "window[\"151f8f2c-9d8e-11ec-a544-0242ac1c0002\"] = google.colab.output.getActiveOutputArea();\n",
              "//# sourceURL=js_adf7e47cfe"
            ],
            "text/plain": [
              "<IPython.core.display.Javascript object>"
            ]
          },
          "metadata": {}
        },
        {
          "output_type": "display_data",
          "data": {
            "application/javascript": [
              "window[\"152006b4-9d8e-11ec-a544-0242ac1c0002\"] = document.querySelector(\"#id36-0-0\");\n",
              "//# sourceURL=js_2fbac24b5c"
            ],
            "text/plain": [
              "<IPython.core.display.Javascript object>"
            ]
          },
          "metadata": {}
        },
        {
          "output_type": "display_data",
          "data": {
            "application/javascript": [
              "window[\"152080f8-9d8e-11ec-a544-0242ac1c0002\"] = google.colab.output.setActiveOutputArea(window[\"152006b4-9d8e-11ec-a544-0242ac1c0002\"]);\n",
              "//# sourceURL=js_8b0d859512"
            ],
            "text/plain": [
              "<IPython.core.display.Javascript object>"
            ]
          },
          "metadata": {}
        },
        {
          "output_type": "display_data",
          "data": {
            "application/javascript": [
              "window[\"153c6a66-9d8e-11ec-a544-0242ac1c0002\"] = google.colab.output.setActiveOutputArea(window[\"151f8f2c-9d8e-11ec-a544-0242ac1c0002\"]);\n",
              "//# sourceURL=js_6477a834db"
            ],
            "text/plain": [
              "<IPython.core.display.Javascript object>"
            ]
          },
          "metadata": {}
        },
        {
          "output_type": "display_data",
          "data": {
            "application/javascript": [
              "window[\"155d8908-9d8e-11ec-a544-0242ac1c0002\"] = google.colab.output.getActiveOutputArea();\n",
              "//# sourceURL=js_606423f598"
            ],
            "text/plain": [
              "<IPython.core.display.Javascript object>"
            ]
          },
          "metadata": {}
        },
        {
          "output_type": "display_data",
          "data": {
            "application/javascript": [
              "window[\"155e230e-9d8e-11ec-a544-0242ac1c0002\"] = document.querySelector(\"#id36-0-0\");\n",
              "//# sourceURL=js_54f73284ad"
            ],
            "text/plain": [
              "<IPython.core.display.Javascript object>"
            ]
          },
          "metadata": {}
        },
        {
          "output_type": "display_data",
          "data": {
            "application/javascript": [
              "window[\"155e816e-9d8e-11ec-a544-0242ac1c0002\"] = google.colab.output.setActiveOutputArea(window[\"155e230e-9d8e-11ec-a544-0242ac1c0002\"]);\n",
              "//# sourceURL=js_4dffebf4ef"
            ],
            "text/plain": [
              "<IPython.core.display.Javascript object>"
            ]
          },
          "metadata": {}
        },
        {
          "output_type": "display_data",
          "data": {
            "application/javascript": [
              "window[\"157966aa-9d8e-11ec-a544-0242ac1c0002\"] = google.colab.output.setActiveOutputArea(window[\"155d8908-9d8e-11ec-a544-0242ac1c0002\"]);\n",
              "//# sourceURL=js_e754230619"
            ],
            "text/plain": [
              "<IPython.core.display.Javascript object>"
            ]
          },
          "metadata": {}
        },
        {
          "output_type": "display_data",
          "data": {
            "application/javascript": [
              "window[\"159afd88-9d8e-11ec-a544-0242ac1c0002\"] = google.colab.output.getActiveOutputArea();\n",
              "//# sourceURL=js_2ad5ff5387"
            ],
            "text/plain": [
              "<IPython.core.display.Javascript object>"
            ]
          },
          "metadata": {}
        },
        {
          "output_type": "display_data",
          "data": {
            "application/javascript": [
              "window[\"159bd2f8-9d8e-11ec-a544-0242ac1c0002\"] = document.querySelector(\"#id36-0-0\");\n",
              "//# sourceURL=js_1d73c3a6f6"
            ],
            "text/plain": [
              "<IPython.core.display.Javascript object>"
            ]
          },
          "metadata": {}
        },
        {
          "output_type": "display_data",
          "data": {
            "application/javascript": [
              "window[\"159c3950-9d8e-11ec-a544-0242ac1c0002\"] = google.colab.output.setActiveOutputArea(window[\"159bd2f8-9d8e-11ec-a544-0242ac1c0002\"]);\n",
              "//# sourceURL=js_ce3084291d"
            ],
            "text/plain": [
              "<IPython.core.display.Javascript object>"
            ]
          },
          "metadata": {}
        },
        {
          "output_type": "display_data",
          "data": {
            "application/javascript": [
              "window[\"15cc3c5e-9d8e-11ec-a544-0242ac1c0002\"] = google.colab.output.setActiveOutputArea(window[\"159afd88-9d8e-11ec-a544-0242ac1c0002\"]);\n",
              "//# sourceURL=js_ba2426e184"
            ],
            "text/plain": [
              "<IPython.core.display.Javascript object>"
            ]
          },
          "metadata": {}
        },
        {
          "output_type": "display_data",
          "data": {
            "application/javascript": [
              "window[\"15f004ea-9d8e-11ec-a544-0242ac1c0002\"] = google.colab.output.getActiveOutputArea();\n",
              "//# sourceURL=js_95d93e5592"
            ],
            "text/plain": [
              "<IPython.core.display.Javascript object>"
            ]
          },
          "metadata": {}
        },
        {
          "output_type": "display_data",
          "data": {
            "application/javascript": [
              "window[\"15f070b0-9d8e-11ec-a544-0242ac1c0002\"] = document.querySelector(\"#id36-0-0\");\n",
              "//# sourceURL=js_5bf4804695"
            ],
            "text/plain": [
              "<IPython.core.display.Javascript object>"
            ]
          },
          "metadata": {}
        },
        {
          "output_type": "display_data",
          "data": {
            "application/javascript": [
              "window[\"15f0f544-9d8e-11ec-a544-0242ac1c0002\"] = google.colab.output.setActiveOutputArea(window[\"15f070b0-9d8e-11ec-a544-0242ac1c0002\"]);\n",
              "//# sourceURL=js_3b2adac7dc"
            ],
            "text/plain": [
              "<IPython.core.display.Javascript object>"
            ]
          },
          "metadata": {}
        },
        {
          "output_type": "display_data",
          "data": {
            "application/javascript": [
              "window[\"160fe102-9d8e-11ec-a544-0242ac1c0002\"] = google.colab.output.setActiveOutputArea(window[\"15f004ea-9d8e-11ec-a544-0242ac1c0002\"]);\n",
              "//# sourceURL=js_c51e31ae07"
            ],
            "text/plain": [
              "<IPython.core.display.Javascript object>"
            ]
          },
          "metadata": {}
        },
        {
          "output_type": "display_data",
          "data": {
            "application/javascript": [
              "window[\"1631e5f4-9d8e-11ec-a544-0242ac1c0002\"] = google.colab.output.getActiveOutputArea();\n",
              "//# sourceURL=js_2f37971339"
            ],
            "text/plain": [
              "<IPython.core.display.Javascript object>"
            ]
          },
          "metadata": {}
        },
        {
          "output_type": "display_data",
          "data": {
            "application/javascript": [
              "window[\"16325930-9d8e-11ec-a544-0242ac1c0002\"] = document.querySelector(\"#id36-0-0\");\n",
              "//# sourceURL=js_afdc9aaab6"
            ],
            "text/plain": [
              "<IPython.core.display.Javascript object>"
            ]
          },
          "metadata": {}
        },
        {
          "output_type": "display_data",
          "data": {
            "application/javascript": [
              "window[\"1632e198-9d8e-11ec-a544-0242ac1c0002\"] = google.colab.output.setActiveOutputArea(window[\"16325930-9d8e-11ec-a544-0242ac1c0002\"]);\n",
              "//# sourceURL=js_12a18564e4"
            ],
            "text/plain": [
              "<IPython.core.display.Javascript object>"
            ]
          },
          "metadata": {}
        },
        {
          "output_type": "display_data",
          "data": {
            "application/javascript": [
              "window[\"1650af84-9d8e-11ec-a544-0242ac1c0002\"] = google.colab.output.setActiveOutputArea(window[\"1631e5f4-9d8e-11ec-a544-0242ac1c0002\"]);\n",
              "//# sourceURL=js_2198aa9f50"
            ],
            "text/plain": [
              "<IPython.core.display.Javascript object>"
            ]
          },
          "metadata": {}
        },
        {
          "output_type": "display_data",
          "data": {
            "application/javascript": [
              "window[\"16716ef4-9d8e-11ec-a544-0242ac1c0002\"] = google.colab.output.getActiveOutputArea();\n",
              "//# sourceURL=js_252c50e2e5"
            ],
            "text/plain": [
              "<IPython.core.display.Javascript object>"
            ]
          },
          "metadata": {}
        },
        {
          "output_type": "display_data",
          "data": {
            "application/javascript": [
              "window[\"1671bfb2-9d8e-11ec-a544-0242ac1c0002\"] = document.querySelector(\"#id36-0-0\");\n",
              "//# sourceURL=js_a10c50a00a"
            ],
            "text/plain": [
              "<IPython.core.display.Javascript object>"
            ]
          },
          "metadata": {}
        },
        {
          "output_type": "display_data",
          "data": {
            "application/javascript": [
              "window[\"16723816-9d8e-11ec-a544-0242ac1c0002\"] = google.colab.output.setActiveOutputArea(window[\"1671bfb2-9d8e-11ec-a544-0242ac1c0002\"]);\n",
              "//# sourceURL=js_e0e8c95632"
            ],
            "text/plain": [
              "<IPython.core.display.Javascript object>"
            ]
          },
          "metadata": {}
        },
        {
          "output_type": "display_data",
          "data": {
            "application/javascript": [
              "window[\"168dfbfa-9d8e-11ec-a544-0242ac1c0002\"] = google.colab.output.setActiveOutputArea(window[\"16716ef4-9d8e-11ec-a544-0242ac1c0002\"]);\n",
              "//# sourceURL=js_d5f35c0b1c"
            ],
            "text/plain": [
              "<IPython.core.display.Javascript object>"
            ]
          },
          "metadata": {}
        },
        {
          "output_type": "display_data",
          "data": {
            "application/javascript": [
              "window[\"16aedcd0-9d8e-11ec-a544-0242ac1c0002\"] = google.colab.output.getActiveOutputArea();\n",
              "//# sourceURL=js_1341394217"
            ],
            "text/plain": [
              "<IPython.core.display.Javascript object>"
            ]
          },
          "metadata": {}
        },
        {
          "output_type": "display_data",
          "data": {
            "application/javascript": [
              "window[\"16af4bca-9d8e-11ec-a544-0242ac1c0002\"] = document.querySelector(\"#id36-0-0\");\n",
              "//# sourceURL=js_f70cf5930e"
            ],
            "text/plain": [
              "<IPython.core.display.Javascript object>"
            ]
          },
          "metadata": {}
        },
        {
          "output_type": "display_data",
          "data": {
            "application/javascript": [
              "window[\"16afbd58-9d8e-11ec-a544-0242ac1c0002\"] = google.colab.output.setActiveOutputArea(window[\"16af4bca-9d8e-11ec-a544-0242ac1c0002\"]);\n",
              "//# sourceURL=js_973fee6b6d"
            ],
            "text/plain": [
              "<IPython.core.display.Javascript object>"
            ]
          },
          "metadata": {}
        },
        {
          "output_type": "display_data",
          "data": {
            "application/javascript": [
              "window[\"16cc72a4-9d8e-11ec-a544-0242ac1c0002\"] = google.colab.output.setActiveOutputArea(window[\"16aedcd0-9d8e-11ec-a544-0242ac1c0002\"]);\n",
              "//# sourceURL=js_853655e6c8"
            ],
            "text/plain": [
              "<IPython.core.display.Javascript object>"
            ]
          },
          "metadata": {}
        },
        {
          "output_type": "display_data",
          "data": {
            "application/javascript": [
              "window[\"16ed5fb4-9d8e-11ec-a544-0242ac1c0002\"] = google.colab.output.getActiveOutputArea();\n",
              "//# sourceURL=js_a71a312589"
            ],
            "text/plain": [
              "<IPython.core.display.Javascript object>"
            ]
          },
          "metadata": {}
        },
        {
          "output_type": "display_data",
          "data": {
            "application/javascript": [
              "window[\"16edc7d8-9d8e-11ec-a544-0242ac1c0002\"] = document.querySelector(\"#id36-0-0\");\n",
              "//# sourceURL=js_e7c30eee75"
            ],
            "text/plain": [
              "<IPython.core.display.Javascript object>"
            ]
          },
          "metadata": {}
        },
        {
          "output_type": "display_data",
          "data": {
            "application/javascript": [
              "window[\"16ee3222-9d8e-11ec-a544-0242ac1c0002\"] = google.colab.output.setActiveOutputArea(window[\"16edc7d8-9d8e-11ec-a544-0242ac1c0002\"]);\n",
              "//# sourceURL=js_cd868fd242"
            ],
            "text/plain": [
              "<IPython.core.display.Javascript object>"
            ]
          },
          "metadata": {}
        },
        {
          "output_type": "display_data",
          "data": {
            "application/javascript": [
              "window[\"170a8f3a-9d8e-11ec-a544-0242ac1c0002\"] = google.colab.output.setActiveOutputArea(window[\"16ed5fb4-9d8e-11ec-a544-0242ac1c0002\"]);\n",
              "//# sourceURL=js_24446c1a29"
            ],
            "text/plain": [
              "<IPython.core.display.Javascript object>"
            ]
          },
          "metadata": {}
        },
        {
          "output_type": "display_data",
          "data": {
            "application/javascript": [
              "window[\"172b7e66-9d8e-11ec-a544-0242ac1c0002\"] = google.colab.output.getActiveOutputArea();\n",
              "//# sourceURL=js_9908915882"
            ],
            "text/plain": [
              "<IPython.core.display.Javascript object>"
            ]
          },
          "metadata": {}
        },
        {
          "output_type": "display_data",
          "data": {
            "application/javascript": [
              "window[\"172c2abe-9d8e-11ec-a544-0242ac1c0002\"] = document.querySelector(\"#id36-0-0\");\n",
              "//# sourceURL=js_15b328f985"
            ],
            "text/plain": [
              "<IPython.core.display.Javascript object>"
            ]
          },
          "metadata": {}
        },
        {
          "output_type": "display_data",
          "data": {
            "application/javascript": [
              "window[\"172cc5aa-9d8e-11ec-a544-0242ac1c0002\"] = google.colab.output.setActiveOutputArea(window[\"172c2abe-9d8e-11ec-a544-0242ac1c0002\"]);\n",
              "//# sourceURL=js_bfe7fde325"
            ],
            "text/plain": [
              "<IPython.core.display.Javascript object>"
            ]
          },
          "metadata": {}
        },
        {
          "output_type": "display_data",
          "data": {
            "application/javascript": [
              "window[\"17493686-9d8e-11ec-a544-0242ac1c0002\"] = google.colab.output.setActiveOutputArea(window[\"172b7e66-9d8e-11ec-a544-0242ac1c0002\"]);\n",
              "//# sourceURL=js_cf3fc41da7"
            ],
            "text/plain": [
              "<IPython.core.display.Javascript object>"
            ]
          },
          "metadata": {}
        },
        {
          "output_type": "display_data",
          "data": {
            "application/javascript": [
              "window[\"1769d634-9d8e-11ec-a544-0242ac1c0002\"] = google.colab.output.getActiveOutputArea();\n",
              "//# sourceURL=js_cf130496c7"
            ],
            "text/plain": [
              "<IPython.core.display.Javascript object>"
            ]
          },
          "metadata": {}
        },
        {
          "output_type": "display_data",
          "data": {
            "application/javascript": [
              "window[\"176a2d46-9d8e-11ec-a544-0242ac1c0002\"] = document.querySelector(\"#id36-0-0\");\n",
              "//# sourceURL=js_61d097c79b"
            ],
            "text/plain": [
              "<IPython.core.display.Javascript object>"
            ]
          },
          "metadata": {}
        },
        {
          "output_type": "display_data",
          "data": {
            "application/javascript": [
              "window[\"176a8f0c-9d8e-11ec-a544-0242ac1c0002\"] = google.colab.output.setActiveOutputArea(window[\"176a2d46-9d8e-11ec-a544-0242ac1c0002\"]);\n",
              "//# sourceURL=js_366b3f2035"
            ],
            "text/plain": [
              "<IPython.core.display.Javascript object>"
            ]
          },
          "metadata": {}
        },
        {
          "output_type": "display_data",
          "data": {
            "application/javascript": [
              "window[\"1789e26c-9d8e-11ec-a544-0242ac1c0002\"] = google.colab.output.setActiveOutputArea(window[\"1769d634-9d8e-11ec-a544-0242ac1c0002\"]);\n",
              "//# sourceURL=js_3cd3272229"
            ],
            "text/plain": [
              "<IPython.core.display.Javascript object>"
            ]
          },
          "metadata": {}
        },
        {
          "output_type": "display_data",
          "data": {
            "application/javascript": [
              "window[\"17ab5b54-9d8e-11ec-a544-0242ac1c0002\"] = google.colab.output.getActiveOutputArea();\n",
              "//# sourceURL=js_53a6d5dc54"
            ],
            "text/plain": [
              "<IPython.core.display.Javascript object>"
            ]
          },
          "metadata": {}
        },
        {
          "output_type": "display_data",
          "data": {
            "application/javascript": [
              "window[\"17abd6ce-9d8e-11ec-a544-0242ac1c0002\"] = document.querySelector(\"#id36-0-0\");\n",
              "//# sourceURL=js_dcddc565cd"
            ],
            "text/plain": [
              "<IPython.core.display.Javascript object>"
            ]
          },
          "metadata": {}
        },
        {
          "output_type": "display_data",
          "data": {
            "application/javascript": [
              "window[\"17ac3fb0-9d8e-11ec-a544-0242ac1c0002\"] = google.colab.output.setActiveOutputArea(window[\"17abd6ce-9d8e-11ec-a544-0242ac1c0002\"]);\n",
              "//# sourceURL=js_8a6b99a5a0"
            ],
            "text/plain": [
              "<IPython.core.display.Javascript object>"
            ]
          },
          "metadata": {}
        },
        {
          "output_type": "display_data",
          "data": {
            "application/javascript": [
              "window[\"17caa6e4-9d8e-11ec-a544-0242ac1c0002\"] = google.colab.output.setActiveOutputArea(window[\"17ab5b54-9d8e-11ec-a544-0242ac1c0002\"]);\n",
              "//# sourceURL=js_5a1fa7c7c2"
            ],
            "text/plain": [
              "<IPython.core.display.Javascript object>"
            ]
          },
          "metadata": {}
        },
        {
          "output_type": "display_data",
          "data": {
            "application/javascript": [
              "window[\"17ebbf82-9d8e-11ec-a544-0242ac1c0002\"] = google.colab.output.getActiveOutputArea();\n",
              "//# sourceURL=js_b0fc2f9e6d"
            ],
            "text/plain": [
              "<IPython.core.display.Javascript object>"
            ]
          },
          "metadata": {}
        },
        {
          "output_type": "display_data",
          "data": {
            "application/javascript": [
              "window[\"17ec2af8-9d8e-11ec-a544-0242ac1c0002\"] = document.querySelector(\"#id36-0-0\");\n",
              "//# sourceURL=js_2a49f5d741"
            ],
            "text/plain": [
              "<IPython.core.display.Javascript object>"
            ]
          },
          "metadata": {}
        },
        {
          "output_type": "display_data",
          "data": {
            "application/javascript": [
              "window[\"17eca5b4-9d8e-11ec-a544-0242ac1c0002\"] = google.colab.output.setActiveOutputArea(window[\"17ec2af8-9d8e-11ec-a544-0242ac1c0002\"]);\n",
              "//# sourceURL=js_1b6265586d"
            ],
            "text/plain": [
              "<IPython.core.display.Javascript object>"
            ]
          },
          "metadata": {}
        },
        {
          "output_type": "display_data",
          "data": {
            "application/javascript": [
              "window[\"180b6e72-9d8e-11ec-a544-0242ac1c0002\"] = google.colab.output.setActiveOutputArea(window[\"17ebbf82-9d8e-11ec-a544-0242ac1c0002\"]);\n",
              "//# sourceURL=js_ab7f7cf0a9"
            ],
            "text/plain": [
              "<IPython.core.display.Javascript object>"
            ]
          },
          "metadata": {}
        },
        {
          "output_type": "display_data",
          "data": {
            "application/javascript": [
              "window[\"182c6bcc-9d8e-11ec-a544-0242ac1c0002\"] = google.colab.output.getActiveOutputArea();\n",
              "//# sourceURL=js_30e3d63c42"
            ],
            "text/plain": [
              "<IPython.core.display.Javascript object>"
            ]
          },
          "metadata": {}
        },
        {
          "output_type": "display_data",
          "data": {
            "application/javascript": [
              "window[\"182ce908-9d8e-11ec-a544-0242ac1c0002\"] = document.querySelector(\"#id36-0-0\");\n",
              "//# sourceURL=js_85a8e76af6"
            ],
            "text/plain": [
              "<IPython.core.display.Javascript object>"
            ]
          },
          "metadata": {}
        },
        {
          "output_type": "display_data",
          "data": {
            "application/javascript": [
              "window[\"182dd71e-9d8e-11ec-a544-0242ac1c0002\"] = google.colab.output.setActiveOutputArea(window[\"182ce908-9d8e-11ec-a544-0242ac1c0002\"]);\n",
              "//# sourceURL=js_1669dbccfc"
            ],
            "text/plain": [
              "<IPython.core.display.Javascript object>"
            ]
          },
          "metadata": {}
        },
        {
          "output_type": "display_data",
          "data": {
            "application/javascript": [
              "window[\"1851c4e4-9d8e-11ec-a544-0242ac1c0002\"] = google.colab.output.setActiveOutputArea(window[\"182c6bcc-9d8e-11ec-a544-0242ac1c0002\"]);\n",
              "//# sourceURL=js_c6be5de4cb"
            ],
            "text/plain": [
              "<IPython.core.display.Javascript object>"
            ]
          },
          "metadata": {}
        },
        {
          "output_type": "display_data",
          "data": {
            "application/javascript": [
              "window[\"18738854-9d8e-11ec-a544-0242ac1c0002\"] = google.colab.output.getActiveOutputArea();\n",
              "//# sourceURL=js_882473100e"
            ],
            "text/plain": [
              "<IPython.core.display.Javascript object>"
            ]
          },
          "metadata": {}
        },
        {
          "output_type": "display_data",
          "data": {
            "application/javascript": [
              "window[\"1873ebfa-9d8e-11ec-a544-0242ac1c0002\"] = document.querySelector(\"#id36-0-0\");\n",
              "//# sourceURL=js_5c5f9cca77"
            ],
            "text/plain": [
              "<IPython.core.display.Javascript object>"
            ]
          },
          "metadata": {}
        },
        {
          "output_type": "display_data",
          "data": {
            "application/javascript": [
              "window[\"18744d7a-9d8e-11ec-a544-0242ac1c0002\"] = google.colab.output.setActiveOutputArea(window[\"1873ebfa-9d8e-11ec-a544-0242ac1c0002\"]);\n",
              "//# sourceURL=js_3f4e487477"
            ],
            "text/plain": [
              "<IPython.core.display.Javascript object>"
            ]
          },
          "metadata": {}
        },
        {
          "output_type": "display_data",
          "data": {
            "application/javascript": [
              "window[\"189684e4-9d8e-11ec-a544-0242ac1c0002\"] = google.colab.output.setActiveOutputArea(window[\"18738854-9d8e-11ec-a544-0242ac1c0002\"]);\n",
              "//# sourceURL=js_787de73f07"
            ],
            "text/plain": [
              "<IPython.core.display.Javascript object>"
            ]
          },
          "metadata": {}
        },
        {
          "output_type": "display_data",
          "data": {
            "application/javascript": [
              "window[\"18b7a214-9d8e-11ec-a544-0242ac1c0002\"] = google.colab.output.getActiveOutputArea();\n",
              "//# sourceURL=js_17313e78a2"
            ],
            "text/plain": [
              "<IPython.core.display.Javascript object>"
            ]
          },
          "metadata": {}
        },
        {
          "output_type": "display_data",
          "data": {
            "application/javascript": [
              "window[\"18b84926-9d8e-11ec-a544-0242ac1c0002\"] = document.querySelector(\"#id36-0-0\");\n",
              "//# sourceURL=js_9a653d8c67"
            ],
            "text/plain": [
              "<IPython.core.display.Javascript object>"
            ]
          },
          "metadata": {}
        },
        {
          "output_type": "display_data",
          "data": {
            "application/javascript": [
              "window[\"18b8d65c-9d8e-11ec-a544-0242ac1c0002\"] = google.colab.output.setActiveOutputArea(window[\"18b84926-9d8e-11ec-a544-0242ac1c0002\"]);\n",
              "//# sourceURL=js_a849a5b1fe"
            ],
            "text/plain": [
              "<IPython.core.display.Javascript object>"
            ]
          },
          "metadata": {}
        },
        {
          "output_type": "display_data",
          "data": {
            "application/javascript": [
              "window[\"18d7355c-9d8e-11ec-a544-0242ac1c0002\"] = google.colab.output.setActiveOutputArea(window[\"18b7a214-9d8e-11ec-a544-0242ac1c0002\"]);\n",
              "//# sourceURL=js_4b2ce0a80c"
            ],
            "text/plain": [
              "<IPython.core.display.Javascript object>"
            ]
          },
          "metadata": {}
        },
        {
          "output_type": "display_data",
          "data": {
            "application/javascript": [
              "window[\"18f88bda-9d8e-11ec-a544-0242ac1c0002\"] = google.colab.output.getActiveOutputArea();\n",
              "//# sourceURL=js_4cd8582b97"
            ],
            "text/plain": [
              "<IPython.core.display.Javascript object>"
            ]
          },
          "metadata": {}
        },
        {
          "output_type": "display_data",
          "data": {
            "application/javascript": [
              "window[\"18f8fad4-9d8e-11ec-a544-0242ac1c0002\"] = document.querySelector(\"#id36-0-0\");\n",
              "//# sourceURL=js_736c4dc7a8"
            ],
            "text/plain": [
              "<IPython.core.display.Javascript object>"
            ]
          },
          "metadata": {}
        },
        {
          "output_type": "display_data",
          "data": {
            "application/javascript": [
              "window[\"18f9b12c-9d8e-11ec-a544-0242ac1c0002\"] = google.colab.output.setActiveOutputArea(window[\"18f8fad4-9d8e-11ec-a544-0242ac1c0002\"]);\n",
              "//# sourceURL=js_8a80f0e775"
            ],
            "text/plain": [
              "<IPython.core.display.Javascript object>"
            ]
          },
          "metadata": {}
        },
        {
          "output_type": "display_data",
          "data": {
            "application/javascript": [
              "window[\"1917286a-9d8e-11ec-a544-0242ac1c0002\"] = google.colab.output.setActiveOutputArea(window[\"18f88bda-9d8e-11ec-a544-0242ac1c0002\"]);\n",
              "//# sourceURL=js_e00aadecc8"
            ],
            "text/plain": [
              "<IPython.core.display.Javascript object>"
            ]
          },
          "metadata": {}
        },
        {
          "output_type": "display_data",
          "data": {
            "application/javascript": [
              "window[\"1937e94c-9d8e-11ec-a544-0242ac1c0002\"] = google.colab.output.getActiveOutputArea();\n",
              "//# sourceURL=js_bc84ccd98e"
            ],
            "text/plain": [
              "<IPython.core.display.Javascript object>"
            ]
          },
          "metadata": {}
        },
        {
          "output_type": "display_data",
          "data": {
            "application/javascript": [
              "window[\"193860ac-9d8e-11ec-a544-0242ac1c0002\"] = document.querySelector(\"#id36-0-0\");\n",
              "//# sourceURL=js_54fd610b48"
            ],
            "text/plain": [
              "<IPython.core.display.Javascript object>"
            ]
          },
          "metadata": {}
        },
        {
          "output_type": "display_data",
          "data": {
            "application/javascript": [
              "window[\"1938fa44-9d8e-11ec-a544-0242ac1c0002\"] = google.colab.output.setActiveOutputArea(window[\"193860ac-9d8e-11ec-a544-0242ac1c0002\"]);\n",
              "//# sourceURL=js_74fa400604"
            ],
            "text/plain": [
              "<IPython.core.display.Javascript object>"
            ]
          },
          "metadata": {}
        },
        {
          "output_type": "display_data",
          "data": {
            "application/javascript": [
              "window[\"195923c8-9d8e-11ec-a544-0242ac1c0002\"] = google.colab.output.setActiveOutputArea(window[\"1937e94c-9d8e-11ec-a544-0242ac1c0002\"]);\n",
              "//# sourceURL=js_0ae8f14768"
            ],
            "text/plain": [
              "<IPython.core.display.Javascript object>"
            ]
          },
          "metadata": {}
        },
        {
          "output_type": "display_data",
          "data": {
            "application/javascript": [
              "window[\"197b2ad6-9d8e-11ec-a544-0242ac1c0002\"] = google.colab.output.getActiveOutputArea();\n",
              "//# sourceURL=js_c5f191a3cf"
            ],
            "text/plain": [
              "<IPython.core.display.Javascript object>"
            ]
          },
          "metadata": {}
        },
        {
          "output_type": "display_data",
          "data": {
            "application/javascript": [
              "window[\"197ba15a-9d8e-11ec-a544-0242ac1c0002\"] = document.querySelector(\"#id36-0-0\");\n",
              "//# sourceURL=js_1820e7bc14"
            ],
            "text/plain": [
              "<IPython.core.display.Javascript object>"
            ]
          },
          "metadata": {}
        },
        {
          "output_type": "display_data",
          "data": {
            "application/javascript": [
              "window[\"197c506e-9d8e-11ec-a544-0242ac1c0002\"] = google.colab.output.setActiveOutputArea(window[\"197ba15a-9d8e-11ec-a544-0242ac1c0002\"]);\n",
              "//# sourceURL=js_aec3ec9bf4"
            ],
            "text/plain": [
              "<IPython.core.display.Javascript object>"
            ]
          },
          "metadata": {}
        },
        {
          "output_type": "display_data",
          "data": {
            "application/javascript": [
              "window[\"19b0f102-9d8e-11ec-a544-0242ac1c0002\"] = google.colab.output.setActiveOutputArea(window[\"197b2ad6-9d8e-11ec-a544-0242ac1c0002\"]);\n",
              "//# sourceURL=js_59cc261569"
            ],
            "text/plain": [
              "<IPython.core.display.Javascript object>"
            ]
          },
          "metadata": {}
        },
        {
          "output_type": "display_data",
          "data": {
            "application/javascript": [
              "window[\"19d4262c-9d8e-11ec-a544-0242ac1c0002\"] = google.colab.output.getActiveOutputArea();\n",
              "//# sourceURL=js_450c7cb214"
            ],
            "text/plain": [
              "<IPython.core.display.Javascript object>"
            ]
          },
          "metadata": {}
        },
        {
          "output_type": "display_data",
          "data": {
            "application/javascript": [
              "window[\"19d52572-9d8e-11ec-a544-0242ac1c0002\"] = document.querySelector(\"#id36-0-0\");\n",
              "//# sourceURL=js_cdf7ed85af"
            ],
            "text/plain": [
              "<IPython.core.display.Javascript object>"
            ]
          },
          "metadata": {}
        },
        {
          "output_type": "display_data",
          "data": {
            "application/javascript": [
              "window[\"19d5a2fe-9d8e-11ec-a544-0242ac1c0002\"] = google.colab.output.setActiveOutputArea(window[\"19d52572-9d8e-11ec-a544-0242ac1c0002\"]);\n",
              "//# sourceURL=js_f9f495abcb"
            ],
            "text/plain": [
              "<IPython.core.display.Javascript object>"
            ]
          },
          "metadata": {}
        },
        {
          "output_type": "display_data",
          "data": {
            "application/javascript": [
              "window[\"19f4ee20-9d8e-11ec-a544-0242ac1c0002\"] = google.colab.output.setActiveOutputArea(window[\"19d4262c-9d8e-11ec-a544-0242ac1c0002\"]);\n",
              "//# sourceURL=js_d02d38d686"
            ],
            "text/plain": [
              "<IPython.core.display.Javascript object>"
            ]
          },
          "metadata": {}
        },
        {
          "output_type": "display_data",
          "data": {
            "application/javascript": [
              "window[\"1a1621f8-9d8e-11ec-a544-0242ac1c0002\"] = google.colab.output.getActiveOutputArea();\n",
              "//# sourceURL=js_af06ded423"
            ],
            "text/plain": [
              "<IPython.core.display.Javascript object>"
            ]
          },
          "metadata": {}
        },
        {
          "output_type": "display_data",
          "data": {
            "application/javascript": [
              "window[\"1a1692aa-9d8e-11ec-a544-0242ac1c0002\"] = document.querySelector(\"#id36-0-0\");\n",
              "//# sourceURL=js_5dd6d25279"
            ],
            "text/plain": [
              "<IPython.core.display.Javascript object>"
            ]
          },
          "metadata": {}
        },
        {
          "output_type": "display_data",
          "data": {
            "application/javascript": [
              "window[\"1a16e1b0-9d8e-11ec-a544-0242ac1c0002\"] = google.colab.output.setActiveOutputArea(window[\"1a1692aa-9d8e-11ec-a544-0242ac1c0002\"]);\n",
              "//# sourceURL=js_44dec95293"
            ],
            "text/plain": [
              "<IPython.core.display.Javascript object>"
            ]
          },
          "metadata": {}
        },
        {
          "output_type": "display_data",
          "data": {
            "application/javascript": [
              "window[\"1a342ef0-9d8e-11ec-a544-0242ac1c0002\"] = google.colab.output.setActiveOutputArea(window[\"1a1621f8-9d8e-11ec-a544-0242ac1c0002\"]);\n",
              "//# sourceURL=js_c52e5036e8"
            ],
            "text/plain": [
              "<IPython.core.display.Javascript object>"
            ]
          },
          "metadata": {}
        },
        {
          "output_type": "display_data",
          "data": {
            "application/javascript": [
              "window[\"1a554522-9d8e-11ec-a544-0242ac1c0002\"] = google.colab.output.getActiveOutputArea();\n",
              "//# sourceURL=js_9446284355"
            ],
            "text/plain": [
              "<IPython.core.display.Javascript object>"
            ]
          },
          "metadata": {}
        },
        {
          "output_type": "display_data",
          "data": {
            "application/javascript": [
              "window[\"1a55a2e2-9d8e-11ec-a544-0242ac1c0002\"] = document.querySelector(\"#id36-0-0\");\n",
              "//# sourceURL=js_18cffd257c"
            ],
            "text/plain": [
              "<IPython.core.display.Javascript object>"
            ]
          },
          "metadata": {}
        },
        {
          "output_type": "display_data",
          "data": {
            "application/javascript": [
              "window[\"1a562f82-9d8e-11ec-a544-0242ac1c0002\"] = google.colab.output.setActiveOutputArea(window[\"1a55a2e2-9d8e-11ec-a544-0242ac1c0002\"]);\n",
              "//# sourceURL=js_06471bcf4c"
            ],
            "text/plain": [
              "<IPython.core.display.Javascript object>"
            ]
          },
          "metadata": {}
        },
        {
          "output_type": "display_data",
          "data": {
            "application/javascript": [
              "window[\"1a78713c-9d8e-11ec-a544-0242ac1c0002\"] = google.colab.output.setActiveOutputArea(window[\"1a554522-9d8e-11ec-a544-0242ac1c0002\"]);\n",
              "//# sourceURL=js_f4bf02f87d"
            ],
            "text/plain": [
              "<IPython.core.display.Javascript object>"
            ]
          },
          "metadata": {}
        },
        {
          "output_type": "display_data",
          "data": {
            "application/javascript": [
              "window[\"1a9a610c-9d8e-11ec-a544-0242ac1c0002\"] = google.colab.output.getActiveOutputArea();\n",
              "//# sourceURL=js_6bab1c156c"
            ],
            "text/plain": [
              "<IPython.core.display.Javascript object>"
            ]
          },
          "metadata": {}
        },
        {
          "output_type": "display_data",
          "data": {
            "application/javascript": [
              "window[\"1a9af694-9d8e-11ec-a544-0242ac1c0002\"] = document.querySelector(\"#id36-0-0\");\n",
              "//# sourceURL=js_7a54803d85"
            ],
            "text/plain": [
              "<IPython.core.display.Javascript object>"
            ]
          },
          "metadata": {}
        },
        {
          "output_type": "display_data",
          "data": {
            "application/javascript": [
              "window[\"1a9b7da8-9d8e-11ec-a544-0242ac1c0002\"] = google.colab.output.setActiveOutputArea(window[\"1a9af694-9d8e-11ec-a544-0242ac1c0002\"]);\n",
              "//# sourceURL=js_beca8c11a3"
            ],
            "text/plain": [
              "<IPython.core.display.Javascript object>"
            ]
          },
          "metadata": {}
        },
        {
          "output_type": "display_data",
          "data": {
            "application/javascript": [
              "window[\"1ac57036-9d8e-11ec-a544-0242ac1c0002\"] = google.colab.output.setActiveOutputArea(window[\"1a9a610c-9d8e-11ec-a544-0242ac1c0002\"]);\n",
              "//# sourceURL=js_cf302dd14f"
            ],
            "text/plain": [
              "<IPython.core.display.Javascript object>"
            ]
          },
          "metadata": {}
        },
        {
          "output_type": "display_data",
          "data": {
            "application/javascript": [
              "window[\"1ae87784-9d8e-11ec-a544-0242ac1c0002\"] = google.colab.output.getActiveOutputArea();\n",
              "//# sourceURL=js_4508d4a616"
            ],
            "text/plain": [
              "<IPython.core.display.Javascript object>"
            ]
          },
          "metadata": {}
        },
        {
          "output_type": "display_data",
          "data": {
            "application/javascript": [
              "window[\"1ae95780-9d8e-11ec-a544-0242ac1c0002\"] = document.querySelector(\"#id36-0-0\");\n",
              "//# sourceURL=js_e52052294a"
            ],
            "text/plain": [
              "<IPython.core.display.Javascript object>"
            ]
          },
          "metadata": {}
        },
        {
          "output_type": "display_data",
          "data": {
            "application/javascript": [
              "window[\"1ae9dfac-9d8e-11ec-a544-0242ac1c0002\"] = google.colab.output.setActiveOutputArea(window[\"1ae95780-9d8e-11ec-a544-0242ac1c0002\"]);\n",
              "//# sourceURL=js_bf0c468bbf"
            ],
            "text/plain": [
              "<IPython.core.display.Javascript object>"
            ]
          },
          "metadata": {}
        },
        {
          "output_type": "display_data",
          "data": {
            "application/javascript": [
              "window[\"1b13b2d2-9d8e-11ec-a544-0242ac1c0002\"] = google.colab.output.setActiveOutputArea(window[\"1ae87784-9d8e-11ec-a544-0242ac1c0002\"]);\n",
              "//# sourceURL=js_2ab00f5844"
            ],
            "text/plain": [
              "<IPython.core.display.Javascript object>"
            ]
          },
          "metadata": {}
        },
        {
          "output_type": "display_data",
          "data": {
            "application/javascript": [
              "window[\"1b3543c0-9d8e-11ec-a544-0242ac1c0002\"] = google.colab.output.getActiveOutputArea();\n",
              "//# sourceURL=js_9c0dd3f1e2"
            ],
            "text/plain": [
              "<IPython.core.display.Javascript object>"
            ]
          },
          "metadata": {}
        },
        {
          "output_type": "display_data",
          "data": {
            "application/javascript": [
              "window[\"1b35e5e6-9d8e-11ec-a544-0242ac1c0002\"] = document.querySelector(\"#id36-0-0\");\n",
              "//# sourceURL=js_600cb83745"
            ],
            "text/plain": [
              "<IPython.core.display.Javascript object>"
            ]
          },
          "metadata": {}
        },
        {
          "output_type": "display_data",
          "data": {
            "application/javascript": [
              "window[\"1b3678c6-9d8e-11ec-a544-0242ac1c0002\"] = google.colab.output.setActiveOutputArea(window[\"1b35e5e6-9d8e-11ec-a544-0242ac1c0002\"]);\n",
              "//# sourceURL=js_2a6391c0b0"
            ],
            "text/plain": [
              "<IPython.core.display.Javascript object>"
            ]
          },
          "metadata": {}
        },
        {
          "output_type": "display_data",
          "data": {
            "application/javascript": [
              "window[\"1b670856-9d8e-11ec-a544-0242ac1c0002\"] = google.colab.output.setActiveOutputArea(window[\"1b3543c0-9d8e-11ec-a544-0242ac1c0002\"]);\n",
              "//# sourceURL=js_ced4d4a470"
            ],
            "text/plain": [
              "<IPython.core.display.Javascript object>"
            ]
          },
          "metadata": {}
        },
        {
          "output_type": "display_data",
          "data": {
            "application/javascript": [
              "window[\"1b8b98b0-9d8e-11ec-a544-0242ac1c0002\"] = google.colab.output.getActiveOutputArea();\n",
              "//# sourceURL=js_4016bbfaa5"
            ],
            "text/plain": [
              "<IPython.core.display.Javascript object>"
            ]
          },
          "metadata": {}
        },
        {
          "output_type": "display_data",
          "data": {
            "application/javascript": [
              "window[\"1b8bffe4-9d8e-11ec-a544-0242ac1c0002\"] = document.querySelector(\"#id36-0-0\");\n",
              "//# sourceURL=js_8150eb447e"
            ],
            "text/plain": [
              "<IPython.core.display.Javascript object>"
            ]
          },
          "metadata": {}
        },
        {
          "output_type": "display_data",
          "data": {
            "application/javascript": [
              "window[\"1b8d11e0-9d8e-11ec-a544-0242ac1c0002\"] = google.colab.output.setActiveOutputArea(window[\"1b8bffe4-9d8e-11ec-a544-0242ac1c0002\"]);\n",
              "//# sourceURL=js_0eeb339257"
            ],
            "text/plain": [
              "<IPython.core.display.Javascript object>"
            ]
          },
          "metadata": {}
        },
        {
          "output_type": "display_data",
          "data": {
            "application/javascript": [
              "window[\"1bc5e1d2-9d8e-11ec-a544-0242ac1c0002\"] = google.colab.output.setActiveOutputArea(window[\"1b8b98b0-9d8e-11ec-a544-0242ac1c0002\"]);\n",
              "//# sourceURL=js_366047cc55"
            ],
            "text/plain": [
              "<IPython.core.display.Javascript object>"
            ]
          },
          "metadata": {}
        },
        {
          "output_type": "display_data",
          "data": {
            "application/javascript": [
              "window[\"1beaba52-9d8e-11ec-a544-0242ac1c0002\"] = google.colab.output.getActiveOutputArea();\n",
              "//# sourceURL=js_98d62b311a"
            ],
            "text/plain": [
              "<IPython.core.display.Javascript object>"
            ]
          },
          "metadata": {}
        },
        {
          "output_type": "display_data",
          "data": {
            "application/javascript": [
              "window[\"1bec7766-9d8e-11ec-a544-0242ac1c0002\"] = document.querySelector(\"#id36-0-0\");\n",
              "//# sourceURL=js_b10b906104"
            ],
            "text/plain": [
              "<IPython.core.display.Javascript object>"
            ]
          },
          "metadata": {}
        },
        {
          "output_type": "display_data",
          "data": {
            "application/javascript": [
              "window[\"1bed229c-9d8e-11ec-a544-0242ac1c0002\"] = google.colab.output.setActiveOutputArea(window[\"1bec7766-9d8e-11ec-a544-0242ac1c0002\"]);\n",
              "//# sourceURL=js_c8bd3c015d"
            ],
            "text/plain": [
              "<IPython.core.display.Javascript object>"
            ]
          },
          "metadata": {}
        },
        {
          "output_type": "display_data",
          "data": {
            "application/javascript": [
              "window[\"1c120cec-9d8e-11ec-a544-0242ac1c0002\"] = google.colab.output.setActiveOutputArea(window[\"1beaba52-9d8e-11ec-a544-0242ac1c0002\"]);\n",
              "//# sourceURL=js_80ab934173"
            ],
            "text/plain": [
              "<IPython.core.display.Javascript object>"
            ]
          },
          "metadata": {}
        },
        {
          "output_type": "display_data",
          "data": {
            "application/javascript": [
              "window[\"1c3763ac-9d8e-11ec-a544-0242ac1c0002\"] = google.colab.output.getActiveOutputArea();\n",
              "//# sourceURL=js_f597923362"
            ],
            "text/plain": [
              "<IPython.core.display.Javascript object>"
            ]
          },
          "metadata": {}
        },
        {
          "output_type": "display_data",
          "data": {
            "application/javascript": [
              "window[\"1c381dba-9d8e-11ec-a544-0242ac1c0002\"] = document.querySelector(\"#id36-0-0\");\n",
              "//# sourceURL=js_f7844e1e01"
            ],
            "text/plain": [
              "<IPython.core.display.Javascript object>"
            ]
          },
          "metadata": {}
        },
        {
          "output_type": "display_data",
          "data": {
            "application/javascript": [
              "window[\"1c38a29e-9d8e-11ec-a544-0242ac1c0002\"] = google.colab.output.setActiveOutputArea(window[\"1c381dba-9d8e-11ec-a544-0242ac1c0002\"]);\n",
              "//# sourceURL=js_d644d6a45e"
            ],
            "text/plain": [
              "<IPython.core.display.Javascript object>"
            ]
          },
          "metadata": {}
        },
        {
          "output_type": "display_data",
          "data": {
            "application/javascript": [
              "window[\"1c5dfcba-9d8e-11ec-a544-0242ac1c0002\"] = google.colab.output.setActiveOutputArea(window[\"1c3763ac-9d8e-11ec-a544-0242ac1c0002\"]);\n",
              "//# sourceURL=js_e4f157a626"
            ],
            "text/plain": [
              "<IPython.core.display.Javascript object>"
            ]
          },
          "metadata": {}
        },
        {
          "output_type": "display_data",
          "data": {
            "application/javascript": [
              "window[\"1c7f2084-9d8e-11ec-a544-0242ac1c0002\"] = google.colab.output.getActiveOutputArea();\n",
              "//# sourceURL=js_37c03d7eda"
            ],
            "text/plain": [
              "<IPython.core.display.Javascript object>"
            ]
          },
          "metadata": {}
        },
        {
          "output_type": "display_data",
          "data": {
            "application/javascript": [
              "window[\"1c7f8d80-9d8e-11ec-a544-0242ac1c0002\"] = document.querySelector(\"#id36-0-0\");\n",
              "//# sourceURL=js_0c0d1fb76a"
            ],
            "text/plain": [
              "<IPython.core.display.Javascript object>"
            ]
          },
          "metadata": {}
        },
        {
          "output_type": "display_data",
          "data": {
            "application/javascript": [
              "window[\"1c8009a4-9d8e-11ec-a544-0242ac1c0002\"] = google.colab.output.setActiveOutputArea(window[\"1c7f8d80-9d8e-11ec-a544-0242ac1c0002\"]);\n",
              "//# sourceURL=js_e9604ad599"
            ],
            "text/plain": [
              "<IPython.core.display.Javascript object>"
            ]
          },
          "metadata": {}
        },
        {
          "output_type": "display_data",
          "data": {
            "application/javascript": [
              "window[\"1ca362a0-9d8e-11ec-a544-0242ac1c0002\"] = google.colab.output.setActiveOutputArea(window[\"1c7f2084-9d8e-11ec-a544-0242ac1c0002\"]);\n",
              "//# sourceURL=js_7d33d9db58"
            ],
            "text/plain": [
              "<IPython.core.display.Javascript object>"
            ]
          },
          "metadata": {}
        },
        {
          "output_type": "display_data",
          "data": {
            "application/javascript": [
              "window[\"1cc48e9e-9d8e-11ec-a544-0242ac1c0002\"] = google.colab.output.getActiveOutputArea();\n",
              "//# sourceURL=js_8465110c13"
            ],
            "text/plain": [
              "<IPython.core.display.Javascript object>"
            ]
          },
          "metadata": {}
        },
        {
          "output_type": "display_data",
          "data": {
            "application/javascript": [
              "window[\"1cc4c9ea-9d8e-11ec-a544-0242ac1c0002\"] = document.querySelector(\"#id36-0-0\");\n",
              "//# sourceURL=js_cc4fb4cc0a"
            ],
            "text/plain": [
              "<IPython.core.display.Javascript object>"
            ]
          },
          "metadata": {}
        },
        {
          "output_type": "display_data",
          "data": {
            "application/javascript": [
              "window[\"1cc50158-9d8e-11ec-a544-0242ac1c0002\"] = google.colab.output.setActiveOutputArea(window[\"1cc4c9ea-9d8e-11ec-a544-0242ac1c0002\"]);\n",
              "//# sourceURL=js_e386f903a6"
            ],
            "text/plain": [
              "<IPython.core.display.Javascript object>"
            ]
          },
          "metadata": {}
        },
        {
          "output_type": "display_data",
          "data": {
            "application/javascript": [
              "window[\"1ce819d6-9d8e-11ec-a544-0242ac1c0002\"] = google.colab.output.setActiveOutputArea(window[\"1cc48e9e-9d8e-11ec-a544-0242ac1c0002\"]);\n",
              "//# sourceURL=js_7aaeea2fab"
            ],
            "text/plain": [
              "<IPython.core.display.Javascript object>"
            ]
          },
          "metadata": {}
        },
        {
          "output_type": "display_data",
          "data": {
            "application/javascript": [
              "window[\"1d08f908-9d8e-11ec-a544-0242ac1c0002\"] = google.colab.output.getActiveOutputArea();\n",
              "//# sourceURL=js_a468ccfd24"
            ],
            "text/plain": [
              "<IPython.core.display.Javascript object>"
            ]
          },
          "metadata": {}
        },
        {
          "output_type": "display_data",
          "data": {
            "application/javascript": [
              "window[\"1d097324-9d8e-11ec-a544-0242ac1c0002\"] = document.querySelector(\"#id36-0-0\");\n",
              "//# sourceURL=js_92e45f1feb"
            ],
            "text/plain": [
              "<IPython.core.display.Javascript object>"
            ]
          },
          "metadata": {}
        },
        {
          "output_type": "display_data",
          "data": {
            "application/javascript": [
              "window[\"1d09d9b8-9d8e-11ec-a544-0242ac1c0002\"] = google.colab.output.setActiveOutputArea(window[\"1d097324-9d8e-11ec-a544-0242ac1c0002\"]);\n",
              "//# sourceURL=js_28d997b6bf"
            ],
            "text/plain": [
              "<IPython.core.display.Javascript object>"
            ]
          },
          "metadata": {}
        },
        {
          "output_type": "display_data",
          "data": {
            "application/javascript": [
              "window[\"1d33bbac-9d8e-11ec-a544-0242ac1c0002\"] = google.colab.output.setActiveOutputArea(window[\"1d08f908-9d8e-11ec-a544-0242ac1c0002\"]);\n",
              "//# sourceURL=js_30c037d6ec"
            ],
            "text/plain": [
              "<IPython.core.display.Javascript object>"
            ]
          },
          "metadata": {}
        },
        {
          "output_type": "display_data",
          "data": {
            "application/javascript": [
              "window[\"1d556342-9d8e-11ec-a544-0242ac1c0002\"] = google.colab.output.getActiveOutputArea();\n",
              "//# sourceURL=js_97d398c40d"
            ],
            "text/plain": [
              "<IPython.core.display.Javascript object>"
            ]
          },
          "metadata": {}
        },
        {
          "output_type": "display_data",
          "data": {
            "application/javascript": [
              "window[\"1d55cac6-9d8e-11ec-a544-0242ac1c0002\"] = document.querySelector(\"#id36-0-0\");\n",
              "//# sourceURL=js_c2216ec4c8"
            ],
            "text/plain": [
              "<IPython.core.display.Javascript object>"
            ]
          },
          "metadata": {}
        },
        {
          "output_type": "display_data",
          "data": {
            "application/javascript": [
              "window[\"1d564186-9d8e-11ec-a544-0242ac1c0002\"] = google.colab.output.setActiveOutputArea(window[\"1d55cac6-9d8e-11ec-a544-0242ac1c0002\"]);\n",
              "//# sourceURL=js_b04335e080"
            ],
            "text/plain": [
              "<IPython.core.display.Javascript object>"
            ]
          },
          "metadata": {}
        },
        {
          "output_type": "display_data",
          "data": {
            "application/javascript": [
              "window[\"1d7d0032-9d8e-11ec-a544-0242ac1c0002\"] = google.colab.output.setActiveOutputArea(window[\"1d556342-9d8e-11ec-a544-0242ac1c0002\"]);\n",
              "//# sourceURL=js_b56d410f52"
            ],
            "text/plain": [
              "<IPython.core.display.Javascript object>"
            ]
          },
          "metadata": {}
        },
        {
          "output_type": "display_data",
          "data": {
            "application/javascript": [
              "window[\"1d9f57a4-9d8e-11ec-a544-0242ac1c0002\"] = google.colab.output.getActiveOutputArea();\n",
              "//# sourceURL=js_81c31cfb6a"
            ],
            "text/plain": [
              "<IPython.core.display.Javascript object>"
            ]
          },
          "metadata": {}
        },
        {
          "output_type": "display_data",
          "data": {
            "application/javascript": [
              "window[\"1d9fe4c6-9d8e-11ec-a544-0242ac1c0002\"] = document.querySelector(\"#id36-0-0\");\n",
              "//# sourceURL=js_3f2404d938"
            ],
            "text/plain": [
              "<IPython.core.display.Javascript object>"
            ]
          },
          "metadata": {}
        },
        {
          "output_type": "display_data",
          "data": {
            "application/javascript": [
              "window[\"1da0b54a-9d8e-11ec-a544-0242ac1c0002\"] = google.colab.output.setActiveOutputArea(window[\"1d9fe4c6-9d8e-11ec-a544-0242ac1c0002\"]);\n",
              "//# sourceURL=js_c9f1ec7bf5"
            ],
            "text/plain": [
              "<IPython.core.display.Javascript object>"
            ]
          },
          "metadata": {}
        },
        {
          "output_type": "display_data",
          "data": {
            "application/javascript": [
              "window[\"1dbfcd22-9d8e-11ec-a544-0242ac1c0002\"] = google.colab.output.setActiveOutputArea(window[\"1d9f57a4-9d8e-11ec-a544-0242ac1c0002\"]);\n",
              "//# sourceURL=js_60dffa5286"
            ],
            "text/plain": [
              "<IPython.core.display.Javascript object>"
            ]
          },
          "metadata": {}
        },
        {
          "output_type": "display_data",
          "data": {
            "application/javascript": [
              "window[\"1de145d8-9d8e-11ec-a544-0242ac1c0002\"] = google.colab.output.getActiveOutputArea();\n",
              "//# sourceURL=js_092acff87c"
            ],
            "text/plain": [
              "<IPython.core.display.Javascript object>"
            ]
          },
          "metadata": {}
        },
        {
          "output_type": "display_data",
          "data": {
            "application/javascript": [
              "window[\"1de23010-9d8e-11ec-a544-0242ac1c0002\"] = document.querySelector(\"#id36-0-0\");\n",
              "//# sourceURL=js_1e68497b03"
            ],
            "text/plain": [
              "<IPython.core.display.Javascript object>"
            ]
          },
          "metadata": {}
        },
        {
          "output_type": "display_data",
          "data": {
            "application/javascript": [
              "window[\"1de2b512-9d8e-11ec-a544-0242ac1c0002\"] = google.colab.output.setActiveOutputArea(window[\"1de23010-9d8e-11ec-a544-0242ac1c0002\"]);\n",
              "//# sourceURL=js_8ddccd5de6"
            ],
            "text/plain": [
              "<IPython.core.display.Javascript object>"
            ]
          },
          "metadata": {}
        },
        {
          "output_type": "display_data",
          "data": {
            "application/javascript": [
              "window[\"1e14a5a4-9d8e-11ec-a544-0242ac1c0002\"] = google.colab.output.setActiveOutputArea(window[\"1de145d8-9d8e-11ec-a544-0242ac1c0002\"]);\n",
              "//# sourceURL=js_69e482025f"
            ],
            "text/plain": [
              "<IPython.core.display.Javascript object>"
            ]
          },
          "metadata": {}
        },
        {
          "output_type": "display_data",
          "data": {
            "application/javascript": [
              "window[\"1e35ae52-9d8e-11ec-a544-0242ac1c0002\"] = google.colab.output.getActiveOutputArea();\n",
              "//# sourceURL=js_3737c6d179"
            ],
            "text/plain": [
              "<IPython.core.display.Javascript object>"
            ]
          },
          "metadata": {}
        },
        {
          "output_type": "display_data",
          "data": {
            "application/javascript": [
              "window[\"1e363c3c-9d8e-11ec-a544-0242ac1c0002\"] = document.querySelector(\"#id36-0-0\");\n",
              "//# sourceURL=js_706b32cb5b"
            ],
            "text/plain": [
              "<IPython.core.display.Javascript object>"
            ]
          },
          "metadata": {}
        },
        {
          "output_type": "display_data",
          "data": {
            "application/javascript": [
              "window[\"1e36a654-9d8e-11ec-a544-0242ac1c0002\"] = google.colab.output.setActiveOutputArea(window[\"1e363c3c-9d8e-11ec-a544-0242ac1c0002\"]);\n",
              "//# sourceURL=js_dce6a373ba"
            ],
            "text/plain": [
              "<IPython.core.display.Javascript object>"
            ]
          },
          "metadata": {}
        },
        {
          "output_type": "display_data",
          "data": {
            "application/javascript": [
              "window[\"1e582568-9d8e-11ec-a544-0242ac1c0002\"] = google.colab.output.setActiveOutputArea(window[\"1e35ae52-9d8e-11ec-a544-0242ac1c0002\"]);\n",
              "//# sourceURL=js_dbb7a3d6e0"
            ],
            "text/plain": [
              "<IPython.core.display.Javascript object>"
            ]
          },
          "metadata": {}
        },
        {
          "output_type": "display_data",
          "data": {
            "application/javascript": [
              "window[\"1e798da2-9d8e-11ec-a544-0242ac1c0002\"] = google.colab.output.getActiveOutputArea();\n",
              "//# sourceURL=js_962e30c729"
            ],
            "text/plain": [
              "<IPython.core.display.Javascript object>"
            ]
          },
          "metadata": {}
        },
        {
          "output_type": "display_data",
          "data": {
            "application/javascript": [
              "window[\"1e7aa1d8-9d8e-11ec-a544-0242ac1c0002\"] = document.querySelector(\"#id36-0-0\");\n",
              "//# sourceURL=js_7dbef2ba57"
            ],
            "text/plain": [
              "<IPython.core.display.Javascript object>"
            ]
          },
          "metadata": {}
        },
        {
          "output_type": "display_data",
          "data": {
            "application/javascript": [
              "window[\"1e7b5330-9d8e-11ec-a544-0242ac1c0002\"] = google.colab.output.setActiveOutputArea(window[\"1e7aa1d8-9d8e-11ec-a544-0242ac1c0002\"]);\n",
              "//# sourceURL=js_8f7013bed2"
            ],
            "text/plain": [
              "<IPython.core.display.Javascript object>"
            ]
          },
          "metadata": {}
        },
        {
          "output_type": "display_data",
          "data": {
            "application/javascript": [
              "window[\"1e99a1f0-9d8e-11ec-a544-0242ac1c0002\"] = google.colab.output.setActiveOutputArea(window[\"1e798da2-9d8e-11ec-a544-0242ac1c0002\"]);\n",
              "//# sourceURL=js_703a22d1da"
            ],
            "text/plain": [
              "<IPython.core.display.Javascript object>"
            ]
          },
          "metadata": {}
        },
        {
          "output_type": "display_data",
          "data": {
            "application/javascript": [
              "window[\"1ebc48c2-9d8e-11ec-a544-0242ac1c0002\"] = google.colab.output.getActiveOutputArea();\n",
              "//# sourceURL=js_21deac4f10"
            ],
            "text/plain": [
              "<IPython.core.display.Javascript object>"
            ]
          },
          "metadata": {}
        },
        {
          "output_type": "display_data",
          "data": {
            "application/javascript": [
              "window[\"1ebd104a-9d8e-11ec-a544-0242ac1c0002\"] = document.querySelector(\"#id36-0-0\");\n",
              "//# sourceURL=js_3e1241b89a"
            ],
            "text/plain": [
              "<IPython.core.display.Javascript object>"
            ]
          },
          "metadata": {}
        },
        {
          "output_type": "display_data",
          "data": {
            "application/javascript": [
              "window[\"1ebda2ee-9d8e-11ec-a544-0242ac1c0002\"] = google.colab.output.setActiveOutputArea(window[\"1ebd104a-9d8e-11ec-a544-0242ac1c0002\"]);\n",
              "//# sourceURL=js_1574dbfb61"
            ],
            "text/plain": [
              "<IPython.core.display.Javascript object>"
            ]
          },
          "metadata": {}
        },
        {
          "output_type": "display_data",
          "data": {
            "application/javascript": [
              "window[\"1ee4fb32-9d8e-11ec-a544-0242ac1c0002\"] = google.colab.output.setActiveOutputArea(window[\"1ebc48c2-9d8e-11ec-a544-0242ac1c0002\"]);\n",
              "//# sourceURL=js_82ab9e17b0"
            ],
            "text/plain": [
              "<IPython.core.display.Javascript object>"
            ]
          },
          "metadata": {}
        },
        {
          "output_type": "display_data",
          "data": {
            "application/javascript": [
              "window[\"1f09f716-9d8e-11ec-a544-0242ac1c0002\"] = google.colab.output.getActiveOutputArea();\n",
              "//# sourceURL=js_7675eb42eb"
            ],
            "text/plain": [
              "<IPython.core.display.Javascript object>"
            ]
          },
          "metadata": {}
        },
        {
          "output_type": "display_data",
          "data": {
            "application/javascript": [
              "window[\"1f0a9e50-9d8e-11ec-a544-0242ac1c0002\"] = document.querySelector(\"#id36-0-0\");\n",
              "//# sourceURL=js_700970a8f3"
            ],
            "text/plain": [
              "<IPython.core.display.Javascript object>"
            ]
          },
          "metadata": {}
        },
        {
          "output_type": "display_data",
          "data": {
            "application/javascript": [
              "window[\"1f0b0840-9d8e-11ec-a544-0242ac1c0002\"] = google.colab.output.setActiveOutputArea(window[\"1f0a9e50-9d8e-11ec-a544-0242ac1c0002\"]);\n",
              "//# sourceURL=js_9c4f5cb5cb"
            ],
            "text/plain": [
              "<IPython.core.display.Javascript object>"
            ]
          },
          "metadata": {}
        },
        {
          "output_type": "display_data",
          "data": {
            "application/javascript": [
              "window[\"1f2ce744-9d8e-11ec-a544-0242ac1c0002\"] = google.colab.output.setActiveOutputArea(window[\"1f09f716-9d8e-11ec-a544-0242ac1c0002\"]);\n",
              "//# sourceURL=js_2cd514cc75"
            ],
            "text/plain": [
              "<IPython.core.display.Javascript object>"
            ]
          },
          "metadata": {}
        },
        {
          "output_type": "display_data",
          "data": {
            "application/javascript": [
              "window[\"1f51719a-9d8e-11ec-a544-0242ac1c0002\"] = google.colab.output.getActiveOutputArea();\n",
              "//# sourceURL=js_0ed00d2b99"
            ],
            "text/plain": [
              "<IPython.core.display.Javascript object>"
            ]
          },
          "metadata": {}
        },
        {
          "output_type": "display_data",
          "data": {
            "application/javascript": [
              "window[\"1f51b3b2-9d8e-11ec-a544-0242ac1c0002\"] = document.querySelector(\"#id36-0-0\");\n",
              "//# sourceURL=js_525cd3cd67"
            ],
            "text/plain": [
              "<IPython.core.display.Javascript object>"
            ]
          },
          "metadata": {}
        },
        {
          "output_type": "display_data",
          "data": {
            "application/javascript": [
              "window[\"1f51f480-9d8e-11ec-a544-0242ac1c0002\"] = google.colab.output.setActiveOutputArea(window[\"1f51b3b2-9d8e-11ec-a544-0242ac1c0002\"]);\n",
              "//# sourceURL=js_81265fb7c9"
            ],
            "text/plain": [
              "<IPython.core.display.Javascript object>"
            ]
          },
          "metadata": {}
        },
        {
          "output_type": "display_data",
          "data": {
            "application/javascript": [
              "window[\"1f74fab6-9d8e-11ec-a544-0242ac1c0002\"] = google.colab.output.setActiveOutputArea(window[\"1f51719a-9d8e-11ec-a544-0242ac1c0002\"]);\n",
              "//# sourceURL=js_978b2f80fd"
            ],
            "text/plain": [
              "<IPython.core.display.Javascript object>"
            ]
          },
          "metadata": {}
        },
        {
          "output_type": "display_data",
          "data": {
            "application/javascript": [
              "window[\"1f95a324-9d8e-11ec-a544-0242ac1c0002\"] = google.colab.output.getActiveOutputArea();\n",
              "//# sourceURL=js_b25c7b16ae"
            ],
            "text/plain": [
              "<IPython.core.display.Javascript object>"
            ]
          },
          "metadata": {}
        },
        {
          "output_type": "display_data",
          "data": {
            "application/javascript": [
              "window[\"1f95de66-9d8e-11ec-a544-0242ac1c0002\"] = document.querySelector(\"#id36-0-0\");\n",
              "//# sourceURL=js_28a5acbc7b"
            ],
            "text/plain": [
              "<IPython.core.display.Javascript object>"
            ]
          },
          "metadata": {}
        },
        {
          "output_type": "display_data",
          "data": {
            "application/javascript": [
              "window[\"1f9613fe-9d8e-11ec-a544-0242ac1c0002\"] = google.colab.output.setActiveOutputArea(window[\"1f95de66-9d8e-11ec-a544-0242ac1c0002\"]);\n",
              "//# sourceURL=js_221bb06ba4"
            ],
            "text/plain": [
              "<IPython.core.display.Javascript object>"
            ]
          },
          "metadata": {}
        },
        {
          "output_type": "display_data",
          "data": {
            "application/javascript": [
              "window[\"1fb74984-9d8e-11ec-a544-0242ac1c0002\"] = google.colab.output.setActiveOutputArea(window[\"1f95a324-9d8e-11ec-a544-0242ac1c0002\"]);\n",
              "//# sourceURL=js_6ae92efdaf"
            ],
            "text/plain": [
              "<IPython.core.display.Javascript object>"
            ]
          },
          "metadata": {}
        },
        {
          "output_type": "display_data",
          "data": {
            "application/javascript": [
              "window[\"1fd7eaf4-9d8e-11ec-a544-0242ac1c0002\"] = google.colab.output.getActiveOutputArea();\n",
              "//# sourceURL=js_93e8d192e7"
            ],
            "text/plain": [
              "<IPython.core.display.Javascript object>"
            ]
          },
          "metadata": {}
        },
        {
          "output_type": "display_data",
          "data": {
            "application/javascript": [
              "window[\"1fd83f40-9d8e-11ec-a544-0242ac1c0002\"] = document.querySelector(\"#id36-0-0\");\n",
              "//# sourceURL=js_00b4baf5a7"
            ],
            "text/plain": [
              "<IPython.core.display.Javascript object>"
            ]
          },
          "metadata": {}
        },
        {
          "output_type": "display_data",
          "data": {
            "application/javascript": [
              "window[\"1fd8dea0-9d8e-11ec-a544-0242ac1c0002\"] = google.colab.output.setActiveOutputArea(window[\"1fd83f40-9d8e-11ec-a544-0242ac1c0002\"]);\n",
              "//# sourceURL=js_0a45d8455e"
            ],
            "text/plain": [
              "<IPython.core.display.Javascript object>"
            ]
          },
          "metadata": {}
        },
        {
          "output_type": "display_data",
          "data": {
            "application/javascript": [
              "window[\"1ffadbe0-9d8e-11ec-a544-0242ac1c0002\"] = google.colab.output.setActiveOutputArea(window[\"1fd7eaf4-9d8e-11ec-a544-0242ac1c0002\"]);\n",
              "//# sourceURL=js_c4eb58c6bf"
            ],
            "text/plain": [
              "<IPython.core.display.Javascript object>"
            ]
          },
          "metadata": {}
        },
        {
          "output_type": "display_data",
          "data": {
            "application/javascript": [
              "window[\"201c4078-9d8e-11ec-a544-0242ac1c0002\"] = google.colab.output.getActiveOutputArea();\n",
              "//# sourceURL=js_e0ecfe6a42"
            ],
            "text/plain": [
              "<IPython.core.display.Javascript object>"
            ]
          },
          "metadata": {}
        },
        {
          "output_type": "display_data",
          "data": {
            "application/javascript": [
              "window[\"201cc0e8-9d8e-11ec-a544-0242ac1c0002\"] = document.querySelector(\"#id36-0-0\");\n",
              "//# sourceURL=js_e0d3015e88"
            ],
            "text/plain": [
              "<IPython.core.display.Javascript object>"
            ]
          },
          "metadata": {}
        },
        {
          "output_type": "display_data",
          "data": {
            "application/javascript": [
              "window[\"201d2e66-9d8e-11ec-a544-0242ac1c0002\"] = google.colab.output.setActiveOutputArea(window[\"201cc0e8-9d8e-11ec-a544-0242ac1c0002\"]);\n",
              "//# sourceURL=js_df06734bf6"
            ],
            "text/plain": [
              "<IPython.core.display.Javascript object>"
            ]
          },
          "metadata": {}
        },
        {
          "output_type": "display_data",
          "data": {
            "application/javascript": [
              "window[\"203dab96-9d8e-11ec-a544-0242ac1c0002\"] = google.colab.output.setActiveOutputArea(window[\"201c4078-9d8e-11ec-a544-0242ac1c0002\"]);\n",
              "//# sourceURL=js_5c55e16527"
            ],
            "text/plain": [
              "<IPython.core.display.Javascript object>"
            ]
          },
          "metadata": {}
        },
        {
          "output_type": "display_data",
          "data": {
            "application/javascript": [
              "window[\"205f2794-9d8e-11ec-a544-0242ac1c0002\"] = google.colab.output.getActiveOutputArea();\n",
              "//# sourceURL=js_83bdae0a2b"
            ],
            "text/plain": [
              "<IPython.core.display.Javascript object>"
            ]
          },
          "metadata": {}
        },
        {
          "output_type": "display_data",
          "data": {
            "application/javascript": [
              "window[\"205fb2d6-9d8e-11ec-a544-0242ac1c0002\"] = document.querySelector(\"#id36-0-0\");\n",
              "//# sourceURL=js_e89729528f"
            ],
            "text/plain": [
              "<IPython.core.display.Javascript object>"
            ]
          },
          "metadata": {}
        },
        {
          "output_type": "display_data",
          "data": {
            "application/javascript": [
              "window[\"206059b6-9d8e-11ec-a544-0242ac1c0002\"] = google.colab.output.setActiveOutputArea(window[\"205fb2d6-9d8e-11ec-a544-0242ac1c0002\"]);\n",
              "//# sourceURL=js_f262d4d1bb"
            ],
            "text/plain": [
              "<IPython.core.display.Javascript object>"
            ]
          },
          "metadata": {}
        },
        {
          "output_type": "display_data",
          "data": {
            "application/javascript": [
              "window[\"207db452-9d8e-11ec-a544-0242ac1c0002\"] = google.colab.output.setActiveOutputArea(window[\"205f2794-9d8e-11ec-a544-0242ac1c0002\"]);\n",
              "//# sourceURL=js_d5624d3e97"
            ],
            "text/plain": [
              "<IPython.core.display.Javascript object>"
            ]
          },
          "metadata": {}
        },
        {
          "output_type": "display_data",
          "data": {
            "application/javascript": [
              "window[\"209f0e5e-9d8e-11ec-a544-0242ac1c0002\"] = google.colab.output.getActiveOutputArea();\n",
              "//# sourceURL=js_8f72bfef73"
            ],
            "text/plain": [
              "<IPython.core.display.Javascript object>"
            ]
          },
          "metadata": {}
        },
        {
          "output_type": "display_data",
          "data": {
            "application/javascript": [
              "window[\"209fd3fc-9d8e-11ec-a544-0242ac1c0002\"] = document.querySelector(\"#id36-0-0\");\n",
              "//# sourceURL=js_30c1191b95"
            ],
            "text/plain": [
              "<IPython.core.display.Javascript object>"
            ]
          },
          "metadata": {}
        },
        {
          "output_type": "display_data",
          "data": {
            "application/javascript": [
              "window[\"20a06ad8-9d8e-11ec-a544-0242ac1c0002\"] = google.colab.output.setActiveOutputArea(window[\"209fd3fc-9d8e-11ec-a544-0242ac1c0002\"]);\n",
              "//# sourceURL=js_4effcdafac"
            ],
            "text/plain": [
              "<IPython.core.display.Javascript object>"
            ]
          },
          "metadata": {}
        },
        {
          "output_type": "display_data",
          "data": {
            "application/javascript": [
              "window[\"20c4ee80-9d8e-11ec-a544-0242ac1c0002\"] = google.colab.output.setActiveOutputArea(window[\"209f0e5e-9d8e-11ec-a544-0242ac1c0002\"]);\n",
              "//# sourceURL=js_e6861aa964"
            ],
            "text/plain": [
              "<IPython.core.display.Javascript object>"
            ]
          },
          "metadata": {}
        },
        {
          "output_type": "display_data",
          "data": {
            "application/javascript": [
              "window[\"20e960d0-9d8e-11ec-a544-0242ac1c0002\"] = google.colab.output.getActiveOutputArea();\n",
              "//# sourceURL=js_821329924d"
            ],
            "text/plain": [
              "<IPython.core.display.Javascript object>"
            ]
          },
          "metadata": {}
        },
        {
          "output_type": "display_data",
          "data": {
            "application/javascript": [
              "window[\"20ea79d4-9d8e-11ec-a544-0242ac1c0002\"] = document.querySelector(\"#id36-0-0\");\n",
              "//# sourceURL=js_7a2b5e4556"
            ],
            "text/plain": [
              "<IPython.core.display.Javascript object>"
            ]
          },
          "metadata": {}
        },
        {
          "output_type": "display_data",
          "data": {
            "application/javascript": [
              "window[\"20eb33ba-9d8e-11ec-a544-0242ac1c0002\"] = google.colab.output.setActiveOutputArea(window[\"20ea79d4-9d8e-11ec-a544-0242ac1c0002\"]);\n",
              "//# sourceURL=js_1244d35312"
            ],
            "text/plain": [
              "<IPython.core.display.Javascript object>"
            ]
          },
          "metadata": {}
        },
        {
          "output_type": "display_data",
          "data": {
            "application/javascript": [
              "window[\"210e986e-9d8e-11ec-a544-0242ac1c0002\"] = google.colab.output.setActiveOutputArea(window[\"20e960d0-9d8e-11ec-a544-0242ac1c0002\"]);\n",
              "//# sourceURL=js_3664b6a732"
            ],
            "text/plain": [
              "<IPython.core.display.Javascript object>"
            ]
          },
          "metadata": {}
        },
        {
          "output_type": "display_data",
          "data": {
            "application/javascript": [
              "window[\"212f5086-9d8e-11ec-a544-0242ac1c0002\"] = google.colab.output.getActiveOutputArea();\n",
              "//# sourceURL=js_c8f66f38e4"
            ],
            "text/plain": [
              "<IPython.core.display.Javascript object>"
            ]
          },
          "metadata": {}
        },
        {
          "output_type": "display_data",
          "data": {
            "application/javascript": [
              "window[\"212f8c5e-9d8e-11ec-a544-0242ac1c0002\"] = document.querySelector(\"#id36-0-0\");\n",
              "//# sourceURL=js_2049d70dc4"
            ],
            "text/plain": [
              "<IPython.core.display.Javascript object>"
            ]
          },
          "metadata": {}
        },
        {
          "output_type": "display_data",
          "data": {
            "application/javascript": [
              "window[\"212fcb7e-9d8e-11ec-a544-0242ac1c0002\"] = google.colab.output.setActiveOutputArea(window[\"212f8c5e-9d8e-11ec-a544-0242ac1c0002\"]);\n",
              "//# sourceURL=js_aa6d825c4e"
            ],
            "text/plain": [
              "<IPython.core.display.Javascript object>"
            ]
          },
          "metadata": {}
        },
        {
          "output_type": "display_data",
          "data": {
            "application/javascript": [
              "window[\"21555290-9d8e-11ec-a544-0242ac1c0002\"] = google.colab.output.setActiveOutputArea(window[\"212f5086-9d8e-11ec-a544-0242ac1c0002\"]);\n",
              "//# sourceURL=js_0268a8be5b"
            ],
            "text/plain": [
              "<IPython.core.display.Javascript object>"
            ]
          },
          "metadata": {}
        },
        {
          "output_type": "display_data",
          "data": {
            "application/javascript": [
              "window[\"21761cd2-9d8e-11ec-a544-0242ac1c0002\"] = google.colab.output.getActiveOutputArea();\n",
              "//# sourceURL=js_4e3640ad62"
            ],
            "text/plain": [
              "<IPython.core.display.Javascript object>"
            ]
          },
          "metadata": {}
        },
        {
          "output_type": "display_data",
          "data": {
            "application/javascript": [
              "window[\"21767da8-9d8e-11ec-a544-0242ac1c0002\"] = document.querySelector(\"#id36-0-0\");\n",
              "//# sourceURL=js_07b69a35f0"
            ],
            "text/plain": [
              "<IPython.core.display.Javascript object>"
            ]
          },
          "metadata": {}
        },
        {
          "output_type": "display_data",
          "data": {
            "application/javascript": [
              "window[\"2176f3e6-9d8e-11ec-a544-0242ac1c0002\"] = google.colab.output.setActiveOutputArea(window[\"21767da8-9d8e-11ec-a544-0242ac1c0002\"]);\n",
              "//# sourceURL=js_8d0c80853c"
            ],
            "text/plain": [
              "<IPython.core.display.Javascript object>"
            ]
          },
          "metadata": {}
        },
        {
          "output_type": "display_data",
          "data": {
            "application/javascript": [
              "window[\"2196957a-9d8e-11ec-a544-0242ac1c0002\"] = google.colab.output.setActiveOutputArea(window[\"21761cd2-9d8e-11ec-a544-0242ac1c0002\"]);\n",
              "//# sourceURL=js_ae96210b79"
            ],
            "text/plain": [
              "<IPython.core.display.Javascript object>"
            ]
          },
          "metadata": {}
        },
        {
          "output_type": "display_data",
          "data": {
            "application/javascript": [
              "window[\"21b751b6-9d8e-11ec-a544-0242ac1c0002\"] = google.colab.output.getActiveOutputArea();\n",
              "//# sourceURL=js_3de9e7050d"
            ],
            "text/plain": [
              "<IPython.core.display.Javascript object>"
            ]
          },
          "metadata": {}
        },
        {
          "output_type": "display_data",
          "data": {
            "application/javascript": [
              "window[\"21b7c470-9d8e-11ec-a544-0242ac1c0002\"] = document.querySelector(\"#id36-0-0\");\n",
              "//# sourceURL=js_f83691302f"
            ],
            "text/plain": [
              "<IPython.core.display.Javascript object>"
            ]
          },
          "metadata": {}
        },
        {
          "output_type": "display_data",
          "data": {
            "application/javascript": [
              "window[\"21b84404-9d8e-11ec-a544-0242ac1c0002\"] = google.colab.output.setActiveOutputArea(window[\"21b7c470-9d8e-11ec-a544-0242ac1c0002\"]);\n",
              "//# sourceURL=js_5a6b37d8e0"
            ],
            "text/plain": [
              "<IPython.core.display.Javascript object>"
            ]
          },
          "metadata": {}
        },
        {
          "output_type": "display_data",
          "data": {
            "application/javascript": [
              "window[\"21d7a7b8-9d8e-11ec-a544-0242ac1c0002\"] = google.colab.output.setActiveOutputArea(window[\"21b751b6-9d8e-11ec-a544-0242ac1c0002\"]);\n",
              "//# sourceURL=js_3421acec54"
            ],
            "text/plain": [
              "<IPython.core.display.Javascript object>"
            ]
          },
          "metadata": {}
        },
        {
          "output_type": "display_data",
          "data": {
            "application/javascript": [
              "window[\"21f8a6d4-9d8e-11ec-a544-0242ac1c0002\"] = google.colab.output.getActiveOutputArea();\n",
              "//# sourceURL=js_ebcf2c3d56"
            ],
            "text/plain": [
              "<IPython.core.display.Javascript object>"
            ]
          },
          "metadata": {}
        },
        {
          "output_type": "display_data",
          "data": {
            "application/javascript": [
              "window[\"21f90e94-9d8e-11ec-a544-0242ac1c0002\"] = document.querySelector(\"#id36-0-0\");\n",
              "//# sourceURL=js_e1f9fc4c22"
            ],
            "text/plain": [
              "<IPython.core.display.Javascript object>"
            ]
          },
          "metadata": {}
        },
        {
          "output_type": "display_data",
          "data": {
            "application/javascript": [
              "window[\"21f97906-9d8e-11ec-a544-0242ac1c0002\"] = google.colab.output.setActiveOutputArea(window[\"21f90e94-9d8e-11ec-a544-0242ac1c0002\"]);\n",
              "//# sourceURL=js_dc1de360fd"
            ],
            "text/plain": [
              "<IPython.core.display.Javascript object>"
            ]
          },
          "metadata": {}
        },
        {
          "output_type": "display_data",
          "data": {
            "application/javascript": [
              "window[\"222dd41c-9d8e-11ec-a544-0242ac1c0002\"] = google.colab.output.setActiveOutputArea(window[\"21f8a6d4-9d8e-11ec-a544-0242ac1c0002\"]);\n",
              "//# sourceURL=js_2264f008a3"
            ],
            "text/plain": [
              "<IPython.core.display.Javascript object>"
            ]
          },
          "metadata": {}
        },
        {
          "output_type": "display_data",
          "data": {
            "application/javascript": [
              "window[\"224f0312-9d8e-11ec-a544-0242ac1c0002\"] = google.colab.output.getActiveOutputArea();\n",
              "//# sourceURL=js_09d8637157"
            ],
            "text/plain": [
              "<IPython.core.display.Javascript object>"
            ]
          },
          "metadata": {}
        },
        {
          "output_type": "display_data",
          "data": {
            "application/javascript": [
              "window[\"224f9bce-9d8e-11ec-a544-0242ac1c0002\"] = document.querySelector(\"#id36-0-0\");\n",
              "//# sourceURL=js_ff7d4017e4"
            ],
            "text/plain": [
              "<IPython.core.display.Javascript object>"
            ]
          },
          "metadata": {}
        },
        {
          "output_type": "display_data",
          "data": {
            "application/javascript": [
              "window[\"225007c6-9d8e-11ec-a544-0242ac1c0002\"] = google.colab.output.setActiveOutputArea(window[\"224f9bce-9d8e-11ec-a544-0242ac1c0002\"]);\n",
              "//# sourceURL=js_4e39e50665"
            ],
            "text/plain": [
              "<IPython.core.display.Javascript object>"
            ]
          },
          "metadata": {}
        },
        {
          "output_type": "display_data",
          "data": {
            "application/javascript": [
              "window[\"2273eb64-9d8e-11ec-a544-0242ac1c0002\"] = google.colab.output.setActiveOutputArea(window[\"224f0312-9d8e-11ec-a544-0242ac1c0002\"]);\n",
              "//# sourceURL=js_3325717538"
            ],
            "text/plain": [
              "<IPython.core.display.Javascript object>"
            ]
          },
          "metadata": {}
        },
        {
          "output_type": "display_data",
          "data": {
            "application/javascript": [
              "window[\"22995bf6-9d8e-11ec-a544-0242ac1c0002\"] = google.colab.output.getActiveOutputArea();\n",
              "//# sourceURL=js_c43a8aa02e"
            ],
            "text/plain": [
              "<IPython.core.display.Javascript object>"
            ]
          },
          "metadata": {}
        },
        {
          "output_type": "display_data",
          "data": {
            "application/javascript": [
              "window[\"2299fea8-9d8e-11ec-a544-0242ac1c0002\"] = document.querySelector(\"#id36-0-0\");\n",
              "//# sourceURL=js_6e74ea0e2c"
            ],
            "text/plain": [
              "<IPython.core.display.Javascript object>"
            ]
          },
          "metadata": {}
        },
        {
          "output_type": "display_data",
          "data": {
            "application/javascript": [
              "window[\"229b7b8e-9d8e-11ec-a544-0242ac1c0002\"] = google.colab.output.setActiveOutputArea(window[\"2299fea8-9d8e-11ec-a544-0242ac1c0002\"]);\n",
              "//# sourceURL=js_a38d9f7d37"
            ],
            "text/plain": [
              "<IPython.core.display.Javascript object>"
            ]
          },
          "metadata": {}
        },
        {
          "output_type": "display_data",
          "data": {
            "application/javascript": [
              "window[\"22bf08ba-9d8e-11ec-a544-0242ac1c0002\"] = google.colab.output.setActiveOutputArea(window[\"22995bf6-9d8e-11ec-a544-0242ac1c0002\"]);\n",
              "//# sourceURL=js_38f97cf116"
            ],
            "text/plain": [
              "<IPython.core.display.Javascript object>"
            ]
          },
          "metadata": {}
        },
        {
          "output_type": "display_data",
          "data": {
            "application/javascript": [
              "window[\"22e0a42a-9d8e-11ec-a544-0242ac1c0002\"] = google.colab.output.getActiveOutputArea();\n",
              "//# sourceURL=js_4c8f7fcc16"
            ],
            "text/plain": [
              "<IPython.core.display.Javascript object>"
            ]
          },
          "metadata": {}
        },
        {
          "output_type": "display_data",
          "data": {
            "application/javascript": [
              "window[\"22e1558c-9d8e-11ec-a544-0242ac1c0002\"] = document.querySelector(\"#id36-0-0\");\n",
              "//# sourceURL=js_2bf30d19a9"
            ],
            "text/plain": [
              "<IPython.core.display.Javascript object>"
            ]
          },
          "metadata": {}
        },
        {
          "output_type": "display_data",
          "data": {
            "application/javascript": [
              "window[\"22e1c9a4-9d8e-11ec-a544-0242ac1c0002\"] = google.colab.output.setActiveOutputArea(window[\"22e1558c-9d8e-11ec-a544-0242ac1c0002\"]);\n",
              "//# sourceURL=js_5c859d040d"
            ],
            "text/plain": [
              "<IPython.core.display.Javascript object>"
            ]
          },
          "metadata": {}
        },
        {
          "output_type": "display_data",
          "data": {
            "application/javascript": [
              "window[\"2307e51c-9d8e-11ec-a544-0242ac1c0002\"] = google.colab.output.setActiveOutputArea(window[\"22e0a42a-9d8e-11ec-a544-0242ac1c0002\"]);\n",
              "//# sourceURL=js_a49533bfcd"
            ],
            "text/plain": [
              "<IPython.core.display.Javascript object>"
            ]
          },
          "metadata": {}
        },
        {
          "output_type": "display_data",
          "data": {
            "application/javascript": [
              "window[\"232994aa-9d8e-11ec-a544-0242ac1c0002\"] = google.colab.output.getActiveOutputArea();\n",
              "//# sourceURL=js_c8deff6ec0"
            ],
            "text/plain": [
              "<IPython.core.display.Javascript object>"
            ]
          },
          "metadata": {}
        },
        {
          "output_type": "display_data",
          "data": {
            "application/javascript": [
              "window[\"232a0f70-9d8e-11ec-a544-0242ac1c0002\"] = document.querySelector(\"#id36-0-0\");\n",
              "//# sourceURL=js_7b95493d3b"
            ],
            "text/plain": [
              "<IPython.core.display.Javascript object>"
            ]
          },
          "metadata": {}
        },
        {
          "output_type": "display_data",
          "data": {
            "application/javascript": [
              "window[\"232af476-9d8e-11ec-a544-0242ac1c0002\"] = google.colab.output.setActiveOutputArea(window[\"232a0f70-9d8e-11ec-a544-0242ac1c0002\"]);\n",
              "//# sourceURL=js_8f4c03edd6"
            ],
            "text/plain": [
              "<IPython.core.display.Javascript object>"
            ]
          },
          "metadata": {}
        },
        {
          "output_type": "display_data",
          "data": {
            "application/javascript": [
              "window[\"235ac868-9d8e-11ec-a544-0242ac1c0002\"] = google.colab.output.setActiveOutputArea(window[\"232994aa-9d8e-11ec-a544-0242ac1c0002\"]);\n",
              "//# sourceURL=js_f529ba15d6"
            ],
            "text/plain": [
              "<IPython.core.display.Javascript object>"
            ]
          },
          "metadata": {}
        },
        {
          "output_type": "display_data",
          "data": {
            "application/javascript": [
              "window[\"237f7c8a-9d8e-11ec-a544-0242ac1c0002\"] = google.colab.output.getActiveOutputArea();\n",
              "//# sourceURL=js_41b7f461c7"
            ],
            "text/plain": [
              "<IPython.core.display.Javascript object>"
            ]
          },
          "metadata": {}
        },
        {
          "output_type": "display_data",
          "data": {
            "application/javascript": [
              "window[\"237fd126-9d8e-11ec-a544-0242ac1c0002\"] = document.querySelector(\"#id36-0-0\");\n",
              "//# sourceURL=js_136709d840"
            ],
            "text/plain": [
              "<IPython.core.display.Javascript object>"
            ]
          },
          "metadata": {}
        },
        {
          "output_type": "display_data",
          "data": {
            "application/javascript": [
              "window[\"23802a36-9d8e-11ec-a544-0242ac1c0002\"] = google.colab.output.setActiveOutputArea(window[\"237fd126-9d8e-11ec-a544-0242ac1c0002\"]);\n",
              "//# sourceURL=js_b0908fea9f"
            ],
            "text/plain": [
              "<IPython.core.display.Javascript object>"
            ]
          },
          "metadata": {}
        },
        {
          "output_type": "display_data",
          "data": {
            "application/javascript": [
              "window[\"23a7594e-9d8e-11ec-a544-0242ac1c0002\"] = google.colab.output.setActiveOutputArea(window[\"237f7c8a-9d8e-11ec-a544-0242ac1c0002\"]);\n",
              "//# sourceURL=js_5f5b7d3a6f"
            ],
            "text/plain": [
              "<IPython.core.display.Javascript object>"
            ]
          },
          "metadata": {}
        },
        {
          "output_type": "display_data",
          "data": {
            "application/javascript": [
              "window[\"23c927f4-9d8e-11ec-a544-0242ac1c0002\"] = google.colab.output.getActiveOutputArea();\n",
              "//# sourceURL=js_78be8be786"
            ],
            "text/plain": [
              "<IPython.core.display.Javascript object>"
            ]
          },
          "metadata": {}
        },
        {
          "output_type": "display_data",
          "data": {
            "application/javascript": [
              "window[\"23c98974-9d8e-11ec-a544-0242ac1c0002\"] = document.querySelector(\"#id36-0-0\");\n",
              "//# sourceURL=js_d4afe97064"
            ],
            "text/plain": [
              "<IPython.core.display.Javascript object>"
            ]
          },
          "metadata": {}
        },
        {
          "output_type": "display_data",
          "data": {
            "application/javascript": [
              "window[\"23c9eae0-9d8e-11ec-a544-0242ac1c0002\"] = google.colab.output.setActiveOutputArea(window[\"23c98974-9d8e-11ec-a544-0242ac1c0002\"]);\n",
              "//# sourceURL=js_848a33078e"
            ],
            "text/plain": [
              "<IPython.core.display.Javascript object>"
            ]
          },
          "metadata": {}
        },
        {
          "output_type": "display_data",
          "data": {
            "application/javascript": [
              "window[\"23e9aca4-9d8e-11ec-a544-0242ac1c0002\"] = google.colab.output.setActiveOutputArea(window[\"23c927f4-9d8e-11ec-a544-0242ac1c0002\"]);\n",
              "//# sourceURL=js_abfaf6bdfa"
            ],
            "text/plain": [
              "<IPython.core.display.Javascript object>"
            ]
          },
          "metadata": {}
        },
        {
          "output_type": "display_data",
          "data": {
            "application/javascript": [
              "window[\"240aefd6-9d8e-11ec-a544-0242ac1c0002\"] = google.colab.output.getActiveOutputArea();\n",
              "//# sourceURL=js_2f8e4c3228"
            ],
            "text/plain": [
              "<IPython.core.display.Javascript object>"
            ]
          },
          "metadata": {}
        },
        {
          "output_type": "display_data",
          "data": {
            "application/javascript": [
              "window[\"240b6eca-9d8e-11ec-a544-0242ac1c0002\"] = document.querySelector(\"#id36-0-0\");\n",
              "//# sourceURL=js_df578307bf"
            ],
            "text/plain": [
              "<IPython.core.display.Javascript object>"
            ]
          },
          "metadata": {}
        },
        {
          "output_type": "display_data",
          "data": {
            "application/javascript": [
              "window[\"240c3134-9d8e-11ec-a544-0242ac1c0002\"] = google.colab.output.setActiveOutputArea(window[\"240b6eca-9d8e-11ec-a544-0242ac1c0002\"]);\n",
              "//# sourceURL=js_48033ca7f7"
            ],
            "text/plain": [
              "<IPython.core.display.Javascript object>"
            ]
          },
          "metadata": {}
        },
        {
          "output_type": "display_data",
          "data": {
            "application/javascript": [
              "window[\"24299616-9d8e-11ec-a544-0242ac1c0002\"] = google.colab.output.setActiveOutputArea(window[\"240aefd6-9d8e-11ec-a544-0242ac1c0002\"]);\n",
              "//# sourceURL=js_54e0a0ef16"
            ],
            "text/plain": [
              "<IPython.core.display.Javascript object>"
            ]
          },
          "metadata": {}
        },
        {
          "output_type": "display_data",
          "data": {
            "application/javascript": [
              "window[\"244a6ada-9d8e-11ec-a544-0242ac1c0002\"] = google.colab.output.getActiveOutputArea();\n",
              "//# sourceURL=js_5c64d84a4a"
            ],
            "text/plain": [
              "<IPython.core.display.Javascript object>"
            ]
          },
          "metadata": {}
        },
        {
          "output_type": "display_data",
          "data": {
            "application/javascript": [
              "window[\"244af5a4-9d8e-11ec-a544-0242ac1c0002\"] = document.querySelector(\"#id36-0-0\");\n",
              "//# sourceURL=js_80337f48d6"
            ],
            "text/plain": [
              "<IPython.core.display.Javascript object>"
            ]
          },
          "metadata": {}
        },
        {
          "output_type": "display_data",
          "data": {
            "application/javascript": [
              "window[\"244b772c-9d8e-11ec-a544-0242ac1c0002\"] = google.colab.output.setActiveOutputArea(window[\"244af5a4-9d8e-11ec-a544-0242ac1c0002\"]);\n",
              "//# sourceURL=js_8c959409c6"
            ],
            "text/plain": [
              "<IPython.core.display.Javascript object>"
            ]
          },
          "metadata": {}
        },
        {
          "output_type": "display_data",
          "data": {
            "application/javascript": [
              "window[\"246f66fa-9d8e-11ec-a544-0242ac1c0002\"] = google.colab.output.setActiveOutputArea(window[\"244a6ada-9d8e-11ec-a544-0242ac1c0002\"]);\n",
              "//# sourceURL=js_ade8172638"
            ],
            "text/plain": [
              "<IPython.core.display.Javascript object>"
            ]
          },
          "metadata": {}
        },
        {
          "output_type": "display_data",
          "data": {
            "application/javascript": [
              "window[\"249144d2-9d8e-11ec-a544-0242ac1c0002\"] = google.colab.output.getActiveOutputArea();\n",
              "//# sourceURL=js_c126e4206a"
            ],
            "text/plain": [
              "<IPython.core.display.Javascript object>"
            ]
          },
          "metadata": {}
        },
        {
          "output_type": "display_data",
          "data": {
            "application/javascript": [
              "window[\"2491b23c-9d8e-11ec-a544-0242ac1c0002\"] = document.querySelector(\"#id36-0-0\");\n",
              "//# sourceURL=js_0148c96da4"
            ],
            "text/plain": [
              "<IPython.core.display.Javascript object>"
            ]
          },
          "metadata": {}
        },
        {
          "output_type": "display_data",
          "data": {
            "application/javascript": [
              "window[\"24920d72-9d8e-11ec-a544-0242ac1c0002\"] = google.colab.output.setActiveOutputArea(window[\"2491b23c-9d8e-11ec-a544-0242ac1c0002\"]);\n",
              "//# sourceURL=js_24792cf0b4"
            ],
            "text/plain": [
              "<IPython.core.display.Javascript object>"
            ]
          },
          "metadata": {}
        },
        {
          "output_type": "display_data",
          "data": {
            "application/javascript": [
              "window[\"24b03cb6-9d8e-11ec-a544-0242ac1c0002\"] = google.colab.output.setActiveOutputArea(window[\"249144d2-9d8e-11ec-a544-0242ac1c0002\"]);\n",
              "//# sourceURL=js_1b5fc46079"
            ],
            "text/plain": [
              "<IPython.core.display.Javascript object>"
            ]
          },
          "metadata": {}
        },
        {
          "output_type": "display_data",
          "data": {
            "application/javascript": [
              "window[\"24d0ea7e-9d8e-11ec-a544-0242ac1c0002\"] = google.colab.output.getActiveOutputArea();\n",
              "//# sourceURL=js_87f630010f"
            ],
            "text/plain": [
              "<IPython.core.display.Javascript object>"
            ]
          },
          "metadata": {}
        },
        {
          "output_type": "display_data",
          "data": {
            "application/javascript": [
              "window[\"24d16f4e-9d8e-11ec-a544-0242ac1c0002\"] = document.querySelector(\"#id36-0-0\");\n",
              "//# sourceURL=js_6a90ae2dc6"
            ],
            "text/plain": [
              "<IPython.core.display.Javascript object>"
            ]
          },
          "metadata": {}
        },
        {
          "output_type": "display_data",
          "data": {
            "application/javascript": [
              "window[\"24d20058-9d8e-11ec-a544-0242ac1c0002\"] = google.colab.output.setActiveOutputArea(window[\"24d16f4e-9d8e-11ec-a544-0242ac1c0002\"]);\n",
              "//# sourceURL=js_d9f0545774"
            ],
            "text/plain": [
              "<IPython.core.display.Javascript object>"
            ]
          },
          "metadata": {}
        },
        {
          "output_type": "display_data",
          "data": {
            "application/javascript": [
              "window[\"24ef48b6-9d8e-11ec-a544-0242ac1c0002\"] = google.colab.output.setActiveOutputArea(window[\"24d0ea7e-9d8e-11ec-a544-0242ac1c0002\"]);\n",
              "//# sourceURL=js_31769fbe29"
            ],
            "text/plain": [
              "<IPython.core.display.Javascript object>"
            ]
          },
          "metadata": {}
        },
        {
          "output_type": "display_data",
          "data": {
            "application/javascript": [
              "window[\"250fd964-9d8e-11ec-a544-0242ac1c0002\"] = google.colab.output.getActiveOutputArea();\n",
              "//# sourceURL=js_e5937c570f"
            ],
            "text/plain": [
              "<IPython.core.display.Javascript object>"
            ]
          },
          "metadata": {}
        },
        {
          "output_type": "display_data",
          "data": {
            "application/javascript": [
              "window[\"25103ff8-9d8e-11ec-a544-0242ac1c0002\"] = document.querySelector(\"#id36-0-0\");\n",
              "//# sourceURL=js_27b8ebe8b1"
            ],
            "text/plain": [
              "<IPython.core.display.Javascript object>"
            ]
          },
          "metadata": {}
        },
        {
          "output_type": "display_data",
          "data": {
            "application/javascript": [
              "window[\"25109d40-9d8e-11ec-a544-0242ac1c0002\"] = google.colab.output.setActiveOutputArea(window[\"25103ff8-9d8e-11ec-a544-0242ac1c0002\"]);\n",
              "//# sourceURL=js_e314c64eaa"
            ],
            "text/plain": [
              "<IPython.core.display.Javascript object>"
            ]
          },
          "metadata": {}
        },
        {
          "output_type": "display_data",
          "data": {
            "application/javascript": [
              "window[\"252c913a-9d8e-11ec-a544-0242ac1c0002\"] = google.colab.output.setActiveOutputArea(window[\"250fd964-9d8e-11ec-a544-0242ac1c0002\"]);\n",
              "//# sourceURL=js_a3adb153f9"
            ],
            "text/plain": [
              "<IPython.core.display.Javascript object>"
            ]
          },
          "metadata": {}
        },
        {
          "output_type": "display_data",
          "data": {
            "application/javascript": [
              "window[\"254d267a-9d8e-11ec-a544-0242ac1c0002\"] = google.colab.output.getActiveOutputArea();\n",
              "//# sourceURL=js_ec4f7a3a37"
            ],
            "text/plain": [
              "<IPython.core.display.Javascript object>"
            ]
          },
          "metadata": {}
        },
        {
          "output_type": "display_data",
          "data": {
            "application/javascript": [
              "window[\"254d7fe4-9d8e-11ec-a544-0242ac1c0002\"] = document.querySelector(\"#id36-0-0\");\n",
              "//# sourceURL=js_123277f010"
            ],
            "text/plain": [
              "<IPython.core.display.Javascript object>"
            ]
          },
          "metadata": {}
        },
        {
          "output_type": "display_data",
          "data": {
            "application/javascript": [
              "window[\"254dd1e2-9d8e-11ec-a544-0242ac1c0002\"] = google.colab.output.setActiveOutputArea(window[\"254d7fe4-9d8e-11ec-a544-0242ac1c0002\"]);\n",
              "//# sourceURL=js_71ac26ab57"
            ],
            "text/plain": [
              "<IPython.core.display.Javascript object>"
            ]
          },
          "metadata": {}
        },
        {
          "output_type": "display_data",
          "data": {
            "application/javascript": [
              "window[\"256b3142-9d8e-11ec-a544-0242ac1c0002\"] = google.colab.output.setActiveOutputArea(window[\"254d267a-9d8e-11ec-a544-0242ac1c0002\"]);\n",
              "//# sourceURL=js_29b63ecd59"
            ],
            "text/plain": [
              "<IPython.core.display.Javascript object>"
            ]
          },
          "metadata": {}
        },
        {
          "output_type": "display_data",
          "data": {
            "application/javascript": [
              "window[\"258bf1a2-9d8e-11ec-a544-0242ac1c0002\"] = google.colab.output.getActiveOutputArea();\n",
              "//# sourceURL=js_7dea8d186c"
            ],
            "text/plain": [
              "<IPython.core.display.Javascript object>"
            ]
          },
          "metadata": {}
        },
        {
          "output_type": "display_data",
          "data": {
            "application/javascript": [
              "window[\"258c52f0-9d8e-11ec-a544-0242ac1c0002\"] = document.querySelector(\"#id36-0-0\");\n",
              "//# sourceURL=js_e8f4bec200"
            ],
            "text/plain": [
              "<IPython.core.display.Javascript object>"
            ]
          },
          "metadata": {}
        },
        {
          "output_type": "display_data",
          "data": {
            "application/javascript": [
              "window[\"258d547a-9d8e-11ec-a544-0242ac1c0002\"] = google.colab.output.setActiveOutputArea(window[\"258c52f0-9d8e-11ec-a544-0242ac1c0002\"]);\n",
              "//# sourceURL=js_e55dce1e6f"
            ],
            "text/plain": [
              "<IPython.core.display.Javascript object>"
            ]
          },
          "metadata": {}
        },
        {
          "output_type": "display_data",
          "data": {
            "application/javascript": [
              "window[\"25a9e090-9d8e-11ec-a544-0242ac1c0002\"] = google.colab.output.setActiveOutputArea(window[\"258bf1a2-9d8e-11ec-a544-0242ac1c0002\"]);\n",
              "//# sourceURL=js_87b1e18e34"
            ],
            "text/plain": [
              "<IPython.core.display.Javascript object>"
            ]
          },
          "metadata": {}
        },
        {
          "output_type": "display_data",
          "data": {
            "application/javascript": [
              "window[\"25ca8ce6-9d8e-11ec-a544-0242ac1c0002\"] = google.colab.output.getActiveOutputArea();\n",
              "//# sourceURL=js_5f2cfe04c8"
            ],
            "text/plain": [
              "<IPython.core.display.Javascript object>"
            ]
          },
          "metadata": {}
        },
        {
          "output_type": "display_data",
          "data": {
            "application/javascript": [
              "window[\"25cb091e-9d8e-11ec-a544-0242ac1c0002\"] = document.querySelector(\"#id36-0-0\");\n",
              "//# sourceURL=js_333c40ce9c"
            ],
            "text/plain": [
              "<IPython.core.display.Javascript object>"
            ]
          },
          "metadata": {}
        },
        {
          "output_type": "display_data",
          "data": {
            "application/javascript": [
              "window[\"25cb9d48-9d8e-11ec-a544-0242ac1c0002\"] = google.colab.output.setActiveOutputArea(window[\"25cb091e-9d8e-11ec-a544-0242ac1c0002\"]);\n",
              "//# sourceURL=js_17d3b70375"
            ],
            "text/plain": [
              "<IPython.core.display.Javascript object>"
            ]
          },
          "metadata": {}
        },
        {
          "output_type": "display_data",
          "data": {
            "application/javascript": [
              "window[\"25e909b4-9d8e-11ec-a544-0242ac1c0002\"] = google.colab.output.setActiveOutputArea(window[\"25ca8ce6-9d8e-11ec-a544-0242ac1c0002\"]);\n",
              "//# sourceURL=js_cb2a55c7ea"
            ],
            "text/plain": [
              "<IPython.core.display.Javascript object>"
            ]
          },
          "metadata": {}
        },
        {
          "output_type": "display_data",
          "data": {
            "application/javascript": [
              "window[\"2609ce6a-9d8e-11ec-a544-0242ac1c0002\"] = google.colab.output.getActiveOutputArea();\n",
              "//# sourceURL=js_d540e0585a"
            ],
            "text/plain": [
              "<IPython.core.display.Javascript object>"
            ]
          },
          "metadata": {}
        },
        {
          "output_type": "display_data",
          "data": {
            "application/javascript": [
              "window[\"260a26c6-9d8e-11ec-a544-0242ac1c0002\"] = document.querySelector(\"#id36-0-0\");\n",
              "//# sourceURL=js_413df02d91"
            ],
            "text/plain": [
              "<IPython.core.display.Javascript object>"
            ]
          },
          "metadata": {}
        },
        {
          "output_type": "display_data",
          "data": {
            "application/javascript": [
              "window[\"260a8580-9d8e-11ec-a544-0242ac1c0002\"] = google.colab.output.setActiveOutputArea(window[\"260a26c6-9d8e-11ec-a544-0242ac1c0002\"]);\n",
              "//# sourceURL=js_946998d3fe"
            ],
            "text/plain": [
              "<IPython.core.display.Javascript object>"
            ]
          },
          "metadata": {}
        },
        {
          "output_type": "display_data",
          "data": {
            "application/javascript": [
              "window[\"263a7236-9d8e-11ec-a544-0242ac1c0002\"] = google.colab.output.setActiveOutputArea(window[\"2609ce6a-9d8e-11ec-a544-0242ac1c0002\"]);\n",
              "//# sourceURL=js_b678217bcf"
            ],
            "text/plain": [
              "<IPython.core.display.Javascript object>"
            ]
          },
          "metadata": {}
        },
        {
          "output_type": "display_data",
          "data": {
            "application/javascript": [
              "window[\"265b159a-9d8e-11ec-a544-0242ac1c0002\"] = google.colab.output.getActiveOutputArea();\n",
              "//# sourceURL=js_52126541d6"
            ],
            "text/plain": [
              "<IPython.core.display.Javascript object>"
            ]
          },
          "metadata": {}
        },
        {
          "output_type": "display_data",
          "data": {
            "application/javascript": [
              "window[\"265b78dc-9d8e-11ec-a544-0242ac1c0002\"] = document.querySelector(\"#id36-0-0\");\n",
              "//# sourceURL=js_b8478df7a0"
            ],
            "text/plain": [
              "<IPython.core.display.Javascript object>"
            ]
          },
          "metadata": {}
        },
        {
          "output_type": "display_data",
          "data": {
            "application/javascript": [
              "window[\"265bc710-9d8e-11ec-a544-0242ac1c0002\"] = google.colab.output.setActiveOutputArea(window[\"265b78dc-9d8e-11ec-a544-0242ac1c0002\"]);\n",
              "//# sourceURL=js_165b3cc9a8"
            ],
            "text/plain": [
              "<IPython.core.display.Javascript object>"
            ]
          },
          "metadata": {}
        },
        {
          "output_type": "display_data",
          "data": {
            "application/javascript": [
              "window[\"267b0ae4-9d8e-11ec-a544-0242ac1c0002\"] = google.colab.output.setActiveOutputArea(window[\"265b159a-9d8e-11ec-a544-0242ac1c0002\"]);\n",
              "//# sourceURL=js_4768e36e89"
            ],
            "text/plain": [
              "<IPython.core.display.Javascript object>"
            ]
          },
          "metadata": {}
        },
        {
          "output_type": "display_data",
          "data": {
            "application/javascript": [
              "window[\"269dda38-9d8e-11ec-a544-0242ac1c0002\"] = google.colab.output.getActiveOutputArea();\n",
              "//# sourceURL=js_cdb7da3df1"
            ],
            "text/plain": [
              "<IPython.core.display.Javascript object>"
            ]
          },
          "metadata": {}
        },
        {
          "output_type": "display_data",
          "data": {
            "application/javascript": [
              "window[\"269e3c94-9d8e-11ec-a544-0242ac1c0002\"] = document.querySelector(\"#id36-0-0\");\n",
              "//# sourceURL=js_5fe1c0e291"
            ],
            "text/plain": [
              "<IPython.core.display.Javascript object>"
            ]
          },
          "metadata": {}
        },
        {
          "output_type": "display_data",
          "data": {
            "application/javascript": [
              "window[\"269e88c0-9d8e-11ec-a544-0242ac1c0002\"] = google.colab.output.setActiveOutputArea(window[\"269e3c94-9d8e-11ec-a544-0242ac1c0002\"]);\n",
              "//# sourceURL=js_0b30e22f3a"
            ],
            "text/plain": [
              "<IPython.core.display.Javascript object>"
            ]
          },
          "metadata": {}
        },
        {
          "output_type": "display_data",
          "data": {
            "application/javascript": [
              "window[\"26bd3662-9d8e-11ec-a544-0242ac1c0002\"] = google.colab.output.setActiveOutputArea(window[\"269dda38-9d8e-11ec-a544-0242ac1c0002\"]);\n",
              "//# sourceURL=js_276914214f"
            ],
            "text/plain": [
              "<IPython.core.display.Javascript object>"
            ]
          },
          "metadata": {}
        },
        {
          "output_type": "display_data",
          "data": {
            "application/javascript": [
              "window[\"26deb440-9d8e-11ec-a544-0242ac1c0002\"] = google.colab.output.getActiveOutputArea();\n",
              "//# sourceURL=js_d0e9c13f78"
            ],
            "text/plain": [
              "<IPython.core.display.Javascript object>"
            ]
          },
          "metadata": {}
        },
        {
          "output_type": "display_data",
          "data": {
            "application/javascript": [
              "window[\"26df1f7a-9d8e-11ec-a544-0242ac1c0002\"] = document.querySelector(\"#id36-0-0\");\n",
              "//# sourceURL=js_cfedce7ac5"
            ],
            "text/plain": [
              "<IPython.core.display.Javascript object>"
            ]
          },
          "metadata": {}
        },
        {
          "output_type": "display_data",
          "data": {
            "application/javascript": [
              "window[\"26df7a1a-9d8e-11ec-a544-0242ac1c0002\"] = google.colab.output.setActiveOutputArea(window[\"26df1f7a-9d8e-11ec-a544-0242ac1c0002\"]);\n",
              "//# sourceURL=js_64d740223c"
            ],
            "text/plain": [
              "<IPython.core.display.Javascript object>"
            ]
          },
          "metadata": {}
        },
        {
          "output_type": "display_data",
          "data": {
            "application/javascript": [
              "window[\"26fc5e82-9d8e-11ec-a544-0242ac1c0002\"] = google.colab.output.setActiveOutputArea(window[\"26deb440-9d8e-11ec-a544-0242ac1c0002\"]);\n",
              "//# sourceURL=js_a6f06ffcaf"
            ],
            "text/plain": [
              "<IPython.core.display.Javascript object>"
            ]
          },
          "metadata": {}
        },
        {
          "output_type": "display_data",
          "data": {
            "application/javascript": [
              "window[\"271d43ae-9d8e-11ec-a544-0242ac1c0002\"] = google.colab.output.getActiveOutputArea();\n",
              "//# sourceURL=js_e5d615b559"
            ],
            "text/plain": [
              "<IPython.core.display.Javascript object>"
            ]
          },
          "metadata": {}
        },
        {
          "output_type": "display_data",
          "data": {
            "application/javascript": [
              "window[\"271da600-9d8e-11ec-a544-0242ac1c0002\"] = document.querySelector(\"#id36-0-0\");\n",
              "//# sourceURL=js_ff1562e128"
            ],
            "text/plain": [
              "<IPython.core.display.Javascript object>"
            ]
          },
          "metadata": {}
        },
        {
          "output_type": "display_data",
          "data": {
            "application/javascript": [
              "window[\"271e154a-9d8e-11ec-a544-0242ac1c0002\"] = google.colab.output.setActiveOutputArea(window[\"271da600-9d8e-11ec-a544-0242ac1c0002\"]);\n",
              "//# sourceURL=js_9a1dfad609"
            ],
            "text/plain": [
              "<IPython.core.display.Javascript object>"
            ]
          },
          "metadata": {}
        },
        {
          "output_type": "display_data",
          "data": {
            "application/javascript": [
              "window[\"273c4cf4-9d8e-11ec-a544-0242ac1c0002\"] = google.colab.output.setActiveOutputArea(window[\"271d43ae-9d8e-11ec-a544-0242ac1c0002\"]);\n",
              "//# sourceURL=js_b4974c3ab5"
            ],
            "text/plain": [
              "<IPython.core.display.Javascript object>"
            ]
          },
          "metadata": {}
        },
        {
          "output_type": "display_data",
          "data": {
            "application/javascript": [
              "window[\"275fa19a-9d8e-11ec-a544-0242ac1c0002\"] = google.colab.output.getActiveOutputArea();\n",
              "//# sourceURL=js_b780c7c9a4"
            ],
            "text/plain": [
              "<IPython.core.display.Javascript object>"
            ]
          },
          "metadata": {}
        },
        {
          "output_type": "display_data",
          "data": {
            "application/javascript": [
              "window[\"27600b12-9d8e-11ec-a544-0242ac1c0002\"] = document.querySelector(\"#id36-0-0\");\n",
              "//# sourceURL=js_04908be62a"
            ],
            "text/plain": [
              "<IPython.core.display.Javascript object>"
            ]
          },
          "metadata": {}
        },
        {
          "output_type": "display_data",
          "data": {
            "application/javascript": [
              "window[\"27609abe-9d8e-11ec-a544-0242ac1c0002\"] = google.colab.output.setActiveOutputArea(window[\"27600b12-9d8e-11ec-a544-0242ac1c0002\"]);\n",
              "//# sourceURL=js_e1c805eae6"
            ],
            "text/plain": [
              "<IPython.core.display.Javascript object>"
            ]
          },
          "metadata": {}
        },
        {
          "output_type": "display_data",
          "data": {
            "application/javascript": [
              "window[\"277f238a-9d8e-11ec-a544-0242ac1c0002\"] = google.colab.output.setActiveOutputArea(window[\"275fa19a-9d8e-11ec-a544-0242ac1c0002\"]);\n",
              "//# sourceURL=js_7e495ba654"
            ],
            "text/plain": [
              "<IPython.core.display.Javascript object>"
            ]
          },
          "metadata": {}
        },
        {
          "output_type": "display_data",
          "data": {
            "application/javascript": [
              "window[\"279ff6c8-9d8e-11ec-a544-0242ac1c0002\"] = google.colab.output.getActiveOutputArea();\n",
              "//# sourceURL=js_98c4baaab5"
            ],
            "text/plain": [
              "<IPython.core.display.Javascript object>"
            ]
          },
          "metadata": {}
        },
        {
          "output_type": "display_data",
          "data": {
            "application/javascript": [
              "window[\"27a07346-9d8e-11ec-a544-0242ac1c0002\"] = document.querySelector(\"#id36-0-0\");\n",
              "//# sourceURL=js_31ccf6705b"
            ],
            "text/plain": [
              "<IPython.core.display.Javascript object>"
            ]
          },
          "metadata": {}
        },
        {
          "output_type": "display_data",
          "data": {
            "application/javascript": [
              "window[\"27a0f78a-9d8e-11ec-a544-0242ac1c0002\"] = google.colab.output.setActiveOutputArea(window[\"27a07346-9d8e-11ec-a544-0242ac1c0002\"]);\n",
              "//# sourceURL=js_b8e6562845"
            ],
            "text/plain": [
              "<IPython.core.display.Javascript object>"
            ]
          },
          "metadata": {}
        },
        {
          "output_type": "display_data",
          "data": {
            "application/javascript": [
              "window[\"27be1b9e-9d8e-11ec-a544-0242ac1c0002\"] = google.colab.output.setActiveOutputArea(window[\"279ff6c8-9d8e-11ec-a544-0242ac1c0002\"]);\n",
              "//# sourceURL=js_84240426dc"
            ],
            "text/plain": [
              "<IPython.core.display.Javascript object>"
            ]
          },
          "metadata": {}
        },
        {
          "output_type": "display_data",
          "data": {
            "application/javascript": [
              "window[\"27dea026-9d8e-11ec-a544-0242ac1c0002\"] = google.colab.output.getActiveOutputArea();\n",
              "//# sourceURL=js_47374034de"
            ],
            "text/plain": [
              "<IPython.core.display.Javascript object>"
            ]
          },
          "metadata": {}
        },
        {
          "output_type": "display_data",
          "data": {
            "application/javascript": [
              "window[\"27defa44-9d8e-11ec-a544-0242ac1c0002\"] = document.querySelector(\"#id36-0-0\");\n",
              "//# sourceURL=js_b7a58f1a69"
            ],
            "text/plain": [
              "<IPython.core.display.Javascript object>"
            ]
          },
          "metadata": {}
        },
        {
          "output_type": "display_data",
          "data": {
            "application/javascript": [
              "window[\"27df4e72-9d8e-11ec-a544-0242ac1c0002\"] = google.colab.output.setActiveOutputArea(window[\"27defa44-9d8e-11ec-a544-0242ac1c0002\"]);\n",
              "//# sourceURL=js_bd97e664b8"
            ],
            "text/plain": [
              "<IPython.core.display.Javascript object>"
            ]
          },
          "metadata": {}
        },
        {
          "output_type": "display_data",
          "data": {
            "application/javascript": [
              "window[\"27fefc40-9d8e-11ec-a544-0242ac1c0002\"] = google.colab.output.setActiveOutputArea(window[\"27dea026-9d8e-11ec-a544-0242ac1c0002\"]);\n",
              "//# sourceURL=js_f368cf42c2"
            ],
            "text/plain": [
              "<IPython.core.display.Javascript object>"
            ]
          },
          "metadata": {}
        },
        {
          "output_type": "display_data",
          "data": {
            "application/javascript": [
              "window[\"281fdeb0-9d8e-11ec-a544-0242ac1c0002\"] = google.colab.output.getActiveOutputArea();\n",
              "//# sourceURL=js_e11edc216b"
            ],
            "text/plain": [
              "<IPython.core.display.Javascript object>"
            ]
          },
          "metadata": {}
        },
        {
          "output_type": "display_data",
          "data": {
            "application/javascript": [
              "window[\"28204d32-9d8e-11ec-a544-0242ac1c0002\"] = document.querySelector(\"#id36-0-0\");\n",
              "//# sourceURL=js_4e7f967f88"
            ],
            "text/plain": [
              "<IPython.core.display.Javascript object>"
            ]
          },
          "metadata": {}
        },
        {
          "output_type": "display_data",
          "data": {
            "application/javascript": [
              "window[\"2820f066-9d8e-11ec-a544-0242ac1c0002\"] = google.colab.output.setActiveOutputArea(window[\"28204d32-9d8e-11ec-a544-0242ac1c0002\"]);\n",
              "//# sourceURL=js_392c85698b"
            ],
            "text/plain": [
              "<IPython.core.display.Javascript object>"
            ]
          },
          "metadata": {}
        },
        {
          "output_type": "display_data",
          "data": {
            "application/javascript": [
              "window[\"283e4670-9d8e-11ec-a544-0242ac1c0002\"] = google.colab.output.setActiveOutputArea(window[\"281fdeb0-9d8e-11ec-a544-0242ac1c0002\"]);\n",
              "//# sourceURL=js_888e5e38e0"
            ],
            "text/plain": [
              "<IPython.core.display.Javascript object>"
            ]
          },
          "metadata": {}
        },
        {
          "output_type": "display_data",
          "data": {
            "application/javascript": [
              "window[\"285f923a-9d8e-11ec-a544-0242ac1c0002\"] = google.colab.output.getActiveOutputArea();\n",
              "//# sourceURL=js_dc920c71d1"
            ],
            "text/plain": [
              "<IPython.core.display.Javascript object>"
            ]
          },
          "metadata": {}
        },
        {
          "output_type": "display_data",
          "data": {
            "application/javascript": [
              "window[\"285ff040-9d8e-11ec-a544-0242ac1c0002\"] = document.querySelector(\"#id36-0-0\");\n",
              "//# sourceURL=js_8bd5fcb8b0"
            ],
            "text/plain": [
              "<IPython.core.display.Javascript object>"
            ]
          },
          "metadata": {}
        },
        {
          "output_type": "display_data",
          "data": {
            "application/javascript": [
              "window[\"28607042-9d8e-11ec-a544-0242ac1c0002\"] = google.colab.output.setActiveOutputArea(window[\"285ff040-9d8e-11ec-a544-0242ac1c0002\"]);\n",
              "//# sourceURL=js_c5a8a209f2"
            ],
            "text/plain": [
              "<IPython.core.display.Javascript object>"
            ]
          },
          "metadata": {}
        },
        {
          "output_type": "display_data",
          "data": {
            "application/javascript": [
              "window[\"287ea634-9d8e-11ec-a544-0242ac1c0002\"] = google.colab.output.setActiveOutputArea(window[\"285f923a-9d8e-11ec-a544-0242ac1c0002\"]);\n",
              "//# sourceURL=js_844aea749e"
            ],
            "text/plain": [
              "<IPython.core.display.Javascript object>"
            ]
          },
          "metadata": {}
        },
        {
          "output_type": "display_data",
          "data": {
            "application/javascript": [
              "window[\"289fb086-9d8e-11ec-a544-0242ac1c0002\"] = google.colab.output.getActiveOutputArea();\n",
              "//# sourceURL=js_2ed5a37dbc"
            ],
            "text/plain": [
              "<IPython.core.display.Javascript object>"
            ]
          },
          "metadata": {}
        },
        {
          "output_type": "display_data",
          "data": {
            "application/javascript": [
              "window[\"28a016b6-9d8e-11ec-a544-0242ac1c0002\"] = document.querySelector(\"#id36-0-0\");\n",
              "//# sourceURL=js_9482cc6140"
            ],
            "text/plain": [
              "<IPython.core.display.Javascript object>"
            ]
          },
          "metadata": {}
        },
        {
          "output_type": "display_data",
          "data": {
            "application/javascript": [
              "window[\"28a09fdc-9d8e-11ec-a544-0242ac1c0002\"] = google.colab.output.setActiveOutputArea(window[\"28a016b6-9d8e-11ec-a544-0242ac1c0002\"]);\n",
              "//# sourceURL=js_0c9e797048"
            ],
            "text/plain": [
              "<IPython.core.display.Javascript object>"
            ]
          },
          "metadata": {}
        },
        {
          "output_type": "display_data",
          "data": {
            "application/javascript": [
              "window[\"28c11884-9d8e-11ec-a544-0242ac1c0002\"] = google.colab.output.setActiveOutputArea(window[\"289fb086-9d8e-11ec-a544-0242ac1c0002\"]);\n",
              "//# sourceURL=js_18f8fad481"
            ],
            "text/plain": [
              "<IPython.core.display.Javascript object>"
            ]
          },
          "metadata": {}
        },
        {
          "output_type": "display_data",
          "data": {
            "application/javascript": [
              "window[\"28e2297a-9d8e-11ec-a544-0242ac1c0002\"] = google.colab.output.getActiveOutputArea();\n",
              "//# sourceURL=js_1f72e24053"
            ],
            "text/plain": [
              "<IPython.core.display.Javascript object>"
            ]
          },
          "metadata": {}
        },
        {
          "output_type": "display_data",
          "data": {
            "application/javascript": [
              "window[\"28e2ae18-9d8e-11ec-a544-0242ac1c0002\"] = document.querySelector(\"#id36-0-0\");\n",
              "//# sourceURL=js_a36b17f9f1"
            ],
            "text/plain": [
              "<IPython.core.display.Javascript object>"
            ]
          },
          "metadata": {}
        },
        {
          "output_type": "display_data",
          "data": {
            "application/javascript": [
              "window[\"28e34cb0-9d8e-11ec-a544-0242ac1c0002\"] = google.colab.output.setActiveOutputArea(window[\"28e2ae18-9d8e-11ec-a544-0242ac1c0002\"]);\n",
              "//# sourceURL=js_7f365ed0cb"
            ],
            "text/plain": [
              "<IPython.core.display.Javascript object>"
            ]
          },
          "metadata": {}
        },
        {
          "output_type": "display_data",
          "data": {
            "application/javascript": [
              "window[\"290224c8-9d8e-11ec-a544-0242ac1c0002\"] = google.colab.output.setActiveOutputArea(window[\"28e2297a-9d8e-11ec-a544-0242ac1c0002\"]);\n",
              "//# sourceURL=js_3721365aae"
            ],
            "text/plain": [
              "<IPython.core.display.Javascript object>"
            ]
          },
          "metadata": {}
        },
        {
          "output_type": "display_data",
          "data": {
            "application/javascript": [
              "window[\"29239176-9d8e-11ec-a544-0242ac1c0002\"] = google.colab.output.getActiveOutputArea();\n",
              "//# sourceURL=js_f8b7a40806"
            ],
            "text/plain": [
              "<IPython.core.display.Javascript object>"
            ]
          },
          "metadata": {}
        },
        {
          "output_type": "display_data",
          "data": {
            "application/javascript": [
              "window[\"2923e3f6-9d8e-11ec-a544-0242ac1c0002\"] = document.querySelector(\"#id36-0-0\");\n",
              "//# sourceURL=js_7a73dea510"
            ],
            "text/plain": [
              "<IPython.core.display.Javascript object>"
            ]
          },
          "metadata": {}
        },
        {
          "output_type": "display_data",
          "data": {
            "application/javascript": [
              "window[\"29243180-9d8e-11ec-a544-0242ac1c0002\"] = google.colab.output.setActiveOutputArea(window[\"2923e3f6-9d8e-11ec-a544-0242ac1c0002\"]);\n",
              "//# sourceURL=js_d4b636cd01"
            ],
            "text/plain": [
              "<IPython.core.display.Javascript object>"
            ]
          },
          "metadata": {}
        },
        {
          "output_type": "display_data",
          "data": {
            "application/javascript": [
              "window[\"29436c08-9d8e-11ec-a544-0242ac1c0002\"] = google.colab.output.setActiveOutputArea(window[\"29239176-9d8e-11ec-a544-0242ac1c0002\"]);\n",
              "//# sourceURL=js_51ef00a8db"
            ],
            "text/plain": [
              "<IPython.core.display.Javascript object>"
            ]
          },
          "metadata": {}
        },
        {
          "output_type": "display_data",
          "data": {
            "application/javascript": [
              "window[\"29644cac-9d8e-11ec-a544-0242ac1c0002\"] = google.colab.output.getActiveOutputArea();\n",
              "//# sourceURL=js_8cff9f4ff7"
            ],
            "text/plain": [
              "<IPython.core.display.Javascript object>"
            ]
          },
          "metadata": {}
        },
        {
          "output_type": "display_data",
          "data": {
            "application/javascript": [
              "window[\"2964cf4c-9d8e-11ec-a544-0242ac1c0002\"] = document.querySelector(\"#id36-0-0\");\n",
              "//# sourceURL=js_cbd3ab620e"
            ],
            "text/plain": [
              "<IPython.core.display.Javascript object>"
            ]
          },
          "metadata": {}
        },
        {
          "output_type": "display_data",
          "data": {
            "application/javascript": [
              "window[\"29655af2-9d8e-11ec-a544-0242ac1c0002\"] = google.colab.output.setActiveOutputArea(window[\"2964cf4c-9d8e-11ec-a544-0242ac1c0002\"]);\n",
              "//# sourceURL=js_def74bee3c"
            ],
            "text/plain": [
              "<IPython.core.display.Javascript object>"
            ]
          },
          "metadata": {}
        },
        {
          "output_type": "display_data",
          "data": {
            "application/javascript": [
              "window[\"29846c30-9d8e-11ec-a544-0242ac1c0002\"] = google.colab.output.setActiveOutputArea(window[\"29644cac-9d8e-11ec-a544-0242ac1c0002\"]);\n",
              "//# sourceURL=js_1ee6b5d16a"
            ],
            "text/plain": [
              "<IPython.core.display.Javascript object>"
            ]
          },
          "metadata": {}
        },
        {
          "output_type": "display_data",
          "data": {
            "application/javascript": [
              "window[\"29a56386-9d8e-11ec-a544-0242ac1c0002\"] = google.colab.output.getActiveOutputArea();\n",
              "//# sourceURL=js_80cf56d75b"
            ],
            "text/plain": [
              "<IPython.core.display.Javascript object>"
            ]
          },
          "metadata": {}
        },
        {
          "output_type": "display_data",
          "data": {
            "application/javascript": [
              "window[\"29a5cc36-9d8e-11ec-a544-0242ac1c0002\"] = document.querySelector(\"#id36-0-0\");\n",
              "//# sourceURL=js_15a4b9e2d4"
            ],
            "text/plain": [
              "<IPython.core.display.Javascript object>"
            ]
          },
          "metadata": {}
        },
        {
          "output_type": "display_data",
          "data": {
            "application/javascript": [
              "window[\"29a65cd2-9d8e-11ec-a544-0242ac1c0002\"] = google.colab.output.setActiveOutputArea(window[\"29a5cc36-9d8e-11ec-a544-0242ac1c0002\"]);\n",
              "//# sourceURL=js_5c93a19d67"
            ],
            "text/plain": [
              "<IPython.core.display.Javascript object>"
            ]
          },
          "metadata": {}
        },
        {
          "output_type": "display_data",
          "data": {
            "application/javascript": [
              "window[\"29c2ea5a-9d8e-11ec-a544-0242ac1c0002\"] = google.colab.output.setActiveOutputArea(window[\"29a56386-9d8e-11ec-a544-0242ac1c0002\"]);\n",
              "//# sourceURL=js_e3ea0bfe5c"
            ],
            "text/plain": [
              "<IPython.core.display.Javascript object>"
            ]
          },
          "metadata": {}
        },
        {
          "output_type": "display_data",
          "data": {
            "application/javascript": [
              "window[\"29e3a75e-9d8e-11ec-a544-0242ac1c0002\"] = google.colab.output.getActiveOutputArea();\n",
              "//# sourceURL=js_fa04946892"
            ],
            "text/plain": [
              "<IPython.core.display.Javascript object>"
            ]
          },
          "metadata": {}
        },
        {
          "output_type": "display_data",
          "data": {
            "application/javascript": [
              "window[\"29e41572-9d8e-11ec-a544-0242ac1c0002\"] = document.querySelector(\"#id36-0-0\");\n",
              "//# sourceURL=js_5fd037f56d"
            ],
            "text/plain": [
              "<IPython.core.display.Javascript object>"
            ]
          },
          "metadata": {}
        },
        {
          "output_type": "display_data",
          "data": {
            "application/javascript": [
              "window[\"29e484d0-9d8e-11ec-a544-0242ac1c0002\"] = google.colab.output.setActiveOutputArea(window[\"29e41572-9d8e-11ec-a544-0242ac1c0002\"]);\n",
              "//# sourceURL=js_eea1c39514"
            ],
            "text/plain": [
              "<IPython.core.display.Javascript object>"
            ]
          },
          "metadata": {}
        },
        {
          "output_type": "display_data",
          "data": {
            "application/javascript": [
              "window[\"2a0fadb8-9d8e-11ec-a544-0242ac1c0002\"] = google.colab.output.setActiveOutputArea(window[\"29e3a75e-9d8e-11ec-a544-0242ac1c0002\"]);\n",
              "//# sourceURL=js_7ba6f769a1"
            ],
            "text/plain": [
              "<IPython.core.display.Javascript object>"
            ]
          },
          "metadata": {}
        },
        {
          "output_type": "display_data",
          "data": {
            "application/javascript": [
              "window[\"2a305fa4-9d8e-11ec-a544-0242ac1c0002\"] = google.colab.output.getActiveOutputArea();\n",
              "//# sourceURL=js_e8300443d1"
            ],
            "text/plain": [
              "<IPython.core.display.Javascript object>"
            ]
          },
          "metadata": {}
        },
        {
          "output_type": "display_data",
          "data": {
            "application/javascript": [
              "window[\"2a30d3b2-9d8e-11ec-a544-0242ac1c0002\"] = document.querySelector(\"#id36-0-0\");\n",
              "//# sourceURL=js_4baf211ebf"
            ],
            "text/plain": [
              "<IPython.core.display.Javascript object>"
            ]
          },
          "metadata": {}
        },
        {
          "output_type": "display_data",
          "data": {
            "application/javascript": [
              "window[\"2a31a2c4-9d8e-11ec-a544-0242ac1c0002\"] = google.colab.output.setActiveOutputArea(window[\"2a30d3b2-9d8e-11ec-a544-0242ac1c0002\"]);\n",
              "//# sourceURL=js_31b4e26140"
            ],
            "text/plain": [
              "<IPython.core.display.Javascript object>"
            ]
          },
          "metadata": {}
        },
        {
          "output_type": "display_data",
          "data": {
            "application/javascript": [
              "window[\"2a4f3514-9d8e-11ec-a544-0242ac1c0002\"] = google.colab.output.setActiveOutputArea(window[\"2a305fa4-9d8e-11ec-a544-0242ac1c0002\"]);\n",
              "//# sourceURL=js_c08ba2769d"
            ],
            "text/plain": [
              "<IPython.core.display.Javascript object>"
            ]
          },
          "metadata": {}
        },
        {
          "output_type": "display_data",
          "data": {
            "application/javascript": [
              "window[\"2a708a84-9d8e-11ec-a544-0242ac1c0002\"] = google.colab.output.getActiveOutputArea();\n",
              "//# sourceURL=js_7fe10138f6"
            ],
            "text/plain": [
              "<IPython.core.display.Javascript object>"
            ]
          },
          "metadata": {}
        },
        {
          "output_type": "display_data",
          "data": {
            "application/javascript": [
              "window[\"2a712214-9d8e-11ec-a544-0242ac1c0002\"] = document.querySelector(\"#id36-0-0\");\n",
              "//# sourceURL=js_60de8470af"
            ],
            "text/plain": [
              "<IPython.core.display.Javascript object>"
            ]
          },
          "metadata": {}
        },
        {
          "output_type": "display_data",
          "data": {
            "application/javascript": [
              "window[\"2a719b90-9d8e-11ec-a544-0242ac1c0002\"] = google.colab.output.setActiveOutputArea(window[\"2a712214-9d8e-11ec-a544-0242ac1c0002\"]);\n",
              "//# sourceURL=js_37edd230c9"
            ],
            "text/plain": [
              "<IPython.core.display.Javascript object>"
            ]
          },
          "metadata": {}
        },
        {
          "output_type": "display_data",
          "data": {
            "application/javascript": [
              "window[\"2a93687e-9d8e-11ec-a544-0242ac1c0002\"] = google.colab.output.setActiveOutputArea(window[\"2a708a84-9d8e-11ec-a544-0242ac1c0002\"]);\n",
              "//# sourceURL=js_a344d71b91"
            ],
            "text/plain": [
              "<IPython.core.display.Javascript object>"
            ]
          },
          "metadata": {}
        },
        {
          "output_type": "display_data",
          "data": {
            "application/javascript": [
              "window[\"2ab6a762-9d8e-11ec-a544-0242ac1c0002\"] = google.colab.output.getActiveOutputArea();\n",
              "//# sourceURL=js_d6b2ab54d7"
            ],
            "text/plain": [
              "<IPython.core.display.Javascript object>"
            ]
          },
          "metadata": {}
        },
        {
          "output_type": "display_data",
          "data": {
            "application/javascript": [
              "window[\"2ab753ec-9d8e-11ec-a544-0242ac1c0002\"] = document.querySelector(\"#id36-0-0\");\n",
              "//# sourceURL=js_f26b2f9936"
            ],
            "text/plain": [
              "<IPython.core.display.Javascript object>"
            ]
          },
          "metadata": {}
        },
        {
          "output_type": "display_data",
          "data": {
            "application/javascript": [
              "window[\"2ab7f7b6-9d8e-11ec-a544-0242ac1c0002\"] = google.colab.output.setActiveOutputArea(window[\"2ab753ec-9d8e-11ec-a544-0242ac1c0002\"]);\n",
              "//# sourceURL=js_13725c9fd0"
            ],
            "text/plain": [
              "<IPython.core.display.Javascript object>"
            ]
          },
          "metadata": {}
        },
        {
          "output_type": "display_data",
          "data": {
            "application/javascript": [
              "window[\"2ad86df2-9d8e-11ec-a544-0242ac1c0002\"] = google.colab.output.setActiveOutputArea(window[\"2ab6a762-9d8e-11ec-a544-0242ac1c0002\"]);\n",
              "//# sourceURL=js_e28e04db2a"
            ],
            "text/plain": [
              "<IPython.core.display.Javascript object>"
            ]
          },
          "metadata": {}
        },
        {
          "output_type": "display_data",
          "data": {
            "application/javascript": [
              "window[\"2afb0420-9d8e-11ec-a544-0242ac1c0002\"] = google.colab.output.getActiveOutputArea();\n",
              "//# sourceURL=js_15032ca343"
            ],
            "text/plain": [
              "<IPython.core.display.Javascript object>"
            ]
          },
          "metadata": {}
        },
        {
          "output_type": "display_data",
          "data": {
            "application/javascript": [
              "window[\"2afb586c-9d8e-11ec-a544-0242ac1c0002\"] = document.querySelector(\"#id36-0-0\");\n",
              "//# sourceURL=js_823fb3a51f"
            ],
            "text/plain": [
              "<IPython.core.display.Javascript object>"
            ]
          },
          "metadata": {}
        },
        {
          "output_type": "display_data",
          "data": {
            "application/javascript": [
              "window[\"2afbbf32-9d8e-11ec-a544-0242ac1c0002\"] = google.colab.output.setActiveOutputArea(window[\"2afb586c-9d8e-11ec-a544-0242ac1c0002\"]);\n",
              "//# sourceURL=js_7bebe935e0"
            ],
            "text/plain": [
              "<IPython.core.display.Javascript object>"
            ]
          },
          "metadata": {}
        },
        {
          "output_type": "display_data",
          "data": {
            "application/javascript": [
              "window[\"2b1bbc4c-9d8e-11ec-a544-0242ac1c0002\"] = google.colab.output.setActiveOutputArea(window[\"2afb0420-9d8e-11ec-a544-0242ac1c0002\"]);\n",
              "//# sourceURL=js_c1243670bb"
            ],
            "text/plain": [
              "<IPython.core.display.Javascript object>"
            ]
          },
          "metadata": {}
        },
        {
          "output_type": "display_data",
          "data": {
            "application/javascript": [
              "window[\"2b3d2ada-9d8e-11ec-a544-0242ac1c0002\"] = google.colab.output.getActiveOutputArea();\n",
              "//# sourceURL=js_4aaff5c2d2"
            ],
            "text/plain": [
              "<IPython.core.display.Javascript object>"
            ]
          },
          "metadata": {}
        },
        {
          "output_type": "display_data",
          "data": {
            "application/javascript": [
              "window[\"2b3d7f1c-9d8e-11ec-a544-0242ac1c0002\"] = document.querySelector(\"#id36-0-0\");\n",
              "//# sourceURL=js_902ad43647"
            ],
            "text/plain": [
              "<IPython.core.display.Javascript object>"
            ]
          },
          "metadata": {}
        },
        {
          "output_type": "display_data",
          "data": {
            "application/javascript": [
              "window[\"2b3e1e86-9d8e-11ec-a544-0242ac1c0002\"] = google.colab.output.setActiveOutputArea(window[\"2b3d7f1c-9d8e-11ec-a544-0242ac1c0002\"]);\n",
              "//# sourceURL=js_e50f3eb412"
            ],
            "text/plain": [
              "<IPython.core.display.Javascript object>"
            ]
          },
          "metadata": {}
        },
        {
          "output_type": "display_data",
          "data": {
            "application/javascript": [
              "window[\"2b5fba14-9d8e-11ec-a544-0242ac1c0002\"] = google.colab.output.setActiveOutputArea(window[\"2b3d2ada-9d8e-11ec-a544-0242ac1c0002\"]);\n",
              "//# sourceURL=js_7b8d9d7c9d"
            ],
            "text/plain": [
              "<IPython.core.display.Javascript object>"
            ]
          },
          "metadata": {}
        },
        {
          "output_type": "display_data",
          "data": {
            "application/javascript": [
              "window[\"2b80e978-9d8e-11ec-a544-0242ac1c0002\"] = google.colab.output.getActiveOutputArea();\n",
              "//# sourceURL=js_5090c2aa3d"
            ],
            "text/plain": [
              "<IPython.core.display.Javascript object>"
            ]
          },
          "metadata": {}
        },
        {
          "output_type": "display_data",
          "data": {
            "application/javascript": [
              "window[\"2b8176ea-9d8e-11ec-a544-0242ac1c0002\"] = document.querySelector(\"#id36-0-0\");\n",
              "//# sourceURL=js_47a0c99ae5"
            ],
            "text/plain": [
              "<IPython.core.display.Javascript object>"
            ]
          },
          "metadata": {}
        },
        {
          "output_type": "display_data",
          "data": {
            "application/javascript": [
              "window[\"2b81f02a-9d8e-11ec-a544-0242ac1c0002\"] = google.colab.output.setActiveOutputArea(window[\"2b8176ea-9d8e-11ec-a544-0242ac1c0002\"]);\n",
              "//# sourceURL=js_c22bc9cad6"
            ],
            "text/plain": [
              "<IPython.core.display.Javascript object>"
            ]
          },
          "metadata": {}
        },
        {
          "output_type": "display_data",
          "data": {
            "application/javascript": [
              "window[\"2ba032b0-9d8e-11ec-a544-0242ac1c0002\"] = google.colab.output.setActiveOutputArea(window[\"2b80e978-9d8e-11ec-a544-0242ac1c0002\"]);\n",
              "//# sourceURL=js_116cfec3e8"
            ],
            "text/plain": [
              "<IPython.core.display.Javascript object>"
            ]
          },
          "metadata": {}
        },
        {
          "output_type": "display_data",
          "data": {
            "application/javascript": [
              "window[\"2bc0fd1a-9d8e-11ec-a544-0242ac1c0002\"] = google.colab.output.getActiveOutputArea();\n",
              "//# sourceURL=js_7963f961db"
            ],
            "text/plain": [
              "<IPython.core.display.Javascript object>"
            ]
          },
          "metadata": {}
        },
        {
          "output_type": "display_data",
          "data": {
            "application/javascript": [
              "window[\"2bc16610-9d8e-11ec-a544-0242ac1c0002\"] = document.querySelector(\"#id36-0-0\");\n",
              "//# sourceURL=js_51a181a335"
            ],
            "text/plain": [
              "<IPython.core.display.Javascript object>"
            ]
          },
          "metadata": {}
        },
        {
          "output_type": "display_data",
          "data": {
            "application/javascript": [
              "window[\"2bc1c1be-9d8e-11ec-a544-0242ac1c0002\"] = google.colab.output.setActiveOutputArea(window[\"2bc16610-9d8e-11ec-a544-0242ac1c0002\"]);\n",
              "//# sourceURL=js_59e4905270"
            ],
            "text/plain": [
              "<IPython.core.display.Javascript object>"
            ]
          },
          "metadata": {}
        },
        {
          "output_type": "display_data",
          "data": {
            "application/javascript": [
              "window[\"2be0bd44-9d8e-11ec-a544-0242ac1c0002\"] = google.colab.output.setActiveOutputArea(window[\"2bc0fd1a-9d8e-11ec-a544-0242ac1c0002\"]);\n",
              "//# sourceURL=js_3293123884"
            ],
            "text/plain": [
              "<IPython.core.display.Javascript object>"
            ]
          },
          "metadata": {}
        },
        {
          "output_type": "display_data",
          "data": {
            "application/javascript": [
              "window[\"2c0186d2-9d8e-11ec-a544-0242ac1c0002\"] = google.colab.output.getActiveOutputArea();\n",
              "//# sourceURL=js_38c158d5b4"
            ],
            "text/plain": [
              "<IPython.core.display.Javascript object>"
            ]
          },
          "metadata": {}
        },
        {
          "output_type": "display_data",
          "data": {
            "application/javascript": [
              "window[\"2c01de20-9d8e-11ec-a544-0242ac1c0002\"] = document.querySelector(\"#id36-0-0\");\n",
              "//# sourceURL=js_7c3208646f"
            ],
            "text/plain": [
              "<IPython.core.display.Javascript object>"
            ]
          },
          "metadata": {}
        },
        {
          "output_type": "display_data",
          "data": {
            "application/javascript": [
              "window[\"2c024dce-9d8e-11ec-a544-0242ac1c0002\"] = google.colab.output.setActiveOutputArea(window[\"2c01de20-9d8e-11ec-a544-0242ac1c0002\"]);\n",
              "//# sourceURL=js_c81848d5fd"
            ],
            "text/plain": [
              "<IPython.core.display.Javascript object>"
            ]
          },
          "metadata": {}
        },
        {
          "output_type": "display_data",
          "data": {
            "application/javascript": [
              "window[\"2c206fca-9d8e-11ec-a544-0242ac1c0002\"] = google.colab.output.setActiveOutputArea(window[\"2c0186d2-9d8e-11ec-a544-0242ac1c0002\"]);\n",
              "//# sourceURL=js_ed4effc2bf"
            ],
            "text/plain": [
              "<IPython.core.display.Javascript object>"
            ]
          },
          "metadata": {}
        },
        {
          "output_type": "display_data",
          "data": {
            "application/javascript": [
              "window[\"2c4240b4-9d8e-11ec-a544-0242ac1c0002\"] = google.colab.output.getActiveOutputArea();\n",
              "//# sourceURL=js_0906fea88f"
            ],
            "text/plain": [
              "<IPython.core.display.Javascript object>"
            ]
          },
          "metadata": {}
        },
        {
          "output_type": "display_data",
          "data": {
            "application/javascript": [
              "window[\"2c42ed7a-9d8e-11ec-a544-0242ac1c0002\"] = document.querySelector(\"#id36-0-0\");\n",
              "//# sourceURL=js_4a4de5b562"
            ],
            "text/plain": [
              "<IPython.core.display.Javascript object>"
            ]
          },
          "metadata": {}
        },
        {
          "output_type": "display_data",
          "data": {
            "application/javascript": [
              "window[\"2c43ac06-9d8e-11ec-a544-0242ac1c0002\"] = google.colab.output.setActiveOutputArea(window[\"2c42ed7a-9d8e-11ec-a544-0242ac1c0002\"]);\n",
              "//# sourceURL=js_d6be4f9e5f"
            ],
            "text/plain": [
              "<IPython.core.display.Javascript object>"
            ]
          },
          "metadata": {}
        },
        {
          "output_type": "display_data",
          "data": {
            "application/javascript": [
              "window[\"2c633a76-9d8e-11ec-a544-0242ac1c0002\"] = google.colab.output.setActiveOutputArea(window[\"2c4240b4-9d8e-11ec-a544-0242ac1c0002\"]);\n",
              "//# sourceURL=js_ea87043acf"
            ],
            "text/plain": [
              "<IPython.core.display.Javascript object>"
            ]
          },
          "metadata": {}
        },
        {
          "output_type": "display_data",
          "data": {
            "application/javascript": [
              "window[\"2c8442a2-9d8e-11ec-a544-0242ac1c0002\"] = google.colab.output.getActiveOutputArea();\n",
              "//# sourceURL=js_258d955037"
            ],
            "text/plain": [
              "<IPython.core.display.Javascript object>"
            ]
          },
          "metadata": {}
        },
        {
          "output_type": "display_data",
          "data": {
            "application/javascript": [
              "window[\"2c84a242-9d8e-11ec-a544-0242ac1c0002\"] = document.querySelector(\"#id36-0-0\");\n",
              "//# sourceURL=js_13a1b91ed6"
            ],
            "text/plain": [
              "<IPython.core.display.Javascript object>"
            ]
          },
          "metadata": {}
        },
        {
          "output_type": "display_data",
          "data": {
            "application/javascript": [
              "window[\"2c850cbe-9d8e-11ec-a544-0242ac1c0002\"] = google.colab.output.setActiveOutputArea(window[\"2c84a242-9d8e-11ec-a544-0242ac1c0002\"]);\n",
              "//# sourceURL=js_0aa0d8c0e5"
            ],
            "text/plain": [
              "<IPython.core.display.Javascript object>"
            ]
          },
          "metadata": {}
        },
        {
          "output_type": "display_data",
          "data": {
            "application/javascript": [
              "window[\"2ca525ee-9d8e-11ec-a544-0242ac1c0002\"] = google.colab.output.setActiveOutputArea(window[\"2c8442a2-9d8e-11ec-a544-0242ac1c0002\"]);\n",
              "//# sourceURL=js_2ac12dff31"
            ],
            "text/plain": [
              "<IPython.core.display.Javascript object>"
            ]
          },
          "metadata": {}
        },
        {
          "output_type": "display_data",
          "data": {
            "application/javascript": [
              "window[\"2cc62fbe-9d8e-11ec-a544-0242ac1c0002\"] = google.colab.output.getActiveOutputArea();\n",
              "//# sourceURL=js_95d6488c20"
            ],
            "text/plain": [
              "<IPython.core.display.Javascript object>"
            ]
          },
          "metadata": {}
        },
        {
          "output_type": "display_data",
          "data": {
            "application/javascript": [
              "window[\"2cc69f80-9d8e-11ec-a544-0242ac1c0002\"] = document.querySelector(\"#id36-0-0\");\n",
              "//# sourceURL=js_24dbdb7880"
            ],
            "text/plain": [
              "<IPython.core.display.Javascript object>"
            ]
          },
          "metadata": {}
        },
        {
          "output_type": "display_data",
          "data": {
            "application/javascript": [
              "window[\"2cc770d6-9d8e-11ec-a544-0242ac1c0002\"] = google.colab.output.setActiveOutputArea(window[\"2cc69f80-9d8e-11ec-a544-0242ac1c0002\"]);\n",
              "//# sourceURL=js_664a6e251d"
            ],
            "text/plain": [
              "<IPython.core.display.Javascript object>"
            ]
          },
          "metadata": {}
        },
        {
          "output_type": "display_data",
          "data": {
            "application/javascript": [
              "window[\"2ce82c36-9d8e-11ec-a544-0242ac1c0002\"] = google.colab.output.setActiveOutputArea(window[\"2cc62fbe-9d8e-11ec-a544-0242ac1c0002\"]);\n",
              "//# sourceURL=js_c391c5f106"
            ],
            "text/plain": [
              "<IPython.core.display.Javascript object>"
            ]
          },
          "metadata": {}
        },
        {
          "output_type": "display_data",
          "data": {
            "application/javascript": [
              "window[\"2d08ffc4-9d8e-11ec-a544-0242ac1c0002\"] = google.colab.output.getActiveOutputArea();\n",
              "//# sourceURL=js_a39a826751"
            ],
            "text/plain": [
              "<IPython.core.display.Javascript object>"
            ]
          },
          "metadata": {}
        },
        {
          "output_type": "display_data",
          "data": {
            "application/javascript": [
              "window[\"2d0980f2-9d8e-11ec-a544-0242ac1c0002\"] = document.querySelector(\"#id36-0-0\");\n",
              "//# sourceURL=js_812fb827c2"
            ],
            "text/plain": [
              "<IPython.core.display.Javascript object>"
            ]
          },
          "metadata": {}
        },
        {
          "output_type": "display_data",
          "data": {
            "application/javascript": [
              "window[\"2d0a462c-9d8e-11ec-a544-0242ac1c0002\"] = google.colab.output.setActiveOutputArea(window[\"2d0980f2-9d8e-11ec-a544-0242ac1c0002\"]);\n",
              "//# sourceURL=js_c3f52f0c9b"
            ],
            "text/plain": [
              "<IPython.core.display.Javascript object>"
            ]
          },
          "metadata": {}
        },
        {
          "output_type": "display_data",
          "data": {
            "application/javascript": [
              "window[\"2d2982b2-9d8e-11ec-a544-0242ac1c0002\"] = google.colab.output.setActiveOutputArea(window[\"2d08ffc4-9d8e-11ec-a544-0242ac1c0002\"]);\n",
              "//# sourceURL=js_785c8595da"
            ],
            "text/plain": [
              "<IPython.core.display.Javascript object>"
            ]
          },
          "metadata": {}
        },
        {
          "output_type": "display_data",
          "data": {
            "application/javascript": [
              "window[\"2d4a7bac-9d8e-11ec-a544-0242ac1c0002\"] = google.colab.output.getActiveOutputArea();\n",
              "//# sourceURL=js_c4da9621ad"
            ],
            "text/plain": [
              "<IPython.core.display.Javascript object>"
            ]
          },
          "metadata": {}
        },
        {
          "output_type": "display_data",
          "data": {
            "application/javascript": [
              "window[\"2d4ae470-9d8e-11ec-a544-0242ac1c0002\"] = document.querySelector(\"#id36-0-0\");\n",
              "//# sourceURL=js_28b1679b0f"
            ],
            "text/plain": [
              "<IPython.core.display.Javascript object>"
            ]
          },
          "metadata": {}
        },
        {
          "output_type": "display_data",
          "data": {
            "application/javascript": [
              "window[\"2d4b4d0c-9d8e-11ec-a544-0242ac1c0002\"] = google.colab.output.setActiveOutputArea(window[\"2d4ae470-9d8e-11ec-a544-0242ac1c0002\"]);\n",
              "//# sourceURL=js_afc2f67537"
            ],
            "text/plain": [
              "<IPython.core.display.Javascript object>"
            ]
          },
          "metadata": {}
        },
        {
          "output_type": "display_data",
          "data": {
            "application/javascript": [
              "window[\"2d6b0a16-9d8e-11ec-a544-0242ac1c0002\"] = google.colab.output.setActiveOutputArea(window[\"2d4a7bac-9d8e-11ec-a544-0242ac1c0002\"]);\n",
              "//# sourceURL=js_75677d7aa0"
            ],
            "text/plain": [
              "<IPython.core.display.Javascript object>"
            ]
          },
          "metadata": {}
        },
        {
          "output_type": "display_data",
          "data": {
            "application/javascript": [
              "window[\"2d8be6d2-9d8e-11ec-a544-0242ac1c0002\"] = google.colab.output.getActiveOutputArea();\n",
              "//# sourceURL=js_c390d94a27"
            ],
            "text/plain": [
              "<IPython.core.display.Javascript object>"
            ]
          },
          "metadata": {}
        },
        {
          "output_type": "display_data",
          "data": {
            "application/javascript": [
              "window[\"2d8c4cee-9d8e-11ec-a544-0242ac1c0002\"] = document.querySelector(\"#id36-0-0\");\n",
              "//# sourceURL=js_146f08edbc"
            ],
            "text/plain": [
              "<IPython.core.display.Javascript object>"
            ]
          },
          "metadata": {}
        },
        {
          "output_type": "display_data",
          "data": {
            "application/javascript": [
              "window[\"2d8cbb52-9d8e-11ec-a544-0242ac1c0002\"] = google.colab.output.setActiveOutputArea(window[\"2d8c4cee-9d8e-11ec-a544-0242ac1c0002\"]);\n",
              "//# sourceURL=js_30b00d68d2"
            ],
            "text/plain": [
              "<IPython.core.display.Javascript object>"
            ]
          },
          "metadata": {}
        },
        {
          "output_type": "display_data",
          "data": {
            "application/javascript": [
              "window[\"2daa6a80-9d8e-11ec-a544-0242ac1c0002\"] = google.colab.output.setActiveOutputArea(window[\"2d8be6d2-9d8e-11ec-a544-0242ac1c0002\"]);\n",
              "//# sourceURL=js_7dd4c45486"
            ],
            "text/plain": [
              "<IPython.core.display.Javascript object>"
            ]
          },
          "metadata": {}
        },
        {
          "output_type": "display_data",
          "data": {
            "application/javascript": [
              "window[\"2dcb05a6-9d8e-11ec-a544-0242ac1c0002\"] = google.colab.output.getActiveOutputArea();\n",
              "//# sourceURL=js_0291fdc822"
            ],
            "text/plain": [
              "<IPython.core.display.Javascript object>"
            ]
          },
          "metadata": {}
        },
        {
          "output_type": "display_data",
          "data": {
            "application/javascript": [
              "window[\"2dcb6f3c-9d8e-11ec-a544-0242ac1c0002\"] = document.querySelector(\"#id36-0-0\");\n",
              "//# sourceURL=js_1f75ad1491"
            ],
            "text/plain": [
              "<IPython.core.display.Javascript object>"
            ]
          },
          "metadata": {}
        },
        {
          "output_type": "display_data",
          "data": {
            "application/javascript": [
              "window[\"2dcbe106-9d8e-11ec-a544-0242ac1c0002\"] = google.colab.output.setActiveOutputArea(window[\"2dcb6f3c-9d8e-11ec-a544-0242ac1c0002\"]);\n",
              "//# sourceURL=js_0115c19152"
            ],
            "text/plain": [
              "<IPython.core.display.Javascript object>"
            ]
          },
          "metadata": {}
        },
        {
          "output_type": "display_data",
          "data": {
            "application/javascript": [
              "window[\"2df7fce6-9d8e-11ec-a544-0242ac1c0002\"] = google.colab.output.setActiveOutputArea(window[\"2dcb05a6-9d8e-11ec-a544-0242ac1c0002\"]);\n",
              "//# sourceURL=js_a03ef651c1"
            ],
            "text/plain": [
              "<IPython.core.display.Javascript object>"
            ]
          },
          "metadata": {}
        },
        {
          "output_type": "display_data",
          "data": {
            "application/javascript": [
              "window[\"2e18fa5e-9d8e-11ec-a544-0242ac1c0002\"] = google.colab.output.getActiveOutputArea();\n",
              "//# sourceURL=js_ec144aa793"
            ],
            "text/plain": [
              "<IPython.core.display.Javascript object>"
            ]
          },
          "metadata": {}
        },
        {
          "output_type": "display_data",
          "data": {
            "application/javascript": [
              "window[\"2e1975ba-9d8e-11ec-a544-0242ac1c0002\"] = document.querySelector(\"#id36-0-0\");\n",
              "//# sourceURL=js_bf5b4beb91"
            ],
            "text/plain": [
              "<IPython.core.display.Javascript object>"
            ]
          },
          "metadata": {}
        },
        {
          "output_type": "display_data",
          "data": {
            "application/javascript": [
              "window[\"2e19f120-9d8e-11ec-a544-0242ac1c0002\"] = google.colab.output.setActiveOutputArea(window[\"2e1975ba-9d8e-11ec-a544-0242ac1c0002\"]);\n",
              "//# sourceURL=js_e1dc183acf"
            ],
            "text/plain": [
              "<IPython.core.display.Javascript object>"
            ]
          },
          "metadata": {}
        },
        {
          "output_type": "display_data",
          "data": {
            "application/javascript": [
              "window[\"2e3989d6-9d8e-11ec-a544-0242ac1c0002\"] = google.colab.output.setActiveOutputArea(window[\"2e18fa5e-9d8e-11ec-a544-0242ac1c0002\"]);\n",
              "//# sourceURL=js_c8f344e30c"
            ],
            "text/plain": [
              "<IPython.core.display.Javascript object>"
            ]
          },
          "metadata": {}
        },
        {
          "output_type": "display_data",
          "data": {
            "application/javascript": [
              "window[\"2e5a6aac-9d8e-11ec-a544-0242ac1c0002\"] = google.colab.output.getActiveOutputArea();\n",
              "//# sourceURL=js_7a7d4406e9"
            ],
            "text/plain": [
              "<IPython.core.display.Javascript object>"
            ]
          },
          "metadata": {}
        },
        {
          "output_type": "display_data",
          "data": {
            "application/javascript": [
              "window[\"2e5ac768-9d8e-11ec-a544-0242ac1c0002\"] = document.querySelector(\"#id36-0-0\");\n",
              "//# sourceURL=js_1da34a8579"
            ],
            "text/plain": [
              "<IPython.core.display.Javascript object>"
            ]
          },
          "metadata": {}
        },
        {
          "output_type": "display_data",
          "data": {
            "application/javascript": [
              "window[\"2e5b251e-9d8e-11ec-a544-0242ac1c0002\"] = google.colab.output.setActiveOutputArea(window[\"2e5ac768-9d8e-11ec-a544-0242ac1c0002\"]);\n",
              "//# sourceURL=js_2c4da23706"
            ],
            "text/plain": [
              "<IPython.core.display.Javascript object>"
            ]
          },
          "metadata": {}
        },
        {
          "output_type": "display_data",
          "data": {
            "application/javascript": [
              "window[\"2e7b2666-9d8e-11ec-a544-0242ac1c0002\"] = google.colab.output.setActiveOutputArea(window[\"2e5a6aac-9d8e-11ec-a544-0242ac1c0002\"]);\n",
              "//# sourceURL=js_4e822b8a28"
            ],
            "text/plain": [
              "<IPython.core.display.Javascript object>"
            ]
          },
          "metadata": {}
        },
        {
          "output_type": "display_data",
          "data": {
            "application/javascript": [
              "window[\"2e9ce742-9d8e-11ec-a544-0242ac1c0002\"] = google.colab.output.getActiveOutputArea();\n",
              "//# sourceURL=js_26ce67d01d"
            ],
            "text/plain": [
              "<IPython.core.display.Javascript object>"
            ]
          },
          "metadata": {}
        },
        {
          "output_type": "display_data",
          "data": {
            "application/javascript": [
              "window[\"2e9d6a64-9d8e-11ec-a544-0242ac1c0002\"] = document.querySelector(\"#id36-0-0\");\n",
              "//# sourceURL=js_ab48153669"
            ],
            "text/plain": [
              "<IPython.core.display.Javascript object>"
            ]
          },
          "metadata": {}
        },
        {
          "output_type": "display_data",
          "data": {
            "application/javascript": [
              "window[\"2e9e20d0-9d8e-11ec-a544-0242ac1c0002\"] = google.colab.output.setActiveOutputArea(window[\"2e9d6a64-9d8e-11ec-a544-0242ac1c0002\"]);\n",
              "//# sourceURL=js_9fcae5c07d"
            ],
            "text/plain": [
              "<IPython.core.display.Javascript object>"
            ]
          },
          "metadata": {}
        },
        {
          "output_type": "display_data",
          "data": {
            "application/javascript": [
              "window[\"2ebe1160-9d8e-11ec-a544-0242ac1c0002\"] = google.colab.output.setActiveOutputArea(window[\"2e9ce742-9d8e-11ec-a544-0242ac1c0002\"]);\n",
              "//# sourceURL=js_94d47757c6"
            ],
            "text/plain": [
              "<IPython.core.display.Javascript object>"
            ]
          },
          "metadata": {}
        },
        {
          "output_type": "display_data",
          "data": {
            "application/javascript": [
              "window[\"2edefe16-9d8e-11ec-a544-0242ac1c0002\"] = google.colab.output.getActiveOutputArea();\n",
              "//# sourceURL=js_ba5981eddd"
            ],
            "text/plain": [
              "<IPython.core.display.Javascript object>"
            ]
          },
          "metadata": {}
        },
        {
          "output_type": "display_data",
          "data": {
            "application/javascript": [
              "window[\"2edf54b0-9d8e-11ec-a544-0242ac1c0002\"] = document.querySelector(\"#id36-0-0\");\n",
              "//# sourceURL=js_033efd00c2"
            ],
            "text/plain": [
              "<IPython.core.display.Javascript object>"
            ]
          },
          "metadata": {}
        },
        {
          "output_type": "display_data",
          "data": {
            "application/javascript": [
              "window[\"2ee035d8-9d8e-11ec-a544-0242ac1c0002\"] = google.colab.output.setActiveOutputArea(window[\"2edf54b0-9d8e-11ec-a544-0242ac1c0002\"]);\n",
              "//# sourceURL=js_175f08cba8"
            ],
            "text/plain": [
              "<IPython.core.display.Javascript object>"
            ]
          },
          "metadata": {}
        },
        {
          "output_type": "display_data",
          "data": {
            "application/javascript": [
              "window[\"2eff27b8-9d8e-11ec-a544-0242ac1c0002\"] = google.colab.output.setActiveOutputArea(window[\"2edefe16-9d8e-11ec-a544-0242ac1c0002\"]);\n",
              "//# sourceURL=js_2f1c8830b2"
            ],
            "text/plain": [
              "<IPython.core.display.Javascript object>"
            ]
          },
          "metadata": {}
        },
        {
          "output_type": "display_data",
          "data": {
            "application/javascript": [
              "window[\"2f202c42-9d8e-11ec-a544-0242ac1c0002\"] = google.colab.output.getActiveOutputArea();\n",
              "//# sourceURL=js_bfd18be9d2"
            ],
            "text/plain": [
              "<IPython.core.display.Javascript object>"
            ]
          },
          "metadata": {}
        },
        {
          "output_type": "display_data",
          "data": {
            "application/javascript": [
              "window[\"2f20a08c-9d8e-11ec-a544-0242ac1c0002\"] = document.querySelector(\"#id36-0-0\");\n",
              "//# sourceURL=js_605b0e29c3"
            ],
            "text/plain": [
              "<IPython.core.display.Javascript object>"
            ]
          },
          "metadata": {}
        },
        {
          "output_type": "display_data",
          "data": {
            "application/javascript": [
              "window[\"2f210edc-9d8e-11ec-a544-0242ac1c0002\"] = google.colab.output.setActiveOutputArea(window[\"2f20a08c-9d8e-11ec-a544-0242ac1c0002\"]);\n",
              "//# sourceURL=js_6eac53b5a2"
            ],
            "text/plain": [
              "<IPython.core.display.Javascript object>"
            ]
          },
          "metadata": {}
        },
        {
          "output_type": "display_data",
          "data": {
            "application/javascript": [
              "window[\"2f405f94-9d8e-11ec-a544-0242ac1c0002\"] = google.colab.output.setActiveOutputArea(window[\"2f202c42-9d8e-11ec-a544-0242ac1c0002\"]);\n",
              "//# sourceURL=js_9363a366e2"
            ],
            "text/plain": [
              "<IPython.core.display.Javascript object>"
            ]
          },
          "metadata": {}
        },
        {
          "output_type": "display_data",
          "data": {
            "application/javascript": [
              "window[\"2f62d8c6-9d8e-11ec-a544-0242ac1c0002\"] = google.colab.output.getActiveOutputArea();\n",
              "//# sourceURL=js_b3334b4909"
            ],
            "text/plain": [
              "<IPython.core.display.Javascript object>"
            ]
          },
          "metadata": {}
        },
        {
          "output_type": "display_data",
          "data": {
            "application/javascript": [
              "window[\"2f639522-9d8e-11ec-a544-0242ac1c0002\"] = document.querySelector(\"#id36-0-0\");\n",
              "//# sourceURL=js_0f59de4dd6"
            ],
            "text/plain": [
              "<IPython.core.display.Javascript object>"
            ]
          },
          "metadata": {}
        },
        {
          "output_type": "display_data",
          "data": {
            "application/javascript": [
              "window[\"2f6402f0-9d8e-11ec-a544-0242ac1c0002\"] = google.colab.output.setActiveOutputArea(window[\"2f639522-9d8e-11ec-a544-0242ac1c0002\"]);\n",
              "//# sourceURL=js_3a7800b15c"
            ],
            "text/plain": [
              "<IPython.core.display.Javascript object>"
            ]
          },
          "metadata": {}
        },
        {
          "output_type": "display_data",
          "data": {
            "application/javascript": [
              "window[\"2f84332c-9d8e-11ec-a544-0242ac1c0002\"] = google.colab.output.setActiveOutputArea(window[\"2f62d8c6-9d8e-11ec-a544-0242ac1c0002\"]);\n",
              "//# sourceURL=js_4c33d7ece2"
            ],
            "text/plain": [
              "<IPython.core.display.Javascript object>"
            ]
          },
          "metadata": {}
        },
        {
          "output_type": "display_data",
          "data": {
            "application/javascript": [
              "window[\"2fa73016-9d8e-11ec-a544-0242ac1c0002\"] = google.colab.output.getActiveOutputArea();\n",
              "//# sourceURL=js_4aaffa71f1"
            ],
            "text/plain": [
              "<IPython.core.display.Javascript object>"
            ]
          },
          "metadata": {}
        },
        {
          "output_type": "display_data",
          "data": {
            "application/javascript": [
              "window[\"2fa7d638-9d8e-11ec-a544-0242ac1c0002\"] = document.querySelector(\"#id36-0-0\");\n",
              "//# sourceURL=js_8e85f285d4"
            ],
            "text/plain": [
              "<IPython.core.display.Javascript object>"
            ]
          },
          "metadata": {}
        },
        {
          "output_type": "display_data",
          "data": {
            "application/javascript": [
              "window[\"2fa82fde-9d8e-11ec-a544-0242ac1c0002\"] = google.colab.output.setActiveOutputArea(window[\"2fa7d638-9d8e-11ec-a544-0242ac1c0002\"]);\n",
              "//# sourceURL=js_b33179ea4b"
            ],
            "text/plain": [
              "<IPython.core.display.Javascript object>"
            ]
          },
          "metadata": {}
        },
        {
          "output_type": "display_data",
          "data": {
            "application/javascript": [
              "window[\"2fc7289e-9d8e-11ec-a544-0242ac1c0002\"] = google.colab.output.setActiveOutputArea(window[\"2fa73016-9d8e-11ec-a544-0242ac1c0002\"]);\n",
              "//# sourceURL=js_9536a31152"
            ],
            "text/plain": [
              "<IPython.core.display.Javascript object>"
            ]
          },
          "metadata": {}
        },
        {
          "output_type": "display_data",
          "data": {
            "application/javascript": [
              "window[\"2fe99aa0-9d8e-11ec-a544-0242ac1c0002\"] = google.colab.output.getActiveOutputArea();\n",
              "//# sourceURL=js_a3dea3e035"
            ],
            "text/plain": [
              "<IPython.core.display.Javascript object>"
            ]
          },
          "metadata": {}
        },
        {
          "output_type": "display_data",
          "data": {
            "application/javascript": [
              "window[\"2fea0526-9d8e-11ec-a544-0242ac1c0002\"] = document.querySelector(\"#id36-0-0\");\n",
              "//# sourceURL=js_8113620073"
            ],
            "text/plain": [
              "<IPython.core.display.Javascript object>"
            ]
          },
          "metadata": {}
        },
        {
          "output_type": "display_data",
          "data": {
            "application/javascript": [
              "window[\"2fea7682-9d8e-11ec-a544-0242ac1c0002\"] = google.colab.output.setActiveOutputArea(window[\"2fea0526-9d8e-11ec-a544-0242ac1c0002\"]);\n",
              "//# sourceURL=js_13e7432347"
            ],
            "text/plain": [
              "<IPython.core.display.Javascript object>"
            ]
          },
          "metadata": {}
        },
        {
          "output_type": "display_data",
          "data": {
            "application/javascript": [
              "window[\"3009b04c-9d8e-11ec-a544-0242ac1c0002\"] = google.colab.output.setActiveOutputArea(window[\"2fe99aa0-9d8e-11ec-a544-0242ac1c0002\"]);\n",
              "//# sourceURL=js_c7efd54304"
            ],
            "text/plain": [
              "<IPython.core.display.Javascript object>"
            ]
          },
          "metadata": {}
        },
        {
          "output_type": "display_data",
          "data": {
            "application/javascript": [
              "window[\"302ab274-9d8e-11ec-a544-0242ac1c0002\"] = google.colab.output.getActiveOutputArea();\n",
              "//# sourceURL=js_a2d6ea8097"
            ],
            "text/plain": [
              "<IPython.core.display.Javascript object>"
            ]
          },
          "metadata": {}
        },
        {
          "output_type": "display_data",
          "data": {
            "application/javascript": [
              "window[\"302b16ec-9d8e-11ec-a544-0242ac1c0002\"] = document.querySelector(\"#id36-0-0\");\n",
              "//# sourceURL=js_f1dfdf2e9b"
            ],
            "text/plain": [
              "<IPython.core.display.Javascript object>"
            ]
          },
          "metadata": {}
        },
        {
          "output_type": "display_data",
          "data": {
            "application/javascript": [
              "window[\"302bd0b4-9d8e-11ec-a544-0242ac1c0002\"] = google.colab.output.setActiveOutputArea(window[\"302b16ec-9d8e-11ec-a544-0242ac1c0002\"]);\n",
              "//# sourceURL=js_ea2b5f5496"
            ],
            "text/plain": [
              "<IPython.core.display.Javascript object>"
            ]
          },
          "metadata": {}
        },
        {
          "output_type": "display_data",
          "data": {
            "application/javascript": [
              "window[\"304c81ce-9d8e-11ec-a544-0242ac1c0002\"] = google.colab.output.setActiveOutputArea(window[\"302ab274-9d8e-11ec-a544-0242ac1c0002\"]);\n",
              "//# sourceURL=js_25f2daf57e"
            ],
            "text/plain": [
              "<IPython.core.display.Javascript object>"
            ]
          },
          "metadata": {}
        },
        {
          "output_type": "display_data",
          "data": {
            "application/javascript": [
              "window[\"306e3062-9d8e-11ec-a544-0242ac1c0002\"] = google.colab.output.getActiveOutputArea();\n",
              "//# sourceURL=js_0b6d2d2bdf"
            ],
            "text/plain": [
              "<IPython.core.display.Javascript object>"
            ]
          },
          "metadata": {}
        },
        {
          "output_type": "display_data",
          "data": {
            "application/javascript": [
              "window[\"306e7e00-9d8e-11ec-a544-0242ac1c0002\"] = document.querySelector(\"#id36-0-0\");\n",
              "//# sourceURL=js_4324691c61"
            ],
            "text/plain": [
              "<IPython.core.display.Javascript object>"
            ]
          },
          "metadata": {}
        },
        {
          "output_type": "display_data",
          "data": {
            "application/javascript": [
              "window[\"306f1f5e-9d8e-11ec-a544-0242ac1c0002\"] = google.colab.output.setActiveOutputArea(window[\"306e7e00-9d8e-11ec-a544-0242ac1c0002\"]);\n",
              "//# sourceURL=js_b8a66e1647"
            ],
            "text/plain": [
              "<IPython.core.display.Javascript object>"
            ]
          },
          "metadata": {}
        },
        {
          "output_type": "display_data",
          "data": {
            "application/javascript": [
              "window[\"3092f87a-9d8e-11ec-a544-0242ac1c0002\"] = google.colab.output.setActiveOutputArea(window[\"306e3062-9d8e-11ec-a544-0242ac1c0002\"]);\n",
              "//# sourceURL=js_c35d98ca7c"
            ],
            "text/plain": [
              "<IPython.core.display.Javascript object>"
            ]
          },
          "metadata": {}
        },
        {
          "output_type": "display_data",
          "data": {
            "application/javascript": [
              "window[\"30b4ba00-9d8e-11ec-a544-0242ac1c0002\"] = google.colab.output.getActiveOutputArea();\n",
              "//# sourceURL=js_998d7fd4d0"
            ],
            "text/plain": [
              "<IPython.core.display.Javascript object>"
            ]
          },
          "metadata": {}
        },
        {
          "output_type": "display_data",
          "data": {
            "application/javascript": [
              "window[\"30b5127a-9d8e-11ec-a544-0242ac1c0002\"] = document.querySelector(\"#id36-0-0\");\n",
              "//# sourceURL=js_27ad750e14"
            ],
            "text/plain": [
              "<IPython.core.display.Javascript object>"
            ]
          },
          "metadata": {}
        },
        {
          "output_type": "display_data",
          "data": {
            "application/javascript": [
              "window[\"30b584d0-9d8e-11ec-a544-0242ac1c0002\"] = google.colab.output.setActiveOutputArea(window[\"30b5127a-9d8e-11ec-a544-0242ac1c0002\"]);\n",
              "//# sourceURL=js_44d0211c80"
            ],
            "text/plain": [
              "<IPython.core.display.Javascript object>"
            ]
          },
          "metadata": {}
        },
        {
          "output_type": "display_data",
          "data": {
            "application/javascript": [
              "window[\"30d5f288-9d8e-11ec-a544-0242ac1c0002\"] = google.colab.output.setActiveOutputArea(window[\"30b4ba00-9d8e-11ec-a544-0242ac1c0002\"]);\n",
              "//# sourceURL=js_7407eb982c"
            ],
            "text/plain": [
              "<IPython.core.display.Javascript object>"
            ]
          },
          "metadata": {}
        },
        {
          "output_type": "display_data",
          "data": {
            "application/javascript": [
              "window[\"30f71fda-9d8e-11ec-a544-0242ac1c0002\"] = google.colab.output.getActiveOutputArea();\n",
              "//# sourceURL=js_709f6896dd"
            ],
            "text/plain": [
              "<IPython.core.display.Javascript object>"
            ]
          },
          "metadata": {}
        },
        {
          "output_type": "display_data",
          "data": {
            "application/javascript": [
              "window[\"30f7c71e-9d8e-11ec-a544-0242ac1c0002\"] = document.querySelector(\"#id36-0-0\");\n",
              "//# sourceURL=js_1bfbdc7758"
            ],
            "text/plain": [
              "<IPython.core.display.Javascript object>"
            ]
          },
          "metadata": {}
        },
        {
          "output_type": "display_data",
          "data": {
            "application/javascript": [
              "window[\"30f8333e-9d8e-11ec-a544-0242ac1c0002\"] = google.colab.output.setActiveOutputArea(window[\"30f7c71e-9d8e-11ec-a544-0242ac1c0002\"]);\n",
              "//# sourceURL=js_a22e7dcc66"
            ],
            "text/plain": [
              "<IPython.core.display.Javascript object>"
            ]
          },
          "metadata": {}
        },
        {
          "output_type": "display_data",
          "data": {
            "application/javascript": [
              "window[\"31170c82-9d8e-11ec-a544-0242ac1c0002\"] = google.colab.output.setActiveOutputArea(window[\"30f71fda-9d8e-11ec-a544-0242ac1c0002\"]);\n",
              "//# sourceURL=js_d941837e2d"
            ],
            "text/plain": [
              "<IPython.core.display.Javascript object>"
            ]
          },
          "metadata": {}
        },
        {
          "output_type": "display_data",
          "data": {
            "application/javascript": [
              "window[\"3139e496-9d8e-11ec-a544-0242ac1c0002\"] = google.colab.output.getActiveOutputArea();\n",
              "//# sourceURL=js_c570df883b"
            ],
            "text/plain": [
              "<IPython.core.display.Javascript object>"
            ]
          },
          "metadata": {}
        },
        {
          "output_type": "display_data",
          "data": {
            "application/javascript": [
              "window[\"313a5d5e-9d8e-11ec-a544-0242ac1c0002\"] = document.querySelector(\"#id36-0-0\");\n",
              "//# sourceURL=js_6f5fe3980c"
            ],
            "text/plain": [
              "<IPython.core.display.Javascript object>"
            ]
          },
          "metadata": {}
        },
        {
          "output_type": "display_data",
          "data": {
            "application/javascript": [
              "window[\"313b110e-9d8e-11ec-a544-0242ac1c0002\"] = google.colab.output.setActiveOutputArea(window[\"313a5d5e-9d8e-11ec-a544-0242ac1c0002\"]);\n",
              "//# sourceURL=js_479dbbeebb"
            ],
            "text/plain": [
              "<IPython.core.display.Javascript object>"
            ]
          },
          "metadata": {}
        },
        {
          "output_type": "display_data",
          "data": {
            "application/javascript": [
              "window[\"315d804a-9d8e-11ec-a544-0242ac1c0002\"] = google.colab.output.setActiveOutputArea(window[\"3139e496-9d8e-11ec-a544-0242ac1c0002\"]);\n",
              "//# sourceURL=js_51a271afa8"
            ],
            "text/plain": [
              "<IPython.core.display.Javascript object>"
            ]
          },
          "metadata": {}
        },
        {
          "output_type": "display_data",
          "data": {
            "application/javascript": [
              "window[\"317f44fa-9d8e-11ec-a544-0242ac1c0002\"] = google.colab.output.getActiveOutputArea();\n",
              "//# sourceURL=js_46c033e917"
            ],
            "text/plain": [
              "<IPython.core.display.Javascript object>"
            ]
          },
          "metadata": {}
        },
        {
          "output_type": "display_data",
          "data": {
            "application/javascript": [
              "window[\"317fcb00-9d8e-11ec-a544-0242ac1c0002\"] = document.querySelector(\"#id36-0-0\");\n",
              "//# sourceURL=js_a2b2196cbb"
            ],
            "text/plain": [
              "<IPython.core.display.Javascript object>"
            ]
          },
          "metadata": {}
        },
        {
          "output_type": "display_data",
          "data": {
            "application/javascript": [
              "window[\"318033c4-9d8e-11ec-a544-0242ac1c0002\"] = google.colab.output.setActiveOutputArea(window[\"317fcb00-9d8e-11ec-a544-0242ac1c0002\"]);\n",
              "//# sourceURL=js_ad8b8d508f"
            ],
            "text/plain": [
              "<IPython.core.display.Javascript object>"
            ]
          },
          "metadata": {}
        },
        {
          "output_type": "display_data",
          "data": {
            "application/javascript": [
              "window[\"31a01978-9d8e-11ec-a544-0242ac1c0002\"] = google.colab.output.setActiveOutputArea(window[\"317f44fa-9d8e-11ec-a544-0242ac1c0002\"]);\n",
              "//# sourceURL=js_7b2c0249f6"
            ],
            "text/plain": [
              "<IPython.core.display.Javascript object>"
            ]
          },
          "metadata": {}
        },
        {
          "output_type": "display_data",
          "data": {
            "application/javascript": [
              "window[\"31c0ebbc-9d8e-11ec-a544-0242ac1c0002\"] = google.colab.output.getActiveOutputArea();\n",
              "//# sourceURL=js_96b7aeceda"
            ],
            "text/plain": [
              "<IPython.core.display.Javascript object>"
            ]
          },
          "metadata": {}
        },
        {
          "output_type": "display_data",
          "data": {
            "application/javascript": [
              "window[\"31c13ee6-9d8e-11ec-a544-0242ac1c0002\"] = document.querySelector(\"#id36-0-0\");\n",
              "//# sourceURL=js_ffd7ae1a67"
            ],
            "text/plain": [
              "<IPython.core.display.Javascript object>"
            ]
          },
          "metadata": {}
        },
        {
          "output_type": "display_data",
          "data": {
            "application/javascript": [
              "window[\"31c192c4-9d8e-11ec-a544-0242ac1c0002\"] = google.colab.output.setActiveOutputArea(window[\"31c13ee6-9d8e-11ec-a544-0242ac1c0002\"]);\n",
              "//# sourceURL=js_218bcaf507"
            ],
            "text/plain": [
              "<IPython.core.display.Javascript object>"
            ]
          },
          "metadata": {}
        },
        {
          "output_type": "display_data",
          "data": {
            "application/javascript": [
              "window[\"31f1958c-9d8e-11ec-a544-0242ac1c0002\"] = google.colab.output.setActiveOutputArea(window[\"31c0ebbc-9d8e-11ec-a544-0242ac1c0002\"]);\n",
              "//# sourceURL=js_5cc265f8d9"
            ],
            "text/plain": [
              "<IPython.core.display.Javascript object>"
            ]
          },
          "metadata": {}
        },
        {
          "output_type": "display_data",
          "data": {
            "application/javascript": [
              "window[\"321320b2-9d8e-11ec-a544-0242ac1c0002\"] = google.colab.output.getActiveOutputArea();\n",
              "//# sourceURL=js_7db3392a3a"
            ],
            "text/plain": [
              "<IPython.core.display.Javascript object>"
            ]
          },
          "metadata": {}
        },
        {
          "output_type": "display_data",
          "data": {
            "application/javascript": [
              "window[\"3213adf2-9d8e-11ec-a544-0242ac1c0002\"] = document.querySelector(\"#id36-0-0\");\n",
              "//# sourceURL=js_988be7ab86"
            ],
            "text/plain": [
              "<IPython.core.display.Javascript object>"
            ]
          },
          "metadata": {}
        },
        {
          "output_type": "display_data",
          "data": {
            "application/javascript": [
              "window[\"32140432-9d8e-11ec-a544-0242ac1c0002\"] = google.colab.output.setActiveOutputArea(window[\"3213adf2-9d8e-11ec-a544-0242ac1c0002\"]);\n",
              "//# sourceURL=js_38c964ae84"
            ],
            "text/plain": [
              "<IPython.core.display.Javascript object>"
            ]
          },
          "metadata": {}
        },
        {
          "output_type": "display_data",
          "data": {
            "application/javascript": [
              "window[\"3233986a-9d8e-11ec-a544-0242ac1c0002\"] = google.colab.output.setActiveOutputArea(window[\"321320b2-9d8e-11ec-a544-0242ac1c0002\"]);\n",
              "//# sourceURL=js_2ae9af8042"
            ],
            "text/plain": [
              "<IPython.core.display.Javascript object>"
            ]
          },
          "metadata": {}
        },
        {
          "output_type": "display_data",
          "data": {
            "application/javascript": [
              "window[\"3254b856-9d8e-11ec-a544-0242ac1c0002\"] = google.colab.output.getActiveOutputArea();\n",
              "//# sourceURL=js_bcd7ea0989"
            ],
            "text/plain": [
              "<IPython.core.display.Javascript object>"
            ]
          },
          "metadata": {}
        },
        {
          "output_type": "display_data",
          "data": {
            "application/javascript": [
              "window[\"32552c5a-9d8e-11ec-a544-0242ac1c0002\"] = document.querySelector(\"#id36-0-0\");\n",
              "//# sourceURL=js_30554bf639"
            ],
            "text/plain": [
              "<IPython.core.display.Javascript object>"
            ]
          },
          "metadata": {}
        },
        {
          "output_type": "display_data",
          "data": {
            "application/javascript": [
              "window[\"32559636-9d8e-11ec-a544-0242ac1c0002\"] = google.colab.output.setActiveOutputArea(window[\"32552c5a-9d8e-11ec-a544-0242ac1c0002\"]);\n",
              "//# sourceURL=js_44b855494b"
            ],
            "text/plain": [
              "<IPython.core.display.Javascript object>"
            ]
          },
          "metadata": {}
        },
        {
          "output_type": "display_data",
          "data": {
            "application/javascript": [
              "window[\"32780978-9d8e-11ec-a544-0242ac1c0002\"] = google.colab.output.setActiveOutputArea(window[\"3254b856-9d8e-11ec-a544-0242ac1c0002\"]);\n",
              "//# sourceURL=js_113fe0a61e"
            ],
            "text/plain": [
              "<IPython.core.display.Javascript object>"
            ]
          },
          "metadata": {}
        },
        {
          "output_type": "display_data",
          "data": {
            "application/javascript": [
              "window[\"3298e328-9d8e-11ec-a544-0242ac1c0002\"] = google.colab.output.getActiveOutputArea();\n",
              "//# sourceURL=js_dc28d52d55"
            ],
            "text/plain": [
              "<IPython.core.display.Javascript object>"
            ]
          },
          "metadata": {}
        },
        {
          "output_type": "display_data",
          "data": {
            "application/javascript": [
              "window[\"329990b6-9d8e-11ec-a544-0242ac1c0002\"] = document.querySelector(\"#id36-0-0\");\n",
              "//# sourceURL=js_52f381151d"
            ],
            "text/plain": [
              "<IPython.core.display.Javascript object>"
            ]
          },
          "metadata": {}
        },
        {
          "output_type": "display_data",
          "data": {
            "application/javascript": [
              "window[\"329a1e8c-9d8e-11ec-a544-0242ac1c0002\"] = google.colab.output.setActiveOutputArea(window[\"329990b6-9d8e-11ec-a544-0242ac1c0002\"]);\n",
              "//# sourceURL=js_8304207cb9"
            ],
            "text/plain": [
              "<IPython.core.display.Javascript object>"
            ]
          },
          "metadata": {}
        },
        {
          "output_type": "display_data",
          "data": {
            "application/javascript": [
              "window[\"32b88e3a-9d8e-11ec-a544-0242ac1c0002\"] = google.colab.output.setActiveOutputArea(window[\"3298e328-9d8e-11ec-a544-0242ac1c0002\"]);\n",
              "//# sourceURL=js_9eba2351b4"
            ],
            "text/plain": [
              "<IPython.core.display.Javascript object>"
            ]
          },
          "metadata": {}
        },
        {
          "output_type": "display_data",
          "data": {
            "application/javascript": [
              "window[\"32d975fa-9d8e-11ec-a544-0242ac1c0002\"] = google.colab.output.getActiveOutputArea();\n",
              "//# sourceURL=js_eb22b92532"
            ],
            "text/plain": [
              "<IPython.core.display.Javascript object>"
            ]
          },
          "metadata": {}
        },
        {
          "output_type": "display_data",
          "data": {
            "application/javascript": [
              "window[\"32d9ed8c-9d8e-11ec-a544-0242ac1c0002\"] = document.querySelector(\"#id36-0-0\");\n",
              "//# sourceURL=js_6a8b48c46e"
            ],
            "text/plain": [
              "<IPython.core.display.Javascript object>"
            ]
          },
          "metadata": {}
        },
        {
          "output_type": "display_data",
          "data": {
            "application/javascript": [
              "window[\"32da6db6-9d8e-11ec-a544-0242ac1c0002\"] = google.colab.output.setActiveOutputArea(window[\"32d9ed8c-9d8e-11ec-a544-0242ac1c0002\"]);\n",
              "//# sourceURL=js_54e2145733"
            ],
            "text/plain": [
              "<IPython.core.display.Javascript object>"
            ]
          },
          "metadata": {}
        },
        {
          "output_type": "display_data",
          "data": {
            "application/javascript": [
              "window[\"32f7c9b0-9d8e-11ec-a544-0242ac1c0002\"] = google.colab.output.setActiveOutputArea(window[\"32d975fa-9d8e-11ec-a544-0242ac1c0002\"]);\n",
              "//# sourceURL=js_d71ad52529"
            ],
            "text/plain": [
              "<IPython.core.display.Javascript object>"
            ]
          },
          "metadata": {}
        },
        {
          "output_type": "display_data",
          "data": {
            "application/javascript": [
              "window[\"3318980c-9d8e-11ec-a544-0242ac1c0002\"] = google.colab.output.getActiveOutputArea();\n",
              "//# sourceURL=js_09c922b78a"
            ],
            "text/plain": [
              "<IPython.core.display.Javascript object>"
            ]
          },
          "metadata": {}
        },
        {
          "output_type": "display_data",
          "data": {
            "application/javascript": [
              "window[\"331900d0-9d8e-11ec-a544-0242ac1c0002\"] = document.querySelector(\"#id36-0-0\");\n",
              "//# sourceURL=js_108b8c8592"
            ],
            "text/plain": [
              "<IPython.core.display.Javascript object>"
            ]
          },
          "metadata": {}
        },
        {
          "output_type": "display_data",
          "data": {
            "application/javascript": [
              "window[\"33197a9c-9d8e-11ec-a544-0242ac1c0002\"] = google.colab.output.setActiveOutputArea(window[\"331900d0-9d8e-11ec-a544-0242ac1c0002\"]);\n",
              "//# sourceURL=js_c0ac7ad265"
            ],
            "text/plain": [
              "<IPython.core.display.Javascript object>"
            ]
          },
          "metadata": {}
        },
        {
          "output_type": "display_data",
          "data": {
            "application/javascript": [
              "window[\"33395c22-9d8e-11ec-a544-0242ac1c0002\"] = google.colab.output.setActiveOutputArea(window[\"3318980c-9d8e-11ec-a544-0242ac1c0002\"]);\n",
              "//# sourceURL=js_4ad6d19d92"
            ],
            "text/plain": [
              "<IPython.core.display.Javascript object>"
            ]
          },
          "metadata": {}
        },
        {
          "output_type": "display_data",
          "data": {
            "application/javascript": [
              "window[\"335ae8e2-9d8e-11ec-a544-0242ac1c0002\"] = google.colab.output.getActiveOutputArea();\n",
              "//# sourceURL=js_3a6e9b3bc9"
            ],
            "text/plain": [
              "<IPython.core.display.Javascript object>"
            ]
          },
          "metadata": {}
        },
        {
          "output_type": "display_data",
          "data": {
            "application/javascript": [
              "window[\"335b41fc-9d8e-11ec-a544-0242ac1c0002\"] = document.querySelector(\"#id36-0-0\");\n",
              "//# sourceURL=js_e8ddb9ae2c"
            ],
            "text/plain": [
              "<IPython.core.display.Javascript object>"
            ]
          },
          "metadata": {}
        },
        {
          "output_type": "display_data",
          "data": {
            "application/javascript": [
              "window[\"335be10c-9d8e-11ec-a544-0242ac1c0002\"] = google.colab.output.setActiveOutputArea(window[\"335b41fc-9d8e-11ec-a544-0242ac1c0002\"]);\n",
              "//# sourceURL=js_286e7d1a9b"
            ],
            "text/plain": [
              "<IPython.core.display.Javascript object>"
            ]
          },
          "metadata": {}
        },
        {
          "output_type": "display_data",
          "data": {
            "application/javascript": [
              "window[\"337c2bec-9d8e-11ec-a544-0242ac1c0002\"] = google.colab.output.setActiveOutputArea(window[\"335ae8e2-9d8e-11ec-a544-0242ac1c0002\"]);\n",
              "//# sourceURL=js_3f46542850"
            ],
            "text/plain": [
              "<IPython.core.display.Javascript object>"
            ]
          },
          "metadata": {}
        },
        {
          "output_type": "display_data",
          "data": {
            "application/javascript": [
              "window[\"339d3ab2-9d8e-11ec-a544-0242ac1c0002\"] = google.colab.output.getActiveOutputArea();\n",
              "//# sourceURL=js_f9b67abce4"
            ],
            "text/plain": [
              "<IPython.core.display.Javascript object>"
            ]
          },
          "metadata": {}
        },
        {
          "output_type": "display_data",
          "data": {
            "application/javascript": [
              "window[\"339d9156-9d8e-11ec-a544-0242ac1c0002\"] = document.querySelector(\"#id36-0-0\");\n",
              "//# sourceURL=js_4cc790282c"
            ],
            "text/plain": [
              "<IPython.core.display.Javascript object>"
            ]
          },
          "metadata": {}
        },
        {
          "output_type": "display_data",
          "data": {
            "application/javascript": [
              "window[\"339e4ace-9d8e-11ec-a544-0242ac1c0002\"] = google.colab.output.setActiveOutputArea(window[\"339d9156-9d8e-11ec-a544-0242ac1c0002\"]);\n",
              "//# sourceURL=js_18f7d42972"
            ],
            "text/plain": [
              "<IPython.core.display.Javascript object>"
            ]
          },
          "metadata": {}
        },
        {
          "output_type": "display_data",
          "data": {
            "application/javascript": [
              "window[\"33c6f4a6-9d8e-11ec-a544-0242ac1c0002\"] = google.colab.output.setActiveOutputArea(window[\"339d3ab2-9d8e-11ec-a544-0242ac1c0002\"]);\n",
              "//# sourceURL=js_7eb986d3cb"
            ],
            "text/plain": [
              "<IPython.core.display.Javascript object>"
            ]
          },
          "metadata": {}
        },
        {
          "output_type": "display_data",
          "data": {
            "application/javascript": [
              "window[\"33e867da-9d8e-11ec-a544-0242ac1c0002\"] = google.colab.output.getActiveOutputArea();\n",
              "//# sourceURL=js_6da14f9342"
            ],
            "text/plain": [
              "<IPython.core.display.Javascript object>"
            ]
          },
          "metadata": {}
        },
        {
          "output_type": "display_data",
          "data": {
            "application/javascript": [
              "window[\"33e8bc3a-9d8e-11ec-a544-0242ac1c0002\"] = document.querySelector(\"#id36-0-0\");\n",
              "//# sourceURL=js_49080c83a9"
            ],
            "text/plain": [
              "<IPython.core.display.Javascript object>"
            ]
          },
          "metadata": {}
        },
        {
          "output_type": "display_data",
          "data": {
            "application/javascript": [
              "window[\"33e9721a-9d8e-11ec-a544-0242ac1c0002\"] = google.colab.output.setActiveOutputArea(window[\"33e8bc3a-9d8e-11ec-a544-0242ac1c0002\"]);\n",
              "//# sourceURL=js_9ceddafb5a"
            ],
            "text/plain": [
              "<IPython.core.display.Javascript object>"
            ]
          },
          "metadata": {}
        },
        {
          "output_type": "display_data",
          "data": {
            "application/javascript": [
              "window[\"340e41ee-9d8e-11ec-a544-0242ac1c0002\"] = google.colab.output.setActiveOutputArea(window[\"33e867da-9d8e-11ec-a544-0242ac1c0002\"]);\n",
              "//# sourceURL=js_4811fbb4a9"
            ],
            "text/plain": [
              "<IPython.core.display.Javascript object>"
            ]
          },
          "metadata": {}
        },
        {
          "output_type": "display_data",
          "data": {
            "application/javascript": [
              "window[\"342fae24-9d8e-11ec-a544-0242ac1c0002\"] = google.colab.output.getActiveOutputArea();\n",
              "//# sourceURL=js_51da809604"
            ],
            "text/plain": [
              "<IPython.core.display.Javascript object>"
            ]
          },
          "metadata": {}
        },
        {
          "output_type": "display_data",
          "data": {
            "application/javascript": [
              "window[\"3430185a-9d8e-11ec-a544-0242ac1c0002\"] = document.querySelector(\"#id36-0-0\");\n",
              "//# sourceURL=js_3e3aa179e5"
            ],
            "text/plain": [
              "<IPython.core.display.Javascript object>"
            ]
          },
          "metadata": {}
        },
        {
          "output_type": "display_data",
          "data": {
            "application/javascript": [
              "window[\"34307926-9d8e-11ec-a544-0242ac1c0002\"] = google.colab.output.setActiveOutputArea(window[\"3430185a-9d8e-11ec-a544-0242ac1c0002\"]);\n",
              "//# sourceURL=js_9c94e8d0dd"
            ],
            "text/plain": [
              "<IPython.core.display.Javascript object>"
            ]
          },
          "metadata": {}
        },
        {
          "output_type": "display_data",
          "data": {
            "application/javascript": [
              "window[\"34579268-9d8e-11ec-a544-0242ac1c0002\"] = google.colab.output.setActiveOutputArea(window[\"342fae24-9d8e-11ec-a544-0242ac1c0002\"]);\n",
              "//# sourceURL=js_ff06356d7e"
            ],
            "text/plain": [
              "<IPython.core.display.Javascript object>"
            ]
          },
          "metadata": {}
        },
        {
          "output_type": "display_data",
          "data": {
            "application/javascript": [
              "window[\"34787d70-9d8e-11ec-a544-0242ac1c0002\"] = google.colab.output.getActiveOutputArea();\n",
              "//# sourceURL=js_15ab34962e"
            ],
            "text/plain": [
              "<IPython.core.display.Javascript object>"
            ]
          },
          "metadata": {}
        },
        {
          "output_type": "display_data",
          "data": {
            "application/javascript": [
              "window[\"3478e0d0-9d8e-11ec-a544-0242ac1c0002\"] = document.querySelector(\"#id36-0-0\");\n",
              "//# sourceURL=js_a2a674f8d8"
            ],
            "text/plain": [
              "<IPython.core.display.Javascript object>"
            ]
          },
          "metadata": {}
        },
        {
          "output_type": "display_data",
          "data": {
            "application/javascript": [
              "window[\"347992a0-9d8e-11ec-a544-0242ac1c0002\"] = google.colab.output.setActiveOutputArea(window[\"3478e0d0-9d8e-11ec-a544-0242ac1c0002\"]);\n",
              "//# sourceURL=js_96ed7a9dd1"
            ],
            "text/plain": [
              "<IPython.core.display.Javascript object>"
            ]
          },
          "metadata": {}
        },
        {
          "output_type": "display_data",
          "data": {
            "application/javascript": [
              "window[\"3498a0b4-9d8e-11ec-a544-0242ac1c0002\"] = google.colab.output.setActiveOutputArea(window[\"34787d70-9d8e-11ec-a544-0242ac1c0002\"]);\n",
              "//# sourceURL=js_1d3974a16e"
            ],
            "text/plain": [
              "<IPython.core.display.Javascript object>"
            ]
          },
          "metadata": {}
        },
        {
          "output_type": "display_data",
          "data": {
            "application/javascript": [
              "window[\"34b97a64-9d8e-11ec-a544-0242ac1c0002\"] = google.colab.output.getActiveOutputArea();\n",
              "//# sourceURL=js_4426989aaa"
            ],
            "text/plain": [
              "<IPython.core.display.Javascript object>"
            ]
          },
          "metadata": {}
        },
        {
          "output_type": "display_data",
          "data": {
            "application/javascript": [
              "window[\"34ba1a82-9d8e-11ec-a544-0242ac1c0002\"] = document.querySelector(\"#id36-0-0\");\n",
              "//# sourceURL=js_f1c05c3699"
            ],
            "text/plain": [
              "<IPython.core.display.Javascript object>"
            ]
          },
          "metadata": {}
        },
        {
          "output_type": "display_data",
          "data": {
            "application/javascript": [
              "window[\"34baae84-9d8e-11ec-a544-0242ac1c0002\"] = google.colab.output.setActiveOutputArea(window[\"34ba1a82-9d8e-11ec-a544-0242ac1c0002\"]);\n",
              "//# sourceURL=js_3f51669722"
            ],
            "text/plain": [
              "<IPython.core.display.Javascript object>"
            ]
          },
          "metadata": {}
        },
        {
          "output_type": "display_data",
          "data": {
            "application/javascript": [
              "window[\"34db6afc-9d8e-11ec-a544-0242ac1c0002\"] = google.colab.output.setActiveOutputArea(window[\"34b97a64-9d8e-11ec-a544-0242ac1c0002\"]);\n",
              "//# sourceURL=js_32f66d3d11"
            ],
            "text/plain": [
              "<IPython.core.display.Javascript object>"
            ]
          },
          "metadata": {}
        },
        {
          "output_type": "display_data",
          "data": {
            "application/javascript": [
              "window[\"34fc506e-9d8e-11ec-a544-0242ac1c0002\"] = google.colab.output.getActiveOutputArea();\n",
              "//# sourceURL=js_41dc8fa3c4"
            ],
            "text/plain": [
              "<IPython.core.display.Javascript object>"
            ]
          },
          "metadata": {}
        },
        {
          "output_type": "display_data",
          "data": {
            "application/javascript": [
              "window[\"34fcc184-9d8e-11ec-a544-0242ac1c0002\"] = document.querySelector(\"#id36-0-0\");\n",
              "//# sourceURL=js_beae023490"
            ],
            "text/plain": [
              "<IPython.core.display.Javascript object>"
            ]
          },
          "metadata": {}
        },
        {
          "output_type": "display_data",
          "data": {
            "application/javascript": [
              "window[\"34fd502c-9d8e-11ec-a544-0242ac1c0002\"] = google.colab.output.setActiveOutputArea(window[\"34fcc184-9d8e-11ec-a544-0242ac1c0002\"]);\n",
              "//# sourceURL=js_b6f2fa6437"
            ],
            "text/plain": [
              "<IPython.core.display.Javascript object>"
            ]
          },
          "metadata": {}
        },
        {
          "output_type": "display_data",
          "data": {
            "application/javascript": [
              "window[\"351e254a-9d8e-11ec-a544-0242ac1c0002\"] = google.colab.output.setActiveOutputArea(window[\"34fc506e-9d8e-11ec-a544-0242ac1c0002\"]);\n",
              "//# sourceURL=js_ff7a069096"
            ],
            "text/plain": [
              "<IPython.core.display.Javascript object>"
            ]
          },
          "metadata": {}
        },
        {
          "output_type": "display_data",
          "data": {
            "application/javascript": [
              "window[\"3541ab14-9d8e-11ec-a544-0242ac1c0002\"] = google.colab.output.getActiveOutputArea();\n",
              "//# sourceURL=js_f907bcd2ed"
            ],
            "text/plain": [
              "<IPython.core.display.Javascript object>"
            ]
          },
          "metadata": {}
        },
        {
          "output_type": "display_data",
          "data": {
            "application/javascript": [
              "window[\"35423cb4-9d8e-11ec-a544-0242ac1c0002\"] = document.querySelector(\"#id36-0-0\");\n",
              "//# sourceURL=js_0fcb7b0690"
            ],
            "text/plain": [
              "<IPython.core.display.Javascript object>"
            ]
          },
          "metadata": {}
        },
        {
          "output_type": "display_data",
          "data": {
            "application/javascript": [
              "window[\"35429cea-9d8e-11ec-a544-0242ac1c0002\"] = google.colab.output.setActiveOutputArea(window[\"35423cb4-9d8e-11ec-a544-0242ac1c0002\"]);\n",
              "//# sourceURL=js_6fb3326196"
            ],
            "text/plain": [
              "<IPython.core.display.Javascript object>"
            ]
          },
          "metadata": {}
        },
        {
          "output_type": "display_data",
          "data": {
            "application/javascript": [
              "window[\"3564182a-9d8e-11ec-a544-0242ac1c0002\"] = google.colab.output.setActiveOutputArea(window[\"3541ab14-9d8e-11ec-a544-0242ac1c0002\"]);\n",
              "//# sourceURL=js_74cece2ae5"
            ],
            "text/plain": [
              "<IPython.core.display.Javascript object>"
            ]
          },
          "metadata": {}
        },
        {
          "output_type": "display_data",
          "data": {
            "application/javascript": [
              "window[\"3586bf2e-9d8e-11ec-a544-0242ac1c0002\"] = google.colab.output.getActiveOutputArea();\n",
              "//# sourceURL=js_e4775426b3"
            ],
            "text/plain": [
              "<IPython.core.display.Javascript object>"
            ]
          },
          "metadata": {}
        },
        {
          "output_type": "display_data",
          "data": {
            "application/javascript": [
              "window[\"35873364-9d8e-11ec-a544-0242ac1c0002\"] = document.querySelector(\"#id36-0-0\");\n",
              "//# sourceURL=js_a0599fffd4"
            ],
            "text/plain": [
              "<IPython.core.display.Javascript object>"
            ]
          },
          "metadata": {}
        },
        {
          "output_type": "display_data",
          "data": {
            "application/javascript": [
              "window[\"3587bc9e-9d8e-11ec-a544-0242ac1c0002\"] = google.colab.output.setActiveOutputArea(window[\"35873364-9d8e-11ec-a544-0242ac1c0002\"]);\n",
              "//# sourceURL=js_5153ead172"
            ],
            "text/plain": [
              "<IPython.core.display.Javascript object>"
            ]
          },
          "metadata": {}
        },
        {
          "output_type": "display_data",
          "data": {
            "application/javascript": [
              "window[\"35a92cc6-9d8e-11ec-a544-0242ac1c0002\"] = google.colab.output.setActiveOutputArea(window[\"3586bf2e-9d8e-11ec-a544-0242ac1c0002\"]);\n",
              "//# sourceURL=js_c184ed8d00"
            ],
            "text/plain": [
              "<IPython.core.display.Javascript object>"
            ]
          },
          "metadata": {}
        },
        {
          "output_type": "display_data",
          "data": {
            "application/javascript": [
              "window[\"35cba7f6-9d8e-11ec-a544-0242ac1c0002\"] = google.colab.output.getActiveOutputArea();\n",
              "//# sourceURL=js_c59c61a8b9"
            ],
            "text/plain": [
              "<IPython.core.display.Javascript object>"
            ]
          },
          "metadata": {}
        },
        {
          "output_type": "display_data",
          "data": {
            "application/javascript": [
              "window[\"35cc791a-9d8e-11ec-a544-0242ac1c0002\"] = document.querySelector(\"#id36-0-0\");\n",
              "//# sourceURL=js_21ae1e5280"
            ],
            "text/plain": [
              "<IPython.core.display.Javascript object>"
            ]
          },
          "metadata": {}
        },
        {
          "output_type": "display_data",
          "data": {
            "application/javascript": [
              "window[\"35ccdf90-9d8e-11ec-a544-0242ac1c0002\"] = google.colab.output.setActiveOutputArea(window[\"35cc791a-9d8e-11ec-a544-0242ac1c0002\"]);\n",
              "//# sourceURL=js_5216cd5df8"
            ],
            "text/plain": [
              "<IPython.core.display.Javascript object>"
            ]
          },
          "metadata": {}
        },
        {
          "output_type": "display_data",
          "data": {
            "application/javascript": [
              "window[\"35fbf21c-9d8e-11ec-a544-0242ac1c0002\"] = google.colab.output.setActiveOutputArea(window[\"35cba7f6-9d8e-11ec-a544-0242ac1c0002\"]);\n",
              "//# sourceURL=js_8baff68239"
            ],
            "text/plain": [
              "<IPython.core.display.Javascript object>"
            ]
          },
          "metadata": {}
        },
        {
          "output_type": "display_data",
          "data": {
            "application/javascript": [
              "window[\"361f1ed6-9d8e-11ec-a544-0242ac1c0002\"] = google.colab.output.getActiveOutputArea();\n",
              "//# sourceURL=js_4c2689fbeb"
            ],
            "text/plain": [
              "<IPython.core.display.Javascript object>"
            ]
          },
          "metadata": {}
        },
        {
          "output_type": "display_data",
          "data": {
            "application/javascript": [
              "window[\"361f813c-9d8e-11ec-a544-0242ac1c0002\"] = document.querySelector(\"#id36-0-0\");\n",
              "//# sourceURL=js_0f9a33bd06"
            ],
            "text/plain": [
              "<IPython.core.display.Javascript object>"
            ]
          },
          "metadata": {}
        },
        {
          "output_type": "display_data",
          "data": {
            "application/javascript": [
              "window[\"3620310e-9d8e-11ec-a544-0242ac1c0002\"] = google.colab.output.setActiveOutputArea(window[\"361f813c-9d8e-11ec-a544-0242ac1c0002\"]);\n",
              "//# sourceURL=js_f6dc326b9b"
            ],
            "text/plain": [
              "<IPython.core.display.Javascript object>"
            ]
          },
          "metadata": {}
        },
        {
          "output_type": "display_data",
          "data": {
            "application/javascript": [
              "window[\"3642417c-9d8e-11ec-a544-0242ac1c0002\"] = google.colab.output.setActiveOutputArea(window[\"361f1ed6-9d8e-11ec-a544-0242ac1c0002\"]);\n",
              "//# sourceURL=js_bb69f70afa"
            ],
            "text/plain": [
              "<IPython.core.display.Javascript object>"
            ]
          },
          "metadata": {}
        },
        {
          "output_type": "display_data",
          "data": {
            "application/javascript": [
              "window[\"36653f9c-9d8e-11ec-a544-0242ac1c0002\"] = google.colab.output.getActiveOutputArea();\n",
              "//# sourceURL=js_335e6a2ff1"
            ],
            "text/plain": [
              "<IPython.core.display.Javascript object>"
            ]
          },
          "metadata": {}
        },
        {
          "output_type": "display_data",
          "data": {
            "application/javascript": [
              "window[\"3665a66c-9d8e-11ec-a544-0242ac1c0002\"] = document.querySelector(\"#id36-0-0\");\n",
              "//# sourceURL=js_96d5c62c67"
            ],
            "text/plain": [
              "<IPython.core.display.Javascript object>"
            ]
          },
          "metadata": {}
        },
        {
          "output_type": "display_data",
          "data": {
            "application/javascript": [
              "window[\"36662222-9d8e-11ec-a544-0242ac1c0002\"] = google.colab.output.setActiveOutputArea(window[\"3665a66c-9d8e-11ec-a544-0242ac1c0002\"]);\n",
              "//# sourceURL=js_5062ef4711"
            ],
            "text/plain": [
              "<IPython.core.display.Javascript object>"
            ]
          },
          "metadata": {}
        },
        {
          "output_type": "display_data",
          "data": {
            "application/javascript": [
              "window[\"36895ecc-9d8e-11ec-a544-0242ac1c0002\"] = google.colab.output.setActiveOutputArea(window[\"36653f9c-9d8e-11ec-a544-0242ac1c0002\"]);\n",
              "//# sourceURL=js_18f22683c2"
            ],
            "text/plain": [
              "<IPython.core.display.Javascript object>"
            ]
          },
          "metadata": {}
        },
        {
          "output_type": "display_data",
          "data": {
            "application/javascript": [
              "window[\"36ac5f76-9d8e-11ec-a544-0242ac1c0002\"] = google.colab.output.getActiveOutputArea();\n",
              "//# sourceURL=js_9369d3627b"
            ],
            "text/plain": [
              "<IPython.core.display.Javascript object>"
            ]
          },
          "metadata": {}
        },
        {
          "output_type": "display_data",
          "data": {
            "application/javascript": [
              "window[\"36ace34c-9d8e-11ec-a544-0242ac1c0002\"] = document.querySelector(\"#id36-0-0\");\n",
              "//# sourceURL=js_df90fabbfa"
            ],
            "text/plain": [
              "<IPython.core.display.Javascript object>"
            ]
          },
          "metadata": {}
        },
        {
          "output_type": "display_data",
          "data": {
            "application/javascript": [
              "window[\"36ad4d50-9d8e-11ec-a544-0242ac1c0002\"] = google.colab.output.setActiveOutputArea(window[\"36ace34c-9d8e-11ec-a544-0242ac1c0002\"]);\n",
              "//# sourceURL=js_a8c11db672"
            ],
            "text/plain": [
              "<IPython.core.display.Javascript object>"
            ]
          },
          "metadata": {}
        },
        {
          "output_type": "display_data",
          "data": {
            "image/png": "[encoded data removed]",
            "text/plain": [
              "<Figure size 432x288 with 1 Axes>"
            ]
          },
          "metadata": {
            "needs_background": "light"
          }
        },
        {
          "output_type": "display_data",
          "data": {
            "application/javascript": [
              "window[\"36d4687c-9d8e-11ec-a544-0242ac1c0002\"] = google.colab.output.setActiveOutputArea(window[\"36ac5f76-9d8e-11ec-a544-0242ac1c0002\"]);\n",
              "//# sourceURL=js_de95e4e725"
            ],
            "text/plain": [
              "<IPython.core.display.Javascript object>"
            ]
          },
          "metadata": {}
        },
        {
          "output_type": "execute_result",
          "data": {
            "text/plain": [
              "<matplotlib.legend.Legend at 0x7f26933ad7d0>"
            ]
          },
          "metadata": {},
          "execution_count": 29
        },
        {
          "output_type": "display_data",
          "data": {
            "image/png": "[encoded data removed]",
            "text/plain": [
              "<Figure size 432x288 with 1 Axes>"
            ]
          },
          "metadata": {
            "needs_background": "light"
          }
        }
      ]
    }
  ],
  "metadata": {
    "colab": {
      "collapsed_sections": [],
      "name": "A1_Stochastic_QTable.ipynb",
      "provenance": []
    },
    "kernelspec": {
      "display_name": "Python 3",
      "name": "python3"
    },
    "language_info": {
      "name": "python"
    }
  },
  "nbformat": 4,
  "nbformat_minor": 0
}