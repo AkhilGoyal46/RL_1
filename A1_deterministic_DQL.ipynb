{
  "cells": [
    {
      "cell_type": "code",
      "source": [
        "\"\"\"I certify that the code and data in this assignment were generated independently, using only the tools\n",
        "and resources defined in the course and that I did not receive any external help, coaching or contributions\n",
        "during the production of this work.\"\"\""
      ],
      "metadata": {
        "id": "1rKLXwpwP-8t"
      },
      "execution_count": null,
      "outputs": []
    },
    {
      "cell_type": "code",
      "execution_count": null,
      "metadata": {
        "id": "vzLSDtlzL3mt"
      },
      "outputs": [],
      "source": [
        "import numpy as np\n",
        "import matplotlib.pyplot as plt\n",
        "import gym\n",
        "from gym import spaces\n",
        "from google.colab import widgets\n",
        "import time"
      ]
    },
    {
      "cell_type": "code",
      "execution_count": null,
      "metadata": {
        "id": "vNy_7i2jL8VQ"
      },
      "outputs": [],
      "source": [
        "class GridEnvironment(gym.Env):\n",
        "    metadata = { 'render.modes': [] }\n",
        "    \n",
        "    def __init__(self):\n",
        "        self.observation_space = spaces.Discrete(121)\n",
        "        self.action_space = spaces.Discrete(4)\n",
        "        self.max_timesteps = 25\n",
        "        \n",
        "        \n",
        "    def map(self):\n",
        "        self.state[3,4:8] = -1\n",
        "        self.state[9:11,5:8] = -1\n",
        "        self.state[5:7,9:11] = -1\n",
        "        self.state[0,5] = -1\n",
        "        self.state[0,7] = -1\n",
        "        self.state[2,0] = -1\n",
        "        self.state[3,1] = -1\n",
        "        self.state[4,2] = -1\n",
        "        self.state[5,3] = -1\n",
        "        self.state[6,4] = -1\n",
        "        self.state[5,6] = 0.25\n",
        "        self.state[2,9] = 0.25\n",
        "\n",
        "    def setReward(self):\n",
        "        self.reward_mat[3,4:8] = -5\n",
        "        self.reward_mat[9:11,5:8] = -5\n",
        "        self.reward_mat[5:7,9:11] = -5\n",
        "        self.reward_mat[0,5] = -5\n",
        "        self.reward_mat[0,7] = -5\n",
        "        self.reward_mat[2,0] = -5\n",
        "        self.reward_mat[3,1] = -5\n",
        "        self.reward_mat[4,2] = -5\n",
        "        self.reward_mat[5,3] = -5\n",
        "        self.reward_mat[6,4] = -5\n",
        "        self.reward_mat[5,6] = 7\n",
        "        self.reward_mat[2,9] = 10\n",
        "        self.reward_mat[tuple(self.goal_pos)] = 20\n",
        " \n",
        "    def reset(self):\n",
        "        self.timestep = 0\n",
        "        self.start_pos=[6,2]\n",
        "        self.goal_pos = [0, 6]\n",
        "        \n",
        "        self.reward=0\n",
        "        self.state = np.zeros((11,11))\n",
        "\n",
        "        self.agent_pos = self.start_pos\n",
        "        \n",
        "        self.state = np.zeros((11,11))\n",
        "        self.reward_mat = np.zeros((11,11))\n",
        "        self.map()\n",
        "        self.setReward()\n",
        "        \n",
        "                \n",
        "        pos = (self.agent_pos[0]*10)+self.agent_pos[0]+self.agent_pos[1]\n",
        "        return pos\n",
        "    \n",
        "    def step(self, action):\n",
        "\n",
        "\n",
        "        if action == 0: self.agent_pos[0] -= 1\n",
        "        elif action == 1: self.agent_pos[0] += 1\n",
        "        elif action == 2: self.agent_pos[1] -= 1\n",
        "        elif action == 3: self.agent_pos[1] += 1\n",
        "          \n",
        "        self.agent_pos = np.clip(self.agent_pos, 0, 10)\n",
        "\n",
        "        pos = (self.agent_pos[0]*10)+self.agent_pos[0]+self.agent_pos[1]\n",
        "        self.state = np.zeros((11,11))\n",
        "        self.map()\n",
        "\n",
        "        self.state[tuple(self.goal_pos)] = 0.5\n",
        "        self.state[tuple(self.agent_pos)] = 1\n",
        "        \n",
        "        \n",
        "        observation = self.state.flatten()\n",
        "        \n",
        "        self.reward = self.reward_mat[tuple(self.agent_pos)]\n",
        "        if (self.reward>0):         \n",
        "          self.reward_mat[tuple(self.agent_pos)] = 0\n",
        "\n",
        "        self.timestep += 1\n",
        "        done = True if self.timestep >= self.max_timesteps else False\n",
        "        if ((self.agent_pos == self.goal_pos).all()):\n",
        "          done = True \n",
        "        info = {}\n",
        "        \n",
        "        return action, pos, self.reward -1 , done, info, self.timestep\n",
        "        \n",
        "    def render(self):\n",
        "        plt.imshow(self.state)"
      ]
    },
    {
      "cell_type": "code",
      "execution_count": null,
      "metadata": {
        "id": "Czjyx0D_L-it"
      },
      "outputs": [],
      "source": [
        "class RandomAgent:\n",
        "  def __init__(self, env):\n",
        "    self.env = env\n",
        "    self.observation_space = env.observation_space\n",
        "    self.action_space = env.action_space\n",
        "    self.QA_table=np.zeros((121, 4))\n",
        "    self.QB_table=np.zeros((121, 4))\n",
        "    self.prev_pos=0\n",
        "    self.alph = 0.25\n",
        "    self.gamm = 0.95\n",
        "\n",
        "  def update(self,action,reward,pos):\n",
        "    if np.random.choice([0,1], p = [0.5,0.5]):\n",
        "      self.QA_table[self.prev_pos,action]= self.QA_table[self.prev_pos,action] + self.alph*(reward + self.gamm*self.QB_table[pos,np.argmax(self.QA_table[pos,:])]-self.QA_table[self.prev_pos,action])\n",
        "    else:\n",
        "      self.QB_table[self.prev_pos,action]= self.QB_table[self.prev_pos,action] + self.alph*(reward + self.gamm*self.QA_table[pos,np.argmax(self.QB_table[pos,:])]-self.QB_table[self.prev_pos,action])\n",
        "    return self.QA_table , self.QB_table\n",
        "\n",
        "\n",
        "  def step(self, pos, episod, max_episod):\n",
        "    self.prev_pos = pos\n",
        "    ep = np.exp(-8*episod/max_episod)\n",
        "    pb=0.25*ep*np.ones(4)\n",
        "    if np.random.choice([0,1], p = [0.5,0.5]):\n",
        "      pb[np.argmax(self.QA_table[pos,:])] += 1 - ep\n",
        "    else:\n",
        "      pb[np.argmax(self.QB_table[pos,:])] += 1 - ep\n",
        "    pb= pb/np.sum(pb)\n",
        "    return np.random.choice(self.action_space.n, p = pb) ,ep\n",
        "    "
      ]
    },
    {
      "cell_type": "code",
      "execution_count": null,
      "metadata": {
        "colab": {
          "base_uri": "https://localhost:8080/",
          "height": 1000
        },
        "id": "o333bWhuNIH3",
        "outputId": "a673caab-17fd-4338-e449-ace5f3330ef3"
      },
      "outputs": [
        {
          "output_type": "display_data",
          "data": {
            "text/html": [
              "<style>\n",
              "       table#id22, #id22 > tbody > tr > th, #id22 > tbody > tr > td {\n",
              "         border: 1px solid lightgray;\n",
              "         border-collapse:collapse;\n",
              "         \n",
              "        }</style>"
            ],
            "text/plain": [
              "<IPython.core.display.HTML object>"
            ]
          },
          "metadata": {}
        },
        {
          "output_type": "display_data",
          "data": {
            "text/html": [
              "<table id=id22><tr><td id=id22-0-0></td></tr></table>"
            ],
            "text/plain": [
              "<IPython.core.display.HTML object>"
            ]
          },
          "metadata": {}
        },
        {
          "output_type": "display_data",
          "data": {
            "application/javascript": [
              "window[\"79f410f6-9da9-11ec-bdc8-0242ac1c0002\"] = google.colab.output.getActiveOutputArea();\n",
              "//# sourceURL=js_93af0cbe5a"
            ],
            "text/plain": [
              "<IPython.core.display.Javascript object>"
            ]
          },
          "metadata": {}
        },
        {
          "output_type": "display_data",
          "data": {
            "application/javascript": [
              "window[\"79f4a598-9da9-11ec-bdc8-0242ac1c0002\"] = document.querySelector(\"#id22-0-0\");\n",
              "//# sourceURL=js_efb1dc709d"
            ],
            "text/plain": [
              "<IPython.core.display.Javascript object>"
            ]
          },
          "metadata": {}
        },
        {
          "output_type": "display_data",
          "data": {
            "application/javascript": [
              "window[\"79f54c6e-9da9-11ec-bdc8-0242ac1c0002\"] = google.colab.output.setActiveOutputArea(window[\"79f4a598-9da9-11ec-bdc8-0242ac1c0002\"]);\n",
              "//# sourceURL=js_8778531331"
            ],
            "text/plain": [
              "<IPython.core.display.Javascript object>"
            ]
          },
          "metadata": {}
        },
        {
          "output_type": "display_data",
          "data": {
            "application/javascript": [
              "window[\"7a0d723a-9da9-11ec-bdc8-0242ac1c0002\"] = google.colab.output.setActiveOutputArea(window[\"79f410f6-9da9-11ec-bdc8-0242ac1c0002\"]);\n",
              "//# sourceURL=js_5dc1a6abad"
            ],
            "text/plain": [
              "<IPython.core.display.Javascript object>"
            ]
          },
          "metadata": {}
        },
        {
          "output_type": "display_data",
          "data": {
            "application/javascript": [
              "window[\"7a1198b0-9da9-11ec-bdc8-0242ac1c0002\"] = google.colab.output.getActiveOutputArea();\n",
              "//# sourceURL=js_cdfcc5832b"
            ],
            "text/plain": [
              "<IPython.core.display.Javascript object>"
            ]
          },
          "metadata": {}
        },
        {
          "output_type": "display_data",
          "data": {
            "application/javascript": [
              "window[\"7a125a66-9da9-11ec-bdc8-0242ac1c0002\"] = document.querySelector(\"#id22-0-0\");\n",
              "//# sourceURL=js_b3e358fde3"
            ],
            "text/plain": [
              "<IPython.core.display.Javascript object>"
            ]
          },
          "metadata": {}
        },
        {
          "output_type": "display_data",
          "data": {
            "application/javascript": [
              "window[\"7a130740-9da9-11ec-bdc8-0242ac1c0002\"] = google.colab.output.setActiveOutputArea(window[\"7a125a66-9da9-11ec-bdc8-0242ac1c0002\"]);\n",
              "//# sourceURL=js_8f59ecd45d"
            ],
            "text/plain": [
              "<IPython.core.display.Javascript object>"
            ]
          },
          "metadata": {}
        },
        {
          "output_type": "display_data",
          "data": {
            "application/javascript": [
              "window[\"7a2c8dc8-9da9-11ec-bdc8-0242ac1c0002\"] = google.colab.output.setActiveOutputArea(window[\"7a1198b0-9da9-11ec-bdc8-0242ac1c0002\"]);\n",
              "//# sourceURL=js_dd517f5849"
            ],
            "text/plain": [
              "<IPython.core.display.Javascript object>"
            ]
          },
          "metadata": {}
        },
        {
          "output_type": "display_data",
          "data": {
            "application/javascript": [
              "window[\"7a4eb8a8-9da9-11ec-bdc8-0242ac1c0002\"] = google.colab.output.getActiveOutputArea();\n",
              "//# sourceURL=js_9901cf529d"
            ],
            "text/plain": [
              "<IPython.core.display.Javascript object>"
            ]
          },
          "metadata": {}
        },
        {
          "output_type": "display_data",
          "data": {
            "application/javascript": [
              "window[\"7a4f5bfa-9da9-11ec-bdc8-0242ac1c0002\"] = document.querySelector(\"#id22-0-0\");\n",
              "//# sourceURL=js_e29bc358b6"
            ],
            "text/plain": [
              "<IPython.core.display.Javascript object>"
            ]
          },
          "metadata": {}
        },
        {
          "output_type": "display_data",
          "data": {
            "application/javascript": [
              "window[\"7a4ffea2-9da9-11ec-bdc8-0242ac1c0002\"] = google.colab.output.setActiveOutputArea(window[\"7a4f5bfa-9da9-11ec-bdc8-0242ac1c0002\"]);\n",
              "//# sourceURL=js_5566ce336c"
            ],
            "text/plain": [
              "<IPython.core.display.Javascript object>"
            ]
          },
          "metadata": {}
        },
        {
          "output_type": "display_data",
          "data": {
            "application/javascript": [
              "window[\"7a699240-9da9-11ec-bdc8-0242ac1c0002\"] = google.colab.output.setActiveOutputArea(window[\"7a4eb8a8-9da9-11ec-bdc8-0242ac1c0002\"]);\n",
              "//# sourceURL=js_dbe969689d"
            ],
            "text/plain": [
              "<IPython.core.display.Javascript object>"
            ]
          },
          "metadata": {}
        },
        {
          "output_type": "display_data",
          "data": {
            "application/javascript": [
              "window[\"7a8a6178-9da9-11ec-bdc8-0242ac1c0002\"] = google.colab.output.getActiveOutputArea();\n",
              "//# sourceURL=js_6c784d33a1"
            ],
            "text/plain": [
              "<IPython.core.display.Javascript object>"
            ]
          },
          "metadata": {}
        },
        {
          "output_type": "display_data",
          "data": {
            "application/javascript": [
              "window[\"7a8ab506-9da9-11ec-bdc8-0242ac1c0002\"] = document.querySelector(\"#id22-0-0\");\n",
              "//# sourceURL=js_2d9ed3632f"
            ],
            "text/plain": [
              "<IPython.core.display.Javascript object>"
            ]
          },
          "metadata": {}
        },
        {
          "output_type": "display_data",
          "data": {
            "application/javascript": [
              "window[\"7a8afe12-9da9-11ec-bdc8-0242ac1c0002\"] = google.colab.output.setActiveOutputArea(window[\"7a8ab506-9da9-11ec-bdc8-0242ac1c0002\"]);\n",
              "//# sourceURL=js_01a4173cf2"
            ],
            "text/plain": [
              "<IPython.core.display.Javascript object>"
            ]
          },
          "metadata": {}
        },
        {
          "output_type": "display_data",
          "data": {
            "application/javascript": [
              "window[\"7aa49d7c-9da9-11ec-bdc8-0242ac1c0002\"] = google.colab.output.setActiveOutputArea(window[\"7a8a6178-9da9-11ec-bdc8-0242ac1c0002\"]);\n",
              "//# sourceURL=js_5df7936e96"
            ],
            "text/plain": [
              "<IPython.core.display.Javascript object>"
            ]
          },
          "metadata": {}
        },
        {
          "output_type": "display_data",
          "data": {
            "application/javascript": [
              "window[\"7ac5286c-9da9-11ec-bdc8-0242ac1c0002\"] = google.colab.output.getActiveOutputArea();\n",
              "//# sourceURL=js_d15f11dd60"
            ],
            "text/plain": [
              "<IPython.core.display.Javascript object>"
            ]
          },
          "metadata": {}
        },
        {
          "output_type": "display_data",
          "data": {
            "application/javascript": [
              "window[\"7ac587d0-9da9-11ec-bdc8-0242ac1c0002\"] = document.querySelector(\"#id22-0-0\");\n",
              "//# sourceURL=js_70a34dda5b"
            ],
            "text/plain": [
              "<IPython.core.display.Javascript object>"
            ]
          },
          "metadata": {}
        },
        {
          "output_type": "display_data",
          "data": {
            "application/javascript": [
              "window[\"7ac5eb58-9da9-11ec-bdc8-0242ac1c0002\"] = google.colab.output.setActiveOutputArea(window[\"7ac587d0-9da9-11ec-bdc8-0242ac1c0002\"]);\n",
              "//# sourceURL=js_de295c0056"
            ],
            "text/plain": [
              "<IPython.core.display.Javascript object>"
            ]
          },
          "metadata": {}
        },
        {
          "output_type": "display_data",
          "data": {
            "application/javascript": [
              "window[\"7adc532a-9da9-11ec-bdc8-0242ac1c0002\"] = google.colab.output.setActiveOutputArea(window[\"7ac5286c-9da9-11ec-bdc8-0242ac1c0002\"]);\n",
              "//# sourceURL=js_706d1b3ef4"
            ],
            "text/plain": [
              "<IPython.core.display.Javascript object>"
            ]
          },
          "metadata": {}
        },
        {
          "output_type": "display_data",
          "data": {
            "application/javascript": [
              "window[\"7afcfbac-9da9-11ec-bdc8-0242ac1c0002\"] = google.colab.output.getActiveOutputArea();\n",
              "//# sourceURL=js_55f4f10f06"
            ],
            "text/plain": [
              "<IPython.core.display.Javascript object>"
            ]
          },
          "metadata": {}
        },
        {
          "output_type": "display_data",
          "data": {
            "application/javascript": [
              "window[\"7afd82f2-9da9-11ec-bdc8-0242ac1c0002\"] = document.querySelector(\"#id22-0-0\");\n",
              "//# sourceURL=js_207ce60994"
            ],
            "text/plain": [
              "<IPython.core.display.Javascript object>"
            ]
          },
          "metadata": {}
        },
        {
          "output_type": "display_data",
          "data": {
            "application/javascript": [
              "window[\"7afdfc5a-9da9-11ec-bdc8-0242ac1c0002\"] = google.colab.output.setActiveOutputArea(window[\"7afd82f2-9da9-11ec-bdc8-0242ac1c0002\"]);\n",
              "//# sourceURL=js_398438bd07"
            ],
            "text/plain": [
              "<IPython.core.display.Javascript object>"
            ]
          },
          "metadata": {}
        },
        {
          "output_type": "display_data",
          "data": {
            "application/javascript": [
              "window[\"7b15ba48-9da9-11ec-bdc8-0242ac1c0002\"] = google.colab.output.setActiveOutputArea(window[\"7afcfbac-9da9-11ec-bdc8-0242ac1c0002\"]);\n",
              "//# sourceURL=js_945c1ebf9f"
            ],
            "text/plain": [
              "<IPython.core.display.Javascript object>"
            ]
          },
          "metadata": {}
        },
        {
          "output_type": "display_data",
          "data": {
            "application/javascript": [
              "window[\"7b368016-9da9-11ec-bdc8-0242ac1c0002\"] = google.colab.output.getActiveOutputArea();\n",
              "//# sourceURL=js_72e42e5e71"
            ],
            "text/plain": [
              "<IPython.core.display.Javascript object>"
            ]
          },
          "metadata": {}
        },
        {
          "output_type": "display_data",
          "data": {
            "application/javascript": [
              "window[\"7b36de4e-9da9-11ec-bdc8-0242ac1c0002\"] = document.querySelector(\"#id22-0-0\");\n",
              "//# sourceURL=js_76a4a7fa25"
            ],
            "text/plain": [
              "<IPython.core.display.Javascript object>"
            ]
          },
          "metadata": {}
        },
        {
          "output_type": "display_data",
          "data": {
            "application/javascript": [
              "window[\"7b377214-9da9-11ec-bdc8-0242ac1c0002\"] = google.colab.output.setActiveOutputArea(window[\"7b36de4e-9da9-11ec-bdc8-0242ac1c0002\"]);\n",
              "//# sourceURL=js_5b3c29ed7a"
            ],
            "text/plain": [
              "<IPython.core.display.Javascript object>"
            ]
          },
          "metadata": {}
        },
        {
          "output_type": "display_data",
          "data": {
            "application/javascript": [
              "window[\"7b4f2aa8-9da9-11ec-bdc8-0242ac1c0002\"] = google.colab.output.setActiveOutputArea(window[\"7b368016-9da9-11ec-bdc8-0242ac1c0002\"]);\n",
              "//# sourceURL=js_6698578c8f"
            ],
            "text/plain": [
              "<IPython.core.display.Javascript object>"
            ]
          },
          "metadata": {}
        },
        {
          "output_type": "display_data",
          "data": {
            "application/javascript": [
              "window[\"7b70b916-9da9-11ec-bdc8-0242ac1c0002\"] = google.colab.output.getActiveOutputArea();\n",
              "//# sourceURL=js_386d37368a"
            ],
            "text/plain": [
              "<IPython.core.display.Javascript object>"
            ]
          },
          "metadata": {}
        },
        {
          "output_type": "display_data",
          "data": {
            "application/javascript": [
              "window[\"7b713f4e-9da9-11ec-bdc8-0242ac1c0002\"] = document.querySelector(\"#id22-0-0\");\n",
              "//# sourceURL=js_6c3f9d5a5a"
            ],
            "text/plain": [
              "<IPython.core.display.Javascript object>"
            ]
          },
          "metadata": {}
        },
        {
          "output_type": "display_data",
          "data": {
            "application/javascript": [
              "window[\"7b71a290-9da9-11ec-bdc8-0242ac1c0002\"] = google.colab.output.setActiveOutputArea(window[\"7b713f4e-9da9-11ec-bdc8-0242ac1c0002\"]);\n",
              "//# sourceURL=js_6d12271eaf"
            ],
            "text/plain": [
              "<IPython.core.display.Javascript object>"
            ]
          },
          "metadata": {}
        },
        {
          "output_type": "display_data",
          "data": {
            "application/javascript": [
              "window[\"7b8a3120-9da9-11ec-bdc8-0242ac1c0002\"] = google.colab.output.setActiveOutputArea(window[\"7b70b916-9da9-11ec-bdc8-0242ac1c0002\"]);\n",
              "//# sourceURL=js_a91a50d469"
            ],
            "text/plain": [
              "<IPython.core.display.Javascript object>"
            ]
          },
          "metadata": {}
        },
        {
          "output_type": "display_data",
          "data": {
            "application/javascript": [
              "window[\"7baca2dc-9da9-11ec-bdc8-0242ac1c0002\"] = google.colab.output.getActiveOutputArea();\n",
              "//# sourceURL=js_f7424194eb"
            ],
            "text/plain": [
              "<IPython.core.display.Javascript object>"
            ]
          },
          "metadata": {}
        },
        {
          "output_type": "display_data",
          "data": {
            "application/javascript": [
              "window[\"7bad36e8-9da9-11ec-bdc8-0242ac1c0002\"] = document.querySelector(\"#id22-0-0\");\n",
              "//# sourceURL=js_5b2438d1ee"
            ],
            "text/plain": [
              "<IPython.core.display.Javascript object>"
            ]
          },
          "metadata": {}
        },
        {
          "output_type": "display_data",
          "data": {
            "application/javascript": [
              "window[\"7bae21f2-9da9-11ec-bdc8-0242ac1c0002\"] = google.colab.output.setActiveOutputArea(window[\"7bad36e8-9da9-11ec-bdc8-0242ac1c0002\"]);\n",
              "//# sourceURL=js_de12dbc697"
            ],
            "text/plain": [
              "<IPython.core.display.Javascript object>"
            ]
          },
          "metadata": {}
        },
        {
          "output_type": "display_data",
          "data": {
            "application/javascript": [
              "window[\"7bd2fba8-9da9-11ec-bdc8-0242ac1c0002\"] = google.colab.output.setActiveOutputArea(window[\"7baca2dc-9da9-11ec-bdc8-0242ac1c0002\"]);\n",
              "//# sourceURL=js_967b8b057a"
            ],
            "text/plain": [
              "<IPython.core.display.Javascript object>"
            ]
          },
          "metadata": {}
        },
        {
          "output_type": "display_data",
          "data": {
            "application/javascript": [
              "window[\"7bf53d4e-9da9-11ec-bdc8-0242ac1c0002\"] = google.colab.output.getActiveOutputArea();\n",
              "//# sourceURL=js_001db5b21a"
            ],
            "text/plain": [
              "<IPython.core.display.Javascript object>"
            ]
          },
          "metadata": {}
        },
        {
          "output_type": "display_data",
          "data": {
            "application/javascript": [
              "window[\"7bf59d66-9da9-11ec-bdc8-0242ac1c0002\"] = document.querySelector(\"#id22-0-0\");\n",
              "//# sourceURL=js_dd68a3978d"
            ],
            "text/plain": [
              "<IPython.core.display.Javascript object>"
            ]
          },
          "metadata": {}
        },
        {
          "output_type": "display_data",
          "data": {
            "application/javascript": [
              "window[\"7bf61692-9da9-11ec-bdc8-0242ac1c0002\"] = google.colab.output.setActiveOutputArea(window[\"7bf59d66-9da9-11ec-bdc8-0242ac1c0002\"]);\n",
              "//# sourceURL=js_f1ec7a9569"
            ],
            "text/plain": [
              "<IPython.core.display.Javascript object>"
            ]
          },
          "metadata": {}
        },
        {
          "output_type": "display_data",
          "data": {
            "application/javascript": [
              "window[\"7c0f696c-9da9-11ec-bdc8-0242ac1c0002\"] = google.colab.output.setActiveOutputArea(window[\"7bf53d4e-9da9-11ec-bdc8-0242ac1c0002\"]);\n",
              "//# sourceURL=js_4c65b2df2d"
            ],
            "text/plain": [
              "<IPython.core.display.Javascript object>"
            ]
          },
          "metadata": {}
        },
        {
          "output_type": "display_data",
          "data": {
            "application/javascript": [
              "window[\"7c31ae50-9da9-11ec-bdc8-0242ac1c0002\"] = google.colab.output.getActiveOutputArea();\n",
              "//# sourceURL=js_7238adbdbe"
            ],
            "text/plain": [
              "<IPython.core.display.Javascript object>"
            ]
          },
          "metadata": {}
        },
        {
          "output_type": "display_data",
          "data": {
            "application/javascript": [
              "window[\"7c3206b6-9da9-11ec-bdc8-0242ac1c0002\"] = document.querySelector(\"#id22-0-0\");\n",
              "//# sourceURL=js_72df4bdb01"
            ],
            "text/plain": [
              "<IPython.core.display.Javascript object>"
            ]
          },
          "metadata": {}
        },
        {
          "output_type": "display_data",
          "data": {
            "application/javascript": [
              "window[\"7c32a788-9da9-11ec-bdc8-0242ac1c0002\"] = google.colab.output.setActiveOutputArea(window[\"7c3206b6-9da9-11ec-bdc8-0242ac1c0002\"]);\n",
              "//# sourceURL=js_5c2f00aecc"
            ],
            "text/plain": [
              "<IPython.core.display.Javascript object>"
            ]
          },
          "metadata": {}
        },
        {
          "output_type": "display_data",
          "data": {
            "application/javascript": [
              "window[\"7c4a1972-9da9-11ec-bdc8-0242ac1c0002\"] = google.colab.output.setActiveOutputArea(window[\"7c31ae50-9da9-11ec-bdc8-0242ac1c0002\"]);\n",
              "//# sourceURL=js_a662a152f0"
            ],
            "text/plain": [
              "<IPython.core.display.Javascript object>"
            ]
          },
          "metadata": {}
        },
        {
          "output_type": "display_data",
          "data": {
            "application/javascript": [
              "window[\"7c6b6618-9da9-11ec-bdc8-0242ac1c0002\"] = google.colab.output.getActiveOutputArea();\n",
              "//# sourceURL=js_de061a7307"
            ],
            "text/plain": [
              "<IPython.core.display.Javascript object>"
            ]
          },
          "metadata": {}
        },
        {
          "output_type": "display_data",
          "data": {
            "application/javascript": [
              "window[\"7c6bcb1c-9da9-11ec-bdc8-0242ac1c0002\"] = document.querySelector(\"#id22-0-0\");\n",
              "//# sourceURL=js_98a6c12b45"
            ],
            "text/plain": [
              "<IPython.core.display.Javascript object>"
            ]
          },
          "metadata": {}
        },
        {
          "output_type": "display_data",
          "data": {
            "application/javascript": [
              "window[\"7c6c3f16-9da9-11ec-bdc8-0242ac1c0002\"] = google.colab.output.setActiveOutputArea(window[\"7c6bcb1c-9da9-11ec-bdc8-0242ac1c0002\"]);\n",
              "//# sourceURL=js_9756126fc2"
            ],
            "text/plain": [
              "<IPython.core.display.Javascript object>"
            ]
          },
          "metadata": {}
        },
        {
          "output_type": "display_data",
          "data": {
            "application/javascript": [
              "window[\"7c834cb0-9da9-11ec-bdc8-0242ac1c0002\"] = google.colab.output.setActiveOutputArea(window[\"7c6b6618-9da9-11ec-bdc8-0242ac1c0002\"]);\n",
              "//# sourceURL=js_e475479fdf"
            ],
            "text/plain": [
              "<IPython.core.display.Javascript object>"
            ]
          },
          "metadata": {}
        },
        {
          "output_type": "display_data",
          "data": {
            "application/javascript": [
              "window[\"7ca41436-9da9-11ec-bdc8-0242ac1c0002\"] = google.colab.output.getActiveOutputArea();\n",
              "//# sourceURL=js_78473ee2a9"
            ],
            "text/plain": [
              "<IPython.core.display.Javascript object>"
            ]
          },
          "metadata": {}
        },
        {
          "output_type": "display_data",
          "data": {
            "application/javascript": [
              "window[\"7ca479f8-9da9-11ec-bdc8-0242ac1c0002\"] = document.querySelector(\"#id22-0-0\");\n",
              "//# sourceURL=js_0edcbfdcca"
            ],
            "text/plain": [
              "<IPython.core.display.Javascript object>"
            ]
          },
          "metadata": {}
        },
        {
          "output_type": "display_data",
          "data": {
            "application/javascript": [
              "window[\"7ca4e230-9da9-11ec-bdc8-0242ac1c0002\"] = google.colab.output.setActiveOutputArea(window[\"7ca479f8-9da9-11ec-bdc8-0242ac1c0002\"]);\n",
              "//# sourceURL=js_d5c8f312e3"
            ],
            "text/plain": [
              "<IPython.core.display.Javascript object>"
            ]
          },
          "metadata": {}
        },
        {
          "output_type": "display_data",
          "data": {
            "application/javascript": [
              "window[\"7cbd0bb2-9da9-11ec-bdc8-0242ac1c0002\"] = google.colab.output.setActiveOutputArea(window[\"7ca41436-9da9-11ec-bdc8-0242ac1c0002\"]);\n",
              "//# sourceURL=js_5327997982"
            ],
            "text/plain": [
              "<IPython.core.display.Javascript object>"
            ]
          },
          "metadata": {}
        },
        {
          "output_type": "display_data",
          "data": {
            "application/javascript": [
              "window[\"7cdddf90-9da9-11ec-bdc8-0242ac1c0002\"] = google.colab.output.getActiveOutputArea();\n",
              "//# sourceURL=js_d6460ede78"
            ],
            "text/plain": [
              "<IPython.core.display.Javascript object>"
            ]
          },
          "metadata": {}
        },
        {
          "output_type": "display_data",
          "data": {
            "application/javascript": [
              "window[\"7cde6258-9da9-11ec-bdc8-0242ac1c0002\"] = document.querySelector(\"#id22-0-0\");\n",
              "//# sourceURL=js_6a2e58e93b"
            ],
            "text/plain": [
              "<IPython.core.display.Javascript object>"
            ]
          },
          "metadata": {}
        },
        {
          "output_type": "display_data",
          "data": {
            "application/javascript": [
              "window[\"7cded5c6-9da9-11ec-bdc8-0242ac1c0002\"] = google.colab.output.setActiveOutputArea(window[\"7cde6258-9da9-11ec-bdc8-0242ac1c0002\"]);\n",
              "//# sourceURL=js_cc57949c21"
            ],
            "text/plain": [
              "<IPython.core.display.Javascript object>"
            ]
          },
          "metadata": {}
        },
        {
          "output_type": "display_data",
          "data": {
            "application/javascript": [
              "window[\"7cf878aa-9da9-11ec-bdc8-0242ac1c0002\"] = google.colab.output.setActiveOutputArea(window[\"7cdddf90-9da9-11ec-bdc8-0242ac1c0002\"]);\n",
              "//# sourceURL=js_3e97c9f35d"
            ],
            "text/plain": [
              "<IPython.core.display.Javascript object>"
            ]
          },
          "metadata": {}
        },
        {
          "output_type": "display_data",
          "data": {
            "application/javascript": [
              "window[\"7d1b4ec0-9da9-11ec-bdc8-0242ac1c0002\"] = google.colab.output.getActiveOutputArea();\n",
              "//# sourceURL=js_16cdde4438"
            ],
            "text/plain": [
              "<IPython.core.display.Javascript object>"
            ]
          },
          "metadata": {}
        },
        {
          "output_type": "display_data",
          "data": {
            "application/javascript": [
              "window[\"7d1bc1e8-9da9-11ec-bdc8-0242ac1c0002\"] = document.querySelector(\"#id22-0-0\");\n",
              "//# sourceURL=js_319c2487be"
            ],
            "text/plain": [
              "<IPython.core.display.Javascript object>"
            ]
          },
          "metadata": {}
        },
        {
          "output_type": "display_data",
          "data": {
            "application/javascript": [
              "window[\"7d1c750c-9da9-11ec-bdc8-0242ac1c0002\"] = google.colab.output.setActiveOutputArea(window[\"7d1bc1e8-9da9-11ec-bdc8-0242ac1c0002\"]);\n",
              "//# sourceURL=js_a98f309c3d"
            ],
            "text/plain": [
              "<IPython.core.display.Javascript object>"
            ]
          },
          "metadata": {}
        },
        {
          "output_type": "display_data",
          "data": {
            "application/javascript": [
              "window[\"7d343b42-9da9-11ec-bdc8-0242ac1c0002\"] = google.colab.output.setActiveOutputArea(window[\"7d1b4ec0-9da9-11ec-bdc8-0242ac1c0002\"]);\n",
              "//# sourceURL=js_da4d63ce3c"
            ],
            "text/plain": [
              "<IPython.core.display.Javascript object>"
            ]
          },
          "metadata": {}
        },
        {
          "output_type": "display_data",
          "data": {
            "application/javascript": [
              "window[\"7d552078-9da9-11ec-bdc8-0242ac1c0002\"] = google.colab.output.getActiveOutputArea();\n",
              "//# sourceURL=js_699f1e08f4"
            ],
            "text/plain": [
              "<IPython.core.display.Javascript object>"
            ]
          },
          "metadata": {}
        },
        {
          "output_type": "display_data",
          "data": {
            "application/javascript": [
              "window[\"7d5636ca-9da9-11ec-bdc8-0242ac1c0002\"] = document.querySelector(\"#id22-0-0\");\n",
              "//# sourceURL=js_34bbbcb84d"
            ],
            "text/plain": [
              "<IPython.core.display.Javascript object>"
            ]
          },
          "metadata": {}
        },
        {
          "output_type": "display_data",
          "data": {
            "application/javascript": [
              "window[\"7d56be88-9da9-11ec-bdc8-0242ac1c0002\"] = google.colab.output.setActiveOutputArea(window[\"7d5636ca-9da9-11ec-bdc8-0242ac1c0002\"]);\n",
              "//# sourceURL=js_8b51034a84"
            ],
            "text/plain": [
              "<IPython.core.display.Javascript object>"
            ]
          },
          "metadata": {}
        },
        {
          "output_type": "display_data",
          "data": {
            "application/javascript": [
              "window[\"7d6d913a-9da9-11ec-bdc8-0242ac1c0002\"] = google.colab.output.setActiveOutputArea(window[\"7d552078-9da9-11ec-bdc8-0242ac1c0002\"]);\n",
              "//# sourceURL=js_7ed5a55297"
            ],
            "text/plain": [
              "<IPython.core.display.Javascript object>"
            ]
          },
          "metadata": {}
        },
        {
          "output_type": "display_data",
          "data": {
            "application/javascript": [
              "window[\"7d8e3944-9da9-11ec-bdc8-0242ac1c0002\"] = google.colab.output.getActiveOutputArea();\n",
              "//# sourceURL=js_d7c3cc3be2"
            ],
            "text/plain": [
              "<IPython.core.display.Javascript object>"
            ]
          },
          "metadata": {}
        },
        {
          "output_type": "display_data",
          "data": {
            "application/javascript": [
              "window[\"7d8e931c-9da9-11ec-bdc8-0242ac1c0002\"] = document.querySelector(\"#id22-0-0\");\n",
              "//# sourceURL=js_699bc13c53"
            ],
            "text/plain": [
              "<IPython.core.display.Javascript object>"
            ]
          },
          "metadata": {}
        },
        {
          "output_type": "display_data",
          "data": {
            "application/javascript": [
              "window[\"7d8f13aa-9da9-11ec-bdc8-0242ac1c0002\"] = google.colab.output.setActiveOutputArea(window[\"7d8e931c-9da9-11ec-bdc8-0242ac1c0002\"]);\n",
              "//# sourceURL=js_5613c4bfa6"
            ],
            "text/plain": [
              "<IPython.core.display.Javascript object>"
            ]
          },
          "metadata": {}
        },
        {
          "output_type": "display_data",
          "data": {
            "application/javascript": [
              "window[\"7da711a8-9da9-11ec-bdc8-0242ac1c0002\"] = google.colab.output.setActiveOutputArea(window[\"7d8e3944-9da9-11ec-bdc8-0242ac1c0002\"]);\n",
              "//# sourceURL=js_2ed29cf984"
            ],
            "text/plain": [
              "<IPython.core.display.Javascript object>"
            ]
          },
          "metadata": {}
        },
        {
          "output_type": "display_data",
          "data": {
            "application/javascript": [
              "window[\"7dc8456c-9da9-11ec-bdc8-0242ac1c0002\"] = google.colab.output.getActiveOutputArea();\n",
              "//# sourceURL=js_501b7d866e"
            ],
            "text/plain": [
              "<IPython.core.display.Javascript object>"
            ]
          },
          "metadata": {}
        },
        {
          "output_type": "display_data",
          "data": {
            "application/javascript": [
              "window[\"7dc8aa5c-9da9-11ec-bdc8-0242ac1c0002\"] = document.querySelector(\"#id22-0-0\");\n",
              "//# sourceURL=js_d0bb686951"
            ],
            "text/plain": [
              "<IPython.core.display.Javascript object>"
            ]
          },
          "metadata": {}
        },
        {
          "output_type": "display_data",
          "data": {
            "application/javascript": [
              "window[\"7dc90f74-9da9-11ec-bdc8-0242ac1c0002\"] = google.colab.output.setActiveOutputArea(window[\"7dc8aa5c-9da9-11ec-bdc8-0242ac1c0002\"]);\n",
              "//# sourceURL=js_083f46240b"
            ],
            "text/plain": [
              "<IPython.core.display.Javascript object>"
            ]
          },
          "metadata": {}
        },
        {
          "output_type": "display_data",
          "data": {
            "application/javascript": [
              "window[\"7de072d6-9da9-11ec-bdc8-0242ac1c0002\"] = google.colab.output.setActiveOutputArea(window[\"7dc8456c-9da9-11ec-bdc8-0242ac1c0002\"]);\n",
              "//# sourceURL=js_8cd42047d3"
            ],
            "text/plain": [
              "<IPython.core.display.Javascript object>"
            ]
          },
          "metadata": {}
        },
        {
          "output_type": "display_data",
          "data": {
            "application/javascript": [
              "window[\"7e011bda-9da9-11ec-bdc8-0242ac1c0002\"] = google.colab.output.getActiveOutputArea();\n",
              "//# sourceURL=js_777aed774e"
            ],
            "text/plain": [
              "<IPython.core.display.Javascript object>"
            ]
          },
          "metadata": {}
        },
        {
          "output_type": "display_data",
          "data": {
            "application/javascript": [
              "window[\"7e0186e2-9da9-11ec-bdc8-0242ac1c0002\"] = document.querySelector(\"#id22-0-0\");\n",
              "//# sourceURL=js_531a932a67"
            ],
            "text/plain": [
              "<IPython.core.display.Javascript object>"
            ]
          },
          "metadata": {}
        },
        {
          "output_type": "display_data",
          "data": {
            "application/javascript": [
              "window[\"7e01e9f2-9da9-11ec-bdc8-0242ac1c0002\"] = google.colab.output.setActiveOutputArea(window[\"7e0186e2-9da9-11ec-bdc8-0242ac1c0002\"]);\n",
              "//# sourceURL=js_46be87cec7"
            ],
            "text/plain": [
              "<IPython.core.display.Javascript object>"
            ]
          },
          "metadata": {}
        },
        {
          "output_type": "display_data",
          "data": {
            "application/javascript": [
              "window[\"7e1a1978-9da9-11ec-bdc8-0242ac1c0002\"] = google.colab.output.setActiveOutputArea(window[\"7e011bda-9da9-11ec-bdc8-0242ac1c0002\"]);\n",
              "//# sourceURL=js_7f13ecf4b7"
            ],
            "text/plain": [
              "<IPython.core.display.Javascript object>"
            ]
          },
          "metadata": {}
        },
        {
          "output_type": "display_data",
          "data": {
            "application/javascript": [
              "window[\"7e3ae7e8-9da9-11ec-bdc8-0242ac1c0002\"] = google.colab.output.getActiveOutputArea();\n",
              "//# sourceURL=js_923cfd6c04"
            ],
            "text/plain": [
              "<IPython.core.display.Javascript object>"
            ]
          },
          "metadata": {}
        },
        {
          "output_type": "display_data",
          "data": {
            "application/javascript": [
              "window[\"7e3b3400-9da9-11ec-bdc8-0242ac1c0002\"] = document.querySelector(\"#id22-0-0\");\n",
              "//# sourceURL=js_4788e5b8f9"
            ],
            "text/plain": [
              "<IPython.core.display.Javascript object>"
            ]
          },
          "metadata": {}
        },
        {
          "output_type": "display_data",
          "data": {
            "application/javascript": [
              "window[\"7e3bc3c0-9da9-11ec-bdc8-0242ac1c0002\"] = google.colab.output.setActiveOutputArea(window[\"7e3b3400-9da9-11ec-bdc8-0242ac1c0002\"]);\n",
              "//# sourceURL=js_3ac55a71b7"
            ],
            "text/plain": [
              "<IPython.core.display.Javascript object>"
            ]
          },
          "metadata": {}
        },
        {
          "output_type": "display_data",
          "data": {
            "application/javascript": [
              "window[\"7e533c76-9da9-11ec-bdc8-0242ac1c0002\"] = google.colab.output.setActiveOutputArea(window[\"7e3ae7e8-9da9-11ec-bdc8-0242ac1c0002\"]);\n",
              "//# sourceURL=js_9f92db1b78"
            ],
            "text/plain": [
              "<IPython.core.display.Javascript object>"
            ]
          },
          "metadata": {}
        },
        {
          "output_type": "display_data",
          "data": {
            "application/javascript": [
              "window[\"7e74a1d6-9da9-11ec-bdc8-0242ac1c0002\"] = google.colab.output.getActiveOutputArea();\n",
              "//# sourceURL=js_b67c9a6f00"
            ],
            "text/plain": [
              "<IPython.core.display.Javascript object>"
            ]
          },
          "metadata": {}
        },
        {
          "output_type": "display_data",
          "data": {
            "application/javascript": [
              "window[\"7e756350-9da9-11ec-bdc8-0242ac1c0002\"] = document.querySelector(\"#id22-0-0\");\n",
              "//# sourceURL=js_d88f570d76"
            ],
            "text/plain": [
              "<IPython.core.display.Javascript object>"
            ]
          },
          "metadata": {}
        },
        {
          "output_type": "display_data",
          "data": {
            "application/javascript": [
              "window[\"7e76a274-9da9-11ec-bdc8-0242ac1c0002\"] = google.colab.output.setActiveOutputArea(window[\"7e756350-9da9-11ec-bdc8-0242ac1c0002\"]);\n",
              "//# sourceURL=js_863257f580"
            ],
            "text/plain": [
              "<IPython.core.display.Javascript object>"
            ]
          },
          "metadata": {}
        },
        {
          "output_type": "display_data",
          "data": {
            "application/javascript": [
              "window[\"7e9f8022-9da9-11ec-bdc8-0242ac1c0002\"] = google.colab.output.setActiveOutputArea(window[\"7e74a1d6-9da9-11ec-bdc8-0242ac1c0002\"]);\n",
              "//# sourceURL=js_040a2db2b0"
            ],
            "text/plain": [
              "<IPython.core.display.Javascript object>"
            ]
          },
          "metadata": {}
        },
        {
          "output_type": "display_data",
          "data": {
            "application/javascript": [
              "window[\"7ec0d90c-9da9-11ec-bdc8-0242ac1c0002\"] = google.colab.output.getActiveOutputArea();\n",
              "//# sourceURL=js_3bbc7d68b5"
            ],
            "text/plain": [
              "<IPython.core.display.Javascript object>"
            ]
          },
          "metadata": {}
        },
        {
          "output_type": "display_data",
          "data": {
            "application/javascript": [
              "window[\"7ec141d0-9da9-11ec-bdc8-0242ac1c0002\"] = document.querySelector(\"#id22-0-0\");\n",
              "//# sourceURL=js_f04f29a763"
            ],
            "text/plain": [
              "<IPython.core.display.Javascript object>"
            ]
          },
          "metadata": {}
        },
        {
          "output_type": "display_data",
          "data": {
            "application/javascript": [
              "window[\"7ec1a5a8-9da9-11ec-bdc8-0242ac1c0002\"] = google.colab.output.setActiveOutputArea(window[\"7ec141d0-9da9-11ec-bdc8-0242ac1c0002\"]);\n",
              "//# sourceURL=js_ee4cd6c5c6"
            ],
            "text/plain": [
              "<IPython.core.display.Javascript object>"
            ]
          },
          "metadata": {}
        },
        {
          "output_type": "display_data",
          "data": {
            "application/javascript": [
              "window[\"7efc9578-9da9-11ec-bdc8-0242ac1c0002\"] = google.colab.output.setActiveOutputArea(window[\"7ec0d90c-9da9-11ec-bdc8-0242ac1c0002\"]);\n",
              "//# sourceURL=js_a05fce2eaf"
            ],
            "text/plain": [
              "<IPython.core.display.Javascript object>"
            ]
          },
          "metadata": {}
        },
        {
          "output_type": "display_data",
          "data": {
            "application/javascript": [
              "window[\"7f1e1a7c-9da9-11ec-bdc8-0242ac1c0002\"] = google.colab.output.getActiveOutputArea();\n",
              "//# sourceURL=js_3ac144bd02"
            ],
            "text/plain": [
              "<IPython.core.display.Javascript object>"
            ]
          },
          "metadata": {}
        },
        {
          "output_type": "display_data",
          "data": {
            "application/javascript": [
              "window[\"7f1e7dbe-9da9-11ec-bdc8-0242ac1c0002\"] = document.querySelector(\"#id22-0-0\");\n",
              "//# sourceURL=js_1e44ee48b7"
            ],
            "text/plain": [
              "<IPython.core.display.Javascript object>"
            ]
          },
          "metadata": {}
        },
        {
          "output_type": "display_data",
          "data": {
            "application/javascript": [
              "window[\"7f1edd22-9da9-11ec-bdc8-0242ac1c0002\"] = google.colab.output.setActiveOutputArea(window[\"7f1e7dbe-9da9-11ec-bdc8-0242ac1c0002\"]);\n",
              "//# sourceURL=js_eef7daed05"
            ],
            "text/plain": [
              "<IPython.core.display.Javascript object>"
            ]
          },
          "metadata": {}
        },
        {
          "output_type": "display_data",
          "data": {
            "application/javascript": [
              "window[\"7f367ce8-9da9-11ec-bdc8-0242ac1c0002\"] = google.colab.output.setActiveOutputArea(window[\"7f1e1a7c-9da9-11ec-bdc8-0242ac1c0002\"]);\n",
              "//# sourceURL=js_97f778e1a0"
            ],
            "text/plain": [
              "<IPython.core.display.Javascript object>"
            ]
          },
          "metadata": {}
        },
        {
          "output_type": "display_data",
          "data": {
            "application/javascript": [
              "window[\"7f570486-9da9-11ec-bdc8-0242ac1c0002\"] = google.colab.output.getActiveOutputArea();\n",
              "//# sourceURL=js_a97840dc68"
            ],
            "text/plain": [
              "<IPython.core.display.Javascript object>"
            ]
          },
          "metadata": {}
        },
        {
          "output_type": "display_data",
          "data": {
            "application/javascript": [
              "window[\"7f576854-9da9-11ec-bdc8-0242ac1c0002\"] = document.querySelector(\"#id22-0-0\");\n",
              "//# sourceURL=js_49abd16c5b"
            ],
            "text/plain": [
              "<IPython.core.display.Javascript object>"
            ]
          },
          "metadata": {}
        },
        {
          "output_type": "display_data",
          "data": {
            "application/javascript": [
              "window[\"7f57c394-9da9-11ec-bdc8-0242ac1c0002\"] = google.colab.output.setActiveOutputArea(window[\"7f576854-9da9-11ec-bdc8-0242ac1c0002\"]);\n",
              "//# sourceURL=js_455b9b1f9a"
            ],
            "text/plain": [
              "<IPython.core.display.Javascript object>"
            ]
          },
          "metadata": {}
        },
        {
          "output_type": "display_data",
          "data": {
            "application/javascript": [
              "window[\"7f784362-9da9-11ec-bdc8-0242ac1c0002\"] = google.colab.output.setActiveOutputArea(window[\"7f570486-9da9-11ec-bdc8-0242ac1c0002\"]);\n",
              "//# sourceURL=js_bd06deb9ad"
            ],
            "text/plain": [
              "<IPython.core.display.Javascript object>"
            ]
          },
          "metadata": {}
        },
        {
          "output_type": "display_data",
          "data": {
            "application/javascript": [
              "window[\"7f9a7a4a-9da9-11ec-bdc8-0242ac1c0002\"] = google.colab.output.getActiveOutputArea();\n",
              "//# sourceURL=js_cefe8ac5aa"
            ],
            "text/plain": [
              "<IPython.core.display.Javascript object>"
            ]
          },
          "metadata": {}
        },
        {
          "output_type": "display_data",
          "data": {
            "application/javascript": [
              "window[\"7f9af236-9da9-11ec-bdc8-0242ac1c0002\"] = document.querySelector(\"#id22-0-0\");\n",
              "//# sourceURL=js_28c9ff3548"
            ],
            "text/plain": [
              "<IPython.core.display.Javascript object>"
            ]
          },
          "metadata": {}
        },
        {
          "output_type": "display_data",
          "data": {
            "application/javascript": [
              "window[\"7f9c1fbc-9da9-11ec-bdc8-0242ac1c0002\"] = google.colab.output.setActiveOutputArea(window[\"7f9af236-9da9-11ec-bdc8-0242ac1c0002\"]);\n",
              "//# sourceURL=js_83096c513a"
            ],
            "text/plain": [
              "<IPython.core.display.Javascript object>"
            ]
          },
          "metadata": {}
        },
        {
          "output_type": "display_data",
          "data": {
            "application/javascript": [
              "window[\"7fb76bf0-9da9-11ec-bdc8-0242ac1c0002\"] = google.colab.output.setActiveOutputArea(window[\"7f9a7a4a-9da9-11ec-bdc8-0242ac1c0002\"]);\n",
              "//# sourceURL=js_5035fff47a"
            ],
            "text/plain": [
              "<IPython.core.display.Javascript object>"
            ]
          },
          "metadata": {}
        },
        {
          "output_type": "display_data",
          "data": {
            "application/javascript": [
              "window[\"7fd80612-9da9-11ec-bdc8-0242ac1c0002\"] = google.colab.output.getActiveOutputArea();\n",
              "//# sourceURL=js_e5c4f53a28"
            ],
            "text/plain": [
              "<IPython.core.display.Javascript object>"
            ]
          },
          "metadata": {}
        },
        {
          "output_type": "display_data",
          "data": {
            "application/javascript": [
              "window[\"7fd84b72-9da9-11ec-bdc8-0242ac1c0002\"] = document.querySelector(\"#id22-0-0\");\n",
              "//# sourceURL=js_0d760923c2"
            ],
            "text/plain": [
              "<IPython.core.display.Javascript object>"
            ]
          },
          "metadata": {}
        },
        {
          "output_type": "display_data",
          "data": {
            "application/javascript": [
              "window[\"7fd8e316-9da9-11ec-bdc8-0242ac1c0002\"] = google.colab.output.setActiveOutputArea(window[\"7fd84b72-9da9-11ec-bdc8-0242ac1c0002\"]);\n",
              "//# sourceURL=js_95d8cfb737"
            ],
            "text/plain": [
              "<IPython.core.display.Javascript object>"
            ]
          },
          "metadata": {}
        },
        {
          "output_type": "display_data",
          "data": {
            "application/javascript": [
              "window[\"7ff24a86-9da9-11ec-bdc8-0242ac1c0002\"] = google.colab.output.setActiveOutputArea(window[\"7fd80612-9da9-11ec-bdc8-0242ac1c0002\"]);\n",
              "//# sourceURL=js_9497655cd8"
            ],
            "text/plain": [
              "<IPython.core.display.Javascript object>"
            ]
          },
          "metadata": {}
        },
        {
          "output_type": "display_data",
          "data": {
            "application/javascript": [
              "window[\"8257974a-9da9-11ec-bdc8-0242ac1c0002\"] = google.colab.output.getActiveOutputArea();\n",
              "//# sourceURL=js_8ec9eac660"
            ],
            "text/plain": [
              "<IPython.core.display.Javascript object>"
            ]
          },
          "metadata": {}
        },
        {
          "output_type": "display_data",
          "data": {
            "application/javascript": [
              "window[\"82584f64-9da9-11ec-bdc8-0242ac1c0002\"] = document.querySelector(\"#id22-0-0\");\n",
              "//# sourceURL=js_6e8cb30b59"
            ],
            "text/plain": [
              "<IPython.core.display.Javascript object>"
            ]
          },
          "metadata": {}
        },
        {
          "output_type": "display_data",
          "data": {
            "application/javascript": [
              "window[\"8258a89c-9da9-11ec-bdc8-0242ac1c0002\"] = google.colab.output.setActiveOutputArea(window[\"82584f64-9da9-11ec-bdc8-0242ac1c0002\"]);\n",
              "//# sourceURL=js_1cba43d57c"
            ],
            "text/plain": [
              "<IPython.core.display.Javascript object>"
            ]
          },
          "metadata": {}
        },
        {
          "output_type": "display_data",
          "data": {
            "application/javascript": [
              "window[\"826f8f94-9da9-11ec-bdc8-0242ac1c0002\"] = google.colab.output.setActiveOutputArea(window[\"8257974a-9da9-11ec-bdc8-0242ac1c0002\"]);\n",
              "//# sourceURL=js_653d2a5f2c"
            ],
            "text/plain": [
              "<IPython.core.display.Javascript object>"
            ]
          },
          "metadata": {}
        },
        {
          "output_type": "display_data",
          "data": {
            "application/javascript": [
              "window[\"82903d52-9da9-11ec-bdc8-0242ac1c0002\"] = google.colab.output.getActiveOutputArea();\n",
              "//# sourceURL=js_e00472dc92"
            ],
            "text/plain": [
              "<IPython.core.display.Javascript object>"
            ]
          },
          "metadata": {}
        },
        {
          "output_type": "display_data",
          "data": {
            "application/javascript": [
              "window[\"8290a288-9da9-11ec-bdc8-0242ac1c0002\"] = document.querySelector(\"#id22-0-0\");\n",
              "//# sourceURL=js_05fa0176d3"
            ],
            "text/plain": [
              "<IPython.core.display.Javascript object>"
            ]
          },
          "metadata": {}
        },
        {
          "output_type": "display_data",
          "data": {
            "application/javascript": [
              "window[\"82910386-9da9-11ec-bdc8-0242ac1c0002\"] = google.colab.output.setActiveOutputArea(window[\"8290a288-9da9-11ec-bdc8-0242ac1c0002\"]);\n",
              "//# sourceURL=js_c634b76073"
            ],
            "text/plain": [
              "<IPython.core.display.Javascript object>"
            ]
          },
          "metadata": {}
        },
        {
          "output_type": "display_data",
          "data": {
            "application/javascript": [
              "window[\"82a90058-9da9-11ec-bdc8-0242ac1c0002\"] = google.colab.output.setActiveOutputArea(window[\"82903d52-9da9-11ec-bdc8-0242ac1c0002\"]);\n",
              "//# sourceURL=js_088f02adfb"
            ],
            "text/plain": [
              "<IPython.core.display.Javascript object>"
            ]
          },
          "metadata": {}
        },
        {
          "output_type": "display_data",
          "data": {
            "application/javascript": [
              "window[\"82c98f80-9da9-11ec-bdc8-0242ac1c0002\"] = google.colab.output.getActiveOutputArea();\n",
              "//# sourceURL=js_6add0895dd"
            ],
            "text/plain": [
              "<IPython.core.display.Javascript object>"
            ]
          },
          "metadata": {}
        },
        {
          "output_type": "display_data",
          "data": {
            "application/javascript": [
              "window[\"82c9d88c-9da9-11ec-bdc8-0242ac1c0002\"] = document.querySelector(\"#id22-0-0\");\n",
              "//# sourceURL=js_8e9631fd75"
            ],
            "text/plain": [
              "<IPython.core.display.Javascript object>"
            ]
          },
          "metadata": {}
        },
        {
          "output_type": "display_data",
          "data": {
            "application/javascript": [
              "window[\"82ca2ad0-9da9-11ec-bdc8-0242ac1c0002\"] = google.colab.output.setActiveOutputArea(window[\"82c9d88c-9da9-11ec-bdc8-0242ac1c0002\"]);\n",
              "//# sourceURL=js_dd2e755c82"
            ],
            "text/plain": [
              "<IPython.core.display.Javascript object>"
            ]
          },
          "metadata": {}
        },
        {
          "output_type": "display_data",
          "data": {
            "application/javascript": [
              "window[\"82e2a178-9da9-11ec-bdc8-0242ac1c0002\"] = google.colab.output.setActiveOutputArea(window[\"82c98f80-9da9-11ec-bdc8-0242ac1c0002\"]);\n",
              "//# sourceURL=js_6297420d8f"
            ],
            "text/plain": [
              "<IPython.core.display.Javascript object>"
            ]
          },
          "metadata": {}
        },
        {
          "output_type": "display_data",
          "data": {
            "application/javascript": [
              "window[\"830343a6-9da9-11ec-bdc8-0242ac1c0002\"] = google.colab.output.getActiveOutputArea();\n",
              "//# sourceURL=js_52b09b1191"
            ],
            "text/plain": [
              "<IPython.core.display.Javascript object>"
            ]
          },
          "metadata": {}
        },
        {
          "output_type": "display_data",
          "data": {
            "application/javascript": [
              "window[\"83039f0e-9da9-11ec-bdc8-0242ac1c0002\"] = document.querySelector(\"#id22-0-0\");\n",
              "//# sourceURL=js_5ffff76384"
            ],
            "text/plain": [
              "<IPython.core.display.Javascript object>"
            ]
          },
          "metadata": {}
        },
        {
          "output_type": "display_data",
          "data": {
            "application/javascript": [
              "window[\"8303f918-9da9-11ec-bdc8-0242ac1c0002\"] = google.colab.output.setActiveOutputArea(window[\"83039f0e-9da9-11ec-bdc8-0242ac1c0002\"]);\n",
              "//# sourceURL=js_7e7fc451f9"
            ],
            "text/plain": [
              "<IPython.core.display.Javascript object>"
            ]
          },
          "metadata": {}
        },
        {
          "output_type": "display_data",
          "data": {
            "application/javascript": [
              "window[\"831d70f0-9da9-11ec-bdc8-0242ac1c0002\"] = google.colab.output.setActiveOutputArea(window[\"830343a6-9da9-11ec-bdc8-0242ac1c0002\"]);\n",
              "//# sourceURL=js_29d2373d38"
            ],
            "text/plain": [
              "<IPython.core.display.Javascript object>"
            ]
          },
          "metadata": {}
        },
        {
          "output_type": "display_data",
          "data": {
            "application/javascript": [
              "window[\"833dfc08-9da9-11ec-bdc8-0242ac1c0002\"] = google.colab.output.getActiveOutputArea();\n",
              "//# sourceURL=js_6dab9c32dd"
            ],
            "text/plain": [
              "<IPython.core.display.Javascript object>"
            ]
          },
          "metadata": {}
        },
        {
          "output_type": "display_data",
          "data": {
            "application/javascript": [
              "window[\"833e5860-9da9-11ec-bdc8-0242ac1c0002\"] = document.querySelector(\"#id22-0-0\");\n",
              "//# sourceURL=js_6188ad4ffd"
            ],
            "text/plain": [
              "<IPython.core.display.Javascript object>"
            ]
          },
          "metadata": {}
        },
        {
          "output_type": "display_data",
          "data": {
            "application/javascript": [
              "window[\"833eb8aa-9da9-11ec-bdc8-0242ac1c0002\"] = google.colab.output.setActiveOutputArea(window[\"833e5860-9da9-11ec-bdc8-0242ac1c0002\"]);\n",
              "//# sourceURL=js_1ca78c2b48"
            ],
            "text/plain": [
              "<IPython.core.display.Javascript object>"
            ]
          },
          "metadata": {}
        },
        {
          "output_type": "display_data",
          "data": {
            "application/javascript": [
              "window[\"8356dae8-9da9-11ec-bdc8-0242ac1c0002\"] = google.colab.output.setActiveOutputArea(window[\"833dfc08-9da9-11ec-bdc8-0242ac1c0002\"]);\n",
              "//# sourceURL=js_0ac882fe14"
            ],
            "text/plain": [
              "<IPython.core.display.Javascript object>"
            ]
          },
          "metadata": {}
        },
        {
          "output_type": "display_data",
          "data": {
            "application/javascript": [
              "window[\"837753b8-9da9-11ec-bdc8-0242ac1c0002\"] = google.colab.output.getActiveOutputArea();\n",
              "//# sourceURL=js_634b2f5fbd"
            ],
            "text/plain": [
              "<IPython.core.display.Javascript object>"
            ]
          },
          "metadata": {}
        },
        {
          "output_type": "display_data",
          "data": {
            "application/javascript": [
              "window[\"8377b592-9da9-11ec-bdc8-0242ac1c0002\"] = document.querySelector(\"#id22-0-0\");\n",
              "//# sourceURL=js_c819f55cd4"
            ],
            "text/plain": [
              "<IPython.core.display.Javascript object>"
            ]
          },
          "metadata": {}
        },
        {
          "output_type": "display_data",
          "data": {
            "application/javascript": [
              "window[\"83781bfe-9da9-11ec-bdc8-0242ac1c0002\"] = google.colab.output.setActiveOutputArea(window[\"8377b592-9da9-11ec-bdc8-0242ac1c0002\"]);\n",
              "//# sourceURL=js_53cf428478"
            ],
            "text/plain": [
              "<IPython.core.display.Javascript object>"
            ]
          },
          "metadata": {}
        },
        {
          "output_type": "display_data",
          "data": {
            "application/javascript": [
              "window[\"839036f8-9da9-11ec-bdc8-0242ac1c0002\"] = google.colab.output.setActiveOutputArea(window[\"837753b8-9da9-11ec-bdc8-0242ac1c0002\"]);\n",
              "//# sourceURL=js_eb9c534a3d"
            ],
            "text/plain": [
              "<IPython.core.display.Javascript object>"
            ]
          },
          "metadata": {}
        },
        {
          "output_type": "display_data",
          "data": {
            "application/javascript": [
              "window[\"83b0e77c-9da9-11ec-bdc8-0242ac1c0002\"] = google.colab.output.getActiveOutputArea();\n",
              "//# sourceURL=js_c1d311b885"
            ],
            "text/plain": [
              "<IPython.core.display.Javascript object>"
            ]
          },
          "metadata": {}
        },
        {
          "output_type": "display_data",
          "data": {
            "application/javascript": [
              "window[\"83b1449c-9da9-11ec-bdc8-0242ac1c0002\"] = document.querySelector(\"#id22-0-0\");\n",
              "//# sourceURL=js_e69408a2ed"
            ],
            "text/plain": [
              "<IPython.core.display.Javascript object>"
            ]
          },
          "metadata": {}
        },
        {
          "output_type": "display_data",
          "data": {
            "application/javascript": [
              "window[\"83b1aafe-9da9-11ec-bdc8-0242ac1c0002\"] = google.colab.output.setActiveOutputArea(window[\"83b1449c-9da9-11ec-bdc8-0242ac1c0002\"]);\n",
              "//# sourceURL=js_d405af77a8"
            ],
            "text/plain": [
              "<IPython.core.display.Javascript object>"
            ]
          },
          "metadata": {}
        },
        {
          "output_type": "display_data",
          "data": {
            "application/javascript": [
              "window[\"83c94c2c-9da9-11ec-bdc8-0242ac1c0002\"] = google.colab.output.setActiveOutputArea(window[\"83b0e77c-9da9-11ec-bdc8-0242ac1c0002\"]);\n",
              "//# sourceURL=js_b814423a9b"
            ],
            "text/plain": [
              "<IPython.core.display.Javascript object>"
            ]
          },
          "metadata": {}
        },
        {
          "output_type": "display_data",
          "data": {
            "application/javascript": [
              "window[\"83e9f062-9da9-11ec-bdc8-0242ac1c0002\"] = google.colab.output.getActiveOutputArea();\n",
              "//# sourceURL=js_af30700429"
            ],
            "text/plain": [
              "<IPython.core.display.Javascript object>"
            ]
          },
          "metadata": {}
        },
        {
          "output_type": "display_data",
          "data": {
            "application/javascript": [
              "window[\"83ead5ae-9da9-11ec-bdc8-0242ac1c0002\"] = document.querySelector(\"#id22-0-0\");\n",
              "//# sourceURL=js_0274b18fd1"
            ],
            "text/plain": [
              "<IPython.core.display.Javascript object>"
            ]
          },
          "metadata": {}
        },
        {
          "output_type": "display_data",
          "data": {
            "application/javascript": [
              "window[\"83eb3756-9da9-11ec-bdc8-0242ac1c0002\"] = google.colab.output.setActiveOutputArea(window[\"83ead5ae-9da9-11ec-bdc8-0242ac1c0002\"]);\n",
              "//# sourceURL=js_c2507e89ff"
            ],
            "text/plain": [
              "<IPython.core.display.Javascript object>"
            ]
          },
          "metadata": {}
        },
        {
          "output_type": "display_data",
          "data": {
            "application/javascript": [
              "window[\"840380f4-9da9-11ec-bdc8-0242ac1c0002\"] = google.colab.output.setActiveOutputArea(window[\"83e9f062-9da9-11ec-bdc8-0242ac1c0002\"]);\n",
              "//# sourceURL=js_d3f193280b"
            ],
            "text/plain": [
              "<IPython.core.display.Javascript object>"
            ]
          },
          "metadata": {}
        },
        {
          "output_type": "display_data",
          "data": {
            "application/javascript": [
              "window[\"8424750c-9da9-11ec-bdc8-0242ac1c0002\"] = google.colab.output.getActiveOutputArea();\n",
              "//# sourceURL=js_9a64453228"
            ],
            "text/plain": [
              "<IPython.core.display.Javascript object>"
            ]
          },
          "metadata": {}
        },
        {
          "output_type": "display_data",
          "data": {
            "application/javascript": [
              "window[\"84251ff2-9da9-11ec-bdc8-0242ac1c0002\"] = document.querySelector(\"#id22-0-0\");\n",
              "//# sourceURL=js_a9a24882ed"
            ],
            "text/plain": [
              "<IPython.core.display.Javascript object>"
            ]
          },
          "metadata": {}
        },
        {
          "output_type": "display_data",
          "data": {
            "application/javascript": [
              "window[\"842585c8-9da9-11ec-bdc8-0242ac1c0002\"] = google.colab.output.setActiveOutputArea(window[\"84251ff2-9da9-11ec-bdc8-0242ac1c0002\"]);\n",
              "//# sourceURL=js_b57ba10d1d"
            ],
            "text/plain": [
              "<IPython.core.display.Javascript object>"
            ]
          },
          "metadata": {}
        },
        {
          "output_type": "display_data",
          "data": {
            "application/javascript": [
              "window[\"8449dafe-9da9-11ec-bdc8-0242ac1c0002\"] = google.colab.output.setActiveOutputArea(window[\"8424750c-9da9-11ec-bdc8-0242ac1c0002\"]);\n",
              "//# sourceURL=js_a600e426eb"
            ],
            "text/plain": [
              "<IPython.core.display.Javascript object>"
            ]
          },
          "metadata": {}
        },
        {
          "output_type": "display_data",
          "data": {
            "application/javascript": [
              "window[\"846b5508-9da9-11ec-bdc8-0242ac1c0002\"] = google.colab.output.getActiveOutputArea();\n",
              "//# sourceURL=js_7c77076e05"
            ],
            "text/plain": [
              "<IPython.core.display.Javascript object>"
            ]
          },
          "metadata": {}
        },
        {
          "output_type": "display_data",
          "data": {
            "application/javascript": [
              "window[\"846b9658-9da9-11ec-bdc8-0242ac1c0002\"] = document.querySelector(\"#id22-0-0\");\n",
              "//# sourceURL=js_abd0690c04"
            ],
            "text/plain": [
              "<IPython.core.display.Javascript object>"
            ]
          },
          "metadata": {}
        },
        {
          "output_type": "display_data",
          "data": {
            "application/javascript": [
              "window[\"846bd456-9da9-11ec-bdc8-0242ac1c0002\"] = google.colab.output.setActiveOutputArea(window[\"846b9658-9da9-11ec-bdc8-0242ac1c0002\"]);\n",
              "//# sourceURL=js_42e7afd282"
            ],
            "text/plain": [
              "<IPython.core.display.Javascript object>"
            ]
          },
          "metadata": {}
        },
        {
          "output_type": "display_data",
          "data": {
            "application/javascript": [
              "window[\"8484879e-9da9-11ec-bdc8-0242ac1c0002\"] = google.colab.output.setActiveOutputArea(window[\"846b5508-9da9-11ec-bdc8-0242ac1c0002\"]);\n",
              "//# sourceURL=js_f91219bcc2"
            ],
            "text/plain": [
              "<IPython.core.display.Javascript object>"
            ]
          },
          "metadata": {}
        },
        {
          "output_type": "display_data",
          "data": {
            "application/javascript": [
              "window[\"84a54178-9da9-11ec-bdc8-0242ac1c0002\"] = google.colab.output.getActiveOutputArea();\n",
              "//# sourceURL=js_e47e1af46f"
            ],
            "text/plain": [
              "<IPython.core.display.Javascript object>"
            ]
          },
          "metadata": {}
        },
        {
          "output_type": "display_data",
          "data": {
            "application/javascript": [
              "window[\"84a61832-9da9-11ec-bdc8-0242ac1c0002\"] = document.querySelector(\"#id22-0-0\");\n",
              "//# sourceURL=js_b848502853"
            ],
            "text/plain": [
              "<IPython.core.display.Javascript object>"
            ]
          },
          "metadata": {}
        },
        {
          "output_type": "display_data",
          "data": {
            "application/javascript": [
              "window[\"84a67106-9da9-11ec-bdc8-0242ac1c0002\"] = google.colab.output.setActiveOutputArea(window[\"84a61832-9da9-11ec-bdc8-0242ac1c0002\"]);\n",
              "//# sourceURL=js_1a914a350d"
            ],
            "text/plain": [
              "<IPython.core.display.Javascript object>"
            ]
          },
          "metadata": {}
        },
        {
          "output_type": "display_data",
          "data": {
            "application/javascript": [
              "window[\"84bfb01c-9da9-11ec-bdc8-0242ac1c0002\"] = google.colab.output.setActiveOutputArea(window[\"84a54178-9da9-11ec-bdc8-0242ac1c0002\"]);\n",
              "//# sourceURL=js_49519c07ce"
            ],
            "text/plain": [
              "<IPython.core.display.Javascript object>"
            ]
          },
          "metadata": {}
        },
        {
          "output_type": "display_data",
          "data": {
            "application/javascript": [
              "window[\"84e05a42-9da9-11ec-bdc8-0242ac1c0002\"] = google.colab.output.getActiveOutputArea();\n",
              "//# sourceURL=js_fb3685c6ed"
            ],
            "text/plain": [
              "<IPython.core.display.Javascript object>"
            ]
          },
          "metadata": {}
        },
        {
          "output_type": "display_data",
          "data": {
            "application/javascript": [
              "window[\"84e0b5e6-9da9-11ec-bdc8-0242ac1c0002\"] = document.querySelector(\"#id22-0-0\");\n",
              "//# sourceURL=js_800bb2db74"
            ],
            "text/plain": [
              "<IPython.core.display.Javascript object>"
            ]
          },
          "metadata": {}
        },
        {
          "output_type": "display_data",
          "data": {
            "application/javascript": [
              "window[\"84e1184c-9da9-11ec-bdc8-0242ac1c0002\"] = google.colab.output.setActiveOutputArea(window[\"84e0b5e6-9da9-11ec-bdc8-0242ac1c0002\"]);\n",
              "//# sourceURL=js_9336004137"
            ],
            "text/plain": [
              "<IPython.core.display.Javascript object>"
            ]
          },
          "metadata": {}
        },
        {
          "output_type": "display_data",
          "data": {
            "application/javascript": [
              "window[\"84fb1fee-9da9-11ec-bdc8-0242ac1c0002\"] = google.colab.output.setActiveOutputArea(window[\"84e05a42-9da9-11ec-bdc8-0242ac1c0002\"]);\n",
              "//# sourceURL=js_1893012cad"
            ],
            "text/plain": [
              "<IPython.core.display.Javascript object>"
            ]
          },
          "metadata": {}
        },
        {
          "output_type": "display_data",
          "data": {
            "application/javascript": [
              "window[\"851bbad8-9da9-11ec-bdc8-0242ac1c0002\"] = google.colab.output.getActiveOutputArea();\n",
              "//# sourceURL=js_c286fe4652"
            ],
            "text/plain": [
              "<IPython.core.display.Javascript object>"
            ]
          },
          "metadata": {}
        },
        {
          "output_type": "display_data",
          "data": {
            "application/javascript": [
              "window[\"851c15aa-9da9-11ec-bdc8-0242ac1c0002\"] = document.querySelector(\"#id22-0-0\");\n",
              "//# sourceURL=js_ae85ef278b"
            ],
            "text/plain": [
              "<IPython.core.display.Javascript object>"
            ]
          },
          "metadata": {}
        },
        {
          "output_type": "display_data",
          "data": {
            "application/javascript": [
              "window[\"851c9d18-9da9-11ec-bdc8-0242ac1c0002\"] = google.colab.output.setActiveOutputArea(window[\"851c15aa-9da9-11ec-bdc8-0242ac1c0002\"]);\n",
              "//# sourceURL=js_ffecab8e27"
            ],
            "text/plain": [
              "<IPython.core.display.Javascript object>"
            ]
          },
          "metadata": {}
        },
        {
          "output_type": "display_data",
          "data": {
            "application/javascript": [
              "window[\"85351672-9da9-11ec-bdc8-0242ac1c0002\"] = google.colab.output.setActiveOutputArea(window[\"851bbad8-9da9-11ec-bdc8-0242ac1c0002\"]);\n",
              "//# sourceURL=js_c179b2a368"
            ],
            "text/plain": [
              "<IPython.core.display.Javascript object>"
            ]
          },
          "metadata": {}
        },
        {
          "output_type": "display_data",
          "data": {
            "application/javascript": [
              "window[\"8555d7ae-9da9-11ec-bdc8-0242ac1c0002\"] = google.colab.output.getActiveOutputArea();\n",
              "//# sourceURL=js_5559b4db21"
            ],
            "text/plain": [
              "<IPython.core.display.Javascript object>"
            ]
          },
          "metadata": {}
        },
        {
          "output_type": "display_data",
          "data": {
            "application/javascript": [
              "window[\"85563104-9da9-11ec-bdc8-0242ac1c0002\"] = document.querySelector(\"#id22-0-0\");\n",
              "//# sourceURL=js_93445435aa"
            ],
            "text/plain": [
              "<IPython.core.display.Javascript object>"
            ]
          },
          "metadata": {}
        },
        {
          "output_type": "display_data",
          "data": {
            "application/javascript": [
              "window[\"85569770-9da9-11ec-bdc8-0242ac1c0002\"] = google.colab.output.setActiveOutputArea(window[\"85563104-9da9-11ec-bdc8-0242ac1c0002\"]);\n",
              "//# sourceURL=js_190638b009"
            ],
            "text/plain": [
              "<IPython.core.display.Javascript object>"
            ]
          },
          "metadata": {}
        },
        {
          "output_type": "display_data",
          "data": {
            "application/javascript": [
              "window[\"856eb7a6-9da9-11ec-bdc8-0242ac1c0002\"] = google.colab.output.setActiveOutputArea(window[\"8555d7ae-9da9-11ec-bdc8-0242ac1c0002\"]);\n",
              "//# sourceURL=js_8923fa840c"
            ],
            "text/plain": [
              "<IPython.core.display.Javascript object>"
            ]
          },
          "metadata": {}
        },
        {
          "output_type": "display_data",
          "data": {
            "application/javascript": [
              "window[\"858f3dc8-9da9-11ec-bdc8-0242ac1c0002\"] = google.colab.output.getActiveOutputArea();\n",
              "//# sourceURL=js_39fdcd3552"
            ],
            "text/plain": [
              "<IPython.core.display.Javascript object>"
            ]
          },
          "metadata": {}
        },
        {
          "output_type": "display_data",
          "data": {
            "application/javascript": [
              "window[\"858f993a-9da9-11ec-bdc8-0242ac1c0002\"] = document.querySelector(\"#id22-0-0\");\n",
              "//# sourceURL=js_3e57c08f42"
            ],
            "text/plain": [
              "<IPython.core.display.Javascript object>"
            ]
          },
          "metadata": {}
        },
        {
          "output_type": "display_data",
          "data": {
            "application/javascript": [
              "window[\"858ff182-9da9-11ec-bdc8-0242ac1c0002\"] = google.colab.output.setActiveOutputArea(window[\"858f993a-9da9-11ec-bdc8-0242ac1c0002\"]);\n",
              "//# sourceURL=js_038643f61b"
            ],
            "text/plain": [
              "<IPython.core.display.Javascript object>"
            ]
          },
          "metadata": {}
        },
        {
          "output_type": "display_data",
          "data": {
            "application/javascript": [
              "window[\"85aa7a3e-9da9-11ec-bdc8-0242ac1c0002\"] = google.colab.output.setActiveOutputArea(window[\"858f3dc8-9da9-11ec-bdc8-0242ac1c0002\"]);\n",
              "//# sourceURL=js_46d104cdd3"
            ],
            "text/plain": [
              "<IPython.core.display.Javascript object>"
            ]
          },
          "metadata": {}
        },
        {
          "output_type": "display_data",
          "data": {
            "application/javascript": [
              "window[\"85cd1aee-9da9-11ec-bdc8-0242ac1c0002\"] = google.colab.output.getActiveOutputArea();\n",
              "//# sourceURL=js_8a8f00b3e2"
            ],
            "text/plain": [
              "<IPython.core.display.Javascript object>"
            ]
          },
          "metadata": {}
        },
        {
          "output_type": "display_data",
          "data": {
            "application/javascript": [
              "window[\"85cd79f8-9da9-11ec-bdc8-0242ac1c0002\"] = document.querySelector(\"#id22-0-0\");\n",
              "//# sourceURL=js_b4314fa5a8"
            ],
            "text/plain": [
              "<IPython.core.display.Javascript object>"
            ]
          },
          "metadata": {}
        },
        {
          "output_type": "display_data",
          "data": {
            "application/javascript": [
              "window[\"85ce2d30-9da9-11ec-bdc8-0242ac1c0002\"] = google.colab.output.setActiveOutputArea(window[\"85cd79f8-9da9-11ec-bdc8-0242ac1c0002\"]);\n",
              "//# sourceURL=js_b26bae65d0"
            ],
            "text/plain": [
              "<IPython.core.display.Javascript object>"
            ]
          },
          "metadata": {}
        },
        {
          "output_type": "display_data",
          "data": {
            "application/javascript": [
              "window[\"85e7ebee-9da9-11ec-bdc8-0242ac1c0002\"] = google.colab.output.setActiveOutputArea(window[\"85cd1aee-9da9-11ec-bdc8-0242ac1c0002\"]);\n",
              "//# sourceURL=js_da03a09779"
            ],
            "text/plain": [
              "<IPython.core.display.Javascript object>"
            ]
          },
          "metadata": {}
        },
        {
          "output_type": "display_data",
          "data": {
            "application/javascript": [
              "window[\"86090e28-9da9-11ec-bdc8-0242ac1c0002\"] = google.colab.output.getActiveOutputArea();\n",
              "//# sourceURL=js_70b29c1245"
            ],
            "text/plain": [
              "<IPython.core.display.Javascript object>"
            ]
          },
          "metadata": {}
        },
        {
          "output_type": "display_data",
          "data": {
            "application/javascript": [
              "window[\"860956e4-9da9-11ec-bdc8-0242ac1c0002\"] = document.querySelector(\"#id22-0-0\");\n",
              "//# sourceURL=js_c0f9a81e9c"
            ],
            "text/plain": [
              "<IPython.core.display.Javascript object>"
            ]
          },
          "metadata": {}
        },
        {
          "output_type": "display_data",
          "data": {
            "application/javascript": [
              "window[\"86099302-9da9-11ec-bdc8-0242ac1c0002\"] = google.colab.output.setActiveOutputArea(window[\"860956e4-9da9-11ec-bdc8-0242ac1c0002\"]);\n",
              "//# sourceURL=js_25b866aaa1"
            ],
            "text/plain": [
              "<IPython.core.display.Javascript object>"
            ]
          },
          "metadata": {}
        },
        {
          "output_type": "display_data",
          "data": {
            "application/javascript": [
              "window[\"862519a6-9da9-11ec-bdc8-0242ac1c0002\"] = google.colab.output.setActiveOutputArea(window[\"86090e28-9da9-11ec-bdc8-0242ac1c0002\"]);\n",
              "//# sourceURL=js_377201305b"
            ],
            "text/plain": [
              "<IPython.core.display.Javascript object>"
            ]
          },
          "metadata": {}
        },
        {
          "output_type": "display_data",
          "data": {
            "application/javascript": [
              "window[\"8647e1de-9da9-11ec-bdc8-0242ac1c0002\"] = google.colab.output.getActiveOutputArea();\n",
              "//# sourceURL=js_e849705e26"
            ],
            "text/plain": [
              "<IPython.core.display.Javascript object>"
            ]
          },
          "metadata": {}
        },
        {
          "output_type": "display_data",
          "data": {
            "application/javascript": [
              "window[\"864820f4-9da9-11ec-bdc8-0242ac1c0002\"] = document.querySelector(\"#id22-0-0\");\n",
              "//# sourceURL=js_33ad3fa663"
            ],
            "text/plain": [
              "<IPython.core.display.Javascript object>"
            ]
          },
          "metadata": {}
        },
        {
          "output_type": "display_data",
          "data": {
            "application/javascript": [
              "window[\"86485d8a-9da9-11ec-bdc8-0242ac1c0002\"] = google.colab.output.setActiveOutputArea(window[\"864820f4-9da9-11ec-bdc8-0242ac1c0002\"]);\n",
              "//# sourceURL=js_5a9a263222"
            ],
            "text/plain": [
              "<IPython.core.display.Javascript object>"
            ]
          },
          "metadata": {}
        },
        {
          "output_type": "display_data",
          "data": {
            "application/javascript": [
              "window[\"86619a52-9da9-11ec-bdc8-0242ac1c0002\"] = google.colab.output.setActiveOutputArea(window[\"8647e1de-9da9-11ec-bdc8-0242ac1c0002\"]);\n",
              "//# sourceURL=js_b0c584842e"
            ],
            "text/plain": [
              "<IPython.core.display.Javascript object>"
            ]
          },
          "metadata": {}
        },
        {
          "output_type": "display_data",
          "data": {
            "application/javascript": [
              "window[\"86825364-9da9-11ec-bdc8-0242ac1c0002\"] = google.colab.output.getActiveOutputArea();\n",
              "//# sourceURL=js_ba6660f4a3"
            ],
            "text/plain": [
              "<IPython.core.display.Javascript object>"
            ]
          },
          "metadata": {}
        },
        {
          "output_type": "display_data",
          "data": {
            "application/javascript": [
              "window[\"86832e38-9da9-11ec-bdc8-0242ac1c0002\"] = document.querySelector(\"#id22-0-0\");\n",
              "//# sourceURL=js_0c5de9a232"
            ],
            "text/plain": [
              "<IPython.core.display.Javascript object>"
            ]
          },
          "metadata": {}
        },
        {
          "output_type": "display_data",
          "data": {
            "application/javascript": [
              "window[\"868393fa-9da9-11ec-bdc8-0242ac1c0002\"] = google.colab.output.setActiveOutputArea(window[\"86832e38-9da9-11ec-bdc8-0242ac1c0002\"]);\n",
              "//# sourceURL=js_f99e4f4eea"
            ],
            "text/plain": [
              "<IPython.core.display.Javascript object>"
            ]
          },
          "metadata": {}
        },
        {
          "output_type": "display_data",
          "data": {
            "application/javascript": [
              "window[\"869c6c90-9da9-11ec-bdc8-0242ac1c0002\"] = google.colab.output.setActiveOutputArea(window[\"86825364-9da9-11ec-bdc8-0242ac1c0002\"]);\n",
              "//# sourceURL=js_17c6b3fc4f"
            ],
            "text/plain": [
              "<IPython.core.display.Javascript object>"
            ]
          },
          "metadata": {}
        },
        {
          "output_type": "display_data",
          "data": {
            "application/javascript": [
              "window[\"86bf1916-9da9-11ec-bdc8-0242ac1c0002\"] = google.colab.output.getActiveOutputArea();\n",
              "//# sourceURL=js_7b0a8eeff7"
            ],
            "text/plain": [
              "<IPython.core.display.Javascript object>"
            ]
          },
          "metadata": {}
        },
        {
          "output_type": "display_data",
          "data": {
            "application/javascript": [
              "window[\"86bfc4ba-9da9-11ec-bdc8-0242ac1c0002\"] = document.querySelector(\"#id22-0-0\");\n",
              "//# sourceURL=js_d6baa5c777"
            ],
            "text/plain": [
              "<IPython.core.display.Javascript object>"
            ]
          },
          "metadata": {}
        },
        {
          "output_type": "display_data",
          "data": {
            "application/javascript": [
              "window[\"86c01168-9da9-11ec-bdc8-0242ac1c0002\"] = google.colab.output.setActiveOutputArea(window[\"86bfc4ba-9da9-11ec-bdc8-0242ac1c0002\"]);\n",
              "//# sourceURL=js_527b71b527"
            ],
            "text/plain": [
              "<IPython.core.display.Javascript object>"
            ]
          },
          "metadata": {}
        },
        {
          "output_type": "display_data",
          "data": {
            "application/javascript": [
              "window[\"86d8d14e-9da9-11ec-bdc8-0242ac1c0002\"] = google.colab.output.setActiveOutputArea(window[\"86bf1916-9da9-11ec-bdc8-0242ac1c0002\"]);\n",
              "//# sourceURL=js_e3990f79e6"
            ],
            "text/plain": [
              "<IPython.core.display.Javascript object>"
            ]
          },
          "metadata": {}
        },
        {
          "output_type": "display_data",
          "data": {
            "application/javascript": [
              "window[\"86f997e4-9da9-11ec-bdc8-0242ac1c0002\"] = google.colab.output.getActiveOutputArea();\n",
              "//# sourceURL=js_c78949dd0f"
            ],
            "text/plain": [
              "<IPython.core.display.Javascript object>"
            ]
          },
          "metadata": {}
        },
        {
          "output_type": "display_data",
          "data": {
            "application/javascript": [
              "window[\"86f9f9d2-9da9-11ec-bdc8-0242ac1c0002\"] = document.querySelector(\"#id22-0-0\");\n",
              "//# sourceURL=js_7d2de69da2"
            ],
            "text/plain": [
              "<IPython.core.display.Javascript object>"
            ]
          },
          "metadata": {}
        },
        {
          "output_type": "display_data",
          "data": {
            "application/javascript": [
              "window[\"86fa6476-9da9-11ec-bdc8-0242ac1c0002\"] = google.colab.output.setActiveOutputArea(window[\"86f9f9d2-9da9-11ec-bdc8-0242ac1c0002\"]);\n",
              "//# sourceURL=js_b4577f6029"
            ],
            "text/plain": [
              "<IPython.core.display.Javascript object>"
            ]
          },
          "metadata": {}
        },
        {
          "output_type": "display_data",
          "data": {
            "application/javascript": [
              "window[\"8713a27e-9da9-11ec-bdc8-0242ac1c0002\"] = google.colab.output.setActiveOutputArea(window[\"86f997e4-9da9-11ec-bdc8-0242ac1c0002\"]);\n",
              "//# sourceURL=js_c919998ad0"
            ],
            "text/plain": [
              "<IPython.core.display.Javascript object>"
            ]
          },
          "metadata": {}
        },
        {
          "output_type": "display_data",
          "data": {
            "application/javascript": [
              "window[\"8734a442-9da9-11ec-bdc8-0242ac1c0002\"] = google.colab.output.getActiveOutputArea();\n",
              "//# sourceURL=js_6db1150a89"
            ],
            "text/plain": [
              "<IPython.core.display.Javascript object>"
            ]
          },
          "metadata": {}
        },
        {
          "output_type": "display_data",
          "data": {
            "application/javascript": [
              "window[\"87351008-9da9-11ec-bdc8-0242ac1c0002\"] = document.querySelector(\"#id22-0-0\");\n",
              "//# sourceURL=js_239d09e498"
            ],
            "text/plain": [
              "<IPython.core.display.Javascript object>"
            ]
          },
          "metadata": {}
        },
        {
          "output_type": "display_data",
          "data": {
            "application/javascript": [
              "window[\"8735c232-9da9-11ec-bdc8-0242ac1c0002\"] = google.colab.output.setActiveOutputArea(window[\"87351008-9da9-11ec-bdc8-0242ac1c0002\"]);\n",
              "//# sourceURL=js_c8e04be787"
            ],
            "text/plain": [
              "<IPython.core.display.Javascript object>"
            ]
          },
          "metadata": {}
        },
        {
          "output_type": "display_data",
          "data": {
            "application/javascript": [
              "window[\"875b32ec-9da9-11ec-bdc8-0242ac1c0002\"] = google.colab.output.setActiveOutputArea(window[\"8734a442-9da9-11ec-bdc8-0242ac1c0002\"]);\n",
              "//# sourceURL=js_f64c6280ee"
            ],
            "text/plain": [
              "<IPython.core.display.Javascript object>"
            ]
          },
          "metadata": {}
        },
        {
          "output_type": "display_data",
          "data": {
            "application/javascript": [
              "window[\"877dc834-9da9-11ec-bdc8-0242ac1c0002\"] = google.colab.output.getActiveOutputArea();\n",
              "//# sourceURL=js_45105f8187"
            ],
            "text/plain": [
              "<IPython.core.display.Javascript object>"
            ]
          },
          "metadata": {}
        },
        {
          "output_type": "display_data",
          "data": {
            "application/javascript": [
              "window[\"877e3a8a-9da9-11ec-bdc8-0242ac1c0002\"] = document.querySelector(\"#id22-0-0\");\n",
              "//# sourceURL=js_b360aff32a"
            ],
            "text/plain": [
              "<IPython.core.display.Javascript object>"
            ]
          },
          "metadata": {}
        },
        {
          "output_type": "display_data",
          "data": {
            "application/javascript": [
              "window[\"877ea5ba-9da9-11ec-bdc8-0242ac1c0002\"] = google.colab.output.setActiveOutputArea(window[\"877e3a8a-9da9-11ec-bdc8-0242ac1c0002\"]);\n",
              "//# sourceURL=js_19c516bcaa"
            ],
            "text/plain": [
              "<IPython.core.display.Javascript object>"
            ]
          },
          "metadata": {}
        },
        {
          "output_type": "display_data",
          "data": {
            "application/javascript": [
              "window[\"8797fc36-9da9-11ec-bdc8-0242ac1c0002\"] = google.colab.output.setActiveOutputArea(window[\"877dc834-9da9-11ec-bdc8-0242ac1c0002\"]);\n",
              "//# sourceURL=js_49ace405c9"
            ],
            "text/plain": [
              "<IPython.core.display.Javascript object>"
            ]
          },
          "metadata": {}
        },
        {
          "output_type": "display_data",
          "data": {
            "application/javascript": [
              "window[\"87b8bcc8-9da9-11ec-bdc8-0242ac1c0002\"] = google.colab.output.getActiveOutputArea();\n",
              "//# sourceURL=js_4754830e7b"
            ],
            "text/plain": [
              "<IPython.core.display.Javascript object>"
            ]
          },
          "metadata": {}
        },
        {
          "output_type": "display_data",
          "data": {
            "application/javascript": [
              "window[\"87b959da-9da9-11ec-bdc8-0242ac1c0002\"] = document.querySelector(\"#id22-0-0\");\n",
              "//# sourceURL=js_78eab404d6"
            ],
            "text/plain": [
              "<IPython.core.display.Javascript object>"
            ]
          },
          "metadata": {}
        },
        {
          "output_type": "display_data",
          "data": {
            "application/javascript": [
              "window[\"87b9f462-9da9-11ec-bdc8-0242ac1c0002\"] = google.colab.output.setActiveOutputArea(window[\"87b959da-9da9-11ec-bdc8-0242ac1c0002\"]);\n",
              "//# sourceURL=js_64a66f4083"
            ],
            "text/plain": [
              "<IPython.core.display.Javascript object>"
            ]
          },
          "metadata": {}
        },
        {
          "output_type": "display_data",
          "data": {
            "application/javascript": [
              "window[\"87d3f7ea-9da9-11ec-bdc8-0242ac1c0002\"] = google.colab.output.setActiveOutputArea(window[\"87b8bcc8-9da9-11ec-bdc8-0242ac1c0002\"]);\n",
              "//# sourceURL=js_74cc514397"
            ],
            "text/plain": [
              "<IPython.core.display.Javascript object>"
            ]
          },
          "metadata": {}
        },
        {
          "output_type": "display_data",
          "data": {
            "application/javascript": [
              "window[\"87f6976e-9da9-11ec-bdc8-0242ac1c0002\"] = google.colab.output.getActiveOutputArea();\n",
              "//# sourceURL=js_1c7d411cd7"
            ],
            "text/plain": [
              "<IPython.core.display.Javascript object>"
            ]
          },
          "metadata": {}
        },
        {
          "output_type": "display_data",
          "data": {
            "application/javascript": [
              "window[\"87f6e566-9da9-11ec-bdc8-0242ac1c0002\"] = document.querySelector(\"#id22-0-0\");\n",
              "//# sourceURL=js_3018dfc372"
            ],
            "text/plain": [
              "<IPython.core.display.Javascript object>"
            ]
          },
          "metadata": {}
        },
        {
          "output_type": "display_data",
          "data": {
            "application/javascript": [
              "window[\"87f7a348-9da9-11ec-bdc8-0242ac1c0002\"] = google.colab.output.setActiveOutputArea(window[\"87f6e566-9da9-11ec-bdc8-0242ac1c0002\"]);\n",
              "//# sourceURL=js_905c546829"
            ],
            "text/plain": [
              "<IPython.core.display.Javascript object>"
            ]
          },
          "metadata": {}
        },
        {
          "output_type": "display_data",
          "data": {
            "application/javascript": [
              "window[\"8810870a-9da9-11ec-bdc8-0242ac1c0002\"] = google.colab.output.setActiveOutputArea(window[\"87f6976e-9da9-11ec-bdc8-0242ac1c0002\"]);\n",
              "//# sourceURL=js_6d77b508a4"
            ],
            "text/plain": [
              "<IPython.core.display.Javascript object>"
            ]
          },
          "metadata": {}
        },
        {
          "output_type": "display_data",
          "data": {
            "application/javascript": [
              "window[\"8831aec6-9da9-11ec-bdc8-0242ac1c0002\"] = google.colab.output.getActiveOutputArea();\n",
              "//# sourceURL=js_b12121cab0"
            ],
            "text/plain": [
              "<IPython.core.display.Javascript object>"
            ]
          },
          "metadata": {}
        },
        {
          "output_type": "display_data",
          "data": {
            "application/javascript": [
              "window[\"88328d8c-9da9-11ec-bdc8-0242ac1c0002\"] = document.querySelector(\"#id22-0-0\");\n",
              "//# sourceURL=js_ec59988be4"
            ],
            "text/plain": [
              "<IPython.core.display.Javascript object>"
            ]
          },
          "metadata": {}
        },
        {
          "output_type": "display_data",
          "data": {
            "application/javascript": [
              "window[\"8832e840-9da9-11ec-bdc8-0242ac1c0002\"] = google.colab.output.setActiveOutputArea(window[\"88328d8c-9da9-11ec-bdc8-0242ac1c0002\"]);\n",
              "//# sourceURL=js_10f221a5d8"
            ],
            "text/plain": [
              "<IPython.core.display.Javascript object>"
            ]
          },
          "metadata": {}
        },
        {
          "output_type": "display_data",
          "data": {
            "application/javascript": [
              "window[\"884f986e-9da9-11ec-bdc8-0242ac1c0002\"] = google.colab.output.setActiveOutputArea(window[\"8831aec6-9da9-11ec-bdc8-0242ac1c0002\"]);\n",
              "//# sourceURL=js_c6505d118c"
            ],
            "text/plain": [
              "<IPython.core.display.Javascript object>"
            ]
          },
          "metadata": {}
        },
        {
          "output_type": "display_data",
          "data": {
            "application/javascript": [
              "window[\"8870631e-9da9-11ec-bdc8-0242ac1c0002\"] = google.colab.output.getActiveOutputArea();\n",
              "//# sourceURL=js_4a200c9a20"
            ],
            "text/plain": [
              "<IPython.core.display.Javascript object>"
            ]
          },
          "metadata": {}
        },
        {
          "output_type": "display_data",
          "data": {
            "application/javascript": [
              "window[\"8870ae46-9da9-11ec-bdc8-0242ac1c0002\"] = document.querySelector(\"#id22-0-0\");\n",
              "//# sourceURL=js_5d828b722b"
            ],
            "text/plain": [
              "<IPython.core.display.Javascript object>"
            ]
          },
          "metadata": {}
        },
        {
          "output_type": "display_data",
          "data": {
            "application/javascript": [
              "window[\"8870f4fa-9da9-11ec-bdc8-0242ac1c0002\"] = google.colab.output.setActiveOutputArea(window[\"8870ae46-9da9-11ec-bdc8-0242ac1c0002\"]);\n",
              "//# sourceURL=js_63d07a2152"
            ],
            "text/plain": [
              "<IPython.core.display.Javascript object>"
            ]
          },
          "metadata": {}
        },
        {
          "output_type": "display_data",
          "data": {
            "application/javascript": [
              "window[\"888a006c-9da9-11ec-bdc8-0242ac1c0002\"] = google.colab.output.setActiveOutputArea(window[\"8870631e-9da9-11ec-bdc8-0242ac1c0002\"]);\n",
              "//# sourceURL=js_5307ac0480"
            ],
            "text/plain": [
              "<IPython.core.display.Javascript object>"
            ]
          },
          "metadata": {}
        },
        {
          "output_type": "display_data",
          "data": {
            "application/javascript": [
              "window[\"88aa9232-9da9-11ec-bdc8-0242ac1c0002\"] = google.colab.output.getActiveOutputArea();\n",
              "//# sourceURL=js_e3e87822f1"
            ],
            "text/plain": [
              "<IPython.core.display.Javascript object>"
            ]
          },
          "metadata": {}
        },
        {
          "output_type": "display_data",
          "data": {
            "application/javascript": [
              "window[\"88ab4fce-9da9-11ec-bdc8-0242ac1c0002\"] = document.querySelector(\"#id22-0-0\");\n",
              "//# sourceURL=js_8a19018451"
            ],
            "text/plain": [
              "<IPython.core.display.Javascript object>"
            ]
          },
          "metadata": {}
        },
        {
          "output_type": "display_data",
          "data": {
            "application/javascript": [
              "window[\"88abaee2-9da9-11ec-bdc8-0242ac1c0002\"] = google.colab.output.setActiveOutputArea(window[\"88ab4fce-9da9-11ec-bdc8-0242ac1c0002\"]);\n",
              "//# sourceURL=js_3ce2b46d0d"
            ],
            "text/plain": [
              "<IPython.core.display.Javascript object>"
            ]
          },
          "metadata": {}
        },
        {
          "output_type": "display_data",
          "data": {
            "application/javascript": [
              "window[\"88c4d8ae-9da9-11ec-bdc8-0242ac1c0002\"] = google.colab.output.setActiveOutputArea(window[\"88aa9232-9da9-11ec-bdc8-0242ac1c0002\"]);\n",
              "//# sourceURL=js_4a20c95dc2"
            ],
            "text/plain": [
              "<IPython.core.display.Javascript object>"
            ]
          },
          "metadata": {}
        },
        {
          "output_type": "display_data",
          "data": {
            "application/javascript": [
              "window[\"88e5a8ea-9da9-11ec-bdc8-0242ac1c0002\"] = google.colab.output.getActiveOutputArea();\n",
              "//# sourceURL=js_bc6f39d8c4"
            ],
            "text/plain": [
              "<IPython.core.display.Javascript object>"
            ]
          },
          "metadata": {}
        },
        {
          "output_type": "display_data",
          "data": {
            "application/javascript": [
              "window[\"88e60bfa-9da9-11ec-bdc8-0242ac1c0002\"] = document.querySelector(\"#id22-0-0\");\n",
              "//# sourceURL=js_b0f6bf2791"
            ],
            "text/plain": [
              "<IPython.core.display.Javascript object>"
            ]
          },
          "metadata": {}
        },
        {
          "output_type": "display_data",
          "data": {
            "application/javascript": [
              "window[\"88e65ca4-9da9-11ec-bdc8-0242ac1c0002\"] = google.colab.output.setActiveOutputArea(window[\"88e60bfa-9da9-11ec-bdc8-0242ac1c0002\"]);\n",
              "//# sourceURL=js_022f18eebf"
            ],
            "text/plain": [
              "<IPython.core.display.Javascript object>"
            ]
          },
          "metadata": {}
        },
        {
          "output_type": "display_data",
          "data": {
            "application/javascript": [
              "window[\"88fe9e7c-9da9-11ec-bdc8-0242ac1c0002\"] = google.colab.output.setActiveOutputArea(window[\"88e5a8ea-9da9-11ec-bdc8-0242ac1c0002\"]);\n",
              "//# sourceURL=js_2542b48d48"
            ],
            "text/plain": [
              "<IPython.core.display.Javascript object>"
            ]
          },
          "metadata": {}
        },
        {
          "output_type": "display_data",
          "data": {
            "application/javascript": [
              "window[\"891f4438-9da9-11ec-bdc8-0242ac1c0002\"] = google.colab.output.getActiveOutputArea();\n",
              "//# sourceURL=js_b5c99f0b09"
            ],
            "text/plain": [
              "<IPython.core.display.Javascript object>"
            ]
          },
          "metadata": {}
        },
        {
          "output_type": "display_data",
          "data": {
            "application/javascript": [
              "window[\"891fb62a-9da9-11ec-bdc8-0242ac1c0002\"] = document.querySelector(\"#id22-0-0\");\n",
              "//# sourceURL=js_4144c83db7"
            ],
            "text/plain": [
              "<IPython.core.display.Javascript object>"
            ]
          },
          "metadata": {}
        },
        {
          "output_type": "display_data",
          "data": {
            "application/javascript": [
              "window[\"89201e80-9da9-11ec-bdc8-0242ac1c0002\"] = google.colab.output.setActiveOutputArea(window[\"891fb62a-9da9-11ec-bdc8-0242ac1c0002\"]);\n",
              "//# sourceURL=js_c22c556b40"
            ],
            "text/plain": [
              "<IPython.core.display.Javascript object>"
            ]
          },
          "metadata": {}
        },
        {
          "output_type": "display_data",
          "data": {
            "application/javascript": [
              "window[\"893db36e-9da9-11ec-bdc8-0242ac1c0002\"] = google.colab.output.setActiveOutputArea(window[\"891f4438-9da9-11ec-bdc8-0242ac1c0002\"]);\n",
              "//# sourceURL=js_51de874a79"
            ],
            "text/plain": [
              "<IPython.core.display.Javascript object>"
            ]
          },
          "metadata": {}
        },
        {
          "output_type": "display_data",
          "data": {
            "application/javascript": [
              "window[\"895ef34e-9da9-11ec-bdc8-0242ac1c0002\"] = google.colab.output.getActiveOutputArea();\n",
              "//# sourceURL=js_f086579e70"
            ],
            "text/plain": [
              "<IPython.core.display.Javascript object>"
            ]
          },
          "metadata": {}
        },
        {
          "output_type": "display_data",
          "data": {
            "application/javascript": [
              "window[\"895f4a10-9da9-11ec-bdc8-0242ac1c0002\"] = document.querySelector(\"#id22-0-0\");\n",
              "//# sourceURL=js_10ff332f68"
            ],
            "text/plain": [
              "<IPython.core.display.Javascript object>"
            ]
          },
          "metadata": {}
        },
        {
          "output_type": "display_data",
          "data": {
            "application/javascript": [
              "window[\"895fb838-9da9-11ec-bdc8-0242ac1c0002\"] = google.colab.output.setActiveOutputArea(window[\"895f4a10-9da9-11ec-bdc8-0242ac1c0002\"]);\n",
              "//# sourceURL=js_9cb6c1aadb"
            ],
            "text/plain": [
              "<IPython.core.display.Javascript object>"
            ]
          },
          "metadata": {}
        },
        {
          "output_type": "display_data",
          "data": {
            "application/javascript": [
              "window[\"8978d17e-9da9-11ec-bdc8-0242ac1c0002\"] = google.colab.output.setActiveOutputArea(window[\"895ef34e-9da9-11ec-bdc8-0242ac1c0002\"]);\n",
              "//# sourceURL=js_de2680d274"
            ],
            "text/plain": [
              "<IPython.core.display.Javascript object>"
            ]
          },
          "metadata": {}
        },
        {
          "output_type": "display_data",
          "data": {
            "application/javascript": [
              "window[\"8999cc9e-9da9-11ec-bdc8-0242ac1c0002\"] = google.colab.output.getActiveOutputArea();\n",
              "//# sourceURL=js_334129828d"
            ],
            "text/plain": [
              "<IPython.core.display.Javascript object>"
            ]
          },
          "metadata": {}
        },
        {
          "output_type": "display_data",
          "data": {
            "application/javascript": [
              "window[\"899a3a26-9da9-11ec-bdc8-0242ac1c0002\"] = document.querySelector(\"#id22-0-0\");\n",
              "//# sourceURL=js_91d118f825"
            ],
            "text/plain": [
              "<IPython.core.display.Javascript object>"
            ]
          },
          "metadata": {}
        },
        {
          "output_type": "display_data",
          "data": {
            "application/javascript": [
              "window[\"899a9f84-9da9-11ec-bdc8-0242ac1c0002\"] = google.colab.output.setActiveOutputArea(window[\"899a3a26-9da9-11ec-bdc8-0242ac1c0002\"]);\n",
              "//# sourceURL=js_8d0087977f"
            ],
            "text/plain": [
              "<IPython.core.display.Javascript object>"
            ]
          },
          "metadata": {}
        },
        {
          "output_type": "display_data",
          "data": {
            "application/javascript": [
              "window[\"89b42404-9da9-11ec-bdc8-0242ac1c0002\"] = google.colab.output.setActiveOutputArea(window[\"8999cc9e-9da9-11ec-bdc8-0242ac1c0002\"]);\n",
              "//# sourceURL=js_692116d278"
            ],
            "text/plain": [
              "<IPython.core.display.Javascript object>"
            ]
          },
          "metadata": {}
        },
        {
          "output_type": "display_data",
          "data": {
            "application/javascript": [
              "window[\"89d51d30-9da9-11ec-bdc8-0242ac1c0002\"] = google.colab.output.getActiveOutputArea();\n",
              "//# sourceURL=js_29a48670e7"
            ],
            "text/plain": [
              "<IPython.core.display.Javascript object>"
            ]
          },
          "metadata": {}
        },
        {
          "output_type": "display_data",
          "data": {
            "application/javascript": [
              "window[\"89d5b074-9da9-11ec-bdc8-0242ac1c0002\"] = document.querySelector(\"#id22-0-0\");\n",
              "//# sourceURL=js_9d87b27454"
            ],
            "text/plain": [
              "<IPython.core.display.Javascript object>"
            ]
          },
          "metadata": {}
        },
        {
          "output_type": "display_data",
          "data": {
            "application/javascript": [
              "window[\"89d61096-9da9-11ec-bdc8-0242ac1c0002\"] = google.colab.output.setActiveOutputArea(window[\"89d5b074-9da9-11ec-bdc8-0242ac1c0002\"]);\n",
              "//# sourceURL=js_6eeb1539e0"
            ],
            "text/plain": [
              "<IPython.core.display.Javascript object>"
            ]
          },
          "metadata": {}
        },
        {
          "output_type": "display_data",
          "data": {
            "application/javascript": [
              "window[\"89ef6186-9da9-11ec-bdc8-0242ac1c0002\"] = google.colab.output.setActiveOutputArea(window[\"89d51d30-9da9-11ec-bdc8-0242ac1c0002\"]);\n",
              "//# sourceURL=js_4ae577735c"
            ],
            "text/plain": [
              "<IPython.core.display.Javascript object>"
            ]
          },
          "metadata": {}
        },
        {
          "output_type": "display_data",
          "data": {
            "application/javascript": [
              "window[\"8a118b94-9da9-11ec-bdc8-0242ac1c0002\"] = google.colab.output.getActiveOutputArea();\n",
              "//# sourceURL=js_54bf7d8958"
            ],
            "text/plain": [
              "<IPython.core.display.Javascript object>"
            ]
          },
          "metadata": {}
        },
        {
          "output_type": "display_data",
          "data": {
            "application/javascript": [
              "window[\"8a121abe-9da9-11ec-bdc8-0242ac1c0002\"] = document.querySelector(\"#id22-0-0\");\n",
              "//# sourceURL=js_8145308b64"
            ],
            "text/plain": [
              "<IPython.core.display.Javascript object>"
            ]
          },
          "metadata": {}
        },
        {
          "output_type": "display_data",
          "data": {
            "application/javascript": [
              "window[\"8a127d4c-9da9-11ec-bdc8-0242ac1c0002\"] = google.colab.output.setActiveOutputArea(window[\"8a121abe-9da9-11ec-bdc8-0242ac1c0002\"]);\n",
              "//# sourceURL=js_78b19e3f18"
            ],
            "text/plain": [
              "<IPython.core.display.Javascript object>"
            ]
          },
          "metadata": {}
        },
        {
          "output_type": "display_data",
          "data": {
            "application/javascript": [
              "window[\"8a2b54f2-9da9-11ec-bdc8-0242ac1c0002\"] = google.colab.output.setActiveOutputArea(window[\"8a118b94-9da9-11ec-bdc8-0242ac1c0002\"]);\n",
              "//# sourceURL=js_e2fa2dc3f5"
            ],
            "text/plain": [
              "<IPython.core.display.Javascript object>"
            ]
          },
          "metadata": {}
        },
        {
          "output_type": "display_data",
          "data": {
            "application/javascript": [
              "window[\"8a4c02ec-9da9-11ec-bdc8-0242ac1c0002\"] = google.colab.output.getActiveOutputArea();\n",
              "//# sourceURL=js_2b8492be92"
            ],
            "text/plain": [
              "<IPython.core.display.Javascript object>"
            ]
          },
          "metadata": {}
        },
        {
          "output_type": "display_data",
          "data": {
            "application/javascript": [
              "window[\"8a4c6b6a-9da9-11ec-bdc8-0242ac1c0002\"] = document.querySelector(\"#id22-0-0\");\n",
              "//# sourceURL=js_4fd6c31773"
            ],
            "text/plain": [
              "<IPython.core.display.Javascript object>"
            ]
          },
          "metadata": {}
        },
        {
          "output_type": "display_data",
          "data": {
            "application/javascript": [
              "window[\"8a4ce2fc-9da9-11ec-bdc8-0242ac1c0002\"] = google.colab.output.setActiveOutputArea(window[\"8a4c6b6a-9da9-11ec-bdc8-0242ac1c0002\"]);\n",
              "//# sourceURL=js_ef009bcde2"
            ],
            "text/plain": [
              "<IPython.core.display.Javascript object>"
            ]
          },
          "metadata": {}
        },
        {
          "output_type": "display_data",
          "data": {
            "application/javascript": [
              "window[\"8a70fe6c-9da9-11ec-bdc8-0242ac1c0002\"] = google.colab.output.setActiveOutputArea(window[\"8a4c02ec-9da9-11ec-bdc8-0242ac1c0002\"]);\n",
              "//# sourceURL=js_895cee7a67"
            ],
            "text/plain": [
              "<IPython.core.display.Javascript object>"
            ]
          },
          "metadata": {}
        },
        {
          "output_type": "display_data",
          "data": {
            "application/javascript": [
              "window[\"8a91e474-9da9-11ec-bdc8-0242ac1c0002\"] = google.colab.output.getActiveOutputArea();\n",
              "//# sourceURL=js_fa3698ccbf"
            ],
            "text/plain": [
              "<IPython.core.display.Javascript object>"
            ]
          },
          "metadata": {}
        },
        {
          "output_type": "display_data",
          "data": {
            "application/javascript": [
              "window[\"8a924ce8-9da9-11ec-bdc8-0242ac1c0002\"] = document.querySelector(\"#id22-0-0\");\n",
              "//# sourceURL=js_0c0afc1402"
            ],
            "text/plain": [
              "<IPython.core.display.Javascript object>"
            ]
          },
          "metadata": {}
        },
        {
          "output_type": "display_data",
          "data": {
            "application/javascript": [
              "window[\"8a92d2d0-9da9-11ec-bdc8-0242ac1c0002\"] = google.colab.output.setActiveOutputArea(window[\"8a924ce8-9da9-11ec-bdc8-0242ac1c0002\"]);\n",
              "//# sourceURL=js_4f4b69f274"
            ],
            "text/plain": [
              "<IPython.core.display.Javascript object>"
            ]
          },
          "metadata": {}
        },
        {
          "output_type": "display_data",
          "data": {
            "application/javascript": [
              "window[\"8aad4494-9da9-11ec-bdc8-0242ac1c0002\"] = google.colab.output.setActiveOutputArea(window[\"8a91e474-9da9-11ec-bdc8-0242ac1c0002\"]);\n",
              "//# sourceURL=js_67ea92de57"
            ],
            "text/plain": [
              "<IPython.core.display.Javascript object>"
            ]
          },
          "metadata": {}
        },
        {
          "output_type": "display_data",
          "data": {
            "application/javascript": [
              "window[\"8ace09a4-9da9-11ec-bdc8-0242ac1c0002\"] = google.colab.output.getActiveOutputArea();\n",
              "//# sourceURL=js_710315f266"
            ],
            "text/plain": [
              "<IPython.core.display.Javascript object>"
            ]
          },
          "metadata": {}
        },
        {
          "output_type": "display_data",
          "data": {
            "application/javascript": [
              "window[\"8ace6e94-9da9-11ec-bdc8-0242ac1c0002\"] = document.querySelector(\"#id22-0-0\");\n",
              "//# sourceURL=js_cb93ea3b67"
            ],
            "text/plain": [
              "<IPython.core.display.Javascript object>"
            ]
          },
          "metadata": {}
        },
        {
          "output_type": "display_data",
          "data": {
            "application/javascript": [
              "window[\"8aced686-9da9-11ec-bdc8-0242ac1c0002\"] = google.colab.output.setActiveOutputArea(window[\"8ace6e94-9da9-11ec-bdc8-0242ac1c0002\"]);\n",
              "//# sourceURL=js_d713649cc0"
            ],
            "text/plain": [
              "<IPython.core.display.Javascript object>"
            ]
          },
          "metadata": {}
        },
        {
          "output_type": "display_data",
          "data": {
            "application/javascript": [
              "window[\"8ae82208-9da9-11ec-bdc8-0242ac1c0002\"] = google.colab.output.setActiveOutputArea(window[\"8ace09a4-9da9-11ec-bdc8-0242ac1c0002\"]);\n",
              "//# sourceURL=js_6c72553908"
            ],
            "text/plain": [
              "<IPython.core.display.Javascript object>"
            ]
          },
          "metadata": {}
        },
        {
          "output_type": "display_data",
          "data": {
            "application/javascript": [
              "window[\"8b091422-9da9-11ec-bdc8-0242ac1c0002\"] = google.colab.output.getActiveOutputArea();\n",
              "//# sourceURL=js_e917557fb0"
            ],
            "text/plain": [
              "<IPython.core.display.Javascript object>"
            ]
          },
          "metadata": {}
        },
        {
          "output_type": "display_data",
          "data": {
            "application/javascript": [
              "window[\"8b0985c4-9da9-11ec-bdc8-0242ac1c0002\"] = document.querySelector(\"#id22-0-0\");\n",
              "//# sourceURL=js_6cb4d54be3"
            ],
            "text/plain": [
              "<IPython.core.display.Javascript object>"
            ]
          },
          "metadata": {}
        },
        {
          "output_type": "display_data",
          "data": {
            "application/javascript": [
              "window[\"8b09f50e-9da9-11ec-bdc8-0242ac1c0002\"] = google.colab.output.setActiveOutputArea(window[\"8b0985c4-9da9-11ec-bdc8-0242ac1c0002\"]);\n",
              "//# sourceURL=js_53f419bd14"
            ],
            "text/plain": [
              "<IPython.core.display.Javascript object>"
            ]
          },
          "metadata": {}
        },
        {
          "output_type": "display_data",
          "data": {
            "application/javascript": [
              "window[\"8b2335a0-9da9-11ec-bdc8-0242ac1c0002\"] = google.colab.output.setActiveOutputArea(window[\"8b091422-9da9-11ec-bdc8-0242ac1c0002\"]);\n",
              "//# sourceURL=js_dc41408365"
            ],
            "text/plain": [
              "<IPython.core.display.Javascript object>"
            ]
          },
          "metadata": {}
        },
        {
          "output_type": "display_data",
          "data": {
            "application/javascript": [
              "window[\"8b43b834-9da9-11ec-bdc8-0242ac1c0002\"] = google.colab.output.getActiveOutputArea();\n",
              "//# sourceURL=js_67e22201cf"
            ],
            "text/plain": [
              "<IPython.core.display.Javascript object>"
            ]
          },
          "metadata": {}
        },
        {
          "output_type": "display_data",
          "data": {
            "application/javascript": [
              "window[\"8b43f4de-9da9-11ec-bdc8-0242ac1c0002\"] = document.querySelector(\"#id22-0-0\");\n",
              "//# sourceURL=js_4dce3fe437"
            ],
            "text/plain": [
              "<IPython.core.display.Javascript object>"
            ]
          },
          "metadata": {}
        },
        {
          "output_type": "display_data",
          "data": {
            "application/javascript": [
              "window[\"8b442d82-9da9-11ec-bdc8-0242ac1c0002\"] = google.colab.output.setActiveOutputArea(window[\"8b43f4de-9da9-11ec-bdc8-0242ac1c0002\"]);\n",
              "//# sourceURL=js_cb5f28c946"
            ],
            "text/plain": [
              "<IPython.core.display.Javascript object>"
            ]
          },
          "metadata": {}
        },
        {
          "output_type": "display_data",
          "data": {
            "application/javascript": [
              "window[\"8b5e8ed4-9da9-11ec-bdc8-0242ac1c0002\"] = google.colab.output.setActiveOutputArea(window[\"8b43b834-9da9-11ec-bdc8-0242ac1c0002\"]);\n",
              "//# sourceURL=js_ed1bf7a7d2"
            ],
            "text/plain": [
              "<IPython.core.display.Javascript object>"
            ]
          },
          "metadata": {}
        },
        {
          "output_type": "display_data",
          "data": {
            "application/javascript": [
              "window[\"8b7f2d4c-9da9-11ec-bdc8-0242ac1c0002\"] = google.colab.output.getActiveOutputArea();\n",
              "//# sourceURL=js_7682e7ccbb"
            ],
            "text/plain": [
              "<IPython.core.display.Javascript object>"
            ]
          },
          "metadata": {}
        },
        {
          "output_type": "display_data",
          "data": {
            "application/javascript": [
              "window[\"8b7f8378-9da9-11ec-bdc8-0242ac1c0002\"] = document.querySelector(\"#id22-0-0\");\n",
              "//# sourceURL=js_d51b794614"
            ],
            "text/plain": [
              "<IPython.core.display.Javascript object>"
            ]
          },
          "metadata": {}
        },
        {
          "output_type": "display_data",
          "data": {
            "application/javascript": [
              "window[\"8b7ffc90-9da9-11ec-bdc8-0242ac1c0002\"] = google.colab.output.setActiveOutputArea(window[\"8b7f8378-9da9-11ec-bdc8-0242ac1c0002\"]);\n",
              "//# sourceURL=js_540182179d"
            ],
            "text/plain": [
              "<IPython.core.display.Javascript object>"
            ]
          },
          "metadata": {}
        },
        {
          "output_type": "display_data",
          "data": {
            "application/javascript": [
              "window[\"8b9b4d42-9da9-11ec-bdc8-0242ac1c0002\"] = google.colab.output.setActiveOutputArea(window[\"8b7f2d4c-9da9-11ec-bdc8-0242ac1c0002\"]);\n",
              "//# sourceURL=js_6514b95def"
            ],
            "text/plain": [
              "<IPython.core.display.Javascript object>"
            ]
          },
          "metadata": {}
        },
        {
          "output_type": "display_data",
          "data": {
            "application/javascript": [
              "window[\"8bbc58fc-9da9-11ec-bdc8-0242ac1c0002\"] = google.colab.output.getActiveOutputArea();\n",
              "//# sourceURL=js_e0861880bb"
            ],
            "text/plain": [
              "<IPython.core.display.Javascript object>"
            ]
          },
          "metadata": {}
        },
        {
          "output_type": "display_data",
          "data": {
            "application/javascript": [
              "window[\"8bbcbf36-9da9-11ec-bdc8-0242ac1c0002\"] = document.querySelector(\"#id22-0-0\");\n",
              "//# sourceURL=js_559ee6581b"
            ],
            "text/plain": [
              "<IPython.core.display.Javascript object>"
            ]
          },
          "metadata": {}
        },
        {
          "output_type": "display_data",
          "data": {
            "application/javascript": [
              "window[\"8bbd1cce-9da9-11ec-bdc8-0242ac1c0002\"] = google.colab.output.setActiveOutputArea(window[\"8bbcbf36-9da9-11ec-bdc8-0242ac1c0002\"]);\n",
              "//# sourceURL=js_d842c81eb6"
            ],
            "text/plain": [
              "<IPython.core.display.Javascript object>"
            ]
          },
          "metadata": {}
        },
        {
          "output_type": "display_data",
          "data": {
            "application/javascript": [
              "window[\"8bd69a14-9da9-11ec-bdc8-0242ac1c0002\"] = google.colab.output.setActiveOutputArea(window[\"8bbc58fc-9da9-11ec-bdc8-0242ac1c0002\"]);\n",
              "//# sourceURL=js_03dbf8e591"
            ],
            "text/plain": [
              "<IPython.core.display.Javascript object>"
            ]
          },
          "metadata": {}
        },
        {
          "output_type": "display_data",
          "data": {
            "application/javascript": [
              "window[\"8bf77f72-9da9-11ec-bdc8-0242ac1c0002\"] = google.colab.output.getActiveOutputArea();\n",
              "//# sourceURL=js_4b424c7b8f"
            ],
            "text/plain": [
              "<IPython.core.display.Javascript object>"
            ]
          },
          "metadata": {}
        },
        {
          "output_type": "display_data",
          "data": {
            "application/javascript": [
              "window[\"8bf7cd88-9da9-11ec-bdc8-0242ac1c0002\"] = document.querySelector(\"#id22-0-0\");\n",
              "//# sourceURL=js_0b1e3d15b6"
            ],
            "text/plain": [
              "<IPython.core.display.Javascript object>"
            ]
          },
          "metadata": {}
        },
        {
          "output_type": "display_data",
          "data": {
            "application/javascript": [
              "window[\"8bf82206-9da9-11ec-bdc8-0242ac1c0002\"] = google.colab.output.setActiveOutputArea(window[\"8bf7cd88-9da9-11ec-bdc8-0242ac1c0002\"]);\n",
              "//# sourceURL=js_5566e384bf"
            ],
            "text/plain": [
              "<IPython.core.display.Javascript object>"
            ]
          },
          "metadata": {}
        },
        {
          "output_type": "display_data",
          "data": {
            "application/javascript": [
              "window[\"8c12bd32-9da9-11ec-bdc8-0242ac1c0002\"] = google.colab.output.setActiveOutputArea(window[\"8bf77f72-9da9-11ec-bdc8-0242ac1c0002\"]);\n",
              "//# sourceURL=js_bda7ce783f"
            ],
            "text/plain": [
              "<IPython.core.display.Javascript object>"
            ]
          },
          "metadata": {}
        },
        {
          "output_type": "display_data",
          "data": {
            "application/javascript": [
              "window[\"8c334f84-9da9-11ec-bdc8-0242ac1c0002\"] = google.colab.output.getActiveOutputArea();\n",
              "//# sourceURL=js_e432312455"
            ],
            "text/plain": [
              "<IPython.core.display.Javascript object>"
            ]
          },
          "metadata": {}
        },
        {
          "output_type": "display_data",
          "data": {
            "application/javascript": [
              "window[\"8c343476-9da9-11ec-bdc8-0242ac1c0002\"] = document.querySelector(\"#id22-0-0\");\n",
              "//# sourceURL=js_0eeebc9215"
            ],
            "text/plain": [
              "<IPython.core.display.Javascript object>"
            ]
          },
          "metadata": {}
        },
        {
          "output_type": "display_data",
          "data": {
            "application/javascript": [
              "window[\"8c349e16-9da9-11ec-bdc8-0242ac1c0002\"] = google.colab.output.setActiveOutputArea(window[\"8c343476-9da9-11ec-bdc8-0242ac1c0002\"]);\n",
              "//# sourceURL=js_bc627f7449"
            ],
            "text/plain": [
              "<IPython.core.display.Javascript object>"
            ]
          },
          "metadata": {}
        },
        {
          "output_type": "display_data",
          "data": {
            "application/javascript": [
              "window[\"8c506fba-9da9-11ec-bdc8-0242ac1c0002\"] = google.colab.output.setActiveOutputArea(window[\"8c334f84-9da9-11ec-bdc8-0242ac1c0002\"]);\n",
              "//# sourceURL=js_39b08f214b"
            ],
            "text/plain": [
              "<IPython.core.display.Javascript object>"
            ]
          },
          "metadata": {}
        },
        {
          "output_type": "display_data",
          "data": {
            "application/javascript": [
              "window[\"8c7156e4-9da9-11ec-bdc8-0242ac1c0002\"] = google.colab.output.getActiveOutputArea();\n",
              "//# sourceURL=js_abdfdbeba0"
            ],
            "text/plain": [
              "<IPython.core.display.Javascript object>"
            ]
          },
          "metadata": {}
        },
        {
          "output_type": "display_data",
          "data": {
            "application/javascript": [
              "window[\"8c71c606-9da9-11ec-bdc8-0242ac1c0002\"] = document.querySelector(\"#id22-0-0\");\n",
              "//# sourceURL=js_b9e77cbef6"
            ],
            "text/plain": [
              "<IPython.core.display.Javascript object>"
            ]
          },
          "metadata": {}
        },
        {
          "output_type": "display_data",
          "data": {
            "application/javascript": [
              "window[\"8c72238a-9da9-11ec-bdc8-0242ac1c0002\"] = google.colab.output.setActiveOutputArea(window[\"8c71c606-9da9-11ec-bdc8-0242ac1c0002\"]);\n",
              "//# sourceURL=js_eef0ff3ff0"
            ],
            "text/plain": [
              "<IPython.core.display.Javascript object>"
            ]
          },
          "metadata": {}
        },
        {
          "output_type": "display_data",
          "data": {
            "application/javascript": [
              "window[\"8c8b5508-9da9-11ec-bdc8-0242ac1c0002\"] = google.colab.output.setActiveOutputArea(window[\"8c7156e4-9da9-11ec-bdc8-0242ac1c0002\"]);\n",
              "//# sourceURL=js_98e90f3c43"
            ],
            "text/plain": [
              "<IPython.core.display.Javascript object>"
            ]
          },
          "metadata": {}
        },
        {
          "output_type": "display_data",
          "data": {
            "application/javascript": [
              "window[\"8cabc5fe-9da9-11ec-bdc8-0242ac1c0002\"] = google.colab.output.getActiveOutputArea();\n",
              "//# sourceURL=js_c287b59e27"
            ],
            "text/plain": [
              "<IPython.core.display.Javascript object>"
            ]
          },
          "metadata": {}
        },
        {
          "output_type": "display_data",
          "data": {
            "application/javascript": [
              "window[\"8cac6022-9da9-11ec-bdc8-0242ac1c0002\"] = document.querySelector(\"#id22-0-0\");\n",
              "//# sourceURL=js_3d09f4d064"
            ],
            "text/plain": [
              "<IPython.core.display.Javascript object>"
            ]
          },
          "metadata": {}
        },
        {
          "output_type": "display_data",
          "data": {
            "application/javascript": [
              "window[\"8cacb69e-9da9-11ec-bdc8-0242ac1c0002\"] = google.colab.output.setActiveOutputArea(window[\"8cac6022-9da9-11ec-bdc8-0242ac1c0002\"]);\n",
              "//# sourceURL=js_754a4e5b2b"
            ],
            "text/plain": [
              "<IPython.core.display.Javascript object>"
            ]
          },
          "metadata": {}
        },
        {
          "output_type": "display_data",
          "data": {
            "application/javascript": [
              "window[\"8cc6cb06-9da9-11ec-bdc8-0242ac1c0002\"] = google.colab.output.setActiveOutputArea(window[\"8cabc5fe-9da9-11ec-bdc8-0242ac1c0002\"]);\n",
              "//# sourceURL=js_25152d7cc4"
            ],
            "text/plain": [
              "<IPython.core.display.Javascript object>"
            ]
          },
          "metadata": {}
        },
        {
          "output_type": "display_data",
          "data": {
            "application/javascript": [
              "window[\"8ce754fc-9da9-11ec-bdc8-0242ac1c0002\"] = google.colab.output.getActiveOutputArea();\n",
              "//# sourceURL=js_b7485c0ad2"
            ],
            "text/plain": [
              "<IPython.core.display.Javascript object>"
            ]
          },
          "metadata": {}
        },
        {
          "output_type": "display_data",
          "data": {
            "application/javascript": [
              "window[\"8ce7ae02-9da9-11ec-bdc8-0242ac1c0002\"] = document.querySelector(\"#id22-0-0\");\n",
              "//# sourceURL=js_34da8487c3"
            ],
            "text/plain": [
              "<IPython.core.display.Javascript object>"
            ]
          },
          "metadata": {}
        },
        {
          "output_type": "display_data",
          "data": {
            "application/javascript": [
              "window[\"8ce81680-9da9-11ec-bdc8-0242ac1c0002\"] = google.colab.output.setActiveOutputArea(window[\"8ce7ae02-9da9-11ec-bdc8-0242ac1c0002\"]);\n",
              "//# sourceURL=js_d4dd48396f"
            ],
            "text/plain": [
              "<IPython.core.display.Javascript object>"
            ]
          },
          "metadata": {}
        },
        {
          "output_type": "display_data",
          "data": {
            "application/javascript": [
              "window[\"8d0172ba-9da9-11ec-bdc8-0242ac1c0002\"] = google.colab.output.setActiveOutputArea(window[\"8ce754fc-9da9-11ec-bdc8-0242ac1c0002\"]);\n",
              "//# sourceURL=js_cf4df3ad17"
            ],
            "text/plain": [
              "<IPython.core.display.Javascript object>"
            ]
          },
          "metadata": {}
        },
        {
          "output_type": "display_data",
          "data": {
            "application/javascript": [
              "window[\"8d22016a-9da9-11ec-bdc8-0242ac1c0002\"] = google.colab.output.getActiveOutputArea();\n",
              "//# sourceURL=js_c7b614fcca"
            ],
            "text/plain": [
              "<IPython.core.display.Javascript object>"
            ]
          },
          "metadata": {}
        },
        {
          "output_type": "display_data",
          "data": {
            "application/javascript": [
              "window[\"8d22615a-9da9-11ec-bdc8-0242ac1c0002\"] = document.querySelector(\"#id22-0-0\");\n",
              "//# sourceURL=js_066f42d700"
            ],
            "text/plain": [
              "<IPython.core.display.Javascript object>"
            ]
          },
          "metadata": {}
        },
        {
          "output_type": "display_data",
          "data": {
            "application/javascript": [
              "window[\"8d232978-9da9-11ec-bdc8-0242ac1c0002\"] = google.colab.output.setActiveOutputArea(window[\"8d22615a-9da9-11ec-bdc8-0242ac1c0002\"]);\n",
              "//# sourceURL=js_446ae50333"
            ],
            "text/plain": [
              "<IPython.core.display.Javascript object>"
            ]
          },
          "metadata": {}
        },
        {
          "output_type": "display_data",
          "data": {
            "application/javascript": [
              "window[\"8d3b89f0-9da9-11ec-bdc8-0242ac1c0002\"] = google.colab.output.setActiveOutputArea(window[\"8d22016a-9da9-11ec-bdc8-0242ac1c0002\"]);\n",
              "//# sourceURL=js_2d8e2906a4"
            ],
            "text/plain": [
              "<IPython.core.display.Javascript object>"
            ]
          },
          "metadata": {}
        },
        {
          "output_type": "display_data",
          "data": {
            "application/javascript": [
              "window[\"8d5c3236-9da9-11ec-bdc8-0242ac1c0002\"] = google.colab.output.getActiveOutputArea();\n",
              "//# sourceURL=js_560c248e77"
            ],
            "text/plain": [
              "<IPython.core.display.Javascript object>"
            ]
          },
          "metadata": {}
        },
        {
          "output_type": "display_data",
          "data": {
            "application/javascript": [
              "window[\"8d5cb6d4-9da9-11ec-bdc8-0242ac1c0002\"] = document.querySelector(\"#id22-0-0\");\n",
              "//# sourceURL=js_d8f84ea435"
            ],
            "text/plain": [
              "<IPython.core.display.Javascript object>"
            ]
          },
          "metadata": {}
        },
        {
          "output_type": "display_data",
          "data": {
            "application/javascript": [
              "window[\"8d5d24fc-9da9-11ec-bdc8-0242ac1c0002\"] = google.colab.output.setActiveOutputArea(window[\"8d5cb6d4-9da9-11ec-bdc8-0242ac1c0002\"]);\n",
              "//# sourceURL=js_0fae4a85df"
            ],
            "text/plain": [
              "<IPython.core.display.Javascript object>"
            ]
          },
          "metadata": {}
        },
        {
          "output_type": "display_data",
          "data": {
            "application/javascript": [
              "window[\"8d82a498-9da9-11ec-bdc8-0242ac1c0002\"] = google.colab.output.setActiveOutputArea(window[\"8d5c3236-9da9-11ec-bdc8-0242ac1c0002\"]);\n",
              "//# sourceURL=js_7dab754cd0"
            ],
            "text/plain": [
              "<IPython.core.display.Javascript object>"
            ]
          },
          "metadata": {}
        },
        {
          "output_type": "display_data",
          "data": {
            "application/javascript": [
              "window[\"8da3784e-9da9-11ec-bdc8-0242ac1c0002\"] = google.colab.output.getActiveOutputArea();\n",
              "//# sourceURL=js_409ec8e790"
            ],
            "text/plain": [
              "<IPython.core.display.Javascript object>"
            ]
          },
          "metadata": {}
        },
        {
          "output_type": "display_data",
          "data": {
            "application/javascript": [
              "window[\"8da42c12-9da9-11ec-bdc8-0242ac1c0002\"] = document.querySelector(\"#id22-0-0\");\n",
              "//# sourceURL=js_27babcc566"
            ],
            "text/plain": [
              "<IPython.core.display.Javascript object>"
            ]
          },
          "metadata": {}
        },
        {
          "output_type": "display_data",
          "data": {
            "application/javascript": [
              "window[\"8da4af5c-9da9-11ec-bdc8-0242ac1c0002\"] = google.colab.output.setActiveOutputArea(window[\"8da42c12-9da9-11ec-bdc8-0242ac1c0002\"]);\n",
              "//# sourceURL=js_735ab275ec"
            ],
            "text/plain": [
              "<IPython.core.display.Javascript object>"
            ]
          },
          "metadata": {}
        },
        {
          "output_type": "display_data",
          "data": {
            "application/javascript": [
              "window[\"8dbf8f20-9da9-11ec-bdc8-0242ac1c0002\"] = google.colab.output.setActiveOutputArea(window[\"8da3784e-9da9-11ec-bdc8-0242ac1c0002\"]);\n",
              "//# sourceURL=js_09d855a197"
            ],
            "text/plain": [
              "<IPython.core.display.Javascript object>"
            ]
          },
          "metadata": {}
        },
        {
          "output_type": "display_data",
          "data": {
            "application/javascript": [
              "window[\"8de10402-9da9-11ec-bdc8-0242ac1c0002\"] = google.colab.output.getActiveOutputArea();\n",
              "//# sourceURL=js_cac0a99515"
            ],
            "text/plain": [
              "<IPython.core.display.Javascript object>"
            ]
          },
          "metadata": {}
        },
        {
          "output_type": "display_data",
          "data": {
            "application/javascript": [
              "window[\"8de17252-9da9-11ec-bdc8-0242ac1c0002\"] = document.querySelector(\"#id22-0-0\");\n",
              "//# sourceURL=js_3d98991751"
            ],
            "text/plain": [
              "<IPython.core.display.Javascript object>"
            ]
          },
          "metadata": {}
        },
        {
          "output_type": "display_data",
          "data": {
            "application/javascript": [
              "window[\"8de1e430-9da9-11ec-bdc8-0242ac1c0002\"] = google.colab.output.setActiveOutputArea(window[\"8de17252-9da9-11ec-bdc8-0242ac1c0002\"]);\n",
              "//# sourceURL=js_6faad87d08"
            ],
            "text/plain": [
              "<IPython.core.display.Javascript object>"
            ]
          },
          "metadata": {}
        },
        {
          "output_type": "display_data",
          "data": {
            "application/javascript": [
              "window[\"8dfc4596-9da9-11ec-bdc8-0242ac1c0002\"] = google.colab.output.setActiveOutputArea(window[\"8de10402-9da9-11ec-bdc8-0242ac1c0002\"]);\n",
              "//# sourceURL=js_7d847f9384"
            ],
            "text/plain": [
              "<IPython.core.display.Javascript object>"
            ]
          },
          "metadata": {}
        },
        {
          "output_type": "display_data",
          "data": {
            "application/javascript": [
              "window[\"8e1d3a58-9da9-11ec-bdc8-0242ac1c0002\"] = google.colab.output.getActiveOutputArea();\n",
              "//# sourceURL=js_2a6929a8b7"
            ],
            "text/plain": [
              "<IPython.core.display.Javascript object>"
            ]
          },
          "metadata": {}
        },
        {
          "output_type": "display_data",
          "data": {
            "application/javascript": [
              "window[\"8e1d9200-9da9-11ec-bdc8-0242ac1c0002\"] = document.querySelector(\"#id22-0-0\");\n",
              "//# sourceURL=js_fba1be5248"
            ],
            "text/plain": [
              "<IPython.core.display.Javascript object>"
            ]
          },
          "metadata": {}
        },
        {
          "output_type": "display_data",
          "data": {
            "application/javascript": [
              "window[\"8e1df3bc-9da9-11ec-bdc8-0242ac1c0002\"] = google.colab.output.setActiveOutputArea(window[\"8e1d9200-9da9-11ec-bdc8-0242ac1c0002\"]);\n",
              "//# sourceURL=js_be6eaf39db"
            ],
            "text/plain": [
              "<IPython.core.display.Javascript object>"
            ]
          },
          "metadata": {}
        },
        {
          "output_type": "display_data",
          "data": {
            "application/javascript": [
              "window[\"8e382994-9da9-11ec-bdc8-0242ac1c0002\"] = google.colab.output.setActiveOutputArea(window[\"8e1d3a58-9da9-11ec-bdc8-0242ac1c0002\"]);\n",
              "//# sourceURL=js_99f685fbdc"
            ],
            "text/plain": [
              "<IPython.core.display.Javascript object>"
            ]
          },
          "metadata": {}
        },
        {
          "output_type": "display_data",
          "data": {
            "application/javascript": [
              "window[\"8e58d48c-9da9-11ec-bdc8-0242ac1c0002\"] = google.colab.output.getActiveOutputArea();\n",
              "//# sourceURL=js_87ecb31c9e"
            ],
            "text/plain": [
              "<IPython.core.display.Javascript object>"
            ]
          },
          "metadata": {}
        },
        {
          "output_type": "display_data",
          "data": {
            "application/javascript": [
              "window[\"8e591ef6-9da9-11ec-bdc8-0242ac1c0002\"] = document.querySelector(\"#id22-0-0\");\n",
              "//# sourceURL=js_504d4117db"
            ],
            "text/plain": [
              "<IPython.core.display.Javascript object>"
            ]
          },
          "metadata": {}
        },
        {
          "output_type": "display_data",
          "data": {
            "application/javascript": [
              "window[\"8e5977f2-9da9-11ec-bdc8-0242ac1c0002\"] = google.colab.output.setActiveOutputArea(window[\"8e591ef6-9da9-11ec-bdc8-0242ac1c0002\"]);\n",
              "//# sourceURL=js_1f51141c39"
            ],
            "text/plain": [
              "<IPython.core.display.Javascript object>"
            ]
          },
          "metadata": {}
        },
        {
          "output_type": "display_data",
          "data": {
            "application/javascript": [
              "window[\"8e71f9a8-9da9-11ec-bdc8-0242ac1c0002\"] = google.colab.output.setActiveOutputArea(window[\"8e58d48c-9da9-11ec-bdc8-0242ac1c0002\"]);\n",
              "//# sourceURL=js_93623885a4"
            ],
            "text/plain": [
              "<IPython.core.display.Javascript object>"
            ]
          },
          "metadata": {}
        },
        {
          "output_type": "display_data",
          "data": {
            "application/javascript": [
              "window[\"8e9297f8-9da9-11ec-bdc8-0242ac1c0002\"] = google.colab.output.getActiveOutputArea();\n",
              "//# sourceURL=js_aeea7738c7"
            ],
            "text/plain": [
              "<IPython.core.display.Javascript object>"
            ]
          },
          "metadata": {}
        },
        {
          "output_type": "display_data",
          "data": {
            "application/javascript": [
              "window[\"8e931110-9da9-11ec-bdc8-0242ac1c0002\"] = document.querySelector(\"#id22-0-0\");\n",
              "//# sourceURL=js_537cb17076"
            ],
            "text/plain": [
              "<IPython.core.display.Javascript object>"
            ]
          },
          "metadata": {}
        },
        {
          "output_type": "display_data",
          "data": {
            "application/javascript": [
              "window[\"8e937a56-9da9-11ec-bdc8-0242ac1c0002\"] = google.colab.output.setActiveOutputArea(window[\"8e931110-9da9-11ec-bdc8-0242ac1c0002\"]);\n",
              "//# sourceURL=js_5f340d7245"
            ],
            "text/plain": [
              "<IPython.core.display.Javascript object>"
            ]
          },
          "metadata": {}
        },
        {
          "output_type": "display_data",
          "data": {
            "application/javascript": [
              "window[\"8eae08c6-9da9-11ec-bdc8-0242ac1c0002\"] = google.colab.output.setActiveOutputArea(window[\"8e9297f8-9da9-11ec-bdc8-0242ac1c0002\"]);\n",
              "//# sourceURL=js_edaef0c8fe"
            ],
            "text/plain": [
              "<IPython.core.display.Javascript object>"
            ]
          },
          "metadata": {}
        },
        {
          "output_type": "display_data",
          "data": {
            "application/javascript": [
              "window[\"8ecf1f52-9da9-11ec-bdc8-0242ac1c0002\"] = google.colab.output.getActiveOutputArea();\n",
              "//# sourceURL=js_9aad225158"
            ],
            "text/plain": [
              "<IPython.core.display.Javascript object>"
            ]
          },
          "metadata": {}
        },
        {
          "output_type": "display_data",
          "data": {
            "application/javascript": [
              "window[\"8ecff6d4-9da9-11ec-bdc8-0242ac1c0002\"] = document.querySelector(\"#id22-0-0\");\n",
              "//# sourceURL=js_3bd1963be5"
            ],
            "text/plain": [
              "<IPython.core.display.Javascript object>"
            ]
          },
          "metadata": {}
        },
        {
          "output_type": "display_data",
          "data": {
            "application/javascript": [
              "window[\"8ed04b48-9da9-11ec-bdc8-0242ac1c0002\"] = google.colab.output.setActiveOutputArea(window[\"8ecff6d4-9da9-11ec-bdc8-0242ac1c0002\"]);\n",
              "//# sourceURL=js_1053e00520"
            ],
            "text/plain": [
              "<IPython.core.display.Javascript object>"
            ]
          },
          "metadata": {}
        },
        {
          "output_type": "display_data",
          "data": {
            "application/javascript": [
              "window[\"8eead972-9da9-11ec-bdc8-0242ac1c0002\"] = google.colab.output.setActiveOutputArea(window[\"8ecf1f52-9da9-11ec-bdc8-0242ac1c0002\"]);\n",
              "//# sourceURL=js_029f092d16"
            ],
            "text/plain": [
              "<IPython.core.display.Javascript object>"
            ]
          },
          "metadata": {}
        },
        {
          "output_type": "display_data",
          "data": {
            "application/javascript": [
              "window[\"8f0b53f0-9da9-11ec-bdc8-0242ac1c0002\"] = google.colab.output.getActiveOutputArea();\n",
              "//# sourceURL=js_b984ebc995"
            ],
            "text/plain": [
              "<IPython.core.display.Javascript object>"
            ]
          },
          "metadata": {}
        },
        {
          "output_type": "display_data",
          "data": {
            "application/javascript": [
              "window[\"8f0bb2c8-9da9-11ec-bdc8-0242ac1c0002\"] = document.querySelector(\"#id22-0-0\");\n",
              "//# sourceURL=js_c207c7db89"
            ],
            "text/plain": [
              "<IPython.core.display.Javascript object>"
            ]
          },
          "metadata": {}
        },
        {
          "output_type": "display_data",
          "data": {
            "application/javascript": [
              "window[\"8f0c4242-9da9-11ec-bdc8-0242ac1c0002\"] = google.colab.output.setActiveOutputArea(window[\"8f0bb2c8-9da9-11ec-bdc8-0242ac1c0002\"]);\n",
              "//# sourceURL=js_0c2bea28c8"
            ],
            "text/plain": [
              "<IPython.core.display.Javascript object>"
            ]
          },
          "metadata": {}
        },
        {
          "output_type": "display_data",
          "data": {
            "application/javascript": [
              "window[\"8f2a6718-9da9-11ec-bdc8-0242ac1c0002\"] = google.colab.output.setActiveOutputArea(window[\"8f0b53f0-9da9-11ec-bdc8-0242ac1c0002\"]);\n",
              "//# sourceURL=js_298a25d37c"
            ],
            "text/plain": [
              "<IPython.core.display.Javascript object>"
            ]
          },
          "metadata": {}
        },
        {
          "output_type": "display_data",
          "data": {
            "application/javascript": [
              "window[\"8f4d83b0-9da9-11ec-bdc8-0242ac1c0002\"] = google.colab.output.getActiveOutputArea();\n",
              "//# sourceURL=js_8d4f1e0855"
            ],
            "text/plain": [
              "<IPython.core.display.Javascript object>"
            ]
          },
          "metadata": {}
        },
        {
          "output_type": "display_data",
          "data": {
            "application/javascript": [
              "window[\"8f4e6ea6-9da9-11ec-bdc8-0242ac1c0002\"] = document.querySelector(\"#id22-0-0\");\n",
              "//# sourceURL=js_ba4b14390f"
            ],
            "text/plain": [
              "<IPython.core.display.Javascript object>"
            ]
          },
          "metadata": {}
        },
        {
          "output_type": "display_data",
          "data": {
            "application/javascript": [
              "window[\"8f4f1ed2-9da9-11ec-bdc8-0242ac1c0002\"] = google.colab.output.setActiveOutputArea(window[\"8f4e6ea6-9da9-11ec-bdc8-0242ac1c0002\"]);\n",
              "//# sourceURL=js_66ad66c969"
            ],
            "text/plain": [
              "<IPython.core.display.Javascript object>"
            ]
          },
          "metadata": {}
        },
        {
          "output_type": "display_data",
          "data": {
            "application/javascript": [
              "window[\"8f68aab4-9da9-11ec-bdc8-0242ac1c0002\"] = google.colab.output.setActiveOutputArea(window[\"8f4d83b0-9da9-11ec-bdc8-0242ac1c0002\"]);\n",
              "//# sourceURL=js_0374cfe7de"
            ],
            "text/plain": [
              "<IPython.core.display.Javascript object>"
            ]
          },
          "metadata": {}
        },
        {
          "output_type": "display_data",
          "data": {
            "application/javascript": [
              "window[\"8f893036-9da9-11ec-bdc8-0242ac1c0002\"] = google.colab.output.getActiveOutputArea();\n",
              "//# sourceURL=js_74bb84876d"
            ],
            "text/plain": [
              "<IPython.core.display.Javascript object>"
            ]
          },
          "metadata": {}
        },
        {
          "output_type": "display_data",
          "data": {
            "application/javascript": [
              "window[\"8f89924c-9da9-11ec-bdc8-0242ac1c0002\"] = document.querySelector(\"#id22-0-0\");\n",
              "//# sourceURL=js_e5ccfdec0a"
            ],
            "text/plain": [
              "<IPython.core.display.Javascript object>"
            ]
          },
          "metadata": {}
        },
        {
          "output_type": "display_data",
          "data": {
            "application/javascript": [
              "window[\"8f8a1690-9da9-11ec-bdc8-0242ac1c0002\"] = google.colab.output.setActiveOutputArea(window[\"8f89924c-9da9-11ec-bdc8-0242ac1c0002\"]);\n",
              "//# sourceURL=js_3678405cf4"
            ],
            "text/plain": [
              "<IPython.core.display.Javascript object>"
            ]
          },
          "metadata": {}
        },
        {
          "output_type": "display_data",
          "data": {
            "application/javascript": [
              "window[\"8fa2e170-9da9-11ec-bdc8-0242ac1c0002\"] = google.colab.output.setActiveOutputArea(window[\"8f893036-9da9-11ec-bdc8-0242ac1c0002\"]);\n",
              "//# sourceURL=js_d3b5941536"
            ],
            "text/plain": [
              "<IPython.core.display.Javascript object>"
            ]
          },
          "metadata": {}
        },
        {
          "output_type": "display_data",
          "data": {
            "application/javascript": [
              "window[\"8fc364f4-9da9-11ec-bdc8-0242ac1c0002\"] = google.colab.output.getActiveOutputArea();\n",
              "//# sourceURL=js_9997f6aea4"
            ],
            "text/plain": [
              "<IPython.core.display.Javascript object>"
            ]
          },
          "metadata": {}
        },
        {
          "output_type": "display_data",
          "data": {
            "application/javascript": [
              "window[\"8fc3f78e-9da9-11ec-bdc8-0242ac1c0002\"] = document.querySelector(\"#id22-0-0\");\n",
              "//# sourceURL=js_6585e954f3"
            ],
            "text/plain": [
              "<IPython.core.display.Javascript object>"
            ]
          },
          "metadata": {}
        },
        {
          "output_type": "display_data",
          "data": {
            "application/javascript": [
              "window[\"8fc46bb0-9da9-11ec-bdc8-0242ac1c0002\"] = google.colab.output.setActiveOutputArea(window[\"8fc3f78e-9da9-11ec-bdc8-0242ac1c0002\"]);\n",
              "//# sourceURL=js_730fddad27"
            ],
            "text/plain": [
              "<IPython.core.display.Javascript object>"
            ]
          },
          "metadata": {}
        },
        {
          "output_type": "display_data",
          "data": {
            "application/javascript": [
              "window[\"8fdf6172-9da9-11ec-bdc8-0242ac1c0002\"] = google.colab.output.setActiveOutputArea(window[\"8fc364f4-9da9-11ec-bdc8-0242ac1c0002\"]);\n",
              "//# sourceURL=js_b9d42cd255"
            ],
            "text/plain": [
              "<IPython.core.display.Javascript object>"
            ]
          },
          "metadata": {}
        },
        {
          "output_type": "display_data",
          "data": {
            "application/javascript": [
              "window[\"90003668-9da9-11ec-bdc8-0242ac1c0002\"] = google.colab.output.getActiveOutputArea();\n",
              "//# sourceURL=js_4b61b06164"
            ],
            "text/plain": [
              "<IPython.core.display.Javascript object>"
            ]
          },
          "metadata": {}
        },
        {
          "output_type": "display_data",
          "data": {
            "application/javascript": [
              "window[\"9000963a-9da9-11ec-bdc8-0242ac1c0002\"] = document.querySelector(\"#id22-0-0\");\n",
              "//# sourceURL=js_b6e6ace591"
            ],
            "text/plain": [
              "<IPython.core.display.Javascript object>"
            ]
          },
          "metadata": {}
        },
        {
          "output_type": "display_data",
          "data": {
            "application/javascript": [
              "window[\"90011286-9da9-11ec-bdc8-0242ac1c0002\"] = google.colab.output.setActiveOutputArea(window[\"9000963a-9da9-11ec-bdc8-0242ac1c0002\"]);\n",
              "//# sourceURL=js_b40839c1af"
            ],
            "text/plain": [
              "<IPython.core.display.Javascript object>"
            ]
          },
          "metadata": {}
        },
        {
          "output_type": "display_data",
          "data": {
            "application/javascript": [
              "window[\"901a6ed4-9da9-11ec-bdc8-0242ac1c0002\"] = google.colab.output.setActiveOutputArea(window[\"90003668-9da9-11ec-bdc8-0242ac1c0002\"]);\n",
              "//# sourceURL=js_e2ce285f3d"
            ],
            "text/plain": [
              "<IPython.core.display.Javascript object>"
            ]
          },
          "metadata": {}
        },
        {
          "output_type": "display_data",
          "data": {
            "application/javascript": [
              "window[\"903b6198-9da9-11ec-bdc8-0242ac1c0002\"] = google.colab.output.getActiveOutputArea();\n",
              "//# sourceURL=js_5f44ea08e6"
            ],
            "text/plain": [
              "<IPython.core.display.Javascript object>"
            ]
          },
          "metadata": {}
        },
        {
          "output_type": "display_data",
          "data": {
            "application/javascript": [
              "window[\"903bd0ec-9da9-11ec-bdc8-0242ac1c0002\"] = document.querySelector(\"#id22-0-0\");\n",
              "//# sourceURL=js_a84b1c8d39"
            ],
            "text/plain": [
              "<IPython.core.display.Javascript object>"
            ]
          },
          "metadata": {}
        },
        {
          "output_type": "display_data",
          "data": {
            "application/javascript": [
              "window[\"903c4414-9da9-11ec-bdc8-0242ac1c0002\"] = google.colab.output.setActiveOutputArea(window[\"903bd0ec-9da9-11ec-bdc8-0242ac1c0002\"]);\n",
              "//# sourceURL=js_4521f1a438"
            ],
            "text/plain": [
              "<IPython.core.display.Javascript object>"
            ]
          },
          "metadata": {}
        },
        {
          "output_type": "display_data",
          "data": {
            "application/javascript": [
              "window[\"905606c4-9da9-11ec-bdc8-0242ac1c0002\"] = google.colab.output.setActiveOutputArea(window[\"903b6198-9da9-11ec-bdc8-0242ac1c0002\"]);\n",
              "//# sourceURL=js_c9b2743db4"
            ],
            "text/plain": [
              "<IPython.core.display.Javascript object>"
            ]
          },
          "metadata": {}
        },
        {
          "output_type": "display_data",
          "data": {
            "application/javascript": [
              "window[\"9076954c-9da9-11ec-bdc8-0242ac1c0002\"] = google.colab.output.getActiveOutputArea();\n",
              "//# sourceURL=js_76a61f7c8c"
            ],
            "text/plain": [
              "<IPython.core.display.Javascript object>"
            ]
          },
          "metadata": {}
        },
        {
          "output_type": "display_data",
          "data": {
            "application/javascript": [
              "window[\"90775626-9da9-11ec-bdc8-0242ac1c0002\"] = document.querySelector(\"#id22-0-0\");\n",
              "//# sourceURL=js_be8f457d51"
            ],
            "text/plain": [
              "<IPython.core.display.Javascript object>"
            ]
          },
          "metadata": {}
        },
        {
          "output_type": "display_data",
          "data": {
            "application/javascript": [
              "window[\"9077b9b8-9da9-11ec-bdc8-0242ac1c0002\"] = google.colab.output.setActiveOutputArea(window[\"90775626-9da9-11ec-bdc8-0242ac1c0002\"]);\n",
              "//# sourceURL=js_0b05b0c2be"
            ],
            "text/plain": [
              "<IPython.core.display.Javascript object>"
            ]
          },
          "metadata": {}
        },
        {
          "output_type": "display_data",
          "data": {
            "application/javascript": [
              "window[\"909d392c-9da9-11ec-bdc8-0242ac1c0002\"] = google.colab.output.setActiveOutputArea(window[\"9076954c-9da9-11ec-bdc8-0242ac1c0002\"]);\n",
              "//# sourceURL=js_e13682e1f9"
            ],
            "text/plain": [
              "<IPython.core.display.Javascript object>"
            ]
          },
          "metadata": {}
        },
        {
          "output_type": "display_data",
          "data": {
            "application/javascript": [
              "window[\"90bd98fc-9da9-11ec-bdc8-0242ac1c0002\"] = google.colab.output.getActiveOutputArea();\n",
              "//# sourceURL=js_2b6a2053ea"
            ],
            "text/plain": [
              "<IPython.core.display.Javascript object>"
            ]
          },
          "metadata": {}
        },
        {
          "output_type": "display_data",
          "data": {
            "application/javascript": [
              "window[\"90bdd65a-9da9-11ec-bdc8-0242ac1c0002\"] = document.querySelector(\"#id22-0-0\");\n",
              "//# sourceURL=js_00cfb2f294"
            ],
            "text/plain": [
              "<IPython.core.display.Javascript object>"
            ]
          },
          "metadata": {}
        },
        {
          "output_type": "display_data",
          "data": {
            "application/javascript": [
              "window[\"90be0d96-9da9-11ec-bdc8-0242ac1c0002\"] = google.colab.output.setActiveOutputArea(window[\"90bdd65a-9da9-11ec-bdc8-0242ac1c0002\"]);\n",
              "//# sourceURL=js_9053d1690b"
            ],
            "text/plain": [
              "<IPython.core.display.Javascript object>"
            ]
          },
          "metadata": {}
        },
        {
          "output_type": "display_data",
          "data": {
            "application/javascript": [
              "window[\"90d74edc-9da9-11ec-bdc8-0242ac1c0002\"] = google.colab.output.setActiveOutputArea(window[\"90bd98fc-9da9-11ec-bdc8-0242ac1c0002\"]);\n",
              "//# sourceURL=js_323de74320"
            ],
            "text/plain": [
              "<IPython.core.display.Javascript object>"
            ]
          },
          "metadata": {}
        },
        {
          "output_type": "display_data",
          "data": {
            "application/javascript": [
              "window[\"90f7d9f4-9da9-11ec-bdc8-0242ac1c0002\"] = google.colab.output.getActiveOutputArea();\n",
              "//# sourceURL=js_0d7242cc4a"
            ],
            "text/plain": [
              "<IPython.core.display.Javascript object>"
            ]
          },
          "metadata": {}
        },
        {
          "output_type": "display_data",
          "data": {
            "application/javascript": [
              "window[\"90f83eee-9da9-11ec-bdc8-0242ac1c0002\"] = document.querySelector(\"#id22-0-0\");\n",
              "//# sourceURL=js_0373b1a22e"
            ],
            "text/plain": [
              "<IPython.core.display.Javascript object>"
            ]
          },
          "metadata": {}
        },
        {
          "output_type": "display_data",
          "data": {
            "application/javascript": [
              "window[\"90f901c6-9da9-11ec-bdc8-0242ac1c0002\"] = google.colab.output.setActiveOutputArea(window[\"90f83eee-9da9-11ec-bdc8-0242ac1c0002\"]);\n",
              "//# sourceURL=js_b0515401bf"
            ],
            "text/plain": [
              "<IPython.core.display.Javascript object>"
            ]
          },
          "metadata": {}
        },
        {
          "output_type": "display_data",
          "data": {
            "application/javascript": [
              "window[\"91143824-9da9-11ec-bdc8-0242ac1c0002\"] = google.colab.output.setActiveOutputArea(window[\"90f7d9f4-9da9-11ec-bdc8-0242ac1c0002\"]);\n",
              "//# sourceURL=js_9632f6ec0b"
            ],
            "text/plain": [
              "<IPython.core.display.Javascript object>"
            ]
          },
          "metadata": {}
        },
        {
          "output_type": "display_data",
          "data": {
            "application/javascript": [
              "window[\"91373d38-9da9-11ec-bdc8-0242ac1c0002\"] = google.colab.output.getActiveOutputArea();\n",
              "//# sourceURL=js_63c1649159"
            ],
            "text/plain": [
              "<IPython.core.display.Javascript object>"
            ]
          },
          "metadata": {}
        },
        {
          "output_type": "display_data",
          "data": {
            "application/javascript": [
              "window[\"9137e350-9da9-11ec-bdc8-0242ac1c0002\"] = document.querySelector(\"#id22-0-0\");\n",
              "//# sourceURL=js_eb76748305"
            ],
            "text/plain": [
              "<IPython.core.display.Javascript object>"
            ]
          },
          "metadata": {}
        },
        {
          "output_type": "display_data",
          "data": {
            "application/javascript": [
              "window[\"91389264-9da9-11ec-bdc8-0242ac1c0002\"] = google.colab.output.setActiveOutputArea(window[\"9137e350-9da9-11ec-bdc8-0242ac1c0002\"]);\n",
              "//# sourceURL=js_0c484de624"
            ],
            "text/plain": [
              "<IPython.core.display.Javascript object>"
            ]
          },
          "metadata": {}
        },
        {
          "output_type": "display_data",
          "data": {
            "application/javascript": [
              "window[\"91538542-9da9-11ec-bdc8-0242ac1c0002\"] = google.colab.output.setActiveOutputArea(window[\"91373d38-9da9-11ec-bdc8-0242ac1c0002\"]);\n",
              "//# sourceURL=js_11cb2581a8"
            ],
            "text/plain": [
              "<IPython.core.display.Javascript object>"
            ]
          },
          "metadata": {}
        },
        {
          "output_type": "display_data",
          "data": {
            "application/javascript": [
              "window[\"9175f7da-9da9-11ec-bdc8-0242ac1c0002\"] = google.colab.output.getActiveOutputArea();\n",
              "//# sourceURL=js_c847dc7b69"
            ],
            "text/plain": [
              "<IPython.core.display.Javascript object>"
            ]
          },
          "metadata": {}
        },
        {
          "output_type": "display_data",
          "data": {
            "application/javascript": [
              "window[\"91765fea-9da9-11ec-bdc8-0242ac1c0002\"] = document.querySelector(\"#id22-0-0\");\n",
              "//# sourceURL=js_5d09f3d6f6"
            ],
            "text/plain": [
              "<IPython.core.display.Javascript object>"
            ]
          },
          "metadata": {}
        },
        {
          "output_type": "display_data",
          "data": {
            "application/javascript": [
              "window[\"9176d4fc-9da9-11ec-bdc8-0242ac1c0002\"] = google.colab.output.setActiveOutputArea(window[\"91765fea-9da9-11ec-bdc8-0242ac1c0002\"]);\n",
              "//# sourceURL=js_9e5dce08f1"
            ],
            "text/plain": [
              "<IPython.core.display.Javascript object>"
            ]
          },
          "metadata": {}
        },
        {
          "output_type": "display_data",
          "data": {
            "application/javascript": [
              "window[\"91934e02-9da9-11ec-bdc8-0242ac1c0002\"] = google.colab.output.setActiveOutputArea(window[\"9175f7da-9da9-11ec-bdc8-0242ac1c0002\"]);\n",
              "//# sourceURL=js_fd5758fbba"
            ],
            "text/plain": [
              "<IPython.core.display.Javascript object>"
            ]
          },
          "metadata": {}
        },
        {
          "output_type": "display_data",
          "data": {
            "application/javascript": [
              "window[\"91b55bdc-9da9-11ec-bdc8-0242ac1c0002\"] = google.colab.output.getActiveOutputArea();\n",
              "//# sourceURL=js_5fe518b583"
            ],
            "text/plain": [
              "<IPython.core.display.Javascript object>"
            ]
          },
          "metadata": {}
        },
        {
          "output_type": "display_data",
          "data": {
            "application/javascript": [
              "window[\"91b5cdb0-9da9-11ec-bdc8-0242ac1c0002\"] = document.querySelector(\"#id22-0-0\");\n",
              "//# sourceURL=js_1603fbae1f"
            ],
            "text/plain": [
              "<IPython.core.display.Javascript object>"
            ]
          },
          "metadata": {}
        },
        {
          "output_type": "display_data",
          "data": {
            "application/javascript": [
              "window[\"91b62a8a-9da9-11ec-bdc8-0242ac1c0002\"] = google.colab.output.setActiveOutputArea(window[\"91b5cdb0-9da9-11ec-bdc8-0242ac1c0002\"]);\n",
              "//# sourceURL=js_86c6373b7f"
            ],
            "text/plain": [
              "<IPython.core.display.Javascript object>"
            ]
          },
          "metadata": {}
        },
        {
          "output_type": "display_data",
          "data": {
            "application/javascript": [
              "window[\"91d05ab8-9da9-11ec-bdc8-0242ac1c0002\"] = google.colab.output.setActiveOutputArea(window[\"91b55bdc-9da9-11ec-bdc8-0242ac1c0002\"]);\n",
              "//# sourceURL=js_db2b3c4412"
            ],
            "text/plain": [
              "<IPython.core.display.Javascript object>"
            ]
          },
          "metadata": {}
        },
        {
          "output_type": "display_data",
          "data": {
            "application/javascript": [
              "window[\"91f320d4-9da9-11ec-bdc8-0242ac1c0002\"] = google.colab.output.getActiveOutputArea();\n",
              "//# sourceURL=js_1fe65c5eae"
            ],
            "text/plain": [
              "<IPython.core.display.Javascript object>"
            ]
          },
          "metadata": {}
        },
        {
          "output_type": "display_data",
          "data": {
            "application/javascript": [
              "window[\"91f3845c-9da9-11ec-bdc8-0242ac1c0002\"] = document.querySelector(\"#id22-0-0\");\n",
              "//# sourceURL=js_80e9ccc5cd"
            ],
            "text/plain": [
              "<IPython.core.display.Javascript object>"
            ]
          },
          "metadata": {}
        },
        {
          "output_type": "display_data",
          "data": {
            "application/javascript": [
              "window[\"91f3dd3a-9da9-11ec-bdc8-0242ac1c0002\"] = google.colab.output.setActiveOutputArea(window[\"91f3845c-9da9-11ec-bdc8-0242ac1c0002\"]);\n",
              "//# sourceURL=js_49c298ddeb"
            ],
            "text/plain": [
              "<IPython.core.display.Javascript object>"
            ]
          },
          "metadata": {}
        },
        {
          "output_type": "display_data",
          "data": {
            "application/javascript": [
              "window[\"920fc374-9da9-11ec-bdc8-0242ac1c0002\"] = google.colab.output.setActiveOutputArea(window[\"91f320d4-9da9-11ec-bdc8-0242ac1c0002\"]);\n",
              "//# sourceURL=js_f69b259754"
            ],
            "text/plain": [
              "<IPython.core.display.Javascript object>"
            ]
          },
          "metadata": {}
        },
        {
          "output_type": "display_data",
          "data": {
            "application/javascript": [
              "window[\"9231e2ec-9da9-11ec-bdc8-0242ac1c0002\"] = google.colab.output.getActiveOutputArea();\n",
              "//# sourceURL=js_40d1bf6ef7"
            ],
            "text/plain": [
              "<IPython.core.display.Javascript object>"
            ]
          },
          "metadata": {}
        },
        {
          "output_type": "display_data",
          "data": {
            "application/javascript": [
              "window[\"9232bbea-9da9-11ec-bdc8-0242ac1c0002\"] = document.querySelector(\"#id22-0-0\");\n",
              "//# sourceURL=js_7dfec6e694"
            ],
            "text/plain": [
              "<IPython.core.display.Javascript object>"
            ]
          },
          "metadata": {}
        },
        {
          "output_type": "display_data",
          "data": {
            "application/javascript": [
              "window[\"92331aea-9da9-11ec-bdc8-0242ac1c0002\"] = google.colab.output.setActiveOutputArea(window[\"9232bbea-9da9-11ec-bdc8-0242ac1c0002\"]);\n",
              "//# sourceURL=js_6eb902c549"
            ],
            "text/plain": [
              "<IPython.core.display.Javascript object>"
            ]
          },
          "metadata": {}
        },
        {
          "output_type": "display_data",
          "data": {
            "application/javascript": [
              "window[\"924cde58-9da9-11ec-bdc8-0242ac1c0002\"] = google.colab.output.setActiveOutputArea(window[\"9231e2ec-9da9-11ec-bdc8-0242ac1c0002\"]);\n",
              "//# sourceURL=js_c148157b84"
            ],
            "text/plain": [
              "<IPython.core.display.Javascript object>"
            ]
          },
          "metadata": {}
        },
        {
          "output_type": "display_data",
          "data": {
            "application/javascript": [
              "window[\"926da818-9da9-11ec-bdc8-0242ac1c0002\"] = google.colab.output.getActiveOutputArea();\n",
              "//# sourceURL=js_f2949dd2ba"
            ],
            "text/plain": [
              "<IPython.core.display.Javascript object>"
            ]
          },
          "metadata": {}
        },
        {
          "output_type": "display_data",
          "data": {
            "application/javascript": [
              "window[\"926e0240-9da9-11ec-bdc8-0242ac1c0002\"] = document.querySelector(\"#id22-0-0\");\n",
              "//# sourceURL=js_76ec9ae5c0"
            ],
            "text/plain": [
              "<IPython.core.display.Javascript object>"
            ]
          },
          "metadata": {}
        },
        {
          "output_type": "display_data",
          "data": {
            "application/javascript": [
              "window[\"926e6d20-9da9-11ec-bdc8-0242ac1c0002\"] = google.colab.output.setActiveOutputArea(window[\"926e0240-9da9-11ec-bdc8-0242ac1c0002\"]);\n",
              "//# sourceURL=js_5545842947"
            ],
            "text/plain": [
              "<IPython.core.display.Javascript object>"
            ]
          },
          "metadata": {}
        },
        {
          "output_type": "display_data",
          "data": {
            "application/javascript": [
              "window[\"9288dfc0-9da9-11ec-bdc8-0242ac1c0002\"] = google.colab.output.setActiveOutputArea(window[\"926da818-9da9-11ec-bdc8-0242ac1c0002\"]);\n",
              "//# sourceURL=js_9d0fc8de80"
            ],
            "text/plain": [
              "<IPython.core.display.Javascript object>"
            ]
          },
          "metadata": {}
        },
        {
          "output_type": "display_data",
          "data": {
            "application/javascript": [
              "window[\"92a97398-9da9-11ec-bdc8-0242ac1c0002\"] = google.colab.output.getActiveOutputArea();\n",
              "//# sourceURL=js_507c3d64be"
            ],
            "text/plain": [
              "<IPython.core.display.Javascript object>"
            ]
          },
          "metadata": {}
        },
        {
          "output_type": "display_data",
          "data": {
            "application/javascript": [
              "window[\"92a9cf46-9da9-11ec-bdc8-0242ac1c0002\"] = document.querySelector(\"#id22-0-0\");\n",
              "//# sourceURL=js_2fab6a2316"
            ],
            "text/plain": [
              "<IPython.core.display.Javascript object>"
            ]
          },
          "metadata": {}
        },
        {
          "output_type": "display_data",
          "data": {
            "application/javascript": [
              "window[\"92aa3238-9da9-11ec-bdc8-0242ac1c0002\"] = google.colab.output.setActiveOutputArea(window[\"92a9cf46-9da9-11ec-bdc8-0242ac1c0002\"]);\n",
              "//# sourceURL=js_90fbda8718"
            ],
            "text/plain": [
              "<IPython.core.display.Javascript object>"
            ]
          },
          "metadata": {}
        },
        {
          "output_type": "display_data",
          "data": {
            "application/javascript": [
              "window[\"92c43066-9da9-11ec-bdc8-0242ac1c0002\"] = google.colab.output.setActiveOutputArea(window[\"92a97398-9da9-11ec-bdc8-0242ac1c0002\"]);\n",
              "//# sourceURL=js_22a293512f"
            ],
            "text/plain": [
              "<IPython.core.display.Javascript object>"
            ]
          },
          "metadata": {}
        },
        {
          "output_type": "display_data",
          "data": {
            "application/javascript": [
              "window[\"92e6ecbe-9da9-11ec-bdc8-0242ac1c0002\"] = google.colab.output.getActiveOutputArea();\n",
              "//# sourceURL=js_8e798248e5"
            ],
            "text/plain": [
              "<IPython.core.display.Javascript object>"
            ]
          },
          "metadata": {}
        },
        {
          "output_type": "display_data",
          "data": {
            "application/javascript": [
              "window[\"92e73f52-9da9-11ec-bdc8-0242ac1c0002\"] = document.querySelector(\"#id22-0-0\");\n",
              "//# sourceURL=js_d7e3cbce4d"
            ],
            "text/plain": [
              "<IPython.core.display.Javascript object>"
            ]
          },
          "metadata": {}
        },
        {
          "output_type": "display_data",
          "data": {
            "application/javascript": [
              "window[\"92e7a244-9da9-11ec-bdc8-0242ac1c0002\"] = google.colab.output.setActiveOutputArea(window[\"92e73f52-9da9-11ec-bdc8-0242ac1c0002\"]);\n",
              "//# sourceURL=js_f8f698eb1b"
            ],
            "text/plain": [
              "<IPython.core.display.Javascript object>"
            ]
          },
          "metadata": {}
        },
        {
          "output_type": "display_data",
          "data": {
            "application/javascript": [
              "window[\"9304a01a-9da9-11ec-bdc8-0242ac1c0002\"] = google.colab.output.setActiveOutputArea(window[\"92e6ecbe-9da9-11ec-bdc8-0242ac1c0002\"]);\n",
              "//# sourceURL=js_f89c0fcaea"
            ],
            "text/plain": [
              "<IPython.core.display.Javascript object>"
            ]
          },
          "metadata": {}
        },
        {
          "output_type": "display_data",
          "data": {
            "application/javascript": [
              "window[\"93258884-9da9-11ec-bdc8-0242ac1c0002\"] = google.colab.output.getActiveOutputArea();\n",
              "//# sourceURL=js_29f77c2ed4"
            ],
            "text/plain": [
              "<IPython.core.display.Javascript object>"
            ]
          },
          "metadata": {}
        },
        {
          "output_type": "display_data",
          "data": {
            "application/javascript": [
              "window[\"9325eb08-9da9-11ec-bdc8-0242ac1c0002\"] = document.querySelector(\"#id22-0-0\");\n",
              "//# sourceURL=js_90eaa05c5e"
            ],
            "text/plain": [
              "<IPython.core.display.Javascript object>"
            ]
          },
          "metadata": {}
        },
        {
          "output_type": "display_data",
          "data": {
            "application/javascript": [
              "window[\"932660a6-9da9-11ec-bdc8-0242ac1c0002\"] = google.colab.output.setActiveOutputArea(window[\"9325eb08-9da9-11ec-bdc8-0242ac1c0002\"]);\n",
              "//# sourceURL=js_641bffc15b"
            ],
            "text/plain": [
              "<IPython.core.display.Javascript object>"
            ]
          },
          "metadata": {}
        },
        {
          "output_type": "display_data",
          "data": {
            "application/javascript": [
              "window[\"934192e0-9da9-11ec-bdc8-0242ac1c0002\"] = google.colab.output.setActiveOutputArea(window[\"93258884-9da9-11ec-bdc8-0242ac1c0002\"]);\n",
              "//# sourceURL=js_8427851c01"
            ],
            "text/plain": [
              "<IPython.core.display.Javascript object>"
            ]
          },
          "metadata": {}
        },
        {
          "output_type": "display_data",
          "data": {
            "application/javascript": [
              "window[\"93629954-9da9-11ec-bdc8-0242ac1c0002\"] = google.colab.output.getActiveOutputArea();\n",
              "//# sourceURL=js_9442e2ea12"
            ],
            "text/plain": [
              "<IPython.core.display.Javascript object>"
            ]
          },
          "metadata": {}
        },
        {
          "output_type": "display_data",
          "data": {
            "application/javascript": [
              "window[\"9362de5a-9da9-11ec-bdc8-0242ac1c0002\"] = document.querySelector(\"#id22-0-0\");\n",
              "//# sourceURL=js_902876810d"
            ],
            "text/plain": [
              "<IPython.core.display.Javascript object>"
            ]
          },
          "metadata": {}
        },
        {
          "output_type": "display_data",
          "data": {
            "application/javascript": [
              "window[\"93631b2c-9da9-11ec-bdc8-0242ac1c0002\"] = google.colab.output.setActiveOutputArea(window[\"9362de5a-9da9-11ec-bdc8-0242ac1c0002\"]);\n",
              "//# sourceURL=js_1f6323a449"
            ],
            "text/plain": [
              "<IPython.core.display.Javascript object>"
            ]
          },
          "metadata": {}
        },
        {
          "output_type": "display_data",
          "data": {
            "application/javascript": [
              "window[\"937dff14-9da9-11ec-bdc8-0242ac1c0002\"] = google.colab.output.setActiveOutputArea(window[\"93629954-9da9-11ec-bdc8-0242ac1c0002\"]);\n",
              "//# sourceURL=js_d5b83f31e5"
            ],
            "text/plain": [
              "<IPython.core.display.Javascript object>"
            ]
          },
          "metadata": {}
        },
        {
          "output_type": "display_data",
          "data": {
            "application/javascript": [
              "window[\"939e909e-9da9-11ec-bdc8-0242ac1c0002\"] = google.colab.output.getActiveOutputArea();\n",
              "//# sourceURL=js_8c6e6d3a8b"
            ],
            "text/plain": [
              "<IPython.core.display.Javascript object>"
            ]
          },
          "metadata": {}
        },
        {
          "output_type": "display_data",
          "data": {
            "application/javascript": [
              "window[\"939ee7f6-9da9-11ec-bdc8-0242ac1c0002\"] = document.querySelector(\"#id22-0-0\");\n",
              "//# sourceURL=js_bff5f9ba88"
            ],
            "text/plain": [
              "<IPython.core.display.Javascript object>"
            ]
          },
          "metadata": {}
        },
        {
          "output_type": "display_data",
          "data": {
            "application/javascript": [
              "window[\"939fbfa0-9da9-11ec-bdc8-0242ac1c0002\"] = google.colab.output.setActiveOutputArea(window[\"939ee7f6-9da9-11ec-bdc8-0242ac1c0002\"]);\n",
              "//# sourceURL=js_93059bab77"
            ],
            "text/plain": [
              "<IPython.core.display.Javascript object>"
            ]
          },
          "metadata": {}
        },
        {
          "output_type": "display_data",
          "data": {
            "application/javascript": [
              "window[\"93c2cc16-9da9-11ec-bdc8-0242ac1c0002\"] = google.colab.output.setActiveOutputArea(window[\"939e909e-9da9-11ec-bdc8-0242ac1c0002\"]);\n",
              "//# sourceURL=js_95d24357a3"
            ],
            "text/plain": [
              "<IPython.core.display.Javascript object>"
            ]
          },
          "metadata": {}
        },
        {
          "output_type": "display_data",
          "data": {
            "application/javascript": [
              "window[\"93e33fbe-9da9-11ec-bdc8-0242ac1c0002\"] = google.colab.output.getActiveOutputArea();\n",
              "//# sourceURL=js_e379466d6f"
            ],
            "text/plain": [
              "<IPython.core.display.Javascript object>"
            ]
          },
          "metadata": {}
        },
        {
          "output_type": "display_data",
          "data": {
            "application/javascript": [
              "window[\"93e3c15a-9da9-11ec-bdc8-0242ac1c0002\"] = document.querySelector(\"#id22-0-0\");\n",
              "//# sourceURL=js_b9712cfb34"
            ],
            "text/plain": [
              "<IPython.core.display.Javascript object>"
            ]
          },
          "metadata": {}
        },
        {
          "output_type": "display_data",
          "data": {
            "application/javascript": [
              "window[\"93e485ae-9da9-11ec-bdc8-0242ac1c0002\"] = google.colab.output.setActiveOutputArea(window[\"93e3c15a-9da9-11ec-bdc8-0242ac1c0002\"]);\n",
              "//# sourceURL=js_a8462b479a"
            ],
            "text/plain": [
              "<IPython.core.display.Javascript object>"
            ]
          },
          "metadata": {}
        },
        {
          "output_type": "display_data",
          "data": {
            "application/javascript": [
              "window[\"94009e6a-9da9-11ec-bdc8-0242ac1c0002\"] = google.colab.output.setActiveOutputArea(window[\"93e33fbe-9da9-11ec-bdc8-0242ac1c0002\"]);\n",
              "//# sourceURL=js_7fb3db904f"
            ],
            "text/plain": [
              "<IPython.core.display.Javascript object>"
            ]
          },
          "metadata": {}
        },
        {
          "output_type": "display_data",
          "data": {
            "application/javascript": [
              "window[\"9423be22-9da9-11ec-bdc8-0242ac1c0002\"] = google.colab.output.getActiveOutputArea();\n",
              "//# sourceURL=js_ae0a3ba128"
            ],
            "text/plain": [
              "<IPython.core.display.Javascript object>"
            ]
          },
          "metadata": {}
        },
        {
          "output_type": "display_data",
          "data": {
            "application/javascript": [
              "window[\"94240d8c-9da9-11ec-bdc8-0242ac1c0002\"] = document.querySelector(\"#id22-0-0\");\n",
              "//# sourceURL=js_27f4622c47"
            ],
            "text/plain": [
              "<IPython.core.display.Javascript object>"
            ]
          },
          "metadata": {}
        },
        {
          "output_type": "display_data",
          "data": {
            "application/javascript": [
              "window[\"942488f2-9da9-11ec-bdc8-0242ac1c0002\"] = google.colab.output.setActiveOutputArea(window[\"94240d8c-9da9-11ec-bdc8-0242ac1c0002\"]);\n",
              "//# sourceURL=js_9b7cded7ea"
            ],
            "text/plain": [
              "<IPython.core.display.Javascript object>"
            ]
          },
          "metadata": {}
        },
        {
          "output_type": "display_data",
          "data": {
            "application/javascript": [
              "window[\"943fccf2-9da9-11ec-bdc8-0242ac1c0002\"] = google.colab.output.setActiveOutputArea(window[\"9423be22-9da9-11ec-bdc8-0242ac1c0002\"]);\n",
              "//# sourceURL=js_f75e93cd72"
            ],
            "text/plain": [
              "<IPython.core.display.Javascript object>"
            ]
          },
          "metadata": {}
        },
        {
          "output_type": "display_data",
          "data": {
            "application/javascript": [
              "window[\"9460eee6-9da9-11ec-bdc8-0242ac1c0002\"] = google.colab.output.getActiveOutputArea();\n",
              "//# sourceURL=js_5ceb46fcdc"
            ],
            "text/plain": [
              "<IPython.core.display.Javascript object>"
            ]
          },
          "metadata": {}
        },
        {
          "output_type": "display_data",
          "data": {
            "application/javascript": [
              "window[\"9461648e-9da9-11ec-bdc8-0242ac1c0002\"] = document.querySelector(\"#id22-0-0\");\n",
              "//# sourceURL=js_2db79d4d8a"
            ],
            "text/plain": [
              "<IPython.core.display.Javascript object>"
            ]
          },
          "metadata": {}
        },
        {
          "output_type": "display_data",
          "data": {
            "application/javascript": [
              "window[\"9461d806-9da9-11ec-bdc8-0242ac1c0002\"] = google.colab.output.setActiveOutputArea(window[\"9461648e-9da9-11ec-bdc8-0242ac1c0002\"]);\n",
              "//# sourceURL=js_f132b71905"
            ],
            "text/plain": [
              "<IPython.core.display.Javascript object>"
            ]
          },
          "metadata": {}
        },
        {
          "output_type": "display_data",
          "data": {
            "application/javascript": [
              "window[\"947cf3fc-9da9-11ec-bdc8-0242ac1c0002\"] = google.colab.output.setActiveOutputArea(window[\"9460eee6-9da9-11ec-bdc8-0242ac1c0002\"]);\n",
              "//# sourceURL=js_f24af5b3d1"
            ],
            "text/plain": [
              "<IPython.core.display.Javascript object>"
            ]
          },
          "metadata": {}
        },
        {
          "output_type": "display_data",
          "data": {
            "application/javascript": [
              "window[\"949e2568-9da9-11ec-bdc8-0242ac1c0002\"] = google.colab.output.getActiveOutputArea();\n",
              "//# sourceURL=js_2d8d648c12"
            ],
            "text/plain": [
              "<IPython.core.display.Javascript object>"
            ]
          },
          "metadata": {}
        },
        {
          "output_type": "display_data",
          "data": {
            "application/javascript": [
              "window[\"949ec572-9da9-11ec-bdc8-0242ac1c0002\"] = document.querySelector(\"#id22-0-0\");\n",
              "//# sourceURL=js_f19421955c"
            ],
            "text/plain": [
              "<IPython.core.display.Javascript object>"
            ]
          },
          "metadata": {}
        },
        {
          "output_type": "display_data",
          "data": {
            "application/javascript": [
              "window[\"949f3dea-9da9-11ec-bdc8-0242ac1c0002\"] = google.colab.output.setActiveOutputArea(window[\"949ec572-9da9-11ec-bdc8-0242ac1c0002\"]);\n",
              "//# sourceURL=js_2065a37a3a"
            ],
            "text/plain": [
              "<IPython.core.display.Javascript object>"
            ]
          },
          "metadata": {}
        },
        {
          "output_type": "display_data",
          "data": {
            "application/javascript": [
              "window[\"94ba28c6-9da9-11ec-bdc8-0242ac1c0002\"] = google.colab.output.setActiveOutputArea(window[\"949e2568-9da9-11ec-bdc8-0242ac1c0002\"]);\n",
              "//# sourceURL=js_c0bd400e4b"
            ],
            "text/plain": [
              "<IPython.core.display.Javascript object>"
            ]
          },
          "metadata": {}
        },
        {
          "output_type": "display_data",
          "data": {
            "application/javascript": [
              "window[\"94daf434-9da9-11ec-bdc8-0242ac1c0002\"] = google.colab.output.getActiveOutputArea();\n",
              "//# sourceURL=js_048f0e0306"
            ],
            "text/plain": [
              "<IPython.core.display.Javascript object>"
            ]
          },
          "metadata": {}
        },
        {
          "output_type": "display_data",
          "data": {
            "application/javascript": [
              "window[\"94db5186-9da9-11ec-bdc8-0242ac1c0002\"] = document.querySelector(\"#id22-0-0\");\n",
              "//# sourceURL=js_05113b9a4c"
            ],
            "text/plain": [
              "<IPython.core.display.Javascript object>"
            ]
          },
          "metadata": {}
        },
        {
          "output_type": "display_data",
          "data": {
            "application/javascript": [
              "window[\"94dbc35a-9da9-11ec-bdc8-0242ac1c0002\"] = google.colab.output.setActiveOutputArea(window[\"94db5186-9da9-11ec-bdc8-0242ac1c0002\"]);\n",
              "//# sourceURL=js_8eff4a3b97"
            ],
            "text/plain": [
              "<IPython.core.display.Javascript object>"
            ]
          },
          "metadata": {}
        },
        {
          "output_type": "display_data",
          "data": {
            "application/javascript": [
              "window[\"94f5d286-9da9-11ec-bdc8-0242ac1c0002\"] = google.colab.output.setActiveOutputArea(window[\"94daf434-9da9-11ec-bdc8-0242ac1c0002\"]);\n",
              "//# sourceURL=js_cf9ee23e4f"
            ],
            "text/plain": [
              "<IPython.core.display.Javascript object>"
            ]
          },
          "metadata": {}
        },
        {
          "output_type": "display_data",
          "data": {
            "application/javascript": [
              "window[\"95168878-9da9-11ec-bdc8-0242ac1c0002\"] = google.colab.output.getActiveOutputArea();\n",
              "//# sourceURL=js_29d30e919a"
            ],
            "text/plain": [
              "<IPython.core.display.Javascript object>"
            ]
          },
          "metadata": {}
        },
        {
          "output_type": "display_data",
          "data": {
            "application/javascript": [
              "window[\"9516f2cc-9da9-11ec-bdc8-0242ac1c0002\"] = document.querySelector(\"#id22-0-0\");\n",
              "//# sourceURL=js_e998d9ebc2"
            ],
            "text/plain": [
              "<IPython.core.display.Javascript object>"
            ]
          },
          "metadata": {}
        },
        {
          "output_type": "display_data",
          "data": {
            "application/javascript": [
              "window[\"951784c6-9da9-11ec-bdc8-0242ac1c0002\"] = google.colab.output.setActiveOutputArea(window[\"9516f2cc-9da9-11ec-bdc8-0242ac1c0002\"]);\n",
              "//# sourceURL=js_10ce50df03"
            ],
            "text/plain": [
              "<IPython.core.display.Javascript object>"
            ]
          },
          "metadata": {}
        },
        {
          "output_type": "display_data",
          "data": {
            "image/png": "[encoded data removed]",
            "text/plain": [
              "<Figure size 432x288 with 1 Axes>"
            ]
          },
          "metadata": {
            "needs_background": "light"
          }
        },
        {
          "output_type": "display_data",
          "data": {
            "application/javascript": [
              "window[\"9533ed14-9da9-11ec-bdc8-0242ac1c0002\"] = google.colab.output.setActiveOutputArea(window[\"95168878-9da9-11ec-bdc8-0242ac1c0002\"]);\n",
              "//# sourceURL=js_9e1b4432de"
            ],
            "text/plain": [
              "<IPython.core.display.Javascript object>"
            ]
          },
          "metadata": {}
        },
        {
          "output_type": "execute_result",
          "data": {
            "text/plain": [
              "<matplotlib.legend.Legend at 0x7f9c07ace110>"
            ]
          },
          "metadata": {},
          "execution_count": 17
        },
        {
          "output_type": "display_data",
          "data": {
            "image/png": "[encoded data removed]",
            "text/plain": [
              "<Figure size 432x288 with 2 Axes>"
            ]
          },
          "metadata": {
            "needs_background": "light"
          }
        },
        {
          "output_type": "display_data",
          "data": {
            "image/png": "[encoded data removed]",
            "text/plain": [
              "<Figure size 432x288 with 2 Axes>"
            ]
          },
          "metadata": {
            "needs_background": "light"
          }
        },
        {
          "output_type": "display_data",
          "data": {
            "image/png": "[encoded data removed]",
            "text/plain": [
              "<Figure size 432x288 with 1 Axes>"
            ]
          },
          "metadata": {
            "needs_background": "light"
          }
        },
        {
          "output_type": "display_data",
          "data": {
            "image/png": "[encoded data removed]",
            "text/plain": [
              "<Figure size 432x288 with 1 Axes>"
            ]
          },
          "metadata": {
            "needs_background": "light"
          }
        }
      ],
      "source": [
        "env = GridEnvironment()\n",
        "agent = RandomAgent(env)\n",
        "max_episod =1000\n",
        "pos = env.reset()\n",
        "g=[]\n",
        "e=[]\n",
        "t_step=0\n",
        "output_grid = widgets.Grid(1, 1)\n",
        "with output_grid.output_to(0, 0):\n",
        "  env.render()\n",
        "for episod in range(max_episod+1):\n",
        "  pos = env.reset()\n",
        "  done = False\n",
        "  acu_reward=0\n",
        "  ep=0\n",
        "  while not done:\n",
        "    action , ep = agent.step(pos, episod, max_episod)\n",
        "\n",
        "    action_taken , pos, reward, done, info , t_step = env.step(action)\n",
        "    QA_table , QB_table = agent.update(action_taken, reward , pos)\n",
        "    QA=np.argmax(QA_table, axis=1)\n",
        "    QB=np.argmax(QB_table, axis=1)\n",
        "    acu_reward +=reward\n",
        "\n",
        "    if episod % (max_episod/1) == 0 or episod > max_episod - 5:\n",
        "      with output_grid.output_to(0, 0):\n",
        "        output_grid.clear_cell()\n",
        "        env.render()\n",
        "        plt.title(\"Episode: \" + str(episod))\n",
        "\n",
        "      time.sleep(0.2)\n",
        "  e.append(ep)\n",
        "  g.append(acu_reward)\n",
        "QA=np.argmax(QA_table, axis=1)\n",
        "QB=np.argmax(QB_table, axis=1)\n",
        "plt.imshow(QA.reshape(11,11))\n",
        "plt.colorbar()\n",
        "plt.figure()\n",
        "plt.imshow(QB.reshape(11,11))\n",
        "plt.colorbar()\n",
        "plt.figure()\n",
        "plt.plot(g,label=\"Total reward/episode\")\n",
        "plt.xlabel(\"Episodes\")\n",
        "plt.ylabel(\"Total reward\")\n",
        "plt.legend()\n",
        "plt.figure()\n",
        "plt.plot(e, label=\"decay factor\")\n",
        "plt.xlabel(\"Episodes\")\n",
        "plt.ylabel(\"Epsilon\")\n",
        "plt.legend()"
      ]
    },
    {
      "cell_type": "code",
      "source": [
        "pos = env.reset()\n",
        "\n",
        "g=[]\n",
        "output_grid = widgets.Grid(1, 1)\n",
        "with output_grid.output_to(0, 0):\n",
        "  env.render()\n",
        "for episod in range(10):\n",
        "  pos = env.reset()\n",
        "  done = False\n",
        "  acu_reward =0 \n",
        "  while not done:\n",
        "    action , ep = agent.step(pos, 1, 1)\n",
        "    action_taken , pos, reward, done, info , t_step = env.step(action)\n",
        "    acu_reward += reward\n",
        "    with output_grid.output_to(0, 0):\n",
        "      output_grid.clear_cell()\n",
        "      env.render()\n",
        "      plt.title(\"Demo Episode: \" + str(episod+1))\n",
        "\n",
        "    time.sleep(0.2)\n",
        "  g.append(acu_reward)\n",
        "plt.plot(g,label=\"Total reward/episode\")\n",
        "plt.xlabel(\"Episodes\")\n",
        "plt.ylabel(\"Total Reward\")\n",
        "plt.legend()"
      ],
      "metadata": {
        "id": "X3tWA7RlxSsj",
        "colab": {
          "base_uri": "https://localhost:8080/",
          "height": 565
        },
        "outputId": "e9b199de-c0bd-4d05-e8e3-9f46a1e33120"
      },
      "execution_count": null,
      "outputs": [
        {
          "output_type": "display_data",
          "data": {
            "text/html": [
              "<style>\n",
              "       table#id18, #id18 > tbody > tr > th, #id18 > tbody > tr > td {\n",
              "         border: 1px solid lightgray;\n",
              "         border-collapse:collapse;\n",
              "         \n",
              "        }</style>"
            ],
            "text/plain": [
              "<IPython.core.display.HTML object>"
            ]
          },
          "metadata": {}
        },
        {
          "output_type": "display_data",
          "data": {
            "text/html": [
              "<table id=id18><tr><td id=id18-0-0></td></tr></table>"
            ],
            "text/plain": [
              "<IPython.core.display.HTML object>"
            ]
          },
          "metadata": {}
        },
        {
          "output_type": "display_data",
          "data": {
            "application/javascript": [
              "window[\"468f2136-9da1-11ec-bdc8-0242ac1c0002\"] = google.colab.output.getActiveOutputArea();\n",
              "//# sourceURL=js_61e0915231"
            ],
            "text/plain": [
              "<IPython.core.display.Javascript object>"
            ]
          },
          "metadata": {}
        },
        {
          "output_type": "display_data",
          "data": {
            "application/javascript": [
              "window[\"468fa372-9da1-11ec-bdc8-0242ac1c0002\"] = document.querySelector(\"#id18-0-0\");\n",
              "//# sourceURL=js_9ada5f9bcd"
            ],
            "text/plain": [
              "<IPython.core.display.Javascript object>"
            ]
          },
          "metadata": {}
        },
        {
          "output_type": "display_data",
          "data": {
            "application/javascript": [
              "window[\"469063fc-9da1-11ec-bdc8-0242ac1c0002\"] = google.colab.output.setActiveOutputArea(window[\"468fa372-9da1-11ec-bdc8-0242ac1c0002\"]);\n",
              "//# sourceURL=js_eafdbcbb02"
            ],
            "text/plain": [
              "<IPython.core.display.Javascript object>"
            ]
          },
          "metadata": {}
        },
        {
          "output_type": "display_data",
          "data": {
            "application/javascript": [
              "window[\"46b2e3f0-9da1-11ec-bdc8-0242ac1c0002\"] = google.colab.output.setActiveOutputArea(window[\"468f2136-9da1-11ec-bdc8-0242ac1c0002\"]);\n",
              "//# sourceURL=js_58c70ec6c4"
            ],
            "text/plain": [
              "<IPython.core.display.Javascript object>"
            ]
          },
          "metadata": {}
        },
        {
          "output_type": "display_data",
          "data": {
            "application/javascript": [
              "window[\"46b7aa70-9da1-11ec-bdc8-0242ac1c0002\"] = google.colab.output.getActiveOutputArea();\n",
              "//# sourceURL=js_4dcd9c261a"
            ],
            "text/plain": [
              "<IPython.core.display.Javascript object>"
            ]
          },
          "metadata": {}
        },
        {
          "output_type": "display_data",
          "data": {
            "application/javascript": [
              "window[\"46b862bc-9da1-11ec-bdc8-0242ac1c0002\"] = document.querySelector(\"#id18-0-0\");\n",
              "//# sourceURL=js_b957f5abc6"
            ],
            "text/plain": [
              "<IPython.core.display.Javascript object>"
            ]
          },
          "metadata": {}
        },
        {
          "output_type": "display_data",
          "data": {
            "application/javascript": [
              "window[\"46b90adc-9da1-11ec-bdc8-0242ac1c0002\"] = google.colab.output.setActiveOutputArea(window[\"46b862bc-9da1-11ec-bdc8-0242ac1c0002\"]);\n",
              "//# sourceURL=js_bebcbe43a7"
            ],
            "text/plain": [
              "<IPython.core.display.Javascript object>"
            ]
          },
          "metadata": {}
        },
        {
          "output_type": "display_data",
          "data": {
            "application/javascript": [
              "window[\"46d1cd92-9da1-11ec-bdc8-0242ac1c0002\"] = google.colab.output.setActiveOutputArea(window[\"46b7aa70-9da1-11ec-bdc8-0242ac1c0002\"]);\n",
              "//# sourceURL=js_a8f435203a"
            ],
            "text/plain": [
              "<IPython.core.display.Javascript object>"
            ]
          },
          "metadata": {}
        },
        {
          "output_type": "display_data",
          "data": {
            "application/javascript": [
              "window[\"46f44b60-9da1-11ec-bdc8-0242ac1c0002\"] = google.colab.output.getActiveOutputArea();\n",
              "//# sourceURL=js_c1ade5813c"
            ],
            "text/plain": [
              "<IPython.core.display.Javascript object>"
            ]
          },
          "metadata": {}
        },
        {
          "output_type": "display_data",
          "data": {
            "application/javascript": [
              "window[\"46f4a2ea-9da1-11ec-bdc8-0242ac1c0002\"] = document.querySelector(\"#id18-0-0\");\n",
              "//# sourceURL=js_d152ee54ef"
            ],
            "text/plain": [
              "<IPython.core.display.Javascript object>"
            ]
          },
          "metadata": {}
        },
        {
          "output_type": "display_data",
          "data": {
            "application/javascript": [
              "window[\"46f5727e-9da1-11ec-bdc8-0242ac1c0002\"] = google.colab.output.setActiveOutputArea(window[\"46f4a2ea-9da1-11ec-bdc8-0242ac1c0002\"]);\n",
              "//# sourceURL=js_b7ca948250"
            ],
            "text/plain": [
              "<IPython.core.display.Javascript object>"
            ]
          },
          "metadata": {}
        },
        {
          "output_type": "display_data",
          "data": {
            "application/javascript": [
              "window[\"470f38d0-9da1-11ec-bdc8-0242ac1c0002\"] = google.colab.output.setActiveOutputArea(window[\"46f44b60-9da1-11ec-bdc8-0242ac1c0002\"]);\n",
              "//# sourceURL=js_ccef72d2eb"
            ],
            "text/plain": [
              "<IPython.core.display.Javascript object>"
            ]
          },
          "metadata": {}
        },
        {
          "output_type": "display_data",
          "data": {
            "application/javascript": [
              "window[\"4732361e-9da1-11ec-bdc8-0242ac1c0002\"] = google.colab.output.getActiveOutputArea();\n",
              "//# sourceURL=js_66a2a64764"
            ],
            "text/plain": [
              "<IPython.core.display.Javascript object>"
            ]
          },
          "metadata": {}
        },
        {
          "output_type": "display_data",
          "data": {
            "application/javascript": [
              "window[\"4732c9d0-9da1-11ec-bdc8-0242ac1c0002\"] = document.querySelector(\"#id18-0-0\");\n",
              "//# sourceURL=js_f4c10239a0"
            ],
            "text/plain": [
              "<IPython.core.display.Javascript object>"
            ]
          },
          "metadata": {}
        },
        {
          "output_type": "display_data",
          "data": {
            "application/javascript": [
              "window[\"47339018-9da1-11ec-bdc8-0242ac1c0002\"] = google.colab.output.setActiveOutputArea(window[\"4732c9d0-9da1-11ec-bdc8-0242ac1c0002\"]);\n",
              "//# sourceURL=js_d95f7f76be"
            ],
            "text/plain": [
              "<IPython.core.display.Javascript object>"
            ]
          },
          "metadata": {}
        },
        {
          "output_type": "display_data",
          "data": {
            "application/javascript": [
              "window[\"474d7a96-9da1-11ec-bdc8-0242ac1c0002\"] = google.colab.output.setActiveOutputArea(window[\"4732361e-9da1-11ec-bdc8-0242ac1c0002\"]);\n",
              "//# sourceURL=js_691dec7097"
            ],
            "text/plain": [
              "<IPython.core.display.Javascript object>"
            ]
          },
          "metadata": {}
        },
        {
          "output_type": "display_data",
          "data": {
            "application/javascript": [
              "window[\"476f9c5c-9da1-11ec-bdc8-0242ac1c0002\"] = google.colab.output.getActiveOutputArea();\n",
              "//# sourceURL=js_b4b818bf51"
            ],
            "text/plain": [
              "<IPython.core.display.Javascript object>"
            ]
          },
          "metadata": {}
        },
        {
          "output_type": "display_data",
          "data": {
            "application/javascript": [
              "window[\"47702d52-9da1-11ec-bdc8-0242ac1c0002\"] = document.querySelector(\"#id18-0-0\");\n",
              "//# sourceURL=js_94654d0817"
            ],
            "text/plain": [
              "<IPython.core.display.Javascript object>"
            ]
          },
          "metadata": {}
        },
        {
          "output_type": "display_data",
          "data": {
            "application/javascript": [
              "window[\"4770dfcc-9da1-11ec-bdc8-0242ac1c0002\"] = google.colab.output.setActiveOutputArea(window[\"47702d52-9da1-11ec-bdc8-0242ac1c0002\"]);\n",
              "//# sourceURL=js_4b21313f37"
            ],
            "text/plain": [
              "<IPython.core.display.Javascript object>"
            ]
          },
          "metadata": {}
        },
        {
          "output_type": "display_data",
          "data": {
            "application/javascript": [
              "window[\"478929a6-9da1-11ec-bdc8-0242ac1c0002\"] = google.colab.output.setActiveOutputArea(window[\"476f9c5c-9da1-11ec-bdc8-0242ac1c0002\"]);\n",
              "//# sourceURL=js_2e5be81012"
            ],
            "text/plain": [
              "<IPython.core.display.Javascript object>"
            ]
          },
          "metadata": {}
        },
        {
          "output_type": "display_data",
          "data": {
            "application/javascript": [
              "window[\"47a9c3aa-9da1-11ec-bdc8-0242ac1c0002\"] = google.colab.output.getActiveOutputArea();\n",
              "//# sourceURL=js_bdf91cc5ee"
            ],
            "text/plain": [
              "<IPython.core.display.Javascript object>"
            ]
          },
          "metadata": {}
        },
        {
          "output_type": "display_data",
          "data": {
            "application/javascript": [
              "window[\"47aa374a-9da1-11ec-bdc8-0242ac1c0002\"] = document.querySelector(\"#id18-0-0\");\n",
              "//# sourceURL=js_298baa44e7"
            ],
            "text/plain": [
              "<IPython.core.display.Javascript object>"
            ]
          },
          "metadata": {}
        },
        {
          "output_type": "display_data",
          "data": {
            "application/javascript": [
              "window[\"47aaaee6-9da1-11ec-bdc8-0242ac1c0002\"] = google.colab.output.setActiveOutputArea(window[\"47aa374a-9da1-11ec-bdc8-0242ac1c0002\"]);\n",
              "//# sourceURL=js_d26eaf9ef8"
            ],
            "text/plain": [
              "<IPython.core.display.Javascript object>"
            ]
          },
          "metadata": {}
        },
        {
          "output_type": "display_data",
          "data": {
            "application/javascript": [
              "window[\"47c1502e-9da1-11ec-bdc8-0242ac1c0002\"] = google.colab.output.setActiveOutputArea(window[\"47a9c3aa-9da1-11ec-bdc8-0242ac1c0002\"]);\n",
              "//# sourceURL=js_2ed8ccfe5b"
            ],
            "text/plain": [
              "<IPython.core.display.Javascript object>"
            ]
          },
          "metadata": {}
        },
        {
          "output_type": "display_data",
          "data": {
            "application/javascript": [
              "window[\"47e29ae0-9da1-11ec-bdc8-0242ac1c0002\"] = google.colab.output.getActiveOutputArea();\n",
              "//# sourceURL=js_d7806eb28f"
            ],
            "text/plain": [
              "<IPython.core.display.Javascript object>"
            ]
          },
          "metadata": {}
        },
        {
          "output_type": "display_data",
          "data": {
            "application/javascript": [
              "window[\"47e3320c-9da1-11ec-bdc8-0242ac1c0002\"] = document.querySelector(\"#id18-0-0\");\n",
              "//# sourceURL=js_623b18634b"
            ],
            "text/plain": [
              "<IPython.core.display.Javascript object>"
            ]
          },
          "metadata": {}
        },
        {
          "output_type": "display_data",
          "data": {
            "application/javascript": [
              "window[\"47e400ce-9da1-11ec-bdc8-0242ac1c0002\"] = google.colab.output.setActiveOutputArea(window[\"47e3320c-9da1-11ec-bdc8-0242ac1c0002\"]);\n",
              "//# sourceURL=js_b6c957138d"
            ],
            "text/plain": [
              "<IPython.core.display.Javascript object>"
            ]
          },
          "metadata": {}
        },
        {
          "output_type": "display_data",
          "data": {
            "application/javascript": [
              "window[\"47fe3c00-9da1-11ec-bdc8-0242ac1c0002\"] = google.colab.output.setActiveOutputArea(window[\"47e29ae0-9da1-11ec-bdc8-0242ac1c0002\"]);\n",
              "//# sourceURL=js_968af9f3df"
            ],
            "text/plain": [
              "<IPython.core.display.Javascript object>"
            ]
          },
          "metadata": {}
        },
        {
          "output_type": "display_data",
          "data": {
            "application/javascript": [
              "window[\"481ef5da-9da1-11ec-bdc8-0242ac1c0002\"] = google.colab.output.getActiveOutputArea();\n",
              "//# sourceURL=js_12fb96adc2"
            ],
            "text/plain": [
              "<IPython.core.display.Javascript object>"
            ]
          },
          "metadata": {}
        },
        {
          "output_type": "display_data",
          "data": {
            "application/javascript": [
              "window[\"481f3f22-9da1-11ec-bdc8-0242ac1c0002\"] = document.querySelector(\"#id18-0-0\");\n",
              "//# sourceURL=js_7665df83b5"
            ],
            "text/plain": [
              "<IPython.core.display.Javascript object>"
            ]
          },
          "metadata": {}
        },
        {
          "output_type": "display_data",
          "data": {
            "application/javascript": [
              "window[\"481fa84a-9da1-11ec-bdc8-0242ac1c0002\"] = google.colab.output.setActiveOutputArea(window[\"481f3f22-9da1-11ec-bdc8-0242ac1c0002\"]);\n",
              "//# sourceURL=js_ecaa4ab310"
            ],
            "text/plain": [
              "<IPython.core.display.Javascript object>"
            ]
          },
          "metadata": {}
        },
        {
          "output_type": "display_data",
          "data": {
            "application/javascript": [
              "window[\"48377268-9da1-11ec-bdc8-0242ac1c0002\"] = google.colab.output.setActiveOutputArea(window[\"481ef5da-9da1-11ec-bdc8-0242ac1c0002\"]);\n",
              "//# sourceURL=js_787771a7b3"
            ],
            "text/plain": [
              "<IPython.core.display.Javascript object>"
            ]
          },
          "metadata": {}
        },
        {
          "output_type": "display_data",
          "data": {
            "application/javascript": [
              "window[\"48584484-9da1-11ec-bdc8-0242ac1c0002\"] = google.colab.output.getActiveOutputArea();\n",
              "//# sourceURL=js_1faf019637"
            ],
            "text/plain": [
              "<IPython.core.display.Javascript object>"
            ]
          },
          "metadata": {}
        },
        {
          "output_type": "display_data",
          "data": {
            "application/javascript": [
              "window[\"4858c558-9da1-11ec-bdc8-0242ac1c0002\"] = document.querySelector(\"#id18-0-0\");\n",
              "//# sourceURL=js_11aad09dd6"
            ],
            "text/plain": [
              "<IPython.core.display.Javascript object>"
            ]
          },
          "metadata": {}
        },
        {
          "output_type": "display_data",
          "data": {
            "application/javascript": [
              "window[\"48592868-9da1-11ec-bdc8-0242ac1c0002\"] = google.colab.output.setActiveOutputArea(window[\"4858c558-9da1-11ec-bdc8-0242ac1c0002\"]);\n",
              "//# sourceURL=js_b221c1f348"
            ],
            "text/plain": [
              "<IPython.core.display.Javascript object>"
            ]
          },
          "metadata": {}
        },
        {
          "output_type": "display_data",
          "data": {
            "application/javascript": [
              "window[\"4872a73e-9da1-11ec-bdc8-0242ac1c0002\"] = google.colab.output.setActiveOutputArea(window[\"48584484-9da1-11ec-bdc8-0242ac1c0002\"]);\n",
              "//# sourceURL=js_0682a43136"
            ],
            "text/plain": [
              "<IPython.core.display.Javascript object>"
            ]
          },
          "metadata": {}
        },
        {
          "output_type": "display_data",
          "data": {
            "application/javascript": [
              "window[\"489460a4-9da1-11ec-bdc8-0242ac1c0002\"] = google.colab.output.getActiveOutputArea();\n",
              "//# sourceURL=js_78c50513d8"
            ],
            "text/plain": [
              "<IPython.core.display.Javascript object>"
            ]
          },
          "metadata": {}
        },
        {
          "output_type": "display_data",
          "data": {
            "application/javascript": [
              "window[\"4894c742-9da1-11ec-bdc8-0242ac1c0002\"] = document.querySelector(\"#id18-0-0\");\n",
              "//# sourceURL=js_b1394d3a2b"
            ],
            "text/plain": [
              "<IPython.core.display.Javascript object>"
            ]
          },
          "metadata": {}
        },
        {
          "output_type": "display_data",
          "data": {
            "application/javascript": [
              "window[\"489523c2-9da1-11ec-bdc8-0242ac1c0002\"] = google.colab.output.setActiveOutputArea(window[\"4894c742-9da1-11ec-bdc8-0242ac1c0002\"]);\n",
              "//# sourceURL=js_050bde6721"
            ],
            "text/plain": [
              "<IPython.core.display.Javascript object>"
            ]
          },
          "metadata": {}
        },
        {
          "output_type": "display_data",
          "data": {
            "application/javascript": [
              "window[\"48b0d18a-9da1-11ec-bdc8-0242ac1c0002\"] = google.colab.output.setActiveOutputArea(window[\"489460a4-9da1-11ec-bdc8-0242ac1c0002\"]);\n",
              "//# sourceURL=js_d9dd458220"
            ],
            "text/plain": [
              "<IPython.core.display.Javascript object>"
            ]
          },
          "metadata": {}
        },
        {
          "output_type": "display_data",
          "data": {
            "application/javascript": [
              "window[\"48d26fd4-9da1-11ec-bdc8-0242ac1c0002\"] = google.colab.output.getActiveOutputArea();\n",
              "//# sourceURL=js_9ecc4b9904"
            ],
            "text/plain": [
              "<IPython.core.display.Javascript object>"
            ]
          },
          "metadata": {}
        },
        {
          "output_type": "display_data",
          "data": {
            "application/javascript": [
              "window[\"48d2d2bc-9da1-11ec-bdc8-0242ac1c0002\"] = document.querySelector(\"#id18-0-0\");\n",
              "//# sourceURL=js_f6986901ed"
            ],
            "text/plain": [
              "<IPython.core.display.Javascript object>"
            ]
          },
          "metadata": {}
        },
        {
          "output_type": "display_data",
          "data": {
            "application/javascript": [
              "window[\"48d331b2-9da1-11ec-bdc8-0242ac1c0002\"] = google.colab.output.setActiveOutputArea(window[\"48d2d2bc-9da1-11ec-bdc8-0242ac1c0002\"]);\n",
              "//# sourceURL=js_8c9c3dc0fc"
            ],
            "text/plain": [
              "<IPython.core.display.Javascript object>"
            ]
          },
          "metadata": {}
        },
        {
          "output_type": "display_data",
          "data": {
            "application/javascript": [
              "window[\"48ecce6a-9da1-11ec-bdc8-0242ac1c0002\"] = google.colab.output.setActiveOutputArea(window[\"48d26fd4-9da1-11ec-bdc8-0242ac1c0002\"]);\n",
              "//# sourceURL=js_a759922e04"
            ],
            "text/plain": [
              "<IPython.core.display.Javascript object>"
            ]
          },
          "metadata": {}
        },
        {
          "output_type": "display_data",
          "data": {
            "application/javascript": [
              "window[\"490dc624-9da1-11ec-bdc8-0242ac1c0002\"] = google.colab.output.getActiveOutputArea();\n",
              "//# sourceURL=js_02c604abb3"
            ],
            "text/plain": [
              "<IPython.core.display.Javascript object>"
            ]
          },
          "metadata": {}
        },
        {
          "output_type": "display_data",
          "data": {
            "application/javascript": [
              "window[\"490e9a36-9da1-11ec-bdc8-0242ac1c0002\"] = document.querySelector(\"#id18-0-0\");\n",
              "//# sourceURL=js_aefd703e65"
            ],
            "text/plain": [
              "<IPython.core.display.Javascript object>"
            ]
          },
          "metadata": {}
        },
        {
          "output_type": "display_data",
          "data": {
            "application/javascript": [
              "window[\"490f046c-9da1-11ec-bdc8-0242ac1c0002\"] = google.colab.output.setActiveOutputArea(window[\"490e9a36-9da1-11ec-bdc8-0242ac1c0002\"]);\n",
              "//# sourceURL=js_be90e1afee"
            ],
            "text/plain": [
              "<IPython.core.display.Javascript object>"
            ]
          },
          "metadata": {}
        },
        {
          "output_type": "display_data",
          "data": {
            "application/javascript": [
              "window[\"49262e08-9da1-11ec-bdc8-0242ac1c0002\"] = google.colab.output.setActiveOutputArea(window[\"490dc624-9da1-11ec-bdc8-0242ac1c0002\"]);\n",
              "//# sourceURL=js_c9da96fb09"
            ],
            "text/plain": [
              "<IPython.core.display.Javascript object>"
            ]
          },
          "metadata": {}
        },
        {
          "output_type": "display_data",
          "data": {
            "application/javascript": [
              "window[\"4946df86-9da1-11ec-bdc8-0242ac1c0002\"] = google.colab.output.getActiveOutputArea();\n",
              "//# sourceURL=js_c39d0a27f3"
            ],
            "text/plain": [
              "<IPython.core.display.Javascript object>"
            ]
          },
          "metadata": {}
        },
        {
          "output_type": "display_data",
          "data": {
            "application/javascript": [
              "window[\"49474458-9da1-11ec-bdc8-0242ac1c0002\"] = document.querySelector(\"#id18-0-0\");\n",
              "//# sourceURL=js_0f0ed61739"
            ],
            "text/plain": [
              "<IPython.core.display.Javascript object>"
            ]
          },
          "metadata": {}
        },
        {
          "output_type": "display_data",
          "data": {
            "application/javascript": [
              "window[\"4947cbda-9da1-11ec-bdc8-0242ac1c0002\"] = google.colab.output.setActiveOutputArea(window[\"49474458-9da1-11ec-bdc8-0242ac1c0002\"]);\n",
              "//# sourceURL=js_418fa986d6"
            ],
            "text/plain": [
              "<IPython.core.display.Javascript object>"
            ]
          },
          "metadata": {}
        },
        {
          "output_type": "display_data",
          "data": {
            "application/javascript": [
              "window[\"496df670-9da1-11ec-bdc8-0242ac1c0002\"] = google.colab.output.setActiveOutputArea(window[\"4946df86-9da1-11ec-bdc8-0242ac1c0002\"]);\n",
              "//# sourceURL=js_82e119953d"
            ],
            "text/plain": [
              "<IPython.core.display.Javascript object>"
            ]
          },
          "metadata": {}
        },
        {
          "output_type": "display_data",
          "data": {
            "application/javascript": [
              "window[\"498ec3f0-9da1-11ec-bdc8-0242ac1c0002\"] = google.colab.output.getActiveOutputArea();\n",
              "//# sourceURL=js_58c314940c"
            ],
            "text/plain": [
              "<IPython.core.display.Javascript object>"
            ]
          },
          "metadata": {}
        },
        {
          "output_type": "display_data",
          "data": {
            "application/javascript": [
              "window[\"498f230e-9da1-11ec-bdc8-0242ac1c0002\"] = document.querySelector(\"#id18-0-0\");\n",
              "//# sourceURL=js_a5aa964fec"
            ],
            "text/plain": [
              "<IPython.core.display.Javascript object>"
            ]
          },
          "metadata": {}
        },
        {
          "output_type": "display_data",
          "data": {
            "application/javascript": [
              "window[\"498f6990-9da1-11ec-bdc8-0242ac1c0002\"] = google.colab.output.setActiveOutputArea(window[\"498f230e-9da1-11ec-bdc8-0242ac1c0002\"]);\n",
              "//# sourceURL=js_6a41c404a9"
            ],
            "text/plain": [
              "<IPython.core.display.Javascript object>"
            ]
          },
          "metadata": {}
        },
        {
          "output_type": "display_data",
          "data": {
            "application/javascript": [
              "window[\"49a7cc10-9da1-11ec-bdc8-0242ac1c0002\"] = google.colab.output.setActiveOutputArea(window[\"498ec3f0-9da1-11ec-bdc8-0242ac1c0002\"]);\n",
              "//# sourceURL=js_a025fb140d"
            ],
            "text/plain": [
              "<IPython.core.display.Javascript object>"
            ]
          },
          "metadata": {}
        },
        {
          "output_type": "display_data",
          "data": {
            "application/javascript": [
              "window[\"49c8791a-9da1-11ec-bdc8-0242ac1c0002\"] = google.colab.output.getActiveOutputArea();\n",
              "//# sourceURL=js_0f102050f3"
            ],
            "text/plain": [
              "<IPython.core.display.Javascript object>"
            ]
          },
          "metadata": {}
        },
        {
          "output_type": "display_data",
          "data": {
            "application/javascript": [
              "window[\"49c8d996-9da1-11ec-bdc8-0242ac1c0002\"] = document.querySelector(\"#id18-0-0\");\n",
              "//# sourceURL=js_351db80bc7"
            ],
            "text/plain": [
              "<IPython.core.display.Javascript object>"
            ]
          },
          "metadata": {}
        },
        {
          "output_type": "display_data",
          "data": {
            "application/javascript": [
              "window[\"49c97cb6-9da1-11ec-bdc8-0242ac1c0002\"] = google.colab.output.setActiveOutputArea(window[\"49c8d996-9da1-11ec-bdc8-0242ac1c0002\"]);\n",
              "//# sourceURL=js_7357f27ff0"
            ],
            "text/plain": [
              "<IPython.core.display.Javascript object>"
            ]
          },
          "metadata": {}
        },
        {
          "output_type": "display_data",
          "data": {
            "application/javascript": [
              "window[\"49e4b01c-9da1-11ec-bdc8-0242ac1c0002\"] = google.colab.output.setActiveOutputArea(window[\"49c8791a-9da1-11ec-bdc8-0242ac1c0002\"]);\n",
              "//# sourceURL=js_f4d2370105"
            ],
            "text/plain": [
              "<IPython.core.display.Javascript object>"
            ]
          },
          "metadata": {}
        },
        {
          "output_type": "display_data",
          "data": {
            "application/javascript": [
              "window[\"4a072548-9da1-11ec-bdc8-0242ac1c0002\"] = google.colab.output.getActiveOutputArea();\n",
              "//# sourceURL=js_16b918398f"
            ],
            "text/plain": [
              "<IPython.core.display.Javascript object>"
            ]
          },
          "metadata": {}
        },
        {
          "output_type": "display_data",
          "data": {
            "application/javascript": [
              "window[\"4a079b36-9da1-11ec-bdc8-0242ac1c0002\"] = document.querySelector(\"#id18-0-0\");\n",
              "//# sourceURL=js_02158ba090"
            ],
            "text/plain": [
              "<IPython.core.display.Javascript object>"
            ]
          },
          "metadata": {}
        },
        {
          "output_type": "display_data",
          "data": {
            "application/javascript": [
              "window[\"4a081a66-9da1-11ec-bdc8-0242ac1c0002\"] = google.colab.output.setActiveOutputArea(window[\"4a079b36-9da1-11ec-bdc8-0242ac1c0002\"]);\n",
              "//# sourceURL=js_f266fe48d9"
            ],
            "text/plain": [
              "<IPython.core.display.Javascript object>"
            ]
          },
          "metadata": {}
        },
        {
          "output_type": "display_data",
          "data": {
            "application/javascript": [
              "window[\"4a228388-9da1-11ec-bdc8-0242ac1c0002\"] = google.colab.output.setActiveOutputArea(window[\"4a072548-9da1-11ec-bdc8-0242ac1c0002\"]);\n",
              "//# sourceURL=js_9f3ccc3851"
            ],
            "text/plain": [
              "<IPython.core.display.Javascript object>"
            ]
          },
          "metadata": {}
        },
        {
          "output_type": "display_data",
          "data": {
            "application/javascript": [
              "window[\"4a45dce8-9da1-11ec-bdc8-0242ac1c0002\"] = google.colab.output.getActiveOutputArea();\n",
              "//# sourceURL=js_67741f263b"
            ],
            "text/plain": [
              "<IPython.core.display.Javascript object>"
            ]
          },
          "metadata": {}
        },
        {
          "output_type": "display_data",
          "data": {
            "application/javascript": [
              "window[\"4a4677ac-9da1-11ec-bdc8-0242ac1c0002\"] = document.querySelector(\"#id18-0-0\");\n",
              "//# sourceURL=js_f7ea5b8bdf"
            ],
            "text/plain": [
              "<IPython.core.display.Javascript object>"
            ]
          },
          "metadata": {}
        },
        {
          "output_type": "display_data",
          "data": {
            "application/javascript": [
              "window[\"4a46f45c-9da1-11ec-bdc8-0242ac1c0002\"] = google.colab.output.setActiveOutputArea(window[\"4a4677ac-9da1-11ec-bdc8-0242ac1c0002\"]);\n",
              "//# sourceURL=js_6b31a306a3"
            ],
            "text/plain": [
              "<IPython.core.display.Javascript object>"
            ]
          },
          "metadata": {}
        },
        {
          "output_type": "display_data",
          "data": {
            "application/javascript": [
              "window[\"4a6006ae-9da1-11ec-bdc8-0242ac1c0002\"] = google.colab.output.setActiveOutputArea(window[\"4a45dce8-9da1-11ec-bdc8-0242ac1c0002\"]);\n",
              "//# sourceURL=js_a58dcc7a79"
            ],
            "text/plain": [
              "<IPython.core.display.Javascript object>"
            ]
          },
          "metadata": {}
        },
        {
          "output_type": "display_data",
          "data": {
            "application/javascript": [
              "window[\"4a826582-9da1-11ec-bdc8-0242ac1c0002\"] = google.colab.output.getActiveOutputArea();\n",
              "//# sourceURL=js_3cfc754e5c"
            ],
            "text/plain": [
              "<IPython.core.display.Javascript object>"
            ]
          },
          "metadata": {}
        },
        {
          "output_type": "display_data",
          "data": {
            "application/javascript": [
              "window[\"4a82cafe-9da1-11ec-bdc8-0242ac1c0002\"] = document.querySelector(\"#id18-0-0\");\n",
              "//# sourceURL=js_a894307fc2"
            ],
            "text/plain": [
              "<IPython.core.display.Javascript object>"
            ]
          },
          "metadata": {}
        },
        {
          "output_type": "display_data",
          "data": {
            "application/javascript": [
              "window[\"4a834e5c-9da1-11ec-bdc8-0242ac1c0002\"] = google.colab.output.setActiveOutputArea(window[\"4a82cafe-9da1-11ec-bdc8-0242ac1c0002\"]);\n",
              "//# sourceURL=js_9bbe905f65"
            ],
            "text/plain": [
              "<IPython.core.display.Javascript object>"
            ]
          },
          "metadata": {}
        },
        {
          "output_type": "display_data",
          "data": {
            "application/javascript": [
              "window[\"4a9e27f4-9da1-11ec-bdc8-0242ac1c0002\"] = google.colab.output.setActiveOutputArea(window[\"4a826582-9da1-11ec-bdc8-0242ac1c0002\"]);\n",
              "//# sourceURL=js_1d4400ea3c"
            ],
            "text/plain": [
              "<IPython.core.display.Javascript object>"
            ]
          },
          "metadata": {}
        },
        {
          "output_type": "display_data",
          "data": {
            "application/javascript": [
              "window[\"4abecda6-9da1-11ec-bdc8-0242ac1c0002\"] = google.colab.output.getActiveOutputArea();\n",
              "//# sourceURL=js_ccf4e733cc"
            ],
            "text/plain": [
              "<IPython.core.display.Javascript object>"
            ]
          },
          "metadata": {}
        },
        {
          "output_type": "display_data",
          "data": {
            "application/javascript": [
              "window[\"4abf0316-9da1-11ec-bdc8-0242ac1c0002\"] = document.querySelector(\"#id18-0-0\");\n",
              "//# sourceURL=js_2b62671104"
            ],
            "text/plain": [
              "<IPython.core.display.Javascript object>"
            ]
          },
          "metadata": {}
        },
        {
          "output_type": "display_data",
          "data": {
            "application/javascript": [
              "window[\"4abf361a-9da1-11ec-bdc8-0242ac1c0002\"] = google.colab.output.setActiveOutputArea(window[\"4abf0316-9da1-11ec-bdc8-0242ac1c0002\"]);\n",
              "//# sourceURL=js_07b2179aec"
            ],
            "text/plain": [
              "<IPython.core.display.Javascript object>"
            ]
          },
          "metadata": {}
        },
        {
          "output_type": "display_data",
          "data": {
            "application/javascript": [
              "window[\"4ad9cf02-9da1-11ec-bdc8-0242ac1c0002\"] = google.colab.output.setActiveOutputArea(window[\"4abecda6-9da1-11ec-bdc8-0242ac1c0002\"]);\n",
              "//# sourceURL=js_2702048a66"
            ],
            "text/plain": [
              "<IPython.core.display.Javascript object>"
            ]
          },
          "metadata": {}
        },
        {
          "output_type": "display_data",
          "data": {
            "application/javascript": [
              "window[\"4afae354-9da1-11ec-bdc8-0242ac1c0002\"] = google.colab.output.getActiveOutputArea();\n",
              "//# sourceURL=js_b9c0751dc1"
            ],
            "text/plain": [
              "<IPython.core.display.Javascript object>"
            ]
          },
          "metadata": {}
        },
        {
          "output_type": "display_data",
          "data": {
            "application/javascript": [
              "window[\"4afb6fea-9da1-11ec-bdc8-0242ac1c0002\"] = document.querySelector(\"#id18-0-0\");\n",
              "//# sourceURL=js_261a40ada5"
            ],
            "text/plain": [
              "<IPython.core.display.Javascript object>"
            ]
          },
          "metadata": {}
        },
        {
          "output_type": "display_data",
          "data": {
            "application/javascript": [
              "window[\"4afbe52e-9da1-11ec-bdc8-0242ac1c0002\"] = google.colab.output.setActiveOutputArea(window[\"4afb6fea-9da1-11ec-bdc8-0242ac1c0002\"]);\n",
              "//# sourceURL=js_bba2ba6282"
            ],
            "text/plain": [
              "<IPython.core.display.Javascript object>"
            ]
          },
          "metadata": {}
        },
        {
          "output_type": "display_data",
          "data": {
            "application/javascript": [
              "window[\"4b14120c-9da1-11ec-bdc8-0242ac1c0002\"] = google.colab.output.setActiveOutputArea(window[\"4afae354-9da1-11ec-bdc8-0242ac1c0002\"]);\n",
              "//# sourceURL=js_845f5f2e42"
            ],
            "text/plain": [
              "<IPython.core.display.Javascript object>"
            ]
          },
          "metadata": {}
        },
        {
          "output_type": "display_data",
          "data": {
            "application/javascript": [
              "window[\"4b3504bc-9da1-11ec-bdc8-0242ac1c0002\"] = google.colab.output.getActiveOutputArea();\n",
              "//# sourceURL=js_62d16ede8f"
            ],
            "text/plain": [
              "<IPython.core.display.Javascript object>"
            ]
          },
          "metadata": {}
        },
        {
          "output_type": "display_data",
          "data": {
            "application/javascript": [
              "window[\"4b3585a4-9da1-11ec-bdc8-0242ac1c0002\"] = document.querySelector(\"#id18-0-0\");\n",
              "//# sourceURL=js_0707c0a32f"
            ],
            "text/plain": [
              "<IPython.core.display.Javascript object>"
            ]
          },
          "metadata": {}
        },
        {
          "output_type": "display_data",
          "data": {
            "application/javascript": [
              "window[\"4b36a3a8-9da1-11ec-bdc8-0242ac1c0002\"] = google.colab.output.setActiveOutputArea(window[\"4b3585a4-9da1-11ec-bdc8-0242ac1c0002\"]);\n",
              "//# sourceURL=js_d1786f7388"
            ],
            "text/plain": [
              "<IPython.core.display.Javascript object>"
            ]
          },
          "metadata": {}
        },
        {
          "output_type": "display_data",
          "data": {
            "application/javascript": [
              "window[\"4b4f9b4c-9da1-11ec-bdc8-0242ac1c0002\"] = google.colab.output.setActiveOutputArea(window[\"4b3504bc-9da1-11ec-bdc8-0242ac1c0002\"]);\n",
              "//# sourceURL=js_a653314db9"
            ],
            "text/plain": [
              "<IPython.core.display.Javascript object>"
            ]
          },
          "metadata": {}
        },
        {
          "output_type": "display_data",
          "data": {
            "application/javascript": [
              "window[\"4b7063f4-9da1-11ec-bdc8-0242ac1c0002\"] = google.colab.output.getActiveOutputArea();\n",
              "//# sourceURL=js_45cbf5870d"
            ],
            "text/plain": [
              "<IPython.core.display.Javascript object>"
            ]
          },
          "metadata": {}
        },
        {
          "output_type": "display_data",
          "data": {
            "application/javascript": [
              "window[\"4b70d744-9da1-11ec-bdc8-0242ac1c0002\"] = document.querySelector(\"#id18-0-0\");\n",
              "//# sourceURL=js_cdba586dc7"
            ],
            "text/plain": [
              "<IPython.core.display.Javascript object>"
            ]
          },
          "metadata": {}
        },
        {
          "output_type": "display_data",
          "data": {
            "application/javascript": [
              "window[\"4b713374-9da1-11ec-bdc8-0242ac1c0002\"] = google.colab.output.setActiveOutputArea(window[\"4b70d744-9da1-11ec-bdc8-0242ac1c0002\"]);\n",
              "//# sourceURL=js_5d00decb28"
            ],
            "text/plain": [
              "<IPython.core.display.Javascript object>"
            ]
          },
          "metadata": {}
        },
        {
          "output_type": "display_data",
          "data": {
            "application/javascript": [
              "window[\"4b88e1a4-9da1-11ec-bdc8-0242ac1c0002\"] = google.colab.output.setActiveOutputArea(window[\"4b7063f4-9da1-11ec-bdc8-0242ac1c0002\"]);\n",
              "//# sourceURL=js_f82c354bcd"
            ],
            "text/plain": [
              "<IPython.core.display.Javascript object>"
            ]
          },
          "metadata": {}
        },
        {
          "output_type": "display_data",
          "data": {
            "application/javascript": [
              "window[\"4ba96384-9da1-11ec-bdc8-0242ac1c0002\"] = google.colab.output.getActiveOutputArea();\n",
              "//# sourceURL=js_445488b239"
            ],
            "text/plain": [
              "<IPython.core.display.Javascript object>"
            ]
          },
          "metadata": {}
        },
        {
          "output_type": "display_data",
          "data": {
            "application/javascript": [
              "window[\"4ba9e2a0-9da1-11ec-bdc8-0242ac1c0002\"] = document.querySelector(\"#id18-0-0\");\n",
              "//# sourceURL=js_44143a86c5"
            ],
            "text/plain": [
              "<IPython.core.display.Javascript object>"
            ]
          },
          "metadata": {}
        },
        {
          "output_type": "display_data",
          "data": {
            "application/javascript": [
              "window[\"4baa9556-9da1-11ec-bdc8-0242ac1c0002\"] = google.colab.output.setActiveOutputArea(window[\"4ba9e2a0-9da1-11ec-bdc8-0242ac1c0002\"]);\n",
              "//# sourceURL=js_b7d5c79efe"
            ],
            "text/plain": [
              "<IPython.core.display.Javascript object>"
            ]
          },
          "metadata": {}
        },
        {
          "output_type": "display_data",
          "data": {
            "application/javascript": [
              "window[\"4bc5180e-9da1-11ec-bdc8-0242ac1c0002\"] = google.colab.output.setActiveOutputArea(window[\"4ba96384-9da1-11ec-bdc8-0242ac1c0002\"]);\n",
              "//# sourceURL=js_03bf1afc07"
            ],
            "text/plain": [
              "<IPython.core.display.Javascript object>"
            ]
          },
          "metadata": {}
        },
        {
          "output_type": "display_data",
          "data": {
            "application/javascript": [
              "window[\"4be5d878-9da1-11ec-bdc8-0242ac1c0002\"] = google.colab.output.getActiveOutputArea();\n",
              "//# sourceURL=js_8c6073f8e6"
            ],
            "text/plain": [
              "<IPython.core.display.Javascript object>"
            ]
          },
          "metadata": {}
        },
        {
          "output_type": "display_data",
          "data": {
            "application/javascript": [
              "window[\"4be6332c-9da1-11ec-bdc8-0242ac1c0002\"] = document.querySelector(\"#id18-0-0\");\n",
              "//# sourceURL=js_61a6133db3"
            ],
            "text/plain": [
              "<IPython.core.display.Javascript object>"
            ]
          },
          "metadata": {}
        },
        {
          "output_type": "display_data",
          "data": {
            "application/javascript": [
              "window[\"4be692cc-9da1-11ec-bdc8-0242ac1c0002\"] = google.colab.output.setActiveOutputArea(window[\"4be6332c-9da1-11ec-bdc8-0242ac1c0002\"]);\n",
              "//# sourceURL=js_c159c3861f"
            ],
            "text/plain": [
              "<IPython.core.display.Javascript object>"
            ]
          },
          "metadata": {}
        },
        {
          "output_type": "display_data",
          "data": {
            "application/javascript": [
              "window[\"4bff2116-9da1-11ec-bdc8-0242ac1c0002\"] = google.colab.output.setActiveOutputArea(window[\"4be5d878-9da1-11ec-bdc8-0242ac1c0002\"]);\n",
              "//# sourceURL=js_e839cf386a"
            ],
            "text/plain": [
              "<IPython.core.display.Javascript object>"
            ]
          },
          "metadata": {}
        },
        {
          "output_type": "display_data",
          "data": {
            "application/javascript": [
              "window[\"4c208414-9da1-11ec-bdc8-0242ac1c0002\"] = google.colab.output.getActiveOutputArea();\n",
              "//# sourceURL=js_52cb1e4a68"
            ],
            "text/plain": [
              "<IPython.core.display.Javascript object>"
            ]
          },
          "metadata": {}
        },
        {
          "output_type": "display_data",
          "data": {
            "application/javascript": [
              "window[\"4c20e756-9da1-11ec-bdc8-0242ac1c0002\"] = document.querySelector(\"#id18-0-0\");\n",
              "//# sourceURL=js_31a39c128b"
            ],
            "text/plain": [
              "<IPython.core.display.Javascript object>"
            ]
          },
          "metadata": {}
        },
        {
          "output_type": "display_data",
          "data": {
            "application/javascript": [
              "window[\"4c214dea-9da1-11ec-bdc8-0242ac1c0002\"] = google.colab.output.setActiveOutputArea(window[\"4c20e756-9da1-11ec-bdc8-0242ac1c0002\"]);\n",
              "//# sourceURL=js_b8e4704e7b"
            ],
            "text/plain": [
              "<IPython.core.display.Javascript object>"
            ]
          },
          "metadata": {}
        },
        {
          "output_type": "display_data",
          "data": {
            "application/javascript": [
              "window[\"4c4376cc-9da1-11ec-bdc8-0242ac1c0002\"] = google.colab.output.setActiveOutputArea(window[\"4c208414-9da1-11ec-bdc8-0242ac1c0002\"]);\n",
              "//# sourceURL=js_3ed4201f1b"
            ],
            "text/plain": [
              "<IPython.core.display.Javascript object>"
            ]
          },
          "metadata": {}
        },
        {
          "output_type": "display_data",
          "data": {
            "application/javascript": [
              "window[\"4c64287c-9da1-11ec-bdc8-0242ac1c0002\"] = google.colab.output.getActiveOutputArea();\n",
              "//# sourceURL=js_75f46f3fb2"
            ],
            "text/plain": [
              "<IPython.core.display.Javascript object>"
            ]
          },
          "metadata": {}
        },
        {
          "output_type": "display_data",
          "data": {
            "application/javascript": [
              "window[\"4c6488ee-9da1-11ec-bdc8-0242ac1c0002\"] = document.querySelector(\"#id18-0-0\");\n",
              "//# sourceURL=js_2f2950a1c0"
            ],
            "text/plain": [
              "<IPython.core.display.Javascript object>"
            ]
          },
          "metadata": {}
        },
        {
          "output_type": "display_data",
          "data": {
            "application/javascript": [
              "window[\"4c653dac-9da1-11ec-bdc8-0242ac1c0002\"] = google.colab.output.setActiveOutputArea(window[\"4c6488ee-9da1-11ec-bdc8-0242ac1c0002\"]);\n",
              "//# sourceURL=js_503b5af869"
            ],
            "text/plain": [
              "<IPython.core.display.Javascript object>"
            ]
          },
          "metadata": {}
        },
        {
          "output_type": "display_data",
          "data": {
            "application/javascript": [
              "window[\"4c7ed74e-9da1-11ec-bdc8-0242ac1c0002\"] = google.colab.output.setActiveOutputArea(window[\"4c64287c-9da1-11ec-bdc8-0242ac1c0002\"]);\n",
              "//# sourceURL=js_59fcab4d6e"
            ],
            "text/plain": [
              "<IPython.core.display.Javascript object>"
            ]
          },
          "metadata": {}
        },
        {
          "output_type": "display_data",
          "data": {
            "application/javascript": [
              "window[\"4ca19e1e-9da1-11ec-bdc8-0242ac1c0002\"] = google.colab.output.getActiveOutputArea();\n",
              "//# sourceURL=js_52bc0e265c"
            ],
            "text/plain": [
              "<IPython.core.display.Javascript object>"
            ]
          },
          "metadata": {}
        },
        {
          "output_type": "display_data",
          "data": {
            "application/javascript": [
              "window[\"4ca1f04e-9da1-11ec-bdc8-0242ac1c0002\"] = document.querySelector(\"#id18-0-0\");\n",
              "//# sourceURL=js_a2d59b9809"
            ],
            "text/plain": [
              "<IPython.core.display.Javascript object>"
            ]
          },
          "metadata": {}
        },
        {
          "output_type": "display_data",
          "data": {
            "application/javascript": [
              "window[\"4ca24440-9da1-11ec-bdc8-0242ac1c0002\"] = google.colab.output.setActiveOutputArea(window[\"4ca1f04e-9da1-11ec-bdc8-0242ac1c0002\"]);\n",
              "//# sourceURL=js_4a245be0ef"
            ],
            "text/plain": [
              "<IPython.core.display.Javascript object>"
            ]
          },
          "metadata": {}
        },
        {
          "output_type": "display_data",
          "data": {
            "application/javascript": [
              "window[\"4cbbf232-9da1-11ec-bdc8-0242ac1c0002\"] = google.colab.output.setActiveOutputArea(window[\"4ca19e1e-9da1-11ec-bdc8-0242ac1c0002\"]);\n",
              "//# sourceURL=js_f8cf2b30db"
            ],
            "text/plain": [
              "<IPython.core.display.Javascript object>"
            ]
          },
          "metadata": {}
        },
        {
          "output_type": "display_data",
          "data": {
            "application/javascript": [
              "window[\"4cdd13ae-9da1-11ec-bdc8-0242ac1c0002\"] = google.colab.output.getActiveOutputArea();\n",
              "//# sourceURL=js_1ed953f1b8"
            ],
            "text/plain": [
              "<IPython.core.display.Javascript object>"
            ]
          },
          "metadata": {}
        },
        {
          "output_type": "display_data",
          "data": {
            "application/javascript": [
              "window[\"4cddc4b6-9da1-11ec-bdc8-0242ac1c0002\"] = document.querySelector(\"#id18-0-0\");\n",
              "//# sourceURL=js_afd80dfded"
            ],
            "text/plain": [
              "<IPython.core.display.Javascript object>"
            ]
          },
          "metadata": {}
        },
        {
          "output_type": "display_data",
          "data": {
            "application/javascript": [
              "window[\"4cde2564-9da1-11ec-bdc8-0242ac1c0002\"] = google.colab.output.setActiveOutputArea(window[\"4cddc4b6-9da1-11ec-bdc8-0242ac1c0002\"]);\n",
              "//# sourceURL=js_d9f4a2ef9c"
            ],
            "text/plain": [
              "<IPython.core.display.Javascript object>"
            ]
          },
          "metadata": {}
        },
        {
          "output_type": "display_data",
          "data": {
            "application/javascript": [
              "window[\"4cf92e9a-9da1-11ec-bdc8-0242ac1c0002\"] = google.colab.output.setActiveOutputArea(window[\"4cdd13ae-9da1-11ec-bdc8-0242ac1c0002\"]);\n",
              "//# sourceURL=js_3742343488"
            ],
            "text/plain": [
              "<IPython.core.display.Javascript object>"
            ]
          },
          "metadata": {}
        },
        {
          "output_type": "display_data",
          "data": {
            "application/javascript": [
              "window[\"4d1a370c-9da1-11ec-bdc8-0242ac1c0002\"] = google.colab.output.getActiveOutputArea();\n",
              "//# sourceURL=js_fdb818f1ca"
            ],
            "text/plain": [
              "<IPython.core.display.Javascript object>"
            ]
          },
          "metadata": {}
        },
        {
          "output_type": "display_data",
          "data": {
            "application/javascript": [
              "window[\"4d1aaf20-9da1-11ec-bdc8-0242ac1c0002\"] = document.querySelector(\"#id18-0-0\");\n",
              "//# sourceURL=js_9835824801"
            ],
            "text/plain": [
              "<IPython.core.display.Javascript object>"
            ]
          },
          "metadata": {}
        },
        {
          "output_type": "display_data",
          "data": {
            "application/javascript": [
              "window[\"4d1b1ab4-9da1-11ec-bdc8-0242ac1c0002\"] = google.colab.output.setActiveOutputArea(window[\"4d1aaf20-9da1-11ec-bdc8-0242ac1c0002\"]);\n",
              "//# sourceURL=js_499bc101fa"
            ],
            "text/plain": [
              "<IPython.core.display.Javascript object>"
            ]
          },
          "metadata": {}
        },
        {
          "output_type": "display_data",
          "data": {
            "application/javascript": [
              "window[\"4d33d78e-9da1-11ec-bdc8-0242ac1c0002\"] = google.colab.output.setActiveOutputArea(window[\"4d1a370c-9da1-11ec-bdc8-0242ac1c0002\"]);\n",
              "//# sourceURL=js_56baeafa40"
            ],
            "text/plain": [
              "<IPython.core.display.Javascript object>"
            ]
          },
          "metadata": {}
        },
        {
          "output_type": "display_data",
          "data": {
            "application/javascript": [
              "window[\"4d548c68-9da1-11ec-bdc8-0242ac1c0002\"] = google.colab.output.getActiveOutputArea();\n",
              "//# sourceURL=js_df5cbcab9f"
            ],
            "text/plain": [
              "<IPython.core.display.Javascript object>"
            ]
          },
          "metadata": {}
        },
        {
          "output_type": "display_data",
          "data": {
            "application/javascript": [
              "window[\"4d54ce4e-9da1-11ec-bdc8-0242ac1c0002\"] = document.querySelector(\"#id18-0-0\");\n",
              "//# sourceURL=js_400b34d46f"
            ],
            "text/plain": [
              "<IPython.core.display.Javascript object>"
            ]
          },
          "metadata": {}
        },
        {
          "output_type": "display_data",
          "data": {
            "application/javascript": [
              "window[\"4d551458-9da1-11ec-bdc8-0242ac1c0002\"] = google.colab.output.setActiveOutputArea(window[\"4d54ce4e-9da1-11ec-bdc8-0242ac1c0002\"]);\n",
              "//# sourceURL=js_2c508339c0"
            ],
            "text/plain": [
              "<IPython.core.display.Javascript object>"
            ]
          },
          "metadata": {}
        },
        {
          "output_type": "display_data",
          "data": {
            "application/javascript": [
              "window[\"4d6ea79c-9da1-11ec-bdc8-0242ac1c0002\"] = google.colab.output.setActiveOutputArea(window[\"4d548c68-9da1-11ec-bdc8-0242ac1c0002\"]);\n",
              "//# sourceURL=js_324d1028f3"
            ],
            "text/plain": [
              "<IPython.core.display.Javascript object>"
            ]
          },
          "metadata": {}
        },
        {
          "output_type": "display_data",
          "data": {
            "application/javascript": [
              "window[\"4d90cdc2-9da1-11ec-bdc8-0242ac1c0002\"] = google.colab.output.getActiveOutputArea();\n",
              "//# sourceURL=js_1a0c56ac5f"
            ],
            "text/plain": [
              "<IPython.core.display.Javascript object>"
            ]
          },
          "metadata": {}
        },
        {
          "output_type": "display_data",
          "data": {
            "application/javascript": [
              "window[\"4d91e554-9da1-11ec-bdc8-0242ac1c0002\"] = document.querySelector(\"#id18-0-0\");\n",
              "//# sourceURL=js_c0ad721c87"
            ],
            "text/plain": [
              "<IPython.core.display.Javascript object>"
            ]
          },
          "metadata": {}
        },
        {
          "output_type": "display_data",
          "data": {
            "application/javascript": [
              "window[\"4d924a76-9da1-11ec-bdc8-0242ac1c0002\"] = google.colab.output.setActiveOutputArea(window[\"4d91e554-9da1-11ec-bdc8-0242ac1c0002\"]);\n",
              "//# sourceURL=js_b72b0e914d"
            ],
            "text/plain": [
              "<IPython.core.display.Javascript object>"
            ]
          },
          "metadata": {}
        },
        {
          "output_type": "display_data",
          "data": {
            "application/javascript": [
              "window[\"4dac5e66-9da1-11ec-bdc8-0242ac1c0002\"] = google.colab.output.setActiveOutputArea(window[\"4d90cdc2-9da1-11ec-bdc8-0242ac1c0002\"]);\n",
              "//# sourceURL=js_045792d3d3"
            ],
            "text/plain": [
              "<IPython.core.display.Javascript object>"
            ]
          },
          "metadata": {}
        },
        {
          "output_type": "display_data",
          "data": {
            "application/javascript": [
              "window[\"4dcd31fe-9da1-11ec-bdc8-0242ac1c0002\"] = google.colab.output.getActiveOutputArea();\n",
              "//# sourceURL=js_d18d161926"
            ],
            "text/plain": [
              "<IPython.core.display.Javascript object>"
            ]
          },
          "metadata": {}
        },
        {
          "output_type": "display_data",
          "data": {
            "application/javascript": [
              "window[\"4dcdcf42-9da1-11ec-bdc8-0242ac1c0002\"] = document.querySelector(\"#id18-0-0\");\n",
              "//# sourceURL=js_f88d280b21"
            ],
            "text/plain": [
              "<IPython.core.display.Javascript object>"
            ]
          },
          "metadata": {}
        },
        {
          "output_type": "display_data",
          "data": {
            "application/javascript": [
              "window[\"4dce2884-9da1-11ec-bdc8-0242ac1c0002\"] = google.colab.output.setActiveOutputArea(window[\"4dcdcf42-9da1-11ec-bdc8-0242ac1c0002\"]);\n",
              "//# sourceURL=js_5a2cfb0df5"
            ],
            "text/plain": [
              "<IPython.core.display.Javascript object>"
            ]
          },
          "metadata": {}
        },
        {
          "output_type": "display_data",
          "data": {
            "application/javascript": [
              "window[\"4de65d82-9da1-11ec-bdc8-0242ac1c0002\"] = google.colab.output.setActiveOutputArea(window[\"4dcd31fe-9da1-11ec-bdc8-0242ac1c0002\"]);\n",
              "//# sourceURL=js_4105962ab4"
            ],
            "text/plain": [
              "<IPython.core.display.Javascript object>"
            ]
          },
          "metadata": {}
        },
        {
          "output_type": "display_data",
          "data": {
            "application/javascript": [
              "window[\"4e0721ca-9da1-11ec-bdc8-0242ac1c0002\"] = google.colab.output.getActiveOutputArea();\n",
              "//# sourceURL=js_bb86402ec2"
            ],
            "text/plain": [
              "<IPython.core.display.Javascript object>"
            ]
          },
          "metadata": {}
        },
        {
          "output_type": "display_data",
          "data": {
            "application/javascript": [
              "window[\"4e077eb8-9da1-11ec-bdc8-0242ac1c0002\"] = document.querySelector(\"#id18-0-0\");\n",
              "//# sourceURL=js_4f7765a267"
            ],
            "text/plain": [
              "<IPython.core.display.Javascript object>"
            ]
          },
          "metadata": {}
        },
        {
          "output_type": "display_data",
          "data": {
            "application/javascript": [
              "window[\"4e080ea0-9da1-11ec-bdc8-0242ac1c0002\"] = google.colab.output.setActiveOutputArea(window[\"4e077eb8-9da1-11ec-bdc8-0242ac1c0002\"]);\n",
              "//# sourceURL=js_c7fc352483"
            ],
            "text/plain": [
              "<IPython.core.display.Javascript object>"
            ]
          },
          "metadata": {}
        },
        {
          "output_type": "display_data",
          "data": {
            "application/javascript": [
              "window[\"4e20ac3a-9da1-11ec-bdc8-0242ac1c0002\"] = google.colab.output.setActiveOutputArea(window[\"4e0721ca-9da1-11ec-bdc8-0242ac1c0002\"]);\n",
              "//# sourceURL=js_699a3e4ee2"
            ],
            "text/plain": [
              "<IPython.core.display.Javascript object>"
            ]
          },
          "metadata": {}
        },
        {
          "output_type": "display_data",
          "data": {
            "application/javascript": [
              "window[\"4e41cfd2-9da1-11ec-bdc8-0242ac1c0002\"] = google.colab.output.getActiveOutputArea();\n",
              "//# sourceURL=js_93d82ac7f5"
            ],
            "text/plain": [
              "<IPython.core.display.Javascript object>"
            ]
          },
          "metadata": {}
        },
        {
          "output_type": "display_data",
          "data": {
            "application/javascript": [
              "window[\"4e4215c8-9da1-11ec-bdc8-0242ac1c0002\"] = document.querySelector(\"#id18-0-0\");\n",
              "//# sourceURL=js_5cdb27ff7d"
            ],
            "text/plain": [
              "<IPython.core.display.Javascript object>"
            ]
          },
          "metadata": {}
        },
        {
          "output_type": "display_data",
          "data": {
            "application/javascript": [
              "window[\"4e426a6e-9da1-11ec-bdc8-0242ac1c0002\"] = google.colab.output.setActiveOutputArea(window[\"4e4215c8-9da1-11ec-bdc8-0242ac1c0002\"]);\n",
              "//# sourceURL=js_fafb347283"
            ],
            "text/plain": [
              "<IPython.core.display.Javascript object>"
            ]
          },
          "metadata": {}
        },
        {
          "output_type": "display_data",
          "data": {
            "application/javascript": [
              "window[\"4e5bb262-9da1-11ec-bdc8-0242ac1c0002\"] = google.colab.output.setActiveOutputArea(window[\"4e41cfd2-9da1-11ec-bdc8-0242ac1c0002\"]);\n",
              "//# sourceURL=js_801a578e56"
            ],
            "text/plain": [
              "<IPython.core.display.Javascript object>"
            ]
          },
          "metadata": {}
        },
        {
          "output_type": "display_data",
          "data": {
            "application/javascript": [
              "window[\"4e7c9798-9da1-11ec-bdc8-0242ac1c0002\"] = google.colab.output.getActiveOutputArea();\n",
              "//# sourceURL=js_a09df3256a"
            ],
            "text/plain": [
              "<IPython.core.display.Javascript object>"
            ]
          },
          "metadata": {}
        },
        {
          "output_type": "display_data",
          "data": {
            "application/javascript": [
              "window[\"4e7cf74c-9da1-11ec-bdc8-0242ac1c0002\"] = document.querySelector(\"#id18-0-0\");\n",
              "//# sourceURL=js_7f444addbe"
            ],
            "text/plain": [
              "<IPython.core.display.Javascript object>"
            ]
          },
          "metadata": {}
        },
        {
          "output_type": "display_data",
          "data": {
            "application/javascript": [
              "window[\"4e7d8c52-9da1-11ec-bdc8-0242ac1c0002\"] = google.colab.output.setActiveOutputArea(window[\"4e7cf74c-9da1-11ec-bdc8-0242ac1c0002\"]);\n",
              "//# sourceURL=js_0031d5b125"
            ],
            "text/plain": [
              "<IPython.core.display.Javascript object>"
            ]
          },
          "metadata": {}
        },
        {
          "output_type": "display_data",
          "data": {
            "application/javascript": [
              "window[\"4e958528-9da1-11ec-bdc8-0242ac1c0002\"] = google.colab.output.setActiveOutputArea(window[\"4e7c9798-9da1-11ec-bdc8-0242ac1c0002\"]);\n",
              "//# sourceURL=js_6db88eb18b"
            ],
            "text/plain": [
              "<IPython.core.display.Javascript object>"
            ]
          },
          "metadata": {}
        },
        {
          "output_type": "display_data",
          "data": {
            "application/javascript": [
              "window[\"4eb648e4-9da1-11ec-bdc8-0242ac1c0002\"] = google.colab.output.getActiveOutputArea();\n",
              "//# sourceURL=js_8c1182ca0f"
            ],
            "text/plain": [
              "<IPython.core.display.Javascript object>"
            ]
          },
          "metadata": {}
        },
        {
          "output_type": "display_data",
          "data": {
            "application/javascript": [
              "window[\"4eb69d62-9da1-11ec-bdc8-0242ac1c0002\"] = document.querySelector(\"#id18-0-0\");\n",
              "//# sourceURL=js_2d3f98005c"
            ],
            "text/plain": [
              "<IPython.core.display.Javascript object>"
            ]
          },
          "metadata": {}
        },
        {
          "output_type": "display_data",
          "data": {
            "application/javascript": [
              "window[\"4eb70d56-9da1-11ec-bdc8-0242ac1c0002\"] = google.colab.output.setActiveOutputArea(window[\"4eb69d62-9da1-11ec-bdc8-0242ac1c0002\"]);\n",
              "//# sourceURL=js_51b39b655f"
            ],
            "text/plain": [
              "<IPython.core.display.Javascript object>"
            ]
          },
          "metadata": {}
        },
        {
          "output_type": "display_data",
          "data": {
            "application/javascript": [
              "window[\"4ed1bd68-9da1-11ec-bdc8-0242ac1c0002\"] = google.colab.output.setActiveOutputArea(window[\"4eb648e4-9da1-11ec-bdc8-0242ac1c0002\"]);\n",
              "//# sourceURL=js_a9104ac2f2"
            ],
            "text/plain": [
              "<IPython.core.display.Javascript object>"
            ]
          },
          "metadata": {}
        },
        {
          "output_type": "display_data",
          "data": {
            "application/javascript": [
              "window[\"4ef27f44-9da1-11ec-bdc8-0242ac1c0002\"] = google.colab.output.getActiveOutputArea();\n",
              "//# sourceURL=js_d64ee311c1"
            ],
            "text/plain": [
              "<IPython.core.display.Javascript object>"
            ]
          },
          "metadata": {}
        },
        {
          "output_type": "display_data",
          "data": {
            "application/javascript": [
              "window[\"4ef2fc9e-9da1-11ec-bdc8-0242ac1c0002\"] = document.querySelector(\"#id18-0-0\");\n",
              "//# sourceURL=js_b50f18a320"
            ],
            "text/plain": [
              "<IPython.core.display.Javascript object>"
            ]
          },
          "metadata": {}
        },
        {
          "output_type": "display_data",
          "data": {
            "application/javascript": [
              "window[\"4ef376d8-9da1-11ec-bdc8-0242ac1c0002\"] = google.colab.output.setActiveOutputArea(window[\"4ef2fc9e-9da1-11ec-bdc8-0242ac1c0002\"]);\n",
              "//# sourceURL=js_0fbf71fd2e"
            ],
            "text/plain": [
              "<IPython.core.display.Javascript object>"
            ]
          },
          "metadata": {}
        },
        {
          "output_type": "display_data",
          "data": {
            "application/javascript": [
              "window[\"4f173d70-9da1-11ec-bdc8-0242ac1c0002\"] = google.colab.output.setActiveOutputArea(window[\"4ef27f44-9da1-11ec-bdc8-0242ac1c0002\"]);\n",
              "//# sourceURL=js_d9098a72ea"
            ],
            "text/plain": [
              "<IPython.core.display.Javascript object>"
            ]
          },
          "metadata": {}
        },
        {
          "output_type": "display_data",
          "data": {
            "application/javascript": [
              "window[\"4f3a98ec-9da1-11ec-bdc8-0242ac1c0002\"] = google.colab.output.getActiveOutputArea();\n",
              "//# sourceURL=js_cf33a75b9b"
            ],
            "text/plain": [
              "<IPython.core.display.Javascript object>"
            ]
          },
          "metadata": {}
        },
        {
          "output_type": "display_data",
          "data": {
            "application/javascript": [
              "window[\"4f3b0c50-9da1-11ec-bdc8-0242ac1c0002\"] = document.querySelector(\"#id18-0-0\");\n",
              "//# sourceURL=js_752061f43d"
            ],
            "text/plain": [
              "<IPython.core.display.Javascript object>"
            ]
          },
          "metadata": {}
        },
        {
          "output_type": "display_data",
          "data": {
            "application/javascript": [
              "window[\"4f3b8022-9da1-11ec-bdc8-0242ac1c0002\"] = google.colab.output.setActiveOutputArea(window[\"4f3b0c50-9da1-11ec-bdc8-0242ac1c0002\"]);\n",
              "//# sourceURL=js_b76683c03c"
            ],
            "text/plain": [
              "<IPython.core.display.Javascript object>"
            ]
          },
          "metadata": {}
        },
        {
          "output_type": "display_data",
          "data": {
            "application/javascript": [
              "window[\"4f555858-9da1-11ec-bdc8-0242ac1c0002\"] = google.colab.output.setActiveOutputArea(window[\"4f3a98ec-9da1-11ec-bdc8-0242ac1c0002\"]);\n",
              "//# sourceURL=js_e8201b8867"
            ],
            "text/plain": [
              "<IPython.core.display.Javascript object>"
            ]
          },
          "metadata": {}
        },
        {
          "output_type": "display_data",
          "data": {
            "application/javascript": [
              "window[\"4f763f82-9da1-11ec-bdc8-0242ac1c0002\"] = google.colab.output.getActiveOutputArea();\n",
              "//# sourceURL=js_b76bf0e8ac"
            ],
            "text/plain": [
              "<IPython.core.display.Javascript object>"
            ]
          },
          "metadata": {}
        },
        {
          "output_type": "display_data",
          "data": {
            "application/javascript": [
              "window[\"4f76c916-9da1-11ec-bdc8-0242ac1c0002\"] = document.querySelector(\"#id18-0-0\");\n",
              "//# sourceURL=js_558abb717c"
            ],
            "text/plain": [
              "<IPython.core.display.Javascript object>"
            ]
          },
          "metadata": {}
        },
        {
          "output_type": "display_data",
          "data": {
            "application/javascript": [
              "window[\"4f771d12-9da1-11ec-bdc8-0242ac1c0002\"] = google.colab.output.setActiveOutputArea(window[\"4f76c916-9da1-11ec-bdc8-0242ac1c0002\"]);\n",
              "//# sourceURL=js_0d4d62589b"
            ],
            "text/plain": [
              "<IPython.core.display.Javascript object>"
            ]
          },
          "metadata": {}
        },
        {
          "output_type": "display_data",
          "data": {
            "application/javascript": [
              "window[\"4f9019e8-9da1-11ec-bdc8-0242ac1c0002\"] = google.colab.output.setActiveOutputArea(window[\"4f763f82-9da1-11ec-bdc8-0242ac1c0002\"]);\n",
              "//# sourceURL=js_8469a1229e"
            ],
            "text/plain": [
              "<IPython.core.display.Javascript object>"
            ]
          },
          "metadata": {}
        },
        {
          "output_type": "display_data",
          "data": {
            "application/javascript": [
              "window[\"4fb1d43e-9da1-11ec-bdc8-0242ac1c0002\"] = google.colab.output.getActiveOutputArea();\n",
              "//# sourceURL=js_9e742563c9"
            ],
            "text/plain": [
              "<IPython.core.display.Javascript object>"
            ]
          },
          "metadata": {}
        },
        {
          "output_type": "display_data",
          "data": {
            "application/javascript": [
              "window[\"4fb27920-9da1-11ec-bdc8-0242ac1c0002\"] = document.querySelector(\"#id18-0-0\");\n",
              "//# sourceURL=js_6c5df3f47f"
            ],
            "text/plain": [
              "<IPython.core.display.Javascript object>"
            ]
          },
          "metadata": {}
        },
        {
          "output_type": "display_data",
          "data": {
            "application/javascript": [
              "window[\"4fb2d776-9da1-11ec-bdc8-0242ac1c0002\"] = google.colab.output.setActiveOutputArea(window[\"4fb27920-9da1-11ec-bdc8-0242ac1c0002\"]);\n",
              "//# sourceURL=js_4214efd1f3"
            ],
            "text/plain": [
              "<IPython.core.display.Javascript object>"
            ]
          },
          "metadata": {}
        },
        {
          "output_type": "display_data",
          "data": {
            "application/javascript": [
              "window[\"4fcb59f4-9da1-11ec-bdc8-0242ac1c0002\"] = google.colab.output.setActiveOutputArea(window[\"4fb1d43e-9da1-11ec-bdc8-0242ac1c0002\"]);\n",
              "//# sourceURL=js_ce8847a9eb"
            ],
            "text/plain": [
              "<IPython.core.display.Javascript object>"
            ]
          },
          "metadata": {}
        },
        {
          "output_type": "display_data",
          "data": {
            "application/javascript": [
              "window[\"4fee3528-9da1-11ec-bdc8-0242ac1c0002\"] = google.colab.output.getActiveOutputArea();\n",
              "//# sourceURL=js_1adaf06a4e"
            ],
            "text/plain": [
              "<IPython.core.display.Javascript object>"
            ]
          },
          "metadata": {}
        },
        {
          "output_type": "display_data",
          "data": {
            "application/javascript": [
              "window[\"4fee783a-9da1-11ec-bdc8-0242ac1c0002\"] = document.querySelector(\"#id18-0-0\");\n",
              "//# sourceURL=js_acb5b08e4c"
            ],
            "text/plain": [
              "<IPython.core.display.Javascript object>"
            ]
          },
          "metadata": {}
        },
        {
          "output_type": "display_data",
          "data": {
            "application/javascript": [
              "window[\"4feeb32c-9da1-11ec-bdc8-0242ac1c0002\"] = google.colab.output.setActiveOutputArea(window[\"4fee783a-9da1-11ec-bdc8-0242ac1c0002\"]);\n",
              "//# sourceURL=js_effc4434de"
            ],
            "text/plain": [
              "<IPython.core.display.Javascript object>"
            ]
          },
          "metadata": {}
        },
        {
          "output_type": "display_data",
          "data": {
            "application/javascript": [
              "window[\"5008f34a-9da1-11ec-bdc8-0242ac1c0002\"] = google.colab.output.setActiveOutputArea(window[\"4fee3528-9da1-11ec-bdc8-0242ac1c0002\"]);\n",
              "//# sourceURL=js_6c53a0c459"
            ],
            "text/plain": [
              "<IPython.core.display.Javascript object>"
            ]
          },
          "metadata": {}
        },
        {
          "output_type": "display_data",
          "data": {
            "application/javascript": [
              "window[\"5029f5e0-9da1-11ec-bdc8-0242ac1c0002\"] = google.colab.output.getActiveOutputArea();\n",
              "//# sourceURL=js_35f5592a5c"
            ],
            "text/plain": [
              "<IPython.core.display.Javascript object>"
            ]
          },
          "metadata": {}
        },
        {
          "output_type": "display_data",
          "data": {
            "application/javascript": [
              "window[\"502a8474-9da1-11ec-bdc8-0242ac1c0002\"] = document.querySelector(\"#id18-0-0\");\n",
              "//# sourceURL=js_ca0cffd036"
            ],
            "text/plain": [
              "<IPython.core.display.Javascript object>"
            ]
          },
          "metadata": {}
        },
        {
          "output_type": "display_data",
          "data": {
            "application/javascript": [
              "window[\"502ae716-9da1-11ec-bdc8-0242ac1c0002\"] = google.colab.output.setActiveOutputArea(window[\"502a8474-9da1-11ec-bdc8-0242ac1c0002\"]);\n",
              "//# sourceURL=js_51e5b65554"
            ],
            "text/plain": [
              "<IPython.core.display.Javascript object>"
            ]
          },
          "metadata": {}
        },
        {
          "output_type": "display_data",
          "data": {
            "application/javascript": [
              "window[\"50438b18-9da1-11ec-bdc8-0242ac1c0002\"] = google.colab.output.setActiveOutputArea(window[\"5029f5e0-9da1-11ec-bdc8-0242ac1c0002\"]);\n",
              "//# sourceURL=js_fe070295cb"
            ],
            "text/plain": [
              "<IPython.core.display.Javascript object>"
            ]
          },
          "metadata": {}
        },
        {
          "output_type": "display_data",
          "data": {
            "application/javascript": [
              "window[\"50641644-9da1-11ec-bdc8-0242ac1c0002\"] = google.colab.output.getActiveOutputArea();\n",
              "//# sourceURL=js_a1eff4c9d3"
            ],
            "text/plain": [
              "<IPython.core.display.Javascript object>"
            ]
          },
          "metadata": {}
        },
        {
          "output_type": "display_data",
          "data": {
            "application/javascript": [
              "window[\"5064a4ec-9da1-11ec-bdc8-0242ac1c0002\"] = document.querySelector(\"#id18-0-0\");\n",
              "//# sourceURL=js_0eb424f001"
            ],
            "text/plain": [
              "<IPython.core.display.Javascript object>"
            ]
          },
          "metadata": {}
        },
        {
          "output_type": "display_data",
          "data": {
            "application/javascript": [
              "window[\"50651472-9da1-11ec-bdc8-0242ac1c0002\"] = google.colab.output.setActiveOutputArea(window[\"5064a4ec-9da1-11ec-bdc8-0242ac1c0002\"]);\n",
              "//# sourceURL=js_4ee779d934"
            ],
            "text/plain": [
              "<IPython.core.display.Javascript object>"
            ]
          },
          "metadata": {}
        },
        {
          "output_type": "display_data",
          "data": {
            "application/javascript": [
              "window[\"507e2958-9da1-11ec-bdc8-0242ac1c0002\"] = google.colab.output.setActiveOutputArea(window[\"50641644-9da1-11ec-bdc8-0242ac1c0002\"]);\n",
              "//# sourceURL=js_05d224eda5"
            ],
            "text/plain": [
              "<IPython.core.display.Javascript object>"
            ]
          },
          "metadata": {}
        },
        {
          "output_type": "display_data",
          "data": {
            "application/javascript": [
              "window[\"509ee760-9da1-11ec-bdc8-0242ac1c0002\"] = google.colab.output.getActiveOutputArea();\n",
              "//# sourceURL=js_52ecbaa91d"
            ],
            "text/plain": [
              "<IPython.core.display.Javascript object>"
            ]
          },
          "metadata": {}
        },
        {
          "output_type": "display_data",
          "data": {
            "application/javascript": [
              "window[\"509f9b38-9da1-11ec-bdc8-0242ac1c0002\"] = document.querySelector(\"#id18-0-0\");\n",
              "//# sourceURL=js_af667732e9"
            ],
            "text/plain": [
              "<IPython.core.display.Javascript object>"
            ]
          },
          "metadata": {}
        },
        {
          "output_type": "display_data",
          "data": {
            "application/javascript": [
              "window[\"509ff812-9da1-11ec-bdc8-0242ac1c0002\"] = google.colab.output.setActiveOutputArea(window[\"509f9b38-9da1-11ec-bdc8-0242ac1c0002\"]);\n",
              "//# sourceURL=js_a745171c55"
            ],
            "text/plain": [
              "<IPython.core.display.Javascript object>"
            ]
          },
          "metadata": {}
        },
        {
          "output_type": "display_data",
          "data": {
            "application/javascript": [
              "window[\"50b8ad08-9da1-11ec-bdc8-0242ac1c0002\"] = google.colab.output.setActiveOutputArea(window[\"509ee760-9da1-11ec-bdc8-0242ac1c0002\"]);\n",
              "//# sourceURL=js_4114e4f8bc"
            ],
            "text/plain": [
              "<IPython.core.display.Javascript object>"
            ]
          },
          "metadata": {}
        },
        {
          "output_type": "display_data",
          "data": {
            "application/javascript": [
              "window[\"50d9639a-9da1-11ec-bdc8-0242ac1c0002\"] = google.colab.output.getActiveOutputArea();\n",
              "//# sourceURL=js_591e0d0467"
            ],
            "text/plain": [
              "<IPython.core.display.Javascript object>"
            ]
          },
          "metadata": {}
        },
        {
          "output_type": "display_data",
          "data": {
            "application/javascript": [
              "window[\"50d9d122-9da1-11ec-bdc8-0242ac1c0002\"] = document.querySelector(\"#id18-0-0\");\n",
              "//# sourceURL=js_447bb155a0"
            ],
            "text/plain": [
              "<IPython.core.display.Javascript object>"
            ]
          },
          "metadata": {}
        },
        {
          "output_type": "display_data",
          "data": {
            "application/javascript": [
              "window[\"50da532c-9da1-11ec-bdc8-0242ac1c0002\"] = google.colab.output.setActiveOutputArea(window[\"50d9d122-9da1-11ec-bdc8-0242ac1c0002\"]);\n",
              "//# sourceURL=js_9145e23040"
            ],
            "text/plain": [
              "<IPython.core.display.Javascript object>"
            ]
          },
          "metadata": {}
        },
        {
          "output_type": "display_data",
          "data": {
            "application/javascript": [
              "window[\"50f3beca-9da1-11ec-bdc8-0242ac1c0002\"] = google.colab.output.setActiveOutputArea(window[\"50d9639a-9da1-11ec-bdc8-0242ac1c0002\"]);\n",
              "//# sourceURL=js_aa7d38f5cd"
            ],
            "text/plain": [
              "<IPython.core.display.Javascript object>"
            ]
          },
          "metadata": {}
        },
        {
          "output_type": "display_data",
          "data": {
            "application/javascript": [
              "window[\"51143592-9da1-11ec-bdc8-0242ac1c0002\"] = google.colab.output.getActiveOutputArea();\n",
              "//# sourceURL=js_a2bb45ecce"
            ],
            "text/plain": [
              "<IPython.core.display.Javascript object>"
            ]
          },
          "metadata": {}
        },
        {
          "output_type": "display_data",
          "data": {
            "application/javascript": [
              "window[\"5114744e-9da1-11ec-bdc8-0242ac1c0002\"] = document.querySelector(\"#id18-0-0\");\n",
              "//# sourceURL=js_8f488d06c3"
            ],
            "text/plain": [
              "<IPython.core.display.Javascript object>"
            ]
          },
          "metadata": {}
        },
        {
          "output_type": "display_data",
          "data": {
            "application/javascript": [
              "window[\"5114afe0-9da1-11ec-bdc8-0242ac1c0002\"] = google.colab.output.setActiveOutputArea(window[\"5114744e-9da1-11ec-bdc8-0242ac1c0002\"]);\n",
              "//# sourceURL=js_cd58007187"
            ],
            "text/plain": [
              "<IPython.core.display.Javascript object>"
            ]
          },
          "metadata": {}
        },
        {
          "output_type": "display_data",
          "data": {
            "application/javascript": [
              "window[\"512e5940-9da1-11ec-bdc8-0242ac1c0002\"] = google.colab.output.setActiveOutputArea(window[\"51143592-9da1-11ec-bdc8-0242ac1c0002\"]);\n",
              "//# sourceURL=js_619e250d04"
            ],
            "text/plain": [
              "<IPython.core.display.Javascript object>"
            ]
          },
          "metadata": {}
        },
        {
          "output_type": "display_data",
          "data": {
            "application/javascript": [
              "window[\"514fbfb8-9da1-11ec-bdc8-0242ac1c0002\"] = google.colab.output.getActiveOutputArea();\n",
              "//# sourceURL=js_da8b7d4c1a"
            ],
            "text/plain": [
              "<IPython.core.display.Javascript object>"
            ]
          },
          "metadata": {}
        },
        {
          "output_type": "display_data",
          "data": {
            "application/javascript": [
              "window[\"51509ece-9da1-11ec-bdc8-0242ac1c0002\"] = document.querySelector(\"#id18-0-0\");\n",
              "//# sourceURL=js_b2b2cc4ea9"
            ],
            "text/plain": [
              "<IPython.core.display.Javascript object>"
            ]
          },
          "metadata": {}
        },
        {
          "output_type": "display_data",
          "data": {
            "application/javascript": [
              "window[\"5150e794-9da1-11ec-bdc8-0242ac1c0002\"] = google.colab.output.setActiveOutputArea(window[\"51509ece-9da1-11ec-bdc8-0242ac1c0002\"]);\n",
              "//# sourceURL=js_cf3f162777"
            ],
            "text/plain": [
              "<IPython.core.display.Javascript object>"
            ]
          },
          "metadata": {}
        },
        {
          "output_type": "display_data",
          "data": {
            "application/javascript": [
              "window[\"516bc924-9da1-11ec-bdc8-0242ac1c0002\"] = google.colab.output.setActiveOutputArea(window[\"514fbfb8-9da1-11ec-bdc8-0242ac1c0002\"]);\n",
              "//# sourceURL=js_7950ec0606"
            ],
            "text/plain": [
              "<IPython.core.display.Javascript object>"
            ]
          },
          "metadata": {}
        },
        {
          "output_type": "display_data",
          "data": {
            "application/javascript": [
              "window[\"518ea002-9da1-11ec-bdc8-0242ac1c0002\"] = google.colab.output.getActiveOutputArea();\n",
              "//# sourceURL=js_c55ece7c6b"
            ],
            "text/plain": [
              "<IPython.core.display.Javascript object>"
            ]
          },
          "metadata": {}
        },
        {
          "output_type": "display_data",
          "data": {
            "application/javascript": [
              "window[\"518f02e0-9da1-11ec-bdc8-0242ac1c0002\"] = document.querySelector(\"#id18-0-0\");\n",
              "//# sourceURL=js_f581f607af"
            ],
            "text/plain": [
              "<IPython.core.display.Javascript object>"
            ]
          },
          "metadata": {}
        },
        {
          "output_type": "display_data",
          "data": {
            "application/javascript": [
              "window[\"518f6fbe-9da1-11ec-bdc8-0242ac1c0002\"] = google.colab.output.setActiveOutputArea(window[\"518f02e0-9da1-11ec-bdc8-0242ac1c0002\"]);\n",
              "//# sourceURL=js_6c3e8e0d3a"
            ],
            "text/plain": [
              "<IPython.core.display.Javascript object>"
            ]
          },
          "metadata": {}
        },
        {
          "output_type": "display_data",
          "data": {
            "application/javascript": [
              "window[\"51a854de-9da1-11ec-bdc8-0242ac1c0002\"] = google.colab.output.setActiveOutputArea(window[\"518ea002-9da1-11ec-bdc8-0242ac1c0002\"]);\n",
              "//# sourceURL=js_338519f295"
            ],
            "text/plain": [
              "<IPython.core.display.Javascript object>"
            ]
          },
          "metadata": {}
        },
        {
          "output_type": "display_data",
          "data": {
            "application/javascript": [
              "window[\"51c906e8-9da1-11ec-bdc8-0242ac1c0002\"] = google.colab.output.getActiveOutputArea();\n",
              "//# sourceURL=js_65e1c0b614"
            ],
            "text/plain": [
              "<IPython.core.display.Javascript object>"
            ]
          },
          "metadata": {}
        },
        {
          "output_type": "display_data",
          "data": {
            "application/javascript": [
              "window[\"51c9b23c-9da1-11ec-bdc8-0242ac1c0002\"] = document.querySelector(\"#id18-0-0\");\n",
              "//# sourceURL=js_95a0ed5087"
            ],
            "text/plain": [
              "<IPython.core.display.Javascript object>"
            ]
          },
          "metadata": {}
        },
        {
          "output_type": "display_data",
          "data": {
            "application/javascript": [
              "window[\"51ca4c7e-9da1-11ec-bdc8-0242ac1c0002\"] = google.colab.output.setActiveOutputArea(window[\"51c9b23c-9da1-11ec-bdc8-0242ac1c0002\"]);\n",
              "//# sourceURL=js_49142c18ac"
            ],
            "text/plain": [
              "<IPython.core.display.Javascript object>"
            ]
          },
          "metadata": {}
        },
        {
          "output_type": "display_data",
          "data": {
            "application/javascript": [
              "window[\"51ef07c6-9da1-11ec-bdc8-0242ac1c0002\"] = google.colab.output.setActiveOutputArea(window[\"51c906e8-9da1-11ec-bdc8-0242ac1c0002\"]);\n",
              "//# sourceURL=js_aa75f29c3f"
            ],
            "text/plain": [
              "<IPython.core.display.Javascript object>"
            ]
          },
          "metadata": {}
        },
        {
          "output_type": "display_data",
          "data": {
            "application/javascript": [
              "window[\"5211851c-9da1-11ec-bdc8-0242ac1c0002\"] = google.colab.output.getActiveOutputArea();\n",
              "//# sourceURL=js_41c54fd856"
            ],
            "text/plain": [
              "<IPython.core.display.Javascript object>"
            ]
          },
          "metadata": {}
        },
        {
          "output_type": "display_data",
          "data": {
            "application/javascript": [
              "window[\"5211f33a-9da1-11ec-bdc8-0242ac1c0002\"] = document.querySelector(\"#id18-0-0\");\n",
              "//# sourceURL=js_a4a2d93739"
            ],
            "text/plain": [
              "<IPython.core.display.Javascript object>"
            ]
          },
          "metadata": {}
        },
        {
          "output_type": "display_data",
          "data": {
            "application/javascript": [
              "window[\"521269fa-9da1-11ec-bdc8-0242ac1c0002\"] = google.colab.output.setActiveOutputArea(window[\"5211f33a-9da1-11ec-bdc8-0242ac1c0002\"]);\n",
              "//# sourceURL=js_9752f80da1"
            ],
            "text/plain": [
              "<IPython.core.display.Javascript object>"
            ]
          },
          "metadata": {}
        },
        {
          "output_type": "display_data",
          "data": {
            "application/javascript": [
              "window[\"522c0bb2-9da1-11ec-bdc8-0242ac1c0002\"] = google.colab.output.setActiveOutputArea(window[\"5211851c-9da1-11ec-bdc8-0242ac1c0002\"]);\n",
              "//# sourceURL=js_30dd84d738"
            ],
            "text/plain": [
              "<IPython.core.display.Javascript object>"
            ]
          },
          "metadata": {}
        },
        {
          "output_type": "display_data",
          "data": {
            "application/javascript": [
              "window[\"524d2d10-9da1-11ec-bdc8-0242ac1c0002\"] = google.colab.output.getActiveOutputArea();\n",
              "//# sourceURL=js_78fc543037"
            ],
            "text/plain": [
              "<IPython.core.display.Javascript object>"
            ]
          },
          "metadata": {}
        },
        {
          "output_type": "display_data",
          "data": {
            "application/javascript": [
              "window[\"524de188-9da1-11ec-bdc8-0242ac1c0002\"] = document.querySelector(\"#id18-0-0\");\n",
              "//# sourceURL=js_e36a6732d1"
            ],
            "text/plain": [
              "<IPython.core.display.Javascript object>"
            ]
          },
          "metadata": {}
        },
        {
          "output_type": "display_data",
          "data": {
            "application/javascript": [
              "window[\"524e411e-9da1-11ec-bdc8-0242ac1c0002\"] = google.colab.output.setActiveOutputArea(window[\"524de188-9da1-11ec-bdc8-0242ac1c0002\"]);\n",
              "//# sourceURL=js_98955d59ac"
            ],
            "text/plain": [
              "<IPython.core.display.Javascript object>"
            ]
          },
          "metadata": {}
        },
        {
          "output_type": "display_data",
          "data": {
            "application/javascript": [
              "window[\"5266b0e6-9da1-11ec-bdc8-0242ac1c0002\"] = google.colab.output.setActiveOutputArea(window[\"524d2d10-9da1-11ec-bdc8-0242ac1c0002\"]);\n",
              "//# sourceURL=js_bd0cb206f7"
            ],
            "text/plain": [
              "<IPython.core.display.Javascript object>"
            ]
          },
          "metadata": {}
        },
        {
          "output_type": "display_data",
          "data": {
            "application/javascript": [
              "window[\"528762c8-9da1-11ec-bdc8-0242ac1c0002\"] = google.colab.output.getActiveOutputArea();\n",
              "//# sourceURL=js_04bf52a286"
            ],
            "text/plain": [
              "<IPython.core.display.Javascript object>"
            ]
          },
          "metadata": {}
        },
        {
          "output_type": "display_data",
          "data": {
            "application/javascript": [
              "window[\"5287a788-9da1-11ec-bdc8-0242ac1c0002\"] = document.querySelector(\"#id18-0-0\");\n",
              "//# sourceURL=js_1d2aa6bb39"
            ],
            "text/plain": [
              "<IPython.core.display.Javascript object>"
            ]
          },
          "metadata": {}
        },
        {
          "output_type": "display_data",
          "data": {
            "application/javascript": [
              "window[\"5287ee28-9da1-11ec-bdc8-0242ac1c0002\"] = google.colab.output.setActiveOutputArea(window[\"5287a788-9da1-11ec-bdc8-0242ac1c0002\"]);\n",
              "//# sourceURL=js_4c8ae9f3b4"
            ],
            "text/plain": [
              "<IPython.core.display.Javascript object>"
            ]
          },
          "metadata": {}
        },
        {
          "output_type": "display_data",
          "data": {
            "application/javascript": [
              "window[\"52a2006a-9da1-11ec-bdc8-0242ac1c0002\"] = google.colab.output.setActiveOutputArea(window[\"528762c8-9da1-11ec-bdc8-0242ac1c0002\"]);\n",
              "//# sourceURL=js_dcaa41a96a"
            ],
            "text/plain": [
              "<IPython.core.display.Javascript object>"
            ]
          },
          "metadata": {}
        },
        {
          "output_type": "display_data",
          "data": {
            "application/javascript": [
              "window[\"52c26602-9da1-11ec-bdc8-0242ac1c0002\"] = google.colab.output.getActiveOutputArea();\n",
              "//# sourceURL=js_6e218dab18"
            ],
            "text/plain": [
              "<IPython.core.display.Javascript object>"
            ]
          },
          "metadata": {}
        },
        {
          "output_type": "display_data",
          "data": {
            "application/javascript": [
              "window[\"52c2ac2a-9da1-11ec-bdc8-0242ac1c0002\"] = document.querySelector(\"#id18-0-0\");\n",
              "//# sourceURL=js_8f2b4dbd1a"
            ],
            "text/plain": [
              "<IPython.core.display.Javascript object>"
            ]
          },
          "metadata": {}
        },
        {
          "output_type": "display_data",
          "data": {
            "application/javascript": [
              "window[\"52c2e424-9da1-11ec-bdc8-0242ac1c0002\"] = google.colab.output.setActiveOutputArea(window[\"52c2ac2a-9da1-11ec-bdc8-0242ac1c0002\"]);\n",
              "//# sourceURL=js_1b30aa4d20"
            ],
            "text/plain": [
              "<IPython.core.display.Javascript object>"
            ]
          },
          "metadata": {}
        },
        {
          "output_type": "display_data",
          "data": {
            "application/javascript": [
              "window[\"52dc1048-9da1-11ec-bdc8-0242ac1c0002\"] = google.colab.output.setActiveOutputArea(window[\"52c26602-9da1-11ec-bdc8-0242ac1c0002\"]);\n",
              "//# sourceURL=js_4b1bd0de02"
            ],
            "text/plain": [
              "<IPython.core.display.Javascript object>"
            ]
          },
          "metadata": {}
        },
        {
          "output_type": "display_data",
          "data": {
            "application/javascript": [
              "window[\"52fca326-9da1-11ec-bdc8-0242ac1c0002\"] = google.colab.output.getActiveOutputArea();\n",
              "//# sourceURL=js_575fbc3e3c"
            ],
            "text/plain": [
              "<IPython.core.display.Javascript object>"
            ]
          },
          "metadata": {}
        },
        {
          "output_type": "display_data",
          "data": {
            "application/javascript": [
              "window[\"52fd8228-9da1-11ec-bdc8-0242ac1c0002\"] = document.querySelector(\"#id18-0-0\");\n",
              "//# sourceURL=js_bc7917b17b"
            ],
            "text/plain": [
              "<IPython.core.display.Javascript object>"
            ]
          },
          "metadata": {}
        },
        {
          "output_type": "display_data",
          "data": {
            "application/javascript": [
              "window[\"52fe1666-9da1-11ec-bdc8-0242ac1c0002\"] = google.colab.output.setActiveOutputArea(window[\"52fd8228-9da1-11ec-bdc8-0242ac1c0002\"]);\n",
              "//# sourceURL=js_b4f45dd430"
            ],
            "text/plain": [
              "<IPython.core.display.Javascript object>"
            ]
          },
          "metadata": {}
        },
        {
          "output_type": "display_data",
          "data": {
            "application/javascript": [
              "window[\"5318b1ba-9da1-11ec-bdc8-0242ac1c0002\"] = google.colab.output.setActiveOutputArea(window[\"52fca326-9da1-11ec-bdc8-0242ac1c0002\"]);\n",
              "//# sourceURL=js_d1d24d2116"
            ],
            "text/plain": [
              "<IPython.core.display.Javascript object>"
            ]
          },
          "metadata": {}
        },
        {
          "output_type": "display_data",
          "data": {
            "application/javascript": [
              "window[\"53393890-9da1-11ec-bdc8-0242ac1c0002\"] = google.colab.output.getActiveOutputArea();\n",
              "//# sourceURL=js_49c608af98"
            ],
            "text/plain": [
              "<IPython.core.display.Javascript object>"
            ]
          },
          "metadata": {}
        },
        {
          "output_type": "display_data",
          "data": {
            "application/javascript": [
              "window[\"5339878c-9da1-11ec-bdc8-0242ac1c0002\"] = document.querySelector(\"#id18-0-0\");\n",
              "//# sourceURL=js_528468236d"
            ],
            "text/plain": [
              "<IPython.core.display.Javascript object>"
            ]
          },
          "metadata": {}
        },
        {
          "output_type": "display_data",
          "data": {
            "application/javascript": [
              "window[\"5339cf94-9da1-11ec-bdc8-0242ac1c0002\"] = google.colab.output.setActiveOutputArea(window[\"5339878c-9da1-11ec-bdc8-0242ac1c0002\"]);\n",
              "//# sourceURL=js_8f51d38784"
            ],
            "text/plain": [
              "<IPython.core.display.Javascript object>"
            ]
          },
          "metadata": {}
        },
        {
          "output_type": "display_data",
          "data": {
            "application/javascript": [
              "window[\"5353afc2-9da1-11ec-bdc8-0242ac1c0002\"] = google.colab.output.setActiveOutputArea(window[\"53393890-9da1-11ec-bdc8-0242ac1c0002\"]);\n",
              "//# sourceURL=js_8d97006af8"
            ],
            "text/plain": [
              "<IPython.core.display.Javascript object>"
            ]
          },
          "metadata": {}
        },
        {
          "output_type": "display_data",
          "data": {
            "application/javascript": [
              "window[\"537439e0-9da1-11ec-bdc8-0242ac1c0002\"] = google.colab.output.getActiveOutputArea();\n",
              "//# sourceURL=js_4200d5cbfc"
            ],
            "text/plain": [
              "<IPython.core.display.Javascript object>"
            ]
          },
          "metadata": {}
        },
        {
          "output_type": "display_data",
          "data": {
            "application/javascript": [
              "window[\"5374a0ba-9da1-11ec-bdc8-0242ac1c0002\"] = document.querySelector(\"#id18-0-0\");\n",
              "//# sourceURL=js_375a797332"
            ],
            "text/plain": [
              "<IPython.core.display.Javascript object>"
            ]
          },
          "metadata": {}
        },
        {
          "output_type": "display_data",
          "data": {
            "application/javascript": [
              "window[\"5374f448-9da1-11ec-bdc8-0242ac1c0002\"] = google.colab.output.setActiveOutputArea(window[\"5374a0ba-9da1-11ec-bdc8-0242ac1c0002\"]);\n",
              "//# sourceURL=js_ceb64668fc"
            ],
            "text/plain": [
              "<IPython.core.display.Javascript object>"
            ]
          },
          "metadata": {}
        },
        {
          "output_type": "display_data",
          "data": {
            "application/javascript": [
              "window[\"53915d54-9da1-11ec-bdc8-0242ac1c0002\"] = google.colab.output.setActiveOutputArea(window[\"537439e0-9da1-11ec-bdc8-0242ac1c0002\"]);\n",
              "//# sourceURL=js_d529897ad9"
            ],
            "text/plain": [
              "<IPython.core.display.Javascript object>"
            ]
          },
          "metadata": {}
        },
        {
          "output_type": "display_data",
          "data": {
            "application/javascript": [
              "window[\"53b2246c-9da1-11ec-bdc8-0242ac1c0002\"] = google.colab.output.getActiveOutputArea();\n",
              "//# sourceURL=js_562a4a6c6c"
            ],
            "text/plain": [
              "<IPython.core.display.Javascript object>"
            ]
          },
          "metadata": {}
        },
        {
          "output_type": "display_data",
          "data": {
            "application/javascript": [
              "window[\"53b281e6-9da1-11ec-bdc8-0242ac1c0002\"] = document.querySelector(\"#id18-0-0\");\n",
              "//# sourceURL=js_144334baa4"
            ],
            "text/plain": [
              "<IPython.core.display.Javascript object>"
            ]
          },
          "metadata": {}
        },
        {
          "output_type": "display_data",
          "data": {
            "application/javascript": [
              "window[\"53b2f46e-9da1-11ec-bdc8-0242ac1c0002\"] = google.colab.output.setActiveOutputArea(window[\"53b281e6-9da1-11ec-bdc8-0242ac1c0002\"]);\n",
              "//# sourceURL=js_5168fb81f3"
            ],
            "text/plain": [
              "<IPython.core.display.Javascript object>"
            ]
          },
          "metadata": {}
        },
        {
          "output_type": "display_data",
          "data": {
            "application/javascript": [
              "window[\"53cbd1b4-9da1-11ec-bdc8-0242ac1c0002\"] = google.colab.output.setActiveOutputArea(window[\"53b2246c-9da1-11ec-bdc8-0242ac1c0002\"]);\n",
              "//# sourceURL=js_07e3c71cf6"
            ],
            "text/plain": [
              "<IPython.core.display.Javascript object>"
            ]
          },
          "metadata": {}
        },
        {
          "output_type": "display_data",
          "data": {
            "application/javascript": [
              "window[\"53ec629e-9da1-11ec-bdc8-0242ac1c0002\"] = google.colab.output.getActiveOutputArea();\n",
              "//# sourceURL=js_b9da60cf5d"
            ],
            "text/plain": [
              "<IPython.core.display.Javascript object>"
            ]
          },
          "metadata": {}
        },
        {
          "output_type": "display_data",
          "data": {
            "application/javascript": [
              "window[\"53eccbc6-9da1-11ec-bdc8-0242ac1c0002\"] = document.querySelector(\"#id18-0-0\");\n",
              "//# sourceURL=js_89889d3b72"
            ],
            "text/plain": [
              "<IPython.core.display.Javascript object>"
            ]
          },
          "metadata": {}
        },
        {
          "output_type": "display_data",
          "data": {
            "application/javascript": [
              "window[\"53ee26e2-9da1-11ec-bdc8-0242ac1c0002\"] = google.colab.output.setActiveOutputArea(window[\"53eccbc6-9da1-11ec-bdc8-0242ac1c0002\"]);\n",
              "//# sourceURL=js_26d57058eb"
            ],
            "text/plain": [
              "<IPython.core.display.Javascript object>"
            ]
          },
          "metadata": {}
        },
        {
          "output_type": "display_data",
          "data": {
            "application/javascript": [
              "window[\"5408b66a-9da1-11ec-bdc8-0242ac1c0002\"] = google.colab.output.setActiveOutputArea(window[\"53ec629e-9da1-11ec-bdc8-0242ac1c0002\"]);\n",
              "//# sourceURL=js_7a1b2101f2"
            ],
            "text/plain": [
              "<IPython.core.display.Javascript object>"
            ]
          },
          "metadata": {}
        },
        {
          "output_type": "display_data",
          "data": {
            "application/javascript": [
              "window[\"5429e9de-9da1-11ec-bdc8-0242ac1c0002\"] = google.colab.output.getActiveOutputArea();\n",
              "//# sourceURL=js_a6da98b859"
            ],
            "text/plain": [
              "<IPython.core.display.Javascript object>"
            ]
          },
          "metadata": {}
        },
        {
          "output_type": "display_data",
          "data": {
            "application/javascript": [
              "window[\"542a4ece-9da1-11ec-bdc8-0242ac1c0002\"] = document.querySelector(\"#id18-0-0\");\n",
              "//# sourceURL=js_bd14fa1a5f"
            ],
            "text/plain": [
              "<IPython.core.display.Javascript object>"
            ]
          },
          "metadata": {}
        },
        {
          "output_type": "display_data",
          "data": {
            "application/javascript": [
              "window[\"542aaf18-9da1-11ec-bdc8-0242ac1c0002\"] = google.colab.output.setActiveOutputArea(window[\"542a4ece-9da1-11ec-bdc8-0242ac1c0002\"]);\n",
              "//# sourceURL=js_1fd5d6f9e0"
            ],
            "text/plain": [
              "<IPython.core.display.Javascript object>"
            ]
          },
          "metadata": {}
        },
        {
          "output_type": "display_data",
          "data": {
            "application/javascript": [
              "window[\"54440ee0-9da1-11ec-bdc8-0242ac1c0002\"] = google.colab.output.setActiveOutputArea(window[\"5429e9de-9da1-11ec-bdc8-0242ac1c0002\"]);\n",
              "//# sourceURL=js_710debea76"
            ],
            "text/plain": [
              "<IPython.core.display.Javascript object>"
            ]
          },
          "metadata": {}
        },
        {
          "output_type": "display_data",
          "data": {
            "application/javascript": [
              "window[\"54647d56-9da1-11ec-bdc8-0242ac1c0002\"] = google.colab.output.getActiveOutputArea();\n",
              "//# sourceURL=js_83dee0510b"
            ],
            "text/plain": [
              "<IPython.core.display.Javascript object>"
            ]
          },
          "metadata": {}
        },
        {
          "output_type": "display_data",
          "data": {
            "application/javascript": [
              "window[\"5464f1f0-9da1-11ec-bdc8-0242ac1c0002\"] = document.querySelector(\"#id18-0-0\");\n",
              "//# sourceURL=js_b5bc589117"
            ],
            "text/plain": [
              "<IPython.core.display.Javascript object>"
            ]
          },
          "metadata": {}
        },
        {
          "output_type": "display_data",
          "data": {
            "application/javascript": [
              "window[\"54654948-9da1-11ec-bdc8-0242ac1c0002\"] = google.colab.output.setActiveOutputArea(window[\"5464f1f0-9da1-11ec-bdc8-0242ac1c0002\"]);\n",
              "//# sourceURL=js_81445b7979"
            ],
            "text/plain": [
              "<IPython.core.display.Javascript object>"
            ]
          },
          "metadata": {}
        },
        {
          "output_type": "display_data",
          "data": {
            "application/javascript": [
              "window[\"547fbeea-9da1-11ec-bdc8-0242ac1c0002\"] = google.colab.output.setActiveOutputArea(window[\"54647d56-9da1-11ec-bdc8-0242ac1c0002\"]);\n",
              "//# sourceURL=js_35d735939a"
            ],
            "text/plain": [
              "<IPython.core.display.Javascript object>"
            ]
          },
          "metadata": {}
        },
        {
          "output_type": "display_data",
          "data": {
            "application/javascript": [
              "window[\"54a07ac2-9da1-11ec-bdc8-0242ac1c0002\"] = google.colab.output.getActiveOutputArea();\n",
              "//# sourceURL=js_c4a5232e7a"
            ],
            "text/plain": [
              "<IPython.core.display.Javascript object>"
            ]
          },
          "metadata": {}
        },
        {
          "output_type": "display_data",
          "data": {
            "application/javascript": [
              "window[\"54a0e3d6-9da1-11ec-bdc8-0242ac1c0002\"] = document.querySelector(\"#id18-0-0\");\n",
              "//# sourceURL=js_428fc4db7b"
            ],
            "text/plain": [
              "<IPython.core.display.Javascript object>"
            ]
          },
          "metadata": {}
        },
        {
          "output_type": "display_data",
          "data": {
            "application/javascript": [
              "window[\"54a13f5c-9da1-11ec-bdc8-0242ac1c0002\"] = google.colab.output.setActiveOutputArea(window[\"54a0e3d6-9da1-11ec-bdc8-0242ac1c0002\"]);\n",
              "//# sourceURL=js_19f542bc5f"
            ],
            "text/plain": [
              "<IPython.core.display.Javascript object>"
            ]
          },
          "metadata": {}
        },
        {
          "output_type": "display_data",
          "data": {
            "application/javascript": [
              "window[\"54c55054-9da1-11ec-bdc8-0242ac1c0002\"] = google.colab.output.setActiveOutputArea(window[\"54a07ac2-9da1-11ec-bdc8-0242ac1c0002\"]);\n",
              "//# sourceURL=js_74bb8d7e68"
            ],
            "text/plain": [
              "<IPython.core.display.Javascript object>"
            ]
          },
          "metadata": {}
        },
        {
          "output_type": "display_data",
          "data": {
            "application/javascript": [
              "window[\"54e7b32e-9da1-11ec-bdc8-0242ac1c0002\"] = google.colab.output.getActiveOutputArea();\n",
              "//# sourceURL=js_b52a669292"
            ],
            "text/plain": [
              "<IPython.core.display.Javascript object>"
            ]
          },
          "metadata": {}
        },
        {
          "output_type": "display_data",
          "data": {
            "application/javascript": [
              "window[\"54e7f802-9da1-11ec-bdc8-0242ac1c0002\"] = document.querySelector(\"#id18-0-0\");\n",
              "//# sourceURL=js_08feef9b47"
            ],
            "text/plain": [
              "<IPython.core.display.Javascript object>"
            ]
          },
          "metadata": {}
        },
        {
          "output_type": "display_data",
          "data": {
            "application/javascript": [
              "window[\"54e8395c-9da1-11ec-bdc8-0242ac1c0002\"] = google.colab.output.setActiveOutputArea(window[\"54e7f802-9da1-11ec-bdc8-0242ac1c0002\"]);\n",
              "//# sourceURL=js_8e26385360"
            ],
            "text/plain": [
              "<IPython.core.display.Javascript object>"
            ]
          },
          "metadata": {}
        },
        {
          "output_type": "display_data",
          "data": {
            "application/javascript": [
              "window[\"5501f540-9da1-11ec-bdc8-0242ac1c0002\"] = google.colab.output.setActiveOutputArea(window[\"54e7b32e-9da1-11ec-bdc8-0242ac1c0002\"]);\n",
              "//# sourceURL=js_27f59bdbb5"
            ],
            "text/plain": [
              "<IPython.core.display.Javascript object>"
            ]
          },
          "metadata": {}
        },
        {
          "output_type": "display_data",
          "data": {
            "application/javascript": [
              "window[\"552291ba-9da1-11ec-bdc8-0242ac1c0002\"] = google.colab.output.getActiveOutputArea();\n",
              "//# sourceURL=js_5de986e49c"
            ],
            "text/plain": [
              "<IPython.core.display.Javascript object>"
            ]
          },
          "metadata": {}
        },
        {
          "output_type": "display_data",
          "data": {
            "application/javascript": [
              "window[\"55230654-9da1-11ec-bdc8-0242ac1c0002\"] = document.querySelector(\"#id18-0-0\");\n",
              "//# sourceURL=js_32c6a79e24"
            ],
            "text/plain": [
              "<IPython.core.display.Javascript object>"
            ]
          },
          "metadata": {}
        },
        {
          "output_type": "display_data",
          "data": {
            "application/javascript": [
              "window[\"552374fe-9da1-11ec-bdc8-0242ac1c0002\"] = google.colab.output.setActiveOutputArea(window[\"55230654-9da1-11ec-bdc8-0242ac1c0002\"]);\n",
              "//# sourceURL=js_db90bff2a8"
            ],
            "text/plain": [
              "<IPython.core.display.Javascript object>"
            ]
          },
          "metadata": {}
        },
        {
          "output_type": "display_data",
          "data": {
            "application/javascript": [
              "window[\"553c4538-9da1-11ec-bdc8-0242ac1c0002\"] = google.colab.output.setActiveOutputArea(window[\"552291ba-9da1-11ec-bdc8-0242ac1c0002\"]);\n",
              "//# sourceURL=js_7cbfa3a778"
            ],
            "text/plain": [
              "<IPython.core.display.Javascript object>"
            ]
          },
          "metadata": {}
        },
        {
          "output_type": "display_data",
          "data": {
            "application/javascript": [
              "window[\"555cdf1e-9da1-11ec-bdc8-0242ac1c0002\"] = google.colab.output.getActiveOutputArea();\n",
              "//# sourceURL=js_c1f08ed548"
            ],
            "text/plain": [
              "<IPython.core.display.Javascript object>"
            ]
          },
          "metadata": {}
        },
        {
          "output_type": "display_data",
          "data": {
            "application/javascript": [
              "window[\"555d4878-9da1-11ec-bdc8-0242ac1c0002\"] = document.querySelector(\"#id18-0-0\");\n",
              "//# sourceURL=js_2006038486"
            ],
            "text/plain": [
              "<IPython.core.display.Javascript object>"
            ]
          },
          "metadata": {}
        },
        {
          "output_type": "display_data",
          "data": {
            "application/javascript": [
              "window[\"555db1f0-9da1-11ec-bdc8-0242ac1c0002\"] = google.colab.output.setActiveOutputArea(window[\"555d4878-9da1-11ec-bdc8-0242ac1c0002\"]);\n",
              "//# sourceURL=js_5132037392"
            ],
            "text/plain": [
              "<IPython.core.display.Javascript object>"
            ]
          },
          "metadata": {}
        },
        {
          "output_type": "display_data",
          "data": {
            "application/javascript": [
              "window[\"5579bddc-9da1-11ec-bdc8-0242ac1c0002\"] = google.colab.output.setActiveOutputArea(window[\"555cdf1e-9da1-11ec-bdc8-0242ac1c0002\"]);\n",
              "//# sourceURL=js_5646dd3b91"
            ],
            "text/plain": [
              "<IPython.core.display.Javascript object>"
            ]
          },
          "metadata": {}
        },
        {
          "output_type": "display_data",
          "data": {
            "application/javascript": [
              "window[\"559a4a66-9da1-11ec-bdc8-0242ac1c0002\"] = google.colab.output.getActiveOutputArea();\n",
              "//# sourceURL=js_b591d9c75e"
            ],
            "text/plain": [
              "<IPython.core.display.Javascript object>"
            ]
          },
          "metadata": {}
        },
        {
          "output_type": "display_data",
          "data": {
            "application/javascript": [
              "window[\"559a8904-9da1-11ec-bdc8-0242ac1c0002\"] = document.querySelector(\"#id18-0-0\");\n",
              "//# sourceURL=js_15d411ed19"
            ],
            "text/plain": [
              "<IPython.core.display.Javascript object>"
            ]
          },
          "metadata": {}
        },
        {
          "output_type": "display_data",
          "data": {
            "application/javascript": [
              "window[\"559ac3f6-9da1-11ec-bdc8-0242ac1c0002\"] = google.colab.output.setActiveOutputArea(window[\"559a8904-9da1-11ec-bdc8-0242ac1c0002\"]);\n",
              "//# sourceURL=js_1705ef7479"
            ],
            "text/plain": [
              "<IPython.core.display.Javascript object>"
            ]
          },
          "metadata": {}
        },
        {
          "output_type": "display_data",
          "data": {
            "application/javascript": [
              "window[\"55b5ad92-9da1-11ec-bdc8-0242ac1c0002\"] = google.colab.output.setActiveOutputArea(window[\"559a4a66-9da1-11ec-bdc8-0242ac1c0002\"]);\n",
              "//# sourceURL=js_0f48885ef9"
            ],
            "text/plain": [
              "<IPython.core.display.Javascript object>"
            ]
          },
          "metadata": {}
        },
        {
          "output_type": "display_data",
          "data": {
            "application/javascript": [
              "window[\"55d659b6-9da1-11ec-bdc8-0242ac1c0002\"] = google.colab.output.getActiveOutputArea();\n",
              "//# sourceURL=js_94668fdd68"
            ],
            "text/plain": [
              "<IPython.core.display.Javascript object>"
            ]
          },
          "metadata": {}
        },
        {
          "output_type": "display_data",
          "data": {
            "application/javascript": [
              "window[\"55d6c662-9da1-11ec-bdc8-0242ac1c0002\"] = document.querySelector(\"#id18-0-0\");\n",
              "//# sourceURL=js_db5d93602d"
            ],
            "text/plain": [
              "<IPython.core.display.Javascript object>"
            ]
          },
          "metadata": {}
        },
        {
          "output_type": "display_data",
          "data": {
            "application/javascript": [
              "window[\"55d73e76-9da1-11ec-bdc8-0242ac1c0002\"] = google.colab.output.setActiveOutputArea(window[\"55d6c662-9da1-11ec-bdc8-0242ac1c0002\"]);\n",
              "//# sourceURL=js_a2ab25fbbf"
            ],
            "text/plain": [
              "<IPython.core.display.Javascript object>"
            ]
          },
          "metadata": {}
        },
        {
          "output_type": "display_data",
          "data": {
            "application/javascript": [
              "window[\"55f29400-9da1-11ec-bdc8-0242ac1c0002\"] = google.colab.output.setActiveOutputArea(window[\"55d659b6-9da1-11ec-bdc8-0242ac1c0002\"]);\n",
              "//# sourceURL=js_3ec4ca81c9"
            ],
            "text/plain": [
              "<IPython.core.display.Javascript object>"
            ]
          },
          "metadata": {}
        },
        {
          "output_type": "display_data",
          "data": {
            "application/javascript": [
              "window[\"56157a92-9da1-11ec-bdc8-0242ac1c0002\"] = google.colab.output.getActiveOutputArea();\n",
              "//# sourceURL=js_f0ae001942"
            ],
            "text/plain": [
              "<IPython.core.display.Javascript object>"
            ]
          },
          "metadata": {}
        },
        {
          "output_type": "display_data",
          "data": {
            "application/javascript": [
              "window[\"5615d9ba-9da1-11ec-bdc8-0242ac1c0002\"] = document.querySelector(\"#id18-0-0\");\n",
              "//# sourceURL=js_c15bd2fe43"
            ],
            "text/plain": [
              "<IPython.core.display.Javascript object>"
            ]
          },
          "metadata": {}
        },
        {
          "output_type": "display_data",
          "data": {
            "application/javascript": [
              "window[\"561681c6-9da1-11ec-bdc8-0242ac1c0002\"] = google.colab.output.setActiveOutputArea(window[\"5615d9ba-9da1-11ec-bdc8-0242ac1c0002\"]);\n",
              "//# sourceURL=js_3c9e382836"
            ],
            "text/plain": [
              "<IPython.core.display.Javascript object>"
            ]
          },
          "metadata": {}
        },
        {
          "output_type": "display_data",
          "data": {
            "application/javascript": [
              "window[\"562fc2c6-9da1-11ec-bdc8-0242ac1c0002\"] = google.colab.output.setActiveOutputArea(window[\"56157a92-9da1-11ec-bdc8-0242ac1c0002\"]);\n",
              "//# sourceURL=js_d975b2ad00"
            ],
            "text/plain": [
              "<IPython.core.display.Javascript object>"
            ]
          },
          "metadata": {}
        },
        {
          "output_type": "display_data",
          "data": {
            "application/javascript": [
              "window[\"5650685a-9da1-11ec-bdc8-0242ac1c0002\"] = google.colab.output.getActiveOutputArea();\n",
              "//# sourceURL=js_ce88d053e8"
            ],
            "text/plain": [
              "<IPython.core.display.Javascript object>"
            ]
          },
          "metadata": {}
        },
        {
          "output_type": "display_data",
          "data": {
            "application/javascript": [
              "window[\"5650cce6-9da1-11ec-bdc8-0242ac1c0002\"] = document.querySelector(\"#id18-0-0\");\n",
              "//# sourceURL=js_2c2b94ee48"
            ],
            "text/plain": [
              "<IPython.core.display.Javascript object>"
            ]
          },
          "metadata": {}
        },
        {
          "output_type": "display_data",
          "data": {
            "application/javascript": [
              "window[\"56512c36-9da1-11ec-bdc8-0242ac1c0002\"] = google.colab.output.setActiveOutputArea(window[\"5650cce6-9da1-11ec-bdc8-0242ac1c0002\"]);\n",
              "//# sourceURL=js_7d78ef02a9"
            ],
            "text/plain": [
              "<IPython.core.display.Javascript object>"
            ]
          },
          "metadata": {}
        },
        {
          "output_type": "display_data",
          "data": {
            "application/javascript": [
              "window[\"5669f982-9da1-11ec-bdc8-0242ac1c0002\"] = google.colab.output.setActiveOutputArea(window[\"5650685a-9da1-11ec-bdc8-0242ac1c0002\"]);\n",
              "//# sourceURL=js_5316e059bb"
            ],
            "text/plain": [
              "<IPython.core.display.Javascript object>"
            ]
          },
          "metadata": {}
        },
        {
          "output_type": "display_data",
          "data": {
            "application/javascript": [
              "window[\"568a8634-9da1-11ec-bdc8-0242ac1c0002\"] = google.colab.output.getActiveOutputArea();\n",
              "//# sourceURL=js_7f7068fe5f"
            ],
            "text/plain": [
              "<IPython.core.display.Javascript object>"
            ]
          },
          "metadata": {}
        },
        {
          "output_type": "display_data",
          "data": {
            "application/javascript": [
              "window[\"568aec5a-9da1-11ec-bdc8-0242ac1c0002\"] = document.querySelector(\"#id18-0-0\");\n",
              "//# sourceURL=js_712a77a01f"
            ],
            "text/plain": [
              "<IPython.core.display.Javascript object>"
            ]
          },
          "metadata": {}
        },
        {
          "output_type": "display_data",
          "data": {
            "application/javascript": [
              "window[\"568b3ca0-9da1-11ec-bdc8-0242ac1c0002\"] = google.colab.output.setActiveOutputArea(window[\"568aec5a-9da1-11ec-bdc8-0242ac1c0002\"]);\n",
              "//# sourceURL=js_1297d05f6f"
            ],
            "text/plain": [
              "<IPython.core.display.Javascript object>"
            ]
          },
          "metadata": {}
        },
        {
          "output_type": "display_data",
          "data": {
            "application/javascript": [
              "window[\"56a5c840-9da1-11ec-bdc8-0242ac1c0002\"] = google.colab.output.setActiveOutputArea(window[\"568a8634-9da1-11ec-bdc8-0242ac1c0002\"]);\n",
              "//# sourceURL=js_4ea20ad6c0"
            ],
            "text/plain": [
              "<IPython.core.display.Javascript object>"
            ]
          },
          "metadata": {}
        },
        {
          "output_type": "display_data",
          "data": {
            "application/javascript": [
              "window[\"56c64a84-9da1-11ec-bdc8-0242ac1c0002\"] = google.colab.output.getActiveOutputArea();\n",
              "//# sourceURL=js_1872de63bc"
            ],
            "text/plain": [
              "<IPython.core.display.Javascript object>"
            ]
          },
          "metadata": {}
        },
        {
          "output_type": "display_data",
          "data": {
            "application/javascript": [
              "window[\"56c6b186-9da1-11ec-bdc8-0242ac1c0002\"] = document.querySelector(\"#id18-0-0\");\n",
              "//# sourceURL=js_24a456b32b"
            ],
            "text/plain": [
              "<IPython.core.display.Javascript object>"
            ]
          },
          "metadata": {}
        },
        {
          "output_type": "display_data",
          "data": {
            "application/javascript": [
              "window[\"56c727ba-9da1-11ec-bdc8-0242ac1c0002\"] = google.colab.output.setActiveOutputArea(window[\"56c6b186-9da1-11ec-bdc8-0242ac1c0002\"]);\n",
              "//# sourceURL=js_09e6f5b1e5"
            ],
            "text/plain": [
              "<IPython.core.display.Javascript object>"
            ]
          },
          "metadata": {}
        },
        {
          "output_type": "display_data",
          "data": {
            "application/javascript": [
              "window[\"56e031e2-9da1-11ec-bdc8-0242ac1c0002\"] = google.colab.output.setActiveOutputArea(window[\"56c64a84-9da1-11ec-bdc8-0242ac1c0002\"]);\n",
              "//# sourceURL=js_b5c5fc7a49"
            ],
            "text/plain": [
              "<IPython.core.display.Javascript object>"
            ]
          },
          "metadata": {}
        },
        {
          "output_type": "display_data",
          "data": {
            "application/javascript": [
              "window[\"5700e3ce-9da1-11ec-bdc8-0242ac1c0002\"] = google.colab.output.getActiveOutputArea();\n",
              "//# sourceURL=js_f6deeb0cdc"
            ],
            "text/plain": [
              "<IPython.core.display.Javascript object>"
            ]
          },
          "metadata": {}
        },
        {
          "output_type": "display_data",
          "data": {
            "application/javascript": [
              "window[\"57014968-9da1-11ec-bdc8-0242ac1c0002\"] = document.querySelector(\"#id18-0-0\");\n",
              "//# sourceURL=js_c93acf5fd6"
            ],
            "text/plain": [
              "<IPython.core.display.Javascript object>"
            ]
          },
          "metadata": {}
        },
        {
          "output_type": "display_data",
          "data": {
            "application/javascript": [
              "window[\"5701c398-9da1-11ec-bdc8-0242ac1c0002\"] = google.colab.output.setActiveOutputArea(window[\"57014968-9da1-11ec-bdc8-0242ac1c0002\"]);\n",
              "//# sourceURL=js_38fa9ccb5a"
            ],
            "text/plain": [
              "<IPython.core.display.Javascript object>"
            ]
          },
          "metadata": {}
        },
        {
          "output_type": "display_data",
          "data": {
            "application/javascript": [
              "window[\"571bbc08-9da1-11ec-bdc8-0242ac1c0002\"] = google.colab.output.setActiveOutputArea(window[\"5700e3ce-9da1-11ec-bdc8-0242ac1c0002\"]);\n",
              "//# sourceURL=js_ce3cdabe70"
            ],
            "text/plain": [
              "<IPython.core.display.Javascript object>"
            ]
          },
          "metadata": {}
        },
        {
          "output_type": "display_data",
          "data": {
            "application/javascript": [
              "window[\"573c76d2-9da1-11ec-bdc8-0242ac1c0002\"] = google.colab.output.getActiveOutputArea();\n",
              "//# sourceURL=js_31c26289bb"
            ],
            "text/plain": [
              "<IPython.core.display.Javascript object>"
            ]
          },
          "metadata": {}
        },
        {
          "output_type": "display_data",
          "data": {
            "application/javascript": [
              "window[\"573cdda2-9da1-11ec-bdc8-0242ac1c0002\"] = document.querySelector(\"#id18-0-0\");\n",
              "//# sourceURL=js_accf2d3b13"
            ],
            "text/plain": [
              "<IPython.core.display.Javascript object>"
            ]
          },
          "metadata": {}
        },
        {
          "output_type": "display_data",
          "data": {
            "application/javascript": [
              "window[\"573d3f86-9da1-11ec-bdc8-0242ac1c0002\"] = google.colab.output.setActiveOutputArea(window[\"573cdda2-9da1-11ec-bdc8-0242ac1c0002\"]);\n",
              "//# sourceURL=js_6eb4426f49"
            ],
            "text/plain": [
              "<IPython.core.display.Javascript object>"
            ]
          },
          "metadata": {}
        },
        {
          "output_type": "display_data",
          "data": {
            "application/javascript": [
              "window[\"57581b58-9da1-11ec-bdc8-0242ac1c0002\"] = google.colab.output.setActiveOutputArea(window[\"573c76d2-9da1-11ec-bdc8-0242ac1c0002\"]);\n",
              "//# sourceURL=js_33973855b9"
            ],
            "text/plain": [
              "<IPython.core.display.Javascript object>"
            ]
          },
          "metadata": {}
        },
        {
          "output_type": "display_data",
          "data": {
            "application/javascript": [
              "window[\"5778b908-9da1-11ec-bdc8-0242ac1c0002\"] = google.colab.output.getActiveOutputArea();\n",
              "//# sourceURL=js_8b3514e5f9"
            ],
            "text/plain": [
              "<IPython.core.display.Javascript object>"
            ]
          },
          "metadata": {}
        },
        {
          "output_type": "display_data",
          "data": {
            "application/javascript": [
              "window[\"57790c50-9da1-11ec-bdc8-0242ac1c0002\"] = document.querySelector(\"#id18-0-0\");\n",
              "//# sourceURL=js_97219bbb65"
            ],
            "text/plain": [
              "<IPython.core.display.Javascript object>"
            ]
          },
          "metadata": {}
        },
        {
          "output_type": "display_data",
          "data": {
            "application/javascript": [
              "window[\"57795dfe-9da1-11ec-bdc8-0242ac1c0002\"] = google.colab.output.setActiveOutputArea(window[\"57790c50-9da1-11ec-bdc8-0242ac1c0002\"]);\n",
              "//# sourceURL=js_75f2d7faf9"
            ],
            "text/plain": [
              "<IPython.core.display.Javascript object>"
            ]
          },
          "metadata": {}
        },
        {
          "output_type": "display_data",
          "data": {
            "application/javascript": [
              "window[\"579e5df2-9da1-11ec-bdc8-0242ac1c0002\"] = google.colab.output.setActiveOutputArea(window[\"5778b908-9da1-11ec-bdc8-0242ac1c0002\"]);\n",
              "//# sourceURL=js_be32fbb316"
            ],
            "text/plain": [
              "<IPython.core.display.Javascript object>"
            ]
          },
          "metadata": {}
        },
        {
          "output_type": "display_data",
          "data": {
            "application/javascript": [
              "window[\"57c12166-9da1-11ec-bdc8-0242ac1c0002\"] = google.colab.output.getActiveOutputArea();\n",
              "//# sourceURL=js_2dee8b3930"
            ],
            "text/plain": [
              "<IPython.core.display.Javascript object>"
            ]
          },
          "metadata": {}
        },
        {
          "output_type": "display_data",
          "data": {
            "application/javascript": [
              "window[\"57c24d84-9da1-11ec-bdc8-0242ac1c0002\"] = document.querySelector(\"#id18-0-0\");\n",
              "//# sourceURL=js_93f4e718e9"
            ],
            "text/plain": [
              "<IPython.core.display.Javascript object>"
            ]
          },
          "metadata": {}
        },
        {
          "output_type": "display_data",
          "data": {
            "application/javascript": [
              "window[\"57c2cafc-9da1-11ec-bdc8-0242ac1c0002\"] = google.colab.output.setActiveOutputArea(window[\"57c24d84-9da1-11ec-bdc8-0242ac1c0002\"]);\n",
              "//# sourceURL=js_fd3fcb45aa"
            ],
            "text/plain": [
              "<IPython.core.display.Javascript object>"
            ]
          },
          "metadata": {}
        },
        {
          "output_type": "display_data",
          "data": {
            "application/javascript": [
              "window[\"57dcca9c-9da1-11ec-bdc8-0242ac1c0002\"] = google.colab.output.setActiveOutputArea(window[\"57c12166-9da1-11ec-bdc8-0242ac1c0002\"]);\n",
              "//# sourceURL=js_0b7be37df3"
            ],
            "text/plain": [
              "<IPython.core.display.Javascript object>"
            ]
          },
          "metadata": {}
        },
        {
          "output_type": "display_data",
          "data": {
            "application/javascript": [
              "window[\"57fd9a88-9da1-11ec-bdc8-0242ac1c0002\"] = google.colab.output.getActiveOutputArea();\n",
              "//# sourceURL=js_2d6dcdc87e"
            ],
            "text/plain": [
              "<IPython.core.display.Javascript object>"
            ]
          },
          "metadata": {}
        },
        {
          "output_type": "display_data",
          "data": {
            "application/javascript": [
              "window[\"57fdf118-9da1-11ec-bdc8-0242ac1c0002\"] = document.querySelector(\"#id18-0-0\");\n",
              "//# sourceURL=js_51be2b1725"
            ],
            "text/plain": [
              "<IPython.core.display.Javascript object>"
            ]
          },
          "metadata": {}
        },
        {
          "output_type": "display_data",
          "data": {
            "application/javascript": [
              "window[\"57fe4334-9da1-11ec-bdc8-0242ac1c0002\"] = google.colab.output.setActiveOutputArea(window[\"57fdf118-9da1-11ec-bdc8-0242ac1c0002\"]);\n",
              "//# sourceURL=js_ac06b684f3"
            ],
            "text/plain": [
              "<IPython.core.display.Javascript object>"
            ]
          },
          "metadata": {}
        },
        {
          "output_type": "display_data",
          "data": {
            "application/javascript": [
              "window[\"581825f6-9da1-11ec-bdc8-0242ac1c0002\"] = google.colab.output.setActiveOutputArea(window[\"57fd9a88-9da1-11ec-bdc8-0242ac1c0002\"]);\n",
              "//# sourceURL=js_ff281aec8f"
            ],
            "text/plain": [
              "<IPython.core.display.Javascript object>"
            ]
          },
          "metadata": {}
        },
        {
          "output_type": "display_data",
          "data": {
            "application/javascript": [
              "window[\"5838a754-9da1-11ec-bdc8-0242ac1c0002\"] = google.colab.output.getActiveOutputArea();\n",
              "//# sourceURL=js_6ff4313420"
            ],
            "text/plain": [
              "<IPython.core.display.Javascript object>"
            ]
          },
          "metadata": {}
        },
        {
          "output_type": "display_data",
          "data": {
            "application/javascript": [
              "window[\"58391284-9da1-11ec-bdc8-0242ac1c0002\"] = document.querySelector(\"#id18-0-0\");\n",
              "//# sourceURL=js_441d994b00"
            ],
            "text/plain": [
              "<IPython.core.display.Javascript object>"
            ]
          },
          "metadata": {}
        },
        {
          "output_type": "display_data",
          "data": {
            "application/javascript": [
              "window[\"583970c6-9da1-11ec-bdc8-0242ac1c0002\"] = google.colab.output.setActiveOutputArea(window[\"58391284-9da1-11ec-bdc8-0242ac1c0002\"]);\n",
              "//# sourceURL=js_09c9aacb43"
            ],
            "text/plain": [
              "<IPython.core.display.Javascript object>"
            ]
          },
          "metadata": {}
        },
        {
          "output_type": "display_data",
          "data": {
            "application/javascript": [
              "window[\"5852bd1a-9da1-11ec-bdc8-0242ac1c0002\"] = google.colab.output.setActiveOutputArea(window[\"5838a754-9da1-11ec-bdc8-0242ac1c0002\"]);\n",
              "//# sourceURL=js_b6cd6f11f0"
            ],
            "text/plain": [
              "<IPython.core.display.Javascript object>"
            ]
          },
          "metadata": {}
        },
        {
          "output_type": "display_data",
          "data": {
            "application/javascript": [
              "window[\"587337d4-9da1-11ec-bdc8-0242ac1c0002\"] = google.colab.output.getActiveOutputArea();\n",
              "//# sourceURL=js_2c8793ee16"
            ],
            "text/plain": [
              "<IPython.core.display.Javascript object>"
            ]
          },
          "metadata": {}
        },
        {
          "output_type": "display_data",
          "data": {
            "application/javascript": [
              "window[\"587387fc-9da1-11ec-bdc8-0242ac1c0002\"] = document.querySelector(\"#id18-0-0\");\n",
              "//# sourceURL=js_bc46a76503"
            ],
            "text/plain": [
              "<IPython.core.display.Javascript object>"
            ]
          },
          "metadata": {}
        },
        {
          "output_type": "display_data",
          "data": {
            "application/javascript": [
              "window[\"5873d482-9da1-11ec-bdc8-0242ac1c0002\"] = google.colab.output.setActiveOutputArea(window[\"587387fc-9da1-11ec-bdc8-0242ac1c0002\"]);\n",
              "//# sourceURL=js_607a344b83"
            ],
            "text/plain": [
              "<IPython.core.display.Javascript object>"
            ]
          },
          "metadata": {}
        },
        {
          "output_type": "display_data",
          "data": {
            "application/javascript": [
              "window[\"5890ebf8-9da1-11ec-bdc8-0242ac1c0002\"] = google.colab.output.setActiveOutputArea(window[\"587337d4-9da1-11ec-bdc8-0242ac1c0002\"]);\n",
              "//# sourceURL=js_dee9d0b712"
            ],
            "text/plain": [
              "<IPython.core.display.Javascript object>"
            ]
          },
          "metadata": {}
        },
        {
          "output_type": "display_data",
          "data": {
            "application/javascript": [
              "window[\"58b18976-9da1-11ec-bdc8-0242ac1c0002\"] = google.colab.output.getActiveOutputArea();\n",
              "//# sourceURL=js_dc7ccbf14e"
            ],
            "text/plain": [
              "<IPython.core.display.Javascript object>"
            ]
          },
          "metadata": {}
        },
        {
          "output_type": "display_data",
          "data": {
            "application/javascript": [
              "window[\"58b1ece0-9da1-11ec-bdc8-0242ac1c0002\"] = document.querySelector(\"#id18-0-0\");\n",
              "//# sourceURL=js_b3d786b74f"
            ],
            "text/plain": [
              "<IPython.core.display.Javascript object>"
            ]
          },
          "metadata": {}
        },
        {
          "output_type": "display_data",
          "data": {
            "application/javascript": [
              "window[\"58b2563a-9da1-11ec-bdc8-0242ac1c0002\"] = google.colab.output.setActiveOutputArea(window[\"58b1ece0-9da1-11ec-bdc8-0242ac1c0002\"]);\n",
              "//# sourceURL=js_eb4c0fdc51"
            ],
            "text/plain": [
              "<IPython.core.display.Javascript object>"
            ]
          },
          "metadata": {}
        },
        {
          "output_type": "display_data",
          "data": {
            "application/javascript": [
              "window[\"58cb9582-9da1-11ec-bdc8-0242ac1c0002\"] = google.colab.output.setActiveOutputArea(window[\"58b18976-9da1-11ec-bdc8-0242ac1c0002\"]);\n",
              "//# sourceURL=js_9336862bd2"
            ],
            "text/plain": [
              "<IPython.core.display.Javascript object>"
            ]
          },
          "metadata": {}
        },
        {
          "output_type": "display_data",
          "data": {
            "application/javascript": [
              "window[\"58edab40-9da1-11ec-bdc8-0242ac1c0002\"] = google.colab.output.getActiveOutputArea();\n",
              "//# sourceURL=js_f68b733a63"
            ],
            "text/plain": [
              "<IPython.core.display.Javascript object>"
            ]
          },
          "metadata": {}
        },
        {
          "output_type": "display_data",
          "data": {
            "application/javascript": [
              "window[\"58ee34fc-9da1-11ec-bdc8-0242ac1c0002\"] = document.querySelector(\"#id18-0-0\");\n",
              "//# sourceURL=js_7010bd3b1c"
            ],
            "text/plain": [
              "<IPython.core.display.Javascript object>"
            ]
          },
          "metadata": {}
        },
        {
          "output_type": "display_data",
          "data": {
            "application/javascript": [
              "window[\"58eed9ac-9da1-11ec-bdc8-0242ac1c0002\"] = google.colab.output.setActiveOutputArea(window[\"58ee34fc-9da1-11ec-bdc8-0242ac1c0002\"]);\n",
              "//# sourceURL=js_9276a084d1"
            ],
            "text/plain": [
              "<IPython.core.display.Javascript object>"
            ]
          },
          "metadata": {}
        },
        {
          "output_type": "display_data",
          "data": {
            "application/javascript": [
              "window[\"5908e3ce-9da1-11ec-bdc8-0242ac1c0002\"] = google.colab.output.setActiveOutputArea(window[\"58edab40-9da1-11ec-bdc8-0242ac1c0002\"]);\n",
              "//# sourceURL=js_1ba8b88e62"
            ],
            "text/plain": [
              "<IPython.core.display.Javascript object>"
            ]
          },
          "metadata": {}
        },
        {
          "output_type": "display_data",
          "data": {
            "application/javascript": [
              "window[\"59297bf2-9da1-11ec-bdc8-0242ac1c0002\"] = google.colab.output.getActiveOutputArea();\n",
              "//# sourceURL=js_70e7a788f4"
            ],
            "text/plain": [
              "<IPython.core.display.Javascript object>"
            ]
          },
          "metadata": {}
        },
        {
          "output_type": "display_data",
          "data": {
            "application/javascript": [
              "window[\"5929e2b8-9da1-11ec-bdc8-0242ac1c0002\"] = document.querySelector(\"#id18-0-0\");\n",
              "//# sourceURL=js_c5d6e3e18d"
            ],
            "text/plain": [
              "<IPython.core.display.Javascript object>"
            ]
          },
          "metadata": {}
        },
        {
          "output_type": "display_data",
          "data": {
            "application/javascript": [
              "window[\"592a39ca-9da1-11ec-bdc8-0242ac1c0002\"] = google.colab.output.setActiveOutputArea(window[\"5929e2b8-9da1-11ec-bdc8-0242ac1c0002\"]);\n",
              "//# sourceURL=js_4cffc684ad"
            ],
            "text/plain": [
              "<IPython.core.display.Javascript object>"
            ]
          },
          "metadata": {}
        },
        {
          "output_type": "display_data",
          "data": {
            "application/javascript": [
              "window[\"5944484c-9da1-11ec-bdc8-0242ac1c0002\"] = google.colab.output.setActiveOutputArea(window[\"59297bf2-9da1-11ec-bdc8-0242ac1c0002\"]);\n",
              "//# sourceURL=js_a655827d3b"
            ],
            "text/plain": [
              "<IPython.core.display.Javascript object>"
            ]
          },
          "metadata": {}
        },
        {
          "output_type": "display_data",
          "data": {
            "application/javascript": [
              "window[\"5964d328-9da1-11ec-bdc8-0242ac1c0002\"] = google.colab.output.getActiveOutputArea();\n",
              "//# sourceURL=js_bdf0d4d28f"
            ],
            "text/plain": [
              "<IPython.core.display.Javascript object>"
            ]
          },
          "metadata": {}
        },
        {
          "output_type": "display_data",
          "data": {
            "application/javascript": [
              "window[\"5965431c-9da1-11ec-bdc8-0242ac1c0002\"] = document.querySelector(\"#id18-0-0\");\n",
              "//# sourceURL=js_c2915b2a27"
            ],
            "text/plain": [
              "<IPython.core.display.Javascript object>"
            ]
          },
          "metadata": {}
        },
        {
          "output_type": "display_data",
          "data": {
            "application/javascript": [
              "window[\"59659d1c-9da1-11ec-bdc8-0242ac1c0002\"] = google.colab.output.setActiveOutputArea(window[\"5965431c-9da1-11ec-bdc8-0242ac1c0002\"]);\n",
              "//# sourceURL=js_bf31808cff"
            ],
            "text/plain": [
              "<IPython.core.display.Javascript object>"
            ]
          },
          "metadata": {}
        },
        {
          "output_type": "display_data",
          "data": {
            "application/javascript": [
              "window[\"597f8074-9da1-11ec-bdc8-0242ac1c0002\"] = google.colab.output.setActiveOutputArea(window[\"5964d328-9da1-11ec-bdc8-0242ac1c0002\"]);\n",
              "//# sourceURL=js_72303388e4"
            ],
            "text/plain": [
              "<IPython.core.display.Javascript object>"
            ]
          },
          "metadata": {}
        },
        {
          "output_type": "display_data",
          "data": {
            "application/javascript": [
              "window[\"59a0d148-9da1-11ec-bdc8-0242ac1c0002\"] = google.colab.output.getActiveOutputArea();\n",
              "//# sourceURL=js_79b5701b79"
            ],
            "text/plain": [
              "<IPython.core.display.Javascript object>"
            ]
          },
          "metadata": {}
        },
        {
          "output_type": "display_data",
          "data": {
            "application/javascript": [
              "window[\"59a1d7a0-9da1-11ec-bdc8-0242ac1c0002\"] = document.querySelector(\"#id18-0-0\");\n",
              "//# sourceURL=js_caf675bae3"
            ],
            "text/plain": [
              "<IPython.core.display.Javascript object>"
            ]
          },
          "metadata": {}
        },
        {
          "output_type": "display_data",
          "data": {
            "application/javascript": [
              "window[\"59a2435c-9da1-11ec-bdc8-0242ac1c0002\"] = google.colab.output.setActiveOutputArea(window[\"59a1d7a0-9da1-11ec-bdc8-0242ac1c0002\"]);\n",
              "//# sourceURL=js_52631236b0"
            ],
            "text/plain": [
              "<IPython.core.display.Javascript object>"
            ]
          },
          "metadata": {}
        },
        {
          "output_type": "display_data",
          "data": {
            "application/javascript": [
              "window[\"59bea0f6-9da1-11ec-bdc8-0242ac1c0002\"] = google.colab.output.setActiveOutputArea(window[\"59a0d148-9da1-11ec-bdc8-0242ac1c0002\"]);\n",
              "//# sourceURL=js_a91693e19b"
            ],
            "text/plain": [
              "<IPython.core.display.Javascript object>"
            ]
          },
          "metadata": {}
        },
        {
          "output_type": "display_data",
          "data": {
            "application/javascript": [
              "window[\"59e14052-9da1-11ec-bdc8-0242ac1c0002\"] = google.colab.output.getActiveOutputArea();\n",
              "//# sourceURL=js_29d2180738"
            ],
            "text/plain": [
              "<IPython.core.display.Javascript object>"
            ]
          },
          "metadata": {}
        },
        {
          "output_type": "display_data",
          "data": {
            "application/javascript": [
              "window[\"59e1e11a-9da1-11ec-bdc8-0242ac1c0002\"] = document.querySelector(\"#id18-0-0\");\n",
              "//# sourceURL=js_768382bd21"
            ],
            "text/plain": [
              "<IPython.core.display.Javascript object>"
            ]
          },
          "metadata": {}
        },
        {
          "output_type": "display_data",
          "data": {
            "application/javascript": [
              "window[\"59e25d84-9da1-11ec-bdc8-0242ac1c0002\"] = google.colab.output.setActiveOutputArea(window[\"59e1e11a-9da1-11ec-bdc8-0242ac1c0002\"]);\n",
              "//# sourceURL=js_b916b55186"
            ],
            "text/plain": [
              "<IPython.core.display.Javascript object>"
            ]
          },
          "metadata": {}
        },
        {
          "output_type": "display_data",
          "data": {
            "application/javascript": [
              "window[\"59fcfee6-9da1-11ec-bdc8-0242ac1c0002\"] = google.colab.output.setActiveOutputArea(window[\"59e14052-9da1-11ec-bdc8-0242ac1c0002\"]);\n",
              "//# sourceURL=js_9941b0ce05"
            ],
            "text/plain": [
              "<IPython.core.display.Javascript object>"
            ]
          },
          "metadata": {}
        },
        {
          "output_type": "display_data",
          "data": {
            "application/javascript": [
              "window[\"5a1ee8ee-9da1-11ec-bdc8-0242ac1c0002\"] = google.colab.output.getActiveOutputArea();\n",
              "//# sourceURL=js_6880e66caa"
            ],
            "text/plain": [
              "<IPython.core.display.Javascript object>"
            ]
          },
          "metadata": {}
        },
        {
          "output_type": "display_data",
          "data": {
            "application/javascript": [
              "window[\"5a1f3876-9da1-11ec-bdc8-0242ac1c0002\"] = document.querySelector(\"#id18-0-0\");\n",
              "//# sourceURL=js_31b57c4654"
            ],
            "text/plain": [
              "<IPython.core.display.Javascript object>"
            ]
          },
          "metadata": {}
        },
        {
          "output_type": "display_data",
          "data": {
            "application/javascript": [
              "window[\"5a1f9988-9da1-11ec-bdc8-0242ac1c0002\"] = google.colab.output.setActiveOutputArea(window[\"5a1f3876-9da1-11ec-bdc8-0242ac1c0002\"]);\n",
              "//# sourceURL=js_5ddb86ca7e"
            ],
            "text/plain": [
              "<IPython.core.display.Javascript object>"
            ]
          },
          "metadata": {}
        },
        {
          "output_type": "display_data",
          "data": {
            "application/javascript": [
              "window[\"5a39ce8e-9da1-11ec-bdc8-0242ac1c0002\"] = google.colab.output.setActiveOutputArea(window[\"5a1ee8ee-9da1-11ec-bdc8-0242ac1c0002\"]);\n",
              "//# sourceURL=js_e0f4c4cbb7"
            ],
            "text/plain": [
              "<IPython.core.display.Javascript object>"
            ]
          },
          "metadata": {}
        },
        {
          "output_type": "display_data",
          "data": {
            "application/javascript": [
              "window[\"5a5a619e-9da1-11ec-bdc8-0242ac1c0002\"] = google.colab.output.getActiveOutputArea();\n",
              "//# sourceURL=js_56efb7276e"
            ],
            "text/plain": [
              "<IPython.core.display.Javascript object>"
            ]
          },
          "metadata": {}
        },
        {
          "output_type": "display_data",
          "data": {
            "application/javascript": [
              "window[\"5a5ac21a-9da1-11ec-bdc8-0242ac1c0002\"] = document.querySelector(\"#id18-0-0\");\n",
              "//# sourceURL=js_0e7f4126ed"
            ],
            "text/plain": [
              "<IPython.core.display.Javascript object>"
            ]
          },
          "metadata": {}
        },
        {
          "output_type": "display_data",
          "data": {
            "application/javascript": [
              "window[\"5a5b3a2e-9da1-11ec-bdc8-0242ac1c0002\"] = google.colab.output.setActiveOutputArea(window[\"5a5ac21a-9da1-11ec-bdc8-0242ac1c0002\"]);\n",
              "//# sourceURL=js_915c394dce"
            ],
            "text/plain": [
              "<IPython.core.display.Javascript object>"
            ]
          },
          "metadata": {}
        },
        {
          "output_type": "display_data",
          "data": {
            "application/javascript": [
              "window[\"5a7ec7be-9da1-11ec-bdc8-0242ac1c0002\"] = google.colab.output.setActiveOutputArea(window[\"5a5a619e-9da1-11ec-bdc8-0242ac1c0002\"]);\n",
              "//# sourceURL=js_cf435f5ecd"
            ],
            "text/plain": [
              "<IPython.core.display.Javascript object>"
            ]
          },
          "metadata": {}
        },
        {
          "output_type": "display_data",
          "data": {
            "application/javascript": [
              "window[\"5aa1ce76-9da1-11ec-bdc8-0242ac1c0002\"] = google.colab.output.getActiveOutputArea();\n",
              "//# sourceURL=js_764a9f36a2"
            ],
            "text/plain": [
              "<IPython.core.display.Javascript object>"
            ]
          },
          "metadata": {}
        },
        {
          "output_type": "display_data",
          "data": {
            "application/javascript": [
              "window[\"5aa238b6-9da1-11ec-bdc8-0242ac1c0002\"] = document.querySelector(\"#id18-0-0\");\n",
              "//# sourceURL=js_b37c55fa90"
            ],
            "text/plain": [
              "<IPython.core.display.Javascript object>"
            ]
          },
          "metadata": {}
        },
        {
          "output_type": "display_data",
          "data": {
            "application/javascript": [
              "window[\"5aa32834-9da1-11ec-bdc8-0242ac1c0002\"] = google.colab.output.setActiveOutputArea(window[\"5aa238b6-9da1-11ec-bdc8-0242ac1c0002\"]);\n",
              "//# sourceURL=js_104eae574c"
            ],
            "text/plain": [
              "<IPython.core.display.Javascript object>"
            ]
          },
          "metadata": {}
        },
        {
          "output_type": "display_data",
          "data": {
            "application/javascript": [
              "window[\"5abd731a-9da1-11ec-bdc8-0242ac1c0002\"] = google.colab.output.setActiveOutputArea(window[\"5aa1ce76-9da1-11ec-bdc8-0242ac1c0002\"]);\n",
              "//# sourceURL=js_ff640b3e2c"
            ],
            "text/plain": [
              "<IPython.core.display.Javascript object>"
            ]
          },
          "metadata": {}
        },
        {
          "output_type": "display_data",
          "data": {
            "application/javascript": [
              "window[\"5ade346a-9da1-11ec-bdc8-0242ac1c0002\"] = google.colab.output.getActiveOutputArea();\n",
              "//# sourceURL=js_a5e5993b26"
            ],
            "text/plain": [
              "<IPython.core.display.Javascript object>"
            ]
          },
          "metadata": {}
        },
        {
          "output_type": "display_data",
          "data": {
            "application/javascript": [
              "window[\"5ade996e-9da1-11ec-bdc8-0242ac1c0002\"] = document.querySelector(\"#id18-0-0\");\n",
              "//# sourceURL=js_fa0c0300b1"
            ],
            "text/plain": [
              "<IPython.core.display.Javascript object>"
            ]
          },
          "metadata": {}
        },
        {
          "output_type": "display_data",
          "data": {
            "application/javascript": [
              "window[\"5adf041c-9da1-11ec-bdc8-0242ac1c0002\"] = google.colab.output.setActiveOutputArea(window[\"5ade996e-9da1-11ec-bdc8-0242ac1c0002\"]);\n",
              "//# sourceURL=js_99bcf14c70"
            ],
            "text/plain": [
              "<IPython.core.display.Javascript object>"
            ]
          },
          "metadata": {}
        },
        {
          "output_type": "display_data",
          "data": {
            "application/javascript": [
              "window[\"5afc112e-9da1-11ec-bdc8-0242ac1c0002\"] = google.colab.output.setActiveOutputArea(window[\"5ade346a-9da1-11ec-bdc8-0242ac1c0002\"]);\n",
              "//# sourceURL=js_5c8809f9bc"
            ],
            "text/plain": [
              "<IPython.core.display.Javascript object>"
            ]
          },
          "metadata": {}
        },
        {
          "output_type": "display_data",
          "data": {
            "application/javascript": [
              "window[\"5b1cc360-9da1-11ec-bdc8-0242ac1c0002\"] = google.colab.output.getActiveOutputArea();\n",
              "//# sourceURL=js_ab52c7fad1"
            ],
            "text/plain": [
              "<IPython.core.display.Javascript object>"
            ]
          },
          "metadata": {}
        },
        {
          "output_type": "display_data",
          "data": {
            "application/javascript": [
              "window[\"5b1d24ae-9da1-11ec-bdc8-0242ac1c0002\"] = document.querySelector(\"#id18-0-0\");\n",
              "//# sourceURL=js_333ca62362"
            ],
            "text/plain": [
              "<IPython.core.display.Javascript object>"
            ]
          },
          "metadata": {}
        },
        {
          "output_type": "display_data",
          "data": {
            "application/javascript": [
              "window[\"5b1db360-9da1-11ec-bdc8-0242ac1c0002\"] = google.colab.output.setActiveOutputArea(window[\"5b1d24ae-9da1-11ec-bdc8-0242ac1c0002\"]);\n",
              "//# sourceURL=js_92c667058c"
            ],
            "text/plain": [
              "<IPython.core.display.Javascript object>"
            ]
          },
          "metadata": {}
        },
        {
          "output_type": "display_data",
          "data": {
            "application/javascript": [
              "window[\"5b3865ca-9da1-11ec-bdc8-0242ac1c0002\"] = google.colab.output.setActiveOutputArea(window[\"5b1cc360-9da1-11ec-bdc8-0242ac1c0002\"]);\n",
              "//# sourceURL=js_0e09f0fe0a"
            ],
            "text/plain": [
              "<IPython.core.display.Javascript object>"
            ]
          },
          "metadata": {}
        },
        {
          "output_type": "display_data",
          "data": {
            "application/javascript": [
              "window[\"5b58fa1a-9da1-11ec-bdc8-0242ac1c0002\"] = google.colab.output.getActiveOutputArea();\n",
              "//# sourceURL=js_6f1e70fc56"
            ],
            "text/plain": [
              "<IPython.core.display.Javascript object>"
            ]
          },
          "metadata": {}
        },
        {
          "output_type": "display_data",
          "data": {
            "application/javascript": [
              "window[\"5b595f50-9da1-11ec-bdc8-0242ac1c0002\"] = document.querySelector(\"#id18-0-0\");\n",
              "//# sourceURL=js_2ef7a0ec0e"
            ],
            "text/plain": [
              "<IPython.core.display.Javascript object>"
            ]
          },
          "metadata": {}
        },
        {
          "output_type": "display_data",
          "data": {
            "application/javascript": [
              "window[\"5b59cee0-9da1-11ec-bdc8-0242ac1c0002\"] = google.colab.output.setActiveOutputArea(window[\"5b595f50-9da1-11ec-bdc8-0242ac1c0002\"]);\n",
              "//# sourceURL=js_95f8f6e064"
            ],
            "text/plain": [
              "<IPython.core.display.Javascript object>"
            ]
          },
          "metadata": {}
        },
        {
          "output_type": "display_data",
          "data": {
            "application/javascript": [
              "window[\"5b749112-9da1-11ec-bdc8-0242ac1c0002\"] = google.colab.output.setActiveOutputArea(window[\"5b58fa1a-9da1-11ec-bdc8-0242ac1c0002\"]);\n",
              "//# sourceURL=js_5718bc3305"
            ],
            "text/plain": [
              "<IPython.core.display.Javascript object>"
            ]
          },
          "metadata": {}
        },
        {
          "output_type": "display_data",
          "data": {
            "application/javascript": [
              "window[\"5b9692d0-9da1-11ec-bdc8-0242ac1c0002\"] = google.colab.output.getActiveOutputArea();\n",
              "//# sourceURL=js_c5c8ffcdb4"
            ],
            "text/plain": [
              "<IPython.core.display.Javascript object>"
            ]
          },
          "metadata": {}
        },
        {
          "output_type": "display_data",
          "data": {
            "application/javascript": [
              "window[\"5b96d61e-9da1-11ec-bdc8-0242ac1c0002\"] = document.querySelector(\"#id18-0-0\");\n",
              "//# sourceURL=js_c408216559"
            ],
            "text/plain": [
              "<IPython.core.display.Javascript object>"
            ]
          },
          "metadata": {}
        },
        {
          "output_type": "display_data",
          "data": {
            "application/javascript": [
              "window[\"5b972af6-9da1-11ec-bdc8-0242ac1c0002\"] = google.colab.output.setActiveOutputArea(window[\"5b96d61e-9da1-11ec-bdc8-0242ac1c0002\"]);\n",
              "//# sourceURL=js_61e0f1975b"
            ],
            "text/plain": [
              "<IPython.core.display.Javascript object>"
            ]
          },
          "metadata": {}
        },
        {
          "output_type": "display_data",
          "data": {
            "application/javascript": [
              "window[\"5bb0b304-9da1-11ec-bdc8-0242ac1c0002\"] = google.colab.output.setActiveOutputArea(window[\"5b9692d0-9da1-11ec-bdc8-0242ac1c0002\"]);\n",
              "//# sourceURL=js_a16a24f726"
            ],
            "text/plain": [
              "<IPython.core.display.Javascript object>"
            ]
          },
          "metadata": {}
        },
        {
          "output_type": "display_data",
          "data": {
            "application/javascript": [
              "window[\"5bd16d24-9da1-11ec-bdc8-0242ac1c0002\"] = google.colab.output.getActiveOutputArea();\n",
              "//# sourceURL=js_2d3bc337ec"
            ],
            "text/plain": [
              "<IPython.core.display.Javascript object>"
            ]
          },
          "metadata": {}
        },
        {
          "output_type": "display_data",
          "data": {
            "application/javascript": [
              "window[\"5bd1d5b6-9da1-11ec-bdc8-0242ac1c0002\"] = document.querySelector(\"#id18-0-0\");\n",
              "//# sourceURL=js_b7dfb8ce3b"
            ],
            "text/plain": [
              "<IPython.core.display.Javascript object>"
            ]
          },
          "metadata": {}
        },
        {
          "output_type": "display_data",
          "data": {
            "application/javascript": [
              "window[\"5bd23e34-9da1-11ec-bdc8-0242ac1c0002\"] = google.colab.output.setActiveOutputArea(window[\"5bd1d5b6-9da1-11ec-bdc8-0242ac1c0002\"]);\n",
              "//# sourceURL=js_04287e55bc"
            ],
            "text/plain": [
              "<IPython.core.display.Javascript object>"
            ]
          },
          "metadata": {}
        },
        {
          "output_type": "display_data",
          "data": {
            "application/javascript": [
              "window[\"5beb6b0c-9da1-11ec-bdc8-0242ac1c0002\"] = google.colab.output.setActiveOutputArea(window[\"5bd16d24-9da1-11ec-bdc8-0242ac1c0002\"]);\n",
              "//# sourceURL=js_a8efbf539f"
            ],
            "text/plain": [
              "<IPython.core.display.Javascript object>"
            ]
          },
          "metadata": {}
        },
        {
          "output_type": "display_data",
          "data": {
            "application/javascript": [
              "window[\"5c0c31ac-9da1-11ec-bdc8-0242ac1c0002\"] = google.colab.output.getActiveOutputArea();\n",
              "//# sourceURL=js_d534b9453e"
            ],
            "text/plain": [
              "<IPython.core.display.Javascript object>"
            ]
          },
          "metadata": {}
        },
        {
          "output_type": "display_data",
          "data": {
            "application/javascript": [
              "window[\"5c0c90fc-9da1-11ec-bdc8-0242ac1c0002\"] = document.querySelector(\"#id18-0-0\");\n",
              "//# sourceURL=js_ca96b9894e"
            ],
            "text/plain": [
              "<IPython.core.display.Javascript object>"
            ]
          },
          "metadata": {}
        },
        {
          "output_type": "display_data",
          "data": {
            "application/javascript": [
              "window[\"5c0d3ffc-9da1-11ec-bdc8-0242ac1c0002\"] = google.colab.output.setActiveOutputArea(window[\"5c0c90fc-9da1-11ec-bdc8-0242ac1c0002\"]);\n",
              "//# sourceURL=js_830d6cf80f"
            ],
            "text/plain": [
              "<IPython.core.display.Javascript object>"
            ]
          },
          "metadata": {}
        },
        {
          "output_type": "display_data",
          "data": {
            "application/javascript": [
              "window[\"5c2a7edc-9da1-11ec-bdc8-0242ac1c0002\"] = google.colab.output.setActiveOutputArea(window[\"5c0c31ac-9da1-11ec-bdc8-0242ac1c0002\"]);\n",
              "//# sourceURL=js_ae651957be"
            ],
            "text/plain": [
              "<IPython.core.display.Javascript object>"
            ]
          },
          "metadata": {}
        },
        {
          "output_type": "display_data",
          "data": {
            "application/javascript": [
              "window[\"5c4b290c-9da1-11ec-bdc8-0242ac1c0002\"] = google.colab.output.getActiveOutputArea();\n",
              "//# sourceURL=js_35efe19c25"
            ],
            "text/plain": [
              "<IPython.core.display.Javascript object>"
            ]
          },
          "metadata": {}
        },
        {
          "output_type": "display_data",
          "data": {
            "application/javascript": [
              "window[\"5c4b6bec-9da1-11ec-bdc8-0242ac1c0002\"] = document.querySelector(\"#id18-0-0\");\n",
              "//# sourceURL=js_3a409f2412"
            ],
            "text/plain": [
              "<IPython.core.display.Javascript object>"
            ]
          },
          "metadata": {}
        },
        {
          "output_type": "display_data",
          "data": {
            "application/javascript": [
              "window[\"5c4babe8-9da1-11ec-bdc8-0242ac1c0002\"] = google.colab.output.setActiveOutputArea(window[\"5c4b6bec-9da1-11ec-bdc8-0242ac1c0002\"]);\n",
              "//# sourceURL=js_03b1f53850"
            ],
            "text/plain": [
              "<IPython.core.display.Javascript object>"
            ]
          },
          "metadata": {}
        },
        {
          "output_type": "display_data",
          "data": {
            "application/javascript": [
              "window[\"5c671626-9da1-11ec-bdc8-0242ac1c0002\"] = google.colab.output.setActiveOutputArea(window[\"5c4b290c-9da1-11ec-bdc8-0242ac1c0002\"]);\n",
              "//# sourceURL=js_5a8eaf38ec"
            ],
            "text/plain": [
              "<IPython.core.display.Javascript object>"
            ]
          },
          "metadata": {}
        },
        {
          "output_type": "display_data",
          "data": {
            "application/javascript": [
              "window[\"5c879554-9da1-11ec-bdc8-0242ac1c0002\"] = google.colab.output.getActiveOutputArea();\n",
              "//# sourceURL=js_69260049cf"
            ],
            "text/plain": [
              "<IPython.core.display.Javascript object>"
            ]
          },
          "metadata": {}
        },
        {
          "output_type": "display_data",
          "data": {
            "application/javascript": [
              "window[\"5c880cf0-9da1-11ec-bdc8-0242ac1c0002\"] = document.querySelector(\"#id18-0-0\");\n",
              "//# sourceURL=js_ef5fd3bd00"
            ],
            "text/plain": [
              "<IPython.core.display.Javascript object>"
            ]
          },
          "metadata": {}
        },
        {
          "output_type": "display_data",
          "data": {
            "application/javascript": [
              "window[\"5c88d536-9da1-11ec-bdc8-0242ac1c0002\"] = google.colab.output.setActiveOutputArea(window[\"5c880cf0-9da1-11ec-bdc8-0242ac1c0002\"]);\n",
              "//# sourceURL=js_fc861eac83"
            ],
            "text/plain": [
              "<IPython.core.display.Javascript object>"
            ]
          },
          "metadata": {}
        },
        {
          "output_type": "display_data",
          "data": {
            "application/javascript": [
              "window[\"5ca2b9e2-9da1-11ec-bdc8-0242ac1c0002\"] = google.colab.output.setActiveOutputArea(window[\"5c879554-9da1-11ec-bdc8-0242ac1c0002\"]);\n",
              "//# sourceURL=js_9501f9b782"
            ],
            "text/plain": [
              "<IPython.core.display.Javascript object>"
            ]
          },
          "metadata": {}
        },
        {
          "output_type": "display_data",
          "data": {
            "application/javascript": [
              "window[\"5cc3330c-9da1-11ec-bdc8-0242ac1c0002\"] = google.colab.output.getActiveOutputArea();\n",
              "//# sourceURL=js_25ffc9984c"
            ],
            "text/plain": [
              "<IPython.core.display.Javascript object>"
            ]
          },
          "metadata": {}
        },
        {
          "output_type": "display_data",
          "data": {
            "application/javascript": [
              "window[\"5cc38ee2-9da1-11ec-bdc8-0242ac1c0002\"] = document.querySelector(\"#id18-0-0\");\n",
              "//# sourceURL=js_4a9f21ee5d"
            ],
            "text/plain": [
              "<IPython.core.display.Javascript object>"
            ]
          },
          "metadata": {}
        },
        {
          "output_type": "display_data",
          "data": {
            "application/javascript": [
              "window[\"5cc3f0c6-9da1-11ec-bdc8-0242ac1c0002\"] = google.colab.output.setActiveOutputArea(window[\"5cc38ee2-9da1-11ec-bdc8-0242ac1c0002\"]);\n",
              "//# sourceURL=js_cd34b0d95a"
            ],
            "text/plain": [
              "<IPython.core.display.Javascript object>"
            ]
          },
          "metadata": {}
        },
        {
          "output_type": "display_data",
          "data": {
            "application/javascript": [
              "window[\"5cdd58a4-9da1-11ec-bdc8-0242ac1c0002\"] = google.colab.output.setActiveOutputArea(window[\"5cc3330c-9da1-11ec-bdc8-0242ac1c0002\"]);\n",
              "//# sourceURL=js_acb03a06e0"
            ],
            "text/plain": [
              "<IPython.core.display.Javascript object>"
            ]
          },
          "metadata": {}
        },
        {
          "output_type": "display_data",
          "data": {
            "application/javascript": [
              "window[\"5cfdf0aa-9da1-11ec-bdc8-0242ac1c0002\"] = google.colab.output.getActiveOutputArea();\n",
              "//# sourceURL=js_f8d6440c6e"
            ],
            "text/plain": [
              "<IPython.core.display.Javascript object>"
            ]
          },
          "metadata": {}
        },
        {
          "output_type": "display_data",
          "data": {
            "application/javascript": [
              "window[\"5cfe5518-9da1-11ec-bdc8-0242ac1c0002\"] = document.querySelector(\"#id18-0-0\");\n",
              "//# sourceURL=js_6fb0ef68ef"
            ],
            "text/plain": [
              "<IPython.core.display.Javascript object>"
            ]
          },
          "metadata": {}
        },
        {
          "output_type": "display_data",
          "data": {
            "application/javascript": [
              "window[\"5cfeb3be-9da1-11ec-bdc8-0242ac1c0002\"] = google.colab.output.setActiveOutputArea(window[\"5cfe5518-9da1-11ec-bdc8-0242ac1c0002\"]);\n",
              "//# sourceURL=js_dc1869f6e7"
            ],
            "text/plain": [
              "<IPython.core.display.Javascript object>"
            ]
          },
          "metadata": {}
        },
        {
          "output_type": "display_data",
          "data": {
            "application/javascript": [
              "window[\"5d1bb036-9da1-11ec-bdc8-0242ac1c0002\"] = google.colab.output.setActiveOutputArea(window[\"5cfdf0aa-9da1-11ec-bdc8-0242ac1c0002\"]);\n",
              "//# sourceURL=js_663427a17b"
            ],
            "text/plain": [
              "<IPython.core.display.Javascript object>"
            ]
          },
          "metadata": {}
        },
        {
          "output_type": "display_data",
          "data": {
            "application/javascript": [
              "window[\"5d3c2a1e-9da1-11ec-bdc8-0242ac1c0002\"] = google.colab.output.getActiveOutputArea();\n",
              "//# sourceURL=js_7e35234d5a"
            ],
            "text/plain": [
              "<IPython.core.display.Javascript object>"
            ]
          },
          "metadata": {}
        },
        {
          "output_type": "display_data",
          "data": {
            "application/javascript": [
              "window[\"5d3c9314-9da1-11ec-bdc8-0242ac1c0002\"] = document.querySelector(\"#id18-0-0\");\n",
              "//# sourceURL=js_e82374a0da"
            ],
            "text/plain": [
              "<IPython.core.display.Javascript object>"
            ]
          },
          "metadata": {}
        },
        {
          "output_type": "display_data",
          "data": {
            "application/javascript": [
              "window[\"5d3cf76e-9da1-11ec-bdc8-0242ac1c0002\"] = google.colab.output.setActiveOutputArea(window[\"5d3c9314-9da1-11ec-bdc8-0242ac1c0002\"]);\n",
              "//# sourceURL=js_76ca62e602"
            ],
            "text/plain": [
              "<IPython.core.display.Javascript object>"
            ]
          },
          "metadata": {}
        },
        {
          "output_type": "display_data",
          "data": {
            "application/javascript": [
              "window[\"5d62b3fa-9da1-11ec-bdc8-0242ac1c0002\"] = google.colab.output.setActiveOutputArea(window[\"5d3c2a1e-9da1-11ec-bdc8-0242ac1c0002\"]);\n",
              "//# sourceURL=js_f8831185cb"
            ],
            "text/plain": [
              "<IPython.core.display.Javascript object>"
            ]
          },
          "metadata": {}
        },
        {
          "output_type": "display_data",
          "data": {
            "application/javascript": [
              "window[\"5d838e90-9da1-11ec-bdc8-0242ac1c0002\"] = google.colab.output.getActiveOutputArea();\n",
              "//# sourceURL=js_ec171c7f1f"
            ],
            "text/plain": [
              "<IPython.core.display.Javascript object>"
            ]
          },
          "metadata": {}
        },
        {
          "output_type": "display_data",
          "data": {
            "application/javascript": [
              "window[\"5d84189c-9da1-11ec-bdc8-0242ac1c0002\"] = document.querySelector(\"#id18-0-0\");\n",
              "//# sourceURL=js_d18ca2ae9c"
            ],
            "text/plain": [
              "<IPython.core.display.Javascript object>"
            ]
          },
          "metadata": {}
        },
        {
          "output_type": "display_data",
          "data": {
            "application/javascript": [
              "window[\"5d84898a-9da1-11ec-bdc8-0242ac1c0002\"] = google.colab.output.setActiveOutputArea(window[\"5d84189c-9da1-11ec-bdc8-0242ac1c0002\"]);\n",
              "//# sourceURL=js_73ca0def80"
            ],
            "text/plain": [
              "<IPython.core.display.Javascript object>"
            ]
          },
          "metadata": {}
        },
        {
          "output_type": "display_data",
          "data": {
            "application/javascript": [
              "window[\"5da190e8-9da1-11ec-bdc8-0242ac1c0002\"] = google.colab.output.setActiveOutputArea(window[\"5d838e90-9da1-11ec-bdc8-0242ac1c0002\"]);\n",
              "//# sourceURL=js_b725e3d40e"
            ],
            "text/plain": [
              "<IPython.core.display.Javascript object>"
            ]
          },
          "metadata": {}
        },
        {
          "output_type": "display_data",
          "data": {
            "application/javascript": [
              "window[\"5dc2380c-9da1-11ec-bdc8-0242ac1c0002\"] = google.colab.output.getActiveOutputArea();\n",
              "//# sourceURL=js_605a9c2402"
            ],
            "text/plain": [
              "<IPython.core.display.Javascript object>"
            ]
          },
          "metadata": {}
        },
        {
          "output_type": "display_data",
          "data": {
            "application/javascript": [
              "window[\"5dc2a4b8-9da1-11ec-bdc8-0242ac1c0002\"] = document.querySelector(\"#id18-0-0\");\n",
              "//# sourceURL=js_e361b488a2"
            ],
            "text/plain": [
              "<IPython.core.display.Javascript object>"
            ]
          },
          "metadata": {}
        },
        {
          "output_type": "display_data",
          "data": {
            "application/javascript": [
              "window[\"5dc30160-9da1-11ec-bdc8-0242ac1c0002\"] = google.colab.output.setActiveOutputArea(window[\"5dc2a4b8-9da1-11ec-bdc8-0242ac1c0002\"]);\n",
              "//# sourceURL=js_7bc10ec642"
            ],
            "text/plain": [
              "<IPython.core.display.Javascript object>"
            ]
          },
          "metadata": {}
        },
        {
          "output_type": "display_data",
          "data": {
            "application/javascript": [
              "window[\"5ddf6dfa-9da1-11ec-bdc8-0242ac1c0002\"] = google.colab.output.setActiveOutputArea(window[\"5dc2380c-9da1-11ec-bdc8-0242ac1c0002\"]);\n",
              "//# sourceURL=js_f5cbfca3ed"
            ],
            "text/plain": [
              "<IPython.core.display.Javascript object>"
            ]
          },
          "metadata": {}
        },
        {
          "output_type": "display_data",
          "data": {
            "application/javascript": [
              "window[\"5e01b00e-9da1-11ec-bdc8-0242ac1c0002\"] = google.colab.output.getActiveOutputArea();\n",
              "//# sourceURL=js_07b57dd217"
            ],
            "text/plain": [
              "<IPython.core.display.Javascript object>"
            ]
          },
          "metadata": {}
        },
        {
          "output_type": "display_data",
          "data": {
            "application/javascript": [
              "window[\"5e020022-9da1-11ec-bdc8-0242ac1c0002\"] = document.querySelector(\"#id18-0-0\");\n",
              "//# sourceURL=js_b8291655e6"
            ],
            "text/plain": [
              "<IPython.core.display.Javascript object>"
            ]
          },
          "metadata": {}
        },
        {
          "output_type": "display_data",
          "data": {
            "application/javascript": [
              "window[\"5e024ffa-9da1-11ec-bdc8-0242ac1c0002\"] = google.colab.output.setActiveOutputArea(window[\"5e020022-9da1-11ec-bdc8-0242ac1c0002\"]);\n",
              "//# sourceURL=js_20f1eeb42b"
            ],
            "text/plain": [
              "<IPython.core.display.Javascript object>"
            ]
          },
          "metadata": {}
        },
        {
          "output_type": "display_data",
          "data": {
            "application/javascript": [
              "window[\"5e1c6caa-9da1-11ec-bdc8-0242ac1c0002\"] = google.colab.output.setActiveOutputArea(window[\"5e01b00e-9da1-11ec-bdc8-0242ac1c0002\"]);\n",
              "//# sourceURL=js_d7465c6282"
            ],
            "text/plain": [
              "<IPython.core.display.Javascript object>"
            ]
          },
          "metadata": {}
        },
        {
          "output_type": "display_data",
          "data": {
            "application/javascript": [
              "window[\"5e3cf1dc-9da1-11ec-bdc8-0242ac1c0002\"] = google.colab.output.getActiveOutputArea();\n",
              "//# sourceURL=js_1b7ba82856"
            ],
            "text/plain": [
              "<IPython.core.display.Javascript object>"
            ]
          },
          "metadata": {}
        },
        {
          "output_type": "display_data",
          "data": {
            "application/javascript": [
              "window[\"5e3d67ca-9da1-11ec-bdc8-0242ac1c0002\"] = document.querySelector(\"#id18-0-0\");\n",
              "//# sourceURL=js_fb3656041e"
            ],
            "text/plain": [
              "<IPython.core.display.Javascript object>"
            ]
          },
          "metadata": {}
        },
        {
          "output_type": "display_data",
          "data": {
            "application/javascript": [
              "window[\"5e3dd6f6-9da1-11ec-bdc8-0242ac1c0002\"] = google.colab.output.setActiveOutputArea(window[\"5e3d67ca-9da1-11ec-bdc8-0242ac1c0002\"]);\n",
              "//# sourceURL=js_b069c0af60"
            ],
            "text/plain": [
              "<IPython.core.display.Javascript object>"
            ]
          },
          "metadata": {}
        },
        {
          "output_type": "display_data",
          "data": {
            "application/javascript": [
              "window[\"5e57b7ba-9da1-11ec-bdc8-0242ac1c0002\"] = google.colab.output.setActiveOutputArea(window[\"5e3cf1dc-9da1-11ec-bdc8-0242ac1c0002\"]);\n",
              "//# sourceURL=js_ff005a31d2"
            ],
            "text/plain": [
              "<IPython.core.display.Javascript object>"
            ]
          },
          "metadata": {}
        },
        {
          "output_type": "display_data",
          "data": {
            "application/javascript": [
              "window[\"5e7875ae-9da1-11ec-bdc8-0242ac1c0002\"] = google.colab.output.getActiveOutputArea();\n",
              "//# sourceURL=js_87de447427"
            ],
            "text/plain": [
              "<IPython.core.display.Javascript object>"
            ]
          },
          "metadata": {}
        },
        {
          "output_type": "display_data",
          "data": {
            "application/javascript": [
              "window[\"5e78d5b2-9da1-11ec-bdc8-0242ac1c0002\"] = document.querySelector(\"#id18-0-0\");\n",
              "//# sourceURL=js_4cbb1f9c17"
            ],
            "text/plain": [
              "<IPython.core.display.Javascript object>"
            ]
          },
          "metadata": {}
        },
        {
          "output_type": "display_data",
          "data": {
            "application/javascript": [
              "window[\"5e7954d8-9da1-11ec-bdc8-0242ac1c0002\"] = google.colab.output.setActiveOutputArea(window[\"5e78d5b2-9da1-11ec-bdc8-0242ac1c0002\"]);\n",
              "//# sourceURL=js_dc8cead6fe"
            ],
            "text/plain": [
              "<IPython.core.display.Javascript object>"
            ]
          },
          "metadata": {}
        },
        {
          "output_type": "display_data",
          "data": {
            "application/javascript": [
              "window[\"5e9594ae-9da1-11ec-bdc8-0242ac1c0002\"] = google.colab.output.setActiveOutputArea(window[\"5e7875ae-9da1-11ec-bdc8-0242ac1c0002\"]);\n",
              "//# sourceURL=js_e38a461e05"
            ],
            "text/plain": [
              "<IPython.core.display.Javascript object>"
            ]
          },
          "metadata": {}
        },
        {
          "output_type": "display_data",
          "data": {
            "application/javascript": [
              "window[\"5eb6212e-9da1-11ec-bdc8-0242ac1c0002\"] = google.colab.output.getActiveOutputArea();\n",
              "//# sourceURL=js_d40c1b2d32"
            ],
            "text/plain": [
              "<IPython.core.display.Javascript object>"
            ]
          },
          "metadata": {}
        },
        {
          "output_type": "display_data",
          "data": {
            "application/javascript": [
              "window[\"5eb66dbe-9da1-11ec-bdc8-0242ac1c0002\"] = document.querySelector(\"#id18-0-0\");\n",
              "//# sourceURL=js_1aaf2d220b"
            ],
            "text/plain": [
              "<IPython.core.display.Javascript object>"
            ]
          },
          "metadata": {}
        },
        {
          "output_type": "display_data",
          "data": {
            "application/javascript": [
              "window[\"5eb73ac8-9da1-11ec-bdc8-0242ac1c0002\"] = google.colab.output.setActiveOutputArea(window[\"5eb66dbe-9da1-11ec-bdc8-0242ac1c0002\"]);\n",
              "//# sourceURL=js_3a2e8c5446"
            ],
            "text/plain": [
              "<IPython.core.display.Javascript object>"
            ]
          },
          "metadata": {}
        },
        {
          "output_type": "display_data",
          "data": {
            "application/javascript": [
              "window[\"5ed0bf52-9da1-11ec-bdc8-0242ac1c0002\"] = google.colab.output.setActiveOutputArea(window[\"5eb6212e-9da1-11ec-bdc8-0242ac1c0002\"]);\n",
              "//# sourceURL=js_d2ea52bef9"
            ],
            "text/plain": [
              "<IPython.core.display.Javascript object>"
            ]
          },
          "metadata": {}
        },
        {
          "output_type": "display_data",
          "data": {
            "application/javascript": [
              "window[\"5ef1681a-9da1-11ec-bdc8-0242ac1c0002\"] = google.colab.output.getActiveOutputArea();\n",
              "//# sourceURL=js_790a183c2c"
            ],
            "text/plain": [
              "<IPython.core.display.Javascript object>"
            ]
          },
          "metadata": {}
        },
        {
          "output_type": "display_data",
          "data": {
            "application/javascript": [
              "window[\"5ef1c9f4-9da1-11ec-bdc8-0242ac1c0002\"] = document.querySelector(\"#id18-0-0\");\n",
              "//# sourceURL=js_1794e30ea3"
            ],
            "text/plain": [
              "<IPython.core.display.Javascript object>"
            ]
          },
          "metadata": {}
        },
        {
          "output_type": "display_data",
          "data": {
            "application/javascript": [
              "window[\"5ef24f00-9da1-11ec-bdc8-0242ac1c0002\"] = google.colab.output.setActiveOutputArea(window[\"5ef1c9f4-9da1-11ec-bdc8-0242ac1c0002\"]);\n",
              "//# sourceURL=js_3edb860385"
            ],
            "text/plain": [
              "<IPython.core.display.Javascript object>"
            ]
          },
          "metadata": {}
        },
        {
          "output_type": "display_data",
          "data": {
            "application/javascript": [
              "window[\"5f0d14b6-9da1-11ec-bdc8-0242ac1c0002\"] = google.colab.output.setActiveOutputArea(window[\"5ef1681a-9da1-11ec-bdc8-0242ac1c0002\"]);\n",
              "//# sourceURL=js_f0d2ba8865"
            ],
            "text/plain": [
              "<IPython.core.display.Javascript object>"
            ]
          },
          "metadata": {}
        },
        {
          "output_type": "display_data",
          "data": {
            "application/javascript": [
              "window[\"5f2d9e02-9da1-11ec-bdc8-0242ac1c0002\"] = google.colab.output.getActiveOutputArea();\n",
              "//# sourceURL=js_798e9c7c71"
            ],
            "text/plain": [
              "<IPython.core.display.Javascript object>"
            ]
          },
          "metadata": {}
        },
        {
          "output_type": "display_data",
          "data": {
            "application/javascript": [
              "window[\"5f2df47e-9da1-11ec-bdc8-0242ac1c0002\"] = document.querySelector(\"#id18-0-0\");\n",
              "//# sourceURL=js_085feca17e"
            ],
            "text/plain": [
              "<IPython.core.display.Javascript object>"
            ]
          },
          "metadata": {}
        },
        {
          "output_type": "display_data",
          "data": {
            "application/javascript": [
              "window[\"5f2e32b8-9da1-11ec-bdc8-0242ac1c0002\"] = google.colab.output.setActiveOutputArea(window[\"5f2df47e-9da1-11ec-bdc8-0242ac1c0002\"]);\n",
              "//# sourceURL=js_35c1fe87cd"
            ],
            "text/plain": [
              "<IPython.core.display.Javascript object>"
            ]
          },
          "metadata": {}
        },
        {
          "output_type": "display_data",
          "data": {
            "application/javascript": [
              "window[\"5f493374-9da1-11ec-bdc8-0242ac1c0002\"] = google.colab.output.setActiveOutputArea(window[\"5f2d9e02-9da1-11ec-bdc8-0242ac1c0002\"]);\n",
              "//# sourceURL=js_897eab6464"
            ],
            "text/plain": [
              "<IPython.core.display.Javascript object>"
            ]
          },
          "metadata": {}
        },
        {
          "output_type": "display_data",
          "data": {
            "application/javascript": [
              "window[\"5f69bf04-9da1-11ec-bdc8-0242ac1c0002\"] = google.colab.output.getActiveOutputArea();\n",
              "//# sourceURL=js_2bde86e47c"
            ],
            "text/plain": [
              "<IPython.core.display.Javascript object>"
            ]
          },
          "metadata": {}
        },
        {
          "output_type": "display_data",
          "data": {
            "application/javascript": [
              "window[\"5f6a0ad6-9da1-11ec-bdc8-0242ac1c0002\"] = document.querySelector(\"#id18-0-0\");\n",
              "//# sourceURL=js_1c51595e01"
            ],
            "text/plain": [
              "<IPython.core.display.Javascript object>"
            ]
          },
          "metadata": {}
        },
        {
          "output_type": "display_data",
          "data": {
            "application/javascript": [
              "window[\"5f6a449c-9da1-11ec-bdc8-0242ac1c0002\"] = google.colab.output.setActiveOutputArea(window[\"5f6a0ad6-9da1-11ec-bdc8-0242ac1c0002\"]);\n",
              "//# sourceURL=js_fba9dc344b"
            ],
            "text/plain": [
              "<IPython.core.display.Javascript object>"
            ]
          },
          "metadata": {}
        },
        {
          "output_type": "display_data",
          "data": {
            "application/javascript": [
              "window[\"5f878f98-9da1-11ec-bdc8-0242ac1c0002\"] = google.colab.output.setActiveOutputArea(window[\"5f69bf04-9da1-11ec-bdc8-0242ac1c0002\"]);\n",
              "//# sourceURL=js_c9d5372518"
            ],
            "text/plain": [
              "<IPython.core.display.Javascript object>"
            ]
          },
          "metadata": {}
        },
        {
          "output_type": "display_data",
          "data": {
            "application/javascript": [
              "window[\"5faa04b0-9da1-11ec-bdc8-0242ac1c0002\"] = google.colab.output.getActiveOutputArea();\n",
              "//# sourceURL=js_c73feda551"
            ],
            "text/plain": [
              "<IPython.core.display.Javascript object>"
            ]
          },
          "metadata": {}
        },
        {
          "output_type": "display_data",
          "data": {
            "application/javascript": [
              "window[\"5faa8c64-9da1-11ec-bdc8-0242ac1c0002\"] = document.querySelector(\"#id18-0-0\");\n",
              "//# sourceURL=js_69dce3bed8"
            ],
            "text/plain": [
              "<IPython.core.display.Javascript object>"
            ]
          },
          "metadata": {}
        },
        {
          "output_type": "display_data",
          "data": {
            "application/javascript": [
              "window[\"5fab0b76-9da1-11ec-bdc8-0242ac1c0002\"] = google.colab.output.setActiveOutputArea(window[\"5faa8c64-9da1-11ec-bdc8-0242ac1c0002\"]);\n",
              "//# sourceURL=js_7955eb16b1"
            ],
            "text/plain": [
              "<IPython.core.display.Javascript object>"
            ]
          },
          "metadata": {}
        },
        {
          "output_type": "display_data",
          "data": {
            "application/javascript": [
              "window[\"5fc4e046-9da1-11ec-bdc8-0242ac1c0002\"] = google.colab.output.setActiveOutputArea(window[\"5faa04b0-9da1-11ec-bdc8-0242ac1c0002\"]);\n",
              "//# sourceURL=js_10bd0642bc"
            ],
            "text/plain": [
              "<IPython.core.display.Javascript object>"
            ]
          },
          "metadata": {}
        },
        {
          "output_type": "display_data",
          "data": {
            "application/javascript": [
              "window[\"5fe560f0-9da1-11ec-bdc8-0242ac1c0002\"] = google.colab.output.getActiveOutputArea();\n",
              "//# sourceURL=js_30f7f34e4d"
            ],
            "text/plain": [
              "<IPython.core.display.Javascript object>"
            ]
          },
          "metadata": {}
        },
        {
          "output_type": "display_data",
          "data": {
            "application/javascript": [
              "window[\"5fe5ce0a-9da1-11ec-bdc8-0242ac1c0002\"] = document.querySelector(\"#id18-0-0\");\n",
              "//# sourceURL=js_b296d43586"
            ],
            "text/plain": [
              "<IPython.core.display.Javascript object>"
            ]
          },
          "metadata": {}
        },
        {
          "output_type": "display_data",
          "data": {
            "application/javascript": [
              "window[\"5fe64c68-9da1-11ec-bdc8-0242ac1c0002\"] = google.colab.output.setActiveOutputArea(window[\"5fe5ce0a-9da1-11ec-bdc8-0242ac1c0002\"]);\n",
              "//# sourceURL=js_4a7be00db2"
            ],
            "text/plain": [
              "<IPython.core.display.Javascript object>"
            ]
          },
          "metadata": {}
        },
        {
          "output_type": "display_data",
          "data": {
            "application/javascript": [
              "window[\"60036050-9da1-11ec-bdc8-0242ac1c0002\"] = google.colab.output.setActiveOutputArea(window[\"5fe560f0-9da1-11ec-bdc8-0242ac1c0002\"]);\n",
              "//# sourceURL=js_5a04bded2b"
            ],
            "text/plain": [
              "<IPython.core.display.Javascript object>"
            ]
          },
          "metadata": {}
        },
        {
          "output_type": "display_data",
          "data": {
            "application/javascript": [
              "window[\"60245fa8-9da1-11ec-bdc8-0242ac1c0002\"] = google.colab.output.getActiveOutputArea();\n",
              "//# sourceURL=js_d87185717d"
            ],
            "text/plain": [
              "<IPython.core.display.Javascript object>"
            ]
          },
          "metadata": {}
        },
        {
          "output_type": "display_data",
          "data": {
            "application/javascript": [
              "window[\"6024d65e-9da1-11ec-bdc8-0242ac1c0002\"] = document.querySelector(\"#id18-0-0\");\n",
              "//# sourceURL=js_3e787b66aa"
            ],
            "text/plain": [
              "<IPython.core.display.Javascript object>"
            ]
          },
          "metadata": {}
        },
        {
          "output_type": "display_data",
          "data": {
            "application/javascript": [
              "window[\"60255d5e-9da1-11ec-bdc8-0242ac1c0002\"] = google.colab.output.setActiveOutputArea(window[\"6024d65e-9da1-11ec-bdc8-0242ac1c0002\"]);\n",
              "//# sourceURL=js_8a9888ec53"
            ],
            "text/plain": [
              "<IPython.core.display.Javascript object>"
            ]
          },
          "metadata": {}
        },
        {
          "output_type": "display_data",
          "data": {
            "application/javascript": [
              "window[\"6049c162-9da1-11ec-bdc8-0242ac1c0002\"] = google.colab.output.setActiveOutputArea(window[\"60245fa8-9da1-11ec-bdc8-0242ac1c0002\"]);\n",
              "//# sourceURL=js_b1011d4c35"
            ],
            "text/plain": [
              "<IPython.core.display.Javascript object>"
            ]
          },
          "metadata": {}
        },
        {
          "output_type": "display_data",
          "data": {
            "application/javascript": [
              "window[\"606ab0a2-9da1-11ec-bdc8-0242ac1c0002\"] = google.colab.output.getActiveOutputArea();\n",
              "//# sourceURL=js_6227e07e32"
            ],
            "text/plain": [
              "<IPython.core.display.Javascript object>"
            ]
          },
          "metadata": {}
        },
        {
          "output_type": "display_data",
          "data": {
            "application/javascript": [
              "window[\"606b43c8-9da1-11ec-bdc8-0242ac1c0002\"] = document.querySelector(\"#id18-0-0\");\n",
              "//# sourceURL=js_7120a1f393"
            ],
            "text/plain": [
              "<IPython.core.display.Javascript object>"
            ]
          },
          "metadata": {}
        },
        {
          "output_type": "display_data",
          "data": {
            "application/javascript": [
              "window[\"606bf25a-9da1-11ec-bdc8-0242ac1c0002\"] = google.colab.output.setActiveOutputArea(window[\"606b43c8-9da1-11ec-bdc8-0242ac1c0002\"]);\n",
              "//# sourceURL=js_c3ed1a797b"
            ],
            "text/plain": [
              "<IPython.core.display.Javascript object>"
            ]
          },
          "metadata": {}
        },
        {
          "output_type": "display_data",
          "data": {
            "application/javascript": [
              "window[\"6086ebfa-9da1-11ec-bdc8-0242ac1c0002\"] = google.colab.output.setActiveOutputArea(window[\"606ab0a2-9da1-11ec-bdc8-0242ac1c0002\"]);\n",
              "//# sourceURL=js_27970e24b4"
            ],
            "text/plain": [
              "<IPython.core.display.Javascript object>"
            ]
          },
          "metadata": {}
        },
        {
          "output_type": "display_data",
          "data": {
            "application/javascript": [
              "window[\"60a82842-9da1-11ec-bdc8-0242ac1c0002\"] = google.colab.output.getActiveOutputArea();\n",
              "//# sourceURL=js_f08ce28878"
            ],
            "text/plain": [
              "<IPython.core.display.Javascript object>"
            ]
          },
          "metadata": {}
        },
        {
          "output_type": "display_data",
          "data": {
            "application/javascript": [
              "window[\"60a879d2-9da1-11ec-bdc8-0242ac1c0002\"] = document.querySelector(\"#id18-0-0\");\n",
              "//# sourceURL=js_9d10d2a101"
            ],
            "text/plain": [
              "<IPython.core.display.Javascript object>"
            ]
          },
          "metadata": {}
        },
        {
          "output_type": "display_data",
          "data": {
            "application/javascript": [
              "window[\"60a91c5c-9da1-11ec-bdc8-0242ac1c0002\"] = google.colab.output.setActiveOutputArea(window[\"60a879d2-9da1-11ec-bdc8-0242ac1c0002\"]);\n",
              "//# sourceURL=js_555748af9f"
            ],
            "text/plain": [
              "<IPython.core.display.Javascript object>"
            ]
          },
          "metadata": {}
        },
        {
          "output_type": "display_data",
          "data": {
            "application/javascript": [
              "window[\"60c454fe-9da1-11ec-bdc8-0242ac1c0002\"] = google.colab.output.setActiveOutputArea(window[\"60a82842-9da1-11ec-bdc8-0242ac1c0002\"]);\n",
              "//# sourceURL=js_ab2195807c"
            ],
            "text/plain": [
              "<IPython.core.display.Javascript object>"
            ]
          },
          "metadata": {}
        },
        {
          "output_type": "display_data",
          "data": {
            "application/javascript": [
              "window[\"60e4eb6a-9da1-11ec-bdc8-0242ac1c0002\"] = google.colab.output.getActiveOutputArea();\n",
              "//# sourceURL=js_04162125f8"
            ],
            "text/plain": [
              "<IPython.core.display.Javascript object>"
            ]
          },
          "metadata": {}
        },
        {
          "output_type": "display_data",
          "data": {
            "application/javascript": [
              "window[\"60e54ccc-9da1-11ec-bdc8-0242ac1c0002\"] = document.querySelector(\"#id18-0-0\");\n",
              "//# sourceURL=js_08935fe67b"
            ],
            "text/plain": [
              "<IPython.core.display.Javascript object>"
            ]
          },
          "metadata": {}
        },
        {
          "output_type": "display_data",
          "data": {
            "application/javascript": [
              "window[\"60e5b586-9da1-11ec-bdc8-0242ac1c0002\"] = google.colab.output.setActiveOutputArea(window[\"60e54ccc-9da1-11ec-bdc8-0242ac1c0002\"]);\n",
              "//# sourceURL=js_bb9c29b24f"
            ],
            "text/plain": [
              "<IPython.core.display.Javascript object>"
            ]
          },
          "metadata": {}
        },
        {
          "output_type": "display_data",
          "data": {
            "application/javascript": [
              "window[\"6101364e-9da1-11ec-bdc8-0242ac1c0002\"] = google.colab.output.setActiveOutputArea(window[\"60e4eb6a-9da1-11ec-bdc8-0242ac1c0002\"]);\n",
              "//# sourceURL=js_73e26432f7"
            ],
            "text/plain": [
              "<IPython.core.display.Javascript object>"
            ]
          },
          "metadata": {}
        },
        {
          "output_type": "display_data",
          "data": {
            "application/javascript": [
              "window[\"6121fba4-9da1-11ec-bdc8-0242ac1c0002\"] = google.colab.output.getActiveOutputArea();\n",
              "//# sourceURL=js_0f087b8e4b"
            ],
            "text/plain": [
              "<IPython.core.display.Javascript object>"
            ]
          },
          "metadata": {}
        },
        {
          "output_type": "display_data",
          "data": {
            "application/javascript": [
              "window[\"61225bee-9da1-11ec-bdc8-0242ac1c0002\"] = document.querySelector(\"#id18-0-0\");\n",
              "//# sourceURL=js_8e129e3e0b"
            ],
            "text/plain": [
              "<IPython.core.display.Javascript object>"
            ]
          },
          "metadata": {}
        },
        {
          "output_type": "display_data",
          "data": {
            "application/javascript": [
              "window[\"6122e23a-9da1-11ec-bdc8-0242ac1c0002\"] = google.colab.output.setActiveOutputArea(window[\"61225bee-9da1-11ec-bdc8-0242ac1c0002\"]);\n",
              "//# sourceURL=js_57ecd24c2e"
            ],
            "text/plain": [
              "<IPython.core.display.Javascript object>"
            ]
          },
          "metadata": {}
        },
        {
          "output_type": "display_data",
          "data": {
            "application/javascript": [
              "window[\"613d4846-9da1-11ec-bdc8-0242ac1c0002\"] = google.colab.output.setActiveOutputArea(window[\"6121fba4-9da1-11ec-bdc8-0242ac1c0002\"]);\n",
              "//# sourceURL=js_05e58ec175"
            ],
            "text/plain": [
              "<IPython.core.display.Javascript object>"
            ]
          },
          "metadata": {}
        },
        {
          "output_type": "display_data",
          "data": {
            "application/javascript": [
              "window[\"615e1ef4-9da1-11ec-bdc8-0242ac1c0002\"] = google.colab.output.getActiveOutputArea();\n",
              "//# sourceURL=js_b59e0c435e"
            ],
            "text/plain": [
              "<IPython.core.display.Javascript object>"
            ]
          },
          "metadata": {}
        },
        {
          "output_type": "display_data",
          "data": {
            "application/javascript": [
              "window[\"615eed7a-9da1-11ec-bdc8-0242ac1c0002\"] = document.querySelector(\"#id18-0-0\");\n",
              "//# sourceURL=js_0cbd5fddd2"
            ],
            "text/plain": [
              "<IPython.core.display.Javascript object>"
            ]
          },
          "metadata": {}
        },
        {
          "output_type": "display_data",
          "data": {
            "application/javascript": [
              "window[\"615f4d06-9da1-11ec-bdc8-0242ac1c0002\"] = google.colab.output.setActiveOutputArea(window[\"615eed7a-9da1-11ec-bdc8-0242ac1c0002\"]);\n",
              "//# sourceURL=js_864c8531b3"
            ],
            "text/plain": [
              "<IPython.core.display.Javascript object>"
            ]
          },
          "metadata": {}
        },
        {
          "output_type": "display_data",
          "data": {
            "application/javascript": [
              "window[\"617aeafc-9da1-11ec-bdc8-0242ac1c0002\"] = google.colab.output.setActiveOutputArea(window[\"615e1ef4-9da1-11ec-bdc8-0242ac1c0002\"]);\n",
              "//# sourceURL=js_595fcecbf6"
            ],
            "text/plain": [
              "<IPython.core.display.Javascript object>"
            ]
          },
          "metadata": {}
        },
        {
          "output_type": "display_data",
          "data": {
            "application/javascript": [
              "window[\"619b7484-9da1-11ec-bdc8-0242ac1c0002\"] = google.colab.output.getActiveOutputArea();\n",
              "//# sourceURL=js_edcda06ac4"
            ],
            "text/plain": [
              "<IPython.core.display.Javascript object>"
            ]
          },
          "metadata": {}
        },
        {
          "output_type": "display_data",
          "data": {
            "application/javascript": [
              "window[\"619be3ba-9da1-11ec-bdc8-0242ac1c0002\"] = document.querySelector(\"#id18-0-0\");\n",
              "//# sourceURL=js_5f8f946763"
            ],
            "text/plain": [
              "<IPython.core.display.Javascript object>"
            ]
          },
          "metadata": {}
        },
        {
          "output_type": "display_data",
          "data": {
            "application/javascript": [
              "window[\"619c4cf6-9da1-11ec-bdc8-0242ac1c0002\"] = google.colab.output.setActiveOutputArea(window[\"619be3ba-9da1-11ec-bdc8-0242ac1c0002\"]);\n",
              "//# sourceURL=js_7fafc5d5a0"
            ],
            "text/plain": [
              "<IPython.core.display.Javascript object>"
            ]
          },
          "metadata": {}
        },
        {
          "output_type": "display_data",
          "data": {
            "application/javascript": [
              "window[\"61b65c9a-9da1-11ec-bdc8-0242ac1c0002\"] = google.colab.output.setActiveOutputArea(window[\"619b7484-9da1-11ec-bdc8-0242ac1c0002\"]);\n",
              "//# sourceURL=js_29a8aa2d95"
            ],
            "text/plain": [
              "<IPython.core.display.Javascript object>"
            ]
          },
          "metadata": {}
        },
        {
          "output_type": "display_data",
          "data": {
            "application/javascript": [
              "window[\"61d77c40-9da1-11ec-bdc8-0242ac1c0002\"] = google.colab.output.getActiveOutputArea();\n",
              "//# sourceURL=js_cedf66b16c"
            ],
            "text/plain": [
              "<IPython.core.display.Javascript object>"
            ]
          },
          "metadata": {}
        },
        {
          "output_type": "display_data",
          "data": {
            "application/javascript": [
              "window[\"61d7e310-9da1-11ec-bdc8-0242ac1c0002\"] = document.querySelector(\"#id18-0-0\");\n",
              "//# sourceURL=js_cc81ae631f"
            ],
            "text/plain": [
              "<IPython.core.display.Javascript object>"
            ]
          },
          "metadata": {}
        },
        {
          "output_type": "display_data",
          "data": {
            "application/javascript": [
              "window[\"61d87258-9da1-11ec-bdc8-0242ac1c0002\"] = google.colab.output.setActiveOutputArea(window[\"61d7e310-9da1-11ec-bdc8-0242ac1c0002\"]);\n",
              "//# sourceURL=js_7b4740a236"
            ],
            "text/plain": [
              "<IPython.core.display.Javascript object>"
            ]
          },
          "metadata": {}
        },
        {
          "output_type": "display_data",
          "data": {
            "application/javascript": [
              "window[\"61f32ce2-9da1-11ec-bdc8-0242ac1c0002\"] = google.colab.output.setActiveOutputArea(window[\"61d77c40-9da1-11ec-bdc8-0242ac1c0002\"]);\n",
              "//# sourceURL=js_4a8de72986"
            ],
            "text/plain": [
              "<IPython.core.display.Javascript object>"
            ]
          },
          "metadata": {}
        },
        {
          "output_type": "display_data",
          "data": {
            "application/javascript": [
              "window[\"6213e7c0-9da1-11ec-bdc8-0242ac1c0002\"] = google.colab.output.getActiveOutputArea();\n",
              "//# sourceURL=js_9a378fb163"
            ],
            "text/plain": [
              "<IPython.core.display.Javascript object>"
            ]
          },
          "metadata": {}
        },
        {
          "output_type": "display_data",
          "data": {
            "application/javascript": [
              "window[\"62144b8e-9da1-11ec-bdc8-0242ac1c0002\"] = document.querySelector(\"#id18-0-0\");\n",
              "//# sourceURL=js_94d97fdad0"
            ],
            "text/plain": [
              "<IPython.core.display.Javascript object>"
            ]
          },
          "metadata": {}
        },
        {
          "output_type": "display_data",
          "data": {
            "application/javascript": [
              "window[\"62149ec2-9da1-11ec-bdc8-0242ac1c0002\"] = google.colab.output.setActiveOutputArea(window[\"62144b8e-9da1-11ec-bdc8-0242ac1c0002\"]);\n",
              "//# sourceURL=js_137556dbe7"
            ],
            "text/plain": [
              "<IPython.core.display.Javascript object>"
            ]
          },
          "metadata": {}
        },
        {
          "output_type": "display_data",
          "data": {
            "application/javascript": [
              "window[\"6234e254-9da1-11ec-bdc8-0242ac1c0002\"] = google.colab.output.setActiveOutputArea(window[\"6213e7c0-9da1-11ec-bdc8-0242ac1c0002\"]);\n",
              "//# sourceURL=js_cf2915a518"
            ],
            "text/plain": [
              "<IPython.core.display.Javascript object>"
            ]
          },
          "metadata": {}
        },
        {
          "output_type": "display_data",
          "data": {
            "application/javascript": [
              "window[\"62558900-9da1-11ec-bdc8-0242ac1c0002\"] = google.colab.output.getActiveOutputArea();\n",
              "//# sourceURL=js_da5c445612"
            ],
            "text/plain": [
              "<IPython.core.display.Javascript object>"
            ]
          },
          "metadata": {}
        },
        {
          "output_type": "display_data",
          "data": {
            "application/javascript": [
              "window[\"6255fdae-9da1-11ec-bdc8-0242ac1c0002\"] = document.querySelector(\"#id18-0-0\");\n",
              "//# sourceURL=js_2de7cf38e8"
            ],
            "text/plain": [
              "<IPython.core.display.Javascript object>"
            ]
          },
          "metadata": {}
        },
        {
          "output_type": "display_data",
          "data": {
            "application/javascript": [
              "window[\"62566e42-9da1-11ec-bdc8-0242ac1c0002\"] = google.colab.output.setActiveOutputArea(window[\"6255fdae-9da1-11ec-bdc8-0242ac1c0002\"]);\n",
              "//# sourceURL=js_b506c23c64"
            ],
            "text/plain": [
              "<IPython.core.display.Javascript object>"
            ]
          },
          "metadata": {}
        },
        {
          "output_type": "display_data",
          "data": {
            "application/javascript": [
              "window[\"6272fca6-9da1-11ec-bdc8-0242ac1c0002\"] = google.colab.output.setActiveOutputArea(window[\"62558900-9da1-11ec-bdc8-0242ac1c0002\"]);\n",
              "//# sourceURL=js_5ef64b5785"
            ],
            "text/plain": [
              "<IPython.core.display.Javascript object>"
            ]
          },
          "metadata": {}
        },
        {
          "output_type": "display_data",
          "data": {
            "application/javascript": [
              "window[\"62942c78-9da1-11ec-bdc8-0242ac1c0002\"] = google.colab.output.getActiveOutputArea();\n",
              "//# sourceURL=js_1ef801e42d"
            ],
            "text/plain": [
              "<IPython.core.display.Javascript object>"
            ]
          },
          "metadata": {}
        },
        {
          "output_type": "display_data",
          "data": {
            "application/javascript": [
              "window[\"6294827c-9da1-11ec-bdc8-0242ac1c0002\"] = document.querySelector(\"#id18-0-0\");\n",
              "//# sourceURL=js_0d161d523a"
            ],
            "text/plain": [
              "<IPython.core.display.Javascript object>"
            ]
          },
          "metadata": {}
        },
        {
          "output_type": "display_data",
          "data": {
            "application/javascript": [
              "window[\"6294f4f0-9da1-11ec-bdc8-0242ac1c0002\"] = google.colab.output.setActiveOutputArea(window[\"6294827c-9da1-11ec-bdc8-0242ac1c0002\"]);\n",
              "//# sourceURL=js_b887e75b69"
            ],
            "text/plain": [
              "<IPython.core.display.Javascript object>"
            ]
          },
          "metadata": {}
        },
        {
          "output_type": "display_data",
          "data": {
            "application/javascript": [
              "window[\"62b1bba8-9da1-11ec-bdc8-0242ac1c0002\"] = google.colab.output.setActiveOutputArea(window[\"62942c78-9da1-11ec-bdc8-0242ac1c0002\"]);\n",
              "//# sourceURL=js_4f43e7763b"
            ],
            "text/plain": [
              "<IPython.core.display.Javascript object>"
            ]
          },
          "metadata": {}
        },
        {
          "output_type": "display_data",
          "data": {
            "application/javascript": [
              "window[\"62d4cfb2-9da1-11ec-bdc8-0242ac1c0002\"] = google.colab.output.getActiveOutputArea();\n",
              "//# sourceURL=js_13fc54fa09"
            ],
            "text/plain": [
              "<IPython.core.display.Javascript object>"
            ]
          },
          "metadata": {}
        },
        {
          "output_type": "display_data",
          "data": {
            "application/javascript": [
              "window[\"62d53ee8-9da1-11ec-bdc8-0242ac1c0002\"] = document.querySelector(\"#id18-0-0\");\n",
              "//# sourceURL=js_95a2ad7c37"
            ],
            "text/plain": [
              "<IPython.core.display.Javascript object>"
            ]
          },
          "metadata": {}
        },
        {
          "output_type": "display_data",
          "data": {
            "application/javascript": [
              "window[\"62d5e0a0-9da1-11ec-bdc8-0242ac1c0002\"] = google.colab.output.setActiveOutputArea(window[\"62d53ee8-9da1-11ec-bdc8-0242ac1c0002\"]);\n",
              "//# sourceURL=js_1a5be93b04"
            ],
            "text/plain": [
              "<IPython.core.display.Javascript object>"
            ]
          },
          "metadata": {}
        },
        {
          "output_type": "display_data",
          "data": {
            "application/javascript": [
              "window[\"62f291e6-9da1-11ec-bdc8-0242ac1c0002\"] = google.colab.output.setActiveOutputArea(window[\"62d4cfb2-9da1-11ec-bdc8-0242ac1c0002\"]);\n",
              "//# sourceURL=js_736b0a59be"
            ],
            "text/plain": [
              "<IPython.core.display.Javascript object>"
            ]
          },
          "metadata": {}
        },
        {
          "output_type": "display_data",
          "data": {
            "application/javascript": [
              "window[\"6313a624-9da1-11ec-bdc8-0242ac1c0002\"] = google.colab.output.getActiveOutputArea();\n",
              "//# sourceURL=js_e5a527d20c"
            ],
            "text/plain": [
              "<IPython.core.display.Javascript object>"
            ]
          },
          "metadata": {}
        },
        {
          "output_type": "display_data",
          "data": {
            "application/javascript": [
              "window[\"63140ed4-9da1-11ec-bdc8-0242ac1c0002\"] = document.querySelector(\"#id18-0-0\");\n",
              "//# sourceURL=js_7f91edd0b2"
            ],
            "text/plain": [
              "<IPython.core.display.Javascript object>"
            ]
          },
          "metadata": {}
        },
        {
          "output_type": "display_data",
          "data": {
            "application/javascript": [
              "window[\"6314894a-9da1-11ec-bdc8-0242ac1c0002\"] = google.colab.output.setActiveOutputArea(window[\"63140ed4-9da1-11ec-bdc8-0242ac1c0002\"]);\n",
              "//# sourceURL=js_4887f656c6"
            ],
            "text/plain": [
              "<IPython.core.display.Javascript object>"
            ]
          },
          "metadata": {}
        },
        {
          "output_type": "display_data",
          "data": {
            "application/javascript": [
              "window[\"633a7556-9da1-11ec-bdc8-0242ac1c0002\"] = google.colab.output.setActiveOutputArea(window[\"6313a624-9da1-11ec-bdc8-0242ac1c0002\"]);\n",
              "//# sourceURL=js_6f64be9ab3"
            ],
            "text/plain": [
              "<IPython.core.display.Javascript object>"
            ]
          },
          "metadata": {}
        },
        {
          "output_type": "display_data",
          "data": {
            "application/javascript": [
              "window[\"635afe2a-9da1-11ec-bdc8-0242ac1c0002\"] = google.colab.output.getActiveOutputArea();\n",
              "//# sourceURL=js_77bedc82b5"
            ],
            "text/plain": [
              "<IPython.core.display.Javascript object>"
            ]
          },
          "metadata": {}
        },
        {
          "output_type": "display_data",
          "data": {
            "application/javascript": [
              "window[\"635b5c4e-9da1-11ec-bdc8-0242ac1c0002\"] = document.querySelector(\"#id18-0-0\");\n",
              "//# sourceURL=js_5cdf4abbb3"
            ],
            "text/plain": [
              "<IPython.core.display.Javascript object>"
            ]
          },
          "metadata": {}
        },
        {
          "output_type": "display_data",
          "data": {
            "application/javascript": [
              "window[\"635bbc48-9da1-11ec-bdc8-0242ac1c0002\"] = google.colab.output.setActiveOutputArea(window[\"635b5c4e-9da1-11ec-bdc8-0242ac1c0002\"]);\n",
              "//# sourceURL=js_1887417adc"
            ],
            "text/plain": [
              "<IPython.core.display.Javascript object>"
            ]
          },
          "metadata": {}
        },
        {
          "output_type": "display_data",
          "data": {
            "application/javascript": [
              "window[\"637a421c-9da1-11ec-bdc8-0242ac1c0002\"] = google.colab.output.setActiveOutputArea(window[\"635afe2a-9da1-11ec-bdc8-0242ac1c0002\"]);\n",
              "//# sourceURL=js_a895f8ce2b"
            ],
            "text/plain": [
              "<IPython.core.display.Javascript object>"
            ]
          },
          "metadata": {}
        },
        {
          "output_type": "display_data",
          "data": {
            "application/javascript": [
              "window[\"639b2720-9da1-11ec-bdc8-0242ac1c0002\"] = google.colab.output.getActiveOutputArea();\n",
              "//# sourceURL=js_218d1a108d"
            ],
            "text/plain": [
              "<IPython.core.display.Javascript object>"
            ]
          },
          "metadata": {}
        },
        {
          "output_type": "display_data",
          "data": {
            "application/javascript": [
              "window[\"639b6c44-9da1-11ec-bdc8-0242ac1c0002\"] = document.querySelector(\"#id18-0-0\");\n",
              "//# sourceURL=js_cca154e544"
            ],
            "text/plain": [
              "<IPython.core.display.Javascript object>"
            ]
          },
          "metadata": {}
        },
        {
          "output_type": "display_data",
          "data": {
            "application/javascript": [
              "window[\"639bbf1e-9da1-11ec-bdc8-0242ac1c0002\"] = google.colab.output.setActiveOutputArea(window[\"639b6c44-9da1-11ec-bdc8-0242ac1c0002\"]);\n",
              "//# sourceURL=js_5fda9209f9"
            ],
            "text/plain": [
              "<IPython.core.display.Javascript object>"
            ]
          },
          "metadata": {}
        },
        {
          "output_type": "display_data",
          "data": {
            "application/javascript": [
              "window[\"63b7df32-9da1-11ec-bdc8-0242ac1c0002\"] = google.colab.output.setActiveOutputArea(window[\"639b2720-9da1-11ec-bdc8-0242ac1c0002\"]);\n",
              "//# sourceURL=js_854c79e6be"
            ],
            "text/plain": [
              "<IPython.core.display.Javascript object>"
            ]
          },
          "metadata": {}
        },
        {
          "output_type": "display_data",
          "data": {
            "application/javascript": [
              "window[\"63d85a32-9da1-11ec-bdc8-0242ac1c0002\"] = google.colab.output.getActiveOutputArea();\n",
              "//# sourceURL=js_272c99fbe5"
            ],
            "text/plain": [
              "<IPython.core.display.Javascript object>"
            ]
          },
          "metadata": {}
        },
        {
          "output_type": "display_data",
          "data": {
            "application/javascript": [
              "window[\"63d8c4ea-9da1-11ec-bdc8-0242ac1c0002\"] = document.querySelector(\"#id18-0-0\");\n",
              "//# sourceURL=js_6de9283df9"
            ],
            "text/plain": [
              "<IPython.core.display.Javascript object>"
            ]
          },
          "metadata": {}
        },
        {
          "output_type": "display_data",
          "data": {
            "application/javascript": [
              "window[\"63d941f4-9da1-11ec-bdc8-0242ac1c0002\"] = google.colab.output.setActiveOutputArea(window[\"63d8c4ea-9da1-11ec-bdc8-0242ac1c0002\"]);\n",
              "//# sourceURL=js_f833b42d44"
            ],
            "text/plain": [
              "<IPython.core.display.Javascript object>"
            ]
          },
          "metadata": {}
        },
        {
          "output_type": "display_data",
          "data": {
            "application/javascript": [
              "window[\"63f5a3c6-9da1-11ec-bdc8-0242ac1c0002\"] = google.colab.output.setActiveOutputArea(window[\"63d85a32-9da1-11ec-bdc8-0242ac1c0002\"]);\n",
              "//# sourceURL=js_36ed6afecd"
            ],
            "text/plain": [
              "<IPython.core.display.Javascript object>"
            ]
          },
          "metadata": {}
        },
        {
          "output_type": "display_data",
          "data": {
            "application/javascript": [
              "window[\"64165f62-9da1-11ec-bdc8-0242ac1c0002\"] = google.colab.output.getActiveOutputArea();\n",
              "//# sourceURL=js_1bb61458d7"
            ],
            "text/plain": [
              "<IPython.core.display.Javascript object>"
            ]
          },
          "metadata": {}
        },
        {
          "output_type": "display_data",
          "data": {
            "application/javascript": [
              "window[\"6416ccae-9da1-11ec-bdc8-0242ac1c0002\"] = document.querySelector(\"#id18-0-0\");\n",
              "//# sourceURL=js_6420347493"
            ],
            "text/plain": [
              "<IPython.core.display.Javascript object>"
            ]
          },
          "metadata": {}
        },
        {
          "output_type": "display_data",
          "data": {
            "application/javascript": [
              "window[\"6417436e-9da1-11ec-bdc8-0242ac1c0002\"] = google.colab.output.setActiveOutputArea(window[\"6416ccae-9da1-11ec-bdc8-0242ac1c0002\"]);\n",
              "//# sourceURL=js_8f2df54b34"
            ],
            "text/plain": [
              "<IPython.core.display.Javascript object>"
            ]
          },
          "metadata": {}
        },
        {
          "output_type": "display_data",
          "data": {
            "application/javascript": [
              "window[\"6435ff7a-9da1-11ec-bdc8-0242ac1c0002\"] = google.colab.output.setActiveOutputArea(window[\"64165f62-9da1-11ec-bdc8-0242ac1c0002\"]);\n",
              "//# sourceURL=js_45bb0bac3c"
            ],
            "text/plain": [
              "<IPython.core.display.Javascript object>"
            ]
          },
          "metadata": {}
        },
        {
          "output_type": "display_data",
          "data": {
            "application/javascript": [
              "window[\"6456a4f0-9da1-11ec-bdc8-0242ac1c0002\"] = google.colab.output.getActiveOutputArea();\n",
              "//# sourceURL=js_298ca9f0c7"
            ],
            "text/plain": [
              "<IPython.core.display.Javascript object>"
            ]
          },
          "metadata": {}
        },
        {
          "output_type": "display_data",
          "data": {
            "application/javascript": [
              "window[\"64570a62-9da1-11ec-bdc8-0242ac1c0002\"] = document.querySelector(\"#id18-0-0\");\n",
              "//# sourceURL=js_749fb5c785"
            ],
            "text/plain": [
              "<IPython.core.display.Javascript object>"
            ]
          },
          "metadata": {}
        },
        {
          "output_type": "display_data",
          "data": {
            "application/javascript": [
              "window[\"64579c34-9da1-11ec-bdc8-0242ac1c0002\"] = google.colab.output.setActiveOutputArea(window[\"64570a62-9da1-11ec-bdc8-0242ac1c0002\"]);\n",
              "//# sourceURL=js_41a7f1d508"
            ],
            "text/plain": [
              "<IPython.core.display.Javascript object>"
            ]
          },
          "metadata": {}
        },
        {
          "output_type": "display_data",
          "data": {
            "application/javascript": [
              "window[\"64735e38-9da1-11ec-bdc8-0242ac1c0002\"] = google.colab.output.setActiveOutputArea(window[\"6456a4f0-9da1-11ec-bdc8-0242ac1c0002\"]);\n",
              "//# sourceURL=js_dbd6fe84ce"
            ],
            "text/plain": [
              "<IPython.core.display.Javascript object>"
            ]
          },
          "metadata": {}
        },
        {
          "output_type": "display_data",
          "data": {
            "application/javascript": [
              "window[\"64944df0-9da1-11ec-bdc8-0242ac1c0002\"] = google.colab.output.getActiveOutputArea();\n",
              "//# sourceURL=js_f832f97783"
            ],
            "text/plain": [
              "<IPython.core.display.Javascript object>"
            ]
          },
          "metadata": {}
        },
        {
          "output_type": "display_data",
          "data": {
            "application/javascript": [
              "window[\"6494c28a-9da1-11ec-bdc8-0242ac1c0002\"] = document.querySelector(\"#id18-0-0\");\n",
              "//# sourceURL=js_ea8184d5ca"
            ],
            "text/plain": [
              "<IPython.core.display.Javascript object>"
            ]
          },
          "metadata": {}
        },
        {
          "output_type": "display_data",
          "data": {
            "application/javascript": [
              "window[\"649541f6-9da1-11ec-bdc8-0242ac1c0002\"] = google.colab.output.setActiveOutputArea(window[\"6494c28a-9da1-11ec-bdc8-0242ac1c0002\"]);\n",
              "//# sourceURL=js_6acc011a85"
            ],
            "text/plain": [
              "<IPython.core.display.Javascript object>"
            ]
          },
          "metadata": {}
        },
        {
          "output_type": "display_data",
          "data": {
            "application/javascript": [
              "window[\"64b12f56-9da1-11ec-bdc8-0242ac1c0002\"] = google.colab.output.setActiveOutputArea(window[\"64944df0-9da1-11ec-bdc8-0242ac1c0002\"]);\n",
              "//# sourceURL=js_541db55685"
            ],
            "text/plain": [
              "<IPython.core.display.Javascript object>"
            ]
          },
          "metadata": {}
        },
        {
          "output_type": "display_data",
          "data": {
            "application/javascript": [
              "window[\"64d1af06-9da1-11ec-bdc8-0242ac1c0002\"] = google.colab.output.getActiveOutputArea();\n",
              "//# sourceURL=js_0163b8f2e5"
            ],
            "text/plain": [
              "<IPython.core.display.Javascript object>"
            ]
          },
          "metadata": {}
        },
        {
          "output_type": "display_data",
          "data": {
            "application/javascript": [
              "window[\"64d2f244-9da1-11ec-bdc8-0242ac1c0002\"] = document.querySelector(\"#id18-0-0\");\n",
              "//# sourceURL=js_f4d7515e9e"
            ],
            "text/plain": [
              "<IPython.core.display.Javascript object>"
            ]
          },
          "metadata": {}
        },
        {
          "output_type": "display_data",
          "data": {
            "application/javascript": [
              "window[\"64d356bc-9da1-11ec-bdc8-0242ac1c0002\"] = google.colab.output.setActiveOutputArea(window[\"64d2f244-9da1-11ec-bdc8-0242ac1c0002\"]);\n",
              "//# sourceURL=js_b48a7506fc"
            ],
            "text/plain": [
              "<IPython.core.display.Javascript object>"
            ]
          },
          "metadata": {}
        },
        {
          "output_type": "display_data",
          "data": {
            "application/javascript": [
              "window[\"64eff6aa-9da1-11ec-bdc8-0242ac1c0002\"] = google.colab.output.setActiveOutputArea(window[\"64d1af06-9da1-11ec-bdc8-0242ac1c0002\"]);\n",
              "//# sourceURL=js_5c7f795d28"
            ],
            "text/plain": [
              "<IPython.core.display.Javascript object>"
            ]
          },
          "metadata": {}
        },
        {
          "output_type": "display_data",
          "data": {
            "application/javascript": [
              "window[\"65108aaa-9da1-11ec-bdc8-0242ac1c0002\"] = google.colab.output.getActiveOutputArea();\n",
              "//# sourceURL=js_3dd374b718"
            ],
            "text/plain": [
              "<IPython.core.display.Javascript object>"
            ]
          },
          "metadata": {}
        },
        {
          "output_type": "display_data",
          "data": {
            "application/javascript": [
              "window[\"6510ea68-9da1-11ec-bdc8-0242ac1c0002\"] = document.querySelector(\"#id18-0-0\");\n",
              "//# sourceURL=js_d306fe2fe0"
            ],
            "text/plain": [
              "<IPython.core.display.Javascript object>"
            ]
          },
          "metadata": {}
        },
        {
          "output_type": "display_data",
          "data": {
            "application/javascript": [
              "window[\"651141a2-9da1-11ec-bdc8-0242ac1c0002\"] = google.colab.output.setActiveOutputArea(window[\"6510ea68-9da1-11ec-bdc8-0242ac1c0002\"]);\n",
              "//# sourceURL=js_84459702d0"
            ],
            "text/plain": [
              "<IPython.core.display.Javascript object>"
            ]
          },
          "metadata": {}
        },
        {
          "output_type": "display_data",
          "data": {
            "application/javascript": [
              "window[\"652eb03e-9da1-11ec-bdc8-0242ac1c0002\"] = google.colab.output.setActiveOutputArea(window[\"65108aaa-9da1-11ec-bdc8-0242ac1c0002\"]);\n",
              "//# sourceURL=js_3d845ff542"
            ],
            "text/plain": [
              "<IPython.core.display.Javascript object>"
            ]
          },
          "metadata": {}
        },
        {
          "output_type": "display_data",
          "data": {
            "application/javascript": [
              "window[\"6550df7e-9da1-11ec-bdc8-0242ac1c0002\"] = google.colab.output.getActiveOutputArea();\n",
              "//# sourceURL=js_08ead8caaf"
            ],
            "text/plain": [
              "<IPython.core.display.Javascript object>"
            ]
          },
          "metadata": {}
        },
        {
          "output_type": "display_data",
          "data": {
            "application/javascript": [
              "window[\"655136d6-9da1-11ec-bdc8-0242ac1c0002\"] = document.querySelector(\"#id18-0-0\");\n",
              "//# sourceURL=js_2014b3cb1c"
            ],
            "text/plain": [
              "<IPython.core.display.Javascript object>"
            ]
          },
          "metadata": {}
        },
        {
          "output_type": "display_data",
          "data": {
            "application/javascript": [
              "window[\"65519c20-9da1-11ec-bdc8-0242ac1c0002\"] = google.colab.output.setActiveOutputArea(window[\"655136d6-9da1-11ec-bdc8-0242ac1c0002\"]);\n",
              "//# sourceURL=js_95131d98aa"
            ],
            "text/plain": [
              "<IPython.core.display.Javascript object>"
            ]
          },
          "metadata": {}
        },
        {
          "output_type": "display_data",
          "data": {
            "application/javascript": [
              "window[\"656c4110-9da1-11ec-bdc8-0242ac1c0002\"] = google.colab.output.setActiveOutputArea(window[\"6550df7e-9da1-11ec-bdc8-0242ac1c0002\"]);\n",
              "//# sourceURL=js_6cb3ef7559"
            ],
            "text/plain": [
              "<IPython.core.display.Javascript object>"
            ]
          },
          "metadata": {}
        },
        {
          "output_type": "display_data",
          "data": {
            "application/javascript": [
              "window[\"658d193a-9da1-11ec-bdc8-0242ac1c0002\"] = google.colab.output.getActiveOutputArea();\n",
              "//# sourceURL=js_da030ae699"
            ],
            "text/plain": [
              "<IPython.core.display.Javascript object>"
            ]
          },
          "metadata": {}
        },
        {
          "output_type": "display_data",
          "data": {
            "application/javascript": [
              "window[\"658d873a-9da1-11ec-bdc8-0242ac1c0002\"] = document.querySelector(\"#id18-0-0\");\n",
              "//# sourceURL=js_c2bec096b0"
            ],
            "text/plain": [
              "<IPython.core.display.Javascript object>"
            ]
          },
          "metadata": {}
        },
        {
          "output_type": "display_data",
          "data": {
            "application/javascript": [
              "window[\"658de1ee-9da1-11ec-bdc8-0242ac1c0002\"] = google.colab.output.setActiveOutputArea(window[\"658d873a-9da1-11ec-bdc8-0242ac1c0002\"]);\n",
              "//# sourceURL=js_d1e4d10a30"
            ],
            "text/plain": [
              "<IPython.core.display.Javascript object>"
            ]
          },
          "metadata": {}
        },
        {
          "output_type": "display_data",
          "data": {
            "application/javascript": [
              "window[\"65a9d566-9da1-11ec-bdc8-0242ac1c0002\"] = google.colab.output.setActiveOutputArea(window[\"658d193a-9da1-11ec-bdc8-0242ac1c0002\"]);\n",
              "//# sourceURL=js_2a752bb0e1"
            ],
            "text/plain": [
              "<IPython.core.display.Javascript object>"
            ]
          },
          "metadata": {}
        },
        {
          "output_type": "display_data",
          "data": {
            "application/javascript": [
              "window[\"65caa35e-9da1-11ec-bdc8-0242ac1c0002\"] = google.colab.output.getActiveOutputArea();\n",
              "//# sourceURL=js_8a05f37729"
            ],
            "text/plain": [
              "<IPython.core.display.Javascript object>"
            ]
          },
          "metadata": {}
        },
        {
          "output_type": "display_data",
          "data": {
            "application/javascript": [
              "window[\"65cb051a-9da1-11ec-bdc8-0242ac1c0002\"] = document.querySelector(\"#id18-0-0\");\n",
              "//# sourceURL=js_4cb09d6ee1"
            ],
            "text/plain": [
              "<IPython.core.display.Javascript object>"
            ]
          },
          "metadata": {}
        },
        {
          "output_type": "display_data",
          "data": {
            "application/javascript": [
              "window[\"65cc0118-9da1-11ec-bdc8-0242ac1c0002\"] = google.colab.output.setActiveOutputArea(window[\"65cb051a-9da1-11ec-bdc8-0242ac1c0002\"]);\n",
              "//# sourceURL=js_730d5e8503"
            ],
            "text/plain": [
              "<IPython.core.display.Javascript object>"
            ]
          },
          "metadata": {}
        },
        {
          "output_type": "display_data",
          "data": {
            "application/javascript": [
              "window[\"65e82dac-9da1-11ec-bdc8-0242ac1c0002\"] = google.colab.output.setActiveOutputArea(window[\"65caa35e-9da1-11ec-bdc8-0242ac1c0002\"]);\n",
              "//# sourceURL=js_b749a95d9c"
            ],
            "text/plain": [
              "<IPython.core.display.Javascript object>"
            ]
          },
          "metadata": {}
        },
        {
          "output_type": "display_data",
          "data": {
            "application/javascript": [
              "window[\"6608a9b0-9da1-11ec-bdc8-0242ac1c0002\"] = google.colab.output.getActiveOutputArea();\n",
              "//# sourceURL=js_03092d1423"
            ],
            "text/plain": [
              "<IPython.core.display.Javascript object>"
            ]
          },
          "metadata": {}
        },
        {
          "output_type": "display_data",
          "data": {
            "application/javascript": [
              "window[\"6609ac98-9da1-11ec-bdc8-0242ac1c0002\"] = document.querySelector(\"#id18-0-0\");\n",
              "//# sourceURL=js_4bba864cda"
            ],
            "text/plain": [
              "<IPython.core.display.Javascript object>"
            ]
          },
          "metadata": {}
        },
        {
          "output_type": "display_data",
          "data": {
            "application/javascript": [
              "window[\"660a07b0-9da1-11ec-bdc8-0242ac1c0002\"] = google.colab.output.setActiveOutputArea(window[\"6609ac98-9da1-11ec-bdc8-0242ac1c0002\"]);\n",
              "//# sourceURL=js_e59c1b6fdc"
            ],
            "text/plain": [
              "<IPython.core.display.Javascript object>"
            ]
          },
          "metadata": {}
        },
        {
          "output_type": "display_data",
          "data": {
            "application/javascript": [
              "window[\"662e8266-9da1-11ec-bdc8-0242ac1c0002\"] = google.colab.output.setActiveOutputArea(window[\"6608a9b0-9da1-11ec-bdc8-0242ac1c0002\"]);\n",
              "//# sourceURL=js_23cbda1233"
            ],
            "text/plain": [
              "<IPython.core.display.Javascript object>"
            ]
          },
          "metadata": {}
        },
        {
          "output_type": "display_data",
          "data": {
            "application/javascript": [
              "window[\"664f4122-9da1-11ec-bdc8-0242ac1c0002\"] = google.colab.output.getActiveOutputArea();\n",
              "//# sourceURL=js_ae14c97840"
            ],
            "text/plain": [
              "<IPython.core.display.Javascript object>"
            ]
          },
          "metadata": {}
        },
        {
          "output_type": "display_data",
          "data": {
            "application/javascript": [
              "window[\"664f99ec-9da1-11ec-bdc8-0242ac1c0002\"] = document.querySelector(\"#id18-0-0\");\n",
              "//# sourceURL=js_f5f93c55fd"
            ],
            "text/plain": [
              "<IPython.core.display.Javascript object>"
            ]
          },
          "metadata": {}
        },
        {
          "output_type": "display_data",
          "data": {
            "application/javascript": [
              "window[\"664ffa5e-9da1-11ec-bdc8-0242ac1c0002\"] = google.colab.output.setActiveOutputArea(window[\"664f99ec-9da1-11ec-bdc8-0242ac1c0002\"]);\n",
              "//# sourceURL=js_f2d39761de"
            ],
            "text/plain": [
              "<IPython.core.display.Javascript object>"
            ]
          },
          "metadata": {}
        },
        {
          "output_type": "display_data",
          "data": {
            "application/javascript": [
              "window[\"666d23ea-9da1-11ec-bdc8-0242ac1c0002\"] = google.colab.output.setActiveOutputArea(window[\"664f4122-9da1-11ec-bdc8-0242ac1c0002\"]);\n",
              "//# sourceURL=js_8243f9f5d4"
            ],
            "text/plain": [
              "<IPython.core.display.Javascript object>"
            ]
          },
          "metadata": {}
        },
        {
          "output_type": "display_data",
          "data": {
            "application/javascript": [
              "window[\"668e19ec-9da1-11ec-bdc8-0242ac1c0002\"] = google.colab.output.getActiveOutputArea();\n",
              "//# sourceURL=js_3c18e574db"
            ],
            "text/plain": [
              "<IPython.core.display.Javascript object>"
            ]
          },
          "metadata": {}
        },
        {
          "output_type": "display_data",
          "data": {
            "application/javascript": [
              "window[\"668e7900-9da1-11ec-bdc8-0242ac1c0002\"] = document.querySelector(\"#id18-0-0\");\n",
              "//# sourceURL=js_59d937aa57"
            ],
            "text/plain": [
              "<IPython.core.display.Javascript object>"
            ]
          },
          "metadata": {}
        },
        {
          "output_type": "display_data",
          "data": {
            "application/javascript": [
              "window[\"668ee250-9da1-11ec-bdc8-0242ac1c0002\"] = google.colab.output.setActiveOutputArea(window[\"668e7900-9da1-11ec-bdc8-0242ac1c0002\"]);\n",
              "//# sourceURL=js_9319a097ec"
            ],
            "text/plain": [
              "<IPython.core.display.Javascript object>"
            ]
          },
          "metadata": {}
        },
        {
          "output_type": "display_data",
          "data": {
            "application/javascript": [
              "window[\"66ab1bb4-9da1-11ec-bdc8-0242ac1c0002\"] = google.colab.output.setActiveOutputArea(window[\"668e19ec-9da1-11ec-bdc8-0242ac1c0002\"]);\n",
              "//# sourceURL=js_1511927047"
            ],
            "text/plain": [
              "<IPython.core.display.Javascript object>"
            ]
          },
          "metadata": {}
        },
        {
          "output_type": "display_data",
          "data": {
            "application/javascript": [
              "window[\"66cc45f0-9da1-11ec-bdc8-0242ac1c0002\"] = google.colab.output.getActiveOutputArea();\n",
              "//# sourceURL=js_41569ed646"
            ],
            "text/plain": [
              "<IPython.core.display.Javascript object>"
            ]
          },
          "metadata": {}
        },
        {
          "output_type": "display_data",
          "data": {
            "application/javascript": [
              "window[\"66cd0896-9da1-11ec-bdc8-0242ac1c0002\"] = document.querySelector(\"#id18-0-0\");\n",
              "//# sourceURL=js_b334267adb"
            ],
            "text/plain": [
              "<IPython.core.display.Javascript object>"
            ]
          },
          "metadata": {}
        },
        {
          "output_type": "display_data",
          "data": {
            "application/javascript": [
              "window[\"66cdaf80-9da1-11ec-bdc8-0242ac1c0002\"] = google.colab.output.setActiveOutputArea(window[\"66cd0896-9da1-11ec-bdc8-0242ac1c0002\"]);\n",
              "//# sourceURL=js_584845f62c"
            ],
            "text/plain": [
              "<IPython.core.display.Javascript object>"
            ]
          },
          "metadata": {}
        },
        {
          "output_type": "display_data",
          "data": {
            "application/javascript": [
              "window[\"66e95e60-9da1-11ec-bdc8-0242ac1c0002\"] = google.colab.output.setActiveOutputArea(window[\"66cc45f0-9da1-11ec-bdc8-0242ac1c0002\"]);\n",
              "//# sourceURL=js_bfe41fb5d7"
            ],
            "text/plain": [
              "<IPython.core.display.Javascript object>"
            ]
          },
          "metadata": {}
        },
        {
          "output_type": "display_data",
          "data": {
            "application/javascript": [
              "window[\"6709e75c-9da1-11ec-bdc8-0242ac1c0002\"] = google.colab.output.getActiveOutputArea();\n",
              "//# sourceURL=js_d58968ce5a"
            ],
            "text/plain": [
              "<IPython.core.display.Javascript object>"
            ]
          },
          "metadata": {}
        },
        {
          "output_type": "display_data",
          "data": {
            "application/javascript": [
              "window[\"670a2afa-9da1-11ec-bdc8-0242ac1c0002\"] = document.querySelector(\"#id18-0-0\");\n",
              "//# sourceURL=js_7f1bb35d1c"
            ],
            "text/plain": [
              "<IPython.core.display.Javascript object>"
            ]
          },
          "metadata": {}
        },
        {
          "output_type": "display_data",
          "data": {
            "application/javascript": [
              "window[\"670a693e-9da1-11ec-bdc8-0242ac1c0002\"] = google.colab.output.setActiveOutputArea(window[\"670a2afa-9da1-11ec-bdc8-0242ac1c0002\"]);\n",
              "//# sourceURL=js_0e9b1f9cde"
            ],
            "text/plain": [
              "<IPython.core.display.Javascript object>"
            ]
          },
          "metadata": {}
        },
        {
          "output_type": "display_data",
          "data": {
            "application/javascript": [
              "window[\"67278e2e-9da1-11ec-bdc8-0242ac1c0002\"] = google.colab.output.setActiveOutputArea(window[\"6709e75c-9da1-11ec-bdc8-0242ac1c0002\"]);\n",
              "//# sourceURL=js_49bf690e97"
            ],
            "text/plain": [
              "<IPython.core.display.Javascript object>"
            ]
          },
          "metadata": {}
        },
        {
          "output_type": "display_data",
          "data": {
            "application/javascript": [
              "window[\"674826de-9da1-11ec-bdc8-0242ac1c0002\"] = google.colab.output.getActiveOutputArea();\n",
              "//# sourceURL=js_992e0ed284"
            ],
            "text/plain": [
              "<IPython.core.display.Javascript object>"
            ]
          },
          "metadata": {}
        },
        {
          "output_type": "display_data",
          "data": {
            "application/javascript": [
              "window[\"674866da-9da1-11ec-bdc8-0242ac1c0002\"] = document.querySelector(\"#id18-0-0\");\n",
              "//# sourceURL=js_18154a6d80"
            ],
            "text/plain": [
              "<IPython.core.display.Javascript object>"
            ]
          },
          "metadata": {}
        },
        {
          "output_type": "display_data",
          "data": {
            "application/javascript": [
              "window[\"6748a33e-9da1-11ec-bdc8-0242ac1c0002\"] = google.colab.output.setActiveOutputArea(window[\"674866da-9da1-11ec-bdc8-0242ac1c0002\"]);\n",
              "//# sourceURL=js_33c894421f"
            ],
            "text/plain": [
              "<IPython.core.display.Javascript object>"
            ]
          },
          "metadata": {}
        },
        {
          "output_type": "display_data",
          "data": {
            "application/javascript": [
              "window[\"67644f8a-9da1-11ec-bdc8-0242ac1c0002\"] = google.colab.output.setActiveOutputArea(window[\"674826de-9da1-11ec-bdc8-0242ac1c0002\"]);\n",
              "//# sourceURL=js_c566209a43"
            ],
            "text/plain": [
              "<IPython.core.display.Javascript object>"
            ]
          },
          "metadata": {}
        },
        {
          "output_type": "display_data",
          "data": {
            "application/javascript": [
              "window[\"6784f83e-9da1-11ec-bdc8-0242ac1c0002\"] = google.colab.output.getActiveOutputArea();\n",
              "//# sourceURL=js_c7b1f3a31c"
            ],
            "text/plain": [
              "<IPython.core.display.Javascript object>"
            ]
          },
          "metadata": {}
        },
        {
          "output_type": "display_data",
          "data": {
            "application/javascript": [
              "window[\"67853650-9da1-11ec-bdc8-0242ac1c0002\"] = document.querySelector(\"#id18-0-0\");\n",
              "//# sourceURL=js_79e8c2b74f"
            ],
            "text/plain": [
              "<IPython.core.display.Javascript object>"
            ]
          },
          "metadata": {}
        },
        {
          "output_type": "display_data",
          "data": {
            "application/javascript": [
              "window[\"67856954-9da1-11ec-bdc8-0242ac1c0002\"] = google.colab.output.setActiveOutputArea(window[\"67853650-9da1-11ec-bdc8-0242ac1c0002\"]);\n",
              "//# sourceURL=js_4643e5d0b3"
            ],
            "text/plain": [
              "<IPython.core.display.Javascript object>"
            ]
          },
          "metadata": {}
        },
        {
          "output_type": "display_data",
          "data": {
            "application/javascript": [
              "window[\"67a1de68-9da1-11ec-bdc8-0242ac1c0002\"] = google.colab.output.setActiveOutputArea(window[\"6784f83e-9da1-11ec-bdc8-0242ac1c0002\"]);\n",
              "//# sourceURL=js_8cb849c417"
            ],
            "text/plain": [
              "<IPython.core.display.Javascript object>"
            ]
          },
          "metadata": {}
        },
        {
          "output_type": "display_data",
          "data": {
            "application/javascript": [
              "window[\"67c305a2-9da1-11ec-bdc8-0242ac1c0002\"] = google.colab.output.getActiveOutputArea();\n",
              "//# sourceURL=js_7783589009"
            ],
            "text/plain": [
              "<IPython.core.display.Javascript object>"
            ]
          },
          "metadata": {}
        },
        {
          "output_type": "display_data",
          "data": {
            "application/javascript": [
              "window[\"67c37852-9da1-11ec-bdc8-0242ac1c0002\"] = document.querySelector(\"#id18-0-0\");\n",
              "//# sourceURL=js_7606d47362"
            ],
            "text/plain": [
              "<IPython.core.display.Javascript object>"
            ]
          },
          "metadata": {}
        },
        {
          "output_type": "display_data",
          "data": {
            "application/javascript": [
              "window[\"67c42ec8-9da1-11ec-bdc8-0242ac1c0002\"] = google.colab.output.setActiveOutputArea(window[\"67c37852-9da1-11ec-bdc8-0242ac1c0002\"]);\n",
              "//# sourceURL=js_3cc0769d6a"
            ],
            "text/plain": [
              "<IPython.core.display.Javascript object>"
            ]
          },
          "metadata": {}
        },
        {
          "output_type": "display_data",
          "data": {
            "application/javascript": [
              "window[\"67e0cfb0-9da1-11ec-bdc8-0242ac1c0002\"] = google.colab.output.setActiveOutputArea(window[\"67c305a2-9da1-11ec-bdc8-0242ac1c0002\"]);\n",
              "//# sourceURL=js_4a6c44dcaa"
            ],
            "text/plain": [
              "<IPython.core.display.Javascript object>"
            ]
          },
          "metadata": {}
        },
        {
          "output_type": "display_data",
          "data": {
            "application/javascript": [
              "window[\"68017d1e-9da1-11ec-bdc8-0242ac1c0002\"] = google.colab.output.getActiveOutputArea();\n",
              "//# sourceURL=js_6423133282"
            ],
            "text/plain": [
              "<IPython.core.display.Javascript object>"
            ]
          },
          "metadata": {}
        },
        {
          "output_type": "display_data",
          "data": {
            "application/javascript": [
              "window[\"680202ca-9da1-11ec-bdc8-0242ac1c0002\"] = document.querySelector(\"#id18-0-0\");\n",
              "//# sourceURL=js_72f0c20aca"
            ],
            "text/plain": [
              "<IPython.core.display.Javascript object>"
            ]
          },
          "metadata": {}
        },
        {
          "output_type": "display_data",
          "data": {
            "application/javascript": [
              "window[\"68028984-9da1-11ec-bdc8-0242ac1c0002\"] = google.colab.output.setActiveOutputArea(window[\"680202ca-9da1-11ec-bdc8-0242ac1c0002\"]);\n",
              "//# sourceURL=js_b7b42ec005"
            ],
            "text/plain": [
              "<IPython.core.display.Javascript object>"
            ]
          },
          "metadata": {}
        },
        {
          "output_type": "display_data",
          "data": {
            "application/javascript": [
              "window[\"681eb9ec-9da1-11ec-bdc8-0242ac1c0002\"] = google.colab.output.setActiveOutputArea(window[\"68017d1e-9da1-11ec-bdc8-0242ac1c0002\"]);\n",
              "//# sourceURL=js_4e2c4859db"
            ],
            "text/plain": [
              "<IPython.core.display.Javascript object>"
            ]
          },
          "metadata": {}
        },
        {
          "output_type": "display_data",
          "data": {
            "application/javascript": [
              "window[\"683f518e-9da1-11ec-bdc8-0242ac1c0002\"] = google.colab.output.getActiveOutputArea();\n",
              "//# sourceURL=js_ac8da29f5c"
            ],
            "text/plain": [
              "<IPython.core.display.Javascript object>"
            ]
          },
          "metadata": {}
        },
        {
          "output_type": "display_data",
          "data": {
            "application/javascript": [
              "window[\"683fab70-9da1-11ec-bdc8-0242ac1c0002\"] = document.querySelector(\"#id18-0-0\");\n",
              "//# sourceURL=js_45ad970556"
            ],
            "text/plain": [
              "<IPython.core.display.Javascript object>"
            ]
          },
          "metadata": {}
        },
        {
          "output_type": "display_data",
          "data": {
            "application/javascript": [
              "window[\"68400bec-9da1-11ec-bdc8-0242ac1c0002\"] = google.colab.output.setActiveOutputArea(window[\"683fab70-9da1-11ec-bdc8-0242ac1c0002\"]);\n",
              "//# sourceURL=js_6d759d5ee7"
            ],
            "text/plain": [
              "<IPython.core.display.Javascript object>"
            ]
          },
          "metadata": {}
        },
        {
          "output_type": "display_data",
          "data": {
            "application/javascript": [
              "window[\"685fd904-9da1-11ec-bdc8-0242ac1c0002\"] = google.colab.output.setActiveOutputArea(window[\"683f518e-9da1-11ec-bdc8-0242ac1c0002\"]);\n",
              "//# sourceURL=js_71563631a9"
            ],
            "text/plain": [
              "<IPython.core.display.Javascript object>"
            ]
          },
          "metadata": {}
        },
        {
          "output_type": "display_data",
          "data": {
            "application/javascript": [
              "window[\"68808e6a-9da1-11ec-bdc8-0242ac1c0002\"] = google.colab.output.getActiveOutputArea();\n",
              "//# sourceURL=js_f05549fdfe"
            ],
            "text/plain": [
              "<IPython.core.display.Javascript object>"
            ]
          },
          "metadata": {}
        },
        {
          "output_type": "display_data",
          "data": {
            "application/javascript": [
              "window[\"68812fb4-9da1-11ec-bdc8-0242ac1c0002\"] = document.querySelector(\"#id18-0-0\");\n",
              "//# sourceURL=js_f4abada779"
            ],
            "text/plain": [
              "<IPython.core.display.Javascript object>"
            ]
          },
          "metadata": {}
        },
        {
          "output_type": "display_data",
          "data": {
            "application/javascript": [
              "window[\"6881d900-9da1-11ec-bdc8-0242ac1c0002\"] = google.colab.output.setActiveOutputArea(window[\"68812fb4-9da1-11ec-bdc8-0242ac1c0002\"]);\n",
              "//# sourceURL=js_7ffb0bc2a2"
            ],
            "text/plain": [
              "<IPython.core.display.Javascript object>"
            ]
          },
          "metadata": {}
        },
        {
          "output_type": "display_data",
          "data": {
            "application/javascript": [
              "window[\"689ea2c4-9da1-11ec-bdc8-0242ac1c0002\"] = google.colab.output.setActiveOutputArea(window[\"68808e6a-9da1-11ec-bdc8-0242ac1c0002\"]);\n",
              "//# sourceURL=js_ebd2719193"
            ],
            "text/plain": [
              "<IPython.core.display.Javascript object>"
            ]
          },
          "metadata": {}
        },
        {
          "output_type": "display_data",
          "data": {
            "application/javascript": [
              "window[\"68bf3444-9da1-11ec-bdc8-0242ac1c0002\"] = google.colab.output.getActiveOutputArea();\n",
              "//# sourceURL=js_68945ebfb8"
            ],
            "text/plain": [
              "<IPython.core.display.Javascript object>"
            ]
          },
          "metadata": {}
        },
        {
          "output_type": "display_data",
          "data": {
            "application/javascript": [
              "window[\"68bf8e26-9da1-11ec-bdc8-0242ac1c0002\"] = document.querySelector(\"#id18-0-0\");\n",
              "//# sourceURL=js_e06a222481"
            ],
            "text/plain": [
              "<IPython.core.display.Javascript object>"
            ]
          },
          "metadata": {}
        },
        {
          "output_type": "display_data",
          "data": {
            "application/javascript": [
              "window[\"68bff9f6-9da1-11ec-bdc8-0242ac1c0002\"] = google.colab.output.setActiveOutputArea(window[\"68bf8e26-9da1-11ec-bdc8-0242ac1c0002\"]);\n",
              "//# sourceURL=js_f7c161420c"
            ],
            "text/plain": [
              "<IPython.core.display.Javascript object>"
            ]
          },
          "metadata": {}
        },
        {
          "output_type": "display_data",
          "data": {
            "application/javascript": [
              "window[\"68dbd630-9da1-11ec-bdc8-0242ac1c0002\"] = google.colab.output.setActiveOutputArea(window[\"68bf3444-9da1-11ec-bdc8-0242ac1c0002\"]);\n",
              "//# sourceURL=js_8fafa3d896"
            ],
            "text/plain": [
              "<IPython.core.display.Javascript object>"
            ]
          },
          "metadata": {}
        },
        {
          "output_type": "display_data",
          "data": {
            "application/javascript": [
              "window[\"68fc8790-9da1-11ec-bdc8-0242ac1c0002\"] = google.colab.output.getActiveOutputArea();\n",
              "//# sourceURL=js_418ed76eca"
            ],
            "text/plain": [
              "<IPython.core.display.Javascript object>"
            ]
          },
          "metadata": {}
        },
        {
          "output_type": "display_data",
          "data": {
            "application/javascript": [
              "window[\"68fce28a-9da1-11ec-bdc8-0242ac1c0002\"] = document.querySelector(\"#id18-0-0\");\n",
              "//# sourceURL=js_10177472e5"
            ],
            "text/plain": [
              "<IPython.core.display.Javascript object>"
            ]
          },
          "metadata": {}
        },
        {
          "output_type": "display_data",
          "data": {
            "application/javascript": [
              "window[\"68fd62fa-9da1-11ec-bdc8-0242ac1c0002\"] = google.colab.output.setActiveOutputArea(window[\"68fce28a-9da1-11ec-bdc8-0242ac1c0002\"]);\n",
              "//# sourceURL=js_945588e543"
            ],
            "text/plain": [
              "<IPython.core.display.Javascript object>"
            ]
          },
          "metadata": {}
        },
        {
          "output_type": "display_data",
          "data": {
            "application/javascript": [
              "window[\"692371b6-9da1-11ec-bdc8-0242ac1c0002\"] = google.colab.output.setActiveOutputArea(window[\"68fc8790-9da1-11ec-bdc8-0242ac1c0002\"]);\n",
              "//# sourceURL=js_df926ff588"
            ],
            "text/plain": [
              "<IPython.core.display.Javascript object>"
            ]
          },
          "metadata": {}
        },
        {
          "output_type": "display_data",
          "data": {
            "application/javascript": [
              "window[\"69441aba-9da1-11ec-bdc8-0242ac1c0002\"] = google.colab.output.getActiveOutputArea();\n",
              "//# sourceURL=js_25b00dfbda"
            ],
            "text/plain": [
              "<IPython.core.display.Javascript object>"
            ]
          },
          "metadata": {}
        },
        {
          "output_type": "display_data",
          "data": {
            "application/javascript": [
              "window[\"69447a0a-9da1-11ec-bdc8-0242ac1c0002\"] = document.querySelector(\"#id18-0-0\");\n",
              "//# sourceURL=js_9bfde0f0a7"
            ],
            "text/plain": [
              "<IPython.core.display.Javascript object>"
            ]
          },
          "metadata": {}
        },
        {
          "output_type": "display_data",
          "data": {
            "application/javascript": [
              "window[\"6944d9fa-9da1-11ec-bdc8-0242ac1c0002\"] = google.colab.output.setActiveOutputArea(window[\"69447a0a-9da1-11ec-bdc8-0242ac1c0002\"]);\n",
              "//# sourceURL=js_9d3531d1df"
            ],
            "text/plain": [
              "<IPython.core.display.Javascript object>"
            ]
          },
          "metadata": {}
        },
        {
          "output_type": "display_data",
          "data": {
            "application/javascript": [
              "window[\"69607638-9da1-11ec-bdc8-0242ac1c0002\"] = google.colab.output.setActiveOutputArea(window[\"69441aba-9da1-11ec-bdc8-0242ac1c0002\"]);\n",
              "//# sourceURL=js_e946b7e23b"
            ],
            "text/plain": [
              "<IPython.core.display.Javascript object>"
            ]
          },
          "metadata": {}
        },
        {
          "output_type": "display_data",
          "data": {
            "application/javascript": [
              "window[\"698120ea-9da1-11ec-bdc8-0242ac1c0002\"] = google.colab.output.getActiveOutputArea();\n",
              "//# sourceURL=js_9de495d693"
            ],
            "text/plain": [
              "<IPython.core.display.Javascript object>"
            ]
          },
          "metadata": {}
        },
        {
          "output_type": "display_data",
          "data": {
            "application/javascript": [
              "window[\"69816618-9da1-11ec-bdc8-0242ac1c0002\"] = document.querySelector(\"#id18-0-0\");\n",
              "//# sourceURL=js_2d262ca500"
            ],
            "text/plain": [
              "<IPython.core.display.Javascript object>"
            ]
          },
          "metadata": {}
        },
        {
          "output_type": "display_data",
          "data": {
            "application/javascript": [
              "window[\"6981a9ac-9da1-11ec-bdc8-0242ac1c0002\"] = google.colab.output.setActiveOutputArea(window[\"69816618-9da1-11ec-bdc8-0242ac1c0002\"]);\n",
              "//# sourceURL=js_7578b20a50"
            ],
            "text/plain": [
              "<IPython.core.display.Javascript object>"
            ]
          },
          "metadata": {}
        },
        {
          "output_type": "display_data",
          "data": {
            "application/javascript": [
              "window[\"699f98ae-9da1-11ec-bdc8-0242ac1c0002\"] = google.colab.output.setActiveOutputArea(window[\"698120ea-9da1-11ec-bdc8-0242ac1c0002\"]);\n",
              "//# sourceURL=js_e5e68e31ff"
            ],
            "text/plain": [
              "<IPython.core.display.Javascript object>"
            ]
          },
          "metadata": {}
        },
        {
          "output_type": "display_data",
          "data": {
            "application/javascript": [
              "window[\"69c02eb6-9da1-11ec-bdc8-0242ac1c0002\"] = google.colab.output.getActiveOutputArea();\n",
              "//# sourceURL=js_ec784e05f8"
            ],
            "text/plain": [
              "<IPython.core.display.Javascript object>"
            ]
          },
          "metadata": {}
        },
        {
          "output_type": "display_data",
          "data": {
            "application/javascript": [
              "window[\"69c0a99a-9da1-11ec-bdc8-0242ac1c0002\"] = document.querySelector(\"#id18-0-0\");\n",
              "//# sourceURL=js_e6edc579c0"
            ],
            "text/plain": [
              "<IPython.core.display.Javascript object>"
            ]
          },
          "metadata": {}
        },
        {
          "output_type": "display_data",
          "data": {
            "application/javascript": [
              "window[\"69c13d42-9da1-11ec-bdc8-0242ac1c0002\"] = google.colab.output.setActiveOutputArea(window[\"69c0a99a-9da1-11ec-bdc8-0242ac1c0002\"]);\n",
              "//# sourceURL=js_50dddd92fe"
            ],
            "text/plain": [
              "<IPython.core.display.Javascript object>"
            ]
          },
          "metadata": {}
        },
        {
          "output_type": "display_data",
          "data": {
            "application/javascript": [
              "window[\"69dd5450-9da1-11ec-bdc8-0242ac1c0002\"] = google.colab.output.setActiveOutputArea(window[\"69c02eb6-9da1-11ec-bdc8-0242ac1c0002\"]);\n",
              "//# sourceURL=js_e3808b2763"
            ],
            "text/plain": [
              "<IPython.core.display.Javascript object>"
            ]
          },
          "metadata": {}
        },
        {
          "output_type": "display_data",
          "data": {
            "application/javascript": [
              "window[\"69fe2784-9da1-11ec-bdc8-0242ac1c0002\"] = google.colab.output.getActiveOutputArea();\n",
              "//# sourceURL=js_35da3c4390"
            ],
            "text/plain": [
              "<IPython.core.display.Javascript object>"
            ]
          },
          "metadata": {}
        },
        {
          "output_type": "display_data",
          "data": {
            "application/javascript": [
              "window[\"69ff0a64-9da1-11ec-bdc8-0242ac1c0002\"] = document.querySelector(\"#id18-0-0\");\n",
              "//# sourceURL=js_404cf3f0df"
            ],
            "text/plain": [
              "<IPython.core.display.Javascript object>"
            ]
          },
          "metadata": {}
        },
        {
          "output_type": "display_data",
          "data": {
            "application/javascript": [
              "window[\"69ff6ed2-9da1-11ec-bdc8-0242ac1c0002\"] = google.colab.output.setActiveOutputArea(window[\"69ff0a64-9da1-11ec-bdc8-0242ac1c0002\"]);\n",
              "//# sourceURL=js_fe1327e86a"
            ],
            "text/plain": [
              "<IPython.core.display.Javascript object>"
            ]
          },
          "metadata": {}
        },
        {
          "output_type": "display_data",
          "data": {
            "application/javascript": [
              "window[\"6a1cb014-9da1-11ec-bdc8-0242ac1c0002\"] = google.colab.output.setActiveOutputArea(window[\"69fe2784-9da1-11ec-bdc8-0242ac1c0002\"]);\n",
              "//# sourceURL=js_bc8b4b3444"
            ],
            "text/plain": [
              "<IPython.core.display.Javascript object>"
            ]
          },
          "metadata": {}
        },
        {
          "output_type": "display_data",
          "data": {
            "application/javascript": [
              "window[\"6a3e050c-9da1-11ec-bdc8-0242ac1c0002\"] = google.colab.output.getActiveOutputArea();\n",
              "//# sourceURL=js_cfb2311f51"
            ],
            "text/plain": [
              "<IPython.core.display.Javascript object>"
            ]
          },
          "metadata": {}
        },
        {
          "output_type": "display_data",
          "data": {
            "application/javascript": [
              "window[\"6a3ea688-9da1-11ec-bdc8-0242ac1c0002\"] = document.querySelector(\"#id18-0-0\");\n",
              "//# sourceURL=js_98bf296ca0"
            ],
            "text/plain": [
              "<IPython.core.display.Javascript object>"
            ]
          },
          "metadata": {}
        },
        {
          "output_type": "display_data",
          "data": {
            "application/javascript": [
              "window[\"6a3f2464-9da1-11ec-bdc8-0242ac1c0002\"] = google.colab.output.setActiveOutputArea(window[\"6a3ea688-9da1-11ec-bdc8-0242ac1c0002\"]);\n",
              "//# sourceURL=js_9170d8321c"
            ],
            "text/plain": [
              "<IPython.core.display.Javascript object>"
            ]
          },
          "metadata": {}
        },
        {
          "output_type": "display_data",
          "data": {
            "application/javascript": [
              "window[\"6a5b632c-9da1-11ec-bdc8-0242ac1c0002\"] = google.colab.output.setActiveOutputArea(window[\"6a3e050c-9da1-11ec-bdc8-0242ac1c0002\"]);\n",
              "//# sourceURL=js_d417447d2e"
            ],
            "text/plain": [
              "<IPython.core.display.Javascript object>"
            ]
          },
          "metadata": {}
        },
        {
          "output_type": "display_data",
          "data": {
            "application/javascript": [
              "window[\"6a7bfed4-9da1-11ec-bdc8-0242ac1c0002\"] = google.colab.output.getActiveOutputArea();\n",
              "//# sourceURL=js_067425e020"
            ],
            "text/plain": [
              "<IPython.core.display.Javascript object>"
            ]
          },
          "metadata": {}
        },
        {
          "output_type": "display_data",
          "data": {
            "application/javascript": [
              "window[\"6a7c58f2-9da1-11ec-bdc8-0242ac1c0002\"] = document.querySelector(\"#id18-0-0\");\n",
              "//# sourceURL=js_f630739337"
            ],
            "text/plain": [
              "<IPython.core.display.Javascript object>"
            ]
          },
          "metadata": {}
        },
        {
          "output_type": "display_data",
          "data": {
            "application/javascript": [
              "window[\"6a7cdac0-9da1-11ec-bdc8-0242ac1c0002\"] = google.colab.output.setActiveOutputArea(window[\"6a7c58f2-9da1-11ec-bdc8-0242ac1c0002\"]);\n",
              "//# sourceURL=js_11f27f1b2a"
            ],
            "text/plain": [
              "<IPython.core.display.Javascript object>"
            ]
          },
          "metadata": {}
        },
        {
          "output_type": "display_data",
          "data": {
            "application/javascript": [
              "window[\"6a99498a-9da1-11ec-bdc8-0242ac1c0002\"] = google.colab.output.setActiveOutputArea(window[\"6a7bfed4-9da1-11ec-bdc8-0242ac1c0002\"]);\n",
              "//# sourceURL=js_4cae81a384"
            ],
            "text/plain": [
              "<IPython.core.display.Javascript object>"
            ]
          },
          "metadata": {}
        },
        {
          "output_type": "display_data",
          "data": {
            "application/javascript": [
              "window[\"6ab9e32a-9da1-11ec-bdc8-0242ac1c0002\"] = google.colab.output.getActiveOutputArea();\n",
              "//# sourceURL=js_c07a49e552"
            ],
            "text/plain": [
              "<IPython.core.display.Javascript object>"
            ]
          },
          "metadata": {}
        },
        {
          "output_type": "display_data",
          "data": {
            "application/javascript": [
              "window[\"6aba3c44-9da1-11ec-bdc8-0242ac1c0002\"] = document.querySelector(\"#id18-0-0\");\n",
              "//# sourceURL=js_ead785f7fb"
            ],
            "text/plain": [
              "<IPython.core.display.Javascript object>"
            ]
          },
          "metadata": {}
        },
        {
          "output_type": "display_data",
          "data": {
            "application/javascript": [
              "window[\"6aba8e1a-9da1-11ec-bdc8-0242ac1c0002\"] = google.colab.output.setActiveOutputArea(window[\"6aba3c44-9da1-11ec-bdc8-0242ac1c0002\"]);\n",
              "//# sourceURL=js_5decbaab00"
            ],
            "text/plain": [
              "<IPython.core.display.Javascript object>"
            ]
          },
          "metadata": {}
        },
        {
          "output_type": "display_data",
          "data": {
            "application/javascript": [
              "window[\"6ad94d00-9da1-11ec-bdc8-0242ac1c0002\"] = google.colab.output.setActiveOutputArea(window[\"6ab9e32a-9da1-11ec-bdc8-0242ac1c0002\"]);\n",
              "//# sourceURL=js_e068a6c257"
            ],
            "text/plain": [
              "<IPython.core.display.Javascript object>"
            ]
          },
          "metadata": {}
        },
        {
          "output_type": "display_data",
          "data": {
            "application/javascript": [
              "window[\"6af9fc76-9da1-11ec-bdc8-0242ac1c0002\"] = google.colab.output.getActiveOutputArea();\n",
              "//# sourceURL=js_062dae6ba4"
            ],
            "text/plain": [
              "<IPython.core.display.Javascript object>"
            ]
          },
          "metadata": {}
        },
        {
          "output_type": "display_data",
          "data": {
            "application/javascript": [
              "window[\"6afa55cc-9da1-11ec-bdc8-0242ac1c0002\"] = document.querySelector(\"#id18-0-0\");\n",
              "//# sourceURL=js_0c56bc723e"
            ],
            "text/plain": [
              "<IPython.core.display.Javascript object>"
            ]
          },
          "metadata": {}
        },
        {
          "output_type": "display_data",
          "data": {
            "application/javascript": [
              "window[\"6afb8ab4-9da1-11ec-bdc8-0242ac1c0002\"] = google.colab.output.setActiveOutputArea(window[\"6afa55cc-9da1-11ec-bdc8-0242ac1c0002\"]);\n",
              "//# sourceURL=js_8799b7adf0"
            ],
            "text/plain": [
              "<IPython.core.display.Javascript object>"
            ]
          },
          "metadata": {}
        },
        {
          "output_type": "display_data",
          "data": {
            "application/javascript": [
              "window[\"6b180892-9da1-11ec-bdc8-0242ac1c0002\"] = google.colab.output.setActiveOutputArea(window[\"6af9fc76-9da1-11ec-bdc8-0242ac1c0002\"]);\n",
              "//# sourceURL=js_dbe9b2bee0"
            ],
            "text/plain": [
              "<IPython.core.display.Javascript object>"
            ]
          },
          "metadata": {}
        },
        {
          "output_type": "display_data",
          "data": {
            "application/javascript": [
              "window[\"6b390b46-9da1-11ec-bdc8-0242ac1c0002\"] = google.colab.output.getActiveOutputArea();\n",
              "//# sourceURL=js_cf96a35d70"
            ],
            "text/plain": [
              "<IPython.core.display.Javascript object>"
            ]
          },
          "metadata": {}
        },
        {
          "output_type": "display_data",
          "data": {
            "application/javascript": [
              "window[\"6b3979c8-9da1-11ec-bdc8-0242ac1c0002\"] = document.querySelector(\"#id18-0-0\");\n",
              "//# sourceURL=js_36ad7e2c3e"
            ],
            "text/plain": [
              "<IPython.core.display.Javascript object>"
            ]
          },
          "metadata": {}
        },
        {
          "output_type": "display_data",
          "data": {
            "application/javascript": [
              "window[\"6b39ec6e-9da1-11ec-bdc8-0242ac1c0002\"] = google.colab.output.setActiveOutputArea(window[\"6b3979c8-9da1-11ec-bdc8-0242ac1c0002\"]);\n",
              "//# sourceURL=js_fd9364b91d"
            ],
            "text/plain": [
              "<IPython.core.display.Javascript object>"
            ]
          },
          "metadata": {}
        },
        {
          "output_type": "display_data",
          "data": {
            "application/javascript": [
              "window[\"6b578a94-9da1-11ec-bdc8-0242ac1c0002\"] = google.colab.output.setActiveOutputArea(window[\"6b390b46-9da1-11ec-bdc8-0242ac1c0002\"]);\n",
              "//# sourceURL=js_4a2ca2cd1a"
            ],
            "text/plain": [
              "<IPython.core.display.Javascript object>"
            ]
          },
          "metadata": {}
        },
        {
          "output_type": "display_data",
          "data": {
            "application/javascript": [
              "window[\"6b79b510-9da1-11ec-bdc8-0242ac1c0002\"] = google.colab.output.getActiveOutputArea();\n",
              "//# sourceURL=js_eab9aa9e9d"
            ],
            "text/plain": [
              "<IPython.core.display.Javascript object>"
            ]
          },
          "metadata": {}
        },
        {
          "output_type": "display_data",
          "data": {
            "application/javascript": [
              "window[\"6b7a1e9c-9da1-11ec-bdc8-0242ac1c0002\"] = document.querySelector(\"#id18-0-0\");\n",
              "//# sourceURL=js_49a46a1752"
            ],
            "text/plain": [
              "<IPython.core.display.Javascript object>"
            ]
          },
          "metadata": {}
        },
        {
          "output_type": "display_data",
          "data": {
            "application/javascript": [
              "window[\"6b7acb4e-9da1-11ec-bdc8-0242ac1c0002\"] = google.colab.output.setActiveOutputArea(window[\"6b7a1e9c-9da1-11ec-bdc8-0242ac1c0002\"]);\n",
              "//# sourceURL=js_cd023b742b"
            ],
            "text/plain": [
              "<IPython.core.display.Javascript object>"
            ]
          },
          "metadata": {}
        },
        {
          "output_type": "display_data",
          "data": {
            "application/javascript": [
              "window[\"6b99a50a-9da1-11ec-bdc8-0242ac1c0002\"] = google.colab.output.setActiveOutputArea(window[\"6b79b510-9da1-11ec-bdc8-0242ac1c0002\"]);\n",
              "//# sourceURL=js_7a755d9d0b"
            ],
            "text/plain": [
              "<IPython.core.display.Javascript object>"
            ]
          },
          "metadata": {}
        },
        {
          "output_type": "display_data",
          "data": {
            "application/javascript": [
              "window[\"6bba1e20-9da1-11ec-bdc8-0242ac1c0002\"] = google.colab.output.getActiveOutputArea();\n",
              "//# sourceURL=js_33168f4d47"
            ],
            "text/plain": [
              "<IPython.core.display.Javascript object>"
            ]
          },
          "metadata": {}
        },
        {
          "output_type": "display_data",
          "data": {
            "application/javascript": [
              "window[\"6bba6ce0-9da1-11ec-bdc8-0242ac1c0002\"] = document.querySelector(\"#id18-0-0\");\n",
              "//# sourceURL=js_324c257c93"
            ],
            "text/plain": [
              "<IPython.core.display.Javascript object>"
            ]
          },
          "metadata": {}
        },
        {
          "output_type": "display_data",
          "data": {
            "application/javascript": [
              "window[\"6bbabb14-9da1-11ec-bdc8-0242ac1c0002\"] = google.colab.output.setActiveOutputArea(window[\"6bba6ce0-9da1-11ec-bdc8-0242ac1c0002\"]);\n",
              "//# sourceURL=js_712529b777"
            ],
            "text/plain": [
              "<IPython.core.display.Javascript object>"
            ]
          },
          "metadata": {}
        },
        {
          "output_type": "display_data",
          "data": {
            "application/javascript": [
              "window[\"6bd8a84a-9da1-11ec-bdc8-0242ac1c0002\"] = google.colab.output.setActiveOutputArea(window[\"6bba1e20-9da1-11ec-bdc8-0242ac1c0002\"]);\n",
              "//# sourceURL=js_7cc58425b6"
            ],
            "text/plain": [
              "<IPython.core.display.Javascript object>"
            ]
          },
          "metadata": {}
        },
        {
          "output_type": "display_data",
          "data": {
            "application/javascript": [
              "window[\"6bfaa422-9da1-11ec-bdc8-0242ac1c0002\"] = google.colab.output.getActiveOutputArea();\n",
              "//# sourceURL=js_46912e7588"
            ],
            "text/plain": [
              "<IPython.core.display.Javascript object>"
            ]
          },
          "metadata": {}
        },
        {
          "output_type": "display_data",
          "data": {
            "application/javascript": [
              "window[\"6bfb3ef0-9da1-11ec-bdc8-0242ac1c0002\"] = document.querySelector(\"#id18-0-0\");\n",
              "//# sourceURL=js_512a342132"
            ],
            "text/plain": [
              "<IPython.core.display.Javascript object>"
            ]
          },
          "metadata": {}
        },
        {
          "output_type": "display_data",
          "data": {
            "application/javascript": [
              "window[\"6bfba0d4-9da1-11ec-bdc8-0242ac1c0002\"] = google.colab.output.setActiveOutputArea(window[\"6bfb3ef0-9da1-11ec-bdc8-0242ac1c0002\"]);\n",
              "//# sourceURL=js_41e89fa3b7"
            ],
            "text/plain": [
              "<IPython.core.display.Javascript object>"
            ]
          },
          "metadata": {}
        },
        {
          "output_type": "display_data",
          "data": {
            "application/javascript": [
              "window[\"6c21ba6c-9da1-11ec-bdc8-0242ac1c0002\"] = google.colab.output.setActiveOutputArea(window[\"6bfaa422-9da1-11ec-bdc8-0242ac1c0002\"]);\n",
              "//# sourceURL=js_b2d24f70e5"
            ],
            "text/plain": [
              "<IPython.core.display.Javascript object>"
            ]
          },
          "metadata": {}
        },
        {
          "output_type": "display_data",
          "data": {
            "application/javascript": [
              "window[\"6c43669e-9da1-11ec-bdc8-0242ac1c0002\"] = google.colab.output.getActiveOutputArea();\n",
              "//# sourceURL=js_e92038c534"
            ],
            "text/plain": [
              "<IPython.core.display.Javascript object>"
            ]
          },
          "metadata": {}
        },
        {
          "output_type": "display_data",
          "data": {
            "application/javascript": [
              "window[\"6c43ec5e-9da1-11ec-bdc8-0242ac1c0002\"] = document.querySelector(\"#id18-0-0\");\n",
              "//# sourceURL=js_755103bf40"
            ],
            "text/plain": [
              "<IPython.core.display.Javascript object>"
            ]
          },
          "metadata": {}
        },
        {
          "output_type": "display_data",
          "data": {
            "application/javascript": [
              "window[\"6c445496-9da1-11ec-bdc8-0242ac1c0002\"] = google.colab.output.setActiveOutputArea(window[\"6c43ec5e-9da1-11ec-bdc8-0242ac1c0002\"]);\n",
              "//# sourceURL=js_40ee2f31a3"
            ],
            "text/plain": [
              "<IPython.core.display.Javascript object>"
            ]
          },
          "metadata": {}
        },
        {
          "output_type": "display_data",
          "data": {
            "application/javascript": [
              "window[\"6c62c084-9da1-11ec-bdc8-0242ac1c0002\"] = google.colab.output.setActiveOutputArea(window[\"6c43669e-9da1-11ec-bdc8-0242ac1c0002\"]);\n",
              "//# sourceURL=js_61494f2dab"
            ],
            "text/plain": [
              "<IPython.core.display.Javascript object>"
            ]
          },
          "metadata": {}
        },
        {
          "output_type": "display_data",
          "data": {
            "application/javascript": [
              "window[\"6c83d2c4-9da1-11ec-bdc8-0242ac1c0002\"] = google.colab.output.getActiveOutputArea();\n",
              "//# sourceURL=js_fd9a9d4a55"
            ],
            "text/plain": [
              "<IPython.core.display.Javascript object>"
            ]
          },
          "metadata": {}
        },
        {
          "output_type": "display_data",
          "data": {
            "application/javascript": [
              "window[\"6c844b6e-9da1-11ec-bdc8-0242ac1c0002\"] = document.querySelector(\"#id18-0-0\");\n",
              "//# sourceURL=js_bf64fb65f4"
            ],
            "text/plain": [
              "<IPython.core.display.Javascript object>"
            ]
          },
          "metadata": {}
        },
        {
          "output_type": "display_data",
          "data": {
            "application/javascript": [
              "window[\"6c84aa3c-9da1-11ec-bdc8-0242ac1c0002\"] = google.colab.output.setActiveOutputArea(window[\"6c844b6e-9da1-11ec-bdc8-0242ac1c0002\"]);\n",
              "//# sourceURL=js_19cbce1a9d"
            ],
            "text/plain": [
              "<IPython.core.display.Javascript object>"
            ]
          },
          "metadata": {}
        },
        {
          "output_type": "display_data",
          "data": {
            "application/javascript": [
              "window[\"6ca1d652-9da1-11ec-bdc8-0242ac1c0002\"] = google.colab.output.setActiveOutputArea(window[\"6c83d2c4-9da1-11ec-bdc8-0242ac1c0002\"]);\n",
              "//# sourceURL=js_4515c6cb02"
            ],
            "text/plain": [
              "<IPython.core.display.Javascript object>"
            ]
          },
          "metadata": {}
        },
        {
          "output_type": "display_data",
          "data": {
            "application/javascript": [
              "window[\"6cc28cc6-9da1-11ec-bdc8-0242ac1c0002\"] = google.colab.output.getActiveOutputArea();\n",
              "//# sourceURL=js_5a620e6be4"
            ],
            "text/plain": [
              "<IPython.core.display.Javascript object>"
            ]
          },
          "metadata": {}
        },
        {
          "output_type": "display_data",
          "data": {
            "application/javascript": [
              "window[\"6cc304ee-9da1-11ec-bdc8-0242ac1c0002\"] = document.querySelector(\"#id18-0-0\");\n",
              "//# sourceURL=js_312e4a0d77"
            ],
            "text/plain": [
              "<IPython.core.display.Javascript object>"
            ]
          },
          "metadata": {}
        },
        {
          "output_type": "display_data",
          "data": {
            "application/javascript": [
              "window[\"6cc3a570-9da1-11ec-bdc8-0242ac1c0002\"] = google.colab.output.setActiveOutputArea(window[\"6cc304ee-9da1-11ec-bdc8-0242ac1c0002\"]);\n",
              "//# sourceURL=js_aa04a49176"
            ],
            "text/plain": [
              "<IPython.core.display.Javascript object>"
            ]
          },
          "metadata": {}
        },
        {
          "output_type": "display_data",
          "data": {
            "application/javascript": [
              "window[\"6cdfc2a0-9da1-11ec-bdc8-0242ac1c0002\"] = google.colab.output.setActiveOutputArea(window[\"6cc28cc6-9da1-11ec-bdc8-0242ac1c0002\"]);\n",
              "//# sourceURL=js_cdd763077d"
            ],
            "text/plain": [
              "<IPython.core.display.Javascript object>"
            ]
          },
          "metadata": {}
        },
        {
          "output_type": "display_data",
          "data": {
            "application/javascript": [
              "window[\"6d00568c-9da1-11ec-bdc8-0242ac1c0002\"] = google.colab.output.getActiveOutputArea();\n",
              "//# sourceURL=js_1105340a8b"
            ],
            "text/plain": [
              "<IPython.core.display.Javascript object>"
            ]
          },
          "metadata": {}
        },
        {
          "output_type": "display_data",
          "data": {
            "application/javascript": [
              "window[\"6d00c428-9da1-11ec-bdc8-0242ac1c0002\"] = document.querySelector(\"#id18-0-0\");\n",
              "//# sourceURL=js_502e5e2e26"
            ],
            "text/plain": [
              "<IPython.core.display.Javascript object>"
            ]
          },
          "metadata": {}
        },
        {
          "output_type": "display_data",
          "data": {
            "application/javascript": [
              "window[\"6d015456-9da1-11ec-bdc8-0242ac1c0002\"] = google.colab.output.setActiveOutputArea(window[\"6d00c428-9da1-11ec-bdc8-0242ac1c0002\"]);\n",
              "//# sourceURL=js_d8551b7df1"
            ],
            "text/plain": [
              "<IPython.core.display.Javascript object>"
            ]
          },
          "metadata": {}
        },
        {
          "output_type": "display_data",
          "data": {
            "application/javascript": [
              "window[\"6d1ccd94-9da1-11ec-bdc8-0242ac1c0002\"] = google.colab.output.setActiveOutputArea(window[\"6d00568c-9da1-11ec-bdc8-0242ac1c0002\"]);\n",
              "//# sourceURL=js_db5f104edd"
            ],
            "text/plain": [
              "<IPython.core.display.Javascript object>"
            ]
          },
          "metadata": {}
        },
        {
          "output_type": "display_data",
          "data": {
            "application/javascript": [
              "window[\"6d3d6c16-9da1-11ec-bdc8-0242ac1c0002\"] = google.colab.output.getActiveOutputArea();\n",
              "//# sourceURL=js_324de456fb"
            ],
            "text/plain": [
              "<IPython.core.display.Javascript object>"
            ]
          },
          "metadata": {}
        },
        {
          "output_type": "display_data",
          "data": {
            "application/javascript": [
              "window[\"6d3e101c-9da1-11ec-bdc8-0242ac1c0002\"] = document.querySelector(\"#id18-0-0\");\n",
              "//# sourceURL=js_e92b565039"
            ],
            "text/plain": [
              "<IPython.core.display.Javascript object>"
            ]
          },
          "metadata": {}
        },
        {
          "output_type": "display_data",
          "data": {
            "application/javascript": [
              "window[\"6d3f18ea-9da1-11ec-bdc8-0242ac1c0002\"] = google.colab.output.setActiveOutputArea(window[\"6d3e101c-9da1-11ec-bdc8-0242ac1c0002\"]);\n",
              "//# sourceURL=js_2a6e51aefe"
            ],
            "text/plain": [
              "<IPython.core.display.Javascript object>"
            ]
          },
          "metadata": {}
        },
        {
          "output_type": "display_data",
          "data": {
            "application/javascript": [
              "window[\"6d5b09ec-9da1-11ec-bdc8-0242ac1c0002\"] = google.colab.output.setActiveOutputArea(window[\"6d3d6c16-9da1-11ec-bdc8-0242ac1c0002\"]);\n",
              "//# sourceURL=js_4303091d43"
            ],
            "text/plain": [
              "<IPython.core.display.Javascript object>"
            ]
          },
          "metadata": {}
        },
        {
          "output_type": "display_data",
          "data": {
            "application/javascript": [
              "window[\"6d7ba170-9da1-11ec-bdc8-0242ac1c0002\"] = google.colab.output.getActiveOutputArea();\n",
              "//# sourceURL=js_c1c083742a"
            ],
            "text/plain": [
              "<IPython.core.display.Javascript object>"
            ]
          },
          "metadata": {}
        },
        {
          "output_type": "display_data",
          "data": {
            "application/javascript": [
              "window[\"6d7c0dd6-9da1-11ec-bdc8-0242ac1c0002\"] = document.querySelector(\"#id18-0-0\");\n",
              "//# sourceURL=js_b4aedc5c24"
            ],
            "text/plain": [
              "<IPython.core.display.Javascript object>"
            ]
          },
          "metadata": {}
        },
        {
          "output_type": "display_data",
          "data": {
            "application/javascript": [
              "window[\"6d7ca91c-9da1-11ec-bdc8-0242ac1c0002\"] = google.colab.output.setActiveOutputArea(window[\"6d7c0dd6-9da1-11ec-bdc8-0242ac1c0002\"]);\n",
              "//# sourceURL=js_217509a4bb"
            ],
            "text/plain": [
              "<IPython.core.display.Javascript object>"
            ]
          },
          "metadata": {}
        },
        {
          "output_type": "display_data",
          "data": {
            "application/javascript": [
              "window[\"6d9a575a-9da1-11ec-bdc8-0242ac1c0002\"] = google.colab.output.setActiveOutputArea(window[\"6d7ba170-9da1-11ec-bdc8-0242ac1c0002\"]);\n",
              "//# sourceURL=js_ff5347a1b8"
            ],
            "text/plain": [
              "<IPython.core.display.Javascript object>"
            ]
          },
          "metadata": {}
        },
        {
          "output_type": "display_data",
          "data": {
            "application/javascript": [
              "window[\"6dbb3f2e-9da1-11ec-bdc8-0242ac1c0002\"] = google.colab.output.getActiveOutputArea();\n",
              "//# sourceURL=js_bbab15784d"
            ],
            "text/plain": [
              "<IPython.core.display.Javascript object>"
            ]
          },
          "metadata": {}
        },
        {
          "output_type": "display_data",
          "data": {
            "application/javascript": [
              "window[\"6dbbf306-9da1-11ec-bdc8-0242ac1c0002\"] = document.querySelector(\"#id18-0-0\");\n",
              "//# sourceURL=js_7b694fe044"
            ],
            "text/plain": [
              "<IPython.core.display.Javascript object>"
            ]
          },
          "metadata": {}
        },
        {
          "output_type": "display_data",
          "data": {
            "application/javascript": [
              "window[\"6dbc5274-9da1-11ec-bdc8-0242ac1c0002\"] = google.colab.output.setActiveOutputArea(window[\"6dbbf306-9da1-11ec-bdc8-0242ac1c0002\"]);\n",
              "//# sourceURL=js_8886bd72c6"
            ],
            "text/plain": [
              "<IPython.core.display.Javascript object>"
            ]
          },
          "metadata": {}
        },
        {
          "output_type": "display_data",
          "data": {
            "application/javascript": [
              "window[\"6dda9dec-9da1-11ec-bdc8-0242ac1c0002\"] = google.colab.output.setActiveOutputArea(window[\"6dbb3f2e-9da1-11ec-bdc8-0242ac1c0002\"]);\n",
              "//# sourceURL=js_78c7502c12"
            ],
            "text/plain": [
              "<IPython.core.display.Javascript object>"
            ]
          },
          "metadata": {}
        },
        {
          "output_type": "display_data",
          "data": {
            "application/javascript": [
              "window[\"6dfb178e-9da1-11ec-bdc8-0242ac1c0002\"] = google.colab.output.getActiveOutputArea();\n",
              "//# sourceURL=js_ae126773be"
            ],
            "text/plain": [
              "<IPython.core.display.Javascript object>"
            ]
          },
          "metadata": {}
        },
        {
          "output_type": "display_data",
          "data": {
            "application/javascript": [
              "window[\"6dfb8c6e-9da1-11ec-bdc8-0242ac1c0002\"] = document.querySelector(\"#id18-0-0\");\n",
              "//# sourceURL=js_08bc80ded0"
            ],
            "text/plain": [
              "<IPython.core.display.Javascript object>"
            ]
          },
          "metadata": {}
        },
        {
          "output_type": "display_data",
          "data": {
            "application/javascript": [
              "window[\"6dfbfd7a-9da1-11ec-bdc8-0242ac1c0002\"] = google.colab.output.setActiveOutputArea(window[\"6dfb8c6e-9da1-11ec-bdc8-0242ac1c0002\"]);\n",
              "//# sourceURL=js_ab6fe70c3d"
            ],
            "text/plain": [
              "<IPython.core.display.Javascript object>"
            ]
          },
          "metadata": {}
        },
        {
          "output_type": "display_data",
          "data": {
            "application/javascript": [
              "window[\"6e17ce6a-9da1-11ec-bdc8-0242ac1c0002\"] = google.colab.output.setActiveOutputArea(window[\"6dfb178e-9da1-11ec-bdc8-0242ac1c0002\"]);\n",
              "//# sourceURL=js_d103a538b6"
            ],
            "text/plain": [
              "<IPython.core.display.Javascript object>"
            ]
          },
          "metadata": {}
        },
        {
          "output_type": "display_data",
          "data": {
            "application/javascript": [
              "window[\"6e385ec8-9da1-11ec-bdc8-0242ac1c0002\"] = google.colab.output.getActiveOutputArea();\n",
              "//# sourceURL=js_8a82ec2405"
            ],
            "text/plain": [
              "<IPython.core.display.Javascript object>"
            ]
          },
          "metadata": {}
        },
        {
          "output_type": "display_data",
          "data": {
            "application/javascript": [
              "window[\"6e38d2cc-9da1-11ec-bdc8-0242ac1c0002\"] = document.querySelector(\"#id18-0-0\");\n",
              "//# sourceURL=js_7a97e28f60"
            ],
            "text/plain": [
              "<IPython.core.display.Javascript object>"
            ]
          },
          "metadata": {}
        },
        {
          "output_type": "display_data",
          "data": {
            "application/javascript": [
              "window[\"6e396b42-9da1-11ec-bdc8-0242ac1c0002\"] = google.colab.output.setActiveOutputArea(window[\"6e38d2cc-9da1-11ec-bdc8-0242ac1c0002\"]);\n",
              "//# sourceURL=js_74b7f12e23"
            ],
            "text/plain": [
              "<IPython.core.display.Javascript object>"
            ]
          },
          "metadata": {}
        },
        {
          "output_type": "display_data",
          "data": {
            "application/javascript": [
              "window[\"6e595ea2-9da1-11ec-bdc8-0242ac1c0002\"] = google.colab.output.setActiveOutputArea(window[\"6e385ec8-9da1-11ec-bdc8-0242ac1c0002\"]);\n",
              "//# sourceURL=js_4f15c1bb5f"
            ],
            "text/plain": [
              "<IPython.core.display.Javascript object>"
            ]
          },
          "metadata": {}
        },
        {
          "output_type": "display_data",
          "data": {
            "application/javascript": [
              "window[\"6e7a2826-9da1-11ec-bdc8-0242ac1c0002\"] = google.colab.output.getActiveOutputArea();\n",
              "//# sourceURL=js_e90963c82f"
            ],
            "text/plain": [
              "<IPython.core.display.Javascript object>"
            ]
          },
          "metadata": {}
        },
        {
          "output_type": "display_data",
          "data": {
            "application/javascript": [
              "window[\"6e7a6b92-9da1-11ec-bdc8-0242ac1c0002\"] = document.querySelector(\"#id18-0-0\");\n",
              "//# sourceURL=js_bc93e7dac8"
            ],
            "text/plain": [
              "<IPython.core.display.Javascript object>"
            ]
          },
          "metadata": {}
        },
        {
          "output_type": "display_data",
          "data": {
            "application/javascript": [
              "window[\"6e7aa954-9da1-11ec-bdc8-0242ac1c0002\"] = google.colab.output.setActiveOutputArea(window[\"6e7a6b92-9da1-11ec-bdc8-0242ac1c0002\"]);\n",
              "//# sourceURL=js_061a158825"
            ],
            "text/plain": [
              "<IPython.core.display.Javascript object>"
            ]
          },
          "metadata": {}
        },
        {
          "output_type": "display_data",
          "data": {
            "application/javascript": [
              "window[\"6e999f3a-9da1-11ec-bdc8-0242ac1c0002\"] = google.colab.output.setActiveOutputArea(window[\"6e7a2826-9da1-11ec-bdc8-0242ac1c0002\"]);\n",
              "//# sourceURL=js_8f757ad645"
            ],
            "text/plain": [
              "<IPython.core.display.Javascript object>"
            ]
          },
          "metadata": {}
        },
        {
          "output_type": "display_data",
          "data": {
            "application/javascript": [
              "window[\"6ebd978c-9da1-11ec-bdc8-0242ac1c0002\"] = google.colab.output.getActiveOutputArea();\n",
              "//# sourceURL=js_37108fead4"
            ],
            "text/plain": [
              "<IPython.core.display.Javascript object>"
            ]
          },
          "metadata": {}
        },
        {
          "output_type": "display_data",
          "data": {
            "application/javascript": [
              "window[\"6ebe1978-9da1-11ec-bdc8-0242ac1c0002\"] = document.querySelector(\"#id18-0-0\");\n",
              "//# sourceURL=js_c4fe23bfd6"
            ],
            "text/plain": [
              "<IPython.core.display.Javascript object>"
            ]
          },
          "metadata": {}
        },
        {
          "output_type": "display_data",
          "data": {
            "application/javascript": [
              "window[\"6ebe8a3e-9da1-11ec-bdc8-0242ac1c0002\"] = google.colab.output.setActiveOutputArea(window[\"6ebe1978-9da1-11ec-bdc8-0242ac1c0002\"]);\n",
              "//# sourceURL=js_eefbb27995"
            ],
            "text/plain": [
              "<IPython.core.display.Javascript object>"
            ]
          },
          "metadata": {}
        },
        {
          "output_type": "display_data",
          "data": {
            "application/javascript": [
              "window[\"6edc63e2-9da1-11ec-bdc8-0242ac1c0002\"] = google.colab.output.setActiveOutputArea(window[\"6ebd978c-9da1-11ec-bdc8-0242ac1c0002\"]);\n",
              "//# sourceURL=js_f2e3cda6a5"
            ],
            "text/plain": [
              "<IPython.core.display.Javascript object>"
            ]
          },
          "metadata": {}
        },
        {
          "output_type": "display_data",
          "data": {
            "application/javascript": [
              "window[\"6efe9016-9da1-11ec-bdc8-0242ac1c0002\"] = google.colab.output.getActiveOutputArea();\n",
              "//# sourceURL=js_caeaf50ad0"
            ],
            "text/plain": [
              "<IPython.core.display.Javascript object>"
            ]
          },
          "metadata": {}
        },
        {
          "output_type": "display_data",
          "data": {
            "application/javascript": [
              "window[\"6eff452e-9da1-11ec-bdc8-0242ac1c0002\"] = document.querySelector(\"#id18-0-0\");\n",
              "//# sourceURL=js_7c8866f546"
            ],
            "text/plain": [
              "<IPython.core.display.Javascript object>"
            ]
          },
          "metadata": {}
        },
        {
          "output_type": "display_data",
          "data": {
            "application/javascript": [
              "window[\"6effa9c4-9da1-11ec-bdc8-0242ac1c0002\"] = google.colab.output.setActiveOutputArea(window[\"6eff452e-9da1-11ec-bdc8-0242ac1c0002\"]);\n",
              "//# sourceURL=js_5bfc38577e"
            ],
            "text/plain": [
              "<IPython.core.display.Javascript object>"
            ]
          },
          "metadata": {}
        },
        {
          "output_type": "display_data",
          "data": {
            "application/javascript": [
              "window[\"6f299dba-9da1-11ec-bdc8-0242ac1c0002\"] = google.colab.output.setActiveOutputArea(window[\"6efe9016-9da1-11ec-bdc8-0242ac1c0002\"]);\n",
              "//# sourceURL=js_41116ef165"
            ],
            "text/plain": [
              "<IPython.core.display.Javascript object>"
            ]
          },
          "metadata": {}
        },
        {
          "output_type": "display_data",
          "data": {
            "application/javascript": [
              "window[\"6f4c94c8-9da1-11ec-bdc8-0242ac1c0002\"] = google.colab.output.getActiveOutputArea();\n",
              "//# sourceURL=js_a29f77a03b"
            ],
            "text/plain": [
              "<IPython.core.display.Javascript object>"
            ]
          },
          "metadata": {}
        },
        {
          "output_type": "display_data",
          "data": {
            "application/javascript": [
              "window[\"6f4ce50e-9da1-11ec-bdc8-0242ac1c0002\"] = document.querySelector(\"#id18-0-0\");\n",
              "//# sourceURL=js_ab38ce3f44"
            ],
            "text/plain": [
              "<IPython.core.display.Javascript object>"
            ]
          },
          "metadata": {}
        },
        {
          "output_type": "display_data",
          "data": {
            "application/javascript": [
              "window[\"6f4d4a80-9da1-11ec-bdc8-0242ac1c0002\"] = google.colab.output.setActiveOutputArea(window[\"6f4ce50e-9da1-11ec-bdc8-0242ac1c0002\"]);\n",
              "//# sourceURL=js_e0edb3f2f0"
            ],
            "text/plain": [
              "<IPython.core.display.Javascript object>"
            ]
          },
          "metadata": {}
        },
        {
          "output_type": "display_data",
          "data": {
            "application/javascript": [
              "window[\"6f6aa652-9da1-11ec-bdc8-0242ac1c0002\"] = google.colab.output.setActiveOutputArea(window[\"6f4c94c8-9da1-11ec-bdc8-0242ac1c0002\"]);\n",
              "//# sourceURL=js_53ca288936"
            ],
            "text/plain": [
              "<IPython.core.display.Javascript object>"
            ]
          },
          "metadata": {}
        },
        {
          "output_type": "display_data",
          "data": {
            "application/javascript": [
              "window[\"6f8b9358-9da1-11ec-bdc8-0242ac1c0002\"] = google.colab.output.getActiveOutputArea();\n",
              "//# sourceURL=js_42775f9f62"
            ],
            "text/plain": [
              "<IPython.core.display.Javascript object>"
            ]
          },
          "metadata": {}
        },
        {
          "output_type": "display_data",
          "data": {
            "application/javascript": [
              "window[\"6f8bff82-9da1-11ec-bdc8-0242ac1c0002\"] = document.querySelector(\"#id18-0-0\");\n",
              "//# sourceURL=js_bcdf71d2ae"
            ],
            "text/plain": [
              "<IPython.core.display.Javascript object>"
            ]
          },
          "metadata": {}
        },
        {
          "output_type": "display_data",
          "data": {
            "application/javascript": [
              "window[\"6f8c5a4a-9da1-11ec-bdc8-0242ac1c0002\"] = google.colab.output.setActiveOutputArea(window[\"6f8bff82-9da1-11ec-bdc8-0242ac1c0002\"]);\n",
              "//# sourceURL=js_0d54a1c7ac"
            ],
            "text/plain": [
              "<IPython.core.display.Javascript object>"
            ]
          },
          "metadata": {}
        },
        {
          "output_type": "display_data",
          "data": {
            "application/javascript": [
              "window[\"6fa9fd8e-9da1-11ec-bdc8-0242ac1c0002\"] = google.colab.output.setActiveOutputArea(window[\"6f8b9358-9da1-11ec-bdc8-0242ac1c0002\"]);\n",
              "//# sourceURL=js_1dd77aceb6"
            ],
            "text/plain": [
              "<IPython.core.display.Javascript object>"
            ]
          },
          "metadata": {}
        },
        {
          "output_type": "display_data",
          "data": {
            "application/javascript": [
              "window[\"6fcbdd78-9da1-11ec-bdc8-0242ac1c0002\"] = google.colab.output.getActiveOutputArea();\n",
              "//# sourceURL=js_6964571faa"
            ],
            "text/plain": [
              "<IPython.core.display.Javascript object>"
            ]
          },
          "metadata": {}
        },
        {
          "output_type": "display_data",
          "data": {
            "application/javascript": [
              "window[\"6fcc4088-9da1-11ec-bdc8-0242ac1c0002\"] = document.querySelector(\"#id18-0-0\");\n",
              "//# sourceURL=js_95a3082c23"
            ],
            "text/plain": [
              "<IPython.core.display.Javascript object>"
            ]
          },
          "metadata": {}
        },
        {
          "output_type": "display_data",
          "data": {
            "application/javascript": [
              "window[\"6fccc274-9da1-11ec-bdc8-0242ac1c0002\"] = google.colab.output.setActiveOutputArea(window[\"6fcc4088-9da1-11ec-bdc8-0242ac1c0002\"]);\n",
              "//# sourceURL=js_9e6c23ce4b"
            ],
            "text/plain": [
              "<IPython.core.display.Javascript object>"
            ]
          },
          "metadata": {}
        },
        {
          "output_type": "display_data",
          "data": {
            "application/javascript": [
              "window[\"6fe8d4dc-9da1-11ec-bdc8-0242ac1c0002\"] = google.colab.output.setActiveOutputArea(window[\"6fcbdd78-9da1-11ec-bdc8-0242ac1c0002\"]);\n",
              "//# sourceURL=js_d64e49e7fa"
            ],
            "text/plain": [
              "<IPython.core.display.Javascript object>"
            ]
          },
          "metadata": {}
        },
        {
          "output_type": "display_data",
          "data": {
            "application/javascript": [
              "window[\"70095b94-9da1-11ec-bdc8-0242ac1c0002\"] = google.colab.output.getActiveOutputArea();\n",
              "//# sourceURL=js_28fc82b625"
            ],
            "text/plain": [
              "<IPython.core.display.Javascript object>"
            ]
          },
          "metadata": {}
        },
        {
          "output_type": "display_data",
          "data": {
            "application/javascript": [
              "window[\"7009d074-9da1-11ec-bdc8-0242ac1c0002\"] = document.querySelector(\"#id18-0-0\");\n",
              "//# sourceURL=js_ea02caf064"
            ],
            "text/plain": [
              "<IPython.core.display.Javascript object>"
            ]
          },
          "metadata": {}
        },
        {
          "output_type": "display_data",
          "data": {
            "application/javascript": [
              "window[\"700a4afe-9da1-11ec-bdc8-0242ac1c0002\"] = google.colab.output.setActiveOutputArea(window[\"7009d074-9da1-11ec-bdc8-0242ac1c0002\"]);\n",
              "//# sourceURL=js_1cf2190fd9"
            ],
            "text/plain": [
              "<IPython.core.display.Javascript object>"
            ]
          },
          "metadata": {}
        },
        {
          "output_type": "display_data",
          "data": {
            "application/javascript": [
              "window[\"702a7dec-9da1-11ec-bdc8-0242ac1c0002\"] = google.colab.output.setActiveOutputArea(window[\"70095b94-9da1-11ec-bdc8-0242ac1c0002\"]);\n",
              "//# sourceURL=js_f63285596a"
            ],
            "text/plain": [
              "<IPython.core.display.Javascript object>"
            ]
          },
          "metadata": {}
        },
        {
          "output_type": "display_data",
          "data": {
            "application/javascript": [
              "window[\"704b7a7e-9da1-11ec-bdc8-0242ac1c0002\"] = google.colab.output.getActiveOutputArea();\n",
              "//# sourceURL=js_37b861536c"
            ],
            "text/plain": [
              "<IPython.core.display.Javascript object>"
            ]
          },
          "metadata": {}
        },
        {
          "output_type": "display_data",
          "data": {
            "application/javascript": [
              "window[\"704be3b0-9da1-11ec-bdc8-0242ac1c0002\"] = document.querySelector(\"#id18-0-0\");\n",
              "//# sourceURL=js_b21582db0c"
            ],
            "text/plain": [
              "<IPython.core.display.Javascript object>"
            ]
          },
          "metadata": {}
        },
        {
          "output_type": "display_data",
          "data": {
            "application/javascript": [
              "window[\"704c5a16-9da1-11ec-bdc8-0242ac1c0002\"] = google.colab.output.setActiveOutputArea(window[\"704be3b0-9da1-11ec-bdc8-0242ac1c0002\"]);\n",
              "//# sourceURL=js_4a97efd135"
            ],
            "text/plain": [
              "<IPython.core.display.Javascript object>"
            ]
          },
          "metadata": {}
        },
        {
          "output_type": "display_data",
          "data": {
            "application/javascript": [
              "window[\"70699aea-9da1-11ec-bdc8-0242ac1c0002\"] = google.colab.output.setActiveOutputArea(window[\"704b7a7e-9da1-11ec-bdc8-0242ac1c0002\"]);\n",
              "//# sourceURL=js_dba95de4e8"
            ],
            "text/plain": [
              "<IPython.core.display.Javascript object>"
            ]
          },
          "metadata": {}
        },
        {
          "output_type": "display_data",
          "data": {
            "application/javascript": [
              "window[\"708aabcc-9da1-11ec-bdc8-0242ac1c0002\"] = google.colab.output.getActiveOutputArea();\n",
              "//# sourceURL=js_734cff16fe"
            ],
            "text/plain": [
              "<IPython.core.display.Javascript object>"
            ]
          },
          "metadata": {}
        },
        {
          "output_type": "display_data",
          "data": {
            "application/javascript": [
              "window[\"708b2890-9da1-11ec-bdc8-0242ac1c0002\"] = document.querySelector(\"#id18-0-0\");\n",
              "//# sourceURL=js_a2c82a2a8f"
            ],
            "text/plain": [
              "<IPython.core.display.Javascript object>"
            ]
          },
          "metadata": {}
        },
        {
          "output_type": "display_data",
          "data": {
            "application/javascript": [
              "window[\"708baefa-9da1-11ec-bdc8-0242ac1c0002\"] = google.colab.output.setActiveOutputArea(window[\"708b2890-9da1-11ec-bdc8-0242ac1c0002\"]);\n",
              "//# sourceURL=js_232213f36a"
            ],
            "text/plain": [
              "<IPython.core.display.Javascript object>"
            ]
          },
          "metadata": {}
        },
        {
          "output_type": "display_data",
          "data": {
            "application/javascript": [
              "window[\"70a7dfd0-9da1-11ec-bdc8-0242ac1c0002\"] = google.colab.output.setActiveOutputArea(window[\"708aabcc-9da1-11ec-bdc8-0242ac1c0002\"]);\n",
              "//# sourceURL=js_e1b8150909"
            ],
            "text/plain": [
              "<IPython.core.display.Javascript object>"
            ]
          },
          "metadata": {}
        },
        {
          "output_type": "display_data",
          "data": {
            "application/javascript": [
              "window[\"70c86782-9da1-11ec-bdc8-0242ac1c0002\"] = google.colab.output.getActiveOutputArea();\n",
              "//# sourceURL=js_a5aa439104"
            ],
            "text/plain": [
              "<IPython.core.display.Javascript object>"
            ]
          },
          "metadata": {}
        },
        {
          "output_type": "display_data",
          "data": {
            "application/javascript": [
              "window[\"70c8a666-9da1-11ec-bdc8-0242ac1c0002\"] = document.querySelector(\"#id18-0-0\");\n",
              "//# sourceURL=js_d28b2e74d0"
            ],
            "text/plain": [
              "<IPython.core.display.Javascript object>"
            ]
          },
          "metadata": {}
        },
        {
          "output_type": "display_data",
          "data": {
            "application/javascript": [
              "window[\"70c8df28-9da1-11ec-bdc8-0242ac1c0002\"] = google.colab.output.setActiveOutputArea(window[\"70c8a666-9da1-11ec-bdc8-0242ac1c0002\"]);\n",
              "//# sourceURL=js_b66bd799c2"
            ],
            "text/plain": [
              "<IPython.core.display.Javascript object>"
            ]
          },
          "metadata": {}
        },
        {
          "output_type": "display_data",
          "data": {
            "application/javascript": [
              "window[\"70e8c504-9da1-11ec-bdc8-0242ac1c0002\"] = google.colab.output.setActiveOutputArea(window[\"70c86782-9da1-11ec-bdc8-0242ac1c0002\"]);\n",
              "//# sourceURL=js_10d4157252"
            ],
            "text/plain": [
              "<IPython.core.display.Javascript object>"
            ]
          },
          "metadata": {}
        },
        {
          "output_type": "display_data",
          "data": {
            "application/javascript": [
              "window[\"71098492-9da1-11ec-bdc8-0242ac1c0002\"] = google.colab.output.getActiveOutputArea();\n",
              "//# sourceURL=js_2966040930"
            ],
            "text/plain": [
              "<IPython.core.display.Javascript object>"
            ]
          },
          "metadata": {}
        },
        {
          "output_type": "display_data",
          "data": {
            "application/javascript": [
              "window[\"7109d668-9da1-11ec-bdc8-0242ac1c0002\"] = document.querySelector(\"#id18-0-0\");\n",
              "//# sourceURL=js_76fc4a0a18"
            ],
            "text/plain": [
              "<IPython.core.display.Javascript object>"
            ]
          },
          "metadata": {}
        },
        {
          "output_type": "display_data",
          "data": {
            "application/javascript": [
              "window[\"710a3ae0-9da1-11ec-bdc8-0242ac1c0002\"] = google.colab.output.setActiveOutputArea(window[\"7109d668-9da1-11ec-bdc8-0242ac1c0002\"]);\n",
              "//# sourceURL=js_8e79642c39"
            ],
            "text/plain": [
              "<IPython.core.display.Javascript object>"
            ]
          },
          "metadata": {}
        },
        {
          "output_type": "display_data",
          "data": {
            "application/javascript": [
              "window[\"71276eda-9da1-11ec-bdc8-0242ac1c0002\"] = google.colab.output.setActiveOutputArea(window[\"71098492-9da1-11ec-bdc8-0242ac1c0002\"]);\n",
              "//# sourceURL=js_f8bd5252a5"
            ],
            "text/plain": [
              "<IPython.core.display.Javascript object>"
            ]
          },
          "metadata": {}
        },
        {
          "output_type": "display_data",
          "data": {
            "application/javascript": [
              "window[\"71481806-9da1-11ec-bdc8-0242ac1c0002\"] = google.colab.output.getActiveOutputArea();\n",
              "//# sourceURL=js_7afcf6a901"
            ],
            "text/plain": [
              "<IPython.core.display.Javascript object>"
            ]
          },
          "metadata": {}
        },
        {
          "output_type": "display_data",
          "data": {
            "application/javascript": [
              "window[\"71487ae4-9da1-11ec-bdc8-0242ac1c0002\"] = document.querySelector(\"#id18-0-0\");\n",
              "//# sourceURL=js_544d6c9b8c"
            ],
            "text/plain": [
              "<IPython.core.display.Javascript object>"
            ]
          },
          "metadata": {}
        },
        {
          "output_type": "display_data",
          "data": {
            "application/javascript": [
              "window[\"71491ff8-9da1-11ec-bdc8-0242ac1c0002\"] = google.colab.output.setActiveOutputArea(window[\"71487ae4-9da1-11ec-bdc8-0242ac1c0002\"]);\n",
              "//# sourceURL=js_7a6a09620f"
            ],
            "text/plain": [
              "<IPython.core.display.Javascript object>"
            ]
          },
          "metadata": {}
        },
        {
          "output_type": "display_data",
          "data": {
            "application/javascript": [
              "window[\"71678042-9da1-11ec-bdc8-0242ac1c0002\"] = google.colab.output.setActiveOutputArea(window[\"71481806-9da1-11ec-bdc8-0242ac1c0002\"]);\n",
              "//# sourceURL=js_5b0f17193a"
            ],
            "text/plain": [
              "<IPython.core.display.Javascript object>"
            ]
          },
          "metadata": {}
        },
        {
          "output_type": "display_data",
          "data": {
            "application/javascript": [
              "window[\"7188885a-9da1-11ec-bdc8-0242ac1c0002\"] = google.colab.output.getActiveOutputArea();\n",
              "//# sourceURL=js_7336e55ef9"
            ],
            "text/plain": [
              "<IPython.core.display.Javascript object>"
            ]
          },
          "metadata": {}
        },
        {
          "output_type": "display_data",
          "data": {
            "application/javascript": [
              "window[\"7188face-9da1-11ec-bdc8-0242ac1c0002\"] = document.querySelector(\"#id18-0-0\");\n",
              "//# sourceURL=js_276b9d90b8"
            ],
            "text/plain": [
              "<IPython.core.display.Javascript object>"
            ]
          },
          "metadata": {}
        },
        {
          "output_type": "display_data",
          "data": {
            "application/javascript": [
              "window[\"718966bc-9da1-11ec-bdc8-0242ac1c0002\"] = google.colab.output.setActiveOutputArea(window[\"7188face-9da1-11ec-bdc8-0242ac1c0002\"]);\n",
              "//# sourceURL=js_49ec571a07"
            ],
            "text/plain": [
              "<IPython.core.display.Javascript object>"
            ]
          },
          "metadata": {}
        },
        {
          "output_type": "display_data",
          "data": {
            "application/javascript": [
              "window[\"71a758d4-9da1-11ec-bdc8-0242ac1c0002\"] = google.colab.output.setActiveOutputArea(window[\"7188885a-9da1-11ec-bdc8-0242ac1c0002\"]);\n",
              "//# sourceURL=js_6cc98b4251"
            ],
            "text/plain": [
              "<IPython.core.display.Javascript object>"
            ]
          },
          "metadata": {}
        },
        {
          "output_type": "display_data",
          "data": {
            "application/javascript": [
              "window[\"71c863bc-9da1-11ec-bdc8-0242ac1c0002\"] = google.colab.output.getActiveOutputArea();\n",
              "//# sourceURL=js_9185f0dec9"
            ],
            "text/plain": [
              "<IPython.core.display.Javascript object>"
            ]
          },
          "metadata": {}
        },
        {
          "output_type": "display_data",
          "data": {
            "application/javascript": [
              "window[\"71c8b948-9da1-11ec-bdc8-0242ac1c0002\"] = document.querySelector(\"#id18-0-0\");\n",
              "//# sourceURL=js_f2a50d1ba3"
            ],
            "text/plain": [
              "<IPython.core.display.Javascript object>"
            ]
          },
          "metadata": {}
        },
        {
          "output_type": "display_data",
          "data": {
            "application/javascript": [
              "window[\"71c90ae2-9da1-11ec-bdc8-0242ac1c0002\"] = google.colab.output.setActiveOutputArea(window[\"71c8b948-9da1-11ec-bdc8-0242ac1c0002\"]);\n",
              "//# sourceURL=js_92547dd09d"
            ],
            "text/plain": [
              "<IPython.core.display.Javascript object>"
            ]
          },
          "metadata": {}
        },
        {
          "output_type": "display_data",
          "data": {
            "application/javascript": [
              "window[\"71ea7f9c-9da1-11ec-bdc8-0242ac1c0002\"] = google.colab.output.setActiveOutputArea(window[\"71c863bc-9da1-11ec-bdc8-0242ac1c0002\"]);\n",
              "//# sourceURL=js_956036bd8c"
            ],
            "text/plain": [
              "<IPython.core.display.Javascript object>"
            ]
          },
          "metadata": {}
        },
        {
          "output_type": "display_data",
          "data": {
            "application/javascript": [
              "window[\"720d17a0-9da1-11ec-bdc8-0242ac1c0002\"] = google.colab.output.getActiveOutputArea();\n",
              "//# sourceURL=js_111e34dd8a"
            ],
            "text/plain": [
              "<IPython.core.display.Javascript object>"
            ]
          },
          "metadata": {}
        },
        {
          "output_type": "display_data",
          "data": {
            "application/javascript": [
              "window[\"720dab70-9da1-11ec-bdc8-0242ac1c0002\"] = document.querySelector(\"#id18-0-0\");\n",
              "//# sourceURL=js_e25655f1c4"
            ],
            "text/plain": [
              "<IPython.core.display.Javascript object>"
            ]
          },
          "metadata": {}
        },
        {
          "output_type": "display_data",
          "data": {
            "application/javascript": [
              "window[\"720e2898-9da1-11ec-bdc8-0242ac1c0002\"] = google.colab.output.setActiveOutputArea(window[\"720dab70-9da1-11ec-bdc8-0242ac1c0002\"]);\n",
              "//# sourceURL=js_f7de1cfacb"
            ],
            "text/plain": [
              "<IPython.core.display.Javascript object>"
            ]
          },
          "metadata": {}
        },
        {
          "output_type": "display_data",
          "data": {
            "image/png": "[encoded data removed]",
            "text/plain": [
              "<Figure size 432x288 with 1 Axes>"
            ]
          },
          "metadata": {
            "needs_background": "light"
          }
        },
        {
          "output_type": "display_data",
          "data": {
            "application/javascript": [
              "window[\"7237254a-9da1-11ec-bdc8-0242ac1c0002\"] = google.colab.output.setActiveOutputArea(window[\"720d17a0-9da1-11ec-bdc8-0242ac1c0002\"]);\n",
              "//# sourceURL=js_8e40bcb812"
            ],
            "text/plain": [
              "<IPython.core.display.Javascript object>"
            ]
          },
          "metadata": {}
        },
        {
          "output_type": "execute_result",
          "data": {
            "text/plain": [
              "<matplotlib.legend.Legend at 0x7f9c07be1ed0>"
            ]
          },
          "metadata": {},
          "execution_count": 12
        },
        {
          "output_type": "display_data",
          "data": {
            "image/png": "[encoded data removed]",
            "text/plain": [
              "<Figure size 432x288 with 1 Axes>"
            ]
          },
          "metadata": {
            "needs_background": "light"
          }
        }
      ]
    },
    {
      "cell_type": "code",
      "source": [
        "plt.imshow(QB.reshape(11,11))\n",
        "plt.colorbar()"
      ],
      "metadata": {
        "id": "ynhERHsC7-d5",
        "outputId": "796d6523-c920-4e15-8fe9-9ff2a7948184",
        "colab": {
          "base_uri": "https://localhost:8080/",
          "height": 287
        }
      },
      "execution_count": null,
      "outputs": [
        {
          "output_type": "execute_result",
          "data": {
            "text/plain": [
              "<matplotlib.colorbar.Colorbar at 0x7fbfea80cad0>"
            ]
          },
          "metadata": {},
          "execution_count": 10
        },
        {
          "output_type": "display_data",
          "data": {
            "image/png": "[encoded data removed]",
            "text/plain": [
              "<Figure size 432x288 with 2 Axes>"
            ]
          },
          "metadata": {
            "needs_background": "light"
          }
        }
      ]
    },
    {
      "cell_type": "code",
      "source": [
        ""
      ],
      "metadata": {
        "id": "80kN5v1W7_Sq"
      },
      "execution_count": null,
      "outputs": []
    }
  ],
  "metadata": {
    "colab": {
      "collapsed_sections": [],
      "name": "A1_deterministic_DQL.ipynb",
      "provenance": []
    },
    "kernelspec": {
      "display_name": "Python 3",
      "name": "python3"
    },
    "language_info": {
      "name": "python"
    }
  },
  "nbformat": 4,
  "nbformat_minor": 0
}