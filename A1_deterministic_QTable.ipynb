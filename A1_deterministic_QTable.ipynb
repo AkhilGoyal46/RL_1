{
  "cells": [
    {
      "cell_type": "code",
      "source": [
        "\"\"\"I certify that the code and data in this assignment were generated independently, using only the tools\n",
        "and resources defined in the course and that I did not receive any external help, coaching or contributions\n",
        "during the production of this work.\"\"\""
      ],
      "metadata": {
        "id": "1rKLXwpwP-8t"
      },
      "execution_count": null,
      "outputs": []
    },
    {
      "cell_type": "code",
      "execution_count": 12,
      "metadata": {
        "id": "vzLSDtlzL3mt"
      },
      "outputs": [],
      "source": [
        "import numpy as np\n",
        "import matplotlib.pyplot as plt\n",
        "import gym\n",
        "from gym import spaces\n",
        "from google.colab import widgets\n",
        "import time"
      ]
    },
    {
      "cell_type": "code",
      "execution_count": 13,
      "metadata": {
        "id": "vNy_7i2jL8VQ"
      },
      "outputs": [],
      "source": [
        "class GridEnvironment(gym.Env):\n",
        "    metadata = { 'render.modes': [] }\n",
        "    \n",
        "    def __init__(self):\n",
        "        self.observation_space = spaces.Discrete(121)\n",
        "        self.action_space = spaces.Discrete(4)\n",
        "        self.max_timesteps = 25\n",
        "        \n",
        "        \n",
        "    def map(self):\n",
        "        self.state[3,4:8] = -1\n",
        "        self.state[9:11,5:8] = -1\n",
        "        self.state[5:7,9:11] = -1\n",
        "        self.state[0,5] = -1\n",
        "        self.state[0,7] = -1\n",
        "        self.state[2,0] = -1\n",
        "        self.state[3,1] = -1\n",
        "        self.state[4,2] = -1\n",
        "        self.state[5,3] = -1\n",
        "        self.state[6,4] = -1\n",
        "        self.state[5,6] = 0.25\n",
        "        self.state[2,9] = 0.25\n",
        "\n",
        "    def setReward(self):\n",
        "        self.reward_mat[3,4:8] = -5\n",
        "        self.reward_mat[9:11,5:8] = -5\n",
        "        self.reward_mat[5:7,9:11] = -5\n",
        "        self.reward_mat[0,5] = -5\n",
        "        self.reward_mat[0,7] = -5\n",
        "        self.reward_mat[2,0] = -5\n",
        "        self.reward_mat[3,1] = -5\n",
        "        self.reward_mat[4,2] = -5\n",
        "        self.reward_mat[5,3] = -5\n",
        "        self.reward_mat[6,4] = -5\n",
        "        self.reward_mat[5,6] = 7\n",
        "        self.reward_mat[2,9] = 10\n",
        "        self.reward_mat[tuple(self.goal_pos)] = 20\n",
        " \n",
        "    def reset(self):\n",
        "        self.timestep = 0\n",
        "        self.start_pos=[6,2]\n",
        "        self.goal_pos = [0, 6]\n",
        "        \n",
        "        self.reward=0\n",
        "        self.state = np.zeros((11,11))\n",
        "\n",
        "        self.agent_pos = self.start_pos\n",
        "        \n",
        "        self.state = np.zeros((11,11))\n",
        "        self.reward_mat = np.zeros((11,11))\n",
        "        self.map()\n",
        "        self.setReward()\n",
        "        \n",
        "                \n",
        "        pos = (self.agent_pos[0]*10)+self.agent_pos[0]+self.agent_pos[1]\n",
        "        return pos\n",
        "    \n",
        "    def step(self, action):\n",
        "\n",
        "        if action == 0: self.agent_pos[0] -= 1\n",
        "        elif action == 1: self.agent_pos[0] += 1\n",
        "        elif action == 2: self.agent_pos[1] -= 1\n",
        "        elif action == 3: self.agent_pos[1] += 1\n",
        "          \n",
        "        self.agent_pos = np.clip(self.agent_pos, 0, 10)\n",
        "\n",
        "        pos = (self.agent_pos[0]*10)+self.agent_pos[0]+self.agent_pos[1]\n",
        "        self.state = np.zeros((11,11))\n",
        "        self.map()\n",
        "\n",
        "        self.state[tuple(self.goal_pos)] = 0.5\n",
        "        self.state[tuple(self.agent_pos)] = 1\n",
        "        \n",
        "        \n",
        "        observation = self.state.flatten()\n",
        "        \n",
        "        self.reward = self.reward_mat[tuple(self.agent_pos)]\n",
        "        if (self.reward>0):         \n",
        "          self.reward_mat[tuple(self.agent_pos)] = 0\n",
        "\n",
        "        self.timestep += 1\n",
        "        done = True if self.timestep >= self.max_timesteps else False\n",
        "        if ((self.agent_pos == self.goal_pos).all()):\n",
        "          done = True \n",
        "        info = {}\n",
        "        \n",
        "        return action, pos, self.reward -1 , done, info, self.timestep\n",
        "        \n",
        "    def render(self):\n",
        "        plt.imshow(self.state)"
      ]
    },
    {
      "cell_type": "code",
      "execution_count": 24,
      "metadata": {
        "id": "Czjyx0D_L-it"
      },
      "outputs": [],
      "source": [
        "class RandomAgent:\n",
        "  def __init__(self, env):\n",
        "    self.env = env\n",
        "    self.observation_space = env.observation_space\n",
        "    self.action_space = env.action_space\n",
        "    self.Q_table=np.zeros((121, 4))\n",
        "    self.prev_pos=0\n",
        "    self.alph = 0.25\n",
        "    self.gamm = 0.95\n",
        "\n",
        "  def update(self,action,reward,pos):\n",
        "    self.Q_table[self.prev_pos,action]= self.Q_table[self.prev_pos,action] + self.alph*(reward + self.gamm*np.max(self.Q_table[pos,:])-self.Q_table[self.prev_pos,action])\n",
        "    \n",
        "    return self.Q_table\n",
        "\n",
        "\n",
        "  def step(self, pos, episod, max_episod):\n",
        "    self.prev_pos = pos\n",
        "    ep = np.exp(-8*episod/max_episod)\n",
        "    pb=0.25*ep*np.ones(4)\n",
        "    pb[np.argmax(self.Q_table[pos,:])] += 1 - ep\n",
        "    pb= pb/np.sum(pb)\n",
        "    return np.random.choice(self.action_space.n, p = pb) ,ep\n",
        "    "
      ]
    },
    {
      "cell_type": "code",
      "execution_count": 26,
      "metadata": {
        "colab": {
          "base_uri": "https://localhost:8080/",
          "height": 1000
        },
        "id": "o333bWhuNIH3",
        "outputId": "59ffca18-93fa-43dc-978e-542aca8a171a"
      },
      "outputs": [
        {
          "output_type": "display_data",
          "data": {
            "text/html": [
              "<style>\n",
              "       table#id24, #id24 > tbody > tr > th, #id24 > tbody > tr > td {\n",
              "         border: 1px solid lightgray;\n",
              "         border-collapse:collapse;\n",
              "         \n",
              "        }</style>"
            ],
            "text/plain": [
              "<IPython.core.display.HTML object>"
            ]
          },
          "metadata": {}
        },
        {
          "output_type": "display_data",
          "data": {
            "text/html": [
              "<table id=id24><tr><td id=id24-0-0></td></tr></table>"
            ],
            "text/plain": [
              "<IPython.core.display.HTML object>"
            ]
          },
          "metadata": {}
        },
        {
          "output_type": "display_data",
          "data": {
            "application/javascript": [
              "window[\"96e211ce-9dbb-11ec-b1b6-0242ac1c0002\"] = google.colab.output.getActiveOutputArea();\n",
              "//# sourceURL=js_2b2adba189"
            ],
            "text/plain": [
              "<IPython.core.display.Javascript object>"
            ]
          },
          "metadata": {}
        },
        {
          "output_type": "display_data",
          "data": {
            "application/javascript": [
              "window[\"96e2a7b0-9dbb-11ec-b1b6-0242ac1c0002\"] = document.querySelector(\"#id24-0-0\");\n",
              "//# sourceURL=js_4c27b55a59"
            ],
            "text/plain": [
              "<IPython.core.display.Javascript object>"
            ]
          },
          "metadata": {}
        },
        {
          "output_type": "display_data",
          "data": {
            "application/javascript": [
              "window[\"96e329d8-9dbb-11ec-b1b6-0242ac1c0002\"] = google.colab.output.setActiveOutputArea(window[\"96e2a7b0-9dbb-11ec-b1b6-0242ac1c0002\"]);\n",
              "//# sourceURL=js_29c3323842"
            ],
            "text/plain": [
              "<IPython.core.display.Javascript object>"
            ]
          },
          "metadata": {}
        },
        {
          "output_type": "display_data",
          "data": {
            "application/javascript": [
              "window[\"9703f550-9dbb-11ec-b1b6-0242ac1c0002\"] = google.colab.output.setActiveOutputArea(window[\"96e211ce-9dbb-11ec-b1b6-0242ac1c0002\"]);\n",
              "//# sourceURL=js_7dd03d5427"
            ],
            "text/plain": [
              "<IPython.core.display.Javascript object>"
            ]
          },
          "metadata": {}
        },
        {
          "output_type": "display_data",
          "data": {
            "application/javascript": [
              "window[\"97066baa-9dbb-11ec-b1b6-0242ac1c0002\"] = google.colab.output.getActiveOutputArea();\n",
              "//# sourceURL=js_a924d2e052"
            ],
            "text/plain": [
              "<IPython.core.display.Javascript object>"
            ]
          },
          "metadata": {}
        },
        {
          "output_type": "display_data",
          "data": {
            "application/javascript": [
              "window[\"9706c67c-9dbb-11ec-b1b6-0242ac1c0002\"] = document.querySelector(\"#id24-0-0\");\n",
              "//# sourceURL=js_e473ee3403"
            ],
            "text/plain": [
              "<IPython.core.display.Javascript object>"
            ]
          },
          "metadata": {}
        },
        {
          "output_type": "display_data",
          "data": {
            "application/javascript": [
              "window[\"97071e56-9dbb-11ec-b1b6-0242ac1c0002\"] = google.colab.output.setActiveOutputArea(window[\"9706c67c-9dbb-11ec-b1b6-0242ac1c0002\"]);\n",
              "//# sourceURL=js_fd3e0f1d18"
            ],
            "text/plain": [
              "<IPython.core.display.Javascript object>"
            ]
          },
          "metadata": {}
        },
        {
          "output_type": "display_data",
          "data": {
            "application/javascript": [
              "window[\"972524b4-9dbb-11ec-b1b6-0242ac1c0002\"] = google.colab.output.setActiveOutputArea(window[\"97066baa-9dbb-11ec-b1b6-0242ac1c0002\"]);\n",
              "//# sourceURL=js_6bcd43de04"
            ],
            "text/plain": [
              "<IPython.core.display.Javascript object>"
            ]
          },
          "metadata": {}
        },
        {
          "output_type": "display_data",
          "data": {
            "application/javascript": [
              "window[\"97466b74-9dbb-11ec-b1b6-0242ac1c0002\"] = google.colab.output.getActiveOutputArea();\n",
              "//# sourceURL=js_128ae79e79"
            ],
            "text/plain": [
              "<IPython.core.display.Javascript object>"
            ]
          },
          "metadata": {}
        },
        {
          "output_type": "display_data",
          "data": {
            "application/javascript": [
              "window[\"9746eda6-9dbb-11ec-b1b6-0242ac1c0002\"] = document.querySelector(\"#id24-0-0\");\n",
              "//# sourceURL=js_f448adbc1c"
            ],
            "text/plain": [
              "<IPython.core.display.Javascript object>"
            ]
          },
          "metadata": {}
        },
        {
          "output_type": "display_data",
          "data": {
            "application/javascript": [
              "window[\"9747846e-9dbb-11ec-b1b6-0242ac1c0002\"] = google.colab.output.setActiveOutputArea(window[\"9746eda6-9dbb-11ec-b1b6-0242ac1c0002\"]);\n",
              "//# sourceURL=js_4c96eda351"
            ],
            "text/plain": [
              "<IPython.core.display.Javascript object>"
            ]
          },
          "metadata": {}
        },
        {
          "output_type": "display_data",
          "data": {
            "application/javascript": [
              "window[\"97633664-9dbb-11ec-b1b6-0242ac1c0002\"] = google.colab.output.setActiveOutputArea(window[\"97466b74-9dbb-11ec-b1b6-0242ac1c0002\"]);\n",
              "//# sourceURL=js_9be293ab23"
            ],
            "text/plain": [
              "<IPython.core.display.Javascript object>"
            ]
          },
          "metadata": {}
        },
        {
          "output_type": "display_data",
          "data": {
            "application/javascript": [
              "window[\"97845614-9dbb-11ec-b1b6-0242ac1c0002\"] = google.colab.output.getActiveOutputArea();\n",
              "//# sourceURL=js_4db921029e"
            ],
            "text/plain": [
              "<IPython.core.display.Javascript object>"
            ]
          },
          "metadata": {}
        },
        {
          "output_type": "display_data",
          "data": {
            "application/javascript": [
              "window[\"9784ef7a-9dbb-11ec-b1b6-0242ac1c0002\"] = document.querySelector(\"#id24-0-0\");\n",
              "//# sourceURL=js_a5bdbd464b"
            ],
            "text/plain": [
              "<IPython.core.display.Javascript object>"
            ]
          },
          "metadata": {}
        },
        {
          "output_type": "display_data",
          "data": {
            "application/javascript": [
              "window[\"97856f40-9dbb-11ec-b1b6-0242ac1c0002\"] = google.colab.output.setActiveOutputArea(window[\"9784ef7a-9dbb-11ec-b1b6-0242ac1c0002\"]);\n",
              "//# sourceURL=js_839ae1af6c"
            ],
            "text/plain": [
              "<IPython.core.display.Javascript object>"
            ]
          },
          "metadata": {}
        },
        {
          "output_type": "display_data",
          "data": {
            "application/javascript": [
              "window[\"97a4d43e-9dbb-11ec-b1b6-0242ac1c0002\"] = google.colab.output.setActiveOutputArea(window[\"97845614-9dbb-11ec-b1b6-0242ac1c0002\"]);\n",
              "//# sourceURL=js_f0f7f16dae"
            ],
            "text/plain": [
              "<IPython.core.display.Javascript object>"
            ]
          },
          "metadata": {}
        },
        {
          "output_type": "display_data",
          "data": {
            "application/javascript": [
              "window[\"97c72bba-9dbb-11ec-b1b6-0242ac1c0002\"] = google.colab.output.getActiveOutputArea();\n",
              "//# sourceURL=js_20cb35cabb"
            ],
            "text/plain": [
              "<IPython.core.display.Javascript object>"
            ]
          },
          "metadata": {}
        },
        {
          "output_type": "display_data",
          "data": {
            "application/javascript": [
              "window[\"97c7cf3e-9dbb-11ec-b1b6-0242ac1c0002\"] = document.querySelector(\"#id24-0-0\");\n",
              "//# sourceURL=js_ad5dbf1c1e"
            ],
            "text/plain": [
              "<IPython.core.display.Javascript object>"
            ]
          },
          "metadata": {}
        },
        {
          "output_type": "display_data",
          "data": {
            "application/javascript": [
              "window[\"97c84644-9dbb-11ec-b1b6-0242ac1c0002\"] = google.colab.output.setActiveOutputArea(window[\"97c7cf3e-9dbb-11ec-b1b6-0242ac1c0002\"]);\n",
              "//# sourceURL=js_210459b609"
            ],
            "text/plain": [
              "<IPython.core.display.Javascript object>"
            ]
          },
          "metadata": {}
        },
        {
          "output_type": "display_data",
          "data": {
            "application/javascript": [
              "window[\"97e68154-9dbb-11ec-b1b6-0242ac1c0002\"] = google.colab.output.setActiveOutputArea(window[\"97c72bba-9dbb-11ec-b1b6-0242ac1c0002\"]);\n",
              "//# sourceURL=js_52f3f574da"
            ],
            "text/plain": [
              "<IPython.core.display.Javascript object>"
            ]
          },
          "metadata": {}
        },
        {
          "output_type": "display_data",
          "data": {
            "application/javascript": [
              "window[\"980997a2-9dbb-11ec-b1b6-0242ac1c0002\"] = google.colab.output.getActiveOutputArea();\n",
              "//# sourceURL=js_2eb86fdd51"
            ],
            "text/plain": [
              "<IPython.core.display.Javascript object>"
            ]
          },
          "metadata": {}
        },
        {
          "output_type": "display_data",
          "data": {
            "application/javascript": [
              "window[\"980a4f58-9dbb-11ec-b1b6-0242ac1c0002\"] = document.querySelector(\"#id24-0-0\");\n",
              "//# sourceURL=js_5a2bd634f6"
            ],
            "text/plain": [
              "<IPython.core.display.Javascript object>"
            ]
          },
          "metadata": {}
        },
        {
          "output_type": "display_data",
          "data": {
            "application/javascript": [
              "window[\"980abf7e-9dbb-11ec-b1b6-0242ac1c0002\"] = google.colab.output.setActiveOutputArea(window[\"980a4f58-9dbb-11ec-b1b6-0242ac1c0002\"]);\n",
              "//# sourceURL=js_ce3ce0d113"
            ],
            "text/plain": [
              "<IPython.core.display.Javascript object>"
            ]
          },
          "metadata": {}
        },
        {
          "output_type": "display_data",
          "data": {
            "application/javascript": [
              "window[\"9827c6be-9dbb-11ec-b1b6-0242ac1c0002\"] = google.colab.output.setActiveOutputArea(window[\"980997a2-9dbb-11ec-b1b6-0242ac1c0002\"]);\n",
              "//# sourceURL=js_8a2728b62d"
            ],
            "text/plain": [
              "<IPython.core.display.Javascript object>"
            ]
          },
          "metadata": {}
        },
        {
          "output_type": "display_data",
          "data": {
            "application/javascript": [
              "window[\"984ab14c-9dbb-11ec-b1b6-0242ac1c0002\"] = google.colab.output.getActiveOutputArea();\n",
              "//# sourceURL=js_95054e963f"
            ],
            "text/plain": [
              "<IPython.core.display.Javascript object>"
            ]
          },
          "metadata": {}
        },
        {
          "output_type": "display_data",
          "data": {
            "application/javascript": [
              "window[\"984b3e46-9dbb-11ec-b1b6-0242ac1c0002\"] = document.querySelector(\"#id24-0-0\");\n",
              "//# sourceURL=js_d86f570f2d"
            ],
            "text/plain": [
              "<IPython.core.display.Javascript object>"
            ]
          },
          "metadata": {}
        },
        {
          "output_type": "display_data",
          "data": {
            "application/javascript": [
              "window[\"984bb1b4-9dbb-11ec-b1b6-0242ac1c0002\"] = google.colab.output.setActiveOutputArea(window[\"984b3e46-9dbb-11ec-b1b6-0242ac1c0002\"]);\n",
              "//# sourceURL=js_4763a50274"
            ],
            "text/plain": [
              "<IPython.core.display.Javascript object>"
            ]
          },
          "metadata": {}
        },
        {
          "output_type": "display_data",
          "data": {
            "application/javascript": [
              "window[\"986a40e8-9dbb-11ec-b1b6-0242ac1c0002\"] = google.colab.output.setActiveOutputArea(window[\"984ab14c-9dbb-11ec-b1b6-0242ac1c0002\"]);\n",
              "//# sourceURL=js_cc034891f7"
            ],
            "text/plain": [
              "<IPython.core.display.Javascript object>"
            ]
          },
          "metadata": {}
        },
        {
          "output_type": "display_data",
          "data": {
            "application/javascript": [
              "window[\"988c8806-9dbb-11ec-b1b6-0242ac1c0002\"] = google.colab.output.getActiveOutputArea();\n",
              "//# sourceURL=js_50f9caeac4"
            ],
            "text/plain": [
              "<IPython.core.display.Javascript object>"
            ]
          },
          "metadata": {}
        },
        {
          "output_type": "display_data",
          "data": {
            "application/javascript": [
              "window[\"988d3170-9dbb-11ec-b1b6-0242ac1c0002\"] = document.querySelector(\"#id24-0-0\");\n",
              "//# sourceURL=js_489f86caae"
            ],
            "text/plain": [
              "<IPython.core.display.Javascript object>"
            ]
          },
          "metadata": {}
        },
        {
          "output_type": "display_data",
          "data": {
            "application/javascript": [
              "window[\"988e23e6-9dbb-11ec-b1b6-0242ac1c0002\"] = google.colab.output.setActiveOutputArea(window[\"988d3170-9dbb-11ec-b1b6-0242ac1c0002\"]);\n",
              "//# sourceURL=js_44aa8a69d6"
            ],
            "text/plain": [
              "<IPython.core.display.Javascript object>"
            ]
          },
          "metadata": {}
        },
        {
          "output_type": "display_data",
          "data": {
            "application/javascript": [
              "window[\"98ab62a8-9dbb-11ec-b1b6-0242ac1c0002\"] = google.colab.output.setActiveOutputArea(window[\"988c8806-9dbb-11ec-b1b6-0242ac1c0002\"]);\n",
              "//# sourceURL=js_deeb19fd0b"
            ],
            "text/plain": [
              "<IPython.core.display.Javascript object>"
            ]
          },
          "metadata": {}
        },
        {
          "output_type": "display_data",
          "data": {
            "application/javascript": [
              "window[\"98cc8960-9dbb-11ec-b1b6-0242ac1c0002\"] = google.colab.output.getActiveOutputArea();\n",
              "//# sourceURL=js_b5f27b40ff"
            ],
            "text/plain": [
              "<IPython.core.display.Javascript object>"
            ]
          },
          "metadata": {}
        },
        {
          "output_type": "display_data",
          "data": {
            "application/javascript": [
              "window[\"98ccf8e6-9dbb-11ec-b1b6-0242ac1c0002\"] = document.querySelector(\"#id24-0-0\");\n",
              "//# sourceURL=js_59dec85741"
            ],
            "text/plain": [
              "<IPython.core.display.Javascript object>"
            ]
          },
          "metadata": {}
        },
        {
          "output_type": "display_data",
          "data": {
            "application/javascript": [
              "window[\"98cd8860-9dbb-11ec-b1b6-0242ac1c0002\"] = google.colab.output.setActiveOutputArea(window[\"98ccf8e6-9dbb-11ec-b1b6-0242ac1c0002\"]);\n",
              "//# sourceURL=js_29a629ab3d"
            ],
            "text/plain": [
              "<IPython.core.display.Javascript object>"
            ]
          },
          "metadata": {}
        },
        {
          "output_type": "display_data",
          "data": {
            "application/javascript": [
              "window[\"98eb4f58-9dbb-11ec-b1b6-0242ac1c0002\"] = google.colab.output.setActiveOutputArea(window[\"98cc8960-9dbb-11ec-b1b6-0242ac1c0002\"]);\n",
              "//# sourceURL=js_c707bef891"
            ],
            "text/plain": [
              "<IPython.core.display.Javascript object>"
            ]
          },
          "metadata": {}
        },
        {
          "output_type": "display_data",
          "data": {
            "application/javascript": [
              "window[\"990cbbde-9dbb-11ec-b1b6-0242ac1c0002\"] = google.colab.output.getActiveOutputArea();\n",
              "//# sourceURL=js_d5073fb7df"
            ],
            "text/plain": [
              "<IPython.core.display.Javascript object>"
            ]
          },
          "metadata": {}
        },
        {
          "output_type": "display_data",
          "data": {
            "application/javascript": [
              "window[\"990d4158-9dbb-11ec-b1b6-0242ac1c0002\"] = document.querySelector(\"#id24-0-0\");\n",
              "//# sourceURL=js_9028674ecb"
            ],
            "text/plain": [
              "<IPython.core.display.Javascript object>"
            ]
          },
          "metadata": {}
        },
        {
          "output_type": "display_data",
          "data": {
            "application/javascript": [
              "window[\"990dbbe2-9dbb-11ec-b1b6-0242ac1c0002\"] = google.colab.output.setActiveOutputArea(window[\"990d4158-9dbb-11ec-b1b6-0242ac1c0002\"]);\n",
              "//# sourceURL=js_2a8e3a4dc1"
            ],
            "text/plain": [
              "<IPython.core.display.Javascript object>"
            ]
          },
          "metadata": {}
        },
        {
          "output_type": "display_data",
          "data": {
            "application/javascript": [
              "window[\"99298b24-9dbb-11ec-b1b6-0242ac1c0002\"] = google.colab.output.setActiveOutputArea(window[\"990cbbde-9dbb-11ec-b1b6-0242ac1c0002\"]);\n",
              "//# sourceURL=js_735c71964e"
            ],
            "text/plain": [
              "<IPython.core.display.Javascript object>"
            ]
          },
          "metadata": {}
        },
        {
          "output_type": "display_data",
          "data": {
            "application/javascript": [
              "window[\"994af142-9dbb-11ec-b1b6-0242ac1c0002\"] = google.colab.output.getActiveOutputArea();\n",
              "//# sourceURL=js_d3449b03a5"
            ],
            "text/plain": [
              "<IPython.core.display.Javascript object>"
            ]
          },
          "metadata": {}
        },
        {
          "output_type": "display_data",
          "data": {
            "application/javascript": [
              "window[\"994b8efe-9dbb-11ec-b1b6-0242ac1c0002\"] = document.querySelector(\"#id24-0-0\");\n",
              "//# sourceURL=js_270a502942"
            ],
            "text/plain": [
              "<IPython.core.display.Javascript object>"
            ]
          },
          "metadata": {}
        },
        {
          "output_type": "display_data",
          "data": {
            "application/javascript": [
              "window[\"994bf006-9dbb-11ec-b1b6-0242ac1c0002\"] = google.colab.output.setActiveOutputArea(window[\"994b8efe-9dbb-11ec-b1b6-0242ac1c0002\"]);\n",
              "//# sourceURL=js_4e639fcf11"
            ],
            "text/plain": [
              "<IPython.core.display.Javascript object>"
            ]
          },
          "metadata": {}
        },
        {
          "output_type": "display_data",
          "data": {
            "application/javascript": [
              "window[\"9968ddd8-9dbb-11ec-b1b6-0242ac1c0002\"] = google.colab.output.setActiveOutputArea(window[\"994af142-9dbb-11ec-b1b6-0242ac1c0002\"]);\n",
              "//# sourceURL=js_df23f97030"
            ],
            "text/plain": [
              "<IPython.core.display.Javascript object>"
            ]
          },
          "metadata": {}
        },
        {
          "output_type": "display_data",
          "data": {
            "application/javascript": [
              "window[\"998bb42a-9dbb-11ec-b1b6-0242ac1c0002\"] = google.colab.output.getActiveOutputArea();\n",
              "//# sourceURL=js_417a93a339"
            ],
            "text/plain": [
              "<IPython.core.display.Javascript object>"
            ]
          },
          "metadata": {}
        },
        {
          "output_type": "display_data",
          "data": {
            "application/javascript": [
              "window[\"998c86a2-9dbb-11ec-b1b6-0242ac1c0002\"] = document.querySelector(\"#id24-0-0\");\n",
              "//# sourceURL=js_0ba7f40a89"
            ],
            "text/plain": [
              "<IPython.core.display.Javascript object>"
            ]
          },
          "metadata": {}
        },
        {
          "output_type": "display_data",
          "data": {
            "application/javascript": [
              "window[\"998d288c-9dbb-11ec-b1b6-0242ac1c0002\"] = google.colab.output.setActiveOutputArea(window[\"998c86a2-9dbb-11ec-b1b6-0242ac1c0002\"]);\n",
              "//# sourceURL=js_1c799224e2"
            ],
            "text/plain": [
              "<IPython.core.display.Javascript object>"
            ]
          },
          "metadata": {}
        },
        {
          "output_type": "display_data",
          "data": {
            "application/javascript": [
              "window[\"99a9396e-9dbb-11ec-b1b6-0242ac1c0002\"] = google.colab.output.setActiveOutputArea(window[\"998bb42a-9dbb-11ec-b1b6-0242ac1c0002\"]);\n",
              "//# sourceURL=js_8b28673836"
            ],
            "text/plain": [
              "<IPython.core.display.Javascript object>"
            ]
          },
          "metadata": {}
        },
        {
          "output_type": "display_data",
          "data": {
            "application/javascript": [
              "window[\"99ca1bc0-9dbb-11ec-b1b6-0242ac1c0002\"] = google.colab.output.getActiveOutputArea();\n",
              "//# sourceURL=js_39ac463b30"
            ],
            "text/plain": [
              "<IPython.core.display.Javascript object>"
            ]
          },
          "metadata": {}
        },
        {
          "output_type": "display_data",
          "data": {
            "application/javascript": [
              "window[\"99ca9168-9dbb-11ec-b1b6-0242ac1c0002\"] = document.querySelector(\"#id24-0-0\");\n",
              "//# sourceURL=js_50c4e2f40a"
            ],
            "text/plain": [
              "<IPython.core.display.Javascript object>"
            ]
          },
          "metadata": {}
        },
        {
          "output_type": "display_data",
          "data": {
            "application/javascript": [
              "window[\"99cafd7e-9dbb-11ec-b1b6-0242ac1c0002\"] = google.colab.output.setActiveOutputArea(window[\"99ca9168-9dbb-11ec-b1b6-0242ac1c0002\"]);\n",
              "//# sourceURL=js_3b57a5f737"
            ],
            "text/plain": [
              "<IPython.core.display.Javascript object>"
            ]
          },
          "metadata": {}
        },
        {
          "output_type": "display_data",
          "data": {
            "application/javascript": [
              "window[\"99f07162-9dbb-11ec-b1b6-0242ac1c0002\"] = google.colab.output.setActiveOutputArea(window[\"99ca1bc0-9dbb-11ec-b1b6-0242ac1c0002\"]);\n",
              "//# sourceURL=js_34522fe48a"
            ],
            "text/plain": [
              "<IPython.core.display.Javascript object>"
            ]
          },
          "metadata": {}
        },
        {
          "output_type": "display_data",
          "data": {
            "application/javascript": [
              "window[\"9a11cbaa-9dbb-11ec-b1b6-0242ac1c0002\"] = google.colab.output.getActiveOutputArea();\n",
              "//# sourceURL=js_95293d34d2"
            ],
            "text/plain": [
              "<IPython.core.display.Javascript object>"
            ]
          },
          "metadata": {}
        },
        {
          "output_type": "display_data",
          "data": {
            "application/javascript": [
              "window[\"9a1216c8-9dbb-11ec-b1b6-0242ac1c0002\"] = document.querySelector(\"#id24-0-0\");\n",
              "//# sourceURL=js_a1c3776373"
            ],
            "text/plain": [
              "<IPython.core.display.Javascript object>"
            ]
          },
          "metadata": {}
        },
        {
          "output_type": "display_data",
          "data": {
            "application/javascript": [
              "window[\"9a128e8c-9dbb-11ec-b1b6-0242ac1c0002\"] = google.colab.output.setActiveOutputArea(window[\"9a1216c8-9dbb-11ec-b1b6-0242ac1c0002\"]);\n",
              "//# sourceURL=js_35a21fc1fc"
            ],
            "text/plain": [
              "<IPython.core.display.Javascript object>"
            ]
          },
          "metadata": {}
        },
        {
          "output_type": "display_data",
          "data": {
            "application/javascript": [
              "window[\"9a300c46-9dbb-11ec-b1b6-0242ac1c0002\"] = google.colab.output.setActiveOutputArea(window[\"9a11cbaa-9dbb-11ec-b1b6-0242ac1c0002\"]);\n",
              "//# sourceURL=js_48208b9141"
            ],
            "text/plain": [
              "<IPython.core.display.Javascript object>"
            ]
          },
          "metadata": {}
        },
        {
          "output_type": "display_data",
          "data": {
            "application/javascript": [
              "window[\"9a52c1e6-9dbb-11ec-b1b6-0242ac1c0002\"] = google.colab.output.getActiveOutputArea();\n",
              "//# sourceURL=js_270bd45b2e"
            ],
            "text/plain": [
              "<IPython.core.display.Javascript object>"
            ]
          },
          "metadata": {}
        },
        {
          "output_type": "display_data",
          "data": {
            "application/javascript": [
              "window[\"9a537ece-9dbb-11ec-b1b6-0242ac1c0002\"] = document.querySelector(\"#id24-0-0\");\n",
              "//# sourceURL=js_973d20b17b"
            ],
            "text/plain": [
              "<IPython.core.display.Javascript object>"
            ]
          },
          "metadata": {}
        },
        {
          "output_type": "display_data",
          "data": {
            "application/javascript": [
              "window[\"9a542b26-9dbb-11ec-b1b6-0242ac1c0002\"] = google.colab.output.setActiveOutputArea(window[\"9a537ece-9dbb-11ec-b1b6-0242ac1c0002\"]);\n",
              "//# sourceURL=js_6feee2dde7"
            ],
            "text/plain": [
              "<IPython.core.display.Javascript object>"
            ]
          },
          "metadata": {}
        },
        {
          "output_type": "display_data",
          "data": {
            "application/javascript": [
              "window[\"9a7154e4-9dbb-11ec-b1b6-0242ac1c0002\"] = google.colab.output.setActiveOutputArea(window[\"9a52c1e6-9dbb-11ec-b1b6-0242ac1c0002\"]);\n",
              "//# sourceURL=js_d742dadccf"
            ],
            "text/plain": [
              "<IPython.core.display.Javascript object>"
            ]
          },
          "metadata": {}
        },
        {
          "output_type": "display_data",
          "data": {
            "application/javascript": [
              "window[\"9a9446f2-9dbb-11ec-b1b6-0242ac1c0002\"] = google.colab.output.getActiveOutputArea();\n",
              "//# sourceURL=js_9970dcf365"
            ],
            "text/plain": [
              "<IPython.core.display.Javascript object>"
            ]
          },
          "metadata": {}
        },
        {
          "output_type": "display_data",
          "data": {
            "application/javascript": [
              "window[\"9a94fd40-9dbb-11ec-b1b6-0242ac1c0002\"] = document.querySelector(\"#id24-0-0\");\n",
              "//# sourceURL=js_f80dc8762b"
            ],
            "text/plain": [
              "<IPython.core.display.Javascript object>"
            ]
          },
          "metadata": {}
        },
        {
          "output_type": "display_data",
          "data": {
            "application/javascript": [
              "window[\"9a95669a-9dbb-11ec-b1b6-0242ac1c0002\"] = google.colab.output.setActiveOutputArea(window[\"9a94fd40-9dbb-11ec-b1b6-0242ac1c0002\"]);\n",
              "//# sourceURL=js_e0123d3af0"
            ],
            "text/plain": [
              "<IPython.core.display.Javascript object>"
            ]
          },
          "metadata": {}
        },
        {
          "output_type": "display_data",
          "data": {
            "application/javascript": [
              "window[\"9ab2fc32-9dbb-11ec-b1b6-0242ac1c0002\"] = google.colab.output.setActiveOutputArea(window[\"9a9446f2-9dbb-11ec-b1b6-0242ac1c0002\"]);\n",
              "//# sourceURL=js_f6b2dcc3e3"
            ],
            "text/plain": [
              "<IPython.core.display.Javascript object>"
            ]
          },
          "metadata": {}
        },
        {
          "output_type": "display_data",
          "data": {
            "application/javascript": [
              "window[\"9ad420a6-9dbb-11ec-b1b6-0242ac1c0002\"] = google.colab.output.getActiveOutputArea();\n",
              "//# sourceURL=js_adc8ea9fa8"
            ],
            "text/plain": [
              "<IPython.core.display.Javascript object>"
            ]
          },
          "metadata": {}
        },
        {
          "output_type": "display_data",
          "data": {
            "application/javascript": [
              "window[\"9ad508b8-9dbb-11ec-b1b6-0242ac1c0002\"] = document.querySelector(\"#id24-0-0\");\n",
              "//# sourceURL=js_66a2788090"
            ],
            "text/plain": [
              "<IPython.core.display.Javascript object>"
            ]
          },
          "metadata": {}
        },
        {
          "output_type": "display_data",
          "data": {
            "application/javascript": [
              "window[\"9ad5c08c-9dbb-11ec-b1b6-0242ac1c0002\"] = google.colab.output.setActiveOutputArea(window[\"9ad508b8-9dbb-11ec-b1b6-0242ac1c0002\"]);\n",
              "//# sourceURL=js_c2ba66e63f"
            ],
            "text/plain": [
              "<IPython.core.display.Javascript object>"
            ]
          },
          "metadata": {}
        },
        {
          "output_type": "display_data",
          "data": {
            "application/javascript": [
              "window[\"9af20b3e-9dbb-11ec-b1b6-0242ac1c0002\"] = google.colab.output.setActiveOutputArea(window[\"9ad420a6-9dbb-11ec-b1b6-0242ac1c0002\"]);\n",
              "//# sourceURL=js_62a0f58d13"
            ],
            "text/plain": [
              "<IPython.core.display.Javascript object>"
            ]
          },
          "metadata": {}
        },
        {
          "output_type": "display_data",
          "data": {
            "application/javascript": [
              "window[\"9b14e820-9dbb-11ec-b1b6-0242ac1c0002\"] = google.colab.output.getActiveOutputArea();\n",
              "//# sourceURL=js_a311a0cffa"
            ],
            "text/plain": [
              "<IPython.core.display.Javascript object>"
            ]
          },
          "metadata": {}
        },
        {
          "output_type": "display_data",
          "data": {
            "application/javascript": [
              "window[\"9b15879e-9dbb-11ec-b1b6-0242ac1c0002\"] = document.querySelector(\"#id24-0-0\");\n",
              "//# sourceURL=js_459216a1b0"
            ],
            "text/plain": [
              "<IPython.core.display.Javascript object>"
            ]
          },
          "metadata": {}
        },
        {
          "output_type": "display_data",
          "data": {
            "application/javascript": [
              "window[\"9b165674-9dbb-11ec-b1b6-0242ac1c0002\"] = google.colab.output.setActiveOutputArea(window[\"9b15879e-9dbb-11ec-b1b6-0242ac1c0002\"]);\n",
              "//# sourceURL=js_599a4e02b9"
            ],
            "text/plain": [
              "<IPython.core.display.Javascript object>"
            ]
          },
          "metadata": {}
        },
        {
          "output_type": "display_data",
          "data": {
            "application/javascript": [
              "window[\"9b3368b8-9dbb-11ec-b1b6-0242ac1c0002\"] = google.colab.output.setActiveOutputArea(window[\"9b14e820-9dbb-11ec-b1b6-0242ac1c0002\"]);\n",
              "//# sourceURL=js_7a65b48528"
            ],
            "text/plain": [
              "<IPython.core.display.Javascript object>"
            ]
          },
          "metadata": {}
        },
        {
          "output_type": "display_data",
          "data": {
            "application/javascript": [
              "window[\"9b56fb16-9dbb-11ec-b1b6-0242ac1c0002\"] = google.colab.output.getActiveOutputArea();\n",
              "//# sourceURL=js_a6dc231503"
            ],
            "text/plain": [
              "<IPython.core.display.Javascript object>"
            ]
          },
          "metadata": {}
        },
        {
          "output_type": "display_data",
          "data": {
            "application/javascript": [
              "window[\"9b579724-9dbb-11ec-b1b6-0242ac1c0002\"] = document.querySelector(\"#id24-0-0\");\n",
              "//# sourceURL=js_15f00b42bb"
            ],
            "text/plain": [
              "<IPython.core.display.Javascript object>"
            ]
          },
          "metadata": {}
        },
        {
          "output_type": "display_data",
          "data": {
            "application/javascript": [
              "window[\"9b582b3a-9dbb-11ec-b1b6-0242ac1c0002\"] = google.colab.output.setActiveOutputArea(window[\"9b579724-9dbb-11ec-b1b6-0242ac1c0002\"]);\n",
              "//# sourceURL=js_0eb0845cc0"
            ],
            "text/plain": [
              "<IPython.core.display.Javascript object>"
            ]
          },
          "metadata": {}
        },
        {
          "output_type": "display_data",
          "data": {
            "application/javascript": [
              "window[\"9b764a20-9dbb-11ec-b1b6-0242ac1c0002\"] = google.colab.output.setActiveOutputArea(window[\"9b56fb16-9dbb-11ec-b1b6-0242ac1c0002\"]);\n",
              "//# sourceURL=js_477b48dd6e"
            ],
            "text/plain": [
              "<IPython.core.display.Javascript object>"
            ]
          },
          "metadata": {}
        },
        {
          "output_type": "display_data",
          "data": {
            "application/javascript": [
              "window[\"9b9789ec-9dbb-11ec-b1b6-0242ac1c0002\"] = google.colab.output.getActiveOutputArea();\n",
              "//# sourceURL=js_6f5ff43096"
            ],
            "text/plain": [
              "<IPython.core.display.Javascript object>"
            ]
          },
          "metadata": {}
        },
        {
          "output_type": "display_data",
          "data": {
            "application/javascript": [
              "window[\"9b9847ce-9dbb-11ec-b1b6-0242ac1c0002\"] = document.querySelector(\"#id24-0-0\");\n",
              "//# sourceURL=js_8d1a7dd624"
            ],
            "text/plain": [
              "<IPython.core.display.Javascript object>"
            ]
          },
          "metadata": {}
        },
        {
          "output_type": "display_data",
          "data": {
            "application/javascript": [
              "window[\"9b99b762-9dbb-11ec-b1b6-0242ac1c0002\"] = google.colab.output.setActiveOutputArea(window[\"9b9847ce-9dbb-11ec-b1b6-0242ac1c0002\"]);\n",
              "//# sourceURL=js_89de601ab1"
            ],
            "text/plain": [
              "<IPython.core.display.Javascript object>"
            ]
          },
          "metadata": {}
        },
        {
          "output_type": "display_data",
          "data": {
            "application/javascript": [
              "window[\"9bb5f80a-9dbb-11ec-b1b6-0242ac1c0002\"] = google.colab.output.setActiveOutputArea(window[\"9b9789ec-9dbb-11ec-b1b6-0242ac1c0002\"]);\n",
              "//# sourceURL=js_ddd6aba98a"
            ],
            "text/plain": [
              "<IPython.core.display.Javascript object>"
            ]
          },
          "metadata": {}
        },
        {
          "output_type": "display_data",
          "data": {
            "application/javascript": [
              "window[\"9bd76b20-9dbb-11ec-b1b6-0242ac1c0002\"] = google.colab.output.getActiveOutputArea();\n",
              "//# sourceURL=js_69a3fb7dfc"
            ],
            "text/plain": [
              "<IPython.core.display.Javascript object>"
            ]
          },
          "metadata": {}
        },
        {
          "output_type": "display_data",
          "data": {
            "application/javascript": [
              "window[\"9bd80cb0-9dbb-11ec-b1b6-0242ac1c0002\"] = document.querySelector(\"#id24-0-0\");\n",
              "//# sourceURL=js_338376b086"
            ],
            "text/plain": [
              "<IPython.core.display.Javascript object>"
            ]
          },
          "metadata": {}
        },
        {
          "output_type": "display_data",
          "data": {
            "application/javascript": [
              "window[\"9bd8b9ee-9dbb-11ec-b1b6-0242ac1c0002\"] = google.colab.output.setActiveOutputArea(window[\"9bd80cb0-9dbb-11ec-b1b6-0242ac1c0002\"]);\n",
              "//# sourceURL=js_c999da36f8"
            ],
            "text/plain": [
              "<IPython.core.display.Javascript object>"
            ]
          },
          "metadata": {}
        },
        {
          "output_type": "display_data",
          "data": {
            "application/javascript": [
              "window[\"9bf689b0-9dbb-11ec-b1b6-0242ac1c0002\"] = google.colab.output.setActiveOutputArea(window[\"9bd76b20-9dbb-11ec-b1b6-0242ac1c0002\"]);\n",
              "//# sourceURL=js_d32d3b62b9"
            ],
            "text/plain": [
              "<IPython.core.display.Javascript object>"
            ]
          },
          "metadata": {}
        },
        {
          "output_type": "display_data",
          "data": {
            "application/javascript": [
              "window[\"9c178192-9dbb-11ec-b1b6-0242ac1c0002\"] = google.colab.output.getActiveOutputArea();\n",
              "//# sourceURL=js_57b0fdfe44"
            ],
            "text/plain": [
              "<IPython.core.display.Javascript object>"
            ]
          },
          "metadata": {}
        },
        {
          "output_type": "display_data",
          "data": {
            "application/javascript": [
              "window[\"9c181fda-9dbb-11ec-b1b6-0242ac1c0002\"] = document.querySelector(\"#id24-0-0\");\n",
              "//# sourceURL=js_2447d1fb12"
            ],
            "text/plain": [
              "<IPython.core.display.Javascript object>"
            ]
          },
          "metadata": {}
        },
        {
          "output_type": "display_data",
          "data": {
            "application/javascript": [
              "window[\"9c188e5c-9dbb-11ec-b1b6-0242ac1c0002\"] = google.colab.output.setActiveOutputArea(window[\"9c181fda-9dbb-11ec-b1b6-0242ac1c0002\"]);\n",
              "//# sourceURL=js_5a544b76e0"
            ],
            "text/plain": [
              "<IPython.core.display.Javascript object>"
            ]
          },
          "metadata": {}
        },
        {
          "output_type": "display_data",
          "data": {
            "application/javascript": [
              "window[\"9c38f78c-9dbb-11ec-b1b6-0242ac1c0002\"] = google.colab.output.setActiveOutputArea(window[\"9c178192-9dbb-11ec-b1b6-0242ac1c0002\"]);\n",
              "//# sourceURL=js_d76d55a1bf"
            ],
            "text/plain": [
              "<IPython.core.display.Javascript object>"
            ]
          },
          "metadata": {}
        },
        {
          "output_type": "display_data",
          "data": {
            "application/javascript": [
              "window[\"9c5a5c38-9dbb-11ec-b1b6-0242ac1c0002\"] = google.colab.output.getActiveOutputArea();\n",
              "//# sourceURL=js_01bde15cb4"
            ],
            "text/plain": [
              "<IPython.core.display.Javascript object>"
            ]
          },
          "metadata": {}
        },
        {
          "output_type": "display_data",
          "data": {
            "application/javascript": [
              "window[\"9c5aed60-9dbb-11ec-b1b6-0242ac1c0002\"] = document.querySelector(\"#id24-0-0\");\n",
              "//# sourceURL=js_b045c11ad2"
            ],
            "text/plain": [
              "<IPython.core.display.Javascript object>"
            ]
          },
          "metadata": {}
        },
        {
          "output_type": "display_data",
          "data": {
            "application/javascript": [
              "window[\"9c5b7c94-9dbb-11ec-b1b6-0242ac1c0002\"] = google.colab.output.setActiveOutputArea(window[\"9c5aed60-9dbb-11ec-b1b6-0242ac1c0002\"]);\n",
              "//# sourceURL=js_744bee4806"
            ],
            "text/plain": [
              "<IPython.core.display.Javascript object>"
            ]
          },
          "metadata": {}
        },
        {
          "output_type": "display_data",
          "data": {
            "application/javascript": [
              "window[\"9c7a0272-9dbb-11ec-b1b6-0242ac1c0002\"] = google.colab.output.setActiveOutputArea(window[\"9c5a5c38-9dbb-11ec-b1b6-0242ac1c0002\"]);\n",
              "//# sourceURL=js_7017a6bfce"
            ],
            "text/plain": [
              "<IPython.core.display.Javascript object>"
            ]
          },
          "metadata": {}
        },
        {
          "output_type": "display_data",
          "data": {
            "application/javascript": [
              "window[\"9c9a9c76-9dbb-11ec-b1b6-0242ac1c0002\"] = google.colab.output.getActiveOutputArea();\n",
              "//# sourceURL=js_b677fccf0f"
            ],
            "text/plain": [
              "<IPython.core.display.Javascript object>"
            ]
          },
          "metadata": {}
        },
        {
          "output_type": "display_data",
          "data": {
            "application/javascript": [
              "window[\"9c9b4130-9dbb-11ec-b1b6-0242ac1c0002\"] = document.querySelector(\"#id24-0-0\");\n",
              "//# sourceURL=js_fb2112827c"
            ],
            "text/plain": [
              "<IPython.core.display.Javascript object>"
            ]
          },
          "metadata": {}
        },
        {
          "output_type": "display_data",
          "data": {
            "application/javascript": [
              "window[\"9c9b9b3a-9dbb-11ec-b1b6-0242ac1c0002\"] = google.colab.output.setActiveOutputArea(window[\"9c9b4130-9dbb-11ec-b1b6-0242ac1c0002\"]);\n",
              "//# sourceURL=js_6d5dadc248"
            ],
            "text/plain": [
              "<IPython.core.display.Javascript object>"
            ]
          },
          "metadata": {}
        },
        {
          "output_type": "display_data",
          "data": {
            "application/javascript": [
              "window[\"9cb774ae-9dbb-11ec-b1b6-0242ac1c0002\"] = google.colab.output.setActiveOutputArea(window[\"9c9a9c76-9dbb-11ec-b1b6-0242ac1c0002\"]);\n",
              "//# sourceURL=js_a505d53cd1"
            ],
            "text/plain": [
              "<IPython.core.display.Javascript object>"
            ]
          },
          "metadata": {}
        },
        {
          "output_type": "display_data",
          "data": {
            "application/javascript": [
              "window[\"9cd90e48-9dbb-11ec-b1b6-0242ac1c0002\"] = google.colab.output.getActiveOutputArea();\n",
              "//# sourceURL=js_70001eee2e"
            ],
            "text/plain": [
              "<IPython.core.display.Javascript object>"
            ]
          },
          "metadata": {}
        },
        {
          "output_type": "display_data",
          "data": {
            "application/javascript": [
              "window[\"9cd98044-9dbb-11ec-b1b6-0242ac1c0002\"] = document.querySelector(\"#id24-0-0\");\n",
              "//# sourceURL=js_59287d6041"
            ],
            "text/plain": [
              "<IPython.core.display.Javascript object>"
            ]
          },
          "metadata": {}
        },
        {
          "output_type": "display_data",
          "data": {
            "application/javascript": [
              "window[\"9cd9ee8a-9dbb-11ec-b1b6-0242ac1c0002\"] = google.colab.output.setActiveOutputArea(window[\"9cd98044-9dbb-11ec-b1b6-0242ac1c0002\"]);\n",
              "//# sourceURL=js_b09d79f5e8"
            ],
            "text/plain": [
              "<IPython.core.display.Javascript object>"
            ]
          },
          "metadata": {}
        },
        {
          "output_type": "display_data",
          "data": {
            "application/javascript": [
              "window[\"9cfe8420-9dbb-11ec-b1b6-0242ac1c0002\"] = google.colab.output.setActiveOutputArea(window[\"9cd90e48-9dbb-11ec-b1b6-0242ac1c0002\"]);\n",
              "//# sourceURL=js_eb8bf6aa87"
            ],
            "text/plain": [
              "<IPython.core.display.Javascript object>"
            ]
          },
          "metadata": {}
        },
        {
          "output_type": "display_data",
          "data": {
            "application/javascript": [
              "window[\"9d1fb8ac-9dbb-11ec-b1b6-0242ac1c0002\"] = google.colab.output.getActiveOutputArea();\n",
              "//# sourceURL=js_59c484e25f"
            ],
            "text/plain": [
              "<IPython.core.display.Javascript object>"
            ]
          },
          "metadata": {}
        },
        {
          "output_type": "display_data",
          "data": {
            "application/javascript": [
              "window[\"9d20222e-9dbb-11ec-b1b6-0242ac1c0002\"] = document.querySelector(\"#id24-0-0\");\n",
              "//# sourceURL=js_32db756ff4"
            ],
            "text/plain": [
              "<IPython.core.display.Javascript object>"
            ]
          },
          "metadata": {}
        },
        {
          "output_type": "display_data",
          "data": {
            "application/javascript": [
              "window[\"9d209aa6-9dbb-11ec-b1b6-0242ac1c0002\"] = google.colab.output.setActiveOutputArea(window[\"9d20222e-9dbb-11ec-b1b6-0242ac1c0002\"]);\n",
              "//# sourceURL=js_8387818ac3"
            ],
            "text/plain": [
              "<IPython.core.display.Javascript object>"
            ]
          },
          "metadata": {}
        },
        {
          "output_type": "display_data",
          "data": {
            "application/javascript": [
              "window[\"9d3c4710-9dbb-11ec-b1b6-0242ac1c0002\"] = google.colab.output.setActiveOutputArea(window[\"9d1fb8ac-9dbb-11ec-b1b6-0242ac1c0002\"]);\n",
              "//# sourceURL=js_e03171c77c"
            ],
            "text/plain": [
              "<IPython.core.display.Javascript object>"
            ]
          },
          "metadata": {}
        },
        {
          "output_type": "display_data",
          "data": {
            "application/javascript": [
              "window[\"9fdbbbb8-9dbb-11ec-b1b6-0242ac1c0002\"] = google.colab.output.getActiveOutputArea();\n",
              "//# sourceURL=js_79218f9cd8"
            ],
            "text/plain": [
              "<IPython.core.display.Javascript object>"
            ]
          },
          "metadata": {}
        },
        {
          "output_type": "display_data",
          "data": {
            "application/javascript": [
              "window[\"9fdd046e-9dbb-11ec-b1b6-0242ac1c0002\"] = document.querySelector(\"#id24-0-0\");\n",
              "//# sourceURL=js_bafe929be7"
            ],
            "text/plain": [
              "<IPython.core.display.Javascript object>"
            ]
          },
          "metadata": {}
        },
        {
          "output_type": "display_data",
          "data": {
            "application/javascript": [
              "window[\"9fdd69fe-9dbb-11ec-b1b6-0242ac1c0002\"] = google.colab.output.setActiveOutputArea(window[\"9fdd046e-9dbb-11ec-b1b6-0242ac1c0002\"]);\n",
              "//# sourceURL=js_77d8c9654a"
            ],
            "text/plain": [
              "<IPython.core.display.Javascript object>"
            ]
          },
          "metadata": {}
        },
        {
          "output_type": "display_data",
          "data": {
            "application/javascript": [
              "window[\"9ffac36e-9dbb-11ec-b1b6-0242ac1c0002\"] = google.colab.output.setActiveOutputArea(window[\"9fdbbbb8-9dbb-11ec-b1b6-0242ac1c0002\"]);\n",
              "//# sourceURL=js_b631b2875e"
            ],
            "text/plain": [
              "<IPython.core.display.Javascript object>"
            ]
          },
          "metadata": {}
        },
        {
          "output_type": "display_data",
          "data": {
            "application/javascript": [
              "window[\"a01bf37c-9dbb-11ec-b1b6-0242ac1c0002\"] = google.colab.output.getActiveOutputArea();\n",
              "//# sourceURL=js_bf0eeedbb0"
            ],
            "text/plain": [
              "<IPython.core.display.Javascript object>"
            ]
          },
          "metadata": {}
        },
        {
          "output_type": "display_data",
          "data": {
            "application/javascript": [
              "window[\"a01c95f2-9dbb-11ec-b1b6-0242ac1c0002\"] = document.querySelector(\"#id24-0-0\");\n",
              "//# sourceURL=js_afae1af312"
            ],
            "text/plain": [
              "<IPython.core.display.Javascript object>"
            ]
          },
          "metadata": {}
        },
        {
          "output_type": "display_data",
          "data": {
            "application/javascript": [
              "window[\"a01d17ac-9dbb-11ec-b1b6-0242ac1c0002\"] = google.colab.output.setActiveOutputArea(window[\"a01c95f2-9dbb-11ec-b1b6-0242ac1c0002\"]);\n",
              "//# sourceURL=js_289d23a853"
            ],
            "text/plain": [
              "<IPython.core.display.Javascript object>"
            ]
          },
          "metadata": {}
        },
        {
          "output_type": "display_data",
          "data": {
            "application/javascript": [
              "window[\"a03b783c-9dbb-11ec-b1b6-0242ac1c0002\"] = google.colab.output.setActiveOutputArea(window[\"a01bf37c-9dbb-11ec-b1b6-0242ac1c0002\"]);\n",
              "//# sourceURL=js_50a63bf0a0"
            ],
            "text/plain": [
              "<IPython.core.display.Javascript object>"
            ]
          },
          "metadata": {}
        },
        {
          "output_type": "display_data",
          "data": {
            "application/javascript": [
              "window[\"a05c6b50-9dbb-11ec-b1b6-0242ac1c0002\"] = google.colab.output.getActiveOutputArea();\n",
              "//# sourceURL=js_41b894f970"
            ],
            "text/plain": [
              "<IPython.core.display.Javascript object>"
            ]
          },
          "metadata": {}
        },
        {
          "output_type": "display_data",
          "data": {
            "application/javascript": [
              "window[\"a05cde14-9dbb-11ec-b1b6-0242ac1c0002\"] = document.querySelector(\"#id24-0-0\");\n",
              "//# sourceURL=js_da9da93c50"
            ],
            "text/plain": [
              "<IPython.core.display.Javascript object>"
            ]
          },
          "metadata": {}
        },
        {
          "output_type": "display_data",
          "data": {
            "application/javascript": [
              "window[\"a05d4f52-9dbb-11ec-b1b6-0242ac1c0002\"] = google.colab.output.setActiveOutputArea(window[\"a05cde14-9dbb-11ec-b1b6-0242ac1c0002\"]);\n",
              "//# sourceURL=js_32e56529ff"
            ],
            "text/plain": [
              "<IPython.core.display.Javascript object>"
            ]
          },
          "metadata": {}
        },
        {
          "output_type": "display_data",
          "data": {
            "application/javascript": [
              "window[\"a07abc2c-9dbb-11ec-b1b6-0242ac1c0002\"] = google.colab.output.setActiveOutputArea(window[\"a05c6b50-9dbb-11ec-b1b6-0242ac1c0002\"]);\n",
              "//# sourceURL=js_11bb984410"
            ],
            "text/plain": [
              "<IPython.core.display.Javascript object>"
            ]
          },
          "metadata": {}
        },
        {
          "output_type": "display_data",
          "data": {
            "application/javascript": [
              "window[\"a09cbe80-9dbb-11ec-b1b6-0242ac1c0002\"] = google.colab.output.getActiveOutputArea();\n",
              "//# sourceURL=js_ea0b872145"
            ],
            "text/plain": [
              "<IPython.core.display.Javascript object>"
            ]
          },
          "metadata": {}
        },
        {
          "output_type": "display_data",
          "data": {
            "application/javascript": [
              "window[\"a09d1d76-9dbb-11ec-b1b6-0242ac1c0002\"] = document.querySelector(\"#id24-0-0\");\n",
              "//# sourceURL=js_d11597fff2"
            ],
            "text/plain": [
              "<IPython.core.display.Javascript object>"
            ]
          },
          "metadata": {}
        },
        {
          "output_type": "display_data",
          "data": {
            "application/javascript": [
              "window[\"a09dfb2e-9dbb-11ec-b1b6-0242ac1c0002\"] = google.colab.output.setActiveOutputArea(window[\"a09d1d76-9dbb-11ec-b1b6-0242ac1c0002\"]);\n",
              "//# sourceURL=js_1d86613e85"
            ],
            "text/plain": [
              "<IPython.core.display.Javascript object>"
            ]
          },
          "metadata": {}
        },
        {
          "output_type": "display_data",
          "data": {
            "application/javascript": [
              "window[\"a0bc4e4e-9dbb-11ec-b1b6-0242ac1c0002\"] = google.colab.output.setActiveOutputArea(window[\"a09cbe80-9dbb-11ec-b1b6-0242ac1c0002\"]);\n",
              "//# sourceURL=js_716c9d850d"
            ],
            "text/plain": [
              "<IPython.core.display.Javascript object>"
            ]
          },
          "metadata": {}
        },
        {
          "output_type": "display_data",
          "data": {
            "application/javascript": [
              "window[\"a0df8454-9dbb-11ec-b1b6-0242ac1c0002\"] = google.colab.output.getActiveOutputArea();\n",
              "//# sourceURL=js_0b184201f6"
            ],
            "text/plain": [
              "<IPython.core.display.Javascript object>"
            ]
          },
          "metadata": {}
        },
        {
          "output_type": "display_data",
          "data": {
            "application/javascript": [
              "window[\"a0dfe5de-9dbb-11ec-b1b6-0242ac1c0002\"] = document.querySelector(\"#id24-0-0\");\n",
              "//# sourceURL=js_d92e47546d"
            ],
            "text/plain": [
              "<IPython.core.display.Javascript object>"
            ]
          },
          "metadata": {}
        },
        {
          "output_type": "display_data",
          "data": {
            "application/javascript": [
              "window[\"a0e058fc-9dbb-11ec-b1b6-0242ac1c0002\"] = google.colab.output.setActiveOutputArea(window[\"a0dfe5de-9dbb-11ec-b1b6-0242ac1c0002\"]);\n",
              "//# sourceURL=js_df4b778091"
            ],
            "text/plain": [
              "<IPython.core.display.Javascript object>"
            ]
          },
          "metadata": {}
        },
        {
          "output_type": "display_data",
          "data": {
            "application/javascript": [
              "window[\"a1007272-9dbb-11ec-b1b6-0242ac1c0002\"] = google.colab.output.setActiveOutputArea(window[\"a0df8454-9dbb-11ec-b1b6-0242ac1c0002\"]);\n",
              "//# sourceURL=js_88bc567515"
            ],
            "text/plain": [
              "<IPython.core.display.Javascript object>"
            ]
          },
          "metadata": {}
        },
        {
          "output_type": "display_data",
          "data": {
            "application/javascript": [
              "window[\"a121b716-9dbb-11ec-b1b6-0242ac1c0002\"] = google.colab.output.getActiveOutputArea();\n",
              "//# sourceURL=js_169edf8037"
            ],
            "text/plain": [
              "<IPython.core.display.Javascript object>"
            ]
          },
          "metadata": {}
        },
        {
          "output_type": "display_data",
          "data": {
            "application/javascript": [
              "window[\"a12211d4-9dbb-11ec-b1b6-0242ac1c0002\"] = document.querySelector(\"#id24-0-0\");\n",
              "//# sourceURL=js_b74c866686"
            ],
            "text/plain": [
              "<IPython.core.display.Javascript object>"
            ]
          },
          "metadata": {}
        },
        {
          "output_type": "display_data",
          "data": {
            "application/javascript": [
              "window[\"a1228858-9dbb-11ec-b1b6-0242ac1c0002\"] = google.colab.output.setActiveOutputArea(window[\"a12211d4-9dbb-11ec-b1b6-0242ac1c0002\"]);\n",
              "//# sourceURL=js_4e6edf7294"
            ],
            "text/plain": [
              "<IPython.core.display.Javascript object>"
            ]
          },
          "metadata": {}
        },
        {
          "output_type": "display_data",
          "data": {
            "application/javascript": [
              "window[\"a13f7a26-9dbb-11ec-b1b6-0242ac1c0002\"] = google.colab.output.setActiveOutputArea(window[\"a121b716-9dbb-11ec-b1b6-0242ac1c0002\"]);\n",
              "//# sourceURL=js_d7bcc181c3"
            ],
            "text/plain": [
              "<IPython.core.display.Javascript object>"
            ]
          },
          "metadata": {}
        },
        {
          "output_type": "display_data",
          "data": {
            "application/javascript": [
              "window[\"a1608518-9dbb-11ec-b1b6-0242ac1c0002\"] = google.colab.output.getActiveOutputArea();\n",
              "//# sourceURL=js_4e6cce20bf"
            ],
            "text/plain": [
              "<IPython.core.display.Javascript object>"
            ]
          },
          "metadata": {}
        },
        {
          "output_type": "display_data",
          "data": {
            "application/javascript": [
              "window[\"a1612428-9dbb-11ec-b1b6-0242ac1c0002\"] = document.querySelector(\"#id24-0-0\");\n",
              "//# sourceURL=js_fe00f9301a"
            ],
            "text/plain": [
              "<IPython.core.display.Javascript object>"
            ]
          },
          "metadata": {}
        },
        {
          "output_type": "display_data",
          "data": {
            "application/javascript": [
              "window[\"a1619340-9dbb-11ec-b1b6-0242ac1c0002\"] = google.colab.output.setActiveOutputArea(window[\"a1612428-9dbb-11ec-b1b6-0242ac1c0002\"]);\n",
              "//# sourceURL=js_5cb4320189"
            ],
            "text/plain": [
              "<IPython.core.display.Javascript object>"
            ]
          },
          "metadata": {}
        },
        {
          "output_type": "display_data",
          "data": {
            "application/javascript": [
              "window[\"a17f77fc-9dbb-11ec-b1b6-0242ac1c0002\"] = google.colab.output.setActiveOutputArea(window[\"a1608518-9dbb-11ec-b1b6-0242ac1c0002\"]);\n",
              "//# sourceURL=js_3000d0891c"
            ],
            "text/plain": [
              "<IPython.core.display.Javascript object>"
            ]
          },
          "metadata": {}
        },
        {
          "output_type": "display_data",
          "data": {
            "application/javascript": [
              "window[\"a1a2e0de-9dbb-11ec-b1b6-0242ac1c0002\"] = google.colab.output.getActiveOutputArea();\n",
              "//# sourceURL=js_61e03517d7"
            ],
            "text/plain": [
              "<IPython.core.display.Javascript object>"
            ]
          },
          "metadata": {}
        },
        {
          "output_type": "display_data",
          "data": {
            "application/javascript": [
              "window[\"a1a3c72e-9dbb-11ec-b1b6-0242ac1c0002\"] = document.querySelector(\"#id24-0-0\");\n",
              "//# sourceURL=js_e581e9f83b"
            ],
            "text/plain": [
              "<IPython.core.display.Javascript object>"
            ]
          },
          "metadata": {}
        },
        {
          "output_type": "display_data",
          "data": {
            "application/javascript": [
              "window[\"a1a477a0-9dbb-11ec-b1b6-0242ac1c0002\"] = google.colab.output.setActiveOutputArea(window[\"a1a3c72e-9dbb-11ec-b1b6-0242ac1c0002\"]);\n",
              "//# sourceURL=js_172e7d50df"
            ],
            "text/plain": [
              "<IPython.core.display.Javascript object>"
            ]
          },
          "metadata": {}
        },
        {
          "output_type": "display_data",
          "data": {
            "application/javascript": [
              "window[\"a1c1663a-9dbb-11ec-b1b6-0242ac1c0002\"] = google.colab.output.setActiveOutputArea(window[\"a1a2e0de-9dbb-11ec-b1b6-0242ac1c0002\"]);\n",
              "//# sourceURL=js_ad81b82667"
            ],
            "text/plain": [
              "<IPython.core.display.Javascript object>"
            ]
          },
          "metadata": {}
        },
        {
          "output_type": "display_data",
          "data": {
            "application/javascript": [
              "window[\"a1e27a8c-9dbb-11ec-b1b6-0242ac1c0002\"] = google.colab.output.getActiveOutputArea();\n",
              "//# sourceURL=js_a4b7a6707d"
            ],
            "text/plain": [
              "<IPython.core.display.Javascript object>"
            ]
          },
          "metadata": {}
        },
        {
          "output_type": "display_data",
          "data": {
            "application/javascript": [
              "window[\"a1e34dcc-9dbb-11ec-b1b6-0242ac1c0002\"] = document.querySelector(\"#id24-0-0\");\n",
              "//# sourceURL=js_269c925f6c"
            ],
            "text/plain": [
              "<IPython.core.display.Javascript object>"
            ]
          },
          "metadata": {}
        },
        {
          "output_type": "display_data",
          "data": {
            "application/javascript": [
              "window[\"a1e3bf6e-9dbb-11ec-b1b6-0242ac1c0002\"] = google.colab.output.setActiveOutputArea(window[\"a1e34dcc-9dbb-11ec-b1b6-0242ac1c0002\"]);\n",
              "//# sourceURL=js_109064911d"
            ],
            "text/plain": [
              "<IPython.core.display.Javascript object>"
            ]
          },
          "metadata": {}
        },
        {
          "output_type": "display_data",
          "data": {
            "application/javascript": [
              "window[\"a2020618-9dbb-11ec-b1b6-0242ac1c0002\"] = google.colab.output.setActiveOutputArea(window[\"a1e27a8c-9dbb-11ec-b1b6-0242ac1c0002\"]);\n",
              "//# sourceURL=js_d49456b169"
            ],
            "text/plain": [
              "<IPython.core.display.Javascript object>"
            ]
          },
          "metadata": {}
        },
        {
          "output_type": "display_data",
          "data": {
            "application/javascript": [
              "window[\"a222f90e-9dbb-11ec-b1b6-0242ac1c0002\"] = google.colab.output.getActiveOutputArea();\n",
              "//# sourceURL=js_cbac87dd92"
            ],
            "text/plain": [
              "<IPython.core.display.Javascript object>"
            ]
          },
          "metadata": {}
        },
        {
          "output_type": "display_data",
          "data": {
            "application/javascript": [
              "window[\"a22393dc-9dbb-11ec-b1b6-0242ac1c0002\"] = document.querySelector(\"#id24-0-0\");\n",
              "//# sourceURL=js_d65f72e6d4"
            ],
            "text/plain": [
              "<IPython.core.display.Javascript object>"
            ]
          },
          "metadata": {}
        },
        {
          "output_type": "display_data",
          "data": {
            "application/javascript": [
              "window[\"a22447b4-9dbb-11ec-b1b6-0242ac1c0002\"] = google.colab.output.setActiveOutputArea(window[\"a22393dc-9dbb-11ec-b1b6-0242ac1c0002\"]);\n",
              "//# sourceURL=js_5cb60d1876"
            ],
            "text/plain": [
              "<IPython.core.display.Javascript object>"
            ]
          },
          "metadata": {}
        },
        {
          "output_type": "display_data",
          "data": {
            "application/javascript": [
              "window[\"a24328aa-9dbb-11ec-b1b6-0242ac1c0002\"] = google.colab.output.setActiveOutputArea(window[\"a222f90e-9dbb-11ec-b1b6-0242ac1c0002\"]);\n",
              "//# sourceURL=js_156e48ef54"
            ],
            "text/plain": [
              "<IPython.core.display.Javascript object>"
            ]
          },
          "metadata": {}
        },
        {
          "output_type": "display_data",
          "data": {
            "application/javascript": [
              "window[\"a26463ee-9dbb-11ec-b1b6-0242ac1c0002\"] = google.colab.output.getActiveOutputArea();\n",
              "//# sourceURL=js_25a14305f0"
            ],
            "text/plain": [
              "<IPython.core.display.Javascript object>"
            ]
          },
          "metadata": {}
        },
        {
          "output_type": "display_data",
          "data": {
            "application/javascript": [
              "window[\"a2650ad8-9dbb-11ec-b1b6-0242ac1c0002\"] = document.querySelector(\"#id24-0-0\");\n",
              "//# sourceURL=js_e658d71d5b"
            ],
            "text/plain": [
              "<IPython.core.display.Javascript object>"
            ]
          },
          "metadata": {}
        },
        {
          "output_type": "display_data",
          "data": {
            "application/javascript": [
              "window[\"a26586a2-9dbb-11ec-b1b6-0242ac1c0002\"] = google.colab.output.setActiveOutputArea(window[\"a2650ad8-9dbb-11ec-b1b6-0242ac1c0002\"]);\n",
              "//# sourceURL=js_951008d731"
            ],
            "text/plain": [
              "<IPython.core.display.Javascript object>"
            ]
          },
          "metadata": {}
        },
        {
          "output_type": "display_data",
          "data": {
            "application/javascript": [
              "window[\"a2897bf2-9dbb-11ec-b1b6-0242ac1c0002\"] = google.colab.output.setActiveOutputArea(window[\"a26463ee-9dbb-11ec-b1b6-0242ac1c0002\"]);\n",
              "//# sourceURL=js_48a865790b"
            ],
            "text/plain": [
              "<IPython.core.display.Javascript object>"
            ]
          },
          "metadata": {}
        },
        {
          "output_type": "display_data",
          "data": {
            "application/javascript": [
              "window[\"a2aaa8b8-9dbb-11ec-b1b6-0242ac1c0002\"] = google.colab.output.getActiveOutputArea();\n",
              "//# sourceURL=js_8023867301"
            ],
            "text/plain": [
              "<IPython.core.display.Javascript object>"
            ]
          },
          "metadata": {}
        },
        {
          "output_type": "display_data",
          "data": {
            "application/javascript": [
              "window[\"a2ab7c66-9dbb-11ec-b1b6-0242ac1c0002\"] = document.querySelector(\"#id24-0-0\");\n",
              "//# sourceURL=js_4263578e0f"
            ],
            "text/plain": [
              "<IPython.core.display.Javascript object>"
            ]
          },
          "metadata": {}
        },
        {
          "output_type": "display_data",
          "data": {
            "application/javascript": [
              "window[\"a2abd7a6-9dbb-11ec-b1b6-0242ac1c0002\"] = google.colab.output.setActiveOutputArea(window[\"a2ab7c66-9dbb-11ec-b1b6-0242ac1c0002\"]);\n",
              "//# sourceURL=js_060fad7002"
            ],
            "text/plain": [
              "<IPython.core.display.Javascript object>"
            ]
          },
          "metadata": {}
        },
        {
          "output_type": "display_data",
          "data": {
            "application/javascript": [
              "window[\"a2c83874-9dbb-11ec-b1b6-0242ac1c0002\"] = google.colab.output.setActiveOutputArea(window[\"a2aaa8b8-9dbb-11ec-b1b6-0242ac1c0002\"]);\n",
              "//# sourceURL=js_16b2b410f6"
            ],
            "text/plain": [
              "<IPython.core.display.Javascript object>"
            ]
          },
          "metadata": {}
        },
        {
          "output_type": "display_data",
          "data": {
            "application/javascript": [
              "window[\"a2e9c818-9dbb-11ec-b1b6-0242ac1c0002\"] = google.colab.output.getActiveOutputArea();\n",
              "//# sourceURL=js_5002b0f807"
            ],
            "text/plain": [
              "<IPython.core.display.Javascript object>"
            ]
          },
          "metadata": {}
        },
        {
          "output_type": "display_data",
          "data": {
            "application/javascript": [
              "window[\"a2ea3d84-9dbb-11ec-b1b6-0242ac1c0002\"] = document.querySelector(\"#id24-0-0\");\n",
              "//# sourceURL=js_f1c99c8687"
            ],
            "text/plain": [
              "<IPython.core.display.Javascript object>"
            ]
          },
          "metadata": {}
        },
        {
          "output_type": "display_data",
          "data": {
            "application/javascript": [
              "window[\"a2eace52-9dbb-11ec-b1b6-0242ac1c0002\"] = google.colab.output.setActiveOutputArea(window[\"a2ea3d84-9dbb-11ec-b1b6-0242ac1c0002\"]);\n",
              "//# sourceURL=js_fe2c15d4f4"
            ],
            "text/plain": [
              "<IPython.core.display.Javascript object>"
            ]
          },
          "metadata": {}
        },
        {
          "output_type": "display_data",
          "data": {
            "application/javascript": [
              "window[\"a309695c-9dbb-11ec-b1b6-0242ac1c0002\"] = google.colab.output.setActiveOutputArea(window[\"a2e9c818-9dbb-11ec-b1b6-0242ac1c0002\"]);\n",
              "//# sourceURL=js_5a2d1e6bba"
            ],
            "text/plain": [
              "<IPython.core.display.Javascript object>"
            ]
          },
          "metadata": {}
        },
        {
          "output_type": "display_data",
          "data": {
            "application/javascript": [
              "window[\"a32b972a-9dbb-11ec-b1b6-0242ac1c0002\"] = google.colab.output.getActiveOutputArea();\n",
              "//# sourceURL=js_b871d8dabb"
            ],
            "text/plain": [
              "<IPython.core.display.Javascript object>"
            ]
          },
          "metadata": {}
        },
        {
          "output_type": "display_data",
          "data": {
            "application/javascript": [
              "window[\"a32bf1a2-9dbb-11ec-b1b6-0242ac1c0002\"] = document.querySelector(\"#id24-0-0\");\n",
              "//# sourceURL=js_4e50454fca"
            ],
            "text/plain": [
              "<IPython.core.display.Javascript object>"
            ]
          },
          "metadata": {}
        },
        {
          "output_type": "display_data",
          "data": {
            "application/javascript": [
              "window[\"a32c779e-9dbb-11ec-b1b6-0242ac1c0002\"] = google.colab.output.setActiveOutputArea(window[\"a32bf1a2-9dbb-11ec-b1b6-0242ac1c0002\"]);\n",
              "//# sourceURL=js_3e71dea2a3"
            ],
            "text/plain": [
              "<IPython.core.display.Javascript object>"
            ]
          },
          "metadata": {}
        },
        {
          "output_type": "display_data",
          "data": {
            "application/javascript": [
              "window[\"a34a819e-9dbb-11ec-b1b6-0242ac1c0002\"] = google.colab.output.setActiveOutputArea(window[\"a32b972a-9dbb-11ec-b1b6-0242ac1c0002\"]);\n",
              "//# sourceURL=js_3d80e3fa55"
            ],
            "text/plain": [
              "<IPython.core.display.Javascript object>"
            ]
          },
          "metadata": {}
        },
        {
          "output_type": "display_data",
          "data": {
            "application/javascript": [
              "window[\"a36b9a5a-9dbb-11ec-b1b6-0242ac1c0002\"] = google.colab.output.getActiveOutputArea();\n",
              "//# sourceURL=js_d1ae837ce2"
            ],
            "text/plain": [
              "<IPython.core.display.Javascript object>"
            ]
          },
          "metadata": {}
        },
        {
          "output_type": "display_data",
          "data": {
            "application/javascript": [
              "window[\"a36c2006-9dbb-11ec-b1b6-0242ac1c0002\"] = document.querySelector(\"#id24-0-0\");\n",
              "//# sourceURL=js_0bc8240c74"
            ],
            "text/plain": [
              "<IPython.core.display.Javascript object>"
            ]
          },
          "metadata": {}
        },
        {
          "output_type": "display_data",
          "data": {
            "application/javascript": [
              "window[\"a36cabde-9dbb-11ec-b1b6-0242ac1c0002\"] = google.colab.output.setActiveOutputArea(window[\"a36c2006-9dbb-11ec-b1b6-0242ac1c0002\"]);\n",
              "//# sourceURL=js_1a3362148e"
            ],
            "text/plain": [
              "<IPython.core.display.Javascript object>"
            ]
          },
          "metadata": {}
        },
        {
          "output_type": "display_data",
          "data": {
            "application/javascript": [
              "window[\"a38a1174-9dbb-11ec-b1b6-0242ac1c0002\"] = google.colab.output.setActiveOutputArea(window[\"a36b9a5a-9dbb-11ec-b1b6-0242ac1c0002\"]);\n",
              "//# sourceURL=js_44b46e1186"
            ],
            "text/plain": [
              "<IPython.core.display.Javascript object>"
            ]
          },
          "metadata": {}
        },
        {
          "output_type": "display_data",
          "data": {
            "application/javascript": [
              "window[\"a3ab3228-9dbb-11ec-b1b6-0242ac1c0002\"] = google.colab.output.getActiveOutputArea();\n",
              "//# sourceURL=js_d95d9cbedd"
            ],
            "text/plain": [
              "<IPython.core.display.Javascript object>"
            ]
          },
          "metadata": {}
        },
        {
          "output_type": "display_data",
          "data": {
            "application/javascript": [
              "window[\"a3ab8b2e-9dbb-11ec-b1b6-0242ac1c0002\"] = document.querySelector(\"#id24-0-0\");\n",
              "//# sourceURL=js_7920beb455"
            ],
            "text/plain": [
              "<IPython.core.display.Javascript object>"
            ]
          },
          "metadata": {}
        },
        {
          "output_type": "display_data",
          "data": {
            "application/javascript": [
              "window[\"a3ac01bc-9dbb-11ec-b1b6-0242ac1c0002\"] = google.colab.output.setActiveOutputArea(window[\"a3ab8b2e-9dbb-11ec-b1b6-0242ac1c0002\"]);\n",
              "//# sourceURL=js_51c45ef28c"
            ],
            "text/plain": [
              "<IPython.core.display.Javascript object>"
            ]
          },
          "metadata": {}
        },
        {
          "output_type": "display_data",
          "data": {
            "application/javascript": [
              "window[\"a3c9154a-9dbb-11ec-b1b6-0242ac1c0002\"] = google.colab.output.setActiveOutputArea(window[\"a3ab3228-9dbb-11ec-b1b6-0242ac1c0002\"]);\n",
              "//# sourceURL=js_efbfcc7b3d"
            ],
            "text/plain": [
              "<IPython.core.display.Javascript object>"
            ]
          },
          "metadata": {}
        },
        {
          "output_type": "display_data",
          "data": {
            "application/javascript": [
              "window[\"a3ea8040-9dbb-11ec-b1b6-0242ac1c0002\"] = google.colab.output.getActiveOutputArea();\n",
              "//# sourceURL=js_78b6157d13"
            ],
            "text/plain": [
              "<IPython.core.display.Javascript object>"
            ]
          },
          "metadata": {}
        },
        {
          "output_type": "display_data",
          "data": {
            "application/javascript": [
              "window[\"a3eb1488-9dbb-11ec-b1b6-0242ac1c0002\"] = document.querySelector(\"#id24-0-0\");\n",
              "//# sourceURL=js_cf2abe47c9"
            ],
            "text/plain": [
              "<IPython.core.display.Javascript object>"
            ]
          },
          "metadata": {}
        },
        {
          "output_type": "display_data",
          "data": {
            "application/javascript": [
              "window[\"a3eb9e76-9dbb-11ec-b1b6-0242ac1c0002\"] = google.colab.output.setActiveOutputArea(window[\"a3eb1488-9dbb-11ec-b1b6-0242ac1c0002\"]);\n",
              "//# sourceURL=js_64acaa0e7f"
            ],
            "text/plain": [
              "<IPython.core.display.Javascript object>"
            ]
          },
          "metadata": {}
        },
        {
          "output_type": "display_data",
          "data": {
            "application/javascript": [
              "window[\"a407978e-9dbb-11ec-b1b6-0242ac1c0002\"] = google.colab.output.setActiveOutputArea(window[\"a3ea8040-9dbb-11ec-b1b6-0242ac1c0002\"]);\n",
              "//# sourceURL=js_1085a802cc"
            ],
            "text/plain": [
              "<IPython.core.display.Javascript object>"
            ]
          },
          "metadata": {}
        },
        {
          "output_type": "display_data",
          "data": {
            "application/javascript": [
              "window[\"a4296f76-9dbb-11ec-b1b6-0242ac1c0002\"] = google.colab.output.getActiveOutputArea();\n",
              "//# sourceURL=js_c1aaa1902b"
            ],
            "text/plain": [
              "<IPython.core.display.Javascript object>"
            ]
          },
          "metadata": {}
        },
        {
          "output_type": "display_data",
          "data": {
            "application/javascript": [
              "window[\"a429e60e-9dbb-11ec-b1b6-0242ac1c0002\"] = document.querySelector(\"#id24-0-0\");\n",
              "//# sourceURL=js_aceb65603a"
            ],
            "text/plain": [
              "<IPython.core.display.Javascript object>"
            ]
          },
          "metadata": {}
        },
        {
          "output_type": "display_data",
          "data": {
            "application/javascript": [
              "window[\"a42ab2be-9dbb-11ec-b1b6-0242ac1c0002\"] = google.colab.output.setActiveOutputArea(window[\"a429e60e-9dbb-11ec-b1b6-0242ac1c0002\"]);\n",
              "//# sourceURL=js_805e735bd4"
            ],
            "text/plain": [
              "<IPython.core.display.Javascript object>"
            ]
          },
          "metadata": {}
        },
        {
          "output_type": "display_data",
          "data": {
            "application/javascript": [
              "window[\"a447b184-9dbb-11ec-b1b6-0242ac1c0002\"] = google.colab.output.setActiveOutputArea(window[\"a4296f76-9dbb-11ec-b1b6-0242ac1c0002\"]);\n",
              "//# sourceURL=js_3ed1547ebb"
            ],
            "text/plain": [
              "<IPython.core.display.Javascript object>"
            ]
          },
          "metadata": {}
        },
        {
          "output_type": "display_data",
          "data": {
            "application/javascript": [
              "window[\"a4695aaa-9dbb-11ec-b1b6-0242ac1c0002\"] = google.colab.output.getActiveOutputArea();\n",
              "//# sourceURL=js_a20809424e"
            ],
            "text/plain": [
              "<IPython.core.display.Javascript object>"
            ]
          },
          "metadata": {}
        },
        {
          "output_type": "display_data",
          "data": {
            "application/javascript": [
              "window[\"a469bad6-9dbb-11ec-b1b6-0242ac1c0002\"] = document.querySelector(\"#id24-0-0\");\n",
              "//# sourceURL=js_af029f3886"
            ],
            "text/plain": [
              "<IPython.core.display.Javascript object>"
            ]
          },
          "metadata": {}
        },
        {
          "output_type": "display_data",
          "data": {
            "application/javascript": [
              "window[\"a46adf92-9dbb-11ec-b1b6-0242ac1c0002\"] = google.colab.output.setActiveOutputArea(window[\"a469bad6-9dbb-11ec-b1b6-0242ac1c0002\"]);\n",
              "//# sourceURL=js_6dcea885d4"
            ],
            "text/plain": [
              "<IPython.core.display.Javascript object>"
            ]
          },
          "metadata": {}
        },
        {
          "output_type": "display_data",
          "data": {
            "application/javascript": [
              "window[\"a4896e94-9dbb-11ec-b1b6-0242ac1c0002\"] = google.colab.output.setActiveOutputArea(window[\"a4695aaa-9dbb-11ec-b1b6-0242ac1c0002\"]);\n",
              "//# sourceURL=js_fa3f8186ca"
            ],
            "text/plain": [
              "<IPython.core.display.Javascript object>"
            ]
          },
          "metadata": {}
        },
        {
          "output_type": "display_data",
          "data": {
            "application/javascript": [
              "window[\"a4abddd0-9dbb-11ec-b1b6-0242ac1c0002\"] = google.colab.output.getActiveOutputArea();\n",
              "//# sourceURL=js_ed019dda4a"
            ],
            "text/plain": [
              "<IPython.core.display.Javascript object>"
            ]
          },
          "metadata": {}
        },
        {
          "output_type": "display_data",
          "data": {
            "application/javascript": [
              "window[\"a4ac676e-9dbb-11ec-b1b6-0242ac1c0002\"] = document.querySelector(\"#id24-0-0\");\n",
              "//# sourceURL=js_51d854f0ca"
            ],
            "text/plain": [
              "<IPython.core.display.Javascript object>"
            ]
          },
          "metadata": {}
        },
        {
          "output_type": "display_data",
          "data": {
            "application/javascript": [
              "window[\"a4acd3fc-9dbb-11ec-b1b6-0242ac1c0002\"] = google.colab.output.setActiveOutputArea(window[\"a4ac676e-9dbb-11ec-b1b6-0242ac1c0002\"]);\n",
              "//# sourceURL=js_5b0dd989e4"
            ],
            "text/plain": [
              "<IPython.core.display.Javascript object>"
            ]
          },
          "metadata": {}
        },
        {
          "output_type": "display_data",
          "data": {
            "application/javascript": [
              "window[\"a4ca4af4-9dbb-11ec-b1b6-0242ac1c0002\"] = google.colab.output.setActiveOutputArea(window[\"a4abddd0-9dbb-11ec-b1b6-0242ac1c0002\"]);\n",
              "//# sourceURL=js_12ebe2ca1a"
            ],
            "text/plain": [
              "<IPython.core.display.Javascript object>"
            ]
          },
          "metadata": {}
        },
        {
          "output_type": "display_data",
          "data": {
            "application/javascript": [
              "window[\"a4eb4f2e-9dbb-11ec-b1b6-0242ac1c0002\"] = google.colab.output.getActiveOutputArea();\n",
              "//# sourceURL=js_14587e0a2a"
            ],
            "text/plain": [
              "<IPython.core.display.Javascript object>"
            ]
          },
          "metadata": {}
        },
        {
          "output_type": "display_data",
          "data": {
            "application/javascript": [
              "window[\"a4ebb0e0-9dbb-11ec-b1b6-0242ac1c0002\"] = document.querySelector(\"#id24-0-0\");\n",
              "//# sourceURL=js_43bc7145f7"
            ],
            "text/plain": [
              "<IPython.core.display.Javascript object>"
            ]
          },
          "metadata": {}
        },
        {
          "output_type": "display_data",
          "data": {
            "application/javascript": [
              "window[\"a4ec77e6-9dbb-11ec-b1b6-0242ac1c0002\"] = google.colab.output.setActiveOutputArea(window[\"a4ebb0e0-9dbb-11ec-b1b6-0242ac1c0002\"]);\n",
              "//# sourceURL=js_a2b0bb1ff6"
            ],
            "text/plain": [
              "<IPython.core.display.Javascript object>"
            ]
          },
          "metadata": {}
        },
        {
          "output_type": "display_data",
          "data": {
            "application/javascript": [
              "window[\"a50b1de0-9dbb-11ec-b1b6-0242ac1c0002\"] = google.colab.output.setActiveOutputArea(window[\"a4eb4f2e-9dbb-11ec-b1b6-0242ac1c0002\"]);\n",
              "//# sourceURL=js_2cc8decc91"
            ],
            "text/plain": [
              "<IPython.core.display.Javascript object>"
            ]
          },
          "metadata": {}
        },
        {
          "output_type": "display_data",
          "data": {
            "application/javascript": [
              "window[\"a52c3228-9dbb-11ec-b1b6-0242ac1c0002\"] = google.colab.output.getActiveOutputArea();\n",
              "//# sourceURL=js_1e9d26cf8c"
            ],
            "text/plain": [
              "<IPython.core.display.Javascript object>"
            ]
          },
          "metadata": {}
        },
        {
          "output_type": "display_data",
          "data": {
            "application/javascript": [
              "window[\"a52cc454-9dbb-11ec-b1b6-0242ac1c0002\"] = document.querySelector(\"#id24-0-0\");\n",
              "//# sourceURL=js_59645f0940"
            ],
            "text/plain": [
              "<IPython.core.display.Javascript object>"
            ]
          },
          "metadata": {}
        },
        {
          "output_type": "display_data",
          "data": {
            "application/javascript": [
              "window[\"a52d3b50-9dbb-11ec-b1b6-0242ac1c0002\"] = google.colab.output.setActiveOutputArea(window[\"a52cc454-9dbb-11ec-b1b6-0242ac1c0002\"]);\n",
              "//# sourceURL=js_fab0007819"
            ],
            "text/plain": [
              "<IPython.core.display.Javascript object>"
            ]
          },
          "metadata": {}
        },
        {
          "output_type": "display_data",
          "data": {
            "application/javascript": [
              "window[\"a5499da4-9dbb-11ec-b1b6-0242ac1c0002\"] = google.colab.output.setActiveOutputArea(window[\"a52c3228-9dbb-11ec-b1b6-0242ac1c0002\"]);\n",
              "//# sourceURL=js_06cedbf1be"
            ],
            "text/plain": [
              "<IPython.core.display.Javascript object>"
            ]
          },
          "metadata": {}
        },
        {
          "output_type": "display_data",
          "data": {
            "application/javascript": [
              "window[\"a56a9644-9dbb-11ec-b1b6-0242ac1c0002\"] = google.colab.output.getActiveOutputArea();\n",
              "//# sourceURL=js_192b9487c6"
            ],
            "text/plain": [
              "<IPython.core.display.Javascript object>"
            ]
          },
          "metadata": {}
        },
        {
          "output_type": "display_data",
          "data": {
            "application/javascript": [
              "window[\"a56af828-9dbb-11ec-b1b6-0242ac1c0002\"] = document.querySelector(\"#id24-0-0\");\n",
              "//# sourceURL=js_83a536f79c"
            ],
            "text/plain": [
              "<IPython.core.display.Javascript object>"
            ]
          },
          "metadata": {}
        },
        {
          "output_type": "display_data",
          "data": {
            "application/javascript": [
              "window[\"a56bd04a-9dbb-11ec-b1b6-0242ac1c0002\"] = google.colab.output.setActiveOutputArea(window[\"a56af828-9dbb-11ec-b1b6-0242ac1c0002\"]);\n",
              "//# sourceURL=js_30fd7d2e42"
            ],
            "text/plain": [
              "<IPython.core.display.Javascript object>"
            ]
          },
          "metadata": {}
        },
        {
          "output_type": "display_data",
          "data": {
            "application/javascript": [
              "window[\"a58a8576-9dbb-11ec-b1b6-0242ac1c0002\"] = google.colab.output.setActiveOutputArea(window[\"a56a9644-9dbb-11ec-b1b6-0242ac1c0002\"]);\n",
              "//# sourceURL=js_b289b56bbb"
            ],
            "text/plain": [
              "<IPython.core.display.Javascript object>"
            ]
          },
          "metadata": {}
        },
        {
          "output_type": "display_data",
          "data": {
            "application/javascript": [
              "window[\"a5ab290c-9dbb-11ec-b1b6-0242ac1c0002\"] = google.colab.output.getActiveOutputArea();\n",
              "//# sourceURL=js_fdf6982c63"
            ],
            "text/plain": [
              "<IPython.core.display.Javascript object>"
            ]
          },
          "metadata": {}
        },
        {
          "output_type": "display_data",
          "data": {
            "application/javascript": [
              "window[\"a5ab7c2c-9dbb-11ec-b1b6-0242ac1c0002\"] = document.querySelector(\"#id24-0-0\");\n",
              "//# sourceURL=js_fe4b8287e5"
            ],
            "text/plain": [
              "<IPython.core.display.Javascript object>"
            ]
          },
          "metadata": {}
        },
        {
          "output_type": "display_data",
          "data": {
            "application/javascript": [
              "window[\"a5ac868a-9dbb-11ec-b1b6-0242ac1c0002\"] = google.colab.output.setActiveOutputArea(window[\"a5ab7c2c-9dbb-11ec-b1b6-0242ac1c0002\"]);\n",
              "//# sourceURL=js_b91e2c62c9"
            ],
            "text/plain": [
              "<IPython.core.display.Javascript object>"
            ]
          },
          "metadata": {}
        },
        {
          "output_type": "display_data",
          "data": {
            "application/javascript": [
              "window[\"a5d28bb4-9dbb-11ec-b1b6-0242ac1c0002\"] = google.colab.output.setActiveOutputArea(window[\"a5ab290c-9dbb-11ec-b1b6-0242ac1c0002\"]);\n",
              "//# sourceURL=js_09615e433a"
            ],
            "text/plain": [
              "<IPython.core.display.Javascript object>"
            ]
          },
          "metadata": {}
        },
        {
          "output_type": "display_data",
          "data": {
            "application/javascript": [
              "window[\"a5f4e236-9dbb-11ec-b1b6-0242ac1c0002\"] = google.colab.output.getActiveOutputArea();\n",
              "//# sourceURL=js_efb3b5f85a"
            ],
            "text/plain": [
              "<IPython.core.display.Javascript object>"
            ]
          },
          "metadata": {}
        },
        {
          "output_type": "display_data",
          "data": {
            "application/javascript": [
              "window[\"a5f5845c-9dbb-11ec-b1b6-0242ac1c0002\"] = document.querySelector(\"#id24-0-0\");\n",
              "//# sourceURL=js_f05ca43f79"
            ],
            "text/plain": [
              "<IPython.core.display.Javascript object>"
            ]
          },
          "metadata": {}
        },
        {
          "output_type": "display_data",
          "data": {
            "application/javascript": [
              "window[\"a5f5ff04-9dbb-11ec-b1b6-0242ac1c0002\"] = google.colab.output.setActiveOutputArea(window[\"a5f5845c-9dbb-11ec-b1b6-0242ac1c0002\"]);\n",
              "//# sourceURL=js_0e88922d4c"
            ],
            "text/plain": [
              "<IPython.core.display.Javascript object>"
            ]
          },
          "metadata": {}
        },
        {
          "output_type": "display_data",
          "data": {
            "application/javascript": [
              "window[\"a6143870-9dbb-11ec-b1b6-0242ac1c0002\"] = google.colab.output.setActiveOutputArea(window[\"a5f4e236-9dbb-11ec-b1b6-0242ac1c0002\"]);\n",
              "//# sourceURL=js_696aa28033"
            ],
            "text/plain": [
              "<IPython.core.display.Javascript object>"
            ]
          },
          "metadata": {}
        },
        {
          "output_type": "display_data",
          "data": {
            "application/javascript": [
              "window[\"a635e254-9dbb-11ec-b1b6-0242ac1c0002\"] = google.colab.output.getActiveOutputArea();\n",
              "//# sourceURL=js_9882c0db48"
            ],
            "text/plain": [
              "<IPython.core.display.Javascript object>"
            ]
          },
          "metadata": {}
        },
        {
          "output_type": "display_data",
          "data": {
            "application/javascript": [
              "window[\"a636df7e-9dbb-11ec-b1b6-0242ac1c0002\"] = document.querySelector(\"#id24-0-0\");\n",
              "//# sourceURL=js_be27320eff"
            ],
            "text/plain": [
              "<IPython.core.display.Javascript object>"
            ]
          },
          "metadata": {}
        },
        {
          "output_type": "display_data",
          "data": {
            "application/javascript": [
              "window[\"a637506c-9dbb-11ec-b1b6-0242ac1c0002\"] = google.colab.output.setActiveOutputArea(window[\"a636df7e-9dbb-11ec-b1b6-0242ac1c0002\"]);\n",
              "//# sourceURL=js_3cc48d1dec"
            ],
            "text/plain": [
              "<IPython.core.display.Javascript object>"
            ]
          },
          "metadata": {}
        },
        {
          "output_type": "display_data",
          "data": {
            "application/javascript": [
              "window[\"a655e0f4-9dbb-11ec-b1b6-0242ac1c0002\"] = google.colab.output.setActiveOutputArea(window[\"a635e254-9dbb-11ec-b1b6-0242ac1c0002\"]);\n",
              "//# sourceURL=js_12819ebd96"
            ],
            "text/plain": [
              "<IPython.core.display.Javascript object>"
            ]
          },
          "metadata": {}
        },
        {
          "output_type": "display_data",
          "data": {
            "application/javascript": [
              "window[\"a6770932-9dbb-11ec-b1b6-0242ac1c0002\"] = google.colab.output.getActiveOutputArea();\n",
              "//# sourceURL=js_ebf9bd7f9f"
            ],
            "text/plain": [
              "<IPython.core.display.Javascript object>"
            ]
          },
          "metadata": {}
        },
        {
          "output_type": "display_data",
          "data": {
            "application/javascript": [
              "window[\"a67785ec-9dbb-11ec-b1b6-0242ac1c0002\"] = document.querySelector(\"#id24-0-0\");\n",
              "//# sourceURL=js_d4d08d245f"
            ],
            "text/plain": [
              "<IPython.core.display.Javascript object>"
            ]
          },
          "metadata": {}
        },
        {
          "output_type": "display_data",
          "data": {
            "application/javascript": [
              "window[\"a6781b9c-9dbb-11ec-b1b6-0242ac1c0002\"] = google.colab.output.setActiveOutputArea(window[\"a67785ec-9dbb-11ec-b1b6-0242ac1c0002\"]);\n",
              "//# sourceURL=js_accf724de7"
            ],
            "text/plain": [
              "<IPython.core.display.Javascript object>"
            ]
          },
          "metadata": {}
        },
        {
          "output_type": "display_data",
          "data": {
            "application/javascript": [
              "window[\"a695a16c-9dbb-11ec-b1b6-0242ac1c0002\"] = google.colab.output.setActiveOutputArea(window[\"a6770932-9dbb-11ec-b1b6-0242ac1c0002\"]);\n",
              "//# sourceURL=js_6c286cbc45"
            ],
            "text/plain": [
              "<IPython.core.display.Javascript object>"
            ]
          },
          "metadata": {}
        },
        {
          "output_type": "display_data",
          "data": {
            "application/javascript": [
              "window[\"a6b6cd88-9dbb-11ec-b1b6-0242ac1c0002\"] = google.colab.output.getActiveOutputArea();\n",
              "//# sourceURL=js_8806f3a513"
            ],
            "text/plain": [
              "<IPython.core.display.Javascript object>"
            ]
          },
          "metadata": {}
        },
        {
          "output_type": "display_data",
          "data": {
            "application/javascript": [
              "window[\"a6b73fb6-9dbb-11ec-b1b6-0242ac1c0002\"] = document.querySelector(\"#id24-0-0\");\n",
              "//# sourceURL=js_6637dc0d5d"
            ],
            "text/plain": [
              "<IPython.core.display.Javascript object>"
            ]
          },
          "metadata": {}
        },
        {
          "output_type": "display_data",
          "data": {
            "application/javascript": [
              "window[\"a6b7c8fa-9dbb-11ec-b1b6-0242ac1c0002\"] = google.colab.output.setActiveOutputArea(window[\"a6b73fb6-9dbb-11ec-b1b6-0242ac1c0002\"]);\n",
              "//# sourceURL=js_6b2b1e5064"
            ],
            "text/plain": [
              "<IPython.core.display.Javascript object>"
            ]
          },
          "metadata": {}
        },
        {
          "output_type": "display_data",
          "data": {
            "application/javascript": [
              "window[\"a6da3dae-9dbb-11ec-b1b6-0242ac1c0002\"] = google.colab.output.setActiveOutputArea(window[\"a6b6cd88-9dbb-11ec-b1b6-0242ac1c0002\"]);\n",
              "//# sourceURL=js_84f760b7ea"
            ],
            "text/plain": [
              "<IPython.core.display.Javascript object>"
            ]
          },
          "metadata": {}
        },
        {
          "output_type": "display_data",
          "data": {
            "application/javascript": [
              "window[\"a6fbe0b2-9dbb-11ec-b1b6-0242ac1c0002\"] = google.colab.output.getActiveOutputArea();\n",
              "//# sourceURL=js_0eb929e61f"
            ],
            "text/plain": [
              "<IPython.core.display.Javascript object>"
            ]
          },
          "metadata": {}
        },
        {
          "output_type": "display_data",
          "data": {
            "application/javascript": [
              "window[\"a6fc7cd4-9dbb-11ec-b1b6-0242ac1c0002\"] = document.querySelector(\"#id24-0-0\");\n",
              "//# sourceURL=js_670ed72978"
            ],
            "text/plain": [
              "<IPython.core.display.Javascript object>"
            ]
          },
          "metadata": {}
        },
        {
          "output_type": "display_data",
          "data": {
            "application/javascript": [
              "window[\"a6fcfb8c-9dbb-11ec-b1b6-0242ac1c0002\"] = google.colab.output.setActiveOutputArea(window[\"a6fc7cd4-9dbb-11ec-b1b6-0242ac1c0002\"]);\n",
              "//# sourceURL=js_838bdab6ee"
            ],
            "text/plain": [
              "<IPython.core.display.Javascript object>"
            ]
          },
          "metadata": {}
        },
        {
          "output_type": "display_data",
          "data": {
            "application/javascript": [
              "window[\"a71b0f14-9dbb-11ec-b1b6-0242ac1c0002\"] = google.colab.output.setActiveOutputArea(window[\"a6fbe0b2-9dbb-11ec-b1b6-0242ac1c0002\"]);\n",
              "//# sourceURL=js_f81a08309b"
            ],
            "text/plain": [
              "<IPython.core.display.Javascript object>"
            ]
          },
          "metadata": {}
        },
        {
          "output_type": "display_data",
          "data": {
            "application/javascript": [
              "window[\"a73c642a-9dbb-11ec-b1b6-0242ac1c0002\"] = google.colab.output.getActiveOutputArea();\n",
              "//# sourceURL=js_bd965c2e97"
            ],
            "text/plain": [
              "<IPython.core.display.Javascript object>"
            ]
          },
          "metadata": {}
        },
        {
          "output_type": "display_data",
          "data": {
            "application/javascript": [
              "window[\"a73cdc20-9dbb-11ec-b1b6-0242ac1c0002\"] = document.querySelector(\"#id24-0-0\");\n",
              "//# sourceURL=js_55fc661bc5"
            ],
            "text/plain": [
              "<IPython.core.display.Javascript object>"
            ]
          },
          "metadata": {}
        },
        {
          "output_type": "display_data",
          "data": {
            "application/javascript": [
              "window[\"a73da614-9dbb-11ec-b1b6-0242ac1c0002\"] = google.colab.output.setActiveOutputArea(window[\"a73cdc20-9dbb-11ec-b1b6-0242ac1c0002\"]);\n",
              "//# sourceURL=js_c38845aa90"
            ],
            "text/plain": [
              "<IPython.core.display.Javascript object>"
            ]
          },
          "metadata": {}
        },
        {
          "output_type": "display_data",
          "data": {
            "application/javascript": [
              "window[\"a75b45b6-9dbb-11ec-b1b6-0242ac1c0002\"] = google.colab.output.setActiveOutputArea(window[\"a73c642a-9dbb-11ec-b1b6-0242ac1c0002\"]);\n",
              "//# sourceURL=js_18b0d41dd8"
            ],
            "text/plain": [
              "<IPython.core.display.Javascript object>"
            ]
          },
          "metadata": {}
        },
        {
          "output_type": "display_data",
          "data": {
            "application/javascript": [
              "window[\"a77c65ca-9dbb-11ec-b1b6-0242ac1c0002\"] = google.colab.output.getActiveOutputArea();\n",
              "//# sourceURL=js_83d63bdeba"
            ],
            "text/plain": [
              "<IPython.core.display.Javascript object>"
            ]
          },
          "metadata": {}
        },
        {
          "output_type": "display_data",
          "data": {
            "application/javascript": [
              "window[\"a77cdfd2-9dbb-11ec-b1b6-0242ac1c0002\"] = document.querySelector(\"#id24-0-0\");\n",
              "//# sourceURL=js_dbcc669c7e"
            ],
            "text/plain": [
              "<IPython.core.display.Javascript object>"
            ]
          },
          "metadata": {}
        },
        {
          "output_type": "display_data",
          "data": {
            "application/javascript": [
              "window[\"a77d7fb4-9dbb-11ec-b1b6-0242ac1c0002\"] = google.colab.output.setActiveOutputArea(window[\"a77cdfd2-9dbb-11ec-b1b6-0242ac1c0002\"]);\n",
              "//# sourceURL=js_14aae5b30b"
            ],
            "text/plain": [
              "<IPython.core.display.Javascript object>"
            ]
          },
          "metadata": {}
        },
        {
          "output_type": "display_data",
          "data": {
            "application/javascript": [
              "window[\"a799f388-9dbb-11ec-b1b6-0242ac1c0002\"] = google.colab.output.setActiveOutputArea(window[\"a77c65ca-9dbb-11ec-b1b6-0242ac1c0002\"]);\n",
              "//# sourceURL=js_ef5e4c099f"
            ],
            "text/plain": [
              "<IPython.core.display.Javascript object>"
            ]
          },
          "metadata": {}
        },
        {
          "output_type": "display_data",
          "data": {
            "application/javascript": [
              "window[\"a7bb2fb2-9dbb-11ec-b1b6-0242ac1c0002\"] = google.colab.output.getActiveOutputArea();\n",
              "//# sourceURL=js_d223cb72a9"
            ],
            "text/plain": [
              "<IPython.core.display.Javascript object>"
            ]
          },
          "metadata": {}
        },
        {
          "output_type": "display_data",
          "data": {
            "application/javascript": [
              "window[\"a7bc0fb8-9dbb-11ec-b1b6-0242ac1c0002\"] = document.querySelector(\"#id24-0-0\");\n",
              "//# sourceURL=js_063f252060"
            ],
            "text/plain": [
              "<IPython.core.display.Javascript object>"
            ]
          },
          "metadata": {}
        },
        {
          "output_type": "display_data",
          "data": {
            "application/javascript": [
              "window[\"a7bc9e88-9dbb-11ec-b1b6-0242ac1c0002\"] = google.colab.output.setActiveOutputArea(window[\"a7bc0fb8-9dbb-11ec-b1b6-0242ac1c0002\"]);\n",
              "//# sourceURL=js_205d52845b"
            ],
            "text/plain": [
              "<IPython.core.display.Javascript object>"
            ]
          },
          "metadata": {}
        },
        {
          "output_type": "display_data",
          "data": {
            "application/javascript": [
              "window[\"a7da09e6-9dbb-11ec-b1b6-0242ac1c0002\"] = google.colab.output.setActiveOutputArea(window[\"a7bb2fb2-9dbb-11ec-b1b6-0242ac1c0002\"]);\n",
              "//# sourceURL=js_ba77b6eb4e"
            ],
            "text/plain": [
              "<IPython.core.display.Javascript object>"
            ]
          },
          "metadata": {}
        },
        {
          "output_type": "display_data",
          "data": {
            "application/javascript": [
              "window[\"a7fb6c8a-9dbb-11ec-b1b6-0242ac1c0002\"] = google.colab.output.getActiveOutputArea();\n",
              "//# sourceURL=js_3c2c0519ba"
            ],
            "text/plain": [
              "<IPython.core.display.Javascript object>"
            ]
          },
          "metadata": {}
        },
        {
          "output_type": "display_data",
          "data": {
            "application/javascript": [
              "window[\"a7fbe11a-9dbb-11ec-b1b6-0242ac1c0002\"] = document.querySelector(\"#id24-0-0\");\n",
              "//# sourceURL=js_7ede2483a7"
            ],
            "text/plain": [
              "<IPython.core.display.Javascript object>"
            ]
          },
          "metadata": {}
        },
        {
          "output_type": "display_data",
          "data": {
            "application/javascript": [
              "window[\"a7fc4830-9dbb-11ec-b1b6-0242ac1c0002\"] = google.colab.output.setActiveOutputArea(window[\"a7fbe11a-9dbb-11ec-b1b6-0242ac1c0002\"]);\n",
              "//# sourceURL=js_0867507549"
            ],
            "text/plain": [
              "<IPython.core.display.Javascript object>"
            ]
          },
          "metadata": {}
        },
        {
          "output_type": "display_data",
          "data": {
            "application/javascript": [
              "window[\"a81bc7b4-9dbb-11ec-b1b6-0242ac1c0002\"] = google.colab.output.setActiveOutputArea(window[\"a7fb6c8a-9dbb-11ec-b1b6-0242ac1c0002\"]);\n",
              "//# sourceURL=js_03cbf8b9e5"
            ],
            "text/plain": [
              "<IPython.core.display.Javascript object>"
            ]
          },
          "metadata": {}
        },
        {
          "output_type": "display_data",
          "data": {
            "application/javascript": [
              "window[\"a83d2422-9dbb-11ec-b1b6-0242ac1c0002\"] = google.colab.output.getActiveOutputArea();\n",
              "//# sourceURL=js_1e841f6e95"
            ],
            "text/plain": [
              "<IPython.core.display.Javascript object>"
            ]
          },
          "metadata": {}
        },
        {
          "output_type": "display_data",
          "data": {
            "application/javascript": [
              "window[\"a83d85ac-9dbb-11ec-b1b6-0242ac1c0002\"] = document.querySelector(\"#id24-0-0\");\n",
              "//# sourceURL=js_5b53f6cedc"
            ],
            "text/plain": [
              "<IPython.core.display.Javascript object>"
            ]
          },
          "metadata": {}
        },
        {
          "output_type": "display_data",
          "data": {
            "application/javascript": [
              "window[\"a83e0086-9dbb-11ec-b1b6-0242ac1c0002\"] = google.colab.output.setActiveOutputArea(window[\"a83d85ac-9dbb-11ec-b1b6-0242ac1c0002\"]);\n",
              "//# sourceURL=js_b2e1af35c5"
            ],
            "text/plain": [
              "<IPython.core.display.Javascript object>"
            ]
          },
          "metadata": {}
        },
        {
          "output_type": "display_data",
          "data": {
            "application/javascript": [
              "window[\"a85d6ce6-9dbb-11ec-b1b6-0242ac1c0002\"] = google.colab.output.setActiveOutputArea(window[\"a83d2422-9dbb-11ec-b1b6-0242ac1c0002\"]);\n",
              "//# sourceURL=js_3bd1c7abc5"
            ],
            "text/plain": [
              "<IPython.core.display.Javascript object>"
            ]
          },
          "metadata": {}
        },
        {
          "output_type": "display_data",
          "data": {
            "application/javascript": [
              "window[\"a87e9e66-9dbb-11ec-b1b6-0242ac1c0002\"] = google.colab.output.getActiveOutputArea();\n",
              "//# sourceURL=js_85fe5e68c9"
            ],
            "text/plain": [
              "<IPython.core.display.Javascript object>"
            ]
          },
          "metadata": {}
        },
        {
          "output_type": "display_data",
          "data": {
            "application/javascript": [
              "window[\"a87f4f00-9dbb-11ec-b1b6-0242ac1c0002\"] = document.querySelector(\"#id24-0-0\");\n",
              "//# sourceURL=js_3a040d8e3e"
            ],
            "text/plain": [
              "<IPython.core.display.Javascript object>"
            ]
          },
          "metadata": {}
        },
        {
          "output_type": "display_data",
          "data": {
            "application/javascript": [
              "window[\"a87feeb0-9dbb-11ec-b1b6-0242ac1c0002\"] = google.colab.output.setActiveOutputArea(window[\"a87f4f00-9dbb-11ec-b1b6-0242ac1c0002\"]);\n",
              "//# sourceURL=js_6f25b89899"
            ],
            "text/plain": [
              "<IPython.core.display.Javascript object>"
            ]
          },
          "metadata": {}
        },
        {
          "output_type": "display_data",
          "data": {
            "application/javascript": [
              "window[\"a89d3844-9dbb-11ec-b1b6-0242ac1c0002\"] = google.colab.output.setActiveOutputArea(window[\"a87e9e66-9dbb-11ec-b1b6-0242ac1c0002\"]);\n",
              "//# sourceURL=js_634e02b6f7"
            ],
            "text/plain": [
              "<IPython.core.display.Javascript object>"
            ]
          },
          "metadata": {}
        },
        {
          "output_type": "display_data",
          "data": {
            "application/javascript": [
              "window[\"a8be638e-9dbb-11ec-b1b6-0242ac1c0002\"] = google.colab.output.getActiveOutputArea();\n",
              "//# sourceURL=js_7a5ce5f496"
            ],
            "text/plain": [
              "<IPython.core.display.Javascript object>"
            ]
          },
          "metadata": {}
        },
        {
          "output_type": "display_data",
          "data": {
            "application/javascript": [
              "window[\"a8bef48e-9dbb-11ec-b1b6-0242ac1c0002\"] = document.querySelector(\"#id24-0-0\");\n",
              "//# sourceURL=js_a91def0196"
            ],
            "text/plain": [
              "<IPython.core.display.Javascript object>"
            ]
          },
          "metadata": {}
        },
        {
          "output_type": "display_data",
          "data": {
            "application/javascript": [
              "window[\"a8bf7580-9dbb-11ec-b1b6-0242ac1c0002\"] = google.colab.output.setActiveOutputArea(window[\"a8bef48e-9dbb-11ec-b1b6-0242ac1c0002\"]);\n",
              "//# sourceURL=js_10cdce7342"
            ],
            "text/plain": [
              "<IPython.core.display.Javascript object>"
            ]
          },
          "metadata": {}
        },
        {
          "output_type": "display_data",
          "data": {
            "application/javascript": [
              "window[\"a8e58400-9dbb-11ec-b1b6-0242ac1c0002\"] = google.colab.output.setActiveOutputArea(window[\"a8be638e-9dbb-11ec-b1b6-0242ac1c0002\"]);\n",
              "//# sourceURL=js_dbe1953516"
            ],
            "text/plain": [
              "<IPython.core.display.Javascript object>"
            ]
          },
          "metadata": {}
        },
        {
          "output_type": "display_data",
          "data": {
            "application/javascript": [
              "window[\"a9068646-9dbb-11ec-b1b6-0242ac1c0002\"] = google.colab.output.getActiveOutputArea();\n",
              "//# sourceURL=js_f362535db4"
            ],
            "text/plain": [
              "<IPython.core.display.Javascript object>"
            ]
          },
          "metadata": {}
        },
        {
          "output_type": "display_data",
          "data": {
            "application/javascript": [
              "window[\"a9070120-9dbb-11ec-b1b6-0242ac1c0002\"] = document.querySelector(\"#id24-0-0\");\n",
              "//# sourceURL=js_ef12887b2a"
            ],
            "text/plain": [
              "<IPython.core.display.Javascript object>"
            ]
          },
          "metadata": {}
        },
        {
          "output_type": "display_data",
          "data": {
            "application/javascript": [
              "window[\"a907a6de-9dbb-11ec-b1b6-0242ac1c0002\"] = google.colab.output.setActiveOutputArea(window[\"a9070120-9dbb-11ec-b1b6-0242ac1c0002\"]);\n",
              "//# sourceURL=js_c89d0dad8e"
            ],
            "text/plain": [
              "<IPython.core.display.Javascript object>"
            ]
          },
          "metadata": {}
        },
        {
          "output_type": "display_data",
          "data": {
            "application/javascript": [
              "window[\"a9252088-9dbb-11ec-b1b6-0242ac1c0002\"] = google.colab.output.setActiveOutputArea(window[\"a9068646-9dbb-11ec-b1b6-0242ac1c0002\"]);\n",
              "//# sourceURL=js_bbc14fd8ab"
            ],
            "text/plain": [
              "<IPython.core.display.Javascript object>"
            ]
          },
          "metadata": {}
        },
        {
          "output_type": "display_data",
          "data": {
            "application/javascript": [
              "window[\"a9467828-9dbb-11ec-b1b6-0242ac1c0002\"] = google.colab.output.getActiveOutputArea();\n",
              "//# sourceURL=js_a99334ea11"
            ],
            "text/plain": [
              "<IPython.core.display.Javascript object>"
            ]
          },
          "metadata": {}
        },
        {
          "output_type": "display_data",
          "data": {
            "application/javascript": [
              "window[\"a9475cac-9dbb-11ec-b1b6-0242ac1c0002\"] = document.querySelector(\"#id24-0-0\");\n",
              "//# sourceURL=js_cbeca55367"
            ],
            "text/plain": [
              "<IPython.core.display.Javascript object>"
            ]
          },
          "metadata": {}
        },
        {
          "output_type": "display_data",
          "data": {
            "application/javascript": [
              "window[\"a947f6da-9dbb-11ec-b1b6-0242ac1c0002\"] = google.colab.output.setActiveOutputArea(window[\"a9475cac-9dbb-11ec-b1b6-0242ac1c0002\"]);\n",
              "//# sourceURL=js_7e46ac0d94"
            ],
            "text/plain": [
              "<IPython.core.display.Javascript object>"
            ]
          },
          "metadata": {}
        },
        {
          "output_type": "display_data",
          "data": {
            "application/javascript": [
              "window[\"a967084a-9dbb-11ec-b1b6-0242ac1c0002\"] = google.colab.output.setActiveOutputArea(window[\"a9467828-9dbb-11ec-b1b6-0242ac1c0002\"]);\n",
              "//# sourceURL=js_6765fe89c7"
            ],
            "text/plain": [
              "<IPython.core.display.Javascript object>"
            ]
          },
          "metadata": {}
        },
        {
          "output_type": "display_data",
          "data": {
            "application/javascript": [
              "window[\"a989491e-9dbb-11ec-b1b6-0242ac1c0002\"] = google.colab.output.getActiveOutputArea();\n",
              "//# sourceURL=js_3110b5b56a"
            ],
            "text/plain": [
              "<IPython.core.display.Javascript object>"
            ]
          },
          "metadata": {}
        },
        {
          "output_type": "display_data",
          "data": {
            "application/javascript": [
              "window[\"a989c790-9dbb-11ec-b1b6-0242ac1c0002\"] = document.querySelector(\"#id24-0-0\");\n",
              "//# sourceURL=js_5988a6e933"
            ],
            "text/plain": [
              "<IPython.core.display.Javascript object>"
            ]
          },
          "metadata": {}
        },
        {
          "output_type": "display_data",
          "data": {
            "application/javascript": [
              "window[\"a98a1a2e-9dbb-11ec-b1b6-0242ac1c0002\"] = google.colab.output.setActiveOutputArea(window[\"a989c790-9dbb-11ec-b1b6-0242ac1c0002\"]);\n",
              "//# sourceURL=js_e9fcfdf8c5"
            ],
            "text/plain": [
              "<IPython.core.display.Javascript object>"
            ]
          },
          "metadata": {}
        },
        {
          "output_type": "display_data",
          "data": {
            "application/javascript": [
              "window[\"a9a82dd4-9dbb-11ec-b1b6-0242ac1c0002\"] = google.colab.output.setActiveOutputArea(window[\"a989491e-9dbb-11ec-b1b6-0242ac1c0002\"]);\n",
              "//# sourceURL=js_3de069e8b6"
            ],
            "text/plain": [
              "<IPython.core.display.Javascript object>"
            ]
          },
          "metadata": {}
        },
        {
          "output_type": "display_data",
          "data": {
            "application/javascript": [
              "window[\"a9c935ec-9dbb-11ec-b1b6-0242ac1c0002\"] = google.colab.output.getActiveOutputArea();\n",
              "//# sourceURL=js_c79aac50b6"
            ],
            "text/plain": [
              "<IPython.core.display.Javascript object>"
            ]
          },
          "metadata": {}
        },
        {
          "output_type": "display_data",
          "data": {
            "application/javascript": [
              "window[\"a9c99f1e-9dbb-11ec-b1b6-0242ac1c0002\"] = document.querySelector(\"#id24-0-0\");\n",
              "//# sourceURL=js_00de228e7b"
            ],
            "text/plain": [
              "<IPython.core.display.Javascript object>"
            ]
          },
          "metadata": {}
        },
        {
          "output_type": "display_data",
          "data": {
            "application/javascript": [
              "window[\"a9ca1188-9dbb-11ec-b1b6-0242ac1c0002\"] = google.colab.output.setActiveOutputArea(window[\"a9c99f1e-9dbb-11ec-b1b6-0242ac1c0002\"]);\n",
              "//# sourceURL=js_987bb78a30"
            ],
            "text/plain": [
              "<IPython.core.display.Javascript object>"
            ]
          },
          "metadata": {}
        },
        {
          "output_type": "display_data",
          "data": {
            "application/javascript": [
              "window[\"a9e7500e-9dbb-11ec-b1b6-0242ac1c0002\"] = google.colab.output.setActiveOutputArea(window[\"a9c935ec-9dbb-11ec-b1b6-0242ac1c0002\"]);\n",
              "//# sourceURL=js_11d2c4bed7"
            ],
            "text/plain": [
              "<IPython.core.display.Javascript object>"
            ]
          },
          "metadata": {}
        },
        {
          "output_type": "display_data",
          "data": {
            "application/javascript": [
              "window[\"aa08f34e-9dbb-11ec-b1b6-0242ac1c0002\"] = google.colab.output.getActiveOutputArea();\n",
              "//# sourceURL=js_8e0dbc5fc8"
            ],
            "text/plain": [
              "<IPython.core.display.Javascript object>"
            ]
          },
          "metadata": {}
        },
        {
          "output_type": "display_data",
          "data": {
            "application/javascript": [
              "window[\"aa094a1a-9dbb-11ec-b1b6-0242ac1c0002\"] = document.querySelector(\"#id24-0-0\");\n",
              "//# sourceURL=js_72bff17473"
            ],
            "text/plain": [
              "<IPython.core.display.Javascript object>"
            ]
          },
          "metadata": {}
        },
        {
          "output_type": "display_data",
          "data": {
            "application/javascript": [
              "window[\"aa09a6b8-9dbb-11ec-b1b6-0242ac1c0002\"] = google.colab.output.setActiveOutputArea(window[\"aa094a1a-9dbb-11ec-b1b6-0242ac1c0002\"]);\n",
              "//# sourceURL=js_c6ac274166"
            ],
            "text/plain": [
              "<IPython.core.display.Javascript object>"
            ]
          },
          "metadata": {}
        },
        {
          "output_type": "display_data",
          "data": {
            "application/javascript": [
              "window[\"aa283074-9dbb-11ec-b1b6-0242ac1c0002\"] = google.colab.output.setActiveOutputArea(window[\"aa08f34e-9dbb-11ec-b1b6-0242ac1c0002\"]);\n",
              "//# sourceURL=js_9ff8bccdb1"
            ],
            "text/plain": [
              "<IPython.core.display.Javascript object>"
            ]
          },
          "metadata": {}
        },
        {
          "output_type": "display_data",
          "data": {
            "application/javascript": [
              "window[\"aa49a9de-9dbb-11ec-b1b6-0242ac1c0002\"] = google.colab.output.getActiveOutputArea();\n",
              "//# sourceURL=js_79f2b48008"
            ],
            "text/plain": [
              "<IPython.core.display.Javascript object>"
            ]
          },
          "metadata": {}
        },
        {
          "output_type": "display_data",
          "data": {
            "application/javascript": [
              "window[\"aa4a4060-9dbb-11ec-b1b6-0242ac1c0002\"] = document.querySelector(\"#id24-0-0\");\n",
              "//# sourceURL=js_2e20e2f257"
            ],
            "text/plain": [
              "<IPython.core.display.Javascript object>"
            ]
          },
          "metadata": {}
        },
        {
          "output_type": "display_data",
          "data": {
            "application/javascript": [
              "window[\"aa4abf4a-9dbb-11ec-b1b6-0242ac1c0002\"] = google.colab.output.setActiveOutputArea(window[\"aa4a4060-9dbb-11ec-b1b6-0242ac1c0002\"]);\n",
              "//# sourceURL=js_4a257c9fab"
            ],
            "text/plain": [
              "<IPython.core.display.Javascript object>"
            ]
          },
          "metadata": {}
        },
        {
          "output_type": "display_data",
          "data": {
            "application/javascript": [
              "window[\"aa68cefe-9dbb-11ec-b1b6-0242ac1c0002\"] = google.colab.output.setActiveOutputArea(window[\"aa49a9de-9dbb-11ec-b1b6-0242ac1c0002\"]);\n",
              "//# sourceURL=js_51a34a4ea4"
            ],
            "text/plain": [
              "<IPython.core.display.Javascript object>"
            ]
          },
          "metadata": {}
        },
        {
          "output_type": "display_data",
          "data": {
            "application/javascript": [
              "window[\"aa89d7de-9dbb-11ec-b1b6-0242ac1c0002\"] = google.colab.output.getActiveOutputArea();\n",
              "//# sourceURL=js_f1c1fd1aa5"
            ],
            "text/plain": [
              "<IPython.core.display.Javascript object>"
            ]
          },
          "metadata": {}
        },
        {
          "output_type": "display_data",
          "data": {
            "application/javascript": [
              "window[\"aa8a664a-9dbb-11ec-b1b6-0242ac1c0002\"] = document.querySelector(\"#id24-0-0\");\n",
              "//# sourceURL=js_d26d211c6d"
            ],
            "text/plain": [
              "<IPython.core.display.Javascript object>"
            ]
          },
          "metadata": {}
        },
        {
          "output_type": "display_data",
          "data": {
            "application/javascript": [
              "window[\"aa8b8bb0-9dbb-11ec-b1b6-0242ac1c0002\"] = google.colab.output.setActiveOutputArea(window[\"aa8a664a-9dbb-11ec-b1b6-0242ac1c0002\"]);\n",
              "//# sourceURL=js_043fe9d04c"
            ],
            "text/plain": [
              "<IPython.core.display.Javascript object>"
            ]
          },
          "metadata": {}
        },
        {
          "output_type": "display_data",
          "data": {
            "application/javascript": [
              "window[\"aaabdbea-9dbb-11ec-b1b6-0242ac1c0002\"] = google.colab.output.setActiveOutputArea(window[\"aa89d7de-9dbb-11ec-b1b6-0242ac1c0002\"]);\n",
              "//# sourceURL=js_3c0c66e079"
            ],
            "text/plain": [
              "<IPython.core.display.Javascript object>"
            ]
          },
          "metadata": {}
        },
        {
          "output_type": "display_data",
          "data": {
            "application/javascript": [
              "window[\"aacf8ffe-9dbb-11ec-b1b6-0242ac1c0002\"] = google.colab.output.getActiveOutputArea();\n",
              "//# sourceURL=js_901bedd9ff"
            ],
            "text/plain": [
              "<IPython.core.display.Javascript object>"
            ]
          },
          "metadata": {}
        },
        {
          "output_type": "display_data",
          "data": {
            "application/javascript": [
              "window[\"aad01672-9dbb-11ec-b1b6-0242ac1c0002\"] = document.querySelector(\"#id24-0-0\");\n",
              "//# sourceURL=js_7de4ee431d"
            ],
            "text/plain": [
              "<IPython.core.display.Javascript object>"
            ]
          },
          "metadata": {}
        },
        {
          "output_type": "display_data",
          "data": {
            "application/javascript": [
              "window[\"aad0f272-9dbb-11ec-b1b6-0242ac1c0002\"] = google.colab.output.setActiveOutputArea(window[\"aad01672-9dbb-11ec-b1b6-0242ac1c0002\"]);\n",
              "//# sourceURL=js_a7e2412c54"
            ],
            "text/plain": [
              "<IPython.core.display.Javascript object>"
            ]
          },
          "metadata": {}
        },
        {
          "output_type": "display_data",
          "data": {
            "application/javascript": [
              "window[\"aaf0354c-9dbb-11ec-b1b6-0242ac1c0002\"] = google.colab.output.setActiveOutputArea(window[\"aacf8ffe-9dbb-11ec-b1b6-0242ac1c0002\"]);\n",
              "//# sourceURL=js_c9fd626076"
            ],
            "text/plain": [
              "<IPython.core.display.Javascript object>"
            ]
          },
          "metadata": {}
        },
        {
          "output_type": "display_data",
          "data": {
            "application/javascript": [
              "window[\"ab15a52a-9dbb-11ec-b1b6-0242ac1c0002\"] = google.colab.output.getActiveOutputArea();\n",
              "//# sourceURL=js_70ba440097"
            ],
            "text/plain": [
              "<IPython.core.display.Javascript object>"
            ]
          },
          "metadata": {}
        },
        {
          "output_type": "display_data",
          "data": {
            "application/javascript": [
              "window[\"ab1642be-9dbb-11ec-b1b6-0242ac1c0002\"] = document.querySelector(\"#id24-0-0\");\n",
              "//# sourceURL=js_7283a1b412"
            ],
            "text/plain": [
              "<IPython.core.display.Javascript object>"
            ]
          },
          "metadata": {}
        },
        {
          "output_type": "display_data",
          "data": {
            "application/javascript": [
              "window[\"ab16be4c-9dbb-11ec-b1b6-0242ac1c0002\"] = google.colab.output.setActiveOutputArea(window[\"ab1642be-9dbb-11ec-b1b6-0242ac1c0002\"]);\n",
              "//# sourceURL=js_95cc59f05f"
            ],
            "text/plain": [
              "<IPython.core.display.Javascript object>"
            ]
          },
          "metadata": {}
        },
        {
          "output_type": "display_data",
          "data": {
            "application/javascript": [
              "window[\"ab3609d2-9dbb-11ec-b1b6-0242ac1c0002\"] = google.colab.output.setActiveOutputArea(window[\"ab15a52a-9dbb-11ec-b1b6-0242ac1c0002\"]);\n",
              "//# sourceURL=js_12a73c1f8d"
            ],
            "text/plain": [
              "<IPython.core.display.Javascript object>"
            ]
          },
          "metadata": {}
        },
        {
          "output_type": "display_data",
          "data": {
            "application/javascript": [
              "window[\"ab59ff40-9dbb-11ec-b1b6-0242ac1c0002\"] = google.colab.output.getActiveOutputArea();\n",
              "//# sourceURL=js_8dfe37fae5"
            ],
            "text/plain": [
              "<IPython.core.display.Javascript object>"
            ]
          },
          "metadata": {}
        },
        {
          "output_type": "display_data",
          "data": {
            "application/javascript": [
              "window[\"ab5a7db2-9dbb-11ec-b1b6-0242ac1c0002\"] = document.querySelector(\"#id24-0-0\");\n",
              "//# sourceURL=js_b5b5ef1f2d"
            ],
            "text/plain": [
              "<IPython.core.display.Javascript object>"
            ]
          },
          "metadata": {}
        },
        {
          "output_type": "display_data",
          "data": {
            "application/javascript": [
              "window[\"ab5b1470-9dbb-11ec-b1b6-0242ac1c0002\"] = google.colab.output.setActiveOutputArea(window[\"ab5a7db2-9dbb-11ec-b1b6-0242ac1c0002\"]);\n",
              "//# sourceURL=js_3437f859c8"
            ],
            "text/plain": [
              "<IPython.core.display.Javascript object>"
            ]
          },
          "metadata": {}
        },
        {
          "output_type": "display_data",
          "data": {
            "application/javascript": [
              "window[\"ab7b34da-9dbb-11ec-b1b6-0242ac1c0002\"] = google.colab.output.setActiveOutputArea(window[\"ab59ff40-9dbb-11ec-b1b6-0242ac1c0002\"]);\n",
              "//# sourceURL=js_f5c07b29b9"
            ],
            "text/plain": [
              "<IPython.core.display.Javascript object>"
            ]
          },
          "metadata": {}
        },
        {
          "output_type": "display_data",
          "data": {
            "application/javascript": [
              "window[\"ab9eb75c-9dbb-11ec-b1b6-0242ac1c0002\"] = google.colab.output.getActiveOutputArea();\n",
              "//# sourceURL=js_7e9ade6423"
            ],
            "text/plain": [
              "<IPython.core.display.Javascript object>"
            ]
          },
          "metadata": {}
        },
        {
          "output_type": "display_data",
          "data": {
            "application/javascript": [
              "window[\"ab9f6832-9dbb-11ec-b1b6-0242ac1c0002\"] = document.querySelector(\"#id24-0-0\");\n",
              "//# sourceURL=js_7cefbccda1"
            ],
            "text/plain": [
              "<IPython.core.display.Javascript object>"
            ]
          },
          "metadata": {}
        },
        {
          "output_type": "display_data",
          "data": {
            "application/javascript": [
              "window[\"aba04126-9dbb-11ec-b1b6-0242ac1c0002\"] = google.colab.output.setActiveOutputArea(window[\"ab9f6832-9dbb-11ec-b1b6-0242ac1c0002\"]);\n",
              "//# sourceURL=js_2a85e36105"
            ],
            "text/plain": [
              "<IPython.core.display.Javascript object>"
            ]
          },
          "metadata": {}
        },
        {
          "output_type": "display_data",
          "data": {
            "application/javascript": [
              "window[\"abbf30c2-9dbb-11ec-b1b6-0242ac1c0002\"] = google.colab.output.setActiveOutputArea(window[\"ab9eb75c-9dbb-11ec-b1b6-0242ac1c0002\"]);\n",
              "//# sourceURL=js_724c83eb3c"
            ],
            "text/plain": [
              "<IPython.core.display.Javascript object>"
            ]
          },
          "metadata": {}
        },
        {
          "output_type": "display_data",
          "data": {
            "application/javascript": [
              "window[\"abe037b8-9dbb-11ec-b1b6-0242ac1c0002\"] = google.colab.output.getActiveOutputArea();\n",
              "//# sourceURL=js_38cd7f7510"
            ],
            "text/plain": [
              "<IPython.core.display.Javascript object>"
            ]
          },
          "metadata": {}
        },
        {
          "output_type": "display_data",
          "data": {
            "application/javascript": [
              "window[\"abe0834e-9dbb-11ec-b1b6-0242ac1c0002\"] = document.querySelector(\"#id24-0-0\");\n",
              "//# sourceURL=js_01bb9ebe39"
            ],
            "text/plain": [
              "<IPython.core.display.Javascript object>"
            ]
          },
          "metadata": {}
        },
        {
          "output_type": "display_data",
          "data": {
            "application/javascript": [
              "window[\"abe0e6c2-9dbb-11ec-b1b6-0242ac1c0002\"] = google.colab.output.setActiveOutputArea(window[\"abe0834e-9dbb-11ec-b1b6-0242ac1c0002\"]);\n",
              "//# sourceURL=js_2f574819b1"
            ],
            "text/plain": [
              "<IPython.core.display.Javascript object>"
            ]
          },
          "metadata": {}
        },
        {
          "output_type": "display_data",
          "data": {
            "application/javascript": [
              "window[\"ac099ac2-9dbb-11ec-b1b6-0242ac1c0002\"] = google.colab.output.setActiveOutputArea(window[\"abe037b8-9dbb-11ec-b1b6-0242ac1c0002\"]);\n",
              "//# sourceURL=js_166b6d418c"
            ],
            "text/plain": [
              "<IPython.core.display.Javascript object>"
            ]
          },
          "metadata": {}
        },
        {
          "output_type": "display_data",
          "data": {
            "application/javascript": [
              "window[\"ac2ca63e-9dbb-11ec-b1b6-0242ac1c0002\"] = google.colab.output.getActiveOutputArea();\n",
              "//# sourceURL=js_518003847d"
            ],
            "text/plain": [
              "<IPython.core.display.Javascript object>"
            ]
          },
          "metadata": {}
        },
        {
          "output_type": "display_data",
          "data": {
            "application/javascript": [
              "window[\"ac2cf85a-9dbb-11ec-b1b6-0242ac1c0002\"] = document.querySelector(\"#id24-0-0\");\n",
              "//# sourceURL=js_b0472f33bc"
            ],
            "text/plain": [
              "<IPython.core.display.Javascript object>"
            ]
          },
          "metadata": {}
        },
        {
          "output_type": "display_data",
          "data": {
            "application/javascript": [
              "window[\"ac2d6a2e-9dbb-11ec-b1b6-0242ac1c0002\"] = google.colab.output.setActiveOutputArea(window[\"ac2cf85a-9dbb-11ec-b1b6-0242ac1c0002\"]);\n",
              "//# sourceURL=js_ea6bf7a363"
            ],
            "text/plain": [
              "<IPython.core.display.Javascript object>"
            ]
          },
          "metadata": {}
        },
        {
          "output_type": "display_data",
          "data": {
            "application/javascript": [
              "window[\"ac4b8c70-9dbb-11ec-b1b6-0242ac1c0002\"] = google.colab.output.setActiveOutputArea(window[\"ac2ca63e-9dbb-11ec-b1b6-0242ac1c0002\"]);\n",
              "//# sourceURL=js_8cc8ab530f"
            ],
            "text/plain": [
              "<IPython.core.display.Javascript object>"
            ]
          },
          "metadata": {}
        },
        {
          "output_type": "display_data",
          "data": {
            "application/javascript": [
              "window[\"ac6c84fc-9dbb-11ec-b1b6-0242ac1c0002\"] = google.colab.output.getActiveOutputArea();\n",
              "//# sourceURL=js_46b642b911"
            ],
            "text/plain": [
              "<IPython.core.display.Javascript object>"
            ]
          },
          "metadata": {}
        },
        {
          "output_type": "display_data",
          "data": {
            "application/javascript": [
              "window[\"ac6cefe6-9dbb-11ec-b1b6-0242ac1c0002\"] = document.querySelector(\"#id24-0-0\");\n",
              "//# sourceURL=js_408702e68f"
            ],
            "text/plain": [
              "<IPython.core.display.Javascript object>"
            ]
          },
          "metadata": {}
        },
        {
          "output_type": "display_data",
          "data": {
            "application/javascript": [
              "window[\"ac6e2fdc-9dbb-11ec-b1b6-0242ac1c0002\"] = google.colab.output.setActiveOutputArea(window[\"ac6cefe6-9dbb-11ec-b1b6-0242ac1c0002\"]);\n",
              "//# sourceURL=js_4f76773e28"
            ],
            "text/plain": [
              "<IPython.core.display.Javascript object>"
            ]
          },
          "metadata": {}
        },
        {
          "output_type": "display_data",
          "data": {
            "application/javascript": [
              "window[\"ac8a9014-9dbb-11ec-b1b6-0242ac1c0002\"] = google.colab.output.setActiveOutputArea(window[\"ac6c84fc-9dbb-11ec-b1b6-0242ac1c0002\"]);\n",
              "//# sourceURL=js_69dc3d7b42"
            ],
            "text/plain": [
              "<IPython.core.display.Javascript object>"
            ]
          },
          "metadata": {}
        },
        {
          "output_type": "display_data",
          "data": {
            "application/javascript": [
              "window[\"acaba9ac-9dbb-11ec-b1b6-0242ac1c0002\"] = google.colab.output.getActiveOutputArea();\n",
              "//# sourceURL=js_e323aee146"
            ],
            "text/plain": [
              "<IPython.core.display.Javascript object>"
            ]
          },
          "metadata": {}
        },
        {
          "output_type": "display_data",
          "data": {
            "application/javascript": [
              "window[\"acac1482-9dbb-11ec-b1b6-0242ac1c0002\"] = document.querySelector(\"#id24-0-0\");\n",
              "//# sourceURL=js_8f4d6a7bf0"
            ],
            "text/plain": [
              "<IPython.core.display.Javascript object>"
            ]
          },
          "metadata": {}
        },
        {
          "output_type": "display_data",
          "data": {
            "application/javascript": [
              "window[\"acac7ae4-9dbb-11ec-b1b6-0242ac1c0002\"] = google.colab.output.setActiveOutputArea(window[\"acac1482-9dbb-11ec-b1b6-0242ac1c0002\"]);\n",
              "//# sourceURL=js_8d4e2035fc"
            ],
            "text/plain": [
              "<IPython.core.display.Javascript object>"
            ]
          },
          "metadata": {}
        },
        {
          "output_type": "display_data",
          "data": {
            "application/javascript": [
              "window[\"accb23b8-9dbb-11ec-b1b6-0242ac1c0002\"] = google.colab.output.setActiveOutputArea(window[\"acaba9ac-9dbb-11ec-b1b6-0242ac1c0002\"]);\n",
              "//# sourceURL=js_b8896e01b7"
            ],
            "text/plain": [
              "<IPython.core.display.Javascript object>"
            ]
          },
          "metadata": {}
        },
        {
          "output_type": "display_data",
          "data": {
            "application/javascript": [
              "window[\"acecd5f8-9dbb-11ec-b1b6-0242ac1c0002\"] = google.colab.output.getActiveOutputArea();\n",
              "//# sourceURL=js_107eb11f68"
            ],
            "text/plain": [
              "<IPython.core.display.Javascript object>"
            ]
          },
          "metadata": {}
        },
        {
          "output_type": "display_data",
          "data": {
            "application/javascript": [
              "window[\"aced5258-9dbb-11ec-b1b6-0242ac1c0002\"] = document.querySelector(\"#id24-0-0\");\n",
              "//# sourceURL=js_fd489bb9d6"
            ],
            "text/plain": [
              "<IPython.core.display.Javascript object>"
            ]
          },
          "metadata": {}
        },
        {
          "output_type": "display_data",
          "data": {
            "application/javascript": [
              "window[\"acee04b4-9dbb-11ec-b1b6-0242ac1c0002\"] = google.colab.output.setActiveOutputArea(window[\"aced5258-9dbb-11ec-b1b6-0242ac1c0002\"]);\n",
              "//# sourceURL=js_099f830c15"
            ],
            "text/plain": [
              "<IPython.core.display.Javascript object>"
            ]
          },
          "metadata": {}
        },
        {
          "output_type": "display_data",
          "data": {
            "application/javascript": [
              "window[\"ad0d93b0-9dbb-11ec-b1b6-0242ac1c0002\"] = google.colab.output.setActiveOutputArea(window[\"acecd5f8-9dbb-11ec-b1b6-0242ac1c0002\"]);\n",
              "//# sourceURL=js_c87f2b79ff"
            ],
            "text/plain": [
              "<IPython.core.display.Javascript object>"
            ]
          },
          "metadata": {}
        },
        {
          "output_type": "display_data",
          "data": {
            "application/javascript": [
              "window[\"ad2ec080-9dbb-11ec-b1b6-0242ac1c0002\"] = google.colab.output.getActiveOutputArea();\n",
              "//# sourceURL=js_5688ca499e"
            ],
            "text/plain": [
              "<IPython.core.display.Javascript object>"
            ]
          },
          "metadata": {}
        },
        {
          "output_type": "display_data",
          "data": {
            "application/javascript": [
              "window[\"ad2f55c2-9dbb-11ec-b1b6-0242ac1c0002\"] = document.querySelector(\"#id24-0-0\");\n",
              "//# sourceURL=js_8b321a06d1"
            ],
            "text/plain": [
              "<IPython.core.display.Javascript object>"
            ]
          },
          "metadata": {}
        },
        {
          "output_type": "display_data",
          "data": {
            "application/javascript": [
              "window[\"ad2fc17e-9dbb-11ec-b1b6-0242ac1c0002\"] = google.colab.output.setActiveOutputArea(window[\"ad2f55c2-9dbb-11ec-b1b6-0242ac1c0002\"]);\n",
              "//# sourceURL=js_36ca241e36"
            ],
            "text/plain": [
              "<IPython.core.display.Javascript object>"
            ]
          },
          "metadata": {}
        },
        {
          "output_type": "display_data",
          "data": {
            "application/javascript": [
              "window[\"ad4daaa4-9dbb-11ec-b1b6-0242ac1c0002\"] = google.colab.output.setActiveOutputArea(window[\"ad2ec080-9dbb-11ec-b1b6-0242ac1c0002\"]);\n",
              "//# sourceURL=js_1d661503d2"
            ],
            "text/plain": [
              "<IPython.core.display.Javascript object>"
            ]
          },
          "metadata": {}
        },
        {
          "output_type": "display_data",
          "data": {
            "application/javascript": [
              "window[\"ad6ecea0-9dbb-11ec-b1b6-0242ac1c0002\"] = google.colab.output.getActiveOutputArea();\n",
              "//# sourceURL=js_fbafceb693"
            ],
            "text/plain": [
              "<IPython.core.display.Javascript object>"
            ]
          },
          "metadata": {}
        },
        {
          "output_type": "display_data",
          "data": {
            "application/javascript": [
              "window[\"ad6f2a62-9dbb-11ec-b1b6-0242ac1c0002\"] = document.querySelector(\"#id24-0-0\");\n",
              "//# sourceURL=js_168f44e5c5"
            ],
            "text/plain": [
              "<IPython.core.display.Javascript object>"
            ]
          },
          "metadata": {}
        },
        {
          "output_type": "display_data",
          "data": {
            "application/javascript": [
              "window[\"ad6fd98a-9dbb-11ec-b1b6-0242ac1c0002\"] = google.colab.output.setActiveOutputArea(window[\"ad6f2a62-9dbb-11ec-b1b6-0242ac1c0002\"]);\n",
              "//# sourceURL=js_6e700d6a17"
            ],
            "text/plain": [
              "<IPython.core.display.Javascript object>"
            ]
          },
          "metadata": {}
        },
        {
          "output_type": "display_data",
          "data": {
            "application/javascript": [
              "window[\"ad8d6bc6-9dbb-11ec-b1b6-0242ac1c0002\"] = google.colab.output.setActiveOutputArea(window[\"ad6ecea0-9dbb-11ec-b1b6-0242ac1c0002\"]);\n",
              "//# sourceURL=js_c686a4acf1"
            ],
            "text/plain": [
              "<IPython.core.display.Javascript object>"
            ]
          },
          "metadata": {}
        },
        {
          "output_type": "display_data",
          "data": {
            "application/javascript": [
              "window[\"adae9dc8-9dbb-11ec-b1b6-0242ac1c0002\"] = google.colab.output.getActiveOutputArea();\n",
              "//# sourceURL=js_7cd82121ea"
            ],
            "text/plain": [
              "<IPython.core.display.Javascript object>"
            ]
          },
          "metadata": {}
        },
        {
          "output_type": "display_data",
          "data": {
            "application/javascript": [
              "window[\"adaef548-9dbb-11ec-b1b6-0242ac1c0002\"] = document.querySelector(\"#id24-0-0\");\n",
              "//# sourceURL=js_49ffff68ba"
            ],
            "text/plain": [
              "<IPython.core.display.Javascript object>"
            ]
          },
          "metadata": {}
        },
        {
          "output_type": "display_data",
          "data": {
            "application/javascript": [
              "window[\"adaff7f4-9dbb-11ec-b1b6-0242ac1c0002\"] = google.colab.output.setActiveOutputArea(window[\"adaef548-9dbb-11ec-b1b6-0242ac1c0002\"]);\n",
              "//# sourceURL=js_e57b37777d"
            ],
            "text/plain": [
              "<IPython.core.display.Javascript object>"
            ]
          },
          "metadata": {}
        },
        {
          "output_type": "display_data",
          "data": {
            "application/javascript": [
              "window[\"adccd45a-9dbb-11ec-b1b6-0242ac1c0002\"] = google.colab.output.setActiveOutputArea(window[\"adae9dc8-9dbb-11ec-b1b6-0242ac1c0002\"]);\n",
              "//# sourceURL=js_cd4405a3c9"
            ],
            "text/plain": [
              "<IPython.core.display.Javascript object>"
            ]
          },
          "metadata": {}
        },
        {
          "output_type": "display_data",
          "data": {
            "application/javascript": [
              "window[\"adee3208-9dbb-11ec-b1b6-0242ac1c0002\"] = google.colab.output.getActiveOutputArea();\n",
              "//# sourceURL=js_c4532da5f7"
            ],
            "text/plain": [
              "<IPython.core.display.Javascript object>"
            ]
          },
          "metadata": {}
        },
        {
          "output_type": "display_data",
          "data": {
            "application/javascript": [
              "window[\"adeeac38-9dbb-11ec-b1b6-0242ac1c0002\"] = document.querySelector(\"#id24-0-0\");\n",
              "//# sourceURL=js_1b80757cb8"
            ],
            "text/plain": [
              "<IPython.core.display.Javascript object>"
            ]
          },
          "metadata": {}
        },
        {
          "output_type": "display_data",
          "data": {
            "application/javascript": [
              "window[\"adef19fc-9dbb-11ec-b1b6-0242ac1c0002\"] = google.colab.output.setActiveOutputArea(window[\"adeeac38-9dbb-11ec-b1b6-0242ac1c0002\"]);\n",
              "//# sourceURL=js_442371d5b2"
            ],
            "text/plain": [
              "<IPython.core.display.Javascript object>"
            ]
          },
          "metadata": {}
        },
        {
          "output_type": "display_data",
          "data": {
            "application/javascript": [
              "window[\"ae0c512a-9dbb-11ec-b1b6-0242ac1c0002\"] = google.colab.output.setActiveOutputArea(window[\"adee3208-9dbb-11ec-b1b6-0242ac1c0002\"]);\n",
              "//# sourceURL=js_951b41b781"
            ],
            "text/plain": [
              "<IPython.core.display.Javascript object>"
            ]
          },
          "metadata": {}
        },
        {
          "output_type": "display_data",
          "data": {
            "application/javascript": [
              "window[\"ae2d58f2-9dbb-11ec-b1b6-0242ac1c0002\"] = google.colab.output.getActiveOutputArea();\n",
              "//# sourceURL=js_098ddd5dc4"
            ],
            "text/plain": [
              "<IPython.core.display.Javascript object>"
            ]
          },
          "metadata": {}
        },
        {
          "output_type": "display_data",
          "data": {
            "application/javascript": [
              "window[\"ae2de682-9dbb-11ec-b1b6-0242ac1c0002\"] = document.querySelector(\"#id24-0-0\");\n",
              "//# sourceURL=js_cc9507b923"
            ],
            "text/plain": [
              "<IPython.core.display.Javascript object>"
            ]
          },
          "metadata": {}
        },
        {
          "output_type": "display_data",
          "data": {
            "application/javascript": [
              "window[\"ae2eae64-9dbb-11ec-b1b6-0242ac1c0002\"] = google.colab.output.setActiveOutputArea(window[\"ae2de682-9dbb-11ec-b1b6-0242ac1c0002\"]);\n",
              "//# sourceURL=js_a00825c4fa"
            ],
            "text/plain": [
              "<IPython.core.display.Javascript object>"
            ]
          },
          "metadata": {}
        },
        {
          "output_type": "display_data",
          "data": {
            "application/javascript": [
              "window[\"ae4e5674-9dbb-11ec-b1b6-0242ac1c0002\"] = google.colab.output.setActiveOutputArea(window[\"ae2d58f2-9dbb-11ec-b1b6-0242ac1c0002\"]);\n",
              "//# sourceURL=js_0ea5925059"
            ],
            "text/plain": [
              "<IPython.core.display.Javascript object>"
            ]
          },
          "metadata": {}
        },
        {
          "output_type": "display_data",
          "data": {
            "application/javascript": [
              "window[\"ae6f5108-9dbb-11ec-b1b6-0242ac1c0002\"] = google.colab.output.getActiveOutputArea();\n",
              "//# sourceURL=js_ff8e010ad0"
            ],
            "text/plain": [
              "<IPython.core.display.Javascript object>"
            ]
          },
          "metadata": {}
        },
        {
          "output_type": "display_data",
          "data": {
            "application/javascript": [
              "window[\"ae6fddee-9dbb-11ec-b1b6-0242ac1c0002\"] = document.querySelector(\"#id24-0-0\");\n",
              "//# sourceURL=js_d540aaf752"
            ],
            "text/plain": [
              "<IPython.core.display.Javascript object>"
            ]
          },
          "metadata": {}
        },
        {
          "output_type": "display_data",
          "data": {
            "application/javascript": [
              "window[\"ae70b494-9dbb-11ec-b1b6-0242ac1c0002\"] = google.colab.output.setActiveOutputArea(window[\"ae6fddee-9dbb-11ec-b1b6-0242ac1c0002\"]);\n",
              "//# sourceURL=js_caa6e100a8"
            ],
            "text/plain": [
              "<IPython.core.display.Javascript object>"
            ]
          },
          "metadata": {}
        },
        {
          "output_type": "display_data",
          "data": {
            "application/javascript": [
              "window[\"ae8e5bfc-9dbb-11ec-b1b6-0242ac1c0002\"] = google.colab.output.setActiveOutputArea(window[\"ae6f5108-9dbb-11ec-b1b6-0242ac1c0002\"]);\n",
              "//# sourceURL=js_a46d6b6ed7"
            ],
            "text/plain": [
              "<IPython.core.display.Javascript object>"
            ]
          },
          "metadata": {}
        },
        {
          "output_type": "display_data",
          "data": {
            "application/javascript": [
              "window[\"aeaf6fea-9dbb-11ec-b1b6-0242ac1c0002\"] = google.colab.output.getActiveOutputArea();\n",
              "//# sourceURL=js_dd33bcb864"
            ],
            "text/plain": [
              "<IPython.core.display.Javascript object>"
            ]
          },
          "metadata": {}
        },
        {
          "output_type": "display_data",
          "data": {
            "application/javascript": [
              "window[\"aeaff028-9dbb-11ec-b1b6-0242ac1c0002\"] = document.querySelector(\"#id24-0-0\");\n",
              "//# sourceURL=js_ed55903bbb"
            ],
            "text/plain": [
              "<IPython.core.display.Javascript object>"
            ]
          },
          "metadata": {}
        },
        {
          "output_type": "display_data",
          "data": {
            "application/javascript": [
              "window[\"aeb0b756-9dbb-11ec-b1b6-0242ac1c0002\"] = google.colab.output.setActiveOutputArea(window[\"aeaff028-9dbb-11ec-b1b6-0242ac1c0002\"]);\n",
              "//# sourceURL=js_d8bac44acf"
            ],
            "text/plain": [
              "<IPython.core.display.Javascript object>"
            ]
          },
          "metadata": {}
        },
        {
          "output_type": "display_data",
          "data": {
            "application/javascript": [
              "window[\"aece365a-9dbb-11ec-b1b6-0242ac1c0002\"] = google.colab.output.setActiveOutputArea(window[\"aeaf6fea-9dbb-11ec-b1b6-0242ac1c0002\"]);\n",
              "//# sourceURL=js_aa8b7ea2fd"
            ],
            "text/plain": [
              "<IPython.core.display.Javascript object>"
            ]
          },
          "metadata": {}
        },
        {
          "output_type": "display_data",
          "data": {
            "application/javascript": [
              "window[\"aeef42d2-9dbb-11ec-b1b6-0242ac1c0002\"] = google.colab.output.getActiveOutputArea();\n",
              "//# sourceURL=js_19719330fe"
            ],
            "text/plain": [
              "<IPython.core.display.Javascript object>"
            ]
          },
          "metadata": {}
        },
        {
          "output_type": "display_data",
          "data": {
            "application/javascript": [
              "window[\"aeefa9fc-9dbb-11ec-b1b6-0242ac1c0002\"] = document.querySelector(\"#id24-0-0\");\n",
              "//# sourceURL=js_09af0a4f74"
            ],
            "text/plain": [
              "<IPython.core.display.Javascript object>"
            ]
          },
          "metadata": {}
        },
        {
          "output_type": "display_data",
          "data": {
            "application/javascript": [
              "window[\"aef022f6-9dbb-11ec-b1b6-0242ac1c0002\"] = google.colab.output.setActiveOutputArea(window[\"aeefa9fc-9dbb-11ec-b1b6-0242ac1c0002\"]);\n",
              "//# sourceURL=js_f6fdcb799a"
            ],
            "text/plain": [
              "<IPython.core.display.Javascript object>"
            ]
          },
          "metadata": {}
        },
        {
          "output_type": "display_data",
          "data": {
            "application/javascript": [
              "window[\"af18b7ac-9dbb-11ec-b1b6-0242ac1c0002\"] = google.colab.output.setActiveOutputArea(window[\"aeef42d2-9dbb-11ec-b1b6-0242ac1c0002\"]);\n",
              "//# sourceURL=js_1851cbd486"
            ],
            "text/plain": [
              "<IPython.core.display.Javascript object>"
            ]
          },
          "metadata": {}
        },
        {
          "output_type": "display_data",
          "data": {
            "application/javascript": [
              "window[\"af3bb05e-9dbb-11ec-b1b6-0242ac1c0002\"] = google.colab.output.getActiveOutputArea();\n",
              "//# sourceURL=js_c6f7ed57af"
            ],
            "text/plain": [
              "<IPython.core.display.Javascript object>"
            ]
          },
          "metadata": {}
        },
        {
          "output_type": "display_data",
          "data": {
            "application/javascript": [
              "window[\"af3c91e0-9dbb-11ec-b1b6-0242ac1c0002\"] = document.querySelector(\"#id24-0-0\");\n",
              "//# sourceURL=js_100bc01364"
            ],
            "text/plain": [
              "<IPython.core.display.Javascript object>"
            ]
          },
          "metadata": {}
        },
        {
          "output_type": "display_data",
          "data": {
            "application/javascript": [
              "window[\"af3d0aa8-9dbb-11ec-b1b6-0242ac1c0002\"] = google.colab.output.setActiveOutputArea(window[\"af3c91e0-9dbb-11ec-b1b6-0242ac1c0002\"]);\n",
              "//# sourceURL=js_6dbe5288ac"
            ],
            "text/plain": [
              "<IPython.core.display.Javascript object>"
            ]
          },
          "metadata": {}
        },
        {
          "output_type": "display_data",
          "data": {
            "application/javascript": [
              "window[\"af5cd40a-9dbb-11ec-b1b6-0242ac1c0002\"] = google.colab.output.setActiveOutputArea(window[\"af3bb05e-9dbb-11ec-b1b6-0242ac1c0002\"]);\n",
              "//# sourceURL=js_cbd334c60c"
            ],
            "text/plain": [
              "<IPython.core.display.Javascript object>"
            ]
          },
          "metadata": {}
        },
        {
          "output_type": "display_data",
          "data": {
            "application/javascript": [
              "window[\"af7dd7e0-9dbb-11ec-b1b6-0242ac1c0002\"] = google.colab.output.getActiveOutputArea();\n",
              "//# sourceURL=js_552c70c155"
            ],
            "text/plain": [
              "<IPython.core.display.Javascript object>"
            ]
          },
          "metadata": {}
        },
        {
          "output_type": "display_data",
          "data": {
            "application/javascript": [
              "window[\"af7e2a92-9dbb-11ec-b1b6-0242ac1c0002\"] = document.querySelector(\"#id24-0-0\");\n",
              "//# sourceURL=js_09ba809744"
            ],
            "text/plain": [
              "<IPython.core.display.Javascript object>"
            ]
          },
          "metadata": {}
        },
        {
          "output_type": "display_data",
          "data": {
            "application/javascript": [
              "window[\"af7e7af6-9dbb-11ec-b1b6-0242ac1c0002\"] = google.colab.output.setActiveOutputArea(window[\"af7e2a92-9dbb-11ec-b1b6-0242ac1c0002\"]);\n",
              "//# sourceURL=js_312dc3318f"
            ],
            "text/plain": [
              "<IPython.core.display.Javascript object>"
            ]
          },
          "metadata": {}
        },
        {
          "output_type": "display_data",
          "data": {
            "application/javascript": [
              "window[\"af9ef89e-9dbb-11ec-b1b6-0242ac1c0002\"] = google.colab.output.setActiveOutputArea(window[\"af7dd7e0-9dbb-11ec-b1b6-0242ac1c0002\"]);\n",
              "//# sourceURL=js_9b781e68cf"
            ],
            "text/plain": [
              "<IPython.core.display.Javascript object>"
            ]
          },
          "metadata": {}
        },
        {
          "output_type": "display_data",
          "data": {
            "application/javascript": [
              "window[\"afc2a492-9dbb-11ec-b1b6-0242ac1c0002\"] = google.colab.output.getActiveOutputArea();\n",
              "//# sourceURL=js_df3dd55cc9"
            ],
            "text/plain": [
              "<IPython.core.display.Javascript object>"
            ]
          },
          "metadata": {}
        },
        {
          "output_type": "display_data",
          "data": {
            "application/javascript": [
              "window[\"afc2fc6c-9dbb-11ec-b1b6-0242ac1c0002\"] = document.querySelector(\"#id24-0-0\");\n",
              "//# sourceURL=js_f04166d33b"
            ],
            "text/plain": [
              "<IPython.core.display.Javascript object>"
            ]
          },
          "metadata": {}
        },
        {
          "output_type": "display_data",
          "data": {
            "application/javascript": [
              "window[\"afc36634-9dbb-11ec-b1b6-0242ac1c0002\"] = google.colab.output.setActiveOutputArea(window[\"afc2fc6c-9dbb-11ec-b1b6-0242ac1c0002\"]);\n",
              "//# sourceURL=js_9d08cee2ec"
            ],
            "text/plain": [
              "<IPython.core.display.Javascript object>"
            ]
          },
          "metadata": {}
        },
        {
          "output_type": "display_data",
          "data": {
            "application/javascript": [
              "window[\"afe248ec-9dbb-11ec-b1b6-0242ac1c0002\"] = google.colab.output.setActiveOutputArea(window[\"afc2a492-9dbb-11ec-b1b6-0242ac1c0002\"]);\n",
              "//# sourceURL=js_84cba8bcb0"
            ],
            "text/plain": [
              "<IPython.core.display.Javascript object>"
            ]
          },
          "metadata": {}
        },
        {
          "output_type": "display_data",
          "data": {
            "application/javascript": [
              "window[\"b00367b6-9dbb-11ec-b1b6-0242ac1c0002\"] = google.colab.output.getActiveOutputArea();\n",
              "//# sourceURL=js_8b14fa2218"
            ],
            "text/plain": [
              "<IPython.core.display.Javascript object>"
            ]
          },
          "metadata": {}
        },
        {
          "output_type": "display_data",
          "data": {
            "application/javascript": [
              "window[\"b003efd8-9dbb-11ec-b1b6-0242ac1c0002\"] = document.querySelector(\"#id24-0-0\");\n",
              "//# sourceURL=js_95e6771aad"
            ],
            "text/plain": [
              "<IPython.core.display.Javascript object>"
            ]
          },
          "metadata": {}
        },
        {
          "output_type": "display_data",
          "data": {
            "application/javascript": [
              "window[\"b004563a-9dbb-11ec-b1b6-0242ac1c0002\"] = google.colab.output.setActiveOutputArea(window[\"b003efd8-9dbb-11ec-b1b6-0242ac1c0002\"]);\n",
              "//# sourceURL=js_0161db39d3"
            ],
            "text/plain": [
              "<IPython.core.display.Javascript object>"
            ]
          },
          "metadata": {}
        },
        {
          "output_type": "display_data",
          "data": {
            "application/javascript": [
              "window[\"b023e360-9dbb-11ec-b1b6-0242ac1c0002\"] = google.colab.output.setActiveOutputArea(window[\"b00367b6-9dbb-11ec-b1b6-0242ac1c0002\"]);\n",
              "//# sourceURL=js_91bc98d557"
            ],
            "text/plain": [
              "<IPython.core.display.Javascript object>"
            ]
          },
          "metadata": {}
        },
        {
          "output_type": "display_data",
          "data": {
            "application/javascript": [
              "window[\"b0450e82-9dbb-11ec-b1b6-0242ac1c0002\"] = google.colab.output.getActiveOutputArea();\n",
              "//# sourceURL=js_9694af9927"
            ],
            "text/plain": [
              "<IPython.core.display.Javascript object>"
            ]
          },
          "metadata": {}
        },
        {
          "output_type": "display_data",
          "data": {
            "application/javascript": [
              "window[\"b0457002-9dbb-11ec-b1b6-0242ac1c0002\"] = document.querySelector(\"#id24-0-0\");\n",
              "//# sourceURL=js_62207a39d4"
            ],
            "text/plain": [
              "<IPython.core.display.Javascript object>"
            ]
          },
          "metadata": {}
        },
        {
          "output_type": "display_data",
          "data": {
            "application/javascript": [
              "window[\"b0460d78-9dbb-11ec-b1b6-0242ac1c0002\"] = google.colab.output.setActiveOutputArea(window[\"b0457002-9dbb-11ec-b1b6-0242ac1c0002\"]);\n",
              "//# sourceURL=js_d0c2d5dc63"
            ],
            "text/plain": [
              "<IPython.core.display.Javascript object>"
            ]
          },
          "metadata": {}
        },
        {
          "output_type": "display_data",
          "data": {
            "application/javascript": [
              "window[\"b0657136-9dbb-11ec-b1b6-0242ac1c0002\"] = google.colab.output.setActiveOutputArea(window[\"b0450e82-9dbb-11ec-b1b6-0242ac1c0002\"]);\n",
              "//# sourceURL=js_ee9f4dc0f2"
            ],
            "text/plain": [
              "<IPython.core.display.Javascript object>"
            ]
          },
          "metadata": {}
        },
        {
          "output_type": "display_data",
          "data": {
            "application/javascript": [
              "window[\"b086719c-9dbb-11ec-b1b6-0242ac1c0002\"] = google.colab.output.getActiveOutputArea();\n",
              "//# sourceURL=js_103e7c669c"
            ],
            "text/plain": [
              "<IPython.core.display.Javascript object>"
            ]
          },
          "metadata": {}
        },
        {
          "output_type": "display_data",
          "data": {
            "application/javascript": [
              "window[\"b086d7c2-9dbb-11ec-b1b6-0242ac1c0002\"] = document.querySelector(\"#id24-0-0\");\n",
              "//# sourceURL=js_1a93323748"
            ],
            "text/plain": [
              "<IPython.core.display.Javascript object>"
            ]
          },
          "metadata": {}
        },
        {
          "output_type": "display_data",
          "data": {
            "application/javascript": [
              "window[\"b0875a62-9dbb-11ec-b1b6-0242ac1c0002\"] = google.colab.output.setActiveOutputArea(window[\"b086d7c2-9dbb-11ec-b1b6-0242ac1c0002\"]);\n",
              "//# sourceURL=js_2669ec4bdb"
            ],
            "text/plain": [
              "<IPython.core.display.Javascript object>"
            ]
          },
          "metadata": {}
        },
        {
          "output_type": "display_data",
          "data": {
            "application/javascript": [
              "window[\"b0a6bd3a-9dbb-11ec-b1b6-0242ac1c0002\"] = google.colab.output.setActiveOutputArea(window[\"b086719c-9dbb-11ec-b1b6-0242ac1c0002\"]);\n",
              "//# sourceURL=js_8cf469682e"
            ],
            "text/plain": [
              "<IPython.core.display.Javascript object>"
            ]
          },
          "metadata": {}
        },
        {
          "output_type": "display_data",
          "data": {
            "application/javascript": [
              "window[\"b0c80490-9dbb-11ec-b1b6-0242ac1c0002\"] = google.colab.output.getActiveOutputArea();\n",
              "//# sourceURL=js_d94bf6db89"
            ],
            "text/plain": [
              "<IPython.core.display.Javascript object>"
            ]
          },
          "metadata": {}
        },
        {
          "output_type": "display_data",
          "data": {
            "application/javascript": [
              "window[\"b0c885f0-9dbb-11ec-b1b6-0242ac1c0002\"] = document.querySelector(\"#id24-0-0\");\n",
              "//# sourceURL=js_c601db3294"
            ],
            "text/plain": [
              "<IPython.core.display.Javascript object>"
            ]
          },
          "metadata": {}
        },
        {
          "output_type": "display_data",
          "data": {
            "application/javascript": [
              "window[\"b0c92708-9dbb-11ec-b1b6-0242ac1c0002\"] = google.colab.output.setActiveOutputArea(window[\"b0c885f0-9dbb-11ec-b1b6-0242ac1c0002\"]);\n",
              "//# sourceURL=js_d970f254c2"
            ],
            "text/plain": [
              "<IPython.core.display.Javascript object>"
            ]
          },
          "metadata": {}
        },
        {
          "output_type": "display_data",
          "data": {
            "application/javascript": [
              "window[\"b0e8db20-9dbb-11ec-b1b6-0242ac1c0002\"] = google.colab.output.setActiveOutputArea(window[\"b0c80490-9dbb-11ec-b1b6-0242ac1c0002\"]);\n",
              "//# sourceURL=js_d55dcaf7b5"
            ],
            "text/plain": [
              "<IPython.core.display.Javascript object>"
            ]
          },
          "metadata": {}
        },
        {
          "output_type": "display_data",
          "data": {
            "application/javascript": [
              "window[\"b109b480-9dbb-11ec-b1b6-0242ac1c0002\"] = google.colab.output.getActiveOutputArea();\n",
              "//# sourceURL=js_aec38a3880"
            ],
            "text/plain": [
              "<IPython.core.display.Javascript object>"
            ]
          },
          "metadata": {}
        },
        {
          "output_type": "display_data",
          "data": {
            "application/javascript": [
              "window[\"b10a1682-9dbb-11ec-b1b6-0242ac1c0002\"] = document.querySelector(\"#id24-0-0\");\n",
              "//# sourceURL=js_5ba898d412"
            ],
            "text/plain": [
              "<IPython.core.display.Javascript object>"
            ]
          },
          "metadata": {}
        },
        {
          "output_type": "display_data",
          "data": {
            "application/javascript": [
              "window[\"b10a79b0-9dbb-11ec-b1b6-0242ac1c0002\"] = google.colab.output.setActiveOutputArea(window[\"b10a1682-9dbb-11ec-b1b6-0242ac1c0002\"]);\n",
              "//# sourceURL=js_783f3f4090"
            ],
            "text/plain": [
              "<IPython.core.display.Javascript object>"
            ]
          },
          "metadata": {}
        },
        {
          "output_type": "display_data",
          "data": {
            "application/javascript": [
              "window[\"b1293e54-9dbb-11ec-b1b6-0242ac1c0002\"] = google.colab.output.setActiveOutputArea(window[\"b109b480-9dbb-11ec-b1b6-0242ac1c0002\"]);\n",
              "//# sourceURL=js_24c2cec9dd"
            ],
            "text/plain": [
              "<IPython.core.display.Javascript object>"
            ]
          },
          "metadata": {}
        },
        {
          "output_type": "display_data",
          "data": {
            "application/javascript": [
              "window[\"b14a6b24-9dbb-11ec-b1b6-0242ac1c0002\"] = google.colab.output.getActiveOutputArea();\n",
              "//# sourceURL=js_3b209b510e"
            ],
            "text/plain": [
              "<IPython.core.display.Javascript object>"
            ]
          },
          "metadata": {}
        },
        {
          "output_type": "display_data",
          "data": {
            "application/javascript": [
              "window[\"b14ac862-9dbb-11ec-b1b6-0242ac1c0002\"] = document.querySelector(\"#id24-0-0\");\n",
              "//# sourceURL=js_d0e293d2bc"
            ],
            "text/plain": [
              "<IPython.core.display.Javascript object>"
            ]
          },
          "metadata": {}
        },
        {
          "output_type": "display_data",
          "data": {
            "application/javascript": [
              "window[\"b14ba55c-9dbb-11ec-b1b6-0242ac1c0002\"] = google.colab.output.setActiveOutputArea(window[\"b14ac862-9dbb-11ec-b1b6-0242ac1c0002\"]);\n",
              "//# sourceURL=js_d2f59dc814"
            ],
            "text/plain": [
              "<IPython.core.display.Javascript object>"
            ]
          },
          "metadata": {}
        },
        {
          "output_type": "display_data",
          "data": {
            "application/javascript": [
              "window[\"b16b59ba-9dbb-11ec-b1b6-0242ac1c0002\"] = google.colab.output.setActiveOutputArea(window[\"b14a6b24-9dbb-11ec-b1b6-0242ac1c0002\"]);\n",
              "//# sourceURL=js_ef47987800"
            ],
            "text/plain": [
              "<IPython.core.display.Javascript object>"
            ]
          },
          "metadata": {}
        },
        {
          "output_type": "display_data",
          "data": {
            "application/javascript": [
              "window[\"b18cadae-9dbb-11ec-b1b6-0242ac1c0002\"] = google.colab.output.getActiveOutputArea();\n",
              "//# sourceURL=js_34926698ee"
            ],
            "text/plain": [
              "<IPython.core.display.Javascript object>"
            ]
          },
          "metadata": {}
        },
        {
          "output_type": "display_data",
          "data": {
            "application/javascript": [
              "window[\"b18d421e-9dbb-11ec-b1b6-0242ac1c0002\"] = document.querySelector(\"#id24-0-0\");\n",
              "//# sourceURL=js_00ff3e4bd7"
            ],
            "text/plain": [
              "<IPython.core.display.Javascript object>"
            ]
          },
          "metadata": {}
        },
        {
          "output_type": "display_data",
          "data": {
            "application/javascript": [
              "window[\"b18dca72-9dbb-11ec-b1b6-0242ac1c0002\"] = google.colab.output.setActiveOutputArea(window[\"b18d421e-9dbb-11ec-b1b6-0242ac1c0002\"]);\n",
              "//# sourceURL=js_7b7886ea4c"
            ],
            "text/plain": [
              "<IPython.core.display.Javascript object>"
            ]
          },
          "metadata": {}
        },
        {
          "output_type": "display_data",
          "data": {
            "application/javascript": [
              "window[\"b1ab8fd0-9dbb-11ec-b1b6-0242ac1c0002\"] = google.colab.output.setActiveOutputArea(window[\"b18cadae-9dbb-11ec-b1b6-0242ac1c0002\"]);\n",
              "//# sourceURL=js_1ae984a28e"
            ],
            "text/plain": [
              "<IPython.core.display.Javascript object>"
            ]
          },
          "metadata": {}
        },
        {
          "output_type": "display_data",
          "data": {
            "application/javascript": [
              "window[\"b1ccb958-9dbb-11ec-b1b6-0242ac1c0002\"] = google.colab.output.getActiveOutputArea();\n",
              "//# sourceURL=js_a05fc19bec"
            ],
            "text/plain": [
              "<IPython.core.display.Javascript object>"
            ]
          },
          "metadata": {}
        },
        {
          "output_type": "display_data",
          "data": {
            "application/javascript": [
              "window[\"b1cd5bc4-9dbb-11ec-b1b6-0242ac1c0002\"] = document.querySelector(\"#id24-0-0\");\n",
              "//# sourceURL=js_2920934d10"
            ],
            "text/plain": [
              "<IPython.core.display.Javascript object>"
            ]
          },
          "metadata": {}
        },
        {
          "output_type": "display_data",
          "data": {
            "application/javascript": [
              "window[\"b1cdc6cc-9dbb-11ec-b1b6-0242ac1c0002\"] = google.colab.output.setActiveOutputArea(window[\"b1cd5bc4-9dbb-11ec-b1b6-0242ac1c0002\"]);\n",
              "//# sourceURL=js_312d837483"
            ],
            "text/plain": [
              "<IPython.core.display.Javascript object>"
            ]
          },
          "metadata": {}
        },
        {
          "output_type": "display_data",
          "data": {
            "application/javascript": [
              "window[\"b1ee26f6-9dbb-11ec-b1b6-0242ac1c0002\"] = google.colab.output.setActiveOutputArea(window[\"b1ccb958-9dbb-11ec-b1b6-0242ac1c0002\"]);\n",
              "//# sourceURL=js_c5cd1930b9"
            ],
            "text/plain": [
              "<IPython.core.display.Javascript object>"
            ]
          },
          "metadata": {}
        },
        {
          "output_type": "display_data",
          "data": {
            "application/javascript": [
              "window[\"b20f6f0a-9dbb-11ec-b1b6-0242ac1c0002\"] = google.colab.output.getActiveOutputArea();\n",
              "//# sourceURL=js_96e2992c38"
            ],
            "text/plain": [
              "<IPython.core.display.Javascript object>"
            ]
          },
          "metadata": {}
        },
        {
          "output_type": "display_data",
          "data": {
            "application/javascript": [
              "window[\"b210000a-9dbb-11ec-b1b6-0242ac1c0002\"] = document.querySelector(\"#id24-0-0\");\n",
              "//# sourceURL=js_28b1dd30b8"
            ],
            "text/plain": [
              "<IPython.core.display.Javascript object>"
            ]
          },
          "metadata": {}
        },
        {
          "output_type": "display_data",
          "data": {
            "application/javascript": [
              "window[\"b210989e-9dbb-11ec-b1b6-0242ac1c0002\"] = google.colab.output.setActiveOutputArea(window[\"b210000a-9dbb-11ec-b1b6-0242ac1c0002\"]);\n",
              "//# sourceURL=js_8501b18a43"
            ],
            "text/plain": [
              "<IPython.core.display.Javascript object>"
            ]
          },
          "metadata": {}
        },
        {
          "output_type": "display_data",
          "data": {
            "application/javascript": [
              "window[\"b237b302-9dbb-11ec-b1b6-0242ac1c0002\"] = google.colab.output.setActiveOutputArea(window[\"b20f6f0a-9dbb-11ec-b1b6-0242ac1c0002\"]);\n",
              "//# sourceURL=js_30b399c01f"
            ],
            "text/plain": [
              "<IPython.core.display.Javascript object>"
            ]
          },
          "metadata": {}
        },
        {
          "output_type": "display_data",
          "data": {
            "application/javascript": [
              "window[\"b259a732-9dbb-11ec-b1b6-0242ac1c0002\"] = google.colab.output.getActiveOutputArea();\n",
              "//# sourceURL=js_27791ff72e"
            ],
            "text/plain": [
              "<IPython.core.display.Javascript object>"
            ]
          },
          "metadata": {}
        },
        {
          "output_type": "display_data",
          "data": {
            "application/javascript": [
              "window[\"b25a0010-9dbb-11ec-b1b6-0242ac1c0002\"] = document.querySelector(\"#id24-0-0\");\n",
              "//# sourceURL=js_14edecda00"
            ],
            "text/plain": [
              "<IPython.core.display.Javascript object>"
            ]
          },
          "metadata": {}
        },
        {
          "output_type": "display_data",
          "data": {
            "application/javascript": [
              "window[\"b25a70fe-9dbb-11ec-b1b6-0242ac1c0002\"] = google.colab.output.setActiveOutputArea(window[\"b25a0010-9dbb-11ec-b1b6-0242ac1c0002\"]);\n",
              "//# sourceURL=js_5171b24c71"
            ],
            "text/plain": [
              "<IPython.core.display.Javascript object>"
            ]
          },
          "metadata": {}
        },
        {
          "output_type": "display_data",
          "data": {
            "application/javascript": [
              "window[\"b27a9c1c-9dbb-11ec-b1b6-0242ac1c0002\"] = google.colab.output.setActiveOutputArea(window[\"b259a732-9dbb-11ec-b1b6-0242ac1c0002\"]);\n",
              "//# sourceURL=js_604789a69b"
            ],
            "text/plain": [
              "<IPython.core.display.Javascript object>"
            ]
          },
          "metadata": {}
        },
        {
          "output_type": "display_data",
          "data": {
            "application/javascript": [
              "window[\"b29b770c-9dbb-11ec-b1b6-0242ac1c0002\"] = google.colab.output.getActiveOutputArea();\n",
              "//# sourceURL=js_f41e068af7"
            ],
            "text/plain": [
              "<IPython.core.display.Javascript object>"
            ]
          },
          "metadata": {}
        },
        {
          "output_type": "display_data",
          "data": {
            "application/javascript": [
              "window[\"b29be98a-9dbb-11ec-b1b6-0242ac1c0002\"] = document.querySelector(\"#id24-0-0\");\n",
              "//# sourceURL=js_5e0b80f535"
            ],
            "text/plain": [
              "<IPython.core.display.Javascript object>"
            ]
          },
          "metadata": {}
        },
        {
          "output_type": "display_data",
          "data": {
            "application/javascript": [
              "window[\"b29c604a-9dbb-11ec-b1b6-0242ac1c0002\"] = google.colab.output.setActiveOutputArea(window[\"b29be98a-9dbb-11ec-b1b6-0242ac1c0002\"]);\n",
              "//# sourceURL=js_6159641b2c"
            ],
            "text/plain": [
              "<IPython.core.display.Javascript object>"
            ]
          },
          "metadata": {}
        },
        {
          "output_type": "display_data",
          "data": {
            "application/javascript": [
              "window[\"b2baecd6-9dbb-11ec-b1b6-0242ac1c0002\"] = google.colab.output.setActiveOutputArea(window[\"b29b770c-9dbb-11ec-b1b6-0242ac1c0002\"]);\n",
              "//# sourceURL=js_5a837d3304"
            ],
            "text/plain": [
              "<IPython.core.display.Javascript object>"
            ]
          },
          "metadata": {}
        },
        {
          "output_type": "display_data",
          "data": {
            "application/javascript": [
              "window[\"b2dc0a88-9dbb-11ec-b1b6-0242ac1c0002\"] = google.colab.output.getActiveOutputArea();\n",
              "//# sourceURL=js_99fcd14a19"
            ],
            "text/plain": [
              "<IPython.core.display.Javascript object>"
            ]
          },
          "metadata": {}
        },
        {
          "output_type": "display_data",
          "data": {
            "application/javascript": [
              "window[\"b2dc7ab8-9dbb-11ec-b1b6-0242ac1c0002\"] = document.querySelector(\"#id24-0-0\");\n",
              "//# sourceURL=js_3aa7acf0f1"
            ],
            "text/plain": [
              "<IPython.core.display.Javascript object>"
            ]
          },
          "metadata": {}
        },
        {
          "output_type": "display_data",
          "data": {
            "application/javascript": [
              "window[\"b2dd2882-9dbb-11ec-b1b6-0242ac1c0002\"] = google.colab.output.setActiveOutputArea(window[\"b2dc7ab8-9dbb-11ec-b1b6-0242ac1c0002\"]);\n",
              "//# sourceURL=js_e4d7578065"
            ],
            "text/plain": [
              "<IPython.core.display.Javascript object>"
            ]
          },
          "metadata": {}
        },
        {
          "output_type": "display_data",
          "data": {
            "application/javascript": [
              "window[\"b2fb7364-9dbb-11ec-b1b6-0242ac1c0002\"] = google.colab.output.setActiveOutputArea(window[\"b2dc0a88-9dbb-11ec-b1b6-0242ac1c0002\"]);\n",
              "//# sourceURL=js_f2b7d2ccfd"
            ],
            "text/plain": [
              "<IPython.core.display.Javascript object>"
            ]
          },
          "metadata": {}
        },
        {
          "output_type": "display_data",
          "data": {
            "application/javascript": [
              "window[\"b31c4ed6-9dbb-11ec-b1b6-0242ac1c0002\"] = google.colab.output.getActiveOutputArea();\n",
              "//# sourceURL=js_4370e81efb"
            ],
            "text/plain": [
              "<IPython.core.display.Javascript object>"
            ]
          },
          "metadata": {}
        },
        {
          "output_type": "display_data",
          "data": {
            "application/javascript": [
              "window[\"b31cff52-9dbb-11ec-b1b6-0242ac1c0002\"] = document.querySelector(\"#id24-0-0\");\n",
              "//# sourceURL=js_aa68e1dcfb"
            ],
            "text/plain": [
              "<IPython.core.display.Javascript object>"
            ]
          },
          "metadata": {}
        },
        {
          "output_type": "display_data",
          "data": {
            "application/javascript": [
              "window[\"b31d9c96-9dbb-11ec-b1b6-0242ac1c0002\"] = google.colab.output.setActiveOutputArea(window[\"b31cff52-9dbb-11ec-b1b6-0242ac1c0002\"]);\n",
              "//# sourceURL=js_07635724c5"
            ],
            "text/plain": [
              "<IPython.core.display.Javascript object>"
            ]
          },
          "metadata": {}
        },
        {
          "output_type": "display_data",
          "data": {
            "application/javascript": [
              "window[\"b33d0540-9dbb-11ec-b1b6-0242ac1c0002\"] = google.colab.output.setActiveOutputArea(window[\"b31c4ed6-9dbb-11ec-b1b6-0242ac1c0002\"]);\n",
              "//# sourceURL=js_8329042645"
            ],
            "text/plain": [
              "<IPython.core.display.Javascript object>"
            ]
          },
          "metadata": {}
        },
        {
          "output_type": "display_data",
          "data": {
            "application/javascript": [
              "window[\"b35ec180-9dbb-11ec-b1b6-0242ac1c0002\"] = google.colab.output.getActiveOutputArea();\n",
              "//# sourceURL=js_d0c6d6f007"
            ],
            "text/plain": [
              "<IPython.core.display.Javascript object>"
            ]
          },
          "metadata": {}
        },
        {
          "output_type": "display_data",
          "data": {
            "application/javascript": [
              "window[\"b35fe222-9dbb-11ec-b1b6-0242ac1c0002\"] = document.querySelector(\"#id24-0-0\");\n",
              "//# sourceURL=js_00c4dfe15b"
            ],
            "text/plain": [
              "<IPython.core.display.Javascript object>"
            ]
          },
          "metadata": {}
        },
        {
          "output_type": "display_data",
          "data": {
            "application/javascript": [
              "window[\"b36041a4-9dbb-11ec-b1b6-0242ac1c0002\"] = google.colab.output.setActiveOutputArea(window[\"b35fe222-9dbb-11ec-b1b6-0242ac1c0002\"]);\n",
              "//# sourceURL=js_550e2d8b79"
            ],
            "text/plain": [
              "<IPython.core.display.Javascript object>"
            ]
          },
          "metadata": {}
        },
        {
          "output_type": "display_data",
          "data": {
            "application/javascript": [
              "window[\"b380677c-9dbb-11ec-b1b6-0242ac1c0002\"] = google.colab.output.setActiveOutputArea(window[\"b35ec180-9dbb-11ec-b1b6-0242ac1c0002\"]);\n",
              "//# sourceURL=js_90623368ab"
            ],
            "text/plain": [
              "<IPython.core.display.Javascript object>"
            ]
          },
          "metadata": {}
        },
        {
          "output_type": "display_data",
          "data": {
            "application/javascript": [
              "window[\"b3a48e86-9dbb-11ec-b1b6-0242ac1c0002\"] = google.colab.output.getActiveOutputArea();\n",
              "//# sourceURL=js_bb33508b56"
            ],
            "text/plain": [
              "<IPython.core.display.Javascript object>"
            ]
          },
          "metadata": {}
        },
        {
          "output_type": "display_data",
          "data": {
            "application/javascript": [
              "window[\"b3a4e1ba-9dbb-11ec-b1b6-0242ac1c0002\"] = document.querySelector(\"#id24-0-0\");\n",
              "//# sourceURL=js_d0fc423a07"
            ],
            "text/plain": [
              "<IPython.core.display.Javascript object>"
            ]
          },
          "metadata": {}
        },
        {
          "output_type": "display_data",
          "data": {
            "application/javascript": [
              "window[\"b3a56d56-9dbb-11ec-b1b6-0242ac1c0002\"] = google.colab.output.setActiveOutputArea(window[\"b3a4e1ba-9dbb-11ec-b1b6-0242ac1c0002\"]);\n",
              "//# sourceURL=js_eff387e582"
            ],
            "text/plain": [
              "<IPython.core.display.Javascript object>"
            ]
          },
          "metadata": {}
        },
        {
          "output_type": "display_data",
          "data": {
            "application/javascript": [
              "window[\"b3c71faa-9dbb-11ec-b1b6-0242ac1c0002\"] = google.colab.output.setActiveOutputArea(window[\"b3a48e86-9dbb-11ec-b1b6-0242ac1c0002\"]);\n",
              "//# sourceURL=js_962ce05066"
            ],
            "text/plain": [
              "<IPython.core.display.Javascript object>"
            ]
          },
          "metadata": {}
        },
        {
          "output_type": "display_data",
          "data": {
            "application/javascript": [
              "window[\"b3e84446-9dbb-11ec-b1b6-0242ac1c0002\"] = google.colab.output.getActiveOutputArea();\n",
              "//# sourceURL=js_9fe245fbd8"
            ],
            "text/plain": [
              "<IPython.core.display.Javascript object>"
            ]
          },
          "metadata": {}
        },
        {
          "output_type": "display_data",
          "data": {
            "application/javascript": [
              "window[\"b3e8a6c0-9dbb-11ec-b1b6-0242ac1c0002\"] = document.querySelector(\"#id24-0-0\");\n",
              "//# sourceURL=js_55a7f72680"
            ],
            "text/plain": [
              "<IPython.core.display.Javascript object>"
            ]
          },
          "metadata": {}
        },
        {
          "output_type": "display_data",
          "data": {
            "application/javascript": [
              "window[\"b3e91560-9dbb-11ec-b1b6-0242ac1c0002\"] = google.colab.output.setActiveOutputArea(window[\"b3e8a6c0-9dbb-11ec-b1b6-0242ac1c0002\"]);\n",
              "//# sourceURL=js_5700edb3e8"
            ],
            "text/plain": [
              "<IPython.core.display.Javascript object>"
            ]
          },
          "metadata": {}
        },
        {
          "output_type": "display_data",
          "data": {
            "application/javascript": [
              "window[\"b40a0dec-9dbb-11ec-b1b6-0242ac1c0002\"] = google.colab.output.setActiveOutputArea(window[\"b3e84446-9dbb-11ec-b1b6-0242ac1c0002\"]);\n",
              "//# sourceURL=js_f1ef8a301e"
            ],
            "text/plain": [
              "<IPython.core.display.Javascript object>"
            ]
          },
          "metadata": {}
        },
        {
          "output_type": "display_data",
          "data": {
            "application/javascript": [
              "window[\"b42bdbca-9dbb-11ec-b1b6-0242ac1c0002\"] = google.colab.output.getActiveOutputArea();\n",
              "//# sourceURL=js_e72529ef19"
            ],
            "text/plain": [
              "<IPython.core.display.Javascript object>"
            ]
          },
          "metadata": {}
        },
        {
          "output_type": "display_data",
          "data": {
            "application/javascript": [
              "window[\"b42c939e-9dbb-11ec-b1b6-0242ac1c0002\"] = document.querySelector(\"#id24-0-0\");\n",
              "//# sourceURL=js_6f6510b281"
            ],
            "text/plain": [
              "<IPython.core.display.Javascript object>"
            ]
          },
          "metadata": {}
        },
        {
          "output_type": "display_data",
          "data": {
            "application/javascript": [
              "window[\"b42d6530-9dbb-11ec-b1b6-0242ac1c0002\"] = google.colab.output.setActiveOutputArea(window[\"b42c939e-9dbb-11ec-b1b6-0242ac1c0002\"]);\n",
              "//# sourceURL=js_f83e9d44ea"
            ],
            "text/plain": [
              "<IPython.core.display.Javascript object>"
            ]
          },
          "metadata": {}
        },
        {
          "output_type": "display_data",
          "data": {
            "image/png": "[encoded data removed]",
            "text/plain": [
              "<Figure size 432x288 with 1 Axes>"
            ]
          },
          "metadata": {
            "needs_background": "light"
          }
        },
        {
          "output_type": "display_data",
          "data": {
            "application/javascript": [
              "window[\"b44d3996-9dbb-11ec-b1b6-0242ac1c0002\"] = google.colab.output.setActiveOutputArea(window[\"b42bdbca-9dbb-11ec-b1b6-0242ac1c0002\"]);\n",
              "//# sourceURL=js_726cf9d34e"
            ],
            "text/plain": [
              "<IPython.core.display.Javascript object>"
            ]
          },
          "metadata": {}
        },
        {
          "output_type": "execute_result",
          "data": {
            "text/plain": [
              "<matplotlib.legend.Legend at 0x7fc625ef0a10>"
            ]
          },
          "metadata": {},
          "execution_count": 26
        },
        {
          "output_type": "display_data",
          "data": {
            "image/png": "[encoded data removed]",
            "text/plain": [
              "<Figure size 432x288 with 2 Axes>"
            ]
          },
          "metadata": {
            "needs_background": "light"
          }
        },
        {
          "output_type": "display_data",
          "data": {
            "image/png": "[encoded data removed]",
            "text/plain": [
              "<Figure size 432x288 with 1 Axes>"
            ]
          },
          "metadata": {
            "needs_background": "light"
          }
        },
        {
          "output_type": "display_data",
          "data": {
            "image/png": "[encoded data removed]",
            "text/plain": [
              "<Figure size 432x288 with 1 Axes>"
            ]
          },
          "metadata": {
            "needs_background": "light"
          }
        }
      ],
      "source": [
        "env = GridEnvironment()\n",
        "agent = RandomAgent(env)\n",
        "max_episod =1000\n",
        "pos = env.reset()\n",
        "g=[]\n",
        "e=[]\n",
        "t_step=0\n",
        "output_grid = widgets.Grid(1, 1)\n",
        "with output_grid.output_to(0, 0):\n",
        "  env.render()\n",
        "for episod in range(max_episod+1):\n",
        "  pos = env.reset()\n",
        "  done = False\n",
        "  acu_reward=0\n",
        "  ep=0\n",
        "  while not done:\n",
        "    action , ep = agent.step(pos, episod, max_episod)\n",
        " \n",
        "    action_taken , pos, reward, done, info , t_step = env.step(action)\n",
        "    Q_table = agent.update(action_taken, reward , pos)\n",
        "    Q=np.argmax(Q_table, axis=1)\n",
        "    acu_reward +=reward\n",
        "\n",
        "    if episod % (max_episod/1) == 0 or episod > max_episod - 5:\n",
        "      with output_grid.output_to(0, 0):\n",
        "        output_grid.clear_cell()\n",
        "        env.render()\n",
        "        plt.title(\"Episode: \" + str(episod))\n",
        "\n",
        "      time.sleep(0.2)\n",
        "  e.append(ep)\n",
        "  g.append(acu_reward)\n",
        "Q=np.argmax(Q_table, axis=1)\n",
        "plt.imshow(Q.reshape(11,11))\n",
        "plt.colorbar()\n",
        "plt.figure()\n",
        "plt.plot(g,label=\"Total reward/episode\")\n",
        "plt.xlabel(\"Episodes\")\n",
        "plt.ylabel(\"Total reward\")\n",
        "plt.legend()\n",
        "plt.figure()\n",
        "plt.plot(e, label=\"decay factor\")\n",
        "plt.xlabel(\"Episodes\")\n",
        "plt.ylabel(\"Epsilon\")\n",
        "plt.legend()"
      ]
    },
    {
      "cell_type": "code",
      "source": [
        "pos = env.reset()\n",
        "\n",
        "g=[]\n",
        "output_grid = widgets.Grid(1, 1)\n",
        "with output_grid.output_to(0, 0):\n",
        "  env.render()\n",
        "for episod in range(10):\n",
        "  pos = env.reset()\n",
        "  done = False\n",
        "  acu_reward =0 \n",
        "  while not done:\n",
        "    action , ep = agent.step(pos, 1, 1)\n",
        "    action_taken , pos, reward, done, info , t_step = env.step(action)\n",
        "    acu_reward += reward\n",
        "    with output_grid.output_to(0, 0):\n",
        "      output_grid.clear_cell()\n",
        "      env.render()\n",
        "      plt.title(\"Demo Episode: \" + str(episod+1))\n",
        "\n",
        "    time.sleep(0.2)\n",
        "  g.append(acu_reward)\n",
        "plt.plot(g,label=\"Total reward/episode\")\n",
        "plt.xlabel(\"Episodes\")\n",
        "plt.ylabel(\"Total Reward\")\n",
        "plt.legend()"
      ],
      "metadata": {
        "id": "X3tWA7RlxSsj",
        "colab": {
          "base_uri": "https://localhost:8080/",
          "height": 565
        },
        "outputId": "014d73c9-080e-4867-ea50-caf497f6848c"
      },
      "execution_count": null,
      "outputs": [
        {
          "output_type": "display_data",
          "data": {
            "text/html": [
              "<style>\n",
              "       table#id10, #id10 > tbody > tr > th, #id10 > tbody > tr > td {\n",
              "         border: 1px solid lightgray;\n",
              "         border-collapse:collapse;\n",
              "         \n",
              "        }</style>"
            ],
            "text/plain": [
              "<IPython.core.display.HTML object>"
            ]
          },
          "metadata": {}
        },
        {
          "output_type": "display_data",
          "data": {
            "text/html": [
              "<table id=id10><tr><td id=id10-0-0></td></tr></table>"
            ],
            "text/plain": [
              "<IPython.core.display.HTML object>"
            ]
          },
          "metadata": {}
        },
        {
          "output_type": "display_data",
          "data": {
            "application/javascript": [
              "window[\"3877968a-9d8a-11ec-a82a-0242ac1c0002\"] = google.colab.output.getActiveOutputArea();\n",
              "//# sourceURL=js_de49b5aaba"
            ],
            "text/plain": [
              "<IPython.core.display.Javascript object>"
            ]
          },
          "metadata": {}
        },
        {
          "output_type": "display_data",
          "data": {
            "application/javascript": [
              "window[\"3878cf1e-9d8a-11ec-a82a-0242ac1c0002\"] = document.querySelector(\"#id10-0-0\");\n",
              "//# sourceURL=js_8f46205f68"
            ],
            "text/plain": [
              "<IPython.core.display.Javascript object>"
            ]
          },
          "metadata": {}
        },
        {
          "output_type": "display_data",
          "data": {
            "application/javascript": [
              "window[\"387945e8-9d8a-11ec-a82a-0242ac1c0002\"] = google.colab.output.setActiveOutputArea(window[\"3878cf1e-9d8a-11ec-a82a-0242ac1c0002\"]);\n",
              "//# sourceURL=js_124df569d5"
            ],
            "text/plain": [
              "<IPython.core.display.Javascript object>"
            ]
          },
          "metadata": {}
        },
        {
          "output_type": "display_data",
          "data": {
            "application/javascript": [
              "window[\"38923904-9d8a-11ec-a82a-0242ac1c0002\"] = google.colab.output.setActiveOutputArea(window[\"3877968a-9d8a-11ec-a82a-0242ac1c0002\"]);\n",
              "//# sourceURL=js_8b6659f0b4"
            ],
            "text/plain": [
              "<IPython.core.display.Javascript object>"
            ]
          },
          "metadata": {}
        },
        {
          "output_type": "display_data",
          "data": {
            "application/javascript": [
              "window[\"3894e8ca-9d8a-11ec-a82a-0242ac1c0002\"] = google.colab.output.getActiveOutputArea();\n",
              "//# sourceURL=js_5f07c28b21"
            ],
            "text/plain": [
              "<IPython.core.display.Javascript object>"
            ]
          },
          "metadata": {}
        },
        {
          "output_type": "display_data",
          "data": {
            "application/javascript": [
              "window[\"38955c10-9d8a-11ec-a82a-0242ac1c0002\"] = document.querySelector(\"#id10-0-0\");\n",
              "//# sourceURL=js_10a7f8abce"
            ],
            "text/plain": [
              "<IPython.core.display.Javascript object>"
            ]
          },
          "metadata": {}
        },
        {
          "output_type": "display_data",
          "data": {
            "application/javascript": [
              "window[\"3895c5b0-9d8a-11ec-a82a-0242ac1c0002\"] = google.colab.output.setActiveOutputArea(window[\"38955c10-9d8a-11ec-a82a-0242ac1c0002\"]);\n",
              "//# sourceURL=js_2e45b92f2e"
            ],
            "text/plain": [
              "<IPython.core.display.Javascript object>"
            ]
          },
          "metadata": {}
        },
        {
          "output_type": "display_data",
          "data": {
            "application/javascript": [
              "window[\"38bb1824-9d8a-11ec-a82a-0242ac1c0002\"] = google.colab.output.setActiveOutputArea(window[\"3894e8ca-9d8a-11ec-a82a-0242ac1c0002\"]);\n",
              "//# sourceURL=js_00a56afb9d"
            ],
            "text/plain": [
              "<IPython.core.display.Javascript object>"
            ]
          },
          "metadata": {}
        },
        {
          "output_type": "display_data",
          "data": {
            "application/javascript": [
              "window[\"38dddbfc-9d8a-11ec-a82a-0242ac1c0002\"] = google.colab.output.getActiveOutputArea();\n",
              "//# sourceURL=js_12a5619c48"
            ],
            "text/plain": [
              "<IPython.core.display.Javascript object>"
            ]
          },
          "metadata": {}
        },
        {
          "output_type": "display_data",
          "data": {
            "application/javascript": [
              "window[\"38df00e0-9d8a-11ec-a82a-0242ac1c0002\"] = document.querySelector(\"#id10-0-0\");\n",
              "//# sourceURL=js_c3ba89c423"
            ],
            "text/plain": [
              "<IPython.core.display.Javascript object>"
            ]
          },
          "metadata": {}
        },
        {
          "output_type": "display_data",
          "data": {
            "application/javascript": [
              "window[\"38dfb99a-9d8a-11ec-a82a-0242ac1c0002\"] = google.colab.output.setActiveOutputArea(window[\"38df00e0-9d8a-11ec-a82a-0242ac1c0002\"]);\n",
              "//# sourceURL=js_f046cb37ed"
            ],
            "text/plain": [
              "<IPython.core.display.Javascript object>"
            ]
          },
          "metadata": {}
        },
        {
          "output_type": "display_data",
          "data": {
            "application/javascript": [
              "window[\"3919ab6e-9d8a-11ec-a82a-0242ac1c0002\"] = google.colab.output.setActiveOutputArea(window[\"38dddbfc-9d8a-11ec-a82a-0242ac1c0002\"]);\n",
              "//# sourceURL=js_38d2de77ef"
            ],
            "text/plain": [
              "<IPython.core.display.Javascript object>"
            ]
          },
          "metadata": {}
        },
        {
          "output_type": "display_data",
          "data": {
            "application/javascript": [
              "window[\"393c15be-9d8a-11ec-a82a-0242ac1c0002\"] = google.colab.output.getActiveOutputArea();\n",
              "//# sourceURL=js_346a16b7b0"
            ],
            "text/plain": [
              "<IPython.core.display.Javascript object>"
            ]
          },
          "metadata": {}
        },
        {
          "output_type": "display_data",
          "data": {
            "application/javascript": [
              "window[\"393d2648-9d8a-11ec-a82a-0242ac1c0002\"] = document.querySelector(\"#id10-0-0\");\n",
              "//# sourceURL=js_9b31fad9ea"
            ],
            "text/plain": [
              "<IPython.core.display.Javascript object>"
            ]
          },
          "metadata": {}
        },
        {
          "output_type": "display_data",
          "data": {
            "application/javascript": [
              "window[\"393f28ee-9d8a-11ec-a82a-0242ac1c0002\"] = google.colab.output.setActiveOutputArea(window[\"393d2648-9d8a-11ec-a82a-0242ac1c0002\"]);\n",
              "//# sourceURL=js_67e2414012"
            ],
            "text/plain": [
              "<IPython.core.display.Javascript object>"
            ]
          },
          "metadata": {}
        },
        {
          "output_type": "display_data",
          "data": {
            "application/javascript": [
              "window[\"3981e08a-9d8a-11ec-a82a-0242ac1c0002\"] = google.colab.output.setActiveOutputArea(window[\"393c15be-9d8a-11ec-a82a-0242ac1c0002\"]);\n",
              "//# sourceURL=js_61cea06bfa"
            ],
            "text/plain": [
              "<IPython.core.display.Javascript object>"
            ]
          },
          "metadata": {}
        },
        {
          "output_type": "display_data",
          "data": {
            "application/javascript": [
              "window[\"39a48432-9d8a-11ec-a82a-0242ac1c0002\"] = google.colab.output.getActiveOutputArea();\n",
              "//# sourceURL=js_493cdf69a3"
            ],
            "text/plain": [
              "<IPython.core.display.Javascript object>"
            ]
          },
          "metadata": {}
        },
        {
          "output_type": "display_data",
          "data": {
            "application/javascript": [
              "window[\"39a53d32-9d8a-11ec-a82a-0242ac1c0002\"] = document.querySelector(\"#id10-0-0\");\n",
              "//# sourceURL=js_a5b8fa523f"
            ],
            "text/plain": [
              "<IPython.core.display.Javascript object>"
            ]
          },
          "metadata": {}
        },
        {
          "output_type": "display_data",
          "data": {
            "application/javascript": [
              "window[\"39a5cde2-9d8a-11ec-a82a-0242ac1c0002\"] = google.colab.output.setActiveOutputArea(window[\"39a53d32-9d8a-11ec-a82a-0242ac1c0002\"]);\n",
              "//# sourceURL=js_0340c22736"
            ],
            "text/plain": [
              "<IPython.core.display.Javascript object>"
            ]
          },
          "metadata": {}
        },
        {
          "output_type": "display_data",
          "data": {
            "application/javascript": [
              "window[\"39d3b02c-9d8a-11ec-a82a-0242ac1c0002\"] = google.colab.output.setActiveOutputArea(window[\"39a48432-9d8a-11ec-a82a-0242ac1c0002\"]);\n",
              "//# sourceURL=js_653ba3e269"
            ],
            "text/plain": [
              "<IPython.core.display.Javascript object>"
            ]
          },
          "metadata": {}
        },
        {
          "output_type": "display_data",
          "data": {
            "application/javascript": [
              "window[\"39f81d5e-9d8a-11ec-a82a-0242ac1c0002\"] = google.colab.output.getActiveOutputArea();\n",
              "//# sourceURL=js_2bfe656097"
            ],
            "text/plain": [
              "<IPython.core.display.Javascript object>"
            ]
          },
          "metadata": {}
        },
        {
          "output_type": "display_data",
          "data": {
            "application/javascript": [
              "window[\"39f889ec-9d8a-11ec-a82a-0242ac1c0002\"] = document.querySelector(\"#id10-0-0\");\n",
              "//# sourceURL=js_34d87eb258"
            ],
            "text/plain": [
              "<IPython.core.display.Javascript object>"
            ]
          },
          "metadata": {}
        },
        {
          "output_type": "display_data",
          "data": {
            "application/javascript": [
              "window[\"39f915ec-9d8a-11ec-a82a-0242ac1c0002\"] = google.colab.output.setActiveOutputArea(window[\"39f889ec-9d8a-11ec-a82a-0242ac1c0002\"]);\n",
              "//# sourceURL=js_cd0a2103d2"
            ],
            "text/plain": [
              "<IPython.core.display.Javascript object>"
            ]
          },
          "metadata": {}
        },
        {
          "output_type": "display_data",
          "data": {
            "application/javascript": [
              "window[\"3a38dcea-9d8a-11ec-a82a-0242ac1c0002\"] = google.colab.output.setActiveOutputArea(window[\"39f81d5e-9d8a-11ec-a82a-0242ac1c0002\"]);\n",
              "//# sourceURL=js_b64214fe66"
            ],
            "text/plain": [
              "<IPython.core.display.Javascript object>"
            ]
          },
          "metadata": {}
        },
        {
          "output_type": "display_data",
          "data": {
            "application/javascript": [
              "window[\"3a5d6074-9d8a-11ec-a82a-0242ac1c0002\"] = google.colab.output.getActiveOutputArea();\n",
              "//# sourceURL=js_10a19c7ba3"
            ],
            "text/plain": [
              "<IPython.core.display.Javascript object>"
            ]
          },
          "metadata": {}
        },
        {
          "output_type": "display_data",
          "data": {
            "application/javascript": [
              "window[\"3a5e5bbe-9d8a-11ec-a82a-0242ac1c0002\"] = document.querySelector(\"#id10-0-0\");\n",
              "//# sourceURL=js_93d52005da"
            ],
            "text/plain": [
              "<IPython.core.display.Javascript object>"
            ]
          },
          "metadata": {}
        },
        {
          "output_type": "display_data",
          "data": {
            "application/javascript": [
              "window[\"3a60add8-9d8a-11ec-a82a-0242ac1c0002\"] = google.colab.output.setActiveOutputArea(window[\"3a5e5bbe-9d8a-11ec-a82a-0242ac1c0002\"]);\n",
              "//# sourceURL=js_49c583deb0"
            ],
            "text/plain": [
              "<IPython.core.display.Javascript object>"
            ]
          },
          "metadata": {}
        },
        {
          "output_type": "display_data",
          "data": {
            "application/javascript": [
              "window[\"3aa9fcea-9d8a-11ec-a82a-0242ac1c0002\"] = google.colab.output.setActiveOutputArea(window[\"3a5d6074-9d8a-11ec-a82a-0242ac1c0002\"]);\n",
              "//# sourceURL=js_f66d691543"
            ],
            "text/plain": [
              "<IPython.core.display.Javascript object>"
            ]
          },
          "metadata": {}
        },
        {
          "output_type": "display_data",
          "data": {
            "application/javascript": [
              "window[\"3acb39aa-9d8a-11ec-a82a-0242ac1c0002\"] = google.colab.output.getActiveOutputArea();\n",
              "//# sourceURL=js_6c5e63f62c"
            ],
            "text/plain": [
              "<IPython.core.display.Javascript object>"
            ]
          },
          "metadata": {}
        },
        {
          "output_type": "display_data",
          "data": {
            "application/javascript": [
              "window[\"3acba728-9d8a-11ec-a82a-0242ac1c0002\"] = document.querySelector(\"#id10-0-0\");\n",
              "//# sourceURL=js_0b41dd2a93"
            ],
            "text/plain": [
              "<IPython.core.display.Javascript object>"
            ]
          },
          "metadata": {}
        },
        {
          "output_type": "display_data",
          "data": {
            "application/javascript": [
              "window[\"3acc083a-9d8a-11ec-a82a-0242ac1c0002\"] = google.colab.output.setActiveOutputArea(window[\"3acba728-9d8a-11ec-a82a-0242ac1c0002\"]);\n",
              "//# sourceURL=js_24d66d166d"
            ],
            "text/plain": [
              "<IPython.core.display.Javascript object>"
            ]
          },
          "metadata": {}
        },
        {
          "output_type": "display_data",
          "data": {
            "application/javascript": [
              "window[\"3b06740c-9d8a-11ec-a82a-0242ac1c0002\"] = google.colab.output.setActiveOutputArea(window[\"3acb39aa-9d8a-11ec-a82a-0242ac1c0002\"]);\n",
              "//# sourceURL=js_34c5e666aa"
            ],
            "text/plain": [
              "<IPython.core.display.Javascript object>"
            ]
          },
          "metadata": {}
        },
        {
          "output_type": "display_data",
          "data": {
            "application/javascript": [
              "window[\"3b2aec88-9d8a-11ec-a82a-0242ac1c0002\"] = google.colab.output.getActiveOutputArea();\n",
              "//# sourceURL=js_4e3c554a07"
            ],
            "text/plain": [
              "<IPython.core.display.Javascript object>"
            ]
          },
          "metadata": {}
        },
        {
          "output_type": "display_data",
          "data": {
            "application/javascript": [
              "window[\"3b2c523a-9d8a-11ec-a82a-0242ac1c0002\"] = document.querySelector(\"#id10-0-0\");\n",
              "//# sourceURL=js_50f6e27b90"
            ],
            "text/plain": [
              "<IPython.core.display.Javascript object>"
            ]
          },
          "metadata": {}
        },
        {
          "output_type": "display_data",
          "data": {
            "application/javascript": [
              "window[\"3b2db9c2-9d8a-11ec-a82a-0242ac1c0002\"] = google.colab.output.setActiveOutputArea(window[\"3b2c523a-9d8a-11ec-a82a-0242ac1c0002\"]);\n",
              "//# sourceURL=js_c9e2eddad2"
            ],
            "text/plain": [
              "<IPython.core.display.Javascript object>"
            ]
          },
          "metadata": {}
        },
        {
          "output_type": "display_data",
          "data": {
            "application/javascript": [
              "window[\"3b695dc4-9d8a-11ec-a82a-0242ac1c0002\"] = google.colab.output.setActiveOutputArea(window[\"3b2aec88-9d8a-11ec-a82a-0242ac1c0002\"]);\n",
              "//# sourceURL=js_b8ca92dc5a"
            ],
            "text/plain": [
              "<IPython.core.display.Javascript object>"
            ]
          },
          "metadata": {}
        },
        {
          "output_type": "display_data",
          "data": {
            "application/javascript": [
              "window[\"3b8f0344-9d8a-11ec-a82a-0242ac1c0002\"] = google.colab.output.getActiveOutputArea();\n",
              "//# sourceURL=js_d47f4657d7"
            ],
            "text/plain": [
              "<IPython.core.display.Javascript object>"
            ]
          },
          "metadata": {}
        },
        {
          "output_type": "display_data",
          "data": {
            "application/javascript": [
              "window[\"3b91aa72-9d8a-11ec-a82a-0242ac1c0002\"] = document.querySelector(\"#id10-0-0\");\n",
              "//# sourceURL=js_3ecec2e355"
            ],
            "text/plain": [
              "<IPython.core.display.Javascript object>"
            ]
          },
          "metadata": {}
        },
        {
          "output_type": "display_data",
          "data": {
            "application/javascript": [
              "window[\"3b93032c-9d8a-11ec-a82a-0242ac1c0002\"] = google.colab.output.setActiveOutputArea(window[\"3b91aa72-9d8a-11ec-a82a-0242ac1c0002\"]);\n",
              "//# sourceURL=js_4f8a6610c5"
            ],
            "text/plain": [
              "<IPython.core.display.Javascript object>"
            ]
          },
          "metadata": {}
        },
        {
          "output_type": "display_data",
          "data": {
            "application/javascript": [
              "window[\"3bcea51c-9d8a-11ec-a82a-0242ac1c0002\"] = google.colab.output.setActiveOutputArea(window[\"3b8f0344-9d8a-11ec-a82a-0242ac1c0002\"]);\n",
              "//# sourceURL=js_a335f7b3da"
            ],
            "text/plain": [
              "<IPython.core.display.Javascript object>"
            ]
          },
          "metadata": {}
        },
        {
          "output_type": "display_data",
          "data": {
            "application/javascript": [
              "window[\"3bf3ec5a-9d8a-11ec-a82a-0242ac1c0002\"] = google.colab.output.getActiveOutputArea();\n",
              "//# sourceURL=js_a5f1cb9cec"
            ],
            "text/plain": [
              "<IPython.core.display.Javascript object>"
            ]
          },
          "metadata": {}
        },
        {
          "output_type": "display_data",
          "data": {
            "application/javascript": [
              "window[\"3bf6f0bc-9d8a-11ec-a82a-0242ac1c0002\"] = document.querySelector(\"#id10-0-0\");\n",
              "//# sourceURL=js_0d95136bc9"
            ],
            "text/plain": [
              "<IPython.core.display.Javascript object>"
            ]
          },
          "metadata": {}
        },
        {
          "output_type": "display_data",
          "data": {
            "application/javascript": [
              "window[\"3bf8d8fa-9d8a-11ec-a82a-0242ac1c0002\"] = google.colab.output.setActiveOutputArea(window[\"3bf6f0bc-9d8a-11ec-a82a-0242ac1c0002\"]);\n",
              "//# sourceURL=js_d5dfa636d7"
            ],
            "text/plain": [
              "<IPython.core.display.Javascript object>"
            ]
          },
          "metadata": {}
        },
        {
          "output_type": "display_data",
          "data": {
            "application/javascript": [
              "window[\"3c473e46-9d8a-11ec-a82a-0242ac1c0002\"] = google.colab.output.setActiveOutputArea(window[\"3bf3ec5a-9d8a-11ec-a82a-0242ac1c0002\"]);\n",
              "//# sourceURL=js_070a5c1162"
            ],
            "text/plain": [
              "<IPython.core.display.Javascript object>"
            ]
          },
          "metadata": {}
        },
        {
          "output_type": "display_data",
          "data": {
            "application/javascript": [
              "window[\"3c70b474-9d8a-11ec-a82a-0242ac1c0002\"] = google.colab.output.getActiveOutputArea();\n",
              "//# sourceURL=js_3bfe682284"
            ],
            "text/plain": [
              "<IPython.core.display.Javascript object>"
            ]
          },
          "metadata": {}
        },
        {
          "output_type": "display_data",
          "data": {
            "application/javascript": [
              "window[\"3c71f9f6-9d8a-11ec-a82a-0242ac1c0002\"] = document.querySelector(\"#id10-0-0\");\n",
              "//# sourceURL=js_375dd75eab"
            ],
            "text/plain": [
              "<IPython.core.display.Javascript object>"
            ]
          },
          "metadata": {}
        },
        {
          "output_type": "display_data",
          "data": {
            "application/javascript": [
              "window[\"3c736188-9d8a-11ec-a82a-0242ac1c0002\"] = google.colab.output.setActiveOutputArea(window[\"3c71f9f6-9d8a-11ec-a82a-0242ac1c0002\"]);\n",
              "//# sourceURL=js_3a21c0b225"
            ],
            "text/plain": [
              "<IPython.core.display.Javascript object>"
            ]
          },
          "metadata": {}
        },
        {
          "output_type": "display_data",
          "data": {
            "application/javascript": [
              "window[\"3caf448c-9d8a-11ec-a82a-0242ac1c0002\"] = google.colab.output.setActiveOutputArea(window[\"3c70b474-9d8a-11ec-a82a-0242ac1c0002\"]);\n",
              "//# sourceURL=js_bf1e878a7a"
            ],
            "text/plain": [
              "<IPython.core.display.Javascript object>"
            ]
          },
          "metadata": {}
        },
        {
          "output_type": "display_data",
          "data": {
            "application/javascript": [
              "window[\"3cd16f44-9d8a-11ec-a82a-0242ac1c0002\"] = google.colab.output.getActiveOutputArea();\n",
              "//# sourceURL=js_f510a7e3b7"
            ],
            "text/plain": [
              "<IPython.core.display.Javascript object>"
            ]
          },
          "metadata": {}
        },
        {
          "output_type": "display_data",
          "data": {
            "application/javascript": [
              "window[\"3cd328c0-9d8a-11ec-a82a-0242ac1c0002\"] = document.querySelector(\"#id10-0-0\");\n",
              "//# sourceURL=js_9679326d8a"
            ],
            "text/plain": [
              "<IPython.core.display.Javascript object>"
            ]
          },
          "metadata": {}
        },
        {
          "output_type": "display_data",
          "data": {
            "application/javascript": [
              "window[\"3cd4af24-9d8a-11ec-a82a-0242ac1c0002\"] = google.colab.output.setActiveOutputArea(window[\"3cd328c0-9d8a-11ec-a82a-0242ac1c0002\"]);\n",
              "//# sourceURL=js_20bd5bfe59"
            ],
            "text/plain": [
              "<IPython.core.display.Javascript object>"
            ]
          },
          "metadata": {}
        },
        {
          "output_type": "display_data",
          "data": {
            "application/javascript": [
              "window[\"3d1e5e62-9d8a-11ec-a82a-0242ac1c0002\"] = google.colab.output.setActiveOutputArea(window[\"3cd16f44-9d8a-11ec-a82a-0242ac1c0002\"]);\n",
              "//# sourceURL=js_d953195f0f"
            ],
            "text/plain": [
              "<IPython.core.display.Javascript object>"
            ]
          },
          "metadata": {}
        },
        {
          "output_type": "display_data",
          "data": {
            "application/javascript": [
              "window[\"3d43952e-9d8a-11ec-a82a-0242ac1c0002\"] = google.colab.output.getActiveOutputArea();\n",
              "//# sourceURL=js_958d8e4ae0"
            ],
            "text/plain": [
              "<IPython.core.display.Javascript object>"
            ]
          },
          "metadata": {}
        },
        {
          "output_type": "display_data",
          "data": {
            "application/javascript": [
              "window[\"3d45d99c-9d8a-11ec-a82a-0242ac1c0002\"] = document.querySelector(\"#id10-0-0\");\n",
              "//# sourceURL=js_4414363063"
            ],
            "text/plain": [
              "<IPython.core.display.Javascript object>"
            ]
          },
          "metadata": {}
        },
        {
          "output_type": "display_data",
          "data": {
            "application/javascript": [
              "window[\"3d49342a-9d8a-11ec-a82a-0242ac1c0002\"] = google.colab.output.setActiveOutputArea(window[\"3d45d99c-9d8a-11ec-a82a-0242ac1c0002\"]);\n",
              "//# sourceURL=js_5625a27735"
            ],
            "text/plain": [
              "<IPython.core.display.Javascript object>"
            ]
          },
          "metadata": {}
        },
        {
          "output_type": "display_data",
          "data": {
            "application/javascript": [
              "window[\"3d8fb1a2-9d8a-11ec-a82a-0242ac1c0002\"] = google.colab.output.setActiveOutputArea(window[\"3d43952e-9d8a-11ec-a82a-0242ac1c0002\"]);\n",
              "//# sourceURL=js_33cb506ed9"
            ],
            "text/plain": [
              "<IPython.core.display.Javascript object>"
            ]
          },
          "metadata": {}
        },
        {
          "output_type": "display_data",
          "data": {
            "application/javascript": [
              "window[\"3db5f8b2-9d8a-11ec-a82a-0242ac1c0002\"] = google.colab.output.getActiveOutputArea();\n",
              "//# sourceURL=js_29ee85e5d3"
            ],
            "text/plain": [
              "<IPython.core.display.Javascript object>"
            ]
          },
          "metadata": {}
        },
        {
          "output_type": "display_data",
          "data": {
            "application/javascript": [
              "window[\"3db736e6-9d8a-11ec-a82a-0242ac1c0002\"] = document.querySelector(\"#id10-0-0\");\n",
              "//# sourceURL=js_d5038ae905"
            ],
            "text/plain": [
              "<IPython.core.display.Javascript object>"
            ]
          },
          "metadata": {}
        },
        {
          "output_type": "display_data",
          "data": {
            "application/javascript": [
              "window[\"3db84aea-9d8a-11ec-a82a-0242ac1c0002\"] = google.colab.output.setActiveOutputArea(window[\"3db736e6-9d8a-11ec-a82a-0242ac1c0002\"]);\n",
              "//# sourceURL=js_134fdc7dcf"
            ],
            "text/plain": [
              "<IPython.core.display.Javascript object>"
            ]
          },
          "metadata": {}
        },
        {
          "output_type": "display_data",
          "data": {
            "application/javascript": [
              "window[\"3de67faa-9d8a-11ec-a82a-0242ac1c0002\"] = google.colab.output.setActiveOutputArea(window[\"3db5f8b2-9d8a-11ec-a82a-0242ac1c0002\"]);\n",
              "//# sourceURL=js_c92fcc5582"
            ],
            "text/plain": [
              "<IPython.core.display.Javascript object>"
            ]
          },
          "metadata": {}
        },
        {
          "output_type": "display_data",
          "data": {
            "application/javascript": [
              "window[\"3e0763d2-9d8a-11ec-a82a-0242ac1c0002\"] = google.colab.output.getActiveOutputArea();\n",
              "//# sourceURL=js_24cdc7c05d"
            ],
            "text/plain": [
              "<IPython.core.display.Javascript object>"
            ]
          },
          "metadata": {}
        },
        {
          "output_type": "display_data",
          "data": {
            "application/javascript": [
              "window[\"3e07a338-9d8a-11ec-a82a-0242ac1c0002\"] = document.querySelector(\"#id10-0-0\");\n",
              "//# sourceURL=js_3245cbe542"
            ],
            "text/plain": [
              "<IPython.core.display.Javascript object>"
            ]
          },
          "metadata": {}
        },
        {
          "output_type": "display_data",
          "data": {
            "application/javascript": [
              "window[\"3e07e032-9d8a-11ec-a82a-0242ac1c0002\"] = google.colab.output.setActiveOutputArea(window[\"3e07a338-9d8a-11ec-a82a-0242ac1c0002\"]);\n",
              "//# sourceURL=js_27ba929784"
            ],
            "text/plain": [
              "<IPython.core.display.Javascript object>"
            ]
          },
          "metadata": {}
        },
        {
          "output_type": "display_data",
          "data": {
            "application/javascript": [
              "window[\"3e2146a8-9d8a-11ec-a82a-0242ac1c0002\"] = google.colab.output.setActiveOutputArea(window[\"3e0763d2-9d8a-11ec-a82a-0242ac1c0002\"]);\n",
              "//# sourceURL=js_7213b4fbd9"
            ],
            "text/plain": [
              "<IPython.core.display.Javascript object>"
            ]
          },
          "metadata": {}
        },
        {
          "output_type": "display_data",
          "data": {
            "application/javascript": [
              "window[\"3e421626-9d8a-11ec-a82a-0242ac1c0002\"] = google.colab.output.getActiveOutputArea();\n",
              "//# sourceURL=js_0d7f6bcad0"
            ],
            "text/plain": [
              "<IPython.core.display.Javascript object>"
            ]
          },
          "metadata": {}
        },
        {
          "output_type": "display_data",
          "data": {
            "application/javascript": [
              "window[\"3e42a424-9d8a-11ec-a82a-0242ac1c0002\"] = document.querySelector(\"#id10-0-0\");\n",
              "//# sourceURL=js_2f0ac1e9ba"
            ],
            "text/plain": [
              "<IPython.core.display.Javascript object>"
            ]
          },
          "metadata": {}
        },
        {
          "output_type": "display_data",
          "data": {
            "application/javascript": [
              "window[\"3e432778-9d8a-11ec-a82a-0242ac1c0002\"] = google.colab.output.setActiveOutputArea(window[\"3e42a424-9d8a-11ec-a82a-0242ac1c0002\"]);\n",
              "//# sourceURL=js_78d8f09fc4"
            ],
            "text/plain": [
              "<IPython.core.display.Javascript object>"
            ]
          },
          "metadata": {}
        },
        {
          "output_type": "display_data",
          "data": {
            "application/javascript": [
              "window[\"3e5cbaa8-9d8a-11ec-a82a-0242ac1c0002\"] = google.colab.output.setActiveOutputArea(window[\"3e421626-9d8a-11ec-a82a-0242ac1c0002\"]);\n",
              "//# sourceURL=js_e48d89b31f"
            ],
            "text/plain": [
              "<IPython.core.display.Javascript object>"
            ]
          },
          "metadata": {}
        },
        {
          "output_type": "display_data",
          "data": {
            "application/javascript": [
              "window[\"3e7f3d3a-9d8a-11ec-a82a-0242ac1c0002\"] = google.colab.output.getActiveOutputArea();\n",
              "//# sourceURL=js_09628739f7"
            ],
            "text/plain": [
              "<IPython.core.display.Javascript object>"
            ]
          },
          "metadata": {}
        },
        {
          "output_type": "display_data",
          "data": {
            "application/javascript": [
              "window[\"3e7fa05e-9d8a-11ec-a82a-0242ac1c0002\"] = document.querySelector(\"#id10-0-0\");\n",
              "//# sourceURL=js_4d0e18fc98"
            ],
            "text/plain": [
              "<IPython.core.display.Javascript object>"
            ]
          },
          "metadata": {}
        },
        {
          "output_type": "display_data",
          "data": {
            "application/javascript": [
              "window[\"3e801ffc-9d8a-11ec-a82a-0242ac1c0002\"] = google.colab.output.setActiveOutputArea(window[\"3e7fa05e-9d8a-11ec-a82a-0242ac1c0002\"]);\n",
              "//# sourceURL=js_8f2cc56df7"
            ],
            "text/plain": [
              "<IPython.core.display.Javascript object>"
            ]
          },
          "metadata": {}
        },
        {
          "output_type": "display_data",
          "data": {
            "application/javascript": [
              "window[\"3e9b6352-9d8a-11ec-a82a-0242ac1c0002\"] = google.colab.output.setActiveOutputArea(window[\"3e7f3d3a-9d8a-11ec-a82a-0242ac1c0002\"]);\n",
              "//# sourceURL=js_62f44c2971"
            ],
            "text/plain": [
              "<IPython.core.display.Javascript object>"
            ]
          },
          "metadata": {}
        },
        {
          "output_type": "display_data",
          "data": {
            "application/javascript": [
              "window[\"3ebc4f22-9d8a-11ec-a82a-0242ac1c0002\"] = google.colab.output.getActiveOutputArea();\n",
              "//# sourceURL=js_c981e4300f"
            ],
            "text/plain": [
              "<IPython.core.display.Javascript object>"
            ]
          },
          "metadata": {}
        },
        {
          "output_type": "display_data",
          "data": {
            "application/javascript": [
              "window[\"3ebcb82c-9d8a-11ec-a82a-0242ac1c0002\"] = document.querySelector(\"#id10-0-0\");\n",
              "//# sourceURL=js_7966ea1997"
            ],
            "text/plain": [
              "<IPython.core.display.Javascript object>"
            ]
          },
          "metadata": {}
        },
        {
          "output_type": "display_data",
          "data": {
            "application/javascript": [
              "window[\"3ebd26a4-9d8a-11ec-a82a-0242ac1c0002\"] = google.colab.output.setActiveOutputArea(window[\"3ebcb82c-9d8a-11ec-a82a-0242ac1c0002\"]);\n",
              "//# sourceURL=js_c37456c32e"
            ],
            "text/plain": [
              "<IPython.core.display.Javascript object>"
            ]
          },
          "metadata": {}
        },
        {
          "output_type": "display_data",
          "data": {
            "application/javascript": [
              "window[\"3ed64e04-9d8a-11ec-a82a-0242ac1c0002\"] = google.colab.output.setActiveOutputArea(window[\"3ebc4f22-9d8a-11ec-a82a-0242ac1c0002\"]);\n",
              "//# sourceURL=js_a707d18f68"
            ],
            "text/plain": [
              "<IPython.core.display.Javascript object>"
            ]
          },
          "metadata": {}
        },
        {
          "output_type": "display_data",
          "data": {
            "application/javascript": [
              "window[\"3ef71f08-9d8a-11ec-a82a-0242ac1c0002\"] = google.colab.output.getActiveOutputArea();\n",
              "//# sourceURL=js_c3b7a303f2"
            ],
            "text/plain": [
              "<IPython.core.display.Javascript object>"
            ]
          },
          "metadata": {}
        },
        {
          "output_type": "display_data",
          "data": {
            "application/javascript": [
              "window[\"3ef7d088-9d8a-11ec-a82a-0242ac1c0002\"] = document.querySelector(\"#id10-0-0\");\n",
              "//# sourceURL=js_b5e5e95940"
            ],
            "text/plain": [
              "<IPython.core.display.Javascript object>"
            ]
          },
          "metadata": {}
        },
        {
          "output_type": "display_data",
          "data": {
            "application/javascript": [
              "window[\"3ef82f06-9d8a-11ec-a82a-0242ac1c0002\"] = google.colab.output.setActiveOutputArea(window[\"3ef7d088-9d8a-11ec-a82a-0242ac1c0002\"]);\n",
              "//# sourceURL=js_9f5c724632"
            ],
            "text/plain": [
              "<IPython.core.display.Javascript object>"
            ]
          },
          "metadata": {}
        },
        {
          "output_type": "display_data",
          "data": {
            "application/javascript": [
              "window[\"3f131a64-9d8a-11ec-a82a-0242ac1c0002\"] = google.colab.output.setActiveOutputArea(window[\"3ef71f08-9d8a-11ec-a82a-0242ac1c0002\"]);\n",
              "//# sourceURL=js_cd20bdc280"
            ],
            "text/plain": [
              "<IPython.core.display.Javascript object>"
            ]
          },
          "metadata": {}
        },
        {
          "output_type": "display_data",
          "data": {
            "application/javascript": [
              "window[\"3f34c592-9d8a-11ec-a82a-0242ac1c0002\"] = google.colab.output.getActiveOutputArea();\n",
              "//# sourceURL=js_a99641e9f4"
            ],
            "text/plain": [
              "<IPython.core.display.Javascript object>"
            ]
          },
          "metadata": {}
        },
        {
          "output_type": "display_data",
          "data": {
            "application/javascript": [
              "window[\"3f352ec4-9d8a-11ec-a82a-0242ac1c0002\"] = document.querySelector(\"#id10-0-0\");\n",
              "//# sourceURL=js_6c90ae186c"
            ],
            "text/plain": [
              "<IPython.core.display.Javascript object>"
            ]
          },
          "metadata": {}
        },
        {
          "output_type": "display_data",
          "data": {
            "application/javascript": [
              "window[\"3f359efe-9d8a-11ec-a82a-0242ac1c0002\"] = google.colab.output.setActiveOutputArea(window[\"3f352ec4-9d8a-11ec-a82a-0242ac1c0002\"]);\n",
              "//# sourceURL=js_1fa14d9c57"
            ],
            "text/plain": [
              "<IPython.core.display.Javascript object>"
            ]
          },
          "metadata": {}
        },
        {
          "output_type": "display_data",
          "data": {
            "application/javascript": [
              "window[\"3f4f2194-9d8a-11ec-a82a-0242ac1c0002\"] = google.colab.output.setActiveOutputArea(window[\"3f34c592-9d8a-11ec-a82a-0242ac1c0002\"]);\n",
              "//# sourceURL=js_3fa722b26e"
            ],
            "text/plain": [
              "<IPython.core.display.Javascript object>"
            ]
          },
          "metadata": {}
        },
        {
          "output_type": "display_data",
          "data": {
            "application/javascript": [
              "window[\"3f70378a-9d8a-11ec-a82a-0242ac1c0002\"] = google.colab.output.getActiveOutputArea();\n",
              "//# sourceURL=js_c76a6bf554"
            ],
            "text/plain": [
              "<IPython.core.display.Javascript object>"
            ]
          },
          "metadata": {}
        },
        {
          "output_type": "display_data",
          "data": {
            "application/javascript": [
              "window[\"3f70c4fc-9d8a-11ec-a82a-0242ac1c0002\"] = document.querySelector(\"#id10-0-0\");\n",
              "//# sourceURL=js_7bc84bacb4"
            ],
            "text/plain": [
              "<IPython.core.display.Javascript object>"
            ]
          },
          "metadata": {}
        },
        {
          "output_type": "display_data",
          "data": {
            "application/javascript": [
              "window[\"3f71a106-9d8a-11ec-a82a-0242ac1c0002\"] = google.colab.output.setActiveOutputArea(window[\"3f70c4fc-9d8a-11ec-a82a-0242ac1c0002\"]);\n",
              "//# sourceURL=js_30ab660292"
            ],
            "text/plain": [
              "<IPython.core.display.Javascript object>"
            ]
          },
          "metadata": {}
        },
        {
          "output_type": "display_data",
          "data": {
            "application/javascript": [
              "window[\"3f8d978a-9d8a-11ec-a82a-0242ac1c0002\"] = google.colab.output.setActiveOutputArea(window[\"3f70378a-9d8a-11ec-a82a-0242ac1c0002\"]);\n",
              "//# sourceURL=js_842ad97902"
            ],
            "text/plain": [
              "<IPython.core.display.Javascript object>"
            ]
          },
          "metadata": {}
        },
        {
          "output_type": "display_data",
          "data": {
            "application/javascript": [
              "window[\"3fb0dfce-9d8a-11ec-a82a-0242ac1c0002\"] = google.colab.output.getActiveOutputArea();\n",
              "//# sourceURL=js_0f5a826575"
            ],
            "text/plain": [
              "<IPython.core.display.Javascript object>"
            ]
          },
          "metadata": {}
        },
        {
          "output_type": "display_data",
          "data": {
            "application/javascript": [
              "window[\"3fb18028-9d8a-11ec-a82a-0242ac1c0002\"] = document.querySelector(\"#id10-0-0\");\n",
              "//# sourceURL=js_9e611e9ba7"
            ],
            "text/plain": [
              "<IPython.core.display.Javascript object>"
            ]
          },
          "metadata": {}
        },
        {
          "output_type": "display_data",
          "data": {
            "application/javascript": [
              "window[\"3fb1f9d6-9d8a-11ec-a82a-0242ac1c0002\"] = google.colab.output.setActiveOutputArea(window[\"3fb18028-9d8a-11ec-a82a-0242ac1c0002\"]);\n",
              "//# sourceURL=js_4b439d0344"
            ],
            "text/plain": [
              "<IPython.core.display.Javascript object>"
            ]
          },
          "metadata": {}
        },
        {
          "output_type": "display_data",
          "data": {
            "application/javascript": [
              "window[\"3fcdaa82-9d8a-11ec-a82a-0242ac1c0002\"] = google.colab.output.setActiveOutputArea(window[\"3fb0dfce-9d8a-11ec-a82a-0242ac1c0002\"]);\n",
              "//# sourceURL=js_f40c3e2b9e"
            ],
            "text/plain": [
              "<IPython.core.display.Javascript object>"
            ]
          },
          "metadata": {}
        },
        {
          "output_type": "display_data",
          "data": {
            "application/javascript": [
              "window[\"3fee4b2a-9d8a-11ec-a82a-0242ac1c0002\"] = google.colab.output.getActiveOutputArea();\n",
              "//# sourceURL=js_18d6db6f35"
            ],
            "text/plain": [
              "<IPython.core.display.Javascript object>"
            ]
          },
          "metadata": {}
        },
        {
          "output_type": "display_data",
          "data": {
            "application/javascript": [
              "window[\"3fee8b30-9d8a-11ec-a82a-0242ac1c0002\"] = document.querySelector(\"#id10-0-0\");\n",
              "//# sourceURL=js_6b4f8f27a8"
            ],
            "text/plain": [
              "<IPython.core.display.Javascript object>"
            ]
          },
          "metadata": {}
        },
        {
          "output_type": "display_data",
          "data": {
            "application/javascript": [
              "window[\"3feec85c-9d8a-11ec-a82a-0242ac1c0002\"] = google.colab.output.setActiveOutputArea(window[\"3fee8b30-9d8a-11ec-a82a-0242ac1c0002\"]);\n",
              "//# sourceURL=js_8347c0eddb"
            ],
            "text/plain": [
              "<IPython.core.display.Javascript object>"
            ]
          },
          "metadata": {}
        },
        {
          "output_type": "display_data",
          "data": {
            "application/javascript": [
              "window[\"4011e4d6-9d8a-11ec-a82a-0242ac1c0002\"] = google.colab.output.setActiveOutputArea(window[\"3fee4b2a-9d8a-11ec-a82a-0242ac1c0002\"]);\n",
              "//# sourceURL=js_273efbe820"
            ],
            "text/plain": [
              "<IPython.core.display.Javascript object>"
            ]
          },
          "metadata": {}
        },
        {
          "output_type": "display_data",
          "data": {
            "application/javascript": [
              "window[\"4032aa04-9d8a-11ec-a82a-0242ac1c0002\"] = google.colab.output.getActiveOutputArea();\n",
              "//# sourceURL=js_40da29b7d6"
            ],
            "text/plain": [
              "<IPython.core.display.Javascript object>"
            ]
          },
          "metadata": {}
        },
        {
          "output_type": "display_data",
          "data": {
            "application/javascript": [
              "window[\"40330bac-9d8a-11ec-a82a-0242ac1c0002\"] = document.querySelector(\"#id10-0-0\");\n",
              "//# sourceURL=js_3510194582"
            ],
            "text/plain": [
              "<IPython.core.display.Javascript object>"
            ]
          },
          "metadata": {}
        },
        {
          "output_type": "display_data",
          "data": {
            "application/javascript": [
              "window[\"403366f6-9d8a-11ec-a82a-0242ac1c0002\"] = google.colab.output.setActiveOutputArea(window[\"40330bac-9d8a-11ec-a82a-0242ac1c0002\"]);\n",
              "//# sourceURL=js_889393d3a8"
            ],
            "text/plain": [
              "<IPython.core.display.Javascript object>"
            ]
          },
          "metadata": {}
        },
        {
          "output_type": "display_data",
          "data": {
            "application/javascript": [
              "window[\"404ca83c-9d8a-11ec-a82a-0242ac1c0002\"] = google.colab.output.setActiveOutputArea(window[\"4032aa04-9d8a-11ec-a82a-0242ac1c0002\"]);\n",
              "//# sourceURL=js_3303b366f2"
            ],
            "text/plain": [
              "<IPython.core.display.Javascript object>"
            ]
          },
          "metadata": {}
        },
        {
          "output_type": "display_data",
          "data": {
            "application/javascript": [
              "window[\"406d49ac-9d8a-11ec-a82a-0242ac1c0002\"] = google.colab.output.getActiveOutputArea();\n",
              "//# sourceURL=js_e3e7c5dac3"
            ],
            "text/plain": [
              "<IPython.core.display.Javascript object>"
            ]
          },
          "metadata": {}
        },
        {
          "output_type": "display_data",
          "data": {
            "application/javascript": [
              "window[\"406da320-9d8a-11ec-a82a-0242ac1c0002\"] = document.querySelector(\"#id10-0-0\");\n",
              "//# sourceURL=js_a3fe1581c5"
            ],
            "text/plain": [
              "<IPython.core.display.Javascript object>"
            ]
          },
          "metadata": {}
        },
        {
          "output_type": "display_data",
          "data": {
            "application/javascript": [
              "window[\"406e0bf8-9d8a-11ec-a82a-0242ac1c0002\"] = google.colab.output.setActiveOutputArea(window[\"406da320-9d8a-11ec-a82a-0242ac1c0002\"]);\n",
              "//# sourceURL=js_becfe3bc4a"
            ],
            "text/plain": [
              "<IPython.core.display.Javascript object>"
            ]
          },
          "metadata": {}
        },
        {
          "output_type": "display_data",
          "data": {
            "application/javascript": [
              "window[\"408822a4-9d8a-11ec-a82a-0242ac1c0002\"] = google.colab.output.setActiveOutputArea(window[\"406d49ac-9d8a-11ec-a82a-0242ac1c0002\"]);\n",
              "//# sourceURL=js_809cacfcea"
            ],
            "text/plain": [
              "<IPython.core.display.Javascript object>"
            ]
          },
          "metadata": {}
        },
        {
          "output_type": "display_data",
          "data": {
            "application/javascript": [
              "window[\"40a95140-9d8a-11ec-a82a-0242ac1c0002\"] = google.colab.output.getActiveOutputArea();\n",
              "//# sourceURL=js_16e459ef4d"
            ],
            "text/plain": [
              "<IPython.core.display.Javascript object>"
            ]
          },
          "metadata": {}
        },
        {
          "output_type": "display_data",
          "data": {
            "application/javascript": [
              "window[\"40a9c0c6-9d8a-11ec-a82a-0242ac1c0002\"] = document.querySelector(\"#id10-0-0\");\n",
              "//# sourceURL=js_52b8d02196"
            ],
            "text/plain": [
              "<IPython.core.display.Javascript object>"
            ]
          },
          "metadata": {}
        },
        {
          "output_type": "display_data",
          "data": {
            "application/javascript": [
              "window[\"40aa4532-9d8a-11ec-a82a-0242ac1c0002\"] = google.colab.output.setActiveOutputArea(window[\"40a9c0c6-9d8a-11ec-a82a-0242ac1c0002\"]);\n",
              "//# sourceURL=js_d92ce4cd74"
            ],
            "text/plain": [
              "<IPython.core.display.Javascript object>"
            ]
          },
          "metadata": {}
        },
        {
          "output_type": "display_data",
          "data": {
            "application/javascript": [
              "window[\"40c359a0-9d8a-11ec-a82a-0242ac1c0002\"] = google.colab.output.setActiveOutputArea(window[\"40a95140-9d8a-11ec-a82a-0242ac1c0002\"]);\n",
              "//# sourceURL=js_8efaee6460"
            ],
            "text/plain": [
              "<IPython.core.display.Javascript object>"
            ]
          },
          "metadata": {}
        },
        {
          "output_type": "display_data",
          "data": {
            "application/javascript": [
              "window[\"40e7a026-9d8a-11ec-a82a-0242ac1c0002\"] = google.colab.output.getActiveOutputArea();\n",
              "//# sourceURL=js_f522d03bae"
            ],
            "text/plain": [
              "<IPython.core.display.Javascript object>"
            ]
          },
          "metadata": {}
        },
        {
          "output_type": "display_data",
          "data": {
            "application/javascript": [
              "window[\"40e81bbe-9d8a-11ec-a82a-0242ac1c0002\"] = document.querySelector(\"#id10-0-0\");\n",
              "//# sourceURL=js_c5fea8759c"
            ],
            "text/plain": [
              "<IPython.core.display.Javascript object>"
            ]
          },
          "metadata": {}
        },
        {
          "output_type": "display_data",
          "data": {
            "application/javascript": [
              "window[\"40e9342c-9d8a-11ec-a82a-0242ac1c0002\"] = google.colab.output.setActiveOutputArea(window[\"40e81bbe-9d8a-11ec-a82a-0242ac1c0002\"]);\n",
              "//# sourceURL=js_0a3b02168a"
            ],
            "text/plain": [
              "<IPython.core.display.Javascript object>"
            ]
          },
          "metadata": {}
        },
        {
          "output_type": "display_data",
          "data": {
            "application/javascript": [
              "window[\"4106a1d8-9d8a-11ec-a82a-0242ac1c0002\"] = google.colab.output.setActiveOutputArea(window[\"40e7a026-9d8a-11ec-a82a-0242ac1c0002\"]);\n",
              "//# sourceURL=js_159d2f506b"
            ],
            "text/plain": [
              "<IPython.core.display.Javascript object>"
            ]
          },
          "metadata": {}
        },
        {
          "output_type": "display_data",
          "data": {
            "application/javascript": [
              "window[\"412934b4-9d8a-11ec-a82a-0242ac1c0002\"] = google.colab.output.getActiveOutputArea();\n",
              "//# sourceURL=js_038fe6fd55"
            ],
            "text/plain": [
              "<IPython.core.display.Javascript object>"
            ]
          },
          "metadata": {}
        },
        {
          "output_type": "display_data",
          "data": {
            "application/javascript": [
              "window[\"4129af8e-9d8a-11ec-a82a-0242ac1c0002\"] = document.querySelector(\"#id10-0-0\");\n",
              "//# sourceURL=js_35a638bc93"
            ],
            "text/plain": [
              "<IPython.core.display.Javascript object>"
            ]
          },
          "metadata": {}
        },
        {
          "output_type": "display_data",
          "data": {
            "application/javascript": [
              "window[\"412a3472-9d8a-11ec-a82a-0242ac1c0002\"] = google.colab.output.setActiveOutputArea(window[\"4129af8e-9d8a-11ec-a82a-0242ac1c0002\"]);\n",
              "//# sourceURL=js_815814923b"
            ],
            "text/plain": [
              "<IPython.core.display.Javascript object>"
            ]
          },
          "metadata": {}
        },
        {
          "output_type": "display_data",
          "data": {
            "application/javascript": [
              "window[\"4143dc24-9d8a-11ec-a82a-0242ac1c0002\"] = google.colab.output.setActiveOutputArea(window[\"412934b4-9d8a-11ec-a82a-0242ac1c0002\"]);\n",
              "//# sourceURL=js_2e95f4f6f4"
            ],
            "text/plain": [
              "<IPython.core.display.Javascript object>"
            ]
          },
          "metadata": {}
        },
        {
          "output_type": "display_data",
          "data": {
            "application/javascript": [
              "window[\"416784f8-9d8a-11ec-a82a-0242ac1c0002\"] = google.colab.output.getActiveOutputArea();\n",
              "//# sourceURL=js_afac176fc2"
            ],
            "text/plain": [
              "<IPython.core.display.Javascript object>"
            ]
          },
          "metadata": {}
        },
        {
          "output_type": "display_data",
          "data": {
            "application/javascript": [
              "window[\"41683ea2-9d8a-11ec-a82a-0242ac1c0002\"] = document.querySelector(\"#id10-0-0\");\n",
              "//# sourceURL=js_a4eefd02c3"
            ],
            "text/plain": [
              "<IPython.core.display.Javascript object>"
            ]
          },
          "metadata": {}
        },
        {
          "output_type": "display_data",
          "data": {
            "application/javascript": [
              "window[\"416917c8-9d8a-11ec-a82a-0242ac1c0002\"] = google.colab.output.setActiveOutputArea(window[\"41683ea2-9d8a-11ec-a82a-0242ac1c0002\"]);\n",
              "//# sourceURL=js_eac9d41cbc"
            ],
            "text/plain": [
              "<IPython.core.display.Javascript object>"
            ]
          },
          "metadata": {}
        },
        {
          "output_type": "display_data",
          "data": {
            "application/javascript": [
              "window[\"4182454a-9d8a-11ec-a82a-0242ac1c0002\"] = google.colab.output.setActiveOutputArea(window[\"416784f8-9d8a-11ec-a82a-0242ac1c0002\"]);\n",
              "//# sourceURL=js_9f6cdd4639"
            ],
            "text/plain": [
              "<IPython.core.display.Javascript object>"
            ]
          },
          "metadata": {}
        },
        {
          "output_type": "display_data",
          "data": {
            "application/javascript": [
              "window[\"41a3cc42-9d8a-11ec-a82a-0242ac1c0002\"] = google.colab.output.getActiveOutputArea();\n",
              "//# sourceURL=js_5a908dc948"
            ],
            "text/plain": [
              "<IPython.core.display.Javascript object>"
            ]
          },
          "metadata": {}
        },
        {
          "output_type": "display_data",
          "data": {
            "application/javascript": [
              "window[\"41a42322-9d8a-11ec-a82a-0242ac1c0002\"] = document.querySelector(\"#id10-0-0\");\n",
              "//# sourceURL=js_abdd8c49c8"
            ],
            "text/plain": [
              "<IPython.core.display.Javascript object>"
            ]
          },
          "metadata": {}
        },
        {
          "output_type": "display_data",
          "data": {
            "application/javascript": [
              "window[\"41a4a5e0-9d8a-11ec-a82a-0242ac1c0002\"] = google.colab.output.setActiveOutputArea(window[\"41a42322-9d8a-11ec-a82a-0242ac1c0002\"]);\n",
              "//# sourceURL=js_cadb82ab21"
            ],
            "text/plain": [
              "<IPython.core.display.Javascript object>"
            ]
          },
          "metadata": {}
        },
        {
          "output_type": "display_data",
          "data": {
            "application/javascript": [
              "window[\"41beb02a-9d8a-11ec-a82a-0242ac1c0002\"] = google.colab.output.setActiveOutputArea(window[\"41a3cc42-9d8a-11ec-a82a-0242ac1c0002\"]);\n",
              "//# sourceURL=js_f918faf989"
            ],
            "text/plain": [
              "<IPython.core.display.Javascript object>"
            ]
          },
          "metadata": {}
        },
        {
          "output_type": "display_data",
          "data": {
            "application/javascript": [
              "window[\"41df5c80-9d8a-11ec-a82a-0242ac1c0002\"] = google.colab.output.getActiveOutputArea();\n",
              "//# sourceURL=js_9c79b4a156"
            ],
            "text/plain": [
              "<IPython.core.display.Javascript object>"
            ]
          },
          "metadata": {}
        },
        {
          "output_type": "display_data",
          "data": {
            "application/javascript": [
              "window[\"41dfda16-9d8a-11ec-a82a-0242ac1c0002\"] = document.querySelector(\"#id10-0-0\");\n",
              "//# sourceURL=js_a5990017a7"
            ],
            "text/plain": [
              "<IPython.core.display.Javascript object>"
            ]
          },
          "metadata": {}
        },
        {
          "output_type": "display_data",
          "data": {
            "application/javascript": [
              "window[\"41e04a3c-9d8a-11ec-a82a-0242ac1c0002\"] = google.colab.output.setActiveOutputArea(window[\"41dfda16-9d8a-11ec-a82a-0242ac1c0002\"]);\n",
              "//# sourceURL=js_fcdcb7081c"
            ],
            "text/plain": [
              "<IPython.core.display.Javascript object>"
            ]
          },
          "metadata": {}
        },
        {
          "output_type": "display_data",
          "data": {
            "application/javascript": [
              "window[\"41fa6a3e-9d8a-11ec-a82a-0242ac1c0002\"] = google.colab.output.setActiveOutputArea(window[\"41df5c80-9d8a-11ec-a82a-0242ac1c0002\"]);\n",
              "//# sourceURL=js_b8547c9e2d"
            ],
            "text/plain": [
              "<IPython.core.display.Javascript object>"
            ]
          },
          "metadata": {}
        },
        {
          "output_type": "display_data",
          "data": {
            "application/javascript": [
              "window[\"421ade36-9d8a-11ec-a82a-0242ac1c0002\"] = google.colab.output.getActiveOutputArea();\n",
              "//# sourceURL=js_d8195170c0"
            ],
            "text/plain": [
              "<IPython.core.display.Javascript object>"
            ]
          },
          "metadata": {}
        },
        {
          "output_type": "display_data",
          "data": {
            "application/javascript": [
              "window[\"421b36ce-9d8a-11ec-a82a-0242ac1c0002\"] = document.querySelector(\"#id10-0-0\");\n",
              "//# sourceURL=js_5d7a8c4121"
            ],
            "text/plain": [
              "<IPython.core.display.Javascript object>"
            ]
          },
          "metadata": {}
        },
        {
          "output_type": "display_data",
          "data": {
            "application/javascript": [
              "window[\"421ba37a-9d8a-11ec-a82a-0242ac1c0002\"] = google.colab.output.setActiveOutputArea(window[\"421b36ce-9d8a-11ec-a82a-0242ac1c0002\"]);\n",
              "//# sourceURL=js_8d43085994"
            ],
            "text/plain": [
              "<IPython.core.display.Javascript object>"
            ]
          },
          "metadata": {}
        },
        {
          "output_type": "display_data",
          "data": {
            "application/javascript": [
              "window[\"4238da8a-9d8a-11ec-a82a-0242ac1c0002\"] = google.colab.output.setActiveOutputArea(window[\"421ade36-9d8a-11ec-a82a-0242ac1c0002\"]);\n",
              "//# sourceURL=js_56f9d8f845"
            ],
            "text/plain": [
              "<IPython.core.display.Javascript object>"
            ]
          },
          "metadata": {}
        },
        {
          "output_type": "display_data",
          "data": {
            "application/javascript": [
              "window[\"425ccad0-9d8a-11ec-a82a-0242ac1c0002\"] = google.colab.output.getActiveOutputArea();\n",
              "//# sourceURL=js_c46a15563f"
            ],
            "text/plain": [
              "<IPython.core.display.Javascript object>"
            ]
          },
          "metadata": {}
        },
        {
          "output_type": "display_data",
          "data": {
            "application/javascript": [
              "window[\"425d2886-9d8a-11ec-a82a-0242ac1c0002\"] = document.querySelector(\"#id10-0-0\");\n",
              "//# sourceURL=js_a299162542"
            ],
            "text/plain": [
              "<IPython.core.display.Javascript object>"
            ]
          },
          "metadata": {}
        },
        {
          "output_type": "display_data",
          "data": {
            "application/javascript": [
              "window[\"425da234-9d8a-11ec-a82a-0242ac1c0002\"] = google.colab.output.setActiveOutputArea(window[\"425d2886-9d8a-11ec-a82a-0242ac1c0002\"]);\n",
              "//# sourceURL=js_bf193c0123"
            ],
            "text/plain": [
              "<IPython.core.display.Javascript object>"
            ]
          },
          "metadata": {}
        },
        {
          "output_type": "display_data",
          "data": {
            "application/javascript": [
              "window[\"42774cc0-9d8a-11ec-a82a-0242ac1c0002\"] = google.colab.output.setActiveOutputArea(window[\"425ccad0-9d8a-11ec-a82a-0242ac1c0002\"]);\n",
              "//# sourceURL=js_5c440924f6"
            ],
            "text/plain": [
              "<IPython.core.display.Javascript object>"
            ]
          },
          "metadata": {}
        },
        {
          "output_type": "display_data",
          "data": {
            "application/javascript": [
              "window[\"42980c62-9d8a-11ec-a82a-0242ac1c0002\"] = google.colab.output.getActiveOutputArea();\n",
              "//# sourceURL=js_ae4b16b904"
            ],
            "text/plain": [
              "<IPython.core.display.Javascript object>"
            ]
          },
          "metadata": {}
        },
        {
          "output_type": "display_data",
          "data": {
            "application/javascript": [
              "window[\"42986fb8-9d8a-11ec-a82a-0242ac1c0002\"] = document.querySelector(\"#id10-0-0\");\n",
              "//# sourceURL=js_4fdd3dd215"
            ],
            "text/plain": [
              "<IPython.core.display.Javascript object>"
            ]
          },
          "metadata": {}
        },
        {
          "output_type": "display_data",
          "data": {
            "application/javascript": [
              "window[\"4298ce90-9d8a-11ec-a82a-0242ac1c0002\"] = google.colab.output.setActiveOutputArea(window[\"42986fb8-9d8a-11ec-a82a-0242ac1c0002\"]);\n",
              "//# sourceURL=js_69c4cc978f"
            ],
            "text/plain": [
              "<IPython.core.display.Javascript object>"
            ]
          },
          "metadata": {}
        },
        {
          "output_type": "display_data",
          "data": {
            "application/javascript": [
              "window[\"42bffd1c-9d8a-11ec-a82a-0242ac1c0002\"] = google.colab.output.setActiveOutputArea(window[\"42980c62-9d8a-11ec-a82a-0242ac1c0002\"]);\n",
              "//# sourceURL=js_c89f156b9e"
            ],
            "text/plain": [
              "<IPython.core.display.Javascript object>"
            ]
          },
          "metadata": {}
        },
        {
          "output_type": "display_data",
          "data": {
            "application/javascript": [
              "window[\"42e0f31e-9d8a-11ec-a82a-0242ac1c0002\"] = google.colab.output.getActiveOutputArea();\n",
              "//# sourceURL=js_a57238ecf8"
            ],
            "text/plain": [
              "<IPython.core.display.Javascript object>"
            ]
          },
          "metadata": {}
        },
        {
          "output_type": "display_data",
          "data": {
            "application/javascript": [
              "window[\"42e15a0c-9d8a-11ec-a82a-0242ac1c0002\"] = document.querySelector(\"#id10-0-0\");\n",
              "//# sourceURL=js_7791052ab6"
            ],
            "text/plain": [
              "<IPython.core.display.Javascript object>"
            ]
          },
          "metadata": {}
        },
        {
          "output_type": "display_data",
          "data": {
            "application/javascript": [
              "window[\"42e1b97a-9d8a-11ec-a82a-0242ac1c0002\"] = google.colab.output.setActiveOutputArea(window[\"42e15a0c-9d8a-11ec-a82a-0242ac1c0002\"]);\n",
              "//# sourceURL=js_d209e0f33d"
            ],
            "text/plain": [
              "<IPython.core.display.Javascript object>"
            ]
          },
          "metadata": {}
        },
        {
          "output_type": "display_data",
          "data": {
            "application/javascript": [
              "window[\"42fb22f2-9d8a-11ec-a82a-0242ac1c0002\"] = google.colab.output.setActiveOutputArea(window[\"42e0f31e-9d8a-11ec-a82a-0242ac1c0002\"]);\n",
              "//# sourceURL=js_554f58e0af"
            ],
            "text/plain": [
              "<IPython.core.display.Javascript object>"
            ]
          },
          "metadata": {}
        },
        {
          "output_type": "display_data",
          "data": {
            "application/javascript": [
              "window[\"431c542c-9d8a-11ec-a82a-0242ac1c0002\"] = google.colab.output.getActiveOutputArea();\n",
              "//# sourceURL=js_58e4ab64f2"
            ],
            "text/plain": [
              "<IPython.core.display.Javascript object>"
            ]
          },
          "metadata": {}
        },
        {
          "output_type": "display_data",
          "data": {
            "application/javascript": [
              "window[\"431cbd40-9d8a-11ec-a82a-0242ac1c0002\"] = document.querySelector(\"#id10-0-0\");\n",
              "//# sourceURL=js_3ce6dc47df"
            ],
            "text/plain": [
              "<IPython.core.display.Javascript object>"
            ]
          },
          "metadata": {}
        },
        {
          "output_type": "display_data",
          "data": {
            "application/javascript": [
              "window[\"431d41fc-9d8a-11ec-a82a-0242ac1c0002\"] = google.colab.output.setActiveOutputArea(window[\"431cbd40-9d8a-11ec-a82a-0242ac1c0002\"]);\n",
              "//# sourceURL=js_22c0820465"
            ],
            "text/plain": [
              "<IPython.core.display.Javascript object>"
            ]
          },
          "metadata": {}
        },
        {
          "output_type": "display_data",
          "data": {
            "application/javascript": [
              "window[\"43386018-9d8a-11ec-a82a-0242ac1c0002\"] = google.colab.output.setActiveOutputArea(window[\"431c542c-9d8a-11ec-a82a-0242ac1c0002\"]);\n",
              "//# sourceURL=js_93705c790e"
            ],
            "text/plain": [
              "<IPython.core.display.Javascript object>"
            ]
          },
          "metadata": {}
        },
        {
          "output_type": "display_data",
          "data": {
            "application/javascript": [
              "window[\"4359ade0-9d8a-11ec-a82a-0242ac1c0002\"] = google.colab.output.getActiveOutputArea();\n",
              "//# sourceURL=js_05f3bdfc0e"
            ],
            "text/plain": [
              "<IPython.core.display.Javascript object>"
            ]
          },
          "metadata": {}
        },
        {
          "output_type": "display_data",
          "data": {
            "application/javascript": [
              "window[\"435a27f2-9d8a-11ec-a82a-0242ac1c0002\"] = document.querySelector(\"#id10-0-0\");\n",
              "//# sourceURL=js_ea9e5623bf"
            ],
            "text/plain": [
              "<IPython.core.display.Javascript object>"
            ]
          },
          "metadata": {}
        },
        {
          "output_type": "display_data",
          "data": {
            "application/javascript": [
              "window[\"435ae098-9d8a-11ec-a82a-0242ac1c0002\"] = google.colab.output.setActiveOutputArea(window[\"435a27f2-9d8a-11ec-a82a-0242ac1c0002\"]);\n",
              "//# sourceURL=js_2679082eef"
            ],
            "text/plain": [
              "<IPython.core.display.Javascript object>"
            ]
          },
          "metadata": {}
        },
        {
          "output_type": "display_data",
          "data": {
            "application/javascript": [
              "window[\"43782b26-9d8a-11ec-a82a-0242ac1c0002\"] = google.colab.output.setActiveOutputArea(window[\"4359ade0-9d8a-11ec-a82a-0242ac1c0002\"]);\n",
              "//# sourceURL=js_3fd66cdde4"
            ],
            "text/plain": [
              "<IPython.core.display.Javascript object>"
            ]
          },
          "metadata": {}
        },
        {
          "output_type": "display_data",
          "data": {
            "application/javascript": [
              "window[\"439bb276-9d8a-11ec-a82a-0242ac1c0002\"] = google.colab.output.getActiveOutputArea();\n",
              "//# sourceURL=js_c0cb0dbe24"
            ],
            "text/plain": [
              "<IPython.core.display.Javascript object>"
            ]
          },
          "metadata": {}
        },
        {
          "output_type": "display_data",
          "data": {
            "application/javascript": [
              "window[\"439c0cd0-9d8a-11ec-a82a-0242ac1c0002\"] = document.querySelector(\"#id10-0-0\");\n",
              "//# sourceURL=js_925450ce46"
            ],
            "text/plain": [
              "<IPython.core.display.Javascript object>"
            ]
          },
          "metadata": {}
        },
        {
          "output_type": "display_data",
          "data": {
            "application/javascript": [
              "window[\"439cbed2-9d8a-11ec-a82a-0242ac1c0002\"] = google.colab.output.setActiveOutputArea(window[\"439c0cd0-9d8a-11ec-a82a-0242ac1c0002\"]);\n",
              "//# sourceURL=js_d355c061e0"
            ],
            "text/plain": [
              "<IPython.core.display.Javascript object>"
            ]
          },
          "metadata": {}
        },
        {
          "output_type": "display_data",
          "data": {
            "application/javascript": [
              "window[\"43b6f5f4-9d8a-11ec-a82a-0242ac1c0002\"] = google.colab.output.setActiveOutputArea(window[\"439bb276-9d8a-11ec-a82a-0242ac1c0002\"]);\n",
              "//# sourceURL=js_b5d6417abe"
            ],
            "text/plain": [
              "<IPython.core.display.Javascript object>"
            ]
          },
          "metadata": {}
        },
        {
          "output_type": "display_data",
          "data": {
            "application/javascript": [
              "window[\"43d99352-9d8a-11ec-a82a-0242ac1c0002\"] = google.colab.output.getActiveOutputArea();\n",
              "//# sourceURL=js_00b1e8a971"
            ],
            "text/plain": [
              "<IPython.core.display.Javascript object>"
            ]
          },
          "metadata": {}
        },
        {
          "output_type": "display_data",
          "data": {
            "application/javascript": [
              "window[\"43da1962-9d8a-11ec-a82a-0242ac1c0002\"] = document.querySelector(\"#id10-0-0\");\n",
              "//# sourceURL=js_62db218836"
            ],
            "text/plain": [
              "<IPython.core.display.Javascript object>"
            ]
          },
          "metadata": {}
        },
        {
          "output_type": "display_data",
          "data": {
            "application/javascript": [
              "window[\"43da80f0-9d8a-11ec-a82a-0242ac1c0002\"] = google.colab.output.setActiveOutputArea(window[\"43da1962-9d8a-11ec-a82a-0242ac1c0002\"]);\n",
              "//# sourceURL=js_beef12685f"
            ],
            "text/plain": [
              "<IPython.core.display.Javascript object>"
            ]
          },
          "metadata": {}
        },
        {
          "output_type": "display_data",
          "data": {
            "application/javascript": [
              "window[\"43f48ce8-9d8a-11ec-a82a-0242ac1c0002\"] = google.colab.output.setActiveOutputArea(window[\"43d99352-9d8a-11ec-a82a-0242ac1c0002\"]);\n",
              "//# sourceURL=js_83d6bd7395"
            ],
            "text/plain": [
              "<IPython.core.display.Javascript object>"
            ]
          },
          "metadata": {}
        },
        {
          "output_type": "display_data",
          "data": {
            "application/javascript": [
              "window[\"441809ca-9d8a-11ec-a82a-0242ac1c0002\"] = google.colab.output.getActiveOutputArea();\n",
              "//# sourceURL=js_0d2a6dd107"
            ],
            "text/plain": [
              "<IPython.core.display.Javascript object>"
            ]
          },
          "metadata": {}
        },
        {
          "output_type": "display_data",
          "data": {
            "application/javascript": [
              "window[\"44189098-9d8a-11ec-a82a-0242ac1c0002\"] = document.querySelector(\"#id10-0-0\");\n",
              "//# sourceURL=js_53cd1c0cd2"
            ],
            "text/plain": [
              "<IPython.core.display.Javascript object>"
            ]
          },
          "metadata": {}
        },
        {
          "output_type": "display_data",
          "data": {
            "application/javascript": [
              "window[\"4418f1c8-9d8a-11ec-a82a-0242ac1c0002\"] = google.colab.output.setActiveOutputArea(window[\"44189098-9d8a-11ec-a82a-0242ac1c0002\"]);\n",
              "//# sourceURL=js_c75faff3c5"
            ],
            "text/plain": [
              "<IPython.core.display.Javascript object>"
            ]
          },
          "metadata": {}
        },
        {
          "output_type": "display_data",
          "data": {
            "application/javascript": [
              "window[\"44337ed0-9d8a-11ec-a82a-0242ac1c0002\"] = google.colab.output.setActiveOutputArea(window[\"441809ca-9d8a-11ec-a82a-0242ac1c0002\"]);\n",
              "//# sourceURL=js_937b5eac93"
            ],
            "text/plain": [
              "<IPython.core.display.Javascript object>"
            ]
          },
          "metadata": {}
        },
        {
          "output_type": "display_data",
          "data": {
            "application/javascript": [
              "window[\"44544732-9d8a-11ec-a82a-0242ac1c0002\"] = google.colab.output.getActiveOutputArea();\n",
              "//# sourceURL=js_3417de39ac"
            ],
            "text/plain": [
              "<IPython.core.display.Javascript object>"
            ]
          },
          "metadata": {}
        },
        {
          "output_type": "display_data",
          "data": {
            "application/javascript": [
              "window[\"44549124-9d8a-11ec-a82a-0242ac1c0002\"] = document.querySelector(\"#id10-0-0\");\n",
              "//# sourceURL=js_2cd681ebc8"
            ],
            "text/plain": [
              "<IPython.core.display.Javascript object>"
            ]
          },
          "metadata": {}
        },
        {
          "output_type": "display_data",
          "data": {
            "application/javascript": [
              "window[\"4454e87c-9d8a-11ec-a82a-0242ac1c0002\"] = google.colab.output.setActiveOutputArea(window[\"44549124-9d8a-11ec-a82a-0242ac1c0002\"]);\n",
              "//# sourceURL=js_9370aba943"
            ],
            "text/plain": [
              "<IPython.core.display.Javascript object>"
            ]
          },
          "metadata": {}
        },
        {
          "output_type": "display_data",
          "data": {
            "application/javascript": [
              "window[\"44706d5e-9d8a-11ec-a82a-0242ac1c0002\"] = google.colab.output.setActiveOutputArea(window[\"44544732-9d8a-11ec-a82a-0242ac1c0002\"]);\n",
              "//# sourceURL=js_e9905b1991"
            ],
            "text/plain": [
              "<IPython.core.display.Javascript object>"
            ]
          },
          "metadata": {}
        },
        {
          "output_type": "display_data",
          "data": {
            "application/javascript": [
              "window[\"44913e94-9d8a-11ec-a82a-0242ac1c0002\"] = google.colab.output.getActiveOutputArea();\n",
              "//# sourceURL=js_716124090d"
            ],
            "text/plain": [
              "<IPython.core.display.Javascript object>"
            ]
          },
          "metadata": {}
        },
        {
          "output_type": "display_data",
          "data": {
            "application/javascript": [
              "window[\"44920c66-9d8a-11ec-a82a-0242ac1c0002\"] = document.querySelector(\"#id10-0-0\");\n",
              "//# sourceURL=js_7281d3036c"
            ],
            "text/plain": [
              "<IPython.core.display.Javascript object>"
            ]
          },
          "metadata": {}
        },
        {
          "output_type": "display_data",
          "data": {
            "application/javascript": [
              "window[\"4492748a-9d8a-11ec-a82a-0242ac1c0002\"] = google.colab.output.setActiveOutputArea(window[\"44920c66-9d8a-11ec-a82a-0242ac1c0002\"]);\n",
              "//# sourceURL=js_300c8bf49e"
            ],
            "text/plain": [
              "<IPython.core.display.Javascript object>"
            ]
          },
          "metadata": {}
        },
        {
          "output_type": "display_data",
          "data": {
            "application/javascript": [
              "window[\"44ad09f8-9d8a-11ec-a82a-0242ac1c0002\"] = google.colab.output.setActiveOutputArea(window[\"44913e94-9d8a-11ec-a82a-0242ac1c0002\"]);\n",
              "//# sourceURL=js_0f1f49c430"
            ],
            "text/plain": [
              "<IPython.core.display.Javascript object>"
            ]
          },
          "metadata": {}
        },
        {
          "output_type": "display_data",
          "data": {
            "application/javascript": [
              "window[\"44cd9592-9d8a-11ec-a82a-0242ac1c0002\"] = google.colab.output.getActiveOutputArea();\n",
              "//# sourceURL=js_ddbe9094a5"
            ],
            "text/plain": [
              "<IPython.core.display.Javascript object>"
            ]
          },
          "metadata": {}
        },
        {
          "output_type": "display_data",
          "data": {
            "application/javascript": [
              "window[\"44cdf294-9d8a-11ec-a82a-0242ac1c0002\"] = document.querySelector(\"#id10-0-0\");\n",
              "//# sourceURL=js_c4831cd567"
            ],
            "text/plain": [
              "<IPython.core.display.Javascript object>"
            ]
          },
          "metadata": {}
        },
        {
          "output_type": "display_data",
          "data": {
            "application/javascript": [
              "window[\"44ce4988-9d8a-11ec-a82a-0242ac1c0002\"] = google.colab.output.setActiveOutputArea(window[\"44cdf294-9d8a-11ec-a82a-0242ac1c0002\"]);\n",
              "//# sourceURL=js_d7ee01528b"
            ],
            "text/plain": [
              "<IPython.core.display.Javascript object>"
            ]
          },
          "metadata": {}
        },
        {
          "output_type": "display_data",
          "data": {
            "application/javascript": [
              "window[\"44e84784-9d8a-11ec-a82a-0242ac1c0002\"] = google.colab.output.setActiveOutputArea(window[\"44cd9592-9d8a-11ec-a82a-0242ac1c0002\"]);\n",
              "//# sourceURL=js_f92937803b"
            ],
            "text/plain": [
              "<IPython.core.display.Javascript object>"
            ]
          },
          "metadata": {}
        },
        {
          "output_type": "display_data",
          "data": {
            "application/javascript": [
              "window[\"450b0ab2-9d8a-11ec-a82a-0242ac1c0002\"] = google.colab.output.getActiveOutputArea();\n",
              "//# sourceURL=js_d3b2c5b303"
            ],
            "text/plain": [
              "<IPython.core.display.Javascript object>"
            ]
          },
          "metadata": {}
        },
        {
          "output_type": "display_data",
          "data": {
            "application/javascript": [
              "window[\"450b77fe-9d8a-11ec-a82a-0242ac1c0002\"] = document.querySelector(\"#id10-0-0\");\n",
              "//# sourceURL=js_4da2222a31"
            ],
            "text/plain": [
              "<IPython.core.display.Javascript object>"
            ]
          },
          "metadata": {}
        },
        {
          "output_type": "display_data",
          "data": {
            "application/javascript": [
              "window[\"450c44c2-9d8a-11ec-a82a-0242ac1c0002\"] = google.colab.output.setActiveOutputArea(window[\"450b77fe-9d8a-11ec-a82a-0242ac1c0002\"]);\n",
              "//# sourceURL=js_092c7e38de"
            ],
            "text/plain": [
              "<IPython.core.display.Javascript object>"
            ]
          },
          "metadata": {}
        },
        {
          "output_type": "display_data",
          "data": {
            "application/javascript": [
              "window[\"45275ef6-9d8a-11ec-a82a-0242ac1c0002\"] = google.colab.output.setActiveOutputArea(window[\"450b0ab2-9d8a-11ec-a82a-0242ac1c0002\"]);\n",
              "//# sourceURL=js_40d880b28a"
            ],
            "text/plain": [
              "<IPython.core.display.Javascript object>"
            ]
          },
          "metadata": {}
        },
        {
          "output_type": "display_data",
          "data": {
            "application/javascript": [
              "window[\"4547f206-9d8a-11ec-a82a-0242ac1c0002\"] = google.colab.output.getActiveOutputArea();\n",
              "//# sourceURL=js_caa781a23c"
            ],
            "text/plain": [
              "<IPython.core.display.Javascript object>"
            ]
          },
          "metadata": {}
        },
        {
          "output_type": "display_data",
          "data": {
            "application/javascript": [
              "window[\"45487e38-9d8a-11ec-a82a-0242ac1c0002\"] = document.querySelector(\"#id10-0-0\");\n",
              "//# sourceURL=js_87d66f5561"
            ],
            "text/plain": [
              "<IPython.core.display.Javascript object>"
            ]
          },
          "metadata": {}
        },
        {
          "output_type": "display_data",
          "data": {
            "application/javascript": [
              "window[\"45490e8e-9d8a-11ec-a82a-0242ac1c0002\"] = google.colab.output.setActiveOutputArea(window[\"45487e38-9d8a-11ec-a82a-0242ac1c0002\"]);\n",
              "//# sourceURL=js_87ca23d3b0"
            ],
            "text/plain": [
              "<IPython.core.display.Javascript object>"
            ]
          },
          "metadata": {}
        },
        {
          "output_type": "display_data",
          "data": {
            "application/javascript": [
              "window[\"45700368-9d8a-11ec-a82a-0242ac1c0002\"] = google.colab.output.setActiveOutputArea(window[\"4547f206-9d8a-11ec-a82a-0242ac1c0002\"]);\n",
              "//# sourceURL=js_d44643021c"
            ],
            "text/plain": [
              "<IPython.core.display.Javascript object>"
            ]
          },
          "metadata": {}
        },
        {
          "output_type": "display_data",
          "data": {
            "application/javascript": [
              "window[\"45920e0e-9d8a-11ec-a82a-0242ac1c0002\"] = google.colab.output.getActiveOutputArea();\n",
              "//# sourceURL=js_2a10c3b880"
            ],
            "text/plain": [
              "<IPython.core.display.Javascript object>"
            ]
          },
          "metadata": {}
        },
        {
          "output_type": "display_data",
          "data": {
            "application/javascript": [
              "window[\"4592bb06-9d8a-11ec-a82a-0242ac1c0002\"] = document.querySelector(\"#id10-0-0\");\n",
              "//# sourceURL=js_e8d7ed9c45"
            ],
            "text/plain": [
              "<IPython.core.display.Javascript object>"
            ]
          },
          "metadata": {}
        },
        {
          "output_type": "display_data",
          "data": {
            "application/javascript": [
              "window[\"45932f00-9d8a-11ec-a82a-0242ac1c0002\"] = google.colab.output.setActiveOutputArea(window[\"4592bb06-9d8a-11ec-a82a-0242ac1c0002\"]);\n",
              "//# sourceURL=js_345662c6ef"
            ],
            "text/plain": [
              "<IPython.core.display.Javascript object>"
            ]
          },
          "metadata": {}
        },
        {
          "output_type": "display_data",
          "data": {
            "application/javascript": [
              "window[\"45af31aa-9d8a-11ec-a82a-0242ac1c0002\"] = google.colab.output.setActiveOutputArea(window[\"45920e0e-9d8a-11ec-a82a-0242ac1c0002\"]);\n",
              "//# sourceURL=js_48926576bf"
            ],
            "text/plain": [
              "<IPython.core.display.Javascript object>"
            ]
          },
          "metadata": {}
        },
        {
          "output_type": "display_data",
          "data": {
            "application/javascript": [
              "window[\"45d04cfa-9d8a-11ec-a82a-0242ac1c0002\"] = google.colab.output.getActiveOutputArea();\n",
              "//# sourceURL=js_0bb9a56576"
            ],
            "text/plain": [
              "<IPython.core.display.Javascript object>"
            ]
          },
          "metadata": {}
        },
        {
          "output_type": "display_data",
          "data": {
            "application/javascript": [
              "window[\"45d0cfea-9d8a-11ec-a82a-0242ac1c0002\"] = document.querySelector(\"#id10-0-0\");\n",
              "//# sourceURL=js_1702fa1971"
            ],
            "text/plain": [
              "<IPython.core.display.Javascript object>"
            ]
          },
          "metadata": {}
        },
        {
          "output_type": "display_data",
          "data": {
            "application/javascript": [
              "window[\"45d16022-9d8a-11ec-a82a-0242ac1c0002\"] = google.colab.output.setActiveOutputArea(window[\"45d0cfea-9d8a-11ec-a82a-0242ac1c0002\"]);\n",
              "//# sourceURL=js_4089cd74d2"
            ],
            "text/plain": [
              "<IPython.core.display.Javascript object>"
            ]
          },
          "metadata": {}
        },
        {
          "output_type": "display_data",
          "data": {
            "application/javascript": [
              "window[\"45eca0da-9d8a-11ec-a82a-0242ac1c0002\"] = google.colab.output.setActiveOutputArea(window[\"45d04cfa-9d8a-11ec-a82a-0242ac1c0002\"]);\n",
              "//# sourceURL=js_01cabf7c0c"
            ],
            "text/plain": [
              "<IPython.core.display.Javascript object>"
            ]
          },
          "metadata": {}
        },
        {
          "output_type": "display_data",
          "data": {
            "application/javascript": [
              "window[\"460d4dd0-9d8a-11ec-a82a-0242ac1c0002\"] = google.colab.output.getActiveOutputArea();\n",
              "//# sourceURL=js_267f19876f"
            ],
            "text/plain": [
              "<IPython.core.display.Javascript object>"
            ]
          },
          "metadata": {}
        },
        {
          "output_type": "display_data",
          "data": {
            "application/javascript": [
              "window[\"460dc2ec-9d8a-11ec-a82a-0242ac1c0002\"] = document.querySelector(\"#id10-0-0\");\n",
              "//# sourceURL=js_c4125159ba"
            ],
            "text/plain": [
              "<IPython.core.display.Javascript object>"
            ]
          },
          "metadata": {}
        },
        {
          "output_type": "display_data",
          "data": {
            "application/javascript": [
              "window[\"460e5aea-9d8a-11ec-a82a-0242ac1c0002\"] = google.colab.output.setActiveOutputArea(window[\"460dc2ec-9d8a-11ec-a82a-0242ac1c0002\"]);\n",
              "//# sourceURL=js_ee78545d8c"
            ],
            "text/plain": [
              "<IPython.core.display.Javascript object>"
            ]
          },
          "metadata": {}
        },
        {
          "output_type": "display_data",
          "data": {
            "application/javascript": [
              "window[\"46287b96-9d8a-11ec-a82a-0242ac1c0002\"] = google.colab.output.setActiveOutputArea(window[\"460d4dd0-9d8a-11ec-a82a-0242ac1c0002\"]);\n",
              "//# sourceURL=js_f9804e8c0f"
            ],
            "text/plain": [
              "<IPython.core.display.Javascript object>"
            ]
          },
          "metadata": {}
        },
        {
          "output_type": "display_data",
          "data": {
            "application/javascript": [
              "window[\"46490bcc-9d8a-11ec-a82a-0242ac1c0002\"] = google.colab.output.getActiveOutputArea();\n",
              "//# sourceURL=js_fc4ec38721"
            ],
            "text/plain": [
              "<IPython.core.display.Javascript object>"
            ]
          },
          "metadata": {}
        },
        {
          "output_type": "display_data",
          "data": {
            "application/javascript": [
              "window[\"46496f36-9d8a-11ec-a82a-0242ac1c0002\"] = document.querySelector(\"#id10-0-0\");\n",
              "//# sourceURL=js_88e34c0b60"
            ],
            "text/plain": [
              "<IPython.core.display.Javascript object>"
            ]
          },
          "metadata": {}
        },
        {
          "output_type": "display_data",
          "data": {
            "application/javascript": [
              "window[\"4649df52-9d8a-11ec-a82a-0242ac1c0002\"] = google.colab.output.setActiveOutputArea(window[\"46496f36-9d8a-11ec-a82a-0242ac1c0002\"]);\n",
              "//# sourceURL=js_1c43d6ab79"
            ],
            "text/plain": [
              "<IPython.core.display.Javascript object>"
            ]
          },
          "metadata": {}
        },
        {
          "output_type": "display_data",
          "data": {
            "application/javascript": [
              "window[\"4663f57c-9d8a-11ec-a82a-0242ac1c0002\"] = google.colab.output.setActiveOutputArea(window[\"46490bcc-9d8a-11ec-a82a-0242ac1c0002\"]);\n",
              "//# sourceURL=js_2145a861fd"
            ],
            "text/plain": [
              "<IPython.core.display.Javascript object>"
            ]
          },
          "metadata": {}
        },
        {
          "output_type": "display_data",
          "data": {
            "application/javascript": [
              "window[\"4684d5e4-9d8a-11ec-a82a-0242ac1c0002\"] = google.colab.output.getActiveOutputArea();\n",
              "//# sourceURL=js_fe361c9bc7"
            ],
            "text/plain": [
              "<IPython.core.display.Javascript object>"
            ]
          },
          "metadata": {}
        },
        {
          "output_type": "display_data",
          "data": {
            "application/javascript": [
              "window[\"46853a20-9d8a-11ec-a82a-0242ac1c0002\"] = document.querySelector(\"#id10-0-0\");\n",
              "//# sourceURL=js_f4f78b4ad0"
            ],
            "text/plain": [
              "<IPython.core.display.Javascript object>"
            ]
          },
          "metadata": {}
        },
        {
          "output_type": "display_data",
          "data": {
            "application/javascript": [
              "window[\"46859b46-9d8a-11ec-a82a-0242ac1c0002\"] = google.colab.output.setActiveOutputArea(window[\"46853a20-9d8a-11ec-a82a-0242ac1c0002\"]);\n",
              "//# sourceURL=js_f9aa8b2da5"
            ],
            "text/plain": [
              "<IPython.core.display.Javascript object>"
            ]
          },
          "metadata": {}
        },
        {
          "output_type": "display_data",
          "data": {
            "application/javascript": [
              "window[\"469f7930-9d8a-11ec-a82a-0242ac1c0002\"] = google.colab.output.setActiveOutputArea(window[\"4684d5e4-9d8a-11ec-a82a-0242ac1c0002\"]);\n",
              "//# sourceURL=js_90da1720ca"
            ],
            "text/plain": [
              "<IPython.core.display.Javascript object>"
            ]
          },
          "metadata": {}
        },
        {
          "output_type": "display_data",
          "data": {
            "application/javascript": [
              "window[\"46c14cc2-9d8a-11ec-a82a-0242ac1c0002\"] = google.colab.output.getActiveOutputArea();\n",
              "//# sourceURL=js_ffda398797"
            ],
            "text/plain": [
              "<IPython.core.display.Javascript object>"
            ]
          },
          "metadata": {}
        },
        {
          "output_type": "display_data",
          "data": {
            "application/javascript": [
              "window[\"46c1b0a4-9d8a-11ec-a82a-0242ac1c0002\"] = document.querySelector(\"#id10-0-0\");\n",
              "//# sourceURL=js_554e56e7a0"
            ],
            "text/plain": [
              "<IPython.core.display.Javascript object>"
            ]
          },
          "metadata": {}
        },
        {
          "output_type": "display_data",
          "data": {
            "application/javascript": [
              "window[\"46c2219c-9d8a-11ec-a82a-0242ac1c0002\"] = google.colab.output.setActiveOutputArea(window[\"46c1b0a4-9d8a-11ec-a82a-0242ac1c0002\"]);\n",
              "//# sourceURL=js_155541efb0"
            ],
            "text/plain": [
              "<IPython.core.display.Javascript object>"
            ]
          },
          "metadata": {}
        },
        {
          "output_type": "display_data",
          "data": {
            "application/javascript": [
              "window[\"46dcdbe0-9d8a-11ec-a82a-0242ac1c0002\"] = google.colab.output.setActiveOutputArea(window[\"46c14cc2-9d8a-11ec-a82a-0242ac1c0002\"]);\n",
              "//# sourceURL=js_317a4200fe"
            ],
            "text/plain": [
              "<IPython.core.display.Javascript object>"
            ]
          },
          "metadata": {}
        },
        {
          "output_type": "display_data",
          "data": {
            "application/javascript": [
              "window[\"46fd6360-9d8a-11ec-a82a-0242ac1c0002\"] = google.colab.output.getActiveOutputArea();\n",
              "//# sourceURL=js_91ed9cff9b"
            ],
            "text/plain": [
              "<IPython.core.display.Javascript object>"
            ]
          },
          "metadata": {}
        },
        {
          "output_type": "display_data",
          "data": {
            "application/javascript": [
              "window[\"46fdc544-9d8a-11ec-a82a-0242ac1c0002\"] = document.querySelector(\"#id10-0-0\");\n",
              "//# sourceURL=js_9c44bb7134"
            ],
            "text/plain": [
              "<IPython.core.display.Javascript object>"
            ]
          },
          "metadata": {}
        },
        {
          "output_type": "display_data",
          "data": {
            "application/javascript": [
              "window[\"46fea31a-9d8a-11ec-a82a-0242ac1c0002\"] = google.colab.output.setActiveOutputArea(window[\"46fdc544-9d8a-11ec-a82a-0242ac1c0002\"]);\n",
              "//# sourceURL=js_fd8daa7fa7"
            ],
            "text/plain": [
              "<IPython.core.display.Javascript object>"
            ]
          },
          "metadata": {}
        },
        {
          "output_type": "display_data",
          "data": {
            "application/javascript": [
              "window[\"47198298-9d8a-11ec-a82a-0242ac1c0002\"] = google.colab.output.setActiveOutputArea(window[\"46fd6360-9d8a-11ec-a82a-0242ac1c0002\"]);\n",
              "//# sourceURL=js_a1a03305b5"
            ],
            "text/plain": [
              "<IPython.core.display.Javascript object>"
            ]
          },
          "metadata": {}
        },
        {
          "output_type": "display_data",
          "data": {
            "application/javascript": [
              "window[\"473a2692-9d8a-11ec-a82a-0242ac1c0002\"] = google.colab.output.getActiveOutputArea();\n",
              "//# sourceURL=js_fa5d457b7b"
            ],
            "text/plain": [
              "<IPython.core.display.Javascript object>"
            ]
          },
          "metadata": {}
        },
        {
          "output_type": "display_data",
          "data": {
            "application/javascript": [
              "window[\"473a838a-9d8a-11ec-a82a-0242ac1c0002\"] = document.querySelector(\"#id10-0-0\");\n",
              "//# sourceURL=js_5f3ca5188e"
            ],
            "text/plain": [
              "<IPython.core.display.Javascript object>"
            ]
          },
          "metadata": {}
        },
        {
          "output_type": "display_data",
          "data": {
            "application/javascript": [
              "window[\"473af644-9d8a-11ec-a82a-0242ac1c0002\"] = google.colab.output.setActiveOutputArea(window[\"473a838a-9d8a-11ec-a82a-0242ac1c0002\"]);\n",
              "//# sourceURL=js_f7dcb1f51d"
            ],
            "text/plain": [
              "<IPython.core.display.Javascript object>"
            ]
          },
          "metadata": {}
        },
        {
          "output_type": "display_data",
          "data": {
            "application/javascript": [
              "window[\"4756ec5a-9d8a-11ec-a82a-0242ac1c0002\"] = google.colab.output.setActiveOutputArea(window[\"473a2692-9d8a-11ec-a82a-0242ac1c0002\"]);\n",
              "//# sourceURL=js_8b4041a334"
            ],
            "text/plain": [
              "<IPython.core.display.Javascript object>"
            ]
          },
          "metadata": {}
        },
        {
          "output_type": "display_data",
          "data": {
            "application/javascript": [
              "window[\"47776bb0-9d8a-11ec-a82a-0242ac1c0002\"] = google.colab.output.getActiveOutputArea();\n",
              "//# sourceURL=js_f7a3ba2204"
            ],
            "text/plain": [
              "<IPython.core.display.Javascript object>"
            ]
          },
          "metadata": {}
        },
        {
          "output_type": "display_data",
          "data": {
            "application/javascript": [
              "window[\"4777cd3a-9d8a-11ec-a82a-0242ac1c0002\"] = document.querySelector(\"#id10-0-0\");\n",
              "//# sourceURL=js_56b74ce3ba"
            ],
            "text/plain": [
              "<IPython.core.display.Javascript object>"
            ]
          },
          "metadata": {}
        },
        {
          "output_type": "display_data",
          "data": {
            "application/javascript": [
              "window[\"47781f10-9d8a-11ec-a82a-0242ac1c0002\"] = google.colab.output.setActiveOutputArea(window[\"4777cd3a-9d8a-11ec-a82a-0242ac1c0002\"]);\n",
              "//# sourceURL=js_806c43ae84"
            ],
            "text/plain": [
              "<IPython.core.display.Javascript object>"
            ]
          },
          "metadata": {}
        },
        {
          "output_type": "display_data",
          "data": {
            "application/javascript": [
              "window[\"479466ac-9d8a-11ec-a82a-0242ac1c0002\"] = google.colab.output.setActiveOutputArea(window[\"47776bb0-9d8a-11ec-a82a-0242ac1c0002\"]);\n",
              "//# sourceURL=js_37f96e7a2b"
            ],
            "text/plain": [
              "<IPython.core.display.Javascript object>"
            ]
          },
          "metadata": {}
        },
        {
          "output_type": "display_data",
          "data": {
            "application/javascript": [
              "window[\"47b52be4-9d8a-11ec-a82a-0242ac1c0002\"] = google.colab.output.getActiveOutputArea();\n",
              "//# sourceURL=js_4d9ece7780"
            ],
            "text/plain": [
              "<IPython.core.display.Javascript object>"
            ]
          },
          "metadata": {}
        },
        {
          "output_type": "display_data",
          "data": {
            "application/javascript": [
              "window[\"47b57720-9d8a-11ec-a82a-0242ac1c0002\"] = document.querySelector(\"#id10-0-0\");\n",
              "//# sourceURL=js_39ad39f5e0"
            ],
            "text/plain": [
              "<IPython.core.display.Javascript object>"
            ]
          },
          "metadata": {}
        },
        {
          "output_type": "display_data",
          "data": {
            "application/javascript": [
              "window[\"47b5b398-9d8a-11ec-a82a-0242ac1c0002\"] = google.colab.output.setActiveOutputArea(window[\"47b57720-9d8a-11ec-a82a-0242ac1c0002\"]);\n",
              "//# sourceURL=js_082041572e"
            ],
            "text/plain": [
              "<IPython.core.display.Javascript object>"
            ]
          },
          "metadata": {}
        },
        {
          "output_type": "display_data",
          "data": {
            "application/javascript": [
              "window[\"47d089c0-9d8a-11ec-a82a-0242ac1c0002\"] = google.colab.output.setActiveOutputArea(window[\"47b52be4-9d8a-11ec-a82a-0242ac1c0002\"]);\n",
              "//# sourceURL=js_7d9a4e416f"
            ],
            "text/plain": [
              "<IPython.core.display.Javascript object>"
            ]
          },
          "metadata": {}
        },
        {
          "output_type": "display_data",
          "data": {
            "application/javascript": [
              "window[\"47f1342c-9d8a-11ec-a82a-0242ac1c0002\"] = google.colab.output.getActiveOutputArea();\n",
              "//# sourceURL=js_e90a912948"
            ],
            "text/plain": [
              "<IPython.core.display.Javascript object>"
            ]
          },
          "metadata": {}
        },
        {
          "output_type": "display_data",
          "data": {
            "application/javascript": [
              "window[\"47f1970a-9d8a-11ec-a82a-0242ac1c0002\"] = document.querySelector(\"#id10-0-0\");\n",
              "//# sourceURL=js_dd71a43482"
            ],
            "text/plain": [
              "<IPython.core.display.Javascript object>"
            ]
          },
          "metadata": {}
        },
        {
          "output_type": "display_data",
          "data": {
            "application/javascript": [
              "window[\"47f1f5ec-9d8a-11ec-a82a-0242ac1c0002\"] = google.colab.output.setActiveOutputArea(window[\"47f1970a-9d8a-11ec-a82a-0242ac1c0002\"]);\n",
              "//# sourceURL=js_8a5da92214"
            ],
            "text/plain": [
              "<IPython.core.display.Javascript object>"
            ]
          },
          "metadata": {}
        },
        {
          "output_type": "display_data",
          "data": {
            "application/javascript": [
              "window[\"4815f2a8-9d8a-11ec-a82a-0242ac1c0002\"] = google.colab.output.setActiveOutputArea(window[\"47f1342c-9d8a-11ec-a82a-0242ac1c0002\"]);\n",
              "//# sourceURL=js_1c0f8cf4ac"
            ],
            "text/plain": [
              "<IPython.core.display.Javascript object>"
            ]
          },
          "metadata": {}
        },
        {
          "output_type": "display_data",
          "data": {
            "application/javascript": [
              "window[\"4836677c-9d8a-11ec-a82a-0242ac1c0002\"] = google.colab.output.getActiveOutputArea();\n",
              "//# sourceURL=js_6647b7da50"
            ],
            "text/plain": [
              "<IPython.core.display.Javascript object>"
            ]
          },
          "metadata": {}
        },
        {
          "output_type": "display_data",
          "data": {
            "application/javascript": [
              "window[\"4836aa84-9d8a-11ec-a82a-0242ac1c0002\"] = document.querySelector(\"#id10-0-0\");\n",
              "//# sourceURL=js_7aff0c73bc"
            ],
            "text/plain": [
              "<IPython.core.display.Javascript object>"
            ]
          },
          "metadata": {}
        },
        {
          "output_type": "display_data",
          "data": {
            "application/javascript": [
              "window[\"4836e756-9d8a-11ec-a82a-0242ac1c0002\"] = google.colab.output.setActiveOutputArea(window[\"4836aa84-9d8a-11ec-a82a-0242ac1c0002\"]);\n",
              "//# sourceURL=js_627f5b9468"
            ],
            "text/plain": [
              "<IPython.core.display.Javascript object>"
            ]
          },
          "metadata": {}
        },
        {
          "output_type": "display_data",
          "data": {
            "application/javascript": [
              "window[\"48525cca-9d8a-11ec-a82a-0242ac1c0002\"] = google.colab.output.setActiveOutputArea(window[\"4836677c-9d8a-11ec-a82a-0242ac1c0002\"]);\n",
              "//# sourceURL=js_c8a930c58f"
            ],
            "text/plain": [
              "<IPython.core.display.Javascript object>"
            ]
          },
          "metadata": {}
        },
        {
          "output_type": "display_data",
          "data": {
            "application/javascript": [
              "window[\"4872eb66-9d8a-11ec-a82a-0242ac1c0002\"] = google.colab.output.getActiveOutputArea();\n",
              "//# sourceURL=js_ea5a1fdd68"
            ],
            "text/plain": [
              "<IPython.core.display.Javascript object>"
            ]
          },
          "metadata": {}
        },
        {
          "output_type": "display_data",
          "data": {
            "application/javascript": [
              "window[\"48734a7a-9d8a-11ec-a82a-0242ac1c0002\"] = document.querySelector(\"#id10-0-0\");\n",
              "//# sourceURL=js_4da8b6bb6e"
            ],
            "text/plain": [
              "<IPython.core.display.Javascript object>"
            ]
          },
          "metadata": {}
        },
        {
          "output_type": "display_data",
          "data": {
            "application/javascript": [
              "window[\"48739fc0-9d8a-11ec-a82a-0242ac1c0002\"] = google.colab.output.setActiveOutputArea(window[\"48734a7a-9d8a-11ec-a82a-0242ac1c0002\"]);\n",
              "//# sourceURL=js_1249c7c9c9"
            ],
            "text/plain": [
              "<IPython.core.display.Javascript object>"
            ]
          },
          "metadata": {}
        },
        {
          "output_type": "display_data",
          "data": {
            "application/javascript": [
              "window[\"488f2d4e-9d8a-11ec-a82a-0242ac1c0002\"] = google.colab.output.setActiveOutputArea(window[\"4872eb66-9d8a-11ec-a82a-0242ac1c0002\"]);\n",
              "//# sourceURL=js_1e0f8f39ba"
            ],
            "text/plain": [
              "<IPython.core.display.Javascript object>"
            ]
          },
          "metadata": {}
        },
        {
          "output_type": "display_data",
          "data": {
            "application/javascript": [
              "window[\"48b0f4ce-9d8a-11ec-a82a-0242ac1c0002\"] = google.colab.output.getActiveOutputArea();\n",
              "//# sourceURL=js_4955ba913e"
            ],
            "text/plain": [
              "<IPython.core.display.Javascript object>"
            ]
          },
          "metadata": {}
        },
        {
          "output_type": "display_data",
          "data": {
            "application/javascript": [
              "window[\"48b154be-9d8a-11ec-a82a-0242ac1c0002\"] = document.querySelector(\"#id10-0-0\");\n",
              "//# sourceURL=js_c8b282922a"
            ],
            "text/plain": [
              "<IPython.core.display.Javascript object>"
            ]
          },
          "metadata": {}
        },
        {
          "output_type": "display_data",
          "data": {
            "application/javascript": [
              "window[\"48b1bf4e-9d8a-11ec-a82a-0242ac1c0002\"] = google.colab.output.setActiveOutputArea(window[\"48b154be-9d8a-11ec-a82a-0242ac1c0002\"]);\n",
              "//# sourceURL=js_f70ad566fa"
            ],
            "text/plain": [
              "<IPython.core.display.Javascript object>"
            ]
          },
          "metadata": {}
        },
        {
          "output_type": "display_data",
          "data": {
            "application/javascript": [
              "window[\"48cc0c5a-9d8a-11ec-a82a-0242ac1c0002\"] = google.colab.output.setActiveOutputArea(window[\"48b0f4ce-9d8a-11ec-a82a-0242ac1c0002\"]);\n",
              "//# sourceURL=js_bf436d30f9"
            ],
            "text/plain": [
              "<IPython.core.display.Javascript object>"
            ]
          },
          "metadata": {}
        },
        {
          "output_type": "display_data",
          "data": {
            "application/javascript": [
              "window[\"48eccfb2-9d8a-11ec-a82a-0242ac1c0002\"] = google.colab.output.getActiveOutputArea();\n",
              "//# sourceURL=js_da6dcd7297"
            ],
            "text/plain": [
              "<IPython.core.display.Javascript object>"
            ]
          },
          "metadata": {}
        },
        {
          "output_type": "display_data",
          "data": {
            "application/javascript": [
              "window[\"48ed4028-9d8a-11ec-a82a-0242ac1c0002\"] = document.querySelector(\"#id10-0-0\");\n",
              "//# sourceURL=js_23e3558cc7"
            ],
            "text/plain": [
              "<IPython.core.display.Javascript object>"
            ]
          },
          "metadata": {}
        },
        {
          "output_type": "display_data",
          "data": {
            "application/javascript": [
              "window[\"48edbd0a-9d8a-11ec-a82a-0242ac1c0002\"] = google.colab.output.setActiveOutputArea(window[\"48ed4028-9d8a-11ec-a82a-0242ac1c0002\"]);\n",
              "//# sourceURL=js_5c0a763db9"
            ],
            "text/plain": [
              "<IPython.core.display.Javascript object>"
            ]
          },
          "metadata": {}
        },
        {
          "output_type": "display_data",
          "data": {
            "application/javascript": [
              "window[\"49087956-9d8a-11ec-a82a-0242ac1c0002\"] = google.colab.output.setActiveOutputArea(window[\"48eccfb2-9d8a-11ec-a82a-0242ac1c0002\"]);\n",
              "//# sourceURL=js_728db15cea"
            ],
            "text/plain": [
              "<IPython.core.display.Javascript object>"
            ]
          },
          "metadata": {}
        },
        {
          "output_type": "display_data",
          "data": {
            "application/javascript": [
              "window[\"49290108-9d8a-11ec-a82a-0242ac1c0002\"] = google.colab.output.getActiveOutputArea();\n",
              "//# sourceURL=js_461d8a1e19"
            ],
            "text/plain": [
              "<IPython.core.display.Javascript object>"
            ]
          },
          "metadata": {}
        },
        {
          "output_type": "display_data",
          "data": {
            "application/javascript": [
              "window[\"49296198-9d8a-11ec-a82a-0242ac1c0002\"] = document.querySelector(\"#id10-0-0\");\n",
              "//# sourceURL=js_017c6ccd1f"
            ],
            "text/plain": [
              "<IPython.core.display.Javascript object>"
            ]
          },
          "metadata": {}
        },
        {
          "output_type": "display_data",
          "data": {
            "application/javascript": [
              "window[\"4929cfde-9d8a-11ec-a82a-0242ac1c0002\"] = google.colab.output.setActiveOutputArea(window[\"49296198-9d8a-11ec-a82a-0242ac1c0002\"]);\n",
              "//# sourceURL=js_60bbb01abe"
            ],
            "text/plain": [
              "<IPython.core.display.Javascript object>"
            ]
          },
          "metadata": {}
        },
        {
          "output_type": "display_data",
          "data": {
            "application/javascript": [
              "window[\"4945257c-9d8a-11ec-a82a-0242ac1c0002\"] = google.colab.output.setActiveOutputArea(window[\"49290108-9d8a-11ec-a82a-0242ac1c0002\"]);\n",
              "//# sourceURL=js_a205bca6b9"
            ],
            "text/plain": [
              "<IPython.core.display.Javascript object>"
            ]
          },
          "metadata": {}
        },
        {
          "output_type": "display_data",
          "data": {
            "application/javascript": [
              "window[\"49663adc-9d8a-11ec-a82a-0242ac1c0002\"] = google.colab.output.getActiveOutputArea();\n",
              "//# sourceURL=js_d9c11f7664"
            ],
            "text/plain": [
              "<IPython.core.display.Javascript object>"
            ]
          },
          "metadata": {}
        },
        {
          "output_type": "display_data",
          "data": {
            "application/javascript": [
              "window[\"49669ba8-9d8a-11ec-a82a-0242ac1c0002\"] = document.querySelector(\"#id10-0-0\");\n",
              "//# sourceURL=js_68b0078743"
            ],
            "text/plain": [
              "<IPython.core.display.Javascript object>"
            ]
          },
          "metadata": {}
        },
        {
          "output_type": "display_data",
          "data": {
            "application/javascript": [
              "window[\"4966f99a-9d8a-11ec-a82a-0242ac1c0002\"] = google.colab.output.setActiveOutputArea(window[\"49669ba8-9d8a-11ec-a82a-0242ac1c0002\"]);\n",
              "//# sourceURL=js_a48e17a6d2"
            ],
            "text/plain": [
              "<IPython.core.display.Javascript object>"
            ]
          },
          "metadata": {}
        },
        {
          "output_type": "display_data",
          "data": {
            "application/javascript": [
              "window[\"49844d74-9d8a-11ec-a82a-0242ac1c0002\"] = google.colab.output.setActiveOutputArea(window[\"49663adc-9d8a-11ec-a82a-0242ac1c0002\"]);\n",
              "//# sourceURL=js_55fdbb4041"
            ],
            "text/plain": [
              "<IPython.core.display.Javascript object>"
            ]
          },
          "metadata": {}
        },
        {
          "output_type": "display_data",
          "data": {
            "application/javascript": [
              "window[\"49a50a14-9d8a-11ec-a82a-0242ac1c0002\"] = google.colab.output.getActiveOutputArea();\n",
              "//# sourceURL=js_6b5015f184"
            ],
            "text/plain": [
              "<IPython.core.display.Javascript object>"
            ]
          },
          "metadata": {}
        },
        {
          "output_type": "display_data",
          "data": {
            "application/javascript": [
              "window[\"49a5611c-9d8a-11ec-a82a-0242ac1c0002\"] = document.querySelector(\"#id10-0-0\");\n",
              "//# sourceURL=js_412ecef4cb"
            ],
            "text/plain": [
              "<IPython.core.display.Javascript object>"
            ]
          },
          "metadata": {}
        },
        {
          "output_type": "display_data",
          "data": {
            "application/javascript": [
              "window[\"49a5b87e-9d8a-11ec-a82a-0242ac1c0002\"] = google.colab.output.setActiveOutputArea(window[\"49a5611c-9d8a-11ec-a82a-0242ac1c0002\"]);\n",
              "//# sourceURL=js_3a4fa88fa3"
            ],
            "text/plain": [
              "<IPython.core.display.Javascript object>"
            ]
          },
          "metadata": {}
        },
        {
          "output_type": "display_data",
          "data": {
            "application/javascript": [
              "window[\"49c1f1ce-9d8a-11ec-a82a-0242ac1c0002\"] = google.colab.output.setActiveOutputArea(window[\"49a50a14-9d8a-11ec-a82a-0242ac1c0002\"]);\n",
              "//# sourceURL=js_a99029b81d"
            ],
            "text/plain": [
              "<IPython.core.display.Javascript object>"
            ]
          },
          "metadata": {}
        },
        {
          "output_type": "display_data",
          "data": {
            "application/javascript": [
              "window[\"49e31322-9d8a-11ec-a82a-0242ac1c0002\"] = google.colab.output.getActiveOutputArea();\n",
              "//# sourceURL=js_c68af350d6"
            ],
            "text/plain": [
              "<IPython.core.display.Javascript object>"
            ]
          },
          "metadata": {}
        },
        {
          "output_type": "display_data",
          "data": {
            "application/javascript": [
              "window[\"49e38ae6-9d8a-11ec-a82a-0242ac1c0002\"] = document.querySelector(\"#id10-0-0\");\n",
              "//# sourceURL=js_d43fc7fad9"
            ],
            "text/plain": [
              "<IPython.core.display.Javascript object>"
            ]
          },
          "metadata": {}
        },
        {
          "output_type": "display_data",
          "data": {
            "application/javascript": [
              "window[\"49e3f8d2-9d8a-11ec-a82a-0242ac1c0002\"] = google.colab.output.setActiveOutputArea(window[\"49e38ae6-9d8a-11ec-a82a-0242ac1c0002\"]);\n",
              "//# sourceURL=js_e152e11482"
            ],
            "text/plain": [
              "<IPython.core.display.Javascript object>"
            ]
          },
          "metadata": {}
        },
        {
          "output_type": "display_data",
          "data": {
            "application/javascript": [
              "window[\"4a006882-9d8a-11ec-a82a-0242ac1c0002\"] = google.colab.output.setActiveOutputArea(window[\"49e31322-9d8a-11ec-a82a-0242ac1c0002\"]);\n",
              "//# sourceURL=js_d3601c6f54"
            ],
            "text/plain": [
              "<IPython.core.display.Javascript object>"
            ]
          },
          "metadata": {}
        },
        {
          "output_type": "display_data",
          "data": {
            "application/javascript": [
              "window[\"4a217ff4-9d8a-11ec-a82a-0242ac1c0002\"] = google.colab.output.getActiveOutputArea();\n",
              "//# sourceURL=js_0d8f4e9db3"
            ],
            "text/plain": [
              "<IPython.core.display.Javascript object>"
            ]
          },
          "metadata": {}
        },
        {
          "output_type": "display_data",
          "data": {
            "application/javascript": [
              "window[\"4a21eb9c-9d8a-11ec-a82a-0242ac1c0002\"] = document.querySelector(\"#id10-0-0\");\n",
              "//# sourceURL=js_ec00782dae"
            ],
            "text/plain": [
              "<IPython.core.display.Javascript object>"
            ]
          },
          "metadata": {}
        },
        {
          "output_type": "display_data",
          "data": {
            "application/javascript": [
              "window[\"4a228c8c-9d8a-11ec-a82a-0242ac1c0002\"] = google.colab.output.setActiveOutputArea(window[\"4a21eb9c-9d8a-11ec-a82a-0242ac1c0002\"]);\n",
              "//# sourceURL=js_e1ade07ca5"
            ],
            "text/plain": [
              "<IPython.core.display.Javascript object>"
            ]
          },
          "metadata": {}
        },
        {
          "output_type": "display_data",
          "data": {
            "application/javascript": [
              "window[\"4a3cc44e-9d8a-11ec-a82a-0242ac1c0002\"] = google.colab.output.setActiveOutputArea(window[\"4a217ff4-9d8a-11ec-a82a-0242ac1c0002\"]);\n",
              "//# sourceURL=js_02c85db5fc"
            ],
            "text/plain": [
              "<IPython.core.display.Javascript object>"
            ]
          },
          "metadata": {}
        },
        {
          "output_type": "display_data",
          "data": {
            "application/javascript": [
              "window[\"4a5d4098-9d8a-11ec-a82a-0242ac1c0002\"] = google.colab.output.getActiveOutputArea();\n",
              "//# sourceURL=js_3dfb28da45"
            ],
            "text/plain": [
              "<IPython.core.display.Javascript object>"
            ]
          },
          "metadata": {}
        },
        {
          "output_type": "display_data",
          "data": {
            "application/javascript": [
              "window[\"4a5d9eb2-9d8a-11ec-a82a-0242ac1c0002\"] = document.querySelector(\"#id10-0-0\");\n",
              "//# sourceURL=js_ac78d5222e"
            ],
            "text/plain": [
              "<IPython.core.display.Javascript object>"
            ]
          },
          "metadata": {}
        },
        {
          "output_type": "display_data",
          "data": {
            "application/javascript": [
              "window[\"4a5ed0a2-9d8a-11ec-a82a-0242ac1c0002\"] = google.colab.output.setActiveOutputArea(window[\"4a5d9eb2-9d8a-11ec-a82a-0242ac1c0002\"]);\n",
              "//# sourceURL=js_4b0080f6ac"
            ],
            "text/plain": [
              "<IPython.core.display.Javascript object>"
            ]
          },
          "metadata": {}
        },
        {
          "output_type": "display_data",
          "data": {
            "application/javascript": [
              "window[\"4a79b110-9d8a-11ec-a82a-0242ac1c0002\"] = google.colab.output.setActiveOutputArea(window[\"4a5d4098-9d8a-11ec-a82a-0242ac1c0002\"]);\n",
              "//# sourceURL=js_77cbc46f1d"
            ],
            "text/plain": [
              "<IPython.core.display.Javascript object>"
            ]
          },
          "metadata": {}
        },
        {
          "output_type": "display_data",
          "data": {
            "application/javascript": [
              "window[\"4a9a285a-9d8a-11ec-a82a-0242ac1c0002\"] = google.colab.output.getActiveOutputArea();\n",
              "//# sourceURL=js_b251a06aa3"
            ],
            "text/plain": [
              "<IPython.core.display.Javascript object>"
            ]
          },
          "metadata": {}
        },
        {
          "output_type": "display_data",
          "data": {
            "application/javascript": [
              "window[\"4a9a69d2-9d8a-11ec-a82a-0242ac1c0002\"] = document.querySelector(\"#id10-0-0\");\n",
              "//# sourceURL=js_35b9e1a8ec"
            ],
            "text/plain": [
              "<IPython.core.display.Javascript object>"
            ]
          },
          "metadata": {}
        },
        {
          "output_type": "display_data",
          "data": {
            "application/javascript": [
              "window[\"4a9aa67c-9d8a-11ec-a82a-0242ac1c0002\"] = google.colab.output.setActiveOutputArea(window[\"4a9a69d2-9d8a-11ec-a82a-0242ac1c0002\"]);\n",
              "//# sourceURL=js_7da50b9561"
            ],
            "text/plain": [
              "<IPython.core.display.Javascript object>"
            ]
          },
          "metadata": {}
        },
        {
          "output_type": "display_data",
          "data": {
            "application/javascript": [
              "window[\"4ac02960-9d8a-11ec-a82a-0242ac1c0002\"] = google.colab.output.setActiveOutputArea(window[\"4a9a285a-9d8a-11ec-a82a-0242ac1c0002\"]);\n",
              "//# sourceURL=js_c19e47b4c9"
            ],
            "text/plain": [
              "<IPython.core.display.Javascript object>"
            ]
          },
          "metadata": {}
        },
        {
          "output_type": "display_data",
          "data": {
            "application/javascript": [
              "window[\"4ae09efc-9d8a-11ec-a82a-0242ac1c0002\"] = google.colab.output.getActiveOutputArea();\n",
              "//# sourceURL=js_3e2d00544e"
            ],
            "text/plain": [
              "<IPython.core.display.Javascript object>"
            ]
          },
          "metadata": {}
        },
        {
          "output_type": "display_data",
          "data": {
            "application/javascript": [
              "window[\"4ae0f866-9d8a-11ec-a82a-0242ac1c0002\"] = document.querySelector(\"#id10-0-0\");\n",
              "//# sourceURL=js_bfab68e444"
            ],
            "text/plain": [
              "<IPython.core.display.Javascript object>"
            ]
          },
          "metadata": {}
        },
        {
          "output_type": "display_data",
          "data": {
            "application/javascript": [
              "window[\"4ae14b36-9d8a-11ec-a82a-0242ac1c0002\"] = google.colab.output.setActiveOutputArea(window[\"4ae0f866-9d8a-11ec-a82a-0242ac1c0002\"]);\n",
              "//# sourceURL=js_76c3e08787"
            ],
            "text/plain": [
              "<IPython.core.display.Javascript object>"
            ]
          },
          "metadata": {}
        },
        {
          "output_type": "display_data",
          "data": {
            "application/javascript": [
              "window[\"4afda538-9d8a-11ec-a82a-0242ac1c0002\"] = google.colab.output.setActiveOutputArea(window[\"4ae09efc-9d8a-11ec-a82a-0242ac1c0002\"]);\n",
              "//# sourceURL=js_6faf31842b"
            ],
            "text/plain": [
              "<IPython.core.display.Javascript object>"
            ]
          },
          "metadata": {}
        },
        {
          "output_type": "display_data",
          "data": {
            "application/javascript": [
              "window[\"4b1dfbda-9d8a-11ec-a82a-0242ac1c0002\"] = google.colab.output.getActiveOutputArea();\n",
              "//# sourceURL=js_32134c33d8"
            ],
            "text/plain": [
              "<IPython.core.display.Javascript object>"
            ]
          },
          "metadata": {}
        },
        {
          "output_type": "display_data",
          "data": {
            "application/javascript": [
              "window[\"4b1e4e3c-9d8a-11ec-a82a-0242ac1c0002\"] = document.querySelector(\"#id10-0-0\");\n",
              "//# sourceURL=js_13f593b91b"
            ],
            "text/plain": [
              "<IPython.core.display.Javascript object>"
            ]
          },
          "metadata": {}
        },
        {
          "output_type": "display_data",
          "data": {
            "application/javascript": [
              "window[\"4b1ea8fa-9d8a-11ec-a82a-0242ac1c0002\"] = google.colab.output.setActiveOutputArea(window[\"4b1e4e3c-9d8a-11ec-a82a-0242ac1c0002\"]);\n",
              "//# sourceURL=js_f226b94a91"
            ],
            "text/plain": [
              "<IPython.core.display.Javascript object>"
            ]
          },
          "metadata": {}
        },
        {
          "output_type": "display_data",
          "data": {
            "application/javascript": [
              "window[\"4b38e6d4-9d8a-11ec-a82a-0242ac1c0002\"] = google.colab.output.setActiveOutputArea(window[\"4b1dfbda-9d8a-11ec-a82a-0242ac1c0002\"]);\n",
              "//# sourceURL=js_76d3cbdf5b"
            ],
            "text/plain": [
              "<IPython.core.display.Javascript object>"
            ]
          },
          "metadata": {}
        },
        {
          "output_type": "display_data",
          "data": {
            "application/javascript": [
              "window[\"4b59afae-9d8a-11ec-a82a-0242ac1c0002\"] = google.colab.output.getActiveOutputArea();\n",
              "//# sourceURL=js_c55ea8b752"
            ],
            "text/plain": [
              "<IPython.core.display.Javascript object>"
            ]
          },
          "metadata": {}
        },
        {
          "output_type": "display_data",
          "data": {
            "application/javascript": [
              "window[\"4b5a1a84-9d8a-11ec-a82a-0242ac1c0002\"] = document.querySelector(\"#id10-0-0\");\n",
              "//# sourceURL=js_4b5e7a1a4a"
            ],
            "text/plain": [
              "<IPython.core.display.Javascript object>"
            ]
          },
          "metadata": {}
        },
        {
          "output_type": "display_data",
          "data": {
            "application/javascript": [
              "window[\"4b5aa04e-9d8a-11ec-a82a-0242ac1c0002\"] = google.colab.output.setActiveOutputArea(window[\"4b5a1a84-9d8a-11ec-a82a-0242ac1c0002\"]);\n",
              "//# sourceURL=js_cef5e241a5"
            ],
            "text/plain": [
              "<IPython.core.display.Javascript object>"
            ]
          },
          "metadata": {}
        },
        {
          "output_type": "display_data",
          "data": {
            "application/javascript": [
              "window[\"4b77dc4a-9d8a-11ec-a82a-0242ac1c0002\"] = google.colab.output.setActiveOutputArea(window[\"4b59afae-9d8a-11ec-a82a-0242ac1c0002\"]);\n",
              "//# sourceURL=js_a96a70078b"
            ],
            "text/plain": [
              "<IPython.core.display.Javascript object>"
            ]
          },
          "metadata": {}
        },
        {
          "output_type": "display_data",
          "data": {
            "application/javascript": [
              "window[\"4b98d4b8-9d8a-11ec-a82a-0242ac1c0002\"] = google.colab.output.getActiveOutputArea();\n",
              "//# sourceURL=js_66e1ef2212"
            ],
            "text/plain": [
              "<IPython.core.display.Javascript object>"
            ]
          },
          "metadata": {}
        },
        {
          "output_type": "display_data",
          "data": {
            "application/javascript": [
              "window[\"4b992b20-9d8a-11ec-a82a-0242ac1c0002\"] = document.querySelector(\"#id10-0-0\");\n",
              "//# sourceURL=js_c150de4c97"
            ],
            "text/plain": [
              "<IPython.core.display.Javascript object>"
            ]
          },
          "metadata": {}
        },
        {
          "output_type": "display_data",
          "data": {
            "application/javascript": [
              "window[\"4b997986-9d8a-11ec-a82a-0242ac1c0002\"] = google.colab.output.setActiveOutputArea(window[\"4b992b20-9d8a-11ec-a82a-0242ac1c0002\"]);\n",
              "//# sourceURL=js_e8f43e2467"
            ],
            "text/plain": [
              "<IPython.core.display.Javascript object>"
            ]
          },
          "metadata": {}
        },
        {
          "output_type": "display_data",
          "data": {
            "application/javascript": [
              "window[\"4bb58040-9d8a-11ec-a82a-0242ac1c0002\"] = google.colab.output.setActiveOutputArea(window[\"4b98d4b8-9d8a-11ec-a82a-0242ac1c0002\"]);\n",
              "//# sourceURL=js_28632b45d3"
            ],
            "text/plain": [
              "<IPython.core.display.Javascript object>"
            ]
          },
          "metadata": {}
        },
        {
          "output_type": "display_data",
          "data": {
            "application/javascript": [
              "window[\"4bd655a4-9d8a-11ec-a82a-0242ac1c0002\"] = google.colab.output.getActiveOutputArea();\n",
              "//# sourceURL=js_88df9314d6"
            ],
            "text/plain": [
              "<IPython.core.display.Javascript object>"
            ]
          },
          "metadata": {}
        },
        {
          "output_type": "display_data",
          "data": {
            "application/javascript": [
              "window[\"4bd6b71a-9d8a-11ec-a82a-0242ac1c0002\"] = document.querySelector(\"#id10-0-0\");\n",
              "//# sourceURL=js_c34b3f6ce6"
            ],
            "text/plain": [
              "<IPython.core.display.Javascript object>"
            ]
          },
          "metadata": {}
        },
        {
          "output_type": "display_data",
          "data": {
            "application/javascript": [
              "window[\"4bd7586e-9d8a-11ec-a82a-0242ac1c0002\"] = google.colab.output.setActiveOutputArea(window[\"4bd6b71a-9d8a-11ec-a82a-0242ac1c0002\"]);\n",
              "//# sourceURL=js_a69a6d47f4"
            ],
            "text/plain": [
              "<IPython.core.display.Javascript object>"
            ]
          },
          "metadata": {}
        },
        {
          "output_type": "display_data",
          "data": {
            "application/javascript": [
              "window[\"4bf3a028-9d8a-11ec-a82a-0242ac1c0002\"] = google.colab.output.setActiveOutputArea(window[\"4bd655a4-9d8a-11ec-a82a-0242ac1c0002\"]);\n",
              "//# sourceURL=js_0e889e7e3b"
            ],
            "text/plain": [
              "<IPython.core.display.Javascript object>"
            ]
          },
          "metadata": {}
        },
        {
          "output_type": "display_data",
          "data": {
            "application/javascript": [
              "window[\"4c14d98c-9d8a-11ec-a82a-0242ac1c0002\"] = google.colab.output.getActiveOutputArea();\n",
              "//# sourceURL=js_338a9d84af"
            ],
            "text/plain": [
              "<IPython.core.display.Javascript object>"
            ]
          },
          "metadata": {}
        },
        {
          "output_type": "display_data",
          "data": {
            "application/javascript": [
              "window[\"4c155312-9d8a-11ec-a82a-0242ac1c0002\"] = document.querySelector(\"#id10-0-0\");\n",
              "//# sourceURL=js_95e90fa554"
            ],
            "text/plain": [
              "<IPython.core.display.Javascript object>"
            ]
          },
          "metadata": {}
        },
        {
          "output_type": "display_data",
          "data": {
            "application/javascript": [
              "window[\"4c15dd1e-9d8a-11ec-a82a-0242ac1c0002\"] = google.colab.output.setActiveOutputArea(window[\"4c155312-9d8a-11ec-a82a-0242ac1c0002\"]);\n",
              "//# sourceURL=js_79c6e7acd7"
            ],
            "text/plain": [
              "<IPython.core.display.Javascript object>"
            ]
          },
          "metadata": {}
        },
        {
          "output_type": "display_data",
          "data": {
            "application/javascript": [
              "window[\"4c31ed9c-9d8a-11ec-a82a-0242ac1c0002\"] = google.colab.output.setActiveOutputArea(window[\"4c14d98c-9d8a-11ec-a82a-0242ac1c0002\"]);\n",
              "//# sourceURL=js_703c4955f3"
            ],
            "text/plain": [
              "<IPython.core.display.Javascript object>"
            ]
          },
          "metadata": {}
        },
        {
          "output_type": "display_data",
          "data": {
            "application/javascript": [
              "window[\"4c530a54-9d8a-11ec-a82a-0242ac1c0002\"] = google.colab.output.getActiveOutputArea();\n",
              "//# sourceURL=js_165d7689dd"
            ],
            "text/plain": [
              "<IPython.core.display.Javascript object>"
            ]
          },
          "metadata": {}
        },
        {
          "output_type": "display_data",
          "data": {
            "application/javascript": [
              "window[\"4c5363dc-9d8a-11ec-a82a-0242ac1c0002\"] = document.querySelector(\"#id10-0-0\");\n",
              "//# sourceURL=js_65cfce2c35"
            ],
            "text/plain": [
              "<IPython.core.display.Javascript object>"
            ]
          },
          "metadata": {}
        },
        {
          "output_type": "display_data",
          "data": {
            "application/javascript": [
              "window[\"4c53bc38-9d8a-11ec-a82a-0242ac1c0002\"] = google.colab.output.setActiveOutputArea(window[\"4c5363dc-9d8a-11ec-a82a-0242ac1c0002\"]);\n",
              "//# sourceURL=js_71a2a42473"
            ],
            "text/plain": [
              "<IPython.core.display.Javascript object>"
            ]
          },
          "metadata": {}
        },
        {
          "output_type": "display_data",
          "data": {
            "application/javascript": [
              "window[\"4c703e94-9d8a-11ec-a82a-0242ac1c0002\"] = google.colab.output.setActiveOutputArea(window[\"4c530a54-9d8a-11ec-a82a-0242ac1c0002\"]);\n",
              "//# sourceURL=js_3e23c76462"
            ],
            "text/plain": [
              "<IPython.core.display.Javascript object>"
            ]
          },
          "metadata": {}
        },
        {
          "output_type": "display_data",
          "data": {
            "application/javascript": [
              "window[\"4c919a94-9d8a-11ec-a82a-0242ac1c0002\"] = google.colab.output.getActiveOutputArea();\n",
              "//# sourceURL=js_ced9d0cba8"
            ],
            "text/plain": [
              "<IPython.core.display.Javascript object>"
            ]
          },
          "metadata": {}
        },
        {
          "output_type": "display_data",
          "data": {
            "application/javascript": [
              "window[\"4c9206b4-9d8a-11ec-a82a-0242ac1c0002\"] = document.querySelector(\"#id10-0-0\");\n",
              "//# sourceURL=js_6e2a33e874"
            ],
            "text/plain": [
              "<IPython.core.display.Javascript object>"
            ]
          },
          "metadata": {}
        },
        {
          "output_type": "display_data",
          "data": {
            "application/javascript": [
              "window[\"4c92f6b4-9d8a-11ec-a82a-0242ac1c0002\"] = google.colab.output.setActiveOutputArea(window[\"4c9206b4-9d8a-11ec-a82a-0242ac1c0002\"]);\n",
              "//# sourceURL=js_803e4bd7c9"
            ],
            "text/plain": [
              "<IPython.core.display.Javascript object>"
            ]
          },
          "metadata": {}
        },
        {
          "output_type": "display_data",
          "data": {
            "application/javascript": [
              "window[\"4cadb788-9d8a-11ec-a82a-0242ac1c0002\"] = google.colab.output.setActiveOutputArea(window[\"4c919a94-9d8a-11ec-a82a-0242ac1c0002\"]);\n",
              "//# sourceURL=js_abdf91bca7"
            ],
            "text/plain": [
              "<IPython.core.display.Javascript object>"
            ]
          },
          "metadata": {}
        },
        {
          "output_type": "display_data",
          "data": {
            "application/javascript": [
              "window[\"4cce9304-9d8a-11ec-a82a-0242ac1c0002\"] = google.colab.output.getActiveOutputArea();\n",
              "//# sourceURL=js_270ca16c7d"
            ],
            "text/plain": [
              "<IPython.core.display.Javascript object>"
            ]
          },
          "metadata": {}
        },
        {
          "output_type": "display_data",
          "data": {
            "application/javascript": [
              "window[\"4ccee372-9d8a-11ec-a82a-0242ac1c0002\"] = document.querySelector(\"#id10-0-0\");\n",
              "//# sourceURL=js_0424f4f9ce"
            ],
            "text/plain": [
              "<IPython.core.display.Javascript object>"
            ]
          },
          "metadata": {}
        },
        {
          "output_type": "display_data",
          "data": {
            "application/javascript": [
              "window[\"4ccf387c-9d8a-11ec-a82a-0242ac1c0002\"] = google.colab.output.setActiveOutputArea(window[\"4ccee372-9d8a-11ec-a82a-0242ac1c0002\"]);\n",
              "//# sourceURL=js_acc6215733"
            ],
            "text/plain": [
              "<IPython.core.display.Javascript object>"
            ]
          },
          "metadata": {}
        },
        {
          "output_type": "display_data",
          "data": {
            "application/javascript": [
              "window[\"4cec8ce2-9d8a-11ec-a82a-0242ac1c0002\"] = google.colab.output.setActiveOutputArea(window[\"4cce9304-9d8a-11ec-a82a-0242ac1c0002\"]);\n",
              "//# sourceURL=js_6dd59d3de4"
            ],
            "text/plain": [
              "<IPython.core.display.Javascript object>"
            ]
          },
          "metadata": {}
        },
        {
          "output_type": "display_data",
          "data": {
            "application/javascript": [
              "window[\"4d0d3a8c-9d8a-11ec-a82a-0242ac1c0002\"] = google.colab.output.getActiveOutputArea();\n",
              "//# sourceURL=js_216127aea5"
            ],
            "text/plain": [
              "<IPython.core.display.Javascript object>"
            ]
          },
          "metadata": {}
        },
        {
          "output_type": "display_data",
          "data": {
            "application/javascript": [
              "window[\"4d0e0138-9d8a-11ec-a82a-0242ac1c0002\"] = document.querySelector(\"#id10-0-0\");\n",
              "//# sourceURL=js_95a46594b6"
            ],
            "text/plain": [
              "<IPython.core.display.Javascript object>"
            ]
          },
          "metadata": {}
        },
        {
          "output_type": "display_data",
          "data": {
            "application/javascript": [
              "window[\"4d0ea408-9d8a-11ec-a82a-0242ac1c0002\"] = google.colab.output.setActiveOutputArea(window[\"4d0e0138-9d8a-11ec-a82a-0242ac1c0002\"]);\n",
              "//# sourceURL=js_a4fa8a5493"
            ],
            "text/plain": [
              "<IPython.core.display.Javascript object>"
            ]
          },
          "metadata": {}
        },
        {
          "output_type": "display_data",
          "data": {
            "application/javascript": [
              "window[\"4d2a24d0-9d8a-11ec-a82a-0242ac1c0002\"] = google.colab.output.setActiveOutputArea(window[\"4d0d3a8c-9d8a-11ec-a82a-0242ac1c0002\"]);\n",
              "//# sourceURL=js_338f7f4bbc"
            ],
            "text/plain": [
              "<IPython.core.display.Javascript object>"
            ]
          },
          "metadata": {}
        },
        {
          "output_type": "display_data",
          "data": {
            "application/javascript": [
              "window[\"4d4ab38a-9d8a-11ec-a82a-0242ac1c0002\"] = google.colab.output.getActiveOutputArea();\n",
              "//# sourceURL=js_e40ae96b8f"
            ],
            "text/plain": [
              "<IPython.core.display.Javascript object>"
            ]
          },
          "metadata": {}
        },
        {
          "output_type": "display_data",
          "data": {
            "application/javascript": [
              "window[\"4d4b0628-9d8a-11ec-a82a-0242ac1c0002\"] = document.querySelector(\"#id10-0-0\");\n",
              "//# sourceURL=js_35da42603b"
            ],
            "text/plain": [
              "<IPython.core.display.Javascript object>"
            ]
          },
          "metadata": {}
        },
        {
          "output_type": "display_data",
          "data": {
            "application/javascript": [
              "window[\"4d4b5812-9d8a-11ec-a82a-0242ac1c0002\"] = google.colab.output.setActiveOutputArea(window[\"4d4b0628-9d8a-11ec-a82a-0242ac1c0002\"]);\n",
              "//# sourceURL=js_bd7a93a6e6"
            ],
            "text/plain": [
              "<IPython.core.display.Javascript object>"
            ]
          },
          "metadata": {}
        },
        {
          "output_type": "display_data",
          "data": {
            "application/javascript": [
              "window[\"4d717a42-9d8a-11ec-a82a-0242ac1c0002\"] = google.colab.output.setActiveOutputArea(window[\"4d4ab38a-9d8a-11ec-a82a-0242ac1c0002\"]);\n",
              "//# sourceURL=js_403c244af3"
            ],
            "text/plain": [
              "<IPython.core.display.Javascript object>"
            ]
          },
          "metadata": {}
        },
        {
          "output_type": "display_data",
          "data": {
            "application/javascript": [
              "window[\"4d9235ca-9d8a-11ec-a82a-0242ac1c0002\"] = google.colab.output.getActiveOutputArea();\n",
              "//# sourceURL=js_1bbc8679b8"
            ],
            "text/plain": [
              "<IPython.core.display.Javascript object>"
            ]
          },
          "metadata": {}
        },
        {
          "output_type": "display_data",
          "data": {
            "application/javascript": [
              "window[\"4d934da2-9d8a-11ec-a82a-0242ac1c0002\"] = document.querySelector(\"#id10-0-0\");\n",
              "//# sourceURL=js_3687252947"
            ],
            "text/plain": [
              "<IPython.core.display.Javascript object>"
            ]
          },
          "metadata": {}
        },
        {
          "output_type": "display_data",
          "data": {
            "application/javascript": [
              "window[\"4d93c886-9d8a-11ec-a82a-0242ac1c0002\"] = google.colab.output.setActiveOutputArea(window[\"4d934da2-9d8a-11ec-a82a-0242ac1c0002\"]);\n",
              "//# sourceURL=js_3b187a11b1"
            ],
            "text/plain": [
              "<IPython.core.display.Javascript object>"
            ]
          },
          "metadata": {}
        },
        {
          "output_type": "display_data",
          "data": {
            "application/javascript": [
              "window[\"4dafd8fa-9d8a-11ec-a82a-0242ac1c0002\"] = google.colab.output.setActiveOutputArea(window[\"4d9235ca-9d8a-11ec-a82a-0242ac1c0002\"]);\n",
              "//# sourceURL=js_08c47783f9"
            ],
            "text/plain": [
              "<IPython.core.display.Javascript object>"
            ]
          },
          "metadata": {}
        },
        {
          "output_type": "display_data",
          "data": {
            "application/javascript": [
              "window[\"4dd07b0a-9d8a-11ec-a82a-0242ac1c0002\"] = google.colab.output.getActiveOutputArea();\n",
              "//# sourceURL=js_043161e7ff"
            ],
            "text/plain": [
              "<IPython.core.display.Javascript object>"
            ]
          },
          "metadata": {}
        },
        {
          "output_type": "display_data",
          "data": {
            "application/javascript": [
              "window[\"4dd0e43c-9d8a-11ec-a82a-0242ac1c0002\"] = document.querySelector(\"#id10-0-0\");\n",
              "//# sourceURL=js_4a73a18db8"
            ],
            "text/plain": [
              "<IPython.core.display.Javascript object>"
            ]
          },
          "metadata": {}
        },
        {
          "output_type": "display_data",
          "data": {
            "application/javascript": [
              "window[\"4dd137c0-9d8a-11ec-a82a-0242ac1c0002\"] = google.colab.output.setActiveOutputArea(window[\"4dd0e43c-9d8a-11ec-a82a-0242ac1c0002\"]);\n",
              "//# sourceURL=js_90c7c05091"
            ],
            "text/plain": [
              "<IPython.core.display.Javascript object>"
            ]
          },
          "metadata": {}
        },
        {
          "output_type": "display_data",
          "data": {
            "application/javascript": [
              "window[\"4dec768e-9d8a-11ec-a82a-0242ac1c0002\"] = google.colab.output.setActiveOutputArea(window[\"4dd07b0a-9d8a-11ec-a82a-0242ac1c0002\"]);\n",
              "//# sourceURL=js_713fa6cb80"
            ],
            "text/plain": [
              "<IPython.core.display.Javascript object>"
            ]
          },
          "metadata": {}
        },
        {
          "output_type": "display_data",
          "data": {
            "application/javascript": [
              "window[\"4e0d08d6-9d8a-11ec-a82a-0242ac1c0002\"] = google.colab.output.getActiveOutputArea();\n",
              "//# sourceURL=js_614dcd0f09"
            ],
            "text/plain": [
              "<IPython.core.display.Javascript object>"
            ]
          },
          "metadata": {}
        },
        {
          "output_type": "display_data",
          "data": {
            "application/javascript": [
              "window[\"4e0d7bfe-9d8a-11ec-a82a-0242ac1c0002\"] = document.querySelector(\"#id10-0-0\");\n",
              "//# sourceURL=js_2db525cbef"
            ],
            "text/plain": [
              "<IPython.core.display.Javascript object>"
            ]
          },
          "metadata": {}
        },
        {
          "output_type": "display_data",
          "data": {
            "application/javascript": [
              "window[\"4e0dec4c-9d8a-11ec-a82a-0242ac1c0002\"] = google.colab.output.setActiveOutputArea(window[\"4e0d7bfe-9d8a-11ec-a82a-0242ac1c0002\"]);\n",
              "//# sourceURL=js_131672e58c"
            ],
            "text/plain": [
              "<IPython.core.display.Javascript object>"
            ]
          },
          "metadata": {}
        },
        {
          "output_type": "display_data",
          "data": {
            "application/javascript": [
              "window[\"4e27e2c8-9d8a-11ec-a82a-0242ac1c0002\"] = google.colab.output.setActiveOutputArea(window[\"4e0d08d6-9d8a-11ec-a82a-0242ac1c0002\"]);\n",
              "//# sourceURL=js_7d592488b1"
            ],
            "text/plain": [
              "<IPython.core.display.Javascript object>"
            ]
          },
          "metadata": {}
        },
        {
          "output_type": "display_data",
          "data": {
            "application/javascript": [
              "window[\"4e48cbb4-9d8a-11ec-a82a-0242ac1c0002\"] = google.colab.output.getActiveOutputArea();\n",
              "//# sourceURL=js_4a2278ebe4"
            ],
            "text/plain": [
              "<IPython.core.display.Javascript object>"
            ]
          },
          "metadata": {}
        },
        {
          "output_type": "display_data",
          "data": {
            "application/javascript": [
              "window[\"4e494aa8-9d8a-11ec-a82a-0242ac1c0002\"] = document.querySelector(\"#id10-0-0\");\n",
              "//# sourceURL=js_c384228968"
            ],
            "text/plain": [
              "<IPython.core.display.Javascript object>"
            ]
          },
          "metadata": {}
        },
        {
          "output_type": "display_data",
          "data": {
            "application/javascript": [
              "window[\"4e49d20c-9d8a-11ec-a82a-0242ac1c0002\"] = google.colab.output.setActiveOutputArea(window[\"4e494aa8-9d8a-11ec-a82a-0242ac1c0002\"]);\n",
              "//# sourceURL=js_38c76afdb9"
            ],
            "text/plain": [
              "<IPython.core.display.Javascript object>"
            ]
          },
          "metadata": {}
        },
        {
          "output_type": "display_data",
          "data": {
            "application/javascript": [
              "window[\"4e666f3e-9d8a-11ec-a82a-0242ac1c0002\"] = google.colab.output.setActiveOutputArea(window[\"4e48cbb4-9d8a-11ec-a82a-0242ac1c0002\"]);\n",
              "//# sourceURL=js_2440fc08ab"
            ],
            "text/plain": [
              "<IPython.core.display.Javascript object>"
            ]
          },
          "metadata": {}
        },
        {
          "output_type": "display_data",
          "data": {
            "application/javascript": [
              "window[\"4e8a6cf4-9d8a-11ec-a82a-0242ac1c0002\"] = google.colab.output.getActiveOutputArea();\n",
              "//# sourceURL=js_2e3992d506"
            ],
            "text/plain": [
              "<IPython.core.display.Javascript object>"
            ]
          },
          "metadata": {}
        },
        {
          "output_type": "display_data",
          "data": {
            "application/javascript": [
              "window[\"4e8ae080-9d8a-11ec-a82a-0242ac1c0002\"] = document.querySelector(\"#id10-0-0\");\n",
              "//# sourceURL=js_d1f3f59ceb"
            ],
            "text/plain": [
              "<IPython.core.display.Javascript object>"
            ]
          },
          "metadata": {}
        },
        {
          "output_type": "display_data",
          "data": {
            "application/javascript": [
              "window[\"4e8b5e0c-9d8a-11ec-a82a-0242ac1c0002\"] = google.colab.output.setActiveOutputArea(window[\"4e8ae080-9d8a-11ec-a82a-0242ac1c0002\"]);\n",
              "//# sourceURL=js_7e13903dad"
            ],
            "text/plain": [
              "<IPython.core.display.Javascript object>"
            ]
          },
          "metadata": {}
        },
        {
          "output_type": "display_data",
          "data": {
            "application/javascript": [
              "window[\"4ea579e0-9d8a-11ec-a82a-0242ac1c0002\"] = google.colab.output.setActiveOutputArea(window[\"4e8a6cf4-9d8a-11ec-a82a-0242ac1c0002\"]);\n",
              "//# sourceURL=js_0e89dc4f0a"
            ],
            "text/plain": [
              "<IPython.core.display.Javascript object>"
            ]
          },
          "metadata": {}
        },
        {
          "output_type": "display_data",
          "data": {
            "application/javascript": [
              "window[\"4ec648fa-9d8a-11ec-a82a-0242ac1c0002\"] = google.colab.output.getActiveOutputArea();\n",
              "//# sourceURL=js_f3c6f52258"
            ],
            "text/plain": [
              "<IPython.core.display.Javascript object>"
            ]
          },
          "metadata": {}
        },
        {
          "output_type": "display_data",
          "data": {
            "application/javascript": [
              "window[\"4ec6bc4a-9d8a-11ec-a82a-0242ac1c0002\"] = document.querySelector(\"#id10-0-0\");\n",
              "//# sourceURL=js_1e1ad9d81f"
            ],
            "text/plain": [
              "<IPython.core.display.Javascript object>"
            ]
          },
          "metadata": {}
        },
        {
          "output_type": "display_data",
          "data": {
            "application/javascript": [
              "window[\"4ec765a0-9d8a-11ec-a82a-0242ac1c0002\"] = google.colab.output.setActiveOutputArea(window[\"4ec6bc4a-9d8a-11ec-a82a-0242ac1c0002\"]);\n",
              "//# sourceURL=js_5d33a0ef0c"
            ],
            "text/plain": [
              "<IPython.core.display.Javascript object>"
            ]
          },
          "metadata": {}
        },
        {
          "output_type": "display_data",
          "data": {
            "application/javascript": [
              "window[\"4ee22624-9d8a-11ec-a82a-0242ac1c0002\"] = google.colab.output.setActiveOutputArea(window[\"4ec648fa-9d8a-11ec-a82a-0242ac1c0002\"]);\n",
              "//# sourceURL=js_b708162b5f"
            ],
            "text/plain": [
              "<IPython.core.display.Javascript object>"
            ]
          },
          "metadata": {}
        },
        {
          "output_type": "display_data",
          "data": {
            "application/javascript": [
              "window[\"4f044eb6-9d8a-11ec-a82a-0242ac1c0002\"] = google.colab.output.getActiveOutputArea();\n",
              "//# sourceURL=js_d5afd2517b"
            ],
            "text/plain": [
              "<IPython.core.display.Javascript object>"
            ]
          },
          "metadata": {}
        },
        {
          "output_type": "display_data",
          "data": {
            "application/javascript": [
              "window[\"4f04b14e-9d8a-11ec-a82a-0242ac1c0002\"] = document.querySelector(\"#id10-0-0\");\n",
              "//# sourceURL=js_a3ab4cb591"
            ],
            "text/plain": [
              "<IPython.core.display.Javascript object>"
            ]
          },
          "metadata": {}
        },
        {
          "output_type": "display_data",
          "data": {
            "application/javascript": [
              "window[\"4f0548fc-9d8a-11ec-a82a-0242ac1c0002\"] = google.colab.output.setActiveOutputArea(window[\"4f04b14e-9d8a-11ec-a82a-0242ac1c0002\"]);\n",
              "//# sourceURL=js_01f33d8a0f"
            ],
            "text/plain": [
              "<IPython.core.display.Javascript object>"
            ]
          },
          "metadata": {}
        },
        {
          "output_type": "display_data",
          "data": {
            "application/javascript": [
              "window[\"4f203efa-9d8a-11ec-a82a-0242ac1c0002\"] = google.colab.output.setActiveOutputArea(window[\"4f044eb6-9d8a-11ec-a82a-0242ac1c0002\"]);\n",
              "//# sourceURL=js_7569d2a56a"
            ],
            "text/plain": [
              "<IPython.core.display.Javascript object>"
            ]
          },
          "metadata": {}
        },
        {
          "output_type": "display_data",
          "data": {
            "application/javascript": [
              "window[\"4f4109c8-9d8a-11ec-a82a-0242ac1c0002\"] = google.colab.output.getActiveOutputArea();\n",
              "//# sourceURL=js_30f43356e0"
            ],
            "text/plain": [
              "<IPython.core.display.Javascript object>"
            ]
          },
          "metadata": {}
        },
        {
          "output_type": "display_data",
          "data": {
            "application/javascript": [
              "window[\"4f418286-9d8a-11ec-a82a-0242ac1c0002\"] = document.querySelector(\"#id10-0-0\");\n",
              "//# sourceURL=js_15dfa6ae77"
            ],
            "text/plain": [
              "<IPython.core.display.Javascript object>"
            ]
          },
          "metadata": {}
        },
        {
          "output_type": "display_data",
          "data": {
            "application/javascript": [
              "window[\"4f4230f0-9d8a-11ec-a82a-0242ac1c0002\"] = google.colab.output.setActiveOutputArea(window[\"4f418286-9d8a-11ec-a82a-0242ac1c0002\"]);\n",
              "//# sourceURL=js_f5b185cd7f"
            ],
            "text/plain": [
              "<IPython.core.display.Javascript object>"
            ]
          },
          "metadata": {}
        },
        {
          "output_type": "display_data",
          "data": {
            "application/javascript": [
              "window[\"4f5dfa42-9d8a-11ec-a82a-0242ac1c0002\"] = google.colab.output.setActiveOutputArea(window[\"4f4109c8-9d8a-11ec-a82a-0242ac1c0002\"]);\n",
              "//# sourceURL=js_ff6a50da73"
            ],
            "text/plain": [
              "<IPython.core.display.Javascript object>"
            ]
          },
          "metadata": {}
        },
        {
          "output_type": "display_data",
          "data": {
            "application/javascript": [
              "window[\"4f7e998c-9d8a-11ec-a82a-0242ac1c0002\"] = google.colab.output.getActiveOutputArea();\n",
              "//# sourceURL=js_315213f6e5"
            ],
            "text/plain": [
              "<IPython.core.display.Javascript object>"
            ]
          },
          "metadata": {}
        },
        {
          "output_type": "display_data",
          "data": {
            "application/javascript": [
              "window[\"4f7f0368-9d8a-11ec-a82a-0242ac1c0002\"] = document.querySelector(\"#id10-0-0\");\n",
              "//# sourceURL=js_0ee03def22"
            ],
            "text/plain": [
              "<IPython.core.display.Javascript object>"
            ]
          },
          "metadata": {}
        },
        {
          "output_type": "display_data",
          "data": {
            "application/javascript": [
              "window[\"4f7fc10e-9d8a-11ec-a82a-0242ac1c0002\"] = google.colab.output.setActiveOutputArea(window[\"4f7f0368-9d8a-11ec-a82a-0242ac1c0002\"]);\n",
              "//# sourceURL=js_f270a7d3cd"
            ],
            "text/plain": [
              "<IPython.core.display.Javascript object>"
            ]
          },
          "metadata": {}
        },
        {
          "output_type": "display_data",
          "data": {
            "application/javascript": [
              "window[\"4f9cda64-9d8a-11ec-a82a-0242ac1c0002\"] = google.colab.output.setActiveOutputArea(window[\"4f7e998c-9d8a-11ec-a82a-0242ac1c0002\"]);\n",
              "//# sourceURL=js_caf4c5692f"
            ],
            "text/plain": [
              "<IPython.core.display.Javascript object>"
            ]
          },
          "metadata": {}
        },
        {
          "output_type": "display_data",
          "data": {
            "application/javascript": [
              "window[\"4fbe7ebc-9d8a-11ec-a82a-0242ac1c0002\"] = google.colab.output.getActiveOutputArea();\n",
              "//# sourceURL=js_c4cf2793c9"
            ],
            "text/plain": [
              "<IPython.core.display.Javascript object>"
            ]
          },
          "metadata": {}
        },
        {
          "output_type": "display_data",
          "data": {
            "application/javascript": [
              "window[\"4fbf2358-9d8a-11ec-a82a-0242ac1c0002\"] = document.querySelector(\"#id10-0-0\");\n",
              "//# sourceURL=js_3887c0183f"
            ],
            "text/plain": [
              "<IPython.core.display.Javascript object>"
            ]
          },
          "metadata": {}
        },
        {
          "output_type": "display_data",
          "data": {
            "application/javascript": [
              "window[\"4fbf7f10-9d8a-11ec-a82a-0242ac1c0002\"] = google.colab.output.setActiveOutputArea(window[\"4fbf2358-9d8a-11ec-a82a-0242ac1c0002\"]);\n",
              "//# sourceURL=js_a5cc4dfba1"
            ],
            "text/plain": [
              "<IPython.core.display.Javascript object>"
            ]
          },
          "metadata": {}
        },
        {
          "output_type": "display_data",
          "data": {
            "application/javascript": [
              "window[\"4fdaed36-9d8a-11ec-a82a-0242ac1c0002\"] = google.colab.output.setActiveOutputArea(window[\"4fbe7ebc-9d8a-11ec-a82a-0242ac1c0002\"]);\n",
              "//# sourceURL=js_68abd34b85"
            ],
            "text/plain": [
              "<IPython.core.display.Javascript object>"
            ]
          },
          "metadata": {}
        },
        {
          "output_type": "display_data",
          "data": {
            "application/javascript": [
              "window[\"4ffc86da-9d8a-11ec-a82a-0242ac1c0002\"] = google.colab.output.getActiveOutputArea();\n",
              "//# sourceURL=js_3dc5c705c9"
            ],
            "text/plain": [
              "<IPython.core.display.Javascript object>"
            ]
          },
          "metadata": {}
        },
        {
          "output_type": "display_data",
          "data": {
            "application/javascript": [
              "window[\"4ffcc168-9d8a-11ec-a82a-0242ac1c0002\"] = document.querySelector(\"#id10-0-0\");\n",
              "//# sourceURL=js_e5f7dd4bcc"
            ],
            "text/plain": [
              "<IPython.core.display.Javascript object>"
            ]
          },
          "metadata": {}
        },
        {
          "output_type": "display_data",
          "data": {
            "application/javascript": [
              "window[\"4ffcf5ac-9d8a-11ec-a82a-0242ac1c0002\"] = google.colab.output.setActiveOutputArea(window[\"4ffcc168-9d8a-11ec-a82a-0242ac1c0002\"]);\n",
              "//# sourceURL=js_67491e5121"
            ],
            "text/plain": [
              "<IPython.core.display.Javascript object>"
            ]
          },
          "metadata": {}
        },
        {
          "output_type": "display_data",
          "data": {
            "application/javascript": [
              "window[\"50223f88-9d8a-11ec-a82a-0242ac1c0002\"] = google.colab.output.setActiveOutputArea(window[\"4ffc86da-9d8a-11ec-a82a-0242ac1c0002\"]);\n",
              "//# sourceURL=js_cef560089d"
            ],
            "text/plain": [
              "<IPython.core.display.Javascript object>"
            ]
          },
          "metadata": {}
        },
        {
          "output_type": "display_data",
          "data": {
            "application/javascript": [
              "window[\"5042df4a-9d8a-11ec-a82a-0242ac1c0002\"] = google.colab.output.getActiveOutputArea();\n",
              "//# sourceURL=js_c60162d897"
            ],
            "text/plain": [
              "<IPython.core.display.Javascript object>"
            ]
          },
          "metadata": {}
        },
        {
          "output_type": "display_data",
          "data": {
            "application/javascript": [
              "window[\"50433b8e-9d8a-11ec-a82a-0242ac1c0002\"] = document.querySelector(\"#id10-0-0\");\n",
              "//# sourceURL=js_ae589ede90"
            ],
            "text/plain": [
              "<IPython.core.display.Javascript object>"
            ]
          },
          "metadata": {}
        },
        {
          "output_type": "display_data",
          "data": {
            "application/javascript": [
              "window[\"504392fa-9d8a-11ec-a82a-0242ac1c0002\"] = google.colab.output.setActiveOutputArea(window[\"50433b8e-9d8a-11ec-a82a-0242ac1c0002\"]);\n",
              "//# sourceURL=js_0adb457c3e"
            ],
            "text/plain": [
              "<IPython.core.display.Javascript object>"
            ]
          },
          "metadata": {}
        },
        {
          "output_type": "display_data",
          "data": {
            "application/javascript": [
              "window[\"50646782-9d8a-11ec-a82a-0242ac1c0002\"] = google.colab.output.setActiveOutputArea(window[\"5042df4a-9d8a-11ec-a82a-0242ac1c0002\"]);\n",
              "//# sourceURL=js_fd0300dfbb"
            ],
            "text/plain": [
              "<IPython.core.display.Javascript object>"
            ]
          },
          "metadata": {}
        },
        {
          "output_type": "display_data",
          "data": {
            "application/javascript": [
              "window[\"5085102c-9d8a-11ec-a82a-0242ac1c0002\"] = google.colab.output.getActiveOutputArea();\n",
              "//# sourceURL=js_d60548d77f"
            ],
            "text/plain": [
              "<IPython.core.display.Javascript object>"
            ]
          },
          "metadata": {}
        },
        {
          "output_type": "display_data",
          "data": {
            "application/javascript": [
              "window[\"5085816a-9d8a-11ec-a82a-0242ac1c0002\"] = document.querySelector(\"#id10-0-0\");\n",
              "//# sourceURL=js_07847c9403"
            ],
            "text/plain": [
              "<IPython.core.display.Javascript object>"
            ]
          },
          "metadata": {}
        },
        {
          "output_type": "display_data",
          "data": {
            "application/javascript": [
              "window[\"5085e272-9d8a-11ec-a82a-0242ac1c0002\"] = google.colab.output.setActiveOutputArea(window[\"5085816a-9d8a-11ec-a82a-0242ac1c0002\"]);\n",
              "//# sourceURL=js_f8bc6838f7"
            ],
            "text/plain": [
              "<IPython.core.display.Javascript object>"
            ]
          },
          "metadata": {}
        },
        {
          "output_type": "display_data",
          "data": {
            "application/javascript": [
              "window[\"50a0e4be-9d8a-11ec-a82a-0242ac1c0002\"] = google.colab.output.setActiveOutputArea(window[\"5085102c-9d8a-11ec-a82a-0242ac1c0002\"]);\n",
              "//# sourceURL=js_d084e6f0a1"
            ],
            "text/plain": [
              "<IPython.core.display.Javascript object>"
            ]
          },
          "metadata": {}
        },
        {
          "output_type": "display_data",
          "data": {
            "application/javascript": [
              "window[\"50c1687e-9d8a-11ec-a82a-0242ac1c0002\"] = google.colab.output.getActiveOutputArea();\n",
              "//# sourceURL=js_33024af973"
            ],
            "text/plain": [
              "<IPython.core.display.Javascript object>"
            ]
          },
          "metadata": {}
        },
        {
          "output_type": "display_data",
          "data": {
            "application/javascript": [
              "window[\"50c1bae0-9d8a-11ec-a82a-0242ac1c0002\"] = document.querySelector(\"#id10-0-0\");\n",
              "//# sourceURL=js_551270bcec"
            ],
            "text/plain": [
              "<IPython.core.display.Javascript object>"
            ]
          },
          "metadata": {}
        },
        {
          "output_type": "display_data",
          "data": {
            "application/javascript": [
              "window[\"50c25c52-9d8a-11ec-a82a-0242ac1c0002\"] = google.colab.output.setActiveOutputArea(window[\"50c1bae0-9d8a-11ec-a82a-0242ac1c0002\"]);\n",
              "//# sourceURL=js_77dceaf749"
            ],
            "text/plain": [
              "<IPython.core.display.Javascript object>"
            ]
          },
          "metadata": {}
        },
        {
          "output_type": "display_data",
          "data": {
            "application/javascript": [
              "window[\"50dfe8c6-9d8a-11ec-a82a-0242ac1c0002\"] = google.colab.output.setActiveOutputArea(window[\"50c1687e-9d8a-11ec-a82a-0242ac1c0002\"]);\n",
              "//# sourceURL=js_2effb544f3"
            ],
            "text/plain": [
              "<IPython.core.display.Javascript object>"
            ]
          },
          "metadata": {}
        },
        {
          "output_type": "display_data",
          "data": {
            "application/javascript": [
              "window[\"5100a4f8-9d8a-11ec-a82a-0242ac1c0002\"] = google.colab.output.getActiveOutputArea();\n",
              "//# sourceURL=js_75c969456a"
            ],
            "text/plain": [
              "<IPython.core.display.Javascript object>"
            ]
          },
          "metadata": {}
        },
        {
          "output_type": "display_data",
          "data": {
            "application/javascript": [
              "window[\"510121b2-9d8a-11ec-a82a-0242ac1c0002\"] = document.querySelector(\"#id10-0-0\");\n",
              "//# sourceURL=js_c5f5186ce4"
            ],
            "text/plain": [
              "<IPython.core.display.Javascript object>"
            ]
          },
          "metadata": {}
        },
        {
          "output_type": "display_data",
          "data": {
            "application/javascript": [
              "window[\"5101a25e-9d8a-11ec-a82a-0242ac1c0002\"] = google.colab.output.setActiveOutputArea(window[\"510121b2-9d8a-11ec-a82a-0242ac1c0002\"]);\n",
              "//# sourceURL=js_7f6e575a0e"
            ],
            "text/plain": [
              "<IPython.core.display.Javascript object>"
            ]
          },
          "metadata": {}
        },
        {
          "output_type": "display_data",
          "data": {
            "application/javascript": [
              "window[\"511f3774-9d8a-11ec-a82a-0242ac1c0002\"] = google.colab.output.setActiveOutputArea(window[\"5100a4f8-9d8a-11ec-a82a-0242ac1c0002\"]);\n",
              "//# sourceURL=js_5a0d5906c4"
            ],
            "text/plain": [
              "<IPython.core.display.Javascript object>"
            ]
          },
          "metadata": {}
        },
        {
          "output_type": "display_data",
          "data": {
            "application/javascript": [
              "window[\"51402cea-9d8a-11ec-a82a-0242ac1c0002\"] = google.colab.output.getActiveOutputArea();\n",
              "//# sourceURL=js_dc5d09f002"
            ],
            "text/plain": [
              "<IPython.core.display.Javascript object>"
            ]
          },
          "metadata": {}
        },
        {
          "output_type": "display_data",
          "data": {
            "application/javascript": [
              "window[\"51409acc-9d8a-11ec-a82a-0242ac1c0002\"] = document.querySelector(\"#id10-0-0\");\n",
              "//# sourceURL=js_a4ce41799c"
            ],
            "text/plain": [
              "<IPython.core.display.Javascript object>"
            ]
          },
          "metadata": {}
        },
        {
          "output_type": "display_data",
          "data": {
            "application/javascript": [
              "window[\"514140ee-9d8a-11ec-a82a-0242ac1c0002\"] = google.colab.output.setActiveOutputArea(window[\"51409acc-9d8a-11ec-a82a-0242ac1c0002\"]);\n",
              "//# sourceURL=js_332cd4db4e"
            ],
            "text/plain": [
              "<IPython.core.display.Javascript object>"
            ]
          },
          "metadata": {}
        },
        {
          "output_type": "display_data",
          "data": {
            "application/javascript": [
              "window[\"515e5be8-9d8a-11ec-a82a-0242ac1c0002\"] = google.colab.output.setActiveOutputArea(window[\"51402cea-9d8a-11ec-a82a-0242ac1c0002\"]);\n",
              "//# sourceURL=js_eeb1260d20"
            ],
            "text/plain": [
              "<IPython.core.display.Javascript object>"
            ]
          },
          "metadata": {}
        },
        {
          "output_type": "display_data",
          "data": {
            "application/javascript": [
              "window[\"517f12ac-9d8a-11ec-a82a-0242ac1c0002\"] = google.colab.output.getActiveOutputArea();\n",
              "//# sourceURL=js_d72a97c338"
            ],
            "text/plain": [
              "<IPython.core.display.Javascript object>"
            ]
          },
          "metadata": {}
        },
        {
          "output_type": "display_data",
          "data": {
            "application/javascript": [
              "window[\"517f8070-9d8a-11ec-a82a-0242ac1c0002\"] = document.querySelector(\"#id10-0-0\");\n",
              "//# sourceURL=js_a240530e85"
            ],
            "text/plain": [
              "<IPython.core.display.Javascript object>"
            ]
          },
          "metadata": {}
        },
        {
          "output_type": "display_data",
          "data": {
            "application/javascript": [
              "window[\"517fede4-9d8a-11ec-a82a-0242ac1c0002\"] = google.colab.output.setActiveOutputArea(window[\"517f8070-9d8a-11ec-a82a-0242ac1c0002\"]);\n",
              "//# sourceURL=js_7e48f3a9ce"
            ],
            "text/plain": [
              "<IPython.core.display.Javascript object>"
            ]
          },
          "metadata": {}
        },
        {
          "output_type": "display_data",
          "data": {
            "application/javascript": [
              "window[\"519cd2ec-9d8a-11ec-a82a-0242ac1c0002\"] = google.colab.output.setActiveOutputArea(window[\"517f12ac-9d8a-11ec-a82a-0242ac1c0002\"]);\n",
              "//# sourceURL=js_a359aca9fd"
            ],
            "text/plain": [
              "<IPython.core.display.Javascript object>"
            ]
          },
          "metadata": {}
        },
        {
          "output_type": "display_data",
          "data": {
            "application/javascript": [
              "window[\"51bd9eb4-9d8a-11ec-a82a-0242ac1c0002\"] = google.colab.output.getActiveOutputArea();\n",
              "//# sourceURL=js_5f6c1478d5"
            ],
            "text/plain": [
              "<IPython.core.display.Javascript object>"
            ]
          },
          "metadata": {}
        },
        {
          "output_type": "display_data",
          "data": {
            "application/javascript": [
              "window[\"51bde644-9d8a-11ec-a82a-0242ac1c0002\"] = document.querySelector(\"#id10-0-0\");\n",
              "//# sourceURL=js_bcb5ed9aa1"
            ],
            "text/plain": [
              "<IPython.core.display.Javascript object>"
            ]
          },
          "metadata": {}
        },
        {
          "output_type": "display_data",
          "data": {
            "application/javascript": [
              "window[\"51be6402-9d8a-11ec-a82a-0242ac1c0002\"] = google.colab.output.setActiveOutputArea(window[\"51bde644-9d8a-11ec-a82a-0242ac1c0002\"]);\n",
              "//# sourceURL=js_9118861cd2"
            ],
            "text/plain": [
              "<IPython.core.display.Javascript object>"
            ]
          },
          "metadata": {}
        },
        {
          "output_type": "display_data",
          "data": {
            "application/javascript": [
              "window[\"51e08230-9d8a-11ec-a82a-0242ac1c0002\"] = google.colab.output.setActiveOutputArea(window[\"51bd9eb4-9d8a-11ec-a82a-0242ac1c0002\"]);\n",
              "//# sourceURL=js_0299985e39"
            ],
            "text/plain": [
              "<IPython.core.display.Javascript object>"
            ]
          },
          "metadata": {}
        },
        {
          "output_type": "display_data",
          "data": {
            "application/javascript": [
              "window[\"52038b04-9d8a-11ec-a82a-0242ac1c0002\"] = google.colab.output.getActiveOutputArea();\n",
              "//# sourceURL=js_7fdbed0bac"
            ],
            "text/plain": [
              "<IPython.core.display.Javascript object>"
            ]
          },
          "metadata": {}
        },
        {
          "output_type": "display_data",
          "data": {
            "application/javascript": [
              "window[\"5203f9cc-9d8a-11ec-a82a-0242ac1c0002\"] = document.querySelector(\"#id10-0-0\");\n",
              "//# sourceURL=js_e3a792edd3"
            ],
            "text/plain": [
              "<IPython.core.display.Javascript object>"
            ]
          },
          "metadata": {}
        },
        {
          "output_type": "display_data",
          "data": {
            "application/javascript": [
              "window[\"5204e45e-9d8a-11ec-a82a-0242ac1c0002\"] = google.colab.output.setActiveOutputArea(window[\"5203f9cc-9d8a-11ec-a82a-0242ac1c0002\"]);\n",
              "//# sourceURL=js_9a30bbf70d"
            ],
            "text/plain": [
              "<IPython.core.display.Javascript object>"
            ]
          },
          "metadata": {}
        },
        {
          "output_type": "display_data",
          "data": {
            "application/javascript": [
              "window[\"52201a62-9d8a-11ec-a82a-0242ac1c0002\"] = google.colab.output.setActiveOutputArea(window[\"52038b04-9d8a-11ec-a82a-0242ac1c0002\"]);\n",
              "//# sourceURL=js_8b01ef8d30"
            ],
            "text/plain": [
              "<IPython.core.display.Javascript object>"
            ]
          },
          "metadata": {}
        },
        {
          "output_type": "display_data",
          "data": {
            "application/javascript": [
              "window[\"52412914-9d8a-11ec-a82a-0242ac1c0002\"] = google.colab.output.getActiveOutputArea();\n",
              "//# sourceURL=js_30938a0320"
            ],
            "text/plain": [
              "<IPython.core.display.Javascript object>"
            ]
          },
          "metadata": {}
        },
        {
          "output_type": "display_data",
          "data": {
            "application/javascript": [
              "window[\"52420c9e-9d8a-11ec-a82a-0242ac1c0002\"] = document.querySelector(\"#id10-0-0\");\n",
              "//# sourceURL=js_3b8181dfd3"
            ],
            "text/plain": [
              "<IPython.core.display.Javascript object>"
            ]
          },
          "metadata": {}
        },
        {
          "output_type": "display_data",
          "data": {
            "application/javascript": [
              "window[\"52426ca2-9d8a-11ec-a82a-0242ac1c0002\"] = google.colab.output.setActiveOutputArea(window[\"52420c9e-9d8a-11ec-a82a-0242ac1c0002\"]);\n",
              "//# sourceURL=js_160f7de8e0"
            ],
            "text/plain": [
              "<IPython.core.display.Javascript object>"
            ]
          },
          "metadata": {}
        },
        {
          "output_type": "display_data",
          "data": {
            "application/javascript": [
              "window[\"5261a036-9d8a-11ec-a82a-0242ac1c0002\"] = google.colab.output.setActiveOutputArea(window[\"52412914-9d8a-11ec-a82a-0242ac1c0002\"]);\n",
              "//# sourceURL=js_27846fc4f4"
            ],
            "text/plain": [
              "<IPython.core.display.Javascript object>"
            ]
          },
          "metadata": {}
        },
        {
          "output_type": "display_data",
          "data": {
            "application/javascript": [
              "window[\"528260be-9d8a-11ec-a82a-0242ac1c0002\"] = google.colab.output.getActiveOutputArea();\n",
              "//# sourceURL=js_7b1a0e3b5d"
            ],
            "text/plain": [
              "<IPython.core.display.Javascript object>"
            ]
          },
          "metadata": {}
        },
        {
          "output_type": "display_data",
          "data": {
            "application/javascript": [
              "window[\"5282d076-9d8a-11ec-a82a-0242ac1c0002\"] = document.querySelector(\"#id10-0-0\");\n",
              "//# sourceURL=js_d80a01f2e6"
            ],
            "text/plain": [
              "<IPython.core.display.Javascript object>"
            ]
          },
          "metadata": {}
        },
        {
          "output_type": "display_data",
          "data": {
            "application/javascript": [
              "window[\"5283484e-9d8a-11ec-a82a-0242ac1c0002\"] = google.colab.output.setActiveOutputArea(window[\"5282d076-9d8a-11ec-a82a-0242ac1c0002\"]);\n",
              "//# sourceURL=js_f3c757dc46"
            ],
            "text/plain": [
              "<IPython.core.display.Javascript object>"
            ]
          },
          "metadata": {}
        },
        {
          "output_type": "display_data",
          "data": {
            "application/javascript": [
              "window[\"529fc370-9d8a-11ec-a82a-0242ac1c0002\"] = google.colab.output.setActiveOutputArea(window[\"528260be-9d8a-11ec-a82a-0242ac1c0002\"]);\n",
              "//# sourceURL=js_69c87217c1"
            ],
            "text/plain": [
              "<IPython.core.display.Javascript object>"
            ]
          },
          "metadata": {}
        },
        {
          "output_type": "display_data",
          "data": {
            "application/javascript": [
              "window[\"52c05644-9d8a-11ec-a82a-0242ac1c0002\"] = google.colab.output.getActiveOutputArea();\n",
              "//# sourceURL=js_80e698cc2d"
            ],
            "text/plain": [
              "<IPython.core.display.Javascript object>"
            ]
          },
          "metadata": {}
        },
        {
          "output_type": "display_data",
          "data": {
            "application/javascript": [
              "window[\"52c10d96-9d8a-11ec-a82a-0242ac1c0002\"] = document.querySelector(\"#id10-0-0\");\n",
              "//# sourceURL=js_889296609b"
            ],
            "text/plain": [
              "<IPython.core.display.Javascript object>"
            ]
          },
          "metadata": {}
        },
        {
          "output_type": "display_data",
          "data": {
            "application/javascript": [
              "window[\"52c16fde-9d8a-11ec-a82a-0242ac1c0002\"] = google.colab.output.setActiveOutputArea(window[\"52c10d96-9d8a-11ec-a82a-0242ac1c0002\"]);\n",
              "//# sourceURL=js_adec077d5c"
            ],
            "text/plain": [
              "<IPython.core.display.Javascript object>"
            ]
          },
          "metadata": {}
        },
        {
          "output_type": "display_data",
          "data": {
            "application/javascript": [
              "window[\"52ec74ae-9d8a-11ec-a82a-0242ac1c0002\"] = google.colab.output.setActiveOutputArea(window[\"52c05644-9d8a-11ec-a82a-0242ac1c0002\"]);\n",
              "//# sourceURL=js_f36abfd6aa"
            ],
            "text/plain": [
              "<IPython.core.display.Javascript object>"
            ]
          },
          "metadata": {}
        },
        {
          "output_type": "display_data",
          "data": {
            "application/javascript": [
              "window[\"530d30ea-9d8a-11ec-a82a-0242ac1c0002\"] = google.colab.output.getActiveOutputArea();\n",
              "//# sourceURL=js_568d02be76"
            ],
            "text/plain": [
              "<IPython.core.display.Javascript object>"
            ]
          },
          "metadata": {}
        },
        {
          "output_type": "display_data",
          "data": {
            "application/javascript": [
              "window[\"530d8b08-9d8a-11ec-a82a-0242ac1c0002\"] = document.querySelector(\"#id10-0-0\");\n",
              "//# sourceURL=js_ec4c3262d1"
            ],
            "text/plain": [
              "<IPython.core.display.Javascript object>"
            ]
          },
          "metadata": {}
        },
        {
          "output_type": "display_data",
          "data": {
            "application/javascript": [
              "window[\"530de698-9d8a-11ec-a82a-0242ac1c0002\"] = google.colab.output.setActiveOutputArea(window[\"530d8b08-9d8a-11ec-a82a-0242ac1c0002\"]);\n",
              "//# sourceURL=js_f4115c18d6"
            ],
            "text/plain": [
              "<IPython.core.display.Javascript object>"
            ]
          },
          "metadata": {}
        },
        {
          "output_type": "display_data",
          "data": {
            "application/javascript": [
              "window[\"532cc644-9d8a-11ec-a82a-0242ac1c0002\"] = google.colab.output.setActiveOutputArea(window[\"530d30ea-9d8a-11ec-a82a-0242ac1c0002\"]);\n",
              "//# sourceURL=js_fb85bc27b5"
            ],
            "text/plain": [
              "<IPython.core.display.Javascript object>"
            ]
          },
          "metadata": {}
        },
        {
          "output_type": "display_data",
          "data": {
            "application/javascript": [
              "window[\"534fc810-9d8a-11ec-a82a-0242ac1c0002\"] = google.colab.output.getActiveOutputArea();\n",
              "//# sourceURL=js_42875d033d"
            ],
            "text/plain": [
              "<IPython.core.display.Javascript object>"
            ]
          },
          "metadata": {}
        },
        {
          "output_type": "display_data",
          "data": {
            "application/javascript": [
              "window[\"53502ae4-9d8a-11ec-a82a-0242ac1c0002\"] = document.querySelector(\"#id10-0-0\");\n",
              "//# sourceURL=js_560c28d118"
            ],
            "text/plain": [
              "<IPython.core.display.Javascript object>"
            ]
          },
          "metadata": {}
        },
        {
          "output_type": "display_data",
          "data": {
            "application/javascript": [
              "window[\"53519d2a-9d8a-11ec-a82a-0242ac1c0002\"] = google.colab.output.setActiveOutputArea(window[\"53502ae4-9d8a-11ec-a82a-0242ac1c0002\"]);\n",
              "//# sourceURL=js_0b8dc83cdc"
            ],
            "text/plain": [
              "<IPython.core.display.Javascript object>"
            ]
          },
          "metadata": {}
        },
        {
          "output_type": "display_data",
          "data": {
            "application/javascript": [
              "window[\"536d4f98-9d8a-11ec-a82a-0242ac1c0002\"] = google.colab.output.setActiveOutputArea(window[\"534fc810-9d8a-11ec-a82a-0242ac1c0002\"]);\n",
              "//# sourceURL=js_9ce4d44265"
            ],
            "text/plain": [
              "<IPython.core.display.Javascript object>"
            ]
          },
          "metadata": {}
        },
        {
          "output_type": "display_data",
          "data": {
            "application/javascript": [
              "window[\"53908e7c-9d8a-11ec-a82a-0242ac1c0002\"] = google.colab.output.getActiveOutputArea();\n",
              "//# sourceURL=js_c37e3cb625"
            ],
            "text/plain": [
              "<IPython.core.display.Javascript object>"
            ]
          },
          "metadata": {}
        },
        {
          "output_type": "display_data",
          "data": {
            "application/javascript": [
              "window[\"5390feac-9d8a-11ec-a82a-0242ac1c0002\"] = document.querySelector(\"#id10-0-0\");\n",
              "//# sourceURL=js_f418a13672"
            ],
            "text/plain": [
              "<IPython.core.display.Javascript object>"
            ]
          },
          "metadata": {}
        },
        {
          "output_type": "display_data",
          "data": {
            "application/javascript": [
              "window[\"53918962-9d8a-11ec-a82a-0242ac1c0002\"] = google.colab.output.setActiveOutputArea(window[\"5390feac-9d8a-11ec-a82a-0242ac1c0002\"]);\n",
              "//# sourceURL=js_d22ac8af7d"
            ],
            "text/plain": [
              "<IPython.core.display.Javascript object>"
            ]
          },
          "metadata": {}
        },
        {
          "output_type": "display_data",
          "data": {
            "application/javascript": [
              "window[\"53ad28de-9d8a-11ec-a82a-0242ac1c0002\"] = google.colab.output.setActiveOutputArea(window[\"53908e7c-9d8a-11ec-a82a-0242ac1c0002\"]);\n",
              "//# sourceURL=js_6fd98f3ba6"
            ],
            "text/plain": [
              "<IPython.core.display.Javascript object>"
            ]
          },
          "metadata": {}
        },
        {
          "output_type": "display_data",
          "data": {
            "application/javascript": [
              "window[\"53cfc18c-9d8a-11ec-a82a-0242ac1c0002\"] = google.colab.output.getActiveOutputArea();\n",
              "//# sourceURL=js_40a5bc0f1e"
            ],
            "text/plain": [
              "<IPython.core.display.Javascript object>"
            ]
          },
          "metadata": {}
        },
        {
          "output_type": "display_data",
          "data": {
            "application/javascript": [
              "window[\"53d030cc-9d8a-11ec-a82a-0242ac1c0002\"] = document.querySelector(\"#id10-0-0\");\n",
              "//# sourceURL=js_fe62cd0933"
            ],
            "text/plain": [
              "<IPython.core.display.Javascript object>"
            ]
          },
          "metadata": {}
        },
        {
          "output_type": "display_data",
          "data": {
            "application/javascript": [
              "window[\"53d0aa02-9d8a-11ec-a82a-0242ac1c0002\"] = google.colab.output.setActiveOutputArea(window[\"53d030cc-9d8a-11ec-a82a-0242ac1c0002\"]);\n",
              "//# sourceURL=js_068b8f7e5d"
            ],
            "text/plain": [
              "<IPython.core.display.Javascript object>"
            ]
          },
          "metadata": {}
        },
        {
          "output_type": "display_data",
          "data": {
            "application/javascript": [
              "window[\"53edf44a-9d8a-11ec-a82a-0242ac1c0002\"] = google.colab.output.setActiveOutputArea(window[\"53cfc18c-9d8a-11ec-a82a-0242ac1c0002\"]);\n",
              "//# sourceURL=js_5d36ec562d"
            ],
            "text/plain": [
              "<IPython.core.display.Javascript object>"
            ]
          },
          "metadata": {}
        },
        {
          "output_type": "display_data",
          "data": {
            "application/javascript": [
              "window[\"5410b750-9d8a-11ec-a82a-0242ac1c0002\"] = google.colab.output.getActiveOutputArea();\n",
              "//# sourceURL=js_b0027ef68e"
            ],
            "text/plain": [
              "<IPython.core.display.Javascript object>"
            ]
          },
          "metadata": {}
        },
        {
          "output_type": "display_data",
          "data": {
            "application/javascript": [
              "window[\"541127b2-9d8a-11ec-a82a-0242ac1c0002\"] = document.querySelector(\"#id10-0-0\");\n",
              "//# sourceURL=js_d526978673"
            ],
            "text/plain": [
              "<IPython.core.display.Javascript object>"
            ]
          },
          "metadata": {}
        },
        {
          "output_type": "display_data",
          "data": {
            "application/javascript": [
              "window[\"54118158-9d8a-11ec-a82a-0242ac1c0002\"] = google.colab.output.setActiveOutputArea(window[\"541127b2-9d8a-11ec-a82a-0242ac1c0002\"]);\n",
              "//# sourceURL=js_5628267d50"
            ],
            "text/plain": [
              "<IPython.core.display.Javascript object>"
            ]
          },
          "metadata": {}
        },
        {
          "output_type": "display_data",
          "data": {
            "application/javascript": [
              "window[\"542deaaa-9d8a-11ec-a82a-0242ac1c0002\"] = google.colab.output.setActiveOutputArea(window[\"5410b750-9d8a-11ec-a82a-0242ac1c0002\"]);\n",
              "//# sourceURL=js_3c73ce843f"
            ],
            "text/plain": [
              "<IPython.core.display.Javascript object>"
            ]
          },
          "metadata": {}
        },
        {
          "output_type": "display_data",
          "data": {
            "application/javascript": [
              "window[\"544e9322-9d8a-11ec-a82a-0242ac1c0002\"] = google.colab.output.getActiveOutputArea();\n",
              "//# sourceURL=js_5df04f8061"
            ],
            "text/plain": [
              "<IPython.core.display.Javascript object>"
            ]
          },
          "metadata": {}
        },
        {
          "output_type": "display_data",
          "data": {
            "application/javascript": [
              "window[\"544f00f0-9d8a-11ec-a82a-0242ac1c0002\"] = document.querySelector(\"#id10-0-0\");\n",
              "//# sourceURL=js_720a6ea164"
            ],
            "text/plain": [
              "<IPython.core.display.Javascript object>"
            ]
          },
          "metadata": {}
        },
        {
          "output_type": "display_data",
          "data": {
            "application/javascript": [
              "window[\"544f91f0-9d8a-11ec-a82a-0242ac1c0002\"] = google.colab.output.setActiveOutputArea(window[\"544f00f0-9d8a-11ec-a82a-0242ac1c0002\"]);\n",
              "//# sourceURL=js_b7b971bfb3"
            ],
            "text/plain": [
              "<IPython.core.display.Javascript object>"
            ]
          },
          "metadata": {}
        },
        {
          "output_type": "display_data",
          "data": {
            "application/javascript": [
              "window[\"546bb47a-9d8a-11ec-a82a-0242ac1c0002\"] = google.colab.output.setActiveOutputArea(window[\"544e9322-9d8a-11ec-a82a-0242ac1c0002\"]);\n",
              "//# sourceURL=js_d05104228a"
            ],
            "text/plain": [
              "<IPython.core.display.Javascript object>"
            ]
          },
          "metadata": {}
        },
        {
          "output_type": "display_data",
          "data": {
            "application/javascript": [
              "window[\"548c32c2-9d8a-11ec-a82a-0242ac1c0002\"] = google.colab.output.getActiveOutputArea();\n",
              "//# sourceURL=js_b06429e823"
            ],
            "text/plain": [
              "<IPython.core.display.Javascript object>"
            ]
          },
          "metadata": {}
        },
        {
          "output_type": "display_data",
          "data": {
            "application/javascript": [
              "window[\"548c8e48-9d8a-11ec-a82a-0242ac1c0002\"] = document.querySelector(\"#id10-0-0\");\n",
              "//# sourceURL=js_98515ec079"
            ],
            "text/plain": [
              "<IPython.core.display.Javascript object>"
            ]
          },
          "metadata": {}
        },
        {
          "output_type": "display_data",
          "data": {
            "application/javascript": [
              "window[\"548cf626-9d8a-11ec-a82a-0242ac1c0002\"] = google.colab.output.setActiveOutputArea(window[\"548c8e48-9d8a-11ec-a82a-0242ac1c0002\"]);\n",
              "//# sourceURL=js_62cb674ade"
            ],
            "text/plain": [
              "<IPython.core.display.Javascript object>"
            ]
          },
          "metadata": {}
        },
        {
          "output_type": "display_data",
          "data": {
            "application/javascript": [
              "window[\"54a98958-9d8a-11ec-a82a-0242ac1c0002\"] = google.colab.output.setActiveOutputArea(window[\"548c32c2-9d8a-11ec-a82a-0242ac1c0002\"]);\n",
              "//# sourceURL=js_ea0d0bb409"
            ],
            "text/plain": [
              "<IPython.core.display.Javascript object>"
            ]
          },
          "metadata": {}
        },
        {
          "output_type": "display_data",
          "data": {
            "application/javascript": [
              "window[\"54cd00b8-9d8a-11ec-a82a-0242ac1c0002\"] = google.colab.output.getActiveOutputArea();\n",
              "//# sourceURL=js_84ba56aca8"
            ],
            "text/plain": [
              "<IPython.core.display.Javascript object>"
            ]
          },
          "metadata": {}
        },
        {
          "output_type": "display_data",
          "data": {
            "application/javascript": [
              "window[\"54cd5aa4-9d8a-11ec-a82a-0242ac1c0002\"] = document.querySelector(\"#id10-0-0\");\n",
              "//# sourceURL=js_435c13e382"
            ],
            "text/plain": [
              "<IPython.core.display.Javascript object>"
            ]
          },
          "metadata": {}
        },
        {
          "output_type": "display_data",
          "data": {
            "application/javascript": [
              "window[\"54ce062a-9d8a-11ec-a82a-0242ac1c0002\"] = google.colab.output.setActiveOutputArea(window[\"54cd5aa4-9d8a-11ec-a82a-0242ac1c0002\"]);\n",
              "//# sourceURL=js_e14b15f780"
            ],
            "text/plain": [
              "<IPython.core.display.Javascript object>"
            ]
          },
          "metadata": {}
        },
        {
          "output_type": "display_data",
          "data": {
            "application/javascript": [
              "window[\"54eddd2e-9d8a-11ec-a82a-0242ac1c0002\"] = google.colab.output.setActiveOutputArea(window[\"54cd00b8-9d8a-11ec-a82a-0242ac1c0002\"]);\n",
              "//# sourceURL=js_5c0b399ba2"
            ],
            "text/plain": [
              "<IPython.core.display.Javascript object>"
            ]
          },
          "metadata": {}
        },
        {
          "output_type": "display_data",
          "data": {
            "application/javascript": [
              "window[\"5510377a-9d8a-11ec-a82a-0242ac1c0002\"] = google.colab.output.getActiveOutputArea();\n",
              "//# sourceURL=js_3e252e8238"
            ],
            "text/plain": [
              "<IPython.core.display.Javascript object>"
            ]
          },
          "metadata": {}
        },
        {
          "output_type": "display_data",
          "data": {
            "application/javascript": [
              "window[\"551090bc-9d8a-11ec-a82a-0242ac1c0002\"] = document.querySelector(\"#id10-0-0\");\n",
              "//# sourceURL=js_b72e98b897"
            ],
            "text/plain": [
              "<IPython.core.display.Javascript object>"
            ]
          },
          "metadata": {}
        },
        {
          "output_type": "display_data",
          "data": {
            "application/javascript": [
              "window[\"551155ec-9d8a-11ec-a82a-0242ac1c0002\"] = google.colab.output.setActiveOutputArea(window[\"551090bc-9d8a-11ec-a82a-0242ac1c0002\"]);\n",
              "//# sourceURL=js_f94374266a"
            ],
            "text/plain": [
              "<IPython.core.display.Javascript object>"
            ]
          },
          "metadata": {}
        },
        {
          "output_type": "display_data",
          "data": {
            "application/javascript": [
              "window[\"552f527c-9d8a-11ec-a82a-0242ac1c0002\"] = google.colab.output.setActiveOutputArea(window[\"5510377a-9d8a-11ec-a82a-0242ac1c0002\"]);\n",
              "//# sourceURL=js_aee15c34aa"
            ],
            "text/plain": [
              "<IPython.core.display.Javascript object>"
            ]
          },
          "metadata": {}
        },
        {
          "output_type": "display_data",
          "data": {
            "application/javascript": [
              "window[\"555016e2-9d8a-11ec-a82a-0242ac1c0002\"] = google.colab.output.getActiveOutputArea();\n",
              "//# sourceURL=js_3a4b4b01a3"
            ],
            "text/plain": [
              "<IPython.core.display.Javascript object>"
            ]
          },
          "metadata": {}
        },
        {
          "output_type": "display_data",
          "data": {
            "application/javascript": [
              "window[\"55506a70-9d8a-11ec-a82a-0242ac1c0002\"] = document.querySelector(\"#id10-0-0\");\n",
              "//# sourceURL=js_069473b226"
            ],
            "text/plain": [
              "<IPython.core.display.Javascript object>"
            ]
          },
          "metadata": {}
        },
        {
          "output_type": "display_data",
          "data": {
            "application/javascript": [
              "window[\"55517e7e-9d8a-11ec-a82a-0242ac1c0002\"] = google.colab.output.setActiveOutputArea(window[\"55506a70-9d8a-11ec-a82a-0242ac1c0002\"]);\n",
              "//# sourceURL=js_9712aeced9"
            ],
            "text/plain": [
              "<IPython.core.display.Javascript object>"
            ]
          },
          "metadata": {}
        },
        {
          "output_type": "display_data",
          "data": {
            "application/javascript": [
              "window[\"556d46b8-9d8a-11ec-a82a-0242ac1c0002\"] = google.colab.output.setActiveOutputArea(window[\"555016e2-9d8a-11ec-a82a-0242ac1c0002\"]);\n",
              "//# sourceURL=js_a779c99fe9"
            ],
            "text/plain": [
              "<IPython.core.display.Javascript object>"
            ]
          },
          "metadata": {}
        },
        {
          "output_type": "display_data",
          "data": {
            "application/javascript": [
              "window[\"558df37c-9d8a-11ec-a82a-0242ac1c0002\"] = google.colab.output.getActiveOutputArea();\n",
              "//# sourceURL=js_839bbde5e5"
            ],
            "text/plain": [
              "<IPython.core.display.Javascript object>"
            ]
          },
          "metadata": {}
        },
        {
          "output_type": "display_data",
          "data": {
            "application/javascript": [
              "window[\"558e34e0-9d8a-11ec-a82a-0242ac1c0002\"] = document.querySelector(\"#id10-0-0\");\n",
              "//# sourceURL=js_380a27eb38"
            ],
            "text/plain": [
              "<IPython.core.display.Javascript object>"
            ]
          },
          "metadata": {}
        },
        {
          "output_type": "display_data",
          "data": {
            "application/javascript": [
              "window[\"558ea286-9d8a-11ec-a82a-0242ac1c0002\"] = google.colab.output.setActiveOutputArea(window[\"558e34e0-9d8a-11ec-a82a-0242ac1c0002\"]);\n",
              "//# sourceURL=js_3b55a89b82"
            ],
            "text/plain": [
              "<IPython.core.display.Javascript object>"
            ]
          },
          "metadata": {}
        },
        {
          "output_type": "display_data",
          "data": {
            "application/javascript": [
              "window[\"55b8d9a2-9d8a-11ec-a82a-0242ac1c0002\"] = google.colab.output.setActiveOutputArea(window[\"558df37c-9d8a-11ec-a82a-0242ac1c0002\"]);\n",
              "//# sourceURL=js_c6d6baa883"
            ],
            "text/plain": [
              "<IPython.core.display.Javascript object>"
            ]
          },
          "metadata": {}
        },
        {
          "output_type": "display_data",
          "data": {
            "application/javascript": [
              "window[\"55dbb9a4-9d8a-11ec-a82a-0242ac1c0002\"] = google.colab.output.getActiveOutputArea();\n",
              "//# sourceURL=js_3c1283cc9a"
            ],
            "text/plain": [
              "<IPython.core.display.Javascript object>"
            ]
          },
          "metadata": {}
        },
        {
          "output_type": "display_data",
          "data": {
            "application/javascript": [
              "window[\"55dc1f66-9d8a-11ec-a82a-0242ac1c0002\"] = document.querySelector(\"#id10-0-0\");\n",
              "//# sourceURL=js_8640919317"
            ],
            "text/plain": [
              "<IPython.core.display.Javascript object>"
            ]
          },
          "metadata": {}
        },
        {
          "output_type": "display_data",
          "data": {
            "application/javascript": [
              "window[\"55dc9dc4-9d8a-11ec-a82a-0242ac1c0002\"] = google.colab.output.setActiveOutputArea(window[\"55dc1f66-9d8a-11ec-a82a-0242ac1c0002\"]);\n",
              "//# sourceURL=js_96c2f4514f"
            ],
            "text/plain": [
              "<IPython.core.display.Javascript object>"
            ]
          },
          "metadata": {}
        },
        {
          "output_type": "display_data",
          "data": {
            "application/javascript": [
              "window[\"55f9c99e-9d8a-11ec-a82a-0242ac1c0002\"] = google.colab.output.setActiveOutputArea(window[\"55dbb9a4-9d8a-11ec-a82a-0242ac1c0002\"]);\n",
              "//# sourceURL=js_9c6f3dbac2"
            ],
            "text/plain": [
              "<IPython.core.display.Javascript object>"
            ]
          },
          "metadata": {}
        },
        {
          "output_type": "display_data",
          "data": {
            "application/javascript": [
              "window[\"561a7266-9d8a-11ec-a82a-0242ac1c0002\"] = google.colab.output.getActiveOutputArea();\n",
              "//# sourceURL=js_c552efdc9b"
            ],
            "text/plain": [
              "<IPython.core.display.Javascript object>"
            ]
          },
          "metadata": {}
        },
        {
          "output_type": "display_data",
          "data": {
            "application/javascript": [
              "window[\"561ac946-9d8a-11ec-a82a-0242ac1c0002\"] = document.querySelector(\"#id10-0-0\");\n",
              "//# sourceURL=js_28ced8063c"
            ],
            "text/plain": [
              "<IPython.core.display.Javascript object>"
            ]
          },
          "metadata": {}
        },
        {
          "output_type": "display_data",
          "data": {
            "application/javascript": [
              "window[\"561b3a3e-9d8a-11ec-a82a-0242ac1c0002\"] = google.colab.output.setActiveOutputArea(window[\"561ac946-9d8a-11ec-a82a-0242ac1c0002\"]);\n",
              "//# sourceURL=js_e078aa4128"
            ],
            "text/plain": [
              "<IPython.core.display.Javascript object>"
            ]
          },
          "metadata": {}
        },
        {
          "output_type": "display_data",
          "data": {
            "application/javascript": [
              "window[\"56373c52-9d8a-11ec-a82a-0242ac1c0002\"] = google.colab.output.setActiveOutputArea(window[\"561a7266-9d8a-11ec-a82a-0242ac1c0002\"]);\n",
              "//# sourceURL=js_be53ddf69c"
            ],
            "text/plain": [
              "<IPython.core.display.Javascript object>"
            ]
          },
          "metadata": {}
        },
        {
          "output_type": "display_data",
          "data": {
            "application/javascript": [
              "window[\"56582bba-9d8a-11ec-a82a-0242ac1c0002\"] = google.colab.output.getActiveOutputArea();\n",
              "//# sourceURL=js_d469773c00"
            ],
            "text/plain": [
              "<IPython.core.display.Javascript object>"
            ]
          },
          "metadata": {}
        },
        {
          "output_type": "display_data",
          "data": {
            "application/javascript": [
              "window[\"56589a1e-9d8a-11ec-a82a-0242ac1c0002\"] = document.querySelector(\"#id10-0-0\");\n",
              "//# sourceURL=js_b210fda9a5"
            ],
            "text/plain": [
              "<IPython.core.display.Javascript object>"
            ]
          },
          "metadata": {}
        },
        {
          "output_type": "display_data",
          "data": {
            "application/javascript": [
              "window[\"56590526-9d8a-11ec-a82a-0242ac1c0002\"] = google.colab.output.setActiveOutputArea(window[\"56589a1e-9d8a-11ec-a82a-0242ac1c0002\"]);\n",
              "//# sourceURL=js_8d301ab146"
            ],
            "text/plain": [
              "<IPython.core.display.Javascript object>"
            ]
          },
          "metadata": {}
        },
        {
          "output_type": "display_data",
          "data": {
            "application/javascript": [
              "window[\"5678859a-9d8a-11ec-a82a-0242ac1c0002\"] = google.colab.output.setActiveOutputArea(window[\"56582bba-9d8a-11ec-a82a-0242ac1c0002\"]);\n",
              "//# sourceURL=js_0f6f0bc12e"
            ],
            "text/plain": [
              "<IPython.core.display.Javascript object>"
            ]
          },
          "metadata": {}
        },
        {
          "output_type": "display_data",
          "data": {
            "application/javascript": [
              "window[\"5699b2f6-9d8a-11ec-a82a-0242ac1c0002\"] = google.colab.output.getActiveOutputArea();\n",
              "//# sourceURL=js_0f98a5b8f4"
            ],
            "text/plain": [
              "<IPython.core.display.Javascript object>"
            ]
          },
          "metadata": {}
        },
        {
          "output_type": "display_data",
          "data": {
            "application/javascript": [
              "window[\"5699f982-9d8a-11ec-a82a-0242ac1c0002\"] = document.querySelector(\"#id10-0-0\");\n",
              "//# sourceURL=js_5024102cc2"
            ],
            "text/plain": [
              "<IPython.core.display.Javascript object>"
            ]
          },
          "metadata": {}
        },
        {
          "output_type": "display_data",
          "data": {
            "application/javascript": [
              "window[\"569a4d38-9d8a-11ec-a82a-0242ac1c0002\"] = google.colab.output.setActiveOutputArea(window[\"5699f982-9d8a-11ec-a82a-0242ac1c0002\"]);\n",
              "//# sourceURL=js_9f99c64711"
            ],
            "text/plain": [
              "<IPython.core.display.Javascript object>"
            ]
          },
          "metadata": {}
        },
        {
          "output_type": "display_data",
          "data": {
            "application/javascript": [
              "window[\"56b7c098-9d8a-11ec-a82a-0242ac1c0002\"] = google.colab.output.setActiveOutputArea(window[\"5699b2f6-9d8a-11ec-a82a-0242ac1c0002\"]);\n",
              "//# sourceURL=js_59f734aa07"
            ],
            "text/plain": [
              "<IPython.core.display.Javascript object>"
            ]
          },
          "metadata": {}
        },
        {
          "output_type": "display_data",
          "data": {
            "application/javascript": [
              "window[\"56d911f8-9d8a-11ec-a82a-0242ac1c0002\"] = google.colab.output.getActiveOutputArea();\n",
              "//# sourceURL=js_6d64706017"
            ],
            "text/plain": [
              "<IPython.core.display.Javascript object>"
            ]
          },
          "metadata": {}
        },
        {
          "output_type": "display_data",
          "data": {
            "application/javascript": [
              "window[\"56d9b068-9d8a-11ec-a82a-0242ac1c0002\"] = document.querySelector(\"#id10-0-0\");\n",
              "//# sourceURL=js_02401dd940"
            ],
            "text/plain": [
              "<IPython.core.display.Javascript object>"
            ]
          },
          "metadata": {}
        },
        {
          "output_type": "display_data",
          "data": {
            "application/javascript": [
              "window[\"56da6a62-9d8a-11ec-a82a-0242ac1c0002\"] = google.colab.output.setActiveOutputArea(window[\"56d9b068-9d8a-11ec-a82a-0242ac1c0002\"]);\n",
              "//# sourceURL=js_fa679b3842"
            ],
            "text/plain": [
              "<IPython.core.display.Javascript object>"
            ]
          },
          "metadata": {}
        },
        {
          "output_type": "display_data",
          "data": {
            "application/javascript": [
              "window[\"56f9e37e-9d8a-11ec-a82a-0242ac1c0002\"] = google.colab.output.setActiveOutputArea(window[\"56d911f8-9d8a-11ec-a82a-0242ac1c0002\"]);\n",
              "//# sourceURL=js_ecc753e950"
            ],
            "text/plain": [
              "<IPython.core.display.Javascript object>"
            ]
          },
          "metadata": {}
        },
        {
          "output_type": "display_data",
          "data": {
            "application/javascript": [
              "window[\"571ce2f2-9d8a-11ec-a82a-0242ac1c0002\"] = google.colab.output.getActiveOutputArea();\n",
              "//# sourceURL=js_9b54effac6"
            ],
            "text/plain": [
              "<IPython.core.display.Javascript object>"
            ]
          },
          "metadata": {}
        },
        {
          "output_type": "display_data",
          "data": {
            "application/javascript": [
              "window[\"571e2f36-9d8a-11ec-a82a-0242ac1c0002\"] = document.querySelector(\"#id10-0-0\");\n",
              "//# sourceURL=js_4ffb4ce69e"
            ],
            "text/plain": [
              "<IPython.core.display.Javascript object>"
            ]
          },
          "metadata": {}
        },
        {
          "output_type": "display_data",
          "data": {
            "application/javascript": [
              "window[\"571eb03c-9d8a-11ec-a82a-0242ac1c0002\"] = google.colab.output.setActiveOutputArea(window[\"571e2f36-9d8a-11ec-a82a-0242ac1c0002\"]);\n",
              "//# sourceURL=js_997e603e33"
            ],
            "text/plain": [
              "<IPython.core.display.Javascript object>"
            ]
          },
          "metadata": {}
        },
        {
          "output_type": "display_data",
          "data": {
            "application/javascript": [
              "window[\"573bc19a-9d8a-11ec-a82a-0242ac1c0002\"] = google.colab.output.setActiveOutputArea(window[\"571ce2f2-9d8a-11ec-a82a-0242ac1c0002\"]);\n",
              "//# sourceURL=js_22098d6a32"
            ],
            "text/plain": [
              "<IPython.core.display.Javascript object>"
            ]
          },
          "metadata": {}
        },
        {
          "output_type": "display_data",
          "data": {
            "application/javascript": [
              "window[\"575e5fac-9d8a-11ec-a82a-0242ac1c0002\"] = google.colab.output.getActiveOutputArea();\n",
              "//# sourceURL=js_eeb4c8a9b7"
            ],
            "text/plain": [
              "<IPython.core.display.Javascript object>"
            ]
          },
          "metadata": {}
        },
        {
          "output_type": "display_data",
          "data": {
            "application/javascript": [
              "window[\"575ef408-9d8a-11ec-a82a-0242ac1c0002\"] = document.querySelector(\"#id10-0-0\");\n",
              "//# sourceURL=js_1d5afc3d98"
            ],
            "text/plain": [
              "<IPython.core.display.Javascript object>"
            ]
          },
          "metadata": {}
        },
        {
          "output_type": "display_data",
          "data": {
            "application/javascript": [
              "window[\"575fbf3c-9d8a-11ec-a82a-0242ac1c0002\"] = google.colab.output.setActiveOutputArea(window[\"575ef408-9d8a-11ec-a82a-0242ac1c0002\"]);\n",
              "//# sourceURL=js_a3ebf3fa79"
            ],
            "text/plain": [
              "<IPython.core.display.Javascript object>"
            ]
          },
          "metadata": {}
        },
        {
          "output_type": "display_data",
          "data": {
            "application/javascript": [
              "window[\"577ecba2-9d8a-11ec-a82a-0242ac1c0002\"] = google.colab.output.setActiveOutputArea(window[\"575e5fac-9d8a-11ec-a82a-0242ac1c0002\"]);\n",
              "//# sourceURL=js_b94bd38c5c"
            ],
            "text/plain": [
              "<IPython.core.display.Javascript object>"
            ]
          },
          "metadata": {}
        },
        {
          "output_type": "display_data",
          "data": {
            "application/javascript": [
              "window[\"579fd8c4-9d8a-11ec-a82a-0242ac1c0002\"] = google.colab.output.getActiveOutputArea();\n",
              "//# sourceURL=js_65f8983ff2"
            ],
            "text/plain": [
              "<IPython.core.display.Javascript object>"
            ]
          },
          "metadata": {}
        },
        {
          "output_type": "display_data",
          "data": {
            "application/javascript": [
              "window[\"57a0f2e0-9d8a-11ec-a82a-0242ac1c0002\"] = document.querySelector(\"#id10-0-0\");\n",
              "//# sourceURL=js_708377e4e7"
            ],
            "text/plain": [
              "<IPython.core.display.Javascript object>"
            ]
          },
          "metadata": {}
        },
        {
          "output_type": "display_data",
          "data": {
            "application/javascript": [
              "window[\"57a15dca-9d8a-11ec-a82a-0242ac1c0002\"] = google.colab.output.setActiveOutputArea(window[\"57a0f2e0-9d8a-11ec-a82a-0242ac1c0002\"]);\n",
              "//# sourceURL=js_74136f7994"
            ],
            "text/plain": [
              "<IPython.core.display.Javascript object>"
            ]
          },
          "metadata": {}
        },
        {
          "output_type": "display_data",
          "data": {
            "application/javascript": [
              "window[\"57bd2c08-9d8a-11ec-a82a-0242ac1c0002\"] = google.colab.output.setActiveOutputArea(window[\"579fd8c4-9d8a-11ec-a82a-0242ac1c0002\"]);\n",
              "//# sourceURL=js_05ff4aabe0"
            ],
            "text/plain": [
              "<IPython.core.display.Javascript object>"
            ]
          },
          "metadata": {}
        },
        {
          "output_type": "display_data",
          "data": {
            "application/javascript": [
              "window[\"57ddd49e-9d8a-11ec-a82a-0242ac1c0002\"] = google.colab.output.getActiveOutputArea();\n",
              "//# sourceURL=js_802835d80b"
            ],
            "text/plain": [
              "<IPython.core.display.Javascript object>"
            ]
          },
          "metadata": {}
        },
        {
          "output_type": "display_data",
          "data": {
            "application/javascript": [
              "window[\"57de8ede-9d8a-11ec-a82a-0242ac1c0002\"] = document.querySelector(\"#id10-0-0\");\n",
              "//# sourceURL=js_518c0c61ee"
            ],
            "text/plain": [
              "<IPython.core.display.Javascript object>"
            ]
          },
          "metadata": {}
        },
        {
          "output_type": "display_data",
          "data": {
            "application/javascript": [
              "window[\"57deeaa0-9d8a-11ec-a82a-0242ac1c0002\"] = google.colab.output.setActiveOutputArea(window[\"57de8ede-9d8a-11ec-a82a-0242ac1c0002\"]);\n",
              "//# sourceURL=js_a69d135076"
            ],
            "text/plain": [
              "<IPython.core.display.Javascript object>"
            ]
          },
          "metadata": {}
        },
        {
          "output_type": "display_data",
          "data": {
            "application/javascript": [
              "window[\"57fc0176-9d8a-11ec-a82a-0242ac1c0002\"] = google.colab.output.setActiveOutputArea(window[\"57ddd49e-9d8a-11ec-a82a-0242ac1c0002\"]);\n",
              "//# sourceURL=js_51b1a7c39c"
            ],
            "text/plain": [
              "<IPython.core.display.Javascript object>"
            ]
          },
          "metadata": {}
        },
        {
          "output_type": "display_data",
          "data": {
            "application/javascript": [
              "window[\"581d4552-9d8a-11ec-a82a-0242ac1c0002\"] = google.colab.output.getActiveOutputArea();\n",
              "//# sourceURL=js_aee773a326"
            ],
            "text/plain": [
              "<IPython.core.display.Javascript object>"
            ]
          },
          "metadata": {}
        },
        {
          "output_type": "display_data",
          "data": {
            "application/javascript": [
              "window[\"581dc46e-9d8a-11ec-a82a-0242ac1c0002\"] = document.querySelector(\"#id10-0-0\");\n",
              "//# sourceURL=js_7c00524351"
            ],
            "text/plain": [
              "<IPython.core.display.Javascript object>"
            ]
          },
          "metadata": {}
        },
        {
          "output_type": "display_data",
          "data": {
            "application/javascript": [
              "window[\"581e3cb4-9d8a-11ec-a82a-0242ac1c0002\"] = google.colab.output.setActiveOutputArea(window[\"581dc46e-9d8a-11ec-a82a-0242ac1c0002\"]);\n",
              "//# sourceURL=js_5f29cf987b"
            ],
            "text/plain": [
              "<IPython.core.display.Javascript object>"
            ]
          },
          "metadata": {}
        },
        {
          "output_type": "display_data",
          "data": {
            "application/javascript": [
              "window[\"583b8e4a-9d8a-11ec-a82a-0242ac1c0002\"] = google.colab.output.setActiveOutputArea(window[\"581d4552-9d8a-11ec-a82a-0242ac1c0002\"]);\n",
              "//# sourceURL=js_4fb585d730"
            ],
            "text/plain": [
              "<IPython.core.display.Javascript object>"
            ]
          },
          "metadata": {}
        },
        {
          "output_type": "display_data",
          "data": {
            "application/javascript": [
              "window[\"585e8e9a-9d8a-11ec-a82a-0242ac1c0002\"] = google.colab.output.getActiveOutputArea();\n",
              "//# sourceURL=js_b61637f554"
            ],
            "text/plain": [
              "<IPython.core.display.Javascript object>"
            ]
          },
          "metadata": {}
        },
        {
          "output_type": "display_data",
          "data": {
            "application/javascript": [
              "window[\"585f0424-9d8a-11ec-a82a-0242ac1c0002\"] = document.querySelector(\"#id10-0-0\");\n",
              "//# sourceURL=js_5360e94838"
            ],
            "text/plain": [
              "<IPython.core.display.Javascript object>"
            ]
          },
          "metadata": {}
        },
        {
          "output_type": "display_data",
          "data": {
            "application/javascript": [
              "window[\"585f7544-9d8a-11ec-a82a-0242ac1c0002\"] = google.colab.output.setActiveOutputArea(window[\"585f0424-9d8a-11ec-a82a-0242ac1c0002\"]);\n",
              "//# sourceURL=js_7b9cbaeb2a"
            ],
            "text/plain": [
              "<IPython.core.display.Javascript object>"
            ]
          },
          "metadata": {}
        },
        {
          "output_type": "display_data",
          "data": {
            "application/javascript": [
              "window[\"588888ee-9d8a-11ec-a82a-0242ac1c0002\"] = google.colab.output.setActiveOutputArea(window[\"585e8e9a-9d8a-11ec-a82a-0242ac1c0002\"]);\n",
              "//# sourceURL=js_b68b625e66"
            ],
            "text/plain": [
              "<IPython.core.display.Javascript object>"
            ]
          },
          "metadata": {}
        },
        {
          "output_type": "display_data",
          "data": {
            "application/javascript": [
              "window[\"58a98364-9d8a-11ec-a82a-0242ac1c0002\"] = google.colab.output.getActiveOutputArea();\n",
              "//# sourceURL=js_e41fa743f4"
            ],
            "text/plain": [
              "<IPython.core.display.Javascript object>"
            ]
          },
          "metadata": {}
        },
        {
          "output_type": "display_data",
          "data": {
            "application/javascript": [
              "window[\"58a9ddb4-9d8a-11ec-a82a-0242ac1c0002\"] = document.querySelector(\"#id10-0-0\");\n",
              "//# sourceURL=js_8fb62eb63a"
            ],
            "text/plain": [
              "<IPython.core.display.Javascript object>"
            ]
          },
          "metadata": {}
        },
        {
          "output_type": "display_data",
          "data": {
            "application/javascript": [
              "window[\"58aa3138-9d8a-11ec-a82a-0242ac1c0002\"] = google.colab.output.setActiveOutputArea(window[\"58a9ddb4-9d8a-11ec-a82a-0242ac1c0002\"]);\n",
              "//# sourceURL=js_7b5ed8273c"
            ],
            "text/plain": [
              "<IPython.core.display.Javascript object>"
            ]
          },
          "metadata": {}
        },
        {
          "output_type": "display_data",
          "data": {
            "application/javascript": [
              "window[\"58cab606-9d8a-11ec-a82a-0242ac1c0002\"] = google.colab.output.setActiveOutputArea(window[\"58a98364-9d8a-11ec-a82a-0242ac1c0002\"]);\n",
              "//# sourceURL=js_5dc31941ac"
            ],
            "text/plain": [
              "<IPython.core.display.Javascript object>"
            ]
          },
          "metadata": {}
        },
        {
          "output_type": "display_data",
          "data": {
            "application/javascript": [
              "window[\"58ed9662-9d8a-11ec-a82a-0242ac1c0002\"] = google.colab.output.getActiveOutputArea();\n",
              "//# sourceURL=js_9aff438642"
            ],
            "text/plain": [
              "<IPython.core.display.Javascript object>"
            ]
          },
          "metadata": {}
        },
        {
          "output_type": "display_data",
          "data": {
            "application/javascript": [
              "window[\"58ede89c-9d8a-11ec-a82a-0242ac1c0002\"] = document.querySelector(\"#id10-0-0\");\n",
              "//# sourceURL=js_0ff55c48b4"
            ],
            "text/plain": [
              "<IPython.core.display.Javascript object>"
            ]
          },
          "metadata": {}
        },
        {
          "output_type": "display_data",
          "data": {
            "application/javascript": [
              "window[\"58ee50fc-9d8a-11ec-a82a-0242ac1c0002\"] = google.colab.output.setActiveOutputArea(window[\"58ede89c-9d8a-11ec-a82a-0242ac1c0002\"]);\n",
              "//# sourceURL=js_71b11856c9"
            ],
            "text/plain": [
              "<IPython.core.display.Javascript object>"
            ]
          },
          "metadata": {}
        },
        {
          "output_type": "display_data",
          "data": {
            "application/javascript": [
              "window[\"590b0bca-9d8a-11ec-a82a-0242ac1c0002\"] = google.colab.output.setActiveOutputArea(window[\"58ed9662-9d8a-11ec-a82a-0242ac1c0002\"]);\n",
              "//# sourceURL=js_5cd126296d"
            ],
            "text/plain": [
              "<IPython.core.display.Javascript object>"
            ]
          },
          "metadata": {}
        },
        {
          "output_type": "display_data",
          "data": {
            "application/javascript": [
              "window[\"592b93a4-9d8a-11ec-a82a-0242ac1c0002\"] = google.colab.output.getActiveOutputArea();\n",
              "//# sourceURL=js_7750bc252f"
            ],
            "text/plain": [
              "<IPython.core.display.Javascript object>"
            ]
          },
          "metadata": {}
        },
        {
          "output_type": "display_data",
          "data": {
            "application/javascript": [
              "window[\"592bd256-9d8a-11ec-a82a-0242ac1c0002\"] = document.querySelector(\"#id10-0-0\");\n",
              "//# sourceURL=js_944484685f"
            ],
            "text/plain": [
              "<IPython.core.display.Javascript object>"
            ]
          },
          "metadata": {}
        },
        {
          "output_type": "display_data",
          "data": {
            "application/javascript": [
              "window[\"592c0bfe-9d8a-11ec-a82a-0242ac1c0002\"] = google.colab.output.setActiveOutputArea(window[\"592bd256-9d8a-11ec-a82a-0242ac1c0002\"]);\n",
              "//# sourceURL=js_f5032ec78d"
            ],
            "text/plain": [
              "<IPython.core.display.Javascript object>"
            ]
          },
          "metadata": {}
        },
        {
          "output_type": "display_data",
          "data": {
            "application/javascript": [
              "window[\"594cfe18-9d8a-11ec-a82a-0242ac1c0002\"] = google.colab.output.setActiveOutputArea(window[\"592b93a4-9d8a-11ec-a82a-0242ac1c0002\"]);\n",
              "//# sourceURL=js_667e78a655"
            ],
            "text/plain": [
              "<IPython.core.display.Javascript object>"
            ]
          },
          "metadata": {}
        },
        {
          "output_type": "display_data",
          "data": {
            "application/javascript": [
              "window[\"597053ae-9d8a-11ec-a82a-0242ac1c0002\"] = google.colab.output.getActiveOutputArea();\n",
              "//# sourceURL=js_5ba9230b77"
            ],
            "text/plain": [
              "<IPython.core.display.Javascript object>"
            ]
          },
          "metadata": {}
        },
        {
          "output_type": "display_data",
          "data": {
            "application/javascript": [
              "window[\"5970bc04-9d8a-11ec-a82a-0242ac1c0002\"] = document.querySelector(\"#id10-0-0\");\n",
              "//# sourceURL=js_9ddf252347"
            ],
            "text/plain": [
              "<IPython.core.display.Javascript object>"
            ]
          },
          "metadata": {}
        },
        {
          "output_type": "display_data",
          "data": {
            "application/javascript": [
              "window[\"59713f62-9d8a-11ec-a82a-0242ac1c0002\"] = google.colab.output.setActiveOutputArea(window[\"5970bc04-9d8a-11ec-a82a-0242ac1c0002\"]);\n",
              "//# sourceURL=js_7b0a4e875e"
            ],
            "text/plain": [
              "<IPython.core.display.Javascript object>"
            ]
          },
          "metadata": {}
        },
        {
          "output_type": "display_data",
          "data": {
            "application/javascript": [
              "window[\"598d68fe-9d8a-11ec-a82a-0242ac1c0002\"] = google.colab.output.setActiveOutputArea(window[\"597053ae-9d8a-11ec-a82a-0242ac1c0002\"]);\n",
              "//# sourceURL=js_db0d0e3e57"
            ],
            "text/plain": [
              "<IPython.core.display.Javascript object>"
            ]
          },
          "metadata": {}
        },
        {
          "output_type": "display_data",
          "data": {
            "application/javascript": [
              "window[\"59aecd5a-9d8a-11ec-a82a-0242ac1c0002\"] = google.colab.output.getActiveOutputArea();\n",
              "//# sourceURL=js_7d2cec251c"
            ],
            "text/plain": [
              "<IPython.core.display.Javascript object>"
            ]
          },
          "metadata": {}
        },
        {
          "output_type": "display_data",
          "data": {
            "application/javascript": [
              "window[\"59af223c-9d8a-11ec-a82a-0242ac1c0002\"] = document.querySelector(\"#id10-0-0\");\n",
              "//# sourceURL=js_494372ef83"
            ],
            "text/plain": [
              "<IPython.core.display.Javascript object>"
            ]
          },
          "metadata": {}
        },
        {
          "output_type": "display_data",
          "data": {
            "application/javascript": [
              "window[\"59af8fba-9d8a-11ec-a82a-0242ac1c0002\"] = google.colab.output.setActiveOutputArea(window[\"59af223c-9d8a-11ec-a82a-0242ac1c0002\"]);\n",
              "//# sourceURL=js_62b68c832c"
            ],
            "text/plain": [
              "<IPython.core.display.Javascript object>"
            ]
          },
          "metadata": {}
        },
        {
          "output_type": "display_data",
          "data": {
            "application/javascript": [
              "window[\"59d0f740-9d8a-11ec-a82a-0242ac1c0002\"] = google.colab.output.setActiveOutputArea(window[\"59aecd5a-9d8a-11ec-a82a-0242ac1c0002\"]);\n",
              "//# sourceURL=js_28325c4855"
            ],
            "text/plain": [
              "<IPython.core.display.Javascript object>"
            ]
          },
          "metadata": {}
        },
        {
          "output_type": "display_data",
          "data": {
            "application/javascript": [
              "window[\"59f41e14-9d8a-11ec-a82a-0242ac1c0002\"] = google.colab.output.getActiveOutputArea();\n",
              "//# sourceURL=js_c8e0732222"
            ],
            "text/plain": [
              "<IPython.core.display.Javascript object>"
            ]
          },
          "metadata": {}
        },
        {
          "output_type": "display_data",
          "data": {
            "application/javascript": [
              "window[\"59f48dc2-9d8a-11ec-a82a-0242ac1c0002\"] = document.querySelector(\"#id10-0-0\");\n",
              "//# sourceURL=js_225f402207"
            ],
            "text/plain": [
              "<IPython.core.display.Javascript object>"
            ]
          },
          "metadata": {}
        },
        {
          "output_type": "display_data",
          "data": {
            "application/javascript": [
              "window[\"59f5082e-9d8a-11ec-a82a-0242ac1c0002\"] = google.colab.output.setActiveOutputArea(window[\"59f48dc2-9d8a-11ec-a82a-0242ac1c0002\"]);\n",
              "//# sourceURL=js_4dd17f13a1"
            ],
            "text/plain": [
              "<IPython.core.display.Javascript object>"
            ]
          },
          "metadata": {}
        },
        {
          "output_type": "display_data",
          "data": {
            "application/javascript": [
              "window[\"5a13a04a-9d8a-11ec-a82a-0242ac1c0002\"] = google.colab.output.setActiveOutputArea(window[\"59f41e14-9d8a-11ec-a82a-0242ac1c0002\"]);\n",
              "//# sourceURL=js_9aa2e71667"
            ],
            "text/plain": [
              "<IPython.core.display.Javascript object>"
            ]
          },
          "metadata": {}
        },
        {
          "output_type": "display_data",
          "data": {
            "application/javascript": [
              "window[\"5a34984a-9d8a-11ec-a82a-0242ac1c0002\"] = google.colab.output.getActiveOutputArea();\n",
              "//# sourceURL=js_c2d0eba9d6"
            ],
            "text/plain": [
              "<IPython.core.display.Javascript object>"
            ]
          },
          "metadata": {}
        },
        {
          "output_type": "display_data",
          "data": {
            "application/javascript": [
              "window[\"5a3515f4-9d8a-11ec-a82a-0242ac1c0002\"] = document.querySelector(\"#id10-0-0\");\n",
              "//# sourceURL=js_8f832c72b9"
            ],
            "text/plain": [
              "<IPython.core.display.Javascript object>"
            ]
          },
          "metadata": {}
        },
        {
          "output_type": "display_data",
          "data": {
            "application/javascript": [
              "window[\"5a3599b6-9d8a-11ec-a82a-0242ac1c0002\"] = google.colab.output.setActiveOutputArea(window[\"5a3515f4-9d8a-11ec-a82a-0242ac1c0002\"]);\n",
              "//# sourceURL=js_42406df5d3"
            ],
            "text/plain": [
              "<IPython.core.display.Javascript object>"
            ]
          },
          "metadata": {}
        },
        {
          "output_type": "display_data",
          "data": {
            "application/javascript": [
              "window[\"5a537dd2-9d8a-11ec-a82a-0242ac1c0002\"] = google.colab.output.setActiveOutputArea(window[\"5a34984a-9d8a-11ec-a82a-0242ac1c0002\"]);\n",
              "//# sourceURL=js_d1b963e52b"
            ],
            "text/plain": [
              "<IPython.core.display.Javascript object>"
            ]
          },
          "metadata": {}
        },
        {
          "output_type": "display_data",
          "data": {
            "application/javascript": [
              "window[\"5a74659c-9d8a-11ec-a82a-0242ac1c0002\"] = google.colab.output.getActiveOutputArea();\n",
              "//# sourceURL=js_d693d20dd8"
            ],
            "text/plain": [
              "<IPython.core.display.Javascript object>"
            ]
          },
          "metadata": {}
        },
        {
          "output_type": "display_data",
          "data": {
            "application/javascript": [
              "window[\"5a7501be-9d8a-11ec-a82a-0242ac1c0002\"] = document.querySelector(\"#id10-0-0\");\n",
              "//# sourceURL=js_a35d5709d1"
            ],
            "text/plain": [
              "<IPython.core.display.Javascript object>"
            ]
          },
          "metadata": {}
        },
        {
          "output_type": "display_data",
          "data": {
            "application/javascript": [
              "window[\"5a757c3e-9d8a-11ec-a82a-0242ac1c0002\"] = google.colab.output.setActiveOutputArea(window[\"5a7501be-9d8a-11ec-a82a-0242ac1c0002\"]);\n",
              "//# sourceURL=js_8a12f40133"
            ],
            "text/plain": [
              "<IPython.core.display.Javascript object>"
            ]
          },
          "metadata": {}
        },
        {
          "output_type": "display_data",
          "data": {
            "application/javascript": [
              "window[\"5a952b88-9d8a-11ec-a82a-0242ac1c0002\"] = google.colab.output.setActiveOutputArea(window[\"5a74659c-9d8a-11ec-a82a-0242ac1c0002\"]);\n",
              "//# sourceURL=js_1deb464b64"
            ],
            "text/plain": [
              "<IPython.core.display.Javascript object>"
            ]
          },
          "metadata": {}
        },
        {
          "output_type": "display_data",
          "data": {
            "application/javascript": [
              "window[\"5ab5f9bc-9d8a-11ec-a82a-0242ac1c0002\"] = google.colab.output.getActiveOutputArea();\n",
              "//# sourceURL=js_cbbbac3a98"
            ],
            "text/plain": [
              "<IPython.core.display.Javascript object>"
            ]
          },
          "metadata": {}
        },
        {
          "output_type": "display_data",
          "data": {
            "application/javascript": [
              "window[\"5ab68094-9d8a-11ec-a82a-0242ac1c0002\"] = document.querySelector(\"#id10-0-0\");\n",
              "//# sourceURL=js_560608fadb"
            ],
            "text/plain": [
              "<IPython.core.display.Javascript object>"
            ]
          },
          "metadata": {}
        },
        {
          "output_type": "display_data",
          "data": {
            "application/javascript": [
              "window[\"5ab75e38-9d8a-11ec-a82a-0242ac1c0002\"] = google.colab.output.setActiveOutputArea(window[\"5ab68094-9d8a-11ec-a82a-0242ac1c0002\"]);\n",
              "//# sourceURL=js_9800eb7fdd"
            ],
            "text/plain": [
              "<IPython.core.display.Javascript object>"
            ]
          },
          "metadata": {}
        },
        {
          "output_type": "display_data",
          "data": {
            "application/javascript": [
              "window[\"5ad565d6-9d8a-11ec-a82a-0242ac1c0002\"] = google.colab.output.setActiveOutputArea(window[\"5ab5f9bc-9d8a-11ec-a82a-0242ac1c0002\"]);\n",
              "//# sourceURL=js_d4a3bae52d"
            ],
            "text/plain": [
              "<IPython.core.display.Javascript object>"
            ]
          },
          "metadata": {}
        },
        {
          "output_type": "display_data",
          "data": {
            "application/javascript": [
              "window[\"5af63c52-9d8a-11ec-a82a-0242ac1c0002\"] = google.colab.output.getActiveOutputArea();\n",
              "//# sourceURL=js_da2c2f58f2"
            ],
            "text/plain": [
              "<IPython.core.display.Javascript object>"
            ]
          },
          "metadata": {}
        },
        {
          "output_type": "display_data",
          "data": {
            "application/javascript": [
              "window[\"5af69cd8-9d8a-11ec-a82a-0242ac1c0002\"] = document.querySelector(\"#id10-0-0\");\n",
              "//# sourceURL=js_c9d761fc5f"
            ],
            "text/plain": [
              "<IPython.core.display.Javascript object>"
            ]
          },
          "metadata": {}
        },
        {
          "output_type": "display_data",
          "data": {
            "application/javascript": [
              "window[\"5af74bba-9d8a-11ec-a82a-0242ac1c0002\"] = google.colab.output.setActiveOutputArea(window[\"5af69cd8-9d8a-11ec-a82a-0242ac1c0002\"]);\n",
              "//# sourceURL=js_46c043c743"
            ],
            "text/plain": [
              "<IPython.core.display.Javascript object>"
            ]
          },
          "metadata": {}
        },
        {
          "output_type": "display_data",
          "data": {
            "application/javascript": [
              "window[\"5b17f45a-9d8a-11ec-a82a-0242ac1c0002\"] = google.colab.output.setActiveOutputArea(window[\"5af63c52-9d8a-11ec-a82a-0242ac1c0002\"]);\n",
              "//# sourceURL=js_435921825f"
            ],
            "text/plain": [
              "<IPython.core.display.Javascript object>"
            ]
          },
          "metadata": {}
        },
        {
          "output_type": "display_data",
          "data": {
            "application/javascript": [
              "window[\"5b38e6ce-9d8a-11ec-a82a-0242ac1c0002\"] = google.colab.output.getActiveOutputArea();\n",
              "//# sourceURL=js_6a8c1b50b2"
            ],
            "text/plain": [
              "<IPython.core.display.Javascript object>"
            ]
          },
          "metadata": {}
        },
        {
          "output_type": "display_data",
          "data": {
            "application/javascript": [
              "window[\"5b397a08-9d8a-11ec-a82a-0242ac1c0002\"] = document.querySelector(\"#id10-0-0\");\n",
              "//# sourceURL=js_7c7acb54b8"
            ],
            "text/plain": [
              "<IPython.core.display.Javascript object>"
            ]
          },
          "metadata": {}
        },
        {
          "output_type": "display_data",
          "data": {
            "application/javascript": [
              "window[\"5b39e132-9d8a-11ec-a82a-0242ac1c0002\"] = google.colab.output.setActiveOutputArea(window[\"5b397a08-9d8a-11ec-a82a-0242ac1c0002\"]);\n",
              "//# sourceURL=js_d4113dd19b"
            ],
            "text/plain": [
              "<IPython.core.display.Javascript object>"
            ]
          },
          "metadata": {}
        },
        {
          "output_type": "display_data",
          "data": {
            "application/javascript": [
              "window[\"5b63d5dc-9d8a-11ec-a82a-0242ac1c0002\"] = google.colab.output.setActiveOutputArea(window[\"5b38e6ce-9d8a-11ec-a82a-0242ac1c0002\"]);\n",
              "//# sourceURL=js_e5a75bb66b"
            ],
            "text/plain": [
              "<IPython.core.display.Javascript object>"
            ]
          },
          "metadata": {}
        },
        {
          "output_type": "display_data",
          "data": {
            "application/javascript": [
              "window[\"5b852728-9d8a-11ec-a82a-0242ac1c0002\"] = google.colab.output.getActiveOutputArea();\n",
              "//# sourceURL=js_8e38f7f4a8"
            ],
            "text/plain": [
              "<IPython.core.display.Javascript object>"
            ]
          },
          "metadata": {}
        },
        {
          "output_type": "display_data",
          "data": {
            "application/javascript": [
              "window[\"5b85abc6-9d8a-11ec-a82a-0242ac1c0002\"] = document.querySelector(\"#id10-0-0\");\n",
              "//# sourceURL=js_2cf68f2328"
            ],
            "text/plain": [
              "<IPython.core.display.Javascript object>"
            ]
          },
          "metadata": {}
        },
        {
          "output_type": "display_data",
          "data": {
            "application/javascript": [
              "window[\"5b860c24-9d8a-11ec-a82a-0242ac1c0002\"] = google.colab.output.setActiveOutputArea(window[\"5b85abc6-9d8a-11ec-a82a-0242ac1c0002\"]);\n",
              "//# sourceURL=js_d5adcc26ad"
            ],
            "text/plain": [
              "<IPython.core.display.Javascript object>"
            ]
          },
          "metadata": {}
        },
        {
          "output_type": "display_data",
          "data": {
            "application/javascript": [
              "window[\"5ba3712e-9d8a-11ec-a82a-0242ac1c0002\"] = google.colab.output.setActiveOutputArea(window[\"5b852728-9d8a-11ec-a82a-0242ac1c0002\"]);\n",
              "//# sourceURL=js_7c721b6da1"
            ],
            "text/plain": [
              "<IPython.core.display.Javascript object>"
            ]
          },
          "metadata": {}
        },
        {
          "output_type": "display_data",
          "data": {
            "application/javascript": [
              "window[\"5bc4d742-9d8a-11ec-a82a-0242ac1c0002\"] = google.colab.output.getActiveOutputArea();\n",
              "//# sourceURL=js_885f887d85"
            ],
            "text/plain": [
              "<IPython.core.display.Javascript object>"
            ]
          },
          "metadata": {}
        },
        {
          "output_type": "display_data",
          "data": {
            "application/javascript": [
              "window[\"5bc57382-9d8a-11ec-a82a-0242ac1c0002\"] = document.querySelector(\"#id10-0-0\");\n",
              "//# sourceURL=js_0e81ac8124"
            ],
            "text/plain": [
              "<IPython.core.display.Javascript object>"
            ]
          },
          "metadata": {}
        },
        {
          "output_type": "display_data",
          "data": {
            "application/javascript": [
              "window[\"5bc5d6e2-9d8a-11ec-a82a-0242ac1c0002\"] = google.colab.output.setActiveOutputArea(window[\"5bc57382-9d8a-11ec-a82a-0242ac1c0002\"]);\n",
              "//# sourceURL=js_8127b48f48"
            ],
            "text/plain": [
              "<IPython.core.display.Javascript object>"
            ]
          },
          "metadata": {}
        },
        {
          "output_type": "display_data",
          "data": {
            "application/javascript": [
              "window[\"5be40aae-9d8a-11ec-a82a-0242ac1c0002\"] = google.colab.output.setActiveOutputArea(window[\"5bc4d742-9d8a-11ec-a82a-0242ac1c0002\"]);\n",
              "//# sourceURL=js_ce399229d0"
            ],
            "text/plain": [
              "<IPython.core.display.Javascript object>"
            ]
          },
          "metadata": {}
        },
        {
          "output_type": "display_data",
          "data": {
            "application/javascript": [
              "window[\"5c048a04-9d8a-11ec-a82a-0242ac1c0002\"] = google.colab.output.getActiveOutputArea();\n",
              "//# sourceURL=js_c3198d2822"
            ],
            "text/plain": [
              "<IPython.core.display.Javascript object>"
            ]
          },
          "metadata": {}
        },
        {
          "output_type": "display_data",
          "data": {
            "application/javascript": [
              "window[\"5c04dc20-9d8a-11ec-a82a-0242ac1c0002\"] = document.querySelector(\"#id10-0-0\");\n",
              "//# sourceURL=js_0ffb7f8aba"
            ],
            "text/plain": [
              "<IPython.core.display.Javascript object>"
            ]
          },
          "metadata": {}
        },
        {
          "output_type": "display_data",
          "data": {
            "application/javascript": [
              "window[\"5c053134-9d8a-11ec-a82a-0242ac1c0002\"] = google.colab.output.setActiveOutputArea(window[\"5c04dc20-9d8a-11ec-a82a-0242ac1c0002\"]);\n",
              "//# sourceURL=js_6b0a9e2ea0"
            ],
            "text/plain": [
              "<IPython.core.display.Javascript object>"
            ]
          },
          "metadata": {}
        },
        {
          "output_type": "display_data",
          "data": {
            "application/javascript": [
              "window[\"5c23e91c-9d8a-11ec-a82a-0242ac1c0002\"] = google.colab.output.setActiveOutputArea(window[\"5c048a04-9d8a-11ec-a82a-0242ac1c0002\"]);\n",
              "//# sourceURL=js_0d7217ee34"
            ],
            "text/plain": [
              "<IPython.core.display.Javascript object>"
            ]
          },
          "metadata": {}
        },
        {
          "output_type": "display_data",
          "data": {
            "application/javascript": [
              "window[\"5c452faa-9d8a-11ec-a82a-0242ac1c0002\"] = google.colab.output.getActiveOutputArea();\n",
              "//# sourceURL=js_5ef6cab039"
            ],
            "text/plain": [
              "<IPython.core.display.Javascript object>"
            ]
          },
          "metadata": {}
        },
        {
          "output_type": "display_data",
          "data": {
            "application/javascript": [
              "window[\"5c45a480-9d8a-11ec-a82a-0242ac1c0002\"] = document.querySelector(\"#id10-0-0\");\n",
              "//# sourceURL=js_18945dad10"
            ],
            "text/plain": [
              "<IPython.core.display.Javascript object>"
            ]
          },
          "metadata": {}
        },
        {
          "output_type": "display_data",
          "data": {
            "application/javascript": [
              "window[\"5c46083a-9d8a-11ec-a82a-0242ac1c0002\"] = google.colab.output.setActiveOutputArea(window[\"5c45a480-9d8a-11ec-a82a-0242ac1c0002\"]);\n",
              "//# sourceURL=js_a393f3b9fc"
            ],
            "text/plain": [
              "<IPython.core.display.Javascript object>"
            ]
          },
          "metadata": {}
        },
        {
          "output_type": "display_data",
          "data": {
            "application/javascript": [
              "window[\"5c656130-9d8a-11ec-a82a-0242ac1c0002\"] = google.colab.output.setActiveOutputArea(window[\"5c452faa-9d8a-11ec-a82a-0242ac1c0002\"]);\n",
              "//# sourceURL=js_8796422af2"
            ],
            "text/plain": [
              "<IPython.core.display.Javascript object>"
            ]
          },
          "metadata": {}
        },
        {
          "output_type": "display_data",
          "data": {
            "application/javascript": [
              "window[\"5c8648dc-9d8a-11ec-a82a-0242ac1c0002\"] = google.colab.output.getActiveOutputArea();\n",
              "//# sourceURL=js_340b6494d4"
            ],
            "text/plain": [
              "<IPython.core.display.Javascript object>"
            ]
          },
          "metadata": {}
        },
        {
          "output_type": "display_data",
          "data": {
            "application/javascript": [
              "window[\"5c86bfa6-9d8a-11ec-a82a-0242ac1c0002\"] = document.querySelector(\"#id10-0-0\");\n",
              "//# sourceURL=js_0632c83e4e"
            ],
            "text/plain": [
              "<IPython.core.display.Javascript object>"
            ]
          },
          "metadata": {}
        },
        {
          "output_type": "display_data",
          "data": {
            "application/javascript": [
              "window[\"5c8756e6-9d8a-11ec-a82a-0242ac1c0002\"] = google.colab.output.setActiveOutputArea(window[\"5c86bfa6-9d8a-11ec-a82a-0242ac1c0002\"]);\n",
              "//# sourceURL=js_e90f779d1c"
            ],
            "text/plain": [
              "<IPython.core.display.Javascript object>"
            ]
          },
          "metadata": {}
        },
        {
          "output_type": "display_data",
          "data": {
            "application/javascript": [
              "window[\"5ca5c4be-9d8a-11ec-a82a-0242ac1c0002\"] = google.colab.output.setActiveOutputArea(window[\"5c8648dc-9d8a-11ec-a82a-0242ac1c0002\"]);\n",
              "//# sourceURL=js_978391a0fb"
            ],
            "text/plain": [
              "<IPython.core.display.Javascript object>"
            ]
          },
          "metadata": {}
        },
        {
          "output_type": "display_data",
          "data": {
            "application/javascript": [
              "window[\"5cc6551c-9d8a-11ec-a82a-0242ac1c0002\"] = google.colab.output.getActiveOutputArea();\n",
              "//# sourceURL=js_739629f917"
            ],
            "text/plain": [
              "<IPython.core.display.Javascript object>"
            ]
          },
          "metadata": {}
        },
        {
          "output_type": "display_data",
          "data": {
            "application/javascript": [
              "window[\"5cc6a8b4-9d8a-11ec-a82a-0242ac1c0002\"] = document.querySelector(\"#id10-0-0\");\n",
              "//# sourceURL=js_3e05be0f06"
            ],
            "text/plain": [
              "<IPython.core.display.Javascript object>"
            ]
          },
          "metadata": {}
        },
        {
          "output_type": "display_data",
          "data": {
            "application/javascript": [
              "window[\"5cc71a56-9d8a-11ec-a82a-0242ac1c0002\"] = google.colab.output.setActiveOutputArea(window[\"5cc6a8b4-9d8a-11ec-a82a-0242ac1c0002\"]);\n",
              "//# sourceURL=js_d2f682d336"
            ],
            "text/plain": [
              "<IPython.core.display.Javascript object>"
            ]
          },
          "metadata": {}
        },
        {
          "output_type": "display_data",
          "data": {
            "application/javascript": [
              "window[\"5ce4a7ba-9d8a-11ec-a82a-0242ac1c0002\"] = google.colab.output.setActiveOutputArea(window[\"5cc6551c-9d8a-11ec-a82a-0242ac1c0002\"]);\n",
              "//# sourceURL=js_b20fee0043"
            ],
            "text/plain": [
              "<IPython.core.display.Javascript object>"
            ]
          },
          "metadata": {}
        },
        {
          "output_type": "display_data",
          "data": {
            "application/javascript": [
              "window[\"5d055f14-9d8a-11ec-a82a-0242ac1c0002\"] = google.colab.output.getActiveOutputArea();\n",
              "//# sourceURL=js_c9e690033b"
            ],
            "text/plain": [
              "<IPython.core.display.Javascript object>"
            ]
          },
          "metadata": {}
        },
        {
          "output_type": "display_data",
          "data": {
            "application/javascript": [
              "window[\"5d05f0aa-9d8a-11ec-a82a-0242ac1c0002\"] = document.querySelector(\"#id10-0-0\");\n",
              "//# sourceURL=js_85c67ff001"
            ],
            "text/plain": [
              "<IPython.core.display.Javascript object>"
            ]
          },
          "metadata": {}
        },
        {
          "output_type": "display_data",
          "data": {
            "application/javascript": [
              "window[\"5d0675c0-9d8a-11ec-a82a-0242ac1c0002\"] = google.colab.output.setActiveOutputArea(window[\"5d05f0aa-9d8a-11ec-a82a-0242ac1c0002\"]);\n",
              "//# sourceURL=js_715d7f065d"
            ],
            "text/plain": [
              "<IPython.core.display.Javascript object>"
            ]
          },
          "metadata": {}
        },
        {
          "output_type": "display_data",
          "data": {
            "application/javascript": [
              "window[\"5d243ccc-9d8a-11ec-a82a-0242ac1c0002\"] = google.colab.output.setActiveOutputArea(window[\"5d055f14-9d8a-11ec-a82a-0242ac1c0002\"]);\n",
              "//# sourceURL=js_d9aaebf4aa"
            ],
            "text/plain": [
              "<IPython.core.display.Javascript object>"
            ]
          },
          "metadata": {}
        },
        {
          "output_type": "display_data",
          "data": {
            "application/javascript": [
              "window[\"5d454408-9d8a-11ec-a82a-0242ac1c0002\"] = google.colab.output.getActiveOutputArea();\n",
              "//# sourceURL=js_8c28dd57a2"
            ],
            "text/plain": [
              "<IPython.core.display.Javascript object>"
            ]
          },
          "metadata": {}
        },
        {
          "output_type": "display_data",
          "data": {
            "application/javascript": [
              "window[\"5d45a39e-9d8a-11ec-a82a-0242ac1c0002\"] = document.querySelector(\"#id10-0-0\");\n",
              "//# sourceURL=js_844f7ffe23"
            ],
            "text/plain": [
              "<IPython.core.display.Javascript object>"
            ]
          },
          "metadata": {}
        },
        {
          "output_type": "display_data",
          "data": {
            "application/javascript": [
              "window[\"5d462f6c-9d8a-11ec-a82a-0242ac1c0002\"] = google.colab.output.setActiveOutputArea(window[\"5d45a39e-9d8a-11ec-a82a-0242ac1c0002\"]);\n",
              "//# sourceURL=js_58de4ed839"
            ],
            "text/plain": [
              "<IPython.core.display.Javascript object>"
            ]
          },
          "metadata": {}
        },
        {
          "output_type": "display_data",
          "data": {
            "application/javascript": [
              "window[\"5d652fde-9d8a-11ec-a82a-0242ac1c0002\"] = google.colab.output.setActiveOutputArea(window[\"5d454408-9d8a-11ec-a82a-0242ac1c0002\"]);\n",
              "//# sourceURL=js_351aa19326"
            ],
            "text/plain": [
              "<IPython.core.display.Javascript object>"
            ]
          },
          "metadata": {}
        },
        {
          "output_type": "display_data",
          "data": {
            "application/javascript": [
              "window[\"5d85d00e-9d8a-11ec-a82a-0242ac1c0002\"] = google.colab.output.getActiveOutputArea();\n",
              "//# sourceURL=js_aee6556a58"
            ],
            "text/plain": [
              "<IPython.core.display.Javascript object>"
            ]
          },
          "metadata": {}
        },
        {
          "output_type": "display_data",
          "data": {
            "application/javascript": [
              "window[\"5d86301c-9d8a-11ec-a82a-0242ac1c0002\"] = document.querySelector(\"#id10-0-0\");\n",
              "//# sourceURL=js_20926ab6b0"
            ],
            "text/plain": [
              "<IPython.core.display.Javascript object>"
            ]
          },
          "metadata": {}
        },
        {
          "output_type": "display_data",
          "data": {
            "application/javascript": [
              "window[\"5d86939a-9d8a-11ec-a82a-0242ac1c0002\"] = google.colab.output.setActiveOutputArea(window[\"5d86301c-9d8a-11ec-a82a-0242ac1c0002\"]);\n",
              "//# sourceURL=js_6bdbf28eba"
            ],
            "text/plain": [
              "<IPython.core.display.Javascript object>"
            ]
          },
          "metadata": {}
        },
        {
          "output_type": "display_data",
          "data": {
            "application/javascript": [
              "window[\"5da3a106-9d8a-11ec-a82a-0242ac1c0002\"] = google.colab.output.setActiveOutputArea(window[\"5d85d00e-9d8a-11ec-a82a-0242ac1c0002\"]);\n",
              "//# sourceURL=js_6814f92e81"
            ],
            "text/plain": [
              "<IPython.core.display.Javascript object>"
            ]
          },
          "metadata": {}
        },
        {
          "output_type": "display_data",
          "data": {
            "application/javascript": [
              "window[\"5dc488bc-9d8a-11ec-a82a-0242ac1c0002\"] = google.colab.output.getActiveOutputArea();\n",
              "//# sourceURL=js_b65687a7c5"
            ],
            "text/plain": [
              "<IPython.core.display.Javascript object>"
            ]
          },
          "metadata": {}
        },
        {
          "output_type": "display_data",
          "data": {
            "application/javascript": [
              "window[\"5dc4f8ba-9d8a-11ec-a82a-0242ac1c0002\"] = document.querySelector(\"#id10-0-0\");\n",
              "//# sourceURL=js_2f53741396"
            ],
            "text/plain": [
              "<IPython.core.display.Javascript object>"
            ]
          },
          "metadata": {}
        },
        {
          "output_type": "display_data",
          "data": {
            "application/javascript": [
              "window[\"5dc58d8e-9d8a-11ec-a82a-0242ac1c0002\"] = google.colab.output.setActiveOutputArea(window[\"5dc4f8ba-9d8a-11ec-a82a-0242ac1c0002\"]);\n",
              "//# sourceURL=js_54fd6a1bc5"
            ],
            "text/plain": [
              "<IPython.core.display.Javascript object>"
            ]
          },
          "metadata": {}
        },
        {
          "output_type": "display_data",
          "data": {
            "application/javascript": [
              "window[\"5de2b666-9d8a-11ec-a82a-0242ac1c0002\"] = google.colab.output.setActiveOutputArea(window[\"5dc488bc-9d8a-11ec-a82a-0242ac1c0002\"]);\n",
              "//# sourceURL=js_d54f2f6acf"
            ],
            "text/plain": [
              "<IPython.core.display.Javascript object>"
            ]
          },
          "metadata": {}
        },
        {
          "output_type": "display_data",
          "data": {
            "application/javascript": [
              "window[\"5e036136-9d8a-11ec-a82a-0242ac1c0002\"] = google.colab.output.getActiveOutputArea();\n",
              "//# sourceURL=js_9418157c66"
            ],
            "text/plain": [
              "<IPython.core.display.Javascript object>"
            ]
          },
          "metadata": {}
        },
        {
          "output_type": "display_data",
          "data": {
            "application/javascript": [
              "window[\"5e03f178-9d8a-11ec-a82a-0242ac1c0002\"] = document.querySelector(\"#id10-0-0\");\n",
              "//# sourceURL=js_e6a244d562"
            ],
            "text/plain": [
              "<IPython.core.display.Javascript object>"
            ]
          },
          "metadata": {}
        },
        {
          "output_type": "display_data",
          "data": {
            "application/javascript": [
              "window[\"5e046748-9d8a-11ec-a82a-0242ac1c0002\"] = google.colab.output.setActiveOutputArea(window[\"5e03f178-9d8a-11ec-a82a-0242ac1c0002\"]);\n",
              "//# sourceURL=js_afb008575f"
            ],
            "text/plain": [
              "<IPython.core.display.Javascript object>"
            ]
          },
          "metadata": {}
        },
        {
          "output_type": "display_data",
          "data": {
            "application/javascript": [
              "window[\"5e2b610e-9d8a-11ec-a82a-0242ac1c0002\"] = google.colab.output.setActiveOutputArea(window[\"5e036136-9d8a-11ec-a82a-0242ac1c0002\"]);\n",
              "//# sourceURL=js_bb7ff229a0"
            ],
            "text/plain": [
              "<IPython.core.display.Javascript object>"
            ]
          },
          "metadata": {}
        },
        {
          "output_type": "display_data",
          "data": {
            "application/javascript": [
              "window[\"5e4cb16a-9d8a-11ec-a82a-0242ac1c0002\"] = google.colab.output.getActiveOutputArea();\n",
              "//# sourceURL=js_a9f9707dcc"
            ],
            "text/plain": [
              "<IPython.core.display.Javascript object>"
            ]
          },
          "metadata": {}
        },
        {
          "output_type": "display_data",
          "data": {
            "application/javascript": [
              "window[\"5e4d111e-9d8a-11ec-a82a-0242ac1c0002\"] = document.querySelector(\"#id10-0-0\");\n",
              "//# sourceURL=js_11c764cfa8"
            ],
            "text/plain": [
              "<IPython.core.display.Javascript object>"
            ]
          },
          "metadata": {}
        },
        {
          "output_type": "display_data",
          "data": {
            "application/javascript": [
              "window[\"5e4d8130-9d8a-11ec-a82a-0242ac1c0002\"] = google.colab.output.setActiveOutputArea(window[\"5e4d111e-9d8a-11ec-a82a-0242ac1c0002\"]);\n",
              "//# sourceURL=js_6e42234876"
            ],
            "text/plain": [
              "<IPython.core.display.Javascript object>"
            ]
          },
          "metadata": {}
        },
        {
          "output_type": "display_data",
          "data": {
            "application/javascript": [
              "window[\"5e6e02d4-9d8a-11ec-a82a-0242ac1c0002\"] = google.colab.output.setActiveOutputArea(window[\"5e4cb16a-9d8a-11ec-a82a-0242ac1c0002\"]);\n",
              "//# sourceURL=js_1f1b71fa5c"
            ],
            "text/plain": [
              "<IPython.core.display.Javascript object>"
            ]
          },
          "metadata": {}
        },
        {
          "output_type": "display_data",
          "data": {
            "application/javascript": [
              "window[\"5e8eb18c-9d8a-11ec-a82a-0242ac1c0002\"] = google.colab.output.getActiveOutputArea();\n",
              "//# sourceURL=js_a6b6a8f50a"
            ],
            "text/plain": [
              "<IPython.core.display.Javascript object>"
            ]
          },
          "metadata": {}
        },
        {
          "output_type": "display_data",
          "data": {
            "application/javascript": [
              "window[\"5e8f17e4-9d8a-11ec-a82a-0242ac1c0002\"] = document.querySelector(\"#id10-0-0\");\n",
              "//# sourceURL=js_31bea0f14a"
            ],
            "text/plain": [
              "<IPython.core.display.Javascript object>"
            ]
          },
          "metadata": {}
        },
        {
          "output_type": "display_data",
          "data": {
            "application/javascript": [
              "window[\"5e8f6b54-9d8a-11ec-a82a-0242ac1c0002\"] = google.colab.output.setActiveOutputArea(window[\"5e8f17e4-9d8a-11ec-a82a-0242ac1c0002\"]);\n",
              "//# sourceURL=js_53f5608a7d"
            ],
            "text/plain": [
              "<IPython.core.display.Javascript object>"
            ]
          },
          "metadata": {}
        },
        {
          "output_type": "display_data",
          "data": {
            "application/javascript": [
              "window[\"5eae02ee-9d8a-11ec-a82a-0242ac1c0002\"] = google.colab.output.setActiveOutputArea(window[\"5e8eb18c-9d8a-11ec-a82a-0242ac1c0002\"]);\n",
              "//# sourceURL=js_b047e92923"
            ],
            "text/plain": [
              "<IPython.core.display.Javascript object>"
            ]
          },
          "metadata": {}
        },
        {
          "output_type": "display_data",
          "data": {
            "application/javascript": [
              "window[\"5ecf507a-9d8a-11ec-a82a-0242ac1c0002\"] = google.colab.output.getActiveOutputArea();\n",
              "//# sourceURL=js_7205a006fa"
            ],
            "text/plain": [
              "<IPython.core.display.Javascript object>"
            ]
          },
          "metadata": {}
        },
        {
          "output_type": "display_data",
          "data": {
            "application/javascript": [
              "window[\"5ecfe9f4-9d8a-11ec-a82a-0242ac1c0002\"] = document.querySelector(\"#id10-0-0\");\n",
              "//# sourceURL=js_4015701e5e"
            ],
            "text/plain": [
              "<IPython.core.display.Javascript object>"
            ]
          },
          "metadata": {}
        },
        {
          "output_type": "display_data",
          "data": {
            "application/javascript": [
              "window[\"5ed08904-9d8a-11ec-a82a-0242ac1c0002\"] = google.colab.output.setActiveOutputArea(window[\"5ecfe9f4-9d8a-11ec-a82a-0242ac1c0002\"]);\n",
              "//# sourceURL=js_394a095ed5"
            ],
            "text/plain": [
              "<IPython.core.display.Javascript object>"
            ]
          },
          "metadata": {}
        },
        {
          "output_type": "display_data",
          "data": {
            "application/javascript": [
              "window[\"5ef15e90-9d8a-11ec-a82a-0242ac1c0002\"] = google.colab.output.setActiveOutputArea(window[\"5ecf507a-9d8a-11ec-a82a-0242ac1c0002\"]);\n",
              "//# sourceURL=js_d534c4f45d"
            ],
            "text/plain": [
              "<IPython.core.display.Javascript object>"
            ]
          },
          "metadata": {}
        },
        {
          "output_type": "display_data",
          "data": {
            "application/javascript": [
              "window[\"5f120a8c-9d8a-11ec-a82a-0242ac1c0002\"] = google.colab.output.getActiveOutputArea();\n",
              "//# sourceURL=js_0f61587c66"
            ],
            "text/plain": [
              "<IPython.core.display.Javascript object>"
            ]
          },
          "metadata": {}
        },
        {
          "output_type": "display_data",
          "data": {
            "application/javascript": [
              "window[\"5f128052-9d8a-11ec-a82a-0242ac1c0002\"] = document.querySelector(\"#id10-0-0\");\n",
              "//# sourceURL=js_2b351b5c01"
            ],
            "text/plain": [
              "<IPython.core.display.Javascript object>"
            ]
          },
          "metadata": {}
        },
        {
          "output_type": "display_data",
          "data": {
            "application/javascript": [
              "window[\"5f1389ac-9d8a-11ec-a82a-0242ac1c0002\"] = google.colab.output.setActiveOutputArea(window[\"5f128052-9d8a-11ec-a82a-0242ac1c0002\"]);\n",
              "//# sourceURL=js_4c844ef972"
            ],
            "text/plain": [
              "<IPython.core.display.Javascript object>"
            ]
          },
          "metadata": {}
        },
        {
          "output_type": "display_data",
          "data": {
            "application/javascript": [
              "window[\"5f30e04c-9d8a-11ec-a82a-0242ac1c0002\"] = google.colab.output.setActiveOutputArea(window[\"5f120a8c-9d8a-11ec-a82a-0242ac1c0002\"]);\n",
              "//# sourceURL=js_fa82cc0e23"
            ],
            "text/plain": [
              "<IPython.core.display.Javascript object>"
            ]
          },
          "metadata": {}
        },
        {
          "output_type": "display_data",
          "data": {
            "application/javascript": [
              "window[\"5f51b560-9d8a-11ec-a82a-0242ac1c0002\"] = google.colab.output.getActiveOutputArea();\n",
              "//# sourceURL=js_ce68d124f5"
            ],
            "text/plain": [
              "<IPython.core.display.Javascript object>"
            ]
          },
          "metadata": {}
        },
        {
          "output_type": "display_data",
          "data": {
            "application/javascript": [
              "window[\"5f5207fe-9d8a-11ec-a82a-0242ac1c0002\"] = document.querySelector(\"#id10-0-0\");\n",
              "//# sourceURL=js_0cd1e71043"
            ],
            "text/plain": [
              "<IPython.core.display.Javascript object>"
            ]
          },
          "metadata": {}
        },
        {
          "output_type": "display_data",
          "data": {
            "application/javascript": [
              "window[\"5f52916a-9d8a-11ec-a82a-0242ac1c0002\"] = google.colab.output.setActiveOutputArea(window[\"5f5207fe-9d8a-11ec-a82a-0242ac1c0002\"]);\n",
              "//# sourceURL=js_5834398d61"
            ],
            "text/plain": [
              "<IPython.core.display.Javascript object>"
            ]
          },
          "metadata": {}
        },
        {
          "output_type": "display_data",
          "data": {
            "application/javascript": [
              "window[\"5f6f69e8-9d8a-11ec-a82a-0242ac1c0002\"] = google.colab.output.setActiveOutputArea(window[\"5f51b560-9d8a-11ec-a82a-0242ac1c0002\"]);\n",
              "//# sourceURL=js_84d58f83ee"
            ],
            "text/plain": [
              "<IPython.core.display.Javascript object>"
            ]
          },
          "metadata": {}
        },
        {
          "output_type": "display_data",
          "data": {
            "application/javascript": [
              "window[\"5f903204-9d8a-11ec-a82a-0242ac1c0002\"] = google.colab.output.getActiveOutputArea();\n",
              "//# sourceURL=js_9cd499e2a4"
            ],
            "text/plain": [
              "<IPython.core.display.Javascript object>"
            ]
          },
          "metadata": {}
        },
        {
          "output_type": "display_data",
          "data": {
            "application/javascript": [
              "window[\"5f90ba4e-9d8a-11ec-a82a-0242ac1c0002\"] = document.querySelector(\"#id10-0-0\");\n",
              "//# sourceURL=js_51e5728763"
            ],
            "text/plain": [
              "<IPython.core.display.Javascript object>"
            ]
          },
          "metadata": {}
        },
        {
          "output_type": "display_data",
          "data": {
            "application/javascript": [
              "window[\"5f914af4-9d8a-11ec-a82a-0242ac1c0002\"] = google.colab.output.setActiveOutputArea(window[\"5f90ba4e-9d8a-11ec-a82a-0242ac1c0002\"]);\n",
              "//# sourceURL=js_1002f4b9ac"
            ],
            "text/plain": [
              "<IPython.core.display.Javascript object>"
            ]
          },
          "metadata": {}
        },
        {
          "output_type": "display_data",
          "data": {
            "application/javascript": [
              "window[\"5faf73d0-9d8a-11ec-a82a-0242ac1c0002\"] = google.colab.output.setActiveOutputArea(window[\"5f903204-9d8a-11ec-a82a-0242ac1c0002\"]);\n",
              "//# sourceURL=js_833a5bf37b"
            ],
            "text/plain": [
              "<IPython.core.display.Javascript object>"
            ]
          },
          "metadata": {}
        },
        {
          "output_type": "display_data",
          "data": {
            "application/javascript": [
              "window[\"5fd0b3e2-9d8a-11ec-a82a-0242ac1c0002\"] = google.colab.output.getActiveOutputArea();\n",
              "//# sourceURL=js_fa1d3826d0"
            ],
            "text/plain": [
              "<IPython.core.display.Javascript object>"
            ]
          },
          "metadata": {}
        },
        {
          "output_type": "display_data",
          "data": {
            "application/javascript": [
              "window[\"5fd1241c-9d8a-11ec-a82a-0242ac1c0002\"] = document.querySelector(\"#id10-0-0\");\n",
              "//# sourceURL=js_cc31ef33a4"
            ],
            "text/plain": [
              "<IPython.core.display.Javascript object>"
            ]
          },
          "metadata": {}
        },
        {
          "output_type": "display_data",
          "data": {
            "application/javascript": [
              "window[\"5fd230fa-9d8a-11ec-a82a-0242ac1c0002\"] = google.colab.output.setActiveOutputArea(window[\"5fd1241c-9d8a-11ec-a82a-0242ac1c0002\"]);\n",
              "//# sourceURL=js_b0a8ead099"
            ],
            "text/plain": [
              "<IPython.core.display.Javascript object>"
            ]
          },
          "metadata": {}
        },
        {
          "output_type": "display_data",
          "data": {
            "application/javascript": [
              "window[\"5ff21082-9d8a-11ec-a82a-0242ac1c0002\"] = google.colab.output.setActiveOutputArea(window[\"5fd0b3e2-9d8a-11ec-a82a-0242ac1c0002\"]);\n",
              "//# sourceURL=js_a9187523d4"
            ],
            "text/plain": [
              "<IPython.core.display.Javascript object>"
            ]
          },
          "metadata": {}
        },
        {
          "output_type": "display_data",
          "data": {
            "application/javascript": [
              "window[\"60152e50-9d8a-11ec-a82a-0242ac1c0002\"] = google.colab.output.getActiveOutputArea();\n",
              "//# sourceURL=js_5199e68c43"
            ],
            "text/plain": [
              "<IPython.core.display.Javascript object>"
            ]
          },
          "metadata": {}
        },
        {
          "output_type": "display_data",
          "data": {
            "application/javascript": [
              "window[\"60161f54-9d8a-11ec-a82a-0242ac1c0002\"] = document.querySelector(\"#id10-0-0\");\n",
              "//# sourceURL=js_df8f9ecfc9"
            ],
            "text/plain": [
              "<IPython.core.display.Javascript object>"
            ]
          },
          "metadata": {}
        },
        {
          "output_type": "display_data",
          "data": {
            "application/javascript": [
              "window[\"60169452-9d8a-11ec-a82a-0242ac1c0002\"] = google.colab.output.setActiveOutputArea(window[\"60161f54-9d8a-11ec-a82a-0242ac1c0002\"]);\n",
              "//# sourceURL=js_7cb789f324"
            ],
            "text/plain": [
              "<IPython.core.display.Javascript object>"
            ]
          },
          "metadata": {}
        },
        {
          "output_type": "display_data",
          "data": {
            "application/javascript": [
              "window[\"6036dc6c-9d8a-11ec-a82a-0242ac1c0002\"] = google.colab.output.setActiveOutputArea(window[\"60152e50-9d8a-11ec-a82a-0242ac1c0002\"]);\n",
              "//# sourceURL=js_697d8a4627"
            ],
            "text/plain": [
              "<IPython.core.display.Javascript object>"
            ]
          },
          "metadata": {}
        },
        {
          "output_type": "display_data",
          "data": {
            "application/javascript": [
              "window[\"6059021a-9d8a-11ec-a82a-0242ac1c0002\"] = google.colab.output.getActiveOutputArea();\n",
              "//# sourceURL=js_62ab931870"
            ],
            "text/plain": [
              "<IPython.core.display.Javascript object>"
            ]
          },
          "metadata": {}
        },
        {
          "output_type": "display_data",
          "data": {
            "application/javascript": [
              "window[\"6059531e-9d8a-11ec-a82a-0242ac1c0002\"] = document.querySelector(\"#id10-0-0\");\n",
              "//# sourceURL=js_7b6ffee284"
            ],
            "text/plain": [
              "<IPython.core.display.Javascript object>"
            ]
          },
          "metadata": {}
        },
        {
          "output_type": "display_data",
          "data": {
            "application/javascript": [
              "window[\"6059ac6a-9d8a-11ec-a82a-0242ac1c0002\"] = google.colab.output.setActiveOutputArea(window[\"6059531e-9d8a-11ec-a82a-0242ac1c0002\"]);\n",
              "//# sourceURL=js_3195d11443"
            ],
            "text/plain": [
              "<IPython.core.display.Javascript object>"
            ]
          },
          "metadata": {}
        },
        {
          "output_type": "display_data",
          "data": {
            "application/javascript": [
              "window[\"60779d6a-9d8a-11ec-a82a-0242ac1c0002\"] = google.colab.output.setActiveOutputArea(window[\"6059021a-9d8a-11ec-a82a-0242ac1c0002\"]);\n",
              "//# sourceURL=js_886645b8cf"
            ],
            "text/plain": [
              "<IPython.core.display.Javascript object>"
            ]
          },
          "metadata": {}
        },
        {
          "output_type": "display_data",
          "data": {
            "application/javascript": [
              "window[\"60988778-9d8a-11ec-a82a-0242ac1c0002\"] = google.colab.output.getActiveOutputArea();\n",
              "//# sourceURL=js_e02d4f05c5"
            ],
            "text/plain": [
              "<IPython.core.display.Javascript object>"
            ]
          },
          "metadata": {}
        },
        {
          "output_type": "display_data",
          "data": {
            "application/javascript": [
              "window[\"60994172-9d8a-11ec-a82a-0242ac1c0002\"] = document.querySelector(\"#id10-0-0\");\n",
              "//# sourceURL=js_4a43700780"
            ],
            "text/plain": [
              "<IPython.core.display.Javascript object>"
            ]
          },
          "metadata": {}
        },
        {
          "output_type": "display_data",
          "data": {
            "application/javascript": [
              "window[\"6099af68-9d8a-11ec-a82a-0242ac1c0002\"] = google.colab.output.setActiveOutputArea(window[\"60994172-9d8a-11ec-a82a-0242ac1c0002\"]);\n",
              "//# sourceURL=js_a9f5281658"
            ],
            "text/plain": [
              "<IPython.core.display.Javascript object>"
            ]
          },
          "metadata": {}
        },
        {
          "output_type": "display_data",
          "data": {
            "application/javascript": [
              "window[\"60b756d0-9d8a-11ec-a82a-0242ac1c0002\"] = google.colab.output.setActiveOutputArea(window[\"60988778-9d8a-11ec-a82a-0242ac1c0002\"]);\n",
              "//# sourceURL=js_f69fbe465c"
            ],
            "text/plain": [
              "<IPython.core.display.Javascript object>"
            ]
          },
          "metadata": {}
        },
        {
          "output_type": "display_data",
          "data": {
            "application/javascript": [
              "window[\"60d7ed3c-9d8a-11ec-a82a-0242ac1c0002\"] = google.colab.output.getActiveOutputArea();\n",
              "//# sourceURL=js_3c1b08b877"
            ],
            "text/plain": [
              "<IPython.core.display.Javascript object>"
            ]
          },
          "metadata": {}
        },
        {
          "output_type": "display_data",
          "data": {
            "application/javascript": [
              "window[\"60d84cbe-9d8a-11ec-a82a-0242ac1c0002\"] = document.querySelector(\"#id10-0-0\");\n",
              "//# sourceURL=js_c59e0a7990"
            ],
            "text/plain": [
              "<IPython.core.display.Javascript object>"
            ]
          },
          "metadata": {}
        },
        {
          "output_type": "display_data",
          "data": {
            "application/javascript": [
              "window[\"60d8c8ba-9d8a-11ec-a82a-0242ac1c0002\"] = google.colab.output.setActiveOutputArea(window[\"60d84cbe-9d8a-11ec-a82a-0242ac1c0002\"]);\n",
              "//# sourceURL=js_0271bcc1cb"
            ],
            "text/plain": [
              "<IPython.core.display.Javascript object>"
            ]
          },
          "metadata": {}
        },
        {
          "output_type": "display_data",
          "data": {
            "application/javascript": [
              "window[\"6101ecb8-9d8a-11ec-a82a-0242ac1c0002\"] = google.colab.output.setActiveOutputArea(window[\"60d7ed3c-9d8a-11ec-a82a-0242ac1c0002\"]);\n",
              "//# sourceURL=js_348838aece"
            ],
            "text/plain": [
              "<IPython.core.display.Javascript object>"
            ]
          },
          "metadata": {}
        },
        {
          "output_type": "display_data",
          "data": {
            "application/javascript": [
              "window[\"6122a62e-9d8a-11ec-a82a-0242ac1c0002\"] = google.colab.output.getActiveOutputArea();\n",
              "//# sourceURL=js_7e295d79ef"
            ],
            "text/plain": [
              "<IPython.core.display.Javascript object>"
            ]
          },
          "metadata": {}
        },
        {
          "output_type": "display_data",
          "data": {
            "application/javascript": [
              "window[\"61230ef2-9d8a-11ec-a82a-0242ac1c0002\"] = document.querySelector(\"#id10-0-0\");\n",
              "//# sourceURL=js_b42e4c43a7"
            ],
            "text/plain": [
              "<IPython.core.display.Javascript object>"
            ]
          },
          "metadata": {}
        },
        {
          "output_type": "display_data",
          "data": {
            "application/javascript": [
              "window[\"6123a326-9d8a-11ec-a82a-0242ac1c0002\"] = google.colab.output.setActiveOutputArea(window[\"61230ef2-9d8a-11ec-a82a-0242ac1c0002\"]);\n",
              "//# sourceURL=js_397155e02c"
            ],
            "text/plain": [
              "<IPython.core.display.Javascript object>"
            ]
          },
          "metadata": {}
        },
        {
          "output_type": "display_data",
          "data": {
            "application/javascript": [
              "window[\"6143e42e-9d8a-11ec-a82a-0242ac1c0002\"] = google.colab.output.setActiveOutputArea(window[\"6122a62e-9d8a-11ec-a82a-0242ac1c0002\"]);\n",
              "//# sourceURL=js_9073e72c97"
            ],
            "text/plain": [
              "<IPython.core.display.Javascript object>"
            ]
          },
          "metadata": {}
        },
        {
          "output_type": "display_data",
          "data": {
            "application/javascript": [
              "window[\"6164f0ba-9d8a-11ec-a82a-0242ac1c0002\"] = google.colab.output.getActiveOutputArea();\n",
              "//# sourceURL=js_a92853aba8"
            ],
            "text/plain": [
              "<IPython.core.display.Javascript object>"
            ]
          },
          "metadata": {}
        },
        {
          "output_type": "display_data",
          "data": {
            "application/javascript": [
              "window[\"61656c84-9d8a-11ec-a82a-0242ac1c0002\"] = document.querySelector(\"#id10-0-0\");\n",
              "//# sourceURL=js_0ea4cc7282"
            ],
            "text/plain": [
              "<IPython.core.display.Javascript object>"
            ]
          },
          "metadata": {}
        },
        {
          "output_type": "display_data",
          "data": {
            "application/javascript": [
              "window[\"61661756-9d8a-11ec-a82a-0242ac1c0002\"] = google.colab.output.setActiveOutputArea(window[\"61656c84-9d8a-11ec-a82a-0242ac1c0002\"]);\n",
              "//# sourceURL=js_50af3d1818"
            ],
            "text/plain": [
              "<IPython.core.display.Javascript object>"
            ]
          },
          "metadata": {}
        },
        {
          "output_type": "display_data",
          "data": {
            "application/javascript": [
              "window[\"61855fbc-9d8a-11ec-a82a-0242ac1c0002\"] = google.colab.output.setActiveOutputArea(window[\"6164f0ba-9d8a-11ec-a82a-0242ac1c0002\"]);\n",
              "//# sourceURL=js_9b87d1deb5"
            ],
            "text/plain": [
              "<IPython.core.display.Javascript object>"
            ]
          },
          "metadata": {}
        },
        {
          "output_type": "display_data",
          "data": {
            "application/javascript": [
              "window[\"61a6b11c-9d8a-11ec-a82a-0242ac1c0002\"] = google.colab.output.getActiveOutputArea();\n",
              "//# sourceURL=js_7678ae5236"
            ],
            "text/plain": [
              "<IPython.core.display.Javascript object>"
            ]
          },
          "metadata": {}
        },
        {
          "output_type": "display_data",
          "data": {
            "application/javascript": [
              "window[\"61a74faa-9d8a-11ec-a82a-0242ac1c0002\"] = document.querySelector(\"#id10-0-0\");\n",
              "//# sourceURL=js_e450bb6048"
            ],
            "text/plain": [
              "<IPython.core.display.Javascript object>"
            ]
          },
          "metadata": {}
        },
        {
          "output_type": "display_data",
          "data": {
            "application/javascript": [
              "window[\"61a7fc7a-9d8a-11ec-a82a-0242ac1c0002\"] = google.colab.output.setActiveOutputArea(window[\"61a74faa-9d8a-11ec-a82a-0242ac1c0002\"]);\n",
              "//# sourceURL=js_e7069dd9dc"
            ],
            "text/plain": [
              "<IPython.core.display.Javascript object>"
            ]
          },
          "metadata": {}
        },
        {
          "output_type": "display_data",
          "data": {
            "application/javascript": [
              "window[\"61c52e44-9d8a-11ec-a82a-0242ac1c0002\"] = google.colab.output.setActiveOutputArea(window[\"61a6b11c-9d8a-11ec-a82a-0242ac1c0002\"]);\n",
              "//# sourceURL=js_8c973e5420"
            ],
            "text/plain": [
              "<IPython.core.display.Javascript object>"
            ]
          },
          "metadata": {}
        },
        {
          "output_type": "display_data",
          "data": {
            "application/javascript": [
              "window[\"61e6130c-9d8a-11ec-a82a-0242ac1c0002\"] = google.colab.output.getActiveOutputArea();\n",
              "//# sourceURL=js_2a6add6b02"
            ],
            "text/plain": [
              "<IPython.core.display.Javascript object>"
            ]
          },
          "metadata": {}
        },
        {
          "output_type": "display_data",
          "data": {
            "application/javascript": [
              "window[\"61e67bc6-9d8a-11ec-a82a-0242ac1c0002\"] = document.querySelector(\"#id10-0-0\");\n",
              "//# sourceURL=js_1793b8854c"
            ],
            "text/plain": [
              "<IPython.core.display.Javascript object>"
            ]
          },
          "metadata": {}
        },
        {
          "output_type": "display_data",
          "data": {
            "application/javascript": [
              "window[\"61e6e14c-9d8a-11ec-a82a-0242ac1c0002\"] = google.colab.output.setActiveOutputArea(window[\"61e67bc6-9d8a-11ec-a82a-0242ac1c0002\"]);\n",
              "//# sourceURL=js_db53d173a8"
            ],
            "text/plain": [
              "<IPython.core.display.Javascript object>"
            ]
          },
          "metadata": {}
        },
        {
          "output_type": "display_data",
          "data": {
            "application/javascript": [
              "window[\"6204bb04-9d8a-11ec-a82a-0242ac1c0002\"] = google.colab.output.setActiveOutputArea(window[\"61e6130c-9d8a-11ec-a82a-0242ac1c0002\"]);\n",
              "//# sourceURL=js_6c96f0e133"
            ],
            "text/plain": [
              "<IPython.core.display.Javascript object>"
            ]
          },
          "metadata": {}
        },
        {
          "output_type": "display_data",
          "data": {
            "application/javascript": [
              "window[\"6225f40e-9d8a-11ec-a82a-0242ac1c0002\"] = google.colab.output.getActiveOutputArea();\n",
              "//# sourceURL=js_d7414c6835"
            ],
            "text/plain": [
              "<IPython.core.display.Javascript object>"
            ]
          },
          "metadata": {}
        },
        {
          "output_type": "display_data",
          "data": {
            "application/javascript": [
              "window[\"62265dcc-9d8a-11ec-a82a-0242ac1c0002\"] = document.querySelector(\"#id10-0-0\");\n",
              "//# sourceURL=js_129cc54967"
            ],
            "text/plain": [
              "<IPython.core.display.Javascript object>"
            ]
          },
          "metadata": {}
        },
        {
          "output_type": "display_data",
          "data": {
            "application/javascript": [
              "window[\"6226c352-9d8a-11ec-a82a-0242ac1c0002\"] = google.colab.output.setActiveOutputArea(window[\"62265dcc-9d8a-11ec-a82a-0242ac1c0002\"]);\n",
              "//# sourceURL=js_38070c3027"
            ],
            "text/plain": [
              "<IPython.core.display.Javascript object>"
            ]
          },
          "metadata": {}
        },
        {
          "output_type": "display_data",
          "data": {
            "application/javascript": [
              "window[\"62475dc4-9d8a-11ec-a82a-0242ac1c0002\"] = google.colab.output.setActiveOutputArea(window[\"6225f40e-9d8a-11ec-a82a-0242ac1c0002\"]);\n",
              "//# sourceURL=js_f176008b1a"
            ],
            "text/plain": [
              "<IPython.core.display.Javascript object>"
            ]
          },
          "metadata": {}
        },
        {
          "output_type": "display_data",
          "data": {
            "application/javascript": [
              "window[\"6268c1bc-9d8a-11ec-a82a-0242ac1c0002\"] = google.colab.output.getActiveOutputArea();\n",
              "//# sourceURL=js_cdf947adaf"
            ],
            "text/plain": [
              "<IPython.core.display.Javascript object>"
            ]
          },
          "metadata": {}
        },
        {
          "output_type": "display_data",
          "data": {
            "application/javascript": [
              "window[\"62691356-9d8a-11ec-a82a-0242ac1c0002\"] = document.querySelector(\"#id10-0-0\");\n",
              "//# sourceURL=js_ad785d6355"
            ],
            "text/plain": [
              "<IPython.core.display.Javascript object>"
            ]
          },
          "metadata": {}
        },
        {
          "output_type": "display_data",
          "data": {
            "application/javascript": [
              "window[\"6269a6a4-9d8a-11ec-a82a-0242ac1c0002\"] = google.colab.output.setActiveOutputArea(window[\"62691356-9d8a-11ec-a82a-0242ac1c0002\"]);\n",
              "//# sourceURL=js_ab09f98cda"
            ],
            "text/plain": [
              "<IPython.core.display.Javascript object>"
            ]
          },
          "metadata": {}
        },
        {
          "output_type": "display_data",
          "data": {
            "application/javascript": [
              "window[\"62888aba-9d8a-11ec-a82a-0242ac1c0002\"] = google.colab.output.setActiveOutputArea(window[\"6268c1bc-9d8a-11ec-a82a-0242ac1c0002\"]);\n",
              "//# sourceURL=js_47f133b16e"
            ],
            "text/plain": [
              "<IPython.core.display.Javascript object>"
            ]
          },
          "metadata": {}
        },
        {
          "output_type": "display_data",
          "data": {
            "application/javascript": [
              "window[\"62a94dc2-9d8a-11ec-a82a-0242ac1c0002\"] = google.colab.output.getActiveOutputArea();\n",
              "//# sourceURL=js_3d9677920d"
            ],
            "text/plain": [
              "<IPython.core.display.Javascript object>"
            ]
          },
          "metadata": {}
        },
        {
          "output_type": "display_data",
          "data": {
            "application/javascript": [
              "window[\"62a9d2a6-9d8a-11ec-a82a-0242ac1c0002\"] = document.querySelector(\"#id10-0-0\");\n",
              "//# sourceURL=js_9248e1874a"
            ],
            "text/plain": [
              "<IPython.core.display.Javascript object>"
            ]
          },
          "metadata": {}
        },
        {
          "output_type": "display_data",
          "data": {
            "application/javascript": [
              "window[\"62aac918-9d8a-11ec-a82a-0242ac1c0002\"] = google.colab.output.setActiveOutputArea(window[\"62a9d2a6-9d8a-11ec-a82a-0242ac1c0002\"]);\n",
              "//# sourceURL=js_8bfacaadc9"
            ],
            "text/plain": [
              "<IPython.core.display.Javascript object>"
            ]
          },
          "metadata": {}
        },
        {
          "output_type": "display_data",
          "data": {
            "application/javascript": [
              "window[\"62cb9d8c-9d8a-11ec-a82a-0242ac1c0002\"] = google.colab.output.setActiveOutputArea(window[\"62a94dc2-9d8a-11ec-a82a-0242ac1c0002\"]);\n",
              "//# sourceURL=js_5cfc0ea032"
            ],
            "text/plain": [
              "<IPython.core.display.Javascript object>"
            ]
          },
          "metadata": {}
        },
        {
          "output_type": "display_data",
          "data": {
            "application/javascript": [
              "window[\"62ec789a-9d8a-11ec-a82a-0242ac1c0002\"] = google.colab.output.getActiveOutputArea();\n",
              "//# sourceURL=js_7ac8109a58"
            ],
            "text/plain": [
              "<IPython.core.display.Javascript object>"
            ]
          },
          "metadata": {}
        },
        {
          "output_type": "display_data",
          "data": {
            "application/javascript": [
              "window[\"62ece99c-9d8a-11ec-a82a-0242ac1c0002\"] = document.querySelector(\"#id10-0-0\");\n",
              "//# sourceURL=js_7b11d702c5"
            ],
            "text/plain": [
              "<IPython.core.display.Javascript object>"
            ]
          },
          "metadata": {}
        },
        {
          "output_type": "display_data",
          "data": {
            "application/javascript": [
              "window[\"62ed8668-9d8a-11ec-a82a-0242ac1c0002\"] = google.colab.output.setActiveOutputArea(window[\"62ece99c-9d8a-11ec-a82a-0242ac1c0002\"]);\n",
              "//# sourceURL=js_1bd9ed21c7"
            ],
            "text/plain": [
              "<IPython.core.display.Javascript object>"
            ]
          },
          "metadata": {}
        },
        {
          "output_type": "display_data",
          "data": {
            "application/javascript": [
              "window[\"630ce8e6-9d8a-11ec-a82a-0242ac1c0002\"] = google.colab.output.setActiveOutputArea(window[\"62ec789a-9d8a-11ec-a82a-0242ac1c0002\"]);\n",
              "//# sourceURL=js_f18908fd64"
            ],
            "text/plain": [
              "<IPython.core.display.Javascript object>"
            ]
          },
          "metadata": {}
        },
        {
          "output_type": "display_data",
          "data": {
            "application/javascript": [
              "window[\"632e21fa-9d8a-11ec-a82a-0242ac1c0002\"] = google.colab.output.getActiveOutputArea();\n",
              "//# sourceURL=js_7866d5bb8b"
            ],
            "text/plain": [
              "<IPython.core.display.Javascript object>"
            ]
          },
          "metadata": {}
        },
        {
          "output_type": "display_data",
          "data": {
            "application/javascript": [
              "window[\"632ef2f6-9d8a-11ec-a82a-0242ac1c0002\"] = document.querySelector(\"#id10-0-0\");\n",
              "//# sourceURL=js_a910983a35"
            ],
            "text/plain": [
              "<IPython.core.display.Javascript object>"
            ]
          },
          "metadata": {}
        },
        {
          "output_type": "display_data",
          "data": {
            "application/javascript": [
              "window[\"632f627c-9d8a-11ec-a82a-0242ac1c0002\"] = google.colab.output.setActiveOutputArea(window[\"632ef2f6-9d8a-11ec-a82a-0242ac1c0002\"]);\n",
              "//# sourceURL=js_15ef3af89c"
            ],
            "text/plain": [
              "<IPython.core.display.Javascript object>"
            ]
          },
          "metadata": {}
        },
        {
          "output_type": "display_data",
          "data": {
            "application/javascript": [
              "window[\"634f319c-9d8a-11ec-a82a-0242ac1c0002\"] = google.colab.output.setActiveOutputArea(window[\"632e21fa-9d8a-11ec-a82a-0242ac1c0002\"]);\n",
              "//# sourceURL=js_1946c06d12"
            ],
            "text/plain": [
              "<IPython.core.display.Javascript object>"
            ]
          },
          "metadata": {}
        },
        {
          "output_type": "display_data",
          "data": {
            "application/javascript": [
              "window[\"63717194-9d8a-11ec-a82a-0242ac1c0002\"] = google.colab.output.getActiveOutputArea();\n",
              "//# sourceURL=js_c0dd351710"
            ],
            "text/plain": [
              "<IPython.core.display.Javascript object>"
            ]
          },
          "metadata": {}
        },
        {
          "output_type": "display_data",
          "data": {
            "application/javascript": [
              "window[\"637203de-9d8a-11ec-a82a-0242ac1c0002\"] = document.querySelector(\"#id10-0-0\");\n",
              "//# sourceURL=js_d7387218e7"
            ],
            "text/plain": [
              "<IPython.core.display.Javascript object>"
            ]
          },
          "metadata": {}
        },
        {
          "output_type": "display_data",
          "data": {
            "application/javascript": [
              "window[\"63729e02-9d8a-11ec-a82a-0242ac1c0002\"] = google.colab.output.setActiveOutputArea(window[\"637203de-9d8a-11ec-a82a-0242ac1c0002\"]);\n",
              "//# sourceURL=js_1f0c5ff075"
            ],
            "text/plain": [
              "<IPython.core.display.Javascript object>"
            ]
          },
          "metadata": {}
        },
        {
          "output_type": "display_data",
          "data": {
            "application/javascript": [
              "window[\"6391e0e6-9d8a-11ec-a82a-0242ac1c0002\"] = google.colab.output.setActiveOutputArea(window[\"63717194-9d8a-11ec-a82a-0242ac1c0002\"]);\n",
              "//# sourceURL=js_775bd2e2c9"
            ],
            "text/plain": [
              "<IPython.core.display.Javascript object>"
            ]
          },
          "metadata": {}
        },
        {
          "output_type": "display_data",
          "data": {
            "application/javascript": [
              "window[\"63b28c38-9d8a-11ec-a82a-0242ac1c0002\"] = google.colab.output.getActiveOutputArea();\n",
              "//# sourceURL=js_6a5447b1d5"
            ],
            "text/plain": [
              "<IPython.core.display.Javascript object>"
            ]
          },
          "metadata": {}
        },
        {
          "output_type": "display_data",
          "data": {
            "application/javascript": [
              "window[\"63b2f5ce-9d8a-11ec-a82a-0242ac1c0002\"] = document.querySelector(\"#id10-0-0\");\n",
              "//# sourceURL=js_c7fafe29e9"
            ],
            "text/plain": [
              "<IPython.core.display.Javascript object>"
            ]
          },
          "metadata": {}
        },
        {
          "output_type": "display_data",
          "data": {
            "application/javascript": [
              "window[\"63b353ca-9d8a-11ec-a82a-0242ac1c0002\"] = google.colab.output.setActiveOutputArea(window[\"63b2f5ce-9d8a-11ec-a82a-0242ac1c0002\"]);\n",
              "//# sourceURL=js_51def107c9"
            ],
            "text/plain": [
              "<IPython.core.display.Javascript object>"
            ]
          },
          "metadata": {}
        },
        {
          "output_type": "display_data",
          "data": {
            "application/javascript": [
              "window[\"63dd1a84-9d8a-11ec-a82a-0242ac1c0002\"] = google.colab.output.setActiveOutputArea(window[\"63b28c38-9d8a-11ec-a82a-0242ac1c0002\"]);\n",
              "//# sourceURL=js_76bd727c43"
            ],
            "text/plain": [
              "<IPython.core.display.Javascript object>"
            ]
          },
          "metadata": {}
        },
        {
          "output_type": "display_data",
          "data": {
            "application/javascript": [
              "window[\"63fedc3c-9d8a-11ec-a82a-0242ac1c0002\"] = google.colab.output.getActiveOutputArea();\n",
              "//# sourceURL=js_85c5016a51"
            ],
            "text/plain": [
              "<IPython.core.display.Javascript object>"
            ]
          },
          "metadata": {}
        },
        {
          "output_type": "display_data",
          "data": {
            "application/javascript": [
              "window[\"63ffd632-9d8a-11ec-a82a-0242ac1c0002\"] = document.querySelector(\"#id10-0-0\");\n",
              "//# sourceURL=js_25911a629d"
            ],
            "text/plain": [
              "<IPython.core.display.Javascript object>"
            ]
          },
          "metadata": {}
        },
        {
          "output_type": "display_data",
          "data": {
            "application/javascript": [
              "window[\"64004dd8-9d8a-11ec-a82a-0242ac1c0002\"] = google.colab.output.setActiveOutputArea(window[\"63ffd632-9d8a-11ec-a82a-0242ac1c0002\"]);\n",
              "//# sourceURL=js_ead6827888"
            ],
            "text/plain": [
              "<IPython.core.display.Javascript object>"
            ]
          },
          "metadata": {}
        },
        {
          "output_type": "display_data",
          "data": {
            "application/javascript": [
              "window[\"641ef6d4-9d8a-11ec-a82a-0242ac1c0002\"] = google.colab.output.setActiveOutputArea(window[\"63fedc3c-9d8a-11ec-a82a-0242ac1c0002\"]);\n",
              "//# sourceURL=js_b99f001018"
            ],
            "text/plain": [
              "<IPython.core.display.Javascript object>"
            ]
          },
          "metadata": {}
        },
        {
          "output_type": "display_data",
          "data": {
            "application/javascript": [
              "window[\"64411124-9d8a-11ec-a82a-0242ac1c0002\"] = google.colab.output.getActiveOutputArea();\n",
              "//# sourceURL=js_cfeb33d76b"
            ],
            "text/plain": [
              "<IPython.core.display.Javascript object>"
            ]
          },
          "metadata": {}
        },
        {
          "output_type": "display_data",
          "data": {
            "application/javascript": [
              "window[\"64418a00-9d8a-11ec-a82a-0242ac1c0002\"] = document.querySelector(\"#id10-0-0\");\n",
              "//# sourceURL=js_c08365050a"
            ],
            "text/plain": [
              "<IPython.core.display.Javascript object>"
            ]
          },
          "metadata": {}
        },
        {
          "output_type": "display_data",
          "data": {
            "application/javascript": [
              "window[\"6441f01c-9d8a-11ec-a82a-0242ac1c0002\"] = google.colab.output.setActiveOutputArea(window[\"64418a00-9d8a-11ec-a82a-0242ac1c0002\"]);\n",
              "//# sourceURL=js_13ab746501"
            ],
            "text/plain": [
              "<IPython.core.display.Javascript object>"
            ]
          },
          "metadata": {}
        },
        {
          "output_type": "display_data",
          "data": {
            "application/javascript": [
              "window[\"6460369e-9d8a-11ec-a82a-0242ac1c0002\"] = google.colab.output.setActiveOutputArea(window[\"64411124-9d8a-11ec-a82a-0242ac1c0002\"]);\n",
              "//# sourceURL=js_5d449fef69"
            ],
            "text/plain": [
              "<IPython.core.display.Javascript object>"
            ]
          },
          "metadata": {}
        },
        {
          "output_type": "display_data",
          "data": {
            "application/javascript": [
              "window[\"6482a094-9d8a-11ec-a82a-0242ac1c0002\"] = google.colab.output.getActiveOutputArea();\n",
              "//# sourceURL=js_85a44d95a8"
            ],
            "text/plain": [
              "<IPython.core.display.Javascript object>"
            ]
          },
          "metadata": {}
        },
        {
          "output_type": "display_data",
          "data": {
            "application/javascript": [
              "window[\"6484259a-9d8a-11ec-a82a-0242ac1c0002\"] = document.querySelector(\"#id10-0-0\");\n",
              "//# sourceURL=js_a86cfb1963"
            ],
            "text/plain": [
              "<IPython.core.display.Javascript object>"
            ]
          },
          "metadata": {}
        },
        {
          "output_type": "display_data",
          "data": {
            "application/javascript": [
              "window[\"648746da-9d8a-11ec-a82a-0242ac1c0002\"] = google.colab.output.setActiveOutputArea(window[\"6484259a-9d8a-11ec-a82a-0242ac1c0002\"]);\n",
              "//# sourceURL=js_89260a999f"
            ],
            "text/plain": [
              "<IPython.core.display.Javascript object>"
            ]
          },
          "metadata": {}
        },
        {
          "output_type": "display_data",
          "data": {
            "application/javascript": [
              "window[\"64c6a3ca-9d8a-11ec-a82a-0242ac1c0002\"] = google.colab.output.setActiveOutputArea(window[\"6482a094-9d8a-11ec-a82a-0242ac1c0002\"]);\n",
              "//# sourceURL=js_7d209c4d86"
            ],
            "text/plain": [
              "<IPython.core.display.Javascript object>"
            ]
          },
          "metadata": {}
        },
        {
          "output_type": "display_data",
          "data": {
            "application/javascript": [
              "window[\"64e78df6-9d8a-11ec-a82a-0242ac1c0002\"] = google.colab.output.getActiveOutputArea();\n",
              "//# sourceURL=js_527bfce0f9"
            ],
            "text/plain": [
              "<IPython.core.display.Javascript object>"
            ]
          },
          "metadata": {}
        },
        {
          "output_type": "display_data",
          "data": {
            "application/javascript": [
              "window[\"64e8665e-9d8a-11ec-a82a-0242ac1c0002\"] = document.querySelector(\"#id10-0-0\");\n",
              "//# sourceURL=js_1399ce9b43"
            ],
            "text/plain": [
              "<IPython.core.display.Javascript object>"
            ]
          },
          "metadata": {}
        },
        {
          "output_type": "display_data",
          "data": {
            "application/javascript": [
              "window[\"64e8cc48-9d8a-11ec-a82a-0242ac1c0002\"] = google.colab.output.setActiveOutputArea(window[\"64e8665e-9d8a-11ec-a82a-0242ac1c0002\"]);\n",
              "//# sourceURL=js_2827d463cc"
            ],
            "text/plain": [
              "<IPython.core.display.Javascript object>"
            ]
          },
          "metadata": {}
        },
        {
          "output_type": "display_data",
          "data": {
            "application/javascript": [
              "window[\"6508be5e-9d8a-11ec-a82a-0242ac1c0002\"] = google.colab.output.setActiveOutputArea(window[\"64e78df6-9d8a-11ec-a82a-0242ac1c0002\"]);\n",
              "//# sourceURL=js_d04ad40830"
            ],
            "text/plain": [
              "<IPython.core.display.Javascript object>"
            ]
          },
          "metadata": {}
        },
        {
          "output_type": "display_data",
          "data": {
            "application/javascript": [
              "window[\"652b488e-9d8a-11ec-a82a-0242ac1c0002\"] = google.colab.output.getActiveOutputArea();\n",
              "//# sourceURL=js_242e265330"
            ],
            "text/plain": [
              "<IPython.core.display.Javascript object>"
            ]
          },
          "metadata": {}
        },
        {
          "output_type": "display_data",
          "data": {
            "application/javascript": [
              "window[\"652c19c6-9d8a-11ec-a82a-0242ac1c0002\"] = document.querySelector(\"#id10-0-0\");\n",
              "//# sourceURL=js_2a29db30ed"
            ],
            "text/plain": [
              "<IPython.core.display.Javascript object>"
            ]
          },
          "metadata": {}
        },
        {
          "output_type": "display_data",
          "data": {
            "application/javascript": [
              "window[\"652cd136-9d8a-11ec-a82a-0242ac1c0002\"] = google.colab.output.setActiveOutputArea(window[\"652c19c6-9d8a-11ec-a82a-0242ac1c0002\"]);\n",
              "//# sourceURL=js_20fe140b4d"
            ],
            "text/plain": [
              "<IPython.core.display.Javascript object>"
            ]
          },
          "metadata": {}
        },
        {
          "output_type": "display_data",
          "data": {
            "application/javascript": [
              "window[\"6562d970-9d8a-11ec-a82a-0242ac1c0002\"] = google.colab.output.setActiveOutputArea(window[\"652b488e-9d8a-11ec-a82a-0242ac1c0002\"]);\n",
              "//# sourceURL=js_bc44537d4d"
            ],
            "text/plain": [
              "<IPython.core.display.Javascript object>"
            ]
          },
          "metadata": {}
        },
        {
          "output_type": "display_data",
          "data": {
            "application/javascript": [
              "window[\"65852426-9d8a-11ec-a82a-0242ac1c0002\"] = google.colab.output.getActiveOutputArea();\n",
              "//# sourceURL=js_731fd4a5c5"
            ],
            "text/plain": [
              "<IPython.core.display.Javascript object>"
            ]
          },
          "metadata": {}
        },
        {
          "output_type": "display_data",
          "data": {
            "application/javascript": [
              "window[\"65858060-9d8a-11ec-a82a-0242ac1c0002\"] = document.querySelector(\"#id10-0-0\");\n",
              "//# sourceURL=js_4608de78b8"
            ],
            "text/plain": [
              "<IPython.core.display.Javascript object>"
            ]
          },
          "metadata": {}
        },
        {
          "output_type": "display_data",
          "data": {
            "application/javascript": [
              "window[\"6585d89e-9d8a-11ec-a82a-0242ac1c0002\"] = google.colab.output.setActiveOutputArea(window[\"65858060-9d8a-11ec-a82a-0242ac1c0002\"]);\n",
              "//# sourceURL=js_282c44efb3"
            ],
            "text/plain": [
              "<IPython.core.display.Javascript object>"
            ]
          },
          "metadata": {}
        },
        {
          "output_type": "display_data",
          "data": {
            "application/javascript": [
              "window[\"65b34a7c-9d8a-11ec-a82a-0242ac1c0002\"] = google.colab.output.setActiveOutputArea(window[\"65852426-9d8a-11ec-a82a-0242ac1c0002\"]);\n",
              "//# sourceURL=js_e5a84fe110"
            ],
            "text/plain": [
              "<IPython.core.display.Javascript object>"
            ]
          },
          "metadata": {}
        },
        {
          "output_type": "display_data",
          "data": {
            "application/javascript": [
              "window[\"65d6f328-9d8a-11ec-a82a-0242ac1c0002\"] = google.colab.output.getActiveOutputArea();\n",
              "//# sourceURL=js_9d359b9398"
            ],
            "text/plain": [
              "<IPython.core.display.Javascript object>"
            ]
          },
          "metadata": {}
        },
        {
          "output_type": "display_data",
          "data": {
            "application/javascript": [
              "window[\"65d813d4-9d8a-11ec-a82a-0242ac1c0002\"] = document.querySelector(\"#id10-0-0\");\n",
              "//# sourceURL=js_1b78032e99"
            ],
            "text/plain": [
              "<IPython.core.display.Javascript object>"
            ]
          },
          "metadata": {}
        },
        {
          "output_type": "display_data",
          "data": {
            "application/javascript": [
              "window[\"65d9d7fa-9d8a-11ec-a82a-0242ac1c0002\"] = google.colab.output.setActiveOutputArea(window[\"65d813d4-9d8a-11ec-a82a-0242ac1c0002\"]);\n",
              "//# sourceURL=js_27c4ad240c"
            ],
            "text/plain": [
              "<IPython.core.display.Javascript object>"
            ]
          },
          "metadata": {}
        },
        {
          "output_type": "display_data",
          "data": {
            "application/javascript": [
              "window[\"6601f32a-9d8a-11ec-a82a-0242ac1c0002\"] = google.colab.output.setActiveOutputArea(window[\"65d6f328-9d8a-11ec-a82a-0242ac1c0002\"]);\n",
              "//# sourceURL=js_c77b119d85"
            ],
            "text/plain": [
              "<IPython.core.display.Javascript object>"
            ]
          },
          "metadata": {}
        },
        {
          "output_type": "display_data",
          "data": {
            "application/javascript": [
              "window[\"6622f44e-9d8a-11ec-a82a-0242ac1c0002\"] = google.colab.output.getActiveOutputArea();\n",
              "//# sourceURL=js_639a563a20"
            ],
            "text/plain": [
              "<IPython.core.display.Javascript object>"
            ]
          },
          "metadata": {}
        },
        {
          "output_type": "display_data",
          "data": {
            "application/javascript": [
              "window[\"662355a6-9d8a-11ec-a82a-0242ac1c0002\"] = document.querySelector(\"#id10-0-0\");\n",
              "//# sourceURL=js_dbbc1ef2cd"
            ],
            "text/plain": [
              "<IPython.core.display.Javascript object>"
            ]
          },
          "metadata": {}
        },
        {
          "output_type": "display_data",
          "data": {
            "application/javascript": [
              "window[\"6623b9b0-9d8a-11ec-a82a-0242ac1c0002\"] = google.colab.output.setActiveOutputArea(window[\"662355a6-9d8a-11ec-a82a-0242ac1c0002\"]);\n",
              "//# sourceURL=js_56e59e58cf"
            ],
            "text/plain": [
              "<IPython.core.display.Javascript object>"
            ]
          },
          "metadata": {}
        },
        {
          "output_type": "display_data",
          "data": {
            "application/javascript": [
              "window[\"6643b6f2-9d8a-11ec-a82a-0242ac1c0002\"] = google.colab.output.setActiveOutputArea(window[\"6622f44e-9d8a-11ec-a82a-0242ac1c0002\"]);\n",
              "//# sourceURL=js_e70e49f7f1"
            ],
            "text/plain": [
              "<IPython.core.display.Javascript object>"
            ]
          },
          "metadata": {}
        },
        {
          "output_type": "display_data",
          "data": {
            "application/javascript": [
              "window[\"66647c84-9d8a-11ec-a82a-0242ac1c0002\"] = google.colab.output.getActiveOutputArea();\n",
              "//# sourceURL=js_ee270af52f"
            ],
            "text/plain": [
              "<IPython.core.display.Javascript object>"
            ]
          },
          "metadata": {}
        },
        {
          "output_type": "display_data",
          "data": {
            "application/javascript": [
              "window[\"66650e92-9d8a-11ec-a82a-0242ac1c0002\"] = document.querySelector(\"#id10-0-0\");\n",
              "//# sourceURL=js_fa65b724a0"
            ],
            "text/plain": [
              "<IPython.core.display.Javascript object>"
            ]
          },
          "metadata": {}
        },
        {
          "output_type": "display_data",
          "data": {
            "application/javascript": [
              "window[\"6665be3c-9d8a-11ec-a82a-0242ac1c0002\"] = google.colab.output.setActiveOutputArea(window[\"66650e92-9d8a-11ec-a82a-0242ac1c0002\"]);\n",
              "//# sourceURL=js_de555a17f2"
            ],
            "text/plain": [
              "<IPython.core.display.Javascript object>"
            ]
          },
          "metadata": {}
        },
        {
          "output_type": "display_data",
          "data": {
            "application/javascript": [
              "window[\"6684726e-9d8a-11ec-a82a-0242ac1c0002\"] = google.colab.output.setActiveOutputArea(window[\"66647c84-9d8a-11ec-a82a-0242ac1c0002\"]);\n",
              "//# sourceURL=js_747d628287"
            ],
            "text/plain": [
              "<IPython.core.display.Javascript object>"
            ]
          },
          "metadata": {}
        },
        {
          "output_type": "display_data",
          "data": {
            "application/javascript": [
              "window[\"66a50d6c-9d8a-11ec-a82a-0242ac1c0002\"] = google.colab.output.getActiveOutputArea();\n",
              "//# sourceURL=js_86b5c3110c"
            ],
            "text/plain": [
              "<IPython.core.display.Javascript object>"
            ]
          },
          "metadata": {}
        },
        {
          "output_type": "display_data",
          "data": {
            "application/javascript": [
              "window[\"66a5a042-9d8a-11ec-a82a-0242ac1c0002\"] = document.querySelector(\"#id10-0-0\");\n",
              "//# sourceURL=js_d7e9df31f0"
            ],
            "text/plain": [
              "<IPython.core.display.Javascript object>"
            ]
          },
          "metadata": {}
        },
        {
          "output_type": "display_data",
          "data": {
            "application/javascript": [
              "window[\"66a61d4c-9d8a-11ec-a82a-0242ac1c0002\"] = google.colab.output.setActiveOutputArea(window[\"66a5a042-9d8a-11ec-a82a-0242ac1c0002\"]);\n",
              "//# sourceURL=js_adffa425a9"
            ],
            "text/plain": [
              "<IPython.core.display.Javascript object>"
            ]
          },
          "metadata": {}
        },
        {
          "output_type": "display_data",
          "data": {
            "application/javascript": [
              "window[\"66c3cedc-9d8a-11ec-a82a-0242ac1c0002\"] = google.colab.output.setActiveOutputArea(window[\"66a50d6c-9d8a-11ec-a82a-0242ac1c0002\"]);\n",
              "//# sourceURL=js_5a8465abb9"
            ],
            "text/plain": [
              "<IPython.core.display.Javascript object>"
            ]
          },
          "metadata": {}
        },
        {
          "output_type": "display_data",
          "data": {
            "application/javascript": [
              "window[\"66e4b430-9d8a-11ec-a82a-0242ac1c0002\"] = google.colab.output.getActiveOutputArea();\n",
              "//# sourceURL=js_29e73cb801"
            ],
            "text/plain": [
              "<IPython.core.display.Javascript object>"
            ]
          },
          "metadata": {}
        },
        {
          "output_type": "display_data",
          "data": {
            "application/javascript": [
              "window[\"66e5755a-9d8a-11ec-a82a-0242ac1c0002\"] = document.querySelector(\"#id10-0-0\");\n",
              "//# sourceURL=js_d206962b82"
            ],
            "text/plain": [
              "<IPython.core.display.Javascript object>"
            ]
          },
          "metadata": {}
        },
        {
          "output_type": "display_data",
          "data": {
            "application/javascript": [
              "window[\"66e5d928-9d8a-11ec-a82a-0242ac1c0002\"] = google.colab.output.setActiveOutputArea(window[\"66e5755a-9d8a-11ec-a82a-0242ac1c0002\"]);\n",
              "//# sourceURL=js_fe46e89542"
            ],
            "text/plain": [
              "<IPython.core.display.Javascript object>"
            ]
          },
          "metadata": {}
        },
        {
          "output_type": "display_data",
          "data": {
            "application/javascript": [
              "window[\"67112b96-9d8a-11ec-a82a-0242ac1c0002\"] = google.colab.output.setActiveOutputArea(window[\"66e4b430-9d8a-11ec-a82a-0242ac1c0002\"]);\n",
              "//# sourceURL=js_af725bbf80"
            ],
            "text/plain": [
              "<IPython.core.display.Javascript object>"
            ]
          },
          "metadata": {}
        },
        {
          "output_type": "display_data",
          "data": {
            "application/javascript": [
              "window[\"67322a76-9d8a-11ec-a82a-0242ac1c0002\"] = google.colab.output.getActiveOutputArea();\n",
              "//# sourceURL=js_06a8cd0feb"
            ],
            "text/plain": [
              "<IPython.core.display.Javascript object>"
            ]
          },
          "metadata": {}
        },
        {
          "output_type": "display_data",
          "data": {
            "application/javascript": [
              "window[\"67327dd2-9d8a-11ec-a82a-0242ac1c0002\"] = document.querySelector(\"#id10-0-0\");\n",
              "//# sourceURL=js_e338c1d851"
            ],
            "text/plain": [
              "<IPython.core.display.Javascript object>"
            ]
          },
          "metadata": {}
        },
        {
          "output_type": "display_data",
          "data": {
            "application/javascript": [
              "window[\"6732d4e4-9d8a-11ec-a82a-0242ac1c0002\"] = google.colab.output.setActiveOutputArea(window[\"67327dd2-9d8a-11ec-a82a-0242ac1c0002\"]);\n",
              "//# sourceURL=js_2acace6332"
            ],
            "text/plain": [
              "<IPython.core.display.Javascript object>"
            ]
          },
          "metadata": {}
        },
        {
          "output_type": "display_data",
          "data": {
            "application/javascript": [
              "window[\"6751c7e6-9d8a-11ec-a82a-0242ac1c0002\"] = google.colab.output.setActiveOutputArea(window[\"67322a76-9d8a-11ec-a82a-0242ac1c0002\"]);\n",
              "//# sourceURL=js_4719d25a2c"
            ],
            "text/plain": [
              "<IPython.core.display.Javascript object>"
            ]
          },
          "metadata": {}
        },
        {
          "output_type": "display_data",
          "data": {
            "application/javascript": [
              "window[\"677287f6-9d8a-11ec-a82a-0242ac1c0002\"] = google.colab.output.getActiveOutputArea();\n",
              "//# sourceURL=js_6eed921fd8"
            ],
            "text/plain": [
              "<IPython.core.display.Javascript object>"
            ]
          },
          "metadata": {}
        },
        {
          "output_type": "display_data",
          "data": {
            "application/javascript": [
              "window[\"67733926-9d8a-11ec-a82a-0242ac1c0002\"] = document.querySelector(\"#id10-0-0\");\n",
              "//# sourceURL=js_8c61cbcbeb"
            ],
            "text/plain": [
              "<IPython.core.display.Javascript object>"
            ]
          },
          "metadata": {}
        },
        {
          "output_type": "display_data",
          "data": {
            "application/javascript": [
              "window[\"6773a410-9d8a-11ec-a82a-0242ac1c0002\"] = google.colab.output.setActiveOutputArea(window[\"67733926-9d8a-11ec-a82a-0242ac1c0002\"]);\n",
              "//# sourceURL=js_acb7b9f9c8"
            ],
            "text/plain": [
              "<IPython.core.display.Javascript object>"
            ]
          },
          "metadata": {}
        },
        {
          "output_type": "display_data",
          "data": {
            "application/javascript": [
              "window[\"679339a6-9d8a-11ec-a82a-0242ac1c0002\"] = google.colab.output.setActiveOutputArea(window[\"677287f6-9d8a-11ec-a82a-0242ac1c0002\"]);\n",
              "//# sourceURL=js_76b8708e40"
            ],
            "text/plain": [
              "<IPython.core.display.Javascript object>"
            ]
          },
          "metadata": {}
        },
        {
          "output_type": "display_data",
          "data": {
            "application/javascript": [
              "window[\"67b4aa64-9d8a-11ec-a82a-0242ac1c0002\"] = google.colab.output.getActiveOutputArea();\n",
              "//# sourceURL=js_8972e2cf3a"
            ],
            "text/plain": [
              "<IPython.core.display.Javascript object>"
            ]
          },
          "metadata": {}
        },
        {
          "output_type": "display_data",
          "data": {
            "application/javascript": [
              "window[\"67b4fe38-9d8a-11ec-a82a-0242ac1c0002\"] = document.querySelector(\"#id10-0-0\");\n",
              "//# sourceURL=js_2b1f39d133"
            ],
            "text/plain": [
              "<IPython.core.display.Javascript object>"
            ]
          },
          "metadata": {}
        },
        {
          "output_type": "display_data",
          "data": {
            "application/javascript": [
              "window[\"67b57b2e-9d8a-11ec-a82a-0242ac1c0002\"] = google.colab.output.setActiveOutputArea(window[\"67b4fe38-9d8a-11ec-a82a-0242ac1c0002\"]);\n",
              "//# sourceURL=js_5824956dfb"
            ],
            "text/plain": [
              "<IPython.core.display.Javascript object>"
            ]
          },
          "metadata": {}
        },
        {
          "output_type": "display_data",
          "data": {
            "image/png": "[encoded data removed]",
            "text/plain": [
              "<Figure size 432x288 with 1 Axes>"
            ]
          },
          "metadata": {
            "needs_background": "light"
          }
        },
        {
          "output_type": "display_data",
          "data": {
            "application/javascript": [
              "window[\"67d5ece2-9d8a-11ec-a82a-0242ac1c0002\"] = google.colab.output.setActiveOutputArea(window[\"67b4aa64-9d8a-11ec-a82a-0242ac1c0002\"]);\n",
              "//# sourceURL=js_23913b01e8"
            ],
            "text/plain": [
              "<IPython.core.display.Javascript object>"
            ]
          },
          "metadata": {}
        },
        {
          "output_type": "execute_result",
          "data": {
            "text/plain": [
              "<matplotlib.legend.Legend at 0x7fbb7b5eb7d0>"
            ]
          },
          "metadata": {},
          "execution_count": 10
        },
        {
          "output_type": "display_data",
          "data": {
            "image/png": "[encoded data removed]",
            "text/plain": [
              "<Figure size 432x288 with 1 Axes>"
            ]
          },
          "metadata": {
            "needs_background": "light"
          }
        }
      ]
    }
  ],
  "metadata": {
    "colab": {
      "collapsed_sections": [],
      "name": "A1_deterministic_QTable.ipynb",
      "provenance": []
    },
    "kernelspec": {
      "display_name": "Python 3",
      "name": "python3"
    },
    "language_info": {
      "name": "python"
    }
  },
  "nbformat": 4,
  "nbformat_minor": 0
}